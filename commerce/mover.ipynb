{
 "cells": [
  {
   "cell_type": "markdown",
   "id": "9fd3f23d",
   "metadata": {
    "toc": true
   },
   "source": [
    "<h1>Содержание<span class=\"tocSkip\"></span></h1>\n",
    "<div class=\"toc\"><ul class=\"toc-item\"><li><span><a href=\"#Описание-проекта\" data-toc-modified-id=\"Описание-проекта-1\"><span class=\"toc-item-num\">1&nbsp;&nbsp;</span>Описание проекта</a></span><ul class=\"toc-item\"><li><span><a href=\"#Заказчик\" data-toc-modified-id=\"Заказчик-1.1\"><span class=\"toc-item-num\">1.1&nbsp;&nbsp;</span>Заказчик</a></span></li><li><span><a href=\"#Задача\" data-toc-modified-id=\"Задача-1.2\"><span class=\"toc-item-num\">1.2&nbsp;&nbsp;</span>Задача</a></span></li><li><span><a href=\"#Входные-данные\" data-toc-modified-id=\"Входные-данные-1.3\"><span class=\"toc-item-num\">1.3&nbsp;&nbsp;</span>Входные данные</a></span><ul class=\"toc-item\"><li><span><a href=\"#Описание-ресурсов\" data-toc-modified-id=\"Описание-ресурсов-1.3.1\"><span class=\"toc-item-num\">1.3.1&nbsp;&nbsp;</span>Описание ресурсов</a></span><ul class=\"toc-item\"><li><span><a href=\"#Перевозчики-(автопарки)\" data-toc-modified-id=\"Перевозчики-(автопарки)-1.3.1.1\"><span class=\"toc-item-num\">1.3.1.1&nbsp;&nbsp;</span>Перевозчики (автопарки)</a></span></li><li><span><a href=\"#Экипажи\" data-toc-modified-id=\"Экипажи-1.3.1.2\"><span class=\"toc-item-num\">1.3.1.2&nbsp;&nbsp;</span>Экипажи</a></span></li><li><span><a href=\"#Исполнители\" data-toc-modified-id=\"Исполнители-1.3.1.3\"><span class=\"toc-item-num\">1.3.1.3&nbsp;&nbsp;</span>Исполнители</a></span></li><li><span><a href=\"#Машины\" data-toc-modified-id=\"Машины-1.3.1.4\"><span class=\"toc-item-num\">1.3.1.4&nbsp;&nbsp;</span>Машины</a></span></li><li><span><a href=\"#Тарифы\" data-toc-modified-id=\"Тарифы-1.3.1.5\"><span class=\"toc-item-num\">1.3.1.5&nbsp;&nbsp;</span>Тарифы</a></span></li><li><span><a href=\"#Драфты\" data-toc-modified-id=\"Драфты-1.3.1.6\"><span class=\"toc-item-num\">1.3.1.6&nbsp;&nbsp;</span>Драфты</a></span></li><li><span><a href=\"#Заказы\" data-toc-modified-id=\"Заказы-1.3.1.7\"><span class=\"toc-item-num\">1.3.1.7&nbsp;&nbsp;</span>Заказы</a></span></li><li><span><a href=\"#Карты\" data-toc-modified-id=\"Карты-1.3.1.8\"><span class=\"toc-item-num\">1.3.1.8&nbsp;&nbsp;</span>Карты</a></span></li><li><span><a href=\"#Оплаты\" data-toc-modified-id=\"Оплаты-1.3.1.9\"><span class=\"toc-item-num\">1.3.1.9&nbsp;&nbsp;</span>Оплаты</a></span></li><li><span><a href=\"#Другое\" data-toc-modified-id=\"Другое-1.3.1.10\"><span class=\"toc-item-num\">1.3.1.10&nbsp;&nbsp;</span>Другое</a></span></li></ul></li></ul></li><li><span><a href=\"#План-работы\" data-toc-modified-id=\"План-работы-1.4\"><span class=\"toc-item-num\">1.4&nbsp;&nbsp;</span>План работы</a></span></li><li><span><a href=\"#Инструменты\" data-toc-modified-id=\"Инструменты-1.5\"><span class=\"toc-item-num\">1.5&nbsp;&nbsp;</span>Инструменты</a></span><ul class=\"toc-item\"><li><span><a href=\"#Импорт-библиотек\" data-toc-modified-id=\"Импорт-библиотек-1.5.1\"><span class=\"toc-item-num\">1.5.1&nbsp;&nbsp;</span>Импорт библиотек</a></span></li><li><span><a href=\"#Определения-констант\" data-toc-modified-id=\"Определения-констант-1.5.2\"><span class=\"toc-item-num\">1.5.2&nbsp;&nbsp;</span>Определения констант</a></span></li><li><span><a href=\"#Определения-функций\" data-toc-modified-id=\"Определения-функций-1.5.3\"><span class=\"toc-item-num\">1.5.3&nbsp;&nbsp;</span>Определения функций</a></span><ul class=\"toc-item\"><li><span><a href=\"#Загрузка-и-обзор-данных\" data-toc-modified-id=\"Загрузка-и-обзор-данных-1.5.3.1\"><span class=\"toc-item-num\">1.5.3.1&nbsp;&nbsp;</span>Загрузка и обзор данных</a></span></li><li><span><a href=\"#Исправление-данных\" data-toc-modified-id=\"Исправление-данных-1.5.3.2\"><span class=\"toc-item-num\">1.5.3.2&nbsp;&nbsp;</span>Исправление данных</a></span></li><li><span><a href=\"#Отображение-данных\" data-toc-modified-id=\"Отображение-данных-1.5.3.3\"><span class=\"toc-item-num\">1.5.3.3&nbsp;&nbsp;</span>Отображение данных</a></span></li></ul></li></ul></li></ul></li><li><span><a href=\"#Перевозчики-и-экипажи\" data-toc-modified-id=\"Перевозчики-и-экипажи-2\"><span class=\"toc-item-num\">2&nbsp;&nbsp;</span>Перевозчики и экипажи</a></span><ul class=\"toc-item\"><li><span><a href=\"#Перевозчики-и-экипажи\" data-toc-modified-id=\"Перевозчики-и-экипажи-2.1\"><span class=\"toc-item-num\">2.1&nbsp;&nbsp;</span>Перевозчики и экипажи</a></span><ul class=\"toc-item\"><li><span><a href=\"#Создание-таблиц-перевозчиков-и-экипажей\" data-toc-modified-id=\"Создание-таблиц-перевозчиков-и-экипажей-2.1.1\"><span class=\"toc-item-num\">2.1.1&nbsp;&nbsp;</span>Создание таблиц перевозчиков и экипажей</a></span></li><li><span><a href=\"#Список-колонок-в-таблице-экипажей\" data-toc-modified-id=\"Список-колонок-в-таблице-экипажей-2.1.2\"><span class=\"toc-item-num\">2.1.2&nbsp;&nbsp;</span>Список колонок в таблице экипажей</a></span></li><li><span><a href=\"#Анализ-перевозчиков\" data-toc-modified-id=\"Анализ-перевозчиков-2.1.3\"><span class=\"toc-item-num\">2.1.3&nbsp;&nbsp;</span>Анализ перевозчиков</a></span></li><li><span><a href=\"#Отбор-сторонних-экипажей\" data-toc-modified-id=\"Отбор-сторонних-экипажей-2.1.4\"><span class=\"toc-item-num\">2.1.4&nbsp;&nbsp;</span>Отбор сторонних экипажей</a></span></li><li><span><a href=\"#Формируем-список-актуальных-экипажей\" data-toc-modified-id=\"Формируем-список-актуальных-экипажей-2.1.5\"><span class=\"toc-item-num\">2.1.5&nbsp;&nbsp;</span>Формируем список актуальных экипажей</a></span></li><li><span><a href=\"#Отбор-собственных-реальных-экипажей\" data-toc-modified-id=\"Отбор-собственных-реальных-экипажей-2.1.6\"><span class=\"toc-item-num\">2.1.6&nbsp;&nbsp;</span>Отбор собственных реальных экипажей</a></span></li></ul></li><li><span><a href=\"#Анализ-своих-реальных-экипажей\" data-toc-modified-id=\"Анализ-своих-реальных-экипажей-2.2\"><span class=\"toc-item-num\">2.2&nbsp;&nbsp;</span>Анализ своих реальных экипажей</a></span><ul class=\"toc-item\"><li><span><a href=\"#Отметки-времени\" data-toc-modified-id=\"Отметки-времени-2.2.1\"><span class=\"toc-item-num\">2.2.1&nbsp;&nbsp;</span>Отметки времени</a></span></li><li><span><a href=\"#Статусы\" data-toc-modified-id=\"Статусы-2.2.2\"><span class=\"toc-item-num\">2.2.2&nbsp;&nbsp;</span>Статусы</a></span></li><li><span><a href=\"#Актуальные-экипажи-на-карте\" data-toc-modified-id=\"Актуальные-экипажи-на-карте-2.2.3\"><span class=\"toc-item-num\">2.2.3&nbsp;&nbsp;</span>Актуальные экипажи на карте</a></span></li></ul></li></ul></li><li><span><a href=\"#Анализ-заявок-и-заказов\" data-toc-modified-id=\"Анализ-заявок-и-заказов-3\"><span class=\"toc-item-num\">3&nbsp;&nbsp;</span>Анализ заявок и заказов</a></span><ul class=\"toc-item\"><li><span><a href=\"#Итоги-обзора-и-исправления-данных\" data-toc-modified-id=\"Итоги-обзора-и-исправления-данных-3.1\"><span class=\"toc-item-num\">3.1&nbsp;&nbsp;</span>Итоги обзора и исправления данных</a></span></li></ul></li><li><span><a href=\"#Расходы-каждого-пользователя-в-месяц\" data-toc-modified-id=\"Расходы-каждого-пользователя-в-месяц-4\"><span class=\"toc-item-num\">4&nbsp;&nbsp;</span>Расходы каждого пользователя в месяц</a></span><ul class=\"toc-item\"><li><span><a href=\"#Итоги-подготовки-информации-о-расходах:\" data-toc-modified-id=\"Итоги-подготовки-информации-о-расходах:-4.1\"><span class=\"toc-item-num\">4.1&nbsp;&nbsp;</span>Итоги подготовки информации о расходах:</a></span></li></ul></li><li><span><a href=\"#Анализ-расходов\" data-toc-modified-id=\"Анализ-расходов-5\"><span class=\"toc-item-num\">5&nbsp;&nbsp;</span>Анализ расходов</a></span><ul class=\"toc-item\"><li><span><a href=\"#Итоги-анализа-расходов\" data-toc-modified-id=\"Итоги-анализа-расходов-5.1\"><span class=\"toc-item-num\">5.1&nbsp;&nbsp;</span>Итоги анализа расходов</a></span></li></ul></li><li><span><a href=\"#Гипотезы-и-проверки\" data-toc-modified-id=\"Гипотезы-и-проверки-6\"><span class=\"toc-item-num\">6&nbsp;&nbsp;</span>Гипотезы и проверки</a></span><ul class=\"toc-item\"><li><span><a href=\"#Итоги-проверки-гипотез\" data-toc-modified-id=\"Итоги-проверки-гипотез-6.1\"><span class=\"toc-item-num\">6.1&nbsp;&nbsp;</span>Итоги проверки гипотез</a></span></li></ul></li><li><span><a href=\"#Общие-итоги\" data-toc-modified-id=\"Общие-итоги-7\"><span class=\"toc-item-num\">7&nbsp;&nbsp;</span>Общие итоги</a></span><ul class=\"toc-item\"><li><span><a href=\"#Рекомендации\" data-toc-modified-id=\"Рекомендации-7.1\"><span class=\"toc-item-num\">7.1&nbsp;&nbsp;</span>Рекомендации</a></span></li></ul></li></ul></div>"
   ]
  },
  {
   "cell_type": "markdown",
   "id": "fa5fce91",
   "metadata": {},
   "source": [
    "# Название проекта"
   ]
  },
  {
   "cell_type": "markdown",
   "id": "d1db17f5",
   "metadata": {},
   "source": [
    "Автор: Александр Лагутин.\n",
    "\n",
    "Начат: 12 сентября 2022 г в 19:11.\n",
    "Завершён: 1 июня 2022 г в 10:45.\n",
    "\n",
    "Время подготовки: 12 рабочих часов (2 рабочих дня)."
   ]
  },
  {
   "cell_type": "markdown",
   "id": "169b2c10",
   "metadata": {},
   "source": [
    "## Описание проекта\n",
    "\n",
    "### Заказчик\n",
    "\n",
    "Интернет-сервис грузоперевозок MOVER.\n",
    "\n",
    "Основная деятельность: организация перевозок отдельных (не сборных) грузов.\n",
    "\n",
    "Идея: подбор исполнителей для разовой грузоперевозки. Один исполнитель - один заказчик (нет сборных грузов, и одновременных заказов у одного исполнителя). Перевозки внутри Москвы, фургонами до 1,5 т.\n",
    "\n",
    "### Задача\n",
    "\n",
    "Выявить масштабы бизнеса:\n",
    "- обороты,\n",
    "- неуплаты,\n",
    "- количество заказчиков,\n",
    "- водителей.\n",
    "\n",
    "Обзор парка водителей:\n",
    "- активность;\n",
    "- характер исполнения заказов;\n",
    "- характеристики машин.\n",
    "\n",
    "Проверить гипотезы:\n",
    "- Существуют заказчики, которые изначально не собираются платить (так предполагают недовольные водители и нейтрально настроенный оператор поддержки).\n",
    "\n",
    "Далее будут поставлены другие задачи."
   ]
  },
  {
   "cell_type": "markdown",
   "id": "ed66ea3b",
   "metadata": {},
   "source": [
    "### Входные данные\n",
    "\n",
    "Доступ к API.\n",
    "\n",
    "#### Описание ресурсов\n",
    "\n",
    "    Правило:\n",
    "    ЧТО_ДЕЛАЕТ: /кто/который/над_кем/которым?как=так\n",
    "\n",
    "    support - администратор\n",
    "    freighter - автопарк\n",
    "    employer - исполнитель\n",
    "    customer - заказчик\n",
    "\n",
    "    me\n",
    "    {id}\n",
    "    all\n",
    "\n",
    "    crews\n",
    "    transports\n",
    "    drafts\n",
    "    orders\n",
    "\n",
    "##### Перевозчики (автопарки)\n",
    "\n",
    "    Все:\n",
    "    GET: /support/me/freighters.json\n",
    "\n",
    "##### Экипажи\n",
    "\n",
    "    Все:\n",
    "    GET: /freighter/{freighter_id}/crews.json\n",
    "    CRUD:\n",
    "    POST: /freighter/{freighter_id}/crews.json\n",
    "    GET: /freighter/{freighter_id}/crews/{crew_id}.json\n",
    "    POST: /freighter/{freighter_id}/crews/{crew_id}.json\n",
    "    DELETE: /freighter/{freighter_id}/crews/{crew_id}.json\n",
    "\n",
    "##### Исполнители\n",
    "\n",
    "    Все:\n",
    "    GET: /freighter/{freighter_id}/employers.json\n",
    "    CRUD:\n",
    "    POST: /freighter/{freighter_id}/employers.json\n",
    "    GET: /freighter/{freighter_id}/employers/{employer_id}.json\n",
    "    POST: /freighter/{freighter_id}/employers/{employer_id}.json\n",
    "    ?\n",
    "\n",
    "##### Машины\n",
    "\n",
    "    Все:\n",
    "    GET: /freighter/{freighter_id}/transports.json\n",
    "    CRUD:\n",
    "    POST: /freighter/{freighter_id}/transports.json\n",
    "    GET: /freighter/{freighter_id}/transports/{transport_id}.json\n",
    "    POST: /freighter/{freighter_id}/transports/{transport_id}.json\n",
    "    ?\n",
    "    Все типы машин:\n",
    "    GET: /transport/models.json\n",
    "    Все свойства машин:\n",
    "    GET: /features.json\n",
    "\n",
    "##### Тарифы\n",
    "\n",
    "    Все:\n",
    "    GET: /tariff.json\n",
    "    Доступны в данной точке:\n",
    "    GET: /tariff/tier.json?lat={latitude}&lon={longitude}\n",
    "    Сколько машин свободны возле точки:\n",
    "    GET: /tariff/tier/counts.json?lat={latitude}&lon={longitude}\n",
    "\n",
    "##### Драфты\n",
    "\n",
    "    Создать драфт:\n",
    "    POST: /support/me/orders/drafts.json\n",
    "    Драфты, прошедшие поиск:\n",
    "    GET: /support/me/drafts/searched.json\n",
    "    GET: /support/me/drafts/{draft_id}.json\n",
    "\n",
    "##### Заказы\n",
    "\n",
    "    Все:\n",
    "    GET: /support/me/orders.json\n",
    "    GET: /freighter/all/orders.json\n",
    "    Уведомления по заказу:\n",
    "    GET: /freighter/me/orders/{order_id}/notifications.json\n",
    "    Изменить статус заказа:\n",
    "    PUT: /freighter/{freighter_id}/orders/{order_id}/status.json?status={current_status}\n",
    "\n",
    "##### Карты\n",
    "\n",
    "    Адрес по координате:\n",
    "    GET: /geo/location.json?location=lat,lon\n",
    "    Город по IP:\n",
    "    GET: /geo/ip.json\n",
    "    Координаты по адресу, и подсказки адресов:\n",
    "    GET: /geo/address.json?address={адрес или часть адреса}\n",
    "    Построить маршрут:\n",
    "    GET: /geo/route.json?avoidTtk={true|false}location[]={latitude,longitude}&location[]={latitude,longitude}&....\n",
    "\n",
    "##### Оплаты\n",
    "\n",
    "    История счетов:\n",
    "    /me/invoices.json\n",
    "    Статистика перевозок по компаниям:\n",
    "    GET: /freighter/{freighter_id}/stat/orders.json\n",
    "\n",
    "##### Другое\n",
    "\n",
    "    Получить количество грузчиков:\n",
    "    GET: /employer/me/crew/loaders.json\n",
    "    Получить статус исполнителя:\n",
    "    GET: /employer/me/status.json\n",
    "    Изменить статус исполнителя:\n",
    "    PUT: /employer/me/status.json?status={current_status}"
   ]
  },
  {
   "cell_type": "markdown",
   "id": "0fc6ba20",
   "metadata": {},
   "source": [
    "### План работы\n",
    "\n",
    "Действия:\n",
    "- [ ] Импортировать библиотеки, описать функции, которые потребуются.\n",
    "- [ ] Загрузить и изучить таблицы.\n",
    "- [ ] Подготовить данные:\n",
    "  - [ ] привести к норме названия столбцов;\n",
    "  - [ ] привести данные к нужным типам;\n",
    "  - [ ] обработать пропуски:\n",
    "    - [ ] выбрать, чем заполнить (или оставить) и почему;\n",
    "    - [ ] осуществить заполение, если требуется;\n",
    "    - [ ] описать причины, которые могли привести к пропускам.\n",
    "- [ ] Анализировать обобщённые данные:\n",
    "  - [ ] Разделить тестовые + дубликаты, и реальные заказы. (нужно поле `test` и `notes`: `причина отмены`)\n",
    "  - [ ] Описать \n",
    "- [ ] Описать общий вывод:\n",
    "  - [ ] рекомендации."
   ]
  },
  {
   "cell_type": "markdown",
   "id": "3d499b1f",
   "metadata": {},
   "source": [
    "### Инструменты\n",
    "\n",
    "Используем [Anaconda](https://www.anaconda.com/), окружение `ds_da_practicum_env.yml` \"для Mac OS\" (от 2022-03-23)."
   ]
  },
  {
   "cell_type": "markdown",
   "id": "74f5bd90",
   "metadata": {},
   "source": [
    "#### Импорт библиотек"
   ]
  },
  {
   "cell_type": "code",
   "execution_count": 1,
   "id": "2ccbcade",
   "metadata": {},
   "outputs": [],
   "source": [
    "%matplotlib inline\n",
    "\n",
    "import datetime\n",
    "import re\n",
    "\n",
    "import pandas as pd\n",
    "import numpy as np\n",
    "import scipy.stats as st\n",
    "import matplotlib.pyplot as plt\n",
    "import seaborn as sns\n",
    "\n",
    "import mover\n",
    "import json\n",
    "import pathlib\n",
    "import collections"
   ]
  },
  {
   "cell_type": "markdown",
   "id": "802b7dd4",
   "metadata": {},
   "source": [
    "#### Определения констант"
   ]
  },
  {
   "cell_type": "code",
   "execution_count": 2,
   "id": "6af52aa5",
   "metadata": {},
   "outputs": [],
   "source": [
    "FIGSIZE = (12, 6)\n",
    "mover = mover.Session('79060597475', '2022', logfile='mover_log.txt')"
   ]
  },
  {
   "cell_type": "markdown",
   "id": "0fee0bc1",
   "metadata": {},
   "source": [
    "#### Определения функций\n",
    "\n",
    "##### Загрузка и обзор данных"
   ]
  },
  {
   "cell_type": "code",
   "execution_count": 3,
   "id": "10dded98",
   "metadata": {},
   "outputs": [],
   "source": [
    "def load(tablename, ext='csv'):\n",
    "    \"\"\"Load a table from file\n",
    "    \"\"\"\n",
    "    filename = tablename + '.' + ext\n",
    "    try:\n",
    "        df = pd.read_csv(filename)\n",
    "    except FileNotFoundError:\n",
    "        df = pd.read_csv('https://code.s3.yandex.net/datasets/' + filename)\n",
    "    correct_column_names(df)  #  переводит в snake_case\n",
    "    survey(df)  # даёт обзор возможных проблем с таблицей\n",
    "    return df"
   ]
  },
  {
   "cell_type": "code",
   "execution_count": 4,
   "id": "9f996523",
   "metadata": {},
   "outputs": [],
   "source": [
    "def survey(data):\n",
    "    \"\"\"Display summaries to detect data problems\n",
    "    \"\"\"\n",
    "    display(data.sample(5))\n",
    "    print(f'Полностью совпадающих строк: {data.duplicated().sum()}\\n')\n",
    "    data.info()\n",
    "    display(get_nans(data))\n",
    "    print(get_filled_rows_share(data))"
   ]
  },
  {
   "cell_type": "code",
   "execution_count": 5,
   "id": "dc914653",
   "metadata": {},
   "outputs": [],
   "source": [
    "def get_nans(data):\n",
    "    nans = []\n",
    "    for column in data.columns:\n",
    "        missing = data[column].isna().sum()  # Подсчет количества отсутствующих значений\n",
    "        part = round(missing * 100 / len(data), 2) # Подсчет доли отсутствующих значений\n",
    "        uniques = data[column].sort_values().nunique()\n",
    "        nans.append([column, missing, part, uniques])\n",
    "\n",
    "    return pd.DataFrame(\n",
    "        data=nans, columns=['column', 'na_count', 'na_%', 'unique_count']\n",
    "    ).sort_values(['na_count', 'unique_count'], ascending=False).set_index('column')"
   ]
  },
  {
   "cell_type": "code",
   "execution_count": 6,
   "id": "5bbeeae0",
   "metadata": {},
   "outputs": [],
   "source": [
    "def get_filled_rows_share(df):\n",
    "    share = 1 - df.isna().any(axis=1).sum() / len(df)\n",
    "    return f'Заполненных строк без пропусков: {share:.02%}'"
   ]
  },
  {
   "cell_type": "markdown",
   "id": "4f718ba7",
   "metadata": {},
   "source": [
    "##### Исправление данных"
   ]
  },
  {
   "cell_type": "code",
   "execution_count": 7,
   "id": "1122d260",
   "metadata": {},
   "outputs": [
    {
     "name": "stdout",
     "output_type": "stream",
     "text": [
      "True\n"
     ]
    }
   ],
   "source": [
    "date_pattern = (\n",
    "    '^(?:\\\\d{4})-(?:\\\\d{2})-(?:\\\\d{2})'  # date\n",
    "    '[ T](?:\\\\d{2}):(?:\\\\d{2}):(?:\\\\d{2}(?:\\\\.\\\\d*)?)'  # time\n",
    "    '(?:(?:-(?:\\\\d{2}):(?:\\\\d{2})|Z)?)$'  # timezone\n",
    ")\n",
    "\n",
    "print(re.match(date_pattern, '2021-11-04 11:11:11') is not None)\n",
    "\n",
    "# visits['session_start'] = pd.to_datetime(visits['session_start'])\n",
    "# visits['session_end'] = pd.to_datetime(visits['session_start'])"
   ]
  },
  {
   "cell_type": "code",
   "execution_count": 8,
   "id": "c73aaed1",
   "metadata": {},
   "outputs": [],
   "source": [
    "def correct_column_names(df):\n",
    "    df.columns = df.columns.str.strip()\n",
    "    df.columns = df.columns.apply(to_snake_case)\n",
    "    # df.columns = df.columns.str.lower()\n",
    "    # df.columns = df.columns.str.replace(' ', '_')\n",
    "\n",
    "def to_snake_case(name):\n",
    "    name = re.sub('(.)([A-Z][a-z]+)', r'\\1_\\2', name)\n",
    "    name = re.sub('__([A-Z])', r'_\\1', name)\n",
    "    name = re.sub('([a-z0-9])([A-Z])', r'\\1_\\2', name)\n",
    "    return name.lower()"
   ]
  },
  {
   "cell_type": "code",
   "execution_count": 9,
   "id": "306077ff",
   "metadata": {},
   "outputs": [],
   "source": [
    "def fillnaby(data, column, groupby, func='median'):\n",
    "    data[column] = data[column].fillna(\n",
    "        data.groupby(groupby)[column].transform(func))"
   ]
  },
  {
   "cell_type": "markdown",
   "id": "e16b3812",
   "metadata": {},
   "source": [
    "##### Отображение данных"
   ]
  },
  {
   "cell_type": "code",
   "execution_count": 10,
   "id": "732090bd",
   "metadata": {},
   "outputs": [],
   "source": [
    "def headline(line, width=50):\n",
    "    \"\"\"Возвращает заголовок, набранный \"простым текстом\".\n",
    "    \"\"\"\n",
    "    return f'\\n{line.upper():=^{width}}'"
   ]
  },
  {
   "cell_type": "code",
   "execution_count": 11,
   "id": "7fc90675",
   "metadata": {},
   "outputs": [],
   "source": [
    "# можно было бы рисовать `bar` в случаях, когда вариантов мало.\n",
    "# однако по неясной причине `bar` не рисуется, и не вызывает ошибки,\n",
    "# а вызывает лишь зацикливание при построении первого же графика\n",
    "\n",
    "def survey_columns(df):\n",
    "    for column in nans_before.index:\n",
    "        print(headline(column))\n",
    "\n",
    "        uniques = realty[column].sort_values().unique()\n",
    "        if len(uniques) < 20:\n",
    "            print(uniques)\n",
    "        print(f'Data type: {str(realty[column].dtype):>10}')\n",
    "        print(f'Unique values: {len(uniques):6}')\n",
    "\n",
    "        missing = realty[column].isna().sum()\n",
    "        if missing:\n",
    "            print(f'Not avaliable: {nans_before.loc[column, \"na_part\"]:.02%}')\n",
    "        else:\n",
    "            print('All values is avaliable.')\n",
    "\n",
    "        try:\n",
    "            realty.plot(\n",
    "                kind='hist',\n",
    "                y=column,\n",
    "               bins=50,\n",
    "            )\n",
    "            plt.show()\n",
    "        except Exception as e:\n",
    "            print(str(e).capitalize())"
   ]
  },
  {
   "cell_type": "code",
   "execution_count": 12,
   "id": "102ff4a9",
   "metadata": {},
   "outputs": [],
   "source": [
    "# формирует и выводит график, подстроенный под наши нужды\n",
    "def histf(data, column, show=True, bins=100, qtl=1, start=None,\n",
    "          stop=None, figsize=FIGSIZE, **kwargs):\n",
    "    fixed = {\n",
    "        'y': column,\n",
    "        'kind': 'hist',\n",
    "        'bins': min(bins, len(data[column].unique())),\n",
    "        'figsize': figsize,\n",
    "        'title': column,\n",
    "        'legend': False,\n",
    "        'ec': 'black',\n",
    "    }\n",
    "    if 'range' not in kwargs.keys():\n",
    "        if not start:\n",
    "            start = data[column].min()\n",
    "        if not stop:\n",
    "            stop = data[column].quantile(qtl)\n",
    "        kwargs['range'] = (start, stop)\n",
    "    data.plot(**fixed, **kwargs)\n",
    "    if show:\n",
    "        plt.show()\n",
    "\n",
    "def histf2(data, column1, column2, **kwargs):\n",
    "    histf(column1, data=data, show=False, **kwargs)\n",
    "    histf(column2, data=data, show=False, **kwargs)\n",
    "    plt.show()\n",
    "\n",
    "# два графика: все случаи, и те, что менее указанного квантиля\n",
    "def dhistf(column, data, qtl=0.975, figsize=FIGSIZE, **kwargs):\n",
    "    fig, (ax1, ax2) = plt.subplots(1, 2, figsize=figsize)\n",
    "    fig.suptitle('This is a somewhat long figure title', fontsize=16)\n",
    "    \n",
    "    ax1.set_title('full_data')\n",
    "    ax2.set_title(f'{qtl:.2%} quantile')\n",
    "    histf(column, data=data, ax=ax1, subplots=True, show=False, **kwargs)\n",
    "    histf(column, data=data, ax=ax2, subplots=True, show=False, qtl=qtl, **kwargs)\n",
    "    plt.show()\n",
    "# Развитая форма этого чудовища должна принимать список квантилей,\n",
    "# и строить столько графиков, сколько квантилей указано,\n",
    "# и качестве центра диапазона выбирать медиану.\n",
    "# Пора перейти к аналитике."
   ]
  },
  {
   "cell_type": "code",
   "execution_count": 13,
   "id": "340d35e5",
   "metadata": {},
   "outputs": [],
   "source": [
    "def typical(data, column, ratio=1.5):\n",
    "    q1 = data[column].quantile(0.25)\n",
    "    q3 = data[column].quantile(0.75)\n",
    "    iqr = q3 - q1\n",
    "    whiskers = iqr * ratio\n",
    "    low = q1 - whiskers\n",
    "    high = q3 + whiskers\n",
    "    \n",
    "    print(f'{column.title()}: min = {data[column].min()},'\n",
    "          f' max = {data[column].max()},'\n",
    "          f' normal range = [{low:.2f} ... {high:.2f}]')\n",
    "\n",
    "    return data.query(f'@low <= {column} <= @high')"
   ]
  },
  {
   "cell_type": "code",
   "execution_count": 14,
   "id": "9a9c6d32",
   "metadata": {},
   "outputs": [],
   "source": [
    "def find_cat_and_num_cols(df):\n",
    "    # find categorical and numerical columns\n",
    "    \n",
    "    categorical_columns = [c for c in df.columns if df[c].dtype.name == 'object']\n",
    "    numerical_columns   = [c for c in df.columns if df[c].dtype.name != 'object']\n",
    "    \n",
    "    return categorical_columns, numerical_columns\n",
    "\n",
    "categorical_properties, quantitative_properties = find_cat_and_num_cols(pd.DataFrame(data=[]))\n",
    "\n",
    "key_column = ''\n",
    "\n",
    "def batch_corr(data, column=key_column):\n",
    "    print(headline('Коэффициенты линейной корреляции'))\n",
    "    display(\n",
    "            data\n",
    "            .reindex(columns=(categorical_properties + quantitative_properties))\n",
    "            .corr()\n",
    "            [column].sort_values(ascending=False)\n",
    "    )\n",
    "\n",
    "def batch_scatter(data, column=key_column):\n",
    "    for prop in quantitative_properties:\n",
    "        if prop == column:\n",
    "            continue\n",
    "        data.plot(\n",
    "            kind='scatter', alpha=0.2, figsize=FIGSIZE,\n",
    "            y=column,\n",
    "            x=prop,\n",
    "        )\n",
    "    plt.show()\n",
    "\n",
    "def batch_box(data, column=key_column, by_props=categorical_properties):\n",
    "    for prop in by_props:\n",
    "        data.boxplot(\n",
    "            column=column,\n",
    "            by=prop,\n",
    "            figsize=FIGSIZE,\n",
    "        )\n",
    "    plt.show()"
   ]
  },
  {
   "cell_type": "markdown",
   "id": "21b0ee10",
   "metadata": {},
   "source": [
    "## Перевозчики и экипажи"
   ]
  },
  {
   "cell_type": "markdown",
   "id": "b9007409",
   "metadata": {},
   "source": [
    "### Перевозчики и экипажи"
   ]
  },
  {
   "cell_type": "markdown",
   "id": "c29bfdca",
   "metadata": {},
   "source": [
    "#### Создание таблиц перевозчиков и экипажей"
   ]
  },
  {
   "cell_type": "code",
   "execution_count": 60,
   "id": "276e3c52",
   "metadata": {
    "scrolled": false
   },
   "outputs": [],
   "source": [
    "# получаем список перевозчиков\n",
    "freighters = mover.get('/support/me/freighters.json')['freighters']\n",
    "\n",
    "# заполняем список экипажей\n",
    "raw_crews = []\n",
    "for freighter in freighters:\n",
    "    freighter_crews = mover.get(f\"/freighter/{freighter['id']}/crews.json\")['crews']\n",
    "    raw_crews.extend(freighter_crews)\n",
    "    #  попутно дописываем количество экипажей у перевозчика\n",
    "    freighter['total_crews'] = len(freighter_crews)\n",
    "\n",
    "# список перевозчиков превращаем в таблицу\n",
    "freighters = pd.DataFrame(freighters).sort_values(\n",
    "    'total_crews', ascending=False).set_index('id')\n",
    "\n",
    "# список экипажей превращаем в таблицу\n",
    "tariff_tiers = {\n",
    "    'Мини': 'mini',\n",
    "    'Стандарт': 'standart',\n",
    "    'Экстра': 'extra',\n",
    "    'Макси': 'maxi',\n",
    "}\n",
    "tariff_tier_defaults = {\n",
    "    'mini': False,\n",
    "    'standart': False,\n",
    "    'extra': False,\n",
    "    'maxi': False,\n",
    "}\n",
    "all_crews = []\n",
    "for crew in raw_crews:\n",
    "    crew.update(tariff_tier_defaults)\n",
    "    for tt in crew['tariff_tiers']:\n",
    "        crew[tariff_tiers[tt['name']]] = True\n",
    "    if not isinstance(crew['employer']['features'], dict):\n",
    "        crew['employer']['features'] = {}\n",
    "    all_crews.append({\n",
    "        'online_at': crew.get('online_at'),\n",
    "        'id': crew['id'],\n",
    "        'loaders': crew['loaders'],\n",
    "        'self_loader': crew['self_loader'],\n",
    "        'taxi': crew['taxi'],\n",
    "        'start_at': crew['start_date'],\n",
    "        'end_at': crew['end_date'],\n",
    "        'lat': crew.get('lat'),\n",
    "        'lon': crew.get('lon'),\n",
    "        'receive_delivery': crew['receive_delivery'],\n",
    "        'last_point_at': crew.get('last_point_at'),\n",
    "        'created_at': crew['created_at'],\n",
    "        'mini': crew['mini'],\n",
    "        'standart': crew['standart'],\n",
    "        'extra': crew['extra'],\n",
    "        'maxi': crew['maxi'],\n",
    "        'freighter_id': crew['freighter']['id'],\n",
    "        'driver_freighter_id': crew['employer']['freighter']['id'],\n",
    "        'car_freighter_id': crew['transport']['freighter']['id'],\n",
    "        'car_id': crew['transport']['id'],\n",
    "        'car_model': crew['transport']['car_model'],\n",
    "        'car_active': crew['transport']['active'],\n",
    "        'car_number': crew['transport']['features'].get('number'),\n",
    "        'car_capacity': crew['transport']['features'].get('capacity'),\n",
    "        'car_year': crew['transport']['features'].get('God_vyipuska'),\n",
    "        'car_type': crew['transport']['features'].get('Tip_kuzova'),\n",
    "        'car_elevator': crew['transport']['features'].get('Nalichie_gidroborta'),\n",
    "        'cart': crew['transport']['features'].get('Nalichie_telejki'),\n",
    "        'straps': crew['transport']['features'].get('Nalichie_remney'),\n",
    "        'tools': crew['transport']['features'].get(\n",
    "            'Nalichie_instrumentov_dlya_sborki_razborki'),\n",
    "        'ttk': crew['transport']['features'].get('Razreshen_v_ezd_v_TTK'),\n",
    "        'sk': crew['transport']['features'].get('Razreshen_v_ezd_v_SK'),\n",
    "        'mkad': crew['transport']['features'].get('Razreshen_v_ezd_na_MKAD'),\n",
    "        'length': crew['transport']['features'].get('Dlina'),\n",
    "        'width': crew['transport']['features'].get('Shirina'),\n",
    "        'height': crew['transport']['features'].get('Vyisota'),\n",
    "        'volume': crew['transport']['features'].get('Ob_em_m3'),\n",
    "        'width_min': crew['transport']['features'].get('Shirina_mejdu_arok'),\n",
    "        'apartment_moving': crew['transport']['features'].get('Kvartirnyiy_pereezd'),\n",
    "        'office_moving': crew['transport']['features'].get('Ofisnyiy_pereezd'),\n",
    "        'unlim': crew['transport']['features'].get('Bezlimit'),\n",
    "        'truck_taxi': crew['transport']['features'].get('Gruzovoe_taksi'),\n",
    "        'piano': crew['transport']['features'].get('Royal_'),\n",
    "        'safe': crew['transport']['features'].get('Seyf'),\n",
    "        'bulding_materials': crew['transport']['features'].get('Stroitel_nyie_materialyi'),\n",
    "        'animals': crew['transport']['features'].get('Jivotnyie'),\n",
    "        'food': crew['transport']['features'].get('Produktyi_pitaniya'),\n",
    "        'furniture': crew['transport']['features'].get('Mebel_'),\n",
    "        'appliances': crew['transport']['features'].get('Byitovaya_tehnika'),\n",
    "        'driver_id': crew['employer']['id'],\n",
    "        'driver_status': crew['employer']['status'],\n",
    "        'in_staff': crew['employer']['staffer'],\n",
    "        'has_main_job': crew['employer']['features'].get('Est__osnovnaya_rabota'),\n",
    "        'smoking': crew['employer']['features'].get('smoking'),\n",
    "        'children': crew['employer']['features'].get('has_children'),\n",
    "        'has_familiar_loaders': crew['employer']['features'].get('Est__znakomyie_gruzchiki'),\n",
    "        'has_legal_entity': crew['employer']['features'].get('Nalichie_IP_OOO'),\n",
    "        'user_id': crew['employer']['account']['id'],\n",
    "        'user_phone': crew['employer']['account'].get('phone'),\n",
    "        'surname': crew['employer']['account'].get('surname'),\n",
    "        'name': crew['employer']['account'].get('name'),\n",
    "        'partonymic': crew['employer']['account'].get('patronymic'),\n",
    "        'user_is_test': crew['employer']['account']['is_test'],\n",
    "        'user_rating': crew['employer']['account']['rating'],\n",
    "        'user_created_at': crew['employer']['account']['created_at'],\n",
    "        'user_updated_at': crew['employer']['account']['updated_at'],\n",
    "        'auth_id': crew['employer']['account']['auth']['id'],\n",
    "        'auth_phone': crew['employer']['account']['auth'].get('phone'),\n",
    "        'auth_is_active': crew['employer']['account']['auth']['is_active'],\n",
    "        'auth_updated_at': crew['employer']['account']['auth']['updated_at'],\n",
    "        'auth_online_at': crew['employer']['account']['auth'].get('online_at'),\n",
    "    })\n",
    "all_crews = pd.DataFrame(all_crews)\n",
    "\n",
    "# в таблице экипажей:\n",
    "# строки, в которых описаны даты или время, превращаем в отметки дат и времени\n",
    "for column in all_crews.columns:\n",
    "    if column.endswith('_at') or column.endswith('_date'):\n",
    "        all_crews[column] = pd.to_datetime(all_crews[column]).dt.tz_localize(None)"
   ]
  },
  {
   "cell_type": "markdown",
   "id": "9c84303e",
   "metadata": {},
   "source": [
    "#### Список колонок в таблице экипажей"
   ]
  },
  {
   "cell_type": "code",
   "execution_count": 61,
   "id": "198afcf4",
   "metadata": {
    "scrolled": false
   },
   "outputs": [
    {
     "name": "stdout",
     "output_type": "stream",
     "text": [
      "<class 'pandas.core.frame.DataFrame'>\n",
      "RangeIndex: 1417 entries, 0 to 1416\n",
      "Data columns (total 71 columns):\n",
      " #   Column                Non-Null Count  Dtype         \n",
      "---  ------                --------------  -----         \n",
      " 0   online_at             531 non-null    datetime64[ns]\n",
      " 1   id                    1417 non-null   int64         \n",
      " 2   loaders               1417 non-null   int64         \n",
      " 3   self_loader           1417 non-null   bool          \n",
      " 4   taxi                  1417 non-null   bool          \n",
      " 5   start_at              1417 non-null   datetime64[ns]\n",
      " 6   end_at                1417 non-null   datetime64[ns]\n",
      " 7   lat                   1251 non-null   float64       \n",
      " 8   lon                   1251 non-null   float64       \n",
      " 9   receive_delivery      1417 non-null   bool          \n",
      " 10  last_point_at         1239 non-null   datetime64[ns]\n",
      " 11  created_at            1417 non-null   datetime64[ns]\n",
      " 12  mini                  1417 non-null   bool          \n",
      " 13  standart              1417 non-null   bool          \n",
      " 14  extra                 1417 non-null   bool          \n",
      " 15  maxi                  1417 non-null   bool          \n",
      " 16  freighter_id          1417 non-null   int64         \n",
      " 17  driver_freighter_id   1417 non-null   int64         \n",
      " 18  car_freighter_id      1417 non-null   int64         \n",
      " 19  car_id                1417 non-null   int64         \n",
      " 20  car_model             1417 non-null   object        \n",
      " 21  car_active            1417 non-null   bool          \n",
      " 22  car_number            1412 non-null   object        \n",
      " 23  car_capacity          1416 non-null   object        \n",
      " 24  car_year              354 non-null    object        \n",
      " 25  car_type              1396 non-null   object        \n",
      " 26  car_elevator          668 non-null    object        \n",
      " 27  cart                  547 non-null    object        \n",
      " 28  straps                547 non-null    object        \n",
      " 29  tools                 547 non-null    object        \n",
      " 30  ttk                   668 non-null    object        \n",
      " 31  sk                    595 non-null    object        \n",
      " 32  mkad                  595 non-null    object        \n",
      " 33  length                1416 non-null   float64       \n",
      " 34  width                 1414 non-null   float64       \n",
      " 35  height                1416 non-null   float64       \n",
      " 36  volume                1245 non-null   float64       \n",
      " 37  width_min             308 non-null    float64       \n",
      " 38  apartment_moving      595 non-null    object        \n",
      " 39  office_moving         595 non-null    object        \n",
      " 40  unlim                 595 non-null    object        \n",
      " 41  truck_taxi            595 non-null    object        \n",
      " 42  piano                 595 non-null    object        \n",
      " 43  safe                  595 non-null    object        \n",
      " 44  bulding_materials     595 non-null    object        \n",
      " 45  animals               595 non-null    object        \n",
      " 46  food                  595 non-null    object        \n",
      " 47  furniture             595 non-null    object        \n",
      " 48  appliances            595 non-null    object        \n",
      " 49  driver_id             1417 non-null   int64         \n",
      " 50  driver_status         1417 non-null   object        \n",
      " 51  in_staff              1417 non-null   bool          \n",
      " 52  has_main_job          507 non-null    object        \n",
      " 53  smoking               507 non-null    object        \n",
      " 54  children              507 non-null    object        \n",
      " 55  has_familiar_loaders  507 non-null    object        \n",
      " 56  has_legal_entity      507 non-null    object        \n",
      " 57  user_id               1417 non-null   int64         \n",
      " 58  user_phone            1383 non-null   object        \n",
      " 59  surname               1400 non-null   object        \n",
      " 60  name                  1411 non-null   object        \n",
      " 61  partonymic            1353 non-null   object        \n",
      " 62  user_is_test          1417 non-null   bool          \n",
      " 63  user_rating           1417 non-null   float64       \n",
      " 64  user_created_at       1417 non-null   datetime64[ns]\n",
      " 65  user_updated_at       1417 non-null   datetime64[ns]\n",
      " 66  auth_id               1417 non-null   int64         \n",
      " 67  auth_phone            1383 non-null   object        \n",
      " 68  auth_is_active        1417 non-null   bool          \n",
      " 69  auth_updated_at       1417 non-null   datetime64[ns]\n",
      " 70  auth_online_at        531 non-null    datetime64[ns]\n",
      "dtypes: bool(11), datetime64[ns](9), float64(8), int64(9), object(34)\n",
      "memory usage: 679.6+ KB\n"
     ]
    }
   ],
   "source": [
    "all_crews.info()"
   ]
  },
  {
   "cell_type": "markdown",
   "id": "12317423",
   "metadata": {},
   "source": [
    "#### Анализ перевозчиков"
   ]
  },
  {
   "cell_type": "markdown",
   "id": "ce2143af",
   "metadata": {},
   "source": [
    "У этих перевозчиков более 1 экипажа:"
   ]
  },
  {
   "cell_type": "code",
   "execution_count": 64,
   "id": "26c1d69a",
   "metadata": {},
   "outputs": [
    {
     "data": {
      "image/png": "[encoded data removed]",
      "text/plain": [
       "<Figure size 864x432 with 1 Axes>"
      ]
     },
     "metadata": {
      "needs_background": "light"
     },
     "output_type": "display_data"
    }
   ],
   "source": [
    "freighters.query('total_crews > 1').plot.bar(x='name', figsize=FIGSIZE)\n",
    "plt.show()"
   ]
  },
  {
   "cell_type": "code",
   "execution_count": 65,
   "id": "c8656073",
   "metadata": {},
   "outputs": [],
   "source": [
    "side_freighters_id = [106, 111, 108, 136, 143, 146, 120]"
   ]
  },
  {
   "cell_type": "markdown",
   "id": "df58c033",
   "metadata": {},
   "source": [
    "#### Отбор сторонних экипажей"
   ]
  },
  {
   "cell_type": "code",
   "execution_count": 75,
   "id": "0200702a",
   "metadata": {
    "scrolled": false
   },
   "outputs": [
    {
     "data": {
      "text/html": [
       "<div>\n",
       "<style scoped>\n",
       "    .dataframe tbody tr th:only-of-type {\n",
       "        vertical-align: middle;\n",
       "    }\n",
       "\n",
       "    .dataframe tbody tr th {\n",
       "        vertical-align: top;\n",
       "    }\n",
       "\n",
       "    .dataframe thead th {\n",
       "        text-align: right;\n",
       "    }\n",
       "</style>\n",
       "<table border=\"1\" class=\"dataframe\">\n",
       "  <thead>\n",
       "    <tr style=\"text-align: right;\">\n",
       "      <th></th>\n",
       "      <th>name</th>\n",
       "      <th>total_crews</th>\n",
       "      <th>mini</th>\n",
       "      <th>standart</th>\n",
       "      <th>extra</th>\n",
       "      <th>maxi</th>\n",
       "    </tr>\n",
       "  </thead>\n",
       "  <tbody>\n",
       "    <tr>\n",
       "      <th>106</th>\n",
       "      <td>Грузовичкоф</td>\n",
       "      <td>828</td>\n",
       "      <td>10</td>\n",
       "      <td>41</td>\n",
       "      <td>39</td>\n",
       "      <td>1</td>\n",
       "    </tr>\n",
       "    <tr>\n",
       "      <th>111</th>\n",
       "      <td>Автофлот</td>\n",
       "      <td>100</td>\n",
       "      <td>3</td>\n",
       "      <td>13</td>\n",
       "      <td>66</td>\n",
       "      <td>0</td>\n",
       "    </tr>\n",
       "    <tr>\n",
       "      <th>108</th>\n",
       "      <td>Грузовичкоф Спб</td>\n",
       "      <td>24</td>\n",
       "      <td>4</td>\n",
       "      <td>12</td>\n",
       "      <td>17</td>\n",
       "      <td>0</td>\n",
       "    </tr>\n",
       "    <tr>\n",
       "      <th>136</th>\n",
       "      <td>Грузовичкоф Казань</td>\n",
       "      <td>19</td>\n",
       "      <td>19</td>\n",
       "      <td>19</td>\n",
       "      <td>17</td>\n",
       "      <td>0</td>\n",
       "    </tr>\n",
       "    <tr>\n",
       "      <th>143</th>\n",
       "      <td>Грузовичкоф XXL</td>\n",
       "      <td>13</td>\n",
       "      <td>1</td>\n",
       "      <td>2</td>\n",
       "      <td>6</td>\n",
       "      <td>13</td>\n",
       "    </tr>\n",
       "    <tr>\n",
       "      <th>146</th>\n",
       "      <td>Грузовичкоф Краснодар</td>\n",
       "      <td>13</td>\n",
       "      <td>1</td>\n",
       "      <td>12</td>\n",
       "      <td>12</td>\n",
       "      <td>0</td>\n",
       "    </tr>\n",
       "    <tr>\n",
       "      <th>120</th>\n",
       "      <td>Грузовичкоф Псков</td>\n",
       "      <td>5</td>\n",
       "      <td>5</td>\n",
       "      <td>5</td>\n",
       "      <td>1</td>\n",
       "      <td>0</td>\n",
       "    </tr>\n",
       "  </tbody>\n",
       "</table>\n",
       "</div>"
      ],
      "text/plain": [
       "                      name  total_crews  mini  standart  extra  maxi\n",
       "106            Грузовичкоф          828    10        41     39     1\n",
       "111               Автофлот          100     3        13     66     0\n",
       "108        Грузовичкоф Спб           24     4        12     17     0\n",
       "136     Грузовичкоф Казань           19    19        19     17     0\n",
       "143        Грузовичкоф XXL           13     1         2      6    13\n",
       "146  Грузовичкоф Краснодар           13     1        12     12     0\n",
       "120      Грузовичкоф Псков            5     5         5      1     0"
      ]
     },
     "execution_count": 75,
     "metadata": {},
     "output_type": "execute_result"
    }
   ],
   "source": [
    "side_crews = all_crews[all_crews['freighter_id'].isin(side_freighters_id)]\n",
    "freighters.join(side_crews.groupby('freighter_id').agg({\n",
    "    'mini': 'sum',\n",
    "    'standart': 'sum',\n",
    "    'extra': 'sum',\n",
    "    'maxi': 'sum',\n",
    "}), how='inner').query('total_crews > 1').sort_values('total_crews', ascending=False)"
   ]
  },
  {
   "cell_type": "markdown",
   "id": "a87e0aa5",
   "metadata": {},
   "source": [
    "#### Формируем список актуальных экипажей"
   ]
  },
  {
   "cell_type": "code",
   "execution_count": 73,
   "id": "1e415a60",
   "metadata": {},
   "outputs": [
    {
     "data": {
      "text/html": [
       "<div>\n",
       "<style scoped>\n",
       "    .dataframe tbody tr th:only-of-type {\n",
       "        vertical-align: middle;\n",
       "    }\n",
       "\n",
       "    .dataframe tbody tr th {\n",
       "        vertical-align: top;\n",
       "    }\n",
       "\n",
       "    .dataframe thead th {\n",
       "        text-align: right;\n",
       "    }\n",
       "</style>\n",
       "<table border=\"1\" class=\"dataframe\">\n",
       "  <thead>\n",
       "    <tr style=\"text-align: right;\">\n",
       "      <th></th>\n",
       "      <th>name</th>\n",
       "      <th>total_crews</th>\n",
       "      <th>mini</th>\n",
       "      <th>standart</th>\n",
       "      <th>extra</th>\n",
       "      <th>maxi</th>\n",
       "    </tr>\n",
       "  </thead>\n",
       "  <tbody>\n",
       "    <tr>\n",
       "      <th>8</th>\n",
       "      <td>MOVER - СОЦ</td>\n",
       "      <td>237</td>\n",
       "      <td>177</td>\n",
       "      <td>149</td>\n",
       "      <td>54</td>\n",
       "      <td>23</td>\n",
       "    </tr>\n",
       "    <tr>\n",
       "      <th>14</th>\n",
       "      <td>LiveCargo</td>\n",
       "      <td>32</td>\n",
       "      <td>9</td>\n",
       "      <td>21</td>\n",
       "      <td>15</td>\n",
       "      <td>1</td>\n",
       "    </tr>\n",
       "    <tr>\n",
       "      <th>1</th>\n",
       "      <td>MOVER</td>\n",
       "      <td>22</td>\n",
       "      <td>10</td>\n",
       "      <td>5</td>\n",
       "      <td>5</td>\n",
       "      <td>2</td>\n",
       "    </tr>\n",
       "    <tr>\n",
       "      <th>128</th>\n",
       "      <td>Эверест</td>\n",
       "      <td>20</td>\n",
       "      <td>19</td>\n",
       "      <td>20</td>\n",
       "      <td>20</td>\n",
       "      <td>0</td>\n",
       "    </tr>\n",
       "    <tr>\n",
       "      <th>105</th>\n",
       "      <td>ЕвроТранс</td>\n",
       "      <td>11</td>\n",
       "      <td>2</td>\n",
       "      <td>6</td>\n",
       "      <td>2</td>\n",
       "      <td>2</td>\n",
       "    </tr>\n",
       "    <tr>\n",
       "      <th>10</th>\n",
       "      <td>MOVER - СТАР</td>\n",
       "      <td>10</td>\n",
       "      <td>7</td>\n",
       "      <td>4</td>\n",
       "      <td>3</td>\n",
       "      <td>1</td>\n",
       "    </tr>\n",
       "    <tr>\n",
       "      <th>121</th>\n",
       "      <td>Хищник</td>\n",
       "      <td>6</td>\n",
       "      <td>1</td>\n",
       "      <td>3</td>\n",
       "      <td>3</td>\n",
       "      <td>0</td>\n",
       "    </tr>\n",
       "    <tr>\n",
       "      <th>6</th>\n",
       "      <td>Pereezdik</td>\n",
       "      <td>6</td>\n",
       "      <td>0</td>\n",
       "      <td>1</td>\n",
       "      <td>2</td>\n",
       "      <td>1</td>\n",
       "    </tr>\n",
       "    <tr>\n",
       "      <th>51</th>\n",
       "      <td>Тест-Юр.лицо</td>\n",
       "      <td>6</td>\n",
       "      <td>2</td>\n",
       "      <td>3</td>\n",
       "      <td>2</td>\n",
       "      <td>1</td>\n",
       "    </tr>\n",
       "    <tr>\n",
       "      <th>137</th>\n",
       "      <td>ООО «ГРИНЛАЙТ»</td>\n",
       "      <td>5</td>\n",
       "      <td>2</td>\n",
       "      <td>5</td>\n",
       "      <td>5</td>\n",
       "      <td>1</td>\n",
       "    </tr>\n",
       "    <tr>\n",
       "      <th>78</th>\n",
       "      <td>ИП Юмагужин Руслан Салаватович</td>\n",
       "      <td>3</td>\n",
       "      <td>3</td>\n",
       "      <td>1</td>\n",
       "      <td>0</td>\n",
       "      <td>0</td>\n",
       "    </tr>\n",
       "  </tbody>\n",
       "</table>\n",
       "</div>"
      ],
      "text/plain": [
       "                               name  total_crews  mini  standart  extra  maxi\n",
       "8                       MOVER - СОЦ          237   177       149     54    23\n",
       "14                        LiveCargo           32     9        21     15     1\n",
       "1                             MOVER           22    10         5      5     2\n",
       "128                         Эверест           20    19        20     20     0\n",
       "105                       ЕвроТранс           11     2         6      2     2\n",
       "10                     MOVER - СТАР           10     7         4      3     1\n",
       "121                          Хищник            6     1         3      3     0\n",
       "6                         Pereezdik            6     0         1      2     1\n",
       "51                     Тест-Юр.лицо            6     2         3      2     1\n",
       "137                  ООО «ГРИНЛАЙТ»            5     2         5      5     1\n",
       "78   ИП Юмагужин Руслан Салаватович            3     3         1      0     0"
      ]
     },
     "execution_count": 73,
     "metadata": {},
     "output_type": "execute_result"
    }
   ],
   "source": [
    "own_crews = all_crews[~all_crews['freighter_id'].isin(partners_id)]\n",
    "freighters.join(own_crews.groupby('freighter_id').agg({\n",
    "    'mini': 'sum',\n",
    "    'standart': 'sum',\n",
    "    'extra': 'sum',\n",
    "    'maxi': 'sum',\n",
    "}), how='inner').query('total_crews > 1').sort_values('total_crews', ascending=False)"
   ]
  },
  {
   "cell_type": "markdown",
   "id": "747b4a66",
   "metadata": {},
   "source": [
    "#### Отбор собственных реальных экипажей"
   ]
  },
  {
   "cell_type": "code",
   "execution_count": 80,
   "id": "a80d67b0",
   "metadata": {},
   "outputs": [],
   "source": [
    "real_crews = own_crews[~own_crews['user_is_test']]\n",
    "real_crews = real_crews.query(\n",
    "    'user_phone.notna()'\n",
    ").query(\n",
    "    'not user_phone.str.startswith(\"7111\")'\n",
    ").query(\n",
    "    'not user_phone.str.startswith(\"7555\")'\n",
    ").query('user_phone.str.len() == 11')"
   ]
  },
  {
   "cell_type": "markdown",
   "id": "db67efa0",
   "metadata": {},
   "source": [
    "### Анализ своих реальных экипажей"
   ]
  },
  {
   "cell_type": "markdown",
   "id": "1f09e7ae",
   "metadata": {},
   "source": [
    "#### Отметки времени"
   ]
  },
  {
   "cell_type": "code",
   "execution_count": 98,
   "id": "5264b18e",
   "metadata": {},
   "outputs": [],
   "source": [
    "real_crews['online_date'] = real_crews['online_at'].dt.date"
   ]
  },
  {
   "cell_type": "code",
   "execution_count": 103,
   "id": "f61571f5",
   "metadata": {},
   "outputs": [
    {
     "data": {
      "image/png": "[encoded data removed]",
      "text/plain": [
       "<Figure size 864x432 with 1 Axes>"
      ]
     },
     "metadata": {
      "needs_background": "light"
     },
     "output_type": "display_data"
    }
   ],
   "source": [
    "real_crews.groupby('online_date').agg({'id': 'nunique'}).plot(\n",
    "    figsize=FIGSIZE, xlabel='Дата', ylabel='Количество экипажей',\n",
    "    title='Включали online в последний раз'\n",
    ")\n",
    "plt.show()"
   ]
  },
  {
   "cell_type": "code",
   "execution_count": 100,
   "id": "88ad622c",
   "metadata": {},
   "outputs": [],
   "source": [
    "horizon_7_days = (datetime.datetime.now() - datetime.timedelta(days=7)).date()\n",
    "horizon_30_days = (datetime.datetime.now() - datetime.timedelta(days=30)).date()\n",
    "horizon_35_days = (datetime.datetime.now() - datetime.timedelta(days=35)).date()\n",
    "horizon_91_days = (datetime.datetime.now() - datetime.timedelta(days=91)).date()"
   ]
  },
  {
   "cell_type": "code",
   "execution_count": 104,
   "id": "0fce6ca8",
   "metadata": {},
   "outputs": [
    {
     "data": {
      "image/png": "[encoded data removed]",
      "text/plain": [
       "<Figure size 864x432 with 1 Axes>"
      ]
     },
     "metadata": {
      "needs_background": "light"
     },
     "output_type": "display_data"
    }
   ],
   "source": [
    "real_crews.groupby('online_date').agg({'id': 'nunique'}).query(\n",
    "    'online_date > @horizon_91_days'\n",
    ").plot.bar(\n",
    "    figsize=FIGSIZE, xlabel='Дата', ylabel='Количество экипажей',\n",
    "    title='Включали online в последний раз'\n",
    ")\n",
    "plt.show()"
   ]
  },
  {
   "cell_type": "code",
   "execution_count": 106,
   "id": "285a4077",
   "metadata": {},
   "outputs": [
    {
     "data": {
      "image/png": "[encoded data removed]",
      "text/plain": [
       "<Figure size 864x432 with 1 Axes>"
      ]
     },
     "metadata": {
      "needs_background": "light"
     },
     "output_type": "display_data"
    }
   ],
   "source": [
    "real_crews['auth_online_date'] = real_crews['auth_online_at'].dt.date\n",
    "\n",
    "real_crews.groupby('auth_online_date').agg({'id': 'nunique'}).plot(\n",
    "    figsize=FIGSIZE, xlabel='Дата', ylabel='Количество экипажей',\n",
    "    title='Входили в MOVER в последний раз'\n",
    ")\n",
    "plt.show()"
   ]
  },
  {
   "cell_type": "code",
   "execution_count": 107,
   "id": "a5035f31",
   "metadata": {},
   "outputs": [
    {
     "data": {
      "image/png": "[encoded data removed]",
      "text/plain": [
       "<Figure size 864x432 with 1 Axes>"
      ]
     },
     "metadata": {
      "needs_background": "light"
     },
     "output_type": "display_data"
    }
   ],
   "source": [
    "real_crews.groupby('auth_online_date').agg({'id': 'nunique'}).query(\n",
    "    'auth_online_date > @horizon_91_days'\n",
    ").plot.bar(\n",
    "    figsize=FIGSIZE, xlabel='Дата', ylabel='Количество экипажей',\n",
    "    title='Включали online в последний раз'\n",
    ")\n",
    "plt.show()"
   ]
  },
  {
   "cell_type": "markdown",
   "id": "4a87c926",
   "metadata": {},
   "source": [
    "Можно считать активными тех, кто заходил в последнюю неделю, и тех, кто за последний месяц. Остальные явно спят."
   ]
  },
  {
   "cell_type": "code",
   "execution_count": 31,
   "id": "be04d8b5",
   "metadata": {
    "scrolled": false
   },
   "outputs": [
    {
     "data": {
      "image/png": "[encoded data removed]",
      "text/plain": [
       "<Figure size 864x432 with 1 Axes>"
      ]
     },
     "metadata": {
      "needs_background": "light"
     },
     "output_type": "display_data"
    }
   ],
   "source": [
    "own_crews['online_hour'] = own_crews['online_at'].dt.hour\n",
    "horizon = datetime.datetime.now() - datetime.timedelta(days=30)\n",
    "own_crews.query(\n",
    "    'online_at > @horizon'\n",
    ").groupby('online_hour').agg({'id': 'nunique'}).plot.bar(figsize=FIGSIZE)\n",
    "plt.show()"
   ]
  },
  {
   "cell_type": "markdown",
   "id": "6367c616",
   "metadata": {},
   "source": [
    "Значительна доля тех, кто в последний раз онлайн был поутру. Водители разочаровываются, и выходят."
   ]
  },
  {
   "cell_type": "code",
   "execution_count": 32,
   "id": "5f12c673",
   "metadata": {},
   "outputs": [
    {
     "data": {
      "text/plain": [
       "count                              371\n",
       "mean     2021-06-16 06:56:23.288409600\n",
       "min                2016-10-12 18:33:00\n",
       "25%                2021-05-12 10:26:00\n",
       "50%                2021-12-28 10:53:00\n",
       "75%                2022-05-18 14:09:30\n",
       "max                2022-10-12 00:10:00\n",
       "Name: start_at, dtype: object"
      ]
     },
     "execution_count": 32,
     "metadata": {},
     "output_type": "execute_result"
    }
   ],
   "source": [
    "own_crews['start_at'].describe(datetime_is_numeric=True)"
   ]
  },
  {
   "cell_type": "code",
   "execution_count": 33,
   "id": "72bb23b7",
   "metadata": {},
   "outputs": [
    {
     "data": {
      "image/png": "[encoded data removed]",
      "text/plain": [
       "<Figure size 864x432 with 1 Axes>"
      ]
     },
     "metadata": {
      "needs_background": "light"
     },
     "output_type": "display_data"
    }
   ],
   "source": [
    "own_crews['start_date'] = own_crews['start_at'].dt.date\n",
    "own_crews.groupby('start_date').agg(\n",
    "    {'id': 'nunique'}).plot(figsize=FIGSIZE)\n",
    "plt.show()"
   ]
  },
  {
   "cell_type": "code",
   "execution_count": 34,
   "id": "d68da64d",
   "metadata": {},
   "outputs": [
    {
     "data": {
      "image/png": "[encoded data removed]",
      "text/plain": [
       "<Figure size 864x432 with 1 Axes>"
      ]
     },
     "metadata": {
      "needs_background": "light"
     },
     "output_type": "display_data"
    }
   ],
   "source": [
    "own_crews['start_month'] = own_crews['start_at'].dt.month\n",
    "horizon = datetime.datetime.now() - datetime.timedelta(days=365)\n",
    "own_crews.query('online_at > @horizon').groupby('start_month').agg(\n",
    "    {'id': 'nunique'}).plot.bar(figsize=FIGSIZE)\n",
    "plt.show()"
   ]
  },
  {
   "cell_type": "code",
   "execution_count": 35,
   "id": "78728cc3",
   "metadata": {},
   "outputs": [
    {
     "data": {
      "image/png": "[encoded data removed]",
      "text/plain": [
       "<Figure size 864x432 with 1 Axes>"
      ]
     },
     "metadata": {
      "needs_background": "light"
     },
     "output_type": "display_data"
    }
   ],
   "source": [
    "own_crews['end_date'] = own_crews['end_at'].dt.date\n",
    "own_crews.groupby('end_date').agg(\n",
    "    {'id': 'nunique'}).plot(figsize=FIGSIZE)\n",
    "plt.show()"
   ]
  },
  {
   "cell_type": "markdown",
   "id": "b8bd9675",
   "metadata": {},
   "source": [
    "#### Статусы"
   ]
  },
  {
   "cell_type": "code",
   "execution_count": 36,
   "id": "8df710be",
   "metadata": {},
   "outputs": [
    {
     "data": {
      "text/html": [
       "<div>\n",
       "<style scoped>\n",
       "    .dataframe tbody tr th:only-of-type {\n",
       "        vertical-align: middle;\n",
       "    }\n",
       "\n",
       "    .dataframe tbody tr th {\n",
       "        vertical-align: top;\n",
       "    }\n",
       "\n",
       "    .dataframe thead th {\n",
       "        text-align: right;\n",
       "    }\n",
       "</style>\n",
       "<table border=\"1\" class=\"dataframe\">\n",
       "  <thead>\n",
       "    <tr style=\"text-align: right;\">\n",
       "      <th></th>\n",
       "      <th>id</th>\n",
       "    </tr>\n",
       "    <tr>\n",
       "      <th>driver_status</th>\n",
       "      <th></th>\n",
       "    </tr>\n",
       "  </thead>\n",
       "  <tbody>\n",
       "    <tr>\n",
       "      <th>free</th>\n",
       "      <td>87</td>\n",
       "    </tr>\n",
       "    <tr>\n",
       "      <th>rest</th>\n",
       "      <td>282</td>\n",
       "    </tr>\n",
       "    <tr>\n",
       "      <th>work</th>\n",
       "      <td>2</td>\n",
       "    </tr>\n",
       "  </tbody>\n",
       "</table>\n",
       "</div>"
      ],
      "text/plain": [
       "                id\n",
       "driver_status     \n",
       "free            87\n",
       "rest           282\n",
       "work             2"
      ]
     },
     "execution_count": 36,
     "metadata": {},
     "output_type": "execute_result"
    }
   ],
   "source": [
    "own_crews.groupby('driver_status').agg({'id': 'nunique'})"
   ]
  },
  {
   "cell_type": "code",
   "execution_count": 37,
   "id": "586ebf84",
   "metadata": {},
   "outputs": [
    {
     "data": {
      "text/html": [
       "<div>\n",
       "<style scoped>\n",
       "    .dataframe tbody tr th:only-of-type {\n",
       "        vertical-align: middle;\n",
       "    }\n",
       "\n",
       "    .dataframe tbody tr th {\n",
       "        vertical-align: top;\n",
       "    }\n",
       "\n",
       "    .dataframe thead th {\n",
       "        text-align: right;\n",
       "    }\n",
       "</style>\n",
       "<table border=\"1\" class=\"dataframe\">\n",
       "  <thead>\n",
       "    <tr style=\"text-align: right;\">\n",
       "      <th></th>\n",
       "      <th>name</th>\n",
       "      <th>surname</th>\n",
       "      <th>user_phone</th>\n",
       "      <th>freighter_id</th>\n",
       "    </tr>\n",
       "  </thead>\n",
       "  <tbody>\n",
       "    <tr>\n",
       "      <th>4</th>\n",
       "      <td>Эржан</td>\n",
       "      <td>Алтымышов</td>\n",
       "      <td>79774231261</td>\n",
       "      <td>14</td>\n",
       "    </tr>\n",
       "    <tr>\n",
       "      <th>6</th>\n",
       "      <td>Евгений</td>\n",
       "      <td>Ермилов</td>\n",
       "      <td>79209157161</td>\n",
       "      <td>14</td>\n",
       "    </tr>\n",
       "    <tr>\n",
       "      <th>10</th>\n",
       "      <td>Бахром</td>\n",
       "      <td>Тухсанов</td>\n",
       "      <td>79169086346</td>\n",
       "      <td>14</td>\n",
       "    </tr>\n",
       "    <tr>\n",
       "      <th>16</th>\n",
       "      <td>Гамзат</td>\n",
       "      <td>Магомедов</td>\n",
       "      <td>79250110505</td>\n",
       "      <td>14</td>\n",
       "    </tr>\n",
       "    <tr>\n",
       "      <th>19</th>\n",
       "      <td>Александр</td>\n",
       "      <td>Хромов</td>\n",
       "      <td>79104600649</td>\n",
       "      <td>14</td>\n",
       "    </tr>\n",
       "    <tr>\n",
       "      <th>20</th>\n",
       "      <td>Тохир</td>\n",
       "      <td>Фазлиддинов</td>\n",
       "      <td>79661577496</td>\n",
       "      <td>14</td>\n",
       "    </tr>\n",
       "    <tr>\n",
       "      <th>25</th>\n",
       "      <td>Магомед</td>\n",
       "      <td>Мусаев</td>\n",
       "      <td>79640005765</td>\n",
       "      <td>14</td>\n",
       "    </tr>\n",
       "    <tr>\n",
       "      <th>27</th>\n",
       "      <td>Руслан</td>\n",
       "      <td>Давыдов</td>\n",
       "      <td>79175539303</td>\n",
       "      <td>14</td>\n",
       "    </tr>\n",
       "    <tr>\n",
       "      <th>28</th>\n",
       "      <td>Роман</td>\n",
       "      <td>Давыдов</td>\n",
       "      <td>79262336054</td>\n",
       "      <td>14</td>\n",
       "    </tr>\n",
       "    <tr>\n",
       "      <th>30</th>\n",
       "      <td>Владимир</td>\n",
       "      <td>Стюков</td>\n",
       "      <td>79152288822</td>\n",
       "      <td>14</td>\n",
       "    </tr>\n",
       "    <tr>\n",
       "      <th>58</th>\n",
       "      <td>Евгений</td>\n",
       "      <td>Сафонов</td>\n",
       "      <td>79771436014</td>\n",
       "      <td>8</td>\n",
       "    </tr>\n",
       "    <tr>\n",
       "      <th>65</th>\n",
       "      <td>Руслан</td>\n",
       "      <td>Киселев</td>\n",
       "      <td>79773418119</td>\n",
       "      <td>8</td>\n",
       "    </tr>\n",
       "    <tr>\n",
       "      <th>67</th>\n",
       "      <td>Кирилл</td>\n",
       "      <td>Глыбин</td>\n",
       "      <td>79165560087</td>\n",
       "      <td>8</td>\n",
       "    </tr>\n",
       "    <tr>\n",
       "      <th>69</th>\n",
       "      <td>Дмитрий</td>\n",
       "      <td>Чекрыгов</td>\n",
       "      <td>79685437876</td>\n",
       "      <td>8</td>\n",
       "    </tr>\n",
       "    <tr>\n",
       "      <th>72</th>\n",
       "      <td>Хамзат</td>\n",
       "      <td>Муртазов</td>\n",
       "      <td>79067089595</td>\n",
       "      <td>8</td>\n",
       "    </tr>\n",
       "    <tr>\n",
       "      <th>74</th>\n",
       "      <td>Паата</td>\n",
       "      <td>Кевлишвили</td>\n",
       "      <td>79777887055</td>\n",
       "      <td>8</td>\n",
       "    </tr>\n",
       "    <tr>\n",
       "      <th>80</th>\n",
       "      <td>Николай</td>\n",
       "      <td>Швытов</td>\n",
       "      <td>79165733382</td>\n",
       "      <td>8</td>\n",
       "    </tr>\n",
       "    <tr>\n",
       "      <th>81</th>\n",
       "      <td>Александр</td>\n",
       "      <td>Суховерский</td>\n",
       "      <td>79037471265</td>\n",
       "      <td>8</td>\n",
       "    </tr>\n",
       "    <tr>\n",
       "      <th>82</th>\n",
       "      <td>Родион</td>\n",
       "      <td>Тищенко</td>\n",
       "      <td>79269790097</td>\n",
       "      <td>8</td>\n",
       "    </tr>\n",
       "    <tr>\n",
       "      <th>83</th>\n",
       "      <td>Гусейн</td>\n",
       "      <td>Адуков</td>\n",
       "      <td>79037441783</td>\n",
       "      <td>8</td>\n",
       "    </tr>\n",
       "  </tbody>\n",
       "</table>\n",
       "</div>"
      ],
      "text/plain": [
       "          name       surname   user_phone  freighter_id\n",
       "4        Эржан     Алтымышов  79774231261            14\n",
       "6      Евгений       Ермилов  79209157161            14\n",
       "10      Бахром      Тухсанов  79169086346            14\n",
       "16     Гамзат     Магомедов   79250110505            14\n",
       "19  Александр        Хромов   79104600649            14\n",
       "20      Тохир   Фазлиддинов   79661577496            14\n",
       "25     Магомед        Мусаев  79640005765            14\n",
       "27     Руслан        Давыдов  79175539303            14\n",
       "28       Роман       Давыдов  79262336054            14\n",
       "30    Владимир        Стюков  79152288822            14\n",
       "58     Евгений       Сафонов  79771436014             8\n",
       "65      Руслан       Киселев  79773418119             8\n",
       "67      Кирилл        Глыбин  79165560087             8\n",
       "69     Дмитрий      Чекрыгов  79685437876             8\n",
       "72      Хамзат      Муртазов  79067089595             8\n",
       "74       Паата    Кевлишвили  79777887055             8\n",
       "80     Николай        Швытов  79165733382             8\n",
       "81   Александр   Суховерский  79037471265             8\n",
       "82      Родион       Тищенко  79269790097             8\n",
       "83      Гусейн        Адуков  79037441783             8"
      ]
     },
     "execution_count": 37,
     "metadata": {},
     "output_type": "execute_result"
    }
   ],
   "source": [
    "free = own_crews[own_crews['driver_status'] == 'free']\n",
    "free[['name', 'surname', 'user_phone', 'freighter_id']].head(20)"
   ]
  },
  {
   "cell_type": "code",
   "execution_count": 38,
   "id": "d3945ea9",
   "metadata": {},
   "outputs": [
    {
     "data": {
      "image/png": "[encoded data removed]",
      "text/plain": [
       "<Figure size 432x288 with 1 Axes>"
      ]
     },
     "metadata": {},
     "output_type": "display_data"
    }
   ],
   "source": [
    "own_crews.groupby('loaders').agg({'id': 'nunique'}).plot.pie(\n",
    "    y='id', colors=['yellow', 'green'])\n",
    "plt.show()"
   ]
  },
  {
   "cell_type": "code",
   "execution_count": 39,
   "id": "fe857ed9",
   "metadata": {},
   "outputs": [
    {
     "data": {
      "image/png": "[encoded data removed]",
      "text/plain": [
       "<Figure size 432x288 with 1 Axes>"
      ]
     },
     "metadata": {},
     "output_type": "display_data"
    }
   ],
   "source": [
    "own_crews.groupby('self_loader').agg({'id': 'nunique'}).plot.pie(\n",
    "    y='id', colors=['yellow', 'green'])\n",
    "plt.show()"
   ]
  },
  {
   "cell_type": "code",
   "execution_count": 40,
   "id": "83677113",
   "metadata": {},
   "outputs": [
    {
     "data": {
      "image/png": "[encoded data removed]",
      "text/plain": [
       "<Figure size 432x288 with 1 Axes>"
      ]
     },
     "metadata": {},
     "output_type": "display_data"
    }
   ],
   "source": [
    "own_crews.groupby('receive_delivery').agg({'id': 'nunique'}).plot.pie(\n",
    "    y='id', colors=['yellow', 'green'])\n",
    "plt.show()"
   ]
  },
  {
   "cell_type": "code",
   "execution_count": 41,
   "id": "da67cb61",
   "metadata": {},
   "outputs": [
    {
     "data": {
      "image/png": "[encoded data removed]",
      "text/plain": [
       "<Figure size 432x288 with 1 Axes>"
      ]
     },
     "metadata": {},
     "output_type": "display_data"
    }
   ],
   "source": [
    "own_crews.groupby('driver_status').agg({'id': 'nunique'}).plot.pie(\n",
    "    y='id', colors=['green', 'yellow'])\n",
    "plt.show()"
   ]
  },
  {
   "cell_type": "code",
   "execution_count": 42,
   "id": "01e13b65",
   "metadata": {},
   "outputs": [
    {
     "data": {
      "image/png": "[encoded data removed]",
      "text/plain": [
       "<Figure size 432x288 with 1 Axes>"
      ]
     },
     "metadata": {},
     "output_type": "display_data"
    }
   ],
   "source": [
    "own_crews.groupby('taxi').agg({'id': 'nunique'}).plot.pie(\n",
    "    y='id', colors=['yellow', 'green'])\n",
    "plt.show()"
   ]
  },
  {
   "cell_type": "code",
   "execution_count": 43,
   "id": "33634692",
   "metadata": {},
   "outputs": [
    {
     "data": {
      "image/png": "[encoded data removed]",
      "text/plain": [
       "<Figure size 432x288 with 1 Axes>"
      ]
     },
     "metadata": {},
     "output_type": "display_data"
    }
   ],
   "source": [
    "own_crews.groupby('receive_delivery').agg({'id': 'nunique'}).plot.pie(\n",
    "    y='id', colors=['yellow', 'green'])\n",
    "plt.show()"
   ]
  },
  {
   "cell_type": "code",
   "execution_count": 44,
   "id": "a77ab99c",
   "metadata": {},
   "outputs": [
    {
     "data": {
      "image/png": "[encoded data removed]",
      "text/plain": [
       "<Figure size 432x288 with 1 Axes>"
      ]
     },
     "metadata": {},
     "output_type": "display_data"
    }
   ],
   "source": [
    "own_crews.groupby('car_active').agg({'id': 'nunique'}).plot.pie(\n",
    "    y='id', colors=['yellow', 'green'])\n",
    "plt.show()"
   ]
  },
  {
   "cell_type": "code",
   "execution_count": 45,
   "id": "89bcb24a",
   "metadata": {
    "scrolled": false
   },
   "outputs": [
    {
     "data": {
      "text/html": [
       "<div>\n",
       "<style scoped>\n",
       "    .dataframe tbody tr th:only-of-type {\n",
       "        vertical-align: middle;\n",
       "    }\n",
       "\n",
       "    .dataframe tbody tr th {\n",
       "        vertical-align: top;\n",
       "    }\n",
       "\n",
       "    .dataframe thead th {\n",
       "        text-align: right;\n",
       "    }\n",
       "</style>\n",
       "<table border=\"1\" class=\"dataframe\">\n",
       "  <thead>\n",
       "    <tr style=\"text-align: right;\">\n",
       "      <th></th>\n",
       "      <th>46</th>\n",
       "      <th>47</th>\n",
       "      <th>48</th>\n",
       "      <th>49</th>\n",
       "    </tr>\n",
       "  </thead>\n",
       "  <tbody>\n",
       "    <tr>\n",
       "      <th>online_at</th>\n",
       "      <td>2021-03-01 13:18:04</td>\n",
       "      <td>2021-09-16 11:15:19</td>\n",
       "      <td>2020-12-18 06:50:01</td>\n",
       "      <td>NaT</td>\n",
       "    </tr>\n",
       "    <tr>\n",
       "      <th>id</th>\n",
       "      <td>8351</td>\n",
       "      <td>8346</td>\n",
       "      <td>8307</td>\n",
       "      <td>8305</td>\n",
       "    </tr>\n",
       "    <tr>\n",
       "      <th>loaders</th>\n",
       "      <td>0</td>\n",
       "      <td>0</td>\n",
       "      <td>0</td>\n",
       "      <td>0</td>\n",
       "    </tr>\n",
       "    <tr>\n",
       "      <th>self_loader</th>\n",
       "      <td>True</td>\n",
       "      <td>True</td>\n",
       "      <td>False</td>\n",
       "      <td>False</td>\n",
       "    </tr>\n",
       "    <tr>\n",
       "      <th>taxi</th>\n",
       "      <td>True</td>\n",
       "      <td>True</td>\n",
       "      <td>True</td>\n",
       "      <td>True</td>\n",
       "    </tr>\n",
       "    <tr>\n",
       "      <th>start_at</th>\n",
       "      <td>2020-12-22 22:59:00</td>\n",
       "      <td>2020-12-21 14:40:00</td>\n",
       "      <td>2020-12-18 01:00:00</td>\n",
       "      <td>2020-12-17 23:39:00</td>\n",
       "    </tr>\n",
       "    <tr>\n",
       "      <th>end_at</th>\n",
       "      <td>2025-12-22 22:59:00</td>\n",
       "      <td>2025-12-20 20:30:00</td>\n",
       "      <td>2025-12-18 01:00:00</td>\n",
       "      <td>2025-12-17 23:39:00</td>\n",
       "    </tr>\n",
       "    <tr>\n",
       "      <th>lat</th>\n",
       "      <td>56.014812</td>\n",
       "      <td>55.844705</td>\n",
       "      <td>55.813279</td>\n",
       "      <td>NaN</td>\n",
       "    </tr>\n",
       "    <tr>\n",
       "      <th>lon</th>\n",
       "      <td>37.22275</td>\n",
       "      <td>37.449644</td>\n",
       "      <td>37.824041</td>\n",
       "      <td>NaN</td>\n",
       "    </tr>\n",
       "    <tr>\n",
       "      <th>receive_delivery</th>\n",
       "      <td>True</td>\n",
       "      <td>True</td>\n",
       "      <td>True</td>\n",
       "      <td>True</td>\n",
       "    </tr>\n",
       "    <tr>\n",
       "      <th>last_point_at</th>\n",
       "      <td>2021-02-22 20:05:21</td>\n",
       "      <td>2021-09-16 11:11:42</td>\n",
       "      <td>2020-12-18 01:22:53</td>\n",
       "      <td>NaT</td>\n",
       "    </tr>\n",
       "    <tr>\n",
       "      <th>created_at</th>\n",
       "      <td>2020-12-22 23:00:00</td>\n",
       "      <td>2020-12-21 14:39:56</td>\n",
       "      <td>2020-12-18 01:00:51</td>\n",
       "      <td>2020-12-17 23:39:47</td>\n",
       "    </tr>\n",
       "    <tr>\n",
       "      <th>mini</th>\n",
       "      <td>True</td>\n",
       "      <td>True</td>\n",
       "      <td>False</td>\n",
       "      <td>True</td>\n",
       "    </tr>\n",
       "    <tr>\n",
       "      <th>standart</th>\n",
       "      <td>False</td>\n",
       "      <td>False</td>\n",
       "      <td>False</td>\n",
       "      <td>False</td>\n",
       "    </tr>\n",
       "    <tr>\n",
       "      <th>extra</th>\n",
       "      <td>False</td>\n",
       "      <td>False</td>\n",
       "      <td>True</td>\n",
       "      <td>False</td>\n",
       "    </tr>\n",
       "    <tr>\n",
       "      <th>maxi</th>\n",
       "      <td>False</td>\n",
       "      <td>False</td>\n",
       "      <td>False</td>\n",
       "      <td>False</td>\n",
       "    </tr>\n",
       "    <tr>\n",
       "      <th>freighter_id</th>\n",
       "      <td>1</td>\n",
       "      <td>1</td>\n",
       "      <td>1</td>\n",
       "      <td>1</td>\n",
       "    </tr>\n",
       "    <tr>\n",
       "      <th>driver_freighter_id</th>\n",
       "      <td>1</td>\n",
       "      <td>1</td>\n",
       "      <td>1</td>\n",
       "      <td>1</td>\n",
       "    </tr>\n",
       "    <tr>\n",
       "      <th>car_freighter_id</th>\n",
       "      <td>1</td>\n",
       "      <td>1</td>\n",
       "      <td>1</td>\n",
       "      <td>1</td>\n",
       "    </tr>\n",
       "    <tr>\n",
       "      <th>car_id</th>\n",
       "      <td>1662</td>\n",
       "      <td>1655</td>\n",
       "      <td>1632</td>\n",
       "      <td>191</td>\n",
       "    </tr>\n",
       "    <tr>\n",
       "      <th>car_model</th>\n",
       "      <td>Citroen Berlingo</td>\n",
       "      <td>Volkswagen Transporter</td>\n",
       "      <td>GAZelle NEXT</td>\n",
       "      <td>GAZelle</td>\n",
       "    </tr>\n",
       "    <tr>\n",
       "      <th>car_active</th>\n",
       "      <td>True</td>\n",
       "      <td>True</td>\n",
       "      <td>True</td>\n",
       "      <td>True</td>\n",
       "    </tr>\n",
       "    <tr>\n",
       "      <th>car_number</th>\n",
       "      <td>Р806ХМ777</td>\n",
       "      <td>Т659ТР178</td>\n",
       "      <td>Н089ЕВ799</td>\n",
       "      <td>В302ХВ777</td>\n",
       "    </tr>\n",
       "    <tr>\n",
       "      <th>car_capacity</th>\n",
       "      <td>0_7</td>\n",
       "      <td>_1</td>\n",
       "      <td>1_5</td>\n",
       "      <td>_1</td>\n",
       "    </tr>\n",
       "    <tr>\n",
       "      <th>car_year</th>\n",
       "      <td>_2013</td>\n",
       "      <td>_2008</td>\n",
       "      <td>None</td>\n",
       "      <td>None</td>\n",
       "    </tr>\n",
       "    <tr>\n",
       "      <th>car_type</th>\n",
       "      <td>Czel_nometallicheskij</td>\n",
       "      <td>Czel_nometallicheskij</td>\n",
       "      <td>Tent</td>\n",
       "      <td>Furgon</td>\n",
       "    </tr>\n",
       "    <tr>\n",
       "      <th>car_elevator</th>\n",
       "      <td>False</td>\n",
       "      <td>False</td>\n",
       "      <td>False</td>\n",
       "      <td>False</td>\n",
       "    </tr>\n",
       "    <tr>\n",
       "      <th>cart</th>\n",
       "      <td>False</td>\n",
       "      <td>False</td>\n",
       "      <td>False</td>\n",
       "      <td>False</td>\n",
       "    </tr>\n",
       "    <tr>\n",
       "      <th>straps</th>\n",
       "      <td>False</td>\n",
       "      <td>False</td>\n",
       "      <td>False</td>\n",
       "      <td>False</td>\n",
       "    </tr>\n",
       "    <tr>\n",
       "      <th>tools</th>\n",
       "      <td>False</td>\n",
       "      <td>False</td>\n",
       "      <td>False</td>\n",
       "      <td>False</td>\n",
       "    </tr>\n",
       "    <tr>\n",
       "      <th>ttk</th>\n",
       "      <td>False</td>\n",
       "      <td>True</td>\n",
       "      <td>False</td>\n",
       "      <td>True</td>\n",
       "    </tr>\n",
       "    <tr>\n",
       "      <th>sk</th>\n",
       "      <td>False</td>\n",
       "      <td>True</td>\n",
       "      <td>False</td>\n",
       "      <td>False</td>\n",
       "    </tr>\n",
       "    <tr>\n",
       "      <th>mkad</th>\n",
       "      <td>False</td>\n",
       "      <td>True</td>\n",
       "      <td>False</td>\n",
       "      <td>False</td>\n",
       "    </tr>\n",
       "    <tr>\n",
       "      <th>length</th>\n",
       "      <td>1.5</td>\n",
       "      <td>2.5</td>\n",
       "      <td>4.0</td>\n",
       "      <td>3.0</td>\n",
       "    </tr>\n",
       "    <tr>\n",
       "      <th>width</th>\n",
       "      <td>1.25</td>\n",
       "      <td>1.5</td>\n",
       "      <td>2.0</td>\n",
       "      <td>1.9</td>\n",
       "    </tr>\n",
       "    <tr>\n",
       "      <th>height</th>\n",
       "      <td>1.0</td>\n",
       "      <td>1.3</td>\n",
       "      <td>2.1</td>\n",
       "      <td>1.9</td>\n",
       "    </tr>\n",
       "    <tr>\n",
       "      <th>volume</th>\n",
       "      <td>2.0</td>\n",
       "      <td>4.88</td>\n",
       "      <td>17.0</td>\n",
       "      <td>NaN</td>\n",
       "    </tr>\n",
       "    <tr>\n",
       "      <th>width_min</th>\n",
       "      <td>1.15</td>\n",
       "      <td>1.23</td>\n",
       "      <td>NaN</td>\n",
       "      <td>NaN</td>\n",
       "    </tr>\n",
       "    <tr>\n",
       "      <th>apartment_moving</th>\n",
       "      <td>False</td>\n",
       "      <td>False</td>\n",
       "      <td>False</td>\n",
       "      <td>False</td>\n",
       "    </tr>\n",
       "    <tr>\n",
       "      <th>office_moving</th>\n",
       "      <td>False</td>\n",
       "      <td>False</td>\n",
       "      <td>False</td>\n",
       "      <td>False</td>\n",
       "    </tr>\n",
       "    <tr>\n",
       "      <th>unlim</th>\n",
       "      <td>False</td>\n",
       "      <td>False</td>\n",
       "      <td>False</td>\n",
       "      <td>False</td>\n",
       "    </tr>\n",
       "    <tr>\n",
       "      <th>truck_taxi</th>\n",
       "      <td>False</td>\n",
       "      <td>False</td>\n",
       "      <td>False</td>\n",
       "      <td>False</td>\n",
       "    </tr>\n",
       "    <tr>\n",
       "      <th>piano</th>\n",
       "      <td>False</td>\n",
       "      <td>False</td>\n",
       "      <td>False</td>\n",
       "      <td>False</td>\n",
       "    </tr>\n",
       "    <tr>\n",
       "      <th>safe</th>\n",
       "      <td>False</td>\n",
       "      <td>False</td>\n",
       "      <td>False</td>\n",
       "      <td>False</td>\n",
       "    </tr>\n",
       "    <tr>\n",
       "      <th>bulding_materials</th>\n",
       "      <td>False</td>\n",
       "      <td>False</td>\n",
       "      <td>False</td>\n",
       "      <td>False</td>\n",
       "    </tr>\n",
       "    <tr>\n",
       "      <th>animals</th>\n",
       "      <td>False</td>\n",
       "      <td>False</td>\n",
       "      <td>False</td>\n",
       "      <td>False</td>\n",
       "    </tr>\n",
       "    <tr>\n",
       "      <th>food</th>\n",
       "      <td>False</td>\n",
       "      <td>False</td>\n",
       "      <td>False</td>\n",
       "      <td>False</td>\n",
       "    </tr>\n",
       "    <tr>\n",
       "      <th>furniture</th>\n",
       "      <td>False</td>\n",
       "      <td>False</td>\n",
       "      <td>False</td>\n",
       "      <td>False</td>\n",
       "    </tr>\n",
       "    <tr>\n",
       "      <th>appliances</th>\n",
       "      <td>False</td>\n",
       "      <td>False</td>\n",
       "      <td>False</td>\n",
       "      <td>False</td>\n",
       "    </tr>\n",
       "    <tr>\n",
       "      <th>driver_id</th>\n",
       "      <td>1459</td>\n",
       "      <td>1438</td>\n",
       "      <td>1430</td>\n",
       "      <td>1428</td>\n",
       "    </tr>\n",
       "    <tr>\n",
       "      <th>driver_status</th>\n",
       "      <td>rest</td>\n",
       "      <td>rest</td>\n",
       "      <td>rest</td>\n",
       "      <td>rest</td>\n",
       "    </tr>\n",
       "    <tr>\n",
       "      <th>in_staff</th>\n",
       "      <td>False</td>\n",
       "      <td>False</td>\n",
       "      <td>False</td>\n",
       "      <td>False</td>\n",
       "    </tr>\n",
       "    <tr>\n",
       "      <th>has_main_job</th>\n",
       "      <td>False</td>\n",
       "      <td>False</td>\n",
       "      <td>False</td>\n",
       "      <td>False</td>\n",
       "    </tr>\n",
       "    <tr>\n",
       "      <th>smoking</th>\n",
       "      <td>False</td>\n",
       "      <td>False</td>\n",
       "      <td>False</td>\n",
       "      <td>False</td>\n",
       "    </tr>\n",
       "    <tr>\n",
       "      <th>children</th>\n",
       "      <td>False</td>\n",
       "      <td>False</td>\n",
       "      <td>False</td>\n",
       "      <td>False</td>\n",
       "    </tr>\n",
       "    <tr>\n",
       "      <th>has_familiar_loaders</th>\n",
       "      <td>False</td>\n",
       "      <td>False</td>\n",
       "      <td>False</td>\n",
       "      <td>False</td>\n",
       "    </tr>\n",
       "    <tr>\n",
       "      <th>has_legal_entity</th>\n",
       "      <td>False</td>\n",
       "      <td>False</td>\n",
       "      <td>False</td>\n",
       "      <td>False</td>\n",
       "    </tr>\n",
       "    <tr>\n",
       "      <th>user_id</th>\n",
       "      <td>15155</td>\n",
       "      <td>15127</td>\n",
       "      <td>15116</td>\n",
       "      <td>15114</td>\n",
       "    </tr>\n",
       "    <tr>\n",
       "      <th>user_phone</th>\n",
       "      <td>79653222470</td>\n",
       "      <td>79267791230</td>\n",
       "      <td>79060559236</td>\n",
       "      <td>79287505200</td>\n",
       "    </tr>\n",
       "    <tr>\n",
       "      <th>surname</th>\n",
       "      <td>Щавелев</td>\n",
       "      <td>Суницкий</td>\n",
       "      <td>Алексеев</td>\n",
       "      <td>Алешков</td>\n",
       "    </tr>\n",
       "    <tr>\n",
       "      <th>name</th>\n",
       "      <td>Евгений</td>\n",
       "      <td>Иван</td>\n",
       "      <td>Артём</td>\n",
       "      <td>Виталий</td>\n",
       "    </tr>\n",
       "    <tr>\n",
       "      <th>partonymic</th>\n",
       "      <td>Николаевич</td>\n",
       "      <td>Иванович</td>\n",
       "      <td>Михайлович</td>\n",
       "      <td>Александрович</td>\n",
       "    </tr>\n",
       "    <tr>\n",
       "      <th>user_is_test</th>\n",
       "      <td>False</td>\n",
       "      <td>False</td>\n",
       "      <td>False</td>\n",
       "      <td>False</td>\n",
       "    </tr>\n",
       "    <tr>\n",
       "      <th>user_rating</th>\n",
       "      <td>4.5</td>\n",
       "      <td>4.5</td>\n",
       "      <td>4.5</td>\n",
       "      <td>4.5</td>\n",
       "    </tr>\n",
       "    <tr>\n",
       "      <th>user_created_at</th>\n",
       "      <td>2020-12-22 22:56:13</td>\n",
       "      <td>2020-12-18 19:19:22</td>\n",
       "      <td>2020-12-18 00:57:56</td>\n",
       "      <td>2020-12-17 23:37:32</td>\n",
       "    </tr>\n",
       "    <tr>\n",
       "      <th>user_updated_at</th>\n",
       "      <td>2020-12-22 23:20:04</td>\n",
       "      <td>2021-01-11 13:19:37</td>\n",
       "      <td>2020-12-18 01:20:04</td>\n",
       "      <td>2020-12-18 00:20:04</td>\n",
       "    </tr>\n",
       "    <tr>\n",
       "      <th>auth_id</th>\n",
       "      <td>15048</td>\n",
       "      <td>15020</td>\n",
       "      <td>15009</td>\n",
       "      <td>15007</td>\n",
       "    </tr>\n",
       "    <tr>\n",
       "      <th>auth_phone</th>\n",
       "      <td>79653222470</td>\n",
       "      <td>79267791230</td>\n",
       "      <td>79060559236</td>\n",
       "      <td>79287505200</td>\n",
       "    </tr>\n",
       "    <tr>\n",
       "      <th>auth_is_active</th>\n",
       "      <td>True</td>\n",
       "      <td>True</td>\n",
       "      <td>True</td>\n",
       "      <td>True</td>\n",
       "    </tr>\n",
       "    <tr>\n",
       "      <th>auth_updated_at</th>\n",
       "      <td>2020-12-23 10:06:24</td>\n",
       "      <td>2021-01-05 17:29:50</td>\n",
       "      <td>2020-12-18 01:22:28</td>\n",
       "      <td>2020-12-17 23:37:32</td>\n",
       "    </tr>\n",
       "    <tr>\n",
       "      <th>auth_online_at</th>\n",
       "      <td>2021-03-01 13:18:04</td>\n",
       "      <td>2021-09-16 11:15:19</td>\n",
       "      <td>2020-12-18 06:50:01</td>\n",
       "      <td>NaT</td>\n",
       "    </tr>\n",
       "    <tr>\n",
       "      <th>online_date</th>\n",
       "      <td>2021-03-01</td>\n",
       "      <td>2021-09-16</td>\n",
       "      <td>2020-12-18</td>\n",
       "      <td>NaT</td>\n",
       "    </tr>\n",
       "    <tr>\n",
       "      <th>auth_online_date</th>\n",
       "      <td>2021-03-01</td>\n",
       "      <td>2021-09-16</td>\n",
       "      <td>2020-12-18</td>\n",
       "      <td>NaT</td>\n",
       "    </tr>\n",
       "    <tr>\n",
       "      <th>online_hour</th>\n",
       "      <td>13.0</td>\n",
       "      <td>11.0</td>\n",
       "      <td>6.0</td>\n",
       "      <td>NaN</td>\n",
       "    </tr>\n",
       "    <tr>\n",
       "      <th>start_date</th>\n",
       "      <td>2020-12-22</td>\n",
       "      <td>2020-12-21</td>\n",
       "      <td>2020-12-18</td>\n",
       "      <td>2020-12-17</td>\n",
       "    </tr>\n",
       "    <tr>\n",
       "      <th>start_month</th>\n",
       "      <td>12</td>\n",
       "      <td>12</td>\n",
       "      <td>12</td>\n",
       "      <td>12</td>\n",
       "    </tr>\n",
       "    <tr>\n",
       "      <th>end_date</th>\n",
       "      <td>2025-12-22</td>\n",
       "      <td>2025-12-20</td>\n",
       "      <td>2025-12-18</td>\n",
       "      <td>2025-12-17</td>\n",
       "    </tr>\n",
       "  </tbody>\n",
       "</table>\n",
       "</div>"
      ],
      "text/plain": [
       "                                         46                      47  \\\n",
       "online_at               2021-03-01 13:18:04     2021-09-16 11:15:19   \n",
       "id                                     8351                    8346   \n",
       "loaders                                   0                       0   \n",
       "self_loader                            True                    True   \n",
       "taxi                                   True                    True   \n",
       "start_at                2020-12-22 22:59:00     2020-12-21 14:40:00   \n",
       "end_at                  2025-12-22 22:59:00     2025-12-20 20:30:00   \n",
       "lat                               56.014812               55.844705   \n",
       "lon                                37.22275               37.449644   \n",
       "receive_delivery                       True                    True   \n",
       "last_point_at           2021-02-22 20:05:21     2021-09-16 11:11:42   \n",
       "created_at              2020-12-22 23:00:00     2020-12-21 14:39:56   \n",
       "mini                                   True                    True   \n",
       "standart                              False                   False   \n",
       "extra                                 False                   False   \n",
       "maxi                                  False                   False   \n",
       "freighter_id                              1                       1   \n",
       "driver_freighter_id                       1                       1   \n",
       "car_freighter_id                          1                       1   \n",
       "car_id                                 1662                    1655   \n",
       "car_model                  Citroen Berlingo  Volkswagen Transporter   \n",
       "car_active                             True                    True   \n",
       "car_number                        Р806ХМ777               Т659ТР178   \n",
       "car_capacity                            0_7                      _1   \n",
       "car_year                              _2013                   _2008   \n",
       "car_type              Czel_nometallicheskij   Czel_nometallicheskij   \n",
       "car_elevator                          False                   False   \n",
       "cart                                  False                   False   \n",
       "straps                                False                   False   \n",
       "tools                                 False                   False   \n",
       "ttk                                   False                    True   \n",
       "sk                                    False                    True   \n",
       "mkad                                  False                    True   \n",
       "length                                  1.5                     2.5   \n",
       "width                                  1.25                     1.5   \n",
       "height                                  1.0                     1.3   \n",
       "volume                                  2.0                    4.88   \n",
       "width_min                              1.15                    1.23   \n",
       "apartment_moving                      False                   False   \n",
       "office_moving                         False                   False   \n",
       "unlim                                 False                   False   \n",
       "truck_taxi                            False                   False   \n",
       "piano                                 False                   False   \n",
       "safe                                  False                   False   \n",
       "bulding_materials                     False                   False   \n",
       "animals                               False                   False   \n",
       "food                                  False                   False   \n",
       "furniture                             False                   False   \n",
       "appliances                            False                   False   \n",
       "driver_id                              1459                    1438   \n",
       "driver_status                          rest                    rest   \n",
       "in_staff                              False                   False   \n",
       "has_main_job                          False                   False   \n",
       "smoking                               False                   False   \n",
       "children                              False                   False   \n",
       "has_familiar_loaders                  False                   False   \n",
       "has_legal_entity                      False                   False   \n",
       "user_id                               15155                   15127   \n",
       "user_phone                      79653222470             79267791230   \n",
       "surname                             Щавелев                Суницкий   \n",
       "name                                Евгений                    Иван   \n",
       "partonymic                       Николаевич                Иванович   \n",
       "user_is_test                          False                   False   \n",
       "user_rating                             4.5                     4.5   \n",
       "user_created_at         2020-12-22 22:56:13     2020-12-18 19:19:22   \n",
       "user_updated_at         2020-12-22 23:20:04     2021-01-11 13:19:37   \n",
       "auth_id                               15048                   15020   \n",
       "auth_phone                      79653222470             79267791230   \n",
       "auth_is_active                         True                    True   \n",
       "auth_updated_at         2020-12-23 10:06:24     2021-01-05 17:29:50   \n",
       "auth_online_at          2021-03-01 13:18:04     2021-09-16 11:15:19   \n",
       "online_date                      2021-03-01              2021-09-16   \n",
       "auth_online_date                 2021-03-01              2021-09-16   \n",
       "online_hour                            13.0                    11.0   \n",
       "start_date                       2020-12-22              2020-12-21   \n",
       "start_month                              12                      12   \n",
       "end_date                         2025-12-22              2025-12-20   \n",
       "\n",
       "                                       48                   49  \n",
       "online_at             2020-12-18 06:50:01                  NaT  \n",
       "id                                   8307                 8305  \n",
       "loaders                                 0                    0  \n",
       "self_loader                         False                False  \n",
       "taxi                                 True                 True  \n",
       "start_at              2020-12-18 01:00:00  2020-12-17 23:39:00  \n",
       "end_at                2025-12-18 01:00:00  2025-12-17 23:39:00  \n",
       "lat                             55.813279                  NaN  \n",
       "lon                             37.824041                  NaN  \n",
       "receive_delivery                     True                 True  \n",
       "last_point_at         2020-12-18 01:22:53                  NaT  \n",
       "created_at            2020-12-18 01:00:51  2020-12-17 23:39:47  \n",
       "mini                                False                 True  \n",
       "standart                            False                False  \n",
       "extra                                True                False  \n",
       "maxi                                False                False  \n",
       "freighter_id                            1                    1  \n",
       "driver_freighter_id                     1                    1  \n",
       "car_freighter_id                        1                    1  \n",
       "car_id                               1632                  191  \n",
       "car_model                    GAZelle NEXT              GAZelle  \n",
       "car_active                           True                 True  \n",
       "car_number                      Н089ЕВ799            В302ХВ777  \n",
       "car_capacity                          1_5                   _1  \n",
       "car_year                             None                 None  \n",
       "car_type                             Tent               Furgon  \n",
       "car_elevator                        False                False  \n",
       "cart                                False                False  \n",
       "straps                              False                False  \n",
       "tools                               False                False  \n",
       "ttk                                 False                 True  \n",
       "sk                                  False                False  \n",
       "mkad                                False                False  \n",
       "length                                4.0                  3.0  \n",
       "width                                 2.0                  1.9  \n",
       "height                                2.1                  1.9  \n",
       "volume                               17.0                  NaN  \n",
       "width_min                             NaN                  NaN  \n",
       "apartment_moving                    False                False  \n",
       "office_moving                       False                False  \n",
       "unlim                               False                False  \n",
       "truck_taxi                          False                False  \n",
       "piano                               False                False  \n",
       "safe                                False                False  \n",
       "bulding_materials                   False                False  \n",
       "animals                             False                False  \n",
       "food                                False                False  \n",
       "furniture                           False                False  \n",
       "appliances                          False                False  \n",
       "driver_id                            1430                 1428  \n",
       "driver_status                        rest                 rest  \n",
       "in_staff                            False                False  \n",
       "has_main_job                        False                False  \n",
       "smoking                             False                False  \n",
       "children                            False                False  \n",
       "has_familiar_loaders                False                False  \n",
       "has_legal_entity                    False                False  \n",
       "user_id                             15116                15114  \n",
       "user_phone                    79060559236          79287505200  \n",
       "surname                          Алексеев              Алешков  \n",
       "name                                Артём              Виталий  \n",
       "partonymic                     Михайлович        Александрович  \n",
       "user_is_test                        False                False  \n",
       "user_rating                           4.5                  4.5  \n",
       "user_created_at       2020-12-18 00:57:56  2020-12-17 23:37:32  \n",
       "user_updated_at       2020-12-18 01:20:04  2020-12-18 00:20:04  \n",
       "auth_id                             15009                15007  \n",
       "auth_phone                    79060559236          79287505200  \n",
       "auth_is_active                       True                 True  \n",
       "auth_updated_at       2020-12-18 01:22:28  2020-12-17 23:37:32  \n",
       "auth_online_at        2020-12-18 06:50:01                  NaT  \n",
       "online_date                    2020-12-18                  NaT  \n",
       "auth_online_date               2020-12-18                  NaT  \n",
       "online_hour                           6.0                  NaN  \n",
       "start_date                     2020-12-18           2020-12-17  \n",
       "start_month                            12                   12  \n",
       "end_date                       2025-12-18           2025-12-17  "
      ]
     },
     "execution_count": 45,
     "metadata": {},
     "output_type": "execute_result"
    }
   ],
   "source": [
    "pd.set_option('display.max_rows', None)\n",
    "own_crews[own_crews['freighter_id'] == 1].T"
   ]
  },
  {
   "cell_type": "code",
   "execution_count": 46,
   "id": "0633d824",
   "metadata": {},
   "outputs": [
    {
     "data": {
      "text/plain": [
       "<AxesSubplot:xlabel='car_year'>"
      ]
     },
     "execution_count": 46,
     "metadata": {},
     "output_type": "execute_result"
    },
    {
     "data": {
      "image/png": "[encoded data removed]",
      "text/plain": [
       "<Figure size 432x288 with 1 Axes>"
      ]
     },
     "metadata": {
      "needs_background": "light"
     },
     "output_type": "display_data"
    }
   ],
   "source": [
    "own_crews.groupby('car_year').agg({'id': 'nunique'}).plot.bar()"
   ]
  },
  {
   "cell_type": "code",
   "execution_count": null,
   "id": "b7c80a67",
   "metadata": {},
   "outputs": [],
   "source": []
  },
  {
   "cell_type": "markdown",
   "id": "225cccb9",
   "metadata": {},
   "source": [
    "#### Актуальные экипажи на карте\n",
    "\n",
    "https://ipyleaflet.readthedocs.io/en/latest/\n",
    "\n",
    "https://carpentries-incubator.github.io/jupyter_maps/01-introduction/index.html\n",
    "\n",
    "https://dges.carleton.ca/CUOSGwiki/index.php/Creating_Maps_in_Jupyter_Notebook_using_GeoPandas_and_CartoPy"
   ]
  },
  {
   "cell_type": "code",
   "execution_count": 47,
   "id": "b35d7ccc",
   "metadata": {},
   "outputs": [
    {
     "data": {
      "text/plain": [
       "<AxesSubplot:xlabel='lat', ylabel='lon'>"
      ]
     },
     "execution_count": 47,
     "metadata": {},
     "output_type": "execute_result"
    },
    {
     "data": {
      "image/png": "[encoded data removed]",
      "text/plain": [
       "<Figure size 864x432 with 1 Axes>"
      ]
     },
     "metadata": {
      "needs_background": "light"
     },
     "output_type": "display_data"
    }
   ],
   "source": [
    "own_crews.plot.scatter(x='lat', y='lon', figsize=FIGSIZE)"
   ]
  },
  {
   "cell_type": "code",
   "execution_count": 48,
   "id": "a51c7a94",
   "metadata": {},
   "outputs": [
    {
     "data": {
      "image/png": "[encoded data removed]",
      "text/plain": [
       "<Figure size 864x432 with 1 Axes>"
      ]
     },
     "metadata": {
      "needs_background": "light"
     },
     "output_type": "display_data"
    }
   ],
   "source": [
    "horizon = datetime.datetime.now() - datetime.timedelta(days=30)\n",
    "own_crews.query('online_at > @horizon').plot.scatter(x='lat', y='lon', figsize=FIGSIZE)\n",
    "plt.show()"
   ]
  },
  {
   "cell_type": "code",
   "execution_count": 49,
   "id": "eaea4644",
   "metadata": {
    "scrolled": false
   },
   "outputs": [
    {
     "data": {
      "text/html": [
       "<div>\n",
       "<style scoped>\n",
       "    .dataframe tbody tr th:only-of-type {\n",
       "        vertical-align: middle;\n",
       "    }\n",
       "\n",
       "    .dataframe tbody tr th {\n",
       "        vertical-align: top;\n",
       "    }\n",
       "\n",
       "    .dataframe thead th {\n",
       "        text-align: right;\n",
       "    }\n",
       "</style>\n",
       "<table border=\"1\" class=\"dataframe\">\n",
       "  <thead>\n",
       "    <tr style=\"text-align: right;\">\n",
       "      <th></th>\n",
       "      <th>id</th>\n",
       "    </tr>\n",
       "    <tr>\n",
       "      <th>car_model</th>\n",
       "      <th></th>\n",
       "    </tr>\n",
       "  </thead>\n",
       "  <tbody>\n",
       "    <tr>\n",
       "      <th>Газель</th>\n",
       "      <td>449</td>\n",
       "    </tr>\n",
       "    <tr>\n",
       "      <th></th>\n",
       "      <td>216</td>\n",
       "    </tr>\n",
       "    <tr>\n",
       "      <th>GAZelle Бизнес</th>\n",
       "      <td>190</td>\n",
       "    </tr>\n",
       "    <tr>\n",
       "      <th>Лада Ларгус</th>\n",
       "      <td>61</td>\n",
       "    </tr>\n",
       "    <tr>\n",
       "      <th>GAZelle Next</th>\n",
       "      <td>47</td>\n",
       "    </tr>\n",
       "    <tr>\n",
       "      <th>GAZelle</th>\n",
       "      <td>41</td>\n",
       "    </tr>\n",
       "    <tr>\n",
       "      <th>Peugeot Boxer</th>\n",
       "      <td>32</td>\n",
       "    </tr>\n",
       "    <tr>\n",
       "      <th>Fiat Ducato</th>\n",
       "      <td>30</td>\n",
       "    </tr>\n",
       "    <tr>\n",
       "      <th>Hyundai Porter</th>\n",
       "      <td>28</td>\n",
       "    </tr>\n",
       "    <tr>\n",
       "      <th>Gazelle Бизнес</th>\n",
       "      <td>27</td>\n",
       "    </tr>\n",
       "    <tr>\n",
       "      <th>Lada Largus</th>\n",
       "      <td>24</td>\n",
       "    </tr>\n",
       "    <tr>\n",
       "      <th>Ford Transit</th>\n",
       "      <td>24</td>\n",
       "    </tr>\n",
       "    <tr>\n",
       "      <th>ГАЗ</th>\n",
       "      <td>19</td>\n",
       "    </tr>\n",
       "    <tr>\n",
       "      <th>GAZelle Sobol</th>\n",
       "      <td>15</td>\n",
       "    </tr>\n",
       "    <tr>\n",
       "      <th>Mercedes Benz Sprinter</th>\n",
       "      <td>14</td>\n",
       "    </tr>\n",
       "    <tr>\n",
       "      <th>Citroen Jumper</th>\n",
       "      <td>11</td>\n",
       "    </tr>\n",
       "    <tr>\n",
       "      <th>Газель бизнес</th>\n",
       "      <td>10</td>\n",
       "    </tr>\n",
       "    <tr>\n",
       "      <th>Лада</th>\n",
       "      <td>8</td>\n",
       "    </tr>\n",
       "    <tr>\n",
       "      <th>Peugeot Partner</th>\n",
       "      <td>6</td>\n",
       "    </tr>\n",
       "    <tr>\n",
       "      <th>Газель Нексия</th>\n",
       "      <td>6</td>\n",
       "    </tr>\n",
       "    <tr>\n",
       "      <th>Газель Бизнес</th>\n",
       "      <td>6</td>\n",
       "    </tr>\n",
       "    <tr>\n",
       "      <th>Газель</th>\n",
       "      <td>5</td>\n",
       "    </tr>\n",
       "    <tr>\n",
       "      <th>газель</th>\n",
       "      <td>4</td>\n",
       "    </tr>\n",
       "    <tr>\n",
       "      <th>Citroen Berlingo</th>\n",
       "      <td>4</td>\n",
       "    </tr>\n",
       "    <tr>\n",
       "      <th>Iveco Daily</th>\n",
       "      <td>4</td>\n",
       "    </tr>\n",
       "    <tr>\n",
       "      <th>BAW Fenix</th>\n",
       "      <td>3</td>\n",
       "    </tr>\n",
       "    <tr>\n",
       "      <th>Тестовая машина(СТАНДАРТ)</th>\n",
       "      <td>3</td>\n",
       "    </tr>\n",
       "    <tr>\n",
       "      <th>Volkswagen Transporter</th>\n",
       "      <td>3</td>\n",
       "    </tr>\n",
       "    <tr>\n",
       "      <th>Тестовая машина(ЭКСТРА)</th>\n",
       "      <td>3</td>\n",
       "    </tr>\n",
       "    <tr>\n",
       "      <th>ГАЗ Нексия</th>\n",
       "      <td>3</td>\n",
       "    </tr>\n",
       "  </tbody>\n",
       "</table>\n",
       "</div>"
      ],
      "text/plain": [
       "                            id\n",
       "car_model                     \n",
       "Газель                     449\n",
       "                           216\n",
       "GAZelle Бизнес             190\n",
       "Лада Ларгус                 61\n",
       "GAZelle Next                47\n",
       "GAZelle                     41\n",
       "Peugeot Boxer               32\n",
       "Fiat Ducato                 30\n",
       "Hyundai Porter              28\n",
       "Gazelle Бизнес              27\n",
       "Lada Largus                 24\n",
       "Ford Transit                24\n",
       "ГАЗ                         19\n",
       "GAZelle Sobol               15\n",
       "Mercedes Benz Sprinter      14\n",
       "Citroen Jumper              11\n",
       "Газель бизнес               10\n",
       "Лада                         8\n",
       "Peugeot Partner              6\n",
       "Газель Нексия                6\n",
       "Газель Бизнес                6\n",
       "Газель                       5\n",
       "газель                       4\n",
       "Citroen Berlingo             4\n",
       "Iveco Daily                  4\n",
       "BAW Fenix                    3\n",
       "Тестовая машина(СТАНДАРТ)    3\n",
       "Volkswagen Transporter       3\n",
       "Тестовая машина(ЭКСТРА)      3\n",
       "ГАЗ Нексия                   3"
      ]
     },
     "execution_count": 49,
     "metadata": {},
     "output_type": "execute_result"
    }
   ],
   "source": [
    "all_crews.groupby('car_model').agg({'id': 'nunique'}).sort_values('id', ascending=False).head(30)"
   ]
  },
  {
   "cell_type": "code",
   "execution_count": 50,
   "id": "05f30a03",
   "metadata": {},
   "outputs": [
    {
     "data": {
      "text/html": [
       "<div>\n",
       "<style scoped>\n",
       "    .dataframe tbody tr th:only-of-type {\n",
       "        vertical-align: middle;\n",
       "    }\n",
       "\n",
       "    .dataframe tbody tr th {\n",
       "        vertical-align: top;\n",
       "    }\n",
       "\n",
       "    .dataframe thead th {\n",
       "        text-align: right;\n",
       "    }\n",
       "</style>\n",
       "<table border=\"1\" class=\"dataframe\">\n",
       "  <thead>\n",
       "    <tr style=\"text-align: right;\">\n",
       "      <th></th>\n",
       "      <th>id</th>\n",
       "    </tr>\n",
       "    <tr>\n",
       "      <th>car_model</th>\n",
       "      <th></th>\n",
       "    </tr>\n",
       "  </thead>\n",
       "  <tbody>\n",
       "    <tr>\n",
       "      <th>GAZelle Бизнес</th>\n",
       "      <td>57</td>\n",
       "    </tr>\n",
       "    <tr>\n",
       "      <th>GAZelle Next</th>\n",
       "      <td>41</td>\n",
       "    </tr>\n",
       "    <tr>\n",
       "      <th>Peugeot Boxer</th>\n",
       "      <td>31</td>\n",
       "    </tr>\n",
       "    <tr>\n",
       "      <th>Fiat Ducato</th>\n",
       "      <td>28</td>\n",
       "    </tr>\n",
       "    <tr>\n",
       "      <th>Hyundai Porter</th>\n",
       "      <td>24</td>\n",
       "    </tr>\n",
       "    <tr>\n",
       "      <th>Ford Transit</th>\n",
       "      <td>22</td>\n",
       "    </tr>\n",
       "    <tr>\n",
       "      <th>Lada Largus</th>\n",
       "      <td>21</td>\n",
       "    </tr>\n",
       "    <tr>\n",
       "      <th>GAZelle Sobol</th>\n",
       "      <td>15</td>\n",
       "    </tr>\n",
       "    <tr>\n",
       "      <th>GAZelle</th>\n",
       "      <td>13</td>\n",
       "    </tr>\n",
       "    <tr>\n",
       "      <th>Mercedes Benz Sprinter</th>\n",
       "      <td>12</td>\n",
       "    </tr>\n",
       "    <tr>\n",
       "      <th>Gazelle Бизнес</th>\n",
       "      <td>9</td>\n",
       "    </tr>\n",
       "    <tr>\n",
       "      <th>Citroen Jumper</th>\n",
       "      <td>9</td>\n",
       "    </tr>\n",
       "    <tr>\n",
       "      <th>Peugeot Partner</th>\n",
       "      <td>6</td>\n",
       "    </tr>\n",
       "    <tr>\n",
       "      <th>Iveco Daily</th>\n",
       "      <td>4</td>\n",
       "    </tr>\n",
       "    <tr>\n",
       "      <th>Peugeot Expert</th>\n",
       "      <td>3</td>\n",
       "    </tr>\n",
       "    <tr>\n",
       "      <th>GAZelle NEXT</th>\n",
       "      <td>3</td>\n",
       "    </tr>\n",
       "    <tr>\n",
       "      <th>Citroen Berlingo</th>\n",
       "      <td>3</td>\n",
       "    </tr>\n",
       "    <tr>\n",
       "      <th>Volkswagen Transporter</th>\n",
       "      <td>3</td>\n",
       "    </tr>\n",
       "    <tr>\n",
       "      <th>Renault Kangoo</th>\n",
       "      <td>2</td>\n",
       "    </tr>\n",
       "    <tr>\n",
       "      <th>BAW</th>\n",
       "      <td>2</td>\n",
       "    </tr>\n",
       "    <tr>\n",
       "      <th>Toyota Town Ace</th>\n",
       "      <td>2</td>\n",
       "    </tr>\n",
       "    <tr>\n",
       "      <th>Volkswagen Caddy</th>\n",
       "      <td>2</td>\n",
       "    </tr>\n",
       "    <tr>\n",
       "      <th>Volkswagen Crafter</th>\n",
       "      <td>2</td>\n",
       "    </tr>\n",
       "    <tr>\n",
       "      <th>lada largus</th>\n",
       "      <td>2</td>\n",
       "    </tr>\n",
       "    <tr>\n",
       "      <th>ГАЗ Газель</th>\n",
       "      <td>2</td>\n",
       "    </tr>\n",
       "    <tr>\n",
       "      <th>Газ NEXt фермер</th>\n",
       "      <td>2</td>\n",
       "    </tr>\n",
       "    <tr>\n",
       "      <th>Газель</th>\n",
       "      <td>2</td>\n",
       "    </tr>\n",
       "    <tr>\n",
       "      <th>Kia Bongo</th>\n",
       "      <td>2</td>\n",
       "    </tr>\n",
       "    <tr>\n",
       "      <th>Lada ВИС</th>\n",
       "      <td>2</td>\n",
       "    </tr>\n",
       "    <tr>\n",
       "      <th>Foton</th>\n",
       "      <td>2</td>\n",
       "    </tr>\n",
       "  </tbody>\n",
       "</table>\n",
       "</div>"
      ],
      "text/plain": [
       "                        id\n",
       "car_model                 \n",
       "GAZelle Бизнес          57\n",
       "GAZelle Next            41\n",
       "Peugeot Boxer           31\n",
       "Fiat Ducato             28\n",
       "Hyundai Porter          24\n",
       "Ford Transit            22\n",
       "Lada Largus             21\n",
       "GAZelle Sobol           15\n",
       "GAZelle                 13\n",
       "Mercedes Benz Sprinter  12\n",
       "Gazelle Бизнес           9\n",
       "Citroen Jumper           9\n",
       "Peugeot Partner          6\n",
       "Iveco Daily              4\n",
       "Peugeot Expert           3\n",
       "GAZelle NEXT             3\n",
       "Citroen Berlingo         3\n",
       "Volkswagen Transporter   3\n",
       "Renault Kangoo           2\n",
       "BAW                      2\n",
       "Toyota Town Ace          2\n",
       "Volkswagen Caddy         2\n",
       "Volkswagen Crafter       2\n",
       "lada largus              2\n",
       "ГАЗ Газель               2\n",
       "Газ NEXt фермер          2\n",
       "Газель                   2\n",
       "Kia Bongo                2\n",
       "Lada ВИС                 2\n",
       "Foton                    2"
      ]
     },
     "execution_count": 50,
     "metadata": {},
     "output_type": "execute_result"
    }
   ],
   "source": [
    "own_crews.groupby('car_model').agg({'id': 'nunique'}).sort_values('id', ascending=False).head(30)"
   ]
  },
  {
   "cell_type": "code",
   "execution_count": null,
   "id": "76d502b7",
   "metadata": {},
   "outputs": [],
   "source": []
  },
  {
   "cell_type": "code",
   "execution_count": 51,
   "id": "8c02fa2a",
   "metadata": {},
   "outputs": [
    {
     "data": {
      "image/png": "[encoded data removed]",
      "text/plain": [
       "<Figure size 864x432 with 1 Axes>"
      ]
     },
     "metadata": {
      "needs_background": "light"
     },
     "output_type": "display_data"
    }
   ],
   "source": [
    "horizon = datetime.datetime.now() - datetime.timedelta(days=30)\n",
    "own_crews.query('online_at > @horizon').plot.scatter(\n",
    "    x='length', y='width', alpha=.3, figsize=FIGSIZE)\n",
    "plt.show()"
   ]
  },
  {
   "cell_type": "code",
   "execution_count": 52,
   "id": "2b9d996f",
   "metadata": {},
   "outputs": [
    {
     "data": {
      "image/png": "[encoded data removed]",
      "text/plain": [
       "<Figure size 720x576 with 2 Axes>"
      ]
     },
     "metadata": {
      "needs_background": "light"
     },
     "output_type": "display_data"
    }
   ],
   "source": [
    "horizon = datetime.datetime.now() - datetime.timedelta(days=30)\n",
    "own_crews.query('online_at > @horizon').plot.hexbin(\n",
    "    x='length', y='width', gridsize=16, figsize=(10,8))\n",
    "plt.show()"
   ]
  },
  {
   "cell_type": "code",
   "execution_count": 53,
   "id": "a2546847",
   "metadata": {},
   "outputs": [],
   "source": [
    "def set_tariff(row):\n",
    "    if row['mini'] and not row['standart']:\n",
    "        return 'mini'\n",
    "    elif row['standart'] and not row['extra']:\n",
    "        return 'standart'\n",
    "    elif row['extra'] and not row['maxi']:\n",
    "        return 'extra'\n",
    "    return 'maxi'\n",
    "\n",
    "own_crews['tariff'] = own_crews.apply(set_tariff, axis=1)"
   ]
  },
  {
   "cell_type": "code",
   "execution_count": 54,
   "id": "8244bc0a",
   "metadata": {},
   "outputs": [
    {
     "data": {
      "text/plain": [
       "<AxesSubplot:ylabel='id'>"
      ]
     },
     "execution_count": 54,
     "metadata": {},
     "output_type": "execute_result"
    },
    {
     "data": {
      "image/png": "[encoded data removed]",
      "text/plain": [
       "<Figure size 432x288 with 1 Axes>"
      ]
     },
     "metadata": {},
     "output_type": "display_data"
    }
   ],
   "source": [
    "own_crews.groupby('tariff').agg({'id': 'count'}).plot.pie(y='id')"
   ]
  },
  {
   "cell_type": "code",
   "execution_count": 55,
   "id": "f1b2de2c",
   "metadata": {
    "scrolled": true
   },
   "outputs": [
    {
     "data": {
      "text/plain": [
       "<AxesSubplot:ylabel='id'>"
      ]
     },
     "execution_count": 55,
     "metadata": {},
     "output_type": "execute_result"
    },
    {
     "data": {
      "image/png": "[encoded data removed]",
      "text/plain": [
       "<Figure size 432x288 with 1 Axes>"
      ]
     },
     "metadata": {},
     "output_type": "display_data"
    }
   ],
   "source": [
    "own_crews.query('online_at > @horizon').groupby('tariff').agg({'id': 'count'}).plot.pie(y='id')"
   ]
  },
  {
   "cell_type": "code",
   "execution_count": 56,
   "id": "12c4e099",
   "metadata": {},
   "outputs": [
    {
     "data": {
      "image/png": "[encoded data removed]",
      "text/plain": [
       "<Figure size 720x576 with 2 Axes>"
      ]
     },
     "metadata": {
      "needs_background": "light"
     },
     "output_type": "display_data"
    }
   ],
   "source": [
    "horizon = datetime.datetime.now() - datetime.timedelta(days=30)\n",
    "own_crews.query('online_at > @horizon').plot.hexbin(\n",
    "    x='width', y='height', gridsize=16, figsize=(10,8))\n",
    "plt.show()"
   ]
  },
  {
   "cell_type": "code",
   "execution_count": 57,
   "id": "21b72c71",
   "metadata": {},
   "outputs": [
    {
     "data": {
      "image/png": "[encoded data removed]",
      "text/plain": [
       "<Figure size 864x432 with 1 Axes>"
      ]
     },
     "metadata": {
      "needs_background": "light"
     },
     "output_type": "display_data"
    }
   ],
   "source": [
    "horizon = datetime.datetime.now() - datetime.timedelta(days=30)\n",
    "own_crews.query('online_at > @horizon').plot.scatter(\n",
    "    x='width', y='height', alpha=.3, figsize=FIGSIZE)\n",
    "plt.show()"
   ]
  },
  {
   "cell_type": "code",
   "execution_count": null,
   "id": "455c0857",
   "metadata": {},
   "outputs": [],
   "source": []
  },
  {
   "cell_type": "markdown",
   "id": "5a2d9c93",
   "metadata": {},
   "source": [
    "## Анализ заявок и заказов"
   ]
  },
  {
   "cell_type": "code",
   "execution_count": 58,
   "id": "662f3cb7",
   "metadata": {},
   "outputs": [],
   "source": [
    "def get_keys_text(source):\n",
    "    \"\"\"Count keys used in all dictionnaries.\n",
    "    \n",
    "    For list of dicts.\n",
    "    \"\"\"\n",
    "    keys = collections.Counter()\n",
    "    for item in source:\n",
    "        keys.update(d.keys())\n",
    "    lines = []\n",
    "    for key, value in keys.most_common():\n",
    "        lines.append('{} : {}'.format(key, value))\n",
    "    return '\\n'.join(lines)"
   ]
  },
  {
   "cell_type": "code",
   "execution_count": 59,
   "id": "25578cda",
   "metadata": {},
   "outputs": [
    {
     "ename": "FileNotFoundError",
     "evalue": "[Errno 2] No such file or directory: 'C:/users/okean/code/operatto/var/mover/support/me/drafts'",
     "output_type": "error",
     "traceback": [
      "\u001b[0;31m---------------------------------------------------------------------------\u001b[0m",
      "\u001b[0;31mFileNotFoundError\u001b[0m                         Traceback (most recent call last)",
      "Input \u001b[0;32mIn [59]\u001b[0m, in \u001b[0;36m<cell line: 4>\u001b[0;34m()\u001b[0m\n\u001b[1;32m      1\u001b[0m draft_storage \u001b[38;5;241m=\u001b[39m pathlib\u001b[38;5;241m.\u001b[39mPath(\u001b[38;5;124m'\u001b[39m\u001b[38;5;124mC:/users/okean/code/operatto/var/mover/support/me/drafts/\u001b[39m\u001b[38;5;124m'\u001b[39m)\n\u001b[1;32m      3\u001b[0m drafts \u001b[38;5;241m=\u001b[39m []\n\u001b[0;32m----> 4\u001b[0m \u001b[38;5;28;01mfor\u001b[39;00m path \u001b[38;5;129;01min\u001b[39;00m \u001b[38;5;28;43mlist\u001b[39;49m\u001b[43m(\u001b[49m\u001b[43mdraft_storage\u001b[49m\u001b[38;5;241;43m.\u001b[39;49m\u001b[43miterdir\u001b[49m\u001b[43m(\u001b[49m\u001b[43m)\u001b[49m\u001b[43m)\u001b[49m:\n\u001b[1;32m      5\u001b[0m     draft \u001b[38;5;241m=\u001b[39m json\u001b[38;5;241m.\u001b[39mloads(path\u001b[38;5;241m.\u001b[39mread_text(encoding\u001b[38;5;241m=\u001b[39m\u001b[38;5;124m'\u001b[39m\u001b[38;5;124mutf-8\u001b[39m\u001b[38;5;124m'\u001b[39m))\n\u001b[1;32m      6\u001b[0m     drafts\u001b[38;5;241m.\u001b[39mappend(draft)\n",
      "File \u001b[0;32m~/anaconda3/envs/practicum/lib/python3.9/pathlib.py:1160\u001b[0m, in \u001b[0;36mPath.iterdir\u001b[0;34m(self)\u001b[0m\n\u001b[1;32m   1156\u001b[0m \u001b[38;5;28;01mdef\u001b[39;00m \u001b[38;5;21miterdir\u001b[39m(\u001b[38;5;28mself\u001b[39m):\n\u001b[1;32m   1157\u001b[0m     \u001b[38;5;124;03m\"\"\"Iterate over the files in this directory.  Does not yield any\u001b[39;00m\n\u001b[1;32m   1158\u001b[0m \u001b[38;5;124;03m    result for the special paths '.' and '..'.\u001b[39;00m\n\u001b[1;32m   1159\u001b[0m \u001b[38;5;124;03m    \"\"\"\u001b[39;00m\n\u001b[0;32m-> 1160\u001b[0m     \u001b[38;5;28;01mfor\u001b[39;00m name \u001b[38;5;129;01min\u001b[39;00m \u001b[38;5;28;43mself\u001b[39;49m\u001b[38;5;241;43m.\u001b[39;49m\u001b[43m_accessor\u001b[49m\u001b[38;5;241;43m.\u001b[39;49m\u001b[43mlistdir\u001b[49m\u001b[43m(\u001b[49m\u001b[38;5;28;43mself\u001b[39;49m\u001b[43m)\u001b[49m:\n\u001b[1;32m   1161\u001b[0m         \u001b[38;5;28;01mif\u001b[39;00m name \u001b[38;5;129;01min\u001b[39;00m {\u001b[38;5;124m'\u001b[39m\u001b[38;5;124m.\u001b[39m\u001b[38;5;124m'\u001b[39m, \u001b[38;5;124m'\u001b[39m\u001b[38;5;124m..\u001b[39m\u001b[38;5;124m'\u001b[39m}:\n\u001b[1;32m   1162\u001b[0m             \u001b[38;5;66;03m# Yielding a path object for these makes little sense\u001b[39;00m\n\u001b[1;32m   1163\u001b[0m             \u001b[38;5;28;01mcontinue\u001b[39;00m\n",
      "\u001b[0;31mFileNotFoundError\u001b[0m: [Errno 2] No such file or directory: 'C:/users/okean/code/operatto/var/mover/support/me/drafts'"
     ]
    }
   ],
   "source": [
    "draft_storage = pathlib.Path('C:/users/okean/code/operatto/var/mover/support/me/drafts/')\n",
    "\n",
    "drafts = []\n",
    "for path in list(draft_storage.iterdir()):\n",
    "    draft = json.loads(path.read_text(encoding='utf-8'))\n",
    "    drafts.append(draft)"
   ]
  },
  {
   "cell_type": "code",
   "execution_count": null,
   "id": "c03270d4",
   "metadata": {},
   "outputs": [],
   "source": [
    "[\n",
    "    # int\n",
    "    'id', 'fixed_discount', 'percent_discount', 'search_try',\n",
    "\n",
    "    # bool\n",
    "    'taxi', 'assembly', 'nearest', 'repeatable_search', 'pending_search', 'delivery', 'manual_search', 'cargo_storage',\n",
    "    'test', 'is_freighters_draft', 'auto_accept_taxi', 'auto_assigment_crew', 'auto_external_search',\n",
    "\n",
    "    # timestamp\n",
    "    'updated_at', 'created_at',\n",
    "    \n",
    "    # str\n",
    "    'comment', 'pay_method', 'taxi_schema',\n",
    "    \n",
    "    # dict\n",
    "    'static_map', 'calculation', 'client',\n",
    "    \n",
    "    # list\n",
    "    'points', 'orders', 'delivery_products', 'search_employee_statuses', 'delivery_tracks', 'destinations',\n",
    "    #'photos',\n",
    "\n",
    "    'features', 'employer_filters', 'crew_filters', 'freighter_filters', 'city', 'areas', 'insurances',\n",
    "    'time_at_way', 'loaders', 'distance', 'out_mkad_distance', 'entry_ttk', 'cost', 'taxi_search', 'avoid_ttk',\n",
    "    'extra_search_params', 'delivery_time_slot_begin', 'delivery_time_slot_end', 'delivery_status',\n",
    "    'start_delivery_search_at', 'delivery_schema', 'delivery_company_client', 'legal_entity', 'notes', 'intercom_dialog',\n",
    "    'minutes', 'custom_minutes', 'delivery_storehouse_arrival', 'delivery_schedule', 'total_cost', 'freighter_external_id',\n",
    "    'external_freighter', 'taxi_loaders_schema', 'pay_method_option',\n",
    "]"
   ]
  },
  {
   "cell_type": "code",
   "execution_count": null,
   "id": "1c9b9a44",
   "metadata": {},
   "outputs": [],
   "source": []
  },
  {
   "cell_type": "code",
   "execution_count": null,
   "id": "333f115a",
   "metadata": {},
   "outputs": [],
   "source": []
  },
  {
   "cell_type": "code",
   "execution_count": null,
   "id": "60c47c10",
   "metadata": {},
   "outputs": [],
   "source": []
  },
  {
   "cell_type": "code",
   "execution_count": null,
   "id": "eee77b3f",
   "metadata": {},
   "outputs": [],
   "source": []
  },
  {
   "cell_type": "code",
   "execution_count": null,
   "id": "c7f0d13e",
   "metadata": {},
   "outputs": [],
   "source": []
  },
  {
   "cell_type": "markdown",
   "id": "cf122439",
   "metadata": {},
   "source": [
    "### Итоги обзора и исправления данных\n",
    "\n",
    "- Первый;\n",
    "- Второй;\n",
    "- Третий."
   ]
  },
  {
   "cell_type": "markdown",
   "id": "a6c058dc",
   "metadata": {},
   "source": [
    "## Расходы каждого пользователя в месяц"
   ]
  },
  {
   "cell_type": "markdown",
   "id": "52d83e4c",
   "metadata": {},
   "source": [
    "### Итоги подготовки информации о расходах:\n",
    "\n",
    "- Первый;\n",
    "- Второй;\n",
    "- Третий."
   ]
  },
  {
   "cell_type": "markdown",
   "id": "b1548e11",
   "metadata": {},
   "source": [
    "## Анализ расходов"
   ]
  },
  {
   "cell_type": "markdown",
   "id": "a2f3a2ac",
   "metadata": {},
   "source": [
    "### Итоги анализа расходов\n",
    "\n",
    "- Первый;\n",
    "- Второй;\n",
    "- Третий."
   ]
  },
  {
   "cell_type": "markdown",
   "id": "be8b306b",
   "metadata": {},
   "source": [
    "## Гипотезы и проверки"
   ]
  },
  {
   "cell_type": "markdown",
   "id": "fa499034",
   "metadata": {},
   "source": [
    "### Итоги проверки гипотез\n",
    "\n",
    "- Первый;\n",
    "- Второй;\n",
    "- Третий."
   ]
  },
  {
   "cell_type": "markdown",
   "id": "d1a9526a",
   "metadata": {},
   "source": [
    "## Общие итоги\n",
    "\n",
    "- Исследовано:\n",
    "  - выборка пяти сотен пользователей из разных регионов, подключившихся в 2018 году;\n",
    "  - полная статистика их потребления звонков, коротких сообщений и интернет-трафика.\n",
    "- **Подтверждённые выводы:**\n",
    "  - Пользователь тарифа **\"Ultra\"** приносит **в среднем на 33% больше выручки**, чем пользователь тарифа \"Smart\".\n",
    "  - **Средняя выручка** с пользователя **в Москве не отличается** от средней выручки с пользователя в других регионах.\n",
    "- Также обнаружено, что:\n",
    "  - Пользователей тарифа \"Smart\" в 4 раза больше;\n",
    "  - Среди тех, кто потребляет много, популярней тариф \"Ultra\";\n",
    "  - В среднем пользователи \"Smart\" потребляют столько, сколько включено в базовый пакет;\n",
    "  - При относительно небольшом увеличении потребления их чек заметно вырастает;\n",
    "  - Если потребление превышает 100 звонков (или 750 минут), или 110 сообщений, или 25 ГБ в месяц - пользователи предпочитают тариф \"Ultra\";\n",
    "  - Пользователи \"Ultra\" потребляют только треть от базового пакета;\n",
    "  - И 85% из них платят только базовый платёж.\n",
    "- Предположения:\n",
    "  - Пользователи \"Smart\":\n",
    "    - сознательно ограничивают своё потребление;\n",
    "    - при повышении потребления переходят на гораздо более содержательный \"Ultra\".\n",
    "  - Пользователи \"Ultra\":\n",
    "    - при повышении потребления вдвое не станут платить вдвое больше."
   ]
  },
  {
   "cell_type": "markdown",
   "id": "671c6f26",
   "metadata": {},
   "source": [
    "### Рекомендации\n",
    "\n",
    "**Описание**\n",
    "\n",
    "- пишем от лица \"мы\", употребляем подходящие времена\n",
    "- Пиши краткие промежуточные выводы.\n",
    "- Сделай общий вывод по итогам проекта в отдельном разделе.\n",
    "- Сохрани идеи и код, который помогает принимать промежуточные решения.\n",
    "- удали неработающий код\n",
    "- комментарии ставь перед кодом\n",
    "- вынеси комментарии в маркдаун\n",
    "- подробно описывай процесс, что и почему ты делаешь\n",
    "- за каждым пояснением - ячейка с кодом. Одна ячейка - один шаг\n",
    "- перед отправкой - перезапусти вессь проект, убедись, что все ячейки сработали верно\n",
    "\n",
    "**Вывод данных**\n",
    "- Каждому объекту данных (фрейм, график) - дай название, подпись, подпиши столбцы и оси.\n",
    "- Таблицы давай выборками, .head() и .tail()\n",
    "- таблицы выводи по display()  # from IPython.display import display\n",
    "\n",
    "**Итоги**\n",
    "- краткий обзор проведённой работы: что выполнили, рассчитали:\n",
    "- главные выводы: ответы на поставленные вопросы\n",
    "- рекомендации: как избежать неправильных данных, как отобрать признаки для прогнозирования в будущем"
   ]
  },
  {
   "cell_type": "markdown",
   "id": "f073b277",
   "metadata": {},
   "source": [
    "На что обращают внимание при проверке проекта:\n",
    "- [ ] Как вы описываете выявленные в данных проблемы?\n",
    "- [ ] Как готовите датасет к анализу?\n",
    "- [ ] Какие строите графики для распределений и как их объясняете?\n",
    "- [ ] Как рассчитываете стандартное отклонение и дисперсию?\n",
    "- [ ] Формулируете ли альтернативную и нулевую гипотезы?\n",
    "- [ ] Какие методы применяете, чтобы их проверить?\n",
    "- [ ] Объясняете результат проверки гипотезы или нет?\n",
    "- [ ] Соблюдаете ли структуру проекта и поддерживаете аккуратность кода?\n",
    "- [ ] Какие выводы делаете?\n",
    "- [ ] Оставляете ли комментарии к шагам?"
   ]
  },
  {
   "cell_type": "code",
   "execution_count": null,
   "id": "23f8a0b8",
   "metadata": {},
   "outputs": [],
   "source": []
  }
 ],
 "metadata": {
  "kernelspec": {
   "display_name": "Python 3 (ipykernel)",
   "language": "python",
   "name": "python3"
  },
  "language_info": {
   "codemirror_mode": {
    "name": "ipython",
    "version": 3
   },
   "file_extension": ".py",
   "mimetype": "text/x-python",
   "name": "python",
   "nbconvert_exporter": "python",
   "pygments_lexer": "ipython3",
   "version": "3.9.12"
  },
  "toc": {
   "base_numbering": 1,
   "nav_menu": {},
   "number_sections": true,
   "sideBar": true,
   "skip_h1_title": true,
   "title_cell": "Содержание",
   "title_sidebar": "Содержание",
   "toc_cell": true,
   "toc_position": {
    "height": "calc(100% - 180px)",
    "left": "10px",
    "top": "150px",
    "width": "258.797px"
   },
   "toc_section_display": true,
   "toc_window_display": true
  }
 },
 "nbformat": 4,
 "nbformat_minor": 5
}
