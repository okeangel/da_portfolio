{
 "cells": [
  {
   "cell_type": "markdown",
   "id": "9fd3f23d",
   "metadata": {
    "toc": true
   },
   "source": [
    "<h1>Содержание<span class=\"tocSkip\"></span></h1>\n",
    "<div class=\"toc\"><ul class=\"toc-item\"><li><span><a href=\"#Описание-проекта\" data-toc-modified-id=\"Описание-проекта-1\"><span class=\"toc-item-num\">1&nbsp;&nbsp;</span>Описание проекта</a></span><ul class=\"toc-item\"><li><span><a href=\"#Заказчик\" data-toc-modified-id=\"Заказчик-1.1\"><span class=\"toc-item-num\">1.1&nbsp;&nbsp;</span>Заказчик</a></span></li><li><span><a href=\"#Задача\" data-toc-modified-id=\"Задача-1.2\"><span class=\"toc-item-num\">1.2&nbsp;&nbsp;</span>Задача</a></span></li><li><span><a href=\"#Входные-данные\" data-toc-modified-id=\"Входные-данные-1.3\"><span class=\"toc-item-num\">1.3&nbsp;&nbsp;</span>Входные данные</a></span><ul class=\"toc-item\"><li><span><a href=\"#Описание-ресурсов\" data-toc-modified-id=\"Описание-ресурсов-1.3.1\"><span class=\"toc-item-num\">1.3.1&nbsp;&nbsp;</span>Описание ресурсов</a></span><ul class=\"toc-item\"><li><span><a href=\"#Перевозчики-(автопарки)\" data-toc-modified-id=\"Перевозчики-(автопарки)-1.3.1.1\"><span class=\"toc-item-num\">1.3.1.1&nbsp;&nbsp;</span>Перевозчики (автопарки)</a></span></li><li><span><a href=\"#Экипажи\" data-toc-modified-id=\"Экипажи-1.3.1.2\"><span class=\"toc-item-num\">1.3.1.2&nbsp;&nbsp;</span>Экипажи</a></span></li><li><span><a href=\"#Исполнители\" data-toc-modified-id=\"Исполнители-1.3.1.3\"><span class=\"toc-item-num\">1.3.1.3&nbsp;&nbsp;</span>Исполнители</a></span></li><li><span><a href=\"#Машины\" data-toc-modified-id=\"Машины-1.3.1.4\"><span class=\"toc-item-num\">1.3.1.4&nbsp;&nbsp;</span>Машины</a></span></li><li><span><a href=\"#Тарифы\" data-toc-modified-id=\"Тарифы-1.3.1.5\"><span class=\"toc-item-num\">1.3.1.5&nbsp;&nbsp;</span>Тарифы</a></span></li><li><span><a href=\"#Драфты\" data-toc-modified-id=\"Драфты-1.3.1.6\"><span class=\"toc-item-num\">1.3.1.6&nbsp;&nbsp;</span>Драфты</a></span></li><li><span><a href=\"#Заказы\" data-toc-modified-id=\"Заказы-1.3.1.7\"><span class=\"toc-item-num\">1.3.1.7&nbsp;&nbsp;</span>Заказы</a></span></li><li><span><a href=\"#Карты\" data-toc-modified-id=\"Карты-1.3.1.8\"><span class=\"toc-item-num\">1.3.1.8&nbsp;&nbsp;</span>Карты</a></span></li><li><span><a href=\"#Оплаты\" data-toc-modified-id=\"Оплаты-1.3.1.9\"><span class=\"toc-item-num\">1.3.1.9&nbsp;&nbsp;</span>Оплаты</a></span></li><li><span><a href=\"#Другое\" data-toc-modified-id=\"Другое-1.3.1.10\"><span class=\"toc-item-num\">1.3.1.10&nbsp;&nbsp;</span>Другое</a></span></li></ul></li></ul></li><li><span><a href=\"#План-работы\" data-toc-modified-id=\"План-работы-1.4\"><span class=\"toc-item-num\">1.4&nbsp;&nbsp;</span>План работы</a></span></li><li><span><a href=\"#Инструменты\" data-toc-modified-id=\"Инструменты-1.5\"><span class=\"toc-item-num\">1.5&nbsp;&nbsp;</span>Инструменты</a></span><ul class=\"toc-item\"><li><span><a href=\"#Импорт-библиотек\" data-toc-modified-id=\"Импорт-библиотек-1.5.1\"><span class=\"toc-item-num\">1.5.1&nbsp;&nbsp;</span>Импорт библиотек</a></span></li><li><span><a href=\"#Определения-констант\" data-toc-modified-id=\"Определения-констант-1.5.2\"><span class=\"toc-item-num\">1.5.2&nbsp;&nbsp;</span>Определения констант</a></span></li><li><span><a href=\"#Определения-функций\" data-toc-modified-id=\"Определения-функций-1.5.3\"><span class=\"toc-item-num\">1.5.3&nbsp;&nbsp;</span>Определения функций</a></span><ul class=\"toc-item\"><li><span><a href=\"#Загрузка-и-обзор-данных\" data-toc-modified-id=\"Загрузка-и-обзор-данных-1.5.3.1\"><span class=\"toc-item-num\">1.5.3.1&nbsp;&nbsp;</span>Загрузка и обзор данных</a></span></li><li><span><a href=\"#Исправление-данных\" data-toc-modified-id=\"Исправление-данных-1.5.3.2\"><span class=\"toc-item-num\">1.5.3.2&nbsp;&nbsp;</span>Исправление данных</a></span></li><li><span><a href=\"#Отображение-данных\" data-toc-modified-id=\"Отображение-данных-1.5.3.3\"><span class=\"toc-item-num\">1.5.3.3&nbsp;&nbsp;</span>Отображение данных</a></span></li></ul></li></ul></li></ul></li><li><span><a href=\"#Сбор,-обзор-и-исправление-данных\" data-toc-modified-id=\"Сбор,-обзор-и-исправление-данных-2\"><span class=\"toc-item-num\">2&nbsp;&nbsp;</span>Сбор, обзор и исправление данных</a></span><ul class=\"toc-item\"><li><span><a href=\"#Итоги-обзора-и-исправления-данных\" data-toc-modified-id=\"Итоги-обзора-и-исправления-данных-2.1\"><span class=\"toc-item-num\">2.1&nbsp;&nbsp;</span>Итоги обзора и исправления данных</a></span></li></ul></li><li><span><a href=\"#Расходы-каждого-пользователя-в-месяц\" data-toc-modified-id=\"Расходы-каждого-пользователя-в-месяц-3\"><span class=\"toc-item-num\">3&nbsp;&nbsp;</span>Расходы каждого пользователя в месяц</a></span><ul class=\"toc-item\"><li><span><a href=\"#Итоги-подготовки-информации-о-расходах:\" data-toc-modified-id=\"Итоги-подготовки-информации-о-расходах:-3.1\"><span class=\"toc-item-num\">3.1&nbsp;&nbsp;</span>Итоги подготовки информации о расходах:</a></span></li></ul></li><li><span><a href=\"#Анализ-расходов\" data-toc-modified-id=\"Анализ-расходов-4\"><span class=\"toc-item-num\">4&nbsp;&nbsp;</span>Анализ расходов</a></span><ul class=\"toc-item\"><li><span><a href=\"#Итоги-анализа-расходов\" data-toc-modified-id=\"Итоги-анализа-расходов-4.1\"><span class=\"toc-item-num\">4.1&nbsp;&nbsp;</span>Итоги анализа расходов</a></span></li></ul></li><li><span><a href=\"#Гипотезы-и-проверки\" data-toc-modified-id=\"Гипотезы-и-проверки-5\"><span class=\"toc-item-num\">5&nbsp;&nbsp;</span>Гипотезы и проверки</a></span><ul class=\"toc-item\"><li><span><a href=\"#Итоги-проверки-гипотез\" data-toc-modified-id=\"Итоги-проверки-гипотез-5.1\"><span class=\"toc-item-num\">5.1&nbsp;&nbsp;</span>Итоги проверки гипотез</a></span></li></ul></li><li><span><a href=\"#Общие-итоги\" data-toc-modified-id=\"Общие-итоги-6\"><span class=\"toc-item-num\">6&nbsp;&nbsp;</span>Общие итоги</a></span><ul class=\"toc-item\"><li><span><a href=\"#Рекомендации\" data-toc-modified-id=\"Рекомендации-6.1\"><span class=\"toc-item-num\">6.1&nbsp;&nbsp;</span>Рекомендации</a></span></li></ul></li></ul></div>"
   ]
  },
  {
   "cell_type": "markdown",
   "id": "fa5fce91",
   "metadata": {},
   "source": [
    "# Название проекта"
   ]
  },
  {
   "cell_type": "markdown",
   "id": "d1db17f5",
   "metadata": {},
   "source": [
    "Автор: Александр Лагутин.\n",
    "\n",
    "Начат: 12 сентября 2022 г в 19:11.\n",
    "Завершён: 1 июня 2022 г в 10:45.\n",
    "\n",
    "Время подготовки: 12 рабочих часов (2 рабочих дня)."
   ]
  },
  {
   "cell_type": "markdown",
   "id": "169b2c10",
   "metadata": {},
   "source": [
    "## Описание проекта\n",
    "\n",
    "### Заказчик\n",
    "\n",
    "Интернет-сервис грузоперевозок MOVER.\n",
    "\n",
    "Основная деятельность: организация перевозок отдельных (не сборных) грузов.\n",
    "\n",
    "Идея: подбор исполнителей для разовой грузоперевозки. Один исполнитель - один заказчик (нет сборных грузов, и одновременных заказов у одного исполнителя). Перевозки внутри Москвы, фургонами до 1,5 т.\n",
    "\n",
    "### Задача\n",
    "\n",
    "Выявить масштабы бизнеса:\n",
    "- обороты,\n",
    "- неуплаты,\n",
    "- количество заказчиков,\n",
    "- водителей.\n",
    "\n",
    "Обзор парка водителей:\n",
    "- активность;\n",
    "- характер исполнения заказов;\n",
    "- характеристики машин.\n",
    "\n",
    "Проверить гипотезы:\n",
    "- Существуют заказчики, которые изначально не собираются платить (так предполагают недовольные водители и нейтрально настроенный оператор поддержки).\n",
    "\n",
    "Далее будут поставлены другие задачи."
   ]
  },
  {
   "cell_type": "markdown",
   "id": "ed66ea3b",
   "metadata": {},
   "source": [
    "### Входные данные\n",
    "\n",
    "Доступ к API.\n",
    "\n",
    "#### Описание ресурсов\n",
    "\n",
    "    Правило:\n",
    "    ЧТО_ДЕЛАЕТ: /кто/который/над_кем/которым?как=так\n",
    "\n",
    "    support - администратор\n",
    "    freighter - автопарк\n",
    "    employer - исполнитель\n",
    "    customer - заказчик\n",
    "\n",
    "    me\n",
    "    {id}\n",
    "    all\n",
    "\n",
    "    crews\n",
    "    transports\n",
    "    drafts\n",
    "    orders\n",
    "\n",
    "##### Перевозчики (автопарки)\n",
    "\n",
    "    Все:\n",
    "    GET: /support/me/freighters.json\n",
    "\n",
    "##### Экипажи\n",
    "\n",
    "    Все:\n",
    "    GET: /freighter/{freighter_id}/crews.json\n",
    "    CRUD:\n",
    "    POST: /freighter/{freighter_id}/crews.json\n",
    "    GET: /freighter/{freighter_id}/crews/{crew_id}.json\n",
    "    POST: /freighter/{freighter_id}/crews/{crew_id}.json\n",
    "    DELETE: /freighter/{freighter_id}/crews/{crew_id}.json\n",
    "\n",
    "##### Исполнители\n",
    "\n",
    "    Все:\n",
    "    GET: /freighter/{freighter_id}/employers.json\n",
    "    CRUD:\n",
    "    POST: /freighter/{freighter_id}/employers.json\n",
    "    GET: /freighter/{freighter_id}/employers/{employer_id}.json\n",
    "    POST: /freighter/{freighter_id}/employers/{employer_id}.json\n",
    "    ?\n",
    "\n",
    "##### Машины\n",
    "\n",
    "    Все:\n",
    "    GET: /freighter/{freighter_id}/transports.json\n",
    "    CRUD:\n",
    "    POST: /freighter/{freighter_id}/transports.json\n",
    "    GET: /freighter/{freighter_id}/transports/{transport_id}.json\n",
    "    POST: /freighter/{freighter_id}/transports/{transport_id}.json\n",
    "    ?\n",
    "    Все типы машин:\n",
    "    GET: /transport/models.json\n",
    "    Все свойства машин:\n",
    "    GET: /features.json\n",
    "\n",
    "##### Тарифы\n",
    "\n",
    "    Все:\n",
    "    GET: /tariff.json\n",
    "    Доступны в данной точке:\n",
    "    GET: /tariff/tier.json?lat={latitude}&lon={longitude}\n",
    "    Сколько машин свободны возле точки:\n",
    "    GET: /tariff/tier/counts.json?lat={latitude}&lon={longitude}\n",
    "\n",
    "##### Драфты\n",
    "\n",
    "    Создать драфт:\n",
    "    POST: /support/me/orders/drafts.json\n",
    "    Драфты, прошедшие поиск:\n",
    "    GET: /support/me/drafts/searched.json\n",
    "    GET: /support/me/drafts/{draft_id}.json\n",
    "\n",
    "##### Заказы\n",
    "\n",
    "    Все:\n",
    "    GET: /support/me/orders.json\n",
    "    GET: /freighter/all/orders.json\n",
    "    Уведомления по заказу:\n",
    "    GET: /freighter/me/orders/{order_id}/notifications.json\n",
    "    Изменить статус заказа:\n",
    "    PUT: /freighter/{freighter_id}/orders/{order_id}/status.json?status={current_status}\n",
    "\n",
    "##### Карты\n",
    "\n",
    "    Адрес по координате:\n",
    "    GET: /geo/location.json?location=lat,lon\n",
    "    Город по IP:\n",
    "    GET: /geo/ip.json\n",
    "    Координаты по адресу, и подсказки адресов:\n",
    "    GET: /geo/address.json?address={адрес или часть адреса}\n",
    "    Построить маршрут:\n",
    "    GET: /geo/route.json?avoidTtk={true|false}location[]={latitude,longitude}&location[]={latitude,longitude}&....\n",
    "\n",
    "##### Оплаты\n",
    "\n",
    "    История счетов:\n",
    "    /me/invoices.json\n",
    "    Статистика перевозок по компаниям:\n",
    "    GET: /freighter/{freighter_id}/stat/orders.json\n",
    "\n",
    "##### Другое\n",
    "\n",
    "    Получить количество грузчиков:\n",
    "    GET: /employer/me/crew/loaders.json\n",
    "    Получить статус исполнителя:\n",
    "    GET: /employer/me/status.json\n",
    "    Изменить статус исполнителя:\n",
    "    PUT: /employer/me/status.json?status={current_status}"
   ]
  },
  {
   "cell_type": "markdown",
   "id": "0fc6ba20",
   "metadata": {},
   "source": [
    "### План работы\n",
    "\n",
    "Действия:\n",
    "- [ ] Импортировать библиотеки, описать функции, которые потребуются.\n",
    "- [ ] Загрузить и изучить таблицы.\n",
    "- [ ] Подготовить данные:\n",
    "  - [ ] привести к норме названия столбцов;\n",
    "  - [ ] привести данные к нужным типам;\n",
    "  - [ ] обработать пропуски:\n",
    "    - [ ] выбрать, чем заполнить (или оставить) и почему;\n",
    "    - [ ] осуществить заполение, если требуется;\n",
    "    - [ ] описать причины, которые могли привести к пропускам.\n",
    "- [ ] Анализировать обобщённые данные:\n",
    "  - [ ] Разделить тестовые + дубликаты, и реальные заказы. (нужно поле `test` и `notes`: `причина отмены`)\n",
    "  - [ ] Описать \n",
    "- [ ] Описать общий вывод:\n",
    "  - [ ] рекомендации."
   ]
  },
  {
   "cell_type": "markdown",
   "id": "3d499b1f",
   "metadata": {},
   "source": [
    "### Инструменты\n",
    "\n",
    "Используем [Anaconda](https://www.anaconda.com/), окружение `ds_da_practicum_env.yml` \"для Mac OS\" (от 2022-03-23)."
   ]
  },
  {
   "cell_type": "markdown",
   "id": "74f5bd90",
   "metadata": {},
   "source": [
    "#### Импорт библиотек"
   ]
  },
  {
   "cell_type": "code",
   "execution_count": 1,
   "id": "2ccbcade",
   "metadata": {},
   "outputs": [],
   "source": [
    "%matplotlib inline\n",
    "\n",
    "import datetime\n",
    "import re\n",
    "\n",
    "import pandas as pd\n",
    "import numpy as np\n",
    "import scipy.stats as st\n",
    "import matplotlib.pyplot as plt\n",
    "import seaborn as sns\n",
    "\n",
    "import mover\n",
    "import json\n",
    "import pathlib\n",
    "import collections"
   ]
  },
  {
   "cell_type": "markdown",
   "id": "802b7dd4",
   "metadata": {},
   "source": [
    "#### Определения констант"
   ]
  },
  {
   "cell_type": "code",
   "execution_count": 2,
   "id": "6af52aa5",
   "metadata": {},
   "outputs": [],
   "source": [
    "FIGSIZE = (12, 6)\n",
    "mover = mover.Session('79060597475', '2022', logfile='mover_log.txt')"
   ]
  },
  {
   "cell_type": "markdown",
   "id": "0fee0bc1",
   "metadata": {},
   "source": [
    "#### Определения функций\n",
    "\n",
    "##### Загрузка и обзор данных"
   ]
  },
  {
   "cell_type": "code",
   "execution_count": 3,
   "id": "10dded98",
   "metadata": {},
   "outputs": [],
   "source": [
    "def load(tablename, ext='csv'):\n",
    "    \"\"\"Load a table from file\n",
    "    \"\"\"\n",
    "    filename = tablename + '.' + ext\n",
    "    try:\n",
    "        df = pd.read_csv(filename)\n",
    "    except FileNotFoundError:\n",
    "        df = pd.read_csv('https://code.s3.yandex.net/datasets/' + filename)\n",
    "    correct_column_names(df)  #  переводит в snake_case\n",
    "    survey(df)  # даёт обзор возможных проблем с таблицей\n",
    "    return df"
   ]
  },
  {
   "cell_type": "code",
   "execution_count": 4,
   "id": "9f996523",
   "metadata": {},
   "outputs": [],
   "source": [
    "def survey(data):\n",
    "    \"\"\"Display summaries to detect data problems\n",
    "    \"\"\"\n",
    "    display(data.sample(5))\n",
    "    print(f'Полностью совпадающих строк: {data.duplicated().sum()}\\n')\n",
    "    data.info()\n",
    "    display(get_nans(data))\n",
    "    print(get_filled_rows_share(data))"
   ]
  },
  {
   "cell_type": "code",
   "execution_count": 5,
   "id": "dc914653",
   "metadata": {},
   "outputs": [],
   "source": [
    "def get_nans(data):\n",
    "    nans = []\n",
    "    for column in data.columns:\n",
    "        missing = data[column].isna().sum()  # Подсчет количества отсутствующих значений\n",
    "        part = round(missing * 100 / len(data), 2) # Подсчет доли отсутствующих значений\n",
    "        uniques = data[column].sort_values().nunique()\n",
    "        nans.append([column, missing, part, uniques])\n",
    "\n",
    "    return pd.DataFrame(\n",
    "        data=nans, columns=['column', 'na_count', 'na_%', 'unique_count']\n",
    "    ).sort_values(['na_count', 'unique_count'], ascending=False).set_index('column')"
   ]
  },
  {
   "cell_type": "code",
   "execution_count": 6,
   "id": "5bbeeae0",
   "metadata": {},
   "outputs": [],
   "source": [
    "def get_filled_rows_share(df):\n",
    "    share = 1 - df.isna().any(axis=1).sum() / len(df)\n",
    "    return f'Заполненных строк без пропусков: {share:.02%}'"
   ]
  },
  {
   "cell_type": "markdown",
   "id": "4f718ba7",
   "metadata": {},
   "source": [
    "##### Исправление данных"
   ]
  },
  {
   "cell_type": "code",
   "execution_count": 7,
   "id": "1122d260",
   "metadata": {},
   "outputs": [
    {
     "name": "stdout",
     "output_type": "stream",
     "text": [
      "True\n"
     ]
    }
   ],
   "source": [
    "date_pattern = (\n",
    "    '^(?:\\\\d{4})-(?:\\\\d{2})-(?:\\\\d{2})'  # date\n",
    "    '[ T](?:\\\\d{2}):(?:\\\\d{2}):(?:\\\\d{2}(?:\\\\.\\\\d*)?)'  # time\n",
    "    '(?:(?:-(?:\\\\d{2}):(?:\\\\d{2})|Z)?)$'  # timezone\n",
    ")\n",
    "\n",
    "print(re.match(date_pattern, '2021-11-04 11:11:11') is not None)\n",
    "\n",
    "# visits['session_start'] = pd.to_datetime(visits['session_start'])\n",
    "# visits['session_end'] = pd.to_datetime(visits['session_start'])"
   ]
  },
  {
   "cell_type": "code",
   "execution_count": 8,
   "id": "c73aaed1",
   "metadata": {},
   "outputs": [],
   "source": [
    "def correct_column_names(df):\n",
    "    df.columns = df.columns.str.strip()\n",
    "    df.columns = df.columns.apply(to_snake_case)\n",
    "    # df.columns = df.columns.str.lower()\n",
    "    # df.columns = df.columns.str.replace(' ', '_')\n",
    "\n",
    "def to_snake_case(name):\n",
    "    name = re.sub('(.)([A-Z][a-z]+)', r'\\1_\\2', name)\n",
    "    name = re.sub('__([A-Z])', r'_\\1', name)\n",
    "    name = re.sub('([a-z0-9])([A-Z])', r'\\1_\\2', name)\n",
    "    return name.lower()"
   ]
  },
  {
   "cell_type": "code",
   "execution_count": 9,
   "id": "306077ff",
   "metadata": {},
   "outputs": [],
   "source": [
    "def fillnaby(data, column, groupby, func='median'):\n",
    "    data[column] = data[column].fillna(\n",
    "        data.groupby(groupby)[column].transform(func))"
   ]
  },
  {
   "cell_type": "markdown",
   "id": "e16b3812",
   "metadata": {},
   "source": [
    "##### Отображение данных"
   ]
  },
  {
   "cell_type": "code",
   "execution_count": 10,
   "id": "732090bd",
   "metadata": {},
   "outputs": [],
   "source": [
    "def headline(line, width=50):\n",
    "    \"\"\"Возвращает заголовок, набранный \"простым текстом\".\n",
    "    \"\"\"\n",
    "    return f'\\n{line.upper():=^{width}}'"
   ]
  },
  {
   "cell_type": "code",
   "execution_count": 11,
   "id": "7fc90675",
   "metadata": {},
   "outputs": [],
   "source": [
    "# можно было бы рисовать `bar` в случаях, когда вариантов мало.\n",
    "# однако по неясной причине `bar` не рисуется, и не вызывает ошибки,\n",
    "# а вызывает лишь зацикливание при построении первого же графика\n",
    "\n",
    "def survey_columns(df):\n",
    "    for column in nans_before.index:\n",
    "        print(headline(column))\n",
    "\n",
    "        uniques = realty[column].sort_values().unique()\n",
    "        if len(uniques) < 20:\n",
    "            print(uniques)\n",
    "        print(f'Data type: {str(realty[column].dtype):>10}')\n",
    "        print(f'Unique values: {len(uniques):6}')\n",
    "\n",
    "        missing = realty[column].isna().sum()\n",
    "        if missing:\n",
    "            print(f'Not avaliable: {nans_before.loc[column, \"na_part\"]:.02%}')\n",
    "        else:\n",
    "            print('All values is avaliable.')\n",
    "\n",
    "        try:\n",
    "            realty.plot(\n",
    "                kind='hist',\n",
    "                y=column,\n",
    "               bins=50,\n",
    "            )\n",
    "            plt.show()\n",
    "        except Exception as e:\n",
    "            print(str(e).capitalize())"
   ]
  },
  {
   "cell_type": "code",
   "execution_count": 12,
   "id": "102ff4a9",
   "metadata": {},
   "outputs": [],
   "source": [
    "# формирует и выводит график, подстроенный под наши нужды\n",
    "def histf(data, column, show=True, bins=100, qtl=1, start=None,\n",
    "          stop=None, figsize=FIGSIZE, **kwargs):\n",
    "    fixed = {\n",
    "        'y': column,\n",
    "        'kind': 'hist',\n",
    "        'bins': min(bins, len(data[column].unique())),\n",
    "        'figsize': figsize,\n",
    "        'title': column,\n",
    "        'legend': False,\n",
    "        'ec': 'black',\n",
    "    }\n",
    "    if 'range' not in kwargs.keys():\n",
    "        if not start:\n",
    "            start = data[column].min()\n",
    "        if not stop:\n",
    "            stop = data[column].quantile(qtl)\n",
    "        kwargs['range'] = (start, stop)\n",
    "    data.plot(**fixed, **kwargs)\n",
    "    if show:\n",
    "        plt.show()\n",
    "\n",
    "def histf2(data, column1, column2, **kwargs):\n",
    "    histf(column1, data=data, show=False, **kwargs)\n",
    "    histf(column2, data=data, show=False, **kwargs)\n",
    "    plt.show()\n",
    "\n",
    "# два графика: все случаи, и те, что менее указанного квантиля\n",
    "def dhistf(column, data, qtl=0.975, figsize=FIGSIZE, **kwargs):\n",
    "    fig, (ax1, ax2) = plt.subplots(1, 2, figsize=figsize)\n",
    "    fig.suptitle('This is a somewhat long figure title', fontsize=16)\n",
    "    \n",
    "    ax1.set_title('full_data')\n",
    "    ax2.set_title(f'{qtl:.2%} quantile')\n",
    "    histf(column, data=data, ax=ax1, subplots=True, show=False, **kwargs)\n",
    "    histf(column, data=data, ax=ax2, subplots=True, show=False, qtl=qtl, **kwargs)\n",
    "    plt.show()\n",
    "# Развитая форма этого чудовища должна принимать список квантилей,\n",
    "# и строить столько графиков, сколько квантилей указано,\n",
    "# и качестве центра диапазона выбирать медиану.\n",
    "# Пора перейти к аналитике."
   ]
  },
  {
   "cell_type": "code",
   "execution_count": 13,
   "id": "340d35e5",
   "metadata": {},
   "outputs": [],
   "source": [
    "def typical(data, column, ratio=1.5):\n",
    "    q1 = data[column].quantile(0.25)\n",
    "    q3 = data[column].quantile(0.75)\n",
    "    iqr = q3 - q1\n",
    "    whiskers = iqr * ratio\n",
    "    low = q1 - whiskers\n",
    "    high = q3 + whiskers\n",
    "    \n",
    "    print(f'{column.title()}: min = {data[column].min()},'\n",
    "          f' max = {data[column].max()},'\n",
    "          f' normal range = [{low:.2f} ... {high:.2f}]')\n",
    "\n",
    "    return data.query(f'@low <= {column} <= @high')"
   ]
  },
  {
   "cell_type": "code",
   "execution_count": 14,
   "id": "9a9c6d32",
   "metadata": {},
   "outputs": [],
   "source": [
    "def find_cat_and_num_cols(df):\n",
    "    # find categorical and numerical columns\n",
    "    \n",
    "    categorical_columns = [c for c in df.columns if df[c].dtype.name == 'object']\n",
    "    numerical_columns   = [c for c in df.columns if df[c].dtype.name != 'object']\n",
    "    \n",
    "    return categorical_columns, numerical_columns\n",
    "\n",
    "categorical_properties, quantitative_properties = find_cat_and_num_cols(pd.DataFrame(data=[]))\n",
    "\n",
    "key_column = ''\n",
    "\n",
    "def batch_corr(data, column=key_column):\n",
    "    print(headline('Коэффициенты линейной корреляции'))\n",
    "    display(\n",
    "            data\n",
    "            .reindex(columns=(categorical_properties + quantitative_properties))\n",
    "            .corr()\n",
    "            [column].sort_values(ascending=False)\n",
    "    )\n",
    "\n",
    "def batch_scatter(data, column=key_column):\n",
    "    for prop in quantitative_properties:\n",
    "        if prop == column:\n",
    "            continue\n",
    "        data.plot(\n",
    "            kind='scatter', alpha=0.2, figsize=FIGSIZE,\n",
    "            y=column,\n",
    "            x=prop,\n",
    "        )\n",
    "    plt.show()\n",
    "\n",
    "def batch_box(data, column=key_column, by_props=categorical_properties):\n",
    "    for prop in by_props:\n",
    "        data.boxplot(\n",
    "            column=column,\n",
    "            by=prop,\n",
    "            figsize=FIGSIZE,\n",
    "        )\n",
    "    plt.show()"
   ]
  },
  {
   "cell_type": "markdown",
   "id": "21b0ee10",
   "metadata": {},
   "source": [
    "## Сбор, обзор и исправление данных"
   ]
  },
  {
   "cell_type": "code",
   "execution_count": 15,
   "id": "7a1b681b",
   "metadata": {
    "scrolled": false
   },
   "outputs": [
    {
     "data": {
      "text/plain": [
       "150"
      ]
     },
     "execution_count": 15,
     "metadata": {},
     "output_type": "execute_result"
    }
   ],
   "source": [
    "resp = mover.get('/support/me/freighters.json')\n",
    "resp.keys()\n",
    "len(resp['freighters'])"
   ]
  },
  {
   "cell_type": "code",
   "execution_count": 16,
   "id": "276e3c52",
   "metadata": {
    "scrolled": false
   },
   "outputs": [
    {
     "name": "stdout",
     "output_type": "stream",
     "text": [
      " ID | экип | маш  | сотр | Имя перевозчика\n",
      "122 |    0 |    0 |    0 | 1\n",
      "  5 |    0 |    8 |    6 | Gazelchik\n",
      " 14 |   32 |   20 |   20 | LiveCargo\n",
      "  1 |   22 |   20 |   20 | MOVER\n",
      "  8 |  238 |   20 |   20 | MOVER - СОЦ\n",
      " 10 |   10 |   20 |   20 | MOVER - СТАР\n",
      "110 |    1 |    2 |    2 | MOVER СПБ\n",
      "  2 |    0 |    1 |    0 | Mover Упаковка\n",
      "  6 |    6 |   20 |   20 | Pereezdik\n",
      "  4 |    0 |   20 |   20 | Podorojnik\n",
      "  3 |    0 |    8 |    8 | Timegruz\n",
      "  7 |    0 |    2 |    0 | ааааа\n",
      "  9 |    0 |    1 |    1 | АВАНГАРД ПЛЮС\n",
      "111 |  100 |   20 |   20 | Автофлот\n",
      " 88 |    1 |    1 |    1 | Бирюков Сергей Сергеевич ИП\n",
      " 42 |    0 |   12 |   14 | ГепардСити\n",
      "106 |  828 |   20 |   20 | Грузовичкоф\n",
      "143 |   13 |   14 |   14 | Грузовичкоф XXL\n",
      "136 |   19 |   19 |   19 | Грузовичкоф Казань\n",
      "146 |   13 |   15 |   13 | Грузовичкоф Краснодар\n",
      "120 |    5 |    5 |    5 | Грузовичкоф Псков\n",
      "108 |   24 |   20 |   20 | Грузовичкоф Спб\n",
      " 11 |    0 |    2 |    2 | Евростар\n",
      "105 |   11 |   11 |   16 | ЕвроТранс\n",
      "124 |    1 |    1 |    1 | ИП Абдряхимов Алексей Ярулович\n",
      " 27 |    1 |    3 |    2 | ИП Абышев Эрнис Абдыбекович\n",
      " 86 |    0 |    1 |    1 | ИП Алдонов Александр Александрович\n",
      " 43 |    0 |    1 |    1 | ИП Асланов Анвар Джамалович\n",
      " 65 |    0 |    1 |    1 | ИП Астахова Юлия Владимировна\n",
      " 64 |    0 |    2 |    1 | ИП Бабин Евгений Евгеньевич\n",
      " 89 |    1 |    1 |    1 | ИП Балов Виталий Федорович\n",
      " 17 |    0 |    1 |    1 | ИП Баранов Алексей Николаевич\n",
      " 63 |    0 |    1 |    1 | ИП Башурин Евгений Владимирович\n",
      "133 |    1 |    1 |    1 | ИП Безпалов Игорь Георгиевич\n",
      " 49 |    0 |    1 |    1 | ИП Белкин Евгений Иванович\n",
      " 40 |    1 |    1 |    1 | ИП Брагуца Александр Тимофеевич\n",
      " 37 |    0 |    1 |    1 | ИП Брус Дмитрий Геннадьевич\n",
      " 26 |    1 |    1 |    1 | ИП Бурова Татьяна Владимировна\n",
      " 95 |    0 |    1 |    1 | ИП Бурынкин Дмитрий Владимирович\n",
      " 28 |    0 |    1 |    1 | ИП Вакуленко Денис Вячеславович\n",
      "145 |    1 |    1 |    1 | ИП Ванян\n",
      " 75 |    0 |    1 |    1 | ИП Водяницкий Роман Павлович\n",
      " 72 |    0 |    1 |    1 | ИП Газзаев Георгий Львович\n",
      "123 |    1 |    1 |    1 | ИП Галицкий Владимир Николаевич\n",
      "103 |    1 |    1 |    1 | ИП Гаспарян Карен Сержикович\n",
      "132 |    1 |    1 |    1 | ИП Герасимчук Олег Викторович\n",
      "138 |    1 |    1 |    1 | ИП Голодяев Дмитрий Владимирович\n",
      " 76 |    0 |    1 |    1 | ИП Гончаров Дмитрий Сергеевич\n",
      "125 |    1 |    1 |    1 | ИП Горобец Андрей Игоревич\n",
      " 82 |    0 |    1 |    1 | ИП Губарев Виталий Вячеславович\n",
      " 20 |    0 |    1 |    1 | ИП Денискин Алексей Валерьевич\n",
      " 81 |    0 |    1 |    1 | ИП Дзаудинов Исмаил Султанович\n",
      " 90 |    1 |    1 |    1 | ИП Добров Дмитрий Андреевич\n",
      " 45 |    0 |    1 |    1 | ИП Добрынин Роман Владимирович\n",
      " 30 |    0 |    1 |    1 | ИП Досматов Икрамжан Кабылович\n",
      " 70 |    0 |    1 |    1 | ИП Дранников Иван Андреевич\n",
      " 19 |    1 |    1 |    1 | ИП Друми Вадим Петрович\n",
      "118 |    1 |    1 |    1 | ИП Евстропов\n",
      " 97 |    1 |    1 |    1 | ИП Захаров Александр Сергеевич\n",
      " 68 |    0 |    1 |    1 | ИП Зулумбеков Болотбек Орозбекович\n",
      " 66 |    0 |    1 |    1 | ИП Иванов Алексей Александрович\n",
      "117 |    1 |    1 |    1 | ИП Иванов Виталий Витальевич\n",
      "144 |    1 |    1 |    1 | ИП Изаков Дмитрий Павлович\n",
      "129 |    1 |    1 |    1 | ИП Изаксон Евгений Игоревич\n",
      " 39 |    0 |    1 |    1 | ИП Искусных Анатолий Иванович\n",
      " 99 |    1 |    1 |    1 | ИП Исхаков Дамир Хамдеевич\n",
      " 46 |    0 |    2 |    1 | ИП Каламбаев Алмаз Садыкович\n",
      " 44 |    0 |    1 |    1 | ИП Капсамун Олег Дмитриевич\n",
      "147 |    1 |    1 |    1 | ИП Каргаполов Кирилл Александрович\n",
      "102 |    1 |    1 |    1 | ИП Каримжанов Умиджон Абдуманапович\n",
      "140 |    1 |    1 |    1 | ИП Карпенко Иван Анатольевич\n",
      " 50 |    1 |    2 |    1 | ИП Касимов Михаил Рашидович\n",
      " 93 |    1 |    1 |    1 | ИП Колосков Сергей Викторович\n",
      " 25 |    1 |    1 |    1 | ИП Комышев Алексей Васильевич\n",
      " 74 |    1 |    1 |    1 | ИП Коротков Алексей Владимирович\n",
      " 98 |    1 |    2 |    1 | ИП Коротков Валерий Петрович\n",
      " 15 |    0 |    1 |    1 | ИП Косарев Игорь Вячеславович\n",
      "131 |    1 |    1 |    1 | ИП Кочелева Елена Михайловна\n",
      "100 |    1 |    1 |    1 | ИП Круженков Сергей Александрович\n",
      " 57 |    0 |    1 |    1 | ИП Кудрявцев Сергей Юрьевич\n",
      " 77 |    0 |    1 |    1 | ИП Кузнецов Станислав Владимирович\n",
      " 67 |    0 |    1 |    1 | ИП Куликов Владимир Олегович\n",
      "112 |    1 |    1 |    1 | ИП Куничев Константин Иванович\n",
      "109 |    1 |    1 |    1 | ИП Купов Алим Мухамедович\n",
      " 38 |    0 |    1 |    1 | ИП Лавренов Евгений Владимирович\n",
      " 55 |    1 |    2 |    1 | ИП Мамедов Руслан Фахрадович\n",
      " 69 |    0 |    1 |    1 | ИП Мглинец Александр Викторович\n",
      " 24 |    0 |    1 |    1 | ИП Мовсисян Элла Тиграновна\n",
      " 83 |    1 |    1 |    1 | ИП Морозов Руслан Сергеевич\n",
      " 21 |    0 |    1 |    1 | ИП Мурзин Александр Владимирович\n",
      " 22 |    0 |    1 |    1 | ИП Мырзынку Дмитрий Николаевич\n",
      " 80 |    0 |    1 |    1 | ИП Никитушкин Михаил Игоревич\n",
      "141 |    0 |    0 |    1 | ИП Орешина (удалить)\n",
      "142 |    1 |    1 |    1 | ИП Орешина Лилия Михайловна\n",
      "116 |    1 |    2 |    1 | ИП Павлов Андрей Владимирович\n",
      " 87 |    0 |    1 |    1 | ИП Пайизбеков Сааданбек Пайизбекович\n",
      "130 |    1 |    1 |    1 | ИП Патурян Роберт Мкртычевич\n",
      "101 |    1 |    1 |    1 | ИП Петров Алексей Владимирович\n",
      " 53 |    0 |    1 |    1 | ИП Петров Владимир Владимирович\n",
      " 48 |    0 |    1 |    1 | ИП Поздяев Артем Юрьевич\n",
      " 61 |    0 |    1 |    1 | ИП Позняков Руслан Николаевич\n",
      " 33 |    0 |    1 |    1 | ИП Поляков Михаил Александрович\n",
      " 85 |    0 |    1 |    1 | ИП Расулов Руслан Ибрагимович\n",
      " 52 |    0 |    1 |    1 | ИП Рацэ Валерий Павлович\n",
      " 56 |    0 |    1 |    1 | ИП Решетов Алексей Валерьевич\n",
      " 29 |    0 |    1 |    1 | ИП Руфанов Максим Сергеевич\n",
      "113 |    1 |    1 |    1 | ИП Савин Алексей Валерьевич\n",
      " 36 |    0 |    1 |    1 | ИП Саидов Авез Амонович\n",
      " 32 |    0 |    1 |    1 | ИП Самурханов Мерзе Рагифович\n",
      "134 |    1 |    1 |    1 | ИП Семин Олег Александрович\n",
      "149 |    1 |    1 |    1 | ИП Сергеев Алексей Александрович\n",
      " 92 |    1 |    1 |    1 | ИП Сергеев Владимир Андреевич\n",
      " 73 |    0 |    1 |    1 | ИП Силаев Егор Дмитриевич\n",
      " 94 |    1 |    1 |    1 | ИП Скулаченко Ярослав Сергеевич\n",
      " 34 |    0 |    1 |    1 | ИП Смирнов Роман Викторович\n",
      " 47 |    0 |    1 |    1 | ИП Стареньков Михаил Сергеевич\n",
      "148 |    1 |    1 |    1 | ИП Суворов Дмитрий Геннадьевич\n",
      "135 |    1 |    1 |    1 | ИП Сульдин Юрий Иванович\n",
      " 96 |    1 |    1 |    1 | ИП Сычев Сергей Анатольевич\n",
      " 58 |    0 |    1 |    1 | ИП Тарвердян Карен Гевондович\n",
      " 59 |    1 |    1 |    1 | ИП Тихонов Сергей Павлович\n",
      "114 |    1 |    1 |    1 | ИП Торосян Самвел Месропович\n",
      "127 |    1 |    1 |    1 | ИП Турукин Владимир Геннадьевич\n",
      " 71 |    0 |    2 |    1 | ИП Тухсанов Бахром Рахимович\n",
      " 16 |    0 |    1 |    1 | ИП Украинский Виталий Иванович\n",
      " 79 |    0 |    1 |    1 | ИП Филимонов Евгений Владимирович\n",
      " 41 |    0 |    1 |    1 | ИП Филиппов Алексей Юрьевич\n",
      " 18 |    0 |    1 |    1 | ИП Хамзе Александр Юнесович\n",
      "104 |    1 |    1 |    1 | ИП Цзю Игорь Ильич\n",
      " 91 |    0 |    0 |    0 | ИП Цыганов Сергей Владимирович\n",
      " 60 |    0 |    1 |    1 | ИП Шикин Дмитрий Сергеевич\n",
      " 62 |    0 |    1 |    1 | ИП Шилов Никита Андреевич\n",
      "115 |    1 |    1 |    1 | ИП Щенев Игорь Сергеевич\n",
      " 23 |    1 |    5 |    4 | ИП Эфендиев Исмаил Халидович\n",
      " 78 |    3 |    4 |    4 | ИП Юмагужин Руслан Салаватович\n",
      " 31 |    0 |    1 |    1 | ИП Юсуфов Герман Ибрагимович\n",
      " 35 |    0 |    2 |    1 | ИП Ястремский Николай Николаевич\n",
      "119 |    1 |    1 |    1 | ООО \"Альянс-газ\"\n",
      "150 |    1 |    1 |    1 | ООО \"САТУРН\"\n",
      "137 |    5 |    6 |    5 | ООО «ГРИНЛАЙТ»\n",
      "126 |    1 |    1 |    1 | ООО АРВ ГРУПП\n",
      " 54 |    0 |    1 |    1 | ООО Мув ИТ\n",
      " 84 |    0 |    1 |    1 | ООО Полный песец\n",
      " 13 |    0 |    4 |    4 | ОПТИМА\n",
      " 12 |    0 |    3 |    3 | РефТрансКом\n",
      "139 |    0 |    0 |    0 | тест\n",
      " 51 |    6 |   16 |   18 | Тест-Юр.лицо\n",
      "107 |    0 |    0 |    0 | тест11\n",
      "121 |    6 |    7 |    9 | Хищник\n",
      "128 |   20 |   20 |   20 | Эверест\n",
      "150 | 1418 |  470 |  464\n"
     ]
    }
   ],
   "source": [
    "parks = resp['freighters']\n",
    "crews = []\n",
    "\n",
    "for p in parks:\n",
    "    resp = mover.get(f\"/freighter/{p['id']}/crews.json\")\n",
    "    crews += resp['crews']\n",
    "    p['total_crews'] = len(resp['crews'])\n",
    "\n",
    "print(' ID | экип | маш  | сотр | Имя перевозчика')\n",
    "print(f\"{p['id']:3} | {p['total_crews']:4} | {p['total_transports']:4} | {p['total_employers']:4} | {p['name']}\")\n",
    "print(f\"{len(parks):3} | {len(crews):4} | {len(transports):4} | {len(employers):4}\")"
   ]
  },
  {
   "cell_type": "code",
   "execution_count": null,
   "id": "26c1d69a",
   "metadata": {},
   "outputs": [],
   "source": []
  },
  {
   "cell_type": "code",
   "execution_count": null,
   "id": "90d0f853",
   "metadata": {},
   "outputs": [],
   "source": []
  },
  {
   "cell_type": "code",
   "execution_count": 17,
   "id": "3774d6bd",
   "metadata": {},
   "outputs": [
    {
     "data": {
      "text/plain": [
       "dict_keys(['id', 'loaders', 'self_loader', 'taxi', 'start_date', 'end_date', 'lat', 'lon', 'receive_delivery', 'last_point_at', 'created_at', 'transport', 'employer', 'freighter', 'tariff_tiers'])"
      ]
     },
     "execution_count": 17,
     "metadata": {},
     "output_type": "execute_result"
    }
   ],
   "source": [
    "crews_item = crews[545]\n",
    "crews_item.keys()"
   ]
  },
  {
   "cell_type": "code",
   "execution_count": 18,
   "id": "826b144a",
   "metadata": {},
   "outputs": [
    {
     "name": "stdout",
     "output_type": "stream",
     "text": [
      "dict_keys(['success', 'crew', 'orders'])\n"
     ]
    },
    {
     "data": {
      "text/plain": [
       "dict_keys(['id', 'loaders', 'self_loader', 'taxi', 'start_date', 'end_date', 'lat', 'lon', 'receive_delivery', 'last_point_at', 'created_at', 'transport', 'employer', 'freighter', 'tariff_tiers'])"
      ]
     },
     "execution_count": 18,
     "metadata": {},
     "output_type": "execute_result"
    }
   ],
   "source": [
    "resp = mover.get('/freighter/106/crews/10765.json')\n",
    "print(resp.keys())\n",
    "crew = resp['crew']\n",
    "crew.keys()"
   ]
  },
  {
   "cell_type": "code",
   "execution_count": 19,
   "id": "329ebda0",
   "metadata": {},
   "outputs": [
    {
     "name": "stdout",
     "output_type": "stream",
     "text": [
      "dict_keys(['success', 'transport'])\n"
     ]
    },
    {
     "data": {
      "text/plain": [
       "dict_keys(['features', 'id', 'freighter', 'car_model', 'crews', 'photos'])"
      ]
     },
     "execution_count": 19,
     "metadata": {},
     "output_type": "execute_result"
    }
   ],
   "source": [
    "resp = mover.get('/freighter/106/transports/1840.json')\n",
    "print(resp.keys())\n",
    "transport = resp['transport']\n",
    "transport.keys()"
   ]
  },
  {
   "cell_type": "code",
   "execution_count": 20,
   "id": "2b0a65b5",
   "metadata": {},
   "outputs": [
    {
     "data": {
      "text/plain": [
       "dict_keys(['id', 'loaders', 'self_loader', 'taxi', 'start_date', 'end_date', 'lat', 'lon', 'receive_delivery', 'last_point_at', 'created_at', 'employer'])"
      ]
     },
     "execution_count": 20,
     "metadata": {},
     "output_type": "execute_result"
    }
   ],
   "source": [
    "transport['crews'][0].keys()"
   ]
  },
  {
   "cell_type": "code",
   "execution_count": 21,
   "id": "d6de97b7",
   "metadata": {},
   "outputs": [
    {
     "data": {
      "text/plain": [
       "dict_keys(['features', 'id', 'account', 'freighter', 'status', 'staffer'])"
      ]
     },
     "execution_count": 21,
     "metadata": {},
     "output_type": "execute_result"
    }
   ],
   "source": [
    "transport['crews'][0]['employer'].keys()"
   ]
  },
  {
   "cell_type": "code",
   "execution_count": 22,
   "id": "4fe41056",
   "metadata": {
    "scrolled": false
   },
   "outputs": [
    {
     "data": {
      "text/plain": [
       "{'success': True,\n",
       " 'user': {'id': 18691,\n",
       "  'email': 'gf-118602@mover24.ru',\n",
       "  'phone': '79253936455',\n",
       "  'is_active': True,\n",
       "  'updated_at': '2022-06-24T08:27:38+0300',\n",
       "  'account': {'id': 18835,\n",
       "   'name': 'Евгений',\n",
       "   'surname': 'Гуляев',\n",
       "   'patronymic': 'Юрьевич',\n",
       "   'phone': '79253936455',\n",
       "   'email': 'gf-118602@mover24.ru',\n",
       "   'rating': 4.5,\n",
       "   'is_test': False,\n",
       "   'created_at': '2022-03-31T12:48:25+0300',\n",
       "   'updated_at': '2022-06-24T08:27:38+0300',\n",
       "   'employer': {'features': {'empty': True},\n",
       "    'id': 2328,\n",
       "    'freighter': {'id': 106},\n",
       "    'crews': [{'id': 10173,\n",
       "      'loaders': 0,\n",
       "      'self_loader': False,\n",
       "      'taxi': False,\n",
       "      'start_date': '2022-03-31T12:48:26+0300',\n",
       "      'end_date': '2022-06-24T08:27:37+0300',\n",
       "      'lat': 55.916131,\n",
       "      'lon': 37.53817,\n",
       "      'receive_delivery': False,\n",
       "      'last_point_at': '2022-03-31T16:06:27+0300',\n",
       "      'created_at': '2022-03-31T12:48:26+0300',\n",
       "      'transport': {'features': {'capacity': '1_5',\n",
       "        'Tip_kuzova': 'Tent',\n",
       "        'Nalichie_gidroborta': False,\n",
       "        'Nalichie_telejki': False,\n",
       "        'Nalichie_remney': False,\n",
       "        'Nalichie_instrumentov_dlya_sborki_razborki': False,\n",
       "        'Razreshen_v_ezd_v_TTK': False,\n",
       "        'Razreshen_v_ezd_v_SK': False,\n",
       "        'Razreshen_v_ezd_na_MKAD': False,\n",
       "        'Dlina': 4,\n",
       "        'Shirina': 2,\n",
       "        'Vyisota': 2.2,\n",
       "        'Ob_em_m3': 17,\n",
       "        'Obschaya_vyisota': 2.5,\n",
       "        'Kvartirnyiy_pereezd': False,\n",
       "        'Ofisnyiy_pereezd': False,\n",
       "        'Bezlimit': False,\n",
       "        'Gruzovoe_taksi': False,\n",
       "        'Royal_': False,\n",
       "        'Seyf': False,\n",
       "        'Stroitel_nyie_materialyi': False,\n",
       "        'Jivotnyie': False,\n",
       "        'Produktyi_pitaniya': False,\n",
       "        'Mebel_': False,\n",
       "        'Byitovaya_tehnika': False,\n",
       "        'number': 'О093ТТ198'},\n",
       "       'id': 1500,\n",
       "       'freighter': {'id': 106},\n",
       "       'car_model': 'Газель ',\n",
       "       'active': True}},\n",
       "     {'id': 10765,\n",
       "      'loaders': 0,\n",
       "      'self_loader': False,\n",
       "      'taxi': False,\n",
       "      'start_date': '2022-06-24T08:27:38+0300',\n",
       "      'end_date': '2027-06-24T08:27:38+0300',\n",
       "      'lat': 55.855544,\n",
       "      'lon': 37.499921,\n",
       "      'receive_delivery': False,\n",
       "      'last_point_at': '2022-06-24T08:50:49+0300',\n",
       "      'created_at': '2022-06-24T08:27:38+0300',\n",
       "      'transport': {'features': {'Tip_kuzova': 'Tent',\n",
       "        'capacity': '1_5',\n",
       "        'Dlina': 4,\n",
       "        'Vyisota': 2.2,\n",
       "        'Shirina': 2,\n",
       "        'number': 'К790РК799',\n",
       "        'Ob_em_m3': 17},\n",
       "       'id': 1840,\n",
       "       'freighter': {'id': 106},\n",
       "       'car_model': 'Газель ',\n",
       "       'active': True}}],\n",
       "    'status': 'free',\n",
       "    'staffer': False,\n",
       "    'balance_mode': 'as_freighter',\n",
       "    'contacts': [],\n",
       "    'passports': [],\n",
       "    'devices': [],\n",
       "    'legal_entity': {'id': 199,\n",
       "     'name': 'ООО \"Экономные перевозки\"',\n",
       "     'short_name': 'ООО \"Экономные перевозки\"',\n",
       "     'brand': 'Грузовичкоф',\n",
       "     'type': 'ltd',\n",
       "     'inn': '7720353235',\n",
       "     'kpp': '774301001',\n",
       "     'ogrn': '1167746864889',\n",
       "     'bik': '044525161',\n",
       "     'bank': 'КБ \"ЛОКО-БАНК\" (АО)',\n",
       "     'correspondent_account': '30101810945250000161',\n",
       "     'checking_account': '40702810800019039002',\n",
       "     'legal_address': '125599, ГОРОД МОСКВА, УЛИЦА ИЖОРСКАЯ, ДОМ 5, ЭТАЖ 1 ПОМЕЩЕНИЕ III КОМН 2'},\n",
       "    'driver_license': [],\n",
       "    'taxpayer_certificate': []}}}}"
      ]
     },
     "execution_count": 22,
     "metadata": {},
     "output_type": "execute_result"
    }
   ],
   "source": [
    "mover.get('/freighter/106/employers/2328.json')"
   ]
  },
  {
   "cell_type": "code",
   "execution_count": 23,
   "id": "662f3cb7",
   "metadata": {},
   "outputs": [],
   "source": [
    "def get_keys_text(source):\n",
    "    \"\"\"Count keys used in all dictionnaries.\n",
    "    \n",
    "    For list of dicts.\n",
    "    \"\"\"\n",
    "    keys = collections.Counter()\n",
    "    for item in source:\n",
    "        keys.update(d.keys())\n",
    "    lines = []\n",
    "    for key, value in keys.most_common():\n",
    "        lines.append('{} : {}'.format(key, value))\n",
    "    return '\\n'.join(lines)"
   ]
  },
  {
   "cell_type": "code",
   "execution_count": 24,
   "id": "25578cda",
   "metadata": {},
   "outputs": [],
   "source": [
    "draft_storage = pathlib.Path('C:/users/okean/code/operatto/var/mover/support/me/drafts/')\n",
    "\n",
    "drafts = []\n",
    "for path in list(draft_storage.iterdir()):\n",
    "    draft = json.loads(path.read_text(encoding='utf-8'))\n",
    "    drafts.append(draft)"
   ]
  },
  {
   "cell_type": "code",
   "execution_count": 25,
   "id": "c03270d4",
   "metadata": {},
   "outputs": [
    {
     "data": {
      "text/plain": [
       "['id',\n",
       " 'fixed_discount',\n",
       " 'percent_discount',\n",
       " 'search_try',\n",
       " 'taxi',\n",
       " 'assembly',\n",
       " 'nearest',\n",
       " 'repeatable_search',\n",
       " 'pending_search',\n",
       " 'delivery',\n",
       " 'manual_search',\n",
       " 'cargo_storage',\n",
       " 'test',\n",
       " 'is_freighters_draft',\n",
       " 'auto_accept_taxi',\n",
       " 'auto_assigment_crew',\n",
       " 'auto_external_search',\n",
       " 'updated_at',\n",
       " 'created_at',\n",
       " 'comment',\n",
       " 'pay_method',\n",
       " 'taxi_schema',\n",
       " 'static_map',\n",
       " 'calculation',\n",
       " 'client',\n",
       " 'points',\n",
       " 'orders',\n",
       " 'delivery_products',\n",
       " 'search_employee_statuses',\n",
       " 'delivery_tracks',\n",
       " 'destinations',\n",
       " 'features',\n",
       " 'employer_filters',\n",
       " 'crew_filters',\n",
       " 'freighter_filters',\n",
       " 'city',\n",
       " 'areas',\n",
       " 'insurances',\n",
       " 'time_at_way',\n",
       " 'loaders',\n",
       " 'distance',\n",
       " 'out_mkad_distance',\n",
       " 'entry_ttk',\n",
       " 'cost',\n",
       " 'taxi_search',\n",
       " 'avoid_ttk',\n",
       " 'extra_search_params',\n",
       " 'delivery_time_slot_begin',\n",
       " 'delivery_time_slot_end',\n",
       " 'delivery_status',\n",
       " 'start_delivery_search_at',\n",
       " 'delivery_schema',\n",
       " 'delivery_company_client',\n",
       " 'legal_entity',\n",
       " 'notes',\n",
       " 'intercom_dialog',\n",
       " 'minutes',\n",
       " 'custom_minutes',\n",
       " 'delivery_storehouse_arrival',\n",
       " 'delivery_schedule',\n",
       " 'total_cost',\n",
       " 'freighter_external_id',\n",
       " 'external_freighter',\n",
       " 'taxi_loaders_schema',\n",
       " 'pay_method_option']"
      ]
     },
     "execution_count": 25,
     "metadata": {},
     "output_type": "execute_result"
    }
   ],
   "source": [
    "[\n",
    "    # int\n",
    "    'id', 'fixed_discount', 'percent_discount', 'search_try',\n",
    "\n",
    "    # bool\n",
    "    'taxi', 'assembly', 'nearest', 'repeatable_search', 'pending_search', 'delivery', 'manual_search', 'cargo_storage',\n",
    "    'test', 'is_freighters_draft', 'auto_accept_taxi', 'auto_assigment_crew', 'auto_external_search',\n",
    "\n",
    "    # timestamp\n",
    "    'updated_at', 'created_at',\n",
    "    \n",
    "    # str\n",
    "    'comment', 'pay_method', 'taxi_schema',\n",
    "    \n",
    "    # dict\n",
    "    'static_map', 'calculation', 'client',\n",
    "    \n",
    "    # list\n",
    "    'points', 'orders', 'delivery_products', 'search_employee_statuses', 'delivery_tracks', 'destinations',\n",
    "    #'photos',\n",
    "\n",
    "    'features', 'employer_filters', 'crew_filters', 'freighter_filters', 'city', 'areas', 'insurances',\n",
    "    'time_at_way', 'loaders', 'distance', 'out_mkad_distance', 'entry_ttk', 'cost', 'taxi_search', 'avoid_ttk',\n",
    "    'extra_search_params', 'delivery_time_slot_begin', 'delivery_time_slot_end', 'delivery_status',\n",
    "    'start_delivery_search_at', 'delivery_schema', 'delivery_company_client', 'legal_entity', 'notes', 'intercom_dialog',\n",
    "    'minutes', 'custom_minutes', 'delivery_storehouse_arrival', 'delivery_schedule', 'total_cost', 'freighter_external_id',\n",
    "    'external_freighter', 'taxi_loaders_schema', 'pay_method_option',\n",
    "]"
   ]
  },
  {
   "cell_type": "code",
   "execution_count": null,
   "id": "1c9b9a44",
   "metadata": {},
   "outputs": [],
   "source": []
  },
  {
   "cell_type": "code",
   "execution_count": null,
   "id": "333f115a",
   "metadata": {},
   "outputs": [],
   "source": []
  },
  {
   "cell_type": "code",
   "execution_count": null,
   "id": "60c47c10",
   "metadata": {},
   "outputs": [],
   "source": []
  },
  {
   "cell_type": "code",
   "execution_count": null,
   "id": "eee77b3f",
   "metadata": {},
   "outputs": [],
   "source": []
  },
  {
   "cell_type": "code",
   "execution_count": null,
   "id": "c7f0d13e",
   "metadata": {},
   "outputs": [],
   "source": []
  },
  {
   "cell_type": "markdown",
   "id": "cf122439",
   "metadata": {},
   "source": [
    "### Итоги обзора и исправления данных\n",
    "\n",
    "- Первый;\n",
    "- Второй;\n",
    "- Третий."
   ]
  },
  {
   "cell_type": "markdown",
   "id": "a6c058dc",
   "metadata": {},
   "source": [
    "## Расходы каждого пользователя в месяц"
   ]
  },
  {
   "cell_type": "markdown",
   "id": "52d83e4c",
   "metadata": {},
   "source": [
    "### Итоги подготовки информации о расходах:\n",
    "\n",
    "- Первый;\n",
    "- Второй;\n",
    "- Третий."
   ]
  },
  {
   "cell_type": "markdown",
   "id": "b1548e11",
   "metadata": {},
   "source": [
    "## Анализ расходов"
   ]
  },
  {
   "cell_type": "markdown",
   "id": "a2f3a2ac",
   "metadata": {},
   "source": [
    "### Итоги анализа расходов\n",
    "\n",
    "- Первый;\n",
    "- Второй;\n",
    "- Третий."
   ]
  },
  {
   "cell_type": "markdown",
   "id": "be8b306b",
   "metadata": {},
   "source": [
    "## Гипотезы и проверки"
   ]
  },
  {
   "cell_type": "markdown",
   "id": "fa499034",
   "metadata": {},
   "source": [
    "### Итоги проверки гипотез\n",
    "\n",
    "- Первый;\n",
    "- Второй;\n",
    "- Третий."
   ]
  },
  {
   "cell_type": "markdown",
   "id": "d1a9526a",
   "metadata": {},
   "source": [
    "## Общие итоги\n",
    "\n",
    "- Исследовано:\n",
    "  - выборка пяти сотен пользователей из разных регионов, подключившихся в 2018 году;\n",
    "  - полная статистика их потребления звонков, коротких сообщений и интернет-трафика.\n",
    "- **Подтверждённые выводы:**\n",
    "  - Пользователь тарифа **\"Ultra\"** приносит **в среднем на 33% больше выручки**, чем пользователь тарифа \"Smart\".\n",
    "  - **Средняя выручка** с пользователя **в Москве не отличается** от средней выручки с пользователя в других регионах.\n",
    "- Также обнаружено, что:\n",
    "  - Пользователей тарифа \"Smart\" в 4 раза больше;\n",
    "  - Среди тех, кто потребляет много, популярней тариф \"Ultra\";\n",
    "  - В среднем пользователи \"Smart\" потребляют столько, сколько включено в базовый пакет;\n",
    "  - При относительно небольшом увеличении потребления их чек заметно вырастает;\n",
    "  - Если потребление превышает 100 звонков (или 750 минут), или 110 сообщений, или 25 ГБ в месяц - пользователи предпочитают тариф \"Ultra\";\n",
    "  - Пользователи \"Ultra\" потребляют только треть от базового пакета;\n",
    "  - И 85% из них платят только базовый платёж.\n",
    "- Предположения:\n",
    "  - Пользователи \"Smart\":\n",
    "    - сознательно ограничивают своё потребление;\n",
    "    - при повышении потребления переходят на гораздо более содержательный \"Ultra\".\n",
    "  - Пользователи \"Ultra\":\n",
    "    - при повышении потребления вдвое не станут платить вдвое больше."
   ]
  },
  {
   "cell_type": "markdown",
   "id": "671c6f26",
   "metadata": {},
   "source": [
    "### Рекомендации\n",
    "\n",
    "**Описание**\n",
    "\n",
    "- пишем от лица \"мы\", употребляем подходящие времена\n",
    "- Пиши краткие промежуточные выводы.\n",
    "- Сделай общий вывод по итогам проекта в отдельном разделе.\n",
    "- Сохрани идеи и код, который помогает принимать промежуточные решения.\n",
    "- удали неработающий код\n",
    "- комментарии ставь перед кодом\n",
    "- вынеси комментарии в маркдаун\n",
    "- подробно описывай процесс, что и почему ты делаешь\n",
    "- за каждым пояснением - ячейка с кодом. Одна ячейка - один шаг\n",
    "- перед отправкой - перезапусти вессь проект, убедись, что все ячейки сработали верно\n",
    "\n",
    "**Вывод данных**\n",
    "- Каждому объекту данных (фрейм, график) - дай название, подпись, подпиши столбцы и оси.\n",
    "- Таблицы давай выборками, .head() и .tail()\n",
    "- таблицы выводи по display()  # from IPython.display import display\n",
    "\n",
    "**Итоги**\n",
    "- краткий обзор проведённой работы: что выполнили, рассчитали:\n",
    "- главные выводы: ответы на поставленные вопросы\n",
    "- рекомендации: как избежать неправильных данных, как отобрать признаки для прогнозирования в будущем"
   ]
  },
  {
   "cell_type": "markdown",
   "id": "f073b277",
   "metadata": {},
   "source": [
    "На что обращают внимание при проверке проекта:\n",
    "- [ ] Как вы описываете выявленные в данных проблемы?\n",
    "- [ ] Как готовите датасет к анализу?\n",
    "- [ ] Какие строите графики для распределений и как их объясняете?\n",
    "- [ ] Как рассчитываете стандартное отклонение и дисперсию?\n",
    "- [ ] Формулируете ли альтернативную и нулевую гипотезы?\n",
    "- [ ] Какие методы применяете, чтобы их проверить?\n",
    "- [ ] Объясняете результат проверки гипотезы или нет?\n",
    "- [ ] Соблюдаете ли структуру проекта и поддерживаете аккуратность кода?\n",
    "- [ ] Какие выводы делаете?\n",
    "- [ ] Оставляете ли комментарии к шагам?"
   ]
  },
  {
   "cell_type": "code",
   "execution_count": null,
   "id": "23f8a0b8",
   "metadata": {},
   "outputs": [],
   "source": []
  }
 ],
 "metadata": {
  "kernelspec": {
   "display_name": "Python 3 (ipykernel)",
   "language": "python",
   "name": "python3"
  },
  "language_info": {
   "codemirror_mode": {
    "name": "ipython",
    "version": 3
   },
   "file_extension": ".py",
   "mimetype": "text/x-python",
   "name": "python",
   "nbconvert_exporter": "python",
   "pygments_lexer": "ipython3",
   "version": "3.10.6"
  },
  "toc": {
   "base_numbering": 1,
   "nav_menu": {},
   "number_sections": true,
   "sideBar": true,
   "skip_h1_title": true,
   "title_cell": "Содержание",
   "title_sidebar": "Содержание",
   "toc_cell": true,
   "toc_position": {
    "height": "calc(100% - 180px)",
    "left": "10px",
    "top": "150px",
    "width": "258.797px"
   },
   "toc_section_display": true,
   "toc_window_display": true
  }
 },
 "nbformat": 4,
 "nbformat_minor": 5
}
