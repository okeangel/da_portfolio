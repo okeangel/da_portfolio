{
 "cells": [
  {
   "cell_type": "markdown",
   "id": "3e33cb24",
   "metadata": {},
   "source": [
    "# Финальный спринт. Задачи по SQL."
   ]
  },
  {
   "cell_type": "markdown",
   "id": "9f45ca87",
   "metadata": {
    "toc": true
   },
   "source": [
    "<h1>Содержание<span class=\"tocSkip\"></span></h1>\n",
    "<div class=\"toc\"><ul class=\"toc-item\"><li><span><a href=\"#Цели-и-задачи\" data-toc-modified-id=\"Цели-и-задачи-1\"><span class=\"toc-item-num\">1&nbsp;&nbsp;</span>Цели и задачи</a></span><ul class=\"toc-item\"><li><span><a href=\"#Задания\" data-toc-modified-id=\"Задания-1.1\"><span class=\"toc-item-num\">1.1&nbsp;&nbsp;</span>Задания</a></span></li></ul></li><li><span><a href=\"#Описание-данных\" data-toc-modified-id=\"Описание-данных-2\"><span class=\"toc-item-num\">2&nbsp;&nbsp;</span>Описание данных</a></span><ul class=\"toc-item\"><li><span><a href=\"#Книги-books\" data-toc-modified-id=\"Книги-books-2.1\"><span class=\"toc-item-num\">2.1&nbsp;&nbsp;</span>Книги <code>books</code></a></span></li><li><span><a href=\"#Авторы-authors\" data-toc-modified-id=\"Авторы-authors-2.2\"><span class=\"toc-item-num\">2.2&nbsp;&nbsp;</span>Авторы <code>authors</code></a></span></li><li><span><a href=\"#Издательства-publishers\" data-toc-modified-id=\"Издательства-publishers-2.3\"><span class=\"toc-item-num\">2.3&nbsp;&nbsp;</span>Издательства <code>publishers</code></a></span></li><li><span><a href=\"#Оценки-книг-пользователями-ratings\" data-toc-modified-id=\"Оценки-книг-пользователями-ratings-2.4\"><span class=\"toc-item-num\">2.4&nbsp;&nbsp;</span>Оценки книг пользователями <code>ratings</code></a></span></li><li><span><a href=\"#Обзоры-книг-пользователями-reviews\" data-toc-modified-id=\"Обзоры-книг-пользователями-reviews-2.5\"><span class=\"toc-item-num\">2.5&nbsp;&nbsp;</span>Обзоры книг пользователями <code>reviews</code></a></span></li></ul></li><li><span><a href=\"#Подключение-к-БД.-Обзор-таблиц.\" data-toc-modified-id=\"Подключение-к-БД.-Обзор-таблиц.-3\"><span class=\"toc-item-num\">3&nbsp;&nbsp;</span>Подключение к БД. Обзор таблиц.</a></span></li><li><span><a href=\"#Решения-задач\" data-toc-modified-id=\"Решения-задач-4\"><span class=\"toc-item-num\">4&nbsp;&nbsp;</span>Решения задач</a></span><ul class=\"toc-item\"><li><span><a href=\"#Сколько-вышло-книг-после-1-января-2000-года\" data-toc-modified-id=\"Сколько-вышло-книг-после-1-января-2000-года-4.1\"><span class=\"toc-item-num\">4.1&nbsp;&nbsp;</span>Сколько вышло книг после 1 января 2000 года</a></span></li><li><span><a href=\"#Количество-обзоров-и-средняя-оценка-каждой-книги\" data-toc-modified-id=\"Количество-обзоров-и-средняя-оценка-каждой-книги-4.2\"><span class=\"toc-item-num\">4.2&nbsp;&nbsp;</span>Количество обзоров и средняя оценка каждой книги</a></span></li><li><span><a href=\"#Определить-издательство,-которое-выпустило-больше-всего-книг-(толще-50-страниц)\" data-toc-modified-id=\"Определить-издательство,-которое-выпустило-больше-всего-книг-(толще-50-страниц)-4.3\"><span class=\"toc-item-num\">4.3&nbsp;&nbsp;</span>Определить издательство, которое выпустило больше всего книг (толще 50 страниц)</a></span></li><li><span><a href=\"#Определить-автора-с-самой-высокой-средней-оценкой-книг-(книги-только-с-50-и-более-оценками)\" data-toc-modified-id=\"Определить-автора-с-самой-высокой-средней-оценкой-книг-(книги-только-с-50-и-более-оценками)-4.4\"><span class=\"toc-item-num\">4.4&nbsp;&nbsp;</span>Определить автора с самой высокой средней оценкой книг (книги только с 50 и более оценками)</a></span></li><li><span><a href=\"#Среднее-количество-обзоров-от-пользователей,-которые-поставили-более-50-оценок\" data-toc-modified-id=\"Среднее-количество-обзоров-от-пользователей,-которые-поставили-более-50-оценок-4.5\"><span class=\"toc-item-num\">4.5&nbsp;&nbsp;</span>Среднее количество обзоров от пользователей, которые поставили более 50 оценок</a></span></li></ul></li><li><span><a href=\"#Общий-вывод-исследования\" data-toc-modified-id=\"Общий-вывод-исследования-5\"><span class=\"toc-item-num\">5&nbsp;&nbsp;</span>Общий вывод исследования</a></span></li></ul></div>"
   ]
  },
  {
   "cell_type": "markdown",
   "id": "aeba8be1",
   "metadata": {},
   "source": [
    "## Цели и задачи\n",
    "\n",
    "Задача - анализ базы данных крупного сервиса для чтения книг по подписке. Эти данные помогут сформулировать ценностное предложение для нового продукта.\n",
    "\n",
    "### Задания\n",
    "\n",
    "- Посчитайте, сколько книг вышло после 1 января 2000 года;\n",
    "- Для каждой книги посчитайте количество обзоров и среднюю оценку;\n",
    "- Определите издательство, которое выпустило наибольшее число книг толще 50 страниц — так вы исключите из анализа брошюры;\n",
    "- Определите автора с самой высокой средней оценкой книг — учитывайте только книги с 50 и более оценками;\n",
    "- Посчитайте среднее количество обзоров от пользователей, которые поставили больше 50 оценок.\n",
    "\n",
    "\n",
    "## Описание данных\n",
    "\n",
    "![](https://concrete-web-bad.notion.site/image/https%3A%2F%2Fs3-us-west-2.amazonaws.com%2Fsecure.notion-static.com%2F069818d1-0e5c-4d87-a461-0de584ab9c33%2FUntitled_(33).png?id=bd53c8db-b4fd-49eb-8cc9-572ebb3c9163&table=block&spaceId=9e4bd47b-c6e6-4ca3-bcee-279794b47315&width=1640&userId=&cache=v2)\n",
    "\n",
    "\n",
    "### Книги `books`\n",
    "\n",
    "- `book_id` — идентификатор книги;\n",
    "- `author_id` — идентификатор автора;\n",
    "- `title` — название книги;\n",
    "- `num_pages` — количество страниц;\n",
    "- `publication_date` — дата публикации книги;\n",
    "- `publisher_id` — идентификатор издателя.\n",
    "\n",
    "### Авторы `authors`\n",
    "\n",
    "- `author_id` — идентификатор автора;\n",
    "- `author` — имя автора.\n",
    "\n",
    "### Издательства `publishers`\n",
    "\n",
    "- `publisher_id` — идентификатор издательства;\n",
    "- `publisher` — название издательства;\n",
    "\n",
    "### Оценки книг пользователями `ratings`\n",
    "\n",
    "- `rating_id` — идентификатор оценки;\n",
    "- `book_id` — идентификатор книги;\n",
    "- `username` — имя пользователя, оставившего оценку;\n",
    "- `rating` — оценка книги.\n",
    "\n",
    "### Обзоры книг пользователями `reviews`\n",
    "\n",
    "- `review_id` — идентификатор обзора;\n",
    "- `book_id` — идентификатор книги;\n",
    "- `username` — имя пользователя, написавшего обзор;\n",
    "- `text` — текст обзора."
   ]
  },
  {
   "cell_type": "markdown",
   "id": "abcda56a",
   "metadata": {},
   "source": [
    "## Подключение к БД. Обзор таблиц."
   ]
  },
  {
   "cell_type": "code",
   "execution_count": 1,
   "id": "9fa3456e",
   "metadata": {},
   "outputs": [],
   "source": [
    "import pandas as pd\n",
    "from sqlalchemy import create_engine"
   ]
  },
  {
   "cell_type": "code",
   "execution_count": 2,
   "id": "64abe702",
   "metadata": {},
   "outputs": [],
   "source": [
    "def headline(line, width=79):\n",
    "    \"\"\"Return the string in plain uppercase text with pseudographics\"\"\"\n",
    "    return f'\\n{line.upper():=^{width}}'"
   ]
  },
  {
   "cell_type": "code",
   "execution_count": 3,
   "id": "dd11bd0e",
   "metadata": {},
   "outputs": [],
   "source": [
    "def get(query):\n",
    "    return pd.io.sql.read_sql(query, con = engine)"
   ]
  },
  {
   "cell_type": "code",
   "execution_count": 4,
   "id": "86b9dc65",
   "metadata": {},
   "outputs": [],
   "source": [
    "# устанавливаем параметры\n",
    "db_config = {'user': 'praktikum_student', # имя пользователя\n",
    "             'pwd': 'Sdf4$2;d-d30pp', # пароль\n",
    "             'host': 'rc1b-wcoijxj3yxfsf3fs.mdb.yandexcloud.net',\n",
    "             'port': 6432, # порт подключения\n",
    "             'db': 'data-analyst-final-project-db'} # название базы данных\n",
    "connection_string = 'postgresql://{}:{}@{}:{}/{}'.format(db_config['user'],\n",
    "                                                         db_config['pwd'],\n",
    "                                                         db_config['host'],\n",
    "                                                         db_config['port'],\n",
    "                                                         db_config['db'])\n",
    "# сохраняем коннектор\n",
    "engine = create_engine(connection_string, connect_args={'sslmode':'require'})"
   ]
  },
  {
   "cell_type": "code",
   "execution_count": 5,
   "id": "60a9ddee",
   "metadata": {},
   "outputs": [
    {
     "name": "stdout",
     "output_type": "stream",
     "text": [
      "\n",
      "=====================================BOOKS=====================================\n"
     ]
    },
    {
     "data": {
      "text/html": [
       "<div>\n",
       "<style scoped>\n",
       "    .dataframe tbody tr th:only-of-type {\n",
       "        vertical-align: middle;\n",
       "    }\n",
       "\n",
       "    .dataframe tbody tr th {\n",
       "        vertical-align: top;\n",
       "    }\n",
       "\n",
       "    .dataframe thead th {\n",
       "        text-align: right;\n",
       "    }\n",
       "</style>\n",
       "<table border=\"1\" class=\"dataframe\">\n",
       "  <thead>\n",
       "    <tr style=\"text-align: right;\">\n",
       "      <th></th>\n",
       "      <th>book_id</th>\n",
       "      <th>author_id</th>\n",
       "      <th>title</th>\n",
       "      <th>num_pages</th>\n",
       "      <th>publication_date</th>\n",
       "      <th>publisher_id</th>\n",
       "    </tr>\n",
       "  </thead>\n",
       "  <tbody>\n",
       "    <tr>\n",
       "      <th>0</th>\n",
       "      <td>1</td>\n",
       "      <td>546</td>\n",
       "      <td>'Salem's Lot</td>\n",
       "      <td>594</td>\n",
       "      <td>2005-11-01</td>\n",
       "      <td>93</td>\n",
       "    </tr>\n",
       "    <tr>\n",
       "      <th>1</th>\n",
       "      <td>2</td>\n",
       "      <td>465</td>\n",
       "      <td>1 000 Places to See Before You Die</td>\n",
       "      <td>992</td>\n",
       "      <td>2003-05-22</td>\n",
       "      <td>336</td>\n",
       "    </tr>\n",
       "    <tr>\n",
       "      <th>2</th>\n",
       "      <td>3</td>\n",
       "      <td>407</td>\n",
       "      <td>13 Little Blue Envelopes (Little Blue Envelope...</td>\n",
       "      <td>322</td>\n",
       "      <td>2010-12-21</td>\n",
       "      <td>135</td>\n",
       "    </tr>\n",
       "    <tr>\n",
       "      <th>3</th>\n",
       "      <td>4</td>\n",
       "      <td>82</td>\n",
       "      <td>1491: New Revelations of the Americas Before C...</td>\n",
       "      <td>541</td>\n",
       "      <td>2006-10-10</td>\n",
       "      <td>309</td>\n",
       "    </tr>\n",
       "    <tr>\n",
       "      <th>4</th>\n",
       "      <td>5</td>\n",
       "      <td>125</td>\n",
       "      <td>1776</td>\n",
       "      <td>386</td>\n",
       "      <td>2006-07-04</td>\n",
       "      <td>268</td>\n",
       "    </tr>\n",
       "  </tbody>\n",
       "</table>\n",
       "</div>"
      ],
      "text/plain": [
       "   book_id  author_id                                              title  \\\n",
       "0        1        546                                       'Salem's Lot   \n",
       "1        2        465                 1 000 Places to See Before You Die   \n",
       "2        3        407  13 Little Blue Envelopes (Little Blue Envelope...   \n",
       "3        4         82  1491: New Revelations of the Americas Before C...   \n",
       "4        5        125                                               1776   \n",
       "\n",
       "   num_pages publication_date  publisher_id  \n",
       "0        594       2005-11-01            93  \n",
       "1        992       2003-05-22           336  \n",
       "2        322       2010-12-21           135  \n",
       "3        541       2006-10-10           309  \n",
       "4        386       2006-07-04           268  "
      ]
     },
     "metadata": {},
     "output_type": "display_data"
    },
    {
     "name": "stdout",
     "output_type": "stream",
     "text": [
      "\n",
      "====================================AUTHORS====================================\n"
     ]
    },
    {
     "data": {
      "text/html": [
       "<div>\n",
       "<style scoped>\n",
       "    .dataframe tbody tr th:only-of-type {\n",
       "        vertical-align: middle;\n",
       "    }\n",
       "\n",
       "    .dataframe tbody tr th {\n",
       "        vertical-align: top;\n",
       "    }\n",
       "\n",
       "    .dataframe thead th {\n",
       "        text-align: right;\n",
       "    }\n",
       "</style>\n",
       "<table border=\"1\" class=\"dataframe\">\n",
       "  <thead>\n",
       "    <tr style=\"text-align: right;\">\n",
       "      <th></th>\n",
       "      <th>author_id</th>\n",
       "      <th>author</th>\n",
       "    </tr>\n",
       "  </thead>\n",
       "  <tbody>\n",
       "    <tr>\n",
       "      <th>0</th>\n",
       "      <td>1</td>\n",
       "      <td>A.S. Byatt</td>\n",
       "    </tr>\n",
       "    <tr>\n",
       "      <th>1</th>\n",
       "      <td>2</td>\n",
       "      <td>Aesop/Laura Harris/Laura Gibbs</td>\n",
       "    </tr>\n",
       "    <tr>\n",
       "      <th>2</th>\n",
       "      <td>3</td>\n",
       "      <td>Agatha Christie</td>\n",
       "    </tr>\n",
       "    <tr>\n",
       "      <th>3</th>\n",
       "      <td>4</td>\n",
       "      <td>Alan Brennert</td>\n",
       "    </tr>\n",
       "    <tr>\n",
       "      <th>4</th>\n",
       "      <td>5</td>\n",
       "      <td>Alan Moore/David   Lloyd</td>\n",
       "    </tr>\n",
       "  </tbody>\n",
       "</table>\n",
       "</div>"
      ],
      "text/plain": [
       "   author_id                          author\n",
       "0          1                      A.S. Byatt\n",
       "1          2  Aesop/Laura Harris/Laura Gibbs\n",
       "2          3                 Agatha Christie\n",
       "3          4                   Alan Brennert\n",
       "4          5        Alan Moore/David   Lloyd"
      ]
     },
     "metadata": {},
     "output_type": "display_data"
    },
    {
     "name": "stdout",
     "output_type": "stream",
     "text": [
      "\n",
      "==================================PUBLISHERS===================================\n"
     ]
    },
    {
     "data": {
      "text/html": [
       "<div>\n",
       "<style scoped>\n",
       "    .dataframe tbody tr th:only-of-type {\n",
       "        vertical-align: middle;\n",
       "    }\n",
       "\n",
       "    .dataframe tbody tr th {\n",
       "        vertical-align: top;\n",
       "    }\n",
       "\n",
       "    .dataframe thead th {\n",
       "        text-align: right;\n",
       "    }\n",
       "</style>\n",
       "<table border=\"1\" class=\"dataframe\">\n",
       "  <thead>\n",
       "    <tr style=\"text-align: right;\">\n",
       "      <th></th>\n",
       "      <th>publisher_id</th>\n",
       "      <th>publisher</th>\n",
       "    </tr>\n",
       "  </thead>\n",
       "  <tbody>\n",
       "    <tr>\n",
       "      <th>0</th>\n",
       "      <td>1</td>\n",
       "      <td>Ace</td>\n",
       "    </tr>\n",
       "    <tr>\n",
       "      <th>1</th>\n",
       "      <td>2</td>\n",
       "      <td>Ace Book</td>\n",
       "    </tr>\n",
       "    <tr>\n",
       "      <th>2</th>\n",
       "      <td>3</td>\n",
       "      <td>Ace Books</td>\n",
       "    </tr>\n",
       "    <tr>\n",
       "      <th>3</th>\n",
       "      <td>4</td>\n",
       "      <td>Ace Hardcover</td>\n",
       "    </tr>\n",
       "    <tr>\n",
       "      <th>4</th>\n",
       "      <td>5</td>\n",
       "      <td>Addison Wesley Publishing Company</td>\n",
       "    </tr>\n",
       "  </tbody>\n",
       "</table>\n",
       "</div>"
      ],
      "text/plain": [
       "   publisher_id                          publisher\n",
       "0             1                                Ace\n",
       "1             2                           Ace Book\n",
       "2             3                          Ace Books\n",
       "3             4                      Ace Hardcover\n",
       "4             5  Addison Wesley Publishing Company"
      ]
     },
     "metadata": {},
     "output_type": "display_data"
    },
    {
     "name": "stdout",
     "output_type": "stream",
     "text": [
      "\n",
      "====================================RATINGS====================================\n"
     ]
    },
    {
     "data": {
      "text/html": [
       "<div>\n",
       "<style scoped>\n",
       "    .dataframe tbody tr th:only-of-type {\n",
       "        vertical-align: middle;\n",
       "    }\n",
       "\n",
       "    .dataframe tbody tr th {\n",
       "        vertical-align: top;\n",
       "    }\n",
       "\n",
       "    .dataframe thead th {\n",
       "        text-align: right;\n",
       "    }\n",
       "</style>\n",
       "<table border=\"1\" class=\"dataframe\">\n",
       "  <thead>\n",
       "    <tr style=\"text-align: right;\">\n",
       "      <th></th>\n",
       "      <th>rating_id</th>\n",
       "      <th>book_id</th>\n",
       "      <th>username</th>\n",
       "      <th>rating</th>\n",
       "    </tr>\n",
       "  </thead>\n",
       "  <tbody>\n",
       "    <tr>\n",
       "      <th>0</th>\n",
       "      <td>1</td>\n",
       "      <td>1</td>\n",
       "      <td>ryanfranco</td>\n",
       "      <td>4</td>\n",
       "    </tr>\n",
       "    <tr>\n",
       "      <th>1</th>\n",
       "      <td>2</td>\n",
       "      <td>1</td>\n",
       "      <td>grantpatricia</td>\n",
       "      <td>2</td>\n",
       "    </tr>\n",
       "    <tr>\n",
       "      <th>2</th>\n",
       "      <td>3</td>\n",
       "      <td>1</td>\n",
       "      <td>brandtandrea</td>\n",
       "      <td>5</td>\n",
       "    </tr>\n",
       "    <tr>\n",
       "      <th>3</th>\n",
       "      <td>4</td>\n",
       "      <td>2</td>\n",
       "      <td>lorichen</td>\n",
       "      <td>3</td>\n",
       "    </tr>\n",
       "    <tr>\n",
       "      <th>4</th>\n",
       "      <td>5</td>\n",
       "      <td>2</td>\n",
       "      <td>mariokeller</td>\n",
       "      <td>2</td>\n",
       "    </tr>\n",
       "  </tbody>\n",
       "</table>\n",
       "</div>"
      ],
      "text/plain": [
       "   rating_id  book_id       username  rating\n",
       "0          1        1     ryanfranco       4\n",
       "1          2        1  grantpatricia       2\n",
       "2          3        1   brandtandrea       5\n",
       "3          4        2       lorichen       3\n",
       "4          5        2    mariokeller       2"
      ]
     },
     "metadata": {},
     "output_type": "display_data"
    },
    {
     "name": "stdout",
     "output_type": "stream",
     "text": [
      "\n",
      "====================================REVIEWS====================================\n"
     ]
    },
    {
     "data": {
      "text/html": [
       "<div>\n",
       "<style scoped>\n",
       "    .dataframe tbody tr th:only-of-type {\n",
       "        vertical-align: middle;\n",
       "    }\n",
       "\n",
       "    .dataframe tbody tr th {\n",
       "        vertical-align: top;\n",
       "    }\n",
       "\n",
       "    .dataframe thead th {\n",
       "        text-align: right;\n",
       "    }\n",
       "</style>\n",
       "<table border=\"1\" class=\"dataframe\">\n",
       "  <thead>\n",
       "    <tr style=\"text-align: right;\">\n",
       "      <th></th>\n",
       "      <th>review_id</th>\n",
       "      <th>book_id</th>\n",
       "      <th>username</th>\n",
       "      <th>text</th>\n",
       "    </tr>\n",
       "  </thead>\n",
       "  <tbody>\n",
       "    <tr>\n",
       "      <th>0</th>\n",
       "      <td>1</td>\n",
       "      <td>1</td>\n",
       "      <td>brandtandrea</td>\n",
       "      <td>Mention society tell send professor analysis. ...</td>\n",
       "    </tr>\n",
       "    <tr>\n",
       "      <th>1</th>\n",
       "      <td>2</td>\n",
       "      <td>1</td>\n",
       "      <td>ryanfranco</td>\n",
       "      <td>Foot glass pretty audience hit themselves. Amo...</td>\n",
       "    </tr>\n",
       "    <tr>\n",
       "      <th>2</th>\n",
       "      <td>3</td>\n",
       "      <td>2</td>\n",
       "      <td>lorichen</td>\n",
       "      <td>Listen treat keep worry. Miss husband tax but ...</td>\n",
       "    </tr>\n",
       "    <tr>\n",
       "      <th>3</th>\n",
       "      <td>4</td>\n",
       "      <td>3</td>\n",
       "      <td>johnsonamanda</td>\n",
       "      <td>Finally month interesting blue could nature cu...</td>\n",
       "    </tr>\n",
       "    <tr>\n",
       "      <th>4</th>\n",
       "      <td>5</td>\n",
       "      <td>3</td>\n",
       "      <td>scotttamara</td>\n",
       "      <td>Nation purpose heavy give wait song will. List...</td>\n",
       "    </tr>\n",
       "  </tbody>\n",
       "</table>\n",
       "</div>"
      ],
      "text/plain": [
       "   review_id  book_id       username  \\\n",
       "0          1        1   brandtandrea   \n",
       "1          2        1     ryanfranco   \n",
       "2          3        2       lorichen   \n",
       "3          4        3  johnsonamanda   \n",
       "4          5        3    scotttamara   \n",
       "\n",
       "                                                text  \n",
       "0  Mention society tell send professor analysis. ...  \n",
       "1  Foot glass pretty audience hit themselves. Amo...  \n",
       "2  Listen treat keep worry. Miss husband tax but ...  \n",
       "3  Finally month interesting blue could nature cu...  \n",
       "4  Nation purpose heavy give wait song will. List...  "
      ]
     },
     "metadata": {},
     "output_type": "display_data"
    }
   ],
   "source": [
    "for table in ['books', 'authors', 'publishers', 'ratings', 'reviews']:\n",
    "    query = f'SELECT * FROM {table} LIMIT 5;'\n",
    "    print(headline(table))\n",
    "    display(get(query))"
   ]
  },
  {
   "cell_type": "markdown",
   "id": "e5b28103",
   "metadata": {},
   "source": [
    "**Выводы**:\n",
    "\n",
    "- Реальная структура базы данных совпадает с описанной."
   ]
  },
  {
   "cell_type": "markdown",
   "id": "e70f298f",
   "metadata": {},
   "source": [
    "## Решения задач"
   ]
  },
  {
   "cell_type": "markdown",
   "id": "57c20837",
   "metadata": {},
   "source": [
    "### Сколько вышло книг после 1 января 2000 года"
   ]
  },
  {
   "cell_type": "code",
   "execution_count": 6,
   "id": "ef044e7f",
   "metadata": {},
   "outputs": [
    {
     "data": {
      "text/html": [
       "<div>\n",
       "<style scoped>\n",
       "    .dataframe tbody tr th:only-of-type {\n",
       "        vertical-align: middle;\n",
       "    }\n",
       "\n",
       "    .dataframe tbody tr th {\n",
       "        vertical-align: top;\n",
       "    }\n",
       "\n",
       "    .dataframe thead th {\n",
       "        text-align: right;\n",
       "    }\n",
       "</style>\n",
       "<table border=\"1\" class=\"dataframe\">\n",
       "  <thead>\n",
       "    <tr style=\"text-align: right;\">\n",
       "      <th></th>\n",
       "      <th>count</th>\n",
       "    </tr>\n",
       "  </thead>\n",
       "  <tbody>\n",
       "    <tr>\n",
       "      <th>0</th>\n",
       "      <td>819</td>\n",
       "    </tr>\n",
       "  </tbody>\n",
       "</table>\n",
       "</div>"
      ],
      "text/plain": [
       "   count\n",
       "0    819"
      ]
     },
     "execution_count": 6,
     "metadata": {},
     "output_type": "execute_result"
    }
   ],
   "source": [
    "query = \"\"\"\n",
    "SELECT COUNT(*)\n",
    "FROM books\n",
    "WHERE publication_date > '2000-01-01';\n",
    "\"\"\"\n",
    "\n",
    "get(query)"
   ]
  },
  {
   "cell_type": "markdown",
   "id": "ce3938df",
   "metadata": {},
   "source": [
    "**Выводы**:\n",
    "\n",
    "- После 1 января 2000 выпущено 819 книг.\n",
    "- Строго говоря, не только книг, а любых изданий - поскольку в третьей задачей книгой называют конкретно издание толще 50 страниц.\n",
    "- Строго говоря, сама дата 1 января 2000 года в выборку не входит, поскольку так сформулирована задача."
   ]
  },
  {
   "cell_type": "code",
   "execution_count": 7,
   "id": "96f26e66",
   "metadata": {},
   "outputs": [
    {
     "data": {
      "text/html": [
       "<div>\n",
       "<style scoped>\n",
       "    .dataframe tbody tr th:only-of-type {\n",
       "        vertical-align: middle;\n",
       "    }\n",
       "\n",
       "    .dataframe tbody tr th {\n",
       "        vertical-align: top;\n",
       "    }\n",
       "\n",
       "    .dataframe thead th {\n",
       "        text-align: right;\n",
       "    }\n",
       "</style>\n",
       "<table border=\"1\" class=\"dataframe\">\n",
       "  <thead>\n",
       "    <tr style=\"text-align: right;\">\n",
       "      <th></th>\n",
       "      <th>count</th>\n",
       "    </tr>\n",
       "  </thead>\n",
       "  <tbody>\n",
       "    <tr>\n",
       "      <th>0</th>\n",
       "      <td>821</td>\n",
       "    </tr>\n",
       "  </tbody>\n",
       "</table>\n",
       "</div>"
      ],
      "text/plain": [
       "   count\n",
       "0    821"
      ]
     },
     "execution_count": 7,
     "metadata": {},
     "output_type": "execute_result"
    }
   ],
   "source": [
    "query = \"\"\"\n",
    "SELECT COUNT(*)\n",
    "FROM books\n",
    "WHERE publication_date >= '2000-01-01';\n",
    "\"\"\"\n",
    "\n",
    "get(query)"
   ]
  },
  {
   "cell_type": "markdown",
   "id": "f848fe8e",
   "metadata": {},
   "source": [
    "- Если поставить вопрос чуть иначе, то начиная с 1 января 2000 года вышло 821 издание."
   ]
  },
  {
   "cell_type": "markdown",
   "id": "d2dc253b",
   "metadata": {},
   "source": [
    "### Количество обзоров и средняя оценка каждой книги"
   ]
  },
  {
   "cell_type": "code",
   "execution_count": 8,
   "id": "3df7e74b",
   "metadata": {},
   "outputs": [
    {
     "data": {
      "text/html": [
       "<div>\n",
       "<style scoped>\n",
       "    .dataframe tbody tr th:only-of-type {\n",
       "        vertical-align: middle;\n",
       "    }\n",
       "\n",
       "    .dataframe tbody tr th {\n",
       "        vertical-align: top;\n",
       "    }\n",
       "\n",
       "    .dataframe thead th {\n",
       "        text-align: right;\n",
       "    }\n",
       "</style>\n",
       "<table border=\"1\" class=\"dataframe\">\n",
       "  <thead>\n",
       "    <tr style=\"text-align: right;\">\n",
       "      <th></th>\n",
       "      <th>author</th>\n",
       "      <th>title</th>\n",
       "      <th>publication_date</th>\n",
       "      <th>reviews_count</th>\n",
       "      <th>avg_rating</th>\n",
       "    </tr>\n",
       "  </thead>\n",
       "  <tbody>\n",
       "    <tr>\n",
       "      <th>0</th>\n",
       "      <td>Stephenie Meyer</td>\n",
       "      <td>Twilight (Twilight  #1)</td>\n",
       "      <td>2006-09-06</td>\n",
       "      <td>7</td>\n",
       "      <td>3.662500</td>\n",
       "    </tr>\n",
       "    <tr>\n",
       "      <th>1</th>\n",
       "      <td>J.K. Rowling/Mary GrandPré</td>\n",
       "      <td>Harry Potter and the Prisoner of Azkaban (Harr...</td>\n",
       "      <td>2004-05-01</td>\n",
       "      <td>6</td>\n",
       "      <td>4.414634</td>\n",
       "    </tr>\n",
       "    <tr>\n",
       "      <th>2</th>\n",
       "      <td>J.K. Rowling/Mary GrandPré</td>\n",
       "      <td>Harry Potter and the Chamber of Secrets (Harry...</td>\n",
       "      <td>1999-06-02</td>\n",
       "      <td>6</td>\n",
       "      <td>4.287500</td>\n",
       "    </tr>\n",
       "    <tr>\n",
       "      <th>3</th>\n",
       "      <td>Markus Zusak/Cao Xuân Việt Khương</td>\n",
       "      <td>The Book Thief</td>\n",
       "      <td>2006-03-14</td>\n",
       "      <td>6</td>\n",
       "      <td>4.264151</td>\n",
       "    </tr>\n",
       "    <tr>\n",
       "      <th>4</th>\n",
       "      <td>Jeannette Walls</td>\n",
       "      <td>The Glass Castle</td>\n",
       "      <td>2006-01-17</td>\n",
       "      <td>6</td>\n",
       "      <td>4.206897</td>\n",
       "    </tr>\n",
       "    <tr>\n",
       "      <th>...</th>\n",
       "      <td>...</td>\n",
       "      <td>...</td>\n",
       "      <td>...</td>\n",
       "      <td>...</td>\n",
       "      <td>...</td>\n",
       "    </tr>\n",
       "    <tr>\n",
       "      <th>995</th>\n",
       "      <td>Leonardo da Vinci/H. Anna Suh</td>\n",
       "      <td>Leonardo's Notebooks</td>\n",
       "      <td>2005-08-01</td>\n",
       "      <td>0</td>\n",
       "      <td>4.000000</td>\n",
       "    </tr>\n",
       "    <tr>\n",
       "      <th>996</th>\n",
       "      <td>Teddy Slater/Ron Dias/Ric González</td>\n",
       "      <td>Disney's Beauty and the Beast (A Little Golden...</td>\n",
       "      <td>2004-05-11</td>\n",
       "      <td>0</td>\n",
       "      <td>4.000000</td>\n",
       "    </tr>\n",
       "    <tr>\n",
       "      <th>997</th>\n",
       "      <td>Edgar Allan Poe/Benjamin F. Fisher</td>\n",
       "      <td>Essential Tales and Poems</td>\n",
       "      <td>2004-10-25</td>\n",
       "      <td>0</td>\n",
       "      <td>4.000000</td>\n",
       "    </tr>\n",
       "    <tr>\n",
       "      <th>998</th>\n",
       "      <td>Faye Perozich/Anne Rice/John Bolton/Daerick Gröss</td>\n",
       "      <td>Anne Rice's The Vampire Lestat: A Graphic Novel</td>\n",
       "      <td>1991-11-30</td>\n",
       "      <td>0</td>\n",
       "      <td>3.666667</td>\n",
       "    </tr>\n",
       "    <tr>\n",
       "      <th>999</th>\n",
       "      <td>Kimon Nicolaides/Mamie Harmon</td>\n",
       "      <td>The Natural Way to Draw</td>\n",
       "      <td>1990-02-01</td>\n",
       "      <td>0</td>\n",
       "      <td>3.000000</td>\n",
       "    </tr>\n",
       "  </tbody>\n",
       "</table>\n",
       "<p>1000 rows × 5 columns</p>\n",
       "</div>"
      ],
      "text/plain": [
       "                                                author  \\\n",
       "0                                      Stephenie Meyer   \n",
       "1                           J.K. Rowling/Mary GrandPré   \n",
       "2                           J.K. Rowling/Mary GrandPré   \n",
       "3                    Markus Zusak/Cao Xuân Việt Khương   \n",
       "4                                      Jeannette Walls   \n",
       "..                                                 ...   \n",
       "995                      Leonardo da Vinci/H. Anna Suh   \n",
       "996                 Teddy Slater/Ron Dias/Ric González   \n",
       "997                 Edgar Allan Poe/Benjamin F. Fisher   \n",
       "998  Faye Perozich/Anne Rice/John Bolton/Daerick Gröss   \n",
       "999                      Kimon Nicolaides/Mamie Harmon   \n",
       "\n",
       "                                                 title publication_date  \\\n",
       "0                              Twilight (Twilight  #1)       2006-09-06   \n",
       "1    Harry Potter and the Prisoner of Azkaban (Harr...       2004-05-01   \n",
       "2    Harry Potter and the Chamber of Secrets (Harry...       1999-06-02   \n",
       "3                                       The Book Thief       2006-03-14   \n",
       "4                                     The Glass Castle       2006-01-17   \n",
       "..                                                 ...              ...   \n",
       "995                               Leonardo's Notebooks       2005-08-01   \n",
       "996  Disney's Beauty and the Beast (A Little Golden...       2004-05-11   \n",
       "997                          Essential Tales and Poems       2004-10-25   \n",
       "998    Anne Rice's The Vampire Lestat: A Graphic Novel       1991-11-30   \n",
       "999                            The Natural Way to Draw       1990-02-01   \n",
       "\n",
       "     reviews_count  avg_rating  \n",
       "0                7    3.662500  \n",
       "1                6    4.414634  \n",
       "2                6    4.287500  \n",
       "3                6    4.264151  \n",
       "4                6    4.206897  \n",
       "..             ...         ...  \n",
       "995              0    4.000000  \n",
       "996              0    4.000000  \n",
       "997              0    4.000000  \n",
       "998              0    3.666667  \n",
       "999              0    3.000000  \n",
       "\n",
       "[1000 rows x 5 columns]"
      ]
     },
     "execution_count": 8,
     "metadata": {},
     "output_type": "execute_result"
    }
   ],
   "source": [
    "query = \"\"\"\n",
    "SELECT author,\n",
    "       title,\n",
    "       publication_date,\n",
    "       COALESCE(reviews_count, 0) AS reviews_count,\n",
    "       COALESCE(avg_rating, 0) AS avg_rating\n",
    "FROM books AS b\n",
    "LEFT JOIN authors AS a\n",
    "    ON b.author_id = a.author_id\n",
    "LEFT JOIN (SELECT book_id, COUNT(*) AS reviews_count\n",
    "           FROM reviews\n",
    "           GROUP BY book_id) AS rv\n",
    "           ON b.book_id = rv.book_id\n",
    "LEFT JOIN (SELECT book_id, AVG(rating) AS avg_rating\n",
    "           FROM ratings\n",
    "           GROUP BY book_id) AS ra\n",
    "           ON b.book_id = ra.book_id\n",
    "ORDER BY reviews_count DESC, avg_rating DESC;\n",
    "\"\"\"\n",
    "\n",
    "get(query)"
   ]
  },
  {
   "cell_type": "markdown",
   "id": "f5d06936",
   "metadata": {},
   "source": [
    "**Выводы**:\n",
    "\n",
    "- Получена таблица, отсортированная по количеству обзоров и среднему рейтингу.\n",
    "- Нам доступна ровно тысяча записей. Это совпадение, или ограничение?\n",
    "- Самые обсуждаемые книги написаны женщинами."
   ]
  },
  {
   "cell_type": "markdown",
   "id": "6f64cef1",
   "metadata": {},
   "source": [
    "### Определить издательство, которое выпустило больше всего книг (толще 50 страниц)"
   ]
  },
  {
   "cell_type": "code",
   "execution_count": 9,
   "id": "1a0abc77",
   "metadata": {},
   "outputs": [
    {
     "data": {
      "text/html": [
       "<div>\n",
       "<style scoped>\n",
       "    .dataframe tbody tr th:only-of-type {\n",
       "        vertical-align: middle;\n",
       "    }\n",
       "\n",
       "    .dataframe tbody tr th {\n",
       "        vertical-align: top;\n",
       "    }\n",
       "\n",
       "    .dataframe thead th {\n",
       "        text-align: right;\n",
       "    }\n",
       "</style>\n",
       "<table border=\"1\" class=\"dataframe\">\n",
       "  <thead>\n",
       "    <tr style=\"text-align: right;\">\n",
       "      <th></th>\n",
       "      <th>publisher</th>\n",
       "      <th>book_count</th>\n",
       "    </tr>\n",
       "  </thead>\n",
       "  <tbody>\n",
       "    <tr>\n",
       "      <th>0</th>\n",
       "      <td>Penguin Books</td>\n",
       "      <td>42</td>\n",
       "    </tr>\n",
       "  </tbody>\n",
       "</table>\n",
       "</div>"
      ],
      "text/plain": [
       "       publisher  book_count\n",
       "0  Penguin Books          42"
      ]
     },
     "execution_count": 9,
     "metadata": {},
     "output_type": "execute_result"
    }
   ],
   "source": [
    "query = \"\"\"\n",
    "SELECT publisher, book_count\n",
    "FROM publishers AS p\n",
    "JOIN (SELECT COUNT(*) AS book_count,\n",
    "             publisher_id\n",
    "      FROM books\n",
    "      WHERE num_pages > 50\n",
    "      GROUP BY publisher_id\n",
    "      ORDER BY book_count DESC\n",
    "      LIMIT 1) AS b\n",
    "      ON p.publisher_id = b.publisher_id\n",
    "\"\"\"\n",
    "\n",
    "get(query)"
   ]
  },
  {
   "cell_type": "markdown",
   "id": "d9b3d088",
   "metadata": {},
   "source": [
    "**Выводы**:\n",
    "\n",
    "- Больше всего полноценных книг выпустило издательство \"Penguin Books\" - 42 таких издания."
   ]
  },
  {
   "cell_type": "markdown",
   "id": "5017c85a",
   "metadata": {},
   "source": [
    "### Определить автора с самой высокой средней оценкой книг (книги только с 50 и более оценками)"
   ]
  },
  {
   "cell_type": "code",
   "execution_count": 10,
   "id": "ea8a9f1e",
   "metadata": {},
   "outputs": [
    {
     "data": {
      "text/html": [
       "<div>\n",
       "<style scoped>\n",
       "    .dataframe tbody tr th:only-of-type {\n",
       "        vertical-align: middle;\n",
       "    }\n",
       "\n",
       "    .dataframe tbody tr th {\n",
       "        vertical-align: top;\n",
       "    }\n",
       "\n",
       "    .dataframe thead th {\n",
       "        text-align: right;\n",
       "    }\n",
       "</style>\n",
       "<table border=\"1\" class=\"dataframe\">\n",
       "  <thead>\n",
       "    <tr style=\"text-align: right;\">\n",
       "      <th></th>\n",
       "      <th>author</th>\n",
       "      <th>author_avg_rating</th>\n",
       "    </tr>\n",
       "  </thead>\n",
       "  <tbody>\n",
       "    <tr>\n",
       "      <th>0</th>\n",
       "      <td>J.K. Rowling/Mary GrandPré</td>\n",
       "      <td>4.283844</td>\n",
       "    </tr>\n",
       "  </tbody>\n",
       "</table>\n",
       "</div>"
      ],
      "text/plain": [
       "                       author  author_avg_rating\n",
       "0  J.K. Rowling/Mary GrandPré           4.283844"
      ]
     },
     "execution_count": 10,
     "metadata": {},
     "output_type": "execute_result"
    }
   ],
   "source": [
    "query = \"\"\"\n",
    "SELECT author,\n",
    "       author_avg_rating\n",
    "FROM authors AS a\n",
    "JOIN (SELECT author_id,\n",
    "             AVG(book_avg_rating) AS author_avg_rating\n",
    "      FROM books as b\n",
    "      JOIN (SELECT book_id,\n",
    "                   AVG(rating) AS book_avg_rating\n",
    "            FROM ratings\n",
    "            GROUP BY book_id\n",
    "            HAVING COUNT(*) > 50) AS r\n",
    "            ON r.book_id = b.book_id\n",
    "      GROUP BY author_id\n",
    "      ORDER BY author_avg_rating DESC\n",
    "      LIMIT 1) AS bs\n",
    "      ON bs.author_id = a.author_id\n",
    "\"\"\"\n",
    "\n",
    "get(query)"
   ]
  },
  {
   "cell_type": "markdown",
   "id": "6806cd4e",
   "metadata": {},
   "source": [
    "**Выводы**:\n",
    "\n",
    "- Наиболее высокая средняя оценка книг - у дуэта авторов \"J.K. Rowling/Mary GrandPré\"."
   ]
  },
  {
   "cell_type": "markdown",
   "id": "e5de23b2",
   "metadata": {},
   "source": [
    "### Среднее количество обзоров от пользователей, которые поставили более 50 оценок"
   ]
  },
  {
   "cell_type": "markdown",
   "id": "314b5a9e",
   "metadata": {},
   "source": [
    "Первый же вариант, который пришёл на ум:"
   ]
  },
  {
   "cell_type": "code",
   "execution_count": 11,
   "id": "9eb4ef71",
   "metadata": {},
   "outputs": [
    {
     "data": {
      "text/html": [
       "<div>\n",
       "<style scoped>\n",
       "    .dataframe tbody tr th:only-of-type {\n",
       "        vertical-align: middle;\n",
       "    }\n",
       "\n",
       "    .dataframe tbody tr th {\n",
       "        vertical-align: top;\n",
       "    }\n",
       "\n",
       "    .dataframe thead th {\n",
       "        text-align: right;\n",
       "    }\n",
       "</style>\n",
       "<table border=\"1\" class=\"dataframe\">\n",
       "  <thead>\n",
       "    <tr style=\"text-align: right;\">\n",
       "      <th></th>\n",
       "      <th>avg_reviews</th>\n",
       "    </tr>\n",
       "  </thead>\n",
       "  <tbody>\n",
       "    <tr>\n",
       "      <th>0</th>\n",
       "      <td>24.333333</td>\n",
       "    </tr>\n",
       "  </tbody>\n",
       "</table>\n",
       "</div>"
      ],
      "text/plain": [
       "   avg_reviews\n",
       "0    24.333333"
      ]
     },
     "execution_count": 11,
     "metadata": {},
     "output_type": "execute_result"
    }
   ],
   "source": [
    "query = \"\"\"\n",
    "SELECT 1.0 * COUNT(review_id) / COUNT(DISTINCT username) AS avg_reviews\n",
    "from reviews AS rv\n",
    "WHERE username IN (SELECT username\n",
    "                   FROM ratings\n",
    "                   GROUP BY username\n",
    "                   HAVING COUNT(rating) > 50)\n",
    "\"\"\"\n",
    "\n",
    "get(query)"
   ]
  },
  {
   "cell_type": "markdown",
   "id": "fa649d06",
   "metadata": {},
   "source": [
    "На всякий случай запишу и второй вариант:"
   ]
  },
  {
   "cell_type": "code",
   "execution_count": 12,
   "id": "30f90179",
   "metadata": {},
   "outputs": [
    {
     "data": {
      "text/html": [
       "<div>\n",
       "<style scoped>\n",
       "    .dataframe tbody tr th:only-of-type {\n",
       "        vertical-align: middle;\n",
       "    }\n",
       "\n",
       "    .dataframe tbody tr th {\n",
       "        vertical-align: top;\n",
       "    }\n",
       "\n",
       "    .dataframe thead th {\n",
       "        text-align: right;\n",
       "    }\n",
       "</style>\n",
       "<table border=\"1\" class=\"dataframe\">\n",
       "  <thead>\n",
       "    <tr style=\"text-align: right;\">\n",
       "      <th></th>\n",
       "      <th>avg_reviews</th>\n",
       "    </tr>\n",
       "  </thead>\n",
       "  <tbody>\n",
       "    <tr>\n",
       "      <th>0</th>\n",
       "      <td>24.333333</td>\n",
       "    </tr>\n",
       "  </tbody>\n",
       "</table>\n",
       "</div>"
      ],
      "text/plain": [
       "   avg_reviews\n",
       "0    24.333333"
      ]
     },
     "execution_count": 12,
     "metadata": {},
     "output_type": "execute_result"
    }
   ],
   "source": [
    "query = \"\"\"\n",
    "SELECT AVG(reviews_count) AS avg_reviews\n",
    "FROM (SELECT username,\n",
    "             COUNT(review_id) AS reviews_count\n",
    "      FROM reviews\n",
    "      WHERE username IN (SELECT username\n",
    "                         FROM ratings\n",
    "                         GROUP BY username\n",
    "                         HAVING COUNT(rating) > 50)\n",
    "      GROUP BY username) AS r\n",
    "\"\"\"\n",
    "\n",
    "get(query)"
   ]
  },
  {
   "cell_type": "markdown",
   "id": "496f67c1",
   "metadata": {},
   "source": [
    "**Выводы**:\n",
    "\n",
    "- Пользователи, которые поставили более 50 оценок, в среднем публиковали 24+1/3 обзоров."
   ]
  },
  {
   "cell_type": "markdown",
   "id": "94d1ba00",
   "metadata": {},
   "source": [
    "## Общий вывод исследования\n",
    "\n",
    "- Книги Джоан Роулинг - самый обсуждаемый и ценимый товар."
   ]
  }
 ],
 "metadata": {
  "kernelspec": {
   "display_name": "Python 3 (ipykernel)",
   "language": "python",
   "name": "python3"
  },
  "language_info": {
   "codemirror_mode": {
    "name": "ipython",
    "version": 3
   },
   "file_extension": ".py",
   "mimetype": "text/x-python",
   "name": "python",
   "nbconvert_exporter": "python",
   "pygments_lexer": "ipython3",
   "version": "3.10.9"
  },
  "toc": {
   "base_numbering": 1,
   "nav_menu": {},
   "number_sections": true,
   "sideBar": true,
   "skip_h1_title": true,
   "title_cell": "Содержание",
   "title_sidebar": "Содержание",
   "toc_cell": true,
   "toc_position": {},
   "toc_section_display": true,
   "toc_window_display": true
  }
 },
 "nbformat": 4,
 "nbformat_minor": 5
}
