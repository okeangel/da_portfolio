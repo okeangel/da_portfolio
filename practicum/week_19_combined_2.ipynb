{
 "cells": [
  {
   "cell_type": "markdown",
   "id": "186aca00",
   "metadata": {},
   "source": [
    "<div class=\"alert alert-success\">\n",
    "<font size=\"5\"><b>Комментарий ревьюера 2</b></font>\n",
    "\n",
    "Привет еще раз. Спасибо, что доделал работу. Увидел все внесенные исправления. Формулировки гипотез корректны. Именно конверсии пользователей на каждом шаге мы и сравниваем. Отличная работа, молодец. Поздравляю со сданным проектом. Надеюсь, он был интересен и познавателен. Успехов в дальнейшем пути :)\n",
    "\n",
    "</div>"
   ]
  },
  {
   "cell_type": "markdown",
   "id": "333410d5",
   "metadata": {},
   "source": [
    "<div class=\"alert alert-info\">\n",
    "<font size=\"5\"><b>Комментарий ревьюера</b></font>\n",
    "\n",
    "Привет, Александр! Спасибо, что прислал задание:) Поздравляю с приближением к концу второго модуля. Меня зовут Слепцов Артем и я буду проверять твой проект) Ты проделал большую работу над проектом. Он выполнен уже на достойном уровне. Однако есть моменты, которые еще можно улучшить. Будет здорово, если ты, надеюсь, не против, если я буду на ты, будешь отвечать на комментарии и участвовать в диалоге. Если обращение на ты неприемлемо, то прошу сообщить. \n",
    "\n",
    "Мои комментарии обозначены пометкой **Комментарий ревьюера**. Далее в файле ты сможешь найти их в похожих ячейках:\n",
    "    \n",
    "<div class=\"alert alert-success\">Успех: Если фон комментария зелёный - всё сделано правильно. Рекомендации укажу таким же цветом;</div>\n",
    "        \n",
    "<div class=\"alert alert-warning\">Совет: Оранжевый - некритичные замечания;</div>\n",
    "        \n",
    "<div class=\"alert alert-danger\">Ошибка: Красный - нужно переделать. </div>\n",
    "        \n",
    "Не удаляй эти комментарии и постарайся учесть их в ходе выполнения данного проекта. Свои же комментарии ты можешь обозначать любым заметным способом. \n",
    "\n",
    "</div>"
   ]
  },
  {
   "cell_type": "markdown",
   "id": "fa5fce91",
   "metadata": {},
   "source": [
    "# Название проекта"
   ]
  },
  {
   "cell_type": "markdown",
   "id": "d1db17f5",
   "metadata": {},
   "source": [
    "Учебный проект по специальности \"аналитик данных\", 19-я неделя обучения.\n",
    "Тема: аналитика событий.\n",
    "\n",
    "Автор: Александр Лагутин.\n",
    "\n",
    "Начат: 29 сентября 2022 г в 19:45.\n",
    "Завершён: 1 октября 2022 г в 01:00.\n",
    "\n",
    "Время подготовки: 20 рабочих часов (3 рабочих дня)."
   ]
  },
  {
   "cell_type": "markdown",
   "id": "9fd3f23d",
   "metadata": {
    "toc": true
   },
   "source": [
    "<h1>Содержание<span class=\"tocSkip\"></span></h1>\n",
    "<div class=\"toc\"><ul class=\"toc-item\"><li><span><a href=\"#Описание-проекта\" data-toc-modified-id=\"Описание-проекта-1\"><span class=\"toc-item-num\">1&nbsp;&nbsp;</span>Описание проекта</a></span><ul class=\"toc-item\"><li><span><a href=\"#Заказчик\" data-toc-modified-id=\"Заказчик-1.1\"><span class=\"toc-item-num\">1.1&nbsp;&nbsp;</span>Заказчик</a></span></li><li><span><a href=\"#Задача\" data-toc-modified-id=\"Задача-1.2\"><span class=\"toc-item-num\">1.2&nbsp;&nbsp;</span>Задача</a></span></li><li><span><a href=\"#Входные-данные\" data-toc-modified-id=\"Входные-данные-1.3\"><span class=\"toc-item-num\">1.3&nbsp;&nbsp;</span>Входные данные</a></span><ul class=\"toc-item\"><li><span><a href=\"#Термины\" data-toc-modified-id=\"Термины-1.3.1\"><span class=\"toc-item-num\">1.3.1&nbsp;&nbsp;</span>Термины</a></span></li><li><span><a href=\"#Описание-данных\" data-toc-modified-id=\"Описание-данных-1.3.2\"><span class=\"toc-item-num\">1.3.2&nbsp;&nbsp;</span>Описание данных</a></span><ul class=\"toc-item\"><li><span><a href=\"#События-(log)\" data-toc-modified-id=\"События-(log)-1.3.2.1\"><span class=\"toc-item-num\">1.3.2.1&nbsp;&nbsp;</span>События (log)</a></span></li></ul></li></ul></li><li><span><a href=\"#План-работы\" data-toc-modified-id=\"План-работы-1.4\"><span class=\"toc-item-num\">1.4&nbsp;&nbsp;</span>План работы</a></span></li><li><span><a href=\"#Инструменты\" data-toc-modified-id=\"Инструменты-1.5\"><span class=\"toc-item-num\">1.5&nbsp;&nbsp;</span>Инструменты</a></span><ul class=\"toc-item\"><li><span><a href=\"#Импорт-библиотек\" data-toc-modified-id=\"Импорт-библиотек-1.5.1\"><span class=\"toc-item-num\">1.5.1&nbsp;&nbsp;</span>Импорт библиотек</a></span></li><li><span><a href=\"#Определения-констант\" data-toc-modified-id=\"Определения-констант-1.5.2\"><span class=\"toc-item-num\">1.5.2&nbsp;&nbsp;</span>Определения констант</a></span></li><li><span><a href=\"#Определения-функций\" data-toc-modified-id=\"Определения-функций-1.5.3\"><span class=\"toc-item-num\">1.5.3&nbsp;&nbsp;</span>Определения функций</a></span><ul class=\"toc-item\"><li><span><a href=\"#Загрузка-и-обзор-данных\" data-toc-modified-id=\"Загрузка-и-обзор-данных-1.5.3.1\"><span class=\"toc-item-num\">1.5.3.1&nbsp;&nbsp;</span>Загрузка и обзор данных</a></span></li><li><span><a href=\"#Исправление-данных\" data-toc-modified-id=\"Исправление-данных-1.5.3.2\"><span class=\"toc-item-num\">1.5.3.2&nbsp;&nbsp;</span>Исправление данных</a></span></li><li><span><a href=\"#Отображение-данных\" data-toc-modified-id=\"Отображение-данных-1.5.3.3\"><span class=\"toc-item-num\">1.5.3.3&nbsp;&nbsp;</span>Отображение данных</a></span></li></ul></li></ul></li></ul></li><li><span><a href=\"#Обзор-и-подготовка-данных\" data-toc-modified-id=\"Обзор-и-подготовка-данных-2\"><span class=\"toc-item-num\">2&nbsp;&nbsp;</span>Обзор и подготовка данных</a></span><ul class=\"toc-item\"><li><span><a href=\"#Загрузка\" data-toc-modified-id=\"Загрузка-2.1\"><span class=\"toc-item-num\">2.1&nbsp;&nbsp;</span>Загрузка</a></span></li><li><span><a href=\"#Обзор-дублирующихся-строк\" data-toc-modified-id=\"Обзор-дублирующихся-строк-2.2\"><span class=\"toc-item-num\">2.2&nbsp;&nbsp;</span>Обзор дублирующихся строк</a></span></li><li><span><a href=\"#Добавляем-удобочитаемое-время\" data-toc-modified-id=\"Добавляем-удобочитаемое-время-2.3\"><span class=\"toc-item-num\">2.3&nbsp;&nbsp;</span>Добавляем удобочитаемое время</a></span></li><li><span><a href=\"#Вносим-ясность-в-имена-столбцов\" data-toc-modified-id=\"Вносим-ясность-в-имена-столбцов-2.4\"><span class=\"toc-item-num\">2.4&nbsp;&nbsp;</span>Вносим ясность в имена столбцов</a></span></li><li><span><a href=\"#Итоги-подготовки-данных\" data-toc-modified-id=\"Итоги-подготовки-данных-2.5\"><span class=\"toc-item-num\">2.5&nbsp;&nbsp;</span>Итоги подготовки данных</a></span></li></ul></li><li><span><a href=\"#Анализ-общих-данных\" data-toc-modified-id=\"Анализ-общих-данных-3\"><span class=\"toc-item-num\">3&nbsp;&nbsp;</span>Анализ общих данных</a></span><ul class=\"toc-item\"><li><span><a href=\"#Анализ-времени-событий\" data-toc-modified-id=\"Анализ-времени-событий-3.1\"><span class=\"toc-item-num\">3.1&nbsp;&nbsp;</span>Анализ времени событий</a></span></li><li><span><a href=\"#Распределение-по-датам\" data-toc-modified-id=\"Распределение-по-датам-3.2\"><span class=\"toc-item-num\">3.2&nbsp;&nbsp;</span>Распределение по датам</a></span></li><li><span><a href=\"#Перекос-распределения-по-датам-в-выборке\" data-toc-modified-id=\"Перекос-распределения-по-датам-в-выборке-3.3\"><span class=\"toc-item-num\">3.3&nbsp;&nbsp;</span>Перекос распределения по датам в выборке</a></span></li><li><span><a href=\"#Распределение-по-часам-в-сутках\" data-toc-modified-id=\"Распределение-по-часам-в-сутках-3.4\"><span class=\"toc-item-num\">3.4&nbsp;&nbsp;</span>Распределение по часам в сутках</a></span></li><li><span><a href=\"#Выбираем-только-нагруженные-дни\" data-toc-modified-id=\"Выбираем-только-нагруженные-дни-3.5\"><span class=\"toc-item-num\">3.5&nbsp;&nbsp;</span>Выбираем только нагруженные дни</a></span><ul class=\"toc-item\"><li><span><a href=\"#Сколько-попало-в-выборку\" data-toc-modified-id=\"Сколько-попало-в-выборку-3.5.1\"><span class=\"toc-item-num\">3.5.1&nbsp;&nbsp;</span>Сколько попало в выборку</a></span></li><li><span><a href=\"#Сколько-убрано-из-выборки\" data-toc-modified-id=\"Сколько-убрано-из-выборки-3.5.2\"><span class=\"toc-item-num\">3.5.2&nbsp;&nbsp;</span>Сколько убрано из выборки</a></span></li></ul></li><li><span><a href=\"#Итоги-анализа-общих-данных\" data-toc-modified-id=\"Итоги-анализа-общих-данных-3.6\"><span class=\"toc-item-num\">3.6&nbsp;&nbsp;</span>Итоги анализа общих данных</a></span></li></ul></li><li><span><a href=\"#Анализ-воронки-событий\" data-toc-modified-id=\"Анализ-воронки-событий-4\"><span class=\"toc-item-num\">4&nbsp;&nbsp;</span>Анализ воронки событий</a></span><ul class=\"toc-item\"><li><span><a href=\"#Порядок-событий\" data-toc-modified-id=\"Порядок-событий-4.1\"><span class=\"toc-item-num\">4.1&nbsp;&nbsp;</span>Порядок событий</a></span></li><li><span><a href=\"#Как-пользователи-приходят-к-покупке\" data-toc-modified-id=\"Как-пользователи-приходят-к-покупке-4.2\"><span class=\"toc-item-num\">4.2&nbsp;&nbsp;</span>Как пользователи приходят к покупке</a></span></li><li><span><a href=\"#Воронка-событий\" data-toc-modified-id=\"Воронка-событий-4.3\"><span class=\"toc-item-num\">4.3&nbsp;&nbsp;</span>Воронка событий</a></span></li><li><span><a href=\"#Прямой-путь-воронки\" data-toc-modified-id=\"Прямой-путь-воронки-4.4\"><span class=\"toc-item-num\">4.4&nbsp;&nbsp;</span>Прямой путь воронки</a></span></li><li><span><a href=\"#Итоги-анализа-воронки-событий\" data-toc-modified-id=\"Итоги-анализа-воронки-событий-4.5\"><span class=\"toc-item-num\">4.5&nbsp;&nbsp;</span>Итоги анализа воронки событий</a></span></li></ul></li><li><span><a href=\"#Анализ-результатов-A/A/B-эксперимента\" data-toc-modified-id=\"Анализ-результатов-A/A/B-эксперимента-5\"><span class=\"toc-item-num\">5&nbsp;&nbsp;</span>Анализ результатов A/A/B-эксперимента</a></span><ul class=\"toc-item\"><li><span><a href=\"#Шаблоны-для-проверки-равенства-пропорций\" data-toc-modified-id=\"Шаблоны-для-проверки-равенства-пропорций-5.1\"><span class=\"toc-item-num\">5.1&nbsp;&nbsp;</span>Шаблоны для проверки равенства пропорций</a></span></li><li><span><a href=\"#Сравнение-двух-A-групп\" data-toc-modified-id=\"Сравнение-двух-A-групп-5.2\"><span class=\"toc-item-num\">5.2&nbsp;&nbsp;</span>Сравнение двух A-групп</a></span></li><li><span><a href=\"#Сравнение-B-группы-с-A-группами-по-отдельности-и-с-объединённой-A-группой\" data-toc-modified-id=\"Сравнение-B-группы-с-A-группами-по-отдельности-и-с-объединённой-A-группой-5.3\"><span class=\"toc-item-num\">5.3&nbsp;&nbsp;</span>Сравнение B-группы с A-группами по отдельности и с объединённой A-группой</a></span></li><li><span><a href=\"#Уточняем-уровень-значимости\" data-toc-modified-id=\"Уточняем-уровень-значимости-5.4\"><span class=\"toc-item-num\">5.4&nbsp;&nbsp;</span>Уточняем уровень значимости</a></span></li></ul></li><li><span><a href=\"#Общие-итоги\" data-toc-modified-id=\"Общие-итоги-6\"><span class=\"toc-item-num\">6&nbsp;&nbsp;</span>Общие итоги</a></span></li></ul></div>"
   ]
  },
  {
   "cell_type": "markdown",
   "id": "169b2c10",
   "metadata": {},
   "source": [
    "## Описание проекта\n",
    "\n",
    "### Заказчик\n",
    "\n",
    "Стартап.\n",
    "\n",
    "Основная деятельность: продажа продуктов питания.\n",
    "\n",
    "### Задача\n",
    "\n",
    "Разобраться, как ведут себя пользователи мобильного приложения."
   ]
  },
  {
   "cell_type": "markdown",
   "id": "ed66ea3b",
   "metadata": {},
   "source": [
    "### Входные данные\n",
    "\n",
    "Данные о действиях пользователей.\n",
    "\n",
    "#### Термины\n",
    "\n",
    "Специальные термины не упомянуты.\n",
    "\n",
    "#### Описание данных\n",
    "\n",
    "##### События (log)\n",
    "\n",
    "- `EventName` - название события;\n",
    "- `DeviceIDHash` - идентификатор пользователя;\n",
    "- `EventTimestamp` - время события;\n",
    "- `ExpId` - номер эксперимента (246, 247 - контрольные группы, 248 - изменены шрифты)."
   ]
  },
  {
   "cell_type": "markdown",
   "id": "0fc6ba20",
   "metadata": {},
   "source": [
    "### План работы\n",
    "\n",
    "Изучить воронку продаж.\n",
    "- Как пользователи доходят до покупки?\n",
    "- Сколько доходит до покупки, а сколько застревает на предыдущих шагах? На каких именно?\n",
    "Исследовать результаты A/A/B-эксперимента.\n",
    "- Какой шрифт лучше?\n",
    "\n",
    "Действия:\n",
    "- [x] Импортировать библиотеки, описать функции, которые потребуются для построения воронки и анализа A/A/B-теста.\n",
    "- [x] Подготовить данные:\n",
    "  - [x] загрузить таблицу;\n",
    "  - [x] обработать пропуски:\n",
    "    - [x] выбрать, чем заполнить (или оставить) и почему;\n",
    "    - [x] осуществить заполение, если требуется;\n",
    "    - [x] описать причины, которые могли привести к пропускам.\n",
    "  - [x] привести данные к нужным типам;\n",
    "  - [x] добавить столбцы:\n",
    "    - [x] \"дата и время\",\n",
    "    - [x] \"дата\".\n",
    "- [x] Анализировать обобщённые данные:\n",
    "  - [x] сколько всего:\n",
    "    - [x] событий,\n",
    "    - [x] пользователей,\n",
    "    - [x] в среднем событий на пользователя;\n",
    "  - [x] время:\n",
    "    - [x] максимальная и минимальная даты,\n",
    "    - [x] гистограммы распределений:\n",
    "      - [x] по дате;\n",
    "      - [x] по времени;\n",
    "    - [x] выбрать диапазон времени, за который данные  - \"полные\";\n",
    "    - [x] сколько данных осталось в выборке;\n",
    "    - [x] проверить, что в отобранных данных все три группы представлены правильно.\n",
    "- [x] Изучить воронку событий.\n",
    "  - [x] Какие события бывали, как часто встречатся каждое из них.\n",
    "  - [x] Сколько пользователей совершали каждое из событий. Какая это доля от общего числа пользователей?\n",
    "  - [x] В каком порядке происходят события?\n",
    "  - [x] По воронке событий посчитайте, какая доля пользователей проходит на следующий шаг воронки, от числа пользователей на предыдущем шаге.\n",
    "    - [x] На каком шаге теряется больше всего пользователей?\n",
    "    - [x] Какая доля пользователей дооходит от первого события до оплаты?\n",
    "- [x] Изучить результаты эксперимента\n",
    "  - [x] Сколько пользователей в каждой группе?\n",
    "  - [x] Проверить, есть ли статистически значимая разница между контрольными группами:\n",
    "    - [x] выбрать самое популярное событие,\n",
    "    - [x] сосчитать число и долю пользователей в группах, исполнивших событие,\n",
    "    - [x] проверить, будет ли отличие между группами статистически достоверным,\n",
    "    - [x] проделать это же для всех других событий (создать функцию).\n",
    "    - [x] Разбиение на группы сработало корректно? Все ли различия незначимы?\n",
    "  - [x] Проверить группу 248 в сравнении с контрольными группами:\n",
    "    - [x] сравнить результаты по каждому событию с группами 246 и 247 по-отдельности,\n",
    "    - [x] сравнить к объединённой контрольной группой;\n",
    "    - [x] сформулировать выводы.\n",
    "  - [x] Выбери верный уровень значимости:\n",
    "    - [x] Сколько проверок сделано?\n",
    "    - [x] Какой совокупный уровень значимости будет уместным?\n",
    "    - [x] Провести опыт так, чтобы совокупный уровень значимости ошибки не был превышен.\n",
    "\n",
    "[Текст задания тут.](https://practicum.yandex.ru/learn/data-analyst/courses/af151986-b210-4ecc-a8c7-2bece476a26a/sprints/40920/topics/730c8aa2-70df-4f0f-a8c3-09b35617f365/lessons/0a8222a9-722b-44b4-ba68-40dd87feb423/)"
   ]
  },
  {
   "cell_type": "markdown",
   "id": "25fbc88b",
   "metadata": {},
   "source": [
    "<div class=\"alert alert-success\">\n",
    "<font size=\"5\"><b>Комментарий ревьюера</b></font>\n",
    "\n",
    "Успех: Вступление в работу очень важно. Так ты поясняешь то, чему она посвящена. Здорово, что каждому пункту вводной информации ты уделил внимание. \n",
    "\n",
    "</div>"
   ]
  },
  {
   "cell_type": "markdown",
   "id": "3d499b1f",
   "metadata": {},
   "source": [
    "### Инструменты\n",
    "\n",
    "Используем [Anaconda](https://www.anaconda.com/), окружение `ds_da_practicum_env.yml` \"для Mac OS\" (от 2022-03-23)."
   ]
  },
  {
   "cell_type": "markdown",
   "id": "74f5bd90",
   "metadata": {},
   "source": [
    "#### Импорт библиотек"
   ]
  },
  {
   "cell_type": "code",
   "execution_count": 1,
   "id": "2ccbcade",
   "metadata": {},
   "outputs": [],
   "source": [
    "%matplotlib inline\n",
    "\n",
    "import datetime\n",
    "import re\n",
    "\n",
    "import pandas as pd\n",
    "import numpy as np\n",
    "import scipy.stats as st\n",
    "import matplotlib.pyplot as plt\n",
    "import seaborn as sns"
   ]
  },
  {
   "cell_type": "markdown",
   "id": "748f5933",
   "metadata": {},
   "source": [
    "<div class=\"alert alert-success\">\n",
    "<font size=\"5\"><b>Комментарий ревьюера</b></font>\n",
    "\n",
    "Успех: Правильно, что весь импорт ты проводишь в первой ячейке работы. Так твой коллега, запускающий работу, будет в курсе используемых в ней библиотек и сможет при необходимости быстро настроить окружение. \n",
    "\n",
    "</div>"
   ]
  },
  {
   "cell_type": "markdown",
   "id": "802b7dd4",
   "metadata": {},
   "source": [
    "#### Определения констант"
   ]
  },
  {
   "cell_type": "code",
   "execution_count": 2,
   "id": "6af52aa5",
   "metadata": {},
   "outputs": [],
   "source": [
    "# можно поменять размер диаграмм во всём проекте одновременно\n",
    "FIGSIZE = (12, 6)"
   ]
  },
  {
   "cell_type": "markdown",
   "id": "0fee0bc1",
   "metadata": {},
   "source": [
    "#### Определения функций\n",
    "\n",
    "##### Загрузка и обзор данных"
   ]
  },
  {
   "cell_type": "code",
   "execution_count": 3,
   "id": "10dded98",
   "metadata": {},
   "outputs": [],
   "source": [
    "def load(name, ext='csv', sep=','):\n",
    "    \"\"\"Return pandas DataFrame by filename\"\"\"\n",
    "    filename = name + '.' + ext\n",
    "    try:\n",
    "        df = pd.read_csv(filename)\n",
    "    except FileNotFoundError:\n",
    "        df = pd.read_csv(\n",
    "            'https://code.s3.yandex.net/datasets/' + filename, sep=sep\n",
    "        )\n",
    "    correct_column_names(df)\n",
    "    overview(df)\n",
    "    return df"
   ]
  },
  {
   "cell_type": "code",
   "execution_count": 4,
   "id": "9f996523",
   "metadata": {},
   "outputs": [],
   "source": [
    "def overview(data):\n",
    "    \"\"\"Display an overview of the data to detect common data problems\"\"\"\n",
    "    display(data.sample(5))\n",
    "    dupes = data.duplicated().sum()\n",
    "    dupes_rate = dupes / len(data)\n",
    "    print(f'Полностью совпадающих строк: {dupes} ({dupes_rate:.2%})\\n')\n",
    "    data.info()\n",
    "    display(count_nans(data))\n",
    "    print(get_filled_rows_share(data))"
   ]
  },
  {
   "cell_type": "code",
   "execution_count": 5,
   "id": "dc914653",
   "metadata": {},
   "outputs": [],
   "source": [
    "def count_nans(data):\n",
    "    \"\"\"Return a pandas DataFrame with the number of missing values\"\"\"\n",
    "    nans = []\n",
    "    for column in data.columns:\n",
    "        # count the number of missing values\n",
    "        missing = data[column].isna().sum()\n",
    "        # calculate the share of missing values\n",
    "        part = round(missing * 100 / len(data), 2)\n",
    "        # count the number of distinct values\n",
    "        uniques = data[column].sort_values().nunique()\n",
    "        nans.append([column, missing, part, uniques])\n",
    "\n",
    "    return (\n",
    "        pd.DataFrame(\n",
    "            data=nans, columns=['column', 'na_count', 'na_%', 'unique_count']\n",
    "        )\n",
    "        .sort_values(['na_count', 'unique_count'], ascending=False)\n",
    "        .set_index('column')\n",
    "    )"
   ]
  },
  {
   "cell_type": "code",
   "execution_count": 6,
   "id": "5bbeeae0",
   "metadata": {},
   "outputs": [],
   "source": [
    "def get_filled_rows_share(df):\n",
    "    \"\"\"Return a string containing number of rows with no missing values\"\"\"\n",
    "    share = 1 - df.isna().any(axis=1).sum() / len(df)\n",
    "    return f'Заполненных строк без пропусков: {share:.02%}'"
   ]
  },
  {
   "cell_type": "markdown",
   "id": "4f718ba7",
   "metadata": {},
   "source": [
    "##### Исправление данных"
   ]
  },
  {
   "cell_type": "code",
   "execution_count": 7,
   "id": "c73aaed1",
   "metadata": {},
   "outputs": [],
   "source": [
    "def correct_column_names(df):\n",
    "    \"\"\"Convert column names to snake_case in place\"\"\"\n",
    "    df.columns = df.columns.str.strip()\n",
    "    df.columns = list(map(to_snake_case, df.columns))\n",
    "\n",
    "\n",
    "def to_snake_case(name):\n",
    "    \"\"\"Return name converted to snake_case\"\"\"\n",
    "    name = re.sub('(.)([A-Z][a-z]+)', r'\\1_\\2', name)\n",
    "    name = re.sub('__([A-Z])', r'_\\1', name)\n",
    "    name = re.sub('([a-z0-9])([A-Z])', r'\\1_\\2', name)\n",
    "    return name.lower()"
   ]
  },
  {
   "cell_type": "markdown",
   "id": "af0b8a8c",
   "metadata": {},
   "source": [
    "<div class=\"alert alert-success\">\n",
    "<font size=\"5\"><b>Комментарий ревьюера</b></font>\n",
    "\n",
    "Успех: Хорошо бы для функций добавить и описание. Иначе не совсем ясно, что делает каждая из них.\n",
    "    \n",
    "</div>\n",
    "\n",
    "<div class=\"alert alert-info\">\n",
    "<font size=\"5\"><b>Комментарий студента</b></font>\n",
    "\n",
    "Убрал функции, которые не использовал. К остальным добавил короткие докстринги.\n",
    "    \n",
    "</div>"
   ]
  },
  {
   "cell_type": "markdown",
   "id": "e16b3812",
   "metadata": {},
   "source": [
    "##### Отображение данных"
   ]
  },
  {
   "cell_type": "code",
   "execution_count": 8,
   "id": "732090bd",
   "metadata": {},
   "outputs": [],
   "source": [
    "def headline(line, width=79):\n",
    "    \"\"\"Return the string in plain uppercase text with pseudographics\"\"\"\n",
    "    return f'\\n{line.upper():=^{width}}'"
   ]
  },
  {
   "cell_type": "markdown",
   "id": "21b0ee10",
   "metadata": {},
   "source": [
    "## Обзор и подготовка данных"
   ]
  },
  {
   "cell_type": "markdown",
   "id": "6224fb2e",
   "metadata": {},
   "source": [
    "### Загрузка"
   ]
  },
  {
   "cell_type": "code",
   "execution_count": 9,
   "id": "4c92934d",
   "metadata": {
    "scrolled": false
   },
   "outputs": [
    {
     "data": {
      "text/html": [
       "<div>\n",
       "<style scoped>\n",
       "    .dataframe tbody tr th:only-of-type {\n",
       "        vertical-align: middle;\n",
       "    }\n",
       "\n",
       "    .dataframe tbody tr th {\n",
       "        vertical-align: top;\n",
       "    }\n",
       "\n",
       "    .dataframe thead th {\n",
       "        text-align: right;\n",
       "    }\n",
       "</style>\n",
       "<table border=\"1\" class=\"dataframe\">\n",
       "  <thead>\n",
       "    <tr style=\"text-align: right;\">\n",
       "      <th></th>\n",
       "      <th>event_name</th>\n",
       "      <th>device_id_hash</th>\n",
       "      <th>event_timestamp</th>\n",
       "      <th>exp_id</th>\n",
       "    </tr>\n",
       "  </thead>\n",
       "  <tbody>\n",
       "    <tr>\n",
       "      <th>57882</th>\n",
       "      <td>MainScreenAppear</td>\n",
       "      <td>5422877498318042547</td>\n",
       "      <td>1564751800</td>\n",
       "      <td>246</td>\n",
       "    </tr>\n",
       "    <tr>\n",
       "      <th>32977</th>\n",
       "      <td>OffersScreenAppear</td>\n",
       "      <td>3488844663662468837</td>\n",
       "      <td>1564682577</td>\n",
       "      <td>248</td>\n",
       "    </tr>\n",
       "    <tr>\n",
       "      <th>62794</th>\n",
       "      <td>PaymentScreenSuccessful</td>\n",
       "      <td>6853642322140815386</td>\n",
       "      <td>1564759036</td>\n",
       "      <td>247</td>\n",
       "    </tr>\n",
       "    <tr>\n",
       "      <th>165239</th>\n",
       "      <td>CartScreenAppear</td>\n",
       "      <td>4705890939205361551</td>\n",
       "      <td>1565019343</td>\n",
       "      <td>246</td>\n",
       "    </tr>\n",
       "    <tr>\n",
       "      <th>169084</th>\n",
       "      <td>PaymentScreenSuccessful</td>\n",
       "      <td>1055544042902443290</td>\n",
       "      <td>1565024521</td>\n",
       "      <td>246</td>\n",
       "    </tr>\n",
       "  </tbody>\n",
       "</table>\n",
       "</div>"
      ],
      "text/plain": [
       "                     event_name       device_id_hash  event_timestamp  exp_id\n",
       "57882          MainScreenAppear  5422877498318042547       1564751800     246\n",
       "32977        OffersScreenAppear  3488844663662468837       1564682577     248\n",
       "62794   PaymentScreenSuccessful  6853642322140815386       1564759036     247\n",
       "165239         CartScreenAppear  4705890939205361551       1565019343     246\n",
       "169084  PaymentScreenSuccessful  1055544042902443290       1565024521     246"
      ]
     },
     "metadata": {},
     "output_type": "display_data"
    },
    {
     "name": "stdout",
     "output_type": "stream",
     "text": [
      "Полностью совпадающих строк: 413 (0.17%)\n",
      "\n",
      "<class 'pandas.core.frame.DataFrame'>\n",
      "RangeIndex: 244126 entries, 0 to 244125\n",
      "Data columns (total 4 columns):\n",
      " #   Column           Non-Null Count   Dtype \n",
      "---  ------           --------------   ----- \n",
      " 0   event_name       244126 non-null  object\n",
      " 1   device_id_hash   244126 non-null  int64 \n",
      " 2   event_timestamp  244126 non-null  int64 \n",
      " 3   exp_id           244126 non-null  int64 \n",
      "dtypes: int64(3), object(1)\n",
      "memory usage: 7.5+ MB\n"
     ]
    },
    {
     "data": {
      "text/html": [
       "<div>\n",
       "<style scoped>\n",
       "    .dataframe tbody tr th:only-of-type {\n",
       "        vertical-align: middle;\n",
       "    }\n",
       "\n",
       "    .dataframe tbody tr th {\n",
       "        vertical-align: top;\n",
       "    }\n",
       "\n",
       "    .dataframe thead th {\n",
       "        text-align: right;\n",
       "    }\n",
       "</style>\n",
       "<table border=\"1\" class=\"dataframe\">\n",
       "  <thead>\n",
       "    <tr style=\"text-align: right;\">\n",
       "      <th></th>\n",
       "      <th>na_count</th>\n",
       "      <th>na_%</th>\n",
       "      <th>unique_count</th>\n",
       "    </tr>\n",
       "    <tr>\n",
       "      <th>column</th>\n",
       "      <th></th>\n",
       "      <th></th>\n",
       "      <th></th>\n",
       "    </tr>\n",
       "  </thead>\n",
       "  <tbody>\n",
       "    <tr>\n",
       "      <th>event_timestamp</th>\n",
       "      <td>0</td>\n",
       "      <td>0.0</td>\n",
       "      <td>176654</td>\n",
       "    </tr>\n",
       "    <tr>\n",
       "      <th>device_id_hash</th>\n",
       "      <td>0</td>\n",
       "      <td>0.0</td>\n",
       "      <td>7551</td>\n",
       "    </tr>\n",
       "    <tr>\n",
       "      <th>event_name</th>\n",
       "      <td>0</td>\n",
       "      <td>0.0</td>\n",
       "      <td>5</td>\n",
       "    </tr>\n",
       "    <tr>\n",
       "      <th>exp_id</th>\n",
       "      <td>0</td>\n",
       "      <td>0.0</td>\n",
       "      <td>3</td>\n",
       "    </tr>\n",
       "  </tbody>\n",
       "</table>\n",
       "</div>"
      ],
      "text/plain": [
       "                 na_count  na_%  unique_count\n",
       "column                                       \n",
       "event_timestamp         0   0.0        176654\n",
       "device_id_hash          0   0.0          7551\n",
       "event_name              0   0.0             5\n",
       "exp_id                  0   0.0             3"
      ]
     },
     "metadata": {},
     "output_type": "display_data"
    },
    {
     "name": "stdout",
     "output_type": "stream",
     "text": [
      "Заполненных строк без пропусков: 100.00%\n"
     ]
    }
   ],
   "source": [
    "log = load('logs_exp', sep='\\t')"
   ]
  },
  {
   "cell_type": "markdown",
   "id": "56f292af",
   "metadata": {},
   "source": [
    "Названия колонок автоматически приведены к snake_case. Пропусков нет. Типы данных подходящие. Имеются дубликаты.\n",
    "\n",
    "### Обзор дублирующихся строк\n",
    "\n",
    "Осмотрим сами дубликаты."
   ]
  },
  {
   "cell_type": "code",
   "execution_count": 10,
   "id": "32e1b0c4",
   "metadata": {},
   "outputs": [
    {
     "data": {
      "text/html": [
       "<div>\n",
       "<style scoped>\n",
       "    .dataframe tbody tr th:only-of-type {\n",
       "        vertical-align: middle;\n",
       "    }\n",
       "\n",
       "    .dataframe tbody tr th {\n",
       "        vertical-align: top;\n",
       "    }\n",
       "\n",
       "    .dataframe thead th {\n",
       "        text-align: right;\n",
       "    }\n",
       "</style>\n",
       "<table border=\"1\" class=\"dataframe\">\n",
       "  <thead>\n",
       "    <tr style=\"text-align: right;\">\n",
       "      <th></th>\n",
       "      <th>event_name</th>\n",
       "      <th>device_id_hash</th>\n",
       "      <th>event_timestamp</th>\n",
       "      <th>exp_id</th>\n",
       "    </tr>\n",
       "  </thead>\n",
       "  <tbody>\n",
       "    <tr>\n",
       "      <th>113205</th>\n",
       "      <td>PaymentScreenSuccessful</td>\n",
       "      <td>3610536745613892312</td>\n",
       "      <td>1564904645</td>\n",
       "      <td>248</td>\n",
       "    </tr>\n",
       "    <tr>\n",
       "      <th>21011</th>\n",
       "      <td>PaymentScreenSuccessful</td>\n",
       "      <td>4980045449118619005</td>\n",
       "      <td>1564665640</td>\n",
       "      <td>247</td>\n",
       "    </tr>\n",
       "    <tr>\n",
       "      <th>227453</th>\n",
       "      <td>PaymentScreenSuccessful</td>\n",
       "      <td>2711431397924822327</td>\n",
       "      <td>1565181068</td>\n",
       "      <td>248</td>\n",
       "    </tr>\n",
       "    <tr>\n",
       "      <th>126678</th>\n",
       "      <td>PaymentScreenSuccessful</td>\n",
       "      <td>3610536745613892312</td>\n",
       "      <td>1564926579</td>\n",
       "      <td>248</td>\n",
       "    </tr>\n",
       "    <tr>\n",
       "      <th>189981</th>\n",
       "      <td>MainScreenAppear</td>\n",
       "      <td>3939566991614048033</td>\n",
       "      <td>1565087863</td>\n",
       "      <td>248</td>\n",
       "    </tr>\n",
       "  </tbody>\n",
       "</table>\n",
       "</div>"
      ],
      "text/plain": [
       "                     event_name       device_id_hash  event_timestamp  exp_id\n",
       "113205  PaymentScreenSuccessful  3610536745613892312       1564904645     248\n",
       "21011   PaymentScreenSuccessful  4980045449118619005       1564665640     247\n",
       "227453  PaymentScreenSuccessful  2711431397924822327       1565181068     248\n",
       "126678  PaymentScreenSuccessful  3610536745613892312       1564926579     248\n",
       "189981         MainScreenAppear  3939566991614048033       1565087863     248"
      ]
     },
     "metadata": {},
     "output_type": "display_data"
    },
    {
     "name": "stdout",
     "output_type": "stream",
     "text": [
      "Полностью совпадающих строк: 58 (14.04%)\n",
      "\n",
      "<class 'pandas.core.frame.DataFrame'>\n",
      "Int64Index: 413 entries, 453 to 242635\n",
      "Data columns (total 4 columns):\n",
      " #   Column           Non-Null Count  Dtype \n",
      "---  ------           --------------  ----- \n",
      " 0   event_name       413 non-null    object\n",
      " 1   device_id_hash   413 non-null    int64 \n",
      " 2   event_timestamp  413 non-null    int64 \n",
      " 3   exp_id           413 non-null    int64 \n",
      "dtypes: int64(3), object(1)\n",
      "memory usage: 16.1+ KB\n"
     ]
    },
    {
     "data": {
      "text/html": [
       "<div>\n",
       "<style scoped>\n",
       "    .dataframe tbody tr th:only-of-type {\n",
       "        vertical-align: middle;\n",
       "    }\n",
       "\n",
       "    .dataframe tbody tr th {\n",
       "        vertical-align: top;\n",
       "    }\n",
       "\n",
       "    .dataframe thead th {\n",
       "        text-align: right;\n",
       "    }\n",
       "</style>\n",
       "<table border=\"1\" class=\"dataframe\">\n",
       "  <thead>\n",
       "    <tr style=\"text-align: right;\">\n",
       "      <th></th>\n",
       "      <th>na_count</th>\n",
       "      <th>na_%</th>\n",
       "      <th>unique_count</th>\n",
       "    </tr>\n",
       "    <tr>\n",
       "      <th>column</th>\n",
       "      <th></th>\n",
       "      <th></th>\n",
       "      <th></th>\n",
       "    </tr>\n",
       "  </thead>\n",
       "  <tbody>\n",
       "    <tr>\n",
       "      <th>event_timestamp</th>\n",
       "      <td>0</td>\n",
       "      <td>0.0</td>\n",
       "      <td>352</td>\n",
       "    </tr>\n",
       "    <tr>\n",
       "      <th>device_id_hash</th>\n",
       "      <td>0</td>\n",
       "      <td>0.0</td>\n",
       "      <td>237</td>\n",
       "    </tr>\n",
       "    <tr>\n",
       "      <th>event_name</th>\n",
       "      <td>0</td>\n",
       "      <td>0.0</td>\n",
       "      <td>5</td>\n",
       "    </tr>\n",
       "    <tr>\n",
       "      <th>exp_id</th>\n",
       "      <td>0</td>\n",
       "      <td>0.0</td>\n",
       "      <td>3</td>\n",
       "    </tr>\n",
       "  </tbody>\n",
       "</table>\n",
       "</div>"
      ],
      "text/plain": [
       "                 na_count  na_%  unique_count\n",
       "column                                       \n",
       "event_timestamp         0   0.0           352\n",
       "device_id_hash          0   0.0           237\n",
       "event_name              0   0.0             5\n",
       "exp_id                  0   0.0             3"
      ]
     },
     "metadata": {},
     "output_type": "display_data"
    },
    {
     "name": "stdout",
     "output_type": "stream",
     "text": [
      "Заполненных строк без пропусков: 100.00%\n"
     ]
    }
   ],
   "source": [
    "overview(log[log.duplicated()])"
   ]
  },
  {
   "cell_type": "markdown",
   "id": "402f6ef9",
   "metadata": {},
   "source": [
    "Дубликаты встречаются во всех группах и во всех типах событий. Точность таймстампов - 1 секунда.\n",
    "\n",
    "Выберем одного пользователя с дубликатами, и посмотрим, что происходило в промежутке от 1000 секунд до дубликата по 1000 секунд после дубликата."
   ]
  },
  {
   "cell_type": "code",
   "execution_count": 11,
   "id": "940f9563",
   "metadata": {},
   "outputs": [
    {
     "data": {
      "text/html": [
       "<div>\n",
       "<style scoped>\n",
       "    .dataframe tbody tr th:only-of-type {\n",
       "        vertical-align: middle;\n",
       "    }\n",
       "\n",
       "    .dataframe tbody tr th {\n",
       "        vertical-align: top;\n",
       "    }\n",
       "\n",
       "    .dataframe thead th {\n",
       "        text-align: right;\n",
       "    }\n",
       "</style>\n",
       "<table border=\"1\" class=\"dataframe\">\n",
       "  <thead>\n",
       "    <tr style=\"text-align: right;\">\n",
       "      <th></th>\n",
       "      <th>event_name</th>\n",
       "      <th>device_id_hash</th>\n",
       "      <th>event_timestamp</th>\n",
       "      <th>exp_id</th>\n",
       "    </tr>\n",
       "  </thead>\n",
       "  <tbody>\n",
       "    <tr>\n",
       "      <th>44581</th>\n",
       "      <td>MainScreenAppear</td>\n",
       "      <td>3528217211962170139</td>\n",
       "      <td>1564727811</td>\n",
       "      <td>247</td>\n",
       "    </tr>\n",
       "    <tr>\n",
       "      <th>44584</th>\n",
       "      <td>MainScreenAppear</td>\n",
       "      <td>3528217211962170139</td>\n",
       "      <td>1564727813</td>\n",
       "      <td>247</td>\n",
       "    </tr>\n",
       "    <tr>\n",
       "      <th>44585</th>\n",
       "      <td>CartScreenAppear</td>\n",
       "      <td>3528217211962170139</td>\n",
       "      <td>1564727813</td>\n",
       "      <td>247</td>\n",
       "    </tr>\n",
       "    <tr>\n",
       "      <th>44587</th>\n",
       "      <td>PaymentScreenSuccessful</td>\n",
       "      <td>3528217211962170139</td>\n",
       "      <td>1564727818</td>\n",
       "      <td>247</td>\n",
       "    </tr>\n",
       "    <tr>\n",
       "      <th>44588</th>\n",
       "      <td>PaymentScreenSuccessful</td>\n",
       "      <td>3528217211962170139</td>\n",
       "      <td>1564727818</td>\n",
       "      <td>247</td>\n",
       "    </tr>\n",
       "    <tr>\n",
       "      <th>44591</th>\n",
       "      <td>CartScreenAppear</td>\n",
       "      <td>3528217211962170139</td>\n",
       "      <td>1564727822</td>\n",
       "      <td>247</td>\n",
       "    </tr>\n",
       "    <tr>\n",
       "      <th>44598</th>\n",
       "      <td>OffersScreenAppear</td>\n",
       "      <td>3528217211962170139</td>\n",
       "      <td>1564727832</td>\n",
       "      <td>247</td>\n",
       "    </tr>\n",
       "    <tr>\n",
       "      <th>44727</th>\n",
       "      <td>PaymentScreenSuccessful</td>\n",
       "      <td>3528217211962170139</td>\n",
       "      <td>1564728168</td>\n",
       "      <td>247</td>\n",
       "    </tr>\n",
       "    <tr>\n",
       "      <th>44729</th>\n",
       "      <td>CartScreenAppear</td>\n",
       "      <td>3528217211962170139</td>\n",
       "      <td>1564728169</td>\n",
       "      <td>247</td>\n",
       "    </tr>\n",
       "  </tbody>\n",
       "</table>\n",
       "</div>"
      ],
      "text/plain": [
       "                    event_name       device_id_hash  event_timestamp  exp_id\n",
       "44581         MainScreenAppear  3528217211962170139       1564727811     247\n",
       "44584         MainScreenAppear  3528217211962170139       1564727813     247\n",
       "44585         CartScreenAppear  3528217211962170139       1564727813     247\n",
       "44587  PaymentScreenSuccessful  3528217211962170139       1564727818     247\n",
       "44588  PaymentScreenSuccessful  3528217211962170139       1564727818     247\n",
       "44591         CartScreenAppear  3528217211962170139       1564727822     247\n",
       "44598       OffersScreenAppear  3528217211962170139       1564727832     247\n",
       "44727  PaymentScreenSuccessful  3528217211962170139       1564728168     247\n",
       "44729         CartScreenAppear  3528217211962170139       1564728169     247"
      ]
     },
     "execution_count": 11,
     "metadata": {},
     "output_type": "execute_result"
    }
   ],
   "source": [
    "log.query(\n",
    "    'device_id_hash == 3528217211962170139 and (1564726818 < event_timestamp < 1564728818)'\n",
    ")"
   ]
  },
  {
   "cell_type": "markdown",
   "id": "1e404246",
   "metadata": {},
   "source": [
    "Для принятия обоснованного решения нужно связаться с поставщиком данных, и получить их мнение: считать ли это дубликатом, и почему. Если мнение недостаточно обосновано - можно уточнить информацию информацию: что значат конкретные названия событий, каким образом фиксируется таймстамп (он означает время, когда событие зафиксировано устройством, или получено сервером), и, возможно, некоторые иные. И на основании этого делать выводы.\n",
    "\n",
    "Поскольку в данном случае такой возможности нет, опираемся на данное наблюдение:\n",
    "- одинаковые событи происходят в таймстампы, между которыми различия составляют одну или несколько секунд;\n",
    "- это касатеся и дубликатов событий `PaymentScreenSuccessful`, которые (если мы верно понимаем смысл названия) вызываются не самим пользователем, а системой.\n",
    "\n",
    "Возможные варианты происхождения дубликатов:\n",
    "- ошибки загрузки или выгрузки данных;\n",
    "- пользователь делает дабл-тап там, где нужен всего один тап;\n",
    "- система отвечает двумя событиями или регистрирует событие дважды (по некоему умыслу или из-за ошибок).\n",
    "\n",
    "Поскольку уверенности нет, а число дубликатов несущественно (0,17% из всех записей) - то не удаляем их. У нас нет твёрдых оснований считать, что это ошибки."
   ]
  },
  {
   "cell_type": "markdown",
   "id": "8065aa95",
   "metadata": {},
   "source": [
    "<div class=\"alert alert-success\">\n",
    "<font size=\"5\"><b>Комментарий ревьюера</b></font>\n",
    "\n",
    "Успех: Вполне можно убрать эти строки. Но на результаты дальнейшего анализа их оставление не повлияет. Первый взгляд на таблицу выполнен.\n",
    "\n",
    "</div>"
   ]
  },
  {
   "cell_type": "markdown",
   "id": "d16ff0a0",
   "metadata": {},
   "source": [
    "### Добавляем удобочитаемое время"
   ]
  },
  {
   "cell_type": "code",
   "execution_count": 12,
   "id": "6ff090c0",
   "metadata": {},
   "outputs": [
    {
     "data": {
      "text/html": [
       "<div>\n",
       "<style scoped>\n",
       "    .dataframe tbody tr th:only-of-type {\n",
       "        vertical-align: middle;\n",
       "    }\n",
       "\n",
       "    .dataframe tbody tr th {\n",
       "        vertical-align: top;\n",
       "    }\n",
       "\n",
       "    .dataframe thead th {\n",
       "        text-align: right;\n",
       "    }\n",
       "</style>\n",
       "<table border=\"1\" class=\"dataframe\">\n",
       "  <thead>\n",
       "    <tr style=\"text-align: right;\">\n",
       "      <th></th>\n",
       "      <th>event_name</th>\n",
       "      <th>device_id_hash</th>\n",
       "      <th>event_timestamp</th>\n",
       "      <th>exp_id</th>\n",
       "      <th>datetime</th>\n",
       "      <th>date</th>\n",
       "    </tr>\n",
       "  </thead>\n",
       "  <tbody>\n",
       "    <tr>\n",
       "      <th>0</th>\n",
       "      <td>MainScreenAppear</td>\n",
       "      <td>4575588528974610257</td>\n",
       "      <td>1564029816</td>\n",
       "      <td>246</td>\n",
       "      <td>2019-07-25 04:43:36</td>\n",
       "      <td>2019-07-25</td>\n",
       "    </tr>\n",
       "    <tr>\n",
       "      <th>1</th>\n",
       "      <td>MainScreenAppear</td>\n",
       "      <td>7416695313311560658</td>\n",
       "      <td>1564053102</td>\n",
       "      <td>246</td>\n",
       "      <td>2019-07-25 11:11:42</td>\n",
       "      <td>2019-07-25</td>\n",
       "    </tr>\n",
       "    <tr>\n",
       "      <th>2</th>\n",
       "      <td>PaymentScreenSuccessful</td>\n",
       "      <td>3518123091307005509</td>\n",
       "      <td>1564054127</td>\n",
       "      <td>248</td>\n",
       "      <td>2019-07-25 11:28:47</td>\n",
       "      <td>2019-07-25</td>\n",
       "    </tr>\n",
       "    <tr>\n",
       "      <th>3</th>\n",
       "      <td>CartScreenAppear</td>\n",
       "      <td>3518123091307005509</td>\n",
       "      <td>1564054127</td>\n",
       "      <td>248</td>\n",
       "      <td>2019-07-25 11:28:47</td>\n",
       "      <td>2019-07-25</td>\n",
       "    </tr>\n",
       "    <tr>\n",
       "      <th>4</th>\n",
       "      <td>PaymentScreenSuccessful</td>\n",
       "      <td>6217807653094995999</td>\n",
       "      <td>1564055322</td>\n",
       "      <td>248</td>\n",
       "      <td>2019-07-25 11:48:42</td>\n",
       "      <td>2019-07-25</td>\n",
       "    </tr>\n",
       "    <tr>\n",
       "      <th>5</th>\n",
       "      <td>CartScreenAppear</td>\n",
       "      <td>6217807653094995999</td>\n",
       "      <td>1564055323</td>\n",
       "      <td>248</td>\n",
       "      <td>2019-07-25 11:48:43</td>\n",
       "      <td>2019-07-25</td>\n",
       "    </tr>\n",
       "    <tr>\n",
       "      <th>6</th>\n",
       "      <td>OffersScreenAppear</td>\n",
       "      <td>8351860793733343758</td>\n",
       "      <td>1564066242</td>\n",
       "      <td>246</td>\n",
       "      <td>2019-07-25 14:50:42</td>\n",
       "      <td>2019-07-25</td>\n",
       "    </tr>\n",
       "    <tr>\n",
       "      <th>7</th>\n",
       "      <td>MainScreenAppear</td>\n",
       "      <td>5682100281902512875</td>\n",
       "      <td>1564085677</td>\n",
       "      <td>246</td>\n",
       "      <td>2019-07-25 20:14:37</td>\n",
       "      <td>2019-07-25</td>\n",
       "    </tr>\n",
       "    <tr>\n",
       "      <th>8</th>\n",
       "      <td>MainScreenAppear</td>\n",
       "      <td>1850981295691852772</td>\n",
       "      <td>1564086702</td>\n",
       "      <td>247</td>\n",
       "      <td>2019-07-25 20:31:42</td>\n",
       "      <td>2019-07-25</td>\n",
       "    </tr>\n",
       "    <tr>\n",
       "      <th>9</th>\n",
       "      <td>MainScreenAppear</td>\n",
       "      <td>5407636962369102641</td>\n",
       "      <td>1564112112</td>\n",
       "      <td>246</td>\n",
       "      <td>2019-07-26 03:35:12</td>\n",
       "      <td>2019-07-26</td>\n",
       "    </tr>\n",
       "  </tbody>\n",
       "</table>\n",
       "</div>"
      ],
      "text/plain": [
       "                event_name       device_id_hash  event_timestamp  exp_id  \\\n",
       "0         MainScreenAppear  4575588528974610257       1564029816     246   \n",
       "1         MainScreenAppear  7416695313311560658       1564053102     246   \n",
       "2  PaymentScreenSuccessful  3518123091307005509       1564054127     248   \n",
       "3         CartScreenAppear  3518123091307005509       1564054127     248   \n",
       "4  PaymentScreenSuccessful  6217807653094995999       1564055322     248   \n",
       "5         CartScreenAppear  6217807653094995999       1564055323     248   \n",
       "6       OffersScreenAppear  8351860793733343758       1564066242     246   \n",
       "7         MainScreenAppear  5682100281902512875       1564085677     246   \n",
       "8         MainScreenAppear  1850981295691852772       1564086702     247   \n",
       "9         MainScreenAppear  5407636962369102641       1564112112     246   \n",
       "\n",
       "             datetime        date  \n",
       "0 2019-07-25 04:43:36  2019-07-25  \n",
       "1 2019-07-25 11:11:42  2019-07-25  \n",
       "2 2019-07-25 11:28:47  2019-07-25  \n",
       "3 2019-07-25 11:28:47  2019-07-25  \n",
       "4 2019-07-25 11:48:42  2019-07-25  \n",
       "5 2019-07-25 11:48:43  2019-07-25  \n",
       "6 2019-07-25 14:50:42  2019-07-25  \n",
       "7 2019-07-25 20:14:37  2019-07-25  \n",
       "8 2019-07-25 20:31:42  2019-07-25  \n",
       "9 2019-07-26 03:35:12  2019-07-26  "
      ]
     },
     "execution_count": 12,
     "metadata": {},
     "output_type": "execute_result"
    }
   ],
   "source": [
    "log['datetime'] = pd.to_datetime(log['event_timestamp'], unit='s')\n",
    "log['date'] = log['datetime'].dt.date\n",
    "log.head(10)"
   ]
  },
  {
   "cell_type": "markdown",
   "id": "c5ba357a",
   "metadata": {},
   "source": [
    "### Вносим ясность в имена столбцов"
   ]
  },
  {
   "cell_type": "markdown",
   "id": "554a418e",
   "metadata": {},
   "source": [
    "Главное: то, что в столбце считается \"названием события\" - фактически это тип события. А конкретно само событие - это то, что произошло с конкретным устройством в конкретный момент. Повторять слово event в нескольких столбцах мало смысла. Закрепим эти две идеи."
   ]
  },
  {
   "cell_type": "code",
   "execution_count": 13,
   "id": "6a5ac98c",
   "metadata": {},
   "outputs": [],
   "source": [
    "log.columns = [\n",
    "    'event_type',\n",
    "    'device_id_hash',\n",
    "    'timestamp',\n",
    "    'group',\n",
    "    'datetime',\n",
    "    'date',\n",
    "]"
   ]
  },
  {
   "cell_type": "markdown",
   "id": "1ebfd19e",
   "metadata": {},
   "source": [
    "### Итоги подготовки данных\n",
    "\n",
    "- Обнаружены полные дубликаты записей. Возможные причины:\n",
    "  - несколько однотипных действий, совершаемых пользователей или системой в одну секунду;\n",
    "  - ошибки записи, хранения или выгрузчки данных.\n",
    "  - Как на них реагировать - нужно запросить у поставщика данных."
   ]
  },
  {
   "cell_type": "markdown",
   "id": "3d89617d",
   "metadata": {},
   "source": [
    "<div class=\"alert alert-success\">\n",
    "<font size=\"5\"><b>Комментарий ревьюера</b></font>\n",
    "\n",
    "Успех: Ошибки в таблице исправлены. Данные подготовлены к дальнейшему анализу. \n",
    "\n",
    "</div>"
   ]
  },
  {
   "cell_type": "markdown",
   "id": "2b8bc12f",
   "metadata": {},
   "source": [
    "## Анализ общих данных"
   ]
  },
  {
   "cell_type": "code",
   "execution_count": 14,
   "id": "045d55be",
   "metadata": {},
   "outputs": [
    {
     "name": "stdout",
     "output_type": "stream",
     "text": [
      "Всего событий: 244126\n",
      "Всего активных устройств: 7551\n",
      "Событий на устройство в среднем: 32.33\n"
     ]
    }
   ],
   "source": [
    "print('Всего событий:', len(log))\n",
    "devices_count = log['device_id_hash'].nunique()\n",
    "print('Всего активных устройств:', devices_count)\n",
    "print('Событий на устройство в среднем:', round(len(log) / devices_count, 2))"
   ]
  },
  {
   "cell_type": "markdown",
   "id": "6d6a3bde",
   "metadata": {},
   "source": [
    "Обратим внимание, что учёт событий ведётся не по личностям пользователей, а по устройствам. Это может быть важно, если один пользователь использует несколько устройств (например, Android и iOS попеременно, или телефон и планшет).\n",
    "\n",
    "Заказчик указал, что в данном исследовании можно считать, что одно устройство соответствует одному пользователю.\n",
    "\n",
    "Каждое \"событие\" - это какое-то изменение в состоянии приложения, важное для дела (поэтому его записывают). Либо пользователь, либо правила, заложенные в приложении, вызывают эти изменения.\n",
    "\n",
    "Если предполагать, что наблюдая за случайно выбранным пользователем, мы увидим 32 события, вызванных пользователем или в ответ на действия пользователя - то можно сказать, что данный случайный пользователь уделил приложению существенное внимание."
   ]
  },
  {
   "cell_type": "markdown",
   "id": "fe871576",
   "metadata": {},
   "source": [
    "<div class=\"alert alert-success\">\n",
    "<font size=\"5\"><b>Комментарий ревьюера</b></font>\n",
    "\n",
    "Успех: Как думаешь, 32 события на пользователя - это много?\n",
    "\n",
    "</div>\n",
    "\n",
    "<div class=\"alert alert-info\">\n",
    "<font size=\"5\"><b>Комментарий студента</b></font>\n",
    "\n",
    "Думаю, что много. Почему - изложил в блоке выше.\n",
    "    \n",
    "</div>"
   ]
  },
  {
   "cell_type": "markdown",
   "id": "0cba261a",
   "metadata": {},
   "source": [
    "### Анализ времени событий"
   ]
  },
  {
   "cell_type": "code",
   "execution_count": 15,
   "id": "81013aac",
   "metadata": {},
   "outputs": [
    {
     "name": "stdout",
     "output_type": "stream",
     "text": [
      "Самый ранний момент в логе: 2019-07-25 04:43:36\n",
      "Самый поздний момент в логе: 2019-08-07 21:15:17\n",
      "Длина охватываемого периода: 13 days 16:31:41\n",
      "Средний интервал между событиями, секунд: 4.84\n",
      "Средняя частота событий в минуту: 12.38\n"
     ]
    }
   ],
   "source": [
    "print('Самый ранний момент в логе:', log['datetime'].min())\n",
    "print('Самый поздний момент в логе:', log['datetime'].max())\n",
    "print(\n",
    "    'Длина охватываемого периода:',\n",
    "    log['datetime'].max() - log['datetime'].min(),\n",
    ")\n",
    "mean_interval = (log['timestamp'].max() - log['timestamp'].min()) / len(log)\n",
    "mean_frequency = 60 / mean_interval\n",
    "print('Средний интервал между событиями, секунд:', round(mean_interval, 2))\n",
    "print('Средняя частота событий в минуту:', round(mean_frequency, 2))"
   ]
  },
  {
   "cell_type": "code",
   "execution_count": 16,
   "id": "39eba64f",
   "metadata": {},
   "outputs": [
    {
     "name": "stdout",
     "output_type": "stream",
     "text": [
      "На хронологически верных местах стоят 221691 записей из 244126.\n"
     ]
    }
   ],
   "source": [
    "print(\n",
    "    'На хронологически верных местах стоят {} записей из {}.'.format(\n",
    "        sum(log.index == log.sort_values('timestamp').index),\n",
    "        len(log),\n",
    "    )\n",
    ")"
   ]
  },
  {
   "cell_type": "markdown",
   "id": "586911fa",
   "metadata": {},
   "source": [
    "Записи в выгрузке следуют не в строго хронологическом порядке. Самое раннее и самое позднее событие не лежат вблизи времени смены даты или смены часа. Опираясь на номера экспериментов, понимаем, что это не исчерпывающие записи, а только выборка из записей.\n",
    "\n",
    "Зная всё это, предполагаем: в выборку могли попасть не все события, происходившие в период от самого раннего до самого позднего выбранного события.\n",
    "\n",
    "С другой стороны, у нас нет оснований считать, что в выборку не попали какие-то события, связанные с интересующими нас тремя экспериментами. Полагаем, что все три группы событий выгружены полностью."
   ]
  },
  {
   "cell_type": "markdown",
   "id": "70951bad",
   "metadata": {},
   "source": [
    "### Распределение по датам"
   ]
  },
  {
   "cell_type": "code",
   "execution_count": 17,
   "id": "8f0c697a",
   "metadata": {},
   "outputs": [
    {
     "data": {
      "text/html": [
       "<div>\n",
       "<style scoped>\n",
       "    .dataframe tbody tr th:only-of-type {\n",
       "        vertical-align: middle;\n",
       "    }\n",
       "\n",
       "    .dataframe tbody tr th {\n",
       "        vertical-align: top;\n",
       "    }\n",
       "\n",
       "    .dataframe thead th {\n",
       "        text-align: right;\n",
       "    }\n",
       "</style>\n",
       "<table border=\"1\" class=\"dataframe\">\n",
       "  <thead>\n",
       "    <tr style=\"text-align: right;\">\n",
       "      <th></th>\n",
       "      <th>event_type</th>\n",
       "      <th>device_id_hash</th>\n",
       "      <th>timestamp</th>\n",
       "      <th>group</th>\n",
       "      <th>datetime</th>\n",
       "      <th>date</th>\n",
       "      <th>A1</th>\n",
       "      <th>A2</th>\n",
       "      <th>B</th>\n",
       "    </tr>\n",
       "  </thead>\n",
       "  <tbody>\n",
       "    <tr>\n",
       "      <th>0</th>\n",
       "      <td>MainScreenAppear</td>\n",
       "      <td>4575588528974610257</td>\n",
       "      <td>1564029816</td>\n",
       "      <td>246</td>\n",
       "      <td>2019-07-25 04:43:36</td>\n",
       "      <td>2019-07-25</td>\n",
       "      <td>True</td>\n",
       "      <td>False</td>\n",
       "      <td>False</td>\n",
       "    </tr>\n",
       "    <tr>\n",
       "      <th>1</th>\n",
       "      <td>MainScreenAppear</td>\n",
       "      <td>7416695313311560658</td>\n",
       "      <td>1564053102</td>\n",
       "      <td>246</td>\n",
       "      <td>2019-07-25 11:11:42</td>\n",
       "      <td>2019-07-25</td>\n",
       "      <td>True</td>\n",
       "      <td>False</td>\n",
       "      <td>False</td>\n",
       "    </tr>\n",
       "    <tr>\n",
       "      <th>2</th>\n",
       "      <td>PaymentScreenSuccessful</td>\n",
       "      <td>3518123091307005509</td>\n",
       "      <td>1564054127</td>\n",
       "      <td>248</td>\n",
       "      <td>2019-07-25 11:28:47</td>\n",
       "      <td>2019-07-25</td>\n",
       "      <td>False</td>\n",
       "      <td>False</td>\n",
       "      <td>True</td>\n",
       "    </tr>\n",
       "    <tr>\n",
       "      <th>3</th>\n",
       "      <td>CartScreenAppear</td>\n",
       "      <td>3518123091307005509</td>\n",
       "      <td>1564054127</td>\n",
       "      <td>248</td>\n",
       "      <td>2019-07-25 11:28:47</td>\n",
       "      <td>2019-07-25</td>\n",
       "      <td>False</td>\n",
       "      <td>False</td>\n",
       "      <td>True</td>\n",
       "    </tr>\n",
       "    <tr>\n",
       "      <th>4</th>\n",
       "      <td>PaymentScreenSuccessful</td>\n",
       "      <td>6217807653094995999</td>\n",
       "      <td>1564055322</td>\n",
       "      <td>248</td>\n",
       "      <td>2019-07-25 11:48:42</td>\n",
       "      <td>2019-07-25</td>\n",
       "      <td>False</td>\n",
       "      <td>False</td>\n",
       "      <td>True</td>\n",
       "    </tr>\n",
       "  </tbody>\n",
       "</table>\n",
       "</div>"
      ],
      "text/plain": [
       "                event_type       device_id_hash   timestamp  group  \\\n",
       "0         MainScreenAppear  4575588528974610257  1564029816    246   \n",
       "1         MainScreenAppear  7416695313311560658  1564053102    246   \n",
       "2  PaymentScreenSuccessful  3518123091307005509  1564054127    248   \n",
       "3         CartScreenAppear  3518123091307005509  1564054127    248   \n",
       "4  PaymentScreenSuccessful  6217807653094995999  1564055322    248   \n",
       "\n",
       "             datetime        date     A1     A2      B  \n",
       "0 2019-07-25 04:43:36  2019-07-25   True  False  False  \n",
       "1 2019-07-25 11:11:42  2019-07-25   True  False  False  \n",
       "2 2019-07-25 11:28:47  2019-07-25  False  False   True  \n",
       "3 2019-07-25 11:28:47  2019-07-25  False  False   True  \n",
       "4 2019-07-25 11:48:42  2019-07-25  False  False   True  "
      ]
     },
     "metadata": {},
     "output_type": "display_data"
    }
   ],
   "source": [
    "log['A1'] = log['group'] == 246\n",
    "log['A2'] = log['group'] == 247\n",
    "log['B'] = log['group'] == 248\n",
    "display(log.head())"
   ]
  },
  {
   "cell_type": "code",
   "execution_count": 18,
   "id": "d50c38ce",
   "metadata": {
    "scrolled": false
   },
   "outputs": [
    {
     "data": {
      "image/png": "[encoded data removed]",
      "text/plain": [
       "<Figure size 864x432 with 1 Axes>"
      ]
     },
     "metadata": {
      "needs_background": "light"
     },
     "output_type": "display_data"
    }
   ],
   "source": [
    "xticks = sorted(log['date'].unique())\n",
    "log.groupby('date').agg({'A1': 'sum', 'A2': 'sum', 'B': 'sum'}).plot(\n",
    "    figsize=FIGSIZE,\n",
    "    rot=45,\n",
    "    grid=True,\n",
    "    xticks=xticks,\n",
    "    color=['green', 'blue', 'red'],\n",
    ")\n",
    "plt.title('Распределение событий по датам и группам')\n",
    "plt.xlabel('Даты')\n",
    "plt.ylabel('Число событий')\n",
    "plt.show()"
   ]
  },
  {
   "cell_type": "code",
   "execution_count": 19,
   "id": "7a941504",
   "metadata": {},
   "outputs": [
    {
     "data": {
      "image/png": "[encoded data removed]",
      "text/plain": [
       "<Figure size 864x432 with 1 Axes>"
      ]
     },
     "metadata": {
      "needs_background": "light"
     },
     "output_type": "display_data"
    }
   ],
   "source": [
    "xticks = sorted(log['date'].unique())\n",
    "log.groupby('date').agg({'A1': 'sum', 'A2': 'sum', 'B': 'sum'}).plot(\n",
    "    figsize=FIGSIZE,\n",
    "    rot=45,\n",
    "    grid=True,\n",
    "    xticks=xticks,\n",
    "    color=['green', 'blue', 'red'],\n",
    ")\n",
    "plt.title('Распределение событий по датам и группам (логарифмическая шкала)')\n",
    "plt.xlabel('Даты')\n",
    "plt.ylabel('Число событий')\n",
    "plt.yscale('log')\n",
    "plt.show()"
   ]
  },
  {
   "cell_type": "markdown",
   "id": "a3368434",
   "metadata": {},
   "source": [
    "Мы видим, как нарастали количества действий в каждой из групп, по естественному экспоненциальному закону, пока не достигли потолка в дату 1 августа.\n",
    "\n",
    "С 1-го по 7-е августа вместо продолжения взрывного роста - примерно равные количества событий в день.\n",
    "\n",
    "Есть некоторое несовпадение распределения по датам между группами. Это несовпадение не выглядит существенным.\n",
    "\n",
    "### Перекос распределения по датам в выборке\n",
    "\n",
    "В задании указана особенность данной выборки:\n",
    "\n",
    "> Технически в логи новых дней по некоторым пользователям могут «доезжать» события из прошлого — это может «перекашивать данные».\n",
    "\n",
    "Что означает \"события из прошлого могут доезжать в логи новых дней\" - не ясно. Лог нам предоставлен один и непрерывный. У каждого события указан конкретный момент наступления. Процесс \"доезжания событий\" не описан.\n",
    "\n",
    "Возможно, имеется ввиду, что событие записывается в хранилище данных не в тот момент, который указан в таймстампе. Тогда выгрузка данных может не содержать всех событий, которые произошли. Не будут вписаны, скорее, события, которые наступили недавно, а чем давнее дата - тем более полные данные по ней. Указано, что это касается \"некоторых пользователей\" - даётся намёк, что это не массовое явление. Есть смысл проверить количество активных пользователей в каждую из дат.\n",
    "\n",
    "Нужно обратить внимание поставщиков данных, что такие формулировки, как в цитате, лучше заменять на более точные. Поскольку нет возможности получить точное толкование этой фразы - лучше её вовсе не учитывать."
   ]
  },
  {
   "cell_type": "code",
   "execution_count": 20,
   "id": "c0910471",
   "metadata": {},
   "outputs": [
    {
     "data": {
      "image/png": "[encoded data removed]",
      "text/plain": [
       "<Figure size 864x432 with 1 Axes>"
      ]
     },
     "metadata": {
      "needs_background": "light"
     },
     "output_type": "display_data"
    }
   ],
   "source": [
    "xticks = sorted(log['date'].unique())\n",
    "log.groupby('date').agg({'device_id_hash': 'nunique'}).plot(\n",
    "    figsize=FIGSIZE,\n",
    "    rot=45,\n",
    "    grid=True,\n",
    "    xticks=xticks,\n",
    "    color=['green', 'blue', 'red'],\n",
    ")\n",
    "plt.title('Распределение активных устройств по датам (логарифмическая шкала)')\n",
    "plt.xlabel('Даты')\n",
    "plt.ylabel('Число устройств, фиксировавших события')\n",
    "plt.yscale('log')\n",
    "plt.show()"
   ]
  },
  {
   "cell_type": "markdown",
   "id": "702e1c9e",
   "metadata": {},
   "source": [
    "Видим экспоненциальный рост активно использующихся устройств. Он соответствует росту событий.\n",
    "\n",
    "Что можно ещё проверить:\n",
    "- взять действия 5%, 1% самых активных пользователей - как они распределены по датам?\n",
    "- взять приток новых пользователей по датам - как они распределены?\n",
    "\n",
    "Поскольку задание по A/A/B-тесту подразумевает выбор таких дат, в которых событий относсительно много - мы выберем диапазон с 1 по 7 августа включительно."
   ]
  },
  {
   "cell_type": "markdown",
   "id": "b4fe70a2",
   "metadata": {},
   "source": [
    "### Распределение по часам в сутках"
   ]
  },
  {
   "cell_type": "code",
   "execution_count": 21,
   "id": "52c2a964",
   "metadata": {},
   "outputs": [
    {
     "data": {
      "image/png": "[encoded data removed]",
      "text/plain": [
       "<Figure size 864x432 with 1 Axes>"
      ]
     },
     "metadata": {
      "needs_background": "light"
     },
     "output_type": "display_data"
    }
   ],
   "source": [
    "xticks = sorted(log['datetime'].dt.hour.unique())\n",
    "distr_by_hour = log.groupby(log['datetime'].dt.hour).agg(\n",
    "    {'A1': 'sum', 'A2': 'sum', 'B': 'sum'}\n",
    ")\n",
    "distr_by_hour.plot(\n",
    "    figsize=FIGSIZE, grid=True, xticks=xticks, color=['green', 'blue', 'red']\n",
    ")\n",
    "plt.title('Распределение событий по часовым отметкам')\n",
    "plt.xlabel('Часовые отметки')\n",
    "plt.ylabel('Число событий')\n",
    "plt.show()"
   ]
  },
  {
   "cell_type": "markdown",
   "id": "cb007374",
   "metadata": {},
   "source": [
    "В полночь событий меньше всего (менее 1000 в час на группу), в 14...15 часов событий максимум (более 5000 в час на группу)."
   ]
  },
  {
   "cell_type": "code",
   "execution_count": 22,
   "id": "076a5739",
   "metadata": {},
   "outputs": [
    {
     "data": {
      "image/png": "[encoded data removed]",
      "text/plain": [
       "<Figure size 864x432 with 1 Axes>"
      ]
     },
     "metadata": {
      "needs_background": "light"
     },
     "output_type": "display_data"
    }
   ],
   "source": [
    "distr_by_hour['A2 - A1'] = distr_by_hour['A2'] - distr_by_hour['A1']\n",
    "distr_by_hour['B - A1'] = distr_by_hour['B'] - distr_by_hour['A1']\n",
    "\n",
    "xticks = sorted(log['datetime'].dt.hour.unique())\n",
    "distr_by_hour.plot(\n",
    "    figsize=FIGSIZE, grid=True, xticks=xticks, y=['A2 - A1', 'B - A1']\n",
    ")\n",
    "plt.title('Разница групп по числу событий по часовым отметкам')\n",
    "plt.xlabel('Часовые отметки')\n",
    "plt.ylabel('Число событий')\n",
    "plt.axhline(linestyle='--', color='grey', y=0)\n",
    "plt.show()"
   ]
  },
  {
   "cell_type": "markdown",
   "id": "ea23b0a6",
   "metadata": {},
   "source": [
    "Наблюдаем несоответствие между распределениями групп по часам. У группы A1 (эксперимент 246) относительно выражена активность днём, чем у двух других групп (их результаты ухудшаются по сравнению с A1, пока идут невные часы, с 8..10 до 17."
   ]
  },
  {
   "cell_type": "code",
   "execution_count": 23,
   "id": "5f25d07c",
   "metadata": {},
   "outputs": [
    {
     "data": {
      "image/png": "[encoded data removed]",
      "text/plain": [
       "<Figure size 864x432 with 1 Axes>"
      ]
     },
     "metadata": {
      "needs_background": "light"
     },
     "output_type": "display_data"
    }
   ],
   "source": [
    "xticks = sorted(log['datetime'].dt.hour.unique())\n",
    "log.pivot_table(\n",
    "    index=log['datetime'].dt.hour,\n",
    "    columns=log['date'],\n",
    "    values='datetime',\n",
    "    aggfunc='count',\n",
    ").fillna(0).plot(\n",
    "    figsize=FIGSIZE,\n",
    "    grid=True,\n",
    "    xticks=xticks,\n",
    ")\n",
    "plt.title('Распределение событий часовым отметкам и датам')\n",
    "plt.xlabel('Часовые отметки')\n",
    "plt.ylabel('Число событий')\n",
    "plt.legend(bbox_to_anchor=(1, 1))\n",
    "plt.show()"
   ]
  },
  {
   "cell_type": "markdown",
   "id": "f8859b08",
   "metadata": {},
   "source": [
    "Есть неравномерность в распределении по дням, но она несущественна. Есть две группы дат - последняя неделя июля (мало событий) и первая неделя августа (много событий). Три дня имеют особенное распределение:\n",
    "- 31 июля активность нарастает весь день, и превышающий все предыдущие дни скачок происходит в 22-ом часу (знаем, что через 2 часа наступит 1 августа, первый день, когда посетителей много);\n",
    "- ночью 2-го числа посетителей в разы больше, чем ночами в другие даты;\n",
    "- 7 августа в течение 22-го часа выборка завершается, поэтому последние часы даты хуже, чем в другие даты."
   ]
  },
  {
   "cell_type": "markdown",
   "id": "979bb7a8",
   "metadata": {},
   "source": [
    "### Выбираем только нагруженные дни\n",
    "\n",
    "Мы определили, что это будут числа с 1 по 7-е. Однако, если всмотреться точнее, то реальный цикл начался в 22-ом часу 31 июля, и завершился в 22-ом часу 7 августа. Выберем срез с точностью до минуты. Для этого проанализируем события в эти два часовых отрезка."
   ]
  },
  {
   "cell_type": "markdown",
   "id": "f97260c2",
   "metadata": {},
   "source": [
    "<div class=\"alert alert-success\">\n",
    "<font size=\"5\"><b>Комментарий ревьюера</b></font>\n",
    "\n",
    "Успех: Верный выбор. Число строк до данной даты у нас незначительное. Круто, что ты так детально разбираешь каждый шаг работы. \n",
    "    \n",
    "</div>"
   ]
  },
  {
   "cell_type": "code",
   "execution_count": 24,
   "id": "6a85e158",
   "metadata": {},
   "outputs": [],
   "source": [
    "date = [datetime.date(2019, 7, 31), datetime.date(2019, 8, 7)]\n",
    "border_hours = log[(log['date'].isin(date)) & (log['datetime'].dt.hour == 21)]"
   ]
  },
  {
   "cell_type": "code",
   "execution_count": 25,
   "id": "1b244b86",
   "metadata": {},
   "outputs": [
    {
     "data": {
      "image/png": "[encoded data removed]",
      "text/plain": [
       "<Figure size 864x432 with 1 Axes>"
      ]
     },
     "metadata": {
      "needs_background": "light"
     },
     "output_type": "display_data"
    }
   ],
   "source": [
    "xticks = sorted(log['datetime'].dt.minute.unique())\n",
    "border_hours.pivot_table(\n",
    "    index=log['datetime'].dt.minute,\n",
    "    columns=log['date'],\n",
    "    values='datetime',\n",
    "    aggfunc='count',\n",
    ").fillna(0).plot(\n",
    "    figsize=FIGSIZE,\n",
    "    grid=True,\n",
    "    xticks=xticks,\n",
    ")\n",
    "plt.title('Распределение событий минутным отметкам и датам')\n",
    "plt.xlabel('Минутные отметки')\n",
    "plt.ylabel('Число событий')\n",
    "plt.axvline(x=9, linestyle='--', color='grey')\n",
    "plt.show()"
   ]
  },
  {
   "cell_type": "markdown",
   "id": "3f834cff",
   "metadata": {},
   "source": [
    "Мы видим, что с 21:06 по 21:14 31 июля произошёл сильный рост, а с 21:06 по 21:16 7 августа состоялись последние события в нашей выборке. Границы можно провести в одну из этих минут.\n",
    "\n",
    "Установим 21:09:00 31 июля как первую секунду учётного времени, и 21:08:59 7 августа - как последнюю."
   ]
  },
  {
   "cell_type": "code",
   "execution_count": 26,
   "id": "c6e156ec",
   "metadata": {},
   "outputs": [],
   "source": [
    "start = datetime.datetime(2019, 7, 31, 21, 9, 0)\n",
    "end = datetime.datetime(2019, 8, 7, 21, 8, 59)\n",
    "\n",
    "sel = log[(start <= log['datetime']) & (log['datetime'] <= end)]"
   ]
  },
  {
   "cell_type": "markdown",
   "id": "7b9e9dd6",
   "metadata": {},
   "source": [
    "#### Сколько попало в выборку"
   ]
  },
  {
   "cell_type": "code",
   "execution_count": 27,
   "id": "e1264d76",
   "metadata": {},
   "outputs": [
    {
     "name": "stdout",
     "output_type": "stream",
     "text": [
      "Выбрано событий: 242100 (99.17%)\n"
     ]
    }
   ],
   "source": [
    "print('Выбрано событий: {} ({:.2%})'.format(len(sel), len(sel) / len(log)))"
   ]
  },
  {
   "cell_type": "code",
   "execution_count": 28,
   "id": "fbf7e026",
   "metadata": {},
   "outputs": [
    {
     "name": "stdout",
     "output_type": "stream",
     "text": [
      "Выбрано пользовательских устройств:\n"
     ]
    },
    {
     "data": {
      "text/html": [
       "<div>\n",
       "<style scoped>\n",
       "    .dataframe tbody tr th:only-of-type {\n",
       "        vertical-align: middle;\n",
       "    }\n",
       "\n",
       "    .dataframe tbody tr th {\n",
       "        vertical-align: top;\n",
       "    }\n",
       "\n",
       "    .dataframe thead th {\n",
       "        text-align: right;\n",
       "    }\n",
       "</style>\n",
       "<table border=\"1\" class=\"dataframe\">\n",
       "  <thead>\n",
       "    <tr style=\"text-align: right;\">\n",
       "      <th></th>\n",
       "      <th>devices</th>\n",
       "    </tr>\n",
       "    <tr>\n",
       "      <th>group</th>\n",
       "      <th></th>\n",
       "    </tr>\n",
       "  </thead>\n",
       "  <tbody>\n",
       "    <tr>\n",
       "      <th>246</th>\n",
       "      <td>2484</td>\n",
       "    </tr>\n",
       "    <tr>\n",
       "      <th>247</th>\n",
       "      <td>2517</td>\n",
       "    </tr>\n",
       "    <tr>\n",
       "      <th>248</th>\n",
       "      <td>2537</td>\n",
       "    </tr>\n",
       "  </tbody>\n",
       "</table>\n",
       "</div>"
      ],
      "text/plain": [
       "       devices\n",
       "group         \n",
       "246       2484\n",
       "247       2517\n",
       "248       2537"
      ]
     },
     "metadata": {},
     "output_type": "display_data"
    }
   ],
   "source": [
    "print('Выбрано пользовательских устройств:')\n",
    "sel_groups = (\n",
    "    sel.groupby('group')\n",
    "    .agg({'device_id_hash': 'nunique'})\n",
    "    .rename(columns={'device_id_hash': 'devices'})\n",
    ")\n",
    "display(sel_groups)"
   ]
  },
  {
   "cell_type": "markdown",
   "id": "e67341a9",
   "metadata": {},
   "source": [
    "Среди выбранных событий представлены все три группы."
   ]
  },
  {
   "cell_type": "markdown",
   "id": "d038209b",
   "metadata": {},
   "source": [
    "#### Сколько убрано из выборки"
   ]
  },
  {
   "cell_type": "code",
   "execution_count": 29,
   "id": "eec7d7fc",
   "metadata": {},
   "outputs": [
    {
     "name": "stdout",
     "output_type": "stream",
     "text": [
      "Удалено событий: 2026 (0.83%)\n"
     ]
    }
   ],
   "source": [
    "print(\n",
    "    'Удалено событий: {} ({:.2%})'.format(\n",
    "        len(log) - len(sel), 1 - len(sel) / len(log)\n",
    "    )\n",
    ")"
   ]
  },
  {
   "cell_type": "code",
   "execution_count": 30,
   "id": "ada6eef2",
   "metadata": {},
   "outputs": [
    {
     "name": "stdout",
     "output_type": "stream",
     "text": [
      "Количество устройств, у которых все записи оказались удалены:\n"
     ]
    },
    {
     "data": {
      "text/html": [
       "<div>\n",
       "<style scoped>\n",
       "    .dataframe tbody tr th:only-of-type {\n",
       "        vertical-align: middle;\n",
       "    }\n",
       "\n",
       "    .dataframe tbody tr th {\n",
       "        vertical-align: top;\n",
       "    }\n",
       "\n",
       "    .dataframe thead th {\n",
       "        text-align: right;\n",
       "    }\n",
       "</style>\n",
       "<table border=\"1\" class=\"dataframe\">\n",
       "  <thead>\n",
       "    <tr style=\"text-align: right;\">\n",
       "      <th></th>\n",
       "      <th>devices</th>\n",
       "    </tr>\n",
       "    <tr>\n",
       "      <th>group</th>\n",
       "      <th></th>\n",
       "    </tr>\n",
       "  </thead>\n",
       "  <tbody>\n",
       "    <tr>\n",
       "      <th>246</th>\n",
       "      <td>5</td>\n",
       "    </tr>\n",
       "    <tr>\n",
       "      <th>247</th>\n",
       "      <td>3</td>\n",
       "    </tr>\n",
       "    <tr>\n",
       "      <th>248</th>\n",
       "      <td>5</td>\n",
       "    </tr>\n",
       "  </tbody>\n",
       "</table>\n",
       "</div>"
      ],
      "text/plain": [
       "       devices\n",
       "group         \n",
       "246          5\n",
       "247          3\n",
       "248          5"
      ]
     },
     "execution_count": 30,
     "metadata": {},
     "output_type": "execute_result"
    }
   ],
   "source": [
    "print('Количество устройств, у которых все записи оказались удалены:')\n",
    "pd.DataFrame(\n",
    "    log.groupby('group')\n",
    "    .agg({'device_id_hash': 'nunique'})\n",
    "    .rename(columns={'device_id_hash': 'devices'})['devices']\n",
    "    - sel_groups['devices']\n",
    ")"
   ]
  },
  {
   "cell_type": "markdown",
   "id": "8dec8f02",
   "metadata": {},
   "source": [
    "<div class=\"alert alert-danger\">\n",
    "<font size=\"5\"><b>Комментарий ревьюера</b></font>\n",
    "\n",
    "Ошибка: Не слишком много данных удалено. Здорово, что ты проверил объем удаленных данных по общему числу строк. Стоит рассчитать и число удаленных пользователей, а также вывести и абсолютное значение числа удаленных строк для понимания порядка данной величины. \n",
    "    \n",
    "</div>\n",
    "<div class=\"alert alert-info\">\n",
    "<font size=\"5\"><b>Комментарий студента</b></font>\n",
    "\n",
    "Дополнил данные: появились число удалённых пользователей и число удалённых строк.\n",
    "    \n",
    "</div>"
   ]
  },
  {
   "cell_type": "markdown",
   "id": "54acd78f",
   "metadata": {},
   "source": [
    "### Итоги анализа общих данных\n",
    "\n",
    "- Лог включает события двух периодов по 7 дней:\n",
    "  - период роста количества событий - с 25 по 31 июля 2019 г;\n",
    "  - период пика количества событий - с 1 по 7 августа 2019 г;\n",
    "- Переход к пиковым значениям состоялся около 21:10 (+- 5минут) 31 июля.\n",
    "- Последние события лога приходятся на 21:10 (+- 5 минут) 7 августа.\n",
    "- Группа пользователей A1 (эксперимент 246) несколько активнее днём (с 8...10 до 17), чем две другие группы;\n",
    "  - они в свою очередь, несколько активнее ночью, чем группа A1."
   ]
  },
  {
   "cell_type": "markdown",
   "id": "308171a3",
   "metadata": {},
   "source": [
    "## Анализ воронки событий\n",
    "\n",
    "Попробуем построить воронку событий. Для этого разберёмся, какие события существуют, как много каждого из них, и какие последовательности событий происходят чаще всего."
   ]
  },
  {
   "cell_type": "code",
   "execution_count": 31,
   "id": "09b26507",
   "metadata": {},
   "outputs": [
    {
     "data": {
      "text/html": [
       "<div>\n",
       "<style scoped>\n",
       "    .dataframe tbody tr th:only-of-type {\n",
       "        vertical-align: middle;\n",
       "    }\n",
       "\n",
       "    .dataframe tbody tr th {\n",
       "        vertical-align: top;\n",
       "    }\n",
       "\n",
       "    .dataframe thead th {\n",
       "        text-align: right;\n",
       "    }\n",
       "</style>\n",
       "<table border=\"1\" class=\"dataframe\">\n",
       "  <thead>\n",
       "    <tr style=\"text-align: right;\">\n",
       "      <th></th>\n",
       "      <th>events</th>\n",
       "      <th>devices</th>\n",
       "    </tr>\n",
       "    <tr>\n",
       "      <th>event_type</th>\n",
       "      <th></th>\n",
       "      <th></th>\n",
       "    </tr>\n",
       "  </thead>\n",
       "  <tbody>\n",
       "    <tr>\n",
       "      <th>MainScreenAppear</th>\n",
       "      <td>117969</td>\n",
       "      <td>7423</td>\n",
       "    </tr>\n",
       "    <tr>\n",
       "      <th>OffersScreenAppear</th>\n",
       "      <td>46537</td>\n",
       "      <td>4597</td>\n",
       "    </tr>\n",
       "    <tr>\n",
       "      <th>CartScreenAppear</th>\n",
       "      <td>42405</td>\n",
       "      <td>3736</td>\n",
       "    </tr>\n",
       "    <tr>\n",
       "      <th>PaymentScreenSuccessful</th>\n",
       "      <td>34145</td>\n",
       "      <td>3540</td>\n",
       "    </tr>\n",
       "    <tr>\n",
       "      <th>Tutorial</th>\n",
       "      <td>1044</td>\n",
       "      <td>843</td>\n",
       "    </tr>\n",
       "  </tbody>\n",
       "</table>\n",
       "</div>"
      ],
      "text/plain": [
       "                         events  devices\n",
       "event_type                              \n",
       "MainScreenAppear         117969     7423\n",
       "OffersScreenAppear        46537     4597\n",
       "CartScreenAppear          42405     3736\n",
       "PaymentScreenSuccessful   34145     3540\n",
       "Tutorial                   1044      843"
      ]
     },
     "execution_count": 31,
     "metadata": {},
     "output_type": "execute_result"
    }
   ],
   "source": [
    "event_types = (\n",
    "    sel.groupby('event_type')\n",
    "    .agg({'timestamp': 'count', 'device_id_hash': 'nunique'})\n",
    "    .rename(columns={'timestamp': 'events', 'device_id_hash': 'devices'})\n",
    "    .sort_values('events', ascending=False)\n",
    ")\n",
    "event_types"
   ]
  },
  {
   "cell_type": "code",
   "execution_count": 32,
   "id": "0191a6a8",
   "metadata": {
    "scrolled": false
   },
   "outputs": [
    {
     "data": {
      "text/html": [
       "<div>\n",
       "<style scoped>\n",
       "    .dataframe tbody tr th:only-of-type {\n",
       "        vertical-align: middle;\n",
       "    }\n",
       "\n",
       "    .dataframe tbody tr th {\n",
       "        vertical-align: top;\n",
       "    }\n",
       "\n",
       "    .dataframe thead th {\n",
       "        text-align: right;\n",
       "    }\n",
       "</style>\n",
       "<table border=\"1\" class=\"dataframe\">\n",
       "  <thead>\n",
       "    <tr style=\"text-align: right;\">\n",
       "      <th></th>\n",
       "      <th>events</th>\n",
       "      <th>devices</th>\n",
       "      <th>%_events</th>\n",
       "      <th>%_devices</th>\n",
       "    </tr>\n",
       "    <tr>\n",
       "      <th>event_type</th>\n",
       "      <th></th>\n",
       "      <th></th>\n",
       "      <th></th>\n",
       "      <th></th>\n",
       "    </tr>\n",
       "  </thead>\n",
       "  <tbody>\n",
       "    <tr>\n",
       "      <th>MainScreenAppear</th>\n",
       "      <td>117969</td>\n",
       "      <td>7423</td>\n",
       "      <td>48.727385</td>\n",
       "      <td>98.474396</td>\n",
       "    </tr>\n",
       "    <tr>\n",
       "      <th>OffersScreenAppear</th>\n",
       "      <td>46537</td>\n",
       "      <td>4597</td>\n",
       "      <td>19.222222</td>\n",
       "      <td>60.984346</td>\n",
       "    </tr>\n",
       "    <tr>\n",
       "      <th>CartScreenAppear</th>\n",
       "      <td>42405</td>\n",
       "      <td>3736</td>\n",
       "      <td>17.515489</td>\n",
       "      <td>49.562218</td>\n",
       "    </tr>\n",
       "    <tr>\n",
       "      <th>PaymentScreenSuccessful</th>\n",
       "      <td>34145</td>\n",
       "      <td>3540</td>\n",
       "      <td>14.103676</td>\n",
       "      <td>46.962059</td>\n",
       "    </tr>\n",
       "    <tr>\n",
       "      <th>Tutorial</th>\n",
       "      <td>1044</td>\n",
       "      <td>843</td>\n",
       "      <td>0.431227</td>\n",
       "      <td>11.183338</td>\n",
       "    </tr>\n",
       "  </tbody>\n",
       "</table>\n",
       "</div>"
      ],
      "text/plain": [
       "                         events  devices   %_events  %_devices\n",
       "event_type                                                    \n",
       "MainScreenAppear         117969     7423  48.727385  98.474396\n",
       "OffersScreenAppear        46537     4597  19.222222  60.984346\n",
       "CartScreenAppear          42405     3736  17.515489  49.562218\n",
       "PaymentScreenSuccessful   34145     3540  14.103676  46.962059\n",
       "Tutorial                   1044      843   0.431227  11.183338"
      ]
     },
     "execution_count": 32,
     "metadata": {},
     "output_type": "execute_result"
    }
   ],
   "source": [
    "event_types['%_events'] = event_types['events'] / len(sel) * 100\n",
    "event_types['%_devices'] = (\n",
    "    event_types['devices'] / sel['device_id_hash'].nunique() * 100\n",
    ")\n",
    "event_types"
   ]
  },
  {
   "cell_type": "markdown",
   "id": "acd4b237",
   "metadata": {},
   "source": [
    "Проверим, сколько в группах пользователей, имевших то или иное событие."
   ]
  },
  {
   "cell_type": "code",
   "execution_count": 33,
   "id": "bc72b8ec",
   "metadata": {},
   "outputs": [
    {
     "data": {
      "text/html": [
       "<div>\n",
       "<style scoped>\n",
       "    .dataframe tbody tr th:only-of-type {\n",
       "        vertical-align: middle;\n",
       "    }\n",
       "\n",
       "    .dataframe tbody tr th {\n",
       "        vertical-align: top;\n",
       "    }\n",
       "\n",
       "    .dataframe thead th {\n",
       "        text-align: right;\n",
       "    }\n",
       "</style>\n",
       "<table border=\"1\" class=\"dataframe\">\n",
       "  <thead>\n",
       "    <tr style=\"text-align: right;\">\n",
       "      <th>group</th>\n",
       "      <th>246</th>\n",
       "      <th>247</th>\n",
       "      <th>248</th>\n",
       "    </tr>\n",
       "    <tr>\n",
       "      <th>event_type</th>\n",
       "      <th></th>\n",
       "      <th></th>\n",
       "      <th></th>\n",
       "    </tr>\n",
       "  </thead>\n",
       "  <tbody>\n",
       "    <tr>\n",
       "      <th>MainScreenAppear</th>\n",
       "      <td>2450</td>\n",
       "      <td>2479</td>\n",
       "      <td>2494</td>\n",
       "    </tr>\n",
       "    <tr>\n",
       "      <th>OffersScreenAppear</th>\n",
       "      <td>1542</td>\n",
       "      <td>1524</td>\n",
       "      <td>1531</td>\n",
       "    </tr>\n",
       "    <tr>\n",
       "      <th>CartScreenAppear</th>\n",
       "      <td>1266</td>\n",
       "      <td>1239</td>\n",
       "      <td>1231</td>\n",
       "    </tr>\n",
       "    <tr>\n",
       "      <th>PaymentScreenSuccessful</th>\n",
       "      <td>1200</td>\n",
       "      <td>1158</td>\n",
       "      <td>1182</td>\n",
       "    </tr>\n",
       "    <tr>\n",
       "      <th>Tutorial</th>\n",
       "      <td>278</td>\n",
       "      <td>284</td>\n",
       "      <td>281</td>\n",
       "    </tr>\n",
       "  </tbody>\n",
       "</table>\n",
       "</div>"
      ],
      "text/plain": [
       "group                     246   247   248\n",
       "event_type                               \n",
       "MainScreenAppear         2450  2479  2494\n",
       "OffersScreenAppear       1542  1524  1531\n",
       "CartScreenAppear         1266  1239  1231\n",
       "PaymentScreenSuccessful  1200  1158  1182\n",
       "Tutorial                  278   284   281"
      ]
     },
     "execution_count": 33,
     "metadata": {},
     "output_type": "execute_result"
    }
   ],
   "source": [
    "sel.pivot_table(\n",
    "    index='event_type',\n",
    "    columns='group',\n",
    "    values='device_id_hash',\n",
    "    aggfunc='nunique',\n",
    ").sort_values(246, ascending=False)"
   ]
  },
  {
   "cell_type": "markdown",
   "id": "bda0c338",
   "metadata": {},
   "source": [
    "Крупного различия между группами нет, пропорции примерно одинаковы."
   ]
  },
  {
   "cell_type": "markdown",
   "id": "12bb1fbb",
   "metadata": {},
   "source": [
    "<div class=\"alert alert-success\">\n",
    "<font size=\"5\"><b>Комментарий ревьюера</b></font>\n",
    "\n",
    "Успех: Даже на первом шаге воронки мы не имеем конверсии 1. О чем это может нам говорить? Обязателен ли проход через все шаги воронки? \n",
    "    \n",
    "</div>"
   ]
  },
  {
   "cell_type": "markdown",
   "id": "1af73ae3",
   "metadata": {},
   "source": [
    "Самый распространённый тип событий - появление главного экрана приложения. Это половина событий, они состоялись хотя бы раз на 98,5% устройств. Но не на 100% - значит, нет ни одного шага, ни одного зафиксированного события, которое было бы обязательно.\n",
    "\n",
    "Также открываются:\n",
    "- экран с \"предложениями\" (19% событий, 61% устройств);\n",
    "- экран с \"корзиной\" (выбранными для покупки товарами) (17,5% событий, 50% устройств);\n",
    "- экран с сообщением об успешной оплате (14% событий, 47% устройств).\n",
    "\n",
    "Реже всего открывается страница с обучением - 11% устройств.\n",
    "\n",
    "Это соответсвует типичной для коммерции последовательности событий: главный экран - товар - корзина - оплата.\n",
    "\n",
    "Туториал обычно входит не в эту последовательность, а образует отдельную ветвь действий. Бывает, что туториал предлагается в качестве необязательного первого (перед главным экраном) или второго (после главного экрана, перед началом выбора) действия. В целом, мы ожидаем, что туториал может оказаться на любом месте в цепочке событий. Но предполагаем, что чем дальше прошёл пользователь по основной ветви приложения - тем меньше портебности в обучении, тем меньше вероятность, что обучение будет открыто."
   ]
  },
  {
   "cell_type": "markdown",
   "id": "5000d4c5",
   "metadata": {},
   "source": [
    "<div class=\"alert alert-success\">\n",
    "<font size=\"5\"><b>Комментарий ревьюера</b></font>\n",
    "\n",
    "Успех: Последовательность событий определена. Соглашусь, tutorial не относится к ней. Этот шаг является обучением и не относится к последовательности событий.  \n",
    "    \n",
    "Также можно добавить и группировку по номеру эксперимента (246, 247, 248) с расчетом числа пользователей на каждом шаге воронки. Так мы посмотрим на то, согласуются ли данные разных групп между собой.  \n",
    "    \n",
    "</div>\n",
    "<div class=\"alert alert-info\">\n",
    "<font size=\"5\"><b>Комментарий студента</b></font>\n",
    "\n",
    "Дополнил данные: появилась таблица с числом пользователей из каждой группы на каждом шаге воронки.\n",
    "    \n",
    "</div>"
   ]
  },
  {
   "cell_type": "markdown",
   "id": "4419cafe",
   "metadata": {},
   "source": [
    "### Порядок событий"
   ]
  },
  {
   "cell_type": "markdown",
   "id": "3de245ee",
   "metadata": {},
   "source": [
    "Чтобы выяснить типичный порядок событий, проанализируем для каждого пользователя: в каком порядке происходят первые события каждого типа.\n",
    "\n",
    "Тот экран, который пользователй получил при первом действии - получает ранг 1. Другой экран, который пользователь увидит после одного или нескольких посещений первого - получит ранг 2. Тот из ещё не посещённых экранов, который окажется открыт раньше - получит следующий ранг. Рангов будет пять, по числу категорий событий."
   ]
  },
  {
   "cell_type": "code",
   "execution_count": 34,
   "id": "7947eddb",
   "metadata": {
    "scrolled": false
   },
   "outputs": [
    {
     "data": {
      "text/html": [
       "<div>\n",
       "<style scoped>\n",
       "    .dataframe tbody tr th:only-of-type {\n",
       "        vertical-align: middle;\n",
       "    }\n",
       "\n",
       "    .dataframe tbody tr th {\n",
       "        vertical-align: top;\n",
       "    }\n",
       "\n",
       "    .dataframe thead th {\n",
       "        text-align: right;\n",
       "    }\n",
       "</style>\n",
       "<table border=\"1\" class=\"dataframe\">\n",
       "  <thead>\n",
       "    <tr style=\"text-align: right;\">\n",
       "      <th></th>\n",
       "      <th>device_id_hash</th>\n",
       "      <th>event_type</th>\n",
       "      <th>datetime</th>\n",
       "    </tr>\n",
       "  </thead>\n",
       "  <tbody>\n",
       "    <tr>\n",
       "      <th>0</th>\n",
       "      <td>6888746892508752</td>\n",
       "      <td>MainScreenAppear</td>\n",
       "      <td>2019-08-06 14:06:34</td>\n",
       "    </tr>\n",
       "    <tr>\n",
       "      <th>2</th>\n",
       "      <td>6909561520679493</td>\n",
       "      <td>MainScreenAppear</td>\n",
       "      <td>2019-08-06 18:52:54</td>\n",
       "    </tr>\n",
       "    <tr>\n",
       "      <th>1</th>\n",
       "      <td>6909561520679493</td>\n",
       "      <td>CartScreenAppear</td>\n",
       "      <td>2019-08-06 18:52:58</td>\n",
       "    </tr>\n",
       "    <tr>\n",
       "      <th>4</th>\n",
       "      <td>6909561520679493</td>\n",
       "      <td>PaymentScreenSuccessful</td>\n",
       "      <td>2019-08-06 18:52:58</td>\n",
       "    </tr>\n",
       "    <tr>\n",
       "      <th>3</th>\n",
       "      <td>6909561520679493</td>\n",
       "      <td>OffersScreenAppear</td>\n",
       "      <td>2019-08-06 18:53:04</td>\n",
       "    </tr>\n",
       "  </tbody>\n",
       "</table>\n",
       "</div>"
      ],
      "text/plain": [
       "     device_id_hash               event_type            datetime\n",
       "0  6888746892508752         MainScreenAppear 2019-08-06 14:06:34\n",
       "2  6909561520679493         MainScreenAppear 2019-08-06 18:52:54\n",
       "1  6909561520679493         CartScreenAppear 2019-08-06 18:52:58\n",
       "4  6909561520679493  PaymentScreenSuccessful 2019-08-06 18:52:58\n",
       "3  6909561520679493       OffersScreenAppear 2019-08-06 18:53:04"
      ]
     },
     "execution_count": 34,
     "metadata": {},
     "output_type": "execute_result"
    }
   ],
   "source": [
    "# самые ранние события каждого типа у каждого пользователя\n",
    "first_events = (\n",
    "    sel.groupby(['device_id_hash', 'event_type'], as_index=False)\n",
    "    .agg({'datetime': 'min'})\n",
    "    .sort_values(['device_id_hash', 'datetime'])\n",
    ")\n",
    "\n",
    "first_events.head(5)"
   ]
  },
  {
   "cell_type": "code",
   "execution_count": 35,
   "id": "268e0839",
   "metadata": {},
   "outputs": [
    {
     "data": {
      "text/html": [
       "<div>\n",
       "<style scoped>\n",
       "    .dataframe tbody tr th:only-of-type {\n",
       "        vertical-align: middle;\n",
       "    }\n",
       "\n",
       "    .dataframe tbody tr th {\n",
       "        vertical-align: top;\n",
       "    }\n",
       "\n",
       "    .dataframe thead th {\n",
       "        text-align: right;\n",
       "    }\n",
       "</style>\n",
       "<table border=\"1\" class=\"dataframe\">\n",
       "  <thead>\n",
       "    <tr style=\"text-align: right;\">\n",
       "      <th></th>\n",
       "      <th>device_id_hash</th>\n",
       "      <th>event_type</th>\n",
       "      <th>datetime</th>\n",
       "      <th>rank</th>\n",
       "    </tr>\n",
       "  </thead>\n",
       "  <tbody>\n",
       "    <tr>\n",
       "      <th>0</th>\n",
       "      <td>6888746892508752</td>\n",
       "      <td>MainScreenAppear</td>\n",
       "      <td>2019-08-06 14:06:34</td>\n",
       "      <td>1</td>\n",
       "    </tr>\n",
       "    <tr>\n",
       "      <th>2</th>\n",
       "      <td>6909561520679493</td>\n",
       "      <td>MainScreenAppear</td>\n",
       "      <td>2019-08-06 18:52:54</td>\n",
       "      <td>1</td>\n",
       "    </tr>\n",
       "    <tr>\n",
       "      <th>1</th>\n",
       "      <td>6909561520679493</td>\n",
       "      <td>CartScreenAppear</td>\n",
       "      <td>2019-08-06 18:52:58</td>\n",
       "      <td>2</td>\n",
       "    </tr>\n",
       "    <tr>\n",
       "      <th>4</th>\n",
       "      <td>6909561520679493</td>\n",
       "      <td>PaymentScreenSuccessful</td>\n",
       "      <td>2019-08-06 18:52:58</td>\n",
       "      <td>2</td>\n",
       "    </tr>\n",
       "    <tr>\n",
       "      <th>3</th>\n",
       "      <td>6909561520679493</td>\n",
       "      <td>OffersScreenAppear</td>\n",
       "      <td>2019-08-06 18:53:04</td>\n",
       "      <td>4</td>\n",
       "    </tr>\n",
       "    <tr>\n",
       "      <th>...</th>\n",
       "      <td>...</td>\n",
       "      <td>...</td>\n",
       "      <td>...</td>\n",
       "      <td>...</td>\n",
       "    </tr>\n",
       "    <tr>\n",
       "      <th>20135</th>\n",
       "      <td>9220879493065341500</td>\n",
       "      <td>MainScreenAppear</td>\n",
       "      <td>2019-08-02 17:58:48</td>\n",
       "      <td>1</td>\n",
       "    </tr>\n",
       "    <tr>\n",
       "      <th>20136</th>\n",
       "      <td>9220879493065341500</td>\n",
       "      <td>OffersScreenAppear</td>\n",
       "      <td>2019-08-02 17:59:00</td>\n",
       "      <td>2</td>\n",
       "    </tr>\n",
       "    <tr>\n",
       "      <th>20134</th>\n",
       "      <td>9220879493065341500</td>\n",
       "      <td>CartScreenAppear</td>\n",
       "      <td>2019-08-02 17:59:16</td>\n",
       "      <td>3</td>\n",
       "    </tr>\n",
       "    <tr>\n",
       "      <th>20137</th>\n",
       "      <td>9221926045299980007</td>\n",
       "      <td>MainScreenAppear</td>\n",
       "      <td>2019-08-01 17:30:27</td>\n",
       "      <td>1</td>\n",
       "    </tr>\n",
       "    <tr>\n",
       "      <th>20138</th>\n",
       "      <td>9222603179720523844</td>\n",
       "      <td>MainScreenAppear</td>\n",
       "      <td>2019-08-01 06:52:13</td>\n",
       "      <td>1</td>\n",
       "    </tr>\n",
       "  </tbody>\n",
       "</table>\n",
       "<p>20139 rows × 4 columns</p>\n",
       "</div>"
      ],
      "text/plain": [
       "            device_id_hash               event_type            datetime  rank\n",
       "0         6888746892508752         MainScreenAppear 2019-08-06 14:06:34     1\n",
       "2         6909561520679493         MainScreenAppear 2019-08-06 18:52:54     1\n",
       "1         6909561520679493         CartScreenAppear 2019-08-06 18:52:58     2\n",
       "4         6909561520679493  PaymentScreenSuccessful 2019-08-06 18:52:58     2\n",
       "3         6909561520679493       OffersScreenAppear 2019-08-06 18:53:04     4\n",
       "...                    ...                      ...                 ...   ...\n",
       "20135  9220879493065341500         MainScreenAppear 2019-08-02 17:58:48     1\n",
       "20136  9220879493065341500       OffersScreenAppear 2019-08-02 17:59:00     2\n",
       "20134  9220879493065341500         CartScreenAppear 2019-08-02 17:59:16     3\n",
       "20137  9221926045299980007         MainScreenAppear 2019-08-01 17:30:27     1\n",
       "20138  9222603179720523844         MainScreenAppear 2019-08-01 06:52:13     1\n",
       "\n",
       "[20139 rows x 4 columns]"
      ]
     },
     "execution_count": 35,
     "metadata": {},
     "output_type": "execute_result"
    }
   ],
   "source": [
    "# каждому из них - ранг, в том порядке,\n",
    "# в котором события наступали у конкретного пользователя\n",
    "first_events['rank'] = first_events.groupby('device_id_hash')['datetime'].rank(\n",
    "    'min'\n",
    ")\n",
    "first_events = first_events.astype({'rank': 'int64'})\n",
    "first_events"
   ]
  },
  {
   "cell_type": "code",
   "execution_count": 36,
   "id": "bc961894",
   "metadata": {},
   "outputs": [
    {
     "data": {
      "text/html": [
       "<div>\n",
       "<style scoped>\n",
       "    .dataframe tbody tr th:only-of-type {\n",
       "        vertical-align: middle;\n",
       "    }\n",
       "\n",
       "    .dataframe tbody tr th {\n",
       "        vertical-align: top;\n",
       "    }\n",
       "\n",
       "    .dataframe thead th {\n",
       "        text-align: right;\n",
       "    }\n",
       "</style>\n",
       "<table border=\"1\" class=\"dataframe\">\n",
       "  <thead>\n",
       "    <tr style=\"text-align: right;\">\n",
       "      <th></th>\n",
       "      <th>events</th>\n",
       "      <th>devices</th>\n",
       "      <th>%_events</th>\n",
       "      <th>%_devices</th>\n",
       "      <th>mean_rank</th>\n",
       "      <th>median_rank</th>\n",
       "    </tr>\n",
       "    <tr>\n",
       "      <th>event_type</th>\n",
       "      <th></th>\n",
       "      <th></th>\n",
       "      <th></th>\n",
       "      <th></th>\n",
       "      <th></th>\n",
       "      <th></th>\n",
       "    </tr>\n",
       "  </thead>\n",
       "  <tbody>\n",
       "    <tr>\n",
       "      <th>Tutorial</th>\n",
       "      <td>1044</td>\n",
       "      <td>843</td>\n",
       "      <td>0.431227</td>\n",
       "      <td>11.183338</td>\n",
       "      <td>1.096085</td>\n",
       "      <td>1</td>\n",
       "    </tr>\n",
       "    <tr>\n",
       "      <th>MainScreenAppear</th>\n",
       "      <td>117969</td>\n",
       "      <td>7423</td>\n",
       "      <td>48.727385</td>\n",
       "      <td>98.474396</td>\n",
       "      <td>1.194396</td>\n",
       "      <td>1</td>\n",
       "    </tr>\n",
       "    <tr>\n",
       "      <th>OffersScreenAppear</th>\n",
       "      <td>46537</td>\n",
       "      <td>4597</td>\n",
       "      <td>19.222222</td>\n",
       "      <td>60.984346</td>\n",
       "      <td>2.688492</td>\n",
       "      <td>2</td>\n",
       "    </tr>\n",
       "    <tr>\n",
       "      <th>CartScreenAppear</th>\n",
       "      <td>42405</td>\n",
       "      <td>3736</td>\n",
       "      <td>17.515489</td>\n",
       "      <td>49.562218</td>\n",
       "      <td>2.824679</td>\n",
       "      <td>3</td>\n",
       "    </tr>\n",
       "    <tr>\n",
       "      <th>PaymentScreenSuccessful</th>\n",
       "      <td>34145</td>\n",
       "      <td>3540</td>\n",
       "      <td>14.103676</td>\n",
       "      <td>46.962059</td>\n",
       "      <td>2.946045</td>\n",
       "      <td>3</td>\n",
       "    </tr>\n",
       "  </tbody>\n",
       "</table>\n",
       "</div>"
      ],
      "text/plain": [
       "                         events  devices   %_events  %_devices  mean_rank  \\\n",
       "event_type                                                                  \n",
       "Tutorial                   1044      843   0.431227  11.183338   1.096085   \n",
       "MainScreenAppear         117969     7423  48.727385  98.474396   1.194396   \n",
       "OffersScreenAppear        46537     4597  19.222222  60.984346   2.688492   \n",
       "CartScreenAppear          42405     3736  17.515489  49.562218   2.824679   \n",
       "PaymentScreenSuccessful   34145     3540  14.103676  46.962059   2.946045   \n",
       "\n",
       "                         median_rank  \n",
       "event_type                            \n",
       "Tutorial                           1  \n",
       "MainScreenAppear                   1  \n",
       "OffersScreenAppear                 2  \n",
       "CartScreenAppear                   3  \n",
       "PaymentScreenSuccessful            3  "
      ]
     },
     "execution_count": 36,
     "metadata": {},
     "output_type": "execute_result"
    }
   ],
   "source": [
    "event_types = event_types.join(\n",
    "    first_events.groupby('event_type')['rank']\n",
    "    .agg(['mean', 'median'])\n",
    "    .rename(columns={'mean': 'mean_rank', 'median': 'median_rank'})\n",
    ").sort_values('mean_rank')\n",
    "\n",
    "event_types"
   ]
  },
  {
   "cell_type": "markdown",
   "id": "9c8a7f44",
   "metadata": {},
   "source": [
    "- Туториал обычно открывают первым. Однако это редкое, и явно необязательное событие. Его можно не учитывать в воронке.\n"
   ]
  },
  {
   "cell_type": "code",
   "execution_count": 37,
   "id": "e28d0d17",
   "metadata": {
    "scrolled": true
   },
   "outputs": [
    {
     "data": {
      "text/html": [
       "<div>\n",
       "<style scoped>\n",
       "    .dataframe tbody tr th:only-of-type {\n",
       "        vertical-align: middle;\n",
       "    }\n",
       "\n",
       "    .dataframe tbody tr th {\n",
       "        vertical-align: top;\n",
       "    }\n",
       "\n",
       "    .dataframe thead th {\n",
       "        text-align: right;\n",
       "    }\n",
       "</style>\n",
       "<table border=\"1\" class=\"dataframe\">\n",
       "  <thead>\n",
       "    <tr style=\"text-align: right;\">\n",
       "      <th></th>\n",
       "      <th>1</th>\n",
       "      <th>2</th>\n",
       "      <th>3</th>\n",
       "      <th>4</th>\n",
       "      <th>5</th>\n",
       "    </tr>\n",
       "    <tr>\n",
       "      <th>event_type</th>\n",
       "      <th></th>\n",
       "      <th></th>\n",
       "      <th></th>\n",
       "      <th></th>\n",
       "      <th></th>\n",
       "    </tr>\n",
       "  </thead>\n",
       "  <tbody>\n",
       "    <tr>\n",
       "      <th>CartScreenAppear</th>\n",
       "      <td>79</td>\n",
       "      <td>1239</td>\n",
       "      <td>1712</td>\n",
       "      <td>670</td>\n",
       "      <td>36</td>\n",
       "    </tr>\n",
       "    <tr>\n",
       "      <th>MainScreenAppear</th>\n",
       "      <td>6313</td>\n",
       "      <td>922</td>\n",
       "      <td>45</td>\n",
       "      <td>141</td>\n",
       "      <td>2</td>\n",
       "    </tr>\n",
       "    <tr>\n",
       "      <th>OffersScreenAppear</th>\n",
       "      <td>290</td>\n",
       "      <td>2213</td>\n",
       "      <td>785</td>\n",
       "      <td>1257</td>\n",
       "      <td>52</td>\n",
       "    </tr>\n",
       "    <tr>\n",
       "      <th>PaymentScreenSuccessful</th>\n",
       "      <td>119</td>\n",
       "      <td>1157</td>\n",
       "      <td>1378</td>\n",
       "      <td>568</td>\n",
       "      <td>318</td>\n",
       "    </tr>\n",
       "    <tr>\n",
       "      <th>Tutorial</th>\n",
       "      <td>789</td>\n",
       "      <td>39</td>\n",
       "      <td>6</td>\n",
       "      <td>6</td>\n",
       "      <td>3</td>\n",
       "    </tr>\n",
       "  </tbody>\n",
       "</table>\n",
       "</div>"
      ],
      "text/plain": [
       "                            1     2     3     4    5\n",
       "event_type                                          \n",
       "CartScreenAppear           79  1239  1712   670   36\n",
       "MainScreenAppear         6313   922    45   141    2\n",
       "OffersScreenAppear        290  2213   785  1257   52\n",
       "PaymentScreenSuccessful   119  1157  1378   568  318\n",
       "Tutorial                  789    39     6     6    3"
      ]
     },
     "execution_count": 37,
     "metadata": {},
     "output_type": "execute_result"
    }
   ],
   "source": [
    "ranks = []\n",
    "for rank in sorted(first_events['rank'].unique()):\n",
    "    ranks.append(\n",
    "        first_events.query('rank == @rank')\n",
    "        .groupby('event_type')\n",
    "        .agg({'datetime': 'count'})\n",
    "        .rename(columns={'datetime': rank})\n",
    "    )\n",
    "ranks = ranks[0].join(ranks[1:])\n",
    "ranks"
   ]
  },
  {
   "cell_type": "code",
   "execution_count": 38,
   "id": "339026a8",
   "metadata": {
    "scrolled": false
   },
   "outputs": [
    {
     "data": {
      "image/png": "[encoded data removed]",
      "text/plain": [
       "<Figure size 432x288 with 1 Axes>"
      ]
     },
     "metadata": {
      "needs_background": "light"
     },
     "output_type": "display_data"
    }
   ],
   "source": [
    "ranks.T.plot(xticks=ranks.columns)\n",
    "plt.title(\n",
    "    'Как часто событие определённого типа бывает на определённом месте\\n в цепочке первых действий пользователя'\n",
    ")\n",
    "plt.xlabel('Место в цепочке')\n",
    "plt.ylabel('Количество примеров')\n",
    "plt.show()"
   ]
  },
  {
   "cell_type": "markdown",
   "id": "8b87df53",
   "metadata": {},
   "source": [
    "Тут собраны все варинаты мест, как если бы Tutorial был частью цепочки, ведущей к цели. Это не сказано прямо. предположим, что Tutorial не обязателен для покупки, и его можно исключить из анализа. Как будут распределяться порядковые места между четырьмя остальными экранами?"
   ]
  },
  {
   "cell_type": "code",
   "execution_count": 39,
   "id": "9594cc7e",
   "metadata": {},
   "outputs": [
    {
     "data": {
      "image/png": "[encoded data removed]",
      "text/plain": [
       "<Figure size 432x288 with 1 Axes>"
      ]
     },
     "metadata": {
      "needs_background": "light"
     },
     "output_type": "display_data"
    }
   ],
   "source": [
    "# самые ранние события каждого типа у каждого пользователя\n",
    "first_goal_events = (\n",
    "    sel.query('event_type != \"Tutorial\"')\n",
    "    .groupby(['device_id_hash', 'event_type'], as_index=False)\n",
    "    .agg({'datetime': 'min'})\n",
    "    .sort_values(['device_id_hash', 'datetime'])\n",
    ")\n",
    "\n",
    "# каждому из них - ранг, в том порядке,\n",
    "# в котором события наступали у конкретного пользователя\n",
    "first_goal_events['rank'] = first_goal_events.groupby('device_id_hash')[\n",
    "    'datetime'\n",
    "].rank('min')\n",
    "\n",
    "ranks = []\n",
    "for rank in sorted(first_goal_events['rank'].unique()):\n",
    "    ranks.append(\n",
    "        first_goal_events.query('rank == @rank')\n",
    "        .groupby('event_type')\n",
    "        .agg({'datetime': 'count'})\n",
    "        .rename(columns={'datetime': rank})\n",
    "    )\n",
    "\n",
    "ranks = ranks[0].join(ranks[1:])\n",
    "ranks.T.plot(xticks=ranks.columns)\n",
    "plt.title(\n",
    "    'Как часто событие определённого типа бывает на определённом месте'\n",
    "    '\\n в цепочке первых действий пользователя'\n",
    "    '\\n (Tutorial исключён, как если бы его не существовало)'\n",
    ")\n",
    "plt.xlabel('Место в цепочке')\n",
    "plt.ylabel('Количество примеров')\n",
    "plt.show()"
   ]
  },
  {
   "cell_type": "markdown",
   "id": "419e4948",
   "metadata": {},
   "source": [
    "**Итого**:\n",
    "- События разных типов у одного пользователя могут происходить в разном порядке.\n",
    "- Любое событие может оказаться на любом месте.\n",
    "- Вывод - воронка не строгая, в ней нет шагов, которые невозможно сделать без другого, \"предыдущего\" шага (даже экран успешной оплаты бывает первым экраном, который видит новый пользователь);\n",
    "- большая часть пользователей смотрят только один экран - почти всегда это Главный экран (в некоторых случаях - Туториал);\n",
    "- те, кто посмотрел второй экран - часто доходят и до четвёртого;\n",
    "- экран предложения чаще всего запрашивают вторым, но нередко - и четвёртым (часто это последний экран, который смотрит пользователь)\n",
    "- экран успешной оплаты (который по коммерческому смыслу должен являться целевым) часто бывает вторым или третьим, а последним - реже;\n",
    "- экран бывает на втором шаге и на третьем немного чаще, чем экран успешной оплаты.\n",
    "\n",
    "Учитывая всё это, определим последовательность шагов в воронке, опираясь на типичный коммерческий путь и на убывание числа пользователей, которые посетили каждый тип экранов:\n",
    "1. Главный экран,\n",
    "2. Предложения,\n",
    "3. Корзина,\n",
    "4. Успешная оплата."
   ]
  },
  {
   "cell_type": "markdown",
   "id": "e47ea6c9",
   "metadata": {},
   "source": [
    "<div class=\"alert alert-success\">\n",
    "<font size=\"5\"><b>Комментарий ревьюера</b></font>\n",
    "\n",
    "Успех: Крутая визуализация. Воронку мы изучили. Около половины клиентов доходит с первого этапа до последнего.\n",
    "    \n",
    "</div>"
   ]
  },
  {
   "cell_type": "markdown",
   "id": "6f44f2e2",
   "metadata": {},
   "source": [
    "### Как пользователи приходят к покупке\n",
    "\n",
    "Сигналом о том, что покупка исполнена, можно считать событие типа `PaymentScreenSuccessful`. Какой тип события чаще предшествует экрану оплат?"
   ]
  },
  {
   "cell_type": "code",
   "execution_count": 40,
   "id": "911c5614",
   "metadata": {},
   "outputs": [
    {
     "data": {
      "text/html": [
       "<div>\n",
       "<style scoped>\n",
       "    .dataframe tbody tr th:only-of-type {\n",
       "        vertical-align: middle;\n",
       "    }\n",
       "\n",
       "    .dataframe tbody tr th {\n",
       "        vertical-align: top;\n",
       "    }\n",
       "\n",
       "    .dataframe thead th {\n",
       "        text-align: right;\n",
       "    }\n",
       "</style>\n",
       "<table border=\"1\" class=\"dataframe\">\n",
       "  <thead>\n",
       "    <tr style=\"text-align: right;\">\n",
       "      <th></th>\n",
       "      <th>device_id_hash</th>\n",
       "      <th>datetime</th>\n",
       "      <th>event_type</th>\n",
       "      <th>prev_event_type</th>\n",
       "    </tr>\n",
       "  </thead>\n",
       "  <tbody>\n",
       "    <tr>\n",
       "      <th>2009</th>\n",
       "      <td>7306052078401019795</td>\n",
       "      <td>2019-07-31 21:09:09</td>\n",
       "      <td>MainScreenAppear</td>\n",
       "      <td>(first start)</td>\n",
       "    </tr>\n",
       "    <tr>\n",
       "      <th>2010</th>\n",
       "      <td>3511569580412335882</td>\n",
       "      <td>2019-07-31 21:09:34</td>\n",
       "      <td>OffersScreenAppear</td>\n",
       "      <td>(first start)</td>\n",
       "    </tr>\n",
       "    <tr>\n",
       "      <th>2011</th>\n",
       "      <td>5252149879603423149</td>\n",
       "      <td>2019-07-31 21:09:40</td>\n",
       "      <td>MainScreenAppear</td>\n",
       "      <td>(first start)</td>\n",
       "    </tr>\n",
       "    <tr>\n",
       "      <th>2012</th>\n",
       "      <td>577366859850288734</td>\n",
       "      <td>2019-07-31 21:10:00</td>\n",
       "      <td>MainScreenAppear</td>\n",
       "      <td>(first start)</td>\n",
       "    </tr>\n",
       "    <tr>\n",
       "      <th>2013</th>\n",
       "      <td>577366859850288734</td>\n",
       "      <td>2019-07-31 21:10:01</td>\n",
       "      <td>OffersScreenAppear</td>\n",
       "      <td>MainScreenAppear</td>\n",
       "    </tr>\n",
       "  </tbody>\n",
       "</table>\n",
       "</div>"
      ],
      "text/plain": [
       "           device_id_hash            datetime          event_type  \\\n",
       "2009  7306052078401019795 2019-07-31 21:09:09    MainScreenAppear   \n",
       "2010  3511569580412335882 2019-07-31 21:09:34  OffersScreenAppear   \n",
       "2011  5252149879603423149 2019-07-31 21:09:40    MainScreenAppear   \n",
       "2012   577366859850288734 2019-07-31 21:10:00    MainScreenAppear   \n",
       "2013   577366859850288734 2019-07-31 21:10:01  OffersScreenAppear   \n",
       "\n",
       "       prev_event_type  \n",
       "2009     (first start)  \n",
       "2010     (first start)  \n",
       "2011     (first start)  \n",
       "2012     (first start)  \n",
       "2013  MainScreenAppear  "
      ]
     },
     "execution_count": 40,
     "metadata": {},
     "output_type": "execute_result"
    }
   ],
   "source": [
    "chain = sel.sort_values('timestamp')[\n",
    "    ['device_id_hash', 'datetime', 'event_type']\n",
    "]\n",
    "\n",
    "chain['prev_event_type'] = (\n",
    "    chain.groupby('device_id_hash')['event_type'].shift()\n",
    ").fillna('(first start)')\n",
    "chain.head(5)"
   ]
  },
  {
   "cell_type": "code",
   "execution_count": 41,
   "id": "c7815712",
   "metadata": {
    "scrolled": false
   },
   "outputs": [
    {
     "data": {
      "text/html": [
       "<div>\n",
       "<style scoped>\n",
       "    .dataframe tbody tr th:only-of-type {\n",
       "        vertical-align: middle;\n",
       "    }\n",
       "\n",
       "    .dataframe tbody tr th {\n",
       "        vertical-align: top;\n",
       "    }\n",
       "\n",
       "    .dataframe thead th {\n",
       "        text-align: right;\n",
       "    }\n",
       "</style>\n",
       "<table border=\"1\" class=\"dataframe\">\n",
       "  <thead>\n",
       "    <tr style=\"text-align: right;\">\n",
       "      <th></th>\n",
       "      <th>MainScreenAppear</th>\n",
       "      <th>OffersScreenAppear</th>\n",
       "      <th>PaymentScreenSuccessful</th>\n",
       "      <th>CartScreenAppear</th>\n",
       "      <th>Tutorial</th>\n",
       "    </tr>\n",
       "    <tr>\n",
       "      <th>prev_event_type</th>\n",
       "      <th></th>\n",
       "      <th></th>\n",
       "      <th></th>\n",
       "      <th></th>\n",
       "      <th></th>\n",
       "    </tr>\n",
       "  </thead>\n",
       "  <tbody>\n",
       "    <tr>\n",
       "      <th>(first start)</th>\n",
       "      <td>6307</td>\n",
       "      <td>288</td>\n",
       "      <td>98</td>\n",
       "      <td>58</td>\n",
       "      <td>787</td>\n",
       "    </tr>\n",
       "    <tr>\n",
       "      <th>CartScreenAppear</th>\n",
       "      <td>8357</td>\n",
       "      <td>6541</td>\n",
       "      <td>19876</td>\n",
       "      <td>7087</td>\n",
       "      <td>9</td>\n",
       "    </tr>\n",
       "    <tr>\n",
       "      <th>MainScreenAppear</th>\n",
       "      <td>80859</td>\n",
       "      <td>20257</td>\n",
       "      <td>5718</td>\n",
       "      <td>6701</td>\n",
       "      <td>55</td>\n",
       "    </tr>\n",
       "    <tr>\n",
       "      <th>OffersScreenAppear</th>\n",
       "      <td>17519</td>\n",
       "      <td>16798</td>\n",
       "      <td>5360</td>\n",
       "      <td>4437</td>\n",
       "      <td>26</td>\n",
       "    </tr>\n",
       "    <tr>\n",
       "      <th>PaymentScreenSuccessful</th>\n",
       "      <td>4054</td>\n",
       "      <td>2653</td>\n",
       "      <td>3092</td>\n",
       "      <td>24122</td>\n",
       "      <td>1</td>\n",
       "    </tr>\n",
       "    <tr>\n",
       "      <th>Tutorial</th>\n",
       "      <td>873</td>\n",
       "      <td>0</td>\n",
       "      <td>1</td>\n",
       "      <td>0</td>\n",
       "      <td>166</td>\n",
       "    </tr>\n",
       "  </tbody>\n",
       "</table>\n",
       "</div>"
      ],
      "text/plain": [
       "                         MainScreenAppear  OffersScreenAppear  \\\n",
       "prev_event_type                                                 \n",
       "(first start)                        6307                 288   \n",
       "CartScreenAppear                     8357                6541   \n",
       "MainScreenAppear                    80859               20257   \n",
       "OffersScreenAppear                  17519               16798   \n",
       "PaymentScreenSuccessful              4054                2653   \n",
       "Tutorial                              873                   0   \n",
       "\n",
       "                         PaymentScreenSuccessful  CartScreenAppear  Tutorial  \n",
       "prev_event_type                                                               \n",
       "(first start)                                 98                58       787  \n",
       "CartScreenAppear                           19876              7087         9  \n",
       "MainScreenAppear                            5718              6701        55  \n",
       "OffersScreenAppear                          5360              4437        26  \n",
       "PaymentScreenSuccessful                     3092             24122         1  \n",
       "Tutorial                                       1                 0       166  "
      ]
     },
     "metadata": {},
     "output_type": "display_data"
    },
    {
     "data": {
      "image/png": "[encoded data removed]",
      "text/plain": [
       "<Figure size 864x432 with 1 Axes>"
      ]
     },
     "metadata": {
      "needs_background": "light"
     },
     "output_type": "display_data"
    }
   ],
   "source": [
    "previous = []\n",
    "for event_type in chain['event_type'].unique():\n",
    "    previous.append(\n",
    "        chain[chain['event_type'] == event_type]\n",
    "        .groupby('prev_event_type')\n",
    "        .agg({'prev_event_type': 'count'})\n",
    "        .rename(columns={'prev_event_type': event_type})\n",
    "    )\n",
    "\n",
    "previous = previous[0].join(previous[1:]).fillna(0).astype('int64')\n",
    "display(previous)\n",
    "\n",
    "previous.T.plot(figsize=FIGSIZE, kind='bar', rot=0)\n",
    "plt.title('Какое событие было предыдущим? (по логарифмической шкале)')\n",
    "plt.xlabel('Событие')\n",
    "plt.ylabel('Количество примеров')\n",
    "plt.yscale('log')\n",
    "plt.show()"
   ]
  },
  {
   "cell_type": "markdown",
   "id": "1ab601b2",
   "metadata": {},
   "source": [
    "Чаще всего на экран оплаты переходят из корзины.\n",
    "В корзину - чаще всего с экрана об успешной оплате.\n",
    "Переходов на корзину и успещную оплату больше с главного экрана, нежели с окна предложения.\n",
    "Экран предложений обычно просматривают после главного экрана, или после корзины.\n",
    "\n",
    "Однако, в целом, эта диаграмма показывает, что нет переходов только из Туториала в Экран предложений, и всего по одному переходу из Туториала в Успешную оплату и из Успешной оплаты в Tutorial. Все остальные переходы использовались многократно.\n",
    "\n",
    "**Итого:**\n",
    "- согласно данным, пользователи могут перейти от любого события к любому событию;\n",
    "- и активно это импользуют;\n",
    "- возможные причины:\n",
    "  - гибкость приложения;\n",
    "  - некорректные данных о действиях пользователя."
   ]
  },
  {
   "cell_type": "markdown",
   "id": "9d8a81cb",
   "metadata": {},
   "source": [
    "### Воронка событий"
   ]
  },
  {
   "cell_type": "markdown",
   "id": "c7bd7606",
   "metadata": {},
   "source": [
    "Есть различные пути, как пройти воронку. Мы построим воронку событий, описывая количество пользователей, которые достигли определённого события любым путём.\n",
    "\n",
    "Исключим тип `Tutorial`. Добавим столбец с процентом: насколько меньше пользователей достигли этого события по сравнению с \"вышестоящим\" событием."
   ]
  },
  {
   "cell_type": "code",
   "execution_count": 42,
   "id": "24a4ee52",
   "metadata": {},
   "outputs": [
    {
     "data": {
      "text/html": [
       "<div>\n",
       "<style scoped>\n",
       "    .dataframe tbody tr th:only-of-type {\n",
       "        vertical-align: middle;\n",
       "    }\n",
       "\n",
       "    .dataframe tbody tr th {\n",
       "        vertical-align: top;\n",
       "    }\n",
       "\n",
       "    .dataframe thead th {\n",
       "        text-align: right;\n",
       "    }\n",
       "</style>\n",
       "<table border=\"1\" class=\"dataframe\">\n",
       "  <thead>\n",
       "    <tr style=\"text-align: right;\">\n",
       "      <th></th>\n",
       "      <th>events</th>\n",
       "      <th>devices</th>\n",
       "      <th>%_events</th>\n",
       "      <th>%_devices</th>\n",
       "      <th>%_from_previous_stage</th>\n",
       "    </tr>\n",
       "    <tr>\n",
       "      <th>event_type</th>\n",
       "      <th></th>\n",
       "      <th></th>\n",
       "      <th></th>\n",
       "      <th></th>\n",
       "      <th></th>\n",
       "    </tr>\n",
       "  </thead>\n",
       "  <tbody>\n",
       "    <tr>\n",
       "      <th>MainScreenAppear</th>\n",
       "      <td>117969</td>\n",
       "      <td>7423</td>\n",
       "      <td>48.727385</td>\n",
       "      <td>98.474396</td>\n",
       "      <td>NaN</td>\n",
       "    </tr>\n",
       "    <tr>\n",
       "      <th>OffersScreenAppear</th>\n",
       "      <td>46537</td>\n",
       "      <td>4597</td>\n",
       "      <td>19.222222</td>\n",
       "      <td>60.984346</td>\n",
       "      <td>61.929139</td>\n",
       "    </tr>\n",
       "    <tr>\n",
       "      <th>CartScreenAppear</th>\n",
       "      <td>42405</td>\n",
       "      <td>3736</td>\n",
       "      <td>17.515489</td>\n",
       "      <td>49.562218</td>\n",
       "      <td>81.270394</td>\n",
       "    </tr>\n",
       "    <tr>\n",
       "      <th>PaymentScreenSuccessful</th>\n",
       "      <td>34145</td>\n",
       "      <td>3540</td>\n",
       "      <td>14.103676</td>\n",
       "      <td>46.962059</td>\n",
       "      <td>94.753747</td>\n",
       "    </tr>\n",
       "  </tbody>\n",
       "</table>\n",
       "</div>"
      ],
      "text/plain": [
       "                         events  devices   %_events  %_devices  \\\n",
       "event_type                                                       \n",
       "MainScreenAppear         117969     7423  48.727385  98.474396   \n",
       "OffersScreenAppear        46537     4597  19.222222  60.984346   \n",
       "CartScreenAppear          42405     3736  17.515489  49.562218   \n",
       "PaymentScreenSuccessful   34145     3540  14.103676  46.962059   \n",
       "\n",
       "                         %_from_previous_stage  \n",
       "event_type                                      \n",
       "MainScreenAppear                           NaN  \n",
       "OffersScreenAppear                   61.929139  \n",
       "CartScreenAppear                     81.270394  \n",
       "PaymentScreenSuccessful              94.753747  "
      ]
     },
     "execution_count": 42,
     "metadata": {},
     "output_type": "execute_result"
    }
   ],
   "source": [
    "funnel = event_types[1:][['events', 'devices', '%_events', '%_devices']]\n",
    "\n",
    "funnel['%_from_previous_stage'] = (\n",
    "    funnel['devices'] / funnel['devices'].shift() * 100\n",
    ")\n",
    "funnel"
   ]
  },
  {
   "cell_type": "markdown",
   "id": "845184b7",
   "metadata": {},
   "source": [
    "Число посмотревших экран предложений - лишь 62% от числа посетивших главный экран. Это худшая разница \"от шага к шагу\".\n",
    "\n",
    "Число открывавших корзину - это 81% от числа тех, кто открыл экран предложений.\n",
    "\n",
    "Число успешно оплативших - это 95% от числа открывавших корзину.\n",
    "\n",
    "Обратим внимание: эти данные не соответствуют идее о том, 95% посетителей корзины успешно её оплатили.\n",
    "\n",
    "Пользователи попадали на \"успешно оплачено\" после разных событий, а не только после корзины. Поэтому:\n",
    "- не всякий пользователь из корзины попал на успешную оплату (это очевидно);\n",
    "- не всякий пользователь, успешно оплативший, посещал корзину когда-либо (обратите внимание).\n",
    "\n",
    "Доля тех, кто посещал и корзину, и успешную оплату, будет меньше чем 95% от посещавших корзину. Покажем это на примере: посчитаем, сколько пользователей прошло ожидаемый, \"прямой\" пусть по воронке."
   ]
  },
  {
   "cell_type": "markdown",
   "id": "448f8fbb",
   "metadata": {},
   "source": [
    "### Прямой путь воронки\n",
    "\n",
    "Оценим, сколько пользователей устройств прошли воронку тем путём, который мы подразумеваем как основной, прямой."
   ]
  },
  {
   "cell_type": "code",
   "execution_count": 43,
   "id": "e3122be6",
   "metadata": {},
   "outputs": [
    {
     "data": {
      "text/html": [
       "<div>\n",
       "<style scoped>\n",
       "    .dataframe tbody tr th:only-of-type {\n",
       "        vertical-align: middle;\n",
       "    }\n",
       "\n",
       "    .dataframe tbody tr th {\n",
       "        vertical-align: top;\n",
       "    }\n",
       "\n",
       "    .dataframe thead th {\n",
       "        text-align: right;\n",
       "    }\n",
       "</style>\n",
       "<table border=\"1\" class=\"dataframe\">\n",
       "  <thead>\n",
       "    <tr style=\"text-align: right;\">\n",
       "      <th>event_type</th>\n",
       "      <th>CartScreenAppear</th>\n",
       "      <th>MainScreenAppear</th>\n",
       "      <th>OffersScreenAppear</th>\n",
       "      <th>PaymentScreenSuccessful</th>\n",
       "      <th>Tutorial</th>\n",
       "    </tr>\n",
       "    <tr>\n",
       "      <th>device_id_hash</th>\n",
       "      <th></th>\n",
       "      <th></th>\n",
       "      <th></th>\n",
       "      <th></th>\n",
       "      <th></th>\n",
       "    </tr>\n",
       "  </thead>\n",
       "  <tbody>\n",
       "    <tr>\n",
       "      <th>6888746892508752</th>\n",
       "      <td>NaT</td>\n",
       "      <td>2019-08-06 14:06:34</td>\n",
       "      <td>NaT</td>\n",
       "      <td>NaT</td>\n",
       "      <td>NaT</td>\n",
       "    </tr>\n",
       "    <tr>\n",
       "      <th>6909561520679493</th>\n",
       "      <td>2019-08-06 18:52:58</td>\n",
       "      <td>2019-08-06 18:52:54</td>\n",
       "      <td>2019-08-06 18:53:04</td>\n",
       "      <td>2019-08-06 18:52:58</td>\n",
       "      <td>NaT</td>\n",
       "    </tr>\n",
       "    <tr>\n",
       "      <th>6922444491712477</th>\n",
       "      <td>2019-08-04 14:19:40</td>\n",
       "      <td>2019-08-04 14:19:33</td>\n",
       "      <td>2019-08-04 14:19:46</td>\n",
       "      <td>2019-08-04 14:19:40</td>\n",
       "      <td>NaT</td>\n",
       "    </tr>\n",
       "    <tr>\n",
       "      <th>7435777799948366</th>\n",
       "      <td>NaT</td>\n",
       "      <td>2019-08-05 08:06:34</td>\n",
       "      <td>NaT</td>\n",
       "      <td>NaT</td>\n",
       "      <td>NaT</td>\n",
       "    </tr>\n",
       "    <tr>\n",
       "      <th>7702139951469979</th>\n",
       "      <td>2019-08-02 14:28:45</td>\n",
       "      <td>2019-08-01 04:29:54</td>\n",
       "      <td>2019-08-01 04:29:56</td>\n",
       "      <td>2019-08-02 14:28:45</td>\n",
       "      <td>NaT</td>\n",
       "    </tr>\n",
       "    <tr>\n",
       "      <th>...</th>\n",
       "      <td>...</td>\n",
       "      <td>...</td>\n",
       "      <td>...</td>\n",
       "      <td>...</td>\n",
       "      <td>...</td>\n",
       "    </tr>\n",
       "    <tr>\n",
       "      <th>9217594193087726423</th>\n",
       "      <td>2019-08-02 09:00:58</td>\n",
       "      <td>NaT</td>\n",
       "      <td>2019-08-02 09:01:08</td>\n",
       "      <td>2019-08-02 09:00:57</td>\n",
       "      <td>NaT</td>\n",
       "    </tr>\n",
       "    <tr>\n",
       "      <th>9219463515465815368</th>\n",
       "      <td>2019-08-06 16:49:40</td>\n",
       "      <td>2019-08-05 05:26:26</td>\n",
       "      <td>2019-08-06 16:48:57</td>\n",
       "      <td>2019-08-06 16:52:16</td>\n",
       "      <td>NaT</td>\n",
       "    </tr>\n",
       "    <tr>\n",
       "      <th>9220879493065341500</th>\n",
       "      <td>2019-08-02 17:59:16</td>\n",
       "      <td>2019-08-02 17:58:48</td>\n",
       "      <td>2019-08-02 17:59:00</td>\n",
       "      <td>NaT</td>\n",
       "      <td>NaT</td>\n",
       "    </tr>\n",
       "    <tr>\n",
       "      <th>9221926045299980007</th>\n",
       "      <td>NaT</td>\n",
       "      <td>2019-08-01 17:30:27</td>\n",
       "      <td>NaT</td>\n",
       "      <td>NaT</td>\n",
       "      <td>NaT</td>\n",
       "    </tr>\n",
       "    <tr>\n",
       "      <th>9222603179720523844</th>\n",
       "      <td>NaT</td>\n",
       "      <td>2019-08-01 06:52:13</td>\n",
       "      <td>NaT</td>\n",
       "      <td>NaT</td>\n",
       "      <td>NaT</td>\n",
       "    </tr>\n",
       "  </tbody>\n",
       "</table>\n",
       "<p>7538 rows × 5 columns</p>\n",
       "</div>"
      ],
      "text/plain": [
       "event_type             CartScreenAppear    MainScreenAppear  \\\n",
       "device_id_hash                                                \n",
       "6888746892508752                    NaT 2019-08-06 14:06:34   \n",
       "6909561520679493    2019-08-06 18:52:58 2019-08-06 18:52:54   \n",
       "6922444491712477    2019-08-04 14:19:40 2019-08-04 14:19:33   \n",
       "7435777799948366                    NaT 2019-08-05 08:06:34   \n",
       "7702139951469979    2019-08-02 14:28:45 2019-08-01 04:29:54   \n",
       "...                                 ...                 ...   \n",
       "9217594193087726423 2019-08-02 09:00:58                 NaT   \n",
       "9219463515465815368 2019-08-06 16:49:40 2019-08-05 05:26:26   \n",
       "9220879493065341500 2019-08-02 17:59:16 2019-08-02 17:58:48   \n",
       "9221926045299980007                 NaT 2019-08-01 17:30:27   \n",
       "9222603179720523844                 NaT 2019-08-01 06:52:13   \n",
       "\n",
       "event_type           OffersScreenAppear PaymentScreenSuccessful Tutorial  \n",
       "device_id_hash                                                            \n",
       "6888746892508752                    NaT                     NaT      NaT  \n",
       "6909561520679493    2019-08-06 18:53:04     2019-08-06 18:52:58      NaT  \n",
       "6922444491712477    2019-08-04 14:19:46     2019-08-04 14:19:40      NaT  \n",
       "7435777799948366                    NaT                     NaT      NaT  \n",
       "7702139951469979    2019-08-01 04:29:56     2019-08-02 14:28:45      NaT  \n",
       "...                                 ...                     ...      ...  \n",
       "9217594193087726423 2019-08-02 09:01:08     2019-08-02 09:00:57      NaT  \n",
       "9219463515465815368 2019-08-06 16:48:57     2019-08-06 16:52:16      NaT  \n",
       "9220879493065341500 2019-08-02 17:59:00                     NaT      NaT  \n",
       "9221926045299980007                 NaT                     NaT      NaT  \n",
       "9222603179720523844                 NaT                     NaT      NaT  \n",
       "\n",
       "[7538 rows x 5 columns]"
      ]
     },
     "execution_count": 43,
     "metadata": {},
     "output_type": "execute_result"
    }
   ],
   "source": [
    "profiles = sel.pivot_table(\n",
    "    index='device_id_hash',\n",
    "    columns='event_type',\n",
    "    values='datetime',\n",
    "    aggfunc='min',\n",
    ")\n",
    "\n",
    "profiles"
   ]
  },
  {
   "cell_type": "code",
   "execution_count": 44,
   "id": "1fe14d75",
   "metadata": {},
   "outputs": [
    {
     "name": "stdout",
     "output_type": "stream",
     "text": [
      "Главный экран: 7423.\n",
      "Экран предложения: 4206 (56.66% из предыдущего шага).\n",
      "Корзина: 1811 (43.06% из предыдущего шага, 24.40% от первого шага).\n",
      "Успешно оплачено: 1372 (75.76% из предыдущего шага, 18.48% от первого шага).\n"
     ]
    }
   ],
   "source": [
    "cond_1 = profiles['MainScreenAppear'].notna()\n",
    "cond_2 = cond_1 & (\n",
    "    profiles['OffersScreenAppear'] >= profiles['MainScreenAppear']\n",
    ")\n",
    "cond_3 = cond_2 & (\n",
    "    profiles['CartScreenAppear'] >= profiles['OffersScreenAppear']\n",
    ")\n",
    "cond_4 = cond_3 & (\n",
    "    profiles['PaymentScreenSuccessful'] >= profiles['CartScreenAppear']\n",
    ")\n",
    "stage_1 = profiles[cond_1].shape[0]\n",
    "stage_2 = profiles[cond_2].shape[0]\n",
    "stage_3 = profiles[cond_3].shape[0]\n",
    "stage_4 = profiles[cond_4].shape[0]\n",
    "print(f'Главный экран: {stage_1}.')\n",
    "print(\n",
    "    f'Экран предложения: {stage_2} ({stage_2 / stage_1:.2%} из предыдущего шага).'\n",
    ")\n",
    "print(\n",
    "    f'Корзина: {stage_3} ({stage_3 / stage_2:.2%} из предыдущего шага, {stage_3 / stage_1:.2%} от первого шага).'\n",
    ")\n",
    "print(\n",
    "    f'Успешно оплачено: {stage_4} ({stage_4 / stage_3:.2%} из предыдущего шага, {stage_4 / stage_1:.2%} от первого шага).'\n",
    ")"
   ]
  },
  {
   "cell_type": "markdown",
   "id": "d7506046",
   "metadata": {},
   "source": [
    "При таком пути наибольшие потери пользователей - на Экране предложения, 43% пользователей перешли с него на Корзину. Основной путь прошли 18,5% пользователей - менее половины от тех, кто достиг Успешной оплаты."
   ]
  },
  {
   "cell_type": "markdown",
   "id": "98b9a39f",
   "metadata": {},
   "source": [
    "<div class=\"alert alert-success\">\n",
    "<font size=\"5\"><b>Комментарий ревьюера</b></font>\n",
    "\n",
    "Успех: Учитывать последовательность событий, как ты убедился выше, не следует. У нас существуют альтернативные пути по воронке. \n",
    "    \n",
    "</div>"
   ]
  },
  {
   "cell_type": "markdown",
   "id": "95ca93f0",
   "metadata": {},
   "source": [
    "### Итоги анализа воронки событий\n",
    "\n",
    "- У пользователя может быть любой порядок событий;\n",
    "- События регулярно повторяются подряд;\n",
    "- Частые случаи:\n",
    "  - Главную страницу смотрят намного чаще других страниц;\n",
    "  - Главную страницу смотрят преимущественно первой;\n",
    "  - Корзина и страница успешной оплаты и часто идут в произвольном порядке;\n",
    "  - Для оплаты не требуется проходить \"прямой путь\" - большая часть пропускала шаги, или переставляла их.\n",
    "  - Страницу обучения смотрят относительно редко, в основном - в качестве первого действия.\n",
    "- Числа:\n",
    "  - Главный экран просматривали 98,5% пользователей;\n",
    "  - Успешно оплачивали 47% пользователей."
   ]
  },
  {
   "cell_type": "markdown",
   "id": "20b64d33",
   "metadata": {},
   "source": [
    "## Анализ результатов A/A/B-эксперимента"
   ]
  },
  {
   "cell_type": "code",
   "execution_count": 45,
   "id": "19351bd7",
   "metadata": {},
   "outputs": [
    {
     "data": {
      "text/html": [
       "<div>\n",
       "<style scoped>\n",
       "    .dataframe tbody tr th:only-of-type {\n",
       "        vertical-align: middle;\n",
       "    }\n",
       "\n",
       "    .dataframe tbody tr th {\n",
       "        vertical-align: top;\n",
       "    }\n",
       "\n",
       "    .dataframe thead th {\n",
       "        text-align: right;\n",
       "    }\n",
       "</style>\n",
       "<table border=\"1\" class=\"dataframe\">\n",
       "  <thead>\n",
       "    <tr style=\"text-align: right;\">\n",
       "      <th></th>\n",
       "      <th>devices</th>\n",
       "    </tr>\n",
       "    <tr>\n",
       "      <th>group</th>\n",
       "      <th></th>\n",
       "    </tr>\n",
       "  </thead>\n",
       "  <tbody>\n",
       "    <tr>\n",
       "      <th>246</th>\n",
       "      <td>2484</td>\n",
       "    </tr>\n",
       "    <tr>\n",
       "      <th>247</th>\n",
       "      <td>2517</td>\n",
       "    </tr>\n",
       "    <tr>\n",
       "      <th>248</th>\n",
       "      <td>2537</td>\n",
       "    </tr>\n",
       "  </tbody>\n",
       "</table>\n",
       "</div>"
      ],
      "text/plain": [
       "       devices\n",
       "group         \n",
       "246       2484\n",
       "247       2517\n",
       "248       2537"
      ]
     },
     "execution_count": 45,
     "metadata": {},
     "output_type": "execute_result"
    }
   ],
   "source": [
    "sel.groupby('group').agg({'device_id_hash': 'nunique'}).rename(\n",
    "    columns={'device_id_hash': 'devices'}\n",
    ")"
   ]
  },
  {
   "cell_type": "code",
   "execution_count": 46,
   "id": "07f55611",
   "metadata": {},
   "outputs": [
    {
     "name": "stdout",
     "output_type": "stream",
     "text": [
      "Различие в размерах групп 247 (A2) и 246 (A1) составляет 1.33%.\n",
      "Различие в размерах групп 248 (B) и 246 (A1) составляет 2.13%.\n"
     ]
    }
   ],
   "source": [
    "print(\n",
    "    'Различие в размерах групп 247 (A2) и 246 (A1) составляет {:.2%}.'.format(\n",
    "        2517 / 2484 - 1\n",
    "    )\n",
    ")\n",
    "print(\n",
    "    'Различие в размерах групп 248 (B) и 246 (A1) составляет {:.2%}.'.format(\n",
    "        2537 / 2484 - 1\n",
    "    )\n",
    ")"
   ]
  },
  {
   "cell_type": "markdown",
   "id": "88a5cdb8",
   "metadata": {},
   "source": [
    "Считается, норма различия - 1 %. Эти группы разделены недостаточно равномерно."
   ]
  },
  {
   "cell_type": "markdown",
   "id": "a808f562",
   "metadata": {},
   "source": [
    "<div class=\"alert alert-success\">\n",
    "<font size=\"5\"><b>Комментарий ревьюера</b></font>\n",
    "\n",
    "Успех: Правильно, что ты проверил равенство размеров групп. Однако их размеры несколько различаются. Это говорит нам о неоптимальности разбиения данных по группам. Для будущих тестов следует несколько поработать с механикой выделения групп и, возможно, изменить подход к их выделению.\n",
    "    \n",
    "</div>"
   ]
  },
  {
   "cell_type": "markdown",
   "id": "d459752d",
   "metadata": {},
   "source": [
    "### Шаблоны для проверки равенства пропорций"
   ]
  },
  {
   "cell_type": "markdown",
   "id": "ae08db22",
   "metadata": {},
   "source": [
    "Нам предстоит проверить много показателей по шаблону. Сформулируем шаблонную пару гипотез:\n",
    "\n",
    "- **Прямая гипотеза H0**: доли пользователей, которые получили данное событие, в указанных группах **_равны_**.\n",
    "- **Альтернативная гипотеза H1**: доли пользователей, которые получили данное событие, в указанных группах **_различаются_**.\n",
    "\n",
    "Запишем шаблон проверки этих гипотез в виде функции:"
   ]
  },
  {
   "cell_type": "code",
   "execution_count": 47,
   "id": "d2121a66",
   "metadata": {},
   "outputs": [],
   "source": [
    "def test_equality(group_1, group_2, value, df=sel, alpha=0.05):\n",
    "    # выбираем события нужных групп\n",
    "    events_1 = df[df['group'] == group_1]\n",
    "    events_2 = df[df['group'] == group_2]\n",
    "\n",
    "    # определяем количества пользователей\n",
    "    devices_1 = events_1['device_id_hash'].nunique()\n",
    "    devices_2 = events_2['device_id_hash'].nunique()\n",
    "\n",
    "    # определяем количества пользователей, имевших событие с нужным признаком\n",
    "    goals_1 = events_1[events_1['event_type'] == value][\n",
    "        'device_id_hash'\n",
    "    ].nunique()\n",
    "    goals_2 = events_2[events_2['event_type'] == value][\n",
    "        'device_id_hash'\n",
    "    ].nunique()\n",
    "\n",
    "    # определяем пропорции в группах\n",
    "    p1 = goals_1 / devices_1\n",
    "    p2 = goals_2 / devices_2\n",
    "    p_com = (goals_1 + goals_2) / (devices_1 + devices_2)\n",
    "\n",
    "    z_value = (p1 - p2) / (\n",
    "        p_com * (1 - p_com) * (1 / devices_1 + 1 / devices_2)\n",
    "    ) ** 0.5\n",
    "    p_value = (1 - st.norm(0, 1).cdf(abs(z_value))) * 2\n",
    "\n",
    "    print(f'Cравниваем пропорции пользователей, у которых было \"{value}\".')\n",
    "    print(f'Группа {group_1}: {p1:.2%}')\n",
    "    print(f'Группа {group_2}: {p2:.2%}')\n",
    "    print(f'p_value: {p_value:.5}')\n",
    "    if p_value < alpha:\n",
    "        print('Между величинами есть значимая разница, H0 отвергнута')\n",
    "    else:\n",
    "        print('Нет оснований считать величины разными, H0 не отвергаем')\n",
    "    print()"
   ]
  },
  {
   "cell_type": "markdown",
   "id": "efa44d14",
   "metadata": {},
   "source": [
    "<div class=\"alert alert-success\">\n",
    "<font size=\"5\"><b>Комментарий ревьюера</b></font>\n",
    "\n",
    "Успех: Правильно, что ты создал функцию для проведения теста. Действительно, тестов проводить много, так что она не будет лишней. \n",
    "    \n",
    "Также верно, что ты работаешь с долями относительно общего числа клиентов в группах. Ранее мы выяснили, что проход по всем этапам воронки не является обязательным, так что работать нужно именно относительно общего числа клиентов. \n",
    "    \n",
    "</div>"
   ]
  },
  {
   "cell_type": "markdown",
   "id": "aeee26cd",
   "metadata": {},
   "source": [
    "### Сравнение двух A-групп"
   ]
  },
  {
   "cell_type": "markdown",
   "id": "f1e2aace",
   "metadata": {},
   "source": [
    "<div class=\"alert alert-danger\">\n",
    "<font size=\"5\"><b>Комментарий ревьюера</b></font>\n",
    "\n",
    "Ошибка: Давай уточним формулировку гипотез. В самом тесте все правильно, но вот формулировок я не нашел. \n",
    "    \n",
    "</div>\n",
    "</div>\n",
    "<div class=\"alert alert-info\">\n",
    "<font size=\"5\"><b>Комментарий студента</b></font>\n",
    "\n",
    "Дополнил текст предыдущего пункта 5.1: теперь он назвается \"Шаблоны\", там сформулирована пара шаблонных гипотез.\n",
    "    \n",
    "</div>"
   ]
  },
  {
   "cell_type": "code",
   "execution_count": 48,
   "id": "153d5566",
   "metadata": {},
   "outputs": [
    {
     "name": "stdout",
     "output_type": "stream",
     "text": [
      "Cравниваем пропорции пользователей, у которых было \"Tutorial\".\n",
      "Группа 246: 11.19%\n",
      "Группа 247: 11.28%\n",
      "p_value: 0.91828\n",
      "Нет оснований считать величины разными, H0 не отвергаем\n",
      "\n",
      "Cравниваем пропорции пользователей, у которых было \"MainScreenAppear\".\n",
      "Группа 246: 98.63%\n",
      "Группа 247: 98.49%\n",
      "p_value: 0.67562\n",
      "Нет оснований считать величины разными, H0 не отвергаем\n",
      "\n",
      "Cравниваем пропорции пользователей, у которых было \"OffersScreenAppear\".\n",
      "Группа 246: 62.08%\n",
      "Группа 247: 60.55%\n",
      "p_value: 0.26699\n",
      "Нет оснований считать величины разными, H0 не отвергаем\n",
      "\n",
      "Cравниваем пропорции пользователей, у которых было \"CartScreenAppear\".\n",
      "Группа 246: 50.97%\n",
      "Группа 247: 49.23%\n",
      "p_value: 0.21828\n",
      "Нет оснований считать величины разными, H0 не отвергаем\n",
      "\n",
      "Cравниваем пропорции пользователей, у которых было \"PaymentScreenSuccessful\".\n",
      "Группа 246: 48.31%\n",
      "Группа 247: 46.01%\n",
      "p_value: 0.10298\n",
      "Нет оснований считать величины разными, H0 не отвергаем\n",
      "\n"
     ]
    }
   ],
   "source": [
    "for event_type in event_types.index.unique():\n",
    "    test_equality(246, 247, event_type)"
   ]
  },
  {
   "cell_type": "markdown",
   "id": "1dc07d8d",
   "metadata": {},
   "source": [
    "**Итоги**:\n",
    "- По всем пяти типам событий не выявлено значимых различий между пропорциями.\n",
    "- Разбиение на группы сработало правильно."
   ]
  },
  {
   "cell_type": "markdown",
   "id": "f12b65a3",
   "metadata": {},
   "source": [
    "<div class=\"alert alert-success\">\n",
    "<font size=\"5\"><b>Комментарий ревьюера</b></font>\n",
    "\n",
    "Успех: Тест проведен корректно. Именно такой результат мы и ожидали. Давай приступать к А/В-тестированию.\n",
    "    \n",
    "</div>"
   ]
  },
  {
   "cell_type": "markdown",
   "id": "8abe36d2",
   "metadata": {},
   "source": [
    "### Сравнение B-группы с A-группами по отдельности и с объединённой A-группой"
   ]
  },
  {
   "cell_type": "markdown",
   "id": "48608460",
   "metadata": {},
   "source": [
    "###### Группы 246 и 248"
   ]
  },
  {
   "cell_type": "code",
   "execution_count": 49,
   "id": "06c1b791",
   "metadata": {},
   "outputs": [
    {
     "name": "stdout",
     "output_type": "stream",
     "text": [
      "Cравниваем пропорции пользователей, у которых было \"Tutorial\".\n",
      "Группа 246: 11.19%\n",
      "Группа 248: 11.08%\n",
      "p_value: 0.89645\n",
      "Нет оснований считать величины разными, H0 не отвергаем\n",
      "\n",
      "Cравниваем пропорции пользователей, у которых было \"MainScreenAppear\".\n",
      "Группа 246: 98.63%\n",
      "Группа 248: 98.31%\n",
      "p_value: 0.34706\n",
      "Нет оснований считать величины разными, H0 не отвергаем\n",
      "\n",
      "Cравниваем пропорции пользователей, у которых было \"OffersScreenAppear\".\n",
      "Группа 246: 62.08%\n",
      "Группа 248: 60.35%\n",
      "p_value: 0.20836\n",
      "Нет оснований считать величины разными, H0 не отвергаем\n",
      "\n",
      "Cравниваем пропорции пользователей, у которых было \"CartScreenAppear\".\n",
      "Группа 246: 50.97%\n",
      "Группа 248: 48.52%\n",
      "p_value: 0.083284\n",
      "Нет оснований считать величины разными, H0 не отвергаем\n",
      "\n",
      "Cравниваем пропорции пользователей, у которых было \"PaymentScreenSuccessful\".\n",
      "Группа 246: 48.31%\n",
      "Группа 248: 46.59%\n",
      "p_value: 0.22269\n",
      "Нет оснований считать величины разными, H0 не отвергаем\n",
      "\n"
     ]
    }
   ],
   "source": [
    "for event_type in event_types.index.unique():\n",
    "    test_equality(246, 248, event_type)"
   ]
  },
  {
   "cell_type": "markdown",
   "id": "732f3547",
   "metadata": {},
   "source": [
    "###### Группы 247 и 248"
   ]
  },
  {
   "cell_type": "code",
   "execution_count": 50,
   "id": "b094dcbd",
   "metadata": {},
   "outputs": [
    {
     "name": "stdout",
     "output_type": "stream",
     "text": [
      "Cравниваем пропорции пользователей, у которых было \"Tutorial\".\n",
      "Группа 247: 11.28%\n",
      "Группа 248: 11.08%\n",
      "p_value: 0.8152\n",
      "Нет оснований считать величины разными, H0 не отвергаем\n",
      "\n",
      "Cравниваем пропорции пользователей, у которых было \"MainScreenAppear\".\n",
      "Группа 247: 98.49%\n",
      "Группа 248: 98.31%\n",
      "p_value: 0.60017\n",
      "Нет оснований считать величины разными, H0 не отвергаем\n",
      "\n",
      "Cравниваем пропорции пользователей, у которых было \"OffersScreenAppear\".\n",
      "Группа 247: 60.55%\n",
      "Группа 248: 60.35%\n",
      "p_value: 0.8836\n",
      "Нет оснований считать величины разными, H0 не отвергаем\n",
      "\n",
      "Cравниваем пропорции пользователей, у которых было \"CartScreenAppear\".\n",
      "Группа 247: 49.23%\n",
      "Группа 248: 48.52%\n",
      "p_value: 0.61695\n",
      "Нет оснований считать величины разными, H0 не отвергаем\n",
      "\n",
      "Cравниваем пропорции пользователей, у которых было \"PaymentScreenSuccessful\".\n",
      "Группа 247: 46.01%\n",
      "Группа 248: 46.59%\n",
      "p_value: 0.67754\n",
      "Нет оснований считать величины разными, H0 не отвергаем\n",
      "\n"
     ]
    }
   ],
   "source": [
    "for event_type in event_types.index.unique():\n",
    "    test_equality(247, 248, event_type)"
   ]
  },
  {
   "cell_type": "markdown",
   "id": "817d25da",
   "metadata": {},
   "source": [
    "###### Объединённая группа и группа 248"
   ]
  },
  {
   "cell_type": "code",
   "execution_count": 51,
   "id": "73757279",
   "metadata": {
    "scrolled": true
   },
   "outputs": [
    {
     "data": {
      "text/html": [
       "<div>\n",
       "<style scoped>\n",
       "    .dataframe tbody tr th:only-of-type {\n",
       "        vertical-align: middle;\n",
       "    }\n",
       "\n",
       "    .dataframe tbody tr th {\n",
       "        vertical-align: top;\n",
       "    }\n",
       "\n",
       "    .dataframe thead th {\n",
       "        text-align: right;\n",
       "    }\n",
       "</style>\n",
       "<table border=\"1\" class=\"dataframe\">\n",
       "  <thead>\n",
       "    <tr style=\"text-align: right;\">\n",
       "      <th></th>\n",
       "      <th>event_type</th>\n",
       "      <th>device_id_hash</th>\n",
       "      <th>timestamp</th>\n",
       "      <th>group</th>\n",
       "      <th>datetime</th>\n",
       "      <th>date</th>\n",
       "      <th>A1</th>\n",
       "      <th>A2</th>\n",
       "      <th>B</th>\n",
       "    </tr>\n",
       "  </thead>\n",
       "  <tbody>\n",
       "    <tr>\n",
       "      <th>2009</th>\n",
       "      <td>MainScreenAppear</td>\n",
       "      <td>7306052078401019795</td>\n",
       "      <td>1564607349</td>\n",
       "      <td>combined</td>\n",
       "      <td>2019-07-31 21:09:09</td>\n",
       "      <td>2019-07-31</td>\n",
       "      <td>True</td>\n",
       "      <td>False</td>\n",
       "      <td>False</td>\n",
       "    </tr>\n",
       "    <tr>\n",
       "      <th>2010</th>\n",
       "      <td>OffersScreenAppear</td>\n",
       "      <td>3511569580412335882</td>\n",
       "      <td>1564607374</td>\n",
       "      <td>combined</td>\n",
       "      <td>2019-07-31 21:09:34</td>\n",
       "      <td>2019-07-31</td>\n",
       "      <td>True</td>\n",
       "      <td>False</td>\n",
       "      <td>False</td>\n",
       "    </tr>\n",
       "    <tr>\n",
       "      <th>2011</th>\n",
       "      <td>MainScreenAppear</td>\n",
       "      <td>5252149879603423149</td>\n",
       "      <td>1564607380</td>\n",
       "      <td>combined</td>\n",
       "      <td>2019-07-31 21:09:40</td>\n",
       "      <td>2019-07-31</td>\n",
       "      <td>True</td>\n",
       "      <td>False</td>\n",
       "      <td>False</td>\n",
       "    </tr>\n",
       "    <tr>\n",
       "      <th>2012</th>\n",
       "      <td>MainScreenAppear</td>\n",
       "      <td>577366859850288734</td>\n",
       "      <td>1564607400</td>\n",
       "      <td>248</td>\n",
       "      <td>2019-07-31 21:10:00</td>\n",
       "      <td>2019-07-31</td>\n",
       "      <td>False</td>\n",
       "      <td>False</td>\n",
       "      <td>True</td>\n",
       "    </tr>\n",
       "    <tr>\n",
       "      <th>2013</th>\n",
       "      <td>OffersScreenAppear</td>\n",
       "      <td>577366859850288734</td>\n",
       "      <td>1564607401</td>\n",
       "      <td>248</td>\n",
       "      <td>2019-07-31 21:10:01</td>\n",
       "      <td>2019-07-31</td>\n",
       "      <td>False</td>\n",
       "      <td>False</td>\n",
       "      <td>True</td>\n",
       "    </tr>\n",
       "  </tbody>\n",
       "</table>\n",
       "</div>"
      ],
      "text/plain": [
       "              event_type       device_id_hash   timestamp     group  \\\n",
       "2009    MainScreenAppear  7306052078401019795  1564607349  combined   \n",
       "2010  OffersScreenAppear  3511569580412335882  1564607374  combined   \n",
       "2011    MainScreenAppear  5252149879603423149  1564607380  combined   \n",
       "2012    MainScreenAppear   577366859850288734  1564607400       248   \n",
       "2013  OffersScreenAppear   577366859850288734  1564607401       248   \n",
       "\n",
       "                datetime        date     A1     A2      B  \n",
       "2009 2019-07-31 21:09:09  2019-07-31   True  False  False  \n",
       "2010 2019-07-31 21:09:34  2019-07-31   True  False  False  \n",
       "2011 2019-07-31 21:09:40  2019-07-31   True  False  False  \n",
       "2012 2019-07-31 21:10:00  2019-07-31  False  False   True  \n",
       "2013 2019-07-31 21:10:01  2019-07-31  False  False   True  "
      ]
     },
     "execution_count": 51,
     "metadata": {},
     "output_type": "execute_result"
    }
   ],
   "source": [
    "pd.set_option('chained_assignment', None)\n",
    "sel_comb = sel\n",
    "sel_comb['group'] = sel_comb.where(sel['group'] == 248, 'combined')['group']\n",
    "sel_comb.head(5)"
   ]
  },
  {
   "cell_type": "markdown",
   "id": "3da45e18",
   "metadata": {},
   "source": [
    "<div class=\"alert alert-success\">\n",
    "<font size=\"5\"><b>Комментарий ревьюера</b></font>\n",
    "\n",
    "Совет: Попробуй использовать команду pd.set_option('chained_assignment', None) для скрытия данного предупреждения.\n",
    "\n",
    "</div>\n",
    "\n",
    "<div class=\"alert alert-info\">\n",
    "<font size=\"5\"><b>Комментарий студента</b></font>\n",
    "\n",
    "Применил. Заодно разобрался, какая часть кода вызывала эти замечания.\n",
    "\n",
    "</div>"
   ]
  },
  {
   "cell_type": "code",
   "execution_count": 52,
   "id": "427b9c6b",
   "metadata": {},
   "outputs": [
    {
     "name": "stdout",
     "output_type": "stream",
     "text": [
      "Cравниваем пропорции пользователей, у которых было \"Tutorial\".\n",
      "Группа combined: 11.24%\n",
      "Группа 248: 11.08%\n",
      "p_value: 0.8333\n",
      "Нет оснований считать величины разными, H0 не отвергаем\n",
      "\n",
      "Cравниваем пропорции пользователей, у которых было \"MainScreenAppear\".\n",
      "Группа combined: 98.56%\n",
      "Группа 248: 98.31%\n",
      "p_value: 0.39299\n",
      "Нет оснований считать величины разными, H0 не отвергаем\n",
      "\n",
      "Cравниваем пропорции пользователей, у которых было \"OffersScreenAppear\".\n",
      "Группа combined: 61.31%\n",
      "Группа 248: 60.35%\n",
      "p_value: 0.419\n",
      "Нет оснований считать величины разными, H0 не отвергаем\n",
      "\n",
      "Cравниваем пропорции пользователей, у которых было \"CartScreenAppear\".\n",
      "Группа combined: 50.09%\n",
      "Группа 248: 48.52%\n",
      "p_value: 0.19819\n",
      "Нет оснований считать величины разными, H0 не отвергаем\n",
      "\n",
      "Cравниваем пропорции пользователей, у которых было \"PaymentScreenSuccessful\".\n",
      "Группа combined: 47.15%\n",
      "Группа 248: 46.59%\n",
      "p_value: 0.64521\n",
      "Нет оснований считать величины разными, H0 не отвергаем\n",
      "\n"
     ]
    }
   ],
   "source": [
    "for event_type in event_types.index.unique():\n",
    "    test_equality('combined', 248, event_type, df=sel_comb)"
   ]
  },
  {
   "cell_type": "markdown",
   "id": "98d27b42",
   "metadata": {},
   "source": [
    "**Итоги**:\n",
    "- При уровне значимости alpha == 0.05 все тесты показали, что нет значимой разницы в каком-либо из случаев.\n",
    "- Шрифты не оказали значимого влияния на поведение пользователей в группе 248."
   ]
  },
  {
   "cell_type": "markdown",
   "id": "43f7ff53",
   "metadata": {},
   "source": [
    "### Уточняем уровень значимости\n",
    "\n",
    "По умолчанию в функции выбран уровень значимости alpha == 0.05. Это соответвует 1 ложному позитивному результату (одной ошибочно отвергнутой гипотезе) в среднем на 20 проверок.\n",
    "\n",
    "У нас не была отвергнута ни одна статистическая гипотеза. Поскольку нет позитивных результатов - то мы не боимся ложных позитивных результатов.\n",
    "\n",
    "В случае положительных результатов - для уменьшения групповой вероятности ложно-позитивных результатов можно применить методы Бонферрони, Хольма или Шидака. Конкретный выбор можно будет сделать в конкретной задаче.\n",
    "\n",
    "**Итоги**:\n",
    "- менять уровень значимости для отдельных запусков теста - не требуется."
   ]
  },
  {
   "cell_type": "markdown",
   "id": "5ccf4590",
   "metadata": {},
   "source": [
    "<div class=\"alert alert-success\">\n",
    "<font size=\"5\"><b>Комментарий ревьюера</b></font>\n",
    "\n",
    "Успех: Тесты проведены верно. В случае, когда на одних и тех же данных тестируется несколько гипотез (проводится несколько тестов), лучше проводить коррекцию уровня значимости. Один из вариантов это сделать - поправка Бонферрони. Здорово, что ты об этом знаешь. Можешь почитать про нее ([ссылка](http://www.machinelearning.ru/wiki/index.php?title=Поправка_Бонферрони)) и про другие способы корректировки alpha. Это связано с тем, что чем больше ты пытаешься найти значимый эффект, тем больше вероятность его обнаружить просто по чистой случайности.\n",
    "    \n",
    "</div>"
   ]
  },
  {
   "cell_type": "markdown",
   "id": "d1a9526a",
   "metadata": {},
   "source": [
    "\n",
    "## Общие итоги\n",
    "\n",
    "- Исследовано:\n",
    "  - 244126 записей о событиях;\n",
    "  - от 7551 пользовательского устройства;\n",
    "  - за непрерывный период в 14 дней.\n",
    "- Обнаружено:\n",
    "  - период состоит из двух фаз:\n",
    "    - начатый с малой интенсивности, но непрерывны экспоненциальный рост количества зарегистрированных событий (первые 7 дней);\n",
    "    - \"полная нагрузка\" во второй семидневке, на которую пришлось абсолютное большинство записанных событий;\n",
    "    - для исследования выбрана только вторая фаза, поскольку она содержит много данных, и эти объёмы равномерно распределены по датам;\n",
    "  - события:\n",
    "    - были пяти типов, самый популярный - \"MainScreenAppear\", реже всего встречался \"Tutorial\";\n",
    "    - события не образуют жёсткого пути к какой-то цели, они могут происходить в любом порядке;\n",
    "      - однако Главный экран и Туториал почти всегда бывают открыты первыми, а экраны других типов - обычно открываются после;\n",
    "    - самый значительный \"барьер\" для пользователя - это переход с главного экрана на другой - такой переход исполнили только 62% пользователей, а 38% так и ограничились вызовами главного экрана.\n",
    "  - тестирование нового шрифта:\n",
    "    - тест подготовлен приемлимо:\n",
    "      - в двух контрольных группах нет значимых различий по свойствам пользователей;\n",
    "      - количество пользователей в группах различается на 1-2%, при желаемом пороге менее 1%;\n",
    "    - были проведены сравнения:\n",
    "      - двух контрольных групп между собой,\n",
    "      - каждой из этих групп с целевой группой, пользователи которой использовали новые шрифты,\n",
    "      - объединённой контрольной группы (из пользователей, входивших в любую из контрольных групп) с целевой группой;\n",
    "      - 4 серии по 5 сравнений, всего 20 сравнений;\n",
    "    - результаты:\n",
    "      - сравнение долей пользователей, у которых записаны события определённого типа, не выявило статистически значимых различий ни в одном случае;\n",
    "      - изменение шрифтов не привело к изменению поведения пользователей.\n",
    "- Рекомендации:\n",
    "  - обратить внимание на формулировку: \"Технически в логи новых дней по некоторым пользователям могут «доезжать» события из прошлого — это может «перекашивать данные».\" Она была включена в задание, чтобы дать подсказку, однако оказалась непонятной. Чтобы сообщить о какой-либо особенности, которая может быть не очевидна стороннему человеку, лучше использовать точный технический язык."
   ]
  },
  {
   "cell_type": "markdown",
   "id": "c98de127",
   "metadata": {},
   "source": [
    "<div class=\"alert alert-success\">\n",
    "<font size=\"5\"><b>Комментарий ревьюера</b></font>\n",
    "\n",
    "Успех: Отлично, вывод сформулирован. В стат. тестах мы не получили существенных различий. Т.е. изменение шрифтов можно провести, однако это не увеличит показатели. \n",
    "</div>"
   ]
  },
  {
   "cell_type": "markdown",
   "id": "e73fffc0",
   "metadata": {},
   "source": [
    "<div class=\"alert alert-info\">\n",
    "<font size=\"5\"><b>Комментарий ревьюера</b></font>\n",
    "    \n",
    "Привожу ссылки на статьи по А/В-тестам. Надеюсь, будет интересно) \n",
    "    \n",
    "https://emailsoldiers.ru/blog/12-rules-for-ab-testing\n",
    "    \n",
    "https://ppc.world/articles/ab-testirovanie-v-yandeksdirekte-kak-provesti-i-gde-brat-idei/\n",
    "    \n",
    "https://in-scale.ru/blog/chto-takoe-ab-testirovanie-i-kak-ego-provesti/\n",
    "\n",
    "Ты проделал большую работу, молодец! Ты овладел важными на данном этапе обучения инструментами, а также довольно качественно их используешь. Критических замечаний немного. Однако их важно исправить. Думаю, сделать это тебе не составит труда. Жду твою работу :)\n",
    "\n",
    "</div>\n",
    "\n",
    "\n",
    "<div class=\"alert alert-info\">\n",
    "<font size=\"5\"><b>Комментарий студента</b></font>\n",
    "    \n",
    "Благодарю за отзыв и ссылки. Я внёс дополнения в проект по всем ошибкам, и по некоторым из советов. Прошу проверить и принять :)\n",
    "\n",
    "Я ищу работу. Мне будет интересно участвовать в проекте, который изучает численными методами бедность и её преодоление. Можно написать или прислать что нибудь на imsmastermsk@gmail.com .\n",
    "С уважением, Саша.\n",
    "</div>"
   ]
  }
 ],
 "metadata": {
  "ExecuteTimeLog": [
   {
    "duration": 7,
    "start_time": "2022-10-01T07:51:01.917Z"
   },
   {
    "duration": 39,
    "start_time": "2022-10-01T08:46:06.738Z"
   },
   {
    "duration": 3,
    "start_time": "2022-10-01T08:46:12.896Z"
   },
   {
    "duration": 7,
    "start_time": "2022-10-01T08:46:16.234Z"
   }
  ],
  "kernelspec": {
   "display_name": "Python 3 (ipykernel)",
   "language": "python",
   "name": "python3"
  },
  "language_info": {
   "codemirror_mode": {
    "name": "ipython",
    "version": 3
   },
   "file_extension": ".py",
   "mimetype": "text/x-python",
   "name": "python",
   "nbconvert_exporter": "python",
   "pygments_lexer": "ipython3",
   "version": "3.9.12"
  },
  "toc": {
   "base_numbering": 1,
   "nav_menu": {},
   "number_sections": true,
   "sideBar": true,
   "skip_h1_title": true,
   "title_cell": "Содержание",
   "title_sidebar": "Содержание",
   "toc_cell": true,
   "toc_position": {
    "height": "calc(100% - 180px)",
    "left": "10px",
    "top": "150px",
    "width": "258.797px"
   },
   "toc_section_display": true,
   "toc_window_display": false
  }
 },
 "nbformat": 4,
 "nbformat_minor": 5
}
