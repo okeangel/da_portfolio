{
 "cells": [
  {
   "cell_type": "markdown",
   "id": "fa5fce91",
   "metadata": {},
   "source": [
    "# Оценка и проверка гипотез по увеличению выручки"
   ]
  },
  {
   "cell_type": "markdown",
   "id": "d1db17f5",
   "metadata": {},
   "source": [
    "Учебный проект по специальности \"аналитик данных\", 18-я неделя обучения.\n",
    "Тема: статистическая проверка гипотез.\n",
    "\n",
    "Автор: Александр Лагутин.\n",
    "\n",
    "Начат: 25 сентября 2022 г в 07:00.\n",
    "Завершён: 26 сентября 2022 г в 07:45.\n",
    "\n",
    "Время подготовки: 10 рабочих часов (1 рабочий день)."
   ]
  },
  {
   "cell_type": "markdown",
   "id": "9fd3f23d",
   "metadata": {
    "toc": true
   },
   "source": [
    "<h1>Содержание<span class=\"tocSkip\"></span></h1>\n",
    "<div class=\"toc\"><ul class=\"toc-item\"><li><span><a href=\"#Описание-проекта\" data-toc-modified-id=\"Описание-проекта-1\"><span class=\"toc-item-num\">1&nbsp;&nbsp;</span>Описание проекта</a></span><ul class=\"toc-item\"><li><span><a href=\"#Заказчик\" data-toc-modified-id=\"Заказчик-1.1\"><span class=\"toc-item-num\">1.1&nbsp;&nbsp;</span>Заказчик</a></span></li><li><span><a href=\"#Задача\" data-toc-modified-id=\"Задача-1.2\"><span class=\"toc-item-num\">1.2&nbsp;&nbsp;</span>Задача</a></span></li><li><span><a href=\"#Входные-данные\" data-toc-modified-id=\"Входные-данные-1.3\"><span class=\"toc-item-num\">1.3&nbsp;&nbsp;</span>Входные данные</a></span><ul class=\"toc-item\"><li><span><a href=\"#Термины\" data-toc-modified-id=\"Термины-1.3.1\"><span class=\"toc-item-num\">1.3.1&nbsp;&nbsp;</span>Термины</a></span></li><li><span><a href=\"#Описание-данных\" data-toc-modified-id=\"Описание-данных-1.3.2\"><span class=\"toc-item-num\">1.3.2&nbsp;&nbsp;</span>Описание данных</a></span><ul class=\"toc-item\"><li><span><a href=\"#Гипотезы-(hypothesis)\" data-toc-modified-id=\"Гипотезы-(hypothesis)-1.3.2.1\"><span class=\"toc-item-num\">1.3.2.1&nbsp;&nbsp;</span>Гипотезы (hypothesis)</a></span></li><li><span><a href=\"#Заказы-(orders)\" data-toc-modified-id=\"Заказы-(orders)-1.3.2.2\"><span class=\"toc-item-num\">1.3.2.2&nbsp;&nbsp;</span>Заказы (orders)</a></span></li><li><span><a href=\"#Посетители-по-датам-(visitors)\" data-toc-modified-id=\"Посетители-по-датам-(visitors)-1.3.2.3\"><span class=\"toc-item-num\">1.3.2.3&nbsp;&nbsp;</span>Посетители по датам (visitors)</a></span></li></ul></li></ul></li><li><span><a href=\"#Инструменты\" data-toc-modified-id=\"Инструменты-1.4\"><span class=\"toc-item-num\">1.4&nbsp;&nbsp;</span>Инструменты</a></span><ul class=\"toc-item\"><li><span><a href=\"#Импорт-библиотек\" data-toc-modified-id=\"Импорт-библиотек-1.4.1\"><span class=\"toc-item-num\">1.4.1&nbsp;&nbsp;</span>Импорт библиотек</a></span></li><li><span><a href=\"#Определения-констант\" data-toc-modified-id=\"Определения-констант-1.4.2\"><span class=\"toc-item-num\">1.4.2&nbsp;&nbsp;</span>Определения констант</a></span></li><li><span><a href=\"#Определения-функций\" data-toc-modified-id=\"Определения-функций-1.4.3\"><span class=\"toc-item-num\">1.4.3&nbsp;&nbsp;</span>Определения функций</a></span><ul class=\"toc-item\"><li><span><a href=\"#Загрузка-и-обзор-данных\" data-toc-modified-id=\"Загрузка-и-обзор-данных-1.4.3.1\"><span class=\"toc-item-num\">1.4.3.1&nbsp;&nbsp;</span>Загрузка и обзор данных</a></span></li><li><span><a href=\"#Исправление-данных\" data-toc-modified-id=\"Исправление-данных-1.4.3.2\"><span class=\"toc-item-num\">1.4.3.2&nbsp;&nbsp;</span>Исправление данных</a></span></li><li><span><a href=\"#Отображение-данных\" data-toc-modified-id=\"Отображение-данных-1.4.3.3\"><span class=\"toc-item-num\">1.4.3.3&nbsp;&nbsp;</span>Отображение данных</a></span></li><li><span><a href=\"#A/B-test\" data-toc-modified-id=\"A/B-test-1.4.3.4\"><span class=\"toc-item-num\">1.4.3.4&nbsp;&nbsp;</span>A/B-test</a></span></li></ul></li></ul></li></ul></li><li><span><a href=\"#Выбор-лучших-гипотез\" data-toc-modified-id=\"Выбор-лучших-гипотез-2\"><span class=\"toc-item-num\">2&nbsp;&nbsp;</span>Выбор лучших гипотез</a></span><ul class=\"toc-item\"><li><span><a href=\"#Рейтинг-ICE\" data-toc-modified-id=\"Рейтинг-ICE-2.1\"><span class=\"toc-item-num\">2.1&nbsp;&nbsp;</span>Рейтинг ICE</a></span></li><li><span><a href=\"#Рейтинг-RICE\" data-toc-modified-id=\"Рейтинг-RICE-2.2\"><span class=\"toc-item-num\">2.2&nbsp;&nbsp;</span>Рейтинг RICE</a></span></li><li><span><a href=\"#Итоги-приоритизации\" data-toc-modified-id=\"Итоги-приоритизации-2.3\"><span class=\"toc-item-num\">2.3&nbsp;&nbsp;</span>Итоги приоритизации</a></span></li></ul></li><li><span><a href=\"#Анализ-результатов-A/B-теста\" data-toc-modified-id=\"Анализ-результатов-A/B-теста-3\"><span class=\"toc-item-num\">3&nbsp;&nbsp;</span>Анализ результатов A/B-теста</a></span><ul class=\"toc-item\"><li><span><a href=\"#Загрузка-и-подготовка-данных\" data-toc-modified-id=\"Загрузка-и-подготовка-данных-3.1\"><span class=\"toc-item-num\">3.1&nbsp;&nbsp;</span>Загрузка и подготовка данных</a></span></li><li><span><a href=\"#Сводные-таблицы-с-текущими-и-накопленными-величинами\" data-toc-modified-id=\"Сводные-таблицы-с-текущими-и-накопленными-величинами-3.2\"><span class=\"toc-item-num\">3.2&nbsp;&nbsp;</span>Сводные таблицы с текущими и накопленными величинами</a></span><ul class=\"toc-item\"><li><span><a href=\"#Кто-попал-в-обе-группы\" data-toc-modified-id=\"Кто-попал-в-обе-группы-3.2.1\"><span class=\"toc-item-num\">3.2.1&nbsp;&nbsp;</span>Кто попал в обе группы</a></span></li><li><span><a href=\"#Группа-A-(эталонная)\" data-toc-modified-id=\"Группа-A-(эталонная)-3.2.2\"><span class=\"toc-item-num\">3.2.2&nbsp;&nbsp;</span>Группа A (эталонная)</a></span><ul class=\"toc-item\"><li><span><a href=\"#Посетители\" data-toc-modified-id=\"Посетители-3.2.2.1\"><span class=\"toc-item-num\">3.2.2.1&nbsp;&nbsp;</span>Посетители</a></span></li><li><span><a href=\"#Заказы\" data-toc-modified-id=\"Заказы-3.2.2.2\"><span class=\"toc-item-num\">3.2.2.2&nbsp;&nbsp;</span>Заказы</a></span></li></ul></li><li><span><a href=\"#Группа-B\" data-toc-modified-id=\"Группа-B-3.2.3\"><span class=\"toc-item-num\">3.2.3&nbsp;&nbsp;</span>Группа B</a></span></li></ul></li><li><span><a href=\"#Анализ-накопленных-данных-по-группам\" data-toc-modified-id=\"Анализ-накопленных-данных-по-группам-3.3\"><span class=\"toc-item-num\">3.3&nbsp;&nbsp;</span>Анализ накопленных данных по группам</a></span><ul class=\"toc-item\"><li><span><a href=\"#Количество-заказов\" data-toc-modified-id=\"Количество-заказов-3.3.1\"><span class=\"toc-item-num\">3.3.1&nbsp;&nbsp;</span>Количество заказов</a></span></li><li><span><a href=\"#Общая-выручка\" data-toc-modified-id=\"Общая-выручка-3.3.2\"><span class=\"toc-item-num\">3.3.2&nbsp;&nbsp;</span>Общая выручка</a></span></li></ul></li><li><span><a href=\"#Поиск-аномальных-величин\" data-toc-modified-id=\"Поиск-аномальных-величин-3.4\"><span class=\"toc-item-num\">3.4&nbsp;&nbsp;</span>Поиск аномальных величин</a></span><ul class=\"toc-item\"><li><span><a href=\"#Аномальные-суммы-заказов\" data-toc-modified-id=\"Аномальные-суммы-заказов-3.4.1\"><span class=\"toc-item-num\">3.4.1&nbsp;&nbsp;</span>Аномальные суммы заказов</a></span></li><li><span><a href=\"#Аномальные-заказчики\" data-toc-modified-id=\"Аномальные-заказчики-3.4.2\"><span class=\"toc-item-num\">3.4.2&nbsp;&nbsp;</span>Аномальные заказчики</a></span></li><li><span><a href=\"#Выборка-типичных-заказов-от-типичных-заказчиков\" data-toc-modified-id=\"Выборка-типичных-заказов-от-типичных-заказчиков-3.4.3\"><span class=\"toc-item-num\">3.4.3&nbsp;&nbsp;</span>Выборка типичных заказов от типичных заказчиков</a></span></li><li><span><a href=\"#Типичные-заказы-в-группе-A\" data-toc-modified-id=\"Типичные-заказы-в-группе-A-3.4.4\"><span class=\"toc-item-num\">3.4.4&nbsp;&nbsp;</span>Типичные заказы в группе A</a></span></li><li><span><a href=\"#Типичные-заказы-в-группе-B\" data-toc-modified-id=\"Типичные-заказы-в-группе-B-3.4.5\"><span class=\"toc-item-num\">3.4.5&nbsp;&nbsp;</span>Типичные заказы в группе B</a></span></li></ul></li><li><span><a href=\"#Анализ-типичных-типичных-данных-по-группам\" data-toc-modified-id=\"Анализ-типичных-типичных-данных-по-группам-3.5\"><span class=\"toc-item-num\">3.5&nbsp;&nbsp;</span>Анализ типичных типичных данных по группам</a></span><ul class=\"toc-item\"><li><span><a href=\"#Количество-заказов\" data-toc-modified-id=\"Количество-заказов-3.5.1\"><span class=\"toc-item-num\">3.5.1&nbsp;&nbsp;</span>Количество заказов</a></span></li></ul></li><li><span><a href=\"#Средний-чек\" data-toc-modified-id=\"Средний-чек-3.6\"><span class=\"toc-item-num\">3.6&nbsp;&nbsp;</span>Средний чек</a></span></li><li><span><a href=\"#Конверсия-(средний-доход-с-одного-посетителя)\" data-toc-modified-id=\"Конверсия-(средний-доход-с-одного-посетителя)-3.7\"><span class=\"toc-item-num\">3.7&nbsp;&nbsp;</span>Конверсия (средний доход с одного посетителя)</a></span></li><li><span><a href=\"#Статистическая-значимость-различий\" data-toc-modified-id=\"Статистическая-значимость-различий-3.8\"><span class=\"toc-item-num\">3.8&nbsp;&nbsp;</span>Статистическая значимость различий</a></span><ul class=\"toc-item\"><li><span><a href=\"#В-конверсии\" data-toc-modified-id=\"В-конверсии-3.8.1\"><span class=\"toc-item-num\">3.8.1&nbsp;&nbsp;</span>В конверсии</a></span><ul class=\"toc-item\"><li><span><a href=\"#По-полным-данным\" data-toc-modified-id=\"По-полным-данным-3.8.1.1\"><span class=\"toc-item-num\">3.8.1.1&nbsp;&nbsp;</span>По полным данным</a></span></li><li><span><a href=\"#По-типичным-данным\" data-toc-modified-id=\"По-типичным-данным-3.8.1.2\"><span class=\"toc-item-num\">3.8.1.2&nbsp;&nbsp;</span>По типичным данным</a></span></li></ul></li><li><span><a href=\"#В-среднем-чеке\" data-toc-modified-id=\"В-среднем-чеке-3.8.2\"><span class=\"toc-item-num\">3.8.2&nbsp;&nbsp;</span>В среднем чеке</a></span><ul class=\"toc-item\"><li><span><a href=\"#По-полным-данным\" data-toc-modified-id=\"По-полным-данным-3.8.2.1\"><span class=\"toc-item-num\">3.8.2.1&nbsp;&nbsp;</span>По полным данным</a></span></li><li><span><a href=\"#По-типичным-данным\" data-toc-modified-id=\"По-типичным-данным-3.8.2.2\"><span class=\"toc-item-num\">3.8.2.2&nbsp;&nbsp;</span>По типичным данным</a></span></li></ul></li></ul></li></ul></li><li><span><a href=\"#Решение-на-основание-анализа-результатов-A/B-теста:\" data-toc-modified-id=\"Решение-на-основание-анализа-результатов-A/B-теста:-4\"><span class=\"toc-item-num\">4&nbsp;&nbsp;</span>Решение на основание анализа результатов A/B-теста:</a></span></li></ul></div>"
   ]
  },
  {
   "cell_type": "markdown",
   "id": "169b2c10",
   "metadata": {},
   "source": [
    "## Описание проекта\n",
    "\n",
    "### Заказчик\n",
    "\n",
    "Крупный интернет-магазин, отдел маркетинга.\n",
    "\n",
    "### Задача\n",
    "\n",
    "1. Приоритизировать гипотезы по увеличению выручки.\n",
    "2. Запустить A/B-тест, проанализировать его результаты.\n",
    "\n",
    "Для чего: для увеличения выручки."
   ]
  },
  {
   "cell_type": "markdown",
   "id": "ed66ea3b",
   "metadata": {},
   "source": [
    "### Входные данные\n",
    "\n",
    "- описания гипотез и оценки RICE для них,\n",
    "- данные для A/B-теста конверсии:\n",
    "  - о заказах;\n",
    "  - о посещениях по дням.\n",
    "\n",
    "#### Термины\n",
    "\n",
    "Специальные термины не упомянуты.\n",
    "\n",
    "#### Описание данных\n",
    "\n",
    "##### Гипотезы (hypothesis)\n",
    "\n",
    "- `Hypothesis` - описание гипотезы;\n",
    "- `Reach` - охват пользователей (по шкале 0...10);\n",
    "- `Impact` - влияние на охваченного пользователя (0...10);\n",
    "- `Confidence` - уверенность в гипотезе (0...10);\n",
    "- `Efforts` - усилия, требующиеся для проверки (0...10).\n",
    "\n",
    "##### Заказы (orders)\n",
    "\n",
    "- `transactionId` - идентификатор заказа;\n",
    "- `visitorId` - идентификатор пользователя, совершившего заказ;\n",
    "- `date` - дата заказа;\n",
    "- `revenue` - выручка с заказа;\n",
    "- `group` - группа A/B-теста, в которую попал заказчик.\n",
    "\n",
    "##### Посетители по датам (visitors)\n",
    "\n",
    "- `date` - дата;\n",
    "- `group` - группа A/B-теста;\n",
    "- `visitors` - количество соответствующих посетителей."
   ]
  },
  {
   "cell_type": "markdown",
   "id": "3d499b1f",
   "metadata": {},
   "source": [
    "### Инструменты\n",
    "\n",
    "Используем [Anaconda](https://www.anaconda.com/), окружение `ds_da_practicum_env.yml` \"для Mac OS\" (от 2022-03-23)."
   ]
  },
  {
   "cell_type": "markdown",
   "id": "74f5bd90",
   "metadata": {},
   "source": [
    "#### Импорт библиотек"
   ]
  },
  {
   "cell_type": "code",
   "execution_count": 1,
   "id": "2ccbcade",
   "metadata": {},
   "outputs": [],
   "source": [
    "%matplotlib inline\n",
    "\n",
    "import datetime\n",
    "import re\n",
    "\n",
    "import pandas as pd\n",
    "import numpy as np\n",
    "import scipy.stats as st\n",
    "import matplotlib.pyplot as plt\n",
    "import seaborn as sns"
   ]
  },
  {
   "cell_type": "markdown",
   "id": "802b7dd4",
   "metadata": {},
   "source": [
    "#### Определения констант"
   ]
  },
  {
   "cell_type": "code",
   "execution_count": 2,
   "id": "6af52aa5",
   "metadata": {},
   "outputs": [],
   "source": [
    "FIGSIZE = (12, 6)"
   ]
  },
  {
   "cell_type": "markdown",
   "id": "0fee0bc1",
   "metadata": {},
   "source": [
    "#### Определения функций\n",
    "\n",
    "##### Загрузка и обзор данных"
   ]
  },
  {
   "cell_type": "code",
   "execution_count": 3,
   "id": "10dded98",
   "metadata": {},
   "outputs": [],
   "source": [
    "def load(tablename, ext='csv'):\n",
    "    \"\"\"Load a table from file\"\"\"\n",
    "    filename = tablename + '.' + ext\n",
    "    try:\n",
    "        df = pd.read_csv(filename)\n",
    "    except FileNotFoundError:\n",
    "        df = pd.read_csv('https://code.s3.yandex.net/datasets/' + filename)\n",
    "    correct_column_names(df)  #  переводит в snake_case\n",
    "    survey(df)  # даёт обзор возможных проблем с таблицей\n",
    "    return df"
   ]
  },
  {
   "cell_type": "code",
   "execution_count": 4,
   "id": "9f996523",
   "metadata": {},
   "outputs": [],
   "source": [
    "def survey(data):\n",
    "    \"\"\"Display summaries to detect data problems\"\"\"\n",
    "    display(data.sample(5))\n",
    "    print(f'Полностью совпадающих строк: {data.duplicated().sum()}\\n')\n",
    "    data.info()\n",
    "    display(get_nans(data))\n",
    "    print(get_filled_rows_share(data))"
   ]
  },
  {
   "cell_type": "code",
   "execution_count": 5,
   "id": "dc914653",
   "metadata": {},
   "outputs": [],
   "source": [
    "def get_nans(data):\n",
    "    nans = []\n",
    "    for column in data.columns:\n",
    "        missing = (\n",
    "            data[column].isna().sum()\n",
    "        )  # Подсчет количества отсутствующих значений\n",
    "        part = round(\n",
    "            missing * 100 / len(data), 2\n",
    "        )  # Подсчет доли отсутствующих значений\n",
    "        uniques = data[column].sort_values().nunique()\n",
    "        nans.append([column, missing, part, uniques])\n",
    "\n",
    "    return (\n",
    "        pd.DataFrame(\n",
    "            data=nans, columns=['column', 'na_count', 'na_%', 'unique_count']\n",
    "        )\n",
    "        .sort_values(['na_count', 'unique_count'], ascending=False)\n",
    "        .set_index('column')\n",
    "    )"
   ]
  },
  {
   "cell_type": "code",
   "execution_count": 6,
   "id": "5bbeeae0",
   "metadata": {},
   "outputs": [],
   "source": [
    "def get_filled_rows_share(df):\n",
    "    share = 1 - df.isna().any(axis=1).sum() / len(df)\n",
    "    return f'Заполненных строк без пропусков: {share:.02%}'"
   ]
  },
  {
   "cell_type": "markdown",
   "id": "4f718ba7",
   "metadata": {},
   "source": [
    "##### Исправление данных"
   ]
  },
  {
   "cell_type": "code",
   "execution_count": 7,
   "id": "1122d260",
   "metadata": {},
   "outputs": [
    {
     "name": "stdout",
     "output_type": "stream",
     "text": [
      "True\n"
     ]
    }
   ],
   "source": [
    "date_pattern = (\n",
    "    '^(?:\\\\d{4})-(?:\\\\d{2})-(?:\\\\d{2})'  # date\n",
    "    '[ T](?:\\\\d{2}):(?:\\\\d{2}):(?:\\\\d{2}(?:\\\\.\\\\d*)?)'  # time\n",
    "    '(?:(?:-(?:\\\\d{2}):(?:\\\\d{2})|Z)?)$'  # timezone\n",
    ")\n",
    "\n",
    "print(re.match(date_pattern, '2021-11-04 11:11:11') is not None)\n",
    "\n",
    "# visits['session_start'] = pd.to_datetime(visits['session_start'])\n",
    "# visits['session_end'] = pd.to_datetime(visits['session_start'])"
   ]
  },
  {
   "cell_type": "code",
   "execution_count": 8,
   "id": "c73aaed1",
   "metadata": {},
   "outputs": [],
   "source": [
    "def correct_column_names(df):\n",
    "    df.columns = df.columns.str.strip()\n",
    "    df.columns = list(map(to_snake_case, df.columns))\n",
    "    # df.columns = df.columns.str.lower()\n",
    "    # df.columns = df.columns.str.replace(' ', '_')\n",
    "\n",
    "\n",
    "def to_snake_case(name):\n",
    "    name = re.sub('(.)([A-Z][a-z]+)', r'\\1_\\2', name)\n",
    "    name = re.sub('__([A-Z])', r'_\\1', name)\n",
    "    name = re.sub('([a-z0-9])([A-Z])', r'\\1_\\2', name)\n",
    "    return name.lower()"
   ]
  },
  {
   "cell_type": "code",
   "execution_count": 9,
   "id": "306077ff",
   "metadata": {},
   "outputs": [],
   "source": [
    "def fillnaby(data, column, groupby, func='median'):\n",
    "    data[column] = data[column].fillna(\n",
    "        data.groupby(groupby)[column].transform(func)\n",
    "    )"
   ]
  },
  {
   "cell_type": "markdown",
   "id": "e16b3812",
   "metadata": {},
   "source": [
    "##### Отображение данных"
   ]
  },
  {
   "cell_type": "code",
   "execution_count": 10,
   "id": "732090bd",
   "metadata": {},
   "outputs": [],
   "source": [
    "def headline(line, width=50):\n",
    "    \"\"\"Возвращает заголовок, набранный \"простым текстом\".\"\"\"\n",
    "    return f'\\n{line.upper():=^{width}}'"
   ]
  },
  {
   "cell_type": "code",
   "execution_count": 11,
   "id": "7fc90675",
   "metadata": {},
   "outputs": [],
   "source": [
    "# можно было бы рисовать `bar` в случаях, когда вариантов мало.\n",
    "# однако по неясной причине `bar` не рисуется, и не вызывает ошибки,\n",
    "# а вызывает лишь зацикливание при построении первого же графика\n",
    "\n",
    "\n",
    "def survey_columns(df):\n",
    "    for column in nans_before.index:\n",
    "        print(headline(column))\n",
    "\n",
    "        uniques = realty[column].sort_values().unique()\n",
    "        if len(uniques) < 20:\n",
    "            print(uniques)\n",
    "        print(f'Data type: {str(realty[column].dtype):>10}')\n",
    "        print(f'Unique values: {len(uniques):6}')\n",
    "\n",
    "        missing = realty[column].isna().sum()\n",
    "        if missing:\n",
    "            print(f'Not avaliable: {nans_before.loc[column, \"na_part\"]:.02%}')\n",
    "        else:\n",
    "            print('All values is avaliable.')\n",
    "\n",
    "        try:\n",
    "            realty.plot(\n",
    "                kind='hist',\n",
    "                y=column,\n",
    "                bins=50,\n",
    "            )\n",
    "            plt.show()\n",
    "        except Exception as e:\n",
    "            print(str(e).capitalize())"
   ]
  },
  {
   "cell_type": "markdown",
   "id": "7ae43d2e",
   "metadata": {},
   "source": [
    "##### A/B-test"
   ]
  },
  {
   "cell_type": "code",
   "execution_count": 12,
   "id": "fbd7e7b6",
   "metadata": {},
   "outputs": [],
   "source": [
    "def center_percentile(data, percentile):\n",
    "    low = np.percentile(data, (100 - percentile) / 2)\n",
    "    high = np.percentile(data, (100 + percentile) / 2)\n",
    "    return low, high"
   ]
  },
  {
   "cell_type": "markdown",
   "id": "21b0ee10",
   "metadata": {},
   "source": [
    "## Выбор лучших гипотез"
   ]
  },
  {
   "cell_type": "code",
   "execution_count": 13,
   "id": "6225e265",
   "metadata": {},
   "outputs": [
    {
     "data": {
      "text/html": [
       "<div>\n",
       "<style scoped>\n",
       "    .dataframe tbody tr th:only-of-type {\n",
       "        vertical-align: middle;\n",
       "    }\n",
       "\n",
       "    .dataframe tbody tr th {\n",
       "        vertical-align: top;\n",
       "    }\n",
       "\n",
       "    .dataframe thead th {\n",
       "        text-align: right;\n",
       "    }\n",
       "</style>\n",
       "<table border=\"1\" class=\"dataframe\">\n",
       "  <thead>\n",
       "    <tr style=\"text-align: right;\">\n",
       "      <th></th>\n",
       "      <th>hypothesis</th>\n",
       "      <th>reach</th>\n",
       "      <th>impact</th>\n",
       "      <th>confidence</th>\n",
       "      <th>efforts</th>\n",
       "    </tr>\n",
       "  </thead>\n",
       "  <tbody>\n",
       "    <tr>\n",
       "      <th>5</th>\n",
       "      <td>Добавить страницу отзывов клиентов о магазине,...</td>\n",
       "      <td>3</td>\n",
       "      <td>2</td>\n",
       "      <td>2</td>\n",
       "      <td>3</td>\n",
       "    </tr>\n",
       "    <tr>\n",
       "      <th>1</th>\n",
       "      <td>Запустить собственную службу доставки, что сок...</td>\n",
       "      <td>2</td>\n",
       "      <td>5</td>\n",
       "      <td>4</td>\n",
       "      <td>10</td>\n",
       "    </tr>\n",
       "    <tr>\n",
       "      <th>6</th>\n",
       "      <td>Показать на главной странице баннеры с актуаль...</td>\n",
       "      <td>5</td>\n",
       "      <td>3</td>\n",
       "      <td>8</td>\n",
       "      <td>3</td>\n",
       "    </tr>\n",
       "    <tr>\n",
       "      <th>3</th>\n",
       "      <td>Изменить структура категорий, что увеличит кон...</td>\n",
       "      <td>8</td>\n",
       "      <td>3</td>\n",
       "      <td>3</td>\n",
       "      <td>8</td>\n",
       "    </tr>\n",
       "    <tr>\n",
       "      <th>2</th>\n",
       "      <td>Добавить блоки рекомендаций товаров на сайт ин...</td>\n",
       "      <td>8</td>\n",
       "      <td>3</td>\n",
       "      <td>7</td>\n",
       "      <td>3</td>\n",
       "    </tr>\n",
       "  </tbody>\n",
       "</table>\n",
       "</div>"
      ],
      "text/plain": [
       "                                          hypothesis  reach  impact  \\\n",
       "5  Добавить страницу отзывов клиентов о магазине,...      3       2   \n",
       "1  Запустить собственную службу доставки, что сок...      2       5   \n",
       "6  Показать на главной странице баннеры с актуаль...      5       3   \n",
       "3  Изменить структура категорий, что увеличит кон...      8       3   \n",
       "2  Добавить блоки рекомендаций товаров на сайт ин...      8       3   \n",
       "\n",
       "   confidence  efforts  \n",
       "5           2        3  \n",
       "1           4       10  \n",
       "6           8        3  \n",
       "3           3        8  \n",
       "2           7        3  "
      ]
     },
     "metadata": {},
     "output_type": "display_data"
    },
    {
     "name": "stdout",
     "output_type": "stream",
     "text": [
      "Полностью совпадающих строк: 0\n",
      "\n",
      "<class 'pandas.core.frame.DataFrame'>\n",
      "RangeIndex: 9 entries, 0 to 8\n",
      "Data columns (total 5 columns):\n",
      " #   Column      Non-Null Count  Dtype \n",
      "---  ------      --------------  ----- \n",
      " 0   hypothesis  9 non-null      object\n",
      " 1   reach       9 non-null      int64 \n",
      " 2   impact      9 non-null      int64 \n",
      " 3   confidence  9 non-null      int64 \n",
      " 4   efforts     9 non-null      int64 \n",
      "dtypes: int64(4), object(1)\n",
      "memory usage: 488.0+ bytes\n"
     ]
    },
    {
     "data": {
      "text/html": [
       "<div>\n",
       "<style scoped>\n",
       "    .dataframe tbody tr th:only-of-type {\n",
       "        vertical-align: middle;\n",
       "    }\n",
       "\n",
       "    .dataframe tbody tr th {\n",
       "        vertical-align: top;\n",
       "    }\n",
       "\n",
       "    .dataframe thead th {\n",
       "        text-align: right;\n",
       "    }\n",
       "</style>\n",
       "<table border=\"1\" class=\"dataframe\">\n",
       "  <thead>\n",
       "    <tr style=\"text-align: right;\">\n",
       "      <th></th>\n",
       "      <th>na_count</th>\n",
       "      <th>na_%</th>\n",
       "      <th>unique_count</th>\n",
       "    </tr>\n",
       "    <tr>\n",
       "      <th>column</th>\n",
       "      <th></th>\n",
       "      <th></th>\n",
       "      <th></th>\n",
       "    </tr>\n",
       "  </thead>\n",
       "  <tbody>\n",
       "    <tr>\n",
       "      <th>hypothesis</th>\n",
       "      <td>0</td>\n",
       "      <td>0.0</td>\n",
       "      <td>9</td>\n",
       "    </tr>\n",
       "    <tr>\n",
       "      <th>impact</th>\n",
       "      <td>0</td>\n",
       "      <td>0.0</td>\n",
       "      <td>7</td>\n",
       "    </tr>\n",
       "    <tr>\n",
       "      <th>confidence</th>\n",
       "      <td>0</td>\n",
       "      <td>0.0</td>\n",
       "      <td>7</td>\n",
       "    </tr>\n",
       "    <tr>\n",
       "      <th>reach</th>\n",
       "      <td>0</td>\n",
       "      <td>0.0</td>\n",
       "      <td>6</td>\n",
       "    </tr>\n",
       "    <tr>\n",
       "      <th>efforts</th>\n",
       "      <td>0</td>\n",
       "      <td>0.0</td>\n",
       "      <td>6</td>\n",
       "    </tr>\n",
       "  </tbody>\n",
       "</table>\n",
       "</div>"
      ],
      "text/plain": [
       "            na_count  na_%  unique_count\n",
       "column                                  \n",
       "hypothesis         0   0.0             9\n",
       "impact             0   0.0             7\n",
       "confidence         0   0.0             7\n",
       "reach              0   0.0             6\n",
       "efforts            0   0.0             6"
      ]
     },
     "metadata": {},
     "output_type": "display_data"
    },
    {
     "name": "stdout",
     "output_type": "stream",
     "text": [
      "Заполненных строк без пропусков: 100.00%\n"
     ]
    }
   ],
   "source": [
    "hypos = load('hypothesis')"
   ]
  },
  {
   "cell_type": "markdown",
   "id": "0640093e",
   "metadata": {},
   "source": [
    "Это короткая таблица, в которой нет пропусков, и все данные представлены в нужном виде. Можно сразу приступить к делу, и показывать таблицу целиком."
   ]
  },
  {
   "cell_type": "markdown",
   "id": "a766bf78",
   "metadata": {},
   "source": [
    "### Рейтинг ICE"
   ]
  },
  {
   "cell_type": "code",
   "execution_count": 14,
   "id": "024cfcdf",
   "metadata": {},
   "outputs": [
    {
     "data": {
      "text/html": [
       "<div>\n",
       "<style scoped>\n",
       "    .dataframe tbody tr th:only-of-type {\n",
       "        vertical-align: middle;\n",
       "    }\n",
       "\n",
       "    .dataframe tbody tr th {\n",
       "        vertical-align: top;\n",
       "    }\n",
       "\n",
       "    .dataframe thead th {\n",
       "        text-align: right;\n",
       "    }\n",
       "</style>\n",
       "<table border=\"1\" class=\"dataframe\">\n",
       "  <thead>\n",
       "    <tr style=\"text-align: right;\">\n",
       "      <th></th>\n",
       "      <th>hypothesis</th>\n",
       "      <th>reach</th>\n",
       "      <th>impact</th>\n",
       "      <th>confidence</th>\n",
       "      <th>efforts</th>\n",
       "      <th>ice</th>\n",
       "    </tr>\n",
       "  </thead>\n",
       "  <tbody>\n",
       "    <tr>\n",
       "      <th>8</th>\n",
       "      <td>Запустить акцию, дающую скидку на товар в день рождения</td>\n",
       "      <td>1</td>\n",
       "      <td>9</td>\n",
       "      <td>9</td>\n",
       "      <td>5</td>\n",
       "      <td>16.200000</td>\n",
       "    </tr>\n",
       "    <tr>\n",
       "      <th>0</th>\n",
       "      <td>Добавить два новых канала привлечения трафика, что позволит привлекать на 30% больше пользователей</td>\n",
       "      <td>3</td>\n",
       "      <td>10</td>\n",
       "      <td>8</td>\n",
       "      <td>6</td>\n",
       "      <td>13.333333</td>\n",
       "    </tr>\n",
       "    <tr>\n",
       "      <th>7</th>\n",
       "      <td>Добавить форму подписки на все основные страницы, чтобы собрать базу клиентов для email-рассылок</td>\n",
       "      <td>10</td>\n",
       "      <td>7</td>\n",
       "      <td>8</td>\n",
       "      <td>5</td>\n",
       "      <td>11.200000</td>\n",
       "    </tr>\n",
       "    <tr>\n",
       "      <th>6</th>\n",
       "      <td>Показать на главной странице баннеры с актуальными акциями и распродажами, чтобы увеличить конверсию</td>\n",
       "      <td>5</td>\n",
       "      <td>3</td>\n",
       "      <td>8</td>\n",
       "      <td>3</td>\n",
       "      <td>8.000000</td>\n",
       "    </tr>\n",
       "    <tr>\n",
       "      <th>2</th>\n",
       "      <td>Добавить блоки рекомендаций товаров на сайт интернет магазина, чтобы повысить конверсию и средний чек заказа</td>\n",
       "      <td>8</td>\n",
       "      <td>3</td>\n",
       "      <td>7</td>\n",
       "      <td>3</td>\n",
       "      <td>7.000000</td>\n",
       "    </tr>\n",
       "    <tr>\n",
       "      <th>1</th>\n",
       "      <td>Запустить собственную службу доставки, что сократит срок доставки заказов</td>\n",
       "      <td>2</td>\n",
       "      <td>5</td>\n",
       "      <td>4</td>\n",
       "      <td>10</td>\n",
       "      <td>2.000000</td>\n",
       "    </tr>\n",
       "    <tr>\n",
       "      <th>5</th>\n",
       "      <td>Добавить страницу отзывов клиентов о магазине, что позволит увеличить количество заказов</td>\n",
       "      <td>3</td>\n",
       "      <td>2</td>\n",
       "      <td>2</td>\n",
       "      <td>3</td>\n",
       "      <td>1.333333</td>\n",
       "    </tr>\n",
       "    <tr>\n",
       "      <th>3</th>\n",
       "      <td>Изменить структура категорий, что увеличит конверсию, т.к. пользователи быстрее найдут нужный товар</td>\n",
       "      <td>8</td>\n",
       "      <td>3</td>\n",
       "      <td>3</td>\n",
       "      <td>8</td>\n",
       "      <td>1.125000</td>\n",
       "    </tr>\n",
       "    <tr>\n",
       "      <th>4</th>\n",
       "      <td>Изменить цвет фона главной страницы, чтобы увеличить вовлеченность пользователей</td>\n",
       "      <td>3</td>\n",
       "      <td>1</td>\n",
       "      <td>1</td>\n",
       "      <td>1</td>\n",
       "      <td>1.000000</td>\n",
       "    </tr>\n",
       "  </tbody>\n",
       "</table>\n",
       "</div>"
      ],
      "text/plain": [
       "                                                                                                     hypothesis  \\\n",
       "8                                                       Запустить акцию, дающую скидку на товар в день рождения   \n",
       "0            Добавить два новых канала привлечения трафика, что позволит привлекать на 30% больше пользователей   \n",
       "7              Добавить форму подписки на все основные страницы, чтобы собрать базу клиентов для email-рассылок   \n",
       "6          Показать на главной странице баннеры с актуальными акциями и распродажами, чтобы увеличить конверсию   \n",
       "2  Добавить блоки рекомендаций товаров на сайт интернет магазина, чтобы повысить конверсию и средний чек заказа   \n",
       "1                                     Запустить собственную службу доставки, что сократит срок доставки заказов   \n",
       "5                      Добавить страницу отзывов клиентов о магазине, что позволит увеличить количество заказов   \n",
       "3           Изменить структура категорий, что увеличит конверсию, т.к. пользователи быстрее найдут нужный товар   \n",
       "4                              Изменить цвет фона главной страницы, чтобы увеличить вовлеченность пользователей   \n",
       "\n",
       "   reach  impact  confidence  efforts        ice  \n",
       "8      1       9           9        5  16.200000  \n",
       "0      3      10           8        6  13.333333  \n",
       "7     10       7           8        5  11.200000  \n",
       "6      5       3           8        3   8.000000  \n",
       "2      8       3           7        3   7.000000  \n",
       "1      2       5           4       10   2.000000  \n",
       "5      3       2           2        3   1.333333  \n",
       "3      8       3           3        8   1.125000  \n",
       "4      3       1           1        1   1.000000  "
      ]
     },
     "execution_count": 14,
     "metadata": {},
     "output_type": "execute_result"
    }
   ],
   "source": [
    "pd.options.display.max_colwidth = 210\n",
    "hypos['ice'] = hypos['impact'] * hypos['confidence'] / hypos['efforts']\n",
    "hypos.sort_values('ice', ascending=False)"
   ]
  },
  {
   "cell_type": "markdown",
   "id": "d4973a96",
   "metadata": {},
   "source": [
    "Приоритетной становится гипотеза номер **8**. Она с высокой уверенностью высоко поднимет показатели у вовлечённых пользователей, при этом усилия на проверку оценены как средние.\n",
    "\n",
    "Следующие по приоритету: гипотезы **0**, **7**, **6**, **2**."
   ]
  },
  {
   "cell_type": "markdown",
   "id": "9e1ecaef",
   "metadata": {},
   "source": [
    "### Рейтинг RICE"
   ]
  },
  {
   "cell_type": "code",
   "execution_count": 15,
   "id": "bbe77840",
   "metadata": {},
   "outputs": [
    {
     "data": {
      "text/html": [
       "<div>\n",
       "<style scoped>\n",
       "    .dataframe tbody tr th:only-of-type {\n",
       "        vertical-align: middle;\n",
       "    }\n",
       "\n",
       "    .dataframe tbody tr th {\n",
       "        vertical-align: top;\n",
       "    }\n",
       "\n",
       "    .dataframe thead th {\n",
       "        text-align: right;\n",
       "    }\n",
       "</style>\n",
       "<table border=\"1\" class=\"dataframe\">\n",
       "  <thead>\n",
       "    <tr style=\"text-align: right;\">\n",
       "      <th></th>\n",
       "      <th>hypothesis</th>\n",
       "      <th>reach</th>\n",
       "      <th>impact</th>\n",
       "      <th>confidence</th>\n",
       "      <th>efforts</th>\n",
       "      <th>ice</th>\n",
       "      <th>rice</th>\n",
       "    </tr>\n",
       "  </thead>\n",
       "  <tbody>\n",
       "    <tr>\n",
       "      <th>7</th>\n",
       "      <td>Добавить форму подписки на все основные страницы, чтобы собрать базу клиентов для email-рассылок</td>\n",
       "      <td>10</td>\n",
       "      <td>7</td>\n",
       "      <td>8</td>\n",
       "      <td>5</td>\n",
       "      <td>11.200000</td>\n",
       "      <td>112.0</td>\n",
       "    </tr>\n",
       "    <tr>\n",
       "      <th>2</th>\n",
       "      <td>Добавить блоки рекомендаций товаров на сайт интернет магазина, чтобы повысить конверсию и средний чек заказа</td>\n",
       "      <td>8</td>\n",
       "      <td>3</td>\n",
       "      <td>7</td>\n",
       "      <td>3</td>\n",
       "      <td>7.000000</td>\n",
       "      <td>56.0</td>\n",
       "    </tr>\n",
       "    <tr>\n",
       "      <th>0</th>\n",
       "      <td>Добавить два новых канала привлечения трафика, что позволит привлекать на 30% больше пользователей</td>\n",
       "      <td>3</td>\n",
       "      <td>10</td>\n",
       "      <td>8</td>\n",
       "      <td>6</td>\n",
       "      <td>13.333333</td>\n",
       "      <td>40.0</td>\n",
       "    </tr>\n",
       "    <tr>\n",
       "      <th>6</th>\n",
       "      <td>Показать на главной странице баннеры с актуальными акциями и распродажами, чтобы увеличить конверсию</td>\n",
       "      <td>5</td>\n",
       "      <td>3</td>\n",
       "      <td>8</td>\n",
       "      <td>3</td>\n",
       "      <td>8.000000</td>\n",
       "      <td>40.0</td>\n",
       "    </tr>\n",
       "    <tr>\n",
       "      <th>8</th>\n",
       "      <td>Запустить акцию, дающую скидку на товар в день рождения</td>\n",
       "      <td>1</td>\n",
       "      <td>9</td>\n",
       "      <td>9</td>\n",
       "      <td>5</td>\n",
       "      <td>16.200000</td>\n",
       "      <td>16.2</td>\n",
       "    </tr>\n",
       "    <tr>\n",
       "      <th>3</th>\n",
       "      <td>Изменить структура категорий, что увеличит конверсию, т.к. пользователи быстрее найдут нужный товар</td>\n",
       "      <td>8</td>\n",
       "      <td>3</td>\n",
       "      <td>3</td>\n",
       "      <td>8</td>\n",
       "      <td>1.125000</td>\n",
       "      <td>9.0</td>\n",
       "    </tr>\n",
       "    <tr>\n",
       "      <th>1</th>\n",
       "      <td>Запустить собственную службу доставки, что сократит срок доставки заказов</td>\n",
       "      <td>2</td>\n",
       "      <td>5</td>\n",
       "      <td>4</td>\n",
       "      <td>10</td>\n",
       "      <td>2.000000</td>\n",
       "      <td>4.0</td>\n",
       "    </tr>\n",
       "    <tr>\n",
       "      <th>5</th>\n",
       "      <td>Добавить страницу отзывов клиентов о магазине, что позволит увеличить количество заказов</td>\n",
       "      <td>3</td>\n",
       "      <td>2</td>\n",
       "      <td>2</td>\n",
       "      <td>3</td>\n",
       "      <td>1.333333</td>\n",
       "      <td>4.0</td>\n",
       "    </tr>\n",
       "    <tr>\n",
       "      <th>4</th>\n",
       "      <td>Изменить цвет фона главной страницы, чтобы увеличить вовлеченность пользователей</td>\n",
       "      <td>3</td>\n",
       "      <td>1</td>\n",
       "      <td>1</td>\n",
       "      <td>1</td>\n",
       "      <td>1.000000</td>\n",
       "      <td>3.0</td>\n",
       "    </tr>\n",
       "  </tbody>\n",
       "</table>\n",
       "</div>"
      ],
      "text/plain": [
       "                                                                                                     hypothesis  \\\n",
       "7              Добавить форму подписки на все основные страницы, чтобы собрать базу клиентов для email-рассылок   \n",
       "2  Добавить блоки рекомендаций товаров на сайт интернет магазина, чтобы повысить конверсию и средний чек заказа   \n",
       "0            Добавить два новых канала привлечения трафика, что позволит привлекать на 30% больше пользователей   \n",
       "6          Показать на главной странице баннеры с актуальными акциями и распродажами, чтобы увеличить конверсию   \n",
       "8                                                       Запустить акцию, дающую скидку на товар в день рождения   \n",
       "3           Изменить структура категорий, что увеличит конверсию, т.к. пользователи быстрее найдут нужный товар   \n",
       "1                                     Запустить собственную службу доставки, что сократит срок доставки заказов   \n",
       "5                      Добавить страницу отзывов клиентов о магазине, что позволит увеличить количество заказов   \n",
       "4                              Изменить цвет фона главной страницы, чтобы увеличить вовлеченность пользователей   \n",
       "\n",
       "   reach  impact  confidence  efforts        ice   rice  \n",
       "7     10       7           8        5  11.200000  112.0  \n",
       "2      8       3           7        3   7.000000   56.0  \n",
       "0      3      10           8        6  13.333333   40.0  \n",
       "6      5       3           8        3   8.000000   40.0  \n",
       "8      1       9           9        5  16.200000   16.2  \n",
       "3      8       3           3        8   1.125000    9.0  \n",
       "1      2       5           4       10   2.000000    4.0  \n",
       "5      3       2           2        3   1.333333    4.0  \n",
       "4      3       1           1        1   1.000000    3.0  "
      ]
     },
     "execution_count": 15,
     "metadata": {},
     "output_type": "execute_result"
    }
   ],
   "source": [
    "hypos['rice'] = hypos['reach'] * hypos['ice']\n",
    "hypos.sort_values('rice', ascending=False)"
   ]
  },
  {
   "cell_type": "markdown",
   "id": "4dfc1940",
   "metadata": {},
   "source": [
    "Приоритетная гипотеза - номер **7**. Уверенность в её эффективности выше среднего, улучшение метрик тоже ожидается выше среднего, усилия на проверку оцениваются как средние, и охват - на 10 баллов - ожидается, что гипотеза улучшит метрики для всех возможных пользователей.\n",
    "\n",
    "Далее по приоритету: гипотезы **2**, **0**, **6**.\n",
    "\n",
    "Гипотеза **8**, которая по методу `ICE` является приоритетной - в `RICE` теряет приоритет, поскольку по оценкам она поднимет метрики лишь у очень малой части пользователей."
   ]
  },
  {
   "cell_type": "markdown",
   "id": "f560e5f8",
   "metadata": {},
   "source": [
    "### Итоги приоритизации\n",
    "\n",
    "- По фреймворку `ICE` приоритетными являются гипотезы **8**, **0**, **7**, **6** и **2**.\n",
    "- По фреймворку `RICE` приоритетными являются гипотезы **7**, **2**, **0** и **6**.\n",
    "- Результаты различаются в зависимости от фреймворка, поскольку `RICE` учитывает охват пользователей (чего не учитывает `ICE`).\n",
    "- Предпочтительно использовать `RICE`.\n",
    "\n",
    "Список гипотез, которые следует проверить. Расставлены по приоритету `RICE`."
   ]
  },
  {
   "cell_type": "code",
   "execution_count": 16,
   "id": "c799b4ba",
   "metadata": {},
   "outputs": [
    {
     "name": "stdout",
     "output_type": "stream",
     "text": [
      "1. Добавить форму подписки на все основные страницы, чтобы собрать базу клиентов для email-рассылок\n",
      "2. Добавить блоки рекомендаций товаров на сайт интернет магазина, чтобы повысить конверсию и средний чек заказа\n",
      "3. Добавить два новых канала привлечения трафика, что позволит привлекать на 30% больше пользователей\n",
      "4. Показать на главной странице баннеры с актуальными акциями и распродажами, чтобы увеличить конверсию\n",
      "5. Запустить акцию, дающую скидку на товар в день рождения\n",
      "6. Изменить структура категорий, что увеличит конверсию, т.к. пользователи быстрее найдут нужный товар\n",
      "7. Запустить собственную службу доставки, что сократит срок доставки заказов\n",
      "8. Добавить страницу отзывов клиентов о магазине, что позволит увеличить количество заказов\n",
      "9. Изменить цвет фона главной страницы, чтобы увеличить вовлеченность пользователей\n"
     ]
    }
   ],
   "source": [
    "for number, hypo in enumerate(\n",
    "    hypos.sort_values('rice', ascending=False)['hypothesis']\n",
    "):\n",
    "    print(f'{number + 1}. {hypo}')"
   ]
  },
  {
   "cell_type": "markdown",
   "id": "a6c058dc",
   "metadata": {},
   "source": [
    "## Анализ результатов A/B-теста"
   ]
  },
  {
   "cell_type": "markdown",
   "id": "d41ebd7b",
   "metadata": {},
   "source": [
    "### Загрузка и подготовка данных"
   ]
  },
  {
   "cell_type": "code",
   "execution_count": 17,
   "id": "4937faef",
   "metadata": {},
   "outputs": [
    {
     "data": {
      "text/html": [
       "<div>\n",
       "<style scoped>\n",
       "    .dataframe tbody tr th:only-of-type {\n",
       "        vertical-align: middle;\n",
       "    }\n",
       "\n",
       "    .dataframe tbody tr th {\n",
       "        vertical-align: top;\n",
       "    }\n",
       "\n",
       "    .dataframe thead th {\n",
       "        text-align: right;\n",
       "    }\n",
       "</style>\n",
       "<table border=\"1\" class=\"dataframe\">\n",
       "  <thead>\n",
       "    <tr style=\"text-align: right;\">\n",
       "      <th></th>\n",
       "      <th>transaction_id</th>\n",
       "      <th>visitor_id</th>\n",
       "      <th>date</th>\n",
       "      <th>revenue</th>\n",
       "      <th>group</th>\n",
       "    </tr>\n",
       "  </thead>\n",
       "  <tbody>\n",
       "    <tr>\n",
       "      <th>996</th>\n",
       "      <td>1998112401</td>\n",
       "      <td>1900893596</td>\n",
       "      <td>2019-08-31</td>\n",
       "      <td>100</td>\n",
       "      <td>A</td>\n",
       "    </tr>\n",
       "    <tr>\n",
       "      <th>1095</th>\n",
       "      <td>2774755101</td>\n",
       "      <td>2366521417</td>\n",
       "      <td>2019-08-12</td>\n",
       "      <td>14000</td>\n",
       "      <td>B</td>\n",
       "    </tr>\n",
       "    <tr>\n",
       "      <th>741</th>\n",
       "      <td>2142284513</td>\n",
       "      <td>1438226485</td>\n",
       "      <td>2019-08-09</td>\n",
       "      <td>3354</td>\n",
       "      <td>B</td>\n",
       "    </tr>\n",
       "    <tr>\n",
       "      <th>767</th>\n",
       "      <td>1278695805</td>\n",
       "      <td>1614305549</td>\n",
       "      <td>2019-08-21</td>\n",
       "      <td>750</td>\n",
       "      <td>A</td>\n",
       "    </tr>\n",
       "    <tr>\n",
       "      <th>355</th>\n",
       "      <td>562977028</td>\n",
       "      <td>233773277</td>\n",
       "      <td>2019-08-24</td>\n",
       "      <td>6536</td>\n",
       "      <td>B</td>\n",
       "    </tr>\n",
       "  </tbody>\n",
       "</table>\n",
       "</div>"
      ],
      "text/plain": [
       "      transaction_id  visitor_id        date  revenue group\n",
       "996       1998112401  1900893596  2019-08-31      100     A\n",
       "1095      2774755101  2366521417  2019-08-12    14000     B\n",
       "741       2142284513  1438226485  2019-08-09     3354     B\n",
       "767       1278695805  1614305549  2019-08-21      750     A\n",
       "355        562977028   233773277  2019-08-24     6536     B"
      ]
     },
     "metadata": {},
     "output_type": "display_data"
    },
    {
     "name": "stdout",
     "output_type": "stream",
     "text": [
      "Полностью совпадающих строк: 0\n",
      "\n",
      "<class 'pandas.core.frame.DataFrame'>\n",
      "RangeIndex: 1197 entries, 0 to 1196\n",
      "Data columns (total 5 columns):\n",
      " #   Column          Non-Null Count  Dtype \n",
      "---  ------          --------------  ----- \n",
      " 0   transaction_id  1197 non-null   int64 \n",
      " 1   visitor_id      1197 non-null   int64 \n",
      " 2   date            1197 non-null   object\n",
      " 3   revenue         1197 non-null   int64 \n",
      " 4   group           1197 non-null   object\n",
      "dtypes: int64(3), object(2)\n",
      "memory usage: 46.9+ KB\n"
     ]
    },
    {
     "data": {
      "text/html": [
       "<div>\n",
       "<style scoped>\n",
       "    .dataframe tbody tr th:only-of-type {\n",
       "        vertical-align: middle;\n",
       "    }\n",
       "\n",
       "    .dataframe tbody tr th {\n",
       "        vertical-align: top;\n",
       "    }\n",
       "\n",
       "    .dataframe thead th {\n",
       "        text-align: right;\n",
       "    }\n",
       "</style>\n",
       "<table border=\"1\" class=\"dataframe\">\n",
       "  <thead>\n",
       "    <tr style=\"text-align: right;\">\n",
       "      <th></th>\n",
       "      <th>na_count</th>\n",
       "      <th>na_%</th>\n",
       "      <th>unique_count</th>\n",
       "    </tr>\n",
       "    <tr>\n",
       "      <th>column</th>\n",
       "      <th></th>\n",
       "      <th></th>\n",
       "      <th></th>\n",
       "    </tr>\n",
       "  </thead>\n",
       "  <tbody>\n",
       "    <tr>\n",
       "      <th>transaction_id</th>\n",
       "      <td>0</td>\n",
       "      <td>0.0</td>\n",
       "      <td>1197</td>\n",
       "    </tr>\n",
       "    <tr>\n",
       "      <th>visitor_id</th>\n",
       "      <td>0</td>\n",
       "      <td>0.0</td>\n",
       "      <td>1031</td>\n",
       "    </tr>\n",
       "    <tr>\n",
       "      <th>revenue</th>\n",
       "      <td>0</td>\n",
       "      <td>0.0</td>\n",
       "      <td>713</td>\n",
       "    </tr>\n",
       "    <tr>\n",
       "      <th>date</th>\n",
       "      <td>0</td>\n",
       "      <td>0.0</td>\n",
       "      <td>31</td>\n",
       "    </tr>\n",
       "    <tr>\n",
       "      <th>group</th>\n",
       "      <td>0</td>\n",
       "      <td>0.0</td>\n",
       "      <td>2</td>\n",
       "    </tr>\n",
       "  </tbody>\n",
       "</table>\n",
       "</div>"
      ],
      "text/plain": [
       "                na_count  na_%  unique_count\n",
       "column                                      \n",
       "transaction_id         0   0.0          1197\n",
       "visitor_id             0   0.0          1031\n",
       "revenue                0   0.0           713\n",
       "date                   0   0.0            31\n",
       "group                  0   0.0             2"
      ]
     },
     "metadata": {},
     "output_type": "display_data"
    },
    {
     "name": "stdout",
     "output_type": "stream",
     "text": [
      "Заполненных строк без пропусков: 100.00%\n"
     ]
    }
   ],
   "source": [
    "orders = load('orders')"
   ]
  },
  {
   "cell_type": "code",
   "execution_count": 18,
   "id": "8842abe0",
   "metadata": {},
   "outputs": [],
   "source": [
    "orders['date'] = pd.to_datetime(orders['date'])"
   ]
  },
  {
   "cell_type": "code",
   "execution_count": 19,
   "id": "7cc802c5",
   "metadata": {},
   "outputs": [
    {
     "data": {
      "text/html": [
       "<div>\n",
       "<style scoped>\n",
       "    .dataframe tbody tr th:only-of-type {\n",
       "        vertical-align: middle;\n",
       "    }\n",
       "\n",
       "    .dataframe tbody tr th {\n",
       "        vertical-align: top;\n",
       "    }\n",
       "\n",
       "    .dataframe thead th {\n",
       "        text-align: right;\n",
       "    }\n",
       "</style>\n",
       "<table border=\"1\" class=\"dataframe\">\n",
       "  <thead>\n",
       "    <tr style=\"text-align: right;\">\n",
       "      <th></th>\n",
       "      <th>date</th>\n",
       "      <th>group</th>\n",
       "      <th>visitors</th>\n",
       "    </tr>\n",
       "  </thead>\n",
       "  <tbody>\n",
       "    <tr>\n",
       "      <th>29</th>\n",
       "      <td>2019-08-30</td>\n",
       "      <td>A</td>\n",
       "      <td>490</td>\n",
       "    </tr>\n",
       "    <tr>\n",
       "      <th>14</th>\n",
       "      <td>2019-08-15</td>\n",
       "      <td>A</td>\n",
       "      <td>628</td>\n",
       "    </tr>\n",
       "    <tr>\n",
       "      <th>24</th>\n",
       "      <td>2019-08-25</td>\n",
       "      <td>A</td>\n",
       "      <td>621</td>\n",
       "    </tr>\n",
       "    <tr>\n",
       "      <th>43</th>\n",
       "      <td>2019-08-13</td>\n",
       "      <td>B</td>\n",
       "      <td>769</td>\n",
       "    </tr>\n",
       "    <tr>\n",
       "      <th>48</th>\n",
       "      <td>2019-08-18</td>\n",
       "      <td>B</td>\n",
       "      <td>737</td>\n",
       "    </tr>\n",
       "  </tbody>\n",
       "</table>\n",
       "</div>"
      ],
      "text/plain": [
       "          date group  visitors\n",
       "29  2019-08-30     A       490\n",
       "14  2019-08-15     A       628\n",
       "24  2019-08-25     A       621\n",
       "43  2019-08-13     B       769\n",
       "48  2019-08-18     B       737"
      ]
     },
     "metadata": {},
     "output_type": "display_data"
    },
    {
     "name": "stdout",
     "output_type": "stream",
     "text": [
      "Полностью совпадающих строк: 0\n",
      "\n",
      "<class 'pandas.core.frame.DataFrame'>\n",
      "RangeIndex: 62 entries, 0 to 61\n",
      "Data columns (total 3 columns):\n",
      " #   Column    Non-Null Count  Dtype \n",
      "---  ------    --------------  ----- \n",
      " 0   date      62 non-null     object\n",
      " 1   group     62 non-null     object\n",
      " 2   visitors  62 non-null     int64 \n",
      "dtypes: int64(1), object(2)\n",
      "memory usage: 1.6+ KB\n"
     ]
    },
    {
     "data": {
      "text/html": [
       "<div>\n",
       "<style scoped>\n",
       "    .dataframe tbody tr th:only-of-type {\n",
       "        vertical-align: middle;\n",
       "    }\n",
       "\n",
       "    .dataframe tbody tr th {\n",
       "        vertical-align: top;\n",
       "    }\n",
       "\n",
       "    .dataframe thead th {\n",
       "        text-align: right;\n",
       "    }\n",
       "</style>\n",
       "<table border=\"1\" class=\"dataframe\">\n",
       "  <thead>\n",
       "    <tr style=\"text-align: right;\">\n",
       "      <th></th>\n",
       "      <th>na_count</th>\n",
       "      <th>na_%</th>\n",
       "      <th>unique_count</th>\n",
       "    </tr>\n",
       "    <tr>\n",
       "      <th>column</th>\n",
       "      <th></th>\n",
       "      <th></th>\n",
       "      <th></th>\n",
       "    </tr>\n",
       "  </thead>\n",
       "  <tbody>\n",
       "    <tr>\n",
       "      <th>visitors</th>\n",
       "      <td>0</td>\n",
       "      <td>0.0</td>\n",
       "      <td>58</td>\n",
       "    </tr>\n",
       "    <tr>\n",
       "      <th>date</th>\n",
       "      <td>0</td>\n",
       "      <td>0.0</td>\n",
       "      <td>31</td>\n",
       "    </tr>\n",
       "    <tr>\n",
       "      <th>group</th>\n",
       "      <td>0</td>\n",
       "      <td>0.0</td>\n",
       "      <td>2</td>\n",
       "    </tr>\n",
       "  </tbody>\n",
       "</table>\n",
       "</div>"
      ],
      "text/plain": [
       "          na_count  na_%  unique_count\n",
       "column                                \n",
       "visitors         0   0.0            58\n",
       "date             0   0.0            31\n",
       "group            0   0.0             2"
      ]
     },
     "metadata": {},
     "output_type": "display_data"
    },
    {
     "name": "stdout",
     "output_type": "stream",
     "text": [
      "Заполненных строк без пропусков: 100.00%\n"
     ]
    }
   ],
   "source": [
    "visitors = load('visitors')"
   ]
  },
  {
   "cell_type": "code",
   "execution_count": 20,
   "id": "ab1dd4e5",
   "metadata": {},
   "outputs": [],
   "source": [
    "visitors['date'] = pd.to_datetime(visitors['date'])"
   ]
  },
  {
   "cell_type": "markdown",
   "id": "edb9483c",
   "metadata": {},
   "source": [
    "**Итого**:\n",
    "- все данные заполнены, без повторов и очевидных ошибок;\n",
    "- все данные приведены к подходящим типам."
   ]
  },
  {
   "cell_type": "markdown",
   "id": "2a8b1a8d",
   "metadata": {},
   "source": [
    "### Сводные таблицы с текущими и накопленными величинами\n",
    "\n",
    "Поставленная перед нами цель - увеличить выручку. Проверяя гипотезу, мы в первую очередь оцениваем выручку. В том числе - выручку за день. Выручка - это сумма оплат отдельных заказов.\n",
    "\n",
    "Таким образом, выносить решение будем, сравнивая суммы, приходящиеся в среднем на одного посетителя из группы за определённый день. Чем больше выручка с посетителя - тем лучше.\n",
    "\n",
    "Это отношение можем назвать конверсией. Посетители конвертируются в выручку.\n",
    "\n",
    "С дневной выручкой связаны также две метрики: количество заказов в день и средний чек за день. Рассчитаем их также."
   ]
  },
  {
   "cell_type": "markdown",
   "id": "f2addf8a",
   "metadata": {},
   "source": [
    "#### Кто попал в обе группы"
   ]
  },
  {
   "cell_type": "code",
   "execution_count": 21,
   "id": "1f06ff37",
   "metadata": {},
   "outputs": [],
   "source": [
    "dupes = orders.loc[orders['group'] == 'A', 'visitor_id'].isin(\n",
    "    orders.loc[orders['group'] == 'B', 'visitor_id']\n",
    ")"
   ]
  },
  {
   "cell_type": "code",
   "execution_count": 22,
   "id": "824c8d72",
   "metadata": {
    "scrolled": false
   },
   "outputs": [
    {
     "data": {
      "text/html": [
       "<div>\n",
       "<style scoped>\n",
       "    .dataframe tbody tr th:only-of-type {\n",
       "        vertical-align: middle;\n",
       "    }\n",
       "\n",
       "    .dataframe tbody tr th {\n",
       "        vertical-align: top;\n",
       "    }\n",
       "\n",
       "    .dataframe thead th {\n",
       "        text-align: right;\n",
       "    }\n",
       "</style>\n",
       "<table border=\"1\" class=\"dataframe\">\n",
       "  <thead>\n",
       "    <tr style=\"text-align: right;\">\n",
       "      <th></th>\n",
       "      <th>transaction_id</th>\n",
       "      <th>visitor_id</th>\n",
       "      <th>date</th>\n",
       "      <th>revenue</th>\n",
       "      <th>group</th>\n",
       "    </tr>\n",
       "  </thead>\n",
       "  <tbody>\n",
       "    <tr>\n",
       "      <th>1191</th>\n",
       "      <td>3592955527</td>\n",
       "      <td>608641596</td>\n",
       "      <td>2019-08-14</td>\n",
       "      <td>16490</td>\n",
       "      <td>B</td>\n",
       "    </tr>\n",
       "    <tr>\n",
       "      <th>1192</th>\n",
       "      <td>2662137336</td>\n",
       "      <td>3733762160</td>\n",
       "      <td>2019-08-14</td>\n",
       "      <td>6490</td>\n",
       "      <td>B</td>\n",
       "    </tr>\n",
       "    <tr>\n",
       "      <th>1193</th>\n",
       "      <td>2203539145</td>\n",
       "      <td>370388673</td>\n",
       "      <td>2019-08-14</td>\n",
       "      <td>3190</td>\n",
       "      <td>A</td>\n",
       "    </tr>\n",
       "    <tr>\n",
       "      <th>1194</th>\n",
       "      <td>1807773912</td>\n",
       "      <td>573423106</td>\n",
       "      <td>2019-08-14</td>\n",
       "      <td>10550</td>\n",
       "      <td>A</td>\n",
       "    </tr>\n",
       "    <tr>\n",
       "      <th>1196</th>\n",
       "      <td>3936777065</td>\n",
       "      <td>2108080724</td>\n",
       "      <td>2019-08-15</td>\n",
       "      <td>202740</td>\n",
       "      <td>B</td>\n",
       "    </tr>\n",
       "  </tbody>\n",
       "</table>\n",
       "</div>"
      ],
      "text/plain": [
       "      transaction_id  visitor_id       date  revenue group\n",
       "1191      3592955527   608641596 2019-08-14    16490     B\n",
       "1192      2662137336  3733762160 2019-08-14     6490     B\n",
       "1193      2203539145   370388673 2019-08-14     3190     A\n",
       "1194      1807773912   573423106 2019-08-14    10550     A\n",
       "1196      3936777065  2108080724 2019-08-15   202740     B"
      ]
     },
     "execution_count": 22,
     "metadata": {},
     "output_type": "execute_result"
    }
   ],
   "source": [
    "orders = orders.drop(dupes[dupes].index)\n",
    "\n",
    "orders.tail(5)"
   ]
  },
  {
   "cell_type": "markdown",
   "id": "8e6b1d73",
   "metadata": {},
   "source": [
    "#### Группа A (эталонная)"
   ]
  },
  {
   "cell_type": "markdown",
   "id": "fe095222",
   "metadata": {},
   "source": [
    "##### Посетители\n",
    "\n",
    "Описание таблицы visitors сформулировано так, что можно считать, что она содержит именно количество уникальных посетителей за сутки. Предполагаем, что если пользователь обращался к магазину несколько раз за день - он учтён как один посетитель.\n",
    "\n",
    "Соберём данные с накоплением."
   ]
  },
  {
   "cell_type": "code",
   "execution_count": 23,
   "id": "681194f3",
   "metadata": {},
   "outputs": [],
   "source": [
    "visitors_a = (\n",
    "    visitors[visitors['group'] == 'A']\n",
    "    .sort_values('date')\n",
    "    .drop(columns='group')\n",
    "    .reset_index(drop=True)\n",
    ")"
   ]
  },
  {
   "cell_type": "code",
   "execution_count": 24,
   "id": "c2533c20",
   "metadata": {},
   "outputs": [
    {
     "data": {
      "text/html": [
       "<div>\n",
       "<style scoped>\n",
       "    .dataframe tbody tr th:only-of-type {\n",
       "        vertical-align: middle;\n",
       "    }\n",
       "\n",
       "    .dataframe tbody tr th {\n",
       "        vertical-align: top;\n",
       "    }\n",
       "\n",
       "    .dataframe thead th {\n",
       "        text-align: right;\n",
       "    }\n",
       "</style>\n",
       "<table border=\"1\" class=\"dataframe\">\n",
       "  <thead>\n",
       "    <tr style=\"text-align: right;\">\n",
       "      <th></th>\n",
       "      <th>date</th>\n",
       "      <th>visitors</th>\n",
       "    </tr>\n",
       "  </thead>\n",
       "  <tbody>\n",
       "    <tr>\n",
       "      <th>26</th>\n",
       "      <td>2019-08-27</td>\n",
       "      <td>16376</td>\n",
       "    </tr>\n",
       "    <tr>\n",
       "      <th>27</th>\n",
       "      <td>2019-08-28</td>\n",
       "      <td>16970</td>\n",
       "    </tr>\n",
       "    <tr>\n",
       "      <th>28</th>\n",
       "      <td>2019-08-29</td>\n",
       "      <td>17547</td>\n",
       "    </tr>\n",
       "    <tr>\n",
       "      <th>29</th>\n",
       "      <td>2019-08-30</td>\n",
       "      <td>18037</td>\n",
       "    </tr>\n",
       "    <tr>\n",
       "      <th>30</th>\n",
       "      <td>2019-08-31</td>\n",
       "      <td>18736</td>\n",
       "    </tr>\n",
       "  </tbody>\n",
       "</table>\n",
       "</div>"
      ],
      "text/plain": [
       "         date  visitors\n",
       "26 2019-08-27     16376\n",
       "27 2019-08-28     16970\n",
       "28 2019-08-29     17547\n",
       "29 2019-08-30     18037\n",
       "30 2019-08-31     18736"
      ]
     },
     "execution_count": 24,
     "metadata": {},
     "output_type": "execute_result"
    }
   ],
   "source": [
    "group_a = visitors_a.apply(\n",
    "    lambda row: visitors_a[visitors_a['date'] <= row['date']].agg(\n",
    "        {'date': 'max', 'visitors': 'sum'}\n",
    "    ),\n",
    "    axis=1,\n",
    ")\n",
    "\n",
    "group_a.tail()"
   ]
  },
  {
   "cell_type": "markdown",
   "id": "5350b930",
   "metadata": {},
   "source": [
    "##### Заказы"
   ]
  },
  {
   "cell_type": "code",
   "execution_count": 25,
   "id": "ddd6145c",
   "metadata": {},
   "outputs": [
    {
     "data": {
      "text/html": [
       "<div>\n",
       "<style scoped>\n",
       "    .dataframe tbody tr th:only-of-type {\n",
       "        vertical-align: middle;\n",
       "    }\n",
       "\n",
       "    .dataframe tbody tr th {\n",
       "        vertical-align: top;\n",
       "    }\n",
       "\n",
       "    .dataframe thead th {\n",
       "        text-align: right;\n",
       "    }\n",
       "</style>\n",
       "<table border=\"1\" class=\"dataframe\">\n",
       "  <thead>\n",
       "    <tr style=\"text-align: right;\">\n",
       "      <th></th>\n",
       "      <th>transaction_id</th>\n",
       "      <th>visitor_id</th>\n",
       "      <th>date</th>\n",
       "      <th>revenue</th>\n",
       "    </tr>\n",
       "  </thead>\n",
       "  <tbody>\n",
       "    <tr>\n",
       "      <th>1017</th>\n",
       "      <td>1729012139</td>\n",
       "      <td>3613900590</td>\n",
       "      <td>2019-08-31</td>\n",
       "      <td>13070</td>\n",
       "    </tr>\n",
       "    <tr>\n",
       "      <th>1022</th>\n",
       "      <td>2411823395</td>\n",
       "      <td>3788724847</td>\n",
       "      <td>2019-08-31</td>\n",
       "      <td>2610</td>\n",
       "    </tr>\n",
       "    <tr>\n",
       "      <th>1025</th>\n",
       "      <td>4180327962</td>\n",
       "      <td>2152549680</td>\n",
       "      <td>2019-08-31</td>\n",
       "      <td>3404</td>\n",
       "    </tr>\n",
       "    <tr>\n",
       "      <th>996</th>\n",
       "      <td>1998112401</td>\n",
       "      <td>1900893596</td>\n",
       "      <td>2019-08-31</td>\n",
       "      <td>100</td>\n",
       "    </tr>\n",
       "    <tr>\n",
       "      <th>1014</th>\n",
       "      <td>3784371772</td>\n",
       "      <td>551106609</td>\n",
       "      <td>2019-08-31</td>\n",
       "      <td>9800</td>\n",
       "    </tr>\n",
       "  </tbody>\n",
       "</table>\n",
       "</div>"
      ],
      "text/plain": [
       "      transaction_id  visitor_id       date  revenue\n",
       "1017      1729012139  3613900590 2019-08-31    13070\n",
       "1022      2411823395  3788724847 2019-08-31     2610\n",
       "1025      4180327962  2152549680 2019-08-31     3404\n",
       "996       1998112401  1900893596 2019-08-31      100\n",
       "1014      3784371772   551106609 2019-08-31     9800"
      ]
     },
     "execution_count": 25,
     "metadata": {},
     "output_type": "execute_result"
    }
   ],
   "source": [
    "orders_a = (\n",
    "    orders[orders['group'] == 'A'].drop(columns=['group']).sort_values('date')\n",
    ")\n",
    "orders_a.tail(5)"
   ]
  },
  {
   "cell_type": "code",
   "execution_count": 26,
   "id": "cdc987a8",
   "metadata": {},
   "outputs": [
    {
     "data": {
      "text/html": [
       "<div>\n",
       "<style scoped>\n",
       "    .dataframe tbody tr th:only-of-type {\n",
       "        vertical-align: middle;\n",
       "    }\n",
       "\n",
       "    .dataframe tbody tr th {\n",
       "        vertical-align: top;\n",
       "    }\n",
       "\n",
       "    .dataframe thead th {\n",
       "        text-align: right;\n",
       "    }\n",
       "</style>\n",
       "<table border=\"1\" class=\"dataframe\">\n",
       "  <thead>\n",
       "    <tr style=\"text-align: right;\">\n",
       "      <th></th>\n",
       "      <th>date</th>\n",
       "      <th>orders</th>\n",
       "      <th>revenue</th>\n",
       "    </tr>\n",
       "  </thead>\n",
       "  <tbody>\n",
       "    <tr>\n",
       "      <th>26</th>\n",
       "      <td>2019-08-27</td>\n",
       "      <td>23</td>\n",
       "      <td>185350</td>\n",
       "    </tr>\n",
       "    <tr>\n",
       "      <th>27</th>\n",
       "      <td>2019-08-28</td>\n",
       "      <td>15</td>\n",
       "      <td>96462</td>\n",
       "    </tr>\n",
       "    <tr>\n",
       "      <th>28</th>\n",
       "      <td>2019-08-29</td>\n",
       "      <td>17</td>\n",
       "      <td>196300</td>\n",
       "    </tr>\n",
       "    <tr>\n",
       "      <th>29</th>\n",
       "      <td>2019-08-30</td>\n",
       "      <td>9</td>\n",
       "      <td>78180</td>\n",
       "    </tr>\n",
       "    <tr>\n",
       "      <th>30</th>\n",
       "      <td>2019-08-31</td>\n",
       "      <td>8</td>\n",
       "      <td>53243</td>\n",
       "    </tr>\n",
       "  </tbody>\n",
       "</table>\n",
       "</div>"
      ],
      "text/plain": [
       "         date  orders  revenue\n",
       "26 2019-08-27      23   185350\n",
       "27 2019-08-28      15    96462\n",
       "28 2019-08-29      17   196300\n",
       "29 2019-08-30       9    78180\n",
       "30 2019-08-31       8    53243"
      ]
     },
     "execution_count": 26,
     "metadata": {},
     "output_type": "execute_result"
    }
   ],
   "source": [
    "orders_a = (\n",
    "    orders_a.groupby('date', as_index=False)\n",
    "    .agg(\n",
    "        {\n",
    "            'transaction_id': 'nunique',\n",
    "            'revenue': 'sum',\n",
    "        }\n",
    "    )\n",
    "    .rename(columns={'transaction_id': 'orders'})\n",
    ")\n",
    "\n",
    "orders_a.tail(5)"
   ]
  },
  {
   "cell_type": "code",
   "execution_count": 27,
   "id": "c6783010",
   "metadata": {},
   "outputs": [
    {
     "data": {
      "text/html": [
       "<div>\n",
       "<style scoped>\n",
       "    .dataframe tbody tr th:only-of-type {\n",
       "        vertical-align: middle;\n",
       "    }\n",
       "\n",
       "    .dataframe tbody tr th {\n",
       "        vertical-align: top;\n",
       "    }\n",
       "\n",
       "    .dataframe thead th {\n",
       "        text-align: right;\n",
       "    }\n",
       "</style>\n",
       "<table border=\"1\" class=\"dataframe\">\n",
       "  <thead>\n",
       "    <tr style=\"text-align: right;\">\n",
       "      <th></th>\n",
       "      <th>date</th>\n",
       "      <th>visitors</th>\n",
       "      <th>orders</th>\n",
       "    </tr>\n",
       "  </thead>\n",
       "  <tbody>\n",
       "    <tr>\n",
       "      <th>26</th>\n",
       "      <td>2019-08-27</td>\n",
       "      <td>16376</td>\n",
       "      <td>419</td>\n",
       "    </tr>\n",
       "    <tr>\n",
       "      <th>27</th>\n",
       "      <td>2019-08-28</td>\n",
       "      <td>16970</td>\n",
       "      <td>434</td>\n",
       "    </tr>\n",
       "    <tr>\n",
       "      <th>28</th>\n",
       "      <td>2019-08-29</td>\n",
       "      <td>17547</td>\n",
       "      <td>451</td>\n",
       "    </tr>\n",
       "    <tr>\n",
       "      <th>29</th>\n",
       "      <td>2019-08-30</td>\n",
       "      <td>18037</td>\n",
       "      <td>460</td>\n",
       "    </tr>\n",
       "    <tr>\n",
       "      <th>30</th>\n",
       "      <td>2019-08-31</td>\n",
       "      <td>18736</td>\n",
       "      <td>468</td>\n",
       "    </tr>\n",
       "  </tbody>\n",
       "</table>\n",
       "</div>"
      ],
      "text/plain": [
       "         date  visitors  orders\n",
       "26 2019-08-27     16376     419\n",
       "27 2019-08-28     16970     434\n",
       "28 2019-08-29     17547     451\n",
       "29 2019-08-30     18037     460\n",
       "30 2019-08-31     18736     468"
      ]
     },
     "execution_count": 27,
     "metadata": {},
     "output_type": "execute_result"
    }
   ],
   "source": [
    "group_a['orders'] = orders_a.apply(\n",
    "    lambda row: orders_a[orders_a['date'] <= row['date']].agg(\n",
    "        {'date': 'max', 'orders': 'sum'}\n",
    "    ),\n",
    "    axis=1,\n",
    ")['orders']\n",
    "\n",
    "group_a.tail()"
   ]
  },
  {
   "cell_type": "code",
   "execution_count": 28,
   "id": "58a204c3",
   "metadata": {},
   "outputs": [
    {
     "data": {
      "text/html": [
       "<div>\n",
       "<style scoped>\n",
       "    .dataframe tbody tr th:only-of-type {\n",
       "        vertical-align: middle;\n",
       "    }\n",
       "\n",
       "    .dataframe tbody tr th {\n",
       "        vertical-align: top;\n",
       "    }\n",
       "\n",
       "    .dataframe thead th {\n",
       "        text-align: right;\n",
       "    }\n",
       "</style>\n",
       "<table border=\"1\" class=\"dataframe\">\n",
       "  <thead>\n",
       "    <tr style=\"text-align: right;\">\n",
       "      <th></th>\n",
       "      <th>date</th>\n",
       "      <th>visitors</th>\n",
       "      <th>orders</th>\n",
       "      <th>revenue</th>\n",
       "    </tr>\n",
       "  </thead>\n",
       "  <tbody>\n",
       "    <tr>\n",
       "      <th>26</th>\n",
       "      <td>2019-08-27</td>\n",
       "      <td>16376</td>\n",
       "      <td>419</td>\n",
       "      <td>2940471</td>\n",
       "    </tr>\n",
       "    <tr>\n",
       "      <th>27</th>\n",
       "      <td>2019-08-28</td>\n",
       "      <td>16970</td>\n",
       "      <td>434</td>\n",
       "      <td>3036933</td>\n",
       "    </tr>\n",
       "    <tr>\n",
       "      <th>28</th>\n",
       "      <td>2019-08-29</td>\n",
       "      <td>17547</td>\n",
       "      <td>451</td>\n",
       "      <td>3233233</td>\n",
       "    </tr>\n",
       "    <tr>\n",
       "      <th>29</th>\n",
       "      <td>2019-08-30</td>\n",
       "      <td>18037</td>\n",
       "      <td>460</td>\n",
       "      <td>3311413</td>\n",
       "    </tr>\n",
       "    <tr>\n",
       "      <th>30</th>\n",
       "      <td>2019-08-31</td>\n",
       "      <td>18736</td>\n",
       "      <td>468</td>\n",
       "      <td>3364656</td>\n",
       "    </tr>\n",
       "  </tbody>\n",
       "</table>\n",
       "</div>"
      ],
      "text/plain": [
       "         date  visitors  orders  revenue\n",
       "26 2019-08-27     16376     419  2940471\n",
       "27 2019-08-28     16970     434  3036933\n",
       "28 2019-08-29     17547     451  3233233\n",
       "29 2019-08-30     18037     460  3311413\n",
       "30 2019-08-31     18736     468  3364656"
      ]
     },
     "execution_count": 28,
     "metadata": {},
     "output_type": "execute_result"
    }
   ],
   "source": [
    "group_a['revenue'] = orders_a.apply(\n",
    "    lambda row: orders_a[orders_a['date'] <= row['date']].agg(\n",
    "        {'date': 'max', 'revenue': 'sum'}\n",
    "    ),\n",
    "    axis=1,\n",
    ")['revenue']\n",
    "\n",
    "group_a.tail()"
   ]
  },
  {
   "cell_type": "code",
   "execution_count": 29,
   "id": "3f353fdf",
   "metadata": {
    "scrolled": false
   },
   "outputs": [
    {
     "data": {
      "text/html": [
       "<div>\n",
       "<style scoped>\n",
       "    .dataframe tbody tr th:only-of-type {\n",
       "        vertical-align: middle;\n",
       "    }\n",
       "\n",
       "    .dataframe tbody tr th {\n",
       "        vertical-align: top;\n",
       "    }\n",
       "\n",
       "    .dataframe thead th {\n",
       "        text-align: right;\n",
       "    }\n",
       "</style>\n",
       "<table border=\"1\" class=\"dataframe\">\n",
       "  <thead>\n",
       "    <tr style=\"text-align: right;\">\n",
       "      <th></th>\n",
       "      <th>visitors</th>\n",
       "      <th>orders</th>\n",
       "      <th>revenue</th>\n",
       "      <th>revenue_per_visitor</th>\n",
       "      <th>revenue_per_order</th>\n",
       "    </tr>\n",
       "    <tr>\n",
       "      <th>date</th>\n",
       "      <th></th>\n",
       "      <th></th>\n",
       "      <th></th>\n",
       "      <th></th>\n",
       "      <th></th>\n",
       "    </tr>\n",
       "  </thead>\n",
       "  <tbody>\n",
       "    <tr>\n",
       "      <th>2019-08-27</th>\n",
       "      <td>16376</td>\n",
       "      <td>419</td>\n",
       "      <td>2940471</td>\n",
       "      <td>179.559783</td>\n",
       "      <td>7017.830549</td>\n",
       "    </tr>\n",
       "    <tr>\n",
       "      <th>2019-08-28</th>\n",
       "      <td>16970</td>\n",
       "      <td>434</td>\n",
       "      <td>3036933</td>\n",
       "      <td>178.958928</td>\n",
       "      <td>6997.541475</td>\n",
       "    </tr>\n",
       "    <tr>\n",
       "      <th>2019-08-29</th>\n",
       "      <td>17547</td>\n",
       "      <td>451</td>\n",
       "      <td>3233233</td>\n",
       "      <td>184.261298</td>\n",
       "      <td>7169.031042</td>\n",
       "    </tr>\n",
       "    <tr>\n",
       "      <th>2019-08-30</th>\n",
       "      <td>18037</td>\n",
       "      <td>460</td>\n",
       "      <td>3311413</td>\n",
       "      <td>183.590009</td>\n",
       "      <td>7198.723913</td>\n",
       "    </tr>\n",
       "    <tr>\n",
       "      <th>2019-08-31</th>\n",
       "      <td>18736</td>\n",
       "      <td>468</td>\n",
       "      <td>3364656</td>\n",
       "      <td>179.582408</td>\n",
       "      <td>7189.435897</td>\n",
       "    </tr>\n",
       "  </tbody>\n",
       "</table>\n",
       "</div>"
      ],
      "text/plain": [
       "            visitors  orders  revenue  revenue_per_visitor  revenue_per_order\n",
       "date                                                                         \n",
       "2019-08-27     16376     419  2940471           179.559783        7017.830549\n",
       "2019-08-28     16970     434  3036933           178.958928        6997.541475\n",
       "2019-08-29     17547     451  3233233           184.261298        7169.031042\n",
       "2019-08-30     18037     460  3311413           183.590009        7198.723913\n",
       "2019-08-31     18736     468  3364656           179.582408        7189.435897"
      ]
     },
     "metadata": {},
     "output_type": "display_data"
    }
   ],
   "source": [
    "group_a['revenue_per_visitor'] = group_a['revenue'] / group_a['visitors']\n",
    "group_a['revenue_per_order'] = group_a['revenue'] / group_a['orders']\n",
    "group_a = group_a.set_index('date')\n",
    "display(group_a.tail(5))"
   ]
  },
  {
   "cell_type": "markdown",
   "id": "aa9237ef",
   "metadata": {},
   "source": [
    "#### Группа B"
   ]
  },
  {
   "cell_type": "code",
   "execution_count": 30,
   "id": "ce4c12d9",
   "metadata": {
    "scrolled": false
   },
   "outputs": [
    {
     "data": {
      "text/html": [
       "<div>\n",
       "<style scoped>\n",
       "    .dataframe tbody tr th:only-of-type {\n",
       "        vertical-align: middle;\n",
       "    }\n",
       "\n",
       "    .dataframe tbody tr th {\n",
       "        vertical-align: top;\n",
       "    }\n",
       "\n",
       "    .dataframe thead th {\n",
       "        text-align: right;\n",
       "    }\n",
       "</style>\n",
       "<table border=\"1\" class=\"dataframe\">\n",
       "  <thead>\n",
       "    <tr style=\"text-align: right;\">\n",
       "      <th></th>\n",
       "      <th>visitors</th>\n",
       "      <th>orders</th>\n",
       "      <th>revenue</th>\n",
       "      <th>revenue_per_visitor</th>\n",
       "      <th>revenue_per_order</th>\n",
       "    </tr>\n",
       "    <tr>\n",
       "      <th>date</th>\n",
       "      <th></th>\n",
       "      <th></th>\n",
       "      <th></th>\n",
       "      <th></th>\n",
       "      <th></th>\n",
       "    </tr>\n",
       "  </thead>\n",
       "  <tbody>\n",
       "    <tr>\n",
       "      <th>2019-08-27</th>\n",
       "      <td>16523</td>\n",
       "      <td>548</td>\n",
       "      <td>5232260</td>\n",
       "      <td>316.665254</td>\n",
       "      <td>9547.919708</td>\n",
       "    </tr>\n",
       "    <tr>\n",
       "      <th>2019-08-28</th>\n",
       "      <td>17177</td>\n",
       "      <td>576</td>\n",
       "      <td>5328268</td>\n",
       "      <td>310.197823</td>\n",
       "      <td>9250.465278</td>\n",
       "    </tr>\n",
       "    <tr>\n",
       "      <th>2019-08-29</th>\n",
       "      <td>17708</td>\n",
       "      <td>596</td>\n",
       "      <td>5559398</td>\n",
       "      <td>313.948385</td>\n",
       "      <td>9327.848993</td>\n",
       "    </tr>\n",
       "    <tr>\n",
       "      <th>2019-08-30</th>\n",
       "      <td>18198</td>\n",
       "      <td>620</td>\n",
       "      <td>5774631</td>\n",
       "      <td>317.322288</td>\n",
       "      <td>9313.920968</td>\n",
       "    </tr>\n",
       "    <tr>\n",
       "      <th>2019-08-31</th>\n",
       "      <td>18916</td>\n",
       "      <td>640</td>\n",
       "      <td>5907760</td>\n",
       "      <td>312.315500</td>\n",
       "      <td>9230.875000</td>\n",
       "    </tr>\n",
       "  </tbody>\n",
       "</table>\n",
       "</div>"
      ],
      "text/plain": [
       "            visitors  orders  revenue  revenue_per_visitor  revenue_per_order\n",
       "date                                                                         \n",
       "2019-08-27     16523     548  5232260           316.665254        9547.919708\n",
       "2019-08-28     17177     576  5328268           310.197823        9250.465278\n",
       "2019-08-29     17708     596  5559398           313.948385        9327.848993\n",
       "2019-08-30     18198     620  5774631           317.322288        9313.920968\n",
       "2019-08-31     18916     640  5907760           312.315500        9230.875000"
      ]
     },
     "execution_count": 30,
     "metadata": {},
     "output_type": "execute_result"
    }
   ],
   "source": [
    "visitors_b = (\n",
    "    visitors[visitors['group'] == 'B']\n",
    "    .sort_values('date')\n",
    "    .drop(columns='group')\n",
    "    .reset_index(drop=True)\n",
    ")\n",
    "group_b = visitors_b.apply(\n",
    "    lambda row: visitors_b[visitors_b['date'] <= row['date']].agg(\n",
    "        {'date': 'max', 'visitors': 'sum'}\n",
    "    ),\n",
    "    axis=1,\n",
    ")\n",
    "orders_b = (\n",
    "    orders[orders['group'] == 'B'].drop(columns=['group']).sort_values('date')\n",
    ")\n",
    "orders_b = (\n",
    "    orders_b.groupby('date', as_index=False)\n",
    "    .agg(\n",
    "        {\n",
    "            'transaction_id': 'nunique',\n",
    "            'revenue': 'sum',\n",
    "        }\n",
    "    )\n",
    "    .rename(columns={'transaction_id': 'orders'})\n",
    ")\n",
    "group_b['orders'] = orders_b.apply(\n",
    "    lambda row: orders_b[orders_b['date'] <= row['date']].agg(\n",
    "        {'date': 'max', 'orders': 'sum'}\n",
    "    ),\n",
    "    axis=1,\n",
    ")['orders']\n",
    "group_b['revenue'] = orders_b.apply(\n",
    "    lambda row: orders_b[orders_b['date'] <= row['date']].agg(\n",
    "        {'date': 'max', 'revenue': 'sum'}\n",
    "    ),\n",
    "    axis=1,\n",
    ")['revenue']\n",
    "group_b['revenue_per_visitor'] = group_b['revenue'] / group_b['visitors']\n",
    "group_b['revenue_per_order'] = group_b['revenue'] / group_b['orders']\n",
    "group_b = group_b.set_index('date')\n",
    "group_b.tail(5)"
   ]
  },
  {
   "cell_type": "markdown",
   "id": "9bf53a13",
   "metadata": {},
   "source": [
    "Общее число посещений мало различается: 0,96%."
   ]
  },
  {
   "cell_type": "code",
   "execution_count": 31,
   "id": "c37673d7",
   "metadata": {},
   "outputs": [
    {
     "data": {
      "text/plain": [
       "1.0096071733561058"
      ]
     },
     "execution_count": 31,
     "metadata": {},
     "output_type": "execute_result"
    }
   ],
   "source": [
    "18916 / 18736"
   ]
  },
  {
   "cell_type": "markdown",
   "id": "0a9f5e73",
   "metadata": {},
   "source": [
    "А по количеству заказов есть разница: в группе A - 557 заказов, в группе B - 640 заказов, на 15% больше."
   ]
  },
  {
   "cell_type": "code",
   "execution_count": 32,
   "id": "67f3cc86",
   "metadata": {},
   "outputs": [
    {
     "data": {
      "text/plain": [
       "1.1490125673249552"
      ]
     },
     "execution_count": 32,
     "metadata": {},
     "output_type": "execute_result"
    }
   ],
   "source": [
    "640 / 557"
   ]
  },
  {
   "cell_type": "markdown",
   "id": "f768f5ac",
   "metadata": {},
   "source": [
    "**Итоги:**\n",
    "\n",
    "- созданы по таблице для каждой группы, с целевыми метриками, накопленными с начала теста;\n",
    "- группы отличаются по количеству посетителей примерно на 1%."
   ]
  },
  {
   "cell_type": "markdown",
   "id": "28cad34d",
   "metadata": {},
   "source": [
    "### Анализ накопленных данных по группам"
   ]
  },
  {
   "cell_type": "markdown",
   "id": "f3dc9cb4",
   "metadata": {},
   "source": [
    "#### Количество заказов"
   ]
  },
  {
   "cell_type": "code",
   "execution_count": 33,
   "id": "3fdc6088",
   "metadata": {
    "scrolled": false
   },
   "outputs": [
    {
     "data": {
      "image/png": "[encoded data removed]",
      "text/plain": [
       "<Figure size 1200x600 with 1 Axes>"
      ]
     },
     "metadata": {},
     "output_type": "display_data"
    }
   ],
   "source": [
    "plt.figure(figsize=FIGSIZE)\n",
    "plt.plot(group_a['orders'], label='A')\n",
    "plt.plot(group_b['orders'], label='B')\n",
    "plt.legend()\n",
    "plt.ylabel('Заказов')\n",
    "plt.title('Накопленное количество заказов на конец даты')\n",
    "plt.grid()\n",
    "plt.show()"
   ]
  },
  {
   "cell_type": "code",
   "execution_count": 34,
   "id": "df469977",
   "metadata": {},
   "outputs": [
    {
     "data": {
      "image/png": "[encoded data removed]",
      "text/plain": [
       "<Figure size 1200x600 with 1 Axes>"
      ]
     },
     "metadata": {},
     "output_type": "display_data"
    }
   ],
   "source": [
    "plt.figure(figsize=FIGSIZE)\n",
    "plt.plot(\n",
    "    group_b['orders'] / group_a['orders'] - 1,\n",
    ")\n",
    "plt.grid()\n",
    "plt.ylabel('Изменение')\n",
    "plt.axhline(y=0, color='grey', linestyle='--')\n",
    "plt.title('Относительное различие количества заказов')\n",
    "plt.show()"
   ]
  },
  {
   "cell_type": "markdown",
   "id": "e633b4cd",
   "metadata": {},
   "source": [
    "C 5 по 9 августа количество заказв в группе B быстро увеличилось, и с тех пор у группы B больше накапливается закаов, в среднем на 15%."
   ]
  },
  {
   "cell_type": "markdown",
   "id": "a2979a5c",
   "metadata": {},
   "source": [
    "#### Общая выручка"
   ]
  },
  {
   "cell_type": "code",
   "execution_count": 35,
   "id": "ab075784",
   "metadata": {},
   "outputs": [
    {
     "data": {
      "image/png": "[encoded data removed]",
      "text/plain": [
       "<Figure size 1200x600 with 1 Axes>"
      ]
     },
     "metadata": {},
     "output_type": "display_data"
    }
   ],
   "source": [
    "plt.figure(figsize=FIGSIZE)\n",
    "plt.plot(group_a['revenue'], label='A')\n",
    "plt.plot(group_b['revenue'], label='B')\n",
    "plt.legend()\n",
    "plt.ylabel('Выручка, млн')\n",
    "plt.title('Накопленная выручка на конец даты')\n",
    "plt.grid()\n",
    "plt.show()"
   ]
  },
  {
   "cell_type": "markdown",
   "id": "1f59901f",
   "metadata": {},
   "source": [
    "Общая выручка непрерывно и почти равномерно растёт. В группе B было резкое увеличение накопленной выручки - один конкретный день явно показал необычно высокую выручку в конкретной группе.\n",
    "\n",
    "Так бывает, например, когда приходит один необычно крупный заказ.\n",
    "\n",
    "Надо проверить данные на аномальные крупные заказы. Также проверим и на аномально активных покупателей. Сделаем выборку, в которую такие заказчики и заказы не попадут, а останутся только типичные величины."
   ]
  },
  {
   "cell_type": "markdown",
   "id": "56cbe486",
   "metadata": {},
   "source": [
    "### Поиск аномальных величин"
   ]
  },
  {
   "cell_type": "markdown",
   "id": "6c3013ee",
   "metadata": {},
   "source": [
    "Опыт говорит, что на аномально крупные продажи полагаться нельзя. Они по определению нерегулярны и непредсказуемы. Поэтому их нужно убирать из статистических расчётов.\n",
    "\n",
    "Полагаю, что боле правильным будет определять аномалии, описаясь на общие данные, не разделяя на группы. Так мы будем непредвзятыми к группам. Мы не будем обязаны выкинуть одинаковое количество результатов из каждой групп. Ведь аномалии случайны, и едва ли они разделятся поровну между группами. Значит, естественным ходом будет выкидывать из разных групп разное количество результатов. В результате группы будут не идеально одинаковы по численности пользователей, но это может и не повлиять на результат, если убрать лишь небольшое число самых влиятельных аномалий."
   ]
  },
  {
   "cell_type": "markdown",
   "id": "2d893aa8",
   "metadata": {},
   "source": [
    "#### Аномальные суммы заказов"
   ]
  },
  {
   "cell_type": "code",
   "execution_count": 36,
   "id": "86c87d92",
   "metadata": {},
   "outputs": [
    {
     "data": {
      "image/png": "[encoded data removed]",
      "text/plain": [
       "<Figure size 1200x600 with 1 Axes>"
      ]
     },
     "metadata": {},
     "output_type": "display_data"
    }
   ],
   "source": [
    "plt.figure(figsize=FIGSIZE)\n",
    "plt.scatter(\n",
    "    orders['revenue'].sort_values(),\n",
    "    pd.Series(range(0, len(orders))),\n",
    "    s=1,\n",
    ")\n",
    "plt.grid()\n",
    "plt.title('Распределение заказов по суммам')\n",
    "plt.xscale('log')\n",
    "plt.xlabel('Сумма заказа (логарифмическая шкала)')\n",
    "plt.ylabel('Порядковый номер заказа в сортировке от маленького до большого')\n",
    "plt.show()"
   ]
  },
  {
   "cell_type": "markdown",
   "id": "a0281181",
   "metadata": {},
   "source": [
    "Есть некоторое количество аномально маленьких и аномально больших заказов, цены которых существенно \"отделены\" от типичных цен.\n",
    "\n",
    "Верным станет сделать выборку без аномалий. Для ориентира возьмём определённый квантиль - он отсечёт аномалии с обеих сторон."
   ]
  },
  {
   "cell_type": "markdown",
   "id": "f05f939e",
   "metadata": {},
   "source": [
    "Попробуем оставить только определённый процент заказов, чьи суммы не находятся на \"крайностях\". запросим диапазоны 98, 95 и 90% \"центральных\" сумм заказов - они являются типичными, теми, на которые мы рассчитываем."
   ]
  },
  {
   "cell_type": "code",
   "execution_count": 37,
   "id": "d4a882d3",
   "metadata": {},
   "outputs": [
    {
     "data": {
      "text/plain": [
       "(100.0, 56457.78000000017)"
      ]
     },
     "execution_count": 37,
     "metadata": {},
     "output_type": "execute_result"
    }
   ],
   "source": [
    "center_percentile(orders['revenue'], 98)"
   ]
  },
  {
   "cell_type": "code",
   "execution_count": 38,
   "id": "993bd758",
   "metadata": {},
   "outputs": [
    {
     "data": {
      "text/plain": [
       "(171.35, 37748.25000000003)"
      ]
     },
     "execution_count": 38,
     "metadata": {},
     "output_type": "execute_result"
    }
   ],
   "source": [
    "center_percentile(orders['revenue'], 95)"
   ]
  },
  {
   "cell_type": "code",
   "execution_count": 39,
   "id": "f7c06082",
   "metadata": {},
   "outputs": [
    {
     "data": {
      "text/plain": [
       "(307.0, 28033.74999999999)"
      ]
     },
     "execution_count": 39,
     "metadata": {},
     "output_type": "execute_result"
    }
   ],
   "source": [
    "center_percentile(orders['revenue'], 90)"
   ]
  },
  {
   "cell_type": "markdown",
   "id": "a73107eb",
   "metadata": {},
   "source": [
    "По графику - будет удобным отбросить 5% аномальных сумм. Это будут те заказы, которые не соединены непрерывно в сплошную линию на графике.\n",
    "\n",
    "Это значит, нужно убрать те заказы, которые по сумме менее 170 и более 39530."
   ]
  },
  {
   "cell_type": "markdown",
   "id": "283573cd",
   "metadata": {},
   "source": [
    "#### Аномальные заказчики"
   ]
  },
  {
   "cell_type": "code",
   "execution_count": 40,
   "id": "ef1e63da",
   "metadata": {},
   "outputs": [
    {
     "data": {
      "text/html": [
       "<div>\n",
       "<style scoped>\n",
       "    .dataframe tbody tr th:only-of-type {\n",
       "        vertical-align: middle;\n",
       "    }\n",
       "\n",
       "    .dataframe tbody tr th {\n",
       "        vertical-align: top;\n",
       "    }\n",
       "\n",
       "    .dataframe thead th {\n",
       "        text-align: right;\n",
       "    }\n",
       "</style>\n",
       "<table border=\"1\" class=\"dataframe\">\n",
       "  <thead>\n",
       "    <tr style=\"text-align: right;\">\n",
       "      <th></th>\n",
       "      <th>orders</th>\n",
       "    </tr>\n",
       "    <tr>\n",
       "      <th>visitor_id</th>\n",
       "      <th></th>\n",
       "    </tr>\n",
       "  </thead>\n",
       "  <tbody>\n",
       "    <tr>\n",
       "      <th>4266935830</th>\n",
       "      <td>1</td>\n",
       "    </tr>\n",
       "    <tr>\n",
       "      <th>4278982564</th>\n",
       "      <td>1</td>\n",
       "    </tr>\n",
       "    <tr>\n",
       "      <th>4279090005</th>\n",
       "      <td>1</td>\n",
       "    </tr>\n",
       "    <tr>\n",
       "      <th>4281247801</th>\n",
       "      <td>1</td>\n",
       "    </tr>\n",
       "    <tr>\n",
       "      <th>4283872382</th>\n",
       "      <td>1</td>\n",
       "    </tr>\n",
       "  </tbody>\n",
       "</table>\n",
       "</div>"
      ],
      "text/plain": [
       "            orders\n",
       "visitor_id        \n",
       "4266935830       1\n",
       "4278982564       1\n",
       "4279090005       1\n",
       "4281247801       1\n",
       "4283872382       1"
      ]
     },
     "execution_count": 40,
     "metadata": {},
     "output_type": "execute_result"
    }
   ],
   "source": [
    "buyers = (\n",
    "    orders.groupby('visitor_id')\n",
    "    .agg({'transaction_id': 'count'})\n",
    "    .rename(columns={'transaction_id': 'orders'})\n",
    ")\n",
    "buyers.tail(5)"
   ]
  },
  {
   "cell_type": "code",
   "execution_count": 41,
   "id": "32c30d88",
   "metadata": {},
   "outputs": [
    {
     "data": {
      "image/png": "[encoded data removed]",
      "text/plain": [
       "<Figure size 1200x600 with 1 Axes>"
      ]
     },
     "metadata": {},
     "output_type": "display_data"
    }
   ],
   "source": [
    "plt.figure(figsize=FIGSIZE)\n",
    "plt.scatter(\n",
    "    buyers['orders'].sort_values(),\n",
    "    pd.Series(range(0, len(buyers))),\n",
    "    s=1,\n",
    ")\n",
    "plt.grid()\n",
    "plt.title('Распределение заказчиков по количеству заказов')\n",
    "plt.xlabel('Количество заказов')\n",
    "plt.ylabel('Порядковый номер заказчика в сортировке от маленького до большого')\n",
    "plt.show()"
   ]
  },
  {
   "cell_type": "markdown",
   "id": "8c19a3b6",
   "metadata": {},
   "source": [
    "Разборчиво видно, что больше трёх заказов от одного пользователя - редость. Но группы заказчиков, которая бы заказывала меньше типичного - её не существует. Поэтому проведём лишь верхнюю границу, выше которой заказчик аномально активен."
   ]
  },
  {
   "cell_type": "code",
   "execution_count": 42,
   "id": "e61dfec0",
   "metadata": {},
   "outputs": [
    {
     "name": "stdout",
     "output_type": "stream",
     "text": [
      "[1.  1.5 3. ]\n"
     ]
    }
   ],
   "source": [
    "print(np.percentile(buyers, [90, 95, 99]))"
   ]
  },
  {
   "cell_type": "markdown",
   "id": "9e4f2e68",
   "metadata": {},
   "source": [
    "Уберём тех посетителей, кто заказал более 4 раз."
   ]
  },
  {
   "cell_type": "markdown",
   "id": "55190c0b",
   "metadata": {},
   "source": [
    "#### Выборка типичных заказов от типичных заказчиков\n",
    "\n",
    "Мы создадим выборку, нескольо уменьшенную по сравнению с исходными, полными данными о заказах во время теста."
   ]
  },
  {
   "cell_type": "code",
   "execution_count": 43,
   "id": "cd566434",
   "metadata": {},
   "outputs": [
    {
     "data": {
      "text/html": [
       "<div>\n",
       "<style scoped>\n",
       "    .dataframe tbody tr th:only-of-type {\n",
       "        vertical-align: middle;\n",
       "    }\n",
       "\n",
       "    .dataframe tbody tr th {\n",
       "        vertical-align: top;\n",
       "    }\n",
       "\n",
       "    .dataframe thead th {\n",
       "        text-align: right;\n",
       "    }\n",
       "</style>\n",
       "<table border=\"1\" class=\"dataframe\">\n",
       "  <thead>\n",
       "    <tr style=\"text-align: right;\">\n",
       "      <th></th>\n",
       "      <th>transaction_id</th>\n",
       "      <th>visitor_id</th>\n",
       "      <th>date</th>\n",
       "      <th>revenue</th>\n",
       "      <th>group</th>\n",
       "    </tr>\n",
       "  </thead>\n",
       "  <tbody>\n",
       "    <tr>\n",
       "      <th>1190</th>\n",
       "      <td>38478481</td>\n",
       "      <td>1197745035</td>\n",
       "      <td>2019-08-14</td>\n",
       "      <td>8600</td>\n",
       "      <td>B</td>\n",
       "    </tr>\n",
       "    <tr>\n",
       "      <th>1191</th>\n",
       "      <td>3592955527</td>\n",
       "      <td>608641596</td>\n",
       "      <td>2019-08-14</td>\n",
       "      <td>16490</td>\n",
       "      <td>B</td>\n",
       "    </tr>\n",
       "    <tr>\n",
       "      <th>1192</th>\n",
       "      <td>2662137336</td>\n",
       "      <td>3733762160</td>\n",
       "      <td>2019-08-14</td>\n",
       "      <td>6490</td>\n",
       "      <td>B</td>\n",
       "    </tr>\n",
       "    <tr>\n",
       "      <th>1193</th>\n",
       "      <td>2203539145</td>\n",
       "      <td>370388673</td>\n",
       "      <td>2019-08-14</td>\n",
       "      <td>3190</td>\n",
       "      <td>A</td>\n",
       "    </tr>\n",
       "    <tr>\n",
       "      <th>1194</th>\n",
       "      <td>1807773912</td>\n",
       "      <td>573423106</td>\n",
       "      <td>2019-08-14</td>\n",
       "      <td>10550</td>\n",
       "      <td>A</td>\n",
       "    </tr>\n",
       "  </tbody>\n",
       "</table>\n",
       "</div>"
      ],
      "text/plain": [
       "      transaction_id  visitor_id       date  revenue group\n",
       "1190        38478481  1197745035 2019-08-14     8600     B\n",
       "1191      3592955527   608641596 2019-08-14    16490     B\n",
       "1192      2662137336  3733762160 2019-08-14     6490     B\n",
       "1193      2203539145   370388673 2019-08-14     3190     A\n",
       "1194      1807773912   573423106 2019-08-14    10550     A"
      ]
     },
     "metadata": {},
     "output_type": "display_data"
    },
    {
     "name": "stdout",
     "output_type": "stream",
     "text": [
      "Длина таблицы: 1045\n"
     ]
    }
   ],
   "source": [
    "abnormal_visitors = buyers[buyers['orders'] > 4].index\n",
    "typical_orders = orders.query('170 <= revenue <= 39530').query(\n",
    "    'visitor_id not in @abnormal_visitors'\n",
    ")\n",
    "display(typical_orders.tail(5))\n",
    "print('Длина таблицы:', len(typical_orders))"
   ]
  },
  {
   "cell_type": "markdown",
   "id": "9a5a40c9",
   "metadata": {},
   "source": [
    "Чтобы правильно рассчитать конверсию посетителей в типичные заказы - нужно будет вычесть посещения нетипичных заказчиков и те посещения, при которых появлялись аномальные заказы."
   ]
  },
  {
   "cell_type": "code",
   "execution_count": 44,
   "id": "b23f36bc",
   "metadata": {},
   "outputs": [
    {
     "data": {
      "text/html": [
       "<div>\n",
       "<style scoped>\n",
       "    .dataframe tbody tr th:only-of-type {\n",
       "        vertical-align: middle;\n",
       "    }\n",
       "\n",
       "    .dataframe tbody tr th {\n",
       "        vertical-align: top;\n",
       "    }\n",
       "\n",
       "    .dataframe thead th {\n",
       "        text-align: right;\n",
       "    }\n",
       "</style>\n",
       "<table border=\"1\" class=\"dataframe\">\n",
       "  <thead>\n",
       "    <tr style=\"text-align: right;\">\n",
       "      <th></th>\n",
       "      <th>transaction_id</th>\n",
       "      <th>visitor_id</th>\n",
       "      <th>date</th>\n",
       "      <th>revenue</th>\n",
       "      <th>group</th>\n",
       "    </tr>\n",
       "  </thead>\n",
       "  <tbody>\n",
       "    <tr>\n",
       "      <th>1136</th>\n",
       "      <td>666610489</td>\n",
       "      <td>1307669133</td>\n",
       "      <td>2019-08-13</td>\n",
       "      <td>92550</td>\n",
       "      <td>A</td>\n",
       "    </tr>\n",
       "    <tr>\n",
       "      <th>1137</th>\n",
       "      <td>2183069967</td>\n",
       "      <td>759473111</td>\n",
       "      <td>2019-08-13</td>\n",
       "      <td>52480</td>\n",
       "      <td>A</td>\n",
       "    </tr>\n",
       "    <tr>\n",
       "      <th>1142</th>\n",
       "      <td>3815014015</td>\n",
       "      <td>2606908679</td>\n",
       "      <td>2019-08-13</td>\n",
       "      <td>52900</td>\n",
       "      <td>B</td>\n",
       "    </tr>\n",
       "    <tr>\n",
       "      <th>1188</th>\n",
       "      <td>1692103379</td>\n",
       "      <td>1022829655</td>\n",
       "      <td>2019-08-14</td>\n",
       "      <td>112</td>\n",
       "      <td>A</td>\n",
       "    </tr>\n",
       "    <tr>\n",
       "      <th>1196</th>\n",
       "      <td>3936777065</td>\n",
       "      <td>2108080724</td>\n",
       "      <td>2019-08-15</td>\n",
       "      <td>202740</td>\n",
       "      <td>B</td>\n",
       "    </tr>\n",
       "  </tbody>\n",
       "</table>\n",
       "</div>"
      ],
      "text/plain": [
       "      transaction_id  visitor_id       date  revenue group\n",
       "1136       666610489  1307669133 2019-08-13    92550     A\n",
       "1137      2183069967   759473111 2019-08-13    52480     A\n",
       "1142      3815014015  2606908679 2019-08-13    52900     B\n",
       "1188      1692103379  1022829655 2019-08-14      112     A\n",
       "1196      3936777065  2108080724 2019-08-15   202740     B"
      ]
     },
     "metadata": {},
     "output_type": "display_data"
    },
    {
     "name": "stdout",
     "output_type": "stream",
     "text": [
      "Длина таблицы: 63\n"
     ]
    }
   ],
   "source": [
    "rejected_orders = orders.query(\n",
    "    'revenue < 170 or revenue > 39530 or visitor_id in @abnormal_visitors'\n",
    ")\n",
    "display(rejected_orders.tail(5))\n",
    "print('Длина таблицы:', len(rejected_orders))"
   ]
  },
  {
   "cell_type": "code",
   "execution_count": 45,
   "id": "b69f7cec",
   "metadata": {},
   "outputs": [
    {
     "data": {
      "text/html": [
       "<div>\n",
       "<style scoped>\n",
       "    .dataframe tbody tr th:only-of-type {\n",
       "        vertical-align: middle;\n",
       "    }\n",
       "\n",
       "    .dataframe tbody tr th {\n",
       "        vertical-align: top;\n",
       "    }\n",
       "\n",
       "    .dataframe thead th {\n",
       "        text-align: right;\n",
       "    }\n",
       "</style>\n",
       "<table border=\"1\" class=\"dataframe\">\n",
       "  <thead>\n",
       "    <tr style=\"text-align: right;\">\n",
       "      <th></th>\n",
       "      <th>date</th>\n",
       "      <th>visitor_id</th>\n",
       "      <th>group</th>\n",
       "      <th>transaction_id</th>\n",
       "    </tr>\n",
       "  </thead>\n",
       "  <tbody>\n",
       "    <tr>\n",
       "      <th>56</th>\n",
       "      <td>2019-08-29</td>\n",
       "      <td>4266935830</td>\n",
       "      <td>B</td>\n",
       "      <td>1</td>\n",
       "    </tr>\n",
       "    <tr>\n",
       "      <th>57</th>\n",
       "      <td>2019-08-30</td>\n",
       "      <td>2279926127</td>\n",
       "      <td>B</td>\n",
       "      <td>1</td>\n",
       "    </tr>\n",
       "    <tr>\n",
       "      <th>58</th>\n",
       "      <td>2019-08-30</td>\n",
       "      <td>3423937755</td>\n",
       "      <td>B</td>\n",
       "      <td>1</td>\n",
       "    </tr>\n",
       "    <tr>\n",
       "      <th>59</th>\n",
       "      <td>2019-08-31</td>\n",
       "      <td>1900893596</td>\n",
       "      <td>A</td>\n",
       "      <td>1</td>\n",
       "    </tr>\n",
       "    <tr>\n",
       "      <th>60</th>\n",
       "      <td>2019-08-31</td>\n",
       "      <td>1964413493</td>\n",
       "      <td>B</td>\n",
       "      <td>1</td>\n",
       "    </tr>\n",
       "  </tbody>\n",
       "</table>\n",
       "</div>"
      ],
      "text/plain": [
       "         date  visitor_id group  transaction_id\n",
       "56 2019-08-29  4266935830     B               1\n",
       "57 2019-08-30  2279926127     B               1\n",
       "58 2019-08-30  3423937755     B               1\n",
       "59 2019-08-31  1900893596     A               1\n",
       "60 2019-08-31  1964413493     B               1"
      ]
     },
     "metadata": {},
     "output_type": "display_data"
    }
   ],
   "source": [
    "rejected_visitors = rejected_orders.groupby(\n",
    "    ['date', 'visitor_id', 'group'], as_index=False\n",
    ").agg({'transaction_id': 'count'})\n",
    "\n",
    "display(rejected_visitors.tail(5))"
   ]
  },
  {
   "cell_type": "code",
   "execution_count": 46,
   "id": "5fb556d3",
   "metadata": {},
   "outputs": [
    {
     "data": {
      "text/html": [
       "<div>\n",
       "<style scoped>\n",
       "    .dataframe tbody tr th:only-of-type {\n",
       "        vertical-align: middle;\n",
       "    }\n",
       "\n",
       "    .dataframe tbody tr th {\n",
       "        vertical-align: top;\n",
       "    }\n",
       "\n",
       "    .dataframe thead th {\n",
       "        text-align: right;\n",
       "    }\n",
       "</style>\n",
       "<table border=\"1\" class=\"dataframe\">\n",
       "  <thead>\n",
       "    <tr style=\"text-align: right;\">\n",
       "      <th></th>\n",
       "      <th>date</th>\n",
       "      <th>group</th>\n",
       "      <th>rejected_visitors</th>\n",
       "    </tr>\n",
       "  </thead>\n",
       "  <tbody>\n",
       "    <tr>\n",
       "      <th>33</th>\n",
       "      <td>2019-08-29</td>\n",
       "      <td>A</td>\n",
       "      <td>1</td>\n",
       "    </tr>\n",
       "    <tr>\n",
       "      <th>34</th>\n",
       "      <td>2019-08-29</td>\n",
       "      <td>B</td>\n",
       "      <td>1</td>\n",
       "    </tr>\n",
       "    <tr>\n",
       "      <th>35</th>\n",
       "      <td>2019-08-30</td>\n",
       "      <td>B</td>\n",
       "      <td>2</td>\n",
       "    </tr>\n",
       "    <tr>\n",
       "      <th>36</th>\n",
       "      <td>2019-08-31</td>\n",
       "      <td>A</td>\n",
       "      <td>1</td>\n",
       "    </tr>\n",
       "    <tr>\n",
       "      <th>37</th>\n",
       "      <td>2019-08-31</td>\n",
       "      <td>B</td>\n",
       "      <td>1</td>\n",
       "    </tr>\n",
       "  </tbody>\n",
       "</table>\n",
       "</div>"
      ],
      "text/plain": [
       "         date group  rejected_visitors\n",
       "33 2019-08-29     A                  1\n",
       "34 2019-08-29     B                  1\n",
       "35 2019-08-30     B                  2\n",
       "36 2019-08-31     A                  1\n",
       "37 2019-08-31     B                  1"
      ]
     },
     "metadata": {},
     "output_type": "display_data"
    }
   ],
   "source": [
    "rejected_visitors = (\n",
    "    rejected_visitors.groupby(['date', 'group'], as_index=False)\n",
    "    .agg({'transaction_id': 'count'})\n",
    "    .rename(columns={'transaction_id': 'rejected_visitors'})\n",
    ")\n",
    "\n",
    "display(rejected_visitors.tail(5))"
   ]
  },
  {
   "cell_type": "code",
   "execution_count": 47,
   "id": "8206c7bf",
   "metadata": {},
   "outputs": [
    {
     "data": {
      "text/html": [
       "<div>\n",
       "<style scoped>\n",
       "    .dataframe tbody tr th:only-of-type {\n",
       "        vertical-align: middle;\n",
       "    }\n",
       "\n",
       "    .dataframe tbody tr th {\n",
       "        vertical-align: top;\n",
       "    }\n",
       "\n",
       "    .dataframe thead th {\n",
       "        text-align: right;\n",
       "    }\n",
       "</style>\n",
       "<table border=\"1\" class=\"dataframe\">\n",
       "  <thead>\n",
       "    <tr style=\"text-align: right;\">\n",
       "      <th></th>\n",
       "      <th>rejected_visitors</th>\n",
       "    </tr>\n",
       "    <tr>\n",
       "      <th>group</th>\n",
       "      <th></th>\n",
       "    </tr>\n",
       "  </thead>\n",
       "  <tbody>\n",
       "    <tr>\n",
       "      <th>A</th>\n",
       "      <td>27</td>\n",
       "    </tr>\n",
       "    <tr>\n",
       "      <th>B</th>\n",
       "      <td>34</td>\n",
       "    </tr>\n",
       "  </tbody>\n",
       "</table>\n",
       "</div>"
      ],
      "text/plain": [
       "       rejected_visitors\n",
       "group                   \n",
       "A                     27\n",
       "B                     34"
      ]
     },
     "execution_count": 47,
     "metadata": {},
     "output_type": "execute_result"
    }
   ],
   "source": [
    "rejected_visitors.groupby('group').agg({'rejected_visitors': 'sum'})"
   ]
  },
  {
   "cell_type": "markdown",
   "id": "bc9427ba",
   "metadata": {},
   "source": [
    "Больше аномалий оказалось в группе A."
   ]
  },
  {
   "cell_type": "code",
   "execution_count": 48,
   "id": "fd879f8c",
   "metadata": {},
   "outputs": [
    {
     "data": {
      "text/html": [
       "<div>\n",
       "<style scoped>\n",
       "    .dataframe tbody tr th:only-of-type {\n",
       "        vertical-align: middle;\n",
       "    }\n",
       "\n",
       "    .dataframe tbody tr th {\n",
       "        vertical-align: top;\n",
       "    }\n",
       "\n",
       "    .dataframe thead th {\n",
       "        text-align: right;\n",
       "    }\n",
       "</style>\n",
       "<table border=\"1\" class=\"dataframe\">\n",
       "  <thead>\n",
       "    <tr style=\"text-align: right;\">\n",
       "      <th></th>\n",
       "      <th>date</th>\n",
       "      <th>group</th>\n",
       "      <th>visitors</th>\n",
       "      <th>rejected_visitors</th>\n",
       "    </tr>\n",
       "  </thead>\n",
       "  <tbody>\n",
       "    <tr>\n",
       "      <th>57</th>\n",
       "      <td>2019-08-27</td>\n",
       "      <td>B</td>\n",
       "      <td>720</td>\n",
       "      <td>3.0</td>\n",
       "    </tr>\n",
       "    <tr>\n",
       "      <th>58</th>\n",
       "      <td>2019-08-28</td>\n",
       "      <td>B</td>\n",
       "      <td>654</td>\n",
       "      <td>3.0</td>\n",
       "    </tr>\n",
       "    <tr>\n",
       "      <th>59</th>\n",
       "      <td>2019-08-29</td>\n",
       "      <td>B</td>\n",
       "      <td>531</td>\n",
       "      <td>1.0</td>\n",
       "    </tr>\n",
       "    <tr>\n",
       "      <th>60</th>\n",
       "      <td>2019-08-30</td>\n",
       "      <td>B</td>\n",
       "      <td>490</td>\n",
       "      <td>2.0</td>\n",
       "    </tr>\n",
       "    <tr>\n",
       "      <th>61</th>\n",
       "      <td>2019-08-31</td>\n",
       "      <td>B</td>\n",
       "      <td>718</td>\n",
       "      <td>1.0</td>\n",
       "    </tr>\n",
       "  </tbody>\n",
       "</table>\n",
       "</div>"
      ],
      "text/plain": [
       "         date group  visitors  rejected_visitors\n",
       "57 2019-08-27     B       720                3.0\n",
       "58 2019-08-28     B       654                3.0\n",
       "59 2019-08-29     B       531                1.0\n",
       "60 2019-08-30     B       490                2.0\n",
       "61 2019-08-31     B       718                1.0"
      ]
     },
     "execution_count": 48,
     "metadata": {},
     "output_type": "execute_result"
    }
   ],
   "source": [
    "typical_visitors = visitors.merge(\n",
    "    rejected_visitors, on=['date', 'group'], how='outer'\n",
    ").fillna(0)\n",
    "typical_visitors.tail(5)"
   ]
  },
  {
   "cell_type": "code",
   "execution_count": 49,
   "id": "6f957658",
   "metadata": {
    "scrolled": false
   },
   "outputs": [
    {
     "data": {
      "text/html": [
       "<div>\n",
       "<style scoped>\n",
       "    .dataframe tbody tr th:only-of-type {\n",
       "        vertical-align: middle;\n",
       "    }\n",
       "\n",
       "    .dataframe tbody tr th {\n",
       "        vertical-align: top;\n",
       "    }\n",
       "\n",
       "    .dataframe thead th {\n",
       "        text-align: right;\n",
       "    }\n",
       "</style>\n",
       "<table border=\"1\" class=\"dataframe\">\n",
       "  <thead>\n",
       "    <tr style=\"text-align: right;\">\n",
       "      <th></th>\n",
       "      <th>date</th>\n",
       "      <th>group</th>\n",
       "      <th>visitors</th>\n",
       "    </tr>\n",
       "  </thead>\n",
       "  <tbody>\n",
       "    <tr>\n",
       "      <th>52</th>\n",
       "      <td>2019-08-22</td>\n",
       "      <td>B</td>\n",
       "      <td>650.0</td>\n",
       "    </tr>\n",
       "    <tr>\n",
       "      <th>53</th>\n",
       "      <td>2019-08-23</td>\n",
       "      <td>B</td>\n",
       "      <td>546.0</td>\n",
       "    </tr>\n",
       "    <tr>\n",
       "      <th>54</th>\n",
       "      <td>2019-08-24</td>\n",
       "      <td>B</td>\n",
       "      <td>378.0</td>\n",
       "    </tr>\n",
       "    <tr>\n",
       "      <th>55</th>\n",
       "      <td>2019-08-25</td>\n",
       "      <td>B</td>\n",
       "      <td>675.0</td>\n",
       "    </tr>\n",
       "    <tr>\n",
       "      <th>56</th>\n",
       "      <td>2019-08-26</td>\n",
       "      <td>B</td>\n",
       "      <td>676.0</td>\n",
       "    </tr>\n",
       "    <tr>\n",
       "      <th>57</th>\n",
       "      <td>2019-08-27</td>\n",
       "      <td>B</td>\n",
       "      <td>717.0</td>\n",
       "    </tr>\n",
       "    <tr>\n",
       "      <th>58</th>\n",
       "      <td>2019-08-28</td>\n",
       "      <td>B</td>\n",
       "      <td>651.0</td>\n",
       "    </tr>\n",
       "    <tr>\n",
       "      <th>59</th>\n",
       "      <td>2019-08-29</td>\n",
       "      <td>B</td>\n",
       "      <td>530.0</td>\n",
       "    </tr>\n",
       "    <tr>\n",
       "      <th>60</th>\n",
       "      <td>2019-08-30</td>\n",
       "      <td>B</td>\n",
       "      <td>488.0</td>\n",
       "    </tr>\n",
       "    <tr>\n",
       "      <th>61</th>\n",
       "      <td>2019-08-31</td>\n",
       "      <td>B</td>\n",
       "      <td>717.0</td>\n",
       "    </tr>\n",
       "  </tbody>\n",
       "</table>\n",
       "</div>"
      ],
      "text/plain": [
       "         date group  visitors\n",
       "52 2019-08-22     B     650.0\n",
       "53 2019-08-23     B     546.0\n",
       "54 2019-08-24     B     378.0\n",
       "55 2019-08-25     B     675.0\n",
       "56 2019-08-26     B     676.0\n",
       "57 2019-08-27     B     717.0\n",
       "58 2019-08-28     B     651.0\n",
       "59 2019-08-29     B     530.0\n",
       "60 2019-08-30     B     488.0\n",
       "61 2019-08-31     B     717.0"
      ]
     },
     "metadata": {},
     "output_type": "display_data"
    }
   ],
   "source": [
    "typical_visitors['visitors'] -= typical_visitors['rejected_visitors']\n",
    "typical_visitors = typical_visitors.drop(columns=['rejected_visitors'])\n",
    "display(typical_visitors.tail(10))"
   ]
  },
  {
   "cell_type": "markdown",
   "id": "9f73b1ee",
   "metadata": {},
   "source": [
    "#### Типичные заказы в группе A"
   ]
  },
  {
   "cell_type": "code",
   "execution_count": 50,
   "id": "584c6c77",
   "metadata": {},
   "outputs": [
    {
     "data": {
      "text/html": [
       "<div>\n",
       "<style scoped>\n",
       "    .dataframe tbody tr th:only-of-type {\n",
       "        vertical-align: middle;\n",
       "    }\n",
       "\n",
       "    .dataframe tbody tr th {\n",
       "        vertical-align: top;\n",
       "    }\n",
       "\n",
       "    .dataframe thead th {\n",
       "        text-align: right;\n",
       "    }\n",
       "</style>\n",
       "<table border=\"1\" class=\"dataframe\">\n",
       "  <thead>\n",
       "    <tr style=\"text-align: right;\">\n",
       "      <th></th>\n",
       "      <th>visitors</th>\n",
       "      <th>orders</th>\n",
       "      <th>revenue</th>\n",
       "      <th>revenue_per_visitor</th>\n",
       "      <th>revenue_per_order</th>\n",
       "    </tr>\n",
       "    <tr>\n",
       "      <th>date</th>\n",
       "      <th></th>\n",
       "      <th></th>\n",
       "      <th></th>\n",
       "      <th></th>\n",
       "      <th></th>\n",
       "    </tr>\n",
       "  </thead>\n",
       "  <tbody>\n",
       "    <tr>\n",
       "      <th>2019-08-27</th>\n",
       "      <td>16351.0</td>\n",
       "      <td>394</td>\n",
       "      <td>2189825</td>\n",
       "      <td>133.926060</td>\n",
       "      <td>5557.931472</td>\n",
       "    </tr>\n",
       "    <tr>\n",
       "      <th>2019-08-28</th>\n",
       "      <td>16945.0</td>\n",
       "      <td>409</td>\n",
       "      <td>2286287</td>\n",
       "      <td>134.923989</td>\n",
       "      <td>5589.943765</td>\n",
       "    </tr>\n",
       "    <tr>\n",
       "      <th>2019-08-29</th>\n",
       "      <td>17521.0</td>\n",
       "      <td>425</td>\n",
       "      <td>2439847</td>\n",
       "      <td>139.252725</td>\n",
       "      <td>5740.816471</td>\n",
       "    </tr>\n",
       "    <tr>\n",
       "      <th>2019-08-30</th>\n",
       "      <td>18011.0</td>\n",
       "      <td>434</td>\n",
       "      <td>2518027</td>\n",
       "      <td>139.804953</td>\n",
       "      <td>5801.905530</td>\n",
       "    </tr>\n",
       "    <tr>\n",
       "      <th>2019-08-31</th>\n",
       "      <td>18709.0</td>\n",
       "      <td>441</td>\n",
       "      <td>2571170</td>\n",
       "      <td>137.429579</td>\n",
       "      <td>5830.317460</td>\n",
       "    </tr>\n",
       "  </tbody>\n",
       "</table>\n",
       "</div>"
      ],
      "text/plain": [
       "            visitors  orders  revenue  revenue_per_visitor  revenue_per_order\n",
       "date                                                                         \n",
       "2019-08-27   16351.0     394  2189825           133.926060        5557.931472\n",
       "2019-08-28   16945.0     409  2286287           134.923989        5589.943765\n",
       "2019-08-29   17521.0     425  2439847           139.252725        5740.816471\n",
       "2019-08-30   18011.0     434  2518027           139.804953        5801.905530\n",
       "2019-08-31   18709.0     441  2571170           137.429579        5830.317460"
      ]
     },
     "execution_count": 50,
     "metadata": {},
     "output_type": "execute_result"
    }
   ],
   "source": [
    "typical_visitors_a = (\n",
    "    typical_visitors[typical_visitors['group'] == 'A']\n",
    "    .sort_values('date')\n",
    "    .drop(columns='group')\n",
    "    .reset_index(drop=True)\n",
    ")\n",
    "\n",
    "typical_group_a = typical_visitors_a.apply(\n",
    "    lambda row: typical_visitors_a[\n",
    "        typical_visitors_a['date'] <= row['date']\n",
    "    ].agg({'date': 'max', 'visitors': 'sum'}),\n",
    "    axis=1,\n",
    ")\n",
    "\n",
    "typical_orders_a = (\n",
    "    typical_orders[typical_orders['group'] == 'A']\n",
    "    .drop(columns=['group'])\n",
    "    .sort_values('date')\n",
    ")\n",
    "\n",
    "typical_orders_a = (\n",
    "    typical_orders_a.groupby('date', as_index=False)\n",
    "    .agg(\n",
    "        {\n",
    "            'transaction_id': 'nunique',\n",
    "            'revenue': 'sum',\n",
    "        }\n",
    "    )\n",
    "    .rename(columns={'transaction_id': 'orders'})\n",
    ")\n",
    "\n",
    "typical_group_a['orders'] = typical_orders_a.apply(\n",
    "    lambda row: typical_orders_a[typical_orders_a['date'] <= row['date']].agg(\n",
    "        {'date': 'max', 'orders': 'sum'}\n",
    "    ),\n",
    "    axis=1,\n",
    ")['orders']\n",
    "\n",
    "typical_group_a['revenue'] = typical_orders_a.apply(\n",
    "    lambda row: typical_orders_a[typical_orders_a['date'] <= row['date']].agg(\n",
    "        {'date': 'max', 'revenue': 'sum'}\n",
    "    ),\n",
    "    axis=1,\n",
    ")['revenue']\n",
    "\n",
    "typical_group_a['revenue_per_visitor'] = (\n",
    "    typical_group_a['revenue'] / typical_group_a['visitors']\n",
    ")\n",
    "typical_group_a['revenue_per_order'] = (\n",
    "    typical_group_a['revenue'] / typical_group_a['orders']\n",
    ")\n",
    "typical_group_a = typical_group_a.set_index('date')\n",
    "typical_group_a.tail()"
   ]
  },
  {
   "cell_type": "markdown",
   "id": "a825cb99",
   "metadata": {},
   "source": [
    "#### Типичные заказы в группе B"
   ]
  },
  {
   "cell_type": "code",
   "execution_count": 51,
   "id": "633b774a",
   "metadata": {},
   "outputs": [
    {
     "data": {
      "text/html": [
       "<div>\n",
       "<style scoped>\n",
       "    .dataframe tbody tr th:only-of-type {\n",
       "        vertical-align: middle;\n",
       "    }\n",
       "\n",
       "    .dataframe tbody tr th {\n",
       "        vertical-align: top;\n",
       "    }\n",
       "\n",
       "    .dataframe thead th {\n",
       "        text-align: right;\n",
       "    }\n",
       "</style>\n",
       "<table border=\"1\" class=\"dataframe\">\n",
       "  <thead>\n",
       "    <tr style=\"text-align: right;\">\n",
       "      <th></th>\n",
       "      <th>visitors</th>\n",
       "      <th>orders</th>\n",
       "      <th>revenue</th>\n",
       "      <th>revenue_per_visitor</th>\n",
       "      <th>revenue_per_order</th>\n",
       "    </tr>\n",
       "    <tr>\n",
       "      <th>date</th>\n",
       "      <th></th>\n",
       "      <th></th>\n",
       "      <th></th>\n",
       "      <th></th>\n",
       "      <th></th>\n",
       "    </tr>\n",
       "  </thead>\n",
       "  <tbody>\n",
       "    <tr>\n",
       "      <th>2019-08-27</th>\n",
       "      <td>16496.0</td>\n",
       "      <td>520</td>\n",
       "      <td>3201383</td>\n",
       "      <td>194.070259</td>\n",
       "      <td>6156.505769</td>\n",
       "    </tr>\n",
       "    <tr>\n",
       "      <th>2019-08-28</th>\n",
       "      <td>17147.0</td>\n",
       "      <td>544</td>\n",
       "      <td>3272341</td>\n",
       "      <td>190.840439</td>\n",
       "      <td>6015.332721</td>\n",
       "    </tr>\n",
       "    <tr>\n",
       "      <th>2019-08-29</th>\n",
       "      <td>17677.0</td>\n",
       "      <td>563</td>\n",
       "      <td>3424481</td>\n",
       "      <td>193.725236</td>\n",
       "      <td>6082.559503</td>\n",
       "    </tr>\n",
       "    <tr>\n",
       "      <th>2019-08-30</th>\n",
       "      <td>18165.0</td>\n",
       "      <td>585</td>\n",
       "      <td>3593884</td>\n",
       "      <td>197.846628</td>\n",
       "      <td>6143.391453</td>\n",
       "    </tr>\n",
       "    <tr>\n",
       "      <th>2019-08-31</th>\n",
       "      <td>18882.0</td>\n",
       "      <td>604</td>\n",
       "      <td>3726853</td>\n",
       "      <td>197.375967</td>\n",
       "      <td>6170.286424</td>\n",
       "    </tr>\n",
       "  </tbody>\n",
       "</table>\n",
       "</div>"
      ],
      "text/plain": [
       "            visitors  orders  revenue  revenue_per_visitor  revenue_per_order\n",
       "date                                                                         \n",
       "2019-08-27   16496.0     520  3201383           194.070259        6156.505769\n",
       "2019-08-28   17147.0     544  3272341           190.840439        6015.332721\n",
       "2019-08-29   17677.0     563  3424481           193.725236        6082.559503\n",
       "2019-08-30   18165.0     585  3593884           197.846628        6143.391453\n",
       "2019-08-31   18882.0     604  3726853           197.375967        6170.286424"
      ]
     },
     "execution_count": 51,
     "metadata": {},
     "output_type": "execute_result"
    }
   ],
   "source": [
    "typical_visitors_b = (\n",
    "    typical_visitors[typical_visitors['group'] == 'B']\n",
    "    .sort_values('date')\n",
    "    .drop(columns='group')\n",
    "    .reset_index(drop=True)\n",
    ")\n",
    "typical_group_b = typical_visitors_b.apply(\n",
    "    lambda row: typical_visitors_b[\n",
    "        typical_visitors_b['date'] <= row['date']\n",
    "    ].agg({'date': 'max', 'visitors': 'sum'}),\n",
    "    axis=1,\n",
    ")\n",
    "typical_orders_b = (\n",
    "    typical_orders[typical_orders['group'] == 'B']\n",
    "    .drop(columns=['group'])\n",
    "    .sort_values('date')\n",
    ")\n",
    "typical_orders_b = (\n",
    "    typical_orders_b.groupby('date', as_index=False)\n",
    "    .agg(\n",
    "        {\n",
    "            'transaction_id': 'nunique',\n",
    "            'revenue': 'sum',\n",
    "        }\n",
    "    )\n",
    "    .rename(columns={'transaction_id': 'orders'})\n",
    ")\n",
    "typical_group_b['orders'] = typical_orders_b.apply(\n",
    "    lambda row: typical_orders_b[typical_orders_b['date'] <= row['date']].agg(\n",
    "        {'date': 'max', 'orders': 'sum'}\n",
    "    ),\n",
    "    axis=1,\n",
    ")['orders']\n",
    "typical_group_b['revenue'] = typical_orders_b.apply(\n",
    "    lambda row: typical_orders_b[orders_b['date'] <= row['date']].agg(\n",
    "        {'date': 'max', 'revenue': 'sum'}\n",
    "    ),\n",
    "    axis=1,\n",
    ")['revenue']\n",
    "typical_group_b['revenue_per_visitor'] = (\n",
    "    typical_group_b['revenue'] / typical_group_b['visitors']\n",
    ")\n",
    "typical_group_b['revenue_per_order'] = (\n",
    "    typical_group_b['revenue'] / typical_group_b['orders']\n",
    ")\n",
    "typical_group_b = typical_group_b.set_index('date')\n",
    "typical_group_b.tail(5)"
   ]
  },
  {
   "cell_type": "markdown",
   "id": "8a5fbdf8",
   "metadata": {},
   "source": [
    "### Анализ типичных типичных данных по группам\n",
    "\n",
    "Итак, у нас есть теперь данные, содержащие только типовые случаи. Аномальные заказы и заказчики убраны. Давайте рассмотрим значения метрик, и смысл этих значений."
   ]
  },
  {
   "cell_type": "markdown",
   "id": "0a1d25f9",
   "metadata": {},
   "source": [
    "#### Количество заказов"
   ]
  },
  {
   "cell_type": "code",
   "execution_count": 52,
   "id": "59b07b91",
   "metadata": {},
   "outputs": [
    {
     "data": {
      "image/png": "[encoded data removed]",
      "text/plain": [
       "<Figure size 1200x600 with 1 Axes>"
      ]
     },
     "metadata": {},
     "output_type": "display_data"
    }
   ],
   "source": [
    "plt.figure(figsize=FIGSIZE)\n",
    "plt.plot(typical_group_a['orders'], label='A')\n",
    "plt.plot(typical_group_b['orders'], label='B')\n",
    "plt.legend()\n",
    "plt.ylabel('Заказов')\n",
    "plt.title('Накопленное количество заказов на конец даты')\n",
    "plt.grid()\n",
    "plt.show()"
   ]
  },
  {
   "cell_type": "code",
   "execution_count": 53,
   "id": "1c504479",
   "metadata": {},
   "outputs": [
    {
     "data": {
      "image/png": "[encoded data removed]",
      "text/plain": [
       "<Figure size 1200x600 with 1 Axes>"
      ]
     },
     "metadata": {},
     "output_type": "display_data"
    }
   ],
   "source": [
    "plt.figure(figsize=FIGSIZE)\n",
    "plt.plot(\n",
    "    typical_group_b['orders'] / typical_group_a['orders'] - 1,\n",
    ")\n",
    "plt.ylabel('Изменение')\n",
    "plt.axhline(y=0, color='grey', linestyle='--')\n",
    "plt.title('Относительное различие количества заказов')\n",
    "plt.grid()\n",
    "plt.show()"
   ]
  },
  {
   "cell_type": "markdown",
   "id": "a282e15f",
   "metadata": {},
   "source": [
    "Эта метрика поменялась мало. Первые шесть дней заказов было больше в группе A. Далее - группа B обогнала по количеству заказов. Количество заказов в группе B нарастало быстрее. С 10 августа разница между группами почти стабильна. Группа B приносит на 20% заказов больше, чем группа A."
   ]
  },
  {
   "cell_type": "markdown",
   "id": "8713db5e",
   "metadata": {},
   "source": [
    "### Средний чек"
   ]
  },
  {
   "cell_type": "code",
   "execution_count": 54,
   "id": "cd5d9fe8",
   "metadata": {},
   "outputs": [
    {
     "data": {
      "image/png": "[encoded data removed]",
      "text/plain": [
       "<Figure size 1200x600 with 1 Axes>"
      ]
     },
     "metadata": {},
     "output_type": "display_data"
    }
   ],
   "source": [
    "plt.figure(figsize=FIGSIZE)\n",
    "plt.plot(typical_group_a['revenue_per_order'], label='A')\n",
    "plt.plot(typical_group_b['revenue_per_order'], label='B')\n",
    "plt.legend()\n",
    "plt.ylabel('Выручка')\n",
    "plt.title(\n",
    "    'Накопленный средний чек (средняя выручка на заказ)' ' на конец даты'\n",
    ")\n",
    "plt.grid()\n",
    "plt.show()"
   ]
  },
  {
   "cell_type": "code",
   "execution_count": 55,
   "id": "23d0d186",
   "metadata": {},
   "outputs": [
    {
     "data": {
      "image/png": "[encoded data removed]",
      "text/plain": [
       "<Figure size 1200x600 with 1 Axes>"
      ]
     },
     "metadata": {},
     "output_type": "display_data"
    }
   ],
   "source": [
    "plt.figure(figsize=FIGSIZE)\n",
    "plt.plot(\n",
    "    typical_group_b['revenue_per_order'] / typical_group_a['revenue_per_order']\n",
    "    - 1,\n",
    ")\n",
    "plt.ylabel('Изменение')\n",
    "plt.axhline(y=0, color='grey', linestyle='--')\n",
    "plt.title('Относительное различие среднего чека')\n",
    "plt.grid()\n",
    "plt.show()"
   ]
  },
  {
   "cell_type": "markdown",
   "id": "bdd8d7f7",
   "metadata": {},
   "source": [
    "Первые 10 дней показатели среднего чека у групп сильно колебались. Далее обе группы постепенно увеличивают средний чек. Средний чек группы B превыает средний чек группы A, в данный момент - на 7%."
   ]
  },
  {
   "cell_type": "markdown",
   "id": "07bf40d9",
   "metadata": {},
   "source": [
    "### Конверсия (средний доход с одного посетителя)"
   ]
  },
  {
   "cell_type": "markdown",
   "id": "7f08b9f0",
   "metadata": {},
   "source": [
    "В целом, группа B к текущему моменту имеет заметно больший средний чек, чем группа A. Однако требуется установить причину всплеска 19 числа, и только далее делать выводы."
   ]
  },
  {
   "cell_type": "code",
   "execution_count": 56,
   "id": "9fedd76a",
   "metadata": {},
   "outputs": [
    {
     "data": {
      "image/png": "[encoded data removed]",
      "text/plain": [
       "<Figure size 1200x600 with 1 Axes>"
      ]
     },
     "metadata": {},
     "output_type": "display_data"
    }
   ],
   "source": [
    "plt.figure(figsize=FIGSIZE)\n",
    "plt.plot(typical_group_a['revenue_per_visitor'], label='A')\n",
    "plt.plot(typical_group_b['revenue_per_visitor'], label='B')\n",
    "plt.legend()\n",
    "plt.ylabel('Выручка')\n",
    "plt.title(\n",
    "    'Накопленная конверсия (средняя выручка на посетителя)' ' на конец даты'\n",
    ")\n",
    "plt.grid()\n",
    "plt.show()"
   ]
  },
  {
   "cell_type": "code",
   "execution_count": 57,
   "id": "eeac80ea",
   "metadata": {},
   "outputs": [
    {
     "data": {
      "image/png": "[encoded data removed]",
      "text/plain": [
       "<Figure size 1200x600 with 1 Axes>"
      ]
     },
     "metadata": {},
     "output_type": "display_data"
    }
   ],
   "source": [
    "plt.figure(figsize=FIGSIZE)\n",
    "plt.plot(\n",
    "    typical_group_b['revenue_per_visitor']\n",
    "    / typical_group_a['revenue_per_visitor']\n",
    "    - 1,\n",
    ")\n",
    "plt.ylabel('Изменение')\n",
    "plt.axhline(y=0, color='grey', linestyle='--')\n",
    "plt.title('Относительное различие конверсии (выручки на посетителя)')\n",
    "plt.grid()\n",
    "plt.show()"
   ]
  },
  {
   "cell_type": "markdown",
   "id": "5b7da4e3",
   "metadata": {},
   "source": [
    "Первую неделю накопленная конверсия в группе A, падала, в группе B - взлетала. Далее конверсии стабильны. Стабильна и разница между конверсиями групп. У группы B выще чем у группы A на 20-30%.\n",
    "\n",
    "Итого, средняя выручка с посетителей группы B выше, чем с группы A. Это главная метрика в задании. Поскольку она стабилизировалась, тест можно завершать."
   ]
  },
  {
   "cell_type": "markdown",
   "id": "d0fbee2b",
   "metadata": {},
   "source": [
    "### Статистическая значимость различий\n",
    "\n",
    "#### В конверсии\n",
    "\n",
    "##### По полным данным"
   ]
  },
  {
   "cell_type": "markdown",
   "id": "f657dfb6",
   "metadata": {},
   "source": [
    "Остаётся узнать, значимо ли обнаруженное превосходство группы B над A.\n",
    "\n",
    "Сформулируем две гипотезы, прямую и альтернативную:\n",
    "- H0: Нет статистически значимых различий между накопленными значениями конверсии двух групп;\n",
    "- H1: Имеются статистически значимые различия между накопленными значениями конверсии двух групп.\n",
    "\n",
    "Уровень статистическо значимости = 0.05. Если вероятность p-value превысит его - можно будет отвергнуть основную гипотезу и принять альтернативную. Если вероятность будет ниже уровня - у нас не будет оснований отвергнуть прямую гипотезу, мы примем её."
   ]
  },
  {
   "cell_type": "code",
   "execution_count": 58,
   "id": "dc514ca6",
   "metadata": {},
   "outputs": [
    {
     "name": "stdout",
     "output_type": "stream",
     "text": [
      "True\n",
      "True\n"
     ]
    }
   ],
   "source": [
    "# сколько покупок делал конкрентый посетитель\n",
    "buyers_a = (\n",
    "    orders[orders['group'] == 'A']\n",
    "    .groupby('visitor_id', as_index=False)\n",
    "    .agg({'transaction_id': pd.Series.nunique})\n",
    ")\n",
    "buyers_a.columns = ['visitor_id', 'orders']\n",
    "\n",
    "buyers_b = (\n",
    "    orders[orders['group'] == 'B']\n",
    "    .groupby('visitor_id', as_index=False)\n",
    "    .agg({'transaction_id': pd.Series.nunique})\n",
    ")\n",
    "buyers_b.columns = ['visitor_id', 'orders']\n",
    "\n",
    "# дополняем их столькими нулями, сколько было посетителей, не совершавших покупок\n",
    "sample_a = pd.concat(  #  сцепить последовательности\n",
    "    [\n",
    "        buyers_a[\n",
    "            'orders'\n",
    "        ],  # первая: серия количеств заказов каждого пользователя\n",
    "        pd.Series(  # вторая: серия\n",
    "            0,  # нулей\n",
    "            index=np.arange(  # в которой индекс - array range\n",
    "                # длиной как разница между количеством посетителей за все даты\n",
    "                # и количеством заказов = длиной списка заказов\n",
    "                # то есть, 0 заказов за посещение!\n",
    "                group_a['visitors'].max()\n",
    "                - len(buyers_a)\n",
    "            ),\n",
    "            name='orders',\n",
    "        ),\n",
    "    ],\n",
    "    axis=0,\n",
    ")\n",
    "\n",
    "sample_b = pd.concat(\n",
    "    [\n",
    "        buyers_b['orders'],\n",
    "        pd.Series(\n",
    "            0,\n",
    "            index=np.arange(group_b['visitors'].max() - len(buyers_b)),\n",
    "            name='orders',\n",
    "        ),\n",
    "    ],\n",
    "    axis=0,\n",
    ")\n",
    "\n",
    "# проверяем, что последовательности имеют нужные длины\n",
    "print(len(sample_a) == max(group_a['visitors']))\n",
    "print(len(sample_b) == max(group_b['visitors']))"
   ]
  },
  {
   "cell_type": "code",
   "execution_count": 59,
   "id": "f4992424",
   "metadata": {},
   "outputs": [
    {
     "name": "stdout",
     "output_type": "stream",
     "text": [
      "p-значение:  1.6721378767275212e-05\n",
      "Есть основание отвергнуть H0. Между величинами есть значимая разница.\n"
     ]
    }
   ],
   "source": [
    "alpha = 0.05  # критический уровень статистической значимости\n",
    "\n",
    "p_value = st.mannwhitneyu(sample_a, sample_b).pvalue\n",
    "\n",
    "print('p-значение: ', p_value)\n",
    "\n",
    "if p_value < alpha:\n",
    "    print(\n",
    "        'Есть основание отвергнуть H0. Между величинами есть значимая разница.'\n",
    "    )\n",
    "else:\n",
    "    print(\n",
    "        'Нет оснований отвергнуть H0. Между величинами не обнаружена значимая разница.'\n",
    "    )"
   ]
  },
  {
   "cell_type": "code",
   "execution_count": 60,
   "id": "b7761d63",
   "metadata": {},
   "outputs": [
    {
     "name": "stdout",
     "output_type": "stream",
     "text": [
      "Относительный прирост конверсии в группе B: 35.45%\n"
     ]
    }
   ],
   "source": [
    "gain = sample_b.mean() / sample_a.mean() - 1\n",
    "print(f'Относительный прирост конверсии в группе B: {gain:.2%}')"
   ]
  },
  {
   "cell_type": "markdown",
   "id": "01144345",
   "metadata": {},
   "source": [
    "**Итоги**:\n",
    "\n",
    "- Обнаружены статистические значимые различия между конверсией групп. \n",
    "- Относительный прирост конверсии группы B к группе A составляет 35,45%.\n",
    "- На результаты могли повлиять статистические выбросы, обнаруженные нами."
   ]
  },
  {
   "cell_type": "markdown",
   "id": "db8b89db",
   "metadata": {},
   "source": [
    "##### По типичным данным"
   ]
  },
  {
   "cell_type": "code",
   "execution_count": 61,
   "id": "13b178c1",
   "metadata": {},
   "outputs": [
    {
     "name": "stdout",
     "output_type": "stream",
     "text": [
      "True\n",
      "True\n"
     ]
    }
   ],
   "source": [
    "# сколько покупок делал конкрентый посетитель\n",
    "typical_buyers_a = (\n",
    "    typical_orders[typical_orders['group'] == 'A']\n",
    "    .groupby('visitor_id', as_index=False)\n",
    "    .agg({'transaction_id': 'nunique'})\n",
    ")\n",
    "typical_buyers_a.columns = ['visitor_id', 'orders']\n",
    "\n",
    "typical_buyers_b = (\n",
    "    typical_orders[typical_orders['group'] == 'B']\n",
    "    .groupby('visitor_id', as_index=False)\n",
    "    .agg({'transaction_id': pd.Series.nunique})\n",
    ")\n",
    "typical_buyers_b.columns = ['visitor_id', 'orders']\n",
    "\n",
    "# дополняем их столькими нулями, сколько было посетителей, не совершавших покупок\n",
    "sample_a = pd.concat(  #  сцепить последовательности\n",
    "    [\n",
    "        typical_buyers_a[\n",
    "            'orders'\n",
    "        ],  # первая: серия количеств заказов каждого пользователя\n",
    "        pd.Series(  # вторая: серия\n",
    "            0,  # нулей\n",
    "            index=np.arange(  # в которой индекс - array range\n",
    "                # длиной как разница между количеством посетителей за все даты\n",
    "                # и количеством заказов = длиной списка заказов\n",
    "                # то есть, 0 заказов за посещение!\n",
    "                typical_group_a['visitors'].max()\n",
    "                - len(typical_buyers_a)\n",
    "            ),\n",
    "            name='orders',\n",
    "        ),\n",
    "    ],\n",
    "    axis=0,\n",
    ")\n",
    "\n",
    "sample_b = pd.concat(\n",
    "    [\n",
    "        typical_buyers_b['orders'],\n",
    "        pd.Series(\n",
    "            0,\n",
    "            index=np.arange(\n",
    "                typical_group_b['visitors'].max() - len(typical_buyers_b)\n",
    "            ),\n",
    "            name='orders',\n",
    "        ),\n",
    "    ],\n",
    "    axis=0,\n",
    ")\n",
    "\n",
    "# прверяем, что последовательности имеют нужные длины\n",
    "print(len(sample_a) == max(typical_group_a['visitors']))\n",
    "print(len(sample_b) == max(typical_group_b['visitors']))"
   ]
  },
  {
   "cell_type": "code",
   "execution_count": 62,
   "id": "9b546e3b",
   "metadata": {
    "scrolled": true
   },
   "outputs": [
    {
     "name": "stdout",
     "output_type": "stream",
     "text": [
      "p-значение:  9.724696124205546e-06\n",
      "Есть основание отвергнуть H0. Между величинами есть значимая разница.\n"
     ]
    }
   ],
   "source": [
    "p_value = st.mannwhitneyu(sample_a, sample_b).pvalue\n",
    "\n",
    "print('p-значение: ', p_value)\n",
    "\n",
    "if p_value < alpha:\n",
    "    print(\n",
    "        'Есть основание отвергнуть H0. Между величинами есть значимая разница.'\n",
    "    )\n",
    "else:\n",
    "    print(\n",
    "        'Нет оснований отвергнуть H0. Между величинами не обнаружена значимая разница.'\n",
    "    )"
   ]
  },
  {
   "cell_type": "code",
   "execution_count": 63,
   "id": "cb140fca",
   "metadata": {},
   "outputs": [
    {
     "name": "stdout",
     "output_type": "stream",
     "text": [
      "Относительный прирост конверсии в группе B: 35.71%\n"
     ]
    }
   ],
   "source": [
    "gain = sample_b.mean() / sample_a.mean() - 1\n",
    "print(f'Относительный прирост конверсии в группе B: {gain:.2%}')"
   ]
  },
  {
   "cell_type": "markdown",
   "id": "df50e4e6",
   "metadata": {},
   "source": [
    "**Итоги**:\n",
    "\n",
    "- На основании очищенных от выбросов даннх обнаружены статистические значимые различия между конверсией групп.\n",
    "- Относительный прирост конверсии группы B к группе A составляет 35,71%.\n",
    "- Это значение близко к тому, которое получено из полных данных.\n",
    "- Выбросы не повлияли существенно на выводы."
   ]
  },
  {
   "cell_type": "markdown",
   "id": "6624e272",
   "metadata": {},
   "source": [
    "#### В среднем чеке\n",
    "\n",
    "##### По полным данным"
   ]
  },
  {
   "cell_type": "code",
   "execution_count": 64,
   "id": "15aa5e60",
   "metadata": {},
   "outputs": [
    {
     "name": "stdout",
     "output_type": "stream",
     "text": [
      "p-значение:  0.764664443354747\n",
      "Нет оснований отвергнуть H0. Между величинами не обнаружена значимая разница.\n"
     ]
    }
   ],
   "source": [
    "sample_a = orders[orders['group'] == 'A']['revenue']\n",
    "sample_b = orders[orders['group'] == 'B']['revenue']\n",
    "\n",
    "p_value = st.mannwhitneyu(sample_a, sample_b).pvalue\n",
    "\n",
    "print('p-значение: ', p_value)\n",
    "\n",
    "if p_value < alpha:\n",
    "    print(\n",
    "        'Есть основание отвергнуть H0. Между величинами есть значимая разница.'\n",
    "    )\n",
    "else:\n",
    "    print(\n",
    "        'Нет оснований отвергнуть H0. Между величинами не обнаружена значимая разница.'\n",
    "    )"
   ]
  },
  {
   "cell_type": "code",
   "execution_count": 65,
   "id": "9c9f7f1c",
   "metadata": {
    "scrolled": false
   },
   "outputs": [
    {
     "name": "stdout",
     "output_type": "stream",
     "text": [
      "Относительный прирост среднего чека в группе B над группой А: 28.39%\n"
     ]
    }
   ],
   "source": [
    "gain = sample_b.mean() / sample_a.mean() - 1\n",
    "print(\n",
    "    f'Относительный прирост среднего чека в группе B над группой А: {gain:.2%}'\n",
    ")"
   ]
  },
  {
   "cell_type": "markdown",
   "id": "0c56c4bd",
   "metadata": {},
   "source": [
    "**Итоги**:\n",
    "\n",
    "- Не обнаружено статистически значимых различий между средним чеком групп на \"сырых\" данных.\n",
    "- Относительный прирост среднего чека в группе B к группе A составляет 28.39%.\n",
    "- На результат могли повлиять выбросы, которые мы обнаружили ранее."
   ]
  },
  {
   "cell_type": "markdown",
   "id": "f264ee42",
   "metadata": {},
   "source": [
    "##### По типичным данным"
   ]
  },
  {
   "cell_type": "code",
   "execution_count": 66,
   "id": "6aeb39cc",
   "metadata": {},
   "outputs": [
    {
     "name": "stdout",
     "output_type": "stream",
     "text": [
      "p-значение:  0.8003602142666837\n",
      "Нет оснований отвергнуть H0. Между величинами не обнаружена значимая разница.\n"
     ]
    }
   ],
   "source": [
    "sample_a = typical_orders[typical_orders['group'] == 'A']['revenue']\n",
    "sample_b = typical_orders[typical_orders['group'] == 'B']['revenue']\n",
    "\n",
    "p_value = st.mannwhitneyu(sample_a, sample_b).pvalue\n",
    "\n",
    "print('p-значение: ', p_value)\n",
    "\n",
    "if p_value < alpha:\n",
    "    print(\n",
    "        'Есть основание отвергнуть H0. Между величинами есть значимая разница.'\n",
    "    )\n",
    "else:\n",
    "    print(\n",
    "        'Нет оснований отвергнуть H0. Между величинами не обнаружена значимая разница.'\n",
    "    )"
   ]
  },
  {
   "cell_type": "code",
   "execution_count": 67,
   "id": "f229dd59",
   "metadata": {},
   "outputs": [
    {
     "name": "stdout",
     "output_type": "stream",
     "text": [
      "Относительный прирост среднего чека в группе B над группой А: 5.83%\n"
     ]
    }
   ],
   "source": [
    "gain = sample_b.mean() / sample_a.mean() - 1\n",
    "print(\n",
    "    f'Относительный прирост среднего чека в группе B над группой А: {gain:.2%}'\n",
    ")"
   ]
  },
  {
   "cell_type": "markdown",
   "id": "7581b93f",
   "metadata": {},
   "source": [
    "**Итоги**:\n",
    "\n",
    "- Не обнаружено статистически значимых различий между средним чеком групп на \"сырых\" данных.\n",
    "- Относительный прирост среднего чека составляет 5,83%.\n",
    "- Значение прироста среднего чека существенно отличается от значения, полученного на \"сырых\" данных.\n",
    "- Выбросы оказали влияние на средний чек."
   ]
  },
  {
   "cell_type": "markdown",
   "id": "52d83e4c",
   "metadata": {},
   "source": [
    "## Решение на основание анализа результатов A/B-теста:\n",
    "\n",
    "\n",
    "- Исследовано:\n",
    "  - Результаты A/B тестирования пользователей за месяц;\n",
    "  - 2 группы,\n",
    "  - 1197 заказов,\n",
    "  - 37652 посетителя.\n",
    "- Сделано:\n",
    "  - Очистка данных от аномальных заказов с суммами ниже 170 и выше 3953 и от заказов, созданных пользователями, разместивших более 4-х заказов.\n",
    "  - Вычислены кумулятивные величины: выручка, количество заказов\n",
    "    - с разделением по группам и по \"сырым\" / \"типичным\" данным.\n",
    "  - Построены графики получения заказов, сбора выручки, конверсии из посетителей в выручку\n",
    "    - для каждой из групп, а также для разницы между величинами метрик групп.\n",
    "  - Сравнительные статистические тесты метрик двух групп\n",
    "- Обнаружены статистические выбросы стоимости заказа;\n",
    "- Они влияют на средний чек - с учётом выбросов средний чек группы B на 28% выше, чем у группы A,; без учёта выбросов, только по типичным данным - средний чек группы B только на 6% выше среднего чека группы A.\n",
    "- На конверсию выбросы цены влияют мало.\n",
    "- Конверсия группы B оказалась пимерно на 35,5% высокой, чем конверсия группы A; выбросы не оказали значения в этом.\n",
    "- На результаты статистических тестов выбросы не оказали существенного влияния.\n",
    "\n",
    "Руководствуясь описанными фактами, **следует остановить тест** и определить более привлекательную группу пользователей.\n",
    "\n",
    "Зафиксировано стабильное **преимущество группы B над группой A** в конверсии, и неустойчивое преиущесво в среднем чеке. Конверсия увеличивает количество покупателей, а это - увеличивает выручку, что является нашей целью. Повышенный средний чек приносит больше выручки за одну сделку, и это тоже соответствует цели."
   ]
  }
 ],
 "metadata": {
  "ExecuteTimeLog": [
   {
    "duration": 1280,
    "start_time": "2022-09-26T14:38:52.478Z"
   },
   {
    "duration": 4,
    "start_time": "2022-09-26T14:38:53.760Z"
   },
   {
    "duration": 9,
    "start_time": "2022-09-26T14:38:53.765Z"
   },
   {
    "duration": 15,
    "start_time": "2022-09-26T14:38:53.776Z"
   },
   {
    "duration": 8,
    "start_time": "2022-09-26T14:38:53.793Z"
   },
   {
    "duration": 7,
    "start_time": "2022-09-26T14:38:53.802Z"
   },
   {
    "duration": 10,
    "start_time": "2022-09-26T14:38:53.810Z"
   },
   {
    "duration": 12,
    "start_time": "2022-09-26T14:38:53.833Z"
   },
   {
    "duration": 7,
    "start_time": "2022-09-26T14:38:53.848Z"
   },
   {
    "duration": 4,
    "start_time": "2022-09-26T14:38:53.860Z"
   },
   {
    "duration": 11,
    "start_time": "2022-09-26T14:38:53.867Z"
   },
   {
    "duration": 13,
    "start_time": "2022-09-26T14:38:53.881Z"
   },
   {
    "duration": 170,
    "start_time": "2022-09-26T14:38:53.895Z"
   },
   {
    "duration": 10,
    "start_time": "2022-09-26T14:38:54.067Z"
   },
   {
    "duration": 20,
    "start_time": "2022-09-26T14:38:54.079Z"
   },
   {
    "duration": 32,
    "start_time": "2022-09-26T14:38:54.101Z"
   },
   {
    "duration": 114,
    "start_time": "2022-09-26T14:38:54.135Z"
   },
   {
    "duration": 5,
    "start_time": "2022-09-26T14:38:54.251Z"
   },
   {
    "duration": 176,
    "start_time": "2022-09-26T14:38:54.258Z"
   },
   {
    "duration": 3,
    "start_time": "2022-09-26T14:38:54.437Z"
   },
   {
    "duration": 11,
    "start_time": "2022-09-26T14:38:54.442Z"
   },
   {
    "duration": 19,
    "start_time": "2022-09-26T14:38:54.455Z"
   },
   {
    "duration": 5,
    "start_time": "2022-09-26T14:38:54.477Z"
   },
   {
    "duration": 72,
    "start_time": "2022-09-26T14:38:54.484Z"
   },
   {
    "duration": 10,
    "start_time": "2022-09-26T14:38:54.558Z"
   },
   {
    "duration": 13,
    "start_time": "2022-09-26T14:38:54.570Z"
   },
   {
    "duration": 77,
    "start_time": "2022-09-26T14:38:54.585Z"
   },
   {
    "duration": 83,
    "start_time": "2022-09-26T14:38:54.666Z"
   },
   {
    "duration": 27,
    "start_time": "2022-09-26T14:38:54.751Z"
   },
   {
    "duration": 169,
    "start_time": "2022-09-26T14:38:54.780Z"
   },
   {
    "duration": 5,
    "start_time": "2022-09-26T14:38:54.951Z"
   },
   {
    "duration": 13,
    "start_time": "2022-09-26T14:38:54.958Z"
   },
   {
    "duration": 330,
    "start_time": "2022-09-26T14:38:54.973Z"
   },
   {
    "duration": 391,
    "start_time": "2022-09-26T14:38:55.305Z"
   },
   {
    "duration": 207,
    "start_time": "2022-09-26T14:38:55.698Z"
   },
   {
    "duration": 708,
    "start_time": "2022-09-26T14:38:55.908Z"
   },
   {
    "duration": 15,
    "start_time": "2022-09-26T14:38:56.618Z"
   },
   {
    "duration": 6,
    "start_time": "2022-09-26T14:38:56.635Z"
   },
   {
    "duration": 7,
    "start_time": "2022-09-26T14:38:56.643Z"
   },
   {
    "duration": 12,
    "start_time": "2022-09-26T14:38:56.651Z"
   },
   {
    "duration": 205,
    "start_time": "2022-09-26T14:38:56.664Z"
   },
   {
    "duration": 5,
    "start_time": "2022-09-26T14:38:56.872Z"
   },
   {
    "duration": 26,
    "start_time": "2022-09-26T14:38:56.880Z"
   },
   {
    "duration": 21,
    "start_time": "2022-09-26T14:38:56.933Z"
   },
   {
    "duration": 16,
    "start_time": "2022-09-26T14:38:56.956Z"
   },
   {
    "duration": 15,
    "start_time": "2022-09-26T14:38:56.973Z"
   },
   {
    "duration": 15,
    "start_time": "2022-09-26T14:38:56.990Z"
   },
   {
    "duration": 40,
    "start_time": "2022-09-26T14:38:57.007Z"
   },
   {
    "duration": 16,
    "start_time": "2022-09-26T14:38:57.049Z"
   },
   {
    "duration": 169,
    "start_time": "2022-09-26T14:38:57.067Z"
   },
   {
    "duration": 205,
    "start_time": "2022-09-26T14:38:57.238Z"
   },
   {
    "duration": 226,
    "start_time": "2022-09-26T14:38:57.445Z"
   },
   {
    "duration": 301,
    "start_time": "2022-09-26T14:38:57.674Z"
   },
   {
    "duration": 256,
    "start_time": "2022-09-26T14:38:57.977Z"
   },
   {
    "duration": 317,
    "start_time": "2022-09-26T14:38:58.235Z"
   },
   {
    "duration": 231,
    "start_time": "2022-09-26T14:38:58.553Z"
   },
   {
    "duration": 385,
    "start_time": "2022-09-26T14:38:58.787Z"
   },
   {
    "duration": 167,
    "start_time": "2022-09-26T14:38:59.174Z"
   },
   {
    "duration": 24,
    "start_time": "2022-09-26T14:38:59.342Z"
   },
   {
    "duration": 5,
    "start_time": "2022-09-26T14:38:59.368Z"
   },
   {
    "duration": 110,
    "start_time": "2022-09-26T14:38:59.375Z"
   },
   {
    "duration": 20,
    "start_time": "2022-09-26T14:38:59.487Z"
   },
   {
    "duration": 24,
    "start_time": "2022-09-26T14:38:59.510Z"
   },
   {
    "duration": 11,
    "start_time": "2022-09-26T14:38:59.536Z"
   },
   {
    "duration": 6,
    "start_time": "2022-09-26T14:38:59.549Z"
   },
   {
    "duration": 11,
    "start_time": "2022-09-26T14:38:59.557Z"
   },
   {
    "duration": 10,
    "start_time": "2022-09-26T14:38:59.569Z"
   },
   {
    "duration": 72,
    "start_time": "2022-09-26T15:39:58.916Z"
   },
   {
    "duration": 1427,
    "start_time": "2022-09-26T15:40:08.158Z"
   },
   {
    "duration": 3,
    "start_time": "2022-09-26T15:40:09.587Z"
   },
   {
    "duration": 21,
    "start_time": "2022-09-26T15:40:09.591Z"
   },
   {
    "duration": 26,
    "start_time": "2022-09-26T15:40:09.614Z"
   },
   {
    "duration": 5,
    "start_time": "2022-09-26T15:40:09.887Z"
   },
   {
    "duration": 5,
    "start_time": "2022-09-26T15:40:10.128Z"
   },
   {
    "duration": 5,
    "start_time": "2022-09-26T15:40:10.544Z"
   },
   {
    "duration": 4,
    "start_time": "2022-09-26T15:40:10.759Z"
   },
   {
    "duration": 3,
    "start_time": "2022-09-26T15:40:10.967Z"
   },
   {
    "duration": 5,
    "start_time": "2022-09-26T15:40:11.429Z"
   },
   {
    "duration": 6,
    "start_time": "2022-09-26T15:40:11.671Z"
   },
   {
    "duration": 3,
    "start_time": "2022-09-26T15:40:13.079Z"
   },
   {
    "duration": 335,
    "start_time": "2022-09-26T15:40:16.152Z"
   },
   {
    "duration": 117,
    "start_time": "2022-09-26T16:40:26.750Z"
   },
   {
    "duration": 1117,
    "start_time": "2022-09-27T05:41:51.172Z"
   },
   {
    "duration": 3,
    "start_time": "2022-09-27T05:41:52.291Z"
   },
   {
    "duration": 6,
    "start_time": "2022-09-27T05:41:52.295Z"
   },
   {
    "duration": 4,
    "start_time": "2022-09-27T05:41:52.308Z"
   },
   {
    "duration": 4,
    "start_time": "2022-09-27T05:41:52.313Z"
   },
   {
    "duration": 6,
    "start_time": "2022-09-27T05:41:52.318Z"
   },
   {
    "duration": 7,
    "start_time": "2022-09-27T05:41:52.326Z"
   },
   {
    "duration": 8,
    "start_time": "2022-09-27T05:41:52.334Z"
   },
   {
    "duration": 7,
    "start_time": "2022-09-27T05:41:52.344Z"
   },
   {
    "duration": 3,
    "start_time": "2022-09-27T05:41:52.354Z"
   },
   {
    "duration": 5,
    "start_time": "2022-09-27T05:41:52.359Z"
   },
   {
    "duration": 5,
    "start_time": "2022-09-27T05:41:52.366Z"
   },
   {
    "duration": 125,
    "start_time": "2022-09-27T05:41:52.372Z"
   },
   {
    "duration": 11,
    "start_time": "2022-09-27T05:41:52.499Z"
   },
   {
    "duration": 11,
    "start_time": "2022-09-27T05:41:52.511Z"
   },
   {
    "duration": 5,
    "start_time": "2022-09-27T05:41:52.524Z"
   },
   {
    "duration": 197,
    "start_time": "2022-09-27T05:41:52.531Z"
   },
   {
    "duration": 6,
    "start_time": "2022-09-27T05:41:52.729Z"
   },
   {
    "duration": 108,
    "start_time": "2022-09-27T05:41:52.736Z"
   },
   {
    "duration": 4,
    "start_time": "2022-09-27T05:41:52.846Z"
   },
   {
    "duration": 6,
    "start_time": "2022-09-27T05:41:52.851Z"
   },
   {
    "duration": 12,
    "start_time": "2022-09-27T05:41:52.858Z"
   },
   {
    "duration": 5,
    "start_time": "2022-09-27T05:41:52.872Z"
   },
   {
    "duration": 61,
    "start_time": "2022-09-27T05:41:52.878Z"
   },
   {
    "duration": 11,
    "start_time": "2022-09-27T05:41:52.941Z"
   },
   {
    "duration": 13,
    "start_time": "2022-09-27T05:41:52.955Z"
   },
   {
    "duration": 75,
    "start_time": "2022-09-27T05:41:52.969Z"
   },
   {
    "duration": 62,
    "start_time": "2022-09-27T05:41:53.047Z"
   },
   {
    "duration": 11,
    "start_time": "2022-09-27T05:41:53.110Z"
   },
   {
    "duration": 151,
    "start_time": "2022-09-27T05:41:53.122Z"
   },
   {
    "duration": 4,
    "start_time": "2022-09-27T05:41:53.275Z"
   },
   {
    "duration": 9,
    "start_time": "2022-09-27T05:41:53.281Z"
   },
   {
    "duration": 313,
    "start_time": "2022-09-27T05:41:53.292Z"
   },
   {
    "duration": 314,
    "start_time": "2022-09-27T05:41:53.608Z"
   },
   {
    "duration": 191,
    "start_time": "2022-09-27T05:41:53.924Z"
   },
   {
    "duration": 563,
    "start_time": "2022-09-27T05:41:54.117Z"
   },
   {
    "duration": 4,
    "start_time": "2022-09-27T05:41:54.682Z"
   },
   {
    "duration": 10,
    "start_time": "2022-09-27T05:41:54.688Z"
   },
   {
    "duration": 11,
    "start_time": "2022-09-27T05:41:54.699Z"
   },
   {
    "duration": 29,
    "start_time": "2022-09-27T05:41:54.712Z"
   },
   {
    "duration": 189,
    "start_time": "2022-09-27T05:41:54.742Z"
   },
   {
    "duration": 4,
    "start_time": "2022-09-27T05:41:54.932Z"
   },
   {
    "duration": 19,
    "start_time": "2022-09-27T05:41:54.938Z"
   },
   {
    "duration": 12,
    "start_time": "2022-09-27T05:41:54.958Z"
   },
   {
    "duration": 39,
    "start_time": "2022-09-27T05:41:54.971Z"
   },
   {
    "duration": 14,
    "start_time": "2022-09-27T05:41:55.012Z"
   },
   {
    "duration": 17,
    "start_time": "2022-09-27T05:41:55.027Z"
   },
   {
    "duration": 19,
    "start_time": "2022-09-27T05:41:55.045Z"
   },
   {
    "duration": 13,
    "start_time": "2022-09-27T05:41:55.065Z"
   },
   {
    "duration": 148,
    "start_time": "2022-09-27T05:41:55.079Z"
   },
   {
    "duration": 148,
    "start_time": "2022-09-27T05:41:55.229Z"
   },
   {
    "duration": 191,
    "start_time": "2022-09-27T05:41:55.378Z"
   },
   {
    "duration": 279,
    "start_time": "2022-09-27T05:41:55.571Z"
   },
   {
    "duration": 194,
    "start_time": "2022-09-27T05:41:55.852Z"
   },
   {
    "duration": 300,
    "start_time": "2022-09-27T05:41:56.047Z"
   },
   {
    "duration": 223,
    "start_time": "2022-09-27T05:41:56.349Z"
   },
   {
    "duration": 294,
    "start_time": "2022-09-27T05:41:56.574Z"
   },
   {
    "duration": 144,
    "start_time": "2022-09-27T05:41:56.869Z"
   },
   {
    "duration": 21,
    "start_time": "2022-09-27T05:41:57.014Z"
   },
   {
    "duration": 4,
    "start_time": "2022-09-27T05:41:57.036Z"
   },
   {
    "duration": 95,
    "start_time": "2022-09-27T05:41:57.041Z"
   },
   {
    "duration": 19,
    "start_time": "2022-09-27T05:41:57.138Z"
   },
   {
    "duration": 4,
    "start_time": "2022-09-27T05:41:57.158Z"
   },
   {
    "duration": 13,
    "start_time": "2022-09-27T05:41:57.164Z"
   },
   {
    "duration": 4,
    "start_time": "2022-09-27T05:41:57.178Z"
   },
   {
    "duration": 31,
    "start_time": "2022-09-27T05:41:57.184Z"
   },
   {
    "duration": 5,
    "start_time": "2022-09-27T05:41:57.216Z"
   }
  ],
  "kernelspec": {
   "display_name": "Python 3 (ipykernel)",
   "language": "python",
   "name": "python3"
  },
  "language_info": {
   "codemirror_mode": {
    "name": "ipython",
    "version": 3
   },
   "file_extension": ".py",
   "mimetype": "text/x-python",
   "name": "python",
   "nbconvert_exporter": "python",
   "pygments_lexer": "ipython3",
   "version": "3.9.17"
  },
  "toc": {
   "base_numbering": 1,
   "nav_menu": {},
   "number_sections": true,
   "sideBar": true,
   "skip_h1_title": true,
   "title_cell": "Содержание",
   "title_sidebar": "Содержание",
   "toc_cell": true,
   "toc_position": {
    "height": "calc(100% - 180px)",
    "left": "10px",
    "top": "150px",
    "width": "344.797px"
   },
   "toc_section_display": true,
   "toc_window_display": true
  }
 },
 "nbformat": 4,
 "nbformat_minor": 5
}
