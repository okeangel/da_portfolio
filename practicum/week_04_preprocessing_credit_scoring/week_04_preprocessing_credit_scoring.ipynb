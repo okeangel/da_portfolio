{
 "cells": [
  {
   "cell_type": "markdown",
   "id": "a8fb7460",
   "metadata": {},
   "source": [
    "# Исследование надежности заёмщиков."
   ]
  },
  {
   "cell_type": "markdown",
   "id": "31cb1343",
   "metadata": {},
   "source": [
    "Учебный проект по специальности \"аналитик данных\", 4-я неделя обучения.\n",
    "\n",
    "Автор: Александр Лагутин.\n",
    "\n",
    "Время подготовки: 28 рабочих часов (4 рабочих дня)."
   ]
  },
  {
   "cell_type": "markdown",
   "id": "1e05c204",
   "metadata": {
    "toc": true
   },
   "source": [
    "<h1>Содержание<span class=\"tocSkip\"></span></h1>\n",
    "<div class=\"toc\"><ul class=\"toc-item\"><li><span><a href=\"#Описание-проекта\" data-toc-modified-id=\"Описание-проекта-1\"><span class=\"toc-item-num\">1&nbsp;&nbsp;</span>Описание проекта</a></span><ul class=\"toc-item\"><li><span><a href=\"#Задача\" data-toc-modified-id=\"Задача-1.1\"><span class=\"toc-item-num\">1.1&nbsp;&nbsp;</span>Задача</a></span></li><li><span><a href=\"#Инструменты\" data-toc-modified-id=\"Инструменты-1.2\"><span class=\"toc-item-num\">1.2&nbsp;&nbsp;</span>Инструменты</a></span></li><li><span><a href=\"#План-работы\" data-toc-modified-id=\"План-работы-1.3\"><span class=\"toc-item-num\">1.3&nbsp;&nbsp;</span>План работы</a></span></li></ul></li><li><span><a href=\"#Обзор-данных.-\" data-toc-modified-id=\"Обзор-данных.--2\"><span class=\"toc-item-num\">2&nbsp;&nbsp;</span>Обзор данных. <a id=\"review\" rel=\"nofollow\"></a></a></span><ul class=\"toc-item\"><li><ul class=\"toc-item\"><li><span><a href=\"#Переименование-dob_years-в-age\" data-toc-modified-id=\"Переименование-dob_years-в-age-2.0.1\"><span class=\"toc-item-num\">2.0.1&nbsp;&nbsp;</span>Переименование <code>dob_years</code> в <code>age</code></a></span></li></ul></li><li><span><a href=\"#Выводы-по-обзору-данных\" data-toc-modified-id=\"Выводы-по-обзору-данных-2.1\"><span class=\"toc-item-num\">2.1&nbsp;&nbsp;</span>Выводы по обзору данных</a></span></li></ul></li><li><span><a href=\"#Исправление-данных\" data-toc-modified-id=\"Исправление-данных-3\"><span class=\"toc-item-num\">3&nbsp;&nbsp;</span>Исправление данных</a></span><ul class=\"toc-item\"><li><span><a href=\"#Исправление-аномалий.-\" data-toc-modified-id=\"Исправление-аномалий.--3.1\"><span class=\"toc-item-num\">3.1&nbsp;&nbsp;</span>Исправление аномалий. <a id=\"check_for_anomalies\" rel=\"nofollow\"></a></a></span><ul class=\"toc-item\"><li><span><a href=\"#Аномалии-в--children\" data-toc-modified-id=\"Аномалии-в--children-3.1.1\"><span class=\"toc-item-num\">3.1.1&nbsp;&nbsp;</span>Аномалии в  <code>children</code></a></span><ul class=\"toc-item\"><li><span><a href=\"#Поиск-корреляции-аномальных-значений-с-значениями-других-столбцов\" data-toc-modified-id=\"Поиск-корреляции-аномальных-значений-с-значениями-других-столбцов-3.1.1.1\"><span class=\"toc-item-num\">3.1.1.1&nbsp;&nbsp;</span>Поиск корреляции аномальных значений с значениями других столбцов</a></span></li></ul></li><li><span><a href=\"#Аномалии-в--age\" data-toc-modified-id=\"Аномалии-в--age-3.1.2\"><span class=\"toc-item-num\">3.1.2&nbsp;&nbsp;</span>Аномалии в  <code>age</code></a></span></li><li><span><a href=\"#Анализ-аномалий-в-days_employed\" data-toc-modified-id=\"Анализ-аномалий-в-days_employed-3.1.3\"><span class=\"toc-item-num\">3.1.3&nbsp;&nbsp;</span>Анализ аномалий в <code>days_employed</code></a></span><ul class=\"toc-item\"><li><span><a href=\"#Анализ-двух-групп-аномалий\" data-toc-modified-id=\"Анализ-двух-групп-аномалий-3.1.3.1\"><span class=\"toc-item-num\">3.1.3.1&nbsp;&nbsp;</span>Анализ двух групп аномалий</a></span></li><li><span><a href=\"#Проверка-предположений:-негативную-группу-достаточно-умножить-на--1;-единица-измерения-стажа-в-&quot;позитивной&quot;-группе---час.\" data-toc-modified-id=\"Проверка-предположений:-негативную-группу-достаточно-умножить-на--1;-единица-измерения-стажа-в-&quot;позитивной&quot;-группе---час.-3.1.3.2\"><span class=\"toc-item-num\">3.1.3.2&nbsp;&nbsp;</span>Проверка предположений: негативную группу достаточно умножить на -1; единица измерения стажа в \"позитивной\" группе - час.</a></span></li><li><span><a href=\"#Проверка-предположения:-&quot;позитивные&quot;-величины-не-коррелируют-с-возрастом\" data-toc-modified-id=\"Проверка-предположения:-&quot;позитивные&quot;-величины-не-коррелируют-с-возрастом-3.1.3.3\"><span class=\"toc-item-num\">3.1.3.3&nbsp;&nbsp;</span>Проверка предположения: \"позитивные\" величины не коррелируют с возрастом</a></span></li></ul></li><li><span><a href=\"#Исправление-аномалий-в-days_employed\" data-toc-modified-id=\"Исправление-аномалий-в-days_employed-3.1.4\"><span class=\"toc-item-num\">3.1.4&nbsp;&nbsp;</span>Исправление аномалий в <code>days_employed</code></a></span></li><li><span><a href=\"#Аномалии-в-gender\" data-toc-modified-id=\"Аномалии-в-gender-3.1.5\"><span class=\"toc-item-num\">3.1.5&nbsp;&nbsp;</span>Аномалии в <code>gender</code></a></span></li></ul></li><li><span><a href=\"#Заполнение-пропусков.-\" data-toc-modified-id=\"Заполнение-пропусков.--3.2\"><span class=\"toc-item-num\">3.2&nbsp;&nbsp;</span>Заполнение пропусков. <a id=\"fillna\" rel=\"nofollow\"></a></a></span></li><li><span><a href=\"#Исправление-типов-данных.-\" data-toc-modified-id=\"Исправление-типов-данных.--3.3\"><span class=\"toc-item-num\">3.3&nbsp;&nbsp;</span>Исправление типов данных. <a id=\"change_data_types\" rel=\"nofollow\"></a></a></span></li><li><span><a href=\"#Удаление-дубликатов.-\" data-toc-modified-id=\"Удаление-дубликатов.--3.4\"><span class=\"toc-item-num\">3.4&nbsp;&nbsp;</span>Удаление дубликатов. <a id=\"drop_duplicates\" rel=\"nofollow\"></a></a></span><ul class=\"toc-item\"><li><span><a href=\"#&quot;Неявные&quot;-дубликаты-значений\" data-toc-modified-id=\"&quot;Неявные&quot;-дубликаты-значений-3.4.1\"><span class=\"toc-item-num\">3.4.1&nbsp;&nbsp;</span>\"Неявные\" дубликаты значений</a></span><ul class=\"toc-item\"><li><span><a href=\"#Дубликаты-в-education\" data-toc-modified-id=\"Дубликаты-в-education-3.4.1.1\"><span class=\"toc-item-num\">3.4.1.1&nbsp;&nbsp;</span>Дубликаты в <code>education</code></a></span></li><li><span><a href=\"#Дубликаты-в-family_status\" data-toc-modified-id=\"Дубликаты-в-family_status-3.4.1.2\"><span class=\"toc-item-num\">3.4.1.2&nbsp;&nbsp;</span>Дубликаты в <code>family_status</code></a></span></li><li><span><a href=\"#Дубликаты-в-income_type\" data-toc-modified-id=\"Дубликаты-в-income_type-3.4.1.3\"><span class=\"toc-item-num\">3.4.1.3&nbsp;&nbsp;</span>Дубликаты в <code>income_type</code></a></span></li><li><span><a href=\"#Дубликаты-в-purpose\" data-toc-modified-id=\"Дубликаты-в-purpose-3.4.1.4\"><span class=\"toc-item-num\">3.4.1.4&nbsp;&nbsp;</span>Дубликаты в <code>purpose</code></a></span></li><li><span><a href=\"#Итоги-по-неявным-дубликатам\" data-toc-modified-id=\"Итоги-по-неявным-дубликатам-3.4.1.5\"><span class=\"toc-item-num\">3.4.1.5&nbsp;&nbsp;</span>Итоги по неявным дубликатам</a></span></li></ul></li><li><span><a href=\"#Полные-дубликаты-строк\" data-toc-modified-id=\"Полные-дубликаты-строк-3.4.2\"><span class=\"toc-item-num\">3.4.2&nbsp;&nbsp;</span>Полные дубликаты строк</a></span></li></ul></li><li><span><a href=\"#Выводы-по-исправлению-данных\" data-toc-modified-id=\"Выводы-по-исправлению-данных-3.5\"><span class=\"toc-item-num\">3.5&nbsp;&nbsp;</span>Выводы по исправлению данных</a></span></li></ul></li><li><span><a href=\"#Обработка-данных\" data-toc-modified-id=\"Обработка-данных-4\"><span class=\"toc-item-num\">4&nbsp;&nbsp;</span>Обработка данных</a></span><ul class=\"toc-item\"><li><span><a href=\"#Декомпозиция-данных,-создание-дополняющих-таблиц.-\" data-toc-modified-id=\"Декомпозиция-данных,-создание-дополняющих-таблиц.--4.1\"><span class=\"toc-item-num\">4.1&nbsp;&nbsp;</span>Декомпозиция данных, создание дополняющих таблиц. <a id=\"decompose_data\" rel=\"nofollow\"></a></a></span><ul class=\"toc-item\"><li><span><a href=\"#Создание-датафрейма-education_levels.\" data-toc-modified-id=\"Создание-датафрейма-education_levels.-4.1.1\"><span class=\"toc-item-num\">4.1.1&nbsp;&nbsp;</span>Создание датафрейма <code>education_levels</code>.</a></span></li><li><span><a href=\"#Создание-датафрейма-family_statuses.\" data-toc-modified-id=\"Создание-датафрейма-family_statuses.-4.1.2\"><span class=\"toc-item-num\">4.1.2&nbsp;&nbsp;</span>Создание датафрейма <code>family_statuses</code>.</a></span></li><li><span><a href=\"#Удаление-колонок-education-и-family_status.\" data-toc-modified-id=\"Удаление-колонок-education-и-family_status.-4.1.3\"><span class=\"toc-item-num\">4.1.3&nbsp;&nbsp;</span>Удаление колонок <code>education</code> и <code>family_status</code>.</a></span></li></ul></li><li><span><a href=\"#Категории-дохода.-\" data-toc-modified-id=\"Категории-дохода.--4.2\"><span class=\"toc-item-num\">4.2&nbsp;&nbsp;</span>Категории дохода. <a id=\"income_categories\" rel=\"nofollow\"></a></a></span></li><li><span><a href=\"#Категории-целей-кредита.-\" data-toc-modified-id=\"Категории-целей-кредита.--4.3\"><span class=\"toc-item-num\">4.3&nbsp;&nbsp;</span>Категории целей кредита. <a id=\"purpose_categories\" rel=\"nofollow\"></a></a></span></li></ul></li><li><span><a href=\"#Ответы-на-вопросы.-\" data-toc-modified-id=\"Ответы-на-вопросы.--5\"><span class=\"toc-item-num\">5&nbsp;&nbsp;</span>Ответы на вопросы. <a id=\"checking_for_anomalies\" rel=\"nofollow\"></a></a></span><ul class=\"toc-item\"><li><span><a href=\"#Есть-ли-зависимость-между-количеством-детей-и-возвратом-кредита-в-срок?\" data-toc-modified-id=\"Есть-ли-зависимость-между-количеством-детей-и-возвратом-кредита-в-срок?-5.1\"><span class=\"toc-item-num\">5.1&nbsp;&nbsp;</span>Есть ли зависимость между количеством детей и возвратом кредита в срок?</a></span></li><li><span><a href=\"#Есть-ли-зависимость-между-семейным-положением-и-возвратом-кредита-в-срок?\" data-toc-modified-id=\"Есть-ли-зависимость-между-семейным-положением-и-возвратом-кредита-в-срок?-5.2\"><span class=\"toc-item-num\">5.2&nbsp;&nbsp;</span>Есть ли зависимость между семейным положением и возвратом кредита в срок?</a></span></li><li><span><a href=\"#Есть-ли-зависимость-между-уровнем-дохода-и-возвратом-кредита-в-срок?\" data-toc-modified-id=\"Есть-ли-зависимость-между-уровнем-дохода-и-возвратом-кредита-в-срок?-5.3\"><span class=\"toc-item-num\">5.3&nbsp;&nbsp;</span>Есть ли зависимость между уровнем дохода и возвратом кредита в срок?</a></span></li><li><span><a href=\"#Вопрос-1:-Как-разные-цели-кредита-влияют-на-его-возврат-в-срок?\" data-toc-modified-id=\"Вопрос-1:-Как-разные-цели-кредита-влияют-на-его-возврат-в-срок?-5.4\"><span class=\"toc-item-num\">5.4&nbsp;&nbsp;</span>Вопрос 1: Как разные цели кредита влияют на его возврат в срок?</a></span></li></ul></li><li><span><a href=\"#Общие-выводы-\" data-toc-modified-id=\"Общие-выводы--6\"><span class=\"toc-item-num\">6&nbsp;&nbsp;</span>Общие выводы <a id=\"checking_for_anomalies\" rel=\"nofollow\"></a></a></span></li></ul></div>"
   ]
  },
  {
   "cell_type": "markdown",
   "id": "73c7e3dc",
   "metadata": {},
   "source": [
    "## Описание проекта"
   ]
  },
  {
   "cell_type": "markdown",
   "id": "e18c0511",
   "metadata": {},
   "source": [
    "### Задача\n",
    "Заказчик — кредитный отдел банка. Нужно разобраться, влияет ли семейное положение и количество детей клиента на факт погашения кредита в срок.\n",
    "\n",
    "Поставлены вопросы:\n",
    "- Есть ли зависимость между количеством детей и возвратом кредита в срок?\n",
    "- Есть ли зависимость между семейным положением и возвратом кредита в срок?\n",
    "- Есть ли зависимость между уровнем дохода и возвратом кредита в срок?\n",
    "- Как разные цели кредита влияют на его возврат в срок?\n",
    "\n",
    "Входные данные от банка:\n",
    "- статистика о платёжеспособности клиентов (файл `datasets/data.csv`).\n",
    "\n",
    "Описание данных:\n",
    "- `children` — количество детей в семье;\n",
    "- `days_employed` — общий трудовой стаж в днях;\n",
    "- `dob_years` — возраст клиента в годах;\n",
    "- `education` — уровень образования клиента;\n",
    "- `education_id` — идентификатор уровня образования;\n",
    "- `family_status` — семейное положение;\n",
    "- `family_status_id` — идентификатор семейного положения;\n",
    "- `gender` — пол клиента;\n",
    "- `income_type` — тип занятости;\n",
    "- `debt` — имел ли задолженность по возврату кредитов;\n",
    "- `total_income` — ежемесячный доход;\n",
    "- `purpose` — цель получения кредита.\n",
    "\n",
    "Результаты исследования будут учтены при построении модели кредитного скоринга — специальной системы, которая оценивает способность потенциального заёмщика вернуть кредит банку."
   ]
  },
  {
   "cell_type": "markdown",
   "id": "6b707c76",
   "metadata": {},
   "source": [
    "### Инструменты\n",
    "Используем [Anaconda](https://www.anaconda.com/), окружение `ds_da_practicum_env.yml` \"для Mac OS\" (от 2022-03-23)."
   ]
  },
  {
   "cell_type": "markdown",
   "id": "86dd0f6e",
   "metadata": {},
   "source": [
    "### План работы\n",
    "- Знакомимся с данными;\n",
    "- Проверяем корректность данных, вносим исправления;\n",
    "  - Некорректные данные исследуем, ищем способ восстановить их корректное значение;\n",
    "  - Некорректные значения, которые не удалось привести в корректный вид - обрабатываем как пропущенные;\n",
    "    - Числовые значение, которые пропущенны или не поддаются коррекции - меняем на медианные значения;\n",
    "- Делим клиентов на категории;\n",
    "- Ищем взаимосвязи \"категория клиента - платёжеспособность клиента\";\n",
    "- Излагаем выводы.\n",
    "\n",
    "Почему невосстановимые значения заполняем медианой? Типичные случаи встречаются чаще нетипичных. Поэтому мы предполагаем, что пропущенное или испорченное значение вернее всего было типичным. Медиана хорошо характеризует типичный случай. Если из набора случаев взять произвольный случай - он чаще будет похож на медианный, чем на средний или какой-либой иной. Поэтому, заменяя некорректные величины на медианные, мы чаще оказываемся близки к реальным результатам, чем если бы выбрали другую единую величину (среднюю, нуль или иную)."
   ]
  },
  {
   "cell_type": "markdown",
   "id": "b3aea973",
   "metadata": {},
   "source": [
    "## Обзор данных. <a id=\"review\"></a>"
   ]
  },
  {
   "cell_type": "markdown",
   "id": "0a1fc247",
   "metadata": {},
   "source": [
    "Импортируем инструменты. Seaborn нужен, чтобы обнаружить аномалии в данных визуально."
   ]
  },
  {
   "cell_type": "code",
   "execution_count": 1,
   "id": "21b7888d",
   "metadata": {},
   "outputs": [],
   "source": [
    "import pandas as pd\n",
    "import seaborn"
   ]
  },
  {
   "cell_type": "markdown",
   "id": "980b1083",
   "metadata": {},
   "source": [
    "Загружаем данные."
   ]
  },
  {
   "cell_type": "code",
   "execution_count": 2,
   "id": "16eac465",
   "metadata": {
    "scrolled": true
   },
   "outputs": [],
   "source": [
    "def load(tablename, ext='csv'):\n",
    "    \"\"\"Load a table from file\"\"\"\n",
    "    filename = tablename + '.' + ext\n",
    "    try:\n",
    "        return pd.read_csv(filename)\n",
    "    except FileNotFoundError:\n",
    "        return pd.read_csv('https://code.s3.yandex.net/datasets/' + filename)\n",
    "\n",
    "\n",
    "data = load('data')"
   ]
  },
  {
   "cell_type": "markdown",
   "id": "4f2d95ce",
   "metadata": {},
   "source": [
    "Просматриваем данные."
   ]
  },
  {
   "cell_type": "code",
   "execution_count": 3,
   "id": "bcffd502",
   "metadata": {
    "scrolled": false
   },
   "outputs": [
    {
     "data": {
      "text/html": [
       "<div>\n",
       "<style scoped>\n",
       "    .dataframe tbody tr th:only-of-type {\n",
       "        vertical-align: middle;\n",
       "    }\n",
       "\n",
       "    .dataframe tbody tr th {\n",
       "        vertical-align: top;\n",
       "    }\n",
       "\n",
       "    .dataframe thead th {\n",
       "        text-align: right;\n",
       "    }\n",
       "</style>\n",
       "<table border=\"1\" class=\"dataframe\">\n",
       "  <thead>\n",
       "    <tr style=\"text-align: right;\">\n",
       "      <th></th>\n",
       "      <th>children</th>\n",
       "      <th>days_employed</th>\n",
       "      <th>dob_years</th>\n",
       "      <th>education</th>\n",
       "      <th>education_id</th>\n",
       "      <th>family_status</th>\n",
       "      <th>family_status_id</th>\n",
       "      <th>gender</th>\n",
       "      <th>income_type</th>\n",
       "      <th>debt</th>\n",
       "      <th>total_income</th>\n",
       "      <th>purpose</th>\n",
       "    </tr>\n",
       "  </thead>\n",
       "  <tbody>\n",
       "    <tr>\n",
       "      <th>0</th>\n",
       "      <td>1</td>\n",
       "      <td>-8437.673028</td>\n",
       "      <td>42</td>\n",
       "      <td>высшее</td>\n",
       "      <td>0</td>\n",
       "      <td>женат / замужем</td>\n",
       "      <td>0</td>\n",
       "      <td>F</td>\n",
       "      <td>сотрудник</td>\n",
       "      <td>0</td>\n",
       "      <td>253875.639453</td>\n",
       "      <td>покупка жилья</td>\n",
       "    </tr>\n",
       "    <tr>\n",
       "      <th>1</th>\n",
       "      <td>1</td>\n",
       "      <td>-4024.803754</td>\n",
       "      <td>36</td>\n",
       "      <td>среднее</td>\n",
       "      <td>1</td>\n",
       "      <td>женат / замужем</td>\n",
       "      <td>0</td>\n",
       "      <td>F</td>\n",
       "      <td>сотрудник</td>\n",
       "      <td>0</td>\n",
       "      <td>112080.014102</td>\n",
       "      <td>приобретение автомобиля</td>\n",
       "    </tr>\n",
       "    <tr>\n",
       "      <th>2</th>\n",
       "      <td>0</td>\n",
       "      <td>-5623.422610</td>\n",
       "      <td>33</td>\n",
       "      <td>Среднее</td>\n",
       "      <td>1</td>\n",
       "      <td>женат / замужем</td>\n",
       "      <td>0</td>\n",
       "      <td>M</td>\n",
       "      <td>сотрудник</td>\n",
       "      <td>0</td>\n",
       "      <td>145885.952297</td>\n",
       "      <td>покупка жилья</td>\n",
       "    </tr>\n",
       "    <tr>\n",
       "      <th>3</th>\n",
       "      <td>3</td>\n",
       "      <td>-4124.747207</td>\n",
       "      <td>32</td>\n",
       "      <td>среднее</td>\n",
       "      <td>1</td>\n",
       "      <td>женат / замужем</td>\n",
       "      <td>0</td>\n",
       "      <td>M</td>\n",
       "      <td>сотрудник</td>\n",
       "      <td>0</td>\n",
       "      <td>267628.550329</td>\n",
       "      <td>дополнительное образование</td>\n",
       "    </tr>\n",
       "    <tr>\n",
       "      <th>4</th>\n",
       "      <td>0</td>\n",
       "      <td>340266.072047</td>\n",
       "      <td>53</td>\n",
       "      <td>среднее</td>\n",
       "      <td>1</td>\n",
       "      <td>гражданский брак</td>\n",
       "      <td>1</td>\n",
       "      <td>F</td>\n",
       "      <td>пенсионер</td>\n",
       "      <td>0</td>\n",
       "      <td>158616.077870</td>\n",
       "      <td>сыграть свадьбу</td>\n",
       "    </tr>\n",
       "    <tr>\n",
       "      <th>5</th>\n",
       "      <td>0</td>\n",
       "      <td>-926.185831</td>\n",
       "      <td>27</td>\n",
       "      <td>высшее</td>\n",
       "      <td>0</td>\n",
       "      <td>гражданский брак</td>\n",
       "      <td>1</td>\n",
       "      <td>M</td>\n",
       "      <td>компаньон</td>\n",
       "      <td>0</td>\n",
       "      <td>255763.565419</td>\n",
       "      <td>покупка жилья</td>\n",
       "    </tr>\n",
       "    <tr>\n",
       "      <th>6</th>\n",
       "      <td>0</td>\n",
       "      <td>-2879.202052</td>\n",
       "      <td>43</td>\n",
       "      <td>высшее</td>\n",
       "      <td>0</td>\n",
       "      <td>женат / замужем</td>\n",
       "      <td>0</td>\n",
       "      <td>F</td>\n",
       "      <td>компаньон</td>\n",
       "      <td>0</td>\n",
       "      <td>240525.971920</td>\n",
       "      <td>операции с жильем</td>\n",
       "    </tr>\n",
       "    <tr>\n",
       "      <th>7</th>\n",
       "      <td>0</td>\n",
       "      <td>-152.779569</td>\n",
       "      <td>50</td>\n",
       "      <td>СРЕДНЕЕ</td>\n",
       "      <td>1</td>\n",
       "      <td>женат / замужем</td>\n",
       "      <td>0</td>\n",
       "      <td>M</td>\n",
       "      <td>сотрудник</td>\n",
       "      <td>0</td>\n",
       "      <td>135823.934197</td>\n",
       "      <td>образование</td>\n",
       "    </tr>\n",
       "    <tr>\n",
       "      <th>8</th>\n",
       "      <td>2</td>\n",
       "      <td>-6929.865299</td>\n",
       "      <td>35</td>\n",
       "      <td>ВЫСШЕЕ</td>\n",
       "      <td>0</td>\n",
       "      <td>гражданский брак</td>\n",
       "      <td>1</td>\n",
       "      <td>F</td>\n",
       "      <td>сотрудник</td>\n",
       "      <td>0</td>\n",
       "      <td>95856.832424</td>\n",
       "      <td>на проведение свадьбы</td>\n",
       "    </tr>\n",
       "    <tr>\n",
       "      <th>9</th>\n",
       "      <td>0</td>\n",
       "      <td>-2188.756445</td>\n",
       "      <td>41</td>\n",
       "      <td>среднее</td>\n",
       "      <td>1</td>\n",
       "      <td>женат / замужем</td>\n",
       "      <td>0</td>\n",
       "      <td>M</td>\n",
       "      <td>сотрудник</td>\n",
       "      <td>0</td>\n",
       "      <td>144425.938277</td>\n",
       "      <td>покупка жилья для семьи</td>\n",
       "    </tr>\n",
       "  </tbody>\n",
       "</table>\n",
       "</div>"
      ],
      "text/plain": [
       "   children  days_employed  dob_years education  education_id  \\\n",
       "0         1   -8437.673028         42    высшее             0   \n",
       "1         1   -4024.803754         36   среднее             1   \n",
       "2         0   -5623.422610         33   Среднее             1   \n",
       "3         3   -4124.747207         32   среднее             1   \n",
       "4         0  340266.072047         53   среднее             1   \n",
       "5         0    -926.185831         27    высшее             0   \n",
       "6         0   -2879.202052         43    высшее             0   \n",
       "7         0    -152.779569         50   СРЕДНЕЕ             1   \n",
       "8         2   -6929.865299         35    ВЫСШЕЕ             0   \n",
       "9         0   -2188.756445         41   среднее             1   \n",
       "\n",
       "      family_status  family_status_id gender income_type  debt   total_income  \\\n",
       "0   женат / замужем                 0      F   сотрудник     0  253875.639453   \n",
       "1   женат / замужем                 0      F   сотрудник     0  112080.014102   \n",
       "2   женат / замужем                 0      M   сотрудник     0  145885.952297   \n",
       "3   женат / замужем                 0      M   сотрудник     0  267628.550329   \n",
       "4  гражданский брак                 1      F   пенсионер     0  158616.077870   \n",
       "5  гражданский брак                 1      M   компаньон     0  255763.565419   \n",
       "6   женат / замужем                 0      F   компаньон     0  240525.971920   \n",
       "7   женат / замужем                 0      M   сотрудник     0  135823.934197   \n",
       "8  гражданский брак                 1      F   сотрудник     0   95856.832424   \n",
       "9   женат / замужем                 0      M   сотрудник     0  144425.938277   \n",
       "\n",
       "                      purpose  \n",
       "0               покупка жилья  \n",
       "1     приобретение автомобиля  \n",
       "2               покупка жилья  \n",
       "3  дополнительное образование  \n",
       "4             сыграть свадьбу  \n",
       "5               покупка жилья  \n",
       "6           операции с жильем  \n",
       "7                 образование  \n",
       "8       на проведение свадьбы  \n",
       "9     покупка жилья для семьи  "
      ]
     },
     "execution_count": 3,
     "metadata": {},
     "output_type": "execute_result"
    }
   ],
   "source": [
    "data.head(10)"
   ]
  },
  {
   "cell_type": "markdown",
   "id": "69b462bf",
   "metadata": {},
   "source": [
    "Видим проблемы:\n",
    "- В столбце с \"днями стажа\" - отрицательные значения, и ещё значение в 340 тыс дней - это примерно тысячу лет стажа.\n",
    "- В столбце с образованием - разный регистр у значений, надо привести к единому.\n",
    "\n",
    "Потребуется проверка данных на корректность, поскольку мы видим лишь ничтожную часть, и даже в ней есть нарушения хороших практик обращения с данными."
   ]
  },
  {
   "cell_type": "code",
   "execution_count": 4,
   "id": "090b4049",
   "metadata": {
    "scrolled": false
   },
   "outputs": [
    {
     "name": "stdout",
     "output_type": "stream",
     "text": [
      "<class 'pandas.core.frame.DataFrame'>\n",
      "RangeIndex: 21525 entries, 0 to 21524\n",
      "Data columns (total 12 columns):\n",
      " #   Column            Non-Null Count  Dtype  \n",
      "---  ------            --------------  -----  \n",
      " 0   children          21525 non-null  int64  \n",
      " 1   days_employed     19351 non-null  float64\n",
      " 2   dob_years         21525 non-null  int64  \n",
      " 3   education         21525 non-null  object \n",
      " 4   education_id      21525 non-null  int64  \n",
      " 5   family_status     21525 non-null  object \n",
      " 6   family_status_id  21525 non-null  int64  \n",
      " 7   gender            21525 non-null  object \n",
      " 8   income_type       21525 non-null  object \n",
      " 9   debt              21525 non-null  int64  \n",
      " 10  total_income      19351 non-null  float64\n",
      " 11  purpose           21525 non-null  object \n",
      "dtypes: float64(2), int64(5), object(5)\n",
      "memory usage: 2.0+ MB\n"
     ]
    }
   ],
   "source": [
    "data.info()"
   ]
  },
  {
   "cell_type": "markdown",
   "id": "683a379d",
   "metadata": {},
   "source": [
    "Количество данных:\n",
    "- всего 21 525 записей;\n",
    "- `days_employed` и `total_income` содержат меньше заполненных значений - значит, есть пропуски в этих полях."
   ]
  },
  {
   "cell_type": "markdown",
   "id": "5abf36fe",
   "metadata": {},
   "source": [
    "#### Переименование `dob_years` в `age`"
   ]
  },
  {
   "cell_type": "markdown",
   "id": "9ebf7d31",
   "metadata": {},
   "source": [
    "`dob_years` создано для возрастов. Меняем название поля на очевидное `age`."
   ]
  },
  {
   "cell_type": "code",
   "execution_count": 5,
   "id": "a55a20a4",
   "metadata": {},
   "outputs": [],
   "source": [
    "data = data.rename(columns={'dob_years': 'age'})"
   ]
  },
  {
   "cell_type": "markdown",
   "id": "e5dfcad2",
   "metadata": {},
   "source": [
    "В целом, нам сказано, что это список клиентов, то есть, персон. Персоны по-определению уникальны. Однако, в данных нет того, что могло бы ясно указать на уникальность каждой записи. Нет client_id, или аналога.\n",
    "\n",
    "Мы предположим, что если есть две полностью одинаковые записи - то это не два клиента с одинаковой жизненной ситуацией, а информация об одном и том же клиенте. А значит - мы уберём все дубликаты, явные и неявные. Чтобы каждая строка была уникальной, как уникален каждый клиент."
   ]
  },
  {
   "cell_type": "markdown",
   "id": "bade4495",
   "metadata": {},
   "source": [
    "### Выводы по обзору данных"
   ]
  },
  {
   "cell_type": "markdown",
   "id": "e4238bb9",
   "metadata": {},
   "source": [
    "- Лучше дополнять статистику о клиентах столбцом с явными значениями `secure_client_id`. В ней не нужно указывать внутренние банковские `client_id`. Можно заменить каждый `client_id` на его криптографический хэш, и записать хэш как `secure_client_id`. Хэш будет уникален - то что нужно нам, и при этом не раскрывает данных о личности клиента (его `client_id`) - то что нужно банку.\n",
    "- Для столбца `dob_years` лучше подходит имя `age`. Оно короче и интуитивно понятно.\n",
    "- Нужно передать эти два замечания специалистам, которые подготовили данные."
   ]
  },
  {
   "cell_type": "markdown",
   "id": "e84662c8",
   "metadata": {},
   "source": [
    "## Исправление данных"
   ]
  },
  {
   "cell_type": "code",
   "execution_count": 6,
   "id": "93dbd125",
   "metadata": {},
   "outputs": [],
   "source": [
    "# создаём удобную функцию для вывода количества и доли значений\n",
    "def print_count(column, value, df=data):\n",
    "    count = df[df[column] == value][column].count()\n",
    "    print(f'{value}: {count}, {count / len(df.index):.02%}')"
   ]
  },
  {
   "cell_type": "markdown",
   "id": "c338d671",
   "metadata": {},
   "source": [
    "### Исправление аномалий. <a id=\"check_for_anomalies\"></a>"
   ]
  },
  {
   "cell_type": "markdown",
   "id": "062df39e",
   "metadata": {},
   "source": [
    "Считаю правильным начать с обзора значений, и поиска аномалий.\n",
    "\n",
    "Заполнять пропуски нужно на основе надёжных, проверенных, реалистичных данных. А значит, сперва нужно проверить заполненные данные, и избавиться от аномалий."
   ]
  },
  {
   "cell_type": "markdown",
   "id": "e42b03d5",
   "metadata": {},
   "source": [
    "#### Аномалии в  `children`"
   ]
  },
  {
   "cell_type": "code",
   "execution_count": 7,
   "id": "348309d9",
   "metadata": {},
   "outputs": [
    {
     "data": {
      "text/plain": [
       "array([-1,  0,  1,  2,  3,  4,  5, 20], dtype=int64)"
      ]
     },
     "execution_count": 7,
     "metadata": {},
     "output_type": "execute_result"
    }
   ],
   "source": [
    "children_uniques = data['children'].sort_values().unique()\n",
    "children_uniques"
   ]
  },
  {
   "cell_type": "markdown",
   "id": "2eb8d42c",
   "metadata": {},
   "source": [
    "Как величины распределяются?"
   ]
  },
  {
   "cell_type": "code",
   "execution_count": 8,
   "id": "72b5feb7",
   "metadata": {
    "scrolled": true
   },
   "outputs": [
    {
     "name": "stdout",
     "output_type": "stream",
     "text": [
      "-1: 47, 0.22%\n",
      "0: 14149, 65.73%\n",
      "1: 4818, 22.38%\n",
      "2: 2055, 9.55%\n",
      "3: 330, 1.53%\n",
      "4: 41, 0.19%\n",
      "5: 9, 0.04%\n",
      "20: 76, 0.35%\n"
     ]
    }
   ],
   "source": [
    "for value in children_uniques:\n",
    "    print_count('children', value)"
   ]
  },
  {
   "cell_type": "markdown",
   "id": "e62fb931",
   "metadata": {},
   "source": [
    "Аномальные значения -1 и 20, встречаются десятки раз.\n",
    "\n",
    "Существуют предположения, что причина их появления - это ошибки ввода. Якобы -1 должно значить 1, а 20 должно значить 2. Это выглядит неубедительно. На любой клавиатуре знаки `-` и `1` не соседствуют. Также нет ни одного значения со знаком `-`, кроме `-1`, а ведь если это опечатки - могли были бы встречаться и значения -2, -3. То же касается `20` - его 76 случаев. И ни одного случая `10` или `30`.\n",
    "\n",
    "Причина данных аномалий не очевидна. Надёжных оснований для замены -1 на 1, и 20 на 2 нет.\n",
    "\n",
    "##### Поиск корреляции аномальных значений с значениями других столбцов\n",
    "Проверим, существует ли корреляция значения -1 с какими-либо данными."
   ]
  },
  {
   "cell_type": "code",
   "execution_count": 9,
   "id": "c938ca87",
   "metadata": {
    "scrolled": true
   },
   "outputs": [
    {
     "data": {
      "text/html": [
       "<div>\n",
       "<style scoped>\n",
       "    .dataframe tbody tr th:only-of-type {\n",
       "        vertical-align: middle;\n",
       "    }\n",
       "\n",
       "    .dataframe tbody tr th {\n",
       "        vertical-align: top;\n",
       "    }\n",
       "\n",
       "    .dataframe thead th {\n",
       "        text-align: right;\n",
       "    }\n",
       "</style>\n",
       "<table border=\"1\" class=\"dataframe\">\n",
       "  <thead>\n",
       "    <tr style=\"text-align: right;\">\n",
       "      <th></th>\n",
       "      <th>children</th>\n",
       "      <th>days_employed</th>\n",
       "      <th>age</th>\n",
       "      <th>education</th>\n",
       "      <th>education_id</th>\n",
       "      <th>family_status</th>\n",
       "      <th>family_status_id</th>\n",
       "      <th>gender</th>\n",
       "      <th>income_type</th>\n",
       "      <th>debt</th>\n",
       "      <th>total_income</th>\n",
       "      <th>purpose</th>\n",
       "    </tr>\n",
       "  </thead>\n",
       "  <tbody>\n",
       "    <tr>\n",
       "      <th>291</th>\n",
       "      <td>-1</td>\n",
       "      <td>-4417.703588</td>\n",
       "      <td>46</td>\n",
       "      <td>среднее</td>\n",
       "      <td>1</td>\n",
       "      <td>гражданский брак</td>\n",
       "      <td>1</td>\n",
       "      <td>F</td>\n",
       "      <td>сотрудник</td>\n",
       "      <td>0</td>\n",
       "      <td>102816.346412</td>\n",
       "      <td>профильное образование</td>\n",
       "    </tr>\n",
       "    <tr>\n",
       "      <th>705</th>\n",
       "      <td>-1</td>\n",
       "      <td>-902.084528</td>\n",
       "      <td>50</td>\n",
       "      <td>среднее</td>\n",
       "      <td>1</td>\n",
       "      <td>женат / замужем</td>\n",
       "      <td>0</td>\n",
       "      <td>F</td>\n",
       "      <td>госслужащий</td>\n",
       "      <td>0</td>\n",
       "      <td>137882.899271</td>\n",
       "      <td>приобретение автомобиля</td>\n",
       "    </tr>\n",
       "    <tr>\n",
       "      <th>742</th>\n",
       "      <td>-1</td>\n",
       "      <td>-3174.456205</td>\n",
       "      <td>57</td>\n",
       "      <td>среднее</td>\n",
       "      <td>1</td>\n",
       "      <td>женат / замужем</td>\n",
       "      <td>0</td>\n",
       "      <td>F</td>\n",
       "      <td>сотрудник</td>\n",
       "      <td>0</td>\n",
       "      <td>64268.044444</td>\n",
       "      <td>дополнительное образование</td>\n",
       "    </tr>\n",
       "    <tr>\n",
       "      <th>800</th>\n",
       "      <td>-1</td>\n",
       "      <td>349987.852217</td>\n",
       "      <td>54</td>\n",
       "      <td>среднее</td>\n",
       "      <td>1</td>\n",
       "      <td>Не женат / не замужем</td>\n",
       "      <td>4</td>\n",
       "      <td>F</td>\n",
       "      <td>пенсионер</td>\n",
       "      <td>0</td>\n",
       "      <td>86293.724153</td>\n",
       "      <td>дополнительное образование</td>\n",
       "    </tr>\n",
       "    <tr>\n",
       "      <th>941</th>\n",
       "      <td>-1</td>\n",
       "      <td>NaN</td>\n",
       "      <td>57</td>\n",
       "      <td>Среднее</td>\n",
       "      <td>1</td>\n",
       "      <td>женат / замужем</td>\n",
       "      <td>0</td>\n",
       "      <td>F</td>\n",
       "      <td>пенсионер</td>\n",
       "      <td>0</td>\n",
       "      <td>NaN</td>\n",
       "      <td>на покупку своего автомобиля</td>\n",
       "    </tr>\n",
       "  </tbody>\n",
       "</table>\n",
       "</div>"
      ],
      "text/plain": [
       "     children  days_employed  age education  education_id  \\\n",
       "291        -1   -4417.703588   46   среднее             1   \n",
       "705        -1    -902.084528   50   среднее             1   \n",
       "742        -1   -3174.456205   57   среднее             1   \n",
       "800        -1  349987.852217   54   среднее             1   \n",
       "941        -1            NaN   57   Среднее             1   \n",
       "\n",
       "             family_status  family_status_id gender  income_type  debt  \\\n",
       "291       гражданский брак                 1      F    сотрудник     0   \n",
       "705        женат / замужем                 0      F  госслужащий     0   \n",
       "742        женат / замужем                 0      F    сотрудник     0   \n",
       "800  Не женат / не замужем                 4      F    пенсионер     0   \n",
       "941        женат / замужем                 0      F    пенсионер     0   \n",
       "\n",
       "      total_income                       purpose  \n",
       "291  102816.346412        профильное образование  \n",
       "705  137882.899271       приобретение автомобиля  \n",
       "742   64268.044444    дополнительное образование  \n",
       "800   86293.724153    дополнительное образование  \n",
       "941            NaN  на покупку своего автомобиля  "
      ]
     },
     "execution_count": 9,
     "metadata": {},
     "output_type": "execute_result"
    }
   ],
   "source": [
    "data[data['children'] == -1].head()"
   ]
  },
  {
   "cell_type": "markdown",
   "id": "be81fff1",
   "metadata": {},
   "source": [
    "У кого из них `education_id` не равен `1`?"
   ]
  },
  {
   "cell_type": "code",
   "execution_count": 10,
   "id": "97d901ec",
   "metadata": {
    "scrolled": true
   },
   "outputs": [
    {
     "data": {
      "text/html": [
       "<div>\n",
       "<style scoped>\n",
       "    .dataframe tbody tr th:only-of-type {\n",
       "        vertical-align: middle;\n",
       "    }\n",
       "\n",
       "    .dataframe tbody tr th {\n",
       "        vertical-align: top;\n",
       "    }\n",
       "\n",
       "    .dataframe thead th {\n",
       "        text-align: right;\n",
       "    }\n",
       "</style>\n",
       "<table border=\"1\" class=\"dataframe\">\n",
       "  <thead>\n",
       "    <tr style=\"text-align: right;\">\n",
       "      <th></th>\n",
       "      <th>children</th>\n",
       "      <th>days_employed</th>\n",
       "      <th>age</th>\n",
       "      <th>education</th>\n",
       "      <th>education_id</th>\n",
       "      <th>family_status</th>\n",
       "      <th>family_status_id</th>\n",
       "      <th>gender</th>\n",
       "      <th>income_type</th>\n",
       "      <th>debt</th>\n",
       "      <th>total_income</th>\n",
       "      <th>purpose</th>\n",
       "    </tr>\n",
       "  </thead>\n",
       "  <tbody>\n",
       "    <tr>\n",
       "      <th>6013</th>\n",
       "      <td>-1</td>\n",
       "      <td>-1361.258696</td>\n",
       "      <td>46</td>\n",
       "      <td>высшее</td>\n",
       "      <td>0</td>\n",
       "      <td>женат / замужем</td>\n",
       "      <td>0</td>\n",
       "      <td>F</td>\n",
       "      <td>сотрудник</td>\n",
       "      <td>0</td>\n",
       "      <td>143008.454914</td>\n",
       "      <td>строительство собственной недвижимости</td>\n",
       "    </tr>\n",
       "    <tr>\n",
       "      <th>8229</th>\n",
       "      <td>-1</td>\n",
       "      <td>-1803.441074</td>\n",
       "      <td>54</td>\n",
       "      <td>высшее</td>\n",
       "      <td>0</td>\n",
       "      <td>женат / замужем</td>\n",
       "      <td>0</td>\n",
       "      <td>F</td>\n",
       "      <td>компаньон</td>\n",
       "      <td>0</td>\n",
       "      <td>138809.082930</td>\n",
       "      <td>покупка недвижимости</td>\n",
       "    </tr>\n",
       "    <tr>\n",
       "      <th>9565</th>\n",
       "      <td>-1</td>\n",
       "      <td>-2896.629686</td>\n",
       "      <td>34</td>\n",
       "      <td>высшее</td>\n",
       "      <td>0</td>\n",
       "      <td>женат / замужем</td>\n",
       "      <td>0</td>\n",
       "      <td>M</td>\n",
       "      <td>сотрудник</td>\n",
       "      <td>0</td>\n",
       "      <td>126754.656529</td>\n",
       "      <td>операции с недвижимостью</td>\n",
       "    </tr>\n",
       "    <tr>\n",
       "      <th>9574</th>\n",
       "      <td>-1</td>\n",
       "      <td>-2710.419901</td>\n",
       "      <td>28</td>\n",
       "      <td>высшее</td>\n",
       "      <td>0</td>\n",
       "      <td>женат / замужем</td>\n",
       "      <td>0</td>\n",
       "      <td>M</td>\n",
       "      <td>госслужащий</td>\n",
       "      <td>0</td>\n",
       "      <td>303137.161001</td>\n",
       "      <td>получение дополнительного образования</td>\n",
       "    </tr>\n",
       "    <tr>\n",
       "      <th>10365</th>\n",
       "      <td>-1</td>\n",
       "      <td>345774.125957</td>\n",
       "      <td>63</td>\n",
       "      <td>ВЫСШЕЕ</td>\n",
       "      <td>0</td>\n",
       "      <td>вдовец / вдова</td>\n",
       "      <td>2</td>\n",
       "      <td>F</td>\n",
       "      <td>пенсионер</td>\n",
       "      <td>0</td>\n",
       "      <td>170762.751325</td>\n",
       "      <td>строительство жилой недвижимости</td>\n",
       "    </tr>\n",
       "  </tbody>\n",
       "</table>\n",
       "</div>"
      ],
      "text/plain": [
       "       children  days_employed  age education  education_id    family_status  \\\n",
       "6013         -1   -1361.258696   46    высшее             0  женат / замужем   \n",
       "8229         -1   -1803.441074   54    высшее             0  женат / замужем   \n",
       "9565         -1   -2896.629686   34    высшее             0  женат / замужем   \n",
       "9574         -1   -2710.419901   28    высшее             0  женат / замужем   \n",
       "10365        -1  345774.125957   63    ВЫСШЕЕ             0   вдовец / вдова   \n",
       "\n",
       "       family_status_id gender  income_type  debt   total_income  \\\n",
       "6013                  0      F    сотрудник     0  143008.454914   \n",
       "8229                  0      F    компаньон     0  138809.082930   \n",
       "9565                  0      M    сотрудник     0  126754.656529   \n",
       "9574                  0      M  госслужащий     0  303137.161001   \n",
       "10365                 2      F    пенсионер     0  170762.751325   \n",
       "\n",
       "                                      purpose  \n",
       "6013   строительство собственной недвижимости  \n",
       "8229                     покупка недвижимости  \n",
       "9565                 операции с недвижимостью  \n",
       "9574    получение дополнительного образования  \n",
       "10365        строительство жилой недвижимости  "
      ]
     },
     "execution_count": 10,
     "metadata": {},
     "output_type": "execute_result"
    }
   ],
   "source": [
    "data[(data['children'] == -1) & (data['education_id'] != 1)].head()"
   ]
  },
  {
   "cell_type": "markdown",
   "id": "c315c7e4",
   "metadata": {},
   "source": [
    "Корреляции с `education_id` не видно.\n",
    "\n",
    "А корреляция с `debt` равному `0`?"
   ]
  },
  {
   "cell_type": "code",
   "execution_count": 11,
   "id": "81e838ba",
   "metadata": {
    "scrolled": false
   },
   "outputs": [
    {
     "data": {
      "text/html": [
       "<div>\n",
       "<style scoped>\n",
       "    .dataframe tbody tr th:only-of-type {\n",
       "        vertical-align: middle;\n",
       "    }\n",
       "\n",
       "    .dataframe tbody tr th {\n",
       "        vertical-align: top;\n",
       "    }\n",
       "\n",
       "    .dataframe thead th {\n",
       "        text-align: right;\n",
       "    }\n",
       "</style>\n",
       "<table border=\"1\" class=\"dataframe\">\n",
       "  <thead>\n",
       "    <tr style=\"text-align: right;\">\n",
       "      <th></th>\n",
       "      <th>children</th>\n",
       "      <th>days_employed</th>\n",
       "      <th>age</th>\n",
       "      <th>education</th>\n",
       "      <th>education_id</th>\n",
       "      <th>family_status</th>\n",
       "      <th>family_status_id</th>\n",
       "      <th>gender</th>\n",
       "      <th>income_type</th>\n",
       "      <th>debt</th>\n",
       "      <th>total_income</th>\n",
       "      <th>purpose</th>\n",
       "    </tr>\n",
       "  </thead>\n",
       "  <tbody>\n",
       "    <tr>\n",
       "      <th>16129</th>\n",
       "      <td>-1</td>\n",
       "      <td>-457.86176</td>\n",
       "      <td>33</td>\n",
       "      <td>среднее</td>\n",
       "      <td>1</td>\n",
       "      <td>женат / замужем</td>\n",
       "      <td>0</td>\n",
       "      <td>F</td>\n",
       "      <td>сотрудник</td>\n",
       "      <td>1</td>\n",
       "      <td>149641.079451</td>\n",
       "      <td>автомобиль</td>\n",
       "    </tr>\n",
       "  </tbody>\n",
       "</table>\n",
       "</div>"
      ],
      "text/plain": [
       "       children  days_employed  age education  education_id    family_status  \\\n",
       "16129        -1     -457.86176   33   среднее             1  женат / замужем   \n",
       "\n",
       "       family_status_id gender income_type  debt   total_income     purpose  \n",
       "16129                 0      F   сотрудник     1  149641.079451  автомобиль  "
      ]
     },
     "execution_count": 11,
     "metadata": {},
     "output_type": "execute_result"
    }
   ],
   "source": [
    "data[(data['children'] == -1) & (data['debt'] != 0)].head()"
   ]
  },
  {
   "cell_type": "markdown",
   "id": "47c47000",
   "metadata": {},
   "source": [
    "Надёжная корреляция не найдена. Причина некорректных значений остаётся не ясной.\n",
    "\n",
    "Минус один ребёнок в реальности не встречается, 20 детей теоретически возможны, однако на фоне остальных значений тоже выглядят аномалией. Обработаем их так, как если бы эти значения были пропущены - заменим их на медианное значение по столбцу."
   ]
  },
  {
   "cell_type": "code",
   "execution_count": 12,
   "id": "6d7d6ed1",
   "metadata": {},
   "outputs": [
    {
     "data": {
      "text/plain": [
       "array([0, 1, 2, 3, 4, 5])"
      ]
     },
     "execution_count": 12,
     "metadata": {},
     "output_type": "execute_result"
    }
   ],
   "source": [
    "data['children'] = data['children'].replace(\n",
    "    [-1, 20], data['children'].median()\n",
    ")\n",
    "\n",
    "# .replace() возвращает float, поэтому исправляем тип\n",
    "data['children'] = data['children'].astype('int32')\n",
    "\n",
    "# проверяем, какие теперь существуют значения кол-ва детей\n",
    "data['children'].sort_values().unique()"
   ]
  },
  {
   "cell_type": "markdown",
   "id": "d39ba600",
   "metadata": {},
   "source": [
    "**Итоги:**\n",
    "- Имеются 47 записей (0,22% от всех) с некорректным количеством детей `-1`, и 76 записей (0,35%) с некорректным количеством `20`.\n",
    "- Причина появления таких записей не ясна.\n",
    "- Как избежать: не принимать ввод менее 0.\n",
    "- Значения `-1` и `20` заменены на медианное."
   ]
  },
  {
   "cell_type": "markdown",
   "id": "b4b15868",
   "metadata": {},
   "source": [
    " #### Аномалии в  `age`"
   ]
  },
  {
   "cell_type": "code",
   "execution_count": 13,
   "id": "d129516a",
   "metadata": {},
   "outputs": [
    {
     "data": {
      "text/plain": [
       "array([ 0, 19, 20, 21, 22, 23, 24, 25, 26, 27, 28, 29, 30, 31, 32, 33, 34,\n",
       "       35, 36, 37, 38, 39, 40, 41, 42, 43, 44, 45, 46, 47, 48, 49, 50, 51,\n",
       "       52, 53, 54, 55, 56, 57, 58, 59, 60, 61, 62, 63, 64, 65, 66, 67, 68,\n",
       "       69, 70, 71, 72, 73, 74, 75], dtype=int64)"
      ]
     },
     "execution_count": 13,
     "metadata": {},
     "output_type": "execute_result"
    }
   ],
   "source": [
    "data['age'].sort_values().unique()"
   ]
  },
  {
   "cell_type": "markdown",
   "id": "0dd5576f",
   "metadata": {},
   "source": [
    "Существуют клиенты с возрастом новорождённых! Сколько таких?"
   ]
  },
  {
   "cell_type": "code",
   "execution_count": 14,
   "id": "65945ff9",
   "metadata": {
    "scrolled": true
   },
   "outputs": [
    {
     "name": "stdout",
     "output_type": "stream",
     "text": [
      "0: 101, 0.47%\n"
     ]
    }
   ],
   "source": [
    "print_count('age', 0)"
   ]
  },
  {
   "cell_type": "markdown",
   "id": "85915063",
   "metadata": {},
   "source": [
    "Их мало. Кто они?"
   ]
  },
  {
   "cell_type": "code",
   "execution_count": 15,
   "id": "d0ef5df1",
   "metadata": {},
   "outputs": [
    {
     "data": {
      "text/html": [
       "<div>\n",
       "<style scoped>\n",
       "    .dataframe tbody tr th:only-of-type {\n",
       "        vertical-align: middle;\n",
       "    }\n",
       "\n",
       "    .dataframe tbody tr th {\n",
       "        vertical-align: top;\n",
       "    }\n",
       "\n",
       "    .dataframe thead th {\n",
       "        text-align: right;\n",
       "    }\n",
       "</style>\n",
       "<table border=\"1\" class=\"dataframe\">\n",
       "  <thead>\n",
       "    <tr style=\"text-align: right;\">\n",
       "      <th></th>\n",
       "      <th>children</th>\n",
       "      <th>days_employed</th>\n",
       "      <th>age</th>\n",
       "      <th>education</th>\n",
       "      <th>education_id</th>\n",
       "      <th>family_status</th>\n",
       "      <th>family_status_id</th>\n",
       "      <th>gender</th>\n",
       "      <th>income_type</th>\n",
       "      <th>debt</th>\n",
       "      <th>total_income</th>\n",
       "      <th>purpose</th>\n",
       "    </tr>\n",
       "  </thead>\n",
       "  <tbody>\n",
       "    <tr>\n",
       "      <th>18539</th>\n",
       "      <td>0</td>\n",
       "      <td>-4852.175654</td>\n",
       "      <td>0</td>\n",
       "      <td>Высшее</td>\n",
       "      <td>0</td>\n",
       "      <td>Не женат / не замужем</td>\n",
       "      <td>4</td>\n",
       "      <td>M</td>\n",
       "      <td>компаньон</td>\n",
       "      <td>0</td>\n",
       "      <td>254837.819494</td>\n",
       "      <td>покупка жилья</td>\n",
       "    </tr>\n",
       "    <tr>\n",
       "      <th>18732</th>\n",
       "      <td>2</td>\n",
       "      <td>-986.789230</td>\n",
       "      <td>0</td>\n",
       "      <td>высшее</td>\n",
       "      <td>0</td>\n",
       "      <td>гражданский брак</td>\n",
       "      <td>1</td>\n",
       "      <td>F</td>\n",
       "      <td>компаньон</td>\n",
       "      <td>0</td>\n",
       "      <td>287328.538328</td>\n",
       "      <td>образование</td>\n",
       "    </tr>\n",
       "    <tr>\n",
       "      <th>18851</th>\n",
       "      <td>0</td>\n",
       "      <td>-10637.001569</td>\n",
       "      <td>0</td>\n",
       "      <td>среднее</td>\n",
       "      <td>1</td>\n",
       "      <td>женат / замужем</td>\n",
       "      <td>0</td>\n",
       "      <td>F</td>\n",
       "      <td>госслужащий</td>\n",
       "      <td>0</td>\n",
       "      <td>136537.132625</td>\n",
       "      <td>дополнительное образование</td>\n",
       "    </tr>\n",
       "    <tr>\n",
       "      <th>19116</th>\n",
       "      <td>0</td>\n",
       "      <td>331558.550969</td>\n",
       "      <td>0</td>\n",
       "      <td>высшее</td>\n",
       "      <td>0</td>\n",
       "      <td>женат / замужем</td>\n",
       "      <td>0</td>\n",
       "      <td>F</td>\n",
       "      <td>пенсионер</td>\n",
       "      <td>0</td>\n",
       "      <td>91791.878400</td>\n",
       "      <td>покупка коммерческой недвижимости</td>\n",
       "    </tr>\n",
       "    <tr>\n",
       "      <th>19371</th>\n",
       "      <td>1</td>\n",
       "      <td>-2356.250615</td>\n",
       "      <td>0</td>\n",
       "      <td>высшее</td>\n",
       "      <td>0</td>\n",
       "      <td>женат / замужем</td>\n",
       "      <td>0</td>\n",
       "      <td>F</td>\n",
       "      <td>компаньон</td>\n",
       "      <td>0</td>\n",
       "      <td>77936.218285</td>\n",
       "      <td>автомобиль</td>\n",
       "    </tr>\n",
       "    <tr>\n",
       "      <th>19829</th>\n",
       "      <td>0</td>\n",
       "      <td>NaN</td>\n",
       "      <td>0</td>\n",
       "      <td>среднее</td>\n",
       "      <td>1</td>\n",
       "      <td>женат / замужем</td>\n",
       "      <td>0</td>\n",
       "      <td>F</td>\n",
       "      <td>сотрудник</td>\n",
       "      <td>0</td>\n",
       "      <td>NaN</td>\n",
       "      <td>жилье</td>\n",
       "    </tr>\n",
       "    <tr>\n",
       "      <th>20462</th>\n",
       "      <td>0</td>\n",
       "      <td>338734.868540</td>\n",
       "      <td>0</td>\n",
       "      <td>среднее</td>\n",
       "      <td>1</td>\n",
       "      <td>женат / замужем</td>\n",
       "      <td>0</td>\n",
       "      <td>F</td>\n",
       "      <td>пенсионер</td>\n",
       "      <td>0</td>\n",
       "      <td>259193.920299</td>\n",
       "      <td>покупка своего жилья</td>\n",
       "    </tr>\n",
       "    <tr>\n",
       "      <th>20577</th>\n",
       "      <td>0</td>\n",
       "      <td>331741.271455</td>\n",
       "      <td>0</td>\n",
       "      <td>среднее</td>\n",
       "      <td>1</td>\n",
       "      <td>Не женат / не замужем</td>\n",
       "      <td>4</td>\n",
       "      <td>F</td>\n",
       "      <td>пенсионер</td>\n",
       "      <td>0</td>\n",
       "      <td>129788.762899</td>\n",
       "      <td>недвижимость</td>\n",
       "    </tr>\n",
       "    <tr>\n",
       "      <th>21179</th>\n",
       "      <td>2</td>\n",
       "      <td>-108.967042</td>\n",
       "      <td>0</td>\n",
       "      <td>высшее</td>\n",
       "      <td>0</td>\n",
       "      <td>женат / замужем</td>\n",
       "      <td>0</td>\n",
       "      <td>M</td>\n",
       "      <td>компаньон</td>\n",
       "      <td>0</td>\n",
       "      <td>240702.007382</td>\n",
       "      <td>строительство жилой недвижимости</td>\n",
       "    </tr>\n",
       "    <tr>\n",
       "      <th>21313</th>\n",
       "      <td>0</td>\n",
       "      <td>-1268.487728</td>\n",
       "      <td>0</td>\n",
       "      <td>среднее</td>\n",
       "      <td>1</td>\n",
       "      <td>Не женат / не замужем</td>\n",
       "      <td>4</td>\n",
       "      <td>M</td>\n",
       "      <td>сотрудник</td>\n",
       "      <td>0</td>\n",
       "      <td>152419.184851</td>\n",
       "      <td>операции с жильем</td>\n",
       "    </tr>\n",
       "  </tbody>\n",
       "</table>\n",
       "</div>"
      ],
      "text/plain": [
       "       children  days_employed  age education  education_id  \\\n",
       "18539         0   -4852.175654    0    Высшее             0   \n",
       "18732         2    -986.789230    0    высшее             0   \n",
       "18851         0  -10637.001569    0   среднее             1   \n",
       "19116         0  331558.550969    0    высшее             0   \n",
       "19371         1   -2356.250615    0    высшее             0   \n",
       "19829         0            NaN    0   среднее             1   \n",
       "20462         0  338734.868540    0   среднее             1   \n",
       "20577         0  331741.271455    0   среднее             1   \n",
       "21179         2    -108.967042    0    высшее             0   \n",
       "21313         0   -1268.487728    0   среднее             1   \n",
       "\n",
       "               family_status  family_status_id gender  income_type  debt  \\\n",
       "18539  Не женат / не замужем                 4      M    компаньон     0   \n",
       "18732       гражданский брак                 1      F    компаньон     0   \n",
       "18851        женат / замужем                 0      F  госслужащий     0   \n",
       "19116        женат / замужем                 0      F    пенсионер     0   \n",
       "19371        женат / замужем                 0      F    компаньон     0   \n",
       "19829        женат / замужем                 0      F    сотрудник     0   \n",
       "20462        женат / замужем                 0      F    пенсионер     0   \n",
       "20577  Не женат / не замужем                 4      F    пенсионер     0   \n",
       "21179        женат / замужем                 0      M    компаньон     0   \n",
       "21313  Не женат / не замужем                 4      M    сотрудник     0   \n",
       "\n",
       "        total_income                            purpose  \n",
       "18539  254837.819494                      покупка жилья  \n",
       "18732  287328.538328                        образование  \n",
       "18851  136537.132625         дополнительное образование  \n",
       "19116   91791.878400  покупка коммерческой недвижимости  \n",
       "19371   77936.218285                         автомобиль  \n",
       "19829            NaN                              жилье  \n",
       "20462  259193.920299               покупка своего жилья  \n",
       "20577  129788.762899                       недвижимость  \n",
       "21179  240702.007382   строительство жилой недвижимости  \n",
       "21313  152419.184851                  операции с жильем  "
      ]
     },
     "execution_count": 15,
     "metadata": {},
     "output_type": "execute_result"
    }
   ],
   "source": [
    "data[data['age'] == 0].tail(10)"
   ]
  },
  {
   "cell_type": "markdown",
   "id": "2eb52912",
   "metadata": {},
   "source": [
    "Таких людей мало, среди них есть состоящие в браке, трудящиеся, пенсионеры."
   ]
  },
  {
   "cell_type": "markdown",
   "id": "0a1bfcca",
   "metadata": {},
   "source": [
    "А как много доходов приходится на них?"
   ]
  },
  {
   "cell_type": "code",
   "execution_count": 16,
   "id": "530f1574",
   "metadata": {},
   "outputs": [
    {
     "name": "stdout",
     "output_type": "stream",
     "text": [
      "Доля в доходе: 0.44%\n"
     ]
    }
   ],
   "source": [
    "age_0_income = data[data['age'] == 0]['total_income'].sum()\n",
    "age_all_income = data['total_income'].sum()\n",
    "print(f'Доля в доходе: {(age_0_income / age_all_income):.02%}')"
   ]
  },
  {
   "cell_type": "markdown",
   "id": "5c6d222d",
   "metadata": {},
   "source": [
    "Это близко к доле 0.45% - доле от числа клиентов. Будем полагать, что это типичные клиенты. Заменяем на медианное значение возраста."
   ]
  },
  {
   "cell_type": "code",
   "execution_count": 17,
   "id": "1df0407c",
   "metadata": {},
   "outputs": [
    {
     "data": {
      "text/plain": [
       "array([19, 20, 21, 22, 23, 24, 25, 26, 27, 28, 29, 30, 31, 32, 33, 34, 35,\n",
       "       36, 37, 38, 39, 40, 41, 42, 43, 44, 45, 46, 47, 48, 49, 50, 51, 52,\n",
       "       53, 54, 55, 56, 57, 58, 59, 60, 61, 62, 63, 64, 65, 66, 67, 68, 69,\n",
       "       70, 71, 72, 73, 74, 75])"
      ]
     },
     "execution_count": 17,
     "metadata": {},
     "output_type": "execute_result"
    }
   ],
   "source": [
    "data['age'] = data['age'].replace(0, data['age'].median())\n",
    "\n",
    "# .replace() возвращает float, поэтому исправляем тип\n",
    "data['age'] = data['age'].astype('int32')\n",
    "\n",
    "# проверяем, какие теперь существуют значения кол-ва детей\n",
    "data['age'].sort_values().unique()"
   ]
  },
  {
   "cell_type": "markdown",
   "id": "f36b5937",
   "metadata": {},
   "source": [
    "**Итоги:**\n",
    "- Имеются 101 запись (0,47% от всех) с некорректным возрастом `0`.\n",
    "- Причина появления таких записей не ясна. Возможные причины:\n",
    "  - \"не пропечаталась\" первая цифра в \"круглом\" значении возраста (0 вместо 20, 30, ..., 70)\n",
    "  - клиенты хотели скрыть возраст,\n",
    "  - анкета заполнялась не на себя, и возраст оставался неизвестен.\n",
    "- Как избежать: не принимать ввод менее 1.\n",
    "- Значение `0` нет смысла использовать при анализе, оно заменено на медианное."
   ]
  },
  {
   "cell_type": "markdown",
   "id": "510905f2",
   "metadata": {},
   "source": [
    "#### Анализ аномалий в `days_employed`"
   ]
  },
  {
   "cell_type": "markdown",
   "id": "280c9468",
   "metadata": {},
   "source": [
    "Те значения, которые мы видели в этом поле - отрицательные. Какие они бывают во всей серии?"
   ]
  },
  {
   "cell_type": "code",
   "execution_count": 18,
   "id": "3281f6f8",
   "metadata": {},
   "outputs": [
    {
     "name": "stdout",
     "output_type": "stream",
     "text": [
      "Положительные значения:\n",
      "Количество: 3445, 16.00%\n",
      "Диапазон: 328729 ... 401755\n",
      "Среднее: 365004\n",
      "Медианное: 365213\n",
      "\n",
      "Отрицательные значения:\n",
      "Количество: 15906, 73.90%\n",
      "Диапазон: -24 ... -18389\n",
      "Среднее: -2353\n",
      "Медианное: -1630\n",
      "\n",
      "Нулевые значения:\n",
      "Количество: 0\n"
     ]
    }
   ],
   "source": [
    "positive_days = data[data['days_employed'] > 0]['days_employed']\n",
    "zero_days = data[data['days_employed'] == 0]['days_employed']\n",
    "negative_days = data[data['days_employed'] < 0]['days_employed']\n",
    "\n",
    "print('Положительные значения:')\n",
    "print(\n",
    "    f'Количество: {positive_days.count()}, {positive_days.count() / len(data.index):.02%}'\n",
    ")\n",
    "print(f'Диапазон: {positive_days.min():.0f} ... {positive_days.max():.0f}')\n",
    "print(f'Среднее: {positive_days.mean():.0f}')\n",
    "print(f'Медианное: {positive_days.median():.0f}')\n",
    "print()\n",
    "print('Отрицательные значения:')\n",
    "print(\n",
    "    f'Количество: {negative_days.count()}, {negative_days.count() / len(data.index):.02%}'\n",
    ")\n",
    "print(f'Диапазон: {negative_days.max():.0f} ... {negative_days.min():.0f}')\n",
    "print(f'Среднее: {negative_days.mean():.0f}')\n",
    "print(f'Медианное: {negative_days.median():.0f}')\n",
    "print()\n",
    "print('Нулевые значения:')\n",
    "print('Количество:', zero_days.count())"
   ]
  },
  {
   "cell_type": "markdown",
   "id": "7a8bd7aa",
   "metadata": {},
   "source": [
    "Мы наблюдаем две разные группы величин: негативные (менее нуля) и позитивные (более нуля).\n",
    "\n",
    "##### Анализ двух групп аномалий\n",
    "\n",
    "Отрицательного количества дней в стаже быть не должно. Имеем очевидную аномалию. К тому же, таких значений 73,9%, не исправлять их нельзя.\n",
    "\n",
    "Однако положительные величины тоже аномальны - сроки стажа, которые они описывают, составляют около 1000 лет, если считать, что указано кол-во дней. Их 16% от общего числа.\n",
    "\n",
    "Нормальных значений нет ни одного.\n",
    "\n",
    "Будем анализировать две группы аномалий по отдельности. Назовём эти группы \"негативной\" и \"позитивной\", по знаку перед цифрами.\n",
    "\n",
    "Они разные по знаку и по модулям. Есть ли похожие черты в эти группах?"
   ]
  },
  {
   "cell_type": "code",
   "execution_count": 19,
   "id": "173b5b03",
   "metadata": {},
   "outputs": [
    {
     "name": "stdout",
     "output_type": "stream",
     "text": [
      "Отношения модулей \"позитивная\"/\"негативная\":\n",
      "Максимумы: 21.84765321824669\n",
      "Средние: 155.12190332098564\n",
      "Медианные: 224.05457906067704\n",
      "Минимумы: 13616.672796325116\n"
     ]
    }
   ],
   "source": [
    "print('Отношения модулей \"позитивная\"/\"негативная\":')\n",
    "print('Максимумы:', positive_days.max() / abs(negative_days.min()))\n",
    "print('Средние:', positive_days.mean() / abs(negative_days.mean()))\n",
    "print('Медианные:', positive_days.median() / abs(negative_days.median()))\n",
    "print('Минимумы:', positive_days.min() / abs(negative_days.max()))"
   ]
  },
  {
   "cell_type": "markdown",
   "id": "b474f8b0",
   "metadata": {},
   "source": [
    "Группа позитивных величин более сжатая, негативных - более растянутая. Посчитаем среднюю плотность распределения величин."
   ]
  },
  {
   "cell_type": "code",
   "execution_count": 20,
   "id": "872a5924",
   "metadata": {},
   "outputs": [
    {
     "name": "stdout",
     "output_type": "stream",
     "text": [
      "Плотности:\n",
      "Позитивных: 21.197875143922136\n",
      "Негативных: 1.154583695921533\n"
     ]
    }
   ],
   "source": [
    "print(\"Плотности:\")\n",
    "print(\n",
    "    \"Позитивных:\",\n",
    "    (positive_days.max() - positive_days.min()) / positive_days.count(),\n",
    ")\n",
    "print(\n",
    "    \"Негативных:\",\n",
    "    (negative_days.max() - negative_days.min()) / negative_days.count(),\n",
    ")"
   ]
  },
  {
   "cell_type": "markdown",
   "id": "9b0da6aa",
   "metadata": {},
   "source": [
    "В негативной группе среднее различие между значениями, соседними по величине - 1.15. Это кажется логичным, если доверится тому, что `days_employed` должны исчисляться именно днями. Наши негативные величины различаются примерно на 1 день. Логично.\n",
    "\n",
    "В позитивной группе среднее различие между значениями, соседними по величине - 21.2. Если предположить, что и в этой группе плотность примерно 1 день на значение, то 21.2 близко к 24 - значению часов в 1 дне."
   ]
  },
  {
   "cell_type": "markdown",
   "id": "34d3ae7d",
   "metadata": {},
   "source": [
    "##### Проверка предположений: негативную группу достаточно умножить на -1; единица измерения стажа в \"позитивной\" группе - час.\n",
    "\n",
    "Надо проверить, будут ли \"негативные\" величины реалистичными, если взять их модули.\n",
    "\n",
    "И проверить, будут ли \"позитивные\" величины реалистичными, если уменьшить их по какому-либо правилу.\n",
    "\n",
    "Предположим, в позитивной группе указаны не дни, а часы трудового стажа, из расчёта 24 часа за 1 день. Проверим правдоподобность предположения."
   ]
  },
  {
   "cell_type": "code",
   "execution_count": 21,
   "id": "168a9917",
   "metadata": {},
   "outputs": [
    {
     "name": "stdout",
     "output_type": "stream",
     "text": [
      "Негативная группа:\n",
      "Самый скромный стаж, лет: 0.06609799923469822\n",
      "Самый крупный стаж, лет: 50.34757940140287\n",
      "\n",
      "Позитивная группа:\n",
      "Самый скромный стаж, лет: 37.50145116960974\n",
      "Самый крупный стаж, лет: 45.83235229749959\n"
     ]
    }
   ],
   "source": [
    "# это точное среднее количество суток в году в григорианском (общепринятом) календаре\n",
    "gregorian_year = 365.24\n",
    "\n",
    "print('Негативная группа:')\n",
    "print('Самый скромный стаж, лет:', abs(negative_days.max()) / gregorian_year)\n",
    "print('Самый крупный стаж, лет:', abs(negative_days.min()) / gregorian_year)\n",
    "print()\n",
    "print('Позитивная группа:')\n",
    "print('Самый скромный стаж, лет:', positive_days.min() / gregorian_year / 24)\n",
    "print('Самый крупный стаж, лет:', positive_days.max() / gregorian_year / 24)"
   ]
  },
  {
   "cell_type": "markdown",
   "id": "bd37e586",
   "metadata": {},
   "source": [
    "Теперь позитивная группа укладывается в разумные величины. Однако почему-то минимальный стаж из этой группы - 37 лет. Надо проверить соответствие возраста и стажа в обеих группах."
   ]
  },
  {
   "cell_type": "code",
   "execution_count": 22,
   "id": "20b996d2",
   "metadata": {},
   "outputs": [
    {
     "name": "stdout",
     "output_type": "stream",
     "text": [
      "Негативная группа:\n",
      "Возраст минимального стажа: 31\n",
      "Возраст максимального стажа: 61\n",
      "\n",
      "Позитивная группа:\n",
      "Возраст минимального стажа: 72\n",
      "Возраст максимального стажа: 56\n"
     ]
    }
   ],
   "source": [
    "print('Негативная группа:')\n",
    "print(\n",
    "    'Возраст минимального стажа:',\n",
    "    data[data['days_employed'] == negative_days.max()]['age'].values[0],\n",
    ")\n",
    "print(\n",
    "    'Возраст максимального стажа:',\n",
    "    data[data['days_employed'] == negative_days.min()]['age'].values[0],\n",
    ")\n",
    "print()\n",
    "print('Позитивная группа:')\n",
    "print(\n",
    "    'Возраст минимального стажа:',\n",
    "    data[data['days_employed'] == positive_days.min()]['age'].values[0],\n",
    ")\n",
    "print(\n",
    "    'Возраст максимального стажа:',\n",
    "    data[data['days_employed'] == positive_days.max()]['age'].values[0],\n",
    ")"
   ]
  },
  {
   "cell_type": "markdown",
   "id": "bb37bb25",
   "metadata": {},
   "source": [
    "Итак, в позитивной группе по нашим правилам самый крупный стаж составляет почти 46 лет, и принадлежит персоне возрастом 56 лет. Возможно, человек трудился с 10-летнего возраста. Это всё ещё выглядит необычно. Но не невозможно.\n",
    "\n",
    "Следовало бы проверить все случаи: нет ли такого, что рассчитанный нами стаж больше чем возраст?\n",
    "\n",
    "Создадим столбец `employed_years`, заполним его величинами, рассчитанными из `employed_days`:"
   ]
  },
  {
   "cell_type": "code",
   "execution_count": 23,
   "id": "9310a0e5",
   "metadata": {
    "scrolled": true
   },
   "outputs": [
    {
     "name": "stdout",
     "output_type": "stream",
     "text": [
      "Минимум лет без труда: -18.42252212894803\n",
      "Медиана лет без труда: 29.367771137857403\n"
     ]
    }
   ],
   "source": [
    "def convert_employed_to_years(number):\n",
    "    if number < 0:\n",
    "        return -number / gregorian_year\n",
    "    return number / 24 / gregorian_year\n",
    "\n",
    "\n",
    "data['years_employed'] = data['days_employed'].apply(convert_employed_to_years)\n",
    "data['years_unemployed'] = data['age'] - data['years_employed']\n",
    "print('Минимум лет без труда:', data['years_unemployed'].min())\n",
    "print('Медиана лет без труда:', data['years_unemployed'].median())"
   ]
  },
  {
   "cell_type": "markdown",
   "id": "f7dcd56d",
   "metadata": {},
   "source": [
    "У нас обнаружились клиенты, стаж которых больше, чем их возраст. Так не бывает. Посмотрим, какие данные о них."
   ]
  },
  {
   "cell_type": "code",
   "execution_count": 24,
   "id": "399ce36c",
   "metadata": {},
   "outputs": [
    {
     "data": {
      "text/html": [
       "<div>\n",
       "<style scoped>\n",
       "    .dataframe tbody tr th:only-of-type {\n",
       "        vertical-align: middle;\n",
       "    }\n",
       "\n",
       "    .dataframe tbody tr th {\n",
       "        vertical-align: top;\n",
       "    }\n",
       "\n",
       "    .dataframe thead th {\n",
       "        text-align: right;\n",
       "    }\n",
       "</style>\n",
       "<table border=\"1\" class=\"dataframe\">\n",
       "  <thead>\n",
       "    <tr style=\"text-align: right;\">\n",
       "      <th></th>\n",
       "      <th>children</th>\n",
       "      <th>days_employed</th>\n",
       "      <th>age</th>\n",
       "      <th>education</th>\n",
       "      <th>education_id</th>\n",
       "      <th>family_status</th>\n",
       "      <th>family_status_id</th>\n",
       "      <th>gender</th>\n",
       "      <th>income_type</th>\n",
       "      <th>debt</th>\n",
       "      <th>total_income</th>\n",
       "      <th>purpose</th>\n",
       "      <th>years_employed</th>\n",
       "      <th>years_unemployed</th>\n",
       "    </tr>\n",
       "  </thead>\n",
       "  <tbody>\n",
       "    <tr>\n",
       "      <th>157</th>\n",
       "      <td>0</td>\n",
       "      <td>348414.028009</td>\n",
       "      <td>38</td>\n",
       "      <td>среднее</td>\n",
       "      <td>1</td>\n",
       "      <td>женат / замужем</td>\n",
       "      <td>0</td>\n",
       "      <td>F</td>\n",
       "      <td>пенсионер</td>\n",
       "      <td>1</td>\n",
       "      <td>113560.650035</td>\n",
       "      <td>сделка с автомобилем</td>\n",
       "      <td>39.747156</td>\n",
       "      <td>-1.747156</td>\n",
       "    </tr>\n",
       "    <tr>\n",
       "      <th>578</th>\n",
       "      <td>0</td>\n",
       "      <td>397856.565013</td>\n",
       "      <td>42</td>\n",
       "      <td>среднее</td>\n",
       "      <td>1</td>\n",
       "      <td>женат / замужем</td>\n",
       "      <td>0</td>\n",
       "      <td>F</td>\n",
       "      <td>пенсионер</td>\n",
       "      <td>0</td>\n",
       "      <td>97620.687042</td>\n",
       "      <td>строительство собственной недвижимости</td>\n",
       "      <td>45.387572</td>\n",
       "      <td>-3.387572</td>\n",
       "    </tr>\n",
       "    <tr>\n",
       "      <th>751</th>\n",
       "      <td>0</td>\n",
       "      <td>390755.464054</td>\n",
       "      <td>41</td>\n",
       "      <td>среднее</td>\n",
       "      <td>1</td>\n",
       "      <td>женат / замужем</td>\n",
       "      <td>0</td>\n",
       "      <td>M</td>\n",
       "      <td>пенсионер</td>\n",
       "      <td>0</td>\n",
       "      <td>151898.693438</td>\n",
       "      <td>операции со своей недвижимостью</td>\n",
       "      <td>44.577477</td>\n",
       "      <td>-3.577477</td>\n",
       "    </tr>\n",
       "    <tr>\n",
       "      <th>776</th>\n",
       "      <td>0</td>\n",
       "      <td>365336.560325</td>\n",
       "      <td>38</td>\n",
       "      <td>среднее</td>\n",
       "      <td>1</td>\n",
       "      <td>женат / замужем</td>\n",
       "      <td>0</td>\n",
       "      <td>F</td>\n",
       "      <td>пенсионер</td>\n",
       "      <td>0</td>\n",
       "      <td>73859.425084</td>\n",
       "      <td>покупка недвижимости</td>\n",
       "      <td>41.677682</td>\n",
       "      <td>-3.677682</td>\n",
       "    </tr>\n",
       "    <tr>\n",
       "      <th>1175</th>\n",
       "      <td>0</td>\n",
       "      <td>370879.508002</td>\n",
       "      <td>42</td>\n",
       "      <td>среднее</td>\n",
       "      <td>1</td>\n",
       "      <td>женат / замужем</td>\n",
       "      <td>0</td>\n",
       "      <td>F</td>\n",
       "      <td>пенсионер</td>\n",
       "      <td>0</td>\n",
       "      <td>313949.845188</td>\n",
       "      <td>получение дополнительного образования</td>\n",
       "      <td>42.310023</td>\n",
       "      <td>-0.310023</td>\n",
       "    </tr>\n",
       "    <tr>\n",
       "      <th>1242</th>\n",
       "      <td>0</td>\n",
       "      <td>334764.259831</td>\n",
       "      <td>22</td>\n",
       "      <td>Среднее</td>\n",
       "      <td>1</td>\n",
       "      <td>Не женат / не замужем</td>\n",
       "      <td>4</td>\n",
       "      <td>F</td>\n",
       "      <td>пенсионер</td>\n",
       "      <td>0</td>\n",
       "      <td>89368.600062</td>\n",
       "      <td>получение высшего образования</td>\n",
       "      <td>38.189987</td>\n",
       "      <td>-16.189987</td>\n",
       "    </tr>\n",
       "    <tr>\n",
       "      <th>1383</th>\n",
       "      <td>0</td>\n",
       "      <td>353802.811675</td>\n",
       "      <td>37</td>\n",
       "      <td>среднее</td>\n",
       "      <td>1</td>\n",
       "      <td>вдовец / вдова</td>\n",
       "      <td>2</td>\n",
       "      <td>F</td>\n",
       "      <td>пенсионер</td>\n",
       "      <td>0</td>\n",
       "      <td>216452.226085</td>\n",
       "      <td>строительство недвижимости</td>\n",
       "      <td>40.361909</td>\n",
       "      <td>-3.361909</td>\n",
       "    </tr>\n",
       "    <tr>\n",
       "      <th>1446</th>\n",
       "      <td>0</td>\n",
       "      <td>338939.641634</td>\n",
       "      <td>37</td>\n",
       "      <td>СРЕДНЕЕ</td>\n",
       "      <td>1</td>\n",
       "      <td>гражданский брак</td>\n",
       "      <td>1</td>\n",
       "      <td>M</td>\n",
       "      <td>пенсионер</td>\n",
       "      <td>0</td>\n",
       "      <td>148657.128499</td>\n",
       "      <td>свадьба</td>\n",
       "      <td>38.666315</td>\n",
       "      <td>-1.666315</td>\n",
       "    </tr>\n",
       "    <tr>\n",
       "      <th>1637</th>\n",
       "      <td>0</td>\n",
       "      <td>399260.448516</td>\n",
       "      <td>39</td>\n",
       "      <td>среднее</td>\n",
       "      <td>1</td>\n",
       "      <td>женат / замужем</td>\n",
       "      <td>0</td>\n",
       "      <td>M</td>\n",
       "      <td>пенсионер</td>\n",
       "      <td>0</td>\n",
       "      <td>211513.978152</td>\n",
       "      <td>операции с недвижимостью</td>\n",
       "      <td>45.547728</td>\n",
       "      <td>-6.547728</td>\n",
       "    </tr>\n",
       "    <tr>\n",
       "      <th>1752</th>\n",
       "      <td>1</td>\n",
       "      <td>389979.039432</td>\n",
       "      <td>38</td>\n",
       "      <td>ВЫСШЕЕ</td>\n",
       "      <td>0</td>\n",
       "      <td>Не женат / не замужем</td>\n",
       "      <td>4</td>\n",
       "      <td>F</td>\n",
       "      <td>пенсионер</td>\n",
       "      <td>0</td>\n",
       "      <td>311574.433591</td>\n",
       "      <td>покупка недвижимости</td>\n",
       "      <td>44.488902</td>\n",
       "      <td>-6.488902</td>\n",
       "    </tr>\n",
       "  </tbody>\n",
       "</table>\n",
       "</div>"
      ],
      "text/plain": [
       "      children  days_employed  age education  education_id  \\\n",
       "157          0  348414.028009   38   среднее             1   \n",
       "578          0  397856.565013   42   среднее             1   \n",
       "751          0  390755.464054   41   среднее             1   \n",
       "776          0  365336.560325   38   среднее             1   \n",
       "1175         0  370879.508002   42   среднее             1   \n",
       "1242         0  334764.259831   22   Среднее             1   \n",
       "1383         0  353802.811675   37   среднее             1   \n",
       "1446         0  338939.641634   37   СРЕДНЕЕ             1   \n",
       "1637         0  399260.448516   39   среднее             1   \n",
       "1752         1  389979.039432   38    ВЫСШЕЕ             0   \n",
       "\n",
       "              family_status  family_status_id gender income_type  debt  \\\n",
       "157         женат / замужем                 0      F   пенсионер     1   \n",
       "578         женат / замужем                 0      F   пенсионер     0   \n",
       "751         женат / замужем                 0      M   пенсионер     0   \n",
       "776         женат / замужем                 0      F   пенсионер     0   \n",
       "1175        женат / замужем                 0      F   пенсионер     0   \n",
       "1242  Не женат / не замужем                 4      F   пенсионер     0   \n",
       "1383         вдовец / вдова                 2      F   пенсионер     0   \n",
       "1446       гражданский брак                 1      M   пенсионер     0   \n",
       "1637        женат / замужем                 0      M   пенсионер     0   \n",
       "1752  Не женат / не замужем                 4      F   пенсионер     0   \n",
       "\n",
       "       total_income                                 purpose  years_employed  \\\n",
       "157   113560.650035                    сделка с автомобилем       39.747156   \n",
       "578    97620.687042  строительство собственной недвижимости       45.387572   \n",
       "751   151898.693438         операции со своей недвижимостью       44.577477   \n",
       "776    73859.425084                    покупка недвижимости       41.677682   \n",
       "1175  313949.845188   получение дополнительного образования       42.310023   \n",
       "1242   89368.600062           получение высшего образования       38.189987   \n",
       "1383  216452.226085              строительство недвижимости       40.361909   \n",
       "1446  148657.128499                                 свадьба       38.666315   \n",
       "1637  211513.978152                операции с недвижимостью       45.547728   \n",
       "1752  311574.433591                    покупка недвижимости       44.488902   \n",
       "\n",
       "      years_unemployed  \n",
       "157          -1.747156  \n",
       "578          -3.387572  \n",
       "751          -3.577477  \n",
       "776          -3.677682  \n",
       "1175         -0.310023  \n",
       "1242        -16.189987  \n",
       "1383         -3.361909  \n",
       "1446         -1.666315  \n",
       "1637         -6.547728  \n",
       "1752         -6.488902  "
      ]
     },
     "execution_count": 24,
     "metadata": {},
     "output_type": "execute_result"
    }
   ],
   "source": [
    "data[data['years_unemployed'] < 0].head(10)"
   ]
  },
  {
   "cell_type": "markdown",
   "id": "b1bf8b04",
   "metadata": {},
   "source": [
    "У многих из них `age` равен 0. Нехорошо. Исключаем таких. Что известно о тех, у кого возраст указан, и стаж больше возраста?"
   ]
  },
  {
   "cell_type": "code",
   "execution_count": 25,
   "id": "558b767d",
   "metadata": {},
   "outputs": [
    {
     "data": {
      "text/html": [
       "<div>\n",
       "<style scoped>\n",
       "    .dataframe tbody tr th:only-of-type {\n",
       "        vertical-align: middle;\n",
       "    }\n",
       "\n",
       "    .dataframe tbody tr th {\n",
       "        vertical-align: top;\n",
       "    }\n",
       "\n",
       "    .dataframe thead th {\n",
       "        text-align: right;\n",
       "    }\n",
       "</style>\n",
       "<table border=\"1\" class=\"dataframe\">\n",
       "  <thead>\n",
       "    <tr style=\"text-align: right;\">\n",
       "      <th></th>\n",
       "      <th>children</th>\n",
       "      <th>days_employed</th>\n",
       "      <th>age</th>\n",
       "      <th>education</th>\n",
       "      <th>education_id</th>\n",
       "      <th>family_status</th>\n",
       "      <th>family_status_id</th>\n",
       "      <th>gender</th>\n",
       "      <th>income_type</th>\n",
       "      <th>debt</th>\n",
       "      <th>total_income</th>\n",
       "      <th>purpose</th>\n",
       "      <th>years_employed</th>\n",
       "      <th>years_unemployed</th>\n",
       "    </tr>\n",
       "  </thead>\n",
       "  <tbody>\n",
       "    <tr>\n",
       "      <th>157</th>\n",
       "      <td>0</td>\n",
       "      <td>348414.028009</td>\n",
       "      <td>38</td>\n",
       "      <td>среднее</td>\n",
       "      <td>1</td>\n",
       "      <td>женат / замужем</td>\n",
       "      <td>0</td>\n",
       "      <td>F</td>\n",
       "      <td>пенсионер</td>\n",
       "      <td>1</td>\n",
       "      <td>113560.650035</td>\n",
       "      <td>сделка с автомобилем</td>\n",
       "      <td>39.747156</td>\n",
       "      <td>-1.747156</td>\n",
       "    </tr>\n",
       "    <tr>\n",
       "      <th>578</th>\n",
       "      <td>0</td>\n",
       "      <td>397856.565013</td>\n",
       "      <td>42</td>\n",
       "      <td>среднее</td>\n",
       "      <td>1</td>\n",
       "      <td>женат / замужем</td>\n",
       "      <td>0</td>\n",
       "      <td>F</td>\n",
       "      <td>пенсионер</td>\n",
       "      <td>0</td>\n",
       "      <td>97620.687042</td>\n",
       "      <td>строительство собственной недвижимости</td>\n",
       "      <td>45.387572</td>\n",
       "      <td>-3.387572</td>\n",
       "    </tr>\n",
       "    <tr>\n",
       "      <th>751</th>\n",
       "      <td>0</td>\n",
       "      <td>390755.464054</td>\n",
       "      <td>41</td>\n",
       "      <td>среднее</td>\n",
       "      <td>1</td>\n",
       "      <td>женат / замужем</td>\n",
       "      <td>0</td>\n",
       "      <td>M</td>\n",
       "      <td>пенсионер</td>\n",
       "      <td>0</td>\n",
       "      <td>151898.693438</td>\n",
       "      <td>операции со своей недвижимостью</td>\n",
       "      <td>44.577477</td>\n",
       "      <td>-3.577477</td>\n",
       "    </tr>\n",
       "    <tr>\n",
       "      <th>776</th>\n",
       "      <td>0</td>\n",
       "      <td>365336.560325</td>\n",
       "      <td>38</td>\n",
       "      <td>среднее</td>\n",
       "      <td>1</td>\n",
       "      <td>женат / замужем</td>\n",
       "      <td>0</td>\n",
       "      <td>F</td>\n",
       "      <td>пенсионер</td>\n",
       "      <td>0</td>\n",
       "      <td>73859.425084</td>\n",
       "      <td>покупка недвижимости</td>\n",
       "      <td>41.677682</td>\n",
       "      <td>-3.677682</td>\n",
       "    </tr>\n",
       "    <tr>\n",
       "      <th>1175</th>\n",
       "      <td>0</td>\n",
       "      <td>370879.508002</td>\n",
       "      <td>42</td>\n",
       "      <td>среднее</td>\n",
       "      <td>1</td>\n",
       "      <td>женат / замужем</td>\n",
       "      <td>0</td>\n",
       "      <td>F</td>\n",
       "      <td>пенсионер</td>\n",
       "      <td>0</td>\n",
       "      <td>313949.845188</td>\n",
       "      <td>получение дополнительного образования</td>\n",
       "      <td>42.310023</td>\n",
       "      <td>-0.310023</td>\n",
       "    </tr>\n",
       "    <tr>\n",
       "      <th>1242</th>\n",
       "      <td>0</td>\n",
       "      <td>334764.259831</td>\n",
       "      <td>22</td>\n",
       "      <td>Среднее</td>\n",
       "      <td>1</td>\n",
       "      <td>Не женат / не замужем</td>\n",
       "      <td>4</td>\n",
       "      <td>F</td>\n",
       "      <td>пенсионер</td>\n",
       "      <td>0</td>\n",
       "      <td>89368.600062</td>\n",
       "      <td>получение высшего образования</td>\n",
       "      <td>38.189987</td>\n",
       "      <td>-16.189987</td>\n",
       "    </tr>\n",
       "    <tr>\n",
       "      <th>1383</th>\n",
       "      <td>0</td>\n",
       "      <td>353802.811675</td>\n",
       "      <td>37</td>\n",
       "      <td>среднее</td>\n",
       "      <td>1</td>\n",
       "      <td>вдовец / вдова</td>\n",
       "      <td>2</td>\n",
       "      <td>F</td>\n",
       "      <td>пенсионер</td>\n",
       "      <td>0</td>\n",
       "      <td>216452.226085</td>\n",
       "      <td>строительство недвижимости</td>\n",
       "      <td>40.361909</td>\n",
       "      <td>-3.361909</td>\n",
       "    </tr>\n",
       "    <tr>\n",
       "      <th>1446</th>\n",
       "      <td>0</td>\n",
       "      <td>338939.641634</td>\n",
       "      <td>37</td>\n",
       "      <td>СРЕДНЕЕ</td>\n",
       "      <td>1</td>\n",
       "      <td>гражданский брак</td>\n",
       "      <td>1</td>\n",
       "      <td>M</td>\n",
       "      <td>пенсионер</td>\n",
       "      <td>0</td>\n",
       "      <td>148657.128499</td>\n",
       "      <td>свадьба</td>\n",
       "      <td>38.666315</td>\n",
       "      <td>-1.666315</td>\n",
       "    </tr>\n",
       "    <tr>\n",
       "      <th>1637</th>\n",
       "      <td>0</td>\n",
       "      <td>399260.448516</td>\n",
       "      <td>39</td>\n",
       "      <td>среднее</td>\n",
       "      <td>1</td>\n",
       "      <td>женат / замужем</td>\n",
       "      <td>0</td>\n",
       "      <td>M</td>\n",
       "      <td>пенсионер</td>\n",
       "      <td>0</td>\n",
       "      <td>211513.978152</td>\n",
       "      <td>операции с недвижимостью</td>\n",
       "      <td>45.547728</td>\n",
       "      <td>-6.547728</td>\n",
       "    </tr>\n",
       "    <tr>\n",
       "      <th>1752</th>\n",
       "      <td>1</td>\n",
       "      <td>389979.039432</td>\n",
       "      <td>38</td>\n",
       "      <td>ВЫСШЕЕ</td>\n",
       "      <td>0</td>\n",
       "      <td>Не женат / не замужем</td>\n",
       "      <td>4</td>\n",
       "      <td>F</td>\n",
       "      <td>пенсионер</td>\n",
       "      <td>0</td>\n",
       "      <td>311574.433591</td>\n",
       "      <td>покупка недвижимости</td>\n",
       "      <td>44.488902</td>\n",
       "      <td>-6.488902</td>\n",
       "    </tr>\n",
       "  </tbody>\n",
       "</table>\n",
       "</div>"
      ],
      "text/plain": [
       "      children  days_employed  age education  education_id  \\\n",
       "157          0  348414.028009   38   среднее             1   \n",
       "578          0  397856.565013   42   среднее             1   \n",
       "751          0  390755.464054   41   среднее             1   \n",
       "776          0  365336.560325   38   среднее             1   \n",
       "1175         0  370879.508002   42   среднее             1   \n",
       "1242         0  334764.259831   22   Среднее             1   \n",
       "1383         0  353802.811675   37   среднее             1   \n",
       "1446         0  338939.641634   37   СРЕДНЕЕ             1   \n",
       "1637         0  399260.448516   39   среднее             1   \n",
       "1752         1  389979.039432   38    ВЫСШЕЕ             0   \n",
       "\n",
       "              family_status  family_status_id gender income_type  debt  \\\n",
       "157         женат / замужем                 0      F   пенсионер     1   \n",
       "578         женат / замужем                 0      F   пенсионер     0   \n",
       "751         женат / замужем                 0      M   пенсионер     0   \n",
       "776         женат / замужем                 0      F   пенсионер     0   \n",
       "1175        женат / замужем                 0      F   пенсионер     0   \n",
       "1242  Не женат / не замужем                 4      F   пенсионер     0   \n",
       "1383         вдовец / вдова                 2      F   пенсионер     0   \n",
       "1446       гражданский брак                 1      M   пенсионер     0   \n",
       "1637        женат / замужем                 0      M   пенсионер     0   \n",
       "1752  Не женат / не замужем                 4      F   пенсионер     0   \n",
       "\n",
       "       total_income                                 purpose  years_employed  \\\n",
       "157   113560.650035                    сделка с автомобилем       39.747156   \n",
       "578    97620.687042  строительство собственной недвижимости       45.387572   \n",
       "751   151898.693438         операции со своей недвижимостью       44.577477   \n",
       "776    73859.425084                    покупка недвижимости       41.677682   \n",
       "1175  313949.845188   получение дополнительного образования       42.310023   \n",
       "1242   89368.600062           получение высшего образования       38.189987   \n",
       "1383  216452.226085              строительство недвижимости       40.361909   \n",
       "1446  148657.128499                                 свадьба       38.666315   \n",
       "1637  211513.978152                операции с недвижимостью       45.547728   \n",
       "1752  311574.433591                    покупка недвижимости       44.488902   \n",
       "\n",
       "      years_unemployed  \n",
       "157          -1.747156  \n",
       "578          -3.387572  \n",
       "751          -3.577477  \n",
       "776          -3.677682  \n",
       "1175         -0.310023  \n",
       "1242        -16.189987  \n",
       "1383         -3.361909  \n",
       "1446         -1.666315  \n",
       "1637         -6.547728  \n",
       "1752         -6.488902  "
      ]
     },
     "execution_count": 25,
     "metadata": {},
     "output_type": "execute_result"
    }
   ],
   "source": [
    "data[(data['years_unemployed'] < 0) & (data['age'] > 0)].head(10)"
   ]
  },
  {
   "cell_type": "markdown",
   "id": "c357adfa",
   "metadata": {},
   "source": [
    "У этих, похоже, все величины `days_employed` из положительной группы. Найдём тех, у кого не нулевой возраст, отрицательные `days_employed` и `years_unemployed`."
   ]
  },
  {
   "cell_type": "code",
   "execution_count": 26,
   "id": "3af07949",
   "metadata": {
    "scrolled": true
   },
   "outputs": [
    {
     "data": {
      "text/html": [
       "<div>\n",
       "<style scoped>\n",
       "    .dataframe tbody tr th:only-of-type {\n",
       "        vertical-align: middle;\n",
       "    }\n",
       "\n",
       "    .dataframe tbody tr th {\n",
       "        vertical-align: top;\n",
       "    }\n",
       "\n",
       "    .dataframe thead th {\n",
       "        text-align: right;\n",
       "    }\n",
       "</style>\n",
       "<table border=\"1\" class=\"dataframe\">\n",
       "  <thead>\n",
       "    <tr style=\"text-align: right;\">\n",
       "      <th></th>\n",
       "      <th>children</th>\n",
       "      <th>days_employed</th>\n",
       "      <th>age</th>\n",
       "      <th>education</th>\n",
       "      <th>education_id</th>\n",
       "      <th>family_status</th>\n",
       "      <th>family_status_id</th>\n",
       "      <th>gender</th>\n",
       "      <th>income_type</th>\n",
       "      <th>debt</th>\n",
       "      <th>total_income</th>\n",
       "      <th>purpose</th>\n",
       "      <th>years_employed</th>\n",
       "      <th>years_unemployed</th>\n",
       "    </tr>\n",
       "  </thead>\n",
       "  <tbody>\n",
       "  </tbody>\n",
       "</table>\n",
       "</div>"
      ],
      "text/plain": [
       "Empty DataFrame\n",
       "Columns: [children, days_employed, age, education, education_id, family_status, family_status_id, gender, income_type, debt, total_income, purpose, years_employed, years_unemployed]\n",
       "Index: []"
      ]
     },
     "execution_count": 26,
     "metadata": {},
     "output_type": "execute_result"
    }
   ],
   "source": [
    "data[\n",
    "    (data['years_unemployed'] < 0)\n",
    "    & (data['age'] > 0)\n",
    "    & (data['days_employed'] < 0)\n",
    "].head(10)"
   ]
  },
  {
   "cell_type": "markdown",
   "id": "a6a382dd",
   "metadata": {},
   "source": [
    "Таких нет! Выходит, все отрицательные `years_unemployed` вызваны либо неверным возрастом, либо неверной интерпретацией положительных `days_employed`.\n",
    "\n",
    "Посмотрим клиентов, у которых всё в порядке с возрастом и с `days_employed`. Найдём 10 тех, у кого наименьший `years_unemployed`."
   ]
  },
  {
   "cell_type": "code",
   "execution_count": 27,
   "id": "d42e0fe6",
   "metadata": {
    "scrolled": false
   },
   "outputs": [
    {
     "data": {
      "text/html": [
       "<div>\n",
       "<style scoped>\n",
       "    .dataframe tbody tr th:only-of-type {\n",
       "        vertical-align: middle;\n",
       "    }\n",
       "\n",
       "    .dataframe tbody tr th {\n",
       "        vertical-align: top;\n",
       "    }\n",
       "\n",
       "    .dataframe thead th {\n",
       "        text-align: right;\n",
       "    }\n",
       "</style>\n",
       "<table border=\"1\" class=\"dataframe\">\n",
       "  <thead>\n",
       "    <tr style=\"text-align: right;\">\n",
       "      <th></th>\n",
       "      <th>children</th>\n",
       "      <th>days_employed</th>\n",
       "      <th>age</th>\n",
       "      <th>education</th>\n",
       "      <th>education_id</th>\n",
       "      <th>family_status</th>\n",
       "      <th>family_status_id</th>\n",
       "      <th>gender</th>\n",
       "      <th>income_type</th>\n",
       "      <th>debt</th>\n",
       "      <th>total_income</th>\n",
       "      <th>purpose</th>\n",
       "      <th>years_employed</th>\n",
       "      <th>years_unemployed</th>\n",
       "    </tr>\n",
       "  </thead>\n",
       "  <tbody>\n",
       "    <tr>\n",
       "      <th>16335</th>\n",
       "      <td>1</td>\n",
       "      <td>-18388.949901</td>\n",
       "      <td>61</td>\n",
       "      <td>среднее</td>\n",
       "      <td>1</td>\n",
       "      <td>женат / замужем</td>\n",
       "      <td>0</td>\n",
       "      <td>F</td>\n",
       "      <td>сотрудник</td>\n",
       "      <td>0</td>\n",
       "      <td>186178.934089</td>\n",
       "      <td>операции с недвижимостью</td>\n",
       "      <td>50.347579</td>\n",
       "      <td>10.652421</td>\n",
       "    </tr>\n",
       "    <tr>\n",
       "      <th>5708</th>\n",
       "      <td>0</td>\n",
       "      <td>-13210.485012</td>\n",
       "      <td>47</td>\n",
       "      <td>среднее</td>\n",
       "      <td>1</td>\n",
       "      <td>женат / замужем</td>\n",
       "      <td>0</td>\n",
       "      <td>F</td>\n",
       "      <td>сотрудник</td>\n",
       "      <td>0</td>\n",
       "      <td>144845.875361</td>\n",
       "      <td>покупка недвижимости</td>\n",
       "      <td>36.169327</td>\n",
       "      <td>10.830673</td>\n",
       "    </tr>\n",
       "    <tr>\n",
       "      <th>397</th>\n",
       "      <td>0</td>\n",
       "      <td>-12506.318296</td>\n",
       "      <td>46</td>\n",
       "      <td>среднее</td>\n",
       "      <td>1</td>\n",
       "      <td>женат / замужем</td>\n",
       "      <td>0</td>\n",
       "      <td>F</td>\n",
       "      <td>сотрудник</td>\n",
       "      <td>0</td>\n",
       "      <td>292843.287967</td>\n",
       "      <td>недвижимость</td>\n",
       "      <td>34.241371</td>\n",
       "      <td>11.758629</td>\n",
       "    </tr>\n",
       "    <tr>\n",
       "      <th>5959</th>\n",
       "      <td>0</td>\n",
       "      <td>-10939.299825</td>\n",
       "      <td>42</td>\n",
       "      <td>среднее</td>\n",
       "      <td>1</td>\n",
       "      <td>женат / замужем</td>\n",
       "      <td>0</td>\n",
       "      <td>F</td>\n",
       "      <td>сотрудник</td>\n",
       "      <td>0</td>\n",
       "      <td>74840.802028</td>\n",
       "      <td>автомобиль</td>\n",
       "      <td>29.950991</td>\n",
       "      <td>12.049009</td>\n",
       "    </tr>\n",
       "    <tr>\n",
       "      <th>13531</th>\n",
       "      <td>0</td>\n",
       "      <td>-9762.839918</td>\n",
       "      <td>39</td>\n",
       "      <td>среднее</td>\n",
       "      <td>1</td>\n",
       "      <td>женат / замужем</td>\n",
       "      <td>0</td>\n",
       "      <td>F</td>\n",
       "      <td>сотрудник</td>\n",
       "      <td>0</td>\n",
       "      <td>129855.627483</td>\n",
       "      <td>операции с коммерческой недвижимостью</td>\n",
       "      <td>26.729931</td>\n",
       "      <td>12.270069</td>\n",
       "    </tr>\n",
       "    <tr>\n",
       "      <th>2492</th>\n",
       "      <td>0</td>\n",
       "      <td>-13724.223884</td>\n",
       "      <td>50</td>\n",
       "      <td>высшее</td>\n",
       "      <td>0</td>\n",
       "      <td>женат / замужем</td>\n",
       "      <td>0</td>\n",
       "      <td>F</td>\n",
       "      <td>сотрудник</td>\n",
       "      <td>0</td>\n",
       "      <td>88152.289893</td>\n",
       "      <td>строительство жилой недвижимости</td>\n",
       "      <td>37.575906</td>\n",
       "      <td>12.424094</td>\n",
       "    </tr>\n",
       "    <tr>\n",
       "      <th>2082</th>\n",
       "      <td>0</td>\n",
       "      <td>-10689.250498</td>\n",
       "      <td>42</td>\n",
       "      <td>среднее</td>\n",
       "      <td>1</td>\n",
       "      <td>женат / замужем</td>\n",
       "      <td>0</td>\n",
       "      <td>F</td>\n",
       "      <td>сотрудник</td>\n",
       "      <td>0</td>\n",
       "      <td>386373.636958</td>\n",
       "      <td>операции с недвижимостью</td>\n",
       "      <td>29.266374</td>\n",
       "      <td>12.733626</td>\n",
       "    </tr>\n",
       "    <tr>\n",
       "      <th>4299</th>\n",
       "      <td>0</td>\n",
       "      <td>-17615.563266</td>\n",
       "      <td>61</td>\n",
       "      <td>среднее</td>\n",
       "      <td>1</td>\n",
       "      <td>женат / замужем</td>\n",
       "      <td>0</td>\n",
       "      <td>F</td>\n",
       "      <td>компаньон</td>\n",
       "      <td>0</td>\n",
       "      <td>122560.741753</td>\n",
       "      <td>покупка жилья</td>\n",
       "      <td>48.230104</td>\n",
       "      <td>12.769896</td>\n",
       "    </tr>\n",
       "    <tr>\n",
       "      <th>18851</th>\n",
       "      <td>0</td>\n",
       "      <td>-10637.001569</td>\n",
       "      <td>42</td>\n",
       "      <td>среднее</td>\n",
       "      <td>1</td>\n",
       "      <td>женат / замужем</td>\n",
       "      <td>0</td>\n",
       "      <td>F</td>\n",
       "      <td>госслужащий</td>\n",
       "      <td>0</td>\n",
       "      <td>136537.132625</td>\n",
       "      <td>дополнительное образование</td>\n",
       "      <td>29.123320</td>\n",
       "      <td>12.876680</td>\n",
       "    </tr>\n",
       "    <tr>\n",
       "      <th>19902</th>\n",
       "      <td>0</td>\n",
       "      <td>-8436.151295</td>\n",
       "      <td>36</td>\n",
       "      <td>среднее</td>\n",
       "      <td>1</td>\n",
       "      <td>гражданский брак</td>\n",
       "      <td>1</td>\n",
       "      <td>F</td>\n",
       "      <td>сотрудник</td>\n",
       "      <td>0</td>\n",
       "      <td>91250.788331</td>\n",
       "      <td>свадьба</td>\n",
       "      <td>23.097556</td>\n",
       "      <td>12.902444</td>\n",
       "    </tr>\n",
       "  </tbody>\n",
       "</table>\n",
       "</div>"
      ],
      "text/plain": [
       "       children  days_employed  age education  education_id     family_status  \\\n",
       "16335         1  -18388.949901   61   среднее             1   женат / замужем   \n",
       "5708          0  -13210.485012   47   среднее             1   женат / замужем   \n",
       "397           0  -12506.318296   46   среднее             1   женат / замужем   \n",
       "5959          0  -10939.299825   42   среднее             1   женат / замужем   \n",
       "13531         0   -9762.839918   39   среднее             1   женат / замужем   \n",
       "2492          0  -13724.223884   50    высшее             0   женат / замужем   \n",
       "2082          0  -10689.250498   42   среднее             1   женат / замужем   \n",
       "4299          0  -17615.563266   61   среднее             1   женат / замужем   \n",
       "18851         0  -10637.001569   42   среднее             1   женат / замужем   \n",
       "19902         0   -8436.151295   36   среднее             1  гражданский брак   \n",
       "\n",
       "       family_status_id gender  income_type  debt   total_income  \\\n",
       "16335                 0      F    сотрудник     0  186178.934089   \n",
       "5708                  0      F    сотрудник     0  144845.875361   \n",
       "397                   0      F    сотрудник     0  292843.287967   \n",
       "5959                  0      F    сотрудник     0   74840.802028   \n",
       "13531                 0      F    сотрудник     0  129855.627483   \n",
       "2492                  0      F    сотрудник     0   88152.289893   \n",
       "2082                  0      F    сотрудник     0  386373.636958   \n",
       "4299                  0      F    компаньон     0  122560.741753   \n",
       "18851                 0      F  госслужащий     0  136537.132625   \n",
       "19902                 1      F    сотрудник     0   91250.788331   \n",
       "\n",
       "                                     purpose  years_employed  years_unemployed  \n",
       "16335               операции с недвижимостью       50.347579         10.652421  \n",
       "5708                    покупка недвижимости       36.169327         10.830673  \n",
       "397                             недвижимость       34.241371         11.758629  \n",
       "5959                              автомобиль       29.950991         12.049009  \n",
       "13531  операции с коммерческой недвижимостью       26.729931         12.270069  \n",
       "2492        строительство жилой недвижимости       37.575906         12.424094  \n",
       "2082                операции с недвижимостью       29.266374         12.733626  \n",
       "4299                           покупка жилья       48.230104         12.769896  \n",
       "18851             дополнительное образование       29.123320         12.876680  \n",
       "19902                                свадьба       23.097556         12.902444  "
      ]
     },
     "execution_count": 27,
     "metadata": {},
     "output_type": "execute_result"
    }
   ],
   "source": [
    "data[(data['age'] > 0) & (data['days_employed'] < 0)].sort_values(\n",
    "    'years_unemployed'\n",
    ").head(10)"
   ]
  },
  {
   "cell_type": "markdown",
   "id": "7e86c85f",
   "metadata": {},
   "source": [
    "Величины `years_unemployed` выглядят сейчас реалистичней, чем ранее.\n",
    "\n",
    "Пора привести в порядок таблицу. Очистим от двух служебных колонок."
   ]
  },
  {
   "cell_type": "code",
   "execution_count": 28,
   "id": "8507dfa2",
   "metadata": {},
   "outputs": [
    {
     "name": "stdout",
     "output_type": "stream",
     "text": [
      "<class 'pandas.core.frame.DataFrame'>\n",
      "RangeIndex: 21525 entries, 0 to 21524\n",
      "Data columns (total 12 columns):\n",
      " #   Column            Non-Null Count  Dtype  \n",
      "---  ------            --------------  -----  \n",
      " 0   children          21525 non-null  int32  \n",
      " 1   days_employed     19351 non-null  float64\n",
      " 2   age               21525 non-null  int32  \n",
      " 3   education         21525 non-null  object \n",
      " 4   education_id      21525 non-null  int64  \n",
      " 5   family_status     21525 non-null  object \n",
      " 6   family_status_id  21525 non-null  int64  \n",
      " 7   gender            21525 non-null  object \n",
      " 8   income_type       21525 non-null  object \n",
      " 9   debt              21525 non-null  int64  \n",
      " 10  total_income      19351 non-null  float64\n",
      " 11  purpose           21525 non-null  object \n",
      "dtypes: float64(2), int32(2), int64(3), object(5)\n",
      "memory usage: 1.8+ MB\n"
     ]
    }
   ],
   "source": [
    "data = data.drop(columns=['years_employed', 'years_unemployed'])\n",
    "data.info()"
   ]
  },
  {
   "cell_type": "markdown",
   "id": "aa0c2c0f",
   "metadata": {},
   "source": [
    "**Итоги:**\n",
    "\n",
    "- Одно предположение подтвердилось: \"негативные\" значения выглядят реалистично, если интерпретировать их без знака `-`.\n",
    "- Другое предположение не подтвердилось: если считать, что \"позитивные\" значения выражены в часах, то всё равно существуют записи, где стаж больше, чем возраст. Это неестественно.\n",
    "- Мы не нашли способ, как преобразовать \"позитивные\" величины, чтобы использовать их.\n",
    "\n",
    "##### Проверка предположения: \"позитивные\" величины не коррелируют с возрастом\n",
    "\n",
    "Что же всё таки значат \"позитивные\" величины? Посмотрим, как они распределены среди возрастов."
   ]
  },
  {
   "cell_type": "code",
   "execution_count": 29,
   "id": "bc7b30ac",
   "metadata": {
    "scrolled": false
   },
   "outputs": [
    {
     "name": "stdout",
     "output_type": "stream",
     "text": [
      "22: 183, 0.85%\n",
      "26: 408, 1.90%\n",
      "27: 493, 2.29%\n",
      "28: 503, 2.34%\n",
      "31: 560, 2.60%\n",
      "32: 510, 2.37%\n",
      "33: 581, 2.70%\n",
      "34: 603, 2.80%\n",
      "35: 617, 2.87%\n",
      "36: 555, 2.58%\n",
      "37: 537, 2.49%\n",
      "38: 598, 2.78%\n",
      "39: 573, 2.66%\n",
      "40: 609, 2.83%\n",
      "41: 607, 2.82%\n",
      "42: 698, 3.24%\n",
      "43: 513, 2.38%\n",
      "44: 547, 2.54%\n",
      "45: 497, 2.31%\n",
      "46: 475, 2.21%\n",
      "47: 480, 2.23%\n",
      "48: 538, 2.50%\n",
      "49: 508, 2.36%\n",
      "50: 514, 2.39%\n",
      "51: 448, 2.08%\n",
      "52: 484, 2.25%\n",
      "53: 459, 2.13%\n",
      "54: 479, 2.23%\n",
      "55: 443, 2.06%\n",
      "56: 487, 2.26%\n",
      "57: 460, 2.14%\n",
      "58: 461, 2.14%\n",
      "59: 444, 2.06%\n",
      "60: 377, 1.75%\n",
      "61: 355, 1.65%\n",
      "62: 352, 1.64%\n",
      "63: 269, 1.25%\n",
      "64: 265, 1.23%\n",
      "65: 194, 0.90%\n",
      "66: 183, 0.85%\n",
      "67: 167, 0.78%\n",
      "68: 99, 0.46%\n",
      "69: 85, 0.39%\n",
      "70: 65, 0.30%\n",
      "71: 58, 0.27%\n",
      "72: 33, 0.15%\n",
      "73: 8, 0.04%\n",
      "74: 6, 0.03%\n"
     ]
    }
   ],
   "source": [
    "for value in data[data['days_employed'] > 0]['age'].sort_values().unique():\n",
    "    print_count('age', value)"
   ]
  },
  {
   "cell_type": "markdown",
   "id": "97ceb1ed",
   "metadata": {},
   "source": [
    "Распределение среди возрастов близко к равномерному. И мы помним, что диапазон \"позитивных\" величин не широк."
   ]
  },
  {
   "cell_type": "code",
   "execution_count": 30,
   "id": "a6154d32",
   "metadata": {
    "scrolled": true
   },
   "outputs": [
    {
     "data": {
      "text/plain": [
       "1.222148766729353"
      ]
     },
     "execution_count": 30,
     "metadata": {},
     "output_type": "execute_result"
    }
   ],
   "source": [
    "positive_days.max() / positive_days.min()"
   ]
  },
  {
   "cell_type": "code",
   "execution_count": 31,
   "id": "4800e065",
   "metadata": {},
   "outputs": [
    {
     "data": {
      "text/plain": [
       "73026.67987081176"
      ]
     },
     "execution_count": 31,
     "metadata": {},
     "output_type": "execute_result"
    }
   ],
   "source": [
    "positive_days.max() - positive_days.min()"
   ]
  },
  {
   "cell_type": "markdown",
   "id": "7db3bc1a",
   "metadata": {},
   "source": [
    "Их значение в зависимости от возраста не может существенно вырасти.\n",
    "\n",
    "Проверим предположение. Подготовим списки, и по ним сделаем графики."
   ]
  },
  {
   "cell_type": "code",
   "execution_count": 32,
   "id": "5a888576",
   "metadata": {},
   "outputs": [],
   "source": [
    "ages = data['age'].sort_values().unique()\n",
    "positive_abs_medians = []\n",
    "negative_abs_medians = []\n",
    "\n",
    "for age in ages:\n",
    "    positive_abs_medians.append(\n",
    "        abs(\n",
    "            data[(data['age'] == age) & (data['days_employed'] > 0)][\n",
    "                'days_employed'\n",
    "            ].median()\n",
    "        )\n",
    "    )\n",
    "\n",
    "    negative_abs_medians.append(\n",
    "        abs(\n",
    "            data[(data['age'] == age) & (data['days_employed'] < 0)][\n",
    "                'days_employed'\n",
    "            ].median()\n",
    "        )\n",
    "    )"
   ]
  },
  {
   "cell_type": "code",
   "execution_count": 33,
   "id": "0bcbd4a3",
   "metadata": {
    "scrolled": false
   },
   "outputs": [
    {
     "data": {
      "text/plain": [
       "<Axes: >"
      ]
     },
     "execution_count": 33,
     "metadata": {},
     "output_type": "execute_result"
    },
    {
     "data": {
      "image/png": "[encoded data removed]",
      "text/plain": [
       "<Figure size 640x480 with 1 Axes>"
      ]
     },
     "metadata": {},
     "output_type": "display_data"
    }
   ],
   "source": [
    "seaborn.barplot(x=ages, y=negative_abs_medians)"
   ]
  },
  {
   "cell_type": "markdown",
   "id": "f4a3fb47",
   "metadata": {},
   "source": [
    "Это график \"негативных\" величин. Чем старше возраст - тем больше медианный стаж."
   ]
  },
  {
   "cell_type": "code",
   "execution_count": 34,
   "id": "5292f4ba",
   "metadata": {
    "scrolled": false
   },
   "outputs": [
    {
     "data": {
      "text/plain": [
       "<Axes: >"
      ]
     },
     "execution_count": 34,
     "metadata": {},
     "output_type": "execute_result"
    },
    {
     "data": {
      "image/png": "[encoded data removed]",
      "text/plain": [
       "<Figure size 640x480 with 1 Axes>"
      ]
     },
     "metadata": {},
     "output_type": "display_data"
    }
   ],
   "source": [
    "seaborn.barplot(x=ages, y=positive_abs_medians)"
   ]
  },
  {
   "cell_type": "markdown",
   "id": "e39908fe",
   "metadata": {},
   "source": [
    "Это график медиан по \"позитивным\" величинам. Они мало меняются. Среди молодых возрастов колебания больше, среди старших - меньше.\n",
    "\n",
    "Это предположение подтвердилось. Медианный стаж из \"позитивных\" величин почти не зависит от возраста. Это неестественно. Мы ожидаем, что стаж с возрастом существенно увеличивается."
   ]
  },
  {
   "cell_type": "markdown",
   "id": "ffd13964",
   "metadata": {},
   "source": [
    "**Итоги анализа:**\n",
    "- Значения `days_employed` характерно делятся на группы \"положительных\" и \"отрицательных\".\n",
    "- Группа \"положительных\" величин явно не соответствует `days_employed`, и непригодна для задач.\n",
    "  - Она содержит не дни, а какие-то меньшие единицы измерения, либо ошибочные, либо случайно сгенерированные данные.\n",
    "  - Она неестественно распределяется по возрастам: рост стажа должен быть быстрее роста возраста. В этой группе медианный стаж почти не меняется с возрастом.\n",
    "  - Причина появления такой аномалии не ясна.\n",
    "  - Она составляет 16% от всех значений. Это существенная величина, и замена каким-либо одним значением исказит исследование.\n",
    "  - Мы заменим величины этой группы на медианные из \"отрицательной\" группы для каждого возраста.\n",
    "- Группа \"отрицательных\" величин `days_employed` в целом соответствует нашим ожиданиям.\n",
    "  - Она содержала верные по модулю, но отрицательные по абсолютному начению величины.\n",
    "  - Возможные причины аномалии:\n",
    "    - неверно сформулированные правила заполнения поля (поскольку такие величины никак не редкость, их 73,9% - самый типичный случай);\n",
    "    - неудачная автоматическая обработка значений в прошлом.\n",
    "- Нужно передать эти итоги сотрудникам, предоставившим данные."
   ]
  },
  {
   "cell_type": "markdown",
   "id": "67a67402",
   "metadata": {},
   "source": [
    "#### Исправление аномалий в `days_employed`"
   ]
  },
  {
   "cell_type": "markdown",
   "id": "6eb11656",
   "metadata": {},
   "source": [
    "Делаем \"отрицательные\" величины положительными. После этого они будут пригодны для исследования."
   ]
  },
  {
   "cell_type": "code",
   "execution_count": 35,
   "id": "52504d05",
   "metadata": {
    "scrolled": false
   },
   "outputs": [
    {
     "data": {
      "text/html": [
       "<div>\n",
       "<style scoped>\n",
       "    .dataframe tbody tr th:only-of-type {\n",
       "        vertical-align: middle;\n",
       "    }\n",
       "\n",
       "    .dataframe tbody tr th {\n",
       "        vertical-align: top;\n",
       "    }\n",
       "\n",
       "    .dataframe thead th {\n",
       "        text-align: right;\n",
       "    }\n",
       "</style>\n",
       "<table border=\"1\" class=\"dataframe\">\n",
       "  <thead>\n",
       "    <tr style=\"text-align: right;\">\n",
       "      <th></th>\n",
       "      <th>children</th>\n",
       "      <th>days_employed</th>\n",
       "      <th>age</th>\n",
       "      <th>education</th>\n",
       "      <th>education_id</th>\n",
       "      <th>family_status</th>\n",
       "      <th>family_status_id</th>\n",
       "      <th>gender</th>\n",
       "      <th>income_type</th>\n",
       "      <th>debt</th>\n",
       "      <th>total_income</th>\n",
       "      <th>purpose</th>\n",
       "    </tr>\n",
       "  </thead>\n",
       "  <tbody>\n",
       "    <tr>\n",
       "      <th>0</th>\n",
       "      <td>1</td>\n",
       "      <td>8437.673028</td>\n",
       "      <td>42</td>\n",
       "      <td>высшее</td>\n",
       "      <td>0</td>\n",
       "      <td>женат / замужем</td>\n",
       "      <td>0</td>\n",
       "      <td>F</td>\n",
       "      <td>сотрудник</td>\n",
       "      <td>0</td>\n",
       "      <td>253875.639453</td>\n",
       "      <td>покупка жилья</td>\n",
       "    </tr>\n",
       "    <tr>\n",
       "      <th>1</th>\n",
       "      <td>1</td>\n",
       "      <td>4024.803754</td>\n",
       "      <td>36</td>\n",
       "      <td>среднее</td>\n",
       "      <td>1</td>\n",
       "      <td>женат / замужем</td>\n",
       "      <td>0</td>\n",
       "      <td>F</td>\n",
       "      <td>сотрудник</td>\n",
       "      <td>0</td>\n",
       "      <td>112080.014102</td>\n",
       "      <td>приобретение автомобиля</td>\n",
       "    </tr>\n",
       "    <tr>\n",
       "      <th>2</th>\n",
       "      <td>0</td>\n",
       "      <td>5623.422610</td>\n",
       "      <td>33</td>\n",
       "      <td>Среднее</td>\n",
       "      <td>1</td>\n",
       "      <td>женат / замужем</td>\n",
       "      <td>0</td>\n",
       "      <td>M</td>\n",
       "      <td>сотрудник</td>\n",
       "      <td>0</td>\n",
       "      <td>145885.952297</td>\n",
       "      <td>покупка жилья</td>\n",
       "    </tr>\n",
       "    <tr>\n",
       "      <th>3</th>\n",
       "      <td>3</td>\n",
       "      <td>4124.747207</td>\n",
       "      <td>32</td>\n",
       "      <td>среднее</td>\n",
       "      <td>1</td>\n",
       "      <td>женат / замужем</td>\n",
       "      <td>0</td>\n",
       "      <td>M</td>\n",
       "      <td>сотрудник</td>\n",
       "      <td>0</td>\n",
       "      <td>267628.550329</td>\n",
       "      <td>дополнительное образование</td>\n",
       "    </tr>\n",
       "    <tr>\n",
       "      <th>4</th>\n",
       "      <td>0</td>\n",
       "      <td>-340266.072047</td>\n",
       "      <td>53</td>\n",
       "      <td>среднее</td>\n",
       "      <td>1</td>\n",
       "      <td>гражданский брак</td>\n",
       "      <td>1</td>\n",
       "      <td>F</td>\n",
       "      <td>пенсионер</td>\n",
       "      <td>0</td>\n",
       "      <td>158616.077870</td>\n",
       "      <td>сыграть свадьбу</td>\n",
       "    </tr>\n",
       "    <tr>\n",
       "      <th>5</th>\n",
       "      <td>0</td>\n",
       "      <td>926.185831</td>\n",
       "      <td>27</td>\n",
       "      <td>высшее</td>\n",
       "      <td>0</td>\n",
       "      <td>гражданский брак</td>\n",
       "      <td>1</td>\n",
       "      <td>M</td>\n",
       "      <td>компаньон</td>\n",
       "      <td>0</td>\n",
       "      <td>255763.565419</td>\n",
       "      <td>покупка жилья</td>\n",
       "    </tr>\n",
       "    <tr>\n",
       "      <th>6</th>\n",
       "      <td>0</td>\n",
       "      <td>2879.202052</td>\n",
       "      <td>43</td>\n",
       "      <td>высшее</td>\n",
       "      <td>0</td>\n",
       "      <td>женат / замужем</td>\n",
       "      <td>0</td>\n",
       "      <td>F</td>\n",
       "      <td>компаньон</td>\n",
       "      <td>0</td>\n",
       "      <td>240525.971920</td>\n",
       "      <td>операции с жильем</td>\n",
       "    </tr>\n",
       "    <tr>\n",
       "      <th>7</th>\n",
       "      <td>0</td>\n",
       "      <td>152.779569</td>\n",
       "      <td>50</td>\n",
       "      <td>СРЕДНЕЕ</td>\n",
       "      <td>1</td>\n",
       "      <td>женат / замужем</td>\n",
       "      <td>0</td>\n",
       "      <td>M</td>\n",
       "      <td>сотрудник</td>\n",
       "      <td>0</td>\n",
       "      <td>135823.934197</td>\n",
       "      <td>образование</td>\n",
       "    </tr>\n",
       "    <tr>\n",
       "      <th>8</th>\n",
       "      <td>2</td>\n",
       "      <td>6929.865299</td>\n",
       "      <td>35</td>\n",
       "      <td>ВЫСШЕЕ</td>\n",
       "      <td>0</td>\n",
       "      <td>гражданский брак</td>\n",
       "      <td>1</td>\n",
       "      <td>F</td>\n",
       "      <td>сотрудник</td>\n",
       "      <td>0</td>\n",
       "      <td>95856.832424</td>\n",
       "      <td>на проведение свадьбы</td>\n",
       "    </tr>\n",
       "    <tr>\n",
       "      <th>9</th>\n",
       "      <td>0</td>\n",
       "      <td>2188.756445</td>\n",
       "      <td>41</td>\n",
       "      <td>среднее</td>\n",
       "      <td>1</td>\n",
       "      <td>женат / замужем</td>\n",
       "      <td>0</td>\n",
       "      <td>M</td>\n",
       "      <td>сотрудник</td>\n",
       "      <td>0</td>\n",
       "      <td>144425.938277</td>\n",
       "      <td>покупка жилья для семьи</td>\n",
       "    </tr>\n",
       "  </tbody>\n",
       "</table>\n",
       "</div>"
      ],
      "text/plain": [
       "   children  days_employed  age education  education_id     family_status  \\\n",
       "0         1    8437.673028   42    высшее             0   женат / замужем   \n",
       "1         1    4024.803754   36   среднее             1   женат / замужем   \n",
       "2         0    5623.422610   33   Среднее             1   женат / замужем   \n",
       "3         3    4124.747207   32   среднее             1   женат / замужем   \n",
       "4         0 -340266.072047   53   среднее             1  гражданский брак   \n",
       "5         0     926.185831   27    высшее             0  гражданский брак   \n",
       "6         0    2879.202052   43    высшее             0   женат / замужем   \n",
       "7         0     152.779569   50   СРЕДНЕЕ             1   женат / замужем   \n",
       "8         2    6929.865299   35    ВЫСШЕЕ             0  гражданский брак   \n",
       "9         0    2188.756445   41   среднее             1   женат / замужем   \n",
       "\n",
       "   family_status_id gender income_type  debt   total_income  \\\n",
       "0                 0      F   сотрудник     0  253875.639453   \n",
       "1                 0      F   сотрудник     0  112080.014102   \n",
       "2                 0      M   сотрудник     0  145885.952297   \n",
       "3                 0      M   сотрудник     0  267628.550329   \n",
       "4                 1      F   пенсионер     0  158616.077870   \n",
       "5                 1      M   компаньон     0  255763.565419   \n",
       "6                 0      F   компаньон     0  240525.971920   \n",
       "7                 0      M   сотрудник     0  135823.934197   \n",
       "8                 1      F   сотрудник     0   95856.832424   \n",
       "9                 0      M   сотрудник     0  144425.938277   \n",
       "\n",
       "                      purpose  \n",
       "0               покупка жилья  \n",
       "1     приобретение автомобиля  \n",
       "2               покупка жилья  \n",
       "3  дополнительное образование  \n",
       "4             сыграть свадьбу  \n",
       "5               покупка жилья  \n",
       "6           операции с жильем  \n",
       "7                 образование  \n",
       "8       на проведение свадьбы  \n",
       "9     покупка жилья для семьи  "
      ]
     },
     "execution_count": 35,
     "metadata": {},
     "output_type": "execute_result"
    }
   ],
   "source": [
    "data['days_employed'] = data['days_employed'].apply(lambda x: 0 - x)\n",
    "data.head(10)"
   ]
  },
  {
   "cell_type": "markdown",
   "id": "4f923c8b",
   "metadata": {},
   "source": [
    "\"Положительные\" стали отрицательными. Заменим их на пригодные медианные значения стажа в зависимости от возраста."
   ]
  },
  {
   "cell_type": "code",
   "execution_count": 36,
   "id": "0d9f8988",
   "metadata": {},
   "outputs": [
    {
     "data": {
      "text/html": [
       "<div>\n",
       "<style scoped>\n",
       "    .dataframe tbody tr th:only-of-type {\n",
       "        vertical-align: middle;\n",
       "    }\n",
       "\n",
       "    .dataframe tbody tr th {\n",
       "        vertical-align: top;\n",
       "    }\n",
       "\n",
       "    .dataframe thead th {\n",
       "        text-align: right;\n",
       "    }\n",
       "</style>\n",
       "<table border=\"1\" class=\"dataframe\">\n",
       "  <thead>\n",
       "    <tr style=\"text-align: right;\">\n",
       "      <th></th>\n",
       "      <th>children</th>\n",
       "      <th>days_employed</th>\n",
       "      <th>age</th>\n",
       "      <th>education</th>\n",
       "      <th>education_id</th>\n",
       "      <th>family_status</th>\n",
       "      <th>family_status_id</th>\n",
       "      <th>gender</th>\n",
       "      <th>income_type</th>\n",
       "      <th>debt</th>\n",
       "      <th>total_income</th>\n",
       "      <th>purpose</th>\n",
       "    </tr>\n",
       "  </thead>\n",
       "  <tbody>\n",
       "    <tr>\n",
       "      <th>0</th>\n",
       "      <td>1</td>\n",
       "      <td>8437.673028</td>\n",
       "      <td>42</td>\n",
       "      <td>высшее</td>\n",
       "      <td>0</td>\n",
       "      <td>женат / замужем</td>\n",
       "      <td>0</td>\n",
       "      <td>F</td>\n",
       "      <td>сотрудник</td>\n",
       "      <td>0</td>\n",
       "      <td>253875.639453</td>\n",
       "      <td>покупка жилья</td>\n",
       "    </tr>\n",
       "    <tr>\n",
       "      <th>1</th>\n",
       "      <td>1</td>\n",
       "      <td>4024.803754</td>\n",
       "      <td>36</td>\n",
       "      <td>среднее</td>\n",
       "      <td>1</td>\n",
       "      <td>женат / замужем</td>\n",
       "      <td>0</td>\n",
       "      <td>F</td>\n",
       "      <td>сотрудник</td>\n",
       "      <td>0</td>\n",
       "      <td>112080.014102</td>\n",
       "      <td>приобретение автомобиля</td>\n",
       "    </tr>\n",
       "    <tr>\n",
       "      <th>2</th>\n",
       "      <td>0</td>\n",
       "      <td>5623.422610</td>\n",
       "      <td>33</td>\n",
       "      <td>Среднее</td>\n",
       "      <td>1</td>\n",
       "      <td>женат / замужем</td>\n",
       "      <td>0</td>\n",
       "      <td>M</td>\n",
       "      <td>сотрудник</td>\n",
       "      <td>0</td>\n",
       "      <td>145885.952297</td>\n",
       "      <td>покупка жилья</td>\n",
       "    </tr>\n",
       "    <tr>\n",
       "      <th>3</th>\n",
       "      <td>3</td>\n",
       "      <td>4124.747207</td>\n",
       "      <td>32</td>\n",
       "      <td>среднее</td>\n",
       "      <td>1</td>\n",
       "      <td>женат / замужем</td>\n",
       "      <td>0</td>\n",
       "      <td>M</td>\n",
       "      <td>сотрудник</td>\n",
       "      <td>0</td>\n",
       "      <td>267628.550329</td>\n",
       "      <td>дополнительное образование</td>\n",
       "    </tr>\n",
       "    <tr>\n",
       "      <th>4</th>\n",
       "      <td>0</td>\n",
       "      <td>2252.537414</td>\n",
       "      <td>53</td>\n",
       "      <td>среднее</td>\n",
       "      <td>1</td>\n",
       "      <td>гражданский брак</td>\n",
       "      <td>1</td>\n",
       "      <td>F</td>\n",
       "      <td>пенсионер</td>\n",
       "      <td>0</td>\n",
       "      <td>158616.077870</td>\n",
       "      <td>сыграть свадьбу</td>\n",
       "    </tr>\n",
       "    <tr>\n",
       "      <th>5</th>\n",
       "      <td>0</td>\n",
       "      <td>926.185831</td>\n",
       "      <td>27</td>\n",
       "      <td>высшее</td>\n",
       "      <td>0</td>\n",
       "      <td>гражданский брак</td>\n",
       "      <td>1</td>\n",
       "      <td>M</td>\n",
       "      <td>компаньон</td>\n",
       "      <td>0</td>\n",
       "      <td>255763.565419</td>\n",
       "      <td>покупка жилья</td>\n",
       "    </tr>\n",
       "    <tr>\n",
       "      <th>6</th>\n",
       "      <td>0</td>\n",
       "      <td>2879.202052</td>\n",
       "      <td>43</td>\n",
       "      <td>высшее</td>\n",
       "      <td>0</td>\n",
       "      <td>женат / замужем</td>\n",
       "      <td>0</td>\n",
       "      <td>F</td>\n",
       "      <td>компаньон</td>\n",
       "      <td>0</td>\n",
       "      <td>240525.971920</td>\n",
       "      <td>операции с жильем</td>\n",
       "    </tr>\n",
       "    <tr>\n",
       "      <th>7</th>\n",
       "      <td>0</td>\n",
       "      <td>152.779569</td>\n",
       "      <td>50</td>\n",
       "      <td>СРЕДНЕЕ</td>\n",
       "      <td>1</td>\n",
       "      <td>женат / замужем</td>\n",
       "      <td>0</td>\n",
       "      <td>M</td>\n",
       "      <td>сотрудник</td>\n",
       "      <td>0</td>\n",
       "      <td>135823.934197</td>\n",
       "      <td>образование</td>\n",
       "    </tr>\n",
       "    <tr>\n",
       "      <th>8</th>\n",
       "      <td>2</td>\n",
       "      <td>6929.865299</td>\n",
       "      <td>35</td>\n",
       "      <td>ВЫСШЕЕ</td>\n",
       "      <td>0</td>\n",
       "      <td>гражданский брак</td>\n",
       "      <td>1</td>\n",
       "      <td>F</td>\n",
       "      <td>сотрудник</td>\n",
       "      <td>0</td>\n",
       "      <td>95856.832424</td>\n",
       "      <td>на проведение свадьбы</td>\n",
       "    </tr>\n",
       "    <tr>\n",
       "      <th>9</th>\n",
       "      <td>0</td>\n",
       "      <td>2188.756445</td>\n",
       "      <td>41</td>\n",
       "      <td>среднее</td>\n",
       "      <td>1</td>\n",
       "      <td>женат / замужем</td>\n",
       "      <td>0</td>\n",
       "      <td>M</td>\n",
       "      <td>сотрудник</td>\n",
       "      <td>0</td>\n",
       "      <td>144425.938277</td>\n",
       "      <td>покупка жилья для семьи</td>\n",
       "    </tr>\n",
       "  </tbody>\n",
       "</table>\n",
       "</div>"
      ],
      "text/plain": [
       "   children  days_employed  age education  education_id     family_status  \\\n",
       "0         1    8437.673028   42    высшее             0   женат / замужем   \n",
       "1         1    4024.803754   36   среднее             1   женат / замужем   \n",
       "2         0    5623.422610   33   Среднее             1   женат / замужем   \n",
       "3         3    4124.747207   32   среднее             1   женат / замужем   \n",
       "4         0    2252.537414   53   среднее             1  гражданский брак   \n",
       "5         0     926.185831   27    высшее             0  гражданский брак   \n",
       "6         0    2879.202052   43    высшее             0   женат / замужем   \n",
       "7         0     152.779569   50   СРЕДНЕЕ             1   женат / замужем   \n",
       "8         2    6929.865299   35    ВЫСШЕЕ             0  гражданский брак   \n",
       "9         0    2188.756445   41   среднее             1   женат / замужем   \n",
       "\n",
       "   family_status_id gender income_type  debt   total_income  \\\n",
       "0                 0      F   сотрудник     0  253875.639453   \n",
       "1                 0      F   сотрудник     0  112080.014102   \n",
       "2                 0      M   сотрудник     0  145885.952297   \n",
       "3                 0      M   сотрудник     0  267628.550329   \n",
       "4                 1      F   пенсионер     0  158616.077870   \n",
       "5                 1      M   компаньон     0  255763.565419   \n",
       "6                 0      F   компаньон     0  240525.971920   \n",
       "7                 0      M   сотрудник     0  135823.934197   \n",
       "8                 1      F   сотрудник     0   95856.832424   \n",
       "9                 0      M   сотрудник     0  144425.938277   \n",
       "\n",
       "                      purpose  \n",
       "0               покупка жилья  \n",
       "1     приобретение автомобиля  \n",
       "2               покупка жилья  \n",
       "3  дополнительное образование  \n",
       "4             сыграть свадьбу  \n",
       "5               покупка жилья  \n",
       "6           операции с жильем  \n",
       "7                 образование  \n",
       "8       на проведение свадьбы  \n",
       "9     покупка жилья для семьи  "
      ]
     },
     "execution_count": 36,
     "metadata": {},
     "output_type": "execute_result"
    }
   ],
   "source": [
    "for age, median in zip(ages, negative_abs_medians):\n",
    "    data.loc[\n",
    "        (data['age'] == age) & (data['days_employed'] < 0), 'days_employed'\n",
    "    ] = median\n",
    "\n",
    "data.head(10)"
   ]
  },
  {
   "cell_type": "markdown",
   "id": "9dff8bcf",
   "metadata": {},
   "source": [
    "Проверим, остались ли отрицательные или аномально большие величины."
   ]
  },
  {
   "cell_type": "code",
   "execution_count": 37,
   "id": "079b18b1",
   "metadata": {},
   "outputs": [
    {
     "data": {
      "text/plain": [
       "count    19351.000000\n",
       "mean      2390.059211\n",
       "std       2113.344862\n",
       "min         24.141633\n",
       "25%        926.925347\n",
       "50%       2016.531883\n",
       "75%       3009.200412\n",
       "max      18388.949901\n",
       "Name: days_employed, dtype: float64"
      ]
     },
     "execution_count": 37,
     "metadata": {},
     "output_type": "execute_result"
    }
   ],
   "source": [
    "data['days_employed'].describe()"
   ]
  },
  {
   "cell_type": "markdown",
   "id": "da4dcb0e",
   "metadata": {},
   "source": [
    "Величин менее 0 и более 50 000 теперь нет.\n",
    "\n",
    "Последняя проверка: как сейчас распределён стаж по возрастам?"
   ]
  },
  {
   "cell_type": "code",
   "execution_count": 38,
   "id": "7db5dba6",
   "metadata": {},
   "outputs": [
    {
     "data": {
      "text/plain": [
       "<Axes: >"
      ]
     },
     "execution_count": 38,
     "metadata": {},
     "output_type": "execute_result"
    },
    {
     "data": {
      "image/png": "[encoded data removed]",
      "text/plain": [
       "<Figure size 640x480 with 1 Axes>"
      ]
     },
     "metadata": {},
     "output_type": "display_data"
    }
   ],
   "source": [
    "ages = data['age'].sort_values().unique()\n",
    "employed_medians = []\n",
    "\n",
    "for age in ages:\n",
    "    employed_medians.append(data[data['age'] == age]['days_employed'].median())\n",
    "\n",
    "seaborn.barplot(x=ages, y=employed_medians)"
   ]
  },
  {
   "cell_type": "markdown",
   "id": "595c209b",
   "metadata": {},
   "source": [
    "**Итоги исправлений:**\n",
    "- теперь стаж распределён естественным образом"
   ]
  },
  {
   "cell_type": "markdown",
   "id": "a666d47d",
   "metadata": {},
   "source": [
    " #### Аномалии в `gender`"
   ]
  },
  {
   "cell_type": "code",
   "execution_count": 39,
   "id": "03c15407",
   "metadata": {},
   "outputs": [
    {
     "data": {
      "text/plain": [
       "array(['F', 'M', 'XNA'], dtype=object)"
      ]
     },
     "execution_count": 39,
     "metadata": {},
     "output_type": "execute_result"
    }
   ],
   "source": [
    "data['gender'].sort_values().unique()"
   ]
  },
  {
   "cell_type": "markdown",
   "id": "9f55653e",
   "metadata": {},
   "source": [
    "Помимо пола `F` = \"жен\" и `M` = \"муж\", существует категория \"XNA\". Cколько их?"
   ]
  },
  {
   "cell_type": "code",
   "execution_count": 40,
   "id": "19eb6c06",
   "metadata": {},
   "outputs": [
    {
     "name": "stdout",
     "output_type": "stream",
     "text": [
      "XNA: 1, 0.00%\n"
     ]
    }
   ],
   "source": [
    "print_count('gender', 'XNA')"
   ]
  },
  {
   "cell_type": "markdown",
   "id": "f490acb0",
   "metadata": {},
   "source": [
    "Один человек. Что мы знаем о нём?"
   ]
  },
  {
   "cell_type": "code",
   "execution_count": 41,
   "id": "c645f9bd",
   "metadata": {},
   "outputs": [
    {
     "data": {
      "text/html": [
       "<div>\n",
       "<style scoped>\n",
       "    .dataframe tbody tr th:only-of-type {\n",
       "        vertical-align: middle;\n",
       "    }\n",
       "\n",
       "    .dataframe tbody tr th {\n",
       "        vertical-align: top;\n",
       "    }\n",
       "\n",
       "    .dataframe thead th {\n",
       "        text-align: right;\n",
       "    }\n",
       "</style>\n",
       "<table border=\"1\" class=\"dataframe\">\n",
       "  <thead>\n",
       "    <tr style=\"text-align: right;\">\n",
       "      <th></th>\n",
       "      <th>children</th>\n",
       "      <th>days_employed</th>\n",
       "      <th>age</th>\n",
       "      <th>education</th>\n",
       "      <th>education_id</th>\n",
       "      <th>family_status</th>\n",
       "      <th>family_status_id</th>\n",
       "      <th>gender</th>\n",
       "      <th>income_type</th>\n",
       "      <th>debt</th>\n",
       "      <th>total_income</th>\n",
       "      <th>purpose</th>\n",
       "    </tr>\n",
       "  </thead>\n",
       "  <tbody>\n",
       "    <tr>\n",
       "      <th>10701</th>\n",
       "      <td>0</td>\n",
       "      <td>2358.600502</td>\n",
       "      <td>24</td>\n",
       "      <td>неоконченное высшее</td>\n",
       "      <td>2</td>\n",
       "      <td>гражданский брак</td>\n",
       "      <td>1</td>\n",
       "      <td>XNA</td>\n",
       "      <td>компаньон</td>\n",
       "      <td>0</td>\n",
       "      <td>203905.157261</td>\n",
       "      <td>покупка недвижимости</td>\n",
       "    </tr>\n",
       "  </tbody>\n",
       "</table>\n",
       "</div>"
      ],
      "text/plain": [
       "       children  days_employed  age            education  education_id  \\\n",
       "10701         0    2358.600502   24  неоконченное высшее             2   \n",
       "\n",
       "          family_status  family_status_id gender income_type  debt  \\\n",
       "10701  гражданский брак                 1    XNA   компаньон     0   \n",
       "\n",
       "        total_income               purpose  \n",
       "10701  203905.157261  покупка недвижимости  "
      ]
     },
     "execution_count": 41,
     "metadata": {},
     "output_type": "execute_result"
    }
   ],
   "source": [
    "data[data['gender'] == 'XNA']"
   ]
  },
  {
   "cell_type": "markdown",
   "id": "f993441f",
   "metadata": {},
   "source": [
    "Он (она) в браке, но не видно способа узнать, какого пола его партнёр.\n",
    "\n",
    "Предполагаем, что коственно пол можно узнать по сочетанию возраста, образования, дохода и стажа, возможно - по другим данным."
   ]
  },
  {
   "cell_type": "code",
   "execution_count": 42,
   "id": "7c24fdfa",
   "metadata": {
    "scrolled": true
   },
   "outputs": [
    {
     "name": "stdout",
     "output_type": "stream",
     "text": [
      " F: income 125605, employed 997 days.\n",
      " M: income 204513, employed 1105 days.\n",
      " XNA: income 203905, employed 2359 days.\n"
     ]
    }
   ],
   "source": [
    "# шаблон \"такие как XNA\"\n",
    "xna_profile = (data['age'] == 24) & (data['education_id'] == 2)\n",
    "\n",
    "for gender in data['gender'].unique():\n",
    "    # шаблон \"такие как gender\"\n",
    "    gender_profile = data[(data['gender'] == gender) & xna_profile]\n",
    "\n",
    "    income = gender_profile['total_income'].median()\n",
    "    employed = gender_profile['days_employed'].median()\n",
    "\n",
    "    print(f' {gender}: income {income:.0f}, employed {employed:.0f} days.')"
   ]
  },
  {
   "cell_type": "markdown",
   "id": "fbabd4ab",
   "metadata": {},
   "source": [
    "Доход XNA похож на мужской, но и стаж вдвое выше. Поэтому узнаем, а сколько зарабатывают мужчины и женщины с таким стажем и возрастом. А потом со стажем и образованием."
   ]
  },
  {
   "cell_type": "code",
   "execution_count": 43,
   "id": "e83ef646",
   "metadata": {},
   "outputs": [
    {
     "name": "stdout",
     "output_type": "stream",
     "text": [
      " F: income 177047, employed 2265 days.\n",
      " M: income 168919, employed 2269 days.\n",
      " XNA: income 203905, employed 2359 days.\n"
     ]
    }
   ],
   "source": [
    "# шаблон \"такие как XNA\"\n",
    "xna_profile = (\n",
    "    (data['age'] == 24)\n",
    "    & (data['days_employed'] > 2359 / 1.1)\n",
    "    & (data['days_employed'] < 2359 * 1.1)\n",
    ")\n",
    "\n",
    "for gender in data['gender'].unique():\n",
    "    # шаблон \"такие как gender\"\n",
    "    gender_profile = data[(data['gender'] == gender) & xna_profile]\n",
    "\n",
    "    income = gender_profile['total_income'].median()\n",
    "    employed = gender_profile['days_employed'].median()\n",
    "\n",
    "    print(f' {gender}: income {income:.0f}, employed {employed:.0f} days.')"
   ]
  },
  {
   "cell_type": "markdown",
   "id": "8b1d9ac0",
   "metadata": {},
   "source": [
    "Если в 24 года у мужчин и женщин похожий стаж - то и похожий доход. XNA зарабатывает больше тех и других. Какого он пола - не очевидно."
   ]
  },
  {
   "cell_type": "code",
   "execution_count": 44,
   "id": "5837136a",
   "metadata": {
    "scrolled": true
   },
   "outputs": [
    {
     "name": "stdout",
     "output_type": "stream",
     "text": [
      " F: income 124608, employed 2304 days.\n",
      " M: income 229769, employed 2239 days.\n",
      " XNA: income 203905, employed 2359 days.\n"
     ]
    }
   ],
   "source": [
    "# шаблон \"такие как XNA\"\n",
    "xna_profile = (\n",
    "    (data['education_id'] == 2)\n",
    "    & (data['days_employed'] > 2359 / 1.1)\n",
    "    & (data['days_employed'] < 2359 * 1.1)\n",
    ")\n",
    "\n",
    "for gender in data['gender'].unique():\n",
    "    # шаблон \"такие как gender\"\n",
    "    gender_profile = data[(data['gender'] == gender) & xna_profile]\n",
    "\n",
    "    income = gender_profile['total_income'].median()\n",
    "    employed = gender_profile['days_employed'].median()\n",
    "\n",
    "    print(f' {gender}: income {income:.0f}, employed {employed:.0f} days.')"
   ]
  },
  {
   "cell_type": "markdown",
   "id": "92302152",
   "metadata": {},
   "source": [
    "С неполным высшим образованием и стажем 6 полных лет мужчины имеют доход почти вдвое выше женщин.\n",
    "\n",
    "XNA по результатам более похож на мужчину.\n",
    "\n",
    "Проставим пол явно."
   ]
  },
  {
   "cell_type": "code",
   "execution_count": 45,
   "id": "efe58e6b",
   "metadata": {},
   "outputs": [
    {
     "data": {
      "text/plain": [
       "array(['F', 'M'], dtype=object)"
      ]
     },
     "execution_count": 45,
     "metadata": {},
     "output_type": "execute_result"
    }
   ],
   "source": [
    "data.loc[data['gender'] == 'XNA', 'gender'] = 'M'\n",
    "data['gender'].unique()"
   ]
  },
  {
   "cell_type": "markdown",
   "id": "f3bf72fa",
   "metadata": {},
   "source": [
    "**Итоги:**\n",
    "- Имеется 1 запись (0,00% от всех) с некорректным полом `XNA`.\n",
    "- Причина появления такой записи не ясна. `X` и `NA` (not avaliable) сами по себе часто означают \"нет данных\". Возможные причины:\n",
    "  - клиент хотел скрыть пол;\n",
    "  - анкета заполнялась не на себя, и пол не очевиден;\n",
    "  - пол не укладывается в бинарное \"муж/жен\".\n",
    "- Как избежать:\n",
    "  - можно заменить этот столбец на булевый is_female();\n",
    "  - если признаём много полов - запретить некоторые значения, типа содержащих 'NA', и прикреплять к данным расшифровку каждого значения.\n",
    "- По сочетанию дохода и образования этот клиент скорее мужчина.\n",
    "- Мы произвели замену значения `XNA` на `M`."
   ]
  },
  {
   "cell_type": "markdown",
   "id": "c293c1f8",
   "metadata": {},
   "source": [
    " ### Заполнение пропусков. <a id=\"fillna\"></a>"
   ]
  },
  {
   "cell_type": "markdown",
   "id": "05575e2d",
   "metadata": {},
   "source": [
    "Проверим, сколько явных пропусков и в каких они данных."
   ]
  },
  {
   "cell_type": "code",
   "execution_count": 46,
   "id": "34472fa9",
   "metadata": {},
   "outputs": [
    {
     "data": {
      "text/plain": [
       "children               0\n",
       "days_employed       2174\n",
       "age                    0\n",
       "education              0\n",
       "education_id           0\n",
       "family_status          0\n",
       "family_status_id       0\n",
       "gender                 0\n",
       "income_type            0\n",
       "debt                   0\n",
       "total_income        2174\n",
       "purpose                0\n",
       "dtype: int64"
      ]
     },
     "execution_count": 46,
     "metadata": {},
     "output_type": "execute_result"
    }
   ],
   "source": [
    "data.isna().sum()"
   ]
  },
  {
   "cell_type": "markdown",
   "id": "0f1f8e01",
   "metadata": {},
   "source": [
    "Как и в `.info()`, мы видим, что пропуски сделаны в двух колонках: `days_employed` и `total_income`. Поровну в каждой колонке. Значит ли это, что пропуски находятся в одни и тех же строках? Посчитаем строки, в которых пропущены данные обеих колонок сразу."
   ]
  },
  {
   "cell_type": "code",
   "execution_count": 47,
   "id": "53d4b723",
   "metadata": {},
   "outputs": [
    {
     "name": "stdout",
     "output_type": "stream",
     "text": [
      "Строк: 2174, 10.10%\n"
     ]
    }
   ],
   "source": [
    "nan_rows = data[data['days_employed'].isna() & data['total_income'].isna()]\n",
    "nan_rows_count = len(nan_rows.index)\n",
    "\n",
    "print(f'Строк: {nan_rows_count}, {nan_rows_count / len(data.index):.02%}')"
   ]
  },
  {
   "cell_type": "markdown",
   "id": "774ff31a",
   "metadata": {},
   "source": [
    "Таких строк ровно столько сколько пропусков вообще. То есть, во всех строках с пропусками пропущены сразу оба поля: `days_employed` и `total_income`.\n",
    "\n",
    "Они составляют существенную долю данных, их не стоит удалять.\n",
    "\n",
    "Стаж и доход заполним медианными значениями."
   ]
  },
  {
   "cell_type": "markdown",
   "id": "7f9d07e6",
   "metadata": {},
   "source": [
    "Посмотрим значения медианого стажа в зависимости от пола и возраста."
   ]
  },
  {
   "cell_type": "code",
   "execution_count": 48,
   "id": "5f49a4ea",
   "metadata": {},
   "outputs": [
    {
     "data": {
      "text/html": [
       "<div>\n",
       "<style scoped>\n",
       "    .dataframe tbody tr th:only-of-type {\n",
       "        vertical-align: middle;\n",
       "    }\n",
       "\n",
       "    .dataframe tbody tr th {\n",
       "        vertical-align: top;\n",
       "    }\n",
       "\n",
       "    .dataframe thead th {\n",
       "        text-align: right;\n",
       "    }\n",
       "</style>\n",
       "<table border=\"1\" class=\"dataframe\">\n",
       "  <thead>\n",
       "    <tr style=\"text-align: right;\">\n",
       "      <th>gender</th>\n",
       "      <th>F</th>\n",
       "      <th>M</th>\n",
       "    </tr>\n",
       "    <tr>\n",
       "      <th>age</th>\n",
       "      <th></th>\n",
       "      <th></th>\n",
       "    </tr>\n",
       "  </thead>\n",
       "  <tbody>\n",
       "    <tr>\n",
       "      <th>19</th>\n",
       "      <td>710.230781</td>\n",
       "      <td>885.268574</td>\n",
       "    </tr>\n",
       "    <tr>\n",
       "      <th>20</th>\n",
       "      <td>595.559207</td>\n",
       "      <td>880.528819</td>\n",
       "    </tr>\n",
       "    <tr>\n",
       "      <th>21</th>\n",
       "      <td>608.003610</td>\n",
       "      <td>627.185770</td>\n",
       "    </tr>\n",
       "    <tr>\n",
       "      <th>22</th>\n",
       "      <td>698.101581</td>\n",
       "      <td>740.851560</td>\n",
       "    </tr>\n",
       "    <tr>\n",
       "      <th>23</th>\n",
       "      <td>634.611807</td>\n",
       "      <td>727.699529</td>\n",
       "    </tr>\n",
       "    <tr>\n",
       "      <th>24</th>\n",
       "      <td>964.894524</td>\n",
       "      <td>915.007109</td>\n",
       "    </tr>\n",
       "    <tr>\n",
       "      <th>25</th>\n",
       "      <td>951.181756</td>\n",
       "      <td>869.061319</td>\n",
       "    </tr>\n",
       "    <tr>\n",
       "      <th>26</th>\n",
       "      <td>1173.584347</td>\n",
       "      <td>963.650800</td>\n",
       "    </tr>\n",
       "    <tr>\n",
       "      <th>27</th>\n",
       "      <td>1195.389362</td>\n",
       "      <td>1122.448117</td>\n",
       "    </tr>\n",
       "    <tr>\n",
       "      <th>28</th>\n",
       "      <td>1289.487398</td>\n",
       "      <td>935.430693</td>\n",
       "    </tr>\n",
       "    <tr>\n",
       "      <th>29</th>\n",
       "      <td>1450.847696</td>\n",
       "      <td>1218.859260</td>\n",
       "    </tr>\n",
       "    <tr>\n",
       "      <th>30</th>\n",
       "      <td>1421.449054</td>\n",
       "      <td>1420.586863</td>\n",
       "    </tr>\n",
       "    <tr>\n",
       "      <th>31</th>\n",
       "      <td>1315.077457</td>\n",
       "      <td>1277.289382</td>\n",
       "    </tr>\n",
       "    <tr>\n",
       "      <th>32</th>\n",
       "      <td>1536.208255</td>\n",
       "      <td>1302.584939</td>\n",
       "    </tr>\n",
       "    <tr>\n",
       "      <th>33</th>\n",
       "      <td>1561.965657</td>\n",
       "      <td>1282.076279</td>\n",
       "    </tr>\n",
       "    <tr>\n",
       "      <th>34</th>\n",
       "      <td>1631.262559</td>\n",
       "      <td>1561.246793</td>\n",
       "    </tr>\n",
       "    <tr>\n",
       "      <th>35</th>\n",
       "      <td>1722.672507</td>\n",
       "      <td>1496.070815</td>\n",
       "    </tr>\n",
       "    <tr>\n",
       "      <th>36</th>\n",
       "      <td>1848.502185</td>\n",
       "      <td>1708.589745</td>\n",
       "    </tr>\n",
       "    <tr>\n",
       "      <th>37</th>\n",
       "      <td>1847.731652</td>\n",
       "      <td>1743.604011</td>\n",
       "    </tr>\n",
       "    <tr>\n",
       "      <th>38</th>\n",
       "      <td>1803.053103</td>\n",
       "      <td>1623.108469</td>\n",
       "    </tr>\n",
       "    <tr>\n",
       "      <th>39</th>\n",
       "      <td>2045.033856</td>\n",
       "      <td>1661.822252</td>\n",
       "    </tr>\n",
       "    <tr>\n",
       "      <th>40</th>\n",
       "      <td>1752.092971</td>\n",
       "      <td>1582.019564</td>\n",
       "    </tr>\n",
       "    <tr>\n",
       "      <th>41</th>\n",
       "      <td>1843.671149</td>\n",
       "      <td>1859.837515</td>\n",
       "    </tr>\n",
       "    <tr>\n",
       "      <th>42</th>\n",
       "      <td>2081.968853</td>\n",
       "      <td>1914.401846</td>\n",
       "    </tr>\n",
       "    <tr>\n",
       "      <th>43</th>\n",
       "      <td>2083.934423</td>\n",
       "      <td>1491.344739</td>\n",
       "    </tr>\n",
       "    <tr>\n",
       "      <th>44</th>\n",
       "      <td>2184.310078</td>\n",
       "      <td>1774.471697</td>\n",
       "    </tr>\n",
       "    <tr>\n",
       "      <th>45</th>\n",
       "      <td>2289.796688</td>\n",
       "      <td>1651.088592</td>\n",
       "    </tr>\n",
       "    <tr>\n",
       "      <th>46</th>\n",
       "      <td>2041.666104</td>\n",
       "      <td>1923.067056</td>\n",
       "    </tr>\n",
       "    <tr>\n",
       "      <th>47</th>\n",
       "      <td>2314.306068</td>\n",
       "      <td>1782.324218</td>\n",
       "    </tr>\n",
       "    <tr>\n",
       "      <th>48</th>\n",
       "      <td>2238.254263</td>\n",
       "      <td>2238.254263</td>\n",
       "    </tr>\n",
       "    <tr>\n",
       "      <th>49</th>\n",
       "      <td>2406.381752</td>\n",
       "      <td>1949.131935</td>\n",
       "    </tr>\n",
       "    <tr>\n",
       "      <th>50</th>\n",
       "      <td>2202.025766</td>\n",
       "      <td>2016.521349</td>\n",
       "    </tr>\n",
       "    <tr>\n",
       "      <th>51</th>\n",
       "      <td>2062.343288</td>\n",
       "      <td>2062.343288</td>\n",
       "    </tr>\n",
       "    <tr>\n",
       "      <th>52</th>\n",
       "      <td>2338.721042</td>\n",
       "      <td>2243.719664</td>\n",
       "    </tr>\n",
       "    <tr>\n",
       "      <th>53</th>\n",
       "      <td>2252.537414</td>\n",
       "      <td>1867.147980</td>\n",
       "    </tr>\n",
       "    <tr>\n",
       "      <th>54</th>\n",
       "      <td>2100.650584</td>\n",
       "      <td>2100.650584</td>\n",
       "    </tr>\n",
       "    <tr>\n",
       "      <th>55</th>\n",
       "      <td>2648.051579</td>\n",
       "      <td>2648.051579</td>\n",
       "    </tr>\n",
       "    <tr>\n",
       "      <th>56</th>\n",
       "      <td>2255.214465</td>\n",
       "      <td>2255.214465</td>\n",
       "    </tr>\n",
       "    <tr>\n",
       "      <th>57</th>\n",
       "      <td>1940.168251</td>\n",
       "      <td>1940.168251</td>\n",
       "    </tr>\n",
       "    <tr>\n",
       "      <th>58</th>\n",
       "      <td>2271.003374</td>\n",
       "      <td>2271.003374</td>\n",
       "    </tr>\n",
       "    <tr>\n",
       "      <th>59</th>\n",
       "      <td>2725.756401</td>\n",
       "      <td>2725.756401</td>\n",
       "    </tr>\n",
       "    <tr>\n",
       "      <th>60</th>\n",
       "      <td>2742.052311</td>\n",
       "      <td>2742.052311</td>\n",
       "    </tr>\n",
       "    <tr>\n",
       "      <th>61</th>\n",
       "      <td>2916.882467</td>\n",
       "      <td>2916.882467</td>\n",
       "    </tr>\n",
       "    <tr>\n",
       "      <th>62</th>\n",
       "      <td>2306.399145</td>\n",
       "      <td>2306.399145</td>\n",
       "    </tr>\n",
       "    <tr>\n",
       "      <th>63</th>\n",
       "      <td>3137.126575</td>\n",
       "      <td>3137.126575</td>\n",
       "    </tr>\n",
       "    <tr>\n",
       "      <th>64</th>\n",
       "      <td>2115.452056</td>\n",
       "      <td>2115.452056</td>\n",
       "    </tr>\n",
       "    <tr>\n",
       "      <th>65</th>\n",
       "      <td>3294.557469</td>\n",
       "      <td>3294.557469</td>\n",
       "    </tr>\n",
       "    <tr>\n",
       "      <th>66</th>\n",
       "      <td>2830.361431</td>\n",
       "      <td>2830.361431</td>\n",
       "    </tr>\n",
       "    <tr>\n",
       "      <th>67</th>\n",
       "      <td>1944.771377</td>\n",
       "      <td>1944.771377</td>\n",
       "    </tr>\n",
       "    <tr>\n",
       "      <th>68</th>\n",
       "      <td>3838.842521</td>\n",
       "      <td>3838.842521</td>\n",
       "    </tr>\n",
       "    <tr>\n",
       "      <th>69</th>\n",
       "      <td>3202.178779</td>\n",
       "      <td>3202.178779</td>\n",
       "    </tr>\n",
       "    <tr>\n",
       "      <th>70</th>\n",
       "      <td>3424.228550</td>\n",
       "      <td>3424.228550</td>\n",
       "    </tr>\n",
       "    <tr>\n",
       "      <th>71</th>\n",
       "      <td>1504.924191</td>\n",
       "      <td>1504.924191</td>\n",
       "    </tr>\n",
       "    <tr>\n",
       "      <th>72</th>\n",
       "      <td>8615.516055</td>\n",
       "      <td>8615.516055</td>\n",
       "    </tr>\n",
       "    <tr>\n",
       "      <th>73</th>\n",
       "      <td>3429.205485</td>\n",
       "      <td>NaN</td>\n",
       "    </tr>\n",
       "    <tr>\n",
       "      <th>74</th>\n",
       "      <td>4206.250173</td>\n",
       "      <td>2967.941352</td>\n",
       "    </tr>\n",
       "    <tr>\n",
       "      <th>75</th>\n",
       "      <td>1678.969771</td>\n",
       "      <td>NaN</td>\n",
       "    </tr>\n",
       "  </tbody>\n",
       "</table>\n",
       "</div>"
      ],
      "text/plain": [
       "gender            F            M\n",
       "age                             \n",
       "19       710.230781   885.268574\n",
       "20       595.559207   880.528819\n",
       "21       608.003610   627.185770\n",
       "22       698.101581   740.851560\n",
       "23       634.611807   727.699529\n",
       "24       964.894524   915.007109\n",
       "25       951.181756   869.061319\n",
       "26      1173.584347   963.650800\n",
       "27      1195.389362  1122.448117\n",
       "28      1289.487398   935.430693\n",
       "29      1450.847696  1218.859260\n",
       "30      1421.449054  1420.586863\n",
       "31      1315.077457  1277.289382\n",
       "32      1536.208255  1302.584939\n",
       "33      1561.965657  1282.076279\n",
       "34      1631.262559  1561.246793\n",
       "35      1722.672507  1496.070815\n",
       "36      1848.502185  1708.589745\n",
       "37      1847.731652  1743.604011\n",
       "38      1803.053103  1623.108469\n",
       "39      2045.033856  1661.822252\n",
       "40      1752.092971  1582.019564\n",
       "41      1843.671149  1859.837515\n",
       "42      2081.968853  1914.401846\n",
       "43      2083.934423  1491.344739\n",
       "44      2184.310078  1774.471697\n",
       "45      2289.796688  1651.088592\n",
       "46      2041.666104  1923.067056\n",
       "47      2314.306068  1782.324218\n",
       "48      2238.254263  2238.254263\n",
       "49      2406.381752  1949.131935\n",
       "50      2202.025766  2016.521349\n",
       "51      2062.343288  2062.343288\n",
       "52      2338.721042  2243.719664\n",
       "53      2252.537414  1867.147980\n",
       "54      2100.650584  2100.650584\n",
       "55      2648.051579  2648.051579\n",
       "56      2255.214465  2255.214465\n",
       "57      1940.168251  1940.168251\n",
       "58      2271.003374  2271.003374\n",
       "59      2725.756401  2725.756401\n",
       "60      2742.052311  2742.052311\n",
       "61      2916.882467  2916.882467\n",
       "62      2306.399145  2306.399145\n",
       "63      3137.126575  3137.126575\n",
       "64      2115.452056  2115.452056\n",
       "65      3294.557469  3294.557469\n",
       "66      2830.361431  2830.361431\n",
       "67      1944.771377  1944.771377\n",
       "68      3838.842521  3838.842521\n",
       "69      3202.178779  3202.178779\n",
       "70      3424.228550  3424.228550\n",
       "71      1504.924191  1504.924191\n",
       "72      8615.516055  8615.516055\n",
       "73      3429.205485          NaN\n",
       "74      4206.250173  2967.941352\n",
       "75      1678.969771          NaN"
      ]
     },
     "execution_count": 48,
     "metadata": {},
     "output_type": "execute_result"
    }
   ],
   "source": [
    "data.sort_values('age').pivot_table(\n",
    "    index='age', columns='gender', values='days_employed', aggfunc='median'\n",
    ")"
   ]
  },
  {
   "cell_type": "markdown",
   "id": "5926ac75",
   "metadata": {},
   "source": [
    "Величины в основном плавно нарастают. Они подходят для заполнения пропусков. Заполняем пропуски в стаже."
   ]
  },
  {
   "cell_type": "code",
   "execution_count": 49,
   "id": "3cabe60e",
   "metadata": {},
   "outputs": [],
   "source": [
    "data['days_employed'] = data['days_employed'].fillna(\n",
    "    data.groupby(['gender', 'age'])['days_employed'].transform('median')\n",
    ")"
   ]
  },
  {
   "cell_type": "markdown",
   "id": "fcfee742",
   "metadata": {},
   "source": [
    "Посмотрим значения медианого дохода в зависимости от типа дохода. "
   ]
  },
  {
   "cell_type": "code",
   "execution_count": 50,
   "id": "59dde290",
   "metadata": {},
   "outputs": [
    {
     "data": {
      "text/html": [
       "<div>\n",
       "<style scoped>\n",
       "    .dataframe tbody tr th:only-of-type {\n",
       "        vertical-align: middle;\n",
       "    }\n",
       "\n",
       "    .dataframe tbody tr th {\n",
       "        vertical-align: top;\n",
       "    }\n",
       "\n",
       "    .dataframe thead th {\n",
       "        text-align: right;\n",
       "    }\n",
       "</style>\n",
       "<table border=\"1\" class=\"dataframe\">\n",
       "  <thead>\n",
       "    <tr style=\"text-align: right;\">\n",
       "      <th></th>\n",
       "      <th>min_income</th>\n",
       "      <th>median_income</th>\n",
       "      <th>max_income</th>\n",
       "      <th>mean_income</th>\n",
       "    </tr>\n",
       "    <tr>\n",
       "      <th>income_type</th>\n",
       "      <th></th>\n",
       "      <th></th>\n",
       "      <th></th>\n",
       "      <th></th>\n",
       "    </tr>\n",
       "  </thead>\n",
       "  <tbody>\n",
       "    <tr>\n",
       "      <th>безработный</th>\n",
       "      <td>59956.991984</td>\n",
       "      <td>131339.751676</td>\n",
       "      <td>2.027225e+05</td>\n",
       "      <td>131339.751676</td>\n",
       "    </tr>\n",
       "    <tr>\n",
       "      <th>в декрете</th>\n",
       "      <td>53829.130729</td>\n",
       "      <td>53829.130729</td>\n",
       "      <td>5.382913e+04</td>\n",
       "      <td>53829.130729</td>\n",
       "    </tr>\n",
       "    <tr>\n",
       "      <th>госслужащий</th>\n",
       "      <td>29200.077193</td>\n",
       "      <td>150447.935283</td>\n",
       "      <td>9.104515e+05</td>\n",
       "      <td>170898.309923</td>\n",
       "    </tr>\n",
       "    <tr>\n",
       "      <th>компаньон</th>\n",
       "      <td>28702.812889</td>\n",
       "      <td>172357.950966</td>\n",
       "      <td>2.265604e+06</td>\n",
       "      <td>202417.461462</td>\n",
       "    </tr>\n",
       "    <tr>\n",
       "      <th>пенсионер</th>\n",
       "      <td>20667.263793</td>\n",
       "      <td>118514.486412</td>\n",
       "      <td>7.351033e+05</td>\n",
       "      <td>137127.465690</td>\n",
       "    </tr>\n",
       "    <tr>\n",
       "      <th>предприниматель</th>\n",
       "      <td>499163.144947</td>\n",
       "      <td>499163.144947</td>\n",
       "      <td>4.991631e+05</td>\n",
       "      <td>499163.144947</td>\n",
       "    </tr>\n",
       "    <tr>\n",
       "      <th>сотрудник</th>\n",
       "      <td>21367.648356</td>\n",
       "      <td>142594.396847</td>\n",
       "      <td>1.726276e+06</td>\n",
       "      <td>161380.260488</td>\n",
       "    </tr>\n",
       "    <tr>\n",
       "      <th>студент</th>\n",
       "      <td>98201.625314</td>\n",
       "      <td>98201.625314</td>\n",
       "      <td>9.820163e+04</td>\n",
       "      <td>98201.625314</td>\n",
       "    </tr>\n",
       "  </tbody>\n",
       "</table>\n",
       "</div>"
      ],
      "text/plain": [
       "                    min_income  median_income    max_income    mean_income\n",
       "income_type                                                               \n",
       "безработный       59956.991984  131339.751676  2.027225e+05  131339.751676\n",
       "в декрете         53829.130729   53829.130729  5.382913e+04   53829.130729\n",
       "госслужащий       29200.077193  150447.935283  9.104515e+05  170898.309923\n",
       "компаньон         28702.812889  172357.950966  2.265604e+06  202417.461462\n",
       "пенсионер         20667.263793  118514.486412  7.351033e+05  137127.465690\n",
       "предприниматель  499163.144947  499163.144947  4.991631e+05  499163.144947\n",
       "сотрудник         21367.648356  142594.396847  1.726276e+06  161380.260488\n",
       "студент           98201.625314   98201.625314  9.820163e+04   98201.625314"
      ]
     },
     "execution_count": 50,
     "metadata": {},
     "output_type": "execute_result"
    }
   ],
   "source": [
    "data.groupby('income_type').agg(\n",
    "    min_income=('total_income', 'min'),\n",
    "    median_income=('total_income', 'median'),\n",
    "    max_income=('total_income', 'max'),\n",
    "    mean_income=('total_income', 'mean'),\n",
    ")"
   ]
  },
  {
   "cell_type": "markdown",
   "id": "2054a784",
   "metadata": {},
   "source": [
    "Есть существенные различия между категориями. Медианы соотносятся с типом дохода реалистично. Заполним пропуски медианами по типу дохода."
   ]
  },
  {
   "cell_type": "code",
   "execution_count": 51,
   "id": "3a804230",
   "metadata": {},
   "outputs": [],
   "source": [
    "data['total_income'] = data['total_income'].fillna(\n",
    "    data.groupby('income_type')['total_income'].transform('median')\n",
    ")"
   ]
  },
  {
   "cell_type": "markdown",
   "id": "72d50102",
   "metadata": {},
   "source": [
    "Проверяем, остались ли пропуски."
   ]
  },
  {
   "cell_type": "code",
   "execution_count": 52,
   "id": "667400fe",
   "metadata": {},
   "outputs": [
    {
     "data": {
      "text/plain": [
       "children            0\n",
       "days_employed       0\n",
       "age                 0\n",
       "education           0\n",
       "education_id        0\n",
       "family_status       0\n",
       "family_status_id    0\n",
       "gender              0\n",
       "income_type         0\n",
       "debt                0\n",
       "total_income        0\n",
       "purpose             0\n",
       "dtype: int64"
      ]
     },
     "execution_count": 52,
     "metadata": {},
     "output_type": "execute_result"
    }
   ],
   "source": [
    "data.isna().sum()"
   ]
  },
  {
   "cell_type": "markdown",
   "id": "4d7d596b",
   "metadata": {},
   "source": [
    "Явных пропусков нет.\n",
    "\n",
    "**Итоги:**\n",
    "- Были явно пропущены значения `days_employed` и `total_income`.\n",
    "- Явные пропуски содержат 10,1% строк.\n",
    "- Верней всего, пропуски возникают в один момент, в результате одной операции, одной причины.\n",
    "- Причина пропусков после обзора таблицы остаётся не ясной.\n",
    "- Пропуски заполнены медианными значениями столбцов, поскольку эти значения дадут наименьшее отличие от реальных данных, если те станут доступны (будут восстановлены или обновлены)."
   ]
  },
  {
   "cell_type": "markdown",
   "id": "855fa6cf",
   "metadata": {},
   "source": [
    "### Исправление типов данных. <a id=\"change_data_types\"></a>"
   ]
  },
  {
   "cell_type": "code",
   "execution_count": 53,
   "id": "ed61fdd3",
   "metadata": {},
   "outputs": [
    {
     "data": {
      "text/plain": [
       "children              int32\n",
       "days_employed       float64\n",
       "age                   int32\n",
       "education            object\n",
       "education_id          int64\n",
       "family_status        object\n",
       "family_status_id      int64\n",
       "gender               object\n",
       "income_type          object\n",
       "debt                  int64\n",
       "total_income        float64\n",
       "purpose              object\n",
       "dtype: object"
      ]
     },
     "execution_count": 53,
     "metadata": {},
     "output_type": "execute_result"
    }
   ],
   "source": [
    "data.dtypes"
   ]
  },
  {
   "cell_type": "markdown",
   "id": "b4115ab5",
   "metadata": {},
   "source": [
    "`total_income` содержит доход. Денежные величины обычно учитываются с двумя знаками в дробной части, однако задание предписывает перевести доход в целые величины."
   ]
  },
  {
   "cell_type": "code",
   "execution_count": 54,
   "id": "e14a2486",
   "metadata": {},
   "outputs": [
    {
     "data": {
      "text/plain": [
       "children              int32\n",
       "days_employed       float64\n",
       "age                   int32\n",
       "education            object\n",
       "education_id          int64\n",
       "family_status        object\n",
       "family_status_id      int64\n",
       "gender               object\n",
       "income_type          object\n",
       "debt                  int64\n",
       "total_income          int32\n",
       "purpose              object\n",
       "dtype: object"
      ]
     },
     "execution_count": 54,
     "metadata": {},
     "output_type": "execute_result"
    }
   ],
   "source": [
    "data['total_income'] = data['total_income'].astype('int32')\n",
    "\n",
    "data.dtypes"
   ]
  },
  {
   "cell_type": "markdown",
   "id": "6e039eac",
   "metadata": {},
   "source": [
    "**Итоги:**\n",
    "- Типы приведены к норме."
   ]
  },
  {
   "cell_type": "markdown",
   "id": "d4297766",
   "metadata": {},
   "source": [
    "### Удаление дубликатов. <a id=\"drop_duplicates\"></a>"
   ]
  },
  {
   "cell_type": "markdown",
   "id": "ce912a4d",
   "metadata": {},
   "source": [
    "#### \"Неявные\" дубликаты значений\n",
    "\"Неявный\" дубликат формально отличается от другого значения, но несёт тот же смысл.\n",
    "Чтобы обнаружить такие группы формально разных, но одинаковых по смыслу значений, мы просто запросим все формально уникальные значения в столбце.\n",
    "\n",
    "Для устранения дубликатов, будем приводить их к единым формулировкам, записанным \"lowercase\" - только маленькими буквами."
   ]
  },
  {
   "cell_type": "markdown",
   "id": "262568d4",
   "metadata": {},
   "source": [
    "##### Дубликаты в `education`"
   ]
  },
  {
   "cell_type": "code",
   "execution_count": 55,
   "id": "ea61a951",
   "metadata": {},
   "outputs": [
    {
     "data": {
      "text/plain": [
       "array(['ВЫСШЕЕ', 'Высшее', 'НАЧАЛЬНОЕ', 'НЕОКОНЧЕННОЕ ВЫСШЕЕ',\n",
       "       'Начальное', 'Неоконченное высшее', 'СРЕДНЕЕ', 'Среднее',\n",
       "       'УЧЕНАЯ СТЕПЕНЬ', 'Ученая степень', 'высшее', 'начальное',\n",
       "       'неоконченное высшее', 'среднее', 'ученая степень'], dtype=object)"
      ]
     },
     "execution_count": 55,
     "metadata": {},
     "output_type": "execute_result"
    }
   ],
   "source": [
    "data['education'].sort_values().unique()"
   ]
  },
  {
   "cell_type": "markdown",
   "id": "10fb2463",
   "metadata": {},
   "source": [
    "Все значения выглядят реальными. Существуют значения, одинаковые по смыслу, но разные по форме. Будем приводить смысловые дубликаты к единой форме \"lowercase\"."
   ]
  },
  {
   "cell_type": "code",
   "execution_count": 56,
   "id": "0972e2a6",
   "metadata": {},
   "outputs": [
    {
     "data": {
      "text/plain": [
       "array(['высшее', 'начальное', 'неоконченное высшее', 'среднее',\n",
       "       'ученая степень'], dtype=object)"
      ]
     },
     "execution_count": 56,
     "metadata": {},
     "output_type": "execute_result"
    }
   ],
   "source": [
    "data['education'] = data['education'].str.lower()\n",
    "data['education'].sort_values().unique()"
   ]
  },
  {
   "cell_type": "markdown",
   "id": "4fdf39bd",
   "metadata": {},
   "source": [
    "**Итоги:**\n",
    "- Получены 5 различных категорий образования."
   ]
  },
  {
   "cell_type": "markdown",
   "id": "649e3ce5",
   "metadata": {},
   "source": [
    "##### Дубликаты в `family_status`"
   ]
  },
  {
   "cell_type": "code",
   "execution_count": 57,
   "id": "93e0179e",
   "metadata": {},
   "outputs": [
    {
     "data": {
      "text/plain": [
       "array(['Не женат / не замужем', 'в разводе', 'вдовец / вдова',\n",
       "       'гражданский брак', 'женат / замужем'], dtype=object)"
      ]
     },
     "execution_count": 57,
     "metadata": {},
     "output_type": "execute_result"
    }
   ],
   "source": [
    "data['family_status'].sort_values().unique()"
   ]
  },
  {
   "cell_type": "markdown",
   "id": "493e0ffc",
   "metadata": {},
   "source": [
    "Все значения выглядят реальными. Здесь также существуют значения, одинаковые по смыслу, но разные по форме. Будем приводить смысловые дубликаты к единой форме \"lowercase\"."
   ]
  },
  {
   "cell_type": "code",
   "execution_count": 58,
   "id": "4993baef",
   "metadata": {},
   "outputs": [
    {
     "data": {
      "text/plain": [
       "array(['в разводе', 'вдовец / вдова', 'гражданский брак',\n",
       "       'женат / замужем', 'не женат / не замужем'], dtype=object)"
      ]
     },
     "execution_count": 58,
     "metadata": {},
     "output_type": "execute_result"
    }
   ],
   "source": [
    "data['family_status'] = data['family_status'].str.lower()\n",
    "data['family_status'].sort_values().unique()"
   ]
  },
  {
   "cell_type": "markdown",
   "id": "3562708f",
   "metadata": {},
   "source": [
    "**Итоги:**\n",
    "- Получены 5 различных категорий семейных отношений."
   ]
  },
  {
   "cell_type": "markdown",
   "id": "3b9ce230",
   "metadata": {},
   "source": [
    "##### Дубликаты в `income_type`"
   ]
  },
  {
   "cell_type": "code",
   "execution_count": 59,
   "id": "405329c8",
   "metadata": {},
   "outputs": [
    {
     "data": {
      "text/plain": [
       "array(['безработный', 'в декрете', 'госслужащий', 'компаньон',\n",
       "       'пенсионер', 'предприниматель', 'сотрудник', 'студент'],\n",
       "      dtype=object)"
      ]
     },
     "execution_count": 59,
     "metadata": {},
     "output_type": "execute_result"
    }
   ],
   "source": [
    "data['income_type'].sort_values().unique()"
   ]
  },
  {
   "cell_type": "markdown",
   "id": "a9b3e60d",
   "metadata": {},
   "source": [
    "Все значения выглядят реальными, неявных дубликатов нет, названия в \"lowercase\"."
   ]
  },
  {
   "cell_type": "markdown",
   "id": "b419a50c",
   "metadata": {},
   "source": [
    "##### Дубликаты в `purpose`"
   ]
  },
  {
   "cell_type": "code",
   "execution_count": 60,
   "id": "2bc3d174",
   "metadata": {},
   "outputs": [
    {
     "data": {
      "text/plain": [
       "array(['автомобили', 'автомобиль', 'высшее образование',\n",
       "       'дополнительное образование', 'жилье',\n",
       "       'заняться высшим образованием', 'заняться образованием',\n",
       "       'на покупку автомобиля', 'на покупку подержанного автомобиля',\n",
       "       'на покупку своего автомобиля', 'на проведение свадьбы',\n",
       "       'недвижимость', 'образование', 'операции с жильем',\n",
       "       'операции с коммерческой недвижимостью',\n",
       "       'операции с недвижимостью', 'операции со своей недвижимостью',\n",
       "       'покупка жилой недвижимости', 'покупка жилья',\n",
       "       'покупка жилья для сдачи', 'покупка жилья для семьи',\n",
       "       'покупка коммерческой недвижимости', 'покупка недвижимости',\n",
       "       'покупка своего жилья', 'получение высшего образования',\n",
       "       'получение дополнительного образования', 'получение образования',\n",
       "       'приобретение автомобиля', 'профильное образование',\n",
       "       'ремонт жилью', 'свадьба', 'свой автомобиль',\n",
       "       'сделка с автомобилем', 'сделка с подержанным автомобилем',\n",
       "       'строительство жилой недвижимости', 'строительство недвижимости',\n",
       "       'строительство собственной недвижимости', 'сыграть свадьбу'],\n",
       "      dtype=object)"
      ]
     },
     "execution_count": 60,
     "metadata": {},
     "output_type": "execute_result"
    }
   ],
   "source": [
    "data['purpose'].sort_values().unique()"
   ]
  },
  {
   "cell_type": "markdown",
   "id": "c110ba5f",
   "metadata": {},
   "source": [
    "Все значения выглядят реальными. Они в \"lowercase\". Есть много похожих по смыслу. Лучшим вариантом будет свести их в несколько более общих категорий."
   ]
  },
  {
   "cell_type": "markdown",
   "id": "7beab490",
   "metadata": {},
   "source": [
    "##### Итоги по неявным дубликатам\n",
    "- Для поиска использовали `.sorted_values().unique()`. В полученном списке уникальных значений смысловые дубликаты часто собраны по соседству друг с другом.\n",
    "- Названия категорий оформлены нами в lowercase. Был использован метод `.str.lower()`, созданный специально для этого. Для избавления от неявных дубликатов этого оказалось достаточно.\n",
    "- Возможные причины появления дубликатов:\n",
    "  - Отсутствие стандарта на то, как вводить названия категорий;\n",
    "- Как избежать:\n",
    "  - допускать к записи только определённые значения;\n",
    "  - применять lowercase или другую нормализацию значений при записи."
   ]
  },
  {
   "cell_type": "markdown",
   "id": "167e96a8",
   "metadata": {},
   "source": [
    "#### Полные дубликаты строк"
   ]
  },
  {
   "cell_type": "markdown",
   "id": "bc4eb9b8",
   "metadata": {},
   "source": [
    "Мы обеспечили единые по форме и реалистичные по смыслу значения в каждом столбце таблицы. Теперь взглянем на строки в целом.\n",
    "\n",
    "Мы решили считать, что каждая строка должна быть уникальна. Сколько у нас дубликатов?"
   ]
  },
  {
   "cell_type": "code",
   "execution_count": 61,
   "id": "6b8db076",
   "metadata": {},
   "outputs": [
    {
     "name": "stdout",
     "output_type": "stream",
     "text": [
      "Дубликатов строк: 72, 0.33%\n"
     ]
    }
   ],
   "source": [
    "def print_dupe_rows_count():\n",
    "    dupe_rows_count = data.duplicated().sum()\n",
    "    print(\n",
    "        f'Дубликатов строк: {dupe_rows_count}, {dupe_rows_count / len(data.index):.02%}'\n",
    "    )\n",
    "\n",
    "\n",
    "print_dupe_rows_count()"
   ]
  },
  {
   "cell_type": "markdown",
   "id": "2e329b12",
   "metadata": {},
   "source": [
    "Даже если за ними скрываются реальные люди - их мало, результат будет отличаться несущественно. Убираем строки-дубликаты."
   ]
  },
  {
   "cell_type": "code",
   "execution_count": 62,
   "id": "dbee8479",
   "metadata": {},
   "outputs": [
    {
     "name": "stdout",
     "output_type": "stream",
     "text": [
      "Дубликатов строк: 0, 0.00%\n"
     ]
    }
   ],
   "source": [
    "data = data.drop_duplicates().reset_index(drop=True)\n",
    "print_dupe_rows_count()"
   ]
  },
  {
   "cell_type": "markdown",
   "id": "5e6ebb8c",
   "metadata": {},
   "source": [
    "### Выводы по исправлению данных"
   ]
  },
  {
   "cell_type": "markdown",
   "id": "893ca59e",
   "metadata": {},
   "source": [
    "- Данные низкого качества: содержат ошибки и пропуски.\n",
    "- Это ухудшает работу, потому что:\n",
    "  - На исправление данных ушло немало времени (17 часов);\n",
    "  - Исправленные данные не так надёжны, как достоверные (поскольку исправления сделаны на основе обоснованных предположений, но не достоверного знания о причинах, по которым записаны именно эти данные).\n",
    "- Ненадёжных данных в датасете:\n",
    "  - 100% из `days_employed`,\n",
    "  - 10,1% из `total_income`.\n",
    "- Это существенно нарушает хорошую практику, которая допускает максимум 1% недостоверных данных.\n",
    "- Следует оповестить об этом специалистов, которые отвечают за сбор, хранение и предоставление данной информации."
   ]
  },
  {
   "cell_type": "markdown",
   "id": "1a7aa70e",
   "metadata": {},
   "source": [
    "## Обработка данных"
   ]
  },
  {
   "cell_type": "markdown",
   "id": "341b3552",
   "metadata": {},
   "source": [
    "### Декомпозиция данных, создание дополняющих таблиц. <a id=\"decompose_data\"></a>"
   ]
  },
  {
   "cell_type": "markdown",
   "id": "1d287039",
   "metadata": {},
   "source": [
    "#### Создание датафрейма `education_levels`."
   ]
  },
  {
   "cell_type": "markdown",
   "id": "4da2374c",
   "metadata": {},
   "source": [
    "Проверим, какие значения бывают в `education_id` и `education`, как они соответствуют друг другу."
   ]
  },
  {
   "cell_type": "code",
   "execution_count": 63,
   "id": "665e7d96",
   "metadata": {
    "scrolled": true
   },
   "outputs": [
    {
     "data": {
      "text/plain": [
       "education_id\n",
       "0                 [высшее]\n",
       "1                [среднее]\n",
       "2    [неоконченное высшее]\n",
       "3              [начальное]\n",
       "4         [ученая степень]\n",
       "Name: education, dtype: object"
      ]
     },
     "execution_count": 63,
     "metadata": {},
     "output_type": "execute_result"
    }
   ],
   "source": [
    "data.groupby('education_id')['education'].unique()"
   ]
  },
  {
   "cell_type": "markdown",
   "id": "d93b5d64",
   "metadata": {},
   "source": [
    "Каждому `education_id` соответствует ровно один `education`. Формируем датафрейм."
   ]
  },
  {
   "cell_type": "code",
   "execution_count": 64,
   "id": "5571cf96",
   "metadata": {},
   "outputs": [
    {
     "data": {
      "text/html": [
       "<div>\n",
       "<style scoped>\n",
       "    .dataframe tbody tr th:only-of-type {\n",
       "        vertical-align: middle;\n",
       "    }\n",
       "\n",
       "    .dataframe tbody tr th {\n",
       "        vertical-align: top;\n",
       "    }\n",
       "\n",
       "    .dataframe thead th {\n",
       "        text-align: right;\n",
       "    }\n",
       "</style>\n",
       "<table border=\"1\" class=\"dataframe\">\n",
       "  <thead>\n",
       "    <tr style=\"text-align: right;\">\n",
       "      <th></th>\n",
       "      <th>education_id</th>\n",
       "      <th>education</th>\n",
       "    </tr>\n",
       "  </thead>\n",
       "  <tbody>\n",
       "    <tr>\n",
       "      <th>0</th>\n",
       "      <td>0</td>\n",
       "      <td>высшее</td>\n",
       "    </tr>\n",
       "    <tr>\n",
       "      <th>1</th>\n",
       "      <td>1</td>\n",
       "      <td>среднее</td>\n",
       "    </tr>\n",
       "    <tr>\n",
       "      <th>2</th>\n",
       "      <td>2</td>\n",
       "      <td>неоконченное высшее</td>\n",
       "    </tr>\n",
       "    <tr>\n",
       "      <th>3</th>\n",
       "      <td>3</td>\n",
       "      <td>начальное</td>\n",
       "    </tr>\n",
       "    <tr>\n",
       "      <th>4</th>\n",
       "      <td>4</td>\n",
       "      <td>ученая степень</td>\n",
       "    </tr>\n",
       "  </tbody>\n",
       "</table>\n",
       "</div>"
      ],
      "text/plain": [
       "   education_id            education\n",
       "0             0               высшее\n",
       "1             1              среднее\n",
       "2             2  неоконченное высшее\n",
       "3             3            начальное\n",
       "4             4       ученая степень"
      ]
     },
     "execution_count": 64,
     "metadata": {},
     "output_type": "execute_result"
    }
   ],
   "source": [
    "education_levels = (\n",
    "    data.groupby('education_id')['education'].max().reset_index()\n",
    ")\n",
    "education_levels"
   ]
  },
  {
   "cell_type": "markdown",
   "id": "76da059d",
   "metadata": {},
   "source": [
    "#### Создание датафрейма `family_statuses`."
   ]
  },
  {
   "cell_type": "markdown",
   "id": "023db851",
   "metadata": {},
   "source": [
    "Проверим, какие значения бывают в `family_status_id` и `family_status`, как они соответствуют друг другу."
   ]
  },
  {
   "cell_type": "code",
   "execution_count": 65,
   "id": "c89b9a55",
   "metadata": {
    "scrolled": true
   },
   "outputs": [
    {
     "data": {
      "text/plain": [
       "family_status_id\n",
       "0          [женат / замужем]\n",
       "1         [гражданский брак]\n",
       "2           [вдовец / вдова]\n",
       "3                [в разводе]\n",
       "4    [не женат / не замужем]\n",
       "Name: family_status, dtype: object"
      ]
     },
     "execution_count": 65,
     "metadata": {},
     "output_type": "execute_result"
    }
   ],
   "source": [
    "data.groupby('family_status_id')['family_status'].unique()"
   ]
  },
  {
   "cell_type": "markdown",
   "id": "abc71b83",
   "metadata": {},
   "source": [
    "Каждому `family_status_id` соответствует ровно один `family_status`. Формируем датафрейм."
   ]
  },
  {
   "cell_type": "code",
   "execution_count": 66,
   "id": "1344198c",
   "metadata": {},
   "outputs": [
    {
     "data": {
      "text/html": [
       "<div>\n",
       "<style scoped>\n",
       "    .dataframe tbody tr th:only-of-type {\n",
       "        vertical-align: middle;\n",
       "    }\n",
       "\n",
       "    .dataframe tbody tr th {\n",
       "        vertical-align: top;\n",
       "    }\n",
       "\n",
       "    .dataframe thead th {\n",
       "        text-align: right;\n",
       "    }\n",
       "</style>\n",
       "<table border=\"1\" class=\"dataframe\">\n",
       "  <thead>\n",
       "    <tr style=\"text-align: right;\">\n",
       "      <th></th>\n",
       "      <th>family_status_id</th>\n",
       "      <th>family_status</th>\n",
       "    </tr>\n",
       "  </thead>\n",
       "  <tbody>\n",
       "    <tr>\n",
       "      <th>0</th>\n",
       "      <td>0</td>\n",
       "      <td>женат / замужем</td>\n",
       "    </tr>\n",
       "    <tr>\n",
       "      <th>1</th>\n",
       "      <td>1</td>\n",
       "      <td>гражданский брак</td>\n",
       "    </tr>\n",
       "    <tr>\n",
       "      <th>2</th>\n",
       "      <td>2</td>\n",
       "      <td>вдовец / вдова</td>\n",
       "    </tr>\n",
       "    <tr>\n",
       "      <th>3</th>\n",
       "      <td>3</td>\n",
       "      <td>в разводе</td>\n",
       "    </tr>\n",
       "    <tr>\n",
       "      <th>4</th>\n",
       "      <td>4</td>\n",
       "      <td>не женат / не замужем</td>\n",
       "    </tr>\n",
       "  </tbody>\n",
       "</table>\n",
       "</div>"
      ],
      "text/plain": [
       "   family_status_id          family_status\n",
       "0                 0        женат / замужем\n",
       "1                 1       гражданский брак\n",
       "2                 2         вдовец / вдова\n",
       "3                 3              в разводе\n",
       "4                 4  не женат / не замужем"
      ]
     },
     "execution_count": 66,
     "metadata": {},
     "output_type": "execute_result"
    }
   ],
   "source": [
    "family_statuses = (\n",
    "    data.groupby('family_status_id')['family_status'].max().reset_index()\n",
    ")\n",
    "family_statuses"
   ]
  },
  {
   "cell_type": "markdown",
   "id": "ddf25c53",
   "metadata": {},
   "source": [
    "#### Удаление колонок `education` и `family_status`."
   ]
  },
  {
   "cell_type": "markdown",
   "id": "93d689c4",
   "metadata": {},
   "source": [
    "Данную информацию можно почерпнуть из созданных датафреймов, когда потребуется."
   ]
  },
  {
   "cell_type": "code",
   "execution_count": 67,
   "id": "5b9651ab",
   "metadata": {},
   "outputs": [
    {
     "data": {
      "text/plain": [
       "Index(['children', 'days_employed', 'age', 'education_id', 'family_status_id',\n",
       "       'gender', 'income_type', 'debt', 'total_income', 'purpose'],\n",
       "      dtype='object')"
      ]
     },
     "execution_count": 67,
     "metadata": {},
     "output_type": "execute_result"
    }
   ],
   "source": [
    "data = data.drop(columns=['education', 'family_status'])\n",
    "data.columns"
   ]
  },
  {
   "cell_type": "markdown",
   "id": "24971a5d",
   "metadata": {},
   "source": [
    "**Итоги:**\n",
    "- Обнаружены пары в колонках `education` и `education_id`, а также `family_status` и `family_status_id`. Значения в каждой паре прямо соответствуют \"один к одному\".\n",
    "- Созданы дополнительные датафреймы, которые описывают эти соответствия, `education_levels` и `family_statuses`.\n",
    "- В этих парах больше ресурсов требуют колонки `education` и `family_status`. Он убраны из основного датафрейма как излишние."
   ]
  },
  {
   "cell_type": "markdown",
   "id": "7049ca54",
   "metadata": {},
   "source": [
    "### Категории дохода. <a id=\"income_categories\"></a>"
   ]
  },
  {
   "cell_type": "markdown",
   "id": "4fec51cc",
   "metadata": {},
   "source": [
    "Для анализа заёмщики будут разделены по доходам на 5 категорий:\n",
    "- A: более 1 000 000;\n",
    "- B: от 200 001 до 1 000 000;\n",
    "- C: от 50 001 до 200 000;\n",
    "- D: от 30 001 до 50 000;\n",
    "- E: менее 30 000.\n",
    "\n",
    "Присвоим категории и сохраним в датафрейме."
   ]
  },
  {
   "cell_type": "code",
   "execution_count": 68,
   "id": "bd4d1f40",
   "metadata": {},
   "outputs": [
    {
     "data": {
      "text/html": [
       "<div>\n",
       "<style scoped>\n",
       "    .dataframe tbody tr th:only-of-type {\n",
       "        vertical-align: middle;\n",
       "    }\n",
       "\n",
       "    .dataframe tbody tr th {\n",
       "        vertical-align: top;\n",
       "    }\n",
       "\n",
       "    .dataframe thead th {\n",
       "        text-align: right;\n",
       "    }\n",
       "</style>\n",
       "<table border=\"1\" class=\"dataframe\">\n",
       "  <thead>\n",
       "    <tr style=\"text-align: right;\">\n",
       "      <th></th>\n",
       "      <th>total_income</th>\n",
       "      <th>total_income_category</th>\n",
       "    </tr>\n",
       "  </thead>\n",
       "  <tbody>\n",
       "    <tr>\n",
       "      <th>0</th>\n",
       "      <td>253875</td>\n",
       "      <td>B</td>\n",
       "    </tr>\n",
       "    <tr>\n",
       "      <th>1</th>\n",
       "      <td>112080</td>\n",
       "      <td>C</td>\n",
       "    </tr>\n",
       "    <tr>\n",
       "      <th>2</th>\n",
       "      <td>145885</td>\n",
       "      <td>C</td>\n",
       "    </tr>\n",
       "    <tr>\n",
       "      <th>3</th>\n",
       "      <td>267628</td>\n",
       "      <td>B</td>\n",
       "    </tr>\n",
       "    <tr>\n",
       "      <th>4</th>\n",
       "      <td>158616</td>\n",
       "      <td>C</td>\n",
       "    </tr>\n",
       "    <tr>\n",
       "      <th>5</th>\n",
       "      <td>255763</td>\n",
       "      <td>B</td>\n",
       "    </tr>\n",
       "    <tr>\n",
       "      <th>6</th>\n",
       "      <td>240525</td>\n",
       "      <td>B</td>\n",
       "    </tr>\n",
       "    <tr>\n",
       "      <th>7</th>\n",
       "      <td>135823</td>\n",
       "      <td>C</td>\n",
       "    </tr>\n",
       "    <tr>\n",
       "      <th>8</th>\n",
       "      <td>95856</td>\n",
       "      <td>C</td>\n",
       "    </tr>\n",
       "    <tr>\n",
       "      <th>9</th>\n",
       "      <td>144425</td>\n",
       "      <td>C</td>\n",
       "    </tr>\n",
       "  </tbody>\n",
       "</table>\n",
       "</div>"
      ],
      "text/plain": [
       "   total_income total_income_category\n",
       "0        253875                     B\n",
       "1        112080                     C\n",
       "2        145885                     C\n",
       "3        267628                     B\n",
       "4        158616                     C\n",
       "5        255763                     B\n",
       "6        240525                     B\n",
       "7        135823                     C\n",
       "8         95856                     C\n",
       "9        144425                     C"
      ]
     },
     "execution_count": 68,
     "metadata": {},
     "output_type": "execute_result"
    }
   ],
   "source": [
    "def get_income_category(income):\n",
    "    if income <= 30_000:\n",
    "        return 'E'\n",
    "    if income <= 50_000:\n",
    "        return 'D'\n",
    "    if income <= 200_000:\n",
    "        return 'C'\n",
    "    if income <= 1_000_000:\n",
    "        return 'B'\n",
    "    return 'A'\n",
    "\n",
    "\n",
    "data['total_income_category'] = data['total_income'].apply(get_income_category)\n",
    "data.loc[:, ['total_income', 'total_income_category']].head(10)"
   ]
  },
  {
   "cell_type": "markdown",
   "id": "418ae600",
   "metadata": {},
   "source": [
    "**Итоги:**\n",
    "- Добавлен столбец `total_income_categories` - \"Категории дохода\", где `A` - наибольший доход."
   ]
  },
  {
   "cell_type": "markdown",
   "id": "93524c93",
   "metadata": {},
   "source": [
    "### Категории целей кредита. <a id=\"purpose_categories\"></a>"
   ]
  },
  {
   "cell_type": "markdown",
   "id": "acac0fed",
   "metadata": {},
   "source": [
    "Посмотрим, какие существуют варианты значений в `purpose`."
   ]
  },
  {
   "cell_type": "code",
   "execution_count": 69,
   "id": "cd0015cf",
   "metadata": {
    "scrolled": true
   },
   "outputs": [
    {
     "data": {
      "text/plain": [
       "array(['автомобили', 'автомобиль', 'высшее образование',\n",
       "       'дополнительное образование', 'жилье',\n",
       "       'заняться высшим образованием', 'заняться образованием',\n",
       "       'на покупку автомобиля', 'на покупку подержанного автомобиля',\n",
       "       'на покупку своего автомобиля', 'на проведение свадьбы',\n",
       "       'недвижимость', 'образование', 'операции с жильем',\n",
       "       'операции с коммерческой недвижимостью',\n",
       "       'операции с недвижимостью', 'операции со своей недвижимостью',\n",
       "       'покупка жилой недвижимости', 'покупка жилья',\n",
       "       'покупка жилья для сдачи', 'покупка жилья для семьи',\n",
       "       'покупка коммерческой недвижимости', 'покупка недвижимости',\n",
       "       'покупка своего жилья', 'получение высшего образования',\n",
       "       'получение дополнительного образования', 'получение образования',\n",
       "       'приобретение автомобиля', 'профильное образование',\n",
       "       'ремонт жилью', 'свадьба', 'свой автомобиль',\n",
       "       'сделка с автомобилем', 'сделка с подержанным автомобилем',\n",
       "       'строительство жилой недвижимости', 'строительство недвижимости',\n",
       "       'строительство собственной недвижимости', 'сыграть свадьбу'],\n",
       "      dtype=object)"
      ]
     },
     "metadata": {},
     "output_type": "display_data"
    }
   ],
   "source": [
    "purposes = data['purpose'].sort_values().unique()\n",
    "display(purposes)"
   ]
  },
  {
   "cell_type": "markdown",
   "id": "42a880f3",
   "metadata": {},
   "source": [
    "Вариантов много, отсортируем автоматически."
   ]
  },
  {
   "cell_type": "code",
   "execution_count": 70,
   "id": "6e5c45ab",
   "metadata": {},
   "outputs": [
    {
     "name": "stdout",
     "output_type": "stream",
     "text": [
      "= ОПЕРАЦИИ С АВТОМОБИЛЕМ =\n",
      "автомобили\n",
      "автомобиль\n",
      "на покупку автомобиля\n",
      "на покупку подержанного автомобиля\n",
      "на покупку своего автомобиля\n",
      "приобретение автомобиля\n",
      "свой автомобиль\n",
      "сделка с автомобилем\n",
      "сделка с подержанным автомобилем\n",
      "\n",
      "= ПОЛУЧЕНИЕ ОБРАЗОВАНИЯ =\n",
      "высшее образование\n",
      "дополнительное образование\n",
      "заняться высшим образованием\n",
      "заняться образованием\n",
      "образование\n",
      "получение высшего образования\n",
      "получение дополнительного образования\n",
      "получение образования\n",
      "профильное образование\n",
      "\n",
      "= ОПЕРАЦИИ С НЕДВИЖИМОСТЬЮ =\n",
      "жилье\n",
      "недвижимость\n",
      "операции с жильем\n",
      "операции с коммерческой недвижимостью\n",
      "операции с недвижимостью\n",
      "операции со своей недвижимостью\n",
      "покупка жилой недвижимости\n",
      "покупка жилья\n",
      "покупка жилья для сдачи\n",
      "покупка жилья для семьи\n",
      "покупка коммерческой недвижимости\n",
      "покупка недвижимости\n",
      "покупка своего жилья\n",
      "ремонт жилью\n",
      "строительство жилой недвижимости\n",
      "строительство недвижимости\n",
      "строительство собственной недвижимости\n",
      "\n",
      "= ПРОВЕДЕНИЕ СВАДЬБЫ =\n",
      "на проведение свадьбы\n",
      "свадьба\n",
      "сыграть свадьбу\n",
      "\n"
     ]
    }
   ],
   "source": [
    "patterns = {\n",
    "    'авто': 'операции с автомобилем',\n",
    "    'жил': 'операции с недвижимостью',\n",
    "    'недвиж': 'операции с недвижимостью',\n",
    "    'свад': 'проведение свадьбы',\n",
    "    'образов': 'получение образования',\n",
    "    '': 'другое',\n",
    "}\n",
    "\n",
    "purpose_categories = {}\n",
    "\n",
    "for purpose in purposes:\n",
    "    for pattern in patterns:\n",
    "        # если ожидаемый нами кусок слова упомянут в причине\n",
    "        if pattern in purpose:\n",
    "            # создаём список в счётчике категорий\n",
    "            # если список был создан ранее - получаем его\n",
    "            values = purpose_categories.setdefault(patterns[pattern], list())\n",
    "            # и в любом случае добавляем значение в этот список\n",
    "            values.append(purpose)\n",
    "            # тему данной причины поняли, переходим к следующей причине\n",
    "            break\n",
    "\n",
    "for key, values in purpose_categories.items():\n",
    "    print('=', key.upper(), '=')\n",
    "    for value in values:\n",
    "        print(value)\n",
    "    print()"
   ]
  },
  {
   "cell_type": "markdown",
   "id": "658fbcde",
   "metadata": {},
   "source": [
    "Все причины распределены по категориям верно, в категории `другое` ничего. Значит, достаточно четырёх категорий."
   ]
  },
  {
   "cell_type": "markdown",
   "id": "76b67fe0",
   "metadata": {},
   "source": [
    "Теперь мы можем указать указать категорию причины прямо в основном датафрейме."
   ]
  },
  {
   "cell_type": "code",
   "execution_count": 71,
   "id": "da7f301f",
   "metadata": {
    "scrolled": true
   },
   "outputs": [
    {
     "data": {
      "text/html": [
       "<div>\n",
       "<style scoped>\n",
       "    .dataframe tbody tr th:only-of-type {\n",
       "        vertical-align: middle;\n",
       "    }\n",
       "\n",
       "    .dataframe tbody tr th {\n",
       "        vertical-align: top;\n",
       "    }\n",
       "\n",
       "    .dataframe thead th {\n",
       "        text-align: right;\n",
       "    }\n",
       "</style>\n",
       "<table border=\"1\" class=\"dataframe\">\n",
       "  <thead>\n",
       "    <tr style=\"text-align: right;\">\n",
       "      <th></th>\n",
       "      <th>purpose</th>\n",
       "      <th>purpose_category</th>\n",
       "    </tr>\n",
       "  </thead>\n",
       "  <tbody>\n",
       "    <tr>\n",
       "      <th>0</th>\n",
       "      <td>покупка жилья</td>\n",
       "      <td>операции с недвижимостью</td>\n",
       "    </tr>\n",
       "    <tr>\n",
       "      <th>1</th>\n",
       "      <td>приобретение автомобиля</td>\n",
       "      <td>операции с автомобилем</td>\n",
       "    </tr>\n",
       "    <tr>\n",
       "      <th>2</th>\n",
       "      <td>покупка жилья</td>\n",
       "      <td>операции с недвижимостью</td>\n",
       "    </tr>\n",
       "    <tr>\n",
       "      <th>3</th>\n",
       "      <td>дополнительное образование</td>\n",
       "      <td>получение образования</td>\n",
       "    </tr>\n",
       "    <tr>\n",
       "      <th>4</th>\n",
       "      <td>сыграть свадьбу</td>\n",
       "      <td>проведение свадьбы</td>\n",
       "    </tr>\n",
       "    <tr>\n",
       "      <th>5</th>\n",
       "      <td>покупка жилья</td>\n",
       "      <td>операции с недвижимостью</td>\n",
       "    </tr>\n",
       "    <tr>\n",
       "      <th>6</th>\n",
       "      <td>операции с жильем</td>\n",
       "      <td>операции с недвижимостью</td>\n",
       "    </tr>\n",
       "    <tr>\n",
       "      <th>7</th>\n",
       "      <td>образование</td>\n",
       "      <td>получение образования</td>\n",
       "    </tr>\n",
       "    <tr>\n",
       "      <th>8</th>\n",
       "      <td>на проведение свадьбы</td>\n",
       "      <td>проведение свадьбы</td>\n",
       "    </tr>\n",
       "    <tr>\n",
       "      <th>9</th>\n",
       "      <td>покупка жилья для семьи</td>\n",
       "      <td>операции с недвижимостью</td>\n",
       "    </tr>\n",
       "  </tbody>\n",
       "</table>\n",
       "</div>"
      ],
      "text/plain": [
       "                      purpose          purpose_category\n",
       "0               покупка жилья  операции с недвижимостью\n",
       "1     приобретение автомобиля    операции с автомобилем\n",
       "2               покупка жилья  операции с недвижимостью\n",
       "3  дополнительное образование     получение образования\n",
       "4             сыграть свадьбу        проведение свадьбы\n",
       "5               покупка жилья  операции с недвижимостью\n",
       "6           операции с жильем  операции с недвижимостью\n",
       "7                 образование     получение образования\n",
       "8       на проведение свадьбы        проведение свадьбы\n",
       "9     покупка жилья для семьи  операции с недвижимостью"
      ]
     },
     "execution_count": 71,
     "metadata": {},
     "output_type": "execute_result"
    }
   ],
   "source": [
    "def get_purpose_category(purpose):\n",
    "    for pattern in patterns:\n",
    "        if pattern in purpose:\n",
    "            return patterns[pattern]\n",
    "\n",
    "\n",
    "data['purpose_category'] = data['purpose'].apply(get_purpose_category)\n",
    "data.loc[:, ['purpose', 'purpose_category']].head(10)"
   ]
  },
  {
   "cell_type": "markdown",
   "id": "25cc96f0",
   "metadata": {},
   "source": [
    "**Итоги:**\n",
    "- Добавлен столбец `purpose_category` - \"Категория цели кредита\"."
   ]
  },
  {
   "cell_type": "markdown",
   "id": "8d107492",
   "metadata": {},
   "source": [
    "## Ответы на вопросы. <a id=\"checking_for_anomalies\"></a>"
   ]
  },
  {
   "cell_type": "markdown",
   "id": "c2b43234",
   "metadata": {},
   "source": [
    "### Есть ли зависимость между количеством детей и возвратом кредита в срок?"
   ]
  },
  {
   "cell_type": "code",
   "execution_count": 72,
   "id": "1b65525c",
   "metadata": {},
   "outputs": [],
   "source": [
    "def get_debt_pivots(index):\n",
    "    result = data.pivot_table(\n",
    "        index=index, values='debt', aggfunc=['mean', 'count']\n",
    "    )\n",
    "    result.columns = ['%', 'out of']\n",
    "    result['%'] = round(result['%'] * 100, 2)\n",
    "    return result.sort_values('%').reset_index()"
   ]
  },
  {
   "cell_type": "code",
   "execution_count": 73,
   "id": "28e88993",
   "metadata": {
    "scrolled": true
   },
   "outputs": [
    {
     "data": {
      "text/html": [
       "<div>\n",
       "<style scoped>\n",
       "    .dataframe tbody tr th:only-of-type {\n",
       "        vertical-align: middle;\n",
       "    }\n",
       "\n",
       "    .dataframe tbody tr th {\n",
       "        vertical-align: top;\n",
       "    }\n",
       "\n",
       "    .dataframe thead th {\n",
       "        text-align: right;\n",
       "    }\n",
       "</style>\n",
       "<table border=\"1\" class=\"dataframe\">\n",
       "  <thead>\n",
       "    <tr style=\"text-align: right;\">\n",
       "      <th></th>\n",
       "      <th>children</th>\n",
       "      <th>%</th>\n",
       "      <th>out of</th>\n",
       "    </tr>\n",
       "  </thead>\n",
       "  <tbody>\n",
       "    <tr>\n",
       "      <th>0</th>\n",
       "      <td>5</td>\n",
       "      <td>0.00</td>\n",
       "      <td>9</td>\n",
       "    </tr>\n",
       "    <tr>\n",
       "      <th>1</th>\n",
       "      <td>0</td>\n",
       "      <td>7.54</td>\n",
       "      <td>14213</td>\n",
       "    </tr>\n",
       "    <tr>\n",
       "      <th>2</th>\n",
       "      <td>3</td>\n",
       "      <td>8.18</td>\n",
       "      <td>330</td>\n",
       "    </tr>\n",
       "    <tr>\n",
       "      <th>3</th>\n",
       "      <td>1</td>\n",
       "      <td>9.23</td>\n",
       "      <td>4808</td>\n",
       "    </tr>\n",
       "    <tr>\n",
       "      <th>4</th>\n",
       "      <td>2</td>\n",
       "      <td>9.45</td>\n",
       "      <td>2052</td>\n",
       "    </tr>\n",
       "    <tr>\n",
       "      <th>5</th>\n",
       "      <td>4</td>\n",
       "      <td>9.76</td>\n",
       "      <td>41</td>\n",
       "    </tr>\n",
       "  </tbody>\n",
       "</table>\n",
       "</div>"
      ],
      "text/plain": [
       "   children     %  out of\n",
       "0         5  0.00       9\n",
       "1         0  7.54   14213\n",
       "2         3  8.18     330\n",
       "3         1  9.23    4808\n",
       "4         2  9.45    2052\n",
       "5         4  9.76      41"
      ]
     },
     "execution_count": 73,
     "metadata": {},
     "output_type": "execute_result"
    }
   ],
   "source": [
    "children_pivots = get_debt_pivots('children')\n",
    "children_pivots"
   ]
  },
  {
   "cell_type": "code",
   "execution_count": 74,
   "id": "868c9b62",
   "metadata": {},
   "outputs": [
    {
     "name": "stdout",
     "output_type": "stream",
     "text": [
      "Клиенты с детьми: 9.24% out of 7240\n"
     ]
    }
   ],
   "source": [
    "have_children = data[data['children'] > 0]['debt']\n",
    "print(\n",
    "    f'Клиенты с детьми: {have_children.mean():.02%} out of {have_children.count()}'\n",
    ")"
   ]
  },
  {
   "cell_type": "markdown",
   "id": "5b6964da",
   "metadata": {},
   "source": [
    "**Выводы:**\n",
    "- В среднем 7,54% бездетных клиентов имели задолженность по кредиту.\n",
    "- Клиентов с детьми вдвое меньше, чем бездетных, в среднем 9,24% из них имели задолженность.\n",
    "- У клиентов с детьми нет чёткой корреляции между кол-вом детей и задолженностями (значение при трёх детях нарушает возрастающую тенденцию, а случаев с четырьмя и пятью детьми недостаточно для выводов).\n",
    "- Заёмщики без детей привлекательнее: их больше (2/3 клиентов), их надёжность выше."
   ]
  },
  {
   "cell_type": "markdown",
   "id": "82579cfb",
   "metadata": {},
   "source": [
    "### Есть ли зависимость между семейным положением и возвратом кредита в срок?"
   ]
  },
  {
   "cell_type": "code",
   "execution_count": 75,
   "id": "439b8faf",
   "metadata": {
    "scrolled": true
   },
   "outputs": [
    {
     "data": {
      "text/html": [
       "<div>\n",
       "<style scoped>\n",
       "    .dataframe tbody tr th:only-of-type {\n",
       "        vertical-align: middle;\n",
       "    }\n",
       "\n",
       "    .dataframe tbody tr th {\n",
       "        vertical-align: top;\n",
       "    }\n",
       "\n",
       "    .dataframe thead th {\n",
       "        text-align: right;\n",
       "    }\n",
       "</style>\n",
       "<table border=\"1\" class=\"dataframe\">\n",
       "  <thead>\n",
       "    <tr style=\"text-align: right;\">\n",
       "      <th></th>\n",
       "      <th>family_status_id</th>\n",
       "      <th>%</th>\n",
       "      <th>out of</th>\n",
       "      <th>family_status</th>\n",
       "    </tr>\n",
       "  </thead>\n",
       "  <tbody>\n",
       "    <tr>\n",
       "      <th>0</th>\n",
       "      <td>2</td>\n",
       "      <td>6.57</td>\n",
       "      <td>959</td>\n",
       "      <td>вдовец / вдова</td>\n",
       "    </tr>\n",
       "    <tr>\n",
       "      <th>1</th>\n",
       "      <td>3</td>\n",
       "      <td>7.11</td>\n",
       "      <td>1195</td>\n",
       "      <td>в разводе</td>\n",
       "    </tr>\n",
       "    <tr>\n",
       "      <th>2</th>\n",
       "      <td>0</td>\n",
       "      <td>7.55</td>\n",
       "      <td>12339</td>\n",
       "      <td>женат / замужем</td>\n",
       "    </tr>\n",
       "    <tr>\n",
       "      <th>3</th>\n",
       "      <td>1</td>\n",
       "      <td>9.35</td>\n",
       "      <td>4150</td>\n",
       "      <td>гражданский брак</td>\n",
       "    </tr>\n",
       "    <tr>\n",
       "      <th>4</th>\n",
       "      <td>4</td>\n",
       "      <td>9.75</td>\n",
       "      <td>2810</td>\n",
       "      <td>не женат / не замужем</td>\n",
       "    </tr>\n",
       "  </tbody>\n",
       "</table>\n",
       "</div>"
      ],
      "text/plain": [
       "   family_status_id     %  out of          family_status\n",
       "0                 2  6.57     959         вдовец / вдова\n",
       "1                 3  7.11    1195              в разводе\n",
       "2                 0  7.55   12339        женат / замужем\n",
       "3                 1  9.35    4150       гражданский брак\n",
       "4                 4  9.75    2810  не женат / не замужем"
      ]
     },
     "execution_count": 75,
     "metadata": {},
     "output_type": "execute_result"
    }
   ],
   "source": [
    "get_debt_pivots('family_status_id').merge(\n",
    "    family_statuses, on='family_status_id'\n",
    ")"
   ]
  },
  {
   "cell_type": "markdown",
   "id": "3577afe3",
   "metadata": {},
   "source": [
    "**Выводы:**\n",
    "- Вдовцы и вдовы надёжней других категорий (однако статистики по ним меньше всего, при большей статистике % может измениться сильнее чем по другим категориям).\n",
    "- Привлекательнее заёмщики, оформлявшие брак (включая разведённых и овдовевших) - их больше (2/3 клиентов), их надёжность выше чем тех, кто брак не оформлял (включая живущих в паре и без пары)."
   ]
  },
  {
   "cell_type": "markdown",
   "id": "2d621a6c",
   "metadata": {},
   "source": [
    "### Есть ли зависимость между уровнем дохода и возвратом кредита в срок?"
   ]
  },
  {
   "cell_type": "code",
   "execution_count": 76,
   "id": "a6fe1a3a",
   "metadata": {},
   "outputs": [
    {
     "data": {
      "text/html": [
       "<div>\n",
       "<style scoped>\n",
       "    .dataframe tbody tr th:only-of-type {\n",
       "        vertical-align: middle;\n",
       "    }\n",
       "\n",
       "    .dataframe tbody tr th {\n",
       "        vertical-align: top;\n",
       "    }\n",
       "\n",
       "    .dataframe thead th {\n",
       "        text-align: right;\n",
       "    }\n",
       "</style>\n",
       "<table border=\"1\" class=\"dataframe\">\n",
       "  <thead>\n",
       "    <tr style=\"text-align: right;\">\n",
       "      <th></th>\n",
       "      <th>total_income_category</th>\n",
       "      <th>%</th>\n",
       "      <th>out of</th>\n",
       "    </tr>\n",
       "  </thead>\n",
       "  <tbody>\n",
       "    <tr>\n",
       "      <th>0</th>\n",
       "      <td>D</td>\n",
       "      <td>6.00</td>\n",
       "      <td>350</td>\n",
       "    </tr>\n",
       "    <tr>\n",
       "      <th>1</th>\n",
       "      <td>B</td>\n",
       "      <td>7.06</td>\n",
       "      <td>5042</td>\n",
       "    </tr>\n",
       "    <tr>\n",
       "      <th>2</th>\n",
       "      <td>A</td>\n",
       "      <td>8.00</td>\n",
       "      <td>25</td>\n",
       "    </tr>\n",
       "    <tr>\n",
       "      <th>3</th>\n",
       "      <td>C</td>\n",
       "      <td>8.49</td>\n",
       "      <td>16014</td>\n",
       "    </tr>\n",
       "    <tr>\n",
       "      <th>4</th>\n",
       "      <td>E</td>\n",
       "      <td>9.09</td>\n",
       "      <td>22</td>\n",
       "    </tr>\n",
       "  </tbody>\n",
       "</table>\n",
       "</div>"
      ],
      "text/plain": [
       "  total_income_category     %  out of\n",
       "0                     D  6.00     350\n",
       "1                     B  7.06    5042\n",
       "2                     A  8.00      25\n",
       "3                     C  8.49   16014\n",
       "4                     E  9.09      22"
      ]
     },
     "execution_count": 76,
     "metadata": {},
     "output_type": "execute_result"
    }
   ],
   "source": [
    "get_debt_pivots('total_income_category')"
   ]
  },
  {
   "cell_type": "markdown",
   "id": "4a9e4fd8",
   "metadata": {},
   "source": [
    "**Выводы:**\n",
    "- Наилучшие заёмщики - в категории \"D\" (30k-50k). Однако статистики немного, если собирать дальше - результат может измениться.\n",
    "- Категория \"B\" (доход 200k-1M) надёжней чем категория \"C\" (доход 50k-200k).\n",
    "- В других категориях мало данных для выводов, всего один новый клиент может повлиять на место в этом рейтинге."
   ]
  },
  {
   "cell_type": "markdown",
   "id": "18d11f30",
   "metadata": {},
   "source": [
    "### Вопрос 1: Как разные цели кредита влияют на его возврат в срок?"
   ]
  },
  {
   "cell_type": "code",
   "execution_count": 77,
   "id": "5773ff5c",
   "metadata": {},
   "outputs": [
    {
     "data": {
      "text/html": [
       "<div>\n",
       "<style scoped>\n",
       "    .dataframe tbody tr th:only-of-type {\n",
       "        vertical-align: middle;\n",
       "    }\n",
       "\n",
       "    .dataframe tbody tr th {\n",
       "        vertical-align: top;\n",
       "    }\n",
       "\n",
       "    .dataframe thead th {\n",
       "        text-align: right;\n",
       "    }\n",
       "</style>\n",
       "<table border=\"1\" class=\"dataframe\">\n",
       "  <thead>\n",
       "    <tr style=\"text-align: right;\">\n",
       "      <th></th>\n",
       "      <th>purpose_category</th>\n",
       "      <th>%</th>\n",
       "      <th>out of</th>\n",
       "    </tr>\n",
       "  </thead>\n",
       "  <tbody>\n",
       "    <tr>\n",
       "      <th>0</th>\n",
       "      <td>операции с недвижимостью</td>\n",
       "      <td>7.23</td>\n",
       "      <td>10811</td>\n",
       "    </tr>\n",
       "    <tr>\n",
       "      <th>1</th>\n",
       "      <td>проведение свадьбы</td>\n",
       "      <td>8.01</td>\n",
       "      <td>2323</td>\n",
       "    </tr>\n",
       "    <tr>\n",
       "      <th>2</th>\n",
       "      <td>получение образования</td>\n",
       "      <td>9.22</td>\n",
       "      <td>4013</td>\n",
       "    </tr>\n",
       "    <tr>\n",
       "      <th>3</th>\n",
       "      <td>операции с автомобилем</td>\n",
       "      <td>9.36</td>\n",
       "      <td>4306</td>\n",
       "    </tr>\n",
       "  </tbody>\n",
       "</table>\n",
       "</div>"
      ],
      "text/plain": [
       "           purpose_category     %  out of\n",
       "0  операции с недвижимостью  7.23   10811\n",
       "1        проведение свадьбы  8.01    2323\n",
       "2     получение образования  9.22    4013\n",
       "3    операции с автомобилем  9.36    4306"
      ]
     },
     "execution_count": 77,
     "metadata": {},
     "output_type": "execute_result"
    }
   ],
   "source": [
    "get_debt_pivots('purpose_category')"
   ]
  },
  {
   "cell_type": "markdown",
   "id": "269af0fd",
   "metadata": {},
   "source": [
    "**Выводы:**\n",
    "- Кредиты на недвижимость надёжнее других, и самые популярные (1/2 клиентов).\n",
    "- Кредиты на свадьбы несколько рискованней недвижимости, но надёжнее чем кредиты на образование и автотранспорт."
   ]
  },
  {
   "cell_type": "markdown",
   "id": "af94aa9b",
   "metadata": {},
   "source": [
    "## Общие выводы <a id=\"checking_for_anomalies\"></a>"
   ]
  },
  {
   "cell_type": "markdown",
   "id": "baed651e",
   "metadata": {},
   "source": [
    "- Мы произвели следующие операции:\n",
    "  - разделили все случаи на группы;\n",
    "  - рассчитали процент случаев просроченных кредитов из числа выданных кредитов в каждой группе.\n",
    "\n",
    "- Надёжнее возвращаются кредиты, выданные клиентам:\n",
    "  - без детей;\n",
    "  - вступавшим в брак;\n",
    "  - с доходами категорий \"D\" и \"B\";\n",
    "  - на операции с недвижимостью.\n",
    "- Выводы могут быть неточными, поскольку данные плохо подготовлены,:\n",
    "  - данные содержат много пропусков, дубликатов, нереальных значений;\n",
    "  - некоторые данные были исправлены на основе предположений (эти предположения могут проверить специалисты, отвечающие за сбор, хранение и предоставление этих данных);\n",
    "  - невосстановимые и остутствующие данные заменены медианными величинами."
   ]
  },
  {
   "cell_type": "markdown",
   "id": "f2e91ab6",
   "metadata": {},
   "source": [
    "**Рекомендации:**\n",
    "- для повышения качества данных:\n",
    "  - устранить причину нереально крупных величин в `days_employed`;\n",
    "  - устранить причину отрицательных величин в `days_employed`;\n",
    "  - ограничить ввод `children`: не принимать отрицательные величины;\n",
    "  - устранить причину появления величины `20` в `children`;\n",
    "  - ограничить ввод `dob_years`: не принимать значения ниже некоего минимального возраста;\n",
    "  - переименовать колонки:\n",
    "    - `dob_years` в `age`,\n",
    "    - `education_id` в `education_level_id`;\n",
    "  - вместо колонок `family_status` и `education` хранить таблицы соответствий:\n",
    "    - `family_status_id` к `family_status_name`;\n",
    "    - `education_level_id` к `education_level_name`;\n",
    "  - добавить колонку `client_secure_id` с обезличенным уникальным id клиента - она будет явно обозначать, что та или иная запись является уникальной, а не дубликатом;\n",
    "- для исследования потенциально привлекательных категорий:\n",
    "  - получить больше данных по людям:\n",
    "    - с доходами от 30 до 50 тыс,\n",
    "    - вдовствующим;\n",
    "    - с 4 и более детьми."
   ]
  }
 ],
 "metadata": {
  "ExecuteTimeLog": [
   {
    "duration": 1874,
    "start_time": "2022-05-01T09:30:09.233Z"
   },
   {
    "duration": 316,
    "start_time": "2022-05-01T09:30:11.110Z"
   },
   {
    "duration": 0,
    "start_time": "2022-05-01T09:30:11.431Z"
   },
   {
    "duration": 0,
    "start_time": "2022-05-01T09:30:11.433Z"
   },
   {
    "duration": 0,
    "start_time": "2022-05-01T09:30:11.434Z"
   },
   {
    "duration": 0,
    "start_time": "2022-05-01T09:30:11.452Z"
   },
   {
    "duration": 0,
    "start_time": "2022-05-01T09:30:11.453Z"
   },
   {
    "duration": 0,
    "start_time": "2022-05-01T09:30:11.455Z"
   },
   {
    "duration": 0,
    "start_time": "2022-05-01T09:30:11.457Z"
   },
   {
    "duration": 0,
    "start_time": "2022-05-01T09:30:11.459Z"
   },
   {
    "duration": 0,
    "start_time": "2022-05-01T09:30:11.462Z"
   },
   {
    "duration": 0,
    "start_time": "2022-05-01T09:30:11.463Z"
   },
   {
    "duration": 0,
    "start_time": "2022-05-01T09:30:11.465Z"
   },
   {
    "duration": 0,
    "start_time": "2022-05-01T09:30:11.468Z"
   },
   {
    "duration": 0,
    "start_time": "2022-05-01T09:30:11.473Z"
   },
   {
    "duration": 0,
    "start_time": "2022-05-01T09:30:11.475Z"
   },
   {
    "duration": 0,
    "start_time": "2022-05-01T09:30:11.476Z"
   },
   {
    "duration": 0,
    "start_time": "2022-05-01T09:30:11.479Z"
   },
   {
    "duration": 0,
    "start_time": "2022-05-01T09:30:11.481Z"
   },
   {
    "duration": 0,
    "start_time": "2022-05-01T09:30:11.484Z"
   },
   {
    "duration": 0,
    "start_time": "2022-05-01T09:30:11.488Z"
   },
   {
    "duration": 0,
    "start_time": "2022-05-01T09:30:11.491Z"
   },
   {
    "duration": 0,
    "start_time": "2022-05-01T09:30:11.493Z"
   },
   {
    "duration": 0,
    "start_time": "2022-05-01T09:30:11.495Z"
   },
   {
    "duration": 0,
    "start_time": "2022-05-01T09:30:11.496Z"
   },
   {
    "duration": 0,
    "start_time": "2022-05-01T09:30:11.552Z"
   },
   {
    "duration": 0,
    "start_time": "2022-05-01T09:30:11.553Z"
   },
   {
    "duration": 0,
    "start_time": "2022-05-01T09:30:11.554Z"
   },
   {
    "duration": 0,
    "start_time": "2022-05-01T09:30:11.555Z"
   },
   {
    "duration": 0,
    "start_time": "2022-05-01T09:30:11.559Z"
   },
   {
    "duration": 0,
    "start_time": "2022-05-01T09:30:11.561Z"
   },
   {
    "duration": 0,
    "start_time": "2022-05-01T09:30:11.564Z"
   },
   {
    "duration": 0,
    "start_time": "2022-05-01T09:30:11.569Z"
   },
   {
    "duration": 0,
    "start_time": "2022-05-01T09:30:11.571Z"
   },
   {
    "duration": 0,
    "start_time": "2022-05-01T09:30:11.573Z"
   },
   {
    "duration": 0,
    "start_time": "2022-05-01T09:30:11.574Z"
   },
   {
    "duration": 0,
    "start_time": "2022-05-01T09:30:11.576Z"
   },
   {
    "duration": 0,
    "start_time": "2022-05-01T09:30:11.578Z"
   },
   {
    "duration": 0,
    "start_time": "2022-05-01T09:30:11.580Z"
   },
   {
    "duration": 0,
    "start_time": "2022-05-01T09:30:11.581Z"
   },
   {
    "duration": 0,
    "start_time": "2022-05-01T09:30:11.583Z"
   },
   {
    "duration": 0,
    "start_time": "2022-05-01T09:30:11.584Z"
   },
   {
    "duration": 0,
    "start_time": "2022-05-01T09:30:11.586Z"
   },
   {
    "duration": 0,
    "start_time": "2022-05-01T09:30:11.588Z"
   },
   {
    "duration": 0,
    "start_time": "2022-05-01T09:30:11.589Z"
   },
   {
    "duration": 0,
    "start_time": "2022-05-01T09:30:11.590Z"
   },
   {
    "duration": 0,
    "start_time": "2022-05-01T09:30:11.591Z"
   },
   {
    "duration": 0,
    "start_time": "2022-05-01T09:30:11.593Z"
   },
   {
    "duration": 0,
    "start_time": "2022-05-01T09:30:11.595Z"
   },
   {
    "duration": 0,
    "start_time": "2022-05-01T09:30:11.651Z"
   },
   {
    "duration": 0,
    "start_time": "2022-05-01T09:30:11.652Z"
   },
   {
    "duration": 0,
    "start_time": "2022-05-01T09:30:11.654Z"
   },
   {
    "duration": 0,
    "start_time": "2022-05-01T09:30:11.655Z"
   },
   {
    "duration": 0,
    "start_time": "2022-05-01T09:30:11.656Z"
   },
   {
    "duration": 0,
    "start_time": "2022-05-01T09:30:11.657Z"
   },
   {
    "duration": 0,
    "start_time": "2022-05-01T09:30:11.660Z"
   },
   {
    "duration": 0,
    "start_time": "2022-05-01T09:30:11.661Z"
   },
   {
    "duration": 0,
    "start_time": "2022-05-01T09:30:11.662Z"
   },
   {
    "duration": 0,
    "start_time": "2022-05-01T09:30:11.663Z"
   },
   {
    "duration": 0,
    "start_time": "2022-05-01T09:30:11.664Z"
   },
   {
    "duration": 0,
    "start_time": "2022-05-01T09:30:11.665Z"
   },
   {
    "duration": 0,
    "start_time": "2022-05-01T09:30:11.666Z"
   },
   {
    "duration": 0,
    "start_time": "2022-05-01T09:30:11.667Z"
   },
   {
    "duration": 0,
    "start_time": "2022-05-01T09:30:11.672Z"
   },
   {
    "duration": 0,
    "start_time": "2022-05-01T09:30:11.674Z"
   },
   {
    "duration": 0,
    "start_time": "2022-05-01T09:30:11.675Z"
   },
   {
    "duration": 0,
    "start_time": "2022-05-01T09:30:11.678Z"
   },
   {
    "duration": 0,
    "start_time": "2022-05-01T09:30:11.679Z"
   },
   {
    "duration": 0,
    "start_time": "2022-05-01T09:30:11.681Z"
   },
   {
    "duration": 0,
    "start_time": "2022-05-01T09:30:11.683Z"
   },
   {
    "duration": 0,
    "start_time": "2022-05-01T09:30:11.685Z"
   },
   {
    "duration": 0,
    "start_time": "2022-05-01T09:30:11.687Z"
   },
   {
    "duration": 0,
    "start_time": "2022-05-01T09:30:11.689Z"
   },
   {
    "duration": 0,
    "start_time": "2022-05-01T09:30:11.691Z"
   },
   {
    "duration": 1413,
    "start_time": "2022-05-01T09:30:25.884Z"
   },
   {
    "duration": 127,
    "start_time": "2022-05-01T09:30:27.300Z"
   },
   {
    "duration": 34,
    "start_time": "2022-05-01T09:30:27.430Z"
   },
   {
    "duration": 22,
    "start_time": "2022-05-01T09:30:27.468Z"
   },
   {
    "duration": 4,
    "start_time": "2022-05-01T09:30:27.492Z"
   },
   {
    "duration": 6,
    "start_time": "2022-05-01T09:30:27.498Z"
   },
   {
    "duration": 11,
    "start_time": "2022-05-01T09:30:27.506Z"
   },
   {
    "duration": 58,
    "start_time": "2022-05-01T09:30:27.520Z"
   },
   {
    "duration": 28,
    "start_time": "2022-05-01T09:30:27.581Z"
   },
   {
    "duration": 45,
    "start_time": "2022-05-01T09:30:27.615Z"
   },
   {
    "duration": 28,
    "start_time": "2022-05-01T09:30:27.663Z"
   },
   {
    "duration": 19,
    "start_time": "2022-05-01T09:30:27.693Z"
   },
   {
    "duration": 8,
    "start_time": "2022-05-01T09:30:27.714Z"
   },
   {
    "duration": 29,
    "start_time": "2022-05-01T09:30:27.724Z"
   },
   {
    "duration": 38,
    "start_time": "2022-05-01T09:30:27.756Z"
   },
   {
    "duration": 9,
    "start_time": "2022-05-01T09:30:27.796Z"
   },
   {
    "duration": 18,
    "start_time": "2022-05-01T09:30:27.807Z"
   },
   {
    "duration": 25,
    "start_time": "2022-05-01T09:30:27.852Z"
   },
   {
    "duration": 9,
    "start_time": "2022-05-01T09:30:27.879Z"
   },
   {
    "duration": 7,
    "start_time": "2022-05-01T09:30:27.890Z"
   },
   {
    "duration": 9,
    "start_time": "2022-05-01T09:30:27.898Z"
   },
   {
    "duration": 66,
    "start_time": "2022-05-01T09:30:27.909Z"
   },
   {
    "duration": 19,
    "start_time": "2022-05-01T09:30:27.977Z"
   },
   {
    "duration": 23,
    "start_time": "2022-05-01T09:30:27.999Z"
   },
   {
    "duration": 57,
    "start_time": "2022-05-01T09:30:28.024Z"
   },
   {
    "duration": 18,
    "start_time": "2022-05-01T09:30:28.083Z"
   },
   {
    "duration": 74,
    "start_time": "2022-05-01T09:30:28.103Z"
   },
   {
    "duration": 23,
    "start_time": "2022-05-01T09:30:28.183Z"
   },
   {
    "duration": 96,
    "start_time": "2022-05-01T09:30:28.208Z"
   },
   {
    "duration": 6,
    "start_time": "2022-05-01T09:30:28.306Z"
   },
   {
    "duration": 8,
    "start_time": "2022-05-01T09:30:28.314Z"
   },
   {
    "duration": 226,
    "start_time": "2022-05-01T09:30:28.324Z"
   },
   {
    "duration": 1225,
    "start_time": "2022-05-01T09:30:28.553Z"
   },
   {
    "duration": 1253,
    "start_time": "2022-05-01T09:30:29.780Z"
   },
   {
    "duration": 38,
    "start_time": "2022-05-01T09:30:31.035Z"
   },
   {
    "duration": 111,
    "start_time": "2022-05-01T09:30:31.080Z"
   },
   {
    "duration": 6,
    "start_time": "2022-05-01T09:30:31.193Z"
   },
   {
    "duration": 1409,
    "start_time": "2022-05-01T09:30:31.201Z"
   },
   {
    "duration": 20,
    "start_time": "2022-05-01T09:30:32.612Z"
   },
   {
    "duration": 31,
    "start_time": "2022-05-01T09:30:32.634Z"
   },
   {
    "duration": 27,
    "start_time": "2022-05-01T09:30:32.667Z"
   },
   {
    "duration": 20,
    "start_time": "2022-05-01T09:30:32.697Z"
   },
   {
    "duration": 51,
    "start_time": "2022-05-01T09:30:32.719Z"
   },
   {
    "duration": 19,
    "start_time": "2022-05-01T09:30:32.773Z"
   },
   {
    "duration": 10,
    "start_time": "2022-05-01T09:30:32.795Z"
   },
   {
    "duration": 51,
    "start_time": "2022-05-01T09:30:32.807Z"
   },
   {
    "duration": 10,
    "start_time": "2022-05-01T09:30:32.861Z"
   },
   {
    "duration": 12,
    "start_time": "2022-05-01T09:30:32.873Z"
   },
   {
    "duration": 125,
    "start_time": "2022-05-01T09:30:32.888Z"
   },
   {
    "duration": 7,
    "start_time": "2022-05-01T09:30:33.015Z"
   },
   {
    "duration": 10,
    "start_time": "2022-05-01T09:30:33.024Z"
   },
   {
    "duration": 27,
    "start_time": "2022-05-01T09:30:33.052Z"
   },
   {
    "duration": 37,
    "start_time": "2022-05-01T09:30:33.081Z"
   },
   {
    "duration": 57,
    "start_time": "2022-05-01T09:30:33.120Z"
   },
   {
    "duration": 48,
    "start_time": "2022-05-01T09:30:33.180Z"
   },
   {
    "duration": 46,
    "start_time": "2022-05-01T09:30:33.230Z"
   },
   {
    "duration": 27,
    "start_time": "2022-05-01T09:30:33.279Z"
   },
   {
    "duration": 63,
    "start_time": "2022-05-01T09:30:33.309Z"
   },
   {
    "duration": 85,
    "start_time": "2022-05-01T09:30:33.375Z"
   },
   {
    "duration": 14,
    "start_time": "2022-05-01T09:30:33.463Z"
   },
   {
    "duration": 17,
    "start_time": "2022-05-01T09:30:33.482Z"
   },
   {
    "duration": 59,
    "start_time": "2022-05-01T09:30:33.501Z"
   },
   {
    "duration": 18,
    "start_time": "2022-05-01T09:30:33.563Z"
   },
   {
    "duration": 10,
    "start_time": "2022-05-01T09:30:33.583Z"
   },
   {
    "duration": 46,
    "start_time": "2022-05-01T09:30:33.595Z"
   },
   {
    "duration": 40,
    "start_time": "2022-05-01T09:30:33.644Z"
   },
   {
    "duration": 33,
    "start_time": "2022-05-01T09:30:33.686Z"
   },
   {
    "duration": 77,
    "start_time": "2022-05-01T09:30:33.721Z"
   },
   {
    "duration": 6,
    "start_time": "2022-05-01T09:30:33.800Z"
   },
   {
    "duration": 60,
    "start_time": "2022-05-01T09:30:33.808Z"
   },
   {
    "duration": 10,
    "start_time": "2022-05-01T09:30:33.871Z"
   },
   {
    "duration": 53,
    "start_time": "2022-05-01T09:30:33.884Z"
   },
   {
    "duration": 46,
    "start_time": "2022-05-01T09:30:33.939Z"
   },
   {
    "duration": 34,
    "start_time": "2022-05-01T09:30:33.988Z"
   },
   {
    "duration": 1579,
    "start_time": "2022-05-01T09:38:38.147Z"
   },
   {
    "duration": 129,
    "start_time": "2022-05-01T09:38:39.729Z"
   },
   {
    "duration": 26,
    "start_time": "2022-05-01T09:38:39.860Z"
   },
   {
    "duration": 22,
    "start_time": "2022-05-01T09:38:39.889Z"
   },
   {
    "duration": 4,
    "start_time": "2022-05-01T09:38:39.913Z"
   },
   {
    "duration": 34,
    "start_time": "2022-05-01T09:38:39.919Z"
   },
   {
    "duration": 10,
    "start_time": "2022-05-01T09:38:39.955Z"
   },
   {
    "duration": 22,
    "start_time": "2022-05-01T09:38:39.968Z"
   },
   {
    "duration": 19,
    "start_time": "2022-05-01T09:38:39.993Z"
   },
   {
    "duration": 52,
    "start_time": "2022-05-01T09:38:40.016Z"
   },
   {
    "duration": 20,
    "start_time": "2022-05-01T09:38:40.070Z"
   },
   {
    "duration": 21,
    "start_time": "2022-05-01T09:38:40.092Z"
   },
   {
    "duration": 7,
    "start_time": "2022-05-01T09:38:40.115Z"
   },
   {
    "duration": 32,
    "start_time": "2022-05-01T09:38:40.124Z"
   },
   {
    "duration": 26,
    "start_time": "2022-05-01T09:38:40.158Z"
   },
   {
    "duration": 8,
    "start_time": "2022-05-01T09:38:40.186Z"
   },
   {
    "duration": 18,
    "start_time": "2022-05-01T09:38:40.196Z"
   },
   {
    "duration": 53,
    "start_time": "2022-05-01T09:38:40.216Z"
   },
   {
    "duration": 10,
    "start_time": "2022-05-01T09:38:40.271Z"
   },
   {
    "duration": 7,
    "start_time": "2022-05-01T09:38:40.283Z"
   },
   {
    "duration": 9,
    "start_time": "2022-05-01T09:38:40.292Z"
   },
   {
    "duration": 58,
    "start_time": "2022-05-01T09:38:40.303Z"
   },
   {
    "duration": 19,
    "start_time": "2022-05-01T09:38:40.364Z"
   },
   {
    "duration": 26,
    "start_time": "2022-05-01T09:38:40.385Z"
   },
   {
    "duration": 62,
    "start_time": "2022-05-01T09:38:40.413Z"
   },
   {
    "duration": 15,
    "start_time": "2022-05-01T09:38:40.478Z"
   },
   {
    "duration": 59,
    "start_time": "2022-05-01T09:38:40.495Z"
   },
   {
    "duration": 24,
    "start_time": "2022-05-01T09:38:40.559Z"
   },
   {
    "duration": 112,
    "start_time": "2022-05-01T09:38:40.586Z"
   },
   {
    "duration": 6,
    "start_time": "2022-05-01T09:38:40.700Z"
   },
   {
    "duration": 9,
    "start_time": "2022-05-01T09:38:40.708Z"
   },
   {
    "duration": 222,
    "start_time": "2022-05-01T09:38:40.720Z"
   },
   {
    "duration": 1237,
    "start_time": "2022-05-01T09:38:40.945Z"
   },
   {
    "duration": 1200,
    "start_time": "2022-05-01T09:38:42.184Z"
   },
   {
    "duration": 28,
    "start_time": "2022-05-01T09:38:43.387Z"
   },
   {
    "duration": 116,
    "start_time": "2022-05-01T09:38:43.417Z"
   },
   {
    "duration": 6,
    "start_time": "2022-05-01T09:38:43.536Z"
   },
   {
    "duration": 1337,
    "start_time": "2022-05-01T09:38:43.553Z"
   },
   {
    "duration": 18,
    "start_time": "2022-05-01T09:38:44.893Z"
   },
   {
    "duration": 9,
    "start_time": "2022-05-01T09:38:44.913Z"
   },
   {
    "duration": 42,
    "start_time": "2022-05-01T09:38:44.924Z"
   },
   {
    "duration": 22,
    "start_time": "2022-05-01T09:38:44.968Z"
   },
   {
    "duration": 20,
    "start_time": "2022-05-01T09:38:44.992Z"
   },
   {
    "duration": 49,
    "start_time": "2022-05-01T09:38:45.014Z"
   },
   {
    "duration": 10,
    "start_time": "2022-05-01T09:38:45.065Z"
   },
   {
    "duration": 14,
    "start_time": "2022-05-01T09:38:45.077Z"
   },
   {
    "duration": 114,
    "start_time": "2022-05-01T09:38:45.093Z"
   },
   {
    "duration": 14,
    "start_time": "2022-05-01T09:38:45.210Z"
   },
   {
    "duration": 28,
    "start_time": "2022-05-01T09:38:45.226Z"
   },
   {
    "duration": 18,
    "start_time": "2022-05-01T09:38:45.256Z"
   },
   {
    "duration": 23,
    "start_time": "2022-05-01T09:38:45.277Z"
   },
   {
    "duration": 24,
    "start_time": "2022-05-01T09:38:45.302Z"
   },
   {
    "duration": 41,
    "start_time": "2022-05-01T09:38:45.329Z"
   },
   {
    "duration": 20,
    "start_time": "2022-05-01T09:38:45.372Z"
   },
   {
    "duration": 66,
    "start_time": "2022-05-01T09:38:45.395Z"
   },
   {
    "duration": 19,
    "start_time": "2022-05-01T09:38:45.463Z"
   },
   {
    "duration": 22,
    "start_time": "2022-05-01T09:38:45.484Z"
   },
   {
    "duration": 56,
    "start_time": "2022-05-01T09:38:45.508Z"
   },
   {
    "duration": 53,
    "start_time": "2022-05-01T09:38:45.566Z"
   },
   {
    "duration": 37,
    "start_time": "2022-05-01T09:38:45.626Z"
   },
   {
    "duration": 17,
    "start_time": "2022-05-01T09:38:45.665Z"
   },
   {
    "duration": 14,
    "start_time": "2022-05-01T09:38:45.685Z"
   },
   {
    "duration": 54,
    "start_time": "2022-05-01T09:38:45.701Z"
   },
   {
    "duration": 10,
    "start_time": "2022-05-01T09:38:45.757Z"
   },
   {
    "duration": 23,
    "start_time": "2022-05-01T09:38:45.769Z"
   },
   {
    "duration": 23,
    "start_time": "2022-05-01T09:38:45.794Z"
   },
   {
    "duration": 45,
    "start_time": "2022-05-01T09:38:45.819Z"
   },
   {
    "duration": 31,
    "start_time": "2022-05-01T09:38:45.866Z"
   },
   {
    "duration": 5,
    "start_time": "2022-05-01T09:38:45.900Z"
   },
   {
    "duration": 65,
    "start_time": "2022-05-01T09:38:45.907Z"
   },
   {
    "duration": 8,
    "start_time": "2022-05-01T09:38:45.974Z"
   },
   {
    "duration": 35,
    "start_time": "2022-05-01T09:38:45.984Z"
   },
   {
    "duration": 62,
    "start_time": "2022-05-01T09:38:46.021Z"
   },
   {
    "duration": 34,
    "start_time": "2022-05-01T09:38:46.085Z"
   },
   {
    "duration": 1449,
    "start_time": "2022-05-01T09:39:20.383Z"
   },
   {
    "duration": 233,
    "start_time": "2022-05-01T09:39:21.835Z"
   },
   {
    "duration": 0,
    "start_time": "2022-05-01T09:39:22.073Z"
   },
   {
    "duration": 0,
    "start_time": "2022-05-01T09:39:22.075Z"
   },
   {
    "duration": 1,
    "start_time": "2022-05-01T09:39:22.076Z"
   },
   {
    "duration": 0,
    "start_time": "2022-05-01T09:39:22.078Z"
   },
   {
    "duration": 0,
    "start_time": "2022-05-01T09:39:22.080Z"
   },
   {
    "duration": 0,
    "start_time": "2022-05-01T09:39:22.081Z"
   },
   {
    "duration": 0,
    "start_time": "2022-05-01T09:39:22.083Z"
   },
   {
    "duration": 0,
    "start_time": "2022-05-01T09:39:22.084Z"
   },
   {
    "duration": 0,
    "start_time": "2022-05-01T09:39:22.085Z"
   },
   {
    "duration": 0,
    "start_time": "2022-05-01T09:39:22.086Z"
   },
   {
    "duration": 0,
    "start_time": "2022-05-01T09:39:22.088Z"
   },
   {
    "duration": 0,
    "start_time": "2022-05-01T09:39:22.089Z"
   },
   {
    "duration": 0,
    "start_time": "2022-05-01T09:39:22.091Z"
   },
   {
    "duration": 0,
    "start_time": "2022-05-01T09:39:22.092Z"
   },
   {
    "duration": 0,
    "start_time": "2022-05-01T09:39:22.093Z"
   },
   {
    "duration": 0,
    "start_time": "2022-05-01T09:39:22.095Z"
   },
   {
    "duration": 0,
    "start_time": "2022-05-01T09:39:22.096Z"
   },
   {
    "duration": 0,
    "start_time": "2022-05-01T09:39:22.098Z"
   },
   {
    "duration": 0,
    "start_time": "2022-05-01T09:39:22.099Z"
   },
   {
    "duration": 0,
    "start_time": "2022-05-01T09:39:22.100Z"
   },
   {
    "duration": 0,
    "start_time": "2022-05-01T09:39:22.102Z"
   },
   {
    "duration": 0,
    "start_time": "2022-05-01T09:39:22.103Z"
   },
   {
    "duration": 0,
    "start_time": "2022-05-01T09:39:22.152Z"
   },
   {
    "duration": 0,
    "start_time": "2022-05-01T09:39:22.154Z"
   },
   {
    "duration": 0,
    "start_time": "2022-05-01T09:39:22.155Z"
   },
   {
    "duration": 0,
    "start_time": "2022-05-01T09:39:22.156Z"
   },
   {
    "duration": 0,
    "start_time": "2022-05-01T09:39:22.158Z"
   },
   {
    "duration": 0,
    "start_time": "2022-05-01T09:39:22.159Z"
   },
   {
    "duration": 0,
    "start_time": "2022-05-01T09:39:22.161Z"
   },
   {
    "duration": 0,
    "start_time": "2022-05-01T09:39:22.162Z"
   },
   {
    "duration": 0,
    "start_time": "2022-05-01T09:39:22.164Z"
   },
   {
    "duration": 0,
    "start_time": "2022-05-01T09:39:22.165Z"
   },
   {
    "duration": 0,
    "start_time": "2022-05-01T09:39:22.166Z"
   },
   {
    "duration": 0,
    "start_time": "2022-05-01T09:39:22.167Z"
   },
   {
    "duration": 0,
    "start_time": "2022-05-01T09:39:22.169Z"
   },
   {
    "duration": 0,
    "start_time": "2022-05-01T09:39:22.170Z"
   },
   {
    "duration": 0,
    "start_time": "2022-05-01T09:39:22.171Z"
   },
   {
    "duration": 0,
    "start_time": "2022-05-01T09:39:22.172Z"
   },
   {
    "duration": 0,
    "start_time": "2022-05-01T09:39:22.174Z"
   },
   {
    "duration": 0,
    "start_time": "2022-05-01T09:39:22.175Z"
   },
   {
    "duration": 0,
    "start_time": "2022-05-01T09:39:22.176Z"
   },
   {
    "duration": 0,
    "start_time": "2022-05-01T09:39:22.177Z"
   },
   {
    "duration": 0,
    "start_time": "2022-05-01T09:39:22.179Z"
   },
   {
    "duration": 0,
    "start_time": "2022-05-01T09:39:22.180Z"
   },
   {
    "duration": 0,
    "start_time": "2022-05-01T09:39:22.181Z"
   },
   {
    "duration": 0,
    "start_time": "2022-05-01T09:39:22.182Z"
   },
   {
    "duration": 0,
    "start_time": "2022-05-01T09:39:22.183Z"
   },
   {
    "duration": 0,
    "start_time": "2022-05-01T09:39:22.184Z"
   },
   {
    "duration": 0,
    "start_time": "2022-05-01T09:39:22.186Z"
   },
   {
    "duration": 0,
    "start_time": "2022-05-01T09:39:22.187Z"
   },
   {
    "duration": 0,
    "start_time": "2022-05-01T09:39:22.189Z"
   },
   {
    "duration": 0,
    "start_time": "2022-05-01T09:39:22.252Z"
   },
   {
    "duration": 0,
    "start_time": "2022-05-01T09:39:22.253Z"
   },
   {
    "duration": 0,
    "start_time": "2022-05-01T09:39:22.254Z"
   },
   {
    "duration": 0,
    "start_time": "2022-05-01T09:39:22.256Z"
   },
   {
    "duration": 0,
    "start_time": "2022-05-01T09:39:22.257Z"
   },
   {
    "duration": 0,
    "start_time": "2022-05-01T09:39:22.258Z"
   },
   {
    "duration": 0,
    "start_time": "2022-05-01T09:39:22.260Z"
   },
   {
    "duration": 0,
    "start_time": "2022-05-01T09:39:22.261Z"
   },
   {
    "duration": 0,
    "start_time": "2022-05-01T09:39:22.262Z"
   },
   {
    "duration": 0,
    "start_time": "2022-05-01T09:39:22.263Z"
   },
   {
    "duration": 0,
    "start_time": "2022-05-01T09:39:22.265Z"
   },
   {
    "duration": 0,
    "start_time": "2022-05-01T09:39:22.266Z"
   },
   {
    "duration": 0,
    "start_time": "2022-05-01T09:39:22.267Z"
   },
   {
    "duration": 0,
    "start_time": "2022-05-01T09:39:22.268Z"
   },
   {
    "duration": 0,
    "start_time": "2022-05-01T09:39:22.269Z"
   },
   {
    "duration": 0,
    "start_time": "2022-05-01T09:39:22.270Z"
   },
   {
    "duration": 0,
    "start_time": "2022-05-01T09:39:22.272Z"
   },
   {
    "duration": 0,
    "start_time": "2022-05-01T09:39:22.273Z"
   },
   {
    "duration": 0,
    "start_time": "2022-05-01T09:39:22.274Z"
   },
   {
    "duration": 0,
    "start_time": "2022-05-01T09:39:22.276Z"
   },
   {
    "duration": 0,
    "start_time": "2022-05-01T09:39:22.277Z"
   },
   {
    "duration": 1500,
    "start_time": "2022-05-01T09:50:19.092Z"
   },
   {
    "duration": 173,
    "start_time": "2022-05-01T09:50:20.596Z"
   },
   {
    "duration": 20,
    "start_time": "2022-05-01T09:50:20.770Z"
   },
   {
    "duration": 35,
    "start_time": "2022-05-01T09:50:20.793Z"
   },
   {
    "duration": 4,
    "start_time": "2022-05-01T09:50:20.830Z"
   },
   {
    "duration": 6,
    "start_time": "2022-05-01T09:50:20.836Z"
   },
   {
    "duration": 9,
    "start_time": "2022-05-01T09:50:20.844Z"
   },
   {
    "duration": 24,
    "start_time": "2022-05-01T09:50:20.854Z"
   },
   {
    "duration": 13,
    "start_time": "2022-05-01T09:50:20.881Z"
   },
   {
    "duration": 22,
    "start_time": "2022-05-01T09:50:20.922Z"
   },
   {
    "duration": 12,
    "start_time": "2022-05-01T09:50:20.946Z"
   },
   {
    "duration": 21,
    "start_time": "2022-05-01T09:50:20.960Z"
   },
   {
    "duration": 6,
    "start_time": "2022-05-01T09:50:20.983Z"
   },
   {
    "duration": 10,
    "start_time": "2022-05-01T09:50:20.991Z"
   },
   {
    "duration": 20,
    "start_time": "2022-05-01T09:50:21.022Z"
   },
   {
    "duration": 7,
    "start_time": "2022-05-01T09:50:21.044Z"
   },
   {
    "duration": 27,
    "start_time": "2022-05-01T09:50:21.053Z"
   },
   {
    "duration": 16,
    "start_time": "2022-05-01T09:50:21.082Z"
   },
   {
    "duration": 34,
    "start_time": "2022-05-01T09:50:21.100Z"
   },
   {
    "duration": 9,
    "start_time": "2022-05-01T09:50:21.136Z"
   },
   {
    "duration": 8,
    "start_time": "2022-05-01T09:50:21.146Z"
   },
   {
    "duration": 14,
    "start_time": "2022-05-01T09:50:21.156Z"
   },
   {
    "duration": 16,
    "start_time": "2022-05-01T09:50:21.172Z"
   },
   {
    "duration": 47,
    "start_time": "2022-05-01T09:50:21.190Z"
   },
   {
    "duration": 19,
    "start_time": "2022-05-01T09:50:21.240Z"
   },
   {
    "duration": 19,
    "start_time": "2022-05-01T09:50:21.260Z"
   },
   {
    "duration": 52,
    "start_time": "2022-05-01T09:50:21.280Z"
   },
   {
    "duration": 20,
    "start_time": "2022-05-01T09:50:21.338Z"
   },
   {
    "duration": 82,
    "start_time": "2022-05-01T09:50:21.360Z"
   },
   {
    "duration": 6,
    "start_time": "2022-05-01T09:50:21.443Z"
   },
   {
    "duration": 9,
    "start_time": "2022-05-01T09:50:21.450Z"
   },
   {
    "duration": 141,
    "start_time": "2022-05-01T09:50:21.461Z"
   },
   {
    "duration": 799,
    "start_time": "2022-05-01T09:50:21.604Z"
   },
   {
    "duration": 816,
    "start_time": "2022-05-01T09:50:22.405Z"
   },
   {
    "duration": 26,
    "start_time": "2022-05-01T09:50:23.223Z"
   },
   {
    "duration": 85,
    "start_time": "2022-05-01T09:50:23.251Z"
   },
   {
    "duration": 5,
    "start_time": "2022-05-01T09:50:23.339Z"
   },
   {
    "duration": 1127,
    "start_time": "2022-05-01T09:50:23.346Z"
   },
   {
    "duration": 24,
    "start_time": "2022-05-01T09:50:24.475Z"
   },
   {
    "duration": 22,
    "start_time": "2022-05-01T09:50:24.501Z"
   },
   {
    "duration": 28,
    "start_time": "2022-05-01T09:50:24.525Z"
   },
   {
    "duration": 25,
    "start_time": "2022-05-01T09:50:24.555Z"
   },
   {
    "duration": 14,
    "start_time": "2022-05-01T09:50:24.582Z"
   },
   {
    "duration": 33,
    "start_time": "2022-05-01T09:50:24.598Z"
   },
   {
    "duration": 10,
    "start_time": "2022-05-01T09:50:24.633Z"
   },
   {
    "duration": 15,
    "start_time": "2022-05-01T09:50:24.645Z"
   },
   {
    "duration": 11,
    "start_time": "2022-05-01T09:50:24.662Z"
   },
   {
    "duration": 18,
    "start_time": "2022-05-01T09:50:24.674Z"
   },
   {
    "duration": 93,
    "start_time": "2022-05-01T09:50:24.694Z"
   },
   {
    "duration": 5,
    "start_time": "2022-05-01T09:50:24.789Z"
   },
   {
    "duration": 29,
    "start_time": "2022-05-01T09:50:24.796Z"
   },
   {
    "duration": 19,
    "start_time": "2022-05-01T09:50:24.829Z"
   },
   {
    "duration": 41,
    "start_time": "2022-05-01T09:50:24.850Z"
   },
   {
    "duration": 15,
    "start_time": "2022-05-01T09:50:24.893Z"
   },
   {
    "duration": 45,
    "start_time": "2022-05-01T09:50:24.910Z"
   },
   {
    "duration": 16,
    "start_time": "2022-05-01T09:50:24.957Z"
   },
   {
    "duration": 22,
    "start_time": "2022-05-01T09:50:24.974Z"
   },
   {
    "duration": 41,
    "start_time": "2022-05-01T09:50:24.998Z"
   },
   {
    "duration": 35,
    "start_time": "2022-05-01T09:50:25.041Z"
   },
   {
    "duration": 10,
    "start_time": "2022-05-01T09:50:25.078Z"
   },
   {
    "duration": 40,
    "start_time": "2022-05-01T09:50:25.089Z"
   },
   {
    "duration": 14,
    "start_time": "2022-05-01T09:50:25.131Z"
   },
   {
    "duration": 15,
    "start_time": "2022-05-01T09:50:25.146Z"
   },
   {
    "duration": 9,
    "start_time": "2022-05-01T09:50:25.163Z"
   },
   {
    "duration": 27,
    "start_time": "2022-05-01T09:50:25.174Z"
   },
   {
    "duration": 32,
    "start_time": "2022-05-01T09:50:25.203Z"
   },
   {
    "duration": 12,
    "start_time": "2022-05-01T09:50:25.237Z"
   },
   {
    "duration": 23,
    "start_time": "2022-05-01T09:50:25.251Z"
   },
   {
    "duration": 8,
    "start_time": "2022-05-01T09:50:25.276Z"
   },
   {
    "duration": 43,
    "start_time": "2022-05-01T09:50:25.286Z"
   },
   {
    "duration": 10,
    "start_time": "2022-05-01T09:50:25.331Z"
   },
   {
    "duration": 37,
    "start_time": "2022-05-01T09:50:25.343Z"
   },
   {
    "duration": 24,
    "start_time": "2022-05-01T09:50:25.382Z"
   },
   {
    "duration": 31,
    "start_time": "2022-05-01T09:50:25.408Z"
   },
   {
    "duration": 5,
    "start_time": "2022-05-01T11:35:11.916Z"
   },
   {
    "duration": 19,
    "start_time": "2022-05-01T11:35:22.355Z"
   },
   {
    "duration": 4,
    "start_time": "2022-05-01T11:35:34.058Z"
   },
   {
    "duration": 8,
    "start_time": "2022-05-01T11:36:25.011Z"
   },
   {
    "duration": 9,
    "start_time": "2022-05-01T11:36:42.453Z"
   },
   {
    "duration": 125,
    "start_time": "2022-05-01T11:37:00.100Z"
   },
   {
    "duration": 6,
    "start_time": "2022-05-01T11:39:24.658Z"
   },
   {
    "duration": 17,
    "start_time": "2022-05-01T11:40:23.936Z"
   },
   {
    "duration": 37,
    "start_time": "2022-05-01T11:40:33.089Z"
   },
   {
    "duration": 17,
    "start_time": "2022-05-01T11:40:52.762Z"
   },
   {
    "duration": 4,
    "start_time": "2022-05-01T11:41:35.909Z"
   },
   {
    "duration": 1438,
    "start_time": "2022-05-01T11:41:56.171Z"
   },
   {
    "duration": 197,
    "start_time": "2022-05-01T11:41:57.611Z"
   },
   {
    "duration": 26,
    "start_time": "2022-05-01T11:41:57.811Z"
   },
   {
    "duration": 42,
    "start_time": "2022-05-01T11:41:57.840Z"
   },
   {
    "duration": 6,
    "start_time": "2022-05-01T11:41:57.884Z"
   },
   {
    "duration": 12,
    "start_time": "2022-05-01T11:41:57.892Z"
   },
   {
    "duration": 42,
    "start_time": "2022-05-01T11:41:57.905Z"
   },
   {
    "duration": 25,
    "start_time": "2022-05-01T11:41:57.952Z"
   },
   {
    "duration": 20,
    "start_time": "2022-05-01T11:41:57.979Z"
   },
   {
    "duration": 31,
    "start_time": "2022-05-01T11:41:58.002Z"
   },
   {
    "duration": 38,
    "start_time": "2022-05-01T11:41:58.037Z"
   },
   {
    "duration": 18,
    "start_time": "2022-05-01T11:41:58.077Z"
   },
   {
    "duration": 33,
    "start_time": "2022-05-01T11:41:58.097Z"
   },
   {
    "duration": 10,
    "start_time": "2022-05-01T11:41:58.133Z"
   },
   {
    "duration": 18,
    "start_time": "2022-05-01T11:41:58.154Z"
   },
   {
    "duration": 7,
    "start_time": "2022-05-01T11:41:58.175Z"
   },
   {
    "duration": 16,
    "start_time": "2022-05-01T11:41:58.184Z"
   },
   {
    "duration": 35,
    "start_time": "2022-05-01T11:41:58.202Z"
   },
   {
    "duration": 10,
    "start_time": "2022-05-01T11:41:58.239Z"
   },
   {
    "duration": 10,
    "start_time": "2022-05-01T11:41:58.251Z"
   },
   {
    "duration": 9,
    "start_time": "2022-05-01T11:41:58.265Z"
   },
   {
    "duration": 13,
    "start_time": "2022-05-01T11:41:58.276Z"
   },
   {
    "duration": 57,
    "start_time": "2022-05-01T11:41:58.291Z"
   },
   {
    "duration": 20,
    "start_time": "2022-05-01T11:41:58.351Z"
   },
   {
    "duration": 17,
    "start_time": "2022-05-01T11:41:58.372Z"
   },
   {
    "duration": 18,
    "start_time": "2022-05-01T11:41:58.392Z"
   },
   {
    "duration": 33,
    "start_time": "2022-05-01T11:41:58.434Z"
   },
   {
    "duration": 21,
    "start_time": "2022-05-01T11:41:58.473Z"
   },
   {
    "duration": 199,
    "start_time": "2022-05-01T11:41:58.497Z"
   },
   {
    "duration": 0,
    "start_time": "2022-05-01T11:41:58.698Z"
   },
   {
    "duration": 0,
    "start_time": "2022-05-01T11:41:58.699Z"
   },
   {
    "duration": 0,
    "start_time": "2022-05-01T11:41:58.700Z"
   },
   {
    "duration": 0,
    "start_time": "2022-05-01T11:41:58.702Z"
   },
   {
    "duration": 0,
    "start_time": "2022-05-01T11:41:58.703Z"
   },
   {
    "duration": 0,
    "start_time": "2022-05-01T11:41:58.705Z"
   },
   {
    "duration": 0,
    "start_time": "2022-05-01T11:41:58.706Z"
   },
   {
    "duration": 0,
    "start_time": "2022-05-01T11:41:58.708Z"
   },
   {
    "duration": 0,
    "start_time": "2022-05-01T11:41:58.711Z"
   },
   {
    "duration": 0,
    "start_time": "2022-05-01T11:41:58.713Z"
   },
   {
    "duration": 0,
    "start_time": "2022-05-01T11:41:58.714Z"
   },
   {
    "duration": 0,
    "start_time": "2022-05-01T11:41:58.716Z"
   },
   {
    "duration": 0,
    "start_time": "2022-05-01T11:41:58.717Z"
   },
   {
    "duration": 0,
    "start_time": "2022-05-01T11:41:58.718Z"
   },
   {
    "duration": 0,
    "start_time": "2022-05-01T11:41:58.720Z"
   },
   {
    "duration": 0,
    "start_time": "2022-05-01T11:41:58.720Z"
   },
   {
    "duration": 0,
    "start_time": "2022-05-01T11:41:58.722Z"
   },
   {
    "duration": 0,
    "start_time": "2022-05-01T11:41:58.723Z"
   },
   {
    "duration": 0,
    "start_time": "2022-05-01T11:41:58.723Z"
   },
   {
    "duration": 0,
    "start_time": "2022-05-01T11:41:58.724Z"
   },
   {
    "duration": 0,
    "start_time": "2022-05-01T11:41:58.725Z"
   },
   {
    "duration": 0,
    "start_time": "2022-05-01T11:41:58.731Z"
   },
   {
    "duration": 0,
    "start_time": "2022-05-01T11:41:58.732Z"
   },
   {
    "duration": 0,
    "start_time": "2022-05-01T11:41:58.733Z"
   },
   {
    "duration": 0,
    "start_time": "2022-05-01T11:41:58.734Z"
   },
   {
    "duration": 0,
    "start_time": "2022-05-01T11:41:58.735Z"
   },
   {
    "duration": 0,
    "start_time": "2022-05-01T11:41:58.736Z"
   },
   {
    "duration": 0,
    "start_time": "2022-05-01T11:41:58.737Z"
   },
   {
    "duration": 0,
    "start_time": "2022-05-01T11:41:58.738Z"
   },
   {
    "duration": 0,
    "start_time": "2022-05-01T11:41:58.739Z"
   },
   {
    "duration": 0,
    "start_time": "2022-05-01T11:41:58.740Z"
   },
   {
    "duration": 0,
    "start_time": "2022-05-01T11:41:58.741Z"
   },
   {
    "duration": 0,
    "start_time": "2022-05-01T11:41:58.742Z"
   },
   {
    "duration": 0,
    "start_time": "2022-05-01T11:41:58.744Z"
   },
   {
    "duration": 0,
    "start_time": "2022-05-01T11:41:58.745Z"
   },
   {
    "duration": 0,
    "start_time": "2022-05-01T11:41:58.746Z"
   },
   {
    "duration": 0,
    "start_time": "2022-05-01T11:41:58.747Z"
   },
   {
    "duration": 0,
    "start_time": "2022-05-01T11:41:58.748Z"
   },
   {
    "duration": 0,
    "start_time": "2022-05-01T11:41:58.749Z"
   },
   {
    "duration": 0,
    "start_time": "2022-05-01T11:41:58.750Z"
   },
   {
    "duration": 0,
    "start_time": "2022-05-01T11:41:58.751Z"
   },
   {
    "duration": 0,
    "start_time": "2022-05-01T11:41:58.752Z"
   },
   {
    "duration": 0,
    "start_time": "2022-05-01T11:41:58.753Z"
   },
   {
    "duration": 0,
    "start_time": "2022-05-01T11:41:58.754Z"
   },
   {
    "duration": 0,
    "start_time": "2022-05-01T11:41:58.755Z"
   },
   {
    "duration": 0,
    "start_time": "2022-05-01T11:41:58.756Z"
   },
   {
    "duration": 198,
    "start_time": "2022-05-01T11:45:37.251Z"
   },
   {
    "duration": 1467,
    "start_time": "2022-05-01T11:48:22.092Z"
   },
   {
    "duration": 173,
    "start_time": "2022-05-01T11:48:23.563Z"
   },
   {
    "duration": 29,
    "start_time": "2022-05-01T11:48:23.738Z"
   },
   {
    "duration": 26,
    "start_time": "2022-05-01T11:48:23.769Z"
   },
   {
    "duration": 5,
    "start_time": "2022-05-01T11:48:23.797Z"
   },
   {
    "duration": 22,
    "start_time": "2022-05-01T11:48:23.804Z"
   },
   {
    "duration": 8,
    "start_time": "2022-05-01T11:48:23.832Z"
   },
   {
    "duration": 23,
    "start_time": "2022-05-01T11:48:23.843Z"
   },
   {
    "duration": 19,
    "start_time": "2022-05-01T11:48:23.868Z"
   },
   {
    "duration": 45,
    "start_time": "2022-05-01T11:48:23.891Z"
   },
   {
    "duration": 33,
    "start_time": "2022-05-01T11:48:23.938Z"
   },
   {
    "duration": 14,
    "start_time": "2022-05-01T11:48:23.976Z"
   },
   {
    "duration": 8,
    "start_time": "2022-05-01T11:48:23.992Z"
   },
   {
    "duration": 21,
    "start_time": "2022-05-01T11:48:24.002Z"
   },
   {
    "duration": 39,
    "start_time": "2022-05-01T11:48:24.025Z"
   },
   {
    "duration": 9,
    "start_time": "2022-05-01T11:48:24.065Z"
   },
   {
    "duration": 15,
    "start_time": "2022-05-01T11:48:24.082Z"
   },
   {
    "duration": 30,
    "start_time": "2022-05-01T11:48:24.098Z"
   },
   {
    "duration": 8,
    "start_time": "2022-05-01T11:48:24.130Z"
   },
   {
    "duration": 13,
    "start_time": "2022-05-01T11:48:24.139Z"
   },
   {
    "duration": 22,
    "start_time": "2022-05-01T11:48:24.153Z"
   },
   {
    "duration": 15,
    "start_time": "2022-05-01T11:48:24.177Z"
   },
   {
    "duration": 22,
    "start_time": "2022-05-01T11:48:24.193Z"
   },
   {
    "duration": 34,
    "start_time": "2022-05-01T11:48:24.217Z"
   },
   {
    "duration": 23,
    "start_time": "2022-05-01T11:48:24.253Z"
   },
   {
    "duration": 18,
    "start_time": "2022-05-01T11:48:24.277Z"
   },
   {
    "duration": 34,
    "start_time": "2022-05-01T11:48:24.297Z"
   },
   {
    "duration": 26,
    "start_time": "2022-05-01T11:48:24.336Z"
   },
   {
    "duration": 110,
    "start_time": "2022-05-01T11:48:24.363Z"
   },
   {
    "duration": 5,
    "start_time": "2022-05-01T11:48:24.476Z"
   },
   {
    "duration": 5,
    "start_time": "2022-05-01T11:48:24.483Z"
   },
   {
    "duration": 198,
    "start_time": "2022-05-01T11:48:24.490Z"
   },
   {
    "duration": 982,
    "start_time": "2022-05-01T11:48:24.691Z"
   },
   {
    "duration": 1185,
    "start_time": "2022-05-01T11:48:25.675Z"
   },
   {
    "duration": 31,
    "start_time": "2022-05-01T11:48:26.862Z"
   },
   {
    "duration": 103,
    "start_time": "2022-05-01T11:48:26.895Z"
   },
   {
    "duration": 5,
    "start_time": "2022-05-01T11:48:27.000Z"
   },
   {
    "duration": 1031,
    "start_time": "2022-05-01T11:48:27.007Z"
   },
   {
    "duration": 26,
    "start_time": "2022-05-01T11:48:28.040Z"
   },
   {
    "duration": 10,
    "start_time": "2022-05-01T11:48:28.068Z"
   },
   {
    "duration": 19,
    "start_time": "2022-05-01T11:48:28.080Z"
   },
   {
    "duration": 46,
    "start_time": "2022-05-01T11:48:28.101Z"
   },
   {
    "duration": 33,
    "start_time": "2022-05-01T11:48:28.154Z"
   },
   {
    "duration": 15,
    "start_time": "2022-05-01T11:48:28.189Z"
   },
   {
    "duration": 29,
    "start_time": "2022-05-01T11:48:28.205Z"
   },
   {
    "duration": 26,
    "start_time": "2022-05-01T11:48:28.236Z"
   },
   {
    "duration": 16,
    "start_time": "2022-05-01T11:48:28.263Z"
   },
   {
    "duration": 6,
    "start_time": "2022-05-01T11:48:28.282Z"
   },
   {
    "duration": 116,
    "start_time": "2022-05-01T11:48:28.290Z"
   },
   {
    "duration": 6,
    "start_time": "2022-05-01T11:48:28.408Z"
   },
   {
    "duration": 18,
    "start_time": "2022-05-01T11:48:28.416Z"
   },
   {
    "duration": 50,
    "start_time": "2022-05-01T11:48:28.435Z"
   },
   {
    "duration": 31,
    "start_time": "2022-05-01T11:48:28.488Z"
   },
   {
    "duration": 28,
    "start_time": "2022-05-01T11:48:28.521Z"
   },
   {
    "duration": 56,
    "start_time": "2022-05-01T11:48:28.551Z"
   },
   {
    "duration": 56,
    "start_time": "2022-05-01T11:48:28.609Z"
   },
   {
    "duration": 20,
    "start_time": "2022-05-01T11:48:28.676Z"
   },
   {
    "duration": 21,
    "start_time": "2022-05-01T11:48:28.698Z"
   },
   {
    "duration": 60,
    "start_time": "2022-05-01T11:48:28.721Z"
   },
   {
    "duration": 11,
    "start_time": "2022-05-01T11:48:28.785Z"
   },
   {
    "duration": 63,
    "start_time": "2022-05-01T11:48:28.798Z"
   },
   {
    "duration": 18,
    "start_time": "2022-05-01T11:48:28.866Z"
   },
   {
    "duration": 20,
    "start_time": "2022-05-01T11:48:28.886Z"
   },
   {
    "duration": 9,
    "start_time": "2022-05-01T11:48:28.908Z"
   },
   {
    "duration": 46,
    "start_time": "2022-05-01T11:48:28.933Z"
   },
   {
    "duration": 29,
    "start_time": "2022-05-01T11:48:28.982Z"
   },
   {
    "duration": 14,
    "start_time": "2022-05-01T11:48:29.014Z"
   },
   {
    "duration": 47,
    "start_time": "2022-05-01T11:48:29.032Z"
   },
   {
    "duration": 4,
    "start_time": "2022-05-01T11:48:29.083Z"
   },
   {
    "duration": 54,
    "start_time": "2022-05-01T11:48:29.089Z"
   },
   {
    "duration": 7,
    "start_time": "2022-05-01T11:48:29.145Z"
   },
   {
    "duration": 39,
    "start_time": "2022-05-01T11:48:29.154Z"
   },
   {
    "duration": 44,
    "start_time": "2022-05-01T11:48:29.195Z"
   },
   {
    "duration": 38,
    "start_time": "2022-05-01T11:48:29.241Z"
   },
   {
    "duration": 13,
    "start_time": "2022-05-01T11:50:23.390Z"
   },
   {
    "duration": 9,
    "start_time": "2022-05-01T11:50:46.309Z"
   },
   {
    "duration": 1376,
    "start_time": "2022-05-01T12:22:33.845Z"
   },
   {
    "duration": 170,
    "start_time": "2022-05-01T12:22:35.223Z"
   },
   {
    "duration": 16,
    "start_time": "2022-05-01T12:22:35.395Z"
   },
   {
    "duration": 22,
    "start_time": "2022-05-01T12:22:35.413Z"
   },
   {
    "duration": 4,
    "start_time": "2022-05-01T12:22:35.437Z"
   },
   {
    "duration": 5,
    "start_time": "2022-05-01T12:22:35.442Z"
   },
   {
    "duration": 10,
    "start_time": "2022-05-01T12:22:35.449Z"
   },
   {
    "duration": 14,
    "start_time": "2022-05-01T12:22:35.461Z"
   },
   {
    "duration": 12,
    "start_time": "2022-05-01T12:22:35.477Z"
   },
   {
    "duration": 36,
    "start_time": "2022-05-01T12:22:35.491Z"
   },
   {
    "duration": 25,
    "start_time": "2022-05-01T12:22:35.529Z"
   },
   {
    "duration": 10,
    "start_time": "2022-05-01T12:22:35.556Z"
   },
   {
    "duration": 6,
    "start_time": "2022-05-01T12:22:35.568Z"
   },
   {
    "duration": 5,
    "start_time": "2022-05-01T12:22:35.576Z"
   },
   {
    "duration": 45,
    "start_time": "2022-05-01T12:22:35.583Z"
   },
   {
    "duration": 7,
    "start_time": "2022-05-01T12:22:35.630Z"
   },
   {
    "duration": 27,
    "start_time": "2022-05-01T12:22:35.640Z"
   },
   {
    "duration": 17,
    "start_time": "2022-05-01T12:22:35.669Z"
   },
   {
    "duration": 8,
    "start_time": "2022-05-01T12:22:35.687Z"
   },
   {
    "duration": 29,
    "start_time": "2022-05-01T12:22:35.696Z"
   },
   {
    "duration": 14,
    "start_time": "2022-05-01T12:22:35.726Z"
   },
   {
    "duration": 11,
    "start_time": "2022-05-01T12:22:35.750Z"
   },
   {
    "duration": 14,
    "start_time": "2022-05-01T12:22:35.763Z"
   },
   {
    "duration": 17,
    "start_time": "2022-05-01T12:22:35.779Z"
   },
   {
    "duration": 52,
    "start_time": "2022-05-01T12:22:35.797Z"
   },
   {
    "duration": 22,
    "start_time": "2022-05-01T12:22:35.851Z"
   },
   {
    "duration": 28,
    "start_time": "2022-05-01T12:22:35.875Z"
   },
   {
    "duration": 42,
    "start_time": "2022-05-01T12:22:35.908Z"
   },
   {
    "duration": 60,
    "start_time": "2022-05-01T12:22:35.953Z"
   },
   {
    "duration": 9,
    "start_time": "2022-05-01T12:22:36.025Z"
   },
   {
    "duration": 16,
    "start_time": "2022-05-01T12:22:36.036Z"
   },
   {
    "duration": 150,
    "start_time": "2022-05-01T12:22:36.053Z"
   },
   {
    "duration": 812,
    "start_time": "2022-05-01T12:22:36.205Z"
   },
   {
    "duration": 849,
    "start_time": "2022-05-01T12:22:37.019Z"
   },
   {
    "duration": 21,
    "start_time": "2022-05-01T12:22:37.870Z"
   },
   {
    "duration": 87,
    "start_time": "2022-05-01T12:22:37.893Z"
   },
   {
    "duration": 10,
    "start_time": "2022-05-01T12:22:37.981Z"
   },
   {
    "duration": 902,
    "start_time": "2022-05-01T12:22:37.993Z"
   },
   {
    "duration": 17,
    "start_time": "2022-05-01T12:22:38.897Z"
   },
   {
    "duration": 18,
    "start_time": "2022-05-01T12:22:38.916Z"
   },
   {
    "duration": 21,
    "start_time": "2022-05-01T12:22:38.936Z"
   },
   {
    "duration": 15,
    "start_time": "2022-05-01T12:22:38.959Z"
   },
   {
    "duration": 16,
    "start_time": "2022-05-01T12:22:38.976Z"
   },
   {
    "duration": 53,
    "start_time": "2022-05-01T12:22:38.994Z"
   },
   {
    "duration": 9,
    "start_time": "2022-05-01T12:22:39.051Z"
   },
   {
    "duration": 21,
    "start_time": "2022-05-01T12:22:39.062Z"
   },
   {
    "duration": 110,
    "start_time": "2022-05-01T12:22:39.085Z"
   },
   {
    "duration": 7,
    "start_time": "2022-05-01T12:22:39.197Z"
   },
   {
    "duration": 26,
    "start_time": "2022-05-01T12:22:39.206Z"
   },
   {
    "duration": 7,
    "start_time": "2022-05-01T12:22:39.234Z"
   },
   {
    "duration": 15,
    "start_time": "2022-05-01T12:22:39.243Z"
   },
   {
    "duration": 17,
    "start_time": "2022-05-01T12:22:39.260Z"
   },
   {
    "duration": 58,
    "start_time": "2022-05-01T12:22:39.279Z"
   },
   {
    "duration": 26,
    "start_time": "2022-05-01T12:22:39.339Z"
   },
   {
    "duration": 36,
    "start_time": "2022-05-01T12:22:39.368Z"
   },
   {
    "duration": 43,
    "start_time": "2022-05-01T12:22:39.406Z"
   },
   {
    "duration": 20,
    "start_time": "2022-05-01T12:22:39.451Z"
   },
   {
    "duration": 26,
    "start_time": "2022-05-01T12:22:39.475Z"
   },
   {
    "duration": 73,
    "start_time": "2022-05-01T12:22:39.503Z"
   },
   {
    "duration": 11,
    "start_time": "2022-05-01T12:22:39.578Z"
   },
   {
    "duration": 22,
    "start_time": "2022-05-01T12:22:39.591Z"
   },
   {
    "duration": 19,
    "start_time": "2022-05-01T12:22:39.615Z"
   },
   {
    "duration": 22,
    "start_time": "2022-05-01T12:22:39.636Z"
   },
   {
    "duration": 7,
    "start_time": "2022-05-01T12:22:39.660Z"
   },
   {
    "duration": 33,
    "start_time": "2022-05-01T12:22:39.669Z"
   },
   {
    "duration": 52,
    "start_time": "2022-05-01T12:22:39.704Z"
   },
   {
    "duration": 12,
    "start_time": "2022-05-01T12:22:39.757Z"
   },
   {
    "duration": 38,
    "start_time": "2022-05-01T12:22:39.770Z"
   },
   {
    "duration": 17,
    "start_time": "2022-05-01T12:22:39.809Z"
   },
   {
    "duration": 33,
    "start_time": "2022-05-01T12:22:39.828Z"
   },
   {
    "duration": 11,
    "start_time": "2022-05-01T12:22:39.863Z"
   },
   {
    "duration": 29,
    "start_time": "2022-05-01T12:22:39.876Z"
   },
   {
    "duration": 31,
    "start_time": "2022-05-01T12:22:39.907Z"
   },
   {
    "duration": 30,
    "start_time": "2022-05-01T12:22:39.940Z"
   },
   {
    "duration": 36,
    "start_time": "2022-05-01T12:31:38.542Z"
   },
   {
    "duration": 10,
    "start_time": "2022-05-01T12:32:04.290Z"
   },
   {
    "duration": 123,
    "start_time": "2022-05-01T12:35:47.434Z"
   },
   {
    "duration": 25,
    "start_time": "2022-05-01T12:35:52.613Z"
   },
   {
    "duration": 13,
    "start_time": "2022-05-01T12:36:15.351Z"
   },
   {
    "duration": 7,
    "start_time": "2022-05-01T12:36:53.002Z"
   },
   {
    "duration": 12,
    "start_time": "2022-05-01T12:37:06.945Z"
   },
   {
    "duration": 14,
    "start_time": "2022-05-01T12:37:20.795Z"
   },
   {
    "duration": 13,
    "start_time": "2022-05-01T12:37:39.571Z"
   },
   {
    "duration": 14,
    "start_time": "2022-05-01T12:37:48.026Z"
   },
   {
    "duration": 17,
    "start_time": "2022-05-01T12:38:18.899Z"
   },
   {
    "duration": 9,
    "start_time": "2022-05-01T12:41:55.356Z"
   },
   {
    "duration": 6,
    "start_time": "2022-05-01T12:42:42.147Z"
   },
   {
    "duration": 29,
    "start_time": "2022-05-01T12:55:07.868Z"
   },
   {
    "duration": 12,
    "start_time": "2022-05-01T13:03:45.373Z"
   },
   {
    "duration": 32,
    "start_time": "2022-05-01T13:03:52.819Z"
   },
   {
    "duration": 27,
    "start_time": "2022-05-01T13:04:12.049Z"
   },
   {
    "duration": 23,
    "start_time": "2022-05-01T13:04:20.179Z"
   },
   {
    "duration": 18,
    "start_time": "2022-05-01T13:10:06.341Z"
   },
   {
    "duration": 20,
    "start_time": "2022-05-01T13:11:51.892Z"
   },
   {
    "duration": 21,
    "start_time": "2022-05-01T13:19:31.088Z"
   },
   {
    "duration": 24,
    "start_time": "2022-05-01T13:19:37.165Z"
   },
   {
    "duration": 44,
    "start_time": "2022-05-01T13:21:10.250Z"
   },
   {
    "duration": 33,
    "start_time": "2022-05-01T13:21:24.714Z"
   },
   {
    "duration": 21,
    "start_time": "2022-05-01T13:21:34.448Z"
   },
   {
    "duration": 8,
    "start_time": "2022-05-01T13:22:06.070Z"
   },
   {
    "duration": 40,
    "start_time": "2022-05-01T13:28:27.153Z"
   },
   {
    "duration": 36,
    "start_time": "2022-05-01T13:33:19.332Z"
   },
   {
    "duration": 12,
    "start_time": "2022-05-01T13:33:48.420Z"
   },
   {
    "duration": 24,
    "start_time": "2022-05-01T13:34:23.855Z"
   },
   {
    "duration": 12,
    "start_time": "2022-05-01T13:35:02.702Z"
   },
   {
    "duration": 14,
    "start_time": "2022-05-01T13:35:28.902Z"
   },
   {
    "duration": 16,
    "start_time": "2022-05-01T13:35:48.017Z"
   },
   {
    "duration": 26,
    "start_time": "2022-05-01T13:36:20.995Z"
   },
   {
    "duration": 205,
    "start_time": "2022-05-01T13:37:34.093Z"
   },
   {
    "duration": 11,
    "start_time": "2022-05-01T13:37:39.003Z"
   },
   {
    "duration": 12,
    "start_time": "2022-05-01T13:37:54.442Z"
   },
   {
    "duration": 8,
    "start_time": "2022-05-01T13:38:25.960Z"
   },
   {
    "duration": 16,
    "start_time": "2022-05-01T13:39:22.669Z"
   },
   {
    "duration": 17,
    "start_time": "2022-05-01T13:40:42.127Z"
   },
   {
    "duration": 26,
    "start_time": "2022-05-01T13:41:25.749Z"
   },
   {
    "duration": 247,
    "start_time": "2022-05-01T13:43:00.496Z"
   },
   {
    "duration": 33,
    "start_time": "2022-05-01T13:43:08.706Z"
   },
   {
    "duration": 67,
    "start_time": "2022-05-01T13:44:40.226Z"
   },
   {
    "duration": 223,
    "start_time": "2022-05-01T13:45:01.860Z"
   },
   {
    "duration": 1492,
    "start_time": "2022-05-01T13:47:26.100Z"
   },
   {
    "duration": 207,
    "start_time": "2022-05-01T13:47:27.595Z"
   },
   {
    "duration": 34,
    "start_time": "2022-05-01T13:47:27.804Z"
   },
   {
    "duration": 42,
    "start_time": "2022-05-01T13:47:27.852Z"
   },
   {
    "duration": 5,
    "start_time": "2022-05-01T13:47:27.899Z"
   },
   {
    "duration": 24,
    "start_time": "2022-05-01T13:47:27.906Z"
   },
   {
    "duration": 21,
    "start_time": "2022-05-01T13:47:27.933Z"
   },
   {
    "duration": 30,
    "start_time": "2022-05-01T13:47:27.957Z"
   },
   {
    "duration": 17,
    "start_time": "2022-05-01T13:47:27.990Z"
   },
   {
    "duration": 33,
    "start_time": "2022-05-01T13:47:28.011Z"
   },
   {
    "duration": 25,
    "start_time": "2022-05-01T13:47:28.050Z"
   },
   {
    "duration": 12,
    "start_time": "2022-05-01T13:47:28.079Z"
   },
   {
    "duration": 9,
    "start_time": "2022-05-01T13:47:28.093Z"
   },
   {
    "duration": 6,
    "start_time": "2022-05-01T13:47:28.104Z"
   },
   {
    "duration": 38,
    "start_time": "2022-05-01T13:47:28.112Z"
   },
   {
    "duration": 10,
    "start_time": "2022-05-01T13:47:28.152Z"
   },
   {
    "duration": 23,
    "start_time": "2022-05-01T13:47:28.164Z"
   },
   {
    "duration": 20,
    "start_time": "2022-05-01T13:47:28.189Z"
   },
   {
    "duration": 13,
    "start_time": "2022-05-01T13:47:28.211Z"
   },
   {
    "duration": 15,
    "start_time": "2022-05-01T13:47:28.227Z"
   },
   {
    "duration": 8,
    "start_time": "2022-05-01T13:47:28.244Z"
   },
   {
    "duration": 18,
    "start_time": "2022-05-01T13:47:28.254Z"
   },
   {
    "duration": 17,
    "start_time": "2022-05-01T13:47:28.274Z"
   },
   {
    "duration": 55,
    "start_time": "2022-05-01T13:47:28.293Z"
   },
   {
    "duration": 42,
    "start_time": "2022-05-01T13:47:28.354Z"
   },
   {
    "duration": 13,
    "start_time": "2022-05-01T13:47:28.398Z"
   },
   {
    "duration": 30,
    "start_time": "2022-05-01T13:47:28.413Z"
   },
   {
    "duration": 32,
    "start_time": "2022-05-01T13:47:28.449Z"
   },
   {
    "duration": 93,
    "start_time": "2022-05-01T13:47:28.483Z"
   },
   {
    "duration": 8,
    "start_time": "2022-05-01T13:47:28.582Z"
   },
   {
    "duration": 5,
    "start_time": "2022-05-01T13:47:28.592Z"
   },
   {
    "duration": 183,
    "start_time": "2022-05-01T13:47:28.600Z"
   },
   {
    "duration": 929,
    "start_time": "2022-05-01T13:47:28.784Z"
   },
   {
    "duration": 1165,
    "start_time": "2022-05-01T13:47:29.715Z"
   },
   {
    "duration": 30,
    "start_time": "2022-05-01T13:47:30.883Z"
   },
   {
    "duration": 85,
    "start_time": "2022-05-01T13:47:30.915Z"
   },
   {
    "duration": 9,
    "start_time": "2022-05-01T13:47:31.002Z"
   },
   {
    "duration": 1218,
    "start_time": "2022-05-01T13:47:31.023Z"
   },
   {
    "duration": 32,
    "start_time": "2022-05-01T13:47:32.245Z"
   },
   {
    "duration": 9,
    "start_time": "2022-05-01T13:47:32.279Z"
   },
   {
    "duration": 22,
    "start_time": "2022-05-01T13:47:32.290Z"
   },
   {
    "duration": 53,
    "start_time": "2022-05-01T13:47:32.314Z"
   },
   {
    "duration": 16,
    "start_time": "2022-05-01T13:47:32.369Z"
   },
   {
    "duration": 19,
    "start_time": "2022-05-01T13:47:32.387Z"
   },
   {
    "duration": 9,
    "start_time": "2022-05-01T13:47:32.408Z"
   },
   {
    "duration": 19,
    "start_time": "2022-05-01T13:47:32.429Z"
   },
   {
    "duration": 13,
    "start_time": "2022-05-01T13:47:32.452Z"
   },
   {
    "duration": 108,
    "start_time": "2022-05-01T13:47:32.471Z"
   },
   {
    "duration": 9,
    "start_time": "2022-05-01T13:47:32.581Z"
   },
   {
    "duration": 58,
    "start_time": "2022-05-01T13:47:32.591Z"
   },
   {
    "duration": 10,
    "start_time": "2022-05-01T13:47:32.651Z"
   },
   {
    "duration": 17,
    "start_time": "2022-05-01T13:47:32.664Z"
   },
   {
    "duration": 6,
    "start_time": "2022-05-01T13:47:32.683Z"
   },
   {
    "duration": 8,
    "start_time": "2022-05-01T13:47:32.691Z"
   },
   {
    "duration": 49,
    "start_time": "2022-05-01T13:47:32.701Z"
   },
   {
    "duration": 47,
    "start_time": "2022-05-01T13:47:32.752Z"
   },
   {
    "duration": 34,
    "start_time": "2022-05-01T13:47:32.801Z"
   },
   {
    "duration": 51,
    "start_time": "2022-05-01T13:47:32.837Z"
   },
   {
    "duration": 36,
    "start_time": "2022-05-01T13:47:32.890Z"
   },
   {
    "duration": 29,
    "start_time": "2022-05-01T13:47:32.930Z"
   },
   {
    "duration": 32,
    "start_time": "2022-05-01T13:47:32.960Z"
   },
   {
    "duration": 59,
    "start_time": "2022-05-01T13:47:32.996Z"
   },
   {
    "duration": 16,
    "start_time": "2022-05-01T13:47:33.059Z"
   },
   {
    "duration": 17,
    "start_time": "2022-05-01T13:47:33.077Z"
   },
   {
    "duration": 62,
    "start_time": "2022-05-01T13:47:33.096Z"
   },
   {
    "duration": 23,
    "start_time": "2022-05-01T13:47:33.160Z"
   },
   {
    "duration": 9,
    "start_time": "2022-05-01T13:47:33.185Z"
   },
   {
    "duration": 25,
    "start_time": "2022-05-01T13:47:33.195Z"
   },
   {
    "duration": 38,
    "start_time": "2022-05-01T13:47:33.226Z"
   },
   {
    "duration": 13,
    "start_time": "2022-05-01T13:47:33.266Z"
   },
   {
    "duration": 28,
    "start_time": "2022-05-01T13:47:33.283Z"
   },
   {
    "duration": 7,
    "start_time": "2022-05-01T13:47:33.324Z"
   },
   {
    "duration": 34,
    "start_time": "2022-05-01T13:47:33.335Z"
   },
   {
    "duration": 8,
    "start_time": "2022-05-01T13:47:33.371Z"
   },
   {
    "duration": 25,
    "start_time": "2022-05-01T13:47:33.381Z"
   },
   {
    "duration": 57,
    "start_time": "2022-05-01T13:47:33.409Z"
   },
   {
    "duration": 26,
    "start_time": "2022-05-01T13:47:33.469Z"
   },
   {
    "duration": 1456,
    "start_time": "2022-05-01T13:53:41.743Z"
   },
   {
    "duration": 179,
    "start_time": "2022-05-01T13:53:43.202Z"
   },
   {
    "duration": 19,
    "start_time": "2022-05-01T13:53:43.383Z"
   },
   {
    "duration": 34,
    "start_time": "2022-05-01T13:53:43.404Z"
   },
   {
    "duration": 7,
    "start_time": "2022-05-01T13:53:43.441Z"
   },
   {
    "duration": 9,
    "start_time": "2022-05-01T13:53:43.450Z"
   },
   {
    "duration": 13,
    "start_time": "2022-05-01T13:53:43.461Z"
   },
   {
    "duration": 15,
    "start_time": "2022-05-01T13:53:43.476Z"
   },
   {
    "duration": 56,
    "start_time": "2022-05-01T13:53:43.493Z"
   },
   {
    "duration": 16,
    "start_time": "2022-05-01T13:53:43.552Z"
   },
   {
    "duration": 14,
    "start_time": "2022-05-01T13:53:43.570Z"
   },
   {
    "duration": 11,
    "start_time": "2022-05-01T13:53:43.586Z"
   },
   {
    "duration": 31,
    "start_time": "2022-05-01T13:53:43.599Z"
   },
   {
    "duration": 7,
    "start_time": "2022-05-01T13:53:43.632Z"
   },
   {
    "duration": 18,
    "start_time": "2022-05-01T13:53:43.641Z"
   },
   {
    "duration": 6,
    "start_time": "2022-05-01T13:53:43.661Z"
   },
   {
    "duration": 22,
    "start_time": "2022-05-01T13:53:43.669Z"
   },
   {
    "duration": 40,
    "start_time": "2022-05-01T13:53:43.694Z"
   },
   {
    "duration": 11,
    "start_time": "2022-05-01T13:53:43.736Z"
   },
   {
    "duration": 5,
    "start_time": "2022-05-01T13:53:43.750Z"
   },
   {
    "duration": 11,
    "start_time": "2022-05-01T13:53:43.757Z"
   },
   {
    "duration": 12,
    "start_time": "2022-05-01T13:53:43.771Z"
   },
   {
    "duration": 60,
    "start_time": "2022-05-01T13:53:43.785Z"
   },
   {
    "duration": 25,
    "start_time": "2022-05-01T13:53:43.847Z"
   },
   {
    "duration": 24,
    "start_time": "2022-05-01T13:53:43.874Z"
   },
   {
    "duration": 19,
    "start_time": "2022-05-01T13:53:43.923Z"
   },
   {
    "duration": 32,
    "start_time": "2022-05-01T13:53:43.944Z"
   },
   {
    "duration": 47,
    "start_time": "2022-05-01T13:53:43.983Z"
   },
   {
    "duration": 76,
    "start_time": "2022-05-01T13:53:44.032Z"
   },
   {
    "duration": 14,
    "start_time": "2022-05-01T13:53:44.122Z"
   },
   {
    "duration": 5,
    "start_time": "2022-05-01T13:53:44.138Z"
   },
   {
    "duration": 188,
    "start_time": "2022-05-01T13:53:44.145Z"
   },
   {
    "duration": 1211,
    "start_time": "2022-05-01T13:53:44.335Z"
   },
   {
    "duration": 1119,
    "start_time": "2022-05-01T13:53:45.548Z"
   },
   {
    "duration": 30,
    "start_time": "2022-05-01T13:53:46.669Z"
   },
   {
    "duration": 99,
    "start_time": "2022-05-01T13:53:46.701Z"
   },
   {
    "duration": 26,
    "start_time": "2022-05-01T13:53:46.802Z"
   },
   {
    "duration": 1129,
    "start_time": "2022-05-01T13:53:46.831Z"
   },
   {
    "duration": 15,
    "start_time": "2022-05-01T13:53:47.962Z"
   },
   {
    "duration": 6,
    "start_time": "2022-05-01T13:53:47.978Z"
   },
   {
    "duration": 39,
    "start_time": "2022-05-01T13:53:47.986Z"
   },
   {
    "duration": 20,
    "start_time": "2022-05-01T13:53:48.027Z"
   },
   {
    "duration": 14,
    "start_time": "2022-05-01T13:53:48.049Z"
   },
   {
    "duration": 14,
    "start_time": "2022-05-01T13:53:48.065Z"
   },
   {
    "duration": 8,
    "start_time": "2022-05-01T13:53:48.081Z"
   },
   {
    "duration": 12,
    "start_time": "2022-05-01T13:53:48.137Z"
   },
   {
    "duration": 5,
    "start_time": "2022-05-01T13:53:48.151Z"
   },
   {
    "duration": 102,
    "start_time": "2022-05-01T13:53:48.158Z"
   },
   {
    "duration": 9,
    "start_time": "2022-05-01T13:53:48.262Z"
   },
   {
    "duration": 22,
    "start_time": "2022-05-01T13:53:48.273Z"
   },
   {
    "duration": 36,
    "start_time": "2022-05-01T13:53:48.297Z"
   },
   {
    "duration": 50,
    "start_time": "2022-05-01T13:53:48.339Z"
   },
   {
    "duration": 22,
    "start_time": "2022-05-01T13:53:48.405Z"
   },
   {
    "duration": 16,
    "start_time": "2022-05-01T13:53:48.429Z"
   },
   {
    "duration": 29,
    "start_time": "2022-05-01T13:53:48.450Z"
   },
   {
    "duration": 46,
    "start_time": "2022-05-01T13:53:48.481Z"
   },
   {
    "duration": 27,
    "start_time": "2022-05-01T13:53:48.529Z"
   },
   {
    "duration": 36,
    "start_time": "2022-05-01T13:53:48.558Z"
   },
   {
    "duration": 50,
    "start_time": "2022-05-01T13:53:48.596Z"
   },
   {
    "duration": 21,
    "start_time": "2022-05-01T13:53:48.648Z"
   },
   {
    "duration": 22,
    "start_time": "2022-05-01T13:53:48.671Z"
   },
   {
    "duration": 75,
    "start_time": "2022-05-01T13:53:48.695Z"
   },
   {
    "duration": 12,
    "start_time": "2022-05-01T13:53:48.771Z"
   },
   {
    "duration": 18,
    "start_time": "2022-05-01T13:53:48.785Z"
   },
   {
    "duration": 34,
    "start_time": "2022-05-01T13:53:48.805Z"
   },
   {
    "duration": 18,
    "start_time": "2022-05-01T13:53:48.842Z"
   },
   {
    "duration": 8,
    "start_time": "2022-05-01T13:53:48.861Z"
   },
   {
    "duration": 20,
    "start_time": "2022-05-01T13:53:48.871Z"
   },
   {
    "duration": 53,
    "start_time": "2022-05-01T13:53:48.893Z"
   },
   {
    "duration": 11,
    "start_time": "2022-05-01T13:53:48.948Z"
   },
   {
    "duration": 33,
    "start_time": "2022-05-01T13:53:48.961Z"
   },
   {
    "duration": 32,
    "start_time": "2022-05-01T13:53:48.996Z"
   },
   {
    "duration": 27,
    "start_time": "2022-05-01T13:53:49.033Z"
   },
   {
    "duration": 8,
    "start_time": "2022-05-01T13:53:49.062Z"
   },
   {
    "duration": 24,
    "start_time": "2022-05-01T13:53:49.072Z"
   },
   {
    "duration": 34,
    "start_time": "2022-05-01T13:53:49.128Z"
   },
   {
    "duration": 25,
    "start_time": "2022-05-01T13:53:49.164Z"
   },
   {
    "duration": 17,
    "start_time": "2022-05-01T14:01:19.387Z"
   },
   {
    "duration": 24,
    "start_time": "2022-05-01T14:10:32.052Z"
   },
   {
    "duration": 12,
    "start_time": "2022-05-01T14:13:08.649Z"
   },
   {
    "duration": 1259,
    "start_time": "2022-05-01T14:14:26.532Z"
   },
   {
    "duration": 168,
    "start_time": "2022-05-01T14:14:27.793Z"
   },
   {
    "duration": 17,
    "start_time": "2022-05-01T14:14:27.963Z"
   },
   {
    "duration": 15,
    "start_time": "2022-05-01T14:14:27.982Z"
   },
   {
    "duration": 5,
    "start_time": "2022-05-01T14:14:27.999Z"
   },
   {
    "duration": 23,
    "start_time": "2022-05-01T14:14:28.005Z"
   },
   {
    "duration": 10,
    "start_time": "2022-05-01T14:14:28.030Z"
   },
   {
    "duration": 20,
    "start_time": "2022-05-01T14:14:28.046Z"
   },
   {
    "duration": 13,
    "start_time": "2022-05-01T14:14:28.068Z"
   },
   {
    "duration": 23,
    "start_time": "2022-05-01T14:14:28.085Z"
   },
   {
    "duration": 15,
    "start_time": "2022-05-01T14:14:28.123Z"
   },
   {
    "duration": 12,
    "start_time": "2022-05-01T14:14:28.140Z"
   },
   {
    "duration": 8,
    "start_time": "2022-05-01T14:14:28.155Z"
   },
   {
    "duration": 5,
    "start_time": "2022-05-01T14:14:28.165Z"
   },
   {
    "duration": 23,
    "start_time": "2022-05-01T14:14:28.171Z"
   },
   {
    "duration": 41,
    "start_time": "2022-05-01T14:14:28.195Z"
   },
   {
    "duration": 23,
    "start_time": "2022-05-01T14:14:28.238Z"
   },
   {
    "duration": 17,
    "start_time": "2022-05-01T14:14:28.263Z"
   },
   {
    "duration": 7,
    "start_time": "2022-05-01T14:14:28.282Z"
   },
   {
    "duration": 6,
    "start_time": "2022-05-01T14:14:28.291Z"
   },
   {
    "duration": 8,
    "start_time": "2022-05-01T14:14:28.325Z"
   },
   {
    "duration": 24,
    "start_time": "2022-05-01T14:14:28.335Z"
   },
   {
    "duration": 14,
    "start_time": "2022-05-01T14:14:28.360Z"
   },
   {
    "duration": 18,
    "start_time": "2022-05-01T14:14:28.376Z"
   },
   {
    "duration": 30,
    "start_time": "2022-05-01T14:14:28.396Z"
   },
   {
    "duration": 26,
    "start_time": "2022-05-01T14:14:28.430Z"
   },
   {
    "duration": 20,
    "start_time": "2022-05-01T14:14:28.458Z"
   },
   {
    "duration": 17,
    "start_time": "2022-05-01T14:14:28.482Z"
   },
   {
    "duration": 84,
    "start_time": "2022-05-01T14:14:28.500Z"
   },
   {
    "duration": 5,
    "start_time": "2022-05-01T14:14:28.586Z"
   },
   {
    "duration": 6,
    "start_time": "2022-05-01T14:14:28.592Z"
   },
   {
    "duration": 161,
    "start_time": "2022-05-01T14:14:28.599Z"
   },
   {
    "duration": 853,
    "start_time": "2022-05-01T14:14:28.762Z"
   },
   {
    "duration": 1144,
    "start_time": "2022-05-01T14:14:29.617Z"
   },
   {
    "duration": 20,
    "start_time": "2022-05-01T14:14:30.763Z"
   },
   {
    "duration": 83,
    "start_time": "2022-05-01T14:14:30.785Z"
   },
   {
    "duration": 9,
    "start_time": "2022-05-01T14:14:30.870Z"
   },
   {
    "duration": 880,
    "start_time": "2022-05-01T14:14:30.881Z"
   },
   {
    "duration": 15,
    "start_time": "2022-05-01T14:14:31.763Z"
   },
   {
    "duration": 8,
    "start_time": "2022-05-01T14:14:31.779Z"
   },
   {
    "duration": 18,
    "start_time": "2022-05-01T14:14:31.788Z"
   },
   {
    "duration": 21,
    "start_time": "2022-05-01T14:14:31.823Z"
   },
   {
    "duration": 18,
    "start_time": "2022-05-01T14:14:31.846Z"
   },
   {
    "duration": 15,
    "start_time": "2022-05-01T14:14:31.866Z"
   },
   {
    "duration": 7,
    "start_time": "2022-05-01T14:14:31.883Z"
   },
   {
    "duration": 36,
    "start_time": "2022-05-01T14:14:31.891Z"
   },
   {
    "duration": 13,
    "start_time": "2022-05-01T14:14:31.937Z"
   },
   {
    "duration": 108,
    "start_time": "2022-05-01T14:14:31.952Z"
   },
   {
    "duration": 8,
    "start_time": "2022-05-01T14:14:32.061Z"
   },
   {
    "duration": 18,
    "start_time": "2022-05-01T14:14:32.070Z"
   },
   {
    "duration": 6,
    "start_time": "2022-05-01T14:14:32.090Z"
   },
   {
    "duration": 41,
    "start_time": "2022-05-01T14:14:32.098Z"
   },
   {
    "duration": 9,
    "start_time": "2022-05-01T14:14:32.146Z"
   },
   {
    "duration": 8,
    "start_time": "2022-05-01T14:14:32.157Z"
   },
   {
    "duration": 18,
    "start_time": "2022-05-01T14:14:32.167Z"
   },
   {
    "duration": 57,
    "start_time": "2022-05-01T14:14:32.187Z"
   },
   {
    "duration": 21,
    "start_time": "2022-05-01T14:14:32.247Z"
   },
   {
    "duration": 36,
    "start_time": "2022-05-01T14:14:32.270Z"
   },
   {
    "duration": 28,
    "start_time": "2022-05-01T14:14:32.330Z"
   },
   {
    "duration": 24,
    "start_time": "2022-05-01T14:14:32.361Z"
   },
   {
    "duration": 44,
    "start_time": "2022-05-01T14:14:32.387Z"
   },
   {
    "duration": 56,
    "start_time": "2022-05-01T14:14:32.434Z"
   },
   {
    "duration": 13,
    "start_time": "2022-05-01T14:14:32.492Z"
   },
   {
    "duration": 28,
    "start_time": "2022-05-01T14:14:32.507Z"
   },
   {
    "duration": 21,
    "start_time": "2022-05-01T14:14:32.537Z"
   },
   {
    "duration": 13,
    "start_time": "2022-05-01T14:14:32.560Z"
   },
   {
    "duration": 7,
    "start_time": "2022-05-01T14:14:32.574Z"
   },
   {
    "duration": 21,
    "start_time": "2022-05-01T14:14:32.582Z"
   },
   {
    "duration": 27,
    "start_time": "2022-05-01T14:14:32.622Z"
   },
   {
    "duration": 14,
    "start_time": "2022-05-01T14:14:32.651Z"
   },
   {
    "duration": 25,
    "start_time": "2022-05-01T14:14:32.667Z"
   },
   {
    "duration": 32,
    "start_time": "2022-05-01T14:14:32.694Z"
   },
   {
    "duration": 28,
    "start_time": "2022-05-01T14:14:32.728Z"
   },
   {
    "duration": 5,
    "start_time": "2022-05-01T14:14:32.759Z"
   },
   {
    "duration": 23,
    "start_time": "2022-05-01T14:14:32.766Z"
   },
   {
    "duration": 53,
    "start_time": "2022-05-01T14:14:32.791Z"
   },
   {
    "duration": 29,
    "start_time": "2022-05-01T14:14:32.847Z"
   },
   {
    "duration": 1317,
    "start_time": "2022-05-01T14:20:46.630Z"
   },
   {
    "duration": 190,
    "start_time": "2022-05-01T14:20:47.949Z"
   },
   {
    "duration": 24,
    "start_time": "2022-05-01T14:20:48.141Z"
   },
   {
    "duration": 17,
    "start_time": "2022-05-01T14:20:48.167Z"
   },
   {
    "duration": 5,
    "start_time": "2022-05-01T14:20:48.186Z"
   },
   {
    "duration": 9,
    "start_time": "2022-05-01T14:20:48.192Z"
   },
   {
    "duration": 29,
    "start_time": "2022-05-01T14:20:48.203Z"
   },
   {
    "duration": 20,
    "start_time": "2022-05-01T14:20:48.236Z"
   },
   {
    "duration": 20,
    "start_time": "2022-05-01T14:20:48.258Z"
   },
   {
    "duration": 16,
    "start_time": "2022-05-01T14:20:48.281Z"
   },
   {
    "duration": 46,
    "start_time": "2022-05-01T14:20:48.298Z"
   },
   {
    "duration": 11,
    "start_time": "2022-05-01T14:20:48.346Z"
   },
   {
    "duration": 7,
    "start_time": "2022-05-01T14:20:48.359Z"
   },
   {
    "duration": 4,
    "start_time": "2022-05-01T14:20:48.369Z"
   },
   {
    "duration": 16,
    "start_time": "2022-05-01T14:20:48.375Z"
   },
   {
    "duration": 8,
    "start_time": "2022-05-01T14:20:48.392Z"
   },
   {
    "duration": 28,
    "start_time": "2022-05-01T14:20:48.422Z"
   },
   {
    "duration": 16,
    "start_time": "2022-05-01T14:20:48.453Z"
   },
   {
    "duration": 7,
    "start_time": "2022-05-01T14:20:48.471Z"
   },
   {
    "duration": 5,
    "start_time": "2022-05-01T14:20:48.480Z"
   },
   {
    "duration": 44,
    "start_time": "2022-05-01T14:20:48.487Z"
   },
   {
    "duration": 23,
    "start_time": "2022-05-01T14:20:48.533Z"
   },
   {
    "duration": 15,
    "start_time": "2022-05-01T14:20:48.558Z"
   },
   {
    "duration": 17,
    "start_time": "2022-05-01T14:20:48.574Z"
   },
   {
    "duration": 37,
    "start_time": "2022-05-01T14:20:48.593Z"
   },
   {
    "duration": 13,
    "start_time": "2022-05-01T14:20:48.633Z"
   },
   {
    "duration": 22,
    "start_time": "2022-05-01T14:20:48.648Z"
   },
   {
    "duration": 18,
    "start_time": "2022-05-01T14:20:48.675Z"
   },
   {
    "duration": 89,
    "start_time": "2022-05-01T14:20:48.695Z"
   },
   {
    "duration": 4,
    "start_time": "2022-05-01T14:20:48.787Z"
   },
   {
    "duration": 30,
    "start_time": "2022-05-01T14:20:48.792Z"
   },
   {
    "duration": 153,
    "start_time": "2022-05-01T14:20:48.824Z"
   },
   {
    "duration": 957,
    "start_time": "2022-05-01T14:20:48.979Z"
   },
   {
    "duration": 848,
    "start_time": "2022-05-01T14:20:49.938Z"
   },
   {
    "duration": 20,
    "start_time": "2022-05-01T14:20:50.788Z"
   },
   {
    "duration": 75,
    "start_time": "2022-05-01T14:20:50.809Z"
   },
   {
    "duration": 8,
    "start_time": "2022-05-01T14:20:50.885Z"
   },
   {
    "duration": 882,
    "start_time": "2022-05-01T14:20:50.895Z"
   },
   {
    "duration": 15,
    "start_time": "2022-05-01T14:20:51.780Z"
   },
   {
    "duration": 18,
    "start_time": "2022-05-01T14:20:51.796Z"
   },
   {
    "duration": 40,
    "start_time": "2022-05-01T14:20:51.816Z"
   },
   {
    "duration": 14,
    "start_time": "2022-05-01T14:20:51.858Z"
   },
   {
    "duration": 15,
    "start_time": "2022-05-01T14:20:51.874Z"
   },
   {
    "duration": 17,
    "start_time": "2022-05-01T14:20:51.891Z"
   },
   {
    "duration": 18,
    "start_time": "2022-05-01T14:20:51.922Z"
   },
   {
    "duration": 21,
    "start_time": "2022-05-01T14:20:51.941Z"
   },
   {
    "duration": 5,
    "start_time": "2022-05-01T14:20:51.964Z"
   },
   {
    "duration": 120,
    "start_time": "2022-05-01T14:20:51.971Z"
   },
   {
    "duration": 8,
    "start_time": "2022-05-01T14:20:52.092Z"
   },
   {
    "duration": 43,
    "start_time": "2022-05-01T14:20:52.102Z"
   },
   {
    "duration": 8,
    "start_time": "2022-05-01T14:20:52.152Z"
   },
   {
    "duration": 13,
    "start_time": "2022-05-01T14:20:52.162Z"
   },
   {
    "duration": 6,
    "start_time": "2022-05-01T14:20:52.176Z"
   },
   {
    "duration": 7,
    "start_time": "2022-05-01T14:20:52.184Z"
   },
   {
    "duration": 42,
    "start_time": "2022-05-01T14:20:52.193Z"
   },
   {
    "duration": 38,
    "start_time": "2022-05-01T14:20:52.240Z"
   },
   {
    "duration": 19,
    "start_time": "2022-05-01T14:20:52.280Z"
   },
   {
    "duration": 68,
    "start_time": "2022-05-01T14:20:52.300Z"
   },
   {
    "duration": 17,
    "start_time": "2022-05-01T14:20:52.369Z"
   },
   {
    "duration": 37,
    "start_time": "2022-05-01T14:20:52.387Z"
   },
   {
    "duration": 30,
    "start_time": "2022-05-01T14:20:52.426Z"
   },
   {
    "duration": 39,
    "start_time": "2022-05-01T14:20:52.458Z"
   },
   {
    "duration": 31,
    "start_time": "2022-05-01T14:20:52.499Z"
   },
   {
    "duration": 23,
    "start_time": "2022-05-01T14:20:52.532Z"
   },
   {
    "duration": 13,
    "start_time": "2022-05-01T14:20:52.557Z"
   },
   {
    "duration": 12,
    "start_time": "2022-05-01T14:20:52.571Z"
   },
   {
    "duration": 6,
    "start_time": "2022-05-01T14:20:52.585Z"
   },
   {
    "duration": 62,
    "start_time": "2022-05-01T14:20:52.593Z"
   },
   {
    "duration": 18,
    "start_time": "2022-05-01T14:20:52.658Z"
   },
   {
    "duration": 11,
    "start_time": "2022-05-01T14:20:52.678Z"
   },
   {
    "duration": 46,
    "start_time": "2022-05-01T14:20:52.691Z"
   },
   {
    "duration": 5,
    "start_time": "2022-05-01T14:20:52.739Z"
   },
   {
    "duration": 30,
    "start_time": "2022-05-01T14:20:52.746Z"
   },
   {
    "duration": 6,
    "start_time": "2022-05-01T14:20:52.778Z"
   },
   {
    "duration": 46,
    "start_time": "2022-05-01T14:20:52.786Z"
   },
   {
    "duration": 31,
    "start_time": "2022-05-01T14:20:52.834Z"
   },
   {
    "duration": 31,
    "start_time": "2022-05-01T14:20:52.867Z"
   },
   {
    "duration": 1526,
    "start_time": "2022-05-02T08:01:13.703Z"
   },
   {
    "duration": 114,
    "start_time": "2022-05-02T08:01:15.231Z"
   },
   {
    "duration": 17,
    "start_time": "2022-05-02T08:01:15.347Z"
   },
   {
    "duration": 14,
    "start_time": "2022-05-02T08:01:15.367Z"
   },
   {
    "duration": 4,
    "start_time": "2022-05-02T08:01:15.382Z"
   },
   {
    "duration": 5,
    "start_time": "2022-05-02T08:01:15.388Z"
   },
   {
    "duration": 9,
    "start_time": "2022-05-02T08:01:15.394Z"
   },
   {
    "duration": 47,
    "start_time": "2022-05-02T08:01:15.404Z"
   },
   {
    "duration": 17,
    "start_time": "2022-05-02T08:01:15.452Z"
   },
   {
    "duration": 15,
    "start_time": "2022-05-02T08:01:15.473Z"
   },
   {
    "duration": 12,
    "start_time": "2022-05-02T08:01:15.490Z"
   },
   {
    "duration": 14,
    "start_time": "2022-05-02T08:01:15.503Z"
   },
   {
    "duration": 6,
    "start_time": "2022-05-02T08:01:15.548Z"
   },
   {
    "duration": 7,
    "start_time": "2022-05-02T08:01:15.556Z"
   },
   {
    "duration": 18,
    "start_time": "2022-05-02T08:01:15.564Z"
   },
   {
    "duration": 9,
    "start_time": "2022-05-02T08:01:15.583Z"
   },
   {
    "duration": 26,
    "start_time": "2022-05-02T08:01:15.594Z"
   },
   {
    "duration": 35,
    "start_time": "2022-05-02T08:01:15.622Z"
   },
   {
    "duration": 9,
    "start_time": "2022-05-02T08:01:15.659Z"
   },
   {
    "duration": 6,
    "start_time": "2022-05-02T08:01:15.670Z"
   },
   {
    "duration": 7,
    "start_time": "2022-05-02T08:01:15.678Z"
   },
   {
    "duration": 12,
    "start_time": "2022-05-02T08:01:15.686Z"
   },
   {
    "duration": 14,
    "start_time": "2022-05-02T08:01:15.700Z"
   },
   {
    "duration": 16,
    "start_time": "2022-05-02T08:01:15.748Z"
   },
   {
    "duration": 15,
    "start_time": "2022-05-02T08:01:15.767Z"
   },
   {
    "duration": 10,
    "start_time": "2022-05-02T08:01:15.784Z"
   },
   {
    "duration": 18,
    "start_time": "2022-05-02T08:01:15.796Z"
   },
   {
    "duration": 16,
    "start_time": "2022-05-02T08:01:15.851Z"
   },
   {
    "duration": 83,
    "start_time": "2022-05-02T08:01:15.868Z"
   },
   {
    "duration": 4,
    "start_time": "2022-05-02T08:01:15.952Z"
   },
   {
    "duration": 8,
    "start_time": "2022-05-02T08:01:15.958Z"
   },
   {
    "duration": 135,
    "start_time": "2022-05-02T08:01:15.967Z"
   },
   {
    "duration": 703,
    "start_time": "2022-05-02T08:01:16.104Z"
   },
   {
    "duration": 709,
    "start_time": "2022-05-02T08:01:16.809Z"
   },
   {
    "duration": 29,
    "start_time": "2022-05-02T08:01:17.520Z"
   },
   {
    "duration": 61,
    "start_time": "2022-05-02T08:01:17.551Z"
   },
   {
    "duration": 10,
    "start_time": "2022-05-02T08:01:17.614Z"
   },
   {
    "duration": 767,
    "start_time": "2022-05-02T08:01:17.648Z"
   },
   {
    "duration": 17,
    "start_time": "2022-05-02T08:01:18.417Z"
   },
   {
    "duration": 6,
    "start_time": "2022-05-02T08:01:18.448Z"
   },
   {
    "duration": 25,
    "start_time": "2022-05-02T08:01:18.456Z"
   },
   {
    "duration": 17,
    "start_time": "2022-05-02T08:01:18.483Z"
   },
   {
    "duration": 18,
    "start_time": "2022-05-02T08:01:18.503Z"
   },
   {
    "duration": 40,
    "start_time": "2022-05-02T08:01:18.523Z"
   },
   {
    "duration": 10,
    "start_time": "2022-05-02T08:01:18.565Z"
   },
   {
    "duration": 15,
    "start_time": "2022-05-02T08:01:18.577Z"
   },
   {
    "duration": 6,
    "start_time": "2022-05-02T08:01:18.594Z"
   },
   {
    "duration": 126,
    "start_time": "2022-05-02T08:01:18.602Z"
   },
   {
    "duration": 17,
    "start_time": "2022-05-02T08:01:18.730Z"
   },
   {
    "duration": 19,
    "start_time": "2022-05-02T08:01:18.749Z"
   },
   {
    "duration": 7,
    "start_time": "2022-05-02T08:01:18.770Z"
   },
   {
    "duration": 11,
    "start_time": "2022-05-02T08:01:18.779Z"
   },
   {
    "duration": 5,
    "start_time": "2022-05-02T08:01:18.792Z"
   },
   {
    "duration": 12,
    "start_time": "2022-05-02T08:01:18.798Z"
   },
   {
    "duration": 51,
    "start_time": "2022-05-02T08:01:18.811Z"
   },
   {
    "duration": 30,
    "start_time": "2022-05-02T08:01:18.863Z"
   },
   {
    "duration": 23,
    "start_time": "2022-05-02T08:01:18.895Z"
   },
   {
    "duration": 57,
    "start_time": "2022-05-02T08:01:18.948Z"
   },
   {
    "duration": 41,
    "start_time": "2022-05-02T08:01:19.007Z"
   },
   {
    "duration": 27,
    "start_time": "2022-05-02T08:01:19.050Z"
   },
   {
    "duration": 28,
    "start_time": "2022-05-02T08:01:19.079Z"
   },
   {
    "duration": 61,
    "start_time": "2022-05-02T08:01:19.109Z"
   },
   {
    "duration": 11,
    "start_time": "2022-05-02T08:01:19.172Z"
   },
   {
    "duration": 18,
    "start_time": "2022-05-02T08:01:19.185Z"
   },
   {
    "duration": 15,
    "start_time": "2022-05-02T08:01:19.205Z"
   },
   {
    "duration": 20,
    "start_time": "2022-05-02T08:01:19.248Z"
   },
   {
    "duration": 9,
    "start_time": "2022-05-02T08:01:19.270Z"
   },
   {
    "duration": 16,
    "start_time": "2022-05-02T08:01:19.281Z"
   },
   {
    "duration": 51,
    "start_time": "2022-05-02T08:01:19.299Z"
   },
   {
    "duration": 11,
    "start_time": "2022-05-02T08:01:19.352Z"
   },
   {
    "duration": 23,
    "start_time": "2022-05-02T08:01:19.365Z"
   },
   {
    "duration": 3,
    "start_time": "2022-05-02T08:01:19.390Z"
   },
   {
    "duration": 21,
    "start_time": "2022-05-02T08:01:19.395Z"
   },
   {
    "duration": 7,
    "start_time": "2022-05-02T08:01:19.448Z"
   },
   {
    "duration": 25,
    "start_time": "2022-05-02T08:01:19.456Z"
   },
   {
    "duration": 32,
    "start_time": "2022-05-02T08:01:19.482Z"
   },
   {
    "duration": 64,
    "start_time": "2022-05-02T08:01:19.516Z"
   },
   {
    "duration": 1145,
    "start_time": "2022-05-02T08:03:28.978Z"
   },
   {
    "duration": 107,
    "start_time": "2022-05-02T08:03:30.124Z"
   },
   {
    "duration": 17,
    "start_time": "2022-05-02T08:03:30.232Z"
   },
   {
    "duration": 14,
    "start_time": "2022-05-02T08:03:30.251Z"
   },
   {
    "duration": 7,
    "start_time": "2022-05-02T08:03:30.267Z"
   },
   {
    "duration": 10,
    "start_time": "2022-05-02T08:03:30.275Z"
   },
   {
    "duration": 11,
    "start_time": "2022-05-02T08:03:30.287Z"
   },
   {
    "duration": 18,
    "start_time": "2022-05-02T08:03:30.300Z"
   },
   {
    "duration": 27,
    "start_time": "2022-05-02T08:03:30.320Z"
   },
   {
    "duration": 17,
    "start_time": "2022-05-02T08:03:30.350Z"
   },
   {
    "duration": 19,
    "start_time": "2022-05-02T08:03:30.369Z"
   },
   {
    "duration": 8,
    "start_time": "2022-05-02T08:03:30.390Z"
   },
   {
    "duration": 5,
    "start_time": "2022-05-02T08:03:30.400Z"
   },
   {
    "duration": 9,
    "start_time": "2022-05-02T08:03:30.407Z"
   },
   {
    "duration": 38,
    "start_time": "2022-05-02T08:03:30.417Z"
   },
   {
    "duration": 6,
    "start_time": "2022-05-02T08:03:30.456Z"
   },
   {
    "duration": 18,
    "start_time": "2022-05-02T08:03:30.465Z"
   },
   {
    "duration": 16,
    "start_time": "2022-05-02T08:03:30.484Z"
   },
   {
    "duration": 8,
    "start_time": "2022-05-02T08:03:30.502Z"
   },
   {
    "duration": 37,
    "start_time": "2022-05-02T08:03:30.512Z"
   },
   {
    "duration": 7,
    "start_time": "2022-05-02T08:03:30.552Z"
   },
   {
    "duration": 12,
    "start_time": "2022-05-02T08:03:30.561Z"
   },
   {
    "duration": 19,
    "start_time": "2022-05-02T08:03:30.575Z"
   },
   {
    "duration": 21,
    "start_time": "2022-05-02T08:03:30.596Z"
   },
   {
    "duration": 38,
    "start_time": "2022-05-02T08:03:30.619Z"
   },
   {
    "duration": 20,
    "start_time": "2022-05-02T08:03:30.659Z"
   },
   {
    "duration": 24,
    "start_time": "2022-05-02T08:03:30.680Z"
   },
   {
    "duration": 18,
    "start_time": "2022-05-02T08:03:30.708Z"
   },
   {
    "duration": 75,
    "start_time": "2022-05-02T08:03:30.727Z"
   },
   {
    "duration": 5,
    "start_time": "2022-05-02T08:03:30.803Z"
   },
   {
    "duration": 13,
    "start_time": "2022-05-02T08:03:30.809Z"
   },
   {
    "duration": 144,
    "start_time": "2022-05-02T08:03:30.823Z"
   },
   {
    "duration": 680,
    "start_time": "2022-05-02T08:03:30.969Z"
   },
   {
    "duration": 697,
    "start_time": "2022-05-02T08:03:31.650Z"
   },
   {
    "duration": 18,
    "start_time": "2022-05-02T08:03:32.349Z"
   },
   {
    "duration": 56,
    "start_time": "2022-05-02T08:03:32.368Z"
   },
   {
    "duration": 25,
    "start_time": "2022-05-02T08:03:32.426Z"
   },
   {
    "duration": 709,
    "start_time": "2022-05-02T08:03:32.453Z"
   },
   {
    "duration": 14,
    "start_time": "2022-05-02T08:03:33.164Z"
   },
   {
    "duration": 5,
    "start_time": "2022-05-02T08:03:33.180Z"
   },
   {
    "duration": 13,
    "start_time": "2022-05-02T08:03:33.187Z"
   },
   {
    "duration": 16,
    "start_time": "2022-05-02T08:03:33.201Z"
   },
   {
    "duration": 38,
    "start_time": "2022-05-02T08:03:33.219Z"
   },
   {
    "duration": 13,
    "start_time": "2022-05-02T08:03:33.259Z"
   },
   {
    "duration": 7,
    "start_time": "2022-05-02T08:03:33.273Z"
   },
   {
    "duration": 12,
    "start_time": "2022-05-02T08:03:33.281Z"
   },
   {
    "duration": 6,
    "start_time": "2022-05-02T08:03:33.295Z"
   },
   {
    "duration": 125,
    "start_time": "2022-05-02T08:03:33.302Z"
   },
   {
    "duration": 8,
    "start_time": "2022-05-02T08:03:33.428Z"
   },
   {
    "duration": 17,
    "start_time": "2022-05-02T08:03:33.448Z"
   },
   {
    "duration": 6,
    "start_time": "2022-05-02T08:03:33.466Z"
   },
   {
    "duration": 11,
    "start_time": "2022-05-02T08:03:33.473Z"
   },
   {
    "duration": 5,
    "start_time": "2022-05-02T08:03:33.485Z"
   },
   {
    "duration": 7,
    "start_time": "2022-05-02T08:03:33.492Z"
   },
   {
    "duration": 47,
    "start_time": "2022-05-02T08:03:33.501Z"
   },
   {
    "duration": 28,
    "start_time": "2022-05-02T08:03:33.549Z"
   },
   {
    "duration": 14,
    "start_time": "2022-05-02T08:03:33.578Z"
   },
   {
    "duration": 61,
    "start_time": "2022-05-02T08:03:33.593Z"
   },
   {
    "duration": 15,
    "start_time": "2022-05-02T08:03:33.655Z"
   },
   {
    "duration": 16,
    "start_time": "2022-05-02T08:03:33.671Z"
   },
   {
    "duration": 17,
    "start_time": "2022-05-02T08:03:33.689Z"
   },
   {
    "duration": 81,
    "start_time": "2022-05-02T08:03:33.708Z"
   },
   {
    "duration": 13,
    "start_time": "2022-05-02T08:03:33.791Z"
   },
   {
    "duration": 16,
    "start_time": "2022-05-02T08:03:33.806Z"
   },
   {
    "duration": 35,
    "start_time": "2022-05-02T08:03:33.824Z"
   },
   {
    "duration": 17,
    "start_time": "2022-05-02T08:03:33.861Z"
   },
   {
    "duration": 7,
    "start_time": "2022-05-02T08:03:33.880Z"
   },
   {
    "duration": 23,
    "start_time": "2022-05-02T08:03:33.889Z"
   },
   {
    "duration": 45,
    "start_time": "2022-05-02T08:03:33.914Z"
   },
   {
    "duration": 11,
    "start_time": "2022-05-02T08:03:33.961Z"
   },
   {
    "duration": 27,
    "start_time": "2022-05-02T08:03:33.975Z"
   },
   {
    "duration": 4,
    "start_time": "2022-05-02T08:03:34.004Z"
   },
   {
    "duration": 56,
    "start_time": "2022-05-02T08:03:34.010Z"
   },
   {
    "duration": 6,
    "start_time": "2022-05-02T08:03:34.068Z"
   },
   {
    "duration": 32,
    "start_time": "2022-05-02T08:03:34.076Z"
   },
   {
    "duration": 47,
    "start_time": "2022-05-02T08:03:34.110Z"
   },
   {
    "duration": 31,
    "start_time": "2022-05-02T08:03:34.159Z"
   },
   {
    "duration": 1304,
    "start_time": "2022-05-02T19:41:25.979Z"
   },
   {
    "duration": 111,
    "start_time": "2022-05-02T19:41:27.285Z"
   },
   {
    "duration": 23,
    "start_time": "2022-05-02T19:41:27.398Z"
   },
   {
    "duration": 22,
    "start_time": "2022-05-02T19:41:27.424Z"
   },
   {
    "duration": 5,
    "start_time": "2022-05-02T19:41:27.448Z"
   },
   {
    "duration": 4,
    "start_time": "2022-05-02T19:41:27.455Z"
   },
   {
    "duration": 11,
    "start_time": "2022-05-02T19:41:27.462Z"
   },
   {
    "duration": 19,
    "start_time": "2022-05-02T19:41:27.475Z"
   },
   {
    "duration": 42,
    "start_time": "2022-05-02T19:41:27.496Z"
   },
   {
    "duration": 20,
    "start_time": "2022-05-02T19:41:27.542Z"
   },
   {
    "duration": 17,
    "start_time": "2022-05-02T19:41:27.564Z"
   },
   {
    "duration": 12,
    "start_time": "2022-05-02T19:41:27.583Z"
   },
   {
    "duration": 7,
    "start_time": "2022-05-02T19:41:27.625Z"
   },
   {
    "duration": 5,
    "start_time": "2022-05-02T19:41:27.634Z"
   },
   {
    "duration": 22,
    "start_time": "2022-05-02T19:41:27.642Z"
   },
   {
    "duration": 7,
    "start_time": "2022-05-02T19:41:27.667Z"
   },
   {
    "duration": 20,
    "start_time": "2022-05-02T19:41:27.676Z"
   },
   {
    "duration": 19,
    "start_time": "2022-05-02T19:41:27.723Z"
   },
   {
    "duration": 9,
    "start_time": "2022-05-02T19:41:27.744Z"
   },
   {
    "duration": 6,
    "start_time": "2022-05-02T19:41:27.755Z"
   },
   {
    "duration": 8,
    "start_time": "2022-05-02T19:41:27.762Z"
   },
   {
    "duration": 12,
    "start_time": "2022-05-02T19:41:27.772Z"
   },
   {
    "duration": 14,
    "start_time": "2022-05-02T19:41:27.825Z"
   },
   {
    "duration": 16,
    "start_time": "2022-05-02T19:41:27.841Z"
   },
   {
    "duration": 15,
    "start_time": "2022-05-02T19:41:27.858Z"
   },
   {
    "duration": 11,
    "start_time": "2022-05-02T19:41:27.874Z"
   },
   {
    "duration": 50,
    "start_time": "2022-05-02T19:41:27.886Z"
   },
   {
    "duration": 16,
    "start_time": "2022-05-02T19:41:27.941Z"
   },
   {
    "duration": 86,
    "start_time": "2022-05-02T19:41:27.958Z"
   },
   {
    "duration": 4,
    "start_time": "2022-05-02T19:41:28.046Z"
   },
   {
    "duration": 11,
    "start_time": "2022-05-02T19:41:28.051Z"
   },
   {
    "duration": 138,
    "start_time": "2022-05-02T19:41:28.064Z"
   },
   {
    "duration": 724,
    "start_time": "2022-05-02T19:41:28.203Z"
   },
   {
    "duration": 721,
    "start_time": "2022-05-02T19:41:28.929Z"
   },
   {
    "duration": 19,
    "start_time": "2022-05-02T19:41:29.652Z"
   },
   {
    "duration": 71,
    "start_time": "2022-05-02T19:41:29.673Z"
   },
   {
    "duration": 10,
    "start_time": "2022-05-02T19:41:29.746Z"
   },
   {
    "duration": 742,
    "start_time": "2022-05-02T19:41:29.758Z"
   },
   {
    "duration": 24,
    "start_time": "2022-05-02T19:41:30.502Z"
   },
   {
    "duration": 6,
    "start_time": "2022-05-02T19:41:30.528Z"
   },
   {
    "duration": 15,
    "start_time": "2022-05-02T19:41:30.536Z"
   },
   {
    "duration": 16,
    "start_time": "2022-05-02T19:41:30.553Z"
   },
   {
    "duration": 15,
    "start_time": "2022-05-02T19:41:30.571Z"
   },
   {
    "duration": 50,
    "start_time": "2022-05-02T19:41:30.588Z"
   },
   {
    "duration": 8,
    "start_time": "2022-05-02T19:41:30.640Z"
   },
   {
    "duration": 17,
    "start_time": "2022-05-02T19:41:30.650Z"
   },
   {
    "duration": 19,
    "start_time": "2022-05-02T19:41:30.669Z"
   },
   {
    "duration": 115,
    "start_time": "2022-05-02T19:41:30.690Z"
   },
   {
    "duration": 17,
    "start_time": "2022-05-02T19:41:30.807Z"
   },
   {
    "duration": 20,
    "start_time": "2022-05-02T19:41:30.825Z"
   },
   {
    "duration": 8,
    "start_time": "2022-05-02T19:41:30.847Z"
   },
   {
    "duration": 12,
    "start_time": "2022-05-02T19:41:30.856Z"
   },
   {
    "duration": 20,
    "start_time": "2022-05-02T19:41:30.870Z"
   },
   {
    "duration": 21,
    "start_time": "2022-05-02T19:41:30.892Z"
   },
   {
    "duration": 44,
    "start_time": "2022-05-02T19:41:30.915Z"
   },
   {
    "duration": 30,
    "start_time": "2022-05-02T19:41:30.961Z"
   },
   {
    "duration": 26,
    "start_time": "2022-05-02T19:41:30.993Z"
   },
   {
    "duration": 55,
    "start_time": "2022-05-02T19:41:31.021Z"
   },
   {
    "duration": 24,
    "start_time": "2022-05-02T19:41:31.078Z"
   },
   {
    "duration": 19,
    "start_time": "2022-05-02T19:41:31.104Z"
   },
   {
    "duration": 37,
    "start_time": "2022-05-02T19:41:31.125Z"
   },
   {
    "duration": 35,
    "start_time": "2022-05-02T19:41:31.164Z"
   },
   {
    "duration": 12,
    "start_time": "2022-05-02T19:41:31.202Z"
   },
   {
    "duration": 14,
    "start_time": "2022-05-02T19:41:31.225Z"
   },
   {
    "duration": 12,
    "start_time": "2022-05-02T19:41:31.241Z"
   },
   {
    "duration": 20,
    "start_time": "2022-05-02T19:41:31.256Z"
   },
   {
    "duration": 12,
    "start_time": "2022-05-02T19:41:31.278Z"
   },
   {
    "duration": 37,
    "start_time": "2022-05-02T19:41:31.292Z"
   },
   {
    "duration": 18,
    "start_time": "2022-05-02T19:41:31.331Z"
   },
   {
    "duration": 12,
    "start_time": "2022-05-02T19:41:31.351Z"
   },
   {
    "duration": 25,
    "start_time": "2022-05-02T19:41:31.364Z"
   },
   {
    "duration": 4,
    "start_time": "2022-05-02T19:41:31.390Z"
   },
   {
    "duration": 47,
    "start_time": "2022-05-02T19:41:31.395Z"
   },
   {
    "duration": 6,
    "start_time": "2022-05-02T19:41:31.443Z"
   },
   {
    "duration": 31,
    "start_time": "2022-05-02T19:41:31.450Z"
   },
   {
    "duration": 43,
    "start_time": "2022-05-02T19:41:31.482Z"
   },
   {
    "duration": 23,
    "start_time": "2022-05-02T19:41:31.527Z"
   }
  ],
  "kernelspec": {
   "display_name": "Python 3 (ipykernel)",
   "language": "python",
   "name": "python3"
  },
  "language_info": {
   "codemirror_mode": {
    "name": "ipython",
    "version": 3
   },
   "file_extension": ".py",
   "mimetype": "text/x-python",
   "name": "python",
   "nbconvert_exporter": "python",
   "pygments_lexer": "ipython3",
   "version": "3.9.17"
  },
  "toc": {
   "base_numbering": 1,
   "nav_menu": {},
   "number_sections": true,
   "sideBar": true,
   "skip_h1_title": true,
   "title_cell": "Содержание",
   "title_sidebar": "Содержание",
   "toc_cell": true,
   "toc_position": {
    "height": "calc(100% - 180px)",
    "left": "10px",
    "top": "150px",
    "width": "258.797px"
   },
   "toc_section_display": true,
   "toc_window_display": true
  }
 },
 "nbformat": 4,
 "nbformat_minor": 5
}
