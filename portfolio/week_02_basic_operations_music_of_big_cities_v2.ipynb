{
 "cells": [
  {
   "cell_type": "markdown",
   "metadata": {},
   "source": [
    "<div class=\"alert alert-info\"> <p2>\n",
    "Привет! Меня зовут Позднякова Кристина. Я буду проверять твой проект. Приношу свои извинения за долгую проверку! Предлагаю обращаться на «ты», но если так не удобно для тебя - дай знать, и мы перейдем на «вы»:). Моя основная цель проверки проекта — не просто указать на совершенные тобою ошибки, а поделиться своим опытом и помочь доработать код так, как хорошо было бы его писать в реальном рабочем проекте. Все ключевые этапы в работе выполнены и соблюдены, так что в целом справиться с задачей тебе удалось. Работа получилась очень хорошая! \n",
    "</p2>\n",
    "    <br>\n",
    "    <br>\n",
    "<p2>\n",
    "Есть только несколько совсем небольших аспектов, которые требуют твоего внимания. Комментарии по ним помечены красным цветом (❌). После доработки, с учетом этих моментов, проект будет принят. Осталось совсем немного, буду ждать твою работу на повторное ревью:) Зелёным цветом (✔️) отмечены хорошие, удачные и элегантные решения, на которые можно опираться в будущих проектах. Из контекста будет более понятно что хорошо, а что просто великолепно!:) Жёлтым цветом (⚠️) выделено то, что в следующий раз можно сделать по-другому. Ты можешь учесть эти комментарии при выполнении будущих заданий или доработать проект сейчас (однако это не обязательно). \n",
    "</p2>\n",
    "    <br>\n",
    "    <br>\n",
    "<p2>\n",
    "Давай работать над проектом взаимодействуя друг с другом: если ты что-то меняешь в проекте по моим рекомендациям — пиши об этом, пожалуйста. Выбери для своих комментариев какой-то заметный цвет, отличный от выбранных мной, так мне будет легче отследить изменения. В названии моих комментариев будет номер версии начиная со второй. Пожалуйста, не перемещай, не изменяй и не удаляй мои комментарии. Всё это поможет выполнить повторную проверку твоего проекта оперативнее:)  \n",
    "</p2>\n",
    "        <br>\n",
    "    <br>\n",
    "Задавай вопросы, если появятся! И хорошего дня:)\n",
    "</div>"
   ]
  },
  {
   "cell_type": "markdown",
   "metadata": {},
   "source": [
    "<p style=\"background:blue;color:white;padding:20px\">\n",
    "Кристина, здравствуй! Я внёс изменения в оба \"красных\" и в \"жёлтый\" фрагменты. Проверь пожалуйста.\n",
    "</p>"
   ]
  },
  {
   "cell_type": "markdown",
   "metadata": {},
   "source": [
    "<div class=\"alert alert-info\">\n",
    "<b>Комментарий ревьюера v2</b>    <br>\n",
    "Привет) Я очень рада, что у тебя получилось доработать проект! Работу принимаю:) Я отметила ниже, что ошибки исправлены) <br>\n",
    "У тебя очень хорошо получилось справиться с проектом! Желаю тебе успехов в стараниях и уверена что у тебя все получится! Старт отличный:)\n",
    "<br>\n",
    "<br>\n",
    "Хорошего дня!:)"
   ]
  },
  {
   "cell_type": "markdown",
   "metadata": {
    "id": "E0vqbgi9ay0H"
   },
   "source": [
    "# Яндекс.Музыка"
   ]
  },
  {
   "cell_type": "markdown",
   "metadata": {
    "id": "VUC88oWjTJw2"
   },
   "source": [
    "Сравнение Москвы и Петербурга окружено мифами. Например:\n",
    " * Москва — мегаполис, подчинённый жёсткому ритму рабочей недели;\n",
    " * Петербург — культурная столица, со своими вкусами.\n",
    "\n",
    "На данных Яндекс.Музыки вы сравните поведение пользователей двух столиц.\n",
    "\n",
    "**Цель исследования** — проверьте три гипотезы:\n",
    "1. Активность пользователей зависит от дня недели. Причём в Москве и Петербурге это проявляется по-разному.\n",
    "2. В понедельник утром в Москве преобладают одни жанры, а в Петербурге — другие. Так же и вечером пятницы преобладают разные жанры — в зависимости от города. \n",
    "3. Москва и Петербург предпочитают разные жанры музыки. В Москве чаще слушают поп-музыку, в Петербурге — русский рэп.\n",
    "\n",
    "**Ход исследования**\n",
    "\n",
    "Данные о поведении пользователей вы получите из файла `yandex_music_project.csv`. О качестве данных ничего не известно. Поэтому перед проверкой гипотез понадобится обзор данных. \n",
    "\n",
    "Вы проверите данные на ошибки и оцените их влияние на исследование. Затем, на этапе предобработки вы поищете возможность исправить самые критичные ошибки данных.\n",
    " \n",
    "Таким образом, исследование пройдёт в три этапа:\n",
    " 1. Обзор данных.\n",
    " 2. Предобработка данных.\n",
    " 3. Проверка гипотез.\n",
    "\n"
   ]
  },
  {
   "cell_type": "markdown",
   "metadata": {},
   "source": [
    "<div class=\"alert alert-success\">\n",
    "✔️ Хорошая практика начинать проект с контекста, описания задачи, возможного хода\\плана исследования, а также описания имеющихся данных. Очень надеюсь, что ты будешь уделять этому внимание и в последующих проектах!\n",
    "</div>"
   ]
  },
  {
   "cell_type": "markdown",
   "metadata": {
    "id": "Ml1hmfXC_Zcs"
   },
   "source": [
    "## Обзор данных\n",
    "\n",
    "Составьте первое представление о данных Яндекс.Музыки.\n",
    "\n",
    "\n"
   ]
  },
  {
   "cell_type": "markdown",
   "metadata": {
    "id": "57eAOGIz_Zcs"
   },
   "source": [
    "Основной инструмент аналитика — `pandas`. Импортируйте эту библиотеку."
   ]
  },
  {
   "cell_type": "code",
   "execution_count": 1,
   "metadata": {
    "id": "AXN7PHPN_Zcs"
   },
   "outputs": [],
   "source": [
    "# импорт библиотеки pandas\n",
    "import pandas as pd"
   ]
  },
  {
   "cell_type": "markdown",
   "metadata": {},
   "source": [
    "<div class=\"alert alert-success\">\n",
    "✔️ Очень здорово, что ты используешь сокращение pd для Pandas, это общепринятое сокращение для этой библиотеки для удобной дальнейшей работы. \n",
    "</div>"
   ]
  },
  {
   "cell_type": "markdown",
   "metadata": {
    "id": "SG23P8tt_Zcs"
   },
   "source": [
    "Прочитайте файл `yandex_music_project.csv` из папки `/datasets` и сохраните его в переменной `df`:"
   ]
  },
  {
   "cell_type": "code",
   "execution_count": 2,
   "metadata": {
    "id": "fFVu7vqh_Zct"
   },
   "outputs": [],
   "source": [
    "def load(tablename, ext='csv'):\n",
    "    \"\"\"Load a table from file\n",
    "    \"\"\"\n",
    "    filename = tablename + '.' + ext\n",
    "    try:\n",
    "        return pd.read_csv(filename)\n",
    "    except FileNotFoundError:\n",
    "        return pd.read_csv('https://code.s3.yandex.net/datasets/' + filename)\n",
    "\n",
    "df = load('yandex_music_project')"
   ]
  },
  {
   "cell_type": "markdown",
   "metadata": {},
   "source": [
    "<div class=\"alert alert-success\">\n",
    "✔️ Указан правильный путь к файлу: слэш в начале пути очень важен, так как указывает, что нужно искать файл в корневой папке.\n",
    "</div>"
   ]
  },
  {
   "cell_type": "markdown",
   "metadata": {
    "id": "rDoOMd3uTqnZ"
   },
   "source": [
    "Выведите на экран первые десять строк таблицы:"
   ]
  },
  {
   "cell_type": "code",
   "execution_count": 3,
   "metadata": {
    "id": "oWTVX3gW_Zct"
   },
   "outputs": [
    {
     "data": {
      "text/html": [
       "<div>\n",
       "<style scoped>\n",
       "    .dataframe tbody tr th:only-of-type {\n",
       "        vertical-align: middle;\n",
       "    }\n",
       "\n",
       "    .dataframe tbody tr th {\n",
       "        vertical-align: top;\n",
       "    }\n",
       "\n",
       "    .dataframe thead th {\n",
       "        text-align: right;\n",
       "    }\n",
       "</style>\n",
       "<table border=\"1\" class=\"dataframe\">\n",
       "  <thead>\n",
       "    <tr style=\"text-align: right;\">\n",
       "      <th></th>\n",
       "      <th>userID</th>\n",
       "      <th>Track</th>\n",
       "      <th>artist</th>\n",
       "      <th>genre</th>\n",
       "      <th>City</th>\n",
       "      <th>time</th>\n",
       "      <th>Day</th>\n",
       "    </tr>\n",
       "  </thead>\n",
       "  <tbody>\n",
       "    <tr>\n",
       "      <th>0</th>\n",
       "      <td>FFB692EC</td>\n",
       "      <td>Kamigata To Boots</td>\n",
       "      <td>The Mass Missile</td>\n",
       "      <td>rock</td>\n",
       "      <td>Saint-Petersburg</td>\n",
       "      <td>20:28:33</td>\n",
       "      <td>Wednesday</td>\n",
       "    </tr>\n",
       "    <tr>\n",
       "      <th>1</th>\n",
       "      <td>55204538</td>\n",
       "      <td>Delayed Because of Accident</td>\n",
       "      <td>Andreas Rönnberg</td>\n",
       "      <td>rock</td>\n",
       "      <td>Moscow</td>\n",
       "      <td>14:07:09</td>\n",
       "      <td>Friday</td>\n",
       "    </tr>\n",
       "    <tr>\n",
       "      <th>2</th>\n",
       "      <td>20EC38</td>\n",
       "      <td>Funiculì funiculà</td>\n",
       "      <td>Mario Lanza</td>\n",
       "      <td>pop</td>\n",
       "      <td>Saint-Petersburg</td>\n",
       "      <td>20:58:07</td>\n",
       "      <td>Wednesday</td>\n",
       "    </tr>\n",
       "    <tr>\n",
       "      <th>3</th>\n",
       "      <td>A3DD03C9</td>\n",
       "      <td>Dragons in the Sunset</td>\n",
       "      <td>Fire + Ice</td>\n",
       "      <td>folk</td>\n",
       "      <td>Saint-Petersburg</td>\n",
       "      <td>08:37:09</td>\n",
       "      <td>Monday</td>\n",
       "    </tr>\n",
       "    <tr>\n",
       "      <th>4</th>\n",
       "      <td>E2DC1FAE</td>\n",
       "      <td>Soul People</td>\n",
       "      <td>Space Echo</td>\n",
       "      <td>dance</td>\n",
       "      <td>Moscow</td>\n",
       "      <td>08:34:34</td>\n",
       "      <td>Monday</td>\n",
       "    </tr>\n",
       "    <tr>\n",
       "      <th>5</th>\n",
       "      <td>842029A1</td>\n",
       "      <td>Преданная</td>\n",
       "      <td>IMPERVTOR</td>\n",
       "      <td>rusrap</td>\n",
       "      <td>Saint-Petersburg</td>\n",
       "      <td>13:09:41</td>\n",
       "      <td>Friday</td>\n",
       "    </tr>\n",
       "    <tr>\n",
       "      <th>6</th>\n",
       "      <td>4CB90AA5</td>\n",
       "      <td>True</td>\n",
       "      <td>Roman Messer</td>\n",
       "      <td>dance</td>\n",
       "      <td>Moscow</td>\n",
       "      <td>13:00:07</td>\n",
       "      <td>Wednesday</td>\n",
       "    </tr>\n",
       "    <tr>\n",
       "      <th>7</th>\n",
       "      <td>F03E1C1F</td>\n",
       "      <td>Feeling This Way</td>\n",
       "      <td>Polina Griffith</td>\n",
       "      <td>dance</td>\n",
       "      <td>Moscow</td>\n",
       "      <td>20:47:49</td>\n",
       "      <td>Wednesday</td>\n",
       "    </tr>\n",
       "    <tr>\n",
       "      <th>8</th>\n",
       "      <td>8FA1D3BE</td>\n",
       "      <td>И вновь продолжается бой</td>\n",
       "      <td>NaN</td>\n",
       "      <td>ruspop</td>\n",
       "      <td>Moscow</td>\n",
       "      <td>09:17:40</td>\n",
       "      <td>Friday</td>\n",
       "    </tr>\n",
       "    <tr>\n",
       "      <th>9</th>\n",
       "      <td>E772D5C0</td>\n",
       "      <td>Pessimist</td>\n",
       "      <td>NaN</td>\n",
       "      <td>dance</td>\n",
       "      <td>Saint-Petersburg</td>\n",
       "      <td>21:20:49</td>\n",
       "      <td>Wednesday</td>\n",
       "    </tr>\n",
       "  </tbody>\n",
       "</table>\n",
       "</div>"
      ],
      "text/plain": [
       "     userID                        Track            artist   genre  \\\n",
       "0  FFB692EC            Kamigata To Boots  The Mass Missile    rock   \n",
       "1  55204538  Delayed Because of Accident  Andreas Rönnberg    rock   \n",
       "2    20EC38            Funiculì funiculà       Mario Lanza     pop   \n",
       "3  A3DD03C9        Dragons in the Sunset        Fire + Ice    folk   \n",
       "4  E2DC1FAE                  Soul People        Space Echo   dance   \n",
       "5  842029A1                    Преданная         IMPERVTOR  rusrap   \n",
       "6  4CB90AA5                         True      Roman Messer   dance   \n",
       "7  F03E1C1F             Feeling This Way   Polina Griffith   dance   \n",
       "8  8FA1D3BE     И вновь продолжается бой               NaN  ruspop   \n",
       "9  E772D5C0                    Pessimist               NaN   dance   \n",
       "\n",
       "             City        time        Day  \n",
       "0  Saint-Petersburg  20:28:33  Wednesday  \n",
       "1            Moscow  14:07:09     Friday  \n",
       "2  Saint-Petersburg  20:58:07  Wednesday  \n",
       "3  Saint-Petersburg  08:37:09     Monday  \n",
       "4            Moscow  08:34:34     Monday  \n",
       "5  Saint-Petersburg  13:09:41     Friday  \n",
       "6            Moscow  13:00:07  Wednesday  \n",
       "7            Moscow  20:47:49  Wednesday  \n",
       "8            Moscow  09:17:40     Friday  \n",
       "9  Saint-Petersburg  21:20:49  Wednesday  "
      ]
     },
     "execution_count": 3,
     "metadata": {},
     "output_type": "execute_result"
    }
   ],
   "source": [
    "# получение первых 10 строк таблицы df\n",
    "df.head(10)"
   ]
  },
  {
   "cell_type": "markdown",
   "metadata": {},
   "source": [
    "<div class=\"alert alert-success\">\n",
    "✔️ Отлично! Первые 10 строк выведены. Так же можно, если тебе понадобится, выводить последние n строк с помощью метода tail().\n",
    "</div>"
   ]
  },
  {
   "cell_type": "markdown",
   "metadata": {
    "id": "EO73Kwic_Zct"
   },
   "source": [
    "Одной командой получить общую информацию о таблице:"
   ]
  },
  {
   "cell_type": "code",
   "execution_count": 4,
   "metadata": {
    "id": "DSf2kIb-_Zct"
   },
   "outputs": [
    {
     "name": "stdout",
     "output_type": "stream",
     "text": [
      "<class 'pandas.core.frame.DataFrame'>\n",
      "RangeIndex: 65079 entries, 0 to 65078\n",
      "Data columns (total 7 columns):\n",
      " #   Column    Non-Null Count  Dtype \n",
      "---  ------    --------------  ----- \n",
      " 0     userID  65079 non-null  object\n",
      " 1   Track     63848 non-null  object\n",
      " 2   artist    57876 non-null  object\n",
      " 3   genre     63881 non-null  object\n",
      " 4     City    65079 non-null  object\n",
      " 5   time      65079 non-null  object\n",
      " 6   Day       65079 non-null  object\n",
      "dtypes: object(7)\n",
      "memory usage: 3.5+ MB\n"
     ]
    }
   ],
   "source": [
    "# получение общей информации о данных в таблице df\n",
    "df.info()"
   ]
  },
  {
   "cell_type": "markdown",
   "metadata": {},
   "source": [
    "<div class=\"alert alert-success\">\n",
    "✔️ Отличный выбор метода - info действительно показывает много информации о датафрейме. \n",
    "</div>"
   ]
  },
  {
   "cell_type": "markdown",
   "metadata": {
    "id": "TaQ2Iwbr_Zct"
   },
   "source": [
    "Итак, в таблице семь столбцов. Тип данных во всех столбцах — `object`.\n",
    "\n",
    "Согласно документации к данным:\n",
    "* `userID` — идентификатор пользователя;\n",
    "* `Track` — название трека;  \n",
    "* `artist` — имя исполнителя;\n",
    "* `genre` — название жанра;\n",
    "* `City` — город пользователя;\n",
    "* `time` — время начала прослушивания;\n",
    "* `Day` — день недели.\n",
    "\n",
    "В названиях колонок видны три нарушения стиля:\n",
    "1. Строчные буквы сочетаются с прописными.\n",
    "2. Встречаются пробелы.\n",
    "3. Слова в `userID` не разделены знаком `_`.\n",
    "\n",
    "\n",
    "\n",
    "Количество значений в столбцах различается. Значит, в данных есть пропущенные значения.\n"
   ]
  },
  {
   "cell_type": "markdown",
   "metadata": {},
   "source": [
    "<div class=\"alert alert-success\">\n",
    "✔️❌ Нет ответа в пункте 3"
   ]
  },
  {
   "cell_type": "markdown",
   "metadata": {},
   "source": [
    "<p style=\"background:darkblue;color:white;padding:20px\">\n",
    "Внёс ответ.\n",
    "</p>"
   ]
  },
  {
   "cell_type": "markdown",
   "metadata": {},
   "source": [
    "<div class=\"alert alert-success\"><b>Комментарий ревьюера v2</b>    <br>\n",
    "✔️ Абсолютно правильный ответ на вопрос задания — не соблюден snake_case! \n",
    "</div>"
   ]
  },
  {
   "cell_type": "markdown",
   "metadata": {
    "id": "MCB6-dXG_Zct"
   },
   "source": [
    "**Выводы**\n",
    "\n",
    "В каждой строке таблицы — данные о прослушанном треке. Часть колонок описывает саму композицию: название, исполнителя и жанр. Остальные данные рассказывают о пользователе: из какого он города, когда он слушал музыку. \n",
    "\n",
    "Предварительно можно утверждать, что, данных достаточно для проверки гипотез. Но встречаются пропуски в данных, а в названиях колонок — расхождения с хорошим стилем.\n",
    "\n",
    "Чтобы двигаться дальше, нужно устранить проблемы в данных."
   ]
  },
  {
   "cell_type": "markdown",
   "metadata": {},
   "source": [
    "<div class=\"alert alert-success\">\n",
    "✔️ По шагу в целом могу сказать что код выполнен абсолютно верно.\n",
    "</div>"
   ]
  },
  {
   "cell_type": "markdown",
   "metadata": {
    "id": "SjYF6Ub9_Zct"
   },
   "source": [
    "## Предобработка данных\n",
    "Исправьте стиль в заголовках столбцов, исключите пропуски. Затем проверьте данные на дубликаты."
   ]
  },
  {
   "cell_type": "markdown",
   "metadata": {
    "id": "dIaKXr29_Zct"
   },
   "source": [
    "### Стиль заголовков\n",
    "Выведите на экран названия столбцов:"
   ]
  },
  {
   "cell_type": "code",
   "execution_count": 5,
   "metadata": {
    "id": "oKOTdF_Q_Zct"
   },
   "outputs": [
    {
     "data": {
      "text/plain": [
       "Index(['  userID', 'Track', 'artist', 'genre', '  City  ', 'time', 'Day'], dtype='object')"
      ]
     },
     "execution_count": 5,
     "metadata": {},
     "output_type": "execute_result"
    }
   ],
   "source": [
    "# перечень названий столбцов таблицы df\n",
    "df.columns"
   ]
  },
  {
   "cell_type": "markdown",
   "metadata": {
    "id": "zj5534cv_Zct"
   },
   "source": [
    "Приведите названия в соответствие с хорошим стилем:\n",
    "* несколько слов в названии запишите в «змеином_регистре»,\n",
    "* все символы сделайте строчными,\n",
    "* устраните пробелы.\n",
    "\n",
    "Для этого переименуйте колонки так:\n",
    "* `'  userID'` → `'user_id'`;\n",
    "* `'Track'` → `'track'`;\n",
    "* `'  City  '` → `'city'`;\n",
    "* `'Day'` → `'day'`."
   ]
  },
  {
   "cell_type": "code",
   "execution_count": 6,
   "metadata": {
    "id": "ISlFqs5y_Zct"
   },
   "outputs": [],
   "source": [
    "# переименование столбцов\n",
    "df.rename(columns={\n",
    "    '  userID': 'user_id',\n",
    "    'Track': 'track',\n",
    "    '  City  ': 'city',\n",
    "    'Day': 'day',\n",
    "}, inplace=True)"
   ]
  },
  {
   "cell_type": "markdown",
   "metadata": {},
   "source": [
    "<div class=\"alert alert-success\">\n",
    "✔️ Хороший выбор метода - rename сработает без ошибок, даже если изменится порядок столбцов.\n",
    "</div>"
   ]
  },
  {
   "cell_type": "markdown",
   "metadata": {
    "id": "1dqbh00J_Zct"
   },
   "source": [
    "Проверьте результат. Для этого ещё раз выведите на экран названия столбцов:"
   ]
  },
  {
   "cell_type": "code",
   "execution_count": 7,
   "metadata": {
    "id": "d4NOAmTW_Zct"
   },
   "outputs": [
    {
     "data": {
      "text/plain": [
       "Index(['user_id', 'track', 'artist', 'genre', 'city', 'time', 'day'], dtype='object')"
      ]
     },
     "execution_count": 7,
     "metadata": {},
     "output_type": "execute_result"
    }
   ],
   "source": [
    "# проверка результатов - перечень названий столбцов\n",
    "df.columns"
   ]
  },
  {
   "cell_type": "markdown",
   "metadata": {
    "id": "5ISfbcfY_Zct"
   },
   "source": [
    "### Пропуски значений\n",
    "Сначала посчитайте, сколько в таблице пропущенных значений. Для этого достаточно двух методов `pandas`:"
   ]
  },
  {
   "cell_type": "code",
   "execution_count": 8,
   "metadata": {
    "id": "RskX29qr_Zct"
   },
   "outputs": [
    {
     "data": {
      "text/plain": [
       "user_id       0\n",
       "track      1231\n",
       "artist     7203\n",
       "genre      1198\n",
       "city          0\n",
       "time          0\n",
       "day           0\n",
       "dtype: int64"
      ]
     },
     "execution_count": 8,
     "metadata": {},
     "output_type": "execute_result"
    }
   ],
   "source": [
    "# подсчёт пропусков\n",
    "df.isna().sum()"
   ]
  },
  {
   "cell_type": "markdown",
   "metadata": {},
   "source": [
    "<div class=\"alert alert-success\">\n",
    "✔️ Выбран метод isna() для нахождения пропущенных значений, это отлично! На самом деле, isnull() и isna() делают одно и то же, но использование isna() предпочтительнее.\n",
    "</div>"
   ]
  },
  {
   "cell_type": "markdown",
   "metadata": {
    "id": "qubhgnlO_Zct"
   },
   "source": [
    "Не все пропущенные значения влияют на исследование. Так в `track` и `artist` пропуски не важны для вашей работы. Достаточно заменить их явными обозначениями.\n",
    "\n",
    "Но пропуски в `genre` могут помешать сравнению музыкальных вкусов в Москве и Санкт-Петербурге. На практике было бы правильно установить причину пропусков и восстановить данные. Такой возможности нет в учебном проекте. Придётся:\n",
    "* заполнить и эти пропуски явными обозначениями,\n",
    "* оценить, насколько они повредят расчётам. "
   ]
  },
  {
   "cell_type": "markdown",
   "metadata": {
    "id": "fSv2laPA_Zct"
   },
   "source": [
    "Замените пропущенные значения в столбцах `track`, `artist` и `genre` на строку `'unknown'`. Для этого создайте список `columns_to_replace`, переберите его элементы циклом `for` и для каждого столбца выполните замену пропущенных значений:"
   ]
  },
  {
   "cell_type": "code",
   "execution_count": 9,
   "metadata": {
    "id": "KplB5qWs_Zct"
   },
   "outputs": [],
   "source": [
    "for column in ['track', 'artist', 'genre']:\n",
    "    df[column].fillna('unknown', inplace=True)"
   ]
  },
  {
   "cell_type": "markdown",
   "metadata": {},
   "source": [
    "<div class=\"alert alert-success\">\n",
    "✔️❌ В целом верно конечно, сработала все хорошо и результат достигнут, тут можно только похвалить! Но я хочу предложить потренироваться в написании циклов и сделать задание как просилось, так как в будущем очень рискованно просто заполнять так пропуски, можно нечаянно что-то ненужное заполнить, ну и в целом такое заполнение будет редкостью и в дальнейших проектах. В общем хорошо бы уметь писать циклы:)"
   ]
  },
  {
   "cell_type": "markdown",
   "metadata": {},
   "source": [
    "<p style=\"background:blue;color:white;padding:20px\">\n",
    "Создал цикл.\n",
    "</p>"
   ]
  },
  {
   "cell_type": "markdown",
   "metadata": {},
   "source": [
    "<div class=\"alert alert-success\">\n",
    "<b>Комментарий ревьюера v2</b>    <br>\n",
    "✔️ Исправлено"
   ]
  },
  {
   "cell_type": "markdown",
   "metadata": {
    "id": "Ilsm-MZo_Zct"
   },
   "source": [
    "Убедитесь, что в таблице не осталось пропусков. Для этого ещё раз посчитайте пропущенные значения."
   ]
  },
  {
   "cell_type": "code",
   "execution_count": 10,
   "metadata": {
    "id": "Tq4nYRX4_Zct"
   },
   "outputs": [
    {
     "data": {
      "text/plain": [
       "user_id    0\n",
       "track      0\n",
       "artist     0\n",
       "genre      0\n",
       "city       0\n",
       "time       0\n",
       "day        0\n",
       "dtype: int64"
      ]
     },
     "execution_count": 10,
     "metadata": {},
     "output_type": "execute_result"
    }
   ],
   "source": [
    "# подсчёт пропусков\n",
    "df.isna().sum()"
   ]
  },
  {
   "cell_type": "markdown",
   "metadata": {
    "id": "BWKRtBJ3_Zct"
   },
   "source": [
    "### Дубликаты\n",
    "Посчитайте явные дубликаты в таблице одной командой:"
   ]
  },
  {
   "cell_type": "code",
   "execution_count": 11,
   "metadata": {
    "id": "36eES_S0_Zct"
   },
   "outputs": [
    {
     "data": {
      "text/plain": [
       "3826"
      ]
     },
     "execution_count": 11,
     "metadata": {},
     "output_type": "execute_result"
    }
   ],
   "source": [
    "# подсчёт явных дубликатов\n",
    "df.duplicated().sum()"
   ]
  },
  {
   "cell_type": "markdown",
   "metadata": {},
   "source": [
    "<div class=\"alert alert-success\">\n",
    "✔️ Дубликаты верно найдены и посчитаны оптимальными методами.\n",
    "</div>"
   ]
  },
  {
   "cell_type": "markdown",
   "metadata": {
    "id": "Ot25h6XR_Zct"
   },
   "source": [
    "Вызовите специальный метод `pandas`, чтобы удалить явные дубликаты:"
   ]
  },
  {
   "cell_type": "code",
   "execution_count": 12,
   "metadata": {
    "id": "exFHq6tt_Zct"
   },
   "outputs": [],
   "source": [
    "# удаление явных дубликатов (с удалением старых индексов и формированием новых)\n",
    "df.drop_duplicates(inplace=True)\n",
    "df.reset_index(drop=True, inplace=True)"
   ]
  },
  {
   "cell_type": "markdown",
   "metadata": {},
   "source": [
    "<div class=\"alert alert-success\">\n",
    "✔️ Дубликаты удалены верными методами с верным параметром. Можно еще записать в одну строчку \n",
    "    \n",
    "df = df.drop_duplicates().reset_index(drop=True)\n",
    "</div>"
   ]
  },
  {
   "cell_type": "markdown",
   "metadata": {
    "id": "Im2YwBEG_Zct"
   },
   "source": [
    "Ещё раз посчитайте явные дубликаты в таблице — убедитесь, что полностью от них избавились:"
   ]
  },
  {
   "cell_type": "code",
   "execution_count": 13,
   "metadata": {
    "id": "-8PuNWQ0_Zct"
   },
   "outputs": [
    {
     "data": {
      "text/plain": [
       "0"
      ]
     },
     "execution_count": 13,
     "metadata": {},
     "output_type": "execute_result"
    }
   ],
   "source": [
    "# проверка на отсутствие дубликатов\n",
    "df.duplicated().sum()"
   ]
  },
  {
   "cell_type": "markdown",
   "metadata": {
    "id": "QlFBsxAr_Zct"
   },
   "source": [
    "Теперь избавьтесь от неявных дубликатов в колонке `genre`. Например, название одного и того же жанра может быть записано немного по-разному. Такие ошибки тоже повлияют на результат исследования."
   ]
  },
  {
   "cell_type": "markdown",
   "metadata": {
    "id": "eSjWwsOh_Zct"
   },
   "source": [
    "Выведите на экран список уникальных названий жанров, отсортированный в алфавитном порядке. Для этого:\n",
    "* извлеките нужный столбец датафрейма, \n",
    "* примените к нему метод сортировки,\n",
    "* для отсортированного столбца вызовите метод, который вернёт уникальные значения из столбца."
   ]
  },
  {
   "cell_type": "code",
   "execution_count": 14,
   "metadata": {
    "id": "JIUcqzZN_Zct"
   },
   "outputs": [
    {
     "data": {
      "text/plain": [
       "array(['acid', 'acoustic', 'action', 'adult', 'africa', 'afrikaans',\n",
       "       'alternative', 'alternativepunk', 'ambient', 'americana',\n",
       "       'animated', 'anime', 'arabesk', 'arabic', 'arena',\n",
       "       'argentinetango', 'art', 'audiobook', 'author', 'avantgarde',\n",
       "       'axé', 'baile', 'balkan', 'beats', 'bigroom', 'black', 'bluegrass',\n",
       "       'blues', 'bollywood', 'bossa', 'brazilian', 'breakbeat', 'breaks',\n",
       "       'broadway', 'cantautori', 'cantopop', 'canzone', 'caribbean',\n",
       "       'caucasian', 'celtic', 'chamber', 'chanson', 'children', 'chill',\n",
       "       'chinese', 'choral', 'christian', 'christmas', 'classical',\n",
       "       'classicmetal', 'club', 'colombian', 'comedy', 'conjazz',\n",
       "       'contemporary', 'country', 'cuban', 'dance', 'dancehall',\n",
       "       'dancepop', 'dark', 'death', 'deep', 'deutschrock', 'deutschspr',\n",
       "       'dirty', 'disco', 'dnb', 'documentary', 'downbeat', 'downtempo',\n",
       "       'drum', 'dub', 'dubstep', 'eastern', 'easy', 'electronic',\n",
       "       'electropop', 'emo', 'entehno', 'epicmetal', 'estrada', 'ethnic',\n",
       "       'eurofolk', 'european', 'experimental', 'extrememetal', 'fado',\n",
       "       'fairytail', 'film', 'fitness', 'flamenco', 'folk', 'folklore',\n",
       "       'folkmetal', 'folkrock', 'folktronica', 'forró', 'frankreich',\n",
       "       'französisch', 'french', 'funk', 'future', 'gangsta', 'garage',\n",
       "       'german', 'ghazal', 'gitarre', 'glitch', 'gospel', 'gothic',\n",
       "       'grime', 'grunge', 'gypsy', 'handsup', \"hard'n'heavy\", 'hardcore',\n",
       "       'hardstyle', 'hardtechno', 'hip', 'hip-hop', 'hiphop',\n",
       "       'historisch', 'holiday', 'hop', 'horror', 'house', 'hymn', 'idm',\n",
       "       'independent', 'indian', 'indie', 'indipop', 'industrial',\n",
       "       'inspirational', 'instrumental', 'international', 'irish', 'jam',\n",
       "       'japanese', 'jazz', 'jewish', 'jpop', 'jungle', 'k-pop',\n",
       "       'karadeniz', 'karaoke', 'kayokyoku', 'korean', 'laiko', 'latin',\n",
       "       'latino', 'leftfield', 'local', 'lounge', 'loungeelectronic',\n",
       "       'lovers', 'malaysian', 'mandopop', 'marschmusik', 'meditative',\n",
       "       'mediterranean', 'melodic', 'metal', 'metalcore', 'mexican',\n",
       "       'middle', 'minimal', 'miscellaneous', 'modern', 'mood', 'mpb',\n",
       "       'muslim', 'native', 'neoklassik', 'neue', 'new', 'newage',\n",
       "       'newwave', 'nu', 'nujazz', 'numetal', 'oceania', 'old', 'opera',\n",
       "       'orchestral', 'other', 'piano', 'podcasts', 'pop', 'popdance',\n",
       "       'popelectronic', 'popeurodance', 'poprussian', 'post',\n",
       "       'posthardcore', 'postrock', 'power', 'progmetal', 'progressive',\n",
       "       'psychedelic', 'punjabi', 'punk', 'quebecois', 'ragga', 'ram',\n",
       "       'rancheras', 'rap', 'rave', 'reggae', 'reggaeton', 'regional',\n",
       "       'relax', 'religious', 'retro', 'rhythm', 'rnb', 'rnr', 'rock',\n",
       "       'rockabilly', 'rockalternative', 'rockindie', 'rockother',\n",
       "       'romance', 'roots', 'ruspop', 'rusrap', 'rusrock', 'russian',\n",
       "       'salsa', 'samba', 'scenic', 'schlager', 'self', 'sertanejo',\n",
       "       'shanson', 'shoegazing', 'showtunes', 'singer', 'ska', 'skarock',\n",
       "       'slow', 'smooth', 'soft', 'soul', 'soulful', 'sound', 'soundtrack',\n",
       "       'southern', 'specialty', 'speech', 'spiritual', 'sport',\n",
       "       'stonerrock', 'surf', 'swing', 'synthpop', 'synthrock',\n",
       "       'sängerportrait', 'tango', 'tanzorchester', 'taraftar', 'tatar',\n",
       "       'tech', 'techno', 'teen', 'thrash', 'top', 'traditional',\n",
       "       'tradjazz', 'trance', 'tribal', 'trip', 'triphop', 'tropical',\n",
       "       'türk', 'türkçe', 'ukrrock', 'unknown', 'urban', 'uzbek',\n",
       "       'variété', 'vi', 'videogame', 'vocal', 'western', 'world',\n",
       "       'worldbeat', 'ïîï', 'электроника'], dtype=object)"
      ]
     },
     "execution_count": 14,
     "metadata": {},
     "output_type": "execute_result"
    }
   ],
   "source": [
    "# Просмотр уникальных названий жанров\n",
    "df['genre'].sort_values().unique()"
   ]
  },
  {
   "cell_type": "markdown",
   "metadata": {},
   "source": [
    "<div class=\"alert alert-success\"> \n",
    "✔️⚠️ По заданию нужно было отсортировать массив с названиями жанров: ведь так намного удобнее искать потенциальные неявные дубликаты."
   ]
  },
  {
   "cell_type": "markdown",
   "metadata": {},
   "source": [
    "<p style=\"background:blue;color:white;padding:20px\">\n",
    "Упустил из виду требование, согласен. Поставил на место.\n",
    "</p>"
   ]
  },
  {
   "cell_type": "markdown",
   "metadata": {},
   "source": [
    "<div class=\"alert alert-success\">\n",
    "<b>Комментарий ревьюера v2</b>    <br>\n",
    "✔️ Исправлено"
   ]
  },
  {
   "cell_type": "markdown",
   "metadata": {
    "id": "qej-Qmuo_Zct"
   },
   "source": [
    "Просмотрите список и найдите неявные дубликаты названия `hiphop`. Это могут быть названия с ошибками или альтернативные названия того же жанра.\n",
    "\n",
    "Вы увидите следующие неявные дубликаты:\n",
    "* *hip*,\n",
    "* *hop*,\n",
    "* *hip-hop*.\n",
    "\n",
    "Чтобы очистить от них таблицу, напишите функцию `replace_wrong_genres()` с двумя параметрами: \n",
    "* `wrong_genres` — список дубликатов,\n",
    "* `correct_genre` — строка с правильным значением.\n",
    "\n",
    "Функция должна исправить колонку `genre` в таблице `df`: заменить каждое значение из списка `wrong_genres` на значение из `correct_genre`."
   ]
  },
  {
   "cell_type": "code",
   "execution_count": 15,
   "metadata": {
    "id": "ErNDkmns_Zct"
   },
   "outputs": [],
   "source": [
    "# Предлагаю избежать функции с сайд-эффектом\n",
    "# и использовать возможности метода .replace().\n",
    "#\n",
    "# df['genre'].replace(\n",
    "#     to_replace = ['hip', 'hop', 'hip-hop'],\n",
    "#     value=['hiphop'] * 3,\n",
    "#     inplace=True,\n",
    "# )\n",
    "\n",
    "# Функция для замены неявных дубликатов\n",
    "def replace_wrong_genres(wrong_genres, correct_genre):\n",
    "    for genre in wrong_genres:\n",
    "        df['genre'].replace(genre, correct_genre, inplace=True)"
   ]
  },
  {
   "cell_type": "markdown",
   "metadata": {},
   "source": [
    "<div class=\"alert alert-success\">\n",
    "✔️  Функция написана верно!\n",
    "</div>"
   ]
  },
  {
   "cell_type": "markdown",
   "metadata": {
    "id": "aDoBJxbA_Zct"
   },
   "source": [
    "Вызовите `replace_wrong_genres()` и передайте ей такие аргументы, чтобы она устранила неявные дубликаты: вместо `hip`, `hop` и `hip-hop` в таблице должно быть значение `hiphop`:"
   ]
  },
  {
   "cell_type": "code",
   "execution_count": 16,
   "metadata": {
    "id": "YN5i2hpmSo09"
   },
   "outputs": [],
   "source": [
    "# Устранение неявных дубликатов\n",
    "replace_wrong_genres(['hip', 'hop', 'hip-hop'], 'hiphop')"
   ]
  },
  {
   "cell_type": "markdown",
   "metadata": {
    "id": "zQKF16_RG15m"
   },
   "source": [
    "Проверьте, что заменили неправильные названия:\n",
    "\n",
    "*   hip\n",
    "*   hop\n",
    "*   hip-hop\n",
    "\n",
    "Выведите отсортированный список уникальных значений столбца `genre`:"
   ]
  },
  {
   "cell_type": "code",
   "execution_count": 17,
   "metadata": {
    "id": "wvixALnFG15m"
   },
   "outputs": [
    {
     "data": {
      "text/plain": [
       "array(['acid', 'acoustic', 'action', 'adult', 'africa', 'afrikaans',\n",
       "       'alternative', 'alternativepunk', 'ambient', 'americana',\n",
       "       'animated', 'anime', 'arabesk', 'arabic', 'arena',\n",
       "       'argentinetango', 'art', 'audiobook', 'author', 'avantgarde',\n",
       "       'axé', 'baile', 'balkan', 'beats', 'bigroom', 'black', 'bluegrass',\n",
       "       'blues', 'bollywood', 'bossa', 'brazilian', 'breakbeat', 'breaks',\n",
       "       'broadway', 'cantautori', 'cantopop', 'canzone', 'caribbean',\n",
       "       'caucasian', 'celtic', 'chamber', 'chanson', 'children', 'chill',\n",
       "       'chinese', 'choral', 'christian', 'christmas', 'classical',\n",
       "       'classicmetal', 'club', 'colombian', 'comedy', 'conjazz',\n",
       "       'contemporary', 'country', 'cuban', 'dance', 'dancehall',\n",
       "       'dancepop', 'dark', 'death', 'deep', 'deutschrock', 'deutschspr',\n",
       "       'dirty', 'disco', 'dnb', 'documentary', 'downbeat', 'downtempo',\n",
       "       'drum', 'dub', 'dubstep', 'eastern', 'easy', 'electronic',\n",
       "       'electropop', 'emo', 'entehno', 'epicmetal', 'estrada', 'ethnic',\n",
       "       'eurofolk', 'european', 'experimental', 'extrememetal', 'fado',\n",
       "       'fairytail', 'film', 'fitness', 'flamenco', 'folk', 'folklore',\n",
       "       'folkmetal', 'folkrock', 'folktronica', 'forró', 'frankreich',\n",
       "       'französisch', 'french', 'funk', 'future', 'gangsta', 'garage',\n",
       "       'german', 'ghazal', 'gitarre', 'glitch', 'gospel', 'gothic',\n",
       "       'grime', 'grunge', 'gypsy', 'handsup', \"hard'n'heavy\", 'hardcore',\n",
       "       'hardstyle', 'hardtechno', 'hiphop', 'historisch', 'holiday',\n",
       "       'horror', 'house', 'hymn', 'idm', 'independent', 'indian', 'indie',\n",
       "       'indipop', 'industrial', 'inspirational', 'instrumental',\n",
       "       'international', 'irish', 'jam', 'japanese', 'jazz', 'jewish',\n",
       "       'jpop', 'jungle', 'k-pop', 'karadeniz', 'karaoke', 'kayokyoku',\n",
       "       'korean', 'laiko', 'latin', 'latino', 'leftfield', 'local',\n",
       "       'lounge', 'loungeelectronic', 'lovers', 'malaysian', 'mandopop',\n",
       "       'marschmusik', 'meditative', 'mediterranean', 'melodic', 'metal',\n",
       "       'metalcore', 'mexican', 'middle', 'minimal', 'miscellaneous',\n",
       "       'modern', 'mood', 'mpb', 'muslim', 'native', 'neoklassik', 'neue',\n",
       "       'new', 'newage', 'newwave', 'nu', 'nujazz', 'numetal', 'oceania',\n",
       "       'old', 'opera', 'orchestral', 'other', 'piano', 'podcasts', 'pop',\n",
       "       'popdance', 'popelectronic', 'popeurodance', 'poprussian', 'post',\n",
       "       'posthardcore', 'postrock', 'power', 'progmetal', 'progressive',\n",
       "       'psychedelic', 'punjabi', 'punk', 'quebecois', 'ragga', 'ram',\n",
       "       'rancheras', 'rap', 'rave', 'reggae', 'reggaeton', 'regional',\n",
       "       'relax', 'religious', 'retro', 'rhythm', 'rnb', 'rnr', 'rock',\n",
       "       'rockabilly', 'rockalternative', 'rockindie', 'rockother',\n",
       "       'romance', 'roots', 'ruspop', 'rusrap', 'rusrock', 'russian',\n",
       "       'salsa', 'samba', 'scenic', 'schlager', 'self', 'sertanejo',\n",
       "       'shanson', 'shoegazing', 'showtunes', 'singer', 'ska', 'skarock',\n",
       "       'slow', 'smooth', 'soft', 'soul', 'soulful', 'sound', 'soundtrack',\n",
       "       'southern', 'specialty', 'speech', 'spiritual', 'sport',\n",
       "       'stonerrock', 'surf', 'swing', 'synthpop', 'synthrock',\n",
       "       'sängerportrait', 'tango', 'tanzorchester', 'taraftar', 'tatar',\n",
       "       'tech', 'techno', 'teen', 'thrash', 'top', 'traditional',\n",
       "       'tradjazz', 'trance', 'tribal', 'trip', 'triphop', 'tropical',\n",
       "       'türk', 'türkçe', 'ukrrock', 'unknown', 'urban', 'uzbek',\n",
       "       'variété', 'vi', 'videogame', 'vocal', 'western', 'world',\n",
       "       'worldbeat', 'ïîï', 'электроника'], dtype=object)"
      ]
     },
     "execution_count": 17,
     "metadata": {},
     "output_type": "execute_result"
    }
   ],
   "source": [
    "# Проверка на неявные дубликаты\n",
    "df['genre'].sort_values().unique()"
   ]
  },
  {
   "cell_type": "markdown",
   "metadata": {
    "id": "jz6a9-7HQUDd"
   },
   "source": [
    "**Выводы**\n",
    "\n",
    "Предобработка обнаружила три проблемы в данных:\n",
    "\n",
    "- нарушения в стиле заголовков,\n",
    "- пропущенные значения,\n",
    "- дубликаты — явные и неявные.\n",
    "\n",
    "Вы исправили заголовки, чтобы упростить работу с таблицей. Без дубликатов исследование станет более точным.\n",
    "\n",
    "Пропущенные значения вы заменили на `'unknown'`. Ещё предстоит увидеть, не повредят ли исследованию пропуски в колонке `genre`.\n",
    "\n",
    "Теперь можно перейти к проверке гипотез. "
   ]
  },
  {
   "cell_type": "markdown",
   "metadata": {},
   "source": [
    "<div class=\"alert alert-success\">\n",
    "✔️ По шагу в целом вижу, что ты отлично владеешь методами и пишешь функции\n",
    "</div>"
   ]
  },
  {
   "cell_type": "markdown",
   "metadata": {
    "id": "WttZHXH0SqKk"
   },
   "source": [
    "## Проверка гипотез"
   ]
  },
  {
   "cell_type": "markdown",
   "metadata": {
    "id": "Im936VVi_Zcu"
   },
   "source": [
    "### Сравнение поведения пользователей двух столиц"
   ]
  },
  {
   "cell_type": "markdown",
   "metadata": {
    "id": "nwt_MuaL_Zcu"
   },
   "source": [
    "Первая гипотеза утверждает, что пользователи по-разному слушают музыку в Москве и Санкт-Петербурге. Проверьте это предположение по данным о трёх днях недели — понедельнике, среде и пятнице. Для этого:\n",
    "\n",
    "* Разделите пользователей Москвы и Санкт-Петербурга\n",
    "* Сравните, сколько треков послушала каждая группа пользователей в понедельник, среду и пятницу.\n"
   ]
  },
  {
   "cell_type": "markdown",
   "metadata": {
    "id": "8Dw_YMmT_Zcu"
   },
   "source": [
    "Для тренировки сначала выполните каждый из расчётов по отдельности. \n",
    "\n",
    "Оцените активность пользователей в каждом городе. Сгруппируйте данные по городу и посчитайте прослушивания в каждой группе.\n",
    "\n"
   ]
  },
  {
   "cell_type": "code",
   "execution_count": 18,
   "metadata": {
    "id": "0_Qs96oh_Zcu"
   },
   "outputs": [
    {
     "data": {
      "text/plain": [
       "city\n",
       "Moscow              42741\n",
       "Saint-Petersburg    18512\n",
       "Name: user_id, dtype: int64"
      ]
     },
     "metadata": {},
     "output_type": "display_data"
    }
   ],
   "source": [
    "# Подсчёт прослушиваний в каждом городе\n",
    "plays_by_city = df.groupby('city')['user_id'].count()\n",
    "display(plays_by_city)"
   ]
  },
  {
   "cell_type": "markdown",
   "metadata": {
    "id": "dzli3w8o_Zcu"
   },
   "source": [
    "В Москве прослушиваний больше, чем в Петербурге. Из этого не следует, что московские пользователи чаще слушают музыку. Просто самих пользователей в Москве больше.\n",
    "\n",
    "Теперь сгруппируйте данные по дню недели и подсчитайте прослушивания в понедельник, среду и пятницу. Учтите, что в данных есть информация о прослушиваниях только за эти дни.\n"
   ]
  },
  {
   "cell_type": "code",
   "execution_count": 19,
   "metadata": {
    "id": "uZMKjiJz_Zcu"
   },
   "outputs": [
    {
     "data": {
      "text/plain": [
       "day\n",
       "Friday       21840\n",
       "Monday       21354\n",
       "Wednesday    18059\n",
       "Name: user_id, dtype: int64"
      ]
     },
     "metadata": {},
     "output_type": "display_data"
    }
   ],
   "source": [
    "# Подсчёт прослушиваний в каждый из трёх дней\n",
    "plays_by_day_of_week = df.groupby('day')['user_id'].count()\n",
    "display(plays_by_day_of_week)"
   ]
  },
  {
   "cell_type": "markdown",
   "metadata": {
    "id": "cC2tNrlL_Zcu"
   },
   "source": [
    "В среднем пользователи из двух городов менее активны по средам. Но картина может измениться, если рассмотреть каждый город в отдельности."
   ]
  },
  {
   "cell_type": "markdown",
   "metadata": {
    "id": "POzs8bGa_Zcu"
   },
   "source": [
    "Вы видели, как работает группировка по городу и по дням недели. Теперь напишите функцию, которая объединит два эти расчёта.\n",
    "\n",
    "Создайте функцию `number_tracks()`, которая посчитает прослушивания для заданного дня и города. Ей понадобятся два параметра:\n",
    "* день недели,\n",
    "* название города.\n",
    "\n",
    "В функции сохраните в переменную строки исходной таблицы, у которых значение:\n",
    "  * в колонке `day` равно параметру `day`,\n",
    "  * в колонке `city` равно параметру `city`.\n",
    "\n",
    "Для этого примените последовательную фильтрацию с логической индексацией.\n",
    "\n",
    "Затем посчитайте значения в столбце `user_id` получившейся таблицы. Результат сохраните в новую переменную. Верните эту переменную из функции."
   ]
  },
  {
   "cell_type": "code",
   "execution_count": 20,
   "metadata": {
    "id": "Nz3GdQB1_Zcu"
   },
   "outputs": [],
   "source": [
    "# <создание функции number_tracks()>\n",
    "# Объявляется функция с двумя параметрами: day, city.\n",
    "def number_tracks(day, city):\n",
    "    # В переменной track_list сохраняются те строки таблицы df, для которых \n",
    "    # значение в столбце 'day' равно параметру day и одновременно значение\n",
    "    # в столбце 'city' равно параметру city (используйте последовательную фильтрацию\n",
    "    # с помощью логической индексации).\n",
    "    track_list = df[df['day'] == day]\n",
    "    track_list = track_list[track_list['city'] == city]\n",
    "    \n",
    "    # В переменной track_list_count сохраняется число значений столбца 'user_id',\n",
    "    # рассчитанное методом count() для таблицы track_list.\n",
    "    track_list_count = track_list['user_id'].count()\n",
    "    \n",
    "    # Функция возвращает число - значение track_list_count.\n",
    "    return track_list_count\n",
    "\n",
    "# Функция для подсчёта прослушиваний для конкретного города и дня.\n",
    "# С помощью последовательной фильтрации с логической индексацией она \n",
    "# сначала получит из исходной таблицы строки с нужным днём,\n",
    "# затем из результата отфильтрует строки с нужным городом,\n",
    "# методом count() посчитает количество значений в колонке user_id. \n",
    "# Это количество функция вернёт в качестве результата"
   ]
  },
  {
   "cell_type": "markdown",
   "metadata": {},
   "source": [
    "<div class=\"alert alert-success\">\n",
    "✔️ Твоя функция полностью выполняет свои задачи\n",
    "</div>"
   ]
  },
  {
   "cell_type": "markdown",
   "metadata": {
    "id": "ytf7xFrFJQ2r"
   },
   "source": [
    "Вызовите `number_tracks()` шесть раз, меняя значение параметров — так, чтобы получить данные для каждого города в каждый из трёх дней."
   ]
  },
  {
   "cell_type": "code",
   "execution_count": 21,
   "metadata": {
    "id": "rJcRATNQ_Zcu"
   },
   "outputs": [
    {
     "data": {
      "text/plain": [
       "'Wednesday at Saint-Petersburg: 7003'"
      ]
     },
     "metadata": {},
     "output_type": "display_data"
    },
    {
     "data": {
      "text/plain": [
       "'Wednesday at Moscow: 11056'"
      ]
     },
     "metadata": {},
     "output_type": "display_data"
    },
    {
     "data": {
      "text/plain": [
       "'Friday at Saint-Petersburg: 5895'"
      ]
     },
     "metadata": {},
     "output_type": "display_data"
    },
    {
     "data": {
      "text/plain": [
       "'Friday at Moscow: 15945'"
      ]
     },
     "metadata": {},
     "output_type": "display_data"
    },
    {
     "data": {
      "text/plain": [
       "'Monday at Saint-Petersburg: 5614'"
      ]
     },
     "metadata": {},
     "output_type": "display_data"
    },
    {
     "data": {
      "text/plain": [
       "'Monday at Moscow: 15740'"
      ]
     },
     "metadata": {},
     "output_type": "display_data"
    }
   ],
   "source": [
    "# количество прослушиваний в Москве по понедельникам\n",
    "days = df['day'].unique()\n",
    "cities = df['city'].unique()\n",
    "for day in days:\n",
    "    for city in cities:\n",
    "        display(f'{day} at {city}: {number_tracks(day, city)}')"
   ]
  },
  {
   "cell_type": "markdown",
   "metadata": {},
   "source": [
    "<div class=\"alert alert-success\">\n",
    "✔️ 👍"
   ]
  },
  {
   "cell_type": "markdown",
   "metadata": {
    "id": "7QXffbO-_Zcu"
   },
   "source": [
    "Создайте c помощью конструктора `pd.DataFrame` таблицу, где\n",
    "* названия колонок — `['city', 'monday', 'wednesday', 'friday']`;\n",
    "* данные — результаты, которые вы получили с помощью `number_tracks`."
   ]
  },
  {
   "cell_type": "code",
   "execution_count": 22,
   "metadata": {
    "id": "APAcLpOr_Zcu"
   },
   "outputs": [
    {
     "data": {
      "text/html": [
       "<div>\n",
       "<style scoped>\n",
       "    .dataframe tbody tr th:only-of-type {\n",
       "        vertical-align: middle;\n",
       "    }\n",
       "\n",
       "    .dataframe tbody tr th {\n",
       "        vertical-align: top;\n",
       "    }\n",
       "\n",
       "    .dataframe thead th {\n",
       "        text-align: right;\n",
       "    }\n",
       "</style>\n",
       "<table border=\"1\" class=\"dataframe\">\n",
       "  <thead>\n",
       "    <tr style=\"text-align: right;\">\n",
       "      <th></th>\n",
       "      <th>city</th>\n",
       "      <th>monday</th>\n",
       "      <th>wednesday</th>\n",
       "      <th>friday</th>\n",
       "    </tr>\n",
       "  </thead>\n",
       "  <tbody>\n",
       "    <tr>\n",
       "      <th>0</th>\n",
       "      <td>Moscow</td>\n",
       "      <td>15740</td>\n",
       "      <td>11056</td>\n",
       "      <td>15945</td>\n",
       "    </tr>\n",
       "    <tr>\n",
       "      <th>1</th>\n",
       "      <td>Saint-Petersburg</td>\n",
       "      <td>5614</td>\n",
       "      <td>7003</td>\n",
       "      <td>5895</td>\n",
       "    </tr>\n",
       "  </tbody>\n",
       "</table>\n",
       "</div>"
      ],
      "text/plain": [
       "               city  monday  wednesday  friday\n",
       "0            Moscow   15740      11056   15945\n",
       "1  Saint-Petersburg    5614       7003    5895"
      ]
     },
     "metadata": {},
     "output_type": "display_data"
    }
   ],
   "source": [
    "# Таблица с результатами\n",
    "plays_by_groups = pd.DataFrame(\n",
    "    columns=['city', 'monday', 'wednesday', 'friday'],\n",
    "    data=[\n",
    "        ['Moscow', 15740, 11056, 15945],\n",
    "        ['Saint-Petersburg', 5614, 7003, 5895],\n",
    "    ]\n",
    "    \n",
    ")\n",
    "display(plays_by_groups)"
   ]
  },
  {
   "cell_type": "markdown",
   "metadata": {},
   "source": [
    "<div class=\"alert alert-success\">\n",
    "✔️ Таблица создана верно\n",
    "</div>"
   ]
  },
  {
   "cell_type": "markdown",
   "metadata": {
    "id": "-EgPIHYu_Zcu"
   },
   "source": [
    "**Выводы**\n",
    "\n",
    "Данные показывают разницу поведения пользователей:\n",
    "\n",
    "- В Москве пик прослушиваний приходится на понедельник и пятницу, а в среду заметен спад.\n",
    "- В Петербурге, наоборот, больше слушают музыку по средам. Активность в понедельник и пятницу здесь почти в равной мере уступает среде.\n",
    "\n",
    "Значит, данные говорят в пользу первой гипотезы."
   ]
  },
  {
   "cell_type": "markdown",
   "metadata": {
    "id": "atZAxtq4_Zcu"
   },
   "source": [
    "### Музыка в начале и в конце недели"
   ]
  },
  {
   "cell_type": "markdown",
   "metadata": {
    "id": "eXrQqXFH_Zcu"
   },
   "source": [
    "Согласно второй гипотезе, утром в понедельник в Москве преобладают одни жанры, а в Петербурге — другие. Так же и вечером пятницы преобладают разные жанры — в зависимости от города."
   ]
  },
  {
   "cell_type": "markdown",
   "metadata": {
    "id": "S8UcW6Hw_Zcu"
   },
   "source": [
    "Сохраните таблицы с данными в две переменные:\n",
    "* по Москве — в `moscow_general`;\n",
    "* по Санкт-Петербургу — в `spb_general`."
   ]
  },
  {
   "cell_type": "code",
   "execution_count": 23,
   "metadata": {
    "id": "qeaFfM_P_Zcu"
   },
   "outputs": [],
   "source": [
    "# получение таблицы moscow_general из тех строк таблицы df, \n",
    "# для которых значение в столбце 'city' равно 'Moscow'\n",
    "moscow_general = df[df['city'] == 'Moscow']"
   ]
  },
  {
   "cell_type": "code",
   "execution_count": 24,
   "metadata": {
    "id": "ORaVRKto_Zcu"
   },
   "outputs": [],
   "source": [
    "# получение таблицы spb_general из тех строк таблицы df,\n",
    "# для которых значение в столбце 'city' равно 'Saint-Petersburg'\n",
    "spb_general = df[df['city'] == 'Saint-Petersburg']"
   ]
  },
  {
   "cell_type": "markdown",
   "metadata": {
    "id": "MEJV-CX2_Zcu"
   },
   "source": [
    "Создайте функцию `genre_weekday()` с четырьмя параметрами:\n",
    "* таблица (датафрейм) с данными,\n",
    "* день недели,\n",
    "* начальная временная метка в формате 'hh:mm', \n",
    "* последняя временная метка в формате 'hh:mm'.\n",
    "\n",
    "Функция должна вернуть информацию о топ-10 жанров тех треков, которые прослушивали в указанный день, в промежутке между двумя отметками времени."
   ]
  },
  {
   "cell_type": "code",
   "execution_count": 25,
   "metadata": {
    "id": "laJT9BYl_Zcu"
   },
   "outputs": [],
   "source": [
    "# Объявление функции genre_weekday() с параметрами table, day, time1, time2,\n",
    "# которая возвращает информацию о самых популярных жанрах в указанный день в\n",
    "# заданное время:\n",
    "# 1) в переменную genre_df сохраняются те строки переданного датафрейма table, для\n",
    "#    которых одновременно:\n",
    "#    - значение в столбце day равно значению аргумента day\n",
    "#    - значение в столбце time больше значения аргумента time1\n",
    "#    - значение в столбце time меньше значения аргумента time2\n",
    "#    Используйте последовательную фильтрацию с помощью логической индексации.\n",
    "# 2) сгруппировать датафрейм genre_df по столбцу genre, взять один из его\n",
    "#    столбцов и посчитать методом count() количество записей для каждого из\n",
    "#    присутствующих жанров, получившийся Series записать в переменную\n",
    "#    genre_df_count\n",
    "# 3) отсортировать genre_df_count по убыванию встречаемости и сохранить\n",
    "#    в переменную genre_df_sorted\n",
    "# 4) вернуть Series из 10 первых значений genre_df_sorted, это будут топ-10\n",
    "#    популярных жанров (в указанный день, в заданное время)\n",
    "\n",
    "def genre_weekday(data, weekday, time_from, time_until):\n",
    "    genre_df = data[data['day'] == weekday]\n",
    "    genre_df = genre_df[genre_df['time'] > time_from]\n",
    "    genre_df = genre_df[genre_df['time'] < time_until]\n",
    "    genre_df_count = genre_df.groupby('genre')['user_id'].count()\n",
    "    genre_df_sorted = genre_df_count.sort_values(ascending=False)\n",
    "    return genre_df_sorted.head(10)"
   ]
  },
  {
   "cell_type": "markdown",
   "metadata": {},
   "source": [
    "<div class=\"alert alert-success\">\n",
    "✔️ Функция написана верно\n",
    "</div>"
   ]
  },
  {
   "cell_type": "markdown",
   "metadata": {
    "id": "la2s2_PF_Zcu"
   },
   "source": [
    "Cравните результаты функции `genre_weekday()` для Москвы и Санкт-Петербурга в понедельник утром (с 7:00 до 11:00) и в пятницу вечером (с 17:00 до 23:00):"
   ]
  },
  {
   "cell_type": "code",
   "execution_count": 26,
   "metadata": {
    "id": "yz7itPUQ_Zcu"
   },
   "outputs": [
    {
     "data": {
      "text/plain": [
       "genre\n",
       "pop            781\n",
       "dance          549\n",
       "electronic     480\n",
       "rock           474\n",
       "hiphop         286\n",
       "ruspop         186\n",
       "world          181\n",
       "rusrap         175\n",
       "alternative    164\n",
       "unknown        161\n",
       "Name: user_id, dtype: int64"
      ]
     },
     "execution_count": 26,
     "metadata": {},
     "output_type": "execute_result"
    }
   ],
   "source": [
    "# вызов функции для утра понедельника в Москве (вместо df — таблица moscow_general)\n",
    "# объекты, хранящие время, являются строками и сравниваются как строки\n",
    "# пример вызова: genre_weekday(moscow_general, 'Monday', '07:00', '11:00')\n",
    "genre_weekday(moscow_general, 'Monday', '07:00', '11:00')"
   ]
  },
  {
   "cell_type": "code",
   "execution_count": 27,
   "metadata": {
    "id": "kwUcHPdy_Zcu"
   },
   "outputs": [
    {
     "data": {
      "text/plain": [
       "genre\n",
       "pop            218\n",
       "dance          182\n",
       "rock           162\n",
       "electronic     147\n",
       "hiphop          80\n",
       "ruspop          64\n",
       "alternative     58\n",
       "rusrap          55\n",
       "jazz            44\n",
       "classical       40\n",
       "Name: user_id, dtype: int64"
      ]
     },
     "execution_count": 27,
     "metadata": {},
     "output_type": "execute_result"
    }
   ],
   "source": [
    "# вызов функции для утра понедельника в Петербурге (вместо df — таблица spb_general)\n",
    "genre_weekday(spb_general, 'Monday', '07:00', '11:00')"
   ]
  },
  {
   "cell_type": "code",
   "execution_count": 28,
   "metadata": {
    "id": "EzXVRE1o_Zcu"
   },
   "outputs": [
    {
     "data": {
      "text/plain": [
       "genre\n",
       "pop            713\n",
       "rock           517\n",
       "dance          495\n",
       "electronic     482\n",
       "hiphop         273\n",
       "world          208\n",
       "ruspop         170\n",
       "alternative    163\n",
       "classical      163\n",
       "rusrap         142\n",
       "Name: user_id, dtype: int64"
      ]
     },
     "execution_count": 28,
     "metadata": {},
     "output_type": "execute_result"
    }
   ],
   "source": [
    "# вызов функции для вечера пятницы в Москве\n",
    "genre_weekday(moscow_general, 'Friday', '17:00', '23:00')"
   ]
  },
  {
   "cell_type": "code",
   "execution_count": 29,
   "metadata": {
    "id": "JZaEKu5v_Zcu"
   },
   "outputs": [
    {
     "data": {
      "text/plain": [
       "genre\n",
       "pop            256\n",
       "electronic     216\n",
       "rock           216\n",
       "dance          210\n",
       "hiphop          97\n",
       "alternative     63\n",
       "jazz            61\n",
       "classical       60\n",
       "rusrap          59\n",
       "world           54\n",
       "Name: user_id, dtype: int64"
      ]
     },
     "execution_count": 29,
     "metadata": {},
     "output_type": "execute_result"
    }
   ],
   "source": [
    "# вызов функции для вечера пятницы в Петербурге\n",
    "genre_weekday(spb_general, 'Friday', '17:00', '23:00')"
   ]
  },
  {
   "cell_type": "markdown",
   "metadata": {
    "id": "wrCe4MNX_Zcu"
   },
   "source": [
    "**Выводы**\n",
    "\n",
    "Если сравнить топ-10 жанров в понедельник утром, можно сделать такие выводы:\n",
    "\n",
    "1. В Москве и Петербурге слушают похожую музыку. Единственное отличие — в московский рейтинг вошёл жанр “world”, а в петербургский — джаз и классика.\n",
    "\n",
    "2. В Москве пропущенных значений оказалось так много, что значение `'unknown'` заняло десятое место среди самых популярных жанров. Значит, пропущенные значения занимают существенную долю в данных и угрожают достоверности исследования.\n",
    "\n",
    "Вечер пятницы не меняет эту картину. Некоторые жанры поднимаются немного выше, другие спускаются, но в целом топ-10 остаётся тем же самым.\n",
    "\n",
    "Таким образом, вторая гипотеза подтвердилась лишь частично:\n",
    "* Пользователи слушают похожую музыку в начале недели и в конце.\n",
    "* Разница между Москвой и Петербургом не слишком выражена. В Москве чаще слушают русскую популярную музыку, в Петербурге — джаз.\n",
    "\n",
    "Однако пропуски в данных ставят под сомнение этот результат. В Москве их так много, что рейтинг топ-10 мог бы выглядеть иначе, если бы не утерянные  данные о жанрах."
   ]
  },
  {
   "cell_type": "markdown",
   "metadata": {
    "id": "JolODAqr_Zcu"
   },
   "source": [
    "### Жанровые предпочтения в Москве и Петербурге\n",
    "\n",
    "Гипотеза: Петербург — столица рэпа, музыку этого жанра там слушают чаще, чем в Москве.  А Москва — город контрастов, в котором, тем не менее, преобладает поп-музыка."
   ]
  },
  {
   "cell_type": "markdown",
   "metadata": {
    "id": "DlegSvaT_Zcu"
   },
   "source": [
    "Сгруппируйте таблицу `moscow_general` по жанру и посчитайте прослушивания треков каждого жанра методом `count()`. Затем отсортируйте результат в порядке убывания и сохраните его в таблице `moscow_genres`."
   ]
  },
  {
   "cell_type": "code",
   "execution_count": 30,
   "metadata": {
    "id": "r19lIPke_Zcu"
   },
   "outputs": [],
   "source": [
    "# одной строкой: группировка таблицы moscow_general по столбцу 'genre', \n",
    "# подсчёт числа значений 'genre' в этой группировке методом count(), \n",
    "# сортировка получившегося Series в порядке убывания и сохранение в moscow_genres\n",
    "moscow_genres = moscow_general.groupby('genre')['genre'] \\\n",
    "                .count().sort_values(ascending=False)"
   ]
  },
  {
   "cell_type": "markdown",
   "metadata": {
    "id": "6kMuomxTiIr8"
   },
   "source": [
    "Выведите на экран первые десять строк `moscow_genres`:"
   ]
  },
  {
   "cell_type": "code",
   "execution_count": 31,
   "metadata": {
    "id": "WhCSooF8_Zcv"
   },
   "outputs": [
    {
     "data": {
      "text/plain": [
       "genre\n",
       "pop            5892\n",
       "dance          4435\n",
       "rock           3965\n",
       "electronic     3786\n",
       "hiphop         2096\n",
       "classical      1616\n",
       "world          1432\n",
       "alternative    1379\n",
       "ruspop         1372\n",
       "rusrap         1161\n",
       "Name: genre, dtype: int64"
      ]
     },
     "execution_count": 31,
     "metadata": {},
     "output_type": "execute_result"
    }
   ],
   "source": [
    "# просмотр первых 10 строк moscow_genres\n",
    "moscow_genres.head(10)"
   ]
  },
  {
   "cell_type": "markdown",
   "metadata": {},
   "source": [
    "<div class=\"alert alert-success\">\n",
    "✔️ Данные по Москве получены\n",
    "</div>"
   ]
  },
  {
   "cell_type": "markdown",
   "metadata": {
    "id": "cnPG2vnN_Zcv"
   },
   "source": [
    "Теперь повторите то же и для Петербурга.\n",
    "\n",
    "Сгруппируйте таблицу `spb_general` по жанру. Посчитайте прослушивания треков каждого жанра. Результат отсортируйте в порядке убывания и сохраните в таблице `spb_genres`:\n"
   ]
  },
  {
   "cell_type": "code",
   "execution_count": 32,
   "metadata": {
    "id": "gluLIpE7_Zcv"
   },
   "outputs": [],
   "source": [
    "# одной строкой: группировка таблицы spb_general по столбцу 'genre', \n",
    "# подсчёт числа значений 'genre' в этой группировке методом count(), \n",
    "# сортировка получившегося Series в порядке убывания и сохранение в spb_genres\n",
    "spb_genres = spb_general.groupby('genre')['genre'] \\\n",
    "             .count().sort_values(ascending=False)"
   ]
  },
  {
   "cell_type": "markdown",
   "metadata": {
    "id": "5Doha_ODgyQ8"
   },
   "source": [
    "Выведите на экран первые десять строк `spb_genres`:"
   ]
  },
  {
   "cell_type": "code",
   "execution_count": 33,
   "metadata": {
    "id": "uaGJHjVU_Zcv"
   },
   "outputs": [
    {
     "data": {
      "text/plain": [
       "genre\n",
       "pop            2431\n",
       "dance          1932\n",
       "rock           1879\n",
       "electronic     1736\n",
       "hiphop          960\n",
       "alternative     649\n",
       "classical       646\n",
       "rusrap          564\n",
       "ruspop          538\n",
       "world           515\n",
       "Name: genre, dtype: int64"
      ]
     },
     "execution_count": 33,
     "metadata": {},
     "output_type": "execute_result"
    }
   ],
   "source": [
    "# просмотр первых 10 строк spb_genres\n",
    "spb_genres.head(10)"
   ]
  },
  {
   "cell_type": "markdown",
   "metadata": {},
   "source": [
    "<div class=\"alert alert-success\">\n",
    "✔️ Данные по Питеру у нас тоже есть.\n",
    "</div>"
   ]
  },
  {
   "cell_type": "markdown",
   "metadata": {
    "id": "RY51YJYu_Zcv"
   },
   "source": [
    "**Выводы**"
   ]
  },
  {
   "cell_type": "markdown",
   "metadata": {
    "id": "nVhnJEm__Zcv"
   },
   "source": [
    "Гипотеза частично подтвердилась:\n",
    "* Поп-музыка — самый популярный жанр в Москве, как и предполагала гипотеза. Более того, в топ-10 жанров встречается близкий жанр — русская популярная музыка.\n",
    "* Вопреки ожиданиям, рэп одинаково популярен в Москве и Петербурге. \n"
   ]
  },
  {
   "cell_type": "markdown",
   "metadata": {},
   "source": [
    "<div class=\"alert alert-success\">\n",
    "✔️ В целом шаг выполнен хорошо. Сделана большая работа! Прошу еще так же обратить внимание на выводы и опираться на такой пример в будущих проектах, так как хорошие выводы и промежуточные — очень важно и выделяют хорошую работу. \n",
    "</div>"
   ]
  },
  {
   "cell_type": "markdown",
   "metadata": {
    "id": "ykKQ0N65_Zcv"
   },
   "source": [
    "## Итоги исследования"
   ]
  },
  {
   "cell_type": "markdown",
   "metadata": {
    "id": "tjUwbHb3_Zcv"
   },
   "source": [
    "Вы проверили три гипотезы и установили:\n",
    "\n",
    "1. День недели по-разному влияет на активность пользователей в Москве и Петербурге. \n",
    "\n",
    "Первая гипотеза полностью подтвердилась.\n",
    "\n",
    "2. Музыкальные предпочтения не сильно меняются в течение недели — будь то Москва или Петербург. Небольшие различия заметны в начале недели, по понедельникам:\n",
    "* в Москве слушают музыку жанра “world”,\n",
    "* в Петербурге — джаз и классику.\n",
    "\n",
    "Таким образом, вторая гипотеза подтвердилась лишь отчасти. Этот результат мог оказаться иным, если бы не пропуски в данных.\n",
    "\n",
    "3. Во вкусах пользователей Москвы и Петербурга больше общего чем различий. Вопреки ожиданиям, предпочтения жанров в Петербурге напоминают московские.\n",
    "\n",
    "Третья гипотеза не подтвердилась. Если различия в предпочтениях и существуют, на основной массе пользователей они незаметны.\n",
    "\n",
    "**На практике исследования содержат проверки статистических гипотез.**\n",
    "Из данных одного сервиса не всегда можно сделать вывод о всех жителях города.\n",
    "Проверки статистических гипотез покажут, насколько они достоверны, исходя из имеющихся данных. \n",
    "С методами проверок гипотез вы ещё познакомитесь в следующих темах."
   ]
  },
  {
   "cell_type": "markdown",
   "metadata": {},
   "source": [
    "<div class=\"alert alert-success\">\n",
    "Выводы, как общий, так и промежуточные, является важным элементом проводимого анализа. В итоговом выводе мы описываем основные итоги работы. Поэтому не забывай уделять им особое внимание в последующих проектах. \n",
    "</div>"
   ]
  },
  {
   "cell_type": "markdown",
   "metadata": {},
   "source": [
    "<div class=\"alert alert-info\"> <p2>\n",
    "Работа хороша! Я вижу, что ты хорошо разбираешься в теме. Ты показываешь хорошее владение всем изучаемым в модуле материалом. Осталось несколько небольших деталей, которые нужно исправить:\n",
    "\n",
    "1. Написать цикл заполнения пропусков\n",
    "2. Ответить на вопрос в пункте 3\n",
    "    \n",
    "Жду твоих исправлений :)\n",
    "</p2>\n",
    "</div>"
   ]
  }
 ],
 "metadata": {
  "ExecuteTimeLog": [
   {
    "duration": 3,
    "start_time": "2022-04-07T04:43:40.420Z"
   },
   {
    "duration": 65,
    "start_time": "2022-04-07T04:43:41.842Z"
   },
   {
    "duration": 159,
    "start_time": "2022-04-07T04:43:48.632Z"
   },
   {
    "duration": 11,
    "start_time": "2022-04-07T04:44:01.020Z"
   },
   {
    "duration": 29,
    "start_time": "2022-04-07T04:44:41.044Z"
   },
   {
    "duration": 4,
    "start_time": "2022-04-07T04:45:14.995Z"
   },
   {
    "duration": 4,
    "start_time": "2022-04-07T04:45:53.464Z"
   },
   {
    "duration": 22,
    "start_time": "2022-04-07T04:50:34.239Z"
   },
   {
    "duration": 21,
    "start_time": "2022-04-07T04:50:55.371Z"
   },
   {
    "duration": 22,
    "start_time": "2022-04-07T04:51:08.116Z"
   },
   {
    "duration": 4,
    "start_time": "2022-04-07T04:51:17.928Z"
   },
   {
    "duration": 3,
    "start_time": "2022-04-07T04:51:58.140Z"
   },
   {
    "duration": 5,
    "start_time": "2022-04-07T04:52:06.260Z"
   },
   {
    "duration": 11,
    "start_time": "2022-04-07T04:52:41.522Z"
   },
   {
    "duration": 82,
    "start_time": "2022-04-07T04:52:49.294Z"
   },
   {
    "duration": 78,
    "start_time": "2022-04-07T04:53:00.260Z"
   },
   {
    "duration": 48,
    "start_time": "2022-04-07T05:01:31.031Z"
   },
   {
    "duration": 72,
    "start_time": "2022-04-07T05:02:05.168Z"
   },
   {
    "duration": 4,
    "start_time": "2022-04-07T10:43:51.118Z"
   },
   {
    "duration": 4,
    "start_time": "2022-04-07T10:43:53.084Z"
   },
   {
    "duration": 4,
    "start_time": "2022-04-07T10:43:54.677Z"
   },
   {
    "duration": 33,
    "start_time": "2022-04-07T10:44:01.588Z"
   },
   {
    "duration": 27,
    "start_time": "2022-04-07T10:44:29.692Z"
   },
   {
    "duration": 497,
    "start_time": "2022-04-08T04:36:08.415Z"
   },
   {
    "duration": 198,
    "start_time": "2022-04-08T04:36:10.308Z"
   },
   {
    "duration": 27,
    "start_time": "2022-04-08T04:36:22.078Z"
   },
   {
    "duration": 41,
    "start_time": "2022-04-08T04:36:33.333Z"
   },
   {
    "duration": 6,
    "start_time": "2022-04-08T04:36:48.948Z"
   },
   {
    "duration": 5,
    "start_time": "2022-04-08T04:37:16.489Z"
   },
   {
    "duration": 6,
    "start_time": "2022-04-08T04:37:20.289Z"
   },
   {
    "duration": 5,
    "start_time": "2022-04-08T04:37:28.821Z"
   },
   {
    "duration": 36,
    "start_time": "2022-04-08T04:37:40.994Z"
   },
   {
    "duration": 44,
    "start_time": "2022-04-08T04:37:56.874Z"
   },
   {
    "duration": 34,
    "start_time": "2022-04-08T04:38:10.020Z"
   },
   {
    "duration": 59,
    "start_time": "2022-04-08T04:38:31.760Z"
   },
   {
    "duration": 33,
    "start_time": "2022-04-08T04:38:53.801Z"
   },
   {
    "duration": 36,
    "start_time": "2022-04-08T04:39:33.581Z"
   },
   {
    "duration": 37,
    "start_time": "2022-04-08T04:39:50.866Z"
   },
   {
    "duration": 98,
    "start_time": "2022-04-08T04:41:38.001Z"
   },
   {
    "duration": 100,
    "start_time": "2022-04-08T04:41:47.242Z"
   },
   {
    "duration": 122,
    "start_time": "2022-04-08T04:45:40.230Z"
   },
   {
    "duration": 105,
    "start_time": "2022-04-08T04:45:53.972Z"
   },
   {
    "duration": 86,
    "start_time": "2022-04-08T04:46:35.001Z"
   },
   {
    "duration": 12,
    "start_time": "2022-04-08T04:47:11.802Z"
   },
   {
    "duration": 19,
    "start_time": "2022-04-08T04:56:30.717Z"
   },
   {
    "duration": 12,
    "start_time": "2022-04-08T04:57:13.455Z"
   },
   {
    "duration": 13,
    "start_time": "2022-04-08T04:57:34.257Z"
   },
   {
    "duration": 11,
    "start_time": "2022-04-08T04:57:39.617Z"
   },
   {
    "duration": 5,
    "start_time": "2022-04-08T05:24:03.070Z"
   },
   {
    "duration": 9,
    "start_time": "2022-04-08T05:27:37.658Z"
   },
   {
    "duration": 12,
    "start_time": "2022-04-08T05:27:46.696Z"
   },
   {
    "duration": 4,
    "start_time": "2022-04-08T05:53:58.097Z"
   },
   {
    "duration": 9,
    "start_time": "2022-04-08T05:54:00.749Z"
   },
   {
    "duration": 11,
    "start_time": "2022-04-08T05:54:02.572Z"
   },
   {
    "duration": 522,
    "start_time": "2022-04-10T06:12:09.214Z"
   },
   {
    "duration": 214,
    "start_time": "2022-04-10T06:12:10.045Z"
   },
   {
    "duration": 28,
    "start_time": "2022-04-10T06:12:11.826Z"
   },
   {
    "duration": 45,
    "start_time": "2022-04-10T06:12:15.483Z"
   },
   {
    "duration": 5,
    "start_time": "2022-04-10T06:12:19.804Z"
   },
   {
    "duration": 5,
    "start_time": "2022-04-10T06:12:21.128Z"
   },
   {
    "duration": 6,
    "start_time": "2022-04-10T06:12:22.297Z"
   },
   {
    "duration": 32,
    "start_time": "2022-04-10T06:12:24.519Z"
   },
   {
    "duration": 3,
    "start_time": "2022-04-10T06:12:38.475Z"
   },
   {
    "duration": 494,
    "start_time": "2022-04-10T06:12:48.744Z"
   },
   {
    "duration": 202,
    "start_time": "2022-04-10T06:12:49.241Z"
   },
   {
    "duration": 26,
    "start_time": "2022-04-10T06:12:49.445Z"
   },
   {
    "duration": 42,
    "start_time": "2022-04-10T06:12:49.474Z"
   },
   {
    "duration": 27,
    "start_time": "2022-04-10T06:12:49.518Z"
   },
   {
    "duration": 9,
    "start_time": "2022-04-10T06:12:49.548Z"
   },
   {
    "duration": 9,
    "start_time": "2022-04-10T06:12:49.559Z"
   },
   {
    "duration": 35,
    "start_time": "2022-04-10T06:12:49.570Z"
   },
   {
    "duration": 65,
    "start_time": "2022-04-10T06:12:49.607Z"
   },
   {
    "duration": 37,
    "start_time": "2022-04-10T06:12:49.677Z"
   },
   {
    "duration": 114,
    "start_time": "2022-04-10T06:12:49.716Z"
   },
   {
    "duration": 133,
    "start_time": "2022-04-10T06:12:49.832Z"
   },
   {
    "duration": 103,
    "start_time": "2022-04-10T06:12:49.967Z"
   },
   {
    "duration": 11,
    "start_time": "2022-04-10T06:12:50.072Z"
   },
   {
    "duration": 10,
    "start_time": "2022-04-10T06:12:50.086Z"
   },
   {
    "duration": 13,
    "start_time": "2022-04-10T06:12:50.098Z"
   },
   {
    "duration": 39,
    "start_time": "2022-04-10T06:12:50.113Z"
   },
   {
    "duration": 3,
    "start_time": "2022-04-10T06:12:50.154Z"
   },
   {
    "duration": 8,
    "start_time": "2022-04-10T06:12:50.159Z"
   },
   {
    "duration": 7,
    "start_time": "2022-04-10T06:12:50.169Z"
   },
   {
    "duration": 10,
    "start_time": "2022-04-10T06:12:50.177Z"
   },
   {
    "duration": 12,
    "start_time": "2022-04-10T06:12:50.189Z"
   },
   {
    "duration": 39,
    "start_time": "2022-04-10T06:12:50.203Z"
   },
   {
    "duration": 6,
    "start_time": "2022-04-10T06:12:50.244Z"
   },
   {
    "duration": 9,
    "start_time": "2022-04-10T06:12:50.251Z"
   },
   {
    "duration": 11,
    "start_time": "2022-04-10T06:12:50.262Z"
   },
   {
    "duration": 6,
    "start_time": "2022-04-10T06:12:50.276Z"
   },
   {
    "duration": 5,
    "start_time": "2022-04-10T06:12:50.286Z"
   },
   {
    "duration": 8,
    "start_time": "2022-04-10T06:12:50.293Z"
   },
   {
    "duration": 11,
    "start_time": "2022-04-10T06:12:50.303Z"
   },
   {
    "duration": 27,
    "start_time": "2022-04-10T06:12:50.316Z"
   },
   {
    "duration": 11,
    "start_time": "2022-04-10T06:12:50.345Z"
   },
   {
    "duration": 12,
    "start_time": "2022-04-10T06:12:50.358Z"
   },
   {
    "duration": 15,
    "start_time": "2022-04-10T06:12:50.372Z"
   },
   {
    "duration": 22,
    "start_time": "2022-04-10T06:12:50.389Z"
   },
   {
    "duration": 12,
    "start_time": "2022-04-10T06:12:50.414Z"
   },
   {
    "duration": 13,
    "start_time": "2022-04-10T06:12:50.428Z"
   },
   {
    "duration": 13,
    "start_time": "2022-04-10T06:12:50.444Z"
   },
   {
    "duration": 11,
    "start_time": "2022-04-10T06:13:13.673Z"
   },
   {
    "duration": 652,
    "start_time": "2022-04-10T06:59:34.713Z"
   },
   {
    "duration": 256,
    "start_time": "2022-04-10T06:59:35.368Z"
   },
   {
    "duration": 39,
    "start_time": "2022-04-10T06:59:35.626Z"
   },
   {
    "duration": 39,
    "start_time": "2022-04-10T06:59:35.668Z"
   },
   {
    "duration": 5,
    "start_time": "2022-04-10T06:59:35.709Z"
   },
   {
    "duration": 4,
    "start_time": "2022-04-10T06:59:35.744Z"
   },
   {
    "duration": 8,
    "start_time": "2022-04-10T06:59:35.750Z"
   },
   {
    "duration": 36,
    "start_time": "2022-04-10T06:59:35.760Z"
   },
   {
    "duration": 66,
    "start_time": "2022-04-10T06:59:35.799Z"
   },
   {
    "duration": 37,
    "start_time": "2022-04-10T06:59:35.869Z"
   },
   {
    "duration": 114,
    "start_time": "2022-04-10T06:59:35.909Z"
   },
   {
    "duration": 132,
    "start_time": "2022-04-10T06:59:36.026Z"
   },
   {
    "duration": 93,
    "start_time": "2022-04-10T06:59:36.160Z"
   },
   {
    "duration": 11,
    "start_time": "2022-04-10T06:59:36.255Z"
   },
   {
    "duration": 4,
    "start_time": "2022-04-10T06:59:36.269Z"
   },
   {
    "duration": 11,
    "start_time": "2022-04-10T06:59:36.275Z"
   },
   {
    "duration": 13,
    "start_time": "2022-04-10T06:59:36.288Z"
   },
   {
    "duration": 40,
    "start_time": "2022-04-10T06:59:36.303Z"
   },
   {
    "duration": 4,
    "start_time": "2022-04-10T06:59:36.345Z"
   },
   {
    "duration": 8,
    "start_time": "2022-04-10T06:59:36.351Z"
   },
   {
    "duration": 11,
    "start_time": "2022-04-10T06:59:36.361Z"
   },
   {
    "duration": 10,
    "start_time": "2022-04-10T06:59:36.375Z"
   },
   {
    "duration": 9,
    "start_time": "2022-04-10T06:59:36.387Z"
   },
   {
    "duration": 7,
    "start_time": "2022-04-10T06:59:36.398Z"
   },
   {
    "duration": 37,
    "start_time": "2022-04-10T06:59:36.407Z"
   },
   {
    "duration": 7,
    "start_time": "2022-04-10T06:59:36.447Z"
   },
   {
    "duration": 5,
    "start_time": "2022-04-10T06:59:36.456Z"
   },
   {
    "duration": 5,
    "start_time": "2022-04-10T06:59:36.466Z"
   },
   {
    "duration": 6,
    "start_time": "2022-04-10T06:59:36.473Z"
   },
   {
    "duration": 6,
    "start_time": "2022-04-10T06:59:36.481Z"
   },
   {
    "duration": 7,
    "start_time": "2022-04-10T06:59:36.489Z"
   },
   {
    "duration": 46,
    "start_time": "2022-04-10T06:59:36.498Z"
   },
   {
    "duration": 8,
    "start_time": "2022-04-10T06:59:36.547Z"
   },
   {
    "duration": 6,
    "start_time": "2022-04-10T06:59:36.557Z"
   },
   {
    "duration": 7,
    "start_time": "2022-04-10T06:59:36.565Z"
   },
   {
    "duration": 7,
    "start_time": "2022-04-10T06:59:36.573Z"
   },
   {
    "duration": 5,
    "start_time": "2022-04-10T06:59:36.582Z"
   },
   {
    "duration": 6,
    "start_time": "2022-04-10T06:59:36.589Z"
   },
   {
    "duration": 46,
    "start_time": "2022-04-10T14:32:55.588Z"
   },
   {
    "duration": 412,
    "start_time": "2022-04-10T14:33:07.753Z"
   },
   {
    "duration": 146,
    "start_time": "2022-04-10T14:33:09.206Z"
   },
   {
    "duration": 2,
    "start_time": "2022-04-10T14:33:16.621Z"
   },
   {
    "duration": 146,
    "start_time": "2022-04-10T14:33:17.567Z"
   },
   {
    "duration": 15,
    "start_time": "2022-04-10T14:33:18.881Z"
   },
   {
    "duration": 29,
    "start_time": "2022-04-10T14:33:20.567Z"
   },
   {
    "duration": 4,
    "start_time": "2022-04-10T14:33:23.798Z"
   },
   {
    "duration": 3,
    "start_time": "2022-04-10T14:33:24.649Z"
   },
   {
    "duration": 4,
    "start_time": "2022-04-10T14:33:25.592Z"
   },
   {
    "duration": 25,
    "start_time": "2022-04-10T14:33:28.267Z"
   },
   {
    "duration": 31,
    "start_time": "2022-04-10T14:33:29.989Z"
   },
   {
    "duration": 28,
    "start_time": "2022-04-10T14:33:31.436Z"
   },
   {
    "duration": 64,
    "start_time": "2022-04-10T14:33:36.513Z"
   },
   {
    "duration": 83,
    "start_time": "2022-04-10T14:33:37.701Z"
   },
   {
    "duration": 55,
    "start_time": "2022-04-10T14:33:38.658Z"
   },
   {
    "duration": 7,
    "start_time": "2022-04-10T14:33:40.169Z"
   },
   {
    "duration": 3,
    "start_time": "2022-04-10T14:33:41.258Z"
   },
   {
    "duration": 7,
    "start_time": "2022-04-10T14:33:42.836Z"
   },
   {
    "duration": 8,
    "start_time": "2022-04-10T14:33:44.516Z"
   },
   {
    "duration": 26,
    "start_time": "2022-04-10T14:33:48.292Z"
   },
   {
    "duration": 3,
    "start_time": "2022-04-10T14:34:19.282Z"
   },
   {
    "duration": 29,
    "start_time": "2022-04-10T15:37:09.314Z"
   },
   {
    "duration": 31,
    "start_time": "2022-04-10T15:37:27.867Z"
   },
   {
    "duration": 13,
    "start_time": "2022-04-10T16:10:38.064Z"
   },
   {
    "duration": 10,
    "start_time": "2022-04-10T16:43:58.777Z"
   },
   {
    "duration": 12,
    "start_time": "2022-04-10T16:44:46.313Z"
   },
   {
    "duration": 10,
    "start_time": "2022-04-10T16:45:34.610Z"
   },
   {
    "duration": 14,
    "start_time": "2022-04-10T16:47:08.456Z"
   },
   {
    "duration": 7,
    "start_time": "2022-04-10T16:54:13.712Z"
   },
   {
    "duration": 140,
    "start_time": "2022-04-10T16:54:30.412Z"
   },
   {
    "duration": 5,
    "start_time": "2022-04-10T16:54:38.707Z"
   },
   {
    "duration": 14,
    "start_time": "2022-04-10T16:54:41.329Z"
   },
   {
    "duration": 18,
    "start_time": "2022-04-10T16:57:08.712Z"
   },
   {
    "duration": 186,
    "start_time": "2022-04-10T17:00:15.539Z"
   },
   {
    "duration": 84,
    "start_time": "2022-04-10T17:00:22.082Z"
   },
   {
    "duration": 134,
    "start_time": "2022-04-10T17:01:25.559Z"
   },
   {
    "duration": 77,
    "start_time": "2022-04-10T17:01:37.034Z"
   },
   {
    "duration": 70,
    "start_time": "2022-04-10T17:09:03.792Z"
   },
   {
    "duration": 11,
    "start_time": "2022-04-10T17:17:21.602Z"
   },
   {
    "duration": 110,
    "start_time": "2022-04-10T17:17:39.273Z"
   },
   {
    "duration": 57,
    "start_time": "2022-04-10T17:18:01.990Z"
   },
   {
    "duration": 50,
    "start_time": "2022-04-10T17:18:12.956Z"
   },
   {
    "duration": 107,
    "start_time": "2022-04-10T17:18:19.086Z"
   },
   {
    "duration": 37,
    "start_time": "2022-04-10T17:18:36.648Z"
   },
   {
    "duration": 76,
    "start_time": "2022-04-10T17:19:15.412Z"
   },
   {
    "duration": 80,
    "start_time": "2022-04-10T17:19:31.647Z"
   },
   {
    "duration": 9,
    "start_time": "2022-04-10T17:20:38.977Z"
   },
   {
    "duration": 100,
    "start_time": "2022-04-10T17:21:01.597Z"
   },
   {
    "duration": 70,
    "start_time": "2022-04-10T17:21:21.694Z"
   },
   {
    "duration": 4,
    "start_time": "2022-04-10T17:23:05.430Z"
   },
   {
    "duration": 8,
    "start_time": "2022-04-10T17:23:19.189Z"
   },
   {
    "duration": 8,
    "start_time": "2022-04-10T17:24:08.670Z"
   },
   {
    "duration": 9,
    "start_time": "2022-04-10T17:25:00.354Z"
   },
   {
    "duration": 5,
    "start_time": "2022-04-10T17:37:38.637Z"
   },
   {
    "duration": 7,
    "start_time": "2022-04-10T17:37:51.377Z"
   },
   {
    "duration": 11,
    "start_time": "2022-04-10T17:38:41.660Z"
   },
   {
    "duration": 9,
    "start_time": "2022-04-10T17:38:42.536Z"
   },
   {
    "duration": 5,
    "start_time": "2022-04-10T17:38:44.833Z"
   },
   {
    "duration": 19,
    "start_time": "2022-04-10T17:38:46.809Z"
   },
   {
    "duration": 13,
    "start_time": "2022-04-10T17:39:13.166Z"
   },
   {
    "duration": 17,
    "start_time": "2022-04-10T17:43:16.100Z"
   },
   {
    "duration": 13,
    "start_time": "2022-04-10T17:43:17.113Z"
   },
   {
    "duration": 10,
    "start_time": "2022-04-10T17:48:25.044Z"
   },
   {
    "duration": 5,
    "start_time": "2022-04-10T17:48:44.256Z"
   },
   {
    "duration": 8,
    "start_time": "2022-04-10T17:51:42.675Z"
   },
   {
    "duration": 6,
    "start_time": "2022-04-10T17:51:52.670Z"
   },
   {
    "duration": 7,
    "start_time": "2022-04-10T17:52:13.679Z"
   },
   {
    "duration": 5,
    "start_time": "2022-04-10T17:52:21.420Z"
   },
   {
    "duration": 6,
    "start_time": "2022-04-10T17:53:37.368Z"
   },
   {
    "duration": 439,
    "start_time": "2022-04-10T17:58:09.825Z"
   },
   {
    "duration": 137,
    "start_time": "2022-04-10T17:58:10.265Z"
   },
   {
    "duration": 18,
    "start_time": "2022-04-10T17:58:10.404Z"
   },
   {
    "duration": 35,
    "start_time": "2022-04-10T17:58:10.423Z"
   },
   {
    "duration": 4,
    "start_time": "2022-04-10T17:58:10.460Z"
   },
   {
    "duration": 7,
    "start_time": "2022-04-10T17:58:10.465Z"
   },
   {
    "duration": 9,
    "start_time": "2022-04-10T17:58:10.473Z"
   },
   {
    "duration": 27,
    "start_time": "2022-04-10T17:58:10.484Z"
   },
   {
    "duration": 47,
    "start_time": "2022-04-10T17:58:10.513Z"
   },
   {
    "duration": 28,
    "start_time": "2022-04-10T17:58:10.563Z"
   },
   {
    "duration": 81,
    "start_time": "2022-04-10T17:58:10.592Z"
   },
   {
    "duration": 93,
    "start_time": "2022-04-10T17:58:10.676Z"
   },
   {
    "duration": 60,
    "start_time": "2022-04-10T17:58:10.771Z"
   },
   {
    "duration": 8,
    "start_time": "2022-04-10T17:58:10.832Z"
   },
   {
    "duration": 19,
    "start_time": "2022-04-10T17:58:10.841Z"
   },
   {
    "duration": 11,
    "start_time": "2022-04-10T17:58:10.862Z"
   },
   {
    "duration": 10,
    "start_time": "2022-04-10T17:58:10.875Z"
   },
   {
    "duration": 17,
    "start_time": "2022-04-10T17:58:10.887Z"
   },
   {
    "duration": 17,
    "start_time": "2022-04-10T17:58:10.906Z"
   },
   {
    "duration": 5,
    "start_time": "2022-04-10T17:58:10.957Z"
   },
   {
    "duration": 99,
    "start_time": "2022-04-10T17:58:10.964Z"
   },
   {
    "duration": 9,
    "start_time": "2022-04-10T17:58:11.065Z"
   },
   {
    "duration": 17,
    "start_time": "2022-04-10T17:58:11.075Z"
   },
   {
    "duration": 9,
    "start_time": "2022-04-10T17:58:11.094Z"
   },
   {
    "duration": 4,
    "start_time": "2022-04-10T17:58:11.105Z"
   },
   {
    "duration": 48,
    "start_time": "2022-04-10T17:58:11.111Z"
   },
   {
    "duration": 13,
    "start_time": "2022-04-10T17:58:11.160Z"
   },
   {
    "duration": 15,
    "start_time": "2022-04-10T17:58:11.177Z"
   },
   {
    "duration": 11,
    "start_time": "2022-04-10T17:58:11.194Z"
   },
   {
    "duration": 8,
    "start_time": "2022-04-10T17:58:11.206Z"
   },
   {
    "duration": 5,
    "start_time": "2022-04-10T17:58:11.215Z"
   },
   {
    "duration": 37,
    "start_time": "2022-04-10T17:58:11.221Z"
   },
   {
    "duration": 4,
    "start_time": "2022-04-10T17:58:11.260Z"
   },
   {
    "duration": 429,
    "start_time": "2022-04-20T12:08:52.884Z"
   },
   {
    "duration": 156,
    "start_time": "2022-04-20T12:08:53.315Z"
   },
   {
    "duration": 16,
    "start_time": "2022-04-20T12:08:53.473Z"
   },
   {
    "duration": 39,
    "start_time": "2022-04-20T12:08:53.491Z"
   },
   {
    "duration": 7,
    "start_time": "2022-04-20T12:08:53.532Z"
   },
   {
    "duration": 17,
    "start_time": "2022-04-20T12:08:53.541Z"
   },
   {
    "duration": 16,
    "start_time": "2022-04-20T12:08:53.560Z"
   },
   {
    "duration": 28,
    "start_time": "2022-04-20T12:08:53.577Z"
   },
   {
    "duration": 26,
    "start_time": "2022-04-20T12:08:53.606Z"
   },
   {
    "duration": 31,
    "start_time": "2022-04-20T12:08:53.635Z"
   },
   {
    "duration": 72,
    "start_time": "2022-04-20T12:08:53.668Z"
   },
   {
    "duration": 99,
    "start_time": "2022-04-20T12:08:53.741Z"
   },
   {
    "duration": 62,
    "start_time": "2022-04-20T12:08:53.842Z"
   },
   {
    "duration": 22,
    "start_time": "2022-04-20T12:08:53.906Z"
   },
   {
    "duration": 4,
    "start_time": "2022-04-20T12:08:53.930Z"
   },
   {
    "duration": 15,
    "start_time": "2022-04-20T12:08:53.936Z"
   },
   {
    "duration": 8,
    "start_time": "2022-04-20T12:08:53.953Z"
   },
   {
    "duration": 14,
    "start_time": "2022-04-20T12:08:53.963Z"
   },
   {
    "duration": 46,
    "start_time": "2022-04-20T12:08:53.979Z"
   },
   {
    "duration": 4,
    "start_time": "2022-04-20T12:08:54.028Z"
   },
   {
    "duration": 109,
    "start_time": "2022-04-20T12:08:54.034Z"
   },
   {
    "duration": 10,
    "start_time": "2022-04-20T12:08:54.145Z"
   },
   {
    "duration": 13,
    "start_time": "2022-04-20T12:08:54.156Z"
   },
   {
    "duration": 11,
    "start_time": "2022-04-20T12:08:54.171Z"
   },
   {
    "duration": 4,
    "start_time": "2022-04-20T12:08:54.184Z"
   },
   {
    "duration": 18,
    "start_time": "2022-04-20T12:08:54.222Z"
   },
   {
    "duration": 11,
    "start_time": "2022-04-20T12:08:54.242Z"
   },
   {
    "duration": 15,
    "start_time": "2022-04-20T12:08:54.257Z"
   },
   {
    "duration": 12,
    "start_time": "2022-04-20T12:08:54.274Z"
   },
   {
    "duration": 38,
    "start_time": "2022-04-20T12:08:54.288Z"
   },
   {
    "duration": 5,
    "start_time": "2022-04-20T12:08:54.328Z"
   },
   {
    "duration": 7,
    "start_time": "2022-04-20T12:08:54.335Z"
   },
   {
    "duration": 10,
    "start_time": "2022-04-20T12:08:54.344Z"
   },
   {
    "duration": 70,
    "start_time": "2022-04-20T16:58:57.926Z"
   },
   {
    "duration": 107,
    "start_time": "2022-04-20T16:59:01.026Z"
   },
   {
    "duration": 74,
    "start_time": "2022-04-20T17:00:04.147Z"
   },
   {
    "duration": 1806,
    "start_time": "2022-04-20T17:00:35.107Z"
   },
   {
    "duration": 191,
    "start_time": "2022-04-21T05:07:54.911Z"
   },
   {
    "duration": 189,
    "start_time": "2022-04-21T05:08:18.774Z"
   },
   {
    "duration": 45,
    "start_time": "2022-04-21T05:50:51.290Z"
   },
   {
    "duration": 434,
    "start_time": "2022-04-21T05:51:31.502Z"
   },
   {
    "duration": 169,
    "start_time": "2022-04-21T05:51:31.938Z"
   },
   {
    "duration": 16,
    "start_time": "2022-04-21T05:51:32.109Z"
   },
   {
    "duration": 27,
    "start_time": "2022-04-21T05:51:32.127Z"
   },
   {
    "duration": 3,
    "start_time": "2022-04-21T05:51:32.156Z"
   },
   {
    "duration": 4,
    "start_time": "2022-04-21T05:51:32.161Z"
   },
   {
    "duration": 6,
    "start_time": "2022-04-21T05:51:32.166Z"
   },
   {
    "duration": 51,
    "start_time": "2022-04-21T05:51:32.173Z"
   },
   {
    "duration": 21,
    "start_time": "2022-04-21T05:51:32.225Z"
   },
   {
    "duration": 25,
    "start_time": "2022-04-21T05:51:32.248Z"
   },
   {
    "duration": 85,
    "start_time": "2022-04-21T05:51:32.274Z"
   },
   {
    "duration": 72,
    "start_time": "2022-04-21T05:51:32.361Z"
   },
   {
    "duration": 53,
    "start_time": "2022-04-21T05:51:32.434Z"
   },
   {
    "duration": 6,
    "start_time": "2022-04-21T05:51:32.489Z"
   },
   {
    "duration": 3,
    "start_time": "2022-04-21T05:51:32.497Z"
   },
   {
    "duration": 32,
    "start_time": "2022-04-21T05:51:32.502Z"
   },
   {
    "duration": 8,
    "start_time": "2022-04-21T05:51:32.535Z"
   },
   {
    "duration": 17,
    "start_time": "2022-04-21T05:51:32.545Z"
   },
   {
    "duration": 12,
    "start_time": "2022-04-21T05:51:32.563Z"
   },
   {
    "duration": 4,
    "start_time": "2022-04-21T05:51:32.576Z"
   },
   {
    "duration": 109,
    "start_time": "2022-04-21T05:51:32.581Z"
   },
   {
    "duration": 8,
    "start_time": "2022-04-21T05:51:32.692Z"
   },
   {
    "duration": 31,
    "start_time": "2022-04-21T05:51:32.701Z"
   },
   {
    "duration": 9,
    "start_time": "2022-04-21T05:51:32.734Z"
   },
   {
    "duration": 4,
    "start_time": "2022-04-21T05:51:32.745Z"
   },
   {
    "duration": 20,
    "start_time": "2022-04-21T05:51:32.751Z"
   },
   {
    "duration": 11,
    "start_time": "2022-04-21T05:51:32.773Z"
   },
   {
    "duration": 47,
    "start_time": "2022-04-21T05:51:32.788Z"
   },
   {
    "duration": 11,
    "start_time": "2022-04-21T05:51:32.836Z"
   },
   {
    "duration": 12,
    "start_time": "2022-04-21T05:51:32.848Z"
   },
   {
    "duration": 5,
    "start_time": "2022-04-21T05:51:32.861Z"
   },
   {
    "duration": 7,
    "start_time": "2022-04-21T05:51:32.867Z"
   },
   {
    "duration": 8,
    "start_time": "2022-04-21T05:51:32.875Z"
   },
   {
    "duration": 23,
    "start_time": "2022-04-21T05:52:14.462Z"
   },
   {
    "duration": 26,
    "start_time": "2022-04-21T05:53:14.346Z"
   },
   {
    "duration": 14,
    "start_time": "2022-04-21T05:54:10.188Z"
   },
   {
    "duration": 186,
    "start_time": "2022-04-21T05:56:59.204Z"
   },
   {
    "duration": 6,
    "start_time": "2022-04-21T05:57:57.058Z"
   },
   {
    "duration": 10,
    "start_time": "2022-04-21T05:58:10.638Z"
   },
   {
    "duration": 39,
    "start_time": "2022-04-21T05:58:49.105Z"
   },
   {
    "duration": 192,
    "start_time": "2022-04-21T06:06:03.067Z"
   },
   {
    "duration": 41,
    "start_time": "2022-04-21T06:09:42.432Z"
   },
   {
    "duration": 79,
    "start_time": "2022-04-21T06:12:06.307Z"
   },
   {
    "duration": 83,
    "start_time": "2022-04-21T06:12:12.079Z"
   },
   {
    "duration": 71,
    "start_time": "2022-04-21T06:12:29.077Z"
   },
   {
    "duration": 15,
    "start_time": "2022-04-21T06:17:33.245Z"
   },
   {
    "duration": 24,
    "start_time": "2022-04-21T06:17:37.231Z"
   },
   {
    "duration": 403,
    "start_time": "2022-04-21T18:25:38.031Z"
   },
   {
    "duration": 618,
    "start_time": "2022-04-21T18:25:38.436Z"
   },
   {
    "duration": 16,
    "start_time": "2022-04-21T18:25:39.056Z"
   },
   {
    "duration": 30,
    "start_time": "2022-04-21T18:25:39.074Z"
   },
   {
    "duration": 4,
    "start_time": "2022-04-21T18:25:39.122Z"
   },
   {
    "duration": 4,
    "start_time": "2022-04-21T18:25:39.128Z"
   },
   {
    "duration": 6,
    "start_time": "2022-04-21T18:25:39.133Z"
   },
   {
    "duration": 28,
    "start_time": "2022-04-21T18:25:39.141Z"
   },
   {
    "duration": 17,
    "start_time": "2022-04-21T18:25:39.171Z"
   },
   {
    "duration": 51,
    "start_time": "2022-04-21T18:25:39.191Z"
   },
   {
    "duration": 79,
    "start_time": "2022-04-21T18:25:39.243Z"
   },
   {
    "duration": 66,
    "start_time": "2022-04-21T18:25:39.324Z"
   },
   {
    "duration": 71,
    "start_time": "2022-04-21T18:25:39.392Z"
   },
   {
    "duration": 38,
    "start_time": "2022-04-21T18:25:39.464Z"
   },
   {
    "duration": 3,
    "start_time": "2022-04-21T18:25:39.504Z"
   },
   {
    "duration": 20,
    "start_time": "2022-04-21T18:25:39.508Z"
   },
   {
    "duration": 40,
    "start_time": "2022-04-21T18:25:39.529Z"
   },
   {
    "duration": 11,
    "start_time": "2022-04-21T18:25:39.571Z"
   },
   {
    "duration": 12,
    "start_time": "2022-04-21T18:25:39.583Z"
   },
   {
    "duration": 3,
    "start_time": "2022-04-21T18:25:39.596Z"
   },
   {
    "duration": 75,
    "start_time": "2022-04-21T18:25:39.623Z"
   },
   {
    "duration": 30,
    "start_time": "2022-04-21T18:25:39.699Z"
   },
   {
    "duration": 12,
    "start_time": "2022-04-21T18:25:39.731Z"
   },
   {
    "duration": 9,
    "start_time": "2022-04-21T18:25:39.745Z"
   },
   {
    "duration": 4,
    "start_time": "2022-04-21T18:25:39.756Z"
   },
   {
    "duration": 21,
    "start_time": "2022-04-21T18:25:39.762Z"
   },
   {
    "duration": 44,
    "start_time": "2022-04-21T18:25:39.785Z"
   },
   {
    "duration": 17,
    "start_time": "2022-04-21T18:25:39.833Z"
   },
   {
    "duration": 12,
    "start_time": "2022-04-21T18:25:39.852Z"
   },
   {
    "duration": 9,
    "start_time": "2022-04-21T18:25:39.865Z"
   },
   {
    "duration": 8,
    "start_time": "2022-04-21T18:25:39.875Z"
   },
   {
    "duration": 39,
    "start_time": "2022-04-21T18:25:39.884Z"
   },
   {
    "duration": 4,
    "start_time": "2022-04-21T18:25:39.925Z"
   }
  ],
  "colab": {
   "collapsed_sections": [
    "E0vqbgi9ay0H",
    "VUC88oWjTJw2"
   ],
   "name": "yandex_music_project.ipynb",
   "provenance": []
  },
  "kernelspec": {
   "display_name": "Python 3 (ipykernel)",
   "language": "python",
   "name": "python3"
  },
  "language_info": {
   "codemirror_mode": {
    "name": "ipython",
    "version": 3
   },
   "file_extension": ".py",
   "mimetype": "text/x-python",
   "name": "python",
   "nbconvert_exporter": "python",
   "pygments_lexer": "ipython3",
   "version": "3.9.12"
  },
  "toc": {
   "base_numbering": 1,
   "nav_menu": {},
   "number_sections": true,
   "sideBar": true,
   "skip_h1_title": true,
   "title_cell": "Table of Contents",
   "title_sidebar": "Contents",
   "toc_cell": false,
   "toc_position": {},
   "toc_section_display": true,
   "toc_window_display": true
  }
 },
 "nbformat": 4,
 "nbformat_minor": 1
}
