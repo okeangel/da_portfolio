{
 "cells": [
  {
   "cell_type": "code",
   "execution_count": 1,
   "id": "7e7f76e6",
   "metadata": {},
   "outputs": [],
   "source": [
    "import json\n",
    "import pathlib\n",
    "import collections"
   ]
  },
  {
   "cell_type": "code",
   "execution_count": 2,
   "id": "3c51307d",
   "metadata": {},
   "outputs": [],
   "source": [
    "def get_keys_text(source):\n",
    "    \"\"\"Count keys used in all dictionnaries.\n",
    "    \n",
    "    For list of dicts.\n",
    "    \"\"\"\n",
    "    keys = collections.Counter()\n",
    "    for item in source:\n",
    "        keys.update(d.keys())\n",
    "    lines = []\n",
    "    for key, value in keys.most_common():\n",
    "        lines.append('{} : {}'.format(key, value))\n",
    "    return '\\n'.join(lines)"
   ]
  },
  {
   "cell_type": "code",
   "execution_count": 3,
   "id": "d96a3826",
   "metadata": {},
   "outputs": [],
   "source": [
    "draft_storage = pathlib.Path('C:/users/okean/code/operatto/var/mover/support/me/drafts/')\n",
    "\n",
    "drafts = []\n",
    "for path in list(draft_storage.iterdir()):\n",
    "    draft = json.loads(path.read_text(encoding='utf-8'))\n",
    "    drafts.append(draft)"
   ]
  },
  {
   "cell_type": "code",
   "execution_count": 4,
   "id": "9b180f8a",
   "metadata": {},
   "outputs": [
    {
     "data": {
      "text/plain": [
       "['id',\n",
       " 'fixed_discount',\n",
       " 'percent_discount',\n",
       " 'search_try',\n",
       " 'taxi',\n",
       " 'assembly',\n",
       " 'nearest',\n",
       " 'repeatable_search',\n",
       " 'pending_search',\n",
       " 'delivery',\n",
       " 'manual_search',\n",
       " 'cargo_storage',\n",
       " 'test',\n",
       " 'is_freighters_draft',\n",
       " 'auto_accept_taxi',\n",
       " 'auto_assigment_crew',\n",
       " 'auto_external_search',\n",
       " 'updated_at',\n",
       " 'created_at',\n",
       " 'comment',\n",
       " 'pay_method',\n",
       " 'taxi_schema',\n",
       " 'static_map',\n",
       " 'calculation',\n",
       " 'client',\n",
       " 'points',\n",
       " 'orders',\n",
       " 'delivery_products',\n",
       " 'search_employee_statuses',\n",
       " 'delivery_tracks',\n",
       " 'destinations',\n",
       " 'features',\n",
       " 'employer_filters',\n",
       " 'crew_filters',\n",
       " 'freighter_filters',\n",
       " 'city',\n",
       " 'areas',\n",
       " 'insurances',\n",
       " 'time_at_way',\n",
       " 'loaders',\n",
       " 'distance',\n",
       " 'out_mkad_distance',\n",
       " 'entry_ttk',\n",
       " 'cost',\n",
       " 'taxi_search',\n",
       " 'avoid_ttk',\n",
       " 'extra_search_params',\n",
       " 'delivery_time_slot_begin',\n",
       " 'delivery_time_slot_end',\n",
       " 'delivery_status',\n",
       " 'start_delivery_search_at',\n",
       " 'delivery_schema',\n",
       " 'delivery_company_client',\n",
       " 'legal_entity',\n",
       " 'notes',\n",
       " 'intercom_dialog',\n",
       " 'minutes',\n",
       " 'custom_minutes',\n",
       " 'delivery_storehouse_arrival',\n",
       " 'delivery_schedule',\n",
       " 'total_cost',\n",
       " 'freighter_external_id',\n",
       " 'external_freighter',\n",
       " 'taxi_loaders_schema',\n",
       " 'pay_method_option']"
      ]
     },
     "execution_count": 4,
     "metadata": {},
     "output_type": "execute_result"
    }
   ],
   "source": [
    "[\n",
    "    # int\n",
    "    'id', 'fixed_discount', 'percent_discount', 'search_try',\n",
    "\n",
    "    # bool\n",
    "    'taxi', 'assembly', 'nearest', 'repeatable_search', 'pending_search', 'delivery', 'manual_search', 'cargo_storage',\n",
    "    'test', 'is_freighters_draft', 'auto_accept_taxi', 'auto_assigment_crew', 'auto_external_search',\n",
    "\n",
    "    # timestamp\n",
    "    'updated_at', 'created_at',\n",
    "    \n",
    "    # str\n",
    "    'comment', 'pay_method', 'taxi_schema',\n",
    "    \n",
    "    # dict\n",
    "    'static_map', 'calculation', 'client',\n",
    "    \n",
    "    # list\n",
    "    'points', 'orders', 'delivery_products', 'search_employee_statuses', 'delivery_tracks', 'destinations',\n",
    "    #'photos',\n",
    "\n",
    "    'features', 'employer_filters', 'crew_filters', 'freighter_filters', 'city', 'areas', 'insurances',\n",
    "    'time_at_way', 'loaders', 'distance', 'out_mkad_distance', 'entry_ttk', 'cost', 'taxi_search', 'avoid_ttk',\n",
    "    'extra_search_params', 'delivery_time_slot_begin', 'delivery_time_slot_end', 'delivery_status',\n",
    "    'start_delivery_search_at', 'delivery_schema', 'delivery_company_client', 'legal_entity', 'notes', 'intercom_dialog',\n",
    "    'minutes', 'custom_minutes', 'delivery_storehouse_arrival', 'delivery_schedule', 'total_cost', 'freighter_external_id',\n",
    "    'external_freighter', 'taxi_loaders_schema', 'pay_method_option',\n",
    "]"
   ]
  },
  {
   "cell_type": "code",
   "execution_count": null,
   "id": "75abad25",
   "metadata": {},
   "outputs": [],
   "source": []
  }
 ],
 "metadata": {
  "kernelspec": {
   "display_name": "Python 3 (ipykernel)",
   "language": "python",
   "name": "python3"
  },
  "language_info": {
   "codemirror_mode": {
    "name": "ipython",
    "version": 3
   },
   "file_extension": ".py",
   "mimetype": "text/x-python",
   "name": "python",
   "nbconvert_exporter": "python",
   "pygments_lexer": "ipython3",
   "version": "3.10.6"
  },
  "toc": {
   "base_numbering": 1,
   "nav_menu": {},
   "number_sections": true,
   "sideBar": true,
   "skip_h1_title": true,
   "title_cell": "Содержание",
   "title_sidebar": "Содержание",
   "toc_cell": false,
   "toc_position": {},
   "toc_section_display": true,
   "toc_window_display": false
  }
 },
 "nbformat": 4,
 "nbformat_minor": 5
}
