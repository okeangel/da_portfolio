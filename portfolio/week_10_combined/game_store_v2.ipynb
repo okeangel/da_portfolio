{
 "cells": [
  {
   "cell_type": "markdown",
   "id": "08569e16",
   "metadata": {},
   "source": [
    "Привет Александр! \n",
    "\n",
    "Меня тоже зовут Александр (Непомнящий) и я буду проверять твой проект. Предлагаю общаться на «ты» :))) Но, если это не удобно - мы вполне можем перейти на вы\".\n",
    "\n",
    "Вкратце обо мне: я работаю в сфере информационных технологий, аналитика (анализ) данных - это и мой рабочий функционал и личная, интересная мне область для саморазвития. Используемый стек: python, pandas, графические библиотеки matplotlib/seaborn/plotly. Сфера применения: маркетинговая аналитика в медицинской клинике. Если вдруг есть вопрос – что делает аналитик в коммерческой медицине – то вот короткий ответ. Самый главный вопрос, на который мы хотим получить ответ (и который в дальнейшем приведёт к перераспределению рекламного бюджета, плюс напрямую повлияет на разработку и предложению рынку новых лечебных программ) - это КТО ОН, НАШ КЛИЕНТ? Фактически это задача (на нашем внутреннем языке формулируется как построение и анализ «ПОРТРЕТА КЛИЕНТА»). Визуализируем и пытаемся придать смысл половозрастным данным наших клиентов, кто из какого региона и в какие времена года к нам приезжает. Учитываем количество приездов. Учитываем на какую программу этот конкретный клиент приехал в первый раз и как в дальнейшем меняются его предпочтения. Пытаемся построить модель оттока и спрогнозировать, когда клиент уйдёт в отток. Смотрим цифры (суммы трат клиентов на отдельных группах медицинских программ). Анализируем медицинские услуги, которые входят в путёвку, а также что, в каких количествах и на какую сумму клиент покупает дополнительно. Очень вкратце как-то так.\n",
    "\n",
    "Теперь к сути: основная цель моей проверки - пройти по шагам, по логике твоего решения и обсудить те моменты, которые можно изменить, улучшить, довести до идеала. Такой формат работы двух программистов (аналитиков) ты или уже встречал(а), или встретишь на своей новой работе. Кто-то такой процесс называет \"код-ревью\", ну а как по мне, так это обмен опытом двух коллег, когда каждый из нас становиться лучше в процессе дискуссии.\n",
    "\n",
    "Свои мысли, советы, комментарии и вопросы я буду оставлять в текстовых ячейках (markdown) ПОД твоим кодом. \n",
    "Для твоего удобства все эти заметки будут \"цветными\", как на примерах ниже:\n",
    "\n",
    "\"Зелеными\" комментариями я буду отмечать твой элегантный (\"красивый\") код и/или удачные решения, на которые ты можешь смело опираться в будущих проектах.\n",
    "<div class=\"alert alert-success\">\n",
    "<b>Отлично! 👍</b>\n",
    "\n",
    "Отличная находка, элегантный код ...</div>\n",
    "\n",
    "\"Жёлтые\" комментарии - это мои размышления, предложения, что-то, что в следующий раз можно сделать по-другому. \"Жёлтые\" комментарии не требуют твоих правок в проекте и их наличие НИКАК не повлияет на результат моей проверки. Но я искренне верю, что наш двусторонний диалог под \"желтым\" комментарием - это то, от чего твой проект только выиграет. \n",
    "<div class=\"alert alert-warning\">\n",
    "<b>Комментарий 👉</b>\n",
    "\n",
    "Здесь я бы предложил использовать .... Мои аргументы в пользу этого ...</div>\n",
    "\n",
    "\"Красные\" комментарий будут появляться, когда что-то пойдёт не так: например, код будет выдавать ошибку. Или, когда в проекте не будет ответов на основные вопросы, ради которых весь анализ и выполнялся. \"Красные\" комментарии необходимо будет исправить, прежде чем я смогу принять проект.\n",
    "<div class=\"alert alert-danger\">\n",
    "<b>Необходимо исправить ❌</b>\n",
    "\n",
    "В этой ячейке код работает не так как задумано ...</div>\n",
    "\n",
    "Пожалуйста, не перемещай, не изменяй и не удаляй мои комментарии. Это поможет мне оперативно выполнить повторную проверку твоего проекта.\n",
    "\n",
    "Давай работать над проектом в диалоге: если ты что-то меняешь в проекте по моим рекомендациям — пиши об этом, лучше всего в новой ячейке, сразу под моим комментарием. Если для своих комментариев ты будешь использовать какой-то заметный цвет, то мне будет легче отследить твои изменения, например так:\n",
    "\n",
    "<div style=\"background: #B0E0E6; padding: 5px; border: 1px solid SteelBlue; border-radius: 5px;\">\n",
    "    <font color='4682B4'><u><b>КОММЕНТАРИЙ СТУДЕНТА</b></u></font>\n",
    "    <br />\n",
    "    <font color='4682B4'>Текст твоего комментария ...</font>\n",
    "</div>\n",
    "\n",
    "Ну и наконец информируй меня в том случае, если по твоему проекту подходит дедлайн! В таком случае я приложу усилия, чтобы ты сдал(а) его вовремя; буду оперативно, в приоритете проверять итерации ревью, а также отвечать на твои вопросы, если этого будет требовать ситуация.\n",
    "\n",
    "**Распространенные недочёты в проектах:**\n",
    "\n",
    "<div class=\"alert alert-danger\" ❌>\n",
    "Неработоспособный код. Проверь проект на работоспособность перед отправкой на проверку. Это важный навык, который тебе пригодится как на собеседовании, при выполнении тестового задания, так и перед совещанием у руководства компании.</div>\n",
    "\n",
    "<div class=\"alert alert-danger\" ❌>\n",
    "Проект не структурирован. В проекте должна быть структура, т.е. названия разделов и подразделов должны быть записаны в ячейках Markdown.</div>\n",
    "\n",
    "<div class=\"alert alert-warning\" 👉 >\n",
    "Отсутствие описания, целей проекта, его задач, выводов. В описании должны быть озвучены поставленные задачи, содержание датасета, промежуточные и финальные выводы. Как правило, заказчик читает только финальный вывод, поэтому важно добавить информацию о проведенном исследовании, применить форматирование текста, в общем, сделать красиво, чтобы было понятно, что проведено настоящее исследование и выводу можно верить.</div>  \n",
    "\n",
    "<div class=\"alert alert-warning\" 👉 >\n",
    "\"Длинный код\". Код и и комментарии, которые прячутся за правым концом ячейки нужно переносить на новую строку. Твои будущие коллеги не оценят необходимость постоянного скроллинга. Согласно PEP8: https://www.python.org/dev/peps/pep-0008/ длина строки не должна превышать 79 символов.</div>\n",
    "\n",
    "<div class=\"alert alert-warning\" 👉 >\n",
    "Твои коллеги ценят и твое и своё время, поэтому \"подсвечивай\" свои комментарии в ячейках Markdown. Подробнее про синтаксис Markdown, с примерами, можно почитать здесь: https://paulradzkov.com/2014/markdown_cheatsheet/?</div>\n"
   ]
  },
  {
   "cell_type": "markdown",
   "id": "fa5fce91",
   "metadata": {},
   "source": [
    "# Поиск признаков успешной игры"
   ]
  },
  {
   "cell_type": "markdown",
   "id": "d1db17f5",
   "metadata": {},
   "source": [
    "Учебный проект по специальности \"аналитик данных\", 10-я неделя обучения.\n",
    "\n",
    "Тема: итоговый проект по базовым навыкам анализа данных.\n",
    "\n",
    "Автор: Александр Лагутин.\n",
    "\n",
    "Начат: 6 июня 2022 г в 07:20.\n",
    "Завершён: 17 июня 2022 г в 10:45.\n",
    "\n",
    "Время подготовки: 12 рабочих часов (2 рабочих дня)."
   ]
  },
  {
   "cell_type": "markdown",
   "id": "9f82b4b6",
   "metadata": {
    "toc": true
   },
   "source": [
    "<h1>Содержание<span class=\"tocSkip\"></span></h1>\n",
    "<div class=\"toc\"><ul class=\"toc-item\"><li><span><a href=\"#Описание-проекта\" data-toc-modified-id=\"Описание-проекта-1\"><span class=\"toc-item-num\">1&nbsp;&nbsp;</span>Описание проекта</a></span><ul class=\"toc-item\"><li><span><a href=\"#Заказчик\" data-toc-modified-id=\"Заказчик-1.1\"><span class=\"toc-item-num\">1.1&nbsp;&nbsp;</span>Заказчик</a></span></li><li><span><a href=\"#Задача\" data-toc-modified-id=\"Задача-1.2\"><span class=\"toc-item-num\">1.2&nbsp;&nbsp;</span>Задача</a></span></li><li><span><a href=\"#Входные-данные\" data-toc-modified-id=\"Входные-данные-1.3\"><span class=\"toc-item-num\">1.3&nbsp;&nbsp;</span>Входные данные</a></span><ul class=\"toc-item\"><li><span><a href=\"#Термины\" data-toc-modified-id=\"Термины-1.3.1\"><span class=\"toc-item-num\">1.3.1&nbsp;&nbsp;</span>Термины</a></span></li><li><span><a href=\"#Описание-данных\" data-toc-modified-id=\"Описание-данных-1.3.2\"><span class=\"toc-item-num\">1.3.2&nbsp;&nbsp;</span>Описание данных</a></span></li></ul></li><li><span><a href=\"#План-работы\" data-toc-modified-id=\"План-работы-1.4\"><span class=\"toc-item-num\">1.4&nbsp;&nbsp;</span>План работы</a></span></li><li><span><a href=\"#Инструменты\" data-toc-modified-id=\"Инструменты-1.5\"><span class=\"toc-item-num\">1.5&nbsp;&nbsp;</span>Инструменты</a></span><ul class=\"toc-item\"><li><span><a href=\"#Импорт-библиотек\" data-toc-modified-id=\"Импорт-библиотек-1.5.1\"><span class=\"toc-item-num\">1.5.1&nbsp;&nbsp;</span>Импорт библиотек</a></span></li><li><span><a href=\"#Определения-констант\" data-toc-modified-id=\"Определения-констант-1.5.2\"><span class=\"toc-item-num\">1.5.2&nbsp;&nbsp;</span>Определения констант</a></span></li><li><span><a href=\"#Определения-чистых-функций\" data-toc-modified-id=\"Определения-чистых-функций-1.5.3\"><span class=\"toc-item-num\">1.5.3&nbsp;&nbsp;</span>Определения чистых функций</a></span></li><li><span><a href=\"#Определения-команд\" data-toc-modified-id=\"Определения-команд-1.5.4\"><span class=\"toc-item-num\">1.5.4&nbsp;&nbsp;</span>Определения команд</a></span></li></ul></li></ul></li><li><span><a href=\"#Обзор-и-подготовка-данных\" data-toc-modified-id=\"Обзор-и-подготовка-данных-2\"><span class=\"toc-item-num\">2&nbsp;&nbsp;</span>Обзор и подготовка данных</a></span><ul class=\"toc-item\"><li><span><a href=\"#Загрузка-данных\" data-toc-modified-id=\"Загрузка-данных-2.1\"><span class=\"toc-item-num\">2.1&nbsp;&nbsp;</span>Загрузка данных</a></span></li><li><span><a href=\"#Замена-имён-колонок\" data-toc-modified-id=\"Замена-имён-колонок-2.2\"><span class=\"toc-item-num\">2.2&nbsp;&nbsp;</span>Замена имён колонок</a></span></li><li><span><a href=\"#Поиск-дубликатов-строк\" data-toc-modified-id=\"Поиск-дубликатов-строк-2.3\"><span class=\"toc-item-num\">2.3&nbsp;&nbsp;</span>Поиск дубликатов строк</a></span></li><li><span><a href=\"#Исследование-пропусков\" data-toc-modified-id=\"Исследование-пропусков-2.4\"><span class=\"toc-item-num\">2.4&nbsp;&nbsp;</span>Исследование пропусков</a></span></li><li><span><a href=\"#Преобразования-типов\" data-toc-modified-id=\"Преобразования-типов-2.5\"><span class=\"toc-item-num\">2.5&nbsp;&nbsp;</span>Преобразования типов</a></span></li><li><span><a href=\"#Добавление-суммы-продаж-по-всем-регионам\" data-toc-modified-id=\"Добавление-суммы-продаж-по-всем-регионам-2.6\"><span class=\"toc-item-num\">2.6&nbsp;&nbsp;</span>Добавление суммы продаж по всем регионам</a></span></li><li><span><a href=\"#Итоги-обзора-и-подготовки-данных\" data-toc-modified-id=\"Итоги-обзора-и-подготовки-данных-2.7\"><span class=\"toc-item-num\">2.7&nbsp;&nbsp;</span>Итоги обзора и подготовки данных</a></span></li></ul></li><li><span><a href=\"#Исследовательский-анализ-данных\" data-toc-modified-id=\"Исследовательский-анализ-данных-3\"><span class=\"toc-item-num\">3&nbsp;&nbsp;</span>Исследовательский анализ данных</a></span><ul class=\"toc-item\"><li><span><a href=\"#История-рынка\" data-toc-modified-id=\"История-рынка-3.1\"><span class=\"toc-item-num\">3.1&nbsp;&nbsp;</span>История рынка</a></span><ul class=\"toc-item\"><li><span><a href=\"#Выпуск-и-продажи-по-годам\" data-toc-modified-id=\"Выпуск-и-продажи-по-годам-3.1.1\"><span class=\"toc-item-num\">3.1.1&nbsp;&nbsp;</span>Выпуск и продажи по годам</a></span></li></ul></li><li><span><a href=\"#Выбираем-актуальные-данные-и-назначаем-им-веса\" data-toc-modified-id=\"Выбираем-актуальные-данные-и-назначаем-им-веса-3.2\"><span class=\"toc-item-num\">3.2&nbsp;&nbsp;</span>Выбираем актуальные данные и назначаем им веса</a></span><ul class=\"toc-item\"><li><span><a href=\"#Продажи-по-платформам\" data-toc-modified-id=\"Продажи-по-платформам-3.2.1\"><span class=\"toc-item-num\">3.2.1&nbsp;&nbsp;</span>Продажи по платформам</a></span><ul class=\"toc-item\"><li><span><a href=\"#В-истории\" data-toc-modified-id=\"В-истории-3.2.1.1\"><span class=\"toc-item-num\">3.2.1.1&nbsp;&nbsp;</span>В истории</a></span></li><li><span><a href=\"#Актуальные\" data-toc-modified-id=\"Актуальные-3.2.1.2\"><span class=\"toc-item-num\">3.2.1.2&nbsp;&nbsp;</span>Актуальные</a></span></li></ul></li><li><span><a href=\"#Продажи-по-жанрам\" data-toc-modified-id=\"Продажи-по-жанрам-3.2.2\"><span class=\"toc-item-num\">3.2.2&nbsp;&nbsp;</span>Продажи по жанрам</a></span><ul class=\"toc-item\"><li><span><a href=\"#В-истории\" data-toc-modified-id=\"В-истории-3.2.2.1\"><span class=\"toc-item-num\">3.2.2.1&nbsp;&nbsp;</span>В истории</a></span></li><li><span><a href=\"#Актуальные\" data-toc-modified-id=\"Актуальные-3.2.2.2\"><span class=\"toc-item-num\">3.2.2.2&nbsp;&nbsp;</span>Актуальные</a></span></li></ul></li><li><span><a href=\"#Влияние-отзывов\" data-toc-modified-id=\"Влияние-отзывов-3.2.3\"><span class=\"toc-item-num\">3.2.3&nbsp;&nbsp;</span>Влияние отзывов</a></span></li></ul></li><li><span><a href=\"#Итоги-исследовательского-анализа\" data-toc-modified-id=\"Итоги-исследовательского-анализа-3.3\"><span class=\"toc-item-num\">3.3&nbsp;&nbsp;</span>Итоги исследовательского анализа</a></span></li></ul></li><li><span><a href=\"#Различия-между-регионами\" data-toc-modified-id=\"Различия-между-регионами-4\"><span class=\"toc-item-num\">4&nbsp;&nbsp;</span>Различия между регионами</a></span><ul class=\"toc-item\"><li><span><a href=\"#Сравнение-региональных-рынков\" data-toc-modified-id=\"Сравнение-региональных-рынков-4.1\"><span class=\"toc-item-num\">4.1&nbsp;&nbsp;</span>Сравнение региональных рынков</a></span></li><li><span><a href=\"#Самые-тиражные-платформы\" data-toc-modified-id=\"Самые-тиражные-платформы-4.2\"><span class=\"toc-item-num\">4.2&nbsp;&nbsp;</span>Самые тиражные платформы</a></span></li><li><span><a href=\"#5-самых-популярных-жанров\" data-toc-modified-id=\"5-самых-популярных-жанров-4.3\"><span class=\"toc-item-num\">4.3&nbsp;&nbsp;</span>5 самых популярных жанров</a></span></li><li><span><a href=\"#Влияние-рейтина-ESRB-на-продажи-в-регионах\" data-toc-modified-id=\"Влияние-рейтина-ESRB-на-продажи-в-регионах-4.4\"><span class=\"toc-item-num\">4.4&nbsp;&nbsp;</span>Влияние рейтина ESRB на продажи в регионах</a></span></li><li><span><a href=\"#Итоги-анализа-расходов\" data-toc-modified-id=\"Итоги-анализа-расходов-4.5\"><span class=\"toc-item-num\">4.5&nbsp;&nbsp;</span>Итоги анализа расходов</a></span></li></ul></li><li><span><a href=\"#Гипотезы-и-проверки\" data-toc-modified-id=\"Гипотезы-и-проверки-5\"><span class=\"toc-item-num\">5&nbsp;&nbsp;</span>Гипотезы и проверки</a></span><ul class=\"toc-item\"><li><span><a href=\"#Средние-оценки,-полученные-от-пользователей---одинаковые-у-игр-для-платформ-Xbox-One-и-ПК\" data-toc-modified-id=\"Средние-оценки,-полученные-от-пользователей---одинаковые-у-игр-для-платформ-Xbox-One-и-ПК-5.1\"><span class=\"toc-item-num\">5.1&nbsp;&nbsp;</span>Средние оценки, полученные от пользователей - одинаковые у игр для платформ Xbox One и ПК</a></span><ul class=\"toc-item\"><li><span><a href=\"#Выборки-для-проверки-гипотезы\" data-toc-modified-id=\"Выборки-для-проверки-гипотезы-5.1.1\"><span class=\"toc-item-num\">5.1.1&nbsp;&nbsp;</span>Выборки для проверки гипотезы</a></span></li></ul></li><li><span><a href=\"#Формулировка-и-проверка-гипотезы\" data-toc-modified-id=\"Формулировка-и-проверка-гипотезы-5.2\"><span class=\"toc-item-num\">5.2&nbsp;&nbsp;</span>Формулировка и проверка гипотезы</a></span></li><li><span><a href=\"#Средние-оценки,-полученные-от-пользователей---разные-у-игр-жанров-&quot;экшн&quot;-и-&quot;спорт&quot;\" data-toc-modified-id=\"Средние-оценки,-полученные-от-пользователей---разные-у-игр-жанров-&quot;экшн&quot;-и-&quot;спорт&quot;-5.3\"><span class=\"toc-item-num\">5.3&nbsp;&nbsp;</span>Средние оценки, полученные от пользователей - разные у игр жанров \"экшн\" и \"спорт\"</a></span></li><li><span><a href=\"#Итоги-проверки-гипотез\" data-toc-modified-id=\"Итоги-проверки-гипотез-5.4\"><span class=\"toc-item-num\">5.4&nbsp;&nbsp;</span>Итоги проверки гипотез</a></span></li></ul></li><li><span><a href=\"#Общие-итоги\" data-toc-modified-id=\"Общие-итоги-6\"><span class=\"toc-item-num\">6&nbsp;&nbsp;</span>Общие итоги</a></span></li></ul></div>"
   ]
  },
  {
   "cell_type": "markdown",
   "id": "ed66ea3b",
   "metadata": {},
   "source": [
    "## Описание проекта\n",
    "\n",
    "### Заказчик\n",
    "\n",
    "Интернет-магазин \"Стримчик\".\n",
    "\n",
    "Основная деятельность: продажа компьютерных игр по всему миру.\n",
    "\n",
    "### Задача\n",
    "\n",
    "Выявить закономерности, которые определяют успешность игры.\n",
    "\n",
    "Для чего: чтобы магазин выбрал потенциально популярный продукт, закупил и рекламировал именно его.\n",
    "\n",
    "Из описания задачи мы понимаем, что слово \"продажа\" означает \"продажа единоразового доступа к игре\". Это может значить:\n",
    "\n",
    "- продажа копии игры;\n",
    "- продажа аккаунта в игре.\n",
    "\n",
    "Игра \"приобретается\" до использования, либо вскоре после начала использования (до истечения \"пробного периода\").\n",
    "\n",
    "Существуют также продажи платных опций в игре, и продажи подписки на игру. Очевидно, магазин не интересуется аналитикой об этом, и в наши \"продажи\" это не входит.\n",
    "\n",
    "Итак, анализируем продажи доступа к игре. Выбираем игры, которые будут популярны именно в продаже копий или аккаунтов. В \"предпродаже\" и \"стартовой продаже\"."
   ]
  },
  {
   "cell_type": "markdown",
   "id": "53789873",
   "metadata": {},
   "source": [
    "### Входные данные\n",
    "\n",
    "Сводные данные об играх. Взяты из открытых источников. Данные за последний год могут быть неполными.\n",
    "\n",
    "#### Термины\n",
    "\n",
    "**ESRB** (Entertainment Software Rating Board) — организация, определяющая возрастной рейтинг компьютерных игр на территории США и Канады. ESRB оценивает игровой контент и присваивает ему подходящую возрастную категорию, например, «Для взрослых», «Для детей младшего возраста» или «Для подростков».\n",
    "\n",
    "**TBD** - \"to be determined\". Эта аббревиатура стоит вместо величины рейтинга или оценки, когда данных недостаточно для подсчёта величины по правилам.\n",
    "\n",
    "#### Описание данных\n",
    "\n",
    "- Name — название игры\n",
    "- Platform — платформа\n",
    "- Year_of_Release — год выпуска\n",
    "- Genre — жанр игры\n",
    "- NA_sales — продажи в Северной Америке (миллионы проданных копий)\n",
    "- EU_sales — продажи в Европе (миллионы проданных копий)\n",
    "- JP_sales — продажи в Японии (миллионы проданных копий)\n",
    "- Other_sales — продажи в других странах (миллионы проданных копий)\n",
    "- Critic_Score — оценка критиков (максимум 100)\n",
    "- User_Score — оценка пользователей (максимум 10)\n",
    "- Rating — категория от ESRB"
   ]
  },
  {
   "cell_type": "markdown",
   "id": "3cfcefb5",
   "metadata": {},
   "source": [
    "### План работы\n",
    "\n",
    "- [x] Загрузка и обзор.\n",
    "- [x] Подготовка:\n",
    "  - [x] названия столбцов;\n",
    "  - [x] подходящие типы для данных;\n",
    "  - [x] пропуски;\n",
    "  - [x] посчитать суммарные продажи в отдельный столбец.\n",
    "- [x] Исследовательский анализ:\n",
    "  - [x] количество игр в разные годы;\n",
    "  - [x] исторические и актуальные продажи по платформам;\n",
    "  - [x] исторические и акруальные продажи по жанрам;\n",
    "  - [x] связь между оценками и продажами на актуальных платформах.\n",
    "- [x] Предпочтения в регионах:\n",
    "  - [x] Самые популярные платформы;\n",
    "  - [x] Самые популярные жанры;\n",
    "  - [x] Связь категории ERSB и продаж в регионе.\n",
    "- [x] Проверка гипотез:\n",
    "  - [x] Средние пользовательские рейтинги платформ Xbox One и PC одинаковые;\n",
    "  - [x] Средние пользовательские рейтинги жанров Action и Sports разные.\n",
    "- [x] Общий вывод"
   ]
  },
  {
   "cell_type": "markdown",
   "id": "3e95a86c",
   "metadata": {},
   "source": [
    "### Инструменты\n",
    "\n",
    "Используем [Anaconda](https://www.anaconda.com/), окружение `ds_da_practicum_env.yml` \"для Mac OS\" (от 2022-03-23)."
   ]
  },
  {
   "cell_type": "markdown",
   "id": "f1e12cc6",
   "metadata": {},
   "source": [
    "#### Импорт библиотек"
   ]
  },
  {
   "cell_type": "code",
   "execution_count": 1,
   "id": "2ccbcade",
   "metadata": {},
   "outputs": [],
   "source": [
    "import pandas as pd\n",
    "import numpy as np\n",
    "import scipy.stats as st\n",
    "import matplotlib.pyplot as plt\n",
    "import seaborn as sns\n",
    "import time"
   ]
  },
  {
   "cell_type": "code",
   "execution_count": 2,
   "id": "ae3bfb9e",
   "metadata": {},
   "outputs": [],
   "source": [
    "# время начала повторной обработки данных, потребуется в самом конце\n",
    "stime = time.time()"
   ]
  },
  {
   "cell_type": "markdown",
   "id": "677ec2bc",
   "metadata": {},
   "source": [
    "#### Определения констант"
   ]
  },
  {
   "cell_type": "code",
   "execution_count": 3,
   "id": "6af52aa5",
   "metadata": {},
   "outputs": [],
   "source": [
    "FIGSIZE = (12, 6)"
   ]
  },
  {
   "cell_type": "markdown",
   "id": "0fee0bc1",
   "metadata": {},
   "source": [
    "#### Определения чистых функций"
   ]
  },
  {
   "cell_type": "code",
   "execution_count": 4,
   "id": "306077ff",
   "metadata": {},
   "outputs": [],
   "source": [
    "def headline(line, width=79):\n",
    "    \"\"\"Format plain text headline\n",
    "    \"\"\"\n",
    "    return f'\\n{line.upper():=^{width}}'"
   ]
  },
  {
   "cell_type": "markdown",
   "id": "1de5266f",
   "metadata": {},
   "source": [
    "#### Определения команд"
   ]
  },
  {
   "cell_type": "code",
   "execution_count": 5,
   "id": "10dded98",
   "metadata": {},
   "outputs": [],
   "source": [
    "def load(tablename, ext='csv'):\n",
    "    \"\"\"Load a table from file\n",
    "    \"\"\"\n",
    "    filename = tablename + '.' + ext\n",
    "    try:\n",
    "        return pd.read_csv(filename)\n",
    "    except FileNotFoundError:\n",
    "        return pd.read_csv('https://code.s3.yandex.net/datasets/' + filename)"
   ]
  },
  {
   "cell_type": "markdown",
   "id": "5578a5c0",
   "metadata": {},
   "source": [
    "<div class=\"alert alert-success\">\n",
    "<b>ОТЛИЧНО! 👍</b>\n",
    "\n",
    "Здесь хорошо! При такой загрузке данных и тебе комфортно работать с проектом на домашнем ПК и у меня всё ОК во время проверки проекта в Юпитер Хабе</div>\n"
   ]
  },
  {
   "cell_type": "code",
   "execution_count": 6,
   "id": "5bbeeae0",
   "metadata": {},
   "outputs": [],
   "source": [
    "def print_filled_rows_share(df):\n",
    "    share = 1 - df.isna().any(axis=1).sum() / len(df)\n",
    "    print(f'Заполненных строк без пропусков: {share:.02%}\\n')"
   ]
  },
  {
   "cell_type": "markdown",
   "id": "6c0f31cf",
   "metadata": {},
   "source": [
    "<div class=\"alert alert-warning\">\n",
    "<b>Комментарий 👉</b>\n",
    "\n",
    "В библиотеке Pandas более типичным способом получения информации о размерности датафрейма  является использование метода **shape**, а не функции **len()** или **info()**. Так (**псевдокод**): df.shape[0] – «покажет» количество строк в датафрейме, а df.shape[1] - количество столбцов. Ну а df.shape – выведет размерность датафрейма в виде кортежа с 2мя значениями (первое число – количество строк, второе – столбцов).</div>\n"
   ]
  },
  {
   "cell_type": "markdown",
   "id": "33bb706f",
   "metadata": {},
   "source": [
    "<div style=\"background: #B0E0E6; padding: 5px; border: 1px solid SteelBlue; border-radius: 5px;\">\n",
    "    <font color='4682B4'><u><b>КОММЕНТАРИЙ СТУДЕНТА</b></u></font>\n",
    "    <br />\n",
    "    <font color='4682B4'>В случаях, когда есть выбор между более частным правилом и более общим правилом, я руководствуюсь более общим. Это общая жизненная позиция. Вводить частные правила имеет смысл тогда, когда общее правило невозможно исполнить. Унификация удобнее, чем индивидуализация.\n",
    "\n",
    "PEP-20 даёт наиболее общее руководство тому, как использовать код на Python.\n",
    "<ul>\n",
    "    <li>Explicit is better than implicit. len() - \"длина\", очевиднее излагает, что я хочу, чем shape[0] - \"первое число формы\"</li>\n",
    "    <li>Simple is better than complex. Flat is better than nested. len(df) короче и \"прямее\" чем вложенное df.shape[0] </li>\n",
    "    <li>Special cases aren't special enough to break the rules. Нет смысла вводить дополнительные правила, если общее правило может быть исполнено.</li>\n",
    "    <li>Although practicality beats purity. Общее правило может быть отброшено, если есть практический смысл.</li>\n",
    "    <li>There should be one-- and preferably only one --obvious way to do it. Желателен один, очевидный способ сделать что-то. Второй не требуется.</li>\n",
    "    <li>Although that way may not be obvious at first unless you're Dutch. Способ может не быть очевидным, если ты не в теме.</li>\n",
    "</ul>\n",
    "\n",
    "Поскольку я ученик, я могу быть не в теме. Мне интересно, какое практическое преимущество даёт использование shape[0], если я могу получить длину очевидным, понятным для всех len().\n",
    "</font>\n",
    "</div>"
   ]
  },
  {
   "cell_type": "code",
   "execution_count": 7,
   "id": "9f996523",
   "metadata": {},
   "outputs": [],
   "source": [
    "def survey(data, string_key_columns):\n",
    "    \"\"\"Display more dataset info\n",
    "    \"\"\"\n",
    "    display(data.head())\n",
    "    print(f'Полностью совпадающих строк: {data.duplicated().sum()}\\n')\n",
    "    key_dupes = count_string_key_dupes(data, string_key_columns)\n",
    "    print(f'Строк с совпадающим набором ключей: {key_dupes}\\n')\n",
    "    print_filled_rows_share(data)\n",
    "    data.info()"
   ]
  },
  {
   "cell_type": "markdown",
   "id": "1a5189bc",
   "metadata": {},
   "source": [
    "<div class=\"alert alert-warning\">\n",
    "<b>Предложение 👉</b>\n",
    "\n",
    "**df.duplicated().sum() == 0** не означает, что в данных нет дубликатов (записей). \n",
    "    \n",
    "Попробуй найти неявные дубликаты (для их поиска нужно  использовать параметр **subset**). Ну а в нашем рабочем проекте пробуй найти дубликаты для пары \"Имя - Игровая консоль\".\n",
    "\n",
    "Как их планируешь и планируешь ли обрабатывать?</div>\n"
   ]
  },
  {
   "cell_type": "markdown",
   "id": "15e0b291",
   "metadata": {},
   "source": [
    "<div style=\"background: #B0E0E6; padding: 5px; border: 1px solid SteelBlue; border-radius: 5px;\">\n",
    "    <font color='4682B4'><u><b>КОММЕНТАРИЙ СТУДЕНТА</b></u></font>\n",
    "    <br />\n",
    "    <font color='4682B4'>Вижу, что пропустил этот существенный момент. Сейчас добавил проверку: сколько есть строк с дублирущимися комбинациями в ключевых колонках\n",
    "        \n",
    "Дубликаты для пары \"Имя - Игровая консоль\" - обнаружено, что таких 5 пар на весь датасет.\n",
    "        \n",
    "\"параметр subset\" - от какой функции этот параметр?\n",
    "        </font>\n",
    "</div>"
   ]
  },
  {
   "cell_type": "code",
   "execution_count": 8,
   "id": "0be8fec5",
   "metadata": {},
   "outputs": [],
   "source": [
    "def count_string_key_dupes(data, key_columns):\n",
    "    normalized_keys = pd.DataFrame()\n",
    "    for column in key_columns:\n",
    "        normalized_keys[column] = data[column].str.lower().str.strip()\n",
    "    return normalized_keys.duplicated().sum()"
   ]
  },
  {
   "cell_type": "code",
   "execution_count": 9,
   "id": "bd2db947",
   "metadata": {},
   "outputs": [],
   "source": [
    "def get_nans(data):\n",
    "    nans = []\n",
    "    for column in data.columns:\n",
    "        missing = data[column].isna().sum()\n",
    "        part = missing / len(data)\n",
    "        uniques = data[column].sort_values().unique()\n",
    "        nans.append([column, missing, part, len(uniques)])\n",
    "\n",
    "    return pd.DataFrame(\n",
    "        data=nans, columns=['column', 'na_count', 'na_part', 'unique_count']\n",
    "    ).sort_values(['na_count', 'unique_count'], ascending=False).set_index('column')"
   ]
  },
  {
   "cell_type": "markdown",
   "id": "21b0ee10",
   "metadata": {},
   "source": [
    "## Обзор и подготовка данных"
   ]
  },
  {
   "cell_type": "markdown",
   "id": "12ed9f87",
   "metadata": {},
   "source": [
    "### Загрузка данных"
   ]
  },
  {
   "cell_type": "code",
   "execution_count": 10,
   "id": "56b37ca2",
   "metadata": {
    "scrolled": false
   },
   "outputs": [
    {
     "data": {
      "text/html": [
       "<div>\n",
       "<style scoped>\n",
       "    .dataframe tbody tr th:only-of-type {\n",
       "        vertical-align: middle;\n",
       "    }\n",
       "\n",
       "    .dataframe tbody tr th {\n",
       "        vertical-align: top;\n",
       "    }\n",
       "\n",
       "    .dataframe thead th {\n",
       "        text-align: right;\n",
       "    }\n",
       "</style>\n",
       "<table border=\"1\" class=\"dataframe\">\n",
       "  <thead>\n",
       "    <tr style=\"text-align: right;\">\n",
       "      <th></th>\n",
       "      <th>Name</th>\n",
       "      <th>Platform</th>\n",
       "      <th>Year_of_Release</th>\n",
       "      <th>Genre</th>\n",
       "      <th>NA_sales</th>\n",
       "      <th>EU_sales</th>\n",
       "      <th>JP_sales</th>\n",
       "      <th>Other_sales</th>\n",
       "      <th>Critic_Score</th>\n",
       "      <th>User_Score</th>\n",
       "      <th>Rating</th>\n",
       "    </tr>\n",
       "  </thead>\n",
       "  <tbody>\n",
       "    <tr>\n",
       "      <th>0</th>\n",
       "      <td>Wii Sports</td>\n",
       "      <td>Wii</td>\n",
       "      <td>2006.0</td>\n",
       "      <td>Sports</td>\n",
       "      <td>41.36</td>\n",
       "      <td>28.96</td>\n",
       "      <td>3.77</td>\n",
       "      <td>8.45</td>\n",
       "      <td>76.0</td>\n",
       "      <td>8</td>\n",
       "      <td>E</td>\n",
       "    </tr>\n",
       "    <tr>\n",
       "      <th>1</th>\n",
       "      <td>Super Mario Bros.</td>\n",
       "      <td>NES</td>\n",
       "      <td>1985.0</td>\n",
       "      <td>Platform</td>\n",
       "      <td>29.08</td>\n",
       "      <td>3.58</td>\n",
       "      <td>6.81</td>\n",
       "      <td>0.77</td>\n",
       "      <td>NaN</td>\n",
       "      <td>NaN</td>\n",
       "      <td>NaN</td>\n",
       "    </tr>\n",
       "    <tr>\n",
       "      <th>2</th>\n",
       "      <td>Mario Kart Wii</td>\n",
       "      <td>Wii</td>\n",
       "      <td>2008.0</td>\n",
       "      <td>Racing</td>\n",
       "      <td>15.68</td>\n",
       "      <td>12.76</td>\n",
       "      <td>3.79</td>\n",
       "      <td>3.29</td>\n",
       "      <td>82.0</td>\n",
       "      <td>8.3</td>\n",
       "      <td>E</td>\n",
       "    </tr>\n",
       "    <tr>\n",
       "      <th>3</th>\n",
       "      <td>Wii Sports Resort</td>\n",
       "      <td>Wii</td>\n",
       "      <td>2009.0</td>\n",
       "      <td>Sports</td>\n",
       "      <td>15.61</td>\n",
       "      <td>10.93</td>\n",
       "      <td>3.28</td>\n",
       "      <td>2.95</td>\n",
       "      <td>80.0</td>\n",
       "      <td>8</td>\n",
       "      <td>E</td>\n",
       "    </tr>\n",
       "    <tr>\n",
       "      <th>4</th>\n",
       "      <td>Pokemon Red/Pokemon Blue</td>\n",
       "      <td>GB</td>\n",
       "      <td>1996.0</td>\n",
       "      <td>Role-Playing</td>\n",
       "      <td>11.27</td>\n",
       "      <td>8.89</td>\n",
       "      <td>10.22</td>\n",
       "      <td>1.00</td>\n",
       "      <td>NaN</td>\n",
       "      <td>NaN</td>\n",
       "      <td>NaN</td>\n",
       "    </tr>\n",
       "  </tbody>\n",
       "</table>\n",
       "</div>"
      ],
      "text/plain": [
       "                       Name Platform  Year_of_Release         Genre  NA_sales  \\\n",
       "0                Wii Sports      Wii           2006.0        Sports     41.36   \n",
       "1         Super Mario Bros.      NES           1985.0      Platform     29.08   \n",
       "2            Mario Kart Wii      Wii           2008.0        Racing     15.68   \n",
       "3         Wii Sports Resort      Wii           2009.0        Sports     15.61   \n",
       "4  Pokemon Red/Pokemon Blue       GB           1996.0  Role-Playing     11.27   \n",
       "\n",
       "   EU_sales  JP_sales  Other_sales  Critic_Score User_Score Rating  \n",
       "0     28.96      3.77         8.45          76.0          8      E  \n",
       "1      3.58      6.81         0.77           NaN        NaN    NaN  \n",
       "2     12.76      3.79         3.29          82.0        8.3      E  \n",
       "3     10.93      3.28         2.95          80.0          8      E  \n",
       "4      8.89     10.22         1.00           NaN        NaN    NaN  "
      ]
     },
     "metadata": {},
     "output_type": "display_data"
    },
    {
     "name": "stdout",
     "output_type": "stream",
     "text": [
      "Полностью совпадающих строк: 0\n",
      "\n",
      "Строк с совпадающим набором ключей: 5\n",
      "\n",
      "Заполненных строк без пропусков: 47.13%\n",
      "\n",
      "<class 'pandas.core.frame.DataFrame'>\n",
      "RangeIndex: 16715 entries, 0 to 16714\n",
      "Data columns (total 11 columns):\n",
      " #   Column           Non-Null Count  Dtype  \n",
      "---  ------           --------------  -----  \n",
      " 0   Name             16713 non-null  object \n",
      " 1   Platform         16715 non-null  object \n",
      " 2   Year_of_Release  16446 non-null  float64\n",
      " 3   Genre            16713 non-null  object \n",
      " 4   NA_sales         16715 non-null  float64\n",
      " 5   EU_sales         16715 non-null  float64\n",
      " 6   JP_sales         16715 non-null  float64\n",
      " 7   Other_sales      16715 non-null  float64\n",
      " 8   Critic_Score     8137 non-null   float64\n",
      " 9   User_Score       10014 non-null  object \n",
      " 10  Rating           9949 non-null   object \n",
      "dtypes: float64(6), object(5)\n",
      "memory usage: 1.4+ MB\n"
     ]
    }
   ],
   "source": [
    "games = load('games')\n",
    "survey(games, ['Name', 'Platform'])"
   ]
  },
  {
   "cell_type": "markdown",
   "id": "eb777e00",
   "metadata": {},
   "source": [
    "<div class=\"alert alert-warning\">\n",
    "<b>Комментарий 👉</b>\n",
    "\n",
    "Выводить весь датафрейм можно, но как правило я так не делаю (пространство на мониторе конЕчно, особенно когда в нескольких ячейках необходимо последовательно посмотреть, что в датафрейме изменилось). Достаточно \"типового\" .head() с 5 строками - как подтверждение того, что данные в датафрейм загружены верно. Если же в твоём случае считать, что 5 строк в начале и 5 строк в конце - это как массив из которого будет видно какие проблемы есть с данными (пропуски, аномальные значения), то поверь, для датафрейма с 16+ тысячами записей 10 строк это \"капля в море\". Проблемы с данными видны не будут. Для анализа мы будем использовать другие инструменты: .info(), .describe() и т.д.\n",
    "\n",
    "Если же ты выводишь датафрейм \"полностью\" для того, чтобы размерность датафрейма была на экране, то \"красивее\" использовать .shape в отдельной ячейке.</div>\n"
   ]
  },
  {
   "cell_type": "markdown",
   "id": "a72f8347",
   "metadata": {},
   "source": [
    "<div style=\"background: #B0E0E6; padding: 5px; border: 1px solid SteelBlue; border-radius: 5px;\">\n",
    "<font color='4682B4'><u><b>КОММЕНТАРИЙ СТУДЕНТА</b></u></font>\n",
    "<br />\n",
    "<font color='4682B4'>Я изменил показ датафрейма, теперь сделан через head(). Это не сложно. Я помню об этом. Однако есть вопрос.\n",
    "\n",
    "На курсе нас приучали в многих случаях выводить display(df.head(10)), что даёт те же 10 строк, что и diplay(df). Также приучали к раздельному выводу head() и tail() в рамках одной работы. Я не вижу существенной помехи в 10 строках по сравнению с 5 строками. Оба варианта помещаются по высоте в 1 экран 1366*768. И в то же время я вижу очевидное преимущество прямого отображения датафрейма - он даёт более разнообразные данные - действует как head(), tail() и shape одновременно. Меньше кода, больше результата.\n",
    "\n",
    "Как и в случае с len(), мне интересно почему настойчиво рекомендуют именно .head(). Ценность его в уменьшении вывода на 5 строк? Или есть неочевидное практическое преимущество?\n",
    "\n",
    "Каковы шансы встретить эти принципиальные требования в реальной работе с коллегами?\n",
    "\n",
    "В то время, как в проектах по высоте датафрейм всегда входил в экран, часто бывало, что датафрейм не входил в экран по ширине. Единственный способ обойти это, известный мне - не выводить датафрейм вовсе, а выводить info() и отдельные строки. Вылезший вправо датафрейм с горизонтальной прокруткой неудобен, но не считается ошибкой оформления.\n",
    "\n",
    "Как можно красиво вывести широкий датасет? Может, транспонировать его перед показом?\n",
    "</font>\n",
    "</div>"
   ]
  },
  {
   "cell_type": "markdown",
   "id": "d324b3ca",
   "metadata": {},
   "source": [
    "Видим, что потребуется:\n",
    "- исследовать пропуски,\n",
    "- переименовать колонки под lower_snake_case,\n",
    "- установить для года выхода и, возможно, оценки критиков тип данных `int`,\n",
    "- а для оценки пользователей - `float`;\n",
    "- также остутствует общая сумма продаж - введём этот столбец."
   ]
  },
  {
   "cell_type": "markdown",
   "id": "f312b9c2",
   "metadata": {},
   "source": [
    "### Замена имён колонок"
   ]
  },
  {
   "cell_type": "code",
   "execution_count": 11,
   "id": "7869bb5f",
   "metadata": {},
   "outputs": [
    {
     "data": {
      "text/plain": [
       "Index(['Name', 'Platform', 'Year_of_Release', 'Genre', 'NA_sales', 'EU_sales',\n",
       "       'JP_sales', 'Other_sales', 'Critic_Score', 'User_Score', 'Rating'],\n",
       "      dtype='object')"
      ]
     },
     "execution_count": 11,
     "metadata": {},
     "output_type": "execute_result"
    }
   ],
   "source": [
    "games.columns"
   ]
  },
  {
   "cell_type": "code",
   "execution_count": 12,
   "id": "70c3c365",
   "metadata": {},
   "outputs": [
    {
     "data": {
      "text/plain": [
       "Index(['name', 'platform', 'year_of_release', 'genre', 'na_sales', 'eu_sales',\n",
       "       'jp_sales', 'other_sales', 'critic_score', 'user_score', 'rating'],\n",
       "      dtype='object')"
      ]
     },
     "metadata": {},
     "output_type": "display_data"
    }
   ],
   "source": [
    "games.columns = games.columns.str.lower()\n",
    "display(games.columns)"
   ]
  },
  {
   "cell_type": "markdown",
   "id": "77303cf2",
   "metadata": {},
   "source": [
    "<div class=\"alert alert-warning\">\n",
    "<b>Комментарий 👉</b>\n",
    "\n",
    "Так можно, но проще (с точки зрения количества кода) сделать это через str.lower().</div>\n"
   ]
  },
  {
   "cell_type": "markdown",
   "id": "d5d40981",
   "metadata": {},
   "source": [
    "<div style=\"background: #B0E0E6; padding: 5px; border: 1px solid SteelBlue; border-radius: 5px;\">\n",
    "<font color='4682B4'><u><b>КОММЕНТАРИЙ СТУДЕНТА</b></u></font>\n",
    "<br />\n",
    "<font color='4682B4'>Благодарю за указание, абсолютно работает!\n",
    "</font>\n",
    "</div>"
   ]
  },
  {
   "cell_type": "markdown",
   "id": "71437bb7",
   "metadata": {},
   "source": [
    "**Итоги:**\n",
    "- названия столбцов приведены к lower_snake_case."
   ]
  },
  {
   "cell_type": "markdown",
   "id": "30fd52bc",
   "metadata": {},
   "source": [
    "### Поиск дубликатов строк"
   ]
  },
  {
   "cell_type": "markdown",
   "id": "30f00ec3",
   "metadata": {},
   "source": [
    "Проверим, какие значения бывают в категориальных столбцах."
   ]
  },
  {
   "cell_type": "code",
   "execution_count": 13,
   "id": "98e3cab6",
   "metadata": {},
   "outputs": [
    {
     "name": "stdout",
     "output_type": "stream",
     "text": [
      "['2600' '3DO' '3DS' 'DC' 'DS' 'GB' 'GBA' 'GC' 'GEN' 'GG' 'N64' 'NES' 'NG'\n",
      " 'PC' 'PCFX' 'PS' 'PS2' 'PS3' 'PS4' 'PSP' 'PSV' 'SAT' 'SCD' 'SNES' 'TG16'\n",
      " 'WS' 'Wii' 'WiiU' 'X360' 'XB' 'XOne']\n",
      "['Action' 'Adventure' 'Fighting' 'Misc' 'Platform' 'Puzzle' 'Racing'\n",
      " 'Role-Playing' 'Shooter' 'Simulation' 'Sports' 'Strategy' nan]\n",
      "['AO' 'E' 'E10+' 'EC' 'K-A' 'M' 'RP' 'T' nan]\n"
     ]
    }
   ],
   "source": [
    "for column in ['platform', 'genre', 'rating']:\n",
    "    print(games[column].sort_values().unique())"
   ]
  },
  {
   "cell_type": "markdown",
   "id": "36d4fa95",
   "metadata": {},
   "source": [
    "Повторов не видно. Ради удобства применим lowercase к `genre`."
   ]
  },
  {
   "cell_type": "code",
   "execution_count": 14,
   "id": "ee62db0b",
   "metadata": {},
   "outputs": [],
   "source": [
    "games['genre'] = games['genre'].str.lower()"
   ]
  },
  {
   "cell_type": "markdown",
   "id": "5697020b",
   "metadata": {},
   "source": [
    "Уникальных вариантов имён у нас:"
   ]
  },
  {
   "cell_type": "code",
   "execution_count": 15,
   "id": "343b8ef6",
   "metadata": {},
   "outputs": [
    {
     "data": {
      "text/plain": [
       "11560"
      ]
     },
     "execution_count": 15,
     "metadata": {},
     "output_type": "execute_result"
    }
   ],
   "source": [
    "len(games['name'].unique())"
   ]
  },
  {
   "cell_type": "markdown",
   "id": "d5f10320",
   "metadata": {},
   "source": [
    "А если имена постараться привести к единой форме?"
   ]
  },
  {
   "cell_type": "code",
   "execution_count": 16,
   "id": "9ec59d08",
   "metadata": {},
   "outputs": [
    {
     "data": {
      "text/plain": [
       "11560"
      ]
     },
     "execution_count": 16,
     "metadata": {},
     "output_type": "execute_result"
    }
   ],
   "source": [
    "games['name'] = games['name'].str.strip().str.lower()\n",
    "len(games['name'].unique())"
   ]
  },
  {
   "cell_type": "markdown",
   "id": "37a660b0",
   "metadata": {},
   "source": [
    "Их число не изменилось. В общем, можно считать, что мы располагаем 11560 уникальными названиями. Перевести их в нижний регистр - не так уж красиво, но будет удобно делать запросы по конкретным играм.\n",
    "\n",
    "Теперь взглянем, в каких строках одни и те же пары \"Имя - Платформа\"."
   ]
  },
  {
   "cell_type": "code",
   "execution_count": 17,
   "id": "ba9d6718",
   "metadata": {},
   "outputs": [
    {
     "data": {
      "text/html": [
       "<div>\n",
       "<style scoped>\n",
       "    .dataframe tbody tr th:only-of-type {\n",
       "        vertical-align: middle;\n",
       "    }\n",
       "\n",
       "    .dataframe tbody tr th {\n",
       "        vertical-align: top;\n",
       "    }\n",
       "\n",
       "    .dataframe thead th {\n",
       "        text-align: right;\n",
       "    }\n",
       "</style>\n",
       "<table border=\"1\" class=\"dataframe\">\n",
       "  <thead>\n",
       "    <tr style=\"text-align: right;\">\n",
       "      <th></th>\n",
       "      <th>name</th>\n",
       "      <th>platform</th>\n",
       "      <th>year_of_release</th>\n",
       "      <th>genre</th>\n",
       "      <th>na_sales</th>\n",
       "      <th>eu_sales</th>\n",
       "      <th>jp_sales</th>\n",
       "      <th>other_sales</th>\n",
       "      <th>critic_score</th>\n",
       "      <th>user_score</th>\n",
       "      <th>rating</th>\n",
       "    </tr>\n",
       "  </thead>\n",
       "  <tbody>\n",
       "    <tr>\n",
       "      <th>1591</th>\n",
       "      <td>need for speed: most wanted</td>\n",
       "      <td>X360</td>\n",
       "      <td>2005.0</td>\n",
       "      <td>racing</td>\n",
       "      <td>1.0</td>\n",
       "      <td>0.13</td>\n",
       "      <td>0.02</td>\n",
       "      <td>0.10</td>\n",
       "      <td>83.0</td>\n",
       "      <td>8.5</td>\n",
       "      <td>T</td>\n",
       "    </tr>\n",
       "    <tr>\n",
       "      <th>4127</th>\n",
       "      <td>sonic the hedgehog</td>\n",
       "      <td>PS3</td>\n",
       "      <td>NaN</td>\n",
       "      <td>platform</td>\n",
       "      <td>0.0</td>\n",
       "      <td>0.48</td>\n",
       "      <td>0.00</td>\n",
       "      <td>0.00</td>\n",
       "      <td>43.0</td>\n",
       "      <td>4.1</td>\n",
       "      <td>E10+</td>\n",
       "    </tr>\n",
       "    <tr>\n",
       "      <th>11715</th>\n",
       "      <td>need for speed: most wanted</td>\n",
       "      <td>PC</td>\n",
       "      <td>2012.0</td>\n",
       "      <td>racing</td>\n",
       "      <td>0.0</td>\n",
       "      <td>0.06</td>\n",
       "      <td>0.00</td>\n",
       "      <td>0.02</td>\n",
       "      <td>82.0</td>\n",
       "      <td>8.5</td>\n",
       "      <td>T</td>\n",
       "    </tr>\n",
       "    <tr>\n",
       "      <th>14244</th>\n",
       "      <td>NaN</td>\n",
       "      <td>GEN</td>\n",
       "      <td>1993.0</td>\n",
       "      <td>NaN</td>\n",
       "      <td>0.0</td>\n",
       "      <td>0.00</td>\n",
       "      <td>0.03</td>\n",
       "      <td>0.00</td>\n",
       "      <td>NaN</td>\n",
       "      <td>NaN</td>\n",
       "      <td>NaN</td>\n",
       "    </tr>\n",
       "    <tr>\n",
       "      <th>16230</th>\n",
       "      <td>madden nfl 13</td>\n",
       "      <td>PS3</td>\n",
       "      <td>2012.0</td>\n",
       "      <td>sports</td>\n",
       "      <td>0.0</td>\n",
       "      <td>0.01</td>\n",
       "      <td>0.00</td>\n",
       "      <td>0.00</td>\n",
       "      <td>83.0</td>\n",
       "      <td>5.5</td>\n",
       "      <td>E</td>\n",
       "    </tr>\n",
       "  </tbody>\n",
       "</table>\n",
       "</div>"
      ],
      "text/plain": [
       "                              name platform  year_of_release     genre  \\\n",
       "1591   need for speed: most wanted     X360           2005.0    racing   \n",
       "4127            sonic the hedgehog      PS3              NaN  platform   \n",
       "11715  need for speed: most wanted       PC           2012.0    racing   \n",
       "14244                          NaN      GEN           1993.0       NaN   \n",
       "16230                madden nfl 13      PS3           2012.0    sports   \n",
       "\n",
       "       na_sales  eu_sales  jp_sales  other_sales  critic_score user_score  \\\n",
       "1591        1.0      0.13      0.02         0.10          83.0        8.5   \n",
       "4127        0.0      0.48      0.00         0.00          43.0        4.1   \n",
       "11715       0.0      0.06      0.00         0.02          82.0        8.5   \n",
       "14244       0.0      0.00      0.03         0.00           NaN        NaN   \n",
       "16230       0.0      0.01      0.00         0.00          83.0        5.5   \n",
       "\n",
       "      rating  \n",
       "1591       T  \n",
       "4127    E10+  \n",
       "11715      T  \n",
       "14244    NaN  \n",
       "16230      E  "
      ]
     },
     "execution_count": 17,
     "metadata": {},
     "output_type": "execute_result"
    }
   ],
   "source": [
    "games[games[['name', 'platform']].duplicated()]"
   ]
  },
  {
   "cell_type": "markdown",
   "id": "7dbee07f",
   "metadata": {},
   "source": [
    "NFS Most Wanted в дубликатах - дважды. Значит, всего в таблице - минимум четырежды. Найдём все вхождения Most Wanted в таблицу."
   ]
  },
  {
   "cell_type": "code",
   "execution_count": 18,
   "id": "a55efc4c",
   "metadata": {},
   "outputs": [
    {
     "data": {
      "text/html": [
       "<div>\n",
       "<style scoped>\n",
       "    .dataframe tbody tr th:only-of-type {\n",
       "        vertical-align: middle;\n",
       "    }\n",
       "\n",
       "    .dataframe tbody tr th {\n",
       "        vertical-align: top;\n",
       "    }\n",
       "\n",
       "    .dataframe thead th {\n",
       "        text-align: right;\n",
       "    }\n",
       "</style>\n",
       "<table border=\"1\" class=\"dataframe\">\n",
       "  <thead>\n",
       "    <tr style=\"text-align: right;\">\n",
       "      <th></th>\n",
       "      <th>name</th>\n",
       "      <th>platform</th>\n",
       "      <th>year_of_release</th>\n",
       "      <th>genre</th>\n",
       "      <th>na_sales</th>\n",
       "      <th>eu_sales</th>\n",
       "      <th>jp_sales</th>\n",
       "      <th>other_sales</th>\n",
       "      <th>critic_score</th>\n",
       "      <th>user_score</th>\n",
       "      <th>rating</th>\n",
       "    </tr>\n",
       "  </thead>\n",
       "  <tbody>\n",
       "    <tr>\n",
       "      <th>6410</th>\n",
       "      <td>need for speed: most wanted</td>\n",
       "      <td>DS</td>\n",
       "      <td>2005.0</td>\n",
       "      <td>racing</td>\n",
       "      <td>0.24</td>\n",
       "      <td>0.01</td>\n",
       "      <td>0.00</td>\n",
       "      <td>0.02</td>\n",
       "      <td>45.0</td>\n",
       "      <td>6.1</td>\n",
       "      <td>E</td>\n",
       "    </tr>\n",
       "    <tr>\n",
       "      <th>6473</th>\n",
       "      <td>need for speed: most wanted</td>\n",
       "      <td>GBA</td>\n",
       "      <td>2005.0</td>\n",
       "      <td>racing</td>\n",
       "      <td>0.19</td>\n",
       "      <td>0.07</td>\n",
       "      <td>0.00</td>\n",
       "      <td>0.00</td>\n",
       "      <td>NaN</td>\n",
       "      <td>8.3</td>\n",
       "      <td>E</td>\n",
       "    </tr>\n",
       "    <tr>\n",
       "      <th>3581</th>\n",
       "      <td>need for speed: most wanted</td>\n",
       "      <td>GC</td>\n",
       "      <td>2005.0</td>\n",
       "      <td>racing</td>\n",
       "      <td>0.43</td>\n",
       "      <td>0.11</td>\n",
       "      <td>0.00</td>\n",
       "      <td>0.02</td>\n",
       "      <td>80.0</td>\n",
       "      <td>9.1</td>\n",
       "      <td>T</td>\n",
       "    </tr>\n",
       "    <tr>\n",
       "      <th>5972</th>\n",
       "      <td>need for speed: most wanted</td>\n",
       "      <td>PC</td>\n",
       "      <td>2005.0</td>\n",
       "      <td>racing</td>\n",
       "      <td>0.02</td>\n",
       "      <td>0.23</td>\n",
       "      <td>0.00</td>\n",
       "      <td>0.04</td>\n",
       "      <td>82.0</td>\n",
       "      <td>8.5</td>\n",
       "      <td>T</td>\n",
       "    </tr>\n",
       "    <tr>\n",
       "      <th>11715</th>\n",
       "      <td>need for speed: most wanted</td>\n",
       "      <td>PC</td>\n",
       "      <td>2012.0</td>\n",
       "      <td>racing</td>\n",
       "      <td>0.00</td>\n",
       "      <td>0.06</td>\n",
       "      <td>0.00</td>\n",
       "      <td>0.02</td>\n",
       "      <td>82.0</td>\n",
       "      <td>8.5</td>\n",
       "      <td>T</td>\n",
       "    </tr>\n",
       "    <tr>\n",
       "      <th>253</th>\n",
       "      <td>need for speed: most wanted</td>\n",
       "      <td>PS2</td>\n",
       "      <td>2005.0</td>\n",
       "      <td>racing</td>\n",
       "      <td>2.03</td>\n",
       "      <td>1.79</td>\n",
       "      <td>0.08</td>\n",
       "      <td>0.47</td>\n",
       "      <td>82.0</td>\n",
       "      <td>9.1</td>\n",
       "      <td>T</td>\n",
       "    </tr>\n",
       "    <tr>\n",
       "      <th>523</th>\n",
       "      <td>need for speed: most wanted</td>\n",
       "      <td>PS3</td>\n",
       "      <td>2012.0</td>\n",
       "      <td>racing</td>\n",
       "      <td>0.71</td>\n",
       "      <td>1.46</td>\n",
       "      <td>0.06</td>\n",
       "      <td>0.58</td>\n",
       "      <td>NaN</td>\n",
       "      <td>NaN</td>\n",
       "      <td>NaN</td>\n",
       "    </tr>\n",
       "    <tr>\n",
       "      <th>2048</th>\n",
       "      <td>need for speed: most wanted</td>\n",
       "      <td>PSV</td>\n",
       "      <td>2012.0</td>\n",
       "      <td>racing</td>\n",
       "      <td>0.33</td>\n",
       "      <td>0.45</td>\n",
       "      <td>0.01</td>\n",
       "      <td>0.22</td>\n",
       "      <td>NaN</td>\n",
       "      <td>NaN</td>\n",
       "      <td>NaN</td>\n",
       "    </tr>\n",
       "    <tr>\n",
       "      <th>6273</th>\n",
       "      <td>need for speed: most wanted</td>\n",
       "      <td>WiiU</td>\n",
       "      <td>2013.0</td>\n",
       "      <td>racing</td>\n",
       "      <td>0.13</td>\n",
       "      <td>0.12</td>\n",
       "      <td>0.00</td>\n",
       "      <td>0.02</td>\n",
       "      <td>NaN</td>\n",
       "      <td>NaN</td>\n",
       "      <td>NaN</td>\n",
       "    </tr>\n",
       "    <tr>\n",
       "      <th>1591</th>\n",
       "      <td>need for speed: most wanted</td>\n",
       "      <td>X360</td>\n",
       "      <td>2005.0</td>\n",
       "      <td>racing</td>\n",
       "      <td>1.00</td>\n",
       "      <td>0.13</td>\n",
       "      <td>0.02</td>\n",
       "      <td>0.10</td>\n",
       "      <td>83.0</td>\n",
       "      <td>8.5</td>\n",
       "      <td>T</td>\n",
       "    </tr>\n",
       "    <tr>\n",
       "      <th>1190</th>\n",
       "      <td>need for speed: most wanted</td>\n",
       "      <td>X360</td>\n",
       "      <td>2012.0</td>\n",
       "      <td>racing</td>\n",
       "      <td>0.62</td>\n",
       "      <td>0.78</td>\n",
       "      <td>0.01</td>\n",
       "      <td>0.15</td>\n",
       "      <td>83.0</td>\n",
       "      <td>8.5</td>\n",
       "      <td>T</td>\n",
       "    </tr>\n",
       "    <tr>\n",
       "      <th>1998</th>\n",
       "      <td>need for speed: most wanted</td>\n",
       "      <td>XB</td>\n",
       "      <td>2005.0</td>\n",
       "      <td>racing</td>\n",
       "      <td>0.53</td>\n",
       "      <td>0.46</td>\n",
       "      <td>0.00</td>\n",
       "      <td>0.05</td>\n",
       "      <td>83.0</td>\n",
       "      <td>8.8</td>\n",
       "      <td>T</td>\n",
       "    </tr>\n",
       "  </tbody>\n",
       "</table>\n",
       "</div>"
      ],
      "text/plain": [
       "                              name platform  year_of_release   genre  \\\n",
       "6410   need for speed: most wanted       DS           2005.0  racing   \n",
       "6473   need for speed: most wanted      GBA           2005.0  racing   \n",
       "3581   need for speed: most wanted       GC           2005.0  racing   \n",
       "5972   need for speed: most wanted       PC           2005.0  racing   \n",
       "11715  need for speed: most wanted       PC           2012.0  racing   \n",
       "253    need for speed: most wanted      PS2           2005.0  racing   \n",
       "523    need for speed: most wanted      PS3           2012.0  racing   \n",
       "2048   need for speed: most wanted      PSV           2012.0  racing   \n",
       "6273   need for speed: most wanted     WiiU           2013.0  racing   \n",
       "1591   need for speed: most wanted     X360           2005.0  racing   \n",
       "1190   need for speed: most wanted     X360           2012.0  racing   \n",
       "1998   need for speed: most wanted       XB           2005.0  racing   \n",
       "\n",
       "       na_sales  eu_sales  jp_sales  other_sales  critic_score user_score  \\\n",
       "6410       0.24      0.01      0.00         0.02          45.0        6.1   \n",
       "6473       0.19      0.07      0.00         0.00           NaN        8.3   \n",
       "3581       0.43      0.11      0.00         0.02          80.0        9.1   \n",
       "5972       0.02      0.23      0.00         0.04          82.0        8.5   \n",
       "11715      0.00      0.06      0.00         0.02          82.0        8.5   \n",
       "253        2.03      1.79      0.08         0.47          82.0        9.1   \n",
       "523        0.71      1.46      0.06         0.58           NaN        NaN   \n",
       "2048       0.33      0.45      0.01         0.22           NaN        NaN   \n",
       "6273       0.13      0.12      0.00         0.02           NaN        NaN   \n",
       "1591       1.00      0.13      0.02         0.10          83.0        8.5   \n",
       "1190       0.62      0.78      0.01         0.15          83.0        8.5   \n",
       "1998       0.53      0.46      0.00         0.05          83.0        8.8   \n",
       "\n",
       "      rating  \n",
       "6410       E  \n",
       "6473       E  \n",
       "3581       T  \n",
       "5972       T  \n",
       "11715      T  \n",
       "253        T  \n",
       "523      NaN  \n",
       "2048     NaN  \n",
       "6273     NaN  \n",
       "1591       T  \n",
       "1190       T  \n",
       "1998       T  "
      ]
     },
     "execution_count": 18,
     "metadata": {},
     "output_type": "execute_result"
    }
   ],
   "source": [
    "(games[games['name'] == 'need for speed: most wanted']\n",
    " .sort_values(['platform', 'year_of_release']))"
   ]
  },
  {
   "cell_type": "markdown",
   "id": "2c065e6a",
   "metadata": {},
   "source": [
    "Эти дубликаты появились потому, что у названия Most Wanted было два года выпуска: 2005 и 2012. Веб-поиск сообщает, что эти издания можно считать разными играми, поскольку вторая имеет некоторые отличия."
   ]
  },
  {
   "cell_type": "markdown",
   "id": "2d75ade4",
   "metadata": {},
   "source": [
    "Проверим другие игры-дубликаты."
   ]
  },
  {
   "cell_type": "code",
   "execution_count": 19,
   "id": "3cd86ab4",
   "metadata": {},
   "outputs": [
    {
     "data": {
      "text/html": [
       "<div>\n",
       "<style scoped>\n",
       "    .dataframe tbody tr th:only-of-type {\n",
       "        vertical-align: middle;\n",
       "    }\n",
       "\n",
       "    .dataframe tbody tr th {\n",
       "        vertical-align: top;\n",
       "    }\n",
       "\n",
       "    .dataframe thead th {\n",
       "        text-align: right;\n",
       "    }\n",
       "</style>\n",
       "<table border=\"1\" class=\"dataframe\">\n",
       "  <thead>\n",
       "    <tr style=\"text-align: right;\">\n",
       "      <th></th>\n",
       "      <th>name</th>\n",
       "      <th>platform</th>\n",
       "      <th>year_of_release</th>\n",
       "      <th>genre</th>\n",
       "      <th>na_sales</th>\n",
       "      <th>eu_sales</th>\n",
       "      <th>jp_sales</th>\n",
       "      <th>other_sales</th>\n",
       "      <th>critic_score</th>\n",
       "      <th>user_score</th>\n",
       "      <th>rating</th>\n",
       "    </tr>\n",
       "  </thead>\n",
       "  <tbody>\n",
       "    <tr>\n",
       "      <th>507</th>\n",
       "      <td>madden nfl 13</td>\n",
       "      <td>X360</td>\n",
       "      <td>2012.0</td>\n",
       "      <td>sports</td>\n",
       "      <td>2.53</td>\n",
       "      <td>0.15</td>\n",
       "      <td>0.0</td>\n",
       "      <td>0.17</td>\n",
       "      <td>81.0</td>\n",
       "      <td>5.8</td>\n",
       "      <td>E</td>\n",
       "    </tr>\n",
       "    <tr>\n",
       "      <th>604</th>\n",
       "      <td>madden nfl 13</td>\n",
       "      <td>PS3</td>\n",
       "      <td>2012.0</td>\n",
       "      <td>sports</td>\n",
       "      <td>2.11</td>\n",
       "      <td>0.22</td>\n",
       "      <td>0.0</td>\n",
       "      <td>0.23</td>\n",
       "      <td>83.0</td>\n",
       "      <td>5.5</td>\n",
       "      <td>E</td>\n",
       "    </tr>\n",
       "    <tr>\n",
       "      <th>3986</th>\n",
       "      <td>madden nfl 13</td>\n",
       "      <td>Wii</td>\n",
       "      <td>2012.0</td>\n",
       "      <td>sports</td>\n",
       "      <td>0.47</td>\n",
       "      <td>0.00</td>\n",
       "      <td>0.0</td>\n",
       "      <td>0.03</td>\n",
       "      <td>NaN</td>\n",
       "      <td>7.3</td>\n",
       "      <td>E</td>\n",
       "    </tr>\n",
       "    <tr>\n",
       "      <th>5887</th>\n",
       "      <td>madden nfl 13</td>\n",
       "      <td>PSV</td>\n",
       "      <td>2012.0</td>\n",
       "      <td>sports</td>\n",
       "      <td>0.28</td>\n",
       "      <td>0.00</td>\n",
       "      <td>0.0</td>\n",
       "      <td>0.02</td>\n",
       "      <td>63.0</td>\n",
       "      <td>7.3</td>\n",
       "      <td>E</td>\n",
       "    </tr>\n",
       "    <tr>\n",
       "      <th>7066</th>\n",
       "      <td>madden nfl 13</td>\n",
       "      <td>WiiU</td>\n",
       "      <td>2012.0</td>\n",
       "      <td>sports</td>\n",
       "      <td>0.21</td>\n",
       "      <td>0.00</td>\n",
       "      <td>0.0</td>\n",
       "      <td>0.02</td>\n",
       "      <td>75.0</td>\n",
       "      <td>6.7</td>\n",
       "      <td>E</td>\n",
       "    </tr>\n",
       "    <tr>\n",
       "      <th>16230</th>\n",
       "      <td>madden nfl 13</td>\n",
       "      <td>PS3</td>\n",
       "      <td>2012.0</td>\n",
       "      <td>sports</td>\n",
       "      <td>0.00</td>\n",
       "      <td>0.01</td>\n",
       "      <td>0.0</td>\n",
       "      <td>0.00</td>\n",
       "      <td>83.0</td>\n",
       "      <td>5.5</td>\n",
       "      <td>E</td>\n",
       "    </tr>\n",
       "  </tbody>\n",
       "</table>\n",
       "</div>"
      ],
      "text/plain": [
       "                name platform  year_of_release   genre  na_sales  eu_sales  \\\n",
       "507    madden nfl 13     X360           2012.0  sports      2.53      0.15   \n",
       "604    madden nfl 13      PS3           2012.0  sports      2.11      0.22   \n",
       "3986   madden nfl 13      Wii           2012.0  sports      0.47      0.00   \n",
       "5887   madden nfl 13      PSV           2012.0  sports      0.28      0.00   \n",
       "7066   madden nfl 13     WiiU           2012.0  sports      0.21      0.00   \n",
       "16230  madden nfl 13      PS3           2012.0  sports      0.00      0.01   \n",
       "\n",
       "       jp_sales  other_sales  critic_score user_score rating  \n",
       "507         0.0         0.17          81.0        5.8      E  \n",
       "604         0.0         0.23          83.0        5.5      E  \n",
       "3986        0.0         0.03           NaN        7.3      E  \n",
       "5887        0.0         0.02          63.0        7.3      E  \n",
       "7066        0.0         0.02          75.0        6.7      E  \n",
       "16230       0.0         0.00          83.0        5.5      E  "
      ]
     },
     "execution_count": 19,
     "metadata": {},
     "output_type": "execute_result"
    }
   ],
   "source": [
    "games[games['name'] == 'madden nfl 13']"
   ]
  },
  {
   "cell_type": "markdown",
   "id": "7f8778e9",
   "metadata": {},
   "source": [
    "Строка 16230 повторяет строку 604, разница только в величинах продаж. Так могло быть, если эти две записи пришли из разных источников, и не были объединены. Мы объединим так: прибавим продажи второй записи к первой, и удалим вторую запись."
   ]
  },
  {
   "cell_type": "code",
   "execution_count": 20,
   "id": "dbd05211",
   "metadata": {},
   "outputs": [
    {
     "data": {
      "text/html": [
       "<div>\n",
       "<style scoped>\n",
       "    .dataframe tbody tr th:only-of-type {\n",
       "        vertical-align: middle;\n",
       "    }\n",
       "\n",
       "    .dataframe tbody tr th {\n",
       "        vertical-align: top;\n",
       "    }\n",
       "\n",
       "    .dataframe thead th {\n",
       "        text-align: right;\n",
       "    }\n",
       "</style>\n",
       "<table border=\"1\" class=\"dataframe\">\n",
       "  <thead>\n",
       "    <tr style=\"text-align: right;\">\n",
       "      <th></th>\n",
       "      <th>name</th>\n",
       "      <th>platform</th>\n",
       "      <th>year_of_release</th>\n",
       "      <th>genre</th>\n",
       "      <th>na_sales</th>\n",
       "      <th>eu_sales</th>\n",
       "      <th>jp_sales</th>\n",
       "      <th>other_sales</th>\n",
       "      <th>critic_score</th>\n",
       "      <th>user_score</th>\n",
       "      <th>rating</th>\n",
       "    </tr>\n",
       "  </thead>\n",
       "  <tbody>\n",
       "    <tr>\n",
       "      <th>507</th>\n",
       "      <td>madden nfl 13</td>\n",
       "      <td>X360</td>\n",
       "      <td>2012.0</td>\n",
       "      <td>sports</td>\n",
       "      <td>2.53</td>\n",
       "      <td>0.15</td>\n",
       "      <td>0.0</td>\n",
       "      <td>0.17</td>\n",
       "      <td>81.0</td>\n",
       "      <td>5.8</td>\n",
       "      <td>E</td>\n",
       "    </tr>\n",
       "    <tr>\n",
       "      <th>604</th>\n",
       "      <td>madden nfl 13</td>\n",
       "      <td>PS3</td>\n",
       "      <td>2012.0</td>\n",
       "      <td>sports</td>\n",
       "      <td>2.11</td>\n",
       "      <td>0.23</td>\n",
       "      <td>0.0</td>\n",
       "      <td>0.23</td>\n",
       "      <td>83.0</td>\n",
       "      <td>5.5</td>\n",
       "      <td>E</td>\n",
       "    </tr>\n",
       "    <tr>\n",
       "      <th>3986</th>\n",
       "      <td>madden nfl 13</td>\n",
       "      <td>Wii</td>\n",
       "      <td>2012.0</td>\n",
       "      <td>sports</td>\n",
       "      <td>0.47</td>\n",
       "      <td>0.00</td>\n",
       "      <td>0.0</td>\n",
       "      <td>0.03</td>\n",
       "      <td>NaN</td>\n",
       "      <td>7.3</td>\n",
       "      <td>E</td>\n",
       "    </tr>\n",
       "    <tr>\n",
       "      <th>5887</th>\n",
       "      <td>madden nfl 13</td>\n",
       "      <td>PSV</td>\n",
       "      <td>2012.0</td>\n",
       "      <td>sports</td>\n",
       "      <td>0.28</td>\n",
       "      <td>0.00</td>\n",
       "      <td>0.0</td>\n",
       "      <td>0.02</td>\n",
       "      <td>63.0</td>\n",
       "      <td>7.3</td>\n",
       "      <td>E</td>\n",
       "    </tr>\n",
       "    <tr>\n",
       "      <th>7066</th>\n",
       "      <td>madden nfl 13</td>\n",
       "      <td>WiiU</td>\n",
       "      <td>2012.0</td>\n",
       "      <td>sports</td>\n",
       "      <td>0.21</td>\n",
       "      <td>0.00</td>\n",
       "      <td>0.0</td>\n",
       "      <td>0.02</td>\n",
       "      <td>75.0</td>\n",
       "      <td>6.7</td>\n",
       "      <td>E</td>\n",
       "    </tr>\n",
       "  </tbody>\n",
       "</table>\n",
       "</div>"
      ],
      "text/plain": [
       "               name platform  year_of_release   genre  na_sales  eu_sales  \\\n",
       "507   madden nfl 13     X360           2012.0  sports      2.53      0.15   \n",
       "604   madden nfl 13      PS3           2012.0  sports      2.11      0.23   \n",
       "3986  madden nfl 13      Wii           2012.0  sports      0.47      0.00   \n",
       "5887  madden nfl 13      PSV           2012.0  sports      0.28      0.00   \n",
       "7066  madden nfl 13     WiiU           2012.0  sports      0.21      0.00   \n",
       "\n",
       "      jp_sales  other_sales  critic_score user_score rating  \n",
       "507        0.0         0.17          81.0        5.8      E  \n",
       "604        0.0         0.23          83.0        5.5      E  \n",
       "3986       0.0         0.03           NaN        7.3      E  \n",
       "5887       0.0         0.02          63.0        7.3      E  \n",
       "7066       0.0         0.02          75.0        6.7      E  "
      ]
     },
     "execution_count": 20,
     "metadata": {},
     "output_type": "execute_result"
    }
   ],
   "source": [
    "games.loc[604, 'eu_sales'] += games.loc[16230, 'eu_sales']\n",
    "games = games.drop(index=16230)\n",
    "games[games['name'] == 'madden nfl 13']"
   ]
  },
  {
   "cell_type": "markdown",
   "id": "26cafc8d",
   "metadata": {},
   "source": [
    "Удалось. Осталась одна игра-дубликат."
   ]
  },
  {
   "cell_type": "code",
   "execution_count": 21,
   "id": "095c3b36",
   "metadata": {},
   "outputs": [
    {
     "data": {
      "text/html": [
       "<div>\n",
       "<style scoped>\n",
       "    .dataframe tbody tr th:only-of-type {\n",
       "        vertical-align: middle;\n",
       "    }\n",
       "\n",
       "    .dataframe tbody tr th {\n",
       "        vertical-align: top;\n",
       "    }\n",
       "\n",
       "    .dataframe thead th {\n",
       "        text-align: right;\n",
       "    }\n",
       "</style>\n",
       "<table border=\"1\" class=\"dataframe\">\n",
       "  <thead>\n",
       "    <tr style=\"text-align: right;\">\n",
       "      <th></th>\n",
       "      <th>name</th>\n",
       "      <th>platform</th>\n",
       "      <th>year_of_release</th>\n",
       "      <th>genre</th>\n",
       "      <th>na_sales</th>\n",
       "      <th>eu_sales</th>\n",
       "      <th>jp_sales</th>\n",
       "      <th>other_sales</th>\n",
       "      <th>critic_score</th>\n",
       "      <th>user_score</th>\n",
       "      <th>rating</th>\n",
       "    </tr>\n",
       "  </thead>\n",
       "  <tbody>\n",
       "    <tr>\n",
       "      <th>257</th>\n",
       "      <td>sonic the hedgehog</td>\n",
       "      <td>GEN</td>\n",
       "      <td>1991.0</td>\n",
       "      <td>platform</td>\n",
       "      <td>3.03</td>\n",
       "      <td>0.91</td>\n",
       "      <td>0.26</td>\n",
       "      <td>0.13</td>\n",
       "      <td>NaN</td>\n",
       "      <td>NaN</td>\n",
       "      <td>NaN</td>\n",
       "    </tr>\n",
       "    <tr>\n",
       "      <th>1745</th>\n",
       "      <td>sonic the hedgehog</td>\n",
       "      <td>PS3</td>\n",
       "      <td>2006.0</td>\n",
       "      <td>platform</td>\n",
       "      <td>0.41</td>\n",
       "      <td>0.06</td>\n",
       "      <td>0.04</td>\n",
       "      <td>0.66</td>\n",
       "      <td>43.0</td>\n",
       "      <td>4.1</td>\n",
       "      <td>E10+</td>\n",
       "    </tr>\n",
       "    <tr>\n",
       "      <th>1996</th>\n",
       "      <td>sonic the hedgehog</td>\n",
       "      <td>X360</td>\n",
       "      <td>2006.0</td>\n",
       "      <td>platform</td>\n",
       "      <td>0.44</td>\n",
       "      <td>0.48</td>\n",
       "      <td>0.00</td>\n",
       "      <td>0.11</td>\n",
       "      <td>46.0</td>\n",
       "      <td>4.4</td>\n",
       "      <td>E10+</td>\n",
       "    </tr>\n",
       "    <tr>\n",
       "      <th>4127</th>\n",
       "      <td>sonic the hedgehog</td>\n",
       "      <td>PS3</td>\n",
       "      <td>NaN</td>\n",
       "      <td>platform</td>\n",
       "      <td>0.00</td>\n",
       "      <td>0.48</td>\n",
       "      <td>0.00</td>\n",
       "      <td>0.00</td>\n",
       "      <td>43.0</td>\n",
       "      <td>4.1</td>\n",
       "      <td>E10+</td>\n",
       "    </tr>\n",
       "  </tbody>\n",
       "</table>\n",
       "</div>"
      ],
      "text/plain": [
       "                    name platform  year_of_release     genre  na_sales  \\\n",
       "257   sonic the hedgehog      GEN           1991.0  platform      3.03   \n",
       "1745  sonic the hedgehog      PS3           2006.0  platform      0.41   \n",
       "1996  sonic the hedgehog     X360           2006.0  platform      0.44   \n",
       "4127  sonic the hedgehog      PS3              NaN  platform      0.00   \n",
       "\n",
       "      eu_sales  jp_sales  other_sales  critic_score user_score rating  \n",
       "257       0.91      0.26         0.13           NaN        NaN    NaN  \n",
       "1745      0.06      0.04         0.66          43.0        4.1   E10+  \n",
       "1996      0.48      0.00         0.11          46.0        4.4   E10+  \n",
       "4127      0.48      0.00         0.00          43.0        4.1   E10+  "
      ]
     },
     "execution_count": 21,
     "metadata": {},
     "output_type": "execute_result"
    }
   ],
   "source": [
    "games[games['name'] == 'sonic the hedgehog']"
   ]
  },
  {
   "cell_type": "markdown",
   "id": "b3fc5447",
   "metadata": {},
   "source": [
    "В дубликате отсутствует год выпуска. Однако оценки идентичны оригиналу. Объединим так же как предыдущую игру."
   ]
  },
  {
   "cell_type": "code",
   "execution_count": 22,
   "id": "2718b276",
   "metadata": {},
   "outputs": [
    {
     "data": {
      "text/html": [
       "<div>\n",
       "<style scoped>\n",
       "    .dataframe tbody tr th:only-of-type {\n",
       "        vertical-align: middle;\n",
       "    }\n",
       "\n",
       "    .dataframe tbody tr th {\n",
       "        vertical-align: top;\n",
       "    }\n",
       "\n",
       "    .dataframe thead th {\n",
       "        text-align: right;\n",
       "    }\n",
       "</style>\n",
       "<table border=\"1\" class=\"dataframe\">\n",
       "  <thead>\n",
       "    <tr style=\"text-align: right;\">\n",
       "      <th></th>\n",
       "      <th>name</th>\n",
       "      <th>platform</th>\n",
       "      <th>year_of_release</th>\n",
       "      <th>genre</th>\n",
       "      <th>na_sales</th>\n",
       "      <th>eu_sales</th>\n",
       "      <th>jp_sales</th>\n",
       "      <th>other_sales</th>\n",
       "      <th>critic_score</th>\n",
       "      <th>user_score</th>\n",
       "      <th>rating</th>\n",
       "    </tr>\n",
       "  </thead>\n",
       "  <tbody>\n",
       "    <tr>\n",
       "      <th>257</th>\n",
       "      <td>sonic the hedgehog</td>\n",
       "      <td>GEN</td>\n",
       "      <td>1991.0</td>\n",
       "      <td>platform</td>\n",
       "      <td>3.03</td>\n",
       "      <td>0.91</td>\n",
       "      <td>0.26</td>\n",
       "      <td>0.13</td>\n",
       "      <td>NaN</td>\n",
       "      <td>NaN</td>\n",
       "      <td>NaN</td>\n",
       "    </tr>\n",
       "    <tr>\n",
       "      <th>1745</th>\n",
       "      <td>sonic the hedgehog</td>\n",
       "      <td>PS3</td>\n",
       "      <td>2006.0</td>\n",
       "      <td>platform</td>\n",
       "      <td>0.41</td>\n",
       "      <td>0.54</td>\n",
       "      <td>0.04</td>\n",
       "      <td>0.66</td>\n",
       "      <td>43.0</td>\n",
       "      <td>4.1</td>\n",
       "      <td>E10+</td>\n",
       "    </tr>\n",
       "    <tr>\n",
       "      <th>1996</th>\n",
       "      <td>sonic the hedgehog</td>\n",
       "      <td>X360</td>\n",
       "      <td>2006.0</td>\n",
       "      <td>platform</td>\n",
       "      <td>0.44</td>\n",
       "      <td>0.48</td>\n",
       "      <td>0.00</td>\n",
       "      <td>0.11</td>\n",
       "      <td>46.0</td>\n",
       "      <td>4.4</td>\n",
       "      <td>E10+</td>\n",
       "    </tr>\n",
       "  </tbody>\n",
       "</table>\n",
       "</div>"
      ],
      "text/plain": [
       "                    name platform  year_of_release     genre  na_sales  \\\n",
       "257   sonic the hedgehog      GEN           1991.0  platform      3.03   \n",
       "1745  sonic the hedgehog      PS3           2006.0  platform      0.41   \n",
       "1996  sonic the hedgehog     X360           2006.0  platform      0.44   \n",
       "\n",
       "      eu_sales  jp_sales  other_sales  critic_score user_score rating  \n",
       "257       0.91      0.26         0.13           NaN        NaN    NaN  \n",
       "1745      0.54      0.04         0.66          43.0        4.1   E10+  \n",
       "1996      0.48      0.00         0.11          46.0        4.4   E10+  "
      ]
     },
     "execution_count": 22,
     "metadata": {},
     "output_type": "execute_result"
    }
   ],
   "source": [
    "games.loc[1745, 'eu_sales'] += games.loc[4127, 'eu_sales']\n",
    "games = games.drop(index=4127)\n",
    "games[games['name'] == 'sonic the hedgehog']"
   ]
  },
  {
   "cell_type": "markdown",
   "id": "35b5b752",
   "metadata": {},
   "source": [
    "Осталась строка-дубликат, которая вовсе не содержит имени игры."
   ]
  },
  {
   "cell_type": "code",
   "execution_count": 23,
   "id": "6a6d7fe0",
   "metadata": {
    "scrolled": true
   },
   "outputs": [
    {
     "data": {
      "text/html": [
       "<div>\n",
       "<style scoped>\n",
       "    .dataframe tbody tr th:only-of-type {\n",
       "        vertical-align: middle;\n",
       "    }\n",
       "\n",
       "    .dataframe tbody tr th {\n",
       "        vertical-align: top;\n",
       "    }\n",
       "\n",
       "    .dataframe thead th {\n",
       "        text-align: right;\n",
       "    }\n",
       "</style>\n",
       "<table border=\"1\" class=\"dataframe\">\n",
       "  <thead>\n",
       "    <tr style=\"text-align: right;\">\n",
       "      <th></th>\n",
       "      <th>name</th>\n",
       "      <th>platform</th>\n",
       "      <th>year_of_release</th>\n",
       "      <th>genre</th>\n",
       "      <th>na_sales</th>\n",
       "      <th>eu_sales</th>\n",
       "      <th>jp_sales</th>\n",
       "      <th>other_sales</th>\n",
       "      <th>critic_score</th>\n",
       "      <th>user_score</th>\n",
       "      <th>rating</th>\n",
       "    </tr>\n",
       "  </thead>\n",
       "  <tbody>\n",
       "    <tr>\n",
       "      <th>659</th>\n",
       "      <td>NaN</td>\n",
       "      <td>GEN</td>\n",
       "      <td>1993.0</td>\n",
       "      <td>NaN</td>\n",
       "      <td>1.78</td>\n",
       "      <td>0.53</td>\n",
       "      <td>0.00</td>\n",
       "      <td>0.08</td>\n",
       "      <td>NaN</td>\n",
       "      <td>NaN</td>\n",
       "      <td>NaN</td>\n",
       "    </tr>\n",
       "    <tr>\n",
       "      <th>14244</th>\n",
       "      <td>NaN</td>\n",
       "      <td>GEN</td>\n",
       "      <td>1993.0</td>\n",
       "      <td>NaN</td>\n",
       "      <td>0.00</td>\n",
       "      <td>0.00</td>\n",
       "      <td>0.03</td>\n",
       "      <td>0.00</td>\n",
       "      <td>NaN</td>\n",
       "      <td>NaN</td>\n",
       "      <td>NaN</td>\n",
       "    </tr>\n",
       "  </tbody>\n",
       "</table>\n",
       "</div>"
      ],
      "text/plain": [
       "      name platform  year_of_release genre  na_sales  eu_sales  jp_sales  \\\n",
       "659    NaN      GEN           1993.0   NaN      1.78      0.53      0.00   \n",
       "14244  NaN      GEN           1993.0   NaN      0.00      0.00      0.03   \n",
       "\n",
       "       other_sales  critic_score user_score rating  \n",
       "659           0.08           NaN        NaN    NaN  \n",
       "14244         0.00           NaN        NaN    NaN  "
      ]
     },
     "execution_count": 23,
     "metadata": {},
     "output_type": "execute_result"
    }
   ],
   "source": [
    "games[games['name'].isna()]"
   ]
  },
  {
   "cell_type": "markdown",
   "id": "3cc9738f",
   "metadata": {},
   "source": [
    "Эти же две строки не содержат жанр. Ещё в них не присутствуют оценки. По продажам - в первой игре отсутствуют `jp_sales`, во второй - только они и присутствуют. Считаем, что это данные об одной игре."
   ]
  },
  {
   "cell_type": "code",
   "execution_count": 24,
   "id": "a7291c50",
   "metadata": {},
   "outputs": [
    {
     "data": {
      "text/html": [
       "<div>\n",
       "<style scoped>\n",
       "    .dataframe tbody tr th:only-of-type {\n",
       "        vertical-align: middle;\n",
       "    }\n",
       "\n",
       "    .dataframe tbody tr th {\n",
       "        vertical-align: top;\n",
       "    }\n",
       "\n",
       "    .dataframe thead th {\n",
       "        text-align: right;\n",
       "    }\n",
       "</style>\n",
       "<table border=\"1\" class=\"dataframe\">\n",
       "  <thead>\n",
       "    <tr style=\"text-align: right;\">\n",
       "      <th></th>\n",
       "      <th>name</th>\n",
       "      <th>platform</th>\n",
       "      <th>year_of_release</th>\n",
       "      <th>genre</th>\n",
       "      <th>na_sales</th>\n",
       "      <th>eu_sales</th>\n",
       "      <th>jp_sales</th>\n",
       "      <th>other_sales</th>\n",
       "      <th>critic_score</th>\n",
       "      <th>user_score</th>\n",
       "      <th>rating</th>\n",
       "    </tr>\n",
       "  </thead>\n",
       "  <tbody>\n",
       "    <tr>\n",
       "      <th>659</th>\n",
       "      <td>NaN</td>\n",
       "      <td>GEN</td>\n",
       "      <td>1993.0</td>\n",
       "      <td>NaN</td>\n",
       "      <td>1.78</td>\n",
       "      <td>0.53</td>\n",
       "      <td>0.03</td>\n",
       "      <td>0.08</td>\n",
       "      <td>NaN</td>\n",
       "      <td>NaN</td>\n",
       "      <td>NaN</td>\n",
       "    </tr>\n",
       "  </tbody>\n",
       "</table>\n",
       "</div>"
      ],
      "text/plain": [
       "    name platform  year_of_release genre  na_sales  eu_sales  jp_sales  \\\n",
       "659  NaN      GEN           1993.0   NaN      1.78      0.53      0.03   \n",
       "\n",
       "     other_sales  critic_score user_score rating  \n",
       "659         0.08           NaN        NaN    NaN  "
      ]
     },
     "execution_count": 24,
     "metadata": {},
     "output_type": "execute_result"
    }
   ],
   "source": [
    "games.loc[659, 'jp_sales'] += games.loc[14244, 'jp_sales']\n",
    "games = games.drop(index=14244)\n",
    "games[games['name'].isna()]"
   ]
  },
  {
   "cell_type": "markdown",
   "id": "16841613",
   "metadata": {},
   "source": [
    "**Итоги:**\n",
    "- обнаружены 3 неявных дубликата строк;\n",
    "- уникальных названий игр - 11560 из 16715 записей, поскольку:\n",
    "  - под одним названием и в один год игра издавалась на нескольких платформах;\n",
    "  - таким образом, в каждой строке описана не игра, а издание игры."
   ]
  },
  {
   "cell_type": "markdown",
   "id": "87de2671",
   "metadata": {},
   "source": [
    "### Исследование пропусков"
   ]
  },
  {
   "cell_type": "code",
   "execution_count": 25,
   "id": "caac0554",
   "metadata": {
    "scrolled": false
   },
   "outputs": [
    {
     "data": {
      "text/html": [
       "<div>\n",
       "<style scoped>\n",
       "    .dataframe tbody tr th:only-of-type {\n",
       "        vertical-align: middle;\n",
       "    }\n",
       "\n",
       "    .dataframe tbody tr th {\n",
       "        vertical-align: top;\n",
       "    }\n",
       "\n",
       "    .dataframe thead th {\n",
       "        text-align: right;\n",
       "    }\n",
       "</style>\n",
       "<table border=\"1\" class=\"dataframe\">\n",
       "  <thead>\n",
       "    <tr style=\"text-align: right;\">\n",
       "      <th></th>\n",
       "      <th>na_count</th>\n",
       "      <th>na_part</th>\n",
       "      <th>unique_count</th>\n",
       "    </tr>\n",
       "    <tr>\n",
       "      <th>column</th>\n",
       "      <th></th>\n",
       "      <th></th>\n",
       "      <th></th>\n",
       "    </tr>\n",
       "  </thead>\n",
       "  <tbody>\n",
       "    <tr>\n",
       "      <th>critic_score</th>\n",
       "      <td>8577</td>\n",
       "      <td>0.513224</td>\n",
       "      <td>83</td>\n",
       "    </tr>\n",
       "    <tr>\n",
       "      <th>rating</th>\n",
       "      <td>6765</td>\n",
       "      <td>0.404799</td>\n",
       "      <td>9</td>\n",
       "    </tr>\n",
       "    <tr>\n",
       "      <th>user_score</th>\n",
       "      <td>6700</td>\n",
       "      <td>0.400910</td>\n",
       "      <td>97</td>\n",
       "    </tr>\n",
       "    <tr>\n",
       "      <th>year_of_release</th>\n",
       "      <td>268</td>\n",
       "      <td>0.016036</td>\n",
       "      <td>38</td>\n",
       "    </tr>\n",
       "    <tr>\n",
       "      <th>name</th>\n",
       "      <td>1</td>\n",
       "      <td>0.000060</td>\n",
       "      <td>11560</td>\n",
       "    </tr>\n",
       "    <tr>\n",
       "      <th>genre</th>\n",
       "      <td>1</td>\n",
       "      <td>0.000060</td>\n",
       "      <td>13</td>\n",
       "    </tr>\n",
       "    <tr>\n",
       "      <th>na_sales</th>\n",
       "      <td>0</td>\n",
       "      <td>0.000000</td>\n",
       "      <td>402</td>\n",
       "    </tr>\n",
       "    <tr>\n",
       "      <th>eu_sales</th>\n",
       "      <td>0</td>\n",
       "      <td>0.000000</td>\n",
       "      <td>307</td>\n",
       "    </tr>\n",
       "    <tr>\n",
       "      <th>jp_sales</th>\n",
       "      <td>0</td>\n",
       "      <td>0.000000</td>\n",
       "      <td>244</td>\n",
       "    </tr>\n",
       "    <tr>\n",
       "      <th>other_sales</th>\n",
       "      <td>0</td>\n",
       "      <td>0.000000</td>\n",
       "      <td>155</td>\n",
       "    </tr>\n",
       "    <tr>\n",
       "      <th>platform</th>\n",
       "      <td>0</td>\n",
       "      <td>0.000000</td>\n",
       "      <td>31</td>\n",
       "    </tr>\n",
       "  </tbody>\n",
       "</table>\n",
       "</div>"
      ],
      "text/plain": [
       "                 na_count   na_part  unique_count\n",
       "column                                           \n",
       "critic_score         8577  0.513224            83\n",
       "rating               6765  0.404799             9\n",
       "user_score           6700  0.400910            97\n",
       "year_of_release       268  0.016036            38\n",
       "name                    1  0.000060         11560\n",
       "genre                   1  0.000060            13\n",
       "na_sales                0  0.000000           402\n",
       "eu_sales                0  0.000000           307\n",
       "jp_sales                0  0.000000           244\n",
       "other_sales             0  0.000000           155\n",
       "platform                0  0.000000            31"
      ]
     },
     "execution_count": 25,
     "metadata": {},
     "output_type": "execute_result"
    }
   ],
   "source": [
    "get_nans(games)"
   ]
  },
  {
   "cell_type": "markdown",
   "id": "d4f59be2",
   "metadata": {},
   "source": [
    "Игру с пропущенными названием и жанром мы уже обрабатывали. Взглянем, чем отличаются игры, в которых заполнены и пропущены `critic_score`, `user_score`, `rating`."
   ]
  },
  {
   "cell_type": "code",
   "execution_count": 26,
   "id": "b24cbf58",
   "metadata": {
    "scrolled": false
   },
   "outputs": [
    {
     "data": {
      "text/plain": [
       "6620"
      ]
     },
     "execution_count": 26,
     "metadata": {},
     "output_type": "execute_result"
    }
   ],
   "source": [
    "games[\n",
    "    (games['critic_score'].isna())\n",
    "    & (games['user_score'].isna())\n",
    "    & (games['rating'].isna())\n",
    "].shape[0]"
   ]
  },
  {
   "cell_type": "markdown",
   "id": "07d9122b",
   "metadata": {},
   "source": [
    "Таким образом, `rating`, `user_score` и `critic_score` почти всегда отсутствуют одновременно.\n",
    "\n",
    "В чём может быть причины таких пропусков? Рейтинг выставляется организацией ERSB. Вполне возможно, что всю информацию, описанную в строках с указанным рейтингом предоставила эта же организация. А другие источники в основном не собирают оценки пользователей и критиков, возрастные категории.\n",
    "\n",
    "Проверим одно предположение: у каждой игры, продававшейся в Северной Америке, известна категория ESRB."
   ]
  },
  {
   "cell_type": "code",
   "execution_count": 27,
   "id": "81a9689a",
   "metadata": {
    "scrolled": false
   },
   "outputs": [
    {
     "data": {
      "text/html": [
       "<div>\n",
       "<style scoped>\n",
       "    .dataframe tbody tr th:only-of-type {\n",
       "        vertical-align: middle;\n",
       "    }\n",
       "\n",
       "    .dataframe tbody tr th {\n",
       "        vertical-align: top;\n",
       "    }\n",
       "\n",
       "    .dataframe thead tr th {\n",
       "        text-align: left;\n",
       "    }\n",
       "\n",
       "    .dataframe thead tr:last-of-type th {\n",
       "        text-align: right;\n",
       "    }\n",
       "</style>\n",
       "<table border=\"1\" class=\"dataframe\">\n",
       "  <thead>\n",
       "    <tr>\n",
       "      <th></th>\n",
       "      <th colspan=\"2\" halign=\"left\">na_sales</th>\n",
       "    </tr>\n",
       "    <tr>\n",
       "      <th></th>\n",
       "      <th>count</th>\n",
       "      <th>sum</th>\n",
       "    </tr>\n",
       "    <tr>\n",
       "      <th>rating</th>\n",
       "      <th></th>\n",
       "      <th></th>\n",
       "    </tr>\n",
       "  </thead>\n",
       "  <tbody>\n",
       "    <tr>\n",
       "      <th>AO</th>\n",
       "      <td>1</td>\n",
       "      <td>1.26</td>\n",
       "    </tr>\n",
       "    <tr>\n",
       "      <th>E</th>\n",
       "      <td>3761</td>\n",
       "      <td>1292.99</td>\n",
       "    </tr>\n",
       "    <tr>\n",
       "      <th>E10+</th>\n",
       "      <td>1328</td>\n",
       "      <td>353.32</td>\n",
       "    </tr>\n",
       "    <tr>\n",
       "      <th>EC</th>\n",
       "      <td>8</td>\n",
       "      <td>1.53</td>\n",
       "    </tr>\n",
       "    <tr>\n",
       "      <th>K-A</th>\n",
       "      <td>2</td>\n",
       "      <td>2.56</td>\n",
       "    </tr>\n",
       "    <tr>\n",
       "      <th>M</th>\n",
       "      <td>1423</td>\n",
       "      <td>748.48</td>\n",
       "    </tr>\n",
       "    <tr>\n",
       "      <th>NA</th>\n",
       "      <td>3034</td>\n",
       "      <td>1242.46</td>\n",
       "    </tr>\n",
       "    <tr>\n",
       "      <th>T</th>\n",
       "      <td>2650</td>\n",
       "      <td>759.75</td>\n",
       "    </tr>\n",
       "  </tbody>\n",
       "</table>\n",
       "</div>"
      ],
      "text/plain": [
       "       na_sales         \n",
       "          count      sum\n",
       "rating                  \n",
       "AO            1     1.26\n",
       "E          3761  1292.99\n",
       "E10+       1328   353.32\n",
       "EC            8     1.53\n",
       "K-A           2     2.56\n",
       "M          1423   748.48\n",
       "NA         3034  1242.46\n",
       "T          2650   759.75"
      ]
     },
     "execution_count": 27,
     "metadata": {},
     "output_type": "execute_result"
    }
   ],
   "source": [
    "na_sales = games[games['na_sales'] > 0][['na_sales', 'rating']]\n",
    "na_sales.fillna('NA').groupby('rating').agg(['count', 'sum'])"
   ]
  },
  {
   "cell_type": "markdown",
   "id": "184e1217",
   "metadata": {},
   "source": [
    "Итак, игры без указания категории составляют около четверти релизов и четверти продаж в Северной Америке.\n",
    "\n",
    "Возможные объяснения:\n",
    "- наши данные существенно не полны;\n",
    "- в продаже действительно было много игр, не прошедших оценку ESRB.\n",
    "\n",
    "Что мы знаем об играх, у которых пропущен год выпуска?"
   ]
  },
  {
   "cell_type": "code",
   "execution_count": 28,
   "id": "50a4da90",
   "metadata": {},
   "outputs": [
    {
     "data": {
      "text/plain": [
       "array(['PS2', 'Wii', '2600', 'X360', 'GBA', 'PC', 'PS3', 'PS', 'PSP',\n",
       "       'XB', 'GB', 'DS', 'GC', '3DS', 'N64', 'PSV'], dtype=object)"
      ]
     },
     "execution_count": 28,
     "metadata": {},
     "output_type": "execute_result"
    }
   ],
   "source": [
    "na_year_games = games[games['year_of_release'].isna()]\n",
    "na_year_games['platform'].unique()"
   ]
  },
  {
   "cell_type": "markdown",
   "id": "7400d9a8",
   "metadata": {},
   "source": [
    "Платформы разные, но новейших среди них нет."
   ]
  },
  {
   "cell_type": "markdown",
   "id": "61d281d2",
   "metadata": {},
   "source": [
    "**Итоги:**\n",
    "- более трети записей не содержат оценок и категории ERSB,\n",
    "- возможные причины:\n",
    "  - такие данные предоставляет только сам ESRB, но не другие поставщики данных.\n",
    "- мы не избавляемся от записей с пропусками, поскольку:\n",
    "  - все они содержат данные о продажах, а это - наша цель;\n",
    "- мы не заменяем пропуски, поскольку:\n",
    "  - методы анализа, которые мы применим, этого не требуют;\n",
    "  - данных о рейтингах достаточно для выводов."
   ]
  },
  {
   "cell_type": "markdown",
   "id": "15fb4a07",
   "metadata": {},
   "source": [
    "### Преобразования типов"
   ]
  },
  {
   "cell_type": "code",
   "execution_count": 29,
   "id": "6d7f0ceb",
   "metadata": {},
   "outputs": [
    {
     "data": {
      "text/plain": [
       "array([1980., 1981., 1982., 1983., 1984., 1985., 1986., 1987., 1988.,\n",
       "       1989., 1990., 1991., 1992., 1993., 1994., 1995., 1996., 1997.,\n",
       "       1998., 1999., 2000., 2001., 2002., 2003., 2004., 2005., 2006.,\n",
       "       2007., 2008., 2009., 2010., 2011., 2012., 2013., 2014., 2015.,\n",
       "       2016.,   nan])"
      ]
     },
     "execution_count": 29,
     "metadata": {},
     "output_type": "execute_result"
    }
   ],
   "source": [
    "games['year_of_release'].sort_values().unique()"
   ]
  },
  {
   "cell_type": "code",
   "execution_count": 30,
   "id": "60ffcc86",
   "metadata": {
    "scrolled": true
   },
   "outputs": [
    {
     "data": {
      "text/plain": [
       "array(['0', '0.2', '0.3', '0.5', '0.6', '0.7', '0.9', '1', '1.1', '1.2',\n",
       "       '1.3', '1.4', '1.5', '1.6', '1.7', '1.8', '1.9', '2', '2.1', '2.2',\n",
       "       '2.3', '2.4', '2.5', '2.6', '2.7', '2.8', '2.9', '3', '3.1', '3.2',\n",
       "       '3.3', '3.4', '3.5', '3.6', '3.7', '3.8', '3.9', '4', '4.1', '4.2',\n",
       "       '4.3', '4.4', '4.5', '4.6', '4.7', '4.8', '4.9', '5', '5.1', '5.2',\n",
       "       '5.3', '5.4', '5.5', '5.6', '5.7', '5.8', '5.9', '6', '6.1', '6.2',\n",
       "       '6.3', '6.4', '6.5', '6.6', '6.7', '6.8', '6.9', '7', '7.1', '7.2',\n",
       "       '7.3', '7.4', '7.5', '7.6', '7.7', '7.8', '7.9', '8', '8.1', '8.2',\n",
       "       '8.3', '8.4', '8.5', '8.6', '8.7', '8.8', '8.9', '9', '9.1', '9.2',\n",
       "       '9.3', '9.4', '9.5', '9.6', '9.7', 'tbd', nan], dtype=object)"
      ]
     },
     "execution_count": 30,
     "metadata": {},
     "output_type": "execute_result"
    }
   ],
   "source": [
    "games['user_score'].sort_values().unique()"
   ]
  },
  {
   "cell_type": "markdown",
   "id": "2e8cdb89",
   "metadata": {},
   "source": [
    "Видим, что первые две колонки фактически содержат целые числа, а третья - дробные числа. Третья также содержит значение `'tbd'`, которое означает одновременно отсутствие общей оценки, и причину отсутствия: мало отзывов.\n",
    "\n",
    "Эта причина сама по себе является дополнительной информацией, которую мы получили, и её не стоит уничтожать. Сбережём её в специальной колонке."
   ]
  },
  {
   "cell_type": "code",
   "execution_count": 31,
   "id": "cf2fc351",
   "metadata": {},
   "outputs": [
    {
     "data": {
      "text/html": [
       "<div>\n",
       "<style scoped>\n",
       "    .dataframe tbody tr th:only-of-type {\n",
       "        vertical-align: middle;\n",
       "    }\n",
       "\n",
       "    .dataframe tbody tr th {\n",
       "        vertical-align: top;\n",
       "    }\n",
       "\n",
       "    .dataframe thead th {\n",
       "        text-align: right;\n",
       "    }\n",
       "</style>\n",
       "<table border=\"1\" class=\"dataframe\">\n",
       "  <thead>\n",
       "    <tr style=\"text-align: right;\">\n",
       "      <th></th>\n",
       "      <th>name</th>\n",
       "      <th>platform</th>\n",
       "      <th>year_of_release</th>\n",
       "      <th>genre</th>\n",
       "      <th>na_sales</th>\n",
       "      <th>eu_sales</th>\n",
       "      <th>jp_sales</th>\n",
       "      <th>other_sales</th>\n",
       "      <th>critic_score</th>\n",
       "      <th>user_score</th>\n",
       "      <th>rating</th>\n",
       "      <th>few_user_scored</th>\n",
       "    </tr>\n",
       "  </thead>\n",
       "  <tbody>\n",
       "    <tr>\n",
       "      <th>13317</th>\n",
       "      <td>monster hunter frontier online</td>\n",
       "      <td>PS3</td>\n",
       "      <td>NaN</td>\n",
       "      <td>role-playing</td>\n",
       "      <td>0.00</td>\n",
       "      <td>0.00</td>\n",
       "      <td>0.05</td>\n",
       "      <td>0.00</td>\n",
       "      <td>NaN</td>\n",
       "      <td>NaN</td>\n",
       "      <td>NaN</td>\n",
       "      <td>False</td>\n",
       "    </tr>\n",
       "    <tr>\n",
       "      <th>7307</th>\n",
       "      <td>teenage mutant ninja turtles: smash-up</td>\n",
       "      <td>PS2</td>\n",
       "      <td>2009.0</td>\n",
       "      <td>fighting</td>\n",
       "      <td>0.11</td>\n",
       "      <td>0.08</td>\n",
       "      <td>0.00</td>\n",
       "      <td>0.03</td>\n",
       "      <td>NaN</td>\n",
       "      <td>8.4</td>\n",
       "      <td>E10+</td>\n",
       "      <td>False</td>\n",
       "    </tr>\n",
       "    <tr>\n",
       "      <th>14415</th>\n",
       "      <td>hiiro no kakera 2: hisui no shizuku</td>\n",
       "      <td>PS2</td>\n",
       "      <td>2007.0</td>\n",
       "      <td>adventure</td>\n",
       "      <td>0.00</td>\n",
       "      <td>0.00</td>\n",
       "      <td>0.03</td>\n",
       "      <td>0.00</td>\n",
       "      <td>NaN</td>\n",
       "      <td>NaN</td>\n",
       "      <td>NaN</td>\n",
       "      <td>False</td>\n",
       "    </tr>\n",
       "    <tr>\n",
       "      <th>1311</th>\n",
       "      <td>battlefield: bad company</td>\n",
       "      <td>X360</td>\n",
       "      <td>2008.0</td>\n",
       "      <td>shooter</td>\n",
       "      <td>0.81</td>\n",
       "      <td>0.46</td>\n",
       "      <td>0.04</td>\n",
       "      <td>0.15</td>\n",
       "      <td>83.0</td>\n",
       "      <td>7.7</td>\n",
       "      <td>T</td>\n",
       "      <td>False</td>\n",
       "    </tr>\n",
       "    <tr>\n",
       "      <th>7028</th>\n",
       "      <td>airblade</td>\n",
       "      <td>PS2</td>\n",
       "      <td>2001.0</td>\n",
       "      <td>sports</td>\n",
       "      <td>0.11</td>\n",
       "      <td>0.09</td>\n",
       "      <td>0.00</td>\n",
       "      <td>0.03</td>\n",
       "      <td>70.0</td>\n",
       "      <td>5.8</td>\n",
       "      <td>T</td>\n",
       "      <td>False</td>\n",
       "    </tr>\n",
       "  </tbody>\n",
       "</table>\n",
       "</div>"
      ],
      "text/plain": [
       "                                         name platform  year_of_release  \\\n",
       "13317          monster hunter frontier online      PS3              NaN   \n",
       "7307   teenage mutant ninja turtles: smash-up      PS2           2009.0   \n",
       "14415     hiiro no kakera 2: hisui no shizuku      PS2           2007.0   \n",
       "1311                 battlefield: bad company     X360           2008.0   \n",
       "7028                                 airblade      PS2           2001.0   \n",
       "\n",
       "              genre  na_sales  eu_sales  jp_sales  other_sales  critic_score  \\\n",
       "13317  role-playing      0.00      0.00      0.05         0.00           NaN   \n",
       "7307       fighting      0.11      0.08      0.00         0.03           NaN   \n",
       "14415     adventure      0.00      0.00      0.03         0.00           NaN   \n",
       "1311        shooter      0.81      0.46      0.04         0.15          83.0   \n",
       "7028         sports      0.11      0.09      0.00         0.03          70.0   \n",
       "\n",
       "      user_score rating  few_user_scored  \n",
       "13317        NaN    NaN            False  \n",
       "7307         8.4   E10+            False  \n",
       "14415        NaN    NaN            False  \n",
       "1311         7.7      T            False  \n",
       "7028         5.8      T            False  "
      ]
     },
     "execution_count": 31,
     "metadata": {},
     "output_type": "execute_result"
    }
   ],
   "source": [
    "games['few_user_scored'] = games['user_score'] == 'tbd'\n",
    "games.sample(5)"
   ]
  },
  {
   "cell_type": "markdown",
   "id": "fbe3fc77",
   "metadata": {},
   "source": [
    "Перенос удался. Теперь удаляем `'tbd'` из таблицы."
   ]
  },
  {
   "cell_type": "markdown",
   "id": "b70e7e65",
   "metadata": {},
   "source": [
    "<div class=\"alert alert-danger\">\n",
    "<b>Необходимо исправить ❌</b>\n",
    "\n",
    "Прежде чем производить какие-либо модификации данных (удалять пропуски / заполнять пропуски «заглушкой / оставлять пропуски «как есть») хотелось бы порассуждать на тему природы пропусков в наших данных.\n",
    "\n",
    "Одна из задач этого проекта (согласно брифа): \n",
    "\n",
    "1. Объясните, почему заполнили пропуски определённым образом или почему не стали это делать, \n",
    "\n",
    "2. Опишите причины, которые могли привести к пропускам \n",
    "\n",
    "3. Обратите внимание на аббревиатуру 'tbd' в столбце с оценкой пользователей. Отдельно разберите это значение и опишите, как его обработать.\n",
    "\n",
    "4. Также, скажи пожалуйста, какова на твой взгляд причина того, что в столбце с оценками экспертов, с оценками пользователей и с рейтингами так много пропусков? Как ты считаешь, может ли быть какая-то связь с тем, что в столбце с рейтингами >40% пропусков и тем, что эти оценки (рейтинги) выставляет **именно Американское рейтинговое агентство?</div>\n"
   ]
  },
  {
   "cell_type": "markdown",
   "id": "f9410664",
   "metadata": {},
   "source": [
    "<div style=\"background: #B0E0E6; padding: 5px; border: 1px solid SteelBlue; border-radius: 5px;\">\n",
    "<font color='4682B4'><u><b>КОММЕНТАРИЙ СТУДЕНТА</b></u></font>\n",
    "<br />\n",
    "<font color='4682B4'>Честно скажу, что три часа вникал, какое действие нужно. Я постарался исполнить выше, в разделе 2.4. Жду проверки.\n",
    "</font>\n",
    "</div>"
   ]
  },
  {
   "cell_type": "code",
   "execution_count": 32,
   "id": "c36031bf",
   "metadata": {},
   "outputs": [],
   "source": [
    "games['user_score'] = games['user_score'].mask(games['user_score'] == 'tbd')"
   ]
  },
  {
   "cell_type": "markdown",
   "id": "6c06a35b",
   "metadata": {},
   "source": [
    "<div class=\"alert alert-success\">\n",
    "<b>ОТЛИЧНО! 👍</b>\n",
    "\n",
    "То, что ты в 'critic_score' и 'user_score' (после обращения tbd в NaN) оставляешь NaN'ы без обработки - значительно упростит тебе жизнь дальше. В этом проекте - это верное решение.</div>\n"
   ]
  },
  {
   "cell_type": "markdown",
   "id": "575f4cbb",
   "metadata": {},
   "source": [
    "Заменять отсутствующие значения на что либо не видно потребности. Датафрейм не занимает так много памяти, чтобы сокращать потребление. Существует специальный тип данных `Int64`, в котором можно размещать значение `NaN`, как во `float64`. Таким образом, просто приведём данные к нужному виду, а отстутсвующие значения оставим обозначенными явно. Это позволит обрабатывать их очевидным способом."
   ]
  },
  {
   "cell_type": "code",
   "execution_count": 33,
   "id": "5259c7b3",
   "metadata": {
    "scrolled": false
   },
   "outputs": [
    {
     "name": "stdout",
     "output_type": "stream",
     "text": [
      "\n",
      "================================YEAR_OF_RELEASE================================\n"
     ]
    },
    {
     "data": {
      "text/plain": [
       "<IntegerArray>\n",
       "[1980, 1981, 1982, 1983, 1984, 1985, 1986, 1987, 1988, 1989, 1990, 1991, 1992,\n",
       " 1993, 1994, 1995, 1996, 1997, 1998, 1999, 2000, 2001, 2002, 2003, 2004, 2005,\n",
       " 2006, 2007, 2008, 2009, 2010, 2011, 2012, 2013, 2014, 2015, 2016, <NA>]\n",
       "Length: 38, dtype: Int64"
      ]
     },
     "metadata": {},
     "output_type": "display_data"
    },
    {
     "name": "stdout",
     "output_type": "stream",
     "text": [
      "\n",
      "=================================CRITIC_SCORE==================================\n"
     ]
    },
    {
     "data": {
      "text/plain": [
       "array([13., 17., 19., 20., 21., 22., 23., 24., 25., 26., 27., 28., 29.,\n",
       "       30., 31., 32., 33., 34., 35., 36., 37., 38., 39., 40., 41., 42.,\n",
       "       43., 44., 45., 46., 47., 48., 49., 50., 51., 52., 53., 54., 55.,\n",
       "       56., 57., 58., 59., 60., 61., 62., 63., 64., 65., 66., 67., 68.,\n",
       "       69., 70., 71., 72., 73., 74., 75., 76., 77., 78., 79., 80., 81.,\n",
       "       82., 83., 84., 85., 86., 87., 88., 89., 90., 91., 92., 93., 94.,\n",
       "       95., 96., 97., 98., nan])"
      ]
     },
     "metadata": {},
     "output_type": "display_data"
    },
    {
     "name": "stdout",
     "output_type": "stream",
     "text": [
      "\n",
      "==================================USER_SCORE===================================\n"
     ]
    },
    {
     "data": {
      "text/plain": [
       "array([0. , 0.2, 0.3, 0.5, 0.6, 0.7, 0.9, 1. , 1.1, 1.2, 1.3, 1.4, 1.5,\n",
       "       1.6, 1.7, 1.8, 1.9, 2. , 2.1, 2.2, 2.3, 2.4, 2.5, 2.6, 2.7, 2.8,\n",
       "       2.9, 3. , 3.1, 3.2, 3.3, 3.4, 3.5, 3.6, 3.7, 3.8, 3.9, 4. , 4.1,\n",
       "       4.2, 4.3, 4.4, 4.5, 4.6, 4.7, 4.8, 4.9, 5. , 5.1, 5.2, 5.3, 5.4,\n",
       "       5.5, 5.6, 5.7, 5.8, 5.9, 6. , 6.1, 6.2, 6.3, 6.4, 6.5, 6.6, 6.7,\n",
       "       6.8, 6.9, 7. , 7.1, 7.2, 7.3, 7.4, 7.5, 7.6, 7.7, 7.8, 7.9, 8. ,\n",
       "       8.1, 8.2, 8.3, 8.4, 8.5, 8.6, 8.7, 8.8, 8.9, 9. , 9.1, 9.2, 9.3,\n",
       "       9.4, 9.5, 9.6, 9.7, nan])"
      ]
     },
     "metadata": {},
     "output_type": "display_data"
    }
   ],
   "source": [
    "games = games.astype({\n",
    "    'year_of_release': 'Int64',\n",
    "    'user_score': 'float',\n",
    "})\n",
    "\n",
    "for column in ['year_of_release', 'critic_score', 'user_score']:\n",
    "    print(headline(column))\n",
    "    display(games[column].sort_values().unique())"
   ]
  },
  {
   "cell_type": "markdown",
   "id": "2e766ee4",
   "metadata": {},
   "source": [
    "###  Добавление суммы продаж по всем регионам"
   ]
  },
  {
   "cell_type": "code",
   "execution_count": 34,
   "id": "e0f8868e",
   "metadata": {},
   "outputs": [
    {
     "data": {
      "text/html": [
       "<div>\n",
       "<style scoped>\n",
       "    .dataframe tbody tr th:only-of-type {\n",
       "        vertical-align: middle;\n",
       "    }\n",
       "\n",
       "    .dataframe tbody tr th {\n",
       "        vertical-align: top;\n",
       "    }\n",
       "\n",
       "    .dataframe thead th {\n",
       "        text-align: right;\n",
       "    }\n",
       "</style>\n",
       "<table border=\"1\" class=\"dataframe\">\n",
       "  <thead>\n",
       "    <tr style=\"text-align: right;\">\n",
       "      <th></th>\n",
       "      <th>name</th>\n",
       "      <th>platform</th>\n",
       "      <th>year_of_release</th>\n",
       "      <th>genre</th>\n",
       "      <th>na_sales</th>\n",
       "      <th>eu_sales</th>\n",
       "      <th>jp_sales</th>\n",
       "      <th>other_sales</th>\n",
       "      <th>critic_score</th>\n",
       "      <th>user_score</th>\n",
       "      <th>rating</th>\n",
       "      <th>few_user_scored</th>\n",
       "      <th>total_sales</th>\n",
       "    </tr>\n",
       "  </thead>\n",
       "  <tbody>\n",
       "    <tr>\n",
       "      <th>0</th>\n",
       "      <td>wii sports</td>\n",
       "      <td>Wii</td>\n",
       "      <td>2006</td>\n",
       "      <td>sports</td>\n",
       "      <td>41.36</td>\n",
       "      <td>28.96</td>\n",
       "      <td>3.77</td>\n",
       "      <td>8.45</td>\n",
       "      <td>76.0</td>\n",
       "      <td>8.0</td>\n",
       "      <td>E</td>\n",
       "      <td>False</td>\n",
       "      <td>82.54</td>\n",
       "    </tr>\n",
       "    <tr>\n",
       "      <th>1</th>\n",
       "      <td>super mario bros.</td>\n",
       "      <td>NES</td>\n",
       "      <td>1985</td>\n",
       "      <td>platform</td>\n",
       "      <td>29.08</td>\n",
       "      <td>3.58</td>\n",
       "      <td>6.81</td>\n",
       "      <td>0.77</td>\n",
       "      <td>NaN</td>\n",
       "      <td>NaN</td>\n",
       "      <td>NaN</td>\n",
       "      <td>False</td>\n",
       "      <td>40.24</td>\n",
       "    </tr>\n",
       "    <tr>\n",
       "      <th>2</th>\n",
       "      <td>mario kart wii</td>\n",
       "      <td>Wii</td>\n",
       "      <td>2008</td>\n",
       "      <td>racing</td>\n",
       "      <td>15.68</td>\n",
       "      <td>12.76</td>\n",
       "      <td>3.79</td>\n",
       "      <td>3.29</td>\n",
       "      <td>82.0</td>\n",
       "      <td>8.3</td>\n",
       "      <td>E</td>\n",
       "      <td>False</td>\n",
       "      <td>35.52</td>\n",
       "    </tr>\n",
       "    <tr>\n",
       "      <th>3</th>\n",
       "      <td>wii sports resort</td>\n",
       "      <td>Wii</td>\n",
       "      <td>2009</td>\n",
       "      <td>sports</td>\n",
       "      <td>15.61</td>\n",
       "      <td>10.93</td>\n",
       "      <td>3.28</td>\n",
       "      <td>2.95</td>\n",
       "      <td>80.0</td>\n",
       "      <td>8.0</td>\n",
       "      <td>E</td>\n",
       "      <td>False</td>\n",
       "      <td>32.77</td>\n",
       "    </tr>\n",
       "    <tr>\n",
       "      <th>4</th>\n",
       "      <td>pokemon red/pokemon blue</td>\n",
       "      <td>GB</td>\n",
       "      <td>1996</td>\n",
       "      <td>role-playing</td>\n",
       "      <td>11.27</td>\n",
       "      <td>8.89</td>\n",
       "      <td>10.22</td>\n",
       "      <td>1.00</td>\n",
       "      <td>NaN</td>\n",
       "      <td>NaN</td>\n",
       "      <td>NaN</td>\n",
       "      <td>False</td>\n",
       "      <td>31.38</td>\n",
       "    </tr>\n",
       "    <tr>\n",
       "      <th>...</th>\n",
       "      <td>...</td>\n",
       "      <td>...</td>\n",
       "      <td>...</td>\n",
       "      <td>...</td>\n",
       "      <td>...</td>\n",
       "      <td>...</td>\n",
       "      <td>...</td>\n",
       "      <td>...</td>\n",
       "      <td>...</td>\n",
       "      <td>...</td>\n",
       "      <td>...</td>\n",
       "      <td>...</td>\n",
       "      <td>...</td>\n",
       "    </tr>\n",
       "    <tr>\n",
       "      <th>16710</th>\n",
       "      <td>samurai warriors: sanada maru</td>\n",
       "      <td>PS3</td>\n",
       "      <td>2016</td>\n",
       "      <td>action</td>\n",
       "      <td>0.00</td>\n",
       "      <td>0.00</td>\n",
       "      <td>0.01</td>\n",
       "      <td>0.00</td>\n",
       "      <td>NaN</td>\n",
       "      <td>NaN</td>\n",
       "      <td>NaN</td>\n",
       "      <td>False</td>\n",
       "      <td>0.01</td>\n",
       "    </tr>\n",
       "    <tr>\n",
       "      <th>16711</th>\n",
       "      <td>lma manager 2007</td>\n",
       "      <td>X360</td>\n",
       "      <td>2006</td>\n",
       "      <td>sports</td>\n",
       "      <td>0.00</td>\n",
       "      <td>0.01</td>\n",
       "      <td>0.00</td>\n",
       "      <td>0.00</td>\n",
       "      <td>NaN</td>\n",
       "      <td>NaN</td>\n",
       "      <td>NaN</td>\n",
       "      <td>False</td>\n",
       "      <td>0.01</td>\n",
       "    </tr>\n",
       "    <tr>\n",
       "      <th>16712</th>\n",
       "      <td>haitaka no psychedelica</td>\n",
       "      <td>PSV</td>\n",
       "      <td>2016</td>\n",
       "      <td>adventure</td>\n",
       "      <td>0.00</td>\n",
       "      <td>0.00</td>\n",
       "      <td>0.01</td>\n",
       "      <td>0.00</td>\n",
       "      <td>NaN</td>\n",
       "      <td>NaN</td>\n",
       "      <td>NaN</td>\n",
       "      <td>False</td>\n",
       "      <td>0.01</td>\n",
       "    </tr>\n",
       "    <tr>\n",
       "      <th>16713</th>\n",
       "      <td>spirits &amp; spells</td>\n",
       "      <td>GBA</td>\n",
       "      <td>2003</td>\n",
       "      <td>platform</td>\n",
       "      <td>0.01</td>\n",
       "      <td>0.00</td>\n",
       "      <td>0.00</td>\n",
       "      <td>0.00</td>\n",
       "      <td>NaN</td>\n",
       "      <td>NaN</td>\n",
       "      <td>NaN</td>\n",
       "      <td>False</td>\n",
       "      <td>0.01</td>\n",
       "    </tr>\n",
       "    <tr>\n",
       "      <th>16714</th>\n",
       "      <td>winning post 8 2016</td>\n",
       "      <td>PSV</td>\n",
       "      <td>2016</td>\n",
       "      <td>simulation</td>\n",
       "      <td>0.00</td>\n",
       "      <td>0.00</td>\n",
       "      <td>0.01</td>\n",
       "      <td>0.00</td>\n",
       "      <td>NaN</td>\n",
       "      <td>NaN</td>\n",
       "      <td>NaN</td>\n",
       "      <td>False</td>\n",
       "      <td>0.01</td>\n",
       "    </tr>\n",
       "  </tbody>\n",
       "</table>\n",
       "<p>16712 rows × 13 columns</p>\n",
       "</div>"
      ],
      "text/plain": [
       "                                name platform  year_of_release         genre  \\\n",
       "0                         wii sports      Wii             2006        sports   \n",
       "1                  super mario bros.      NES             1985      platform   \n",
       "2                     mario kart wii      Wii             2008        racing   \n",
       "3                  wii sports resort      Wii             2009        sports   \n",
       "4           pokemon red/pokemon blue       GB             1996  role-playing   \n",
       "...                              ...      ...              ...           ...   \n",
       "16710  samurai warriors: sanada maru      PS3             2016        action   \n",
       "16711               lma manager 2007     X360             2006        sports   \n",
       "16712        haitaka no psychedelica      PSV             2016     adventure   \n",
       "16713               spirits & spells      GBA             2003      platform   \n",
       "16714            winning post 8 2016      PSV             2016    simulation   \n",
       "\n",
       "       na_sales  eu_sales  jp_sales  other_sales  critic_score  user_score  \\\n",
       "0         41.36     28.96      3.77         8.45          76.0         8.0   \n",
       "1         29.08      3.58      6.81         0.77           NaN         NaN   \n",
       "2         15.68     12.76      3.79         3.29          82.0         8.3   \n",
       "3         15.61     10.93      3.28         2.95          80.0         8.0   \n",
       "4         11.27      8.89     10.22         1.00           NaN         NaN   \n",
       "...         ...       ...       ...          ...           ...         ...   \n",
       "16710      0.00      0.00      0.01         0.00           NaN         NaN   \n",
       "16711      0.00      0.01      0.00         0.00           NaN         NaN   \n",
       "16712      0.00      0.00      0.01         0.00           NaN         NaN   \n",
       "16713      0.01      0.00      0.00         0.00           NaN         NaN   \n",
       "16714      0.00      0.00      0.01         0.00           NaN         NaN   \n",
       "\n",
       "      rating  few_user_scored  total_sales  \n",
       "0          E            False        82.54  \n",
       "1        NaN            False        40.24  \n",
       "2          E            False        35.52  \n",
       "3          E            False        32.77  \n",
       "4        NaN            False        31.38  \n",
       "...      ...              ...          ...  \n",
       "16710    NaN            False         0.01  \n",
       "16711    NaN            False         0.01  \n",
       "16712    NaN            False         0.01  \n",
       "16713    NaN            False         0.01  \n",
       "16714    NaN            False         0.01  \n",
       "\n",
       "[16712 rows x 13 columns]"
      ]
     },
     "metadata": {},
     "output_type": "display_data"
    }
   ],
   "source": [
    "games['total_sales'] = (\n",
    "    games[['na_sales', 'eu_sales', 'jp_sales', 'other_sales']].sum(axis='columns'))\n",
    "display(games)"
   ]
  },
  {
   "cell_type": "markdown",
   "id": "38603e7e",
   "metadata": {},
   "source": [
    "<div class=\"alert alert-warning\">\n",
    "<b>Комментарий 👉</b>\n",
    "\n",
    "Ещё такой вариант суммирования есть (просто как альтернатива … **псевдокод**): **data[['na_sales','eu_sales','jp_sales', 'other_sales']].sum(axis='columns')** и \"присвоить\" этот результат новому столбцу в **data**.</div>\n"
   ]
  },
  {
   "cell_type": "markdown",
   "id": "df52339d",
   "metadata": {},
   "source": [
    "<div style=\"background: #B0E0E6; padding: 5px; border: 1px solid SteelBlue; border-radius: 5px;\">\n",
    "<font color='4682B4'><u><b>КОММЕНТАРИЙ СТУДЕНТА</b></u></font>\n",
    "<br />\n",
    "<font color='4682B4'>Похоже, что так лучше. Обновил код.\n",
    "</font>\n",
    "</div>"
   ]
  },
  {
   "cell_type": "markdown",
   "id": "c868a804",
   "metadata": {},
   "source": [
    "<div class=\"alert alert-warning\">\n",
    "<b>Комментарий 👉</b>\n",
    "\n",
    "Один из ключевых моментов этого проекта: ты пропуски в 'rating' оставляешь как NaN, без заполнения «заглушкой». Это ОК здесь. Но дальше, когда мы будем строить график для игр в соответствии с их рейтингами - надо будет вспомнить этот момент ... Если не вспомнишь и не обработаешь эти \"пропуски\", то из анализа игры без рейтинга исчезнут. Ну и соответственно мы сделаем неправильные выводы.\n",
    "\n",
    "Отметь этот момент - возможно нам придется вернуться сюда.</div>\n"
   ]
  },
  {
   "cell_type": "markdown",
   "id": "9b5fded4",
   "metadata": {},
   "source": [
    "<div style=\"background: #B0E0E6; padding: 5px; border: 1px solid SteelBlue; border-radius: 5px;\">\n",
    "<font color='4682B4'><u><b>КОММЕНТАРИЙ СТУДЕНТА</b></u></font>\n",
    "<br />\n",
    "<font color='4682B4'>Я не обратил внимания. Буду следить за подобным. Благодарю!\n",
    "</font>\n",
    "</div>"
   ]
  },
  {
   "cell_type": "markdown",
   "id": "cf122439",
   "metadata": {},
   "source": [
    "### Итоги обзора и подготовки данных\n",
    "\n",
    "- имена колонок привеены к виду lower_snake_case;\n",
    "- типы данных приведены к нужным;\n",
    "- сформированы колонки:\n",
    "  - `few_user_scored` - содержит True, если пользователи поставили мало оценок;\n",
    "  - `total_sales` - содержит сумму продаж по всем трём регионам."
   ]
  },
  {
   "cell_type": "markdown",
   "id": "a6c058dc",
   "metadata": {},
   "source": [
    "## Исследовательский анализ данных"
   ]
  },
  {
   "cell_type": "markdown",
   "id": "40e4697b",
   "metadata": {},
   "source": [
    "### История рынка\n",
    "\n",
    "#### Выпуск и продажи по годам"
   ]
  },
  {
   "cell_type": "markdown",
   "id": "4309fff8",
   "metadata": {},
   "source": [
    "Мы увидели при обзоре на примере Most Wanted, что под одним именем могут выпускаться издания на различных платформах и даже в разные годы. Что считать игрой?\n",
    "\n",
    "Будем исходить из того, что игра - это сеттинг, геймплей и внешний вид, а не конкретный образец кода, конкретный файл или образ диска. В нашем случае, скорее всего единой игрой следует считать издания для всех платформ, вышедшее под одним называнием.\n",
    "\n",
    "Также, насколько известно, игра распространяется одним издателем на всех платформах. И рекламируют её обычно одной афишей для всех платформ.\n",
    "\n",
    "Это решение имеет неточности. Одна и та же игра может выйти на разных платформах в разные (пусть и соседние) годы. Под одним названием в разные (но скорее - несмежные) годы могут выйти фактически две разные игры, с разными издателями и отличающиеся по содержанию.\n",
    "\n",
    "Проверим, есть ли наименования, которые изданы в разных годах."
   ]
  },
  {
   "cell_type": "code",
   "execution_count": 35,
   "id": "dc287c77",
   "metadata": {},
   "outputs": [],
   "source": [
    "released = games.groupby('name')['year_of_release'].agg(pd.Series.nunique)\n",
    "released = released.rename('year_of_release_count')\n",
    "multi_released = released[released > 1].sort_values(ascending=False)"
   ]
  },
  {
   "cell_type": "code",
   "execution_count": 36,
   "id": "38eb478c",
   "metadata": {},
   "outputs": [
    {
     "data": {
      "text/html": [
       "<div>\n",
       "<style scoped>\n",
       "    .dataframe tbody tr th:only-of-type {\n",
       "        vertical-align: middle;\n",
       "    }\n",
       "\n",
       "    .dataframe tbody tr th {\n",
       "        vertical-align: top;\n",
       "    }\n",
       "\n",
       "    .dataframe thead th {\n",
       "        text-align: right;\n",
       "    }\n",
       "</style>\n",
       "<table border=\"1\" class=\"dataframe\">\n",
       "  <thead>\n",
       "    <tr style=\"text-align: right;\">\n",
       "      <th></th>\n",
       "      <th>name</th>\n",
       "      <th>platform</th>\n",
       "      <th>year_of_release</th>\n",
       "      <th>genre</th>\n",
       "      <th>na_sales</th>\n",
       "      <th>eu_sales</th>\n",
       "      <th>jp_sales</th>\n",
       "      <th>other_sales</th>\n",
       "      <th>critic_score</th>\n",
       "      <th>user_score</th>\n",
       "      <th>rating</th>\n",
       "      <th>few_user_scored</th>\n",
       "      <th>total_sales</th>\n",
       "    </tr>\n",
       "  </thead>\n",
       "  <tbody>\n",
       "    <tr>\n",
       "      <th>769</th>\n",
       "      <td>simcity 2000</td>\n",
       "      <td>PC</td>\n",
       "      <td>1992</td>\n",
       "      <td>simulation</td>\n",
       "      <td>1.20</td>\n",
       "      <td>0.84</td>\n",
       "      <td>0.00</td>\n",
       "      <td>0.10</td>\n",
       "      <td>NaN</td>\n",
       "      <td>NaN</td>\n",
       "      <td>NaN</td>\n",
       "      <td>False</td>\n",
       "      <td>2.14</td>\n",
       "    </tr>\n",
       "    <tr>\n",
       "      <th>1646</th>\n",
       "      <td>simcity 2000</td>\n",
       "      <td>PS</td>\n",
       "      <td>1996</td>\n",
       "      <td>simulation</td>\n",
       "      <td>0.68</td>\n",
       "      <td>0.46</td>\n",
       "      <td>0.00</td>\n",
       "      <td>0.08</td>\n",
       "      <td>NaN</td>\n",
       "      <td>NaN</td>\n",
       "      <td>NaN</td>\n",
       "      <td>False</td>\n",
       "      <td>1.22</td>\n",
       "    </tr>\n",
       "    <tr>\n",
       "      <th>4066</th>\n",
       "      <td>simcity 2000</td>\n",
       "      <td>SNES</td>\n",
       "      <td>1995</td>\n",
       "      <td>simulation</td>\n",
       "      <td>0.00</td>\n",
       "      <td>0.00</td>\n",
       "      <td>0.49</td>\n",
       "      <td>0.00</td>\n",
       "      <td>NaN</td>\n",
       "      <td>NaN</td>\n",
       "      <td>NaN</td>\n",
       "      <td>False</td>\n",
       "      <td>0.49</td>\n",
       "    </tr>\n",
       "    <tr>\n",
       "      <th>6219</th>\n",
       "      <td>simcity 2000</td>\n",
       "      <td>SAT</td>\n",
       "      <td>1994</td>\n",
       "      <td>simulation</td>\n",
       "      <td>0.00</td>\n",
       "      <td>0.00</td>\n",
       "      <td>0.28</td>\n",
       "      <td>0.00</td>\n",
       "      <td>NaN</td>\n",
       "      <td>NaN</td>\n",
       "      <td>NaN</td>\n",
       "      <td>False</td>\n",
       "      <td>0.28</td>\n",
       "    </tr>\n",
       "    <tr>\n",
       "      <th>10408</th>\n",
       "      <td>simcity 2000</td>\n",
       "      <td>GBA</td>\n",
       "      <td>2003</td>\n",
       "      <td>simulation</td>\n",
       "      <td>0.08</td>\n",
       "      <td>0.03</td>\n",
       "      <td>0.00</td>\n",
       "      <td>0.00</td>\n",
       "      <td>62.0</td>\n",
       "      <td>7.8</td>\n",
       "      <td>E</td>\n",
       "      <td>False</td>\n",
       "      <td>0.11</td>\n",
       "    </tr>\n",
       "  </tbody>\n",
       "</table>\n",
       "</div>"
      ],
      "text/plain": [
       "               name platform  year_of_release       genre  na_sales  eu_sales  \\\n",
       "769    simcity 2000       PC             1992  simulation      1.20      0.84   \n",
       "1646   simcity 2000       PS             1996  simulation      0.68      0.46   \n",
       "4066   simcity 2000     SNES             1995  simulation      0.00      0.00   \n",
       "6219   simcity 2000      SAT             1994  simulation      0.00      0.00   \n",
       "10408  simcity 2000      GBA             2003  simulation      0.08      0.03   \n",
       "\n",
       "       jp_sales  other_sales  critic_score  user_score rating  \\\n",
       "769        0.00         0.10           NaN         NaN    NaN   \n",
       "1646       0.00         0.08           NaN         NaN    NaN   \n",
       "4066       0.49         0.00           NaN         NaN    NaN   \n",
       "6219       0.28         0.00           NaN         NaN    NaN   \n",
       "10408      0.00         0.00          62.0         7.8      E   \n",
       "\n",
       "       few_user_scored  total_sales  \n",
       "769              False         2.14  \n",
       "1646             False         1.22  \n",
       "4066             False         0.49  \n",
       "6219             False         0.28  \n",
       "10408            False         0.11  "
      ]
     },
     "execution_count": 36,
     "metadata": {},
     "output_type": "execute_result"
    }
   ],
   "source": [
    "games[games['name'] == 'simcity 2000']"
   ]
  },
  {
   "cell_type": "markdown",
   "id": "d57f4d3f",
   "metadata": {},
   "source": [
    "Итак, немало игр выпускались под одним наименованием в разные годы. Поскольку рекламные кампании скорее проводятся быстро, не длятся годами, будем считать издания разных лет разными товарами. Но одного года для разных платформ - одним товаром."
   ]
  },
  {
   "cell_type": "code",
   "execution_count": 37,
   "id": "2f1cb9a4",
   "metadata": {
    "scrolled": false
   },
   "outputs": [
    {
     "data": {
      "image/png": "[encoded data removed]",
      "text/plain": [
       "<Figure size 864x432 with 1 Axes>"
      ]
     },
     "metadata": {
      "needs_background": "light"
     },
     "output_type": "display_data"
    }
   ],
   "source": [
    "games_by_year = games.pivot_table(\n",
    "    index='year_of_release',\n",
    "    values='name',\n",
    "    aggfunc=pd.Series.nunique,\n",
    ").join(games.pivot_table(\n",
    "    index='year_of_release',\n",
    "    values='total_sales',\n",
    "    aggfunc='sum',\n",
    "))\n",
    "games_by_year.columns = ['games', 'revenue']\n",
    "\n",
    "ax = games_by_year.plot(\n",
    "    figsize=FIGSIZE, rot=45, xlabel='Год выхода',\n",
    "    ylabel='Кол-во наименований, ед. / Суммарные продажи, млн. копий',\n",
    ")\n",
    "ax.legend(['Количество игр', 'Суммарные продажи'])\n",
    "plt.title('История продаж, все регионы в сумме', fontsize=18)\n",
    "plt.show()"
   ]
  },
  {
   "cell_type": "markdown",
   "id": "f6aa7bfd",
   "metadata": {},
   "source": [
    "<div class=\"alert alert-warning\">\n",
    "<b>Комментарий 👉</b>\n",
    "\n",
    "Агрегация по count() покажет нам число игр, выпущенных на всех платформах, в разрезе лет. Т.е. если одна и та же игра (name) вышла в некоем году на одной платформе, агрегат == 1. Если на 2-х платформах, агрегат == 2, ну и так далее. У меня вопрос к тебе – что в твоем случае, в написанном тобой коде мы считаем выпуском игры (в этом, некоем году)?\n",
    "\n",
    "Возможно, чтобы получить истинное количество «игр по годам» нам следует поискать дубликаты (используя subset по (Названиям - Платформам), но внутри каждого года (нужен цикл или векторная операция)) и затем исключить из полного датафрейма все дубли за исключением одной строки? Как ты считаешь?</div>\n"
   ]
  },
  {
   "cell_type": "markdown",
   "id": "dd99344c",
   "metadata": {},
   "source": [
    "<div style=\"background: #B0E0E6; padding: 5px; border: 1px solid SteelBlue; border-radius: 5px;\">\n",
    "<font color='4682B4'><u><b>КОММЕНТАРИЙ СТУДЕНТА</b></u></font>\n",
    "<br />\n",
    "<font color='4682B4'>Замечание по существу. Разобрался, написал новое начало у этого раздела, обновил график. Это наверняка и дальнейшие величины поменяет.\n",
    "</font>\n",
    "</div>"
   ]
  },
  {
   "cell_type": "markdown",
   "id": "cb70cb82",
   "metadata": {},
   "source": [
    "Видим, что пик продаж пришёлся на 2008 год. С тех пор продажи снижаются.\n",
    "\n",
    "После 2001 количество выпущенных игр скачком повысилось. После 2011 - скачком понизилось. Это выглядит так, как если бы отдельная группа издателей действовала с 2002 по 2011 год. Это дополнительное количество игр не повлияло на сумму продаж.\n",
    "\n",
    "С 2013 года количество выпускаемых игр повышается, выручка с продаж - понижается. Это может быть связано с тем, что всё больше игр создаются ради платных подписок, а не ради платных копий. Поскольку оплата за копии сейчас не является принципиально важной, издатели новых игр могут распространять копии игры не столь активно как раньше, либо снизить цену.\n",
    "\n",
    "Таким образом, можно считать, что сейчас продолжается определённый этап в истории продаж видеоигр. Этот этап можно считать начатым в 2010 году, когда впервые существенно понизилось количество и доходы от продаж новых игр, либо в 2012, когда резко упало количество выпущенных игр. На текущем этапе продажи сокращались каждый год. Незавершённый 2016 год также укладывается в эту тенденцию. Все более ранние данные можно считать неактуальными - после 2012 года рынок (покупатели и продавцы) ведут себя иначе, чем до 2012 года."
   ]
  },
  {
   "cell_type": "markdown",
   "id": "0b4568ed",
   "metadata": {},
   "source": [
    "<div class=\"alert alert-warning\">\n",
    "<b>Комментарий 👉</b>\n",
    "\n",
    "Этот график, как и все прочие ниже, выиграли бы если бы были подписаны сами, а также оси X и Y, а также указаны единицы измерения по осям. \n",
    "    \n",
    "p.s. здорово, что есть объяснение поведения данного графика. Пытаться понять полученный результат - важная часть работы аналитика.</div>"
   ]
  },
  {
   "cell_type": "markdown",
   "id": "9d18b90d",
   "metadata": {},
   "source": [
    "<div style=\"background: #B0E0E6; padding: 5px; border: 1px solid SteelBlue; border-radius: 5px;\">\n",
    "<font color='4682B4'><u><b>КОММЕНТАРИЙ СТУДЕНТА</b></u></font>\n",
    "<br />\n",
    "<font color='4682B4'>Всячески хотел отложить это, и так отстаю от группы. Однако требование есть требование. Делаю графики подписанными со всех сторон.\n",
    "</font>\n",
    "</div>"
   ]
  },
  {
   "cell_type": "markdown",
   "id": "54a0ad52",
   "metadata": {},
   "source": [
    "### Выбираем актуальные данные и назначаем им веса"
   ]
  },
  {
   "cell_type": "markdown",
   "id": "59b0aeeb",
   "metadata": {},
   "source": [
    "Самые ценные для нас данные - данные последнего года. Менее ценные - предыдущего. И так далее. Данные за 2011 год и ранее нам вовсе не интересны. Выразим ценность данных в \"весе\".\n",
    "\n",
    "Вес - это параметр, на который будем умножать любой интересующий нас параметр. Так значения ближайшего года будут оказывать наибольшее влияние на наши выводы, а чем дальше от нас год - тем меньше."
   ]
  },
  {
   "cell_type": "markdown",
   "id": "d171028b",
   "metadata": {},
   "source": [
    "<div class=\"alert alert-success\">\n",
    "<b>ОТЛИЧНО! 👍</b>\n",
    "\n",
    "Александр - интересное определение актуального периода.\n",
    "</div>"
   ]
  },
  {
   "cell_type": "code",
   "execution_count": 38,
   "id": "48a6b249",
   "metadata": {
    "scrolled": false
   },
   "outputs": [
    {
     "name": "stdout",
     "output_type": "stream",
     "text": [
      "<class 'pandas.core.frame.DataFrame'>\n",
      "RangeIndex: 2885 entries, 0 to 2884\n",
      "Data columns (total 15 columns):\n",
      " #   Column           Non-Null Count  Dtype  \n",
      "---  ------           --------------  -----  \n",
      " 0   name             2885 non-null   object \n",
      " 1   platform         2885 non-null   object \n",
      " 2   year_of_release  2885 non-null   Int64  \n",
      " 3   genre            2885 non-null   object \n",
      " 4   na_sales         2885 non-null   float64\n",
      " 5   eu_sales         2885 non-null   float64\n",
      " 6   jp_sales         2885 non-null   float64\n",
      " 7   other_sales      2885 non-null   float64\n",
      " 8   critic_score     1311 non-null   float64\n",
      " 9   user_score       1530 non-null   float64\n",
      " 10  rating           1610 non-null   object \n",
      " 11  few_user_scored  2885 non-null   bool   \n",
      " 12  total_sales      2885 non-null   float64\n",
      " 13  weight           2885 non-null   float64\n",
      " 14  weighted_sales   2885 non-null   float64\n",
      "dtypes: Int64(1), bool(1), float64(9), object(4)\n",
      "memory usage: 321.3+ KB\n"
     ]
    },
    {
     "data": {
      "text/plain": [
       "None"
      ]
     },
     "metadata": {},
     "output_type": "display_data"
    }
   ],
   "source": [
    "def weight(year):\n",
    "    if pd.isna(year):\n",
    "        return 0\n",
    "    if year == 2016:\n",
    "        return 5/15\n",
    "    if year == 2015:\n",
    "        return 4/15\n",
    "    if year == 2014:\n",
    "        return 3/15\n",
    "    if year == 2013:\n",
    "        return 2/15\n",
    "    if year == 2012:\n",
    "        return 1/15\n",
    "    return 0\n",
    "\n",
    "\n",
    "games['weight'] = games['year_of_release'].apply(weight)\n",
    "actual_games = games.loc[games['weight'] > 0].reset_index(drop=True)\n",
    "actual_games['weighted_sales'] = actual_games['total_sales'] * actual_games['weight']\n",
    "display(actual_games.info())"
   ]
  },
  {
   "cell_type": "markdown",
   "id": "fb220296",
   "metadata": {},
   "source": [
    "<div class=\"alert alert-success\">\n",
    "<b>ОТЛИЧНО! 👍</b>\n",
    "\n",
    "Правильный выбор диапазона, но уже вот на самой грани!\n",
    "\n",
    "Это на самом деле один из подводных камней этого проекта! \n",
    "\n",
    "Студенты могут выбирать для анализа очень большой интервал данных, но для целей прогнозирования продаж на следующий год даже в традиционных бизнесах редко берут данные более чем за 2-4 года. И в такой динамично меняющейся индустрии, как компьютерные игры также не стоит брать слишком большой временной интервал - иначе обязательно захватишь уже отжившие тренды.</div>"
   ]
  },
  {
   "cell_type": "markdown",
   "id": "417b8b5e",
   "metadata": {},
   "source": [
    "<div class=\"alert alert-success\">\n",
    "<b>ОТЛИЧНО! 👍</b>\n",
    "\n",
    "Очень хорошо, что результат запроса ты присваиваешь новому датафрейму. Таким образом оригинальный датафрейм ты оставляешь нетронутым, не перезаписываешь (вдруг нам опять понадобятся данные из него чуть ниже). Это верное решение. Best practice. Молодец!</div>\n"
   ]
  },
  {
   "cell_type": "markdown",
   "id": "b5e650cf",
   "metadata": {},
   "source": [
    "<div class=\"alert alert-warning\">\n",
    "<b>Комментарий 👉</b>\n",
    "\n",
    "Пользуйся методом shape. Настоятельно рекомендую. Вывод полного датафрейма режет глаз. Не принято это. Да можно. Но достоаточно и первых 5 строк.\n",
    "</div>"
   ]
  },
  {
   "cell_type": "markdown",
   "id": "376fe043",
   "metadata": {},
   "source": [
    "<div style=\"background: #B0E0E6; padding: 5px; border: 1px solid SteelBlue; border-radius: 5px;\">\n",
    "<font color='4682B4'><u><b>КОММЕНТАРИЙ СТУДЕНТА</b></u></font>\n",
    "<br />\n",
    "<font color='4682B4'>Датафрейм убран.\n",
    "</font>\n",
    "</div>"
   ]
  },
  {
   "cell_type": "markdown",
   "id": "a315d470",
   "metadata": {},
   "source": [
    "В этой таблице единицы измерения те же, как и в исходной. Когда мы будем получать сводные таблицы из неё - мы можем воспринимать полученные тиражи и оценки как прогнозы тиражей и оценок на следующий год."
   ]
  },
  {
   "cell_type": "markdown",
   "id": "edb00a58",
   "metadata": {},
   "source": [
    "#### Продажи по платформам\n",
    "\n",
    "##### В истории"
   ]
  },
  {
   "cell_type": "code",
   "execution_count": 39,
   "id": "2cdc31db",
   "metadata": {
    "scrolled": false
   },
   "outputs": [
    {
     "data": {
      "image/png": "[encoded data removed]",
      "text/plain": [
       "<Figure size 864x432 with 1 Axes>"
      ]
     },
     "metadata": {
      "needs_background": "light"
     },
     "output_type": "display_data"
    }
   ],
   "source": [
    "games_by_platform = games.pivot_table(\n",
    "    index='platform',\n",
    "    values='total_sales',\n",
    "    aggfunc='sum',\n",
    ")\n",
    "games_by_platform.columns = ['total_sales']\n",
    "games_by_platform.sort_values('total_sales', ascending=False).plot(\n",
    "    kind='bar', figsize=FIGSIZE, rot=45, legend=False,\n",
    "    xlabel='Платформы', ylabel='Продажи, млн копий',\n",
    ")\n",
    "plt.title('Продажи за всю историю', fontsize=18)\n",
    "plt.show()"
   ]
  },
  {
   "cell_type": "markdown",
   "id": "ad32eeb4",
   "metadata": {},
   "source": [
    "Шесть крупнейших платформ по доходам от продаж игр за всю историю: Sony PlayStation, PS2 и 3, Xbox 360, Nintendo Wii и DS."
   ]
  },
  {
   "cell_type": "code",
   "execution_count": 40,
   "id": "310f350c",
   "metadata": {
    "scrolled": false
   },
   "outputs": [
    {
     "data": {
      "image/png": "[encoded data removed]",
      "text/plain": [
       "<Figure size 1008x576 with 2 Axes>"
      ]
     },
     "metadata": {
      "needs_background": "light"
     },
     "output_type": "display_data"
    }
   ],
   "source": [
    "plt.figure(figsize=(14, 8))\n",
    "\n",
    "ax = sns.heatmap(\n",
    "    games.pivot_table(\n",
    "        index='platform',\n",
    "        columns='year_of_release',\n",
    "        values='total_sales',\n",
    "        aggfunc='sum'),\n",
    "    cmap='Blues',\n",
    ")\n",
    "ax.set(xlabel='Год издания', ylabel='Платформа')\n",
    "ax.tick_params(axis='x', rotation=45)\n",
    "plt.title('Интенсивность продаж по годам и платформам', fontsize=18)\n",
    "plt.show()"
   ]
  },
  {
   "cell_type": "markdown",
   "id": "57dd1640",
   "metadata": {},
   "source": [
    "По диаграмме видно, что на фоне других платформ выделяются экосистемы PlayStation, Xbox и Wii. Успешная платформа может двигать продажи 5-10 лет. Далее требуется обновление.\n",
    "\n",
    "Актуальные платформы: PS4, Xbox One, WiiU. С 2013 года продажи на них росли. Другие платформы показывают спад, и по сути вытесняются актуальными.\n",
    "\n",
    "Особое положение занимают PC-совместимые компьютеры. Они собраны из разных комплектующих, однако совместимы между собой. Это позволяет их считать единой платформой. Она актуальна практически всё время существования игровой индустрии. Однако, игры для PC показывают меньшую выручку по сравнению с выпусками на других платформах.\n",
    "\n"
   ]
  },
  {
   "cell_type": "markdown",
   "id": "84fea5ae",
   "metadata": {},
   "source": [
    "##### Актуальные"
   ]
  },
  {
   "cell_type": "code",
   "execution_count": 41,
   "id": "74fabc6b",
   "metadata": {
    "scrolled": false
   },
   "outputs": [
    {
     "data": {
      "image/png": "[encoded data removed]",
      "text/plain": [
       "<Figure size 864x576 with 3 Axes>"
      ]
     },
     "metadata": {
      "needs_background": "light"
     },
     "output_type": "display_data"
    }
   ],
   "source": [
    "actual_sales_by_platform = actual_games.pivot_table(\n",
    "    index='platform',\n",
    "    values=['weighted_sales', 'weight'], \n",
    "    aggfunc=['sum'],  # количество игр в такой схеме - это просто сумма весов\n",
    ")\n",
    "\n",
    "actual_sales_by_platform.columns = ['games', 'total_sales']\n",
    "actual_sales_by_platform['mean_sales'] = (\n",
    "    actual_sales_by_platform['total_sales'] / actual_sales_by_platform['games']\n",
    ")\n",
    "\n",
    "ax = actual_sales_by_platform.sort_values('mean_sales', ascending=False).plot.bar(\n",
    "    figsize=(FIGSIZE[0], 8), subplots=True, rot=45, legend=False, xlabel='Платформы',\n",
    ")\n",
    "ax[0].set_title('Издания', fontsize=16)\n",
    "ax[0].set_ylabel('Наименований')\n",
    "ax[1].set_title('Продажи', fontsize=16)\n",
    "ax[1].set_ylabel('Млн. копий')\n",
    "ax[2].set_title('Средние продажи одного наименования', fontsize=16)\n",
    "ax[2].set_ylabel('Млн. копий')\n",
    "plt.show()"
   ]
  },
  {
   "cell_type": "markdown",
   "id": "26ce6ad0",
   "metadata": {},
   "source": [
    "Наибольший спрос в среднем на одну игру в последнее время показывают издания для PlayStation 4. Также эта платформа лидирует и по количеству игр, и по количеству продаж. Ещё интересны Xbox 360 и Xbox One - большие продажи и большая выручка в среднем с одной игры."
   ]
  },
  {
   "cell_type": "code",
   "execution_count": 42,
   "id": "923496a7",
   "metadata": {},
   "outputs": [
    {
     "data": {
      "image/png": "[encoded data removed]",
      "text/plain": [
       "<Figure size 864x432 with 1 Axes>"
      ]
     },
     "metadata": {
      "needs_background": "light"
     },
     "output_type": "display_data"
    }
   ],
   "source": [
    "plt.figure(figsize=FIGSIZE)\n",
    "ax = sns.boxplot(\n",
    "    x='platform', y='weighted_sales', showmeans=True, data=actual_games\n",
    ")\n",
    "ax.set_yscale(\"log\")\n",
    "ax.set(xlabel='Платформа', ylabel='Млн. копий')\n",
    "plt.title('Распределения продаж (квартили, медианные, средние)', fontsize=18)\n",
    "plt.show()"
   ]
  },
  {
   "cell_type": "markdown",
   "id": "186c8008",
   "metadata": {},
   "source": [
    "Если взглянуть распределения взвешенных продаж (продаж, умноженных на коэффициент \"актуальности\"), то продажи выше у игр, выпущенных для PS4. Самая востребованная игра выпущена на этой платформе. Та же медиана у XOne. Значит, на этих двух платформах типичная игра собирает больше выручки, чем на других.\n",
    "\n",
    "Достойна внимания также WiiU - сборы с типичной игры на этой платформе лишь немногим хуже."
   ]
  },
  {
   "cell_type": "markdown",
   "id": "55c91cbe",
   "metadata": {},
   "source": [
    "**Итоги:**\n",
    "- На момент исследования наиболее распространённые игры выпускаются для платформ:\n",
    "  1. PS4,\n",
    "  2. XOne,\n",
    "  3. WiiU."
   ]
  },
  {
   "cell_type": "markdown",
   "id": "1df6173b",
   "metadata": {},
   "source": [
    "#### Продажи по жанрам\n",
    "\n",
    "##### В истории"
   ]
  },
  {
   "cell_type": "code",
   "execution_count": 43,
   "id": "f57615e5",
   "metadata": {},
   "outputs": [
    {
     "data": {
      "image/png": "[encoded data removed]",
      "text/plain": [
       "<Figure size 1008x432 with 2 Axes>"
      ]
     },
     "metadata": {
      "needs_background": "light"
     },
     "output_type": "display_data"
    }
   ],
   "source": [
    "plt.figure(figsize=(14, 6))\n",
    "ax = sns.heatmap(\n",
    "    games.pivot_table(\n",
    "        index='genre',\n",
    "        columns='year_of_release',\n",
    "        values='total_sales',\n",
    "        aggfunc='sum'),\n",
    "        cmap='Blues',\n",
    ")\n",
    "ax.set(xlabel='Год издания', ylabel='Жанр')\n",
    "ax.tick_params(axis='x', rotation=45)\n",
    "plt.title('Интенсивность продаж по годам и жанрам', fontsize=18)\n",
    "plt.show()"
   ]
  },
  {
   "cell_type": "markdown",
   "id": "3da5204f",
   "metadata": {},
   "source": [
    "Примерно с 1985 года до 2013 были надёжные продажи \"платформеров\". Последние несколько лет этот жанр теряет пользователей.\n",
    "\n",
    "Эпоха массовых продаж игр по сути открылась в 1996 году, когда резко повысились продажи в многих жанрах. Пик в большинстве жанров пришёлся на 2006-2010 годы. Экшн, шутеры и ролевые игры хорошо продавались и после, а вот первичные продажи спортивных и других симуляторов быстро упали.\n",
    "\n",
    "Пазлы, приключения и стратегии всегда приносили относительно мало продаж."
   ]
  },
  {
   "cell_type": "markdown",
   "id": "e91a0622",
   "metadata": {},
   "source": [
    "##### Актуальные"
   ]
  },
  {
   "cell_type": "code",
   "execution_count": 44,
   "id": "6f10f4f5",
   "metadata": {},
   "outputs": [
    {
     "data": {
      "image/png": "[encoded data removed]",
      "text/plain": [
       "<Figure size 864x576 with 3 Axes>"
      ]
     },
     "metadata": {
      "needs_background": "light"
     },
     "output_type": "display_data"
    }
   ],
   "source": [
    "actual_sales_by_genre = actual_games.pivot_table(\n",
    "    index='genre',\n",
    "    values=['weighted_sales', 'weight'], \n",
    "    aggfunc=['sum'],  # количество игр в такой схеме - это просто сумма весов\n",
    ")\n",
    "\n",
    "actual_sales_by_genre.columns = ['games', 'total_sales']\n",
    "actual_sales_by_genre['mean_sales'] = (\n",
    "    actual_sales_by_genre['total_sales'] / actual_sales_by_genre['games'])\n",
    "ax = actual_sales_by_genre.sort_values('mean_sales', ascending=False).plot.bar(\n",
    "    figsize=(FIGSIZE[0], 8), subplots=True, rot=45, legend=False, xlabel='Жанр')\n",
    "ax[0].set_title('Издания', fontsize=16)\n",
    "ax[0].set_ylabel('Наименований')\n",
    "ax[1].set_title('Продажи', fontsize=16)\n",
    "ax[1].set_ylabel('Млн. копий')\n",
    "ax[2].set_title('Средние продажи одного наименования', fontsize=16)\n",
    "ax[2].set_ylabel('Млн. копий')\n",
    "plt.show()"
   ]
  },
  {
   "cell_type": "markdown",
   "id": "b6b115df",
   "metadata": {},
   "source": [
    "В нынешнее время ценнее всего шутеры. Средняя выручка с игры втрое выше, чем в других жанрах. Небольшое количество наименований приносят большие кассы.\n",
    "\n",
    "Интересны также категории \"Спорт\" и \"Ролевая\" - большие продажи, выручка на игру выше среднего.\n",
    "\n",
    "Платформеры также средняя выручка на игру выше среднего - но невелики продажи, маленький спрос, мало игр.\n",
    "\n",
    "Наибольшая сумма продаж среди всех жанров - это категория \"Экшн\". Однако в этой же категории и больше всего наименований, поэтому продажи на игру - не выдающиеся.\n",
    "\n",
    "Наименее интересны для продаж приключенческие игры - их много, выручки мало. И пазлы со стратегиями - их чрезвычайно мало, и выручки мало."
   ]
  },
  {
   "cell_type": "code",
   "execution_count": 45,
   "id": "c213f103",
   "metadata": {
    "scrolled": false
   },
   "outputs": [
    {
     "data": {
      "image/png": "[encoded data removed]",
      "text/plain": [
       "<Figure size 864x432 with 1 Axes>"
      ]
     },
     "metadata": {
      "needs_background": "light"
     },
     "output_type": "display_data"
    }
   ],
   "source": [
    "plt.figure(figsize=FIGSIZE)\n",
    "sns.boxplot(\n",
    "    x='genre', y='weighted_sales', showmeans=True, data=actual_games\n",
    ").set_yscale(\"log\"); plt.show()"
   ]
  },
  {
   "cell_type": "markdown",
   "id": "dc1af4e0",
   "metadata": {},
   "source": [
    "<div class=\"alert alert-success\">\n",
    "<b>ОТЛИЧНО! 👍</b>\n",
    "\n",
    "Это хорошо! Часто студенты рисуют только график с боксплотами, на которых видны выбросы, а сами \"ящики\" сплющиваются так, что квартилей не разобрать.</div>\n"
   ]
  },
  {
   "cell_type": "markdown",
   "id": "80ac3355",
   "metadata": {},
   "source": [
    "Наиболее кассовые игры выпускаются в жанре шутеров. Сильнее других также выглядят спортивные игры и платформеры.\n",
    "\n",
    "Далее можно рассматривать ролевые, гоночные и файтинги."
   ]
  },
  {
   "cell_type": "markdown",
   "id": "4300ed68",
   "metadata": {},
   "source": [
    "<div class=\"alert alert-success\">\n",
    "<b>ОК 👍</b>\n",
    "\n",
    "Это одно из сложных мест в этом проекте: зачастую студенты делают вывод о выгодности жанра по количеству проданных копий (по этому параметру должны бы выиграть Action-игры), а не по среднему/медианному значению. \n",
    "Отлично что ты понимаешь, что общие продажи - это не очень корректная метрика для поиска наиболее прибыльного жанра. За высокими показателями общих продаж может скрываться множество мелких игр с низкими продажами. Или 2-3 звезды и куча провалов. Лучше найти жанр, где игры стабильно приносят высокий доход - для этого стоит рассмотреть средние (или медианные продажи или продажи, приведенные на одну игру), что собственно ты и делаешь!</div>\n"
   ]
  },
  {
   "cell_type": "markdown",
   "id": "ef83edd8",
   "metadata": {},
   "source": [
    "#### Влияние отзывов\n",
    "\n",
    "Посмотрим на влияние отзывов на актуальные продажи.\n",
    "\n",
    "Посмотрим распределения в четырёх выборках: три ведущие платформы, и все игры вместе взятые."
   ]
  },
  {
   "cell_type": "code",
   "execution_count": 46,
   "id": "6c75131b",
   "metadata": {
    "scrolled": false
   },
   "outputs": [
    {
     "name": "stdout",
     "output_type": "stream",
     "text": [
      "\n",
      "======================================PS4======================================\n",
      "Корреляция продаж и оценок пользователей: -0.032\n"
     ]
    },
    {
     "data": {
      "image/png": "[encoded data removed]",
      "text/plain": [
       "<Figure size 864x432 with 1 Axes>"
      ]
     },
     "metadata": {
      "needs_background": "light"
     },
     "output_type": "display_data"
    },
    {
     "name": "stdout",
     "output_type": "stream",
     "text": [
      "Корреляция продаж и оценок критиков: 0.4066\n"
     ]
    },
    {
     "data": {
      "image/png": "[encoded data removed]",
      "text/plain": [
       "<Figure size 864x432 with 1 Axes>"
      ]
     },
     "metadata": {
      "needs_background": "light"
     },
     "output_type": "display_data"
    },
    {
     "name": "stdout",
     "output_type": "stream",
     "text": [
      "\n",
      "=====================================XONE======================================\n",
      "Корреляция продаж и оценок пользователей: -0.0689\n"
     ]
    },
    {
     "data": {
      "image/png": "[encoded data removed]",
      "text/plain": [
       "<Figure size 864x432 with 1 Axes>"
      ]
     },
     "metadata": {
      "needs_background": "light"
     },
     "output_type": "display_data"
    },
    {
     "name": "stdout",
     "output_type": "stream",
     "text": [
      "Корреляция продаж и оценок критиков: 0.417\n"
     ]
    },
    {
     "data": {
      "image/png": "[encoded data removed]",
      "text/plain": [
       "<Figure size 864x432 with 1 Axes>"
      ]
     },
     "metadata": {
      "needs_background": "light"
     },
     "output_type": "display_data"
    },
    {
     "name": "stdout",
     "output_type": "stream",
     "text": [
      "\n",
      "=====================================WIIU======================================\n",
      "Корреляция продаж и оценок пользователей: 0.4002\n"
     ]
    },
    {
     "data": {
      "image/png": "[encoded data removed]",
      "text/plain": [
       "<Figure size 864x432 with 1 Axes>"
      ]
     },
     "metadata": {
      "needs_background": "light"
     },
     "output_type": "display_data"
    },
    {
     "name": "stdout",
     "output_type": "stream",
     "text": [
      "Корреляция продаж и оценок критиков: 0.3484\n"
     ]
    },
    {
     "data": {
      "image/png": "[encoded data removed]",
      "text/plain": [
       "<Figure size 864x432 with 1 Axes>"
      ]
     },
     "metadata": {
      "needs_background": "light"
     },
     "output_type": "display_data"
    },
    {
     "name": "stdout",
     "output_type": "stream",
     "text": [
      "\n",
      "===============================ALL ACTUAL GAMES================================\n",
      "Корреляция продаж и оценок пользователей: 0.0042\n"
     ]
    },
    {
     "data": {
      "image/png": "[encoded data removed]",
      "text/plain": [
       "<Figure size 864x432 with 1 Axes>"
      ]
     },
     "metadata": {
      "needs_background": "light"
     },
     "output_type": "display_data"
    },
    {
     "name": "stdout",
     "output_type": "stream",
     "text": [
      "Корреляция продаж и оценок критиков: 0.3484\n"
     ]
    },
    {
     "data": {
      "image/png": "[encoded data removed]",
      "text/plain": [
       "<Figure size 864x432 with 1 Axes>"
      ]
     },
     "metadata": {
      "needs_background": "light"
     },
     "output_type": "display_data"
    }
   ],
   "source": [
    "for platform in ['PS4', 'XOne', 'WiiU']:\n",
    "    df = actual_games[actual_games['platform'] == platform]\n",
    "    print(headline(platform))\n",
    "    \n",
    "    print('Корреляция продаж и оценок пользователей:',\n",
    "          round(df['total_sales'].corr(df['user_score']), 4))\n",
    "    ax = df.plot(kind='scatter', x='user_score', y='total_sales', figsize=FIGSIZE)\n",
    "    ax.set(xlabel='Оценка пользователей', ylabel='Продано копий, млн.')\n",
    "    plt.show()\n",
    "    \n",
    "    print('Корреляция продаж и оценок критиков:',\n",
    "          round(df['total_sales'].corr(df['critic_score']), 4))\n",
    "    ax = df.plot(kind='scatter', x='critic_score', y='total_sales', figsize=FIGSIZE)\n",
    "    ax.set(xlabel='Оценка критиков', ylabel='Продано копий, млн.')\n",
    "    plt.show()    \n",
    "\n",
    "print(headline('all actual games'))\n",
    "print('Корреляция продаж и оценок пользователей:',\n",
    "      round(actual_games['total_sales'].corr(actual_games['user_score']), 4))\n",
    "ax = actual_games.plot(kind='scatter', x='user_score', y='total_sales', figsize=FIGSIZE)\n",
    "ax.set(xlabel='Оценка пользователей', ylabel='Продано копий, млн.')\n",
    "plt.show()\n",
    "print('Корреляция продаж и оценок критиков:',\n",
    "      round(actual_games['total_sales'].corr(df['critic_score']), 4))\n",
    "ax = actual_games.plot(kind='scatter', x='critic_score', y='total_sales', figsize=FIGSIZE)\n",
    "ax.set(xlabel='Оценка критиков', ylabel='Продано копий, млн.')\n",
    "plt.show() "
   ]
  },
  {
   "cell_type": "markdown",
   "id": "087eb3c9",
   "metadata": {},
   "source": [
    "<div class=\"alert alert-success\">\n",
    "<b>ОТЛИЧНО! 👍</b>\n",
    "\n",
    "Тут всё верно, мы выбрали одну из платформ и проверили линейную зависимость между продажами и оценками пользователей и экспертов.\n",
    "\n",
    "И вот здесь именно то место, которое упрощает жизнь за счет того, что мы не заполняли пропуски в 'critic_score' и 'user_score'. Если бы это было иначе - перед анализом корреляций надо было бы эти заполненные значения не учитывать (отфильтровывать).\n",
    "\n",
    "Ввиду же того, что \"пропуски\" в столбцах с соответствующими оценками мы \"заглушками\" заполнять не стали (а NaN – значения метод .corr() не учитывает (ссылка на документацию: https://pandas.pydata.org/pandas-docs/stable/reference/api/pandas.DataFrame.corr.html?highlight=corr#pandas.DataFrame.corr)), то и перед передачей данных в метод .corr() отфильтровывать нам их не пришлось.</div>\n"
   ]
  },
  {
   "cell_type": "markdown",
   "id": "e58e853d",
   "metadata": {},
   "source": [
    "По трём самым актуальным платформам, а также по общим данным за актуальное время, делаем такие выводы:\n",
    "- оценки пользователей корреляции с продажами не имеют;\n",
    "- оценки критиков показывают прямую, средне-слабую корреляцию с объёмами продаж."
   ]
  },
  {
   "cell_type": "markdown",
   "id": "d3f39933",
   "metadata": {},
   "source": [
    "<div class=\"alert alert-danger\">\n",
    "<b>Необходимо исправить ❌</b>\n",
    "\n",
    "Дьявол кроется в формулировках: **рейтинг экспертов выше 90 гарантирет ощутимые продажи игры / чем выше рейтинг экспертов, тем выше шансы реализовать много копий / продажи гораздо меньше связаны с рейтингом пользователей** - говорить так в общем случае неверно.\n",
    "\n",
    "---\n",
    "\n",
    "Формулировать, что коэффициент  корреляции (Пирсона) между 2 переменными (в нашем случае между \"total_sales\" и \"critic_score\") есть показатель того, что **на количество продаж влияет оценка ** - неверно. Корреляция не подразумевает наличие причинно-следственной связи между переменными.\n",
    "    \n",
    "Коэффициент свидетельствует **о наличии или отсутствии линейной связи** между переменными, и **измеряет выраженность** этой связи. Другими словами, коэффициент корреляции - это инструмент, с помощью которого можно проверить гипотезу о **линейной** зависимости и измерить степень этой зависимости.\n",
    "    \n",
    "Например, в нашем случае, связь между продажами и оценками экспертов для всех платформ является **прямой, слабой** степени выраженности (во всех случаях коэффициент около 0,3-0,4).\n",
    "\n",
    "Я бы твою фразу переписал бы так (**ПРИМЕР**): \"Оценки критиков демонстрируют прямую, средне-слабую корреляцию с \"цифрами\" продаж. Оценки пользователей корреляции с продажами не имеют\".\n",
    "\n",
    "Понимаешь, нет влияния оценок на продажи. Коэффициент корреляции Пирсона не про это. Он про линейную зависимость 2-х переменных. И ещё, это коэффициент **НЕ ОБЪЯСНЯЕТ** зависимость, он **НЕ ГОВОРИТ** почему наблюдается такой эффект, но просто констатирует факт, что корреляция наблюдается (например, \"мы видим, что те игры, которым наши эксперты дают высокие оценки - продаются лучше\". А вот почему они продаются лучше - можно только предполагать ... разные причины могут быть). Вот смешная статейка на эту тему: https://ktonanovenkogo.ru/voprosy-i-otvety/korrelyaciya-chto-ehto-takoe-prostymi-slovami.html</div>\n"
   ]
  },
  {
   "cell_type": "markdown",
   "id": "e058551f",
   "metadata": {},
   "source": [
    "<div style=\"background: #B0E0E6; padding: 5px; border: 1px solid SteelBlue; border-radius: 5px;\">\n",
    "<font color='4682B4'><u><b>КОММЕНТАРИЙ СТУДЕНТА</b></u></font>\n",
    "<br />\n",
    "<font color='4682B4'>Эта идея мне знакома, и я ей следую. Поскольку изложить подробно и правильно не удалось, изложу просто, как у тебя в примере.\n",
    "</font>\n",
    "</div>"
   ]
  },
  {
   "cell_type": "markdown",
   "id": "52d83e4c",
   "metadata": {},
   "source": [
    "### Итоги исследовательского анализа\n",
    "\n",
    "На момент среза данных:\n",
    "- Самые тиражные платформы: PS4, Xbox One, WiiU.\n",
    "- Самые тиражные жанры: шутер, спорт и RPG, также можно рассмотреть малочисленные, но хорошо расходящиеся платформеры.\n",
    "- Высокая оценка критиков слабо коррелирует с высокими продажами игры;\n",
    "- Оценка пользователей почти не связана с продажами игры."
   ]
  },
  {
   "cell_type": "markdown",
   "id": "b1548e11",
   "metadata": {},
   "source": [
    "## Различия между регионами"
   ]
  },
  {
   "cell_type": "markdown",
   "id": "32889fdb",
   "metadata": {},
   "source": [
    "Есть три ярко выраженные зоны крупных продаж:\n",
    "- NA: Северная Америка;\n",
    "- EU: Европа;\n",
    "- JP: Япония.\n",
    "\n",
    "Мы взглянем на два показателя:\n",
    "- `sum` суммарные продажи по категории -  полезно, если есть намерение продвигать категорию игр;\n",
    "- `median` медианные продажи (с одной игры) - полезно, если из категории будут выбираться отдельные наименования для продвижения.\n",
    "\n",
    "Мы оцениваем продажи последних лет, умноженные на \"вес\" (значимость для нас) - чем новее игра, тем больший вес имеют её данные."
   ]
  },
  {
   "cell_type": "code",
   "execution_count": 47,
   "id": "742cc67c",
   "metadata": {},
   "outputs": [],
   "source": [
    "for name in ['na', 'eu', 'jp', 'other']:\n",
    "    actual_games['weighted_' + name + '_sales'] = (\n",
    "        actual_games[name + '_sales'] * actual_games['weight']\n",
    "    )"
   ]
  },
  {
   "cell_type": "markdown",
   "id": "ae137dba",
   "metadata": {},
   "source": [
    "### Сравнение региональных рынков"
   ]
  },
  {
   "cell_type": "code",
   "execution_count": 48,
   "id": "7549cee1",
   "metadata": {
    "scrolled": false
   },
   "outputs": [
    {
     "data": {
      "image/png": "[encoded data removed]",
      "text/plain": [
       "<Figure size 432x432 with 1 Axes>"
      ]
     },
     "metadata": {},
     "output_type": "display_data"
    }
   ],
   "source": [
    "sale_columns = [\n",
    "    'weighted_na_sales', 'weighted_eu_sales', 'weighted_jp_sales', 'weighted_other_sales'\n",
    "]\n",
    "\n",
    "sales = actual_games[sale_columns].agg('sum').transpose()\n",
    "sales.index = ['NA', 'EU', 'JP', 'other']\n",
    "\n",
    "ax = sales.plot.pie(\n",
    "    startangle=307,\n",
    "    figsize=(FIGSIZE[1], FIGSIZE[1]), legend=False\n",
    ")\n",
    "ax.set_title('Доли в общих продажах', fontsize=18)\n",
    "ax.axes.get_xaxis().set_visible(False)\n",
    "ax.axes.get_yaxis().set_visible(False)\n",
    "plt.show()"
   ]
  },
  {
   "cell_type": "markdown",
   "id": "97e96de7",
   "metadata": {},
   "source": [
    "<div class=\"alert alert-warning\">\n",
    "<b>Комментарий 👉</b>\n",
    "\n",
    "Специалисты по визуализации утверждают, что наш мозг?/глаз? **очень плохо \"различает различия\"** между \"примерно одинаковыми\" кусочками pie-диаграммы. Ну и соответственно рекомендуют использовать столбиковые?/столбцовые? диаграммы.</div>\n"
   ]
  },
  {
   "cell_type": "markdown",
   "id": "a9edc1f2",
   "metadata": {},
   "source": [
    "<div style=\"background: #B0E0E6; padding: 5px; border: 1px solid SteelBlue; border-radius: 5px;\">\n",
    "<font color='4682B4'><u><b>КОММЕНТАРИЙ СТУДЕНТА</b></u></font>\n",
    "<br />\n",
    "<font color='4682B4'>Нас учили строить круговые диаграммы. А потом я вижу статью, автор которой убеждает меня, что круговую диаграмму никогда нет смысла использовать. В ней те же аргументы, как у тебя.\n",
    "\n",
    "Я вижу смысл в круговых диаграммах минимум в одном случае: когда кусок из неё сравнивается не с другим куском, а со всей суммой. Если мы выбросим определённые куски - сколько мы теряем в сумме? Если выберем куски - сколько мы приобретаем из общего? Это наглядно видно, если правильно подобрать порядок кусков.\n",
    "\n",
    "В этой диаграмме я хочу показать именно доли рынков в суммарных продажах. Я думаю, пирог здесь уместнее всего. То, что он не показывает мелких различий между долями - это хорошо. Он приковывает внимание к главному: к тому, что эти доли практически равны. И к тому, насколько они важны.\n",
    "\n",
    "Теперь я повернул его так, что различия лучше заметны.\n",
    "</font>\n",
    "</div>"
   ]
  },
  {
   "cell_type": "markdown",
   "id": "4d1bb20e",
   "metadata": {},
   "source": [
    "Видим:\n",
    "  - Северная Америка и Европа - два важных рынка, по 3/8 от мировых продаж.\n",
    "  - Япония и остальные страны формируют по 1/8 от мировых продаж."
   ]
  },
  {
   "cell_type": "markdown",
   "id": "39b7d897",
   "metadata": {},
   "source": [
    "### Самые тиражные платформы"
   ]
  },
  {
   "cell_type": "code",
   "execution_count": 49,
   "id": "00dc2b1e",
   "metadata": {
    "scrolled": false
   },
   "outputs": [
    {
     "name": "stdout",
     "output_type": "stream",
     "text": [
      "\n",
      "=========================================NA ZONE==========================================\n"
     ]
    },
    {
     "data": {
      "image/png": "[encoded data removed]",
      "text/plain": [
       "<Figure size 864x432 with 3 Axes>"
      ]
     },
     "metadata": {
      "needs_background": "light"
     },
     "output_type": "display_data"
    },
    {
     "name": "stdout",
     "output_type": "stream",
     "text": [
      "\n",
      "=========================================EU ZONE==========================================\n"
     ]
    },
    {
     "data": {
      "image/png": "[encoded data removed]",
      "text/plain": [
       "<Figure size 864x432 with 3 Axes>"
      ]
     },
     "metadata": {
      "needs_background": "light"
     },
     "output_type": "display_data"
    },
    {
     "name": "stdout",
     "output_type": "stream",
     "text": [
      "\n",
      "=========================================JP ZONE==========================================\n"
     ]
    },
    {
     "data": {
      "image/png": "[encoded data removed]",
      "text/plain": [
       "<Figure size 864x432 with 3 Axes>"
      ]
     },
     "metadata": {
      "needs_background": "light"
     },
     "output_type": "display_data"
    }
   ],
   "source": [
    "for zone in ['na', 'eu', 'jp']:\n",
    "    df = actual_games.pivot_table(\n",
    "        index='platform', values=f'weighted_{zone}_sales', aggfunc=['sum', 'mean', 'median']\n",
    "    )\n",
    "    df.columns = ['sum', 'mean', 'median']\n",
    "    \n",
    "    ax = df.sort_values(['mean', 'median', 'sum'], ascending=False).plot.bar(\n",
    "        subplots=True, figsize=FIGSIZE, legend=False, rot=0,\n",
    "        xlabel='Платформа', ylabel='Млн. копий')\n",
    "    ax[0].set_title('Общие продажи')\n",
    "    ax[1].set_title('Средние продажи одного издания')\n",
    "    ax[2].set_title('Медианные продажи одного издания')\n",
    "    print(headline(f'{zone.upper()} zone', width=90))\n",
    "    plt.show()"
   ]
  },
  {
   "cell_type": "markdown",
   "id": "7b2e2901",
   "metadata": {},
   "source": [
    "<div class=\"alert alert-warning\">\n",
    "<b>Комментарий 👉</b>\n",
    "\n",
    "Нарисуй диаграммы крупнее, чтобы подписи друг на друга не накладывались.\n",
    "</div>"
   ]
  },
  {
   "cell_type": "markdown",
   "id": "5a7cd1b6",
   "metadata": {},
   "source": [
    "<div style=\"background: #B0E0E6; padding: 5px; border: 1px solid SteelBlue; border-radius: 5px;\">\n",
    "<font color='4682B4'><u><b>КОММЕНТАРИЙ СТУДЕНТА</b></u></font>\n",
    "<br />\n",
    "<font color='4682B4'>Тут дейтствительно уместнее столбчатые диаграммы - поскольку сравниваем элементы между собой. Ввёл ещё один ряд - со средними, поскольку медианные значения на некоторых платформах падают до нуля, сравнивать по ним становится невозможно.\n",
    "</font>\n",
    "</div>"
   ]
  },
  {
   "cell_type": "markdown",
   "id": "122bfe82",
   "metadata": {},
   "source": [
    "**Суммарные продажи** - можно выделять лидера, его соперников, \"третий ряд\", и \"оставшихся\".\n",
    "\n",
    "- Северная Америка:\n",
    "  - Выраженного лидера нет.\n",
    "  - PlayStation (PS4, PS3) и Xbox (XOne, X360) образуют две пары, примерно равные по объёмам актуальных продаж. Вместе это более 4/5 рынка видеоигр.\n",
    "  - Третий ряд - Nintendo 3DS и WiiU.\n",
    "- Европа:\n",
    "  - Лидер - PlayStation 4, вместе с PS3 - это чуть больше половины продаж.\n",
    "  - Далее XOne и X360 вместе - примерно четверть продаж игр.\n",
    "  - Третий ряд - игры для ПК, а также Nintendo 3DS и WiiU.\n",
    "- Япония:\n",
    "  - Доминирует Nintendo 3DS - почти половина игр проданы для этой платформы.\n",
    "  - Три равные доли продаж приходятся на PS4, PS3 и PS Vito. Вместе - также почти половина.\n",
    "  - В \"третьем ряду\" - только WiiU.\n",
    "\n",
    "Игры для PlayStation актуальны везде. Также WiiU везде имеет примерно равные небольшие доли продаж.\n",
    "\n",
    "Игры для Xbox не актуальны в Японии. Зато в Японии очень актуальны игры для Nintendo 3DS.\n",
    "\n",
    "Игры для ПК относительно распространены только в Европе.\n",
    "\n",
    "**Продажи типичной (медианной) игры**:\n",
    "- Северная Америка:\n",
    "  - Издание для XOne и X360 лучше распространяется, чем для PS4 или WiiU.\n",
    "- Европа:\n",
    "  - У издания для PS4 или XOne сборы несколько выше, несколько ниже ценятся игры для X360, компьютеров и WiiU.\n",
    "- Япония:\n",
    "  - Игра для 3DS обычно распространяется лучше других. Также востребованы игры для PS Vito.\n",
    "\n",
    "Игры для Xbox выгоднее продавать в Северной Америке, для PlayStation - в Европе, для Nintendo DS - в Японии."
   ]
  },
  {
   "cell_type": "markdown",
   "id": "3d02ab55",
   "metadata": {},
   "source": [
    "### 5 самых популярных жанров"
   ]
  },
  {
   "cell_type": "code",
   "execution_count": 50,
   "id": "a9c6cff9",
   "metadata": {},
   "outputs": [
    {
     "name": "stdout",
     "output_type": "stream",
     "text": [
      "\n",
      "=========================================NA ZONE==========================================\n"
     ]
    },
    {
     "data": {
      "image/png": "[encoded data removed]",
      "text/plain": [
       "<Figure size 864x432 with 3 Axes>"
      ]
     },
     "metadata": {
      "needs_background": "light"
     },
     "output_type": "display_data"
    },
    {
     "name": "stdout",
     "output_type": "stream",
     "text": [
      "\n",
      "=========================================EU ZONE==========================================\n"
     ]
    },
    {
     "data": {
      "image/png": "[encoded data removed]",
      "text/plain": [
       "<Figure size 864x432 with 3 Axes>"
      ]
     },
     "metadata": {
      "needs_background": "light"
     },
     "output_type": "display_data"
    },
    {
     "name": "stdout",
     "output_type": "stream",
     "text": [
      "\n",
      "=========================================JP ZONE==========================================\n"
     ]
    },
    {
     "data": {
      "image/png": "[encoded data removed]",
      "text/plain": [
       "<Figure size 864x432 with 3 Axes>"
      ]
     },
     "metadata": {
      "needs_background": "light"
     },
     "output_type": "display_data"
    }
   ],
   "source": [
    "for zone in ['na', 'eu', 'jp']:\n",
    "    df = actual_games.pivot_table(\n",
    "        index='genre', values=f'weighted_{zone}_sales', aggfunc=['sum', 'mean', 'median']\n",
    "    )\n",
    "    df.columns = ['sum', 'mean', 'median']\n",
    "    \n",
    "    ax = df.sort_values(['mean', 'median', 'sum'], ascending=False).plot.bar(\n",
    "        subplots=True, figsize=FIGSIZE, legend=False, rot=0,\n",
    "        xlabel='Жанр', ylabel='Млн. копий')\n",
    "    ax[0].set_title('Общие продажи')\n",
    "    ax[1].set_title('Средние продажи одного издания')\n",
    "    ax[2].set_title('Медианные продажи одного издания')\n",
    "    print(headline(f'{zone.upper()} zone', width=90))\n",
    "    plt.show()"
   ]
  },
  {
   "cell_type": "markdown",
   "id": "198ddfed",
   "metadata": {},
   "source": [
    "Суммарные продажи:\n",
    "- Северная Америка и Европа:\n",
    "  - Лидируют экшны и шутеры - вместе более половины рынков;\n",
    "  - Заметны спортивные и ролевые игры  - вместе ещё четверть;\n",
    "- Япония:\n",
    "  - Доминируют RPG и экшны - по трети рынка.\n",
    "  - Остальные жанры, в том числе шутеры, представлены небольшими долями.\n",
    "\n",
    "Продажи типичного наименования игры:\n",
    "- Северная Аметрика и Европа:\n",
    "  - Лучше других распространяются шутеры; следом - спортивные игры и платформеры;\n",
    "  - В Европе (в отличие от Америки) хорошо расходится игра-гонка.\n",
    "- Япония:\n",
    "  - Наиболее востребованы ролевые игры; также можно рассмотреть файтинги, симуляторы и платформеры."
   ]
  },
  {
   "cell_type": "markdown",
   "id": "1af36049",
   "metadata": {},
   "source": [
    "### Влияние рейтина ESRB на продажи в регионах"
   ]
  },
  {
   "cell_type": "markdown",
   "id": "5025d73e",
   "metadata": {},
   "source": [
    "Сравним, какие доли имеют игры с разными возрастными категориями. Видим, что у нас неполные данные - во многих играх категория ESRB не указана. Такие игры будем считать играми отдельной категории: `NA` (\"рейтинг не указан\")."
   ]
  },
  {
   "cell_type": "code",
   "execution_count": 51,
   "id": "74e7bba9",
   "metadata": {},
   "outputs": [
    {
     "data": {
      "text/html": [
       "<div>\n",
       "<style scoped>\n",
       "    .dataframe tbody tr th:only-of-type {\n",
       "        vertical-align: middle;\n",
       "    }\n",
       "\n",
       "    .dataframe tbody tr th {\n",
       "        vertical-align: top;\n",
       "    }\n",
       "\n",
       "    .dataframe thead th {\n",
       "        text-align: right;\n",
       "    }\n",
       "</style>\n",
       "<table border=\"1\" class=\"dataframe\">\n",
       "  <thead>\n",
       "    <tr style=\"text-align: right;\">\n",
       "      <th></th>\n",
       "      <th>North America</th>\n",
       "      <th>Europe</th>\n",
       "      <th>Japan</th>\n",
       "    </tr>\n",
       "    <tr>\n",
       "      <th>rating</th>\n",
       "      <th></th>\n",
       "      <th></th>\n",
       "      <th></th>\n",
       "    </tr>\n",
       "  </thead>\n",
       "  <tbody>\n",
       "    <tr>\n",
       "      <th>E</th>\n",
       "      <td>18.581333</td>\n",
       "      <td>20.192667</td>\n",
       "      <td>3.915333</td>\n",
       "    </tr>\n",
       "    <tr>\n",
       "      <th>E10+</th>\n",
       "      <td>12.323333</td>\n",
       "      <td>9.304667</td>\n",
       "      <td>1.484000</td>\n",
       "    </tr>\n",
       "    <tr>\n",
       "      <th>M</th>\n",
       "      <td>37.060000</td>\n",
       "      <td>32.986667</td>\n",
       "      <td>3.254000</td>\n",
       "    </tr>\n",
       "    <tr>\n",
       "      <th>NA</th>\n",
       "      <td>20.228000</td>\n",
       "      <td>18.169333</td>\n",
       "      <td>19.866667</td>\n",
       "    </tr>\n",
       "    <tr>\n",
       "      <th>T</th>\n",
       "      <td>12.438000</td>\n",
       "      <td>10.606000</td>\n",
       "      <td>4.757333</td>\n",
       "    </tr>\n",
       "  </tbody>\n",
       "</table>\n",
       "</div>"
      ],
      "text/plain": [
       "        North America     Europe      Japan\n",
       "rating                                     \n",
       "E           18.581333  20.192667   3.915333\n",
       "E10+        12.323333   9.304667   1.484000\n",
       "M           37.060000  32.986667   3.254000\n",
       "NA          20.228000  18.169333  19.866667\n",
       "T           12.438000  10.606000   4.757333"
      ]
     },
     "metadata": {},
     "output_type": "display_data"
    },
    {
     "data": {
      "image/png": "[encoded data removed]",
      "text/plain": [
       "<Figure size 1008x360 with 3 Axes>"
      ]
     },
     "metadata": {},
     "output_type": "display_data"
    }
   ],
   "source": [
    "dfs = []\n",
    "for zone in ['na', 'eu', 'jp']:\n",
    "    actual_games['rating'] = actual_games['rating'].fillna('NA')\n",
    "    df = actual_games.pivot_table(\n",
    "        index='rating', values=f'weighted_{zone}_sales', aggfunc='sum' \n",
    "    )\n",
    "    dfs.append(df)\n",
    "\n",
    "sales_by_rating = dfs[0].join([dfs[1], dfs[2]])\n",
    "sales_by_rating.columns = ['North America', 'Europe', 'Japan']\n",
    "display(sales_by_rating)\n",
    "sales_by_rating.plot.pie(\n",
    "    subplots=True, figsize=(14, 5), legend=False,\n",
    "    title='Доли в игр разных категорий ESRB в общих продажах по регионам',\n",
    ")\n",
    "plt.show()"
   ]
  },
  {
   "cell_type": "markdown",
   "id": "1cef02f2",
   "metadata": {},
   "source": [
    "<div class=\"alert alert-danger\">\n",
    "<b>Необходимо исправить ❌</b>\n",
    "\n",
    "Здесь мы потеряли игры без рейтинга (в самом начале тетрадки у меня был комментарий про то, что мы не должны забыть обработать NaN в 'rating'). Если выполнить (**псевдокод!**): **df_actual['rating'].value_counts(dropna=False)**, то получим, что кроме игр с явными рейтингами (которые ты ниже и анализируешь) есть ещё около тысячи игр без рейтинга. Но продажи именно таких игр могут указать на ключевое различие в регионах. \n",
    "Исправь пожалуйста эту ошибку и посмотри - не поменялись ли твои выводы.</div>\n"
   ]
  },
  {
   "cell_type": "markdown",
   "id": "c0bac265",
   "metadata": {},
   "source": [
    "<div style=\"background: #B0E0E6; padding: 5px; border: 1px solid SteelBlue; border-radius: 5px;\">\n",
    "<font color='4682B4'><u><b>КОММЕНТАРИЙ СТУДЕНТА</b></u></font>\n",
    "<br />\n",
    "<font color='4682B4'>Идею понял, теперь учтены записи без рейтинга. Вывод меняется.\n",
    "</font>\n",
    "</div>"
   ]
  },
  {
   "cell_type": "markdown",
   "id": "027a1954",
   "metadata": {},
   "source": [
    "В Америке и Европе больше всего копий приходилась на игры M \"от 17 лет\". Меньше продаж приходится на игры E \"для всех\" и игры без указания рейтинга. \"Промежуточные\" категории (\"до 10\", \"до 13\") имеют меньший тираж.\n",
    "\n",
    "В Японии картина сильно отличается. Более половины копий приходится на игры, рейтинг которых не указан. Из тех игр, которые получили рейтин, чаще всего реализованная копия имела категорию T - для подростков (\"до 13 лет\"). Реже - категорию E \"для всех\" и M \"для взрослых\". Категория E10+ относительно редка.\n",
    "\n",
    "Предположим, что для локальных японских игр (вроде RPG для Nintendo) не указан рейтинг ESRB."
   ]
  },
  {
   "cell_type": "code",
   "execution_count": 52,
   "id": "7dbdf6f3",
   "metadata": {},
   "outputs": [
    {
     "data": {
      "text/plain": [
       "count     396\n",
       "unique      5\n",
       "top        NA\n",
       "freq      254\n",
       "Name: rating, dtype: object"
      ]
     },
     "execution_count": 52,
     "metadata": {},
     "output_type": "execute_result"
    }
   ],
   "source": [
    "actual_games[actual_games['platform'] == '3DS']['rating'].describe()"
   ]
  },
  {
   "cell_type": "markdown",
   "id": "e20ab3be",
   "metadata": {},
   "source": [
    "Видим, что в большинстве случаев так и есть.\n",
    "\n",
    "Возможные причины:\n",
    "- рейтинг ESRB присваивается тем играм, которые активно распространяются в США, а японский потребитель предпочитает совсем другие игры, которые не популярны в США и на оценку в ESRB не поступают."
   ]
  },
  {
   "cell_type": "markdown",
   "id": "8a3ba889",
   "metadata": {},
   "source": [
    "Среди игр, получивших рейтинг, также есть отличия от Америки и Европы.\n",
    "\n",
    "Возможны такие причины для разницы:\n",
    " - в Японии потребитель моложе, чем в Европе и Америке;\n",
    " - в Японии потребитель выбирает менее жёсткую категорию, чем позволено;\n",
    " - в Америке потребитель выбирает более жёсткую категорию, в том числе, нарушая возрастной запрет;\n",
    " - в Японии родители чаще влияют на выбор игры потребителем-ребёнком, чем в Америке и Европе;\n",
    " - в Америке и Европе родители иначе выбирают игры для потребителя-ребёнка, чем в Японии. "
   ]
  },
  {
   "cell_type": "markdown",
   "id": "413120d5",
   "metadata": {},
   "source": [
    "<div class=\"alert alert-warning\">\n",
    "<b>Комментарий 👉</b>\n",
    "\n",
    "(После исправления красного комментария выше) А чем на твой взгляд можно объяснить то, что в Японии лидерами продаж (в количестве копий) являются игры без рейтинга ESRB?</div>\n"
   ]
  },
  {
   "cell_type": "markdown",
   "id": "8e12050c",
   "metadata": {},
   "source": [
    "<div style=\"background: #B0E0E6; padding: 5px; border: 1px solid SteelBlue; border-radius: 5px;\">\n",
    "<font color='4682B4'><u><b>КОММЕНТАРИЙ СТУДЕНТА</b></u></font>\n",
    "<br />\n",
    "<font color='4682B4'>Идею понял, теперь учтены записи без рейтинга. Вывод меняется.\n",
    "</font>\n",
    "</div>"
   ]
  },
  {
   "cell_type": "markdown",
   "id": "a2f3a2ac",
   "metadata": {},
   "source": [
    "### Итоги анализа расходов\n",
    "\n",
    "- Потенциальные лидеры продаж - это игры:\n",
    "  - для Европы и Северной Америки;\n",
    "  - шутеры;\n",
    "  - для взрослых;\n",
    "  - на Xbox One или PlayStation4.\n",
    "\n",
    "- Для успеха продаж в Японии нужны особые игры:\n",
    "  - RPG;\n",
    "  - на Nintendo 3DS."
   ]
  },
  {
   "cell_type": "markdown",
   "id": "be8b306b",
   "metadata": {},
   "source": [
    "## Гипотезы и проверки"
   ]
  },
  {
   "cell_type": "markdown",
   "id": "48bc89fb",
   "metadata": {},
   "source": [
    "### Средние оценки, полученные от пользователей - одинаковые у игр для платформ Xbox One и ПК"
   ]
  },
  {
   "cell_type": "markdown",
   "id": "0e5da0e9",
   "metadata": {},
   "source": [
    "#### Выборки для проверки гипотезы\n",
    "\n",
    "Нам предложена гипотеза, которая не упоминает об \"актуальности\", ради которой мы вводили \"веса\". Однако, мы помним, что платформа ПК является актуальной уже десятки лет. И поэтому сперва есть смысл оценить, меняются ли оценки игр для ПК с течением лет.\n",
    "\n",
    "Если не меняются - мы не будем ограничивать выборку. Если меняются - будем проверять гипотезу на \"актуальной\" выборке."
   ]
  },
  {
   "cell_type": "markdown",
   "id": "9270e03d",
   "metadata": {},
   "source": [
    "<div class=\"alert alert-success\">\n",
    "<b>ОТЛИЧНО! 👍</b>\n",
    "\n",
    "Важное замечание. Спасибо. Без него, безалльтернативное использование \"полных\" данных - это красный комментарий в этом проекте.\n",
    "</div>"
   ]
  },
  {
   "cell_type": "code",
   "execution_count": 53,
   "id": "1f0a99fe",
   "metadata": {},
   "outputs": [
    {
     "data": {
      "image/png": "[encoded data removed]",
      "text/plain": [
       "<Figure size 864x432 with 1 Axes>"
      ]
     },
     "metadata": {
      "needs_background": "light"
     },
     "output_type": "display_data"
    }
   ],
   "source": [
    "games.query('platform == \"PC\"').boxplot(\n",
    "    by='year_of_release', column='user_score', figsize=FIGSIZE,  showmeans=True\n",
    "); plt.show()"
   ]
  },
  {
   "cell_type": "markdown",
   "id": "f9424d69",
   "metadata": {},
   "source": [
    "Видим, что у игр на PC чем ближе к современности - тем больше разнообразие оценок. Диапазон оценок перемещается вниз. Оценки более старых игр - выше.\n",
    "\n",
    "Возможные причины:\n",
    "- плохие оценки вскоре после приобретения, а хорошие - после длительного, порой многолетнего перерыва;\n",
    "  - тогда с течением лет оценки и игр, которые сейчас считаются актуальными, тоже будут подрастать;\n",
    "  - а нынешние оценки актуальных игр можно считать необъективными, заниженными.\n",
    "\n",
    "Проверим аналогично оценки Xbox One."
   ]
  },
  {
   "cell_type": "code",
   "execution_count": 54,
   "id": "d2d3318a",
   "metadata": {},
   "outputs": [
    {
     "data": {
      "image/png": "[encoded data removed]",
      "text/plain": [
       "<Figure size 864x432 with 1 Axes>"
      ]
     },
     "metadata": {
      "needs_background": "light"
     },
     "output_type": "display_data"
    }
   ],
   "source": [
    "games.query('platform == \"XOne\"').boxplot(\n",
    "    by='year_of_release', column='user_score', figsize=FIGSIZE,  showmeans=True\n",
    "); plt.show()"
   ]
  },
  {
   "cell_type": "markdown",
   "id": "8336ba27",
   "metadata": {},
   "source": [
    "Тут подобной зависимости не видно. Самый ранний год не содержит оценок выше 8. Далее диапазон оценок расширялся в обе стороны.\n",
    "\n",
    "Итак, мы видим, что оценки на PC и XOne распределены во времени по разному: оценки для PC понижаются, для XOne - нет.\n",
    "\n",
    "Однако, если взять оценки по PC в том же диапазоне, как у XOne (c 2013 года) - то и на PC нет признаков понижения оценки.\n",
    "\n",
    "Таким образом, сравнение средних двух выборок будет оправдано, если обе выборки будут в одном диапазоне лет - начиная с 2013. Введение весов не требуется."
   ]
  },
  {
   "cell_type": "code",
   "execution_count": 55,
   "id": "dd9c35ed",
   "metadata": {},
   "outputs": [],
   "source": [
    "pc_games = games[(games['platform'] == \"PC\") & (games['year_of_release'] > 2012)]\n",
    "xone_games = games[(games['platform'] == \"XOne\") & (games['year_of_release'] > 2012)]"
   ]
  },
  {
   "cell_type": "markdown",
   "id": "053be521",
   "metadata": {},
   "source": [
    "### Формулировка и проверка гипотезы"
   ]
  },
  {
   "cell_type": "markdown",
   "id": "ef0e3e61",
   "metadata": {},
   "source": [
    "Мы не считаем собранные данные полными, исчерпывающими. В нашем наборе данных не все игры и не все оценки, данные пользователями. Поэтому сравнивать напрямую средние оценки двух выборок из этих данных - не будет верным.\n",
    "\n",
    "Выборки не связаны, их разбросы различны (судим по диаграммам разбросов).\n",
    "\n",
    "Верный ход - проверить утверждение статистическим T-тестом Стьюдента для двух несвязанных выборок. По умолчанию принято формулировать гипотезу так, чтобы она указывала на равенство величин. В нашем случае - на равенство оценок, полученных от пользователей на каждой из платформ.\n",
    "\n",
    "Таким образом, прямая гипотеза H0:\n",
    "- средние оценки пользователей `user_score` для XOne и для PC равны.\n",
    "\n",
    "Альтернативная гипотеза H1:\n",
    "- средние оценки пользователей `user_score` для XOne и для PC не равны.\n",
    "\n",
    "Допустимый уровень значимости (вероятность того, что мы ошибочно отвергнем гипотезу H0) возьмём 0.001 как одно из общепринятых значений. У нас нет статистики, как часто не срабатывала данная гипотеза в таких случаях. Однако психологически комфортно считать, что тест подведёт нас всего один раз в несколько лет, если использовать его каждый день."
   ]
  },
  {
   "cell_type": "code",
   "execution_count": 56,
   "id": "631adc42",
   "metadata": {},
   "outputs": [
    {
     "name": "stdout",
     "output_type": "stream",
     "text": [
      "P-value = 0.14759594013430463\n",
      "Гипотеза не опровергнута.\n"
     ]
    }
   ],
   "source": [
    "alpha = 0.001\n",
    "\n",
    "_, pvalue = st.ttest_ind(\n",
    "    xone_games['user_score'].dropna(),  # если не убирать NaN - \n",
    "    pc_games['user_score'].dropna(),    # функция вернёт NaN\n",
    "    equal_var=False\n",
    ")\n",
    "print('P-value =', pvalue)\n",
    "if pvalue < alpha:\n",
    "    print(f'Гипотеза опровергается.')\n",
    "else:\n",
    "    print(f'Гипотеза не опровергнута.')"
   ]
  },
  {
   "cell_type": "markdown",
   "id": "23ad588c",
   "metadata": {},
   "source": [
    "Результат теста не противоречит гипотезе. Нет оснований утверждать, что средние пользовательские оценки платформ Xbox One и PC значимо различаются."
   ]
  },
  {
   "cell_type": "markdown",
   "id": "bde1e6ff",
   "metadata": {},
   "source": [
    "<div class=\"alert alert-success\">\n",
    "<b>ОТЛИЧНО! 👍</b>\n",
    "\n",
    "Очень хорошо, что ты не забываешь отфильтровать «заглушки» / NaN значения.\n",
    "\n",
    "Также верно и то, что мы используем здесь двусторонний тест.</div>\n"
   ]
  },
  {
   "cell_type": "markdown",
   "id": "2594a2a1",
   "metadata": {},
   "source": [
    "<div class=\"alert alert-danger\">\n",
    "<b>Необходимо исправить ❌</b>\n",
    "\n",
    "Нельзя сделать вывод, что тест \"подтвердил\" одну из гипотез (в статистике гипотезы подтвердить невозможно) или \"подтвердил\" равенство/неравенство (можно говорить только о статистически (не)значимом различии). Например так: «У нас нет оснований утверждать, что средние пользовательские рейтинги платформ Xbox One и PC значимо различаются».</div>\n"
   ]
  },
  {
   "cell_type": "markdown",
   "id": "1f6cc478",
   "metadata": {},
   "source": [
    "<div style=\"background: #B0E0E6; padding: 5px; border: 1px solid SteelBlue; border-radius: 5px;\">\n",
    "<font color='4682B4'><u><b>КОММЕНТАРИЙ СТУДЕНТА</b></u></font>\n",
    "<br />\n",
    "<font color='4682B4'>Согласен. Изменил формулировку на менее категоричную.\n",
    "</font>\n",
    "</div>"
   ]
  },
  {
   "cell_type": "markdown",
   "id": "48ae6bee",
   "metadata": {},
   "source": [
    "### Средние оценки, полученные от пользователей - разные у игр жанров \"экшн\" и \"спорт\""
   ]
  },
  {
   "cell_type": "markdown",
   "id": "959f9e6b",
   "metadata": {},
   "source": [
    "Тут мы также сперва проанализируем, как менялись соценки со временем."
   ]
  },
  {
   "cell_type": "code",
   "execution_count": 57,
   "id": "5448df5b",
   "metadata": {
    "scrolled": false
   },
   "outputs": [
    {
     "data": {
      "image/png": "[encoded data removed]",
      "text/plain": [
       "<Figure size 864x432 with 1 Axes>"
      ]
     },
     "metadata": {
      "needs_background": "light"
     },
     "output_type": "display_data"
    }
   ],
   "source": [
    "games[(games['genre'] == 'action') & (games['year_of_release'] > 1995)].boxplot(\n",
    "    by='year_of_release', column='user_score', figsize=FIGSIZE, showmeans=True,\n",
    "); plt.show()"
   ]
  },
  {
   "cell_type": "code",
   "execution_count": 58,
   "id": "4761d5b5",
   "metadata": {
    "scrolled": false
   },
   "outputs": [
    {
     "data": {
      "image/png": "[encoded data removed]",
      "text/plain": [
       "<Figure size 864x432 with 1 Axes>"
      ]
     },
     "metadata": {
      "needs_background": "light"
     },
     "output_type": "display_data"
    }
   ],
   "source": [
    "games[(games['genre'] == 'sports') & (games['year_of_release'] > 1995)].boxplot(\n",
    "    by='year_of_release', column='user_score', figsize=FIGSIZE,  showmeans=True,\n",
    "); plt.show()"
   ]
  },
  {
   "cell_type": "markdown",
   "id": "be6033ee",
   "metadata": {},
   "source": [
    "Мы наблюдаем, что оценки спортивных игр контрастно после в 2012 года. Далее в обоих жанрах нет сколь сильных изменений. Чтобы это падение не повлияло на результат проверки, считаем, что нам будут полезны оценки только после 2012 года. Проверим, равны ли именно они."
   ]
  },
  {
   "cell_type": "code",
   "execution_count": 59,
   "id": "d5de0133",
   "metadata": {},
   "outputs": [],
   "source": [
    "actions = games[(games['genre'] == 'action') & (games['year_of_release'] > 2012)]\n",
    "sports = games[(games['genre'] == 'sports') & (games['year_of_release'] > 2012)]"
   ]
  },
  {
   "cell_type": "markdown",
   "id": "68cff057",
   "metadata": {},
   "source": [
    "Эту гипотезу проверим тем же тестом, с тем же уровнем значимости `alpha`.\n",
    "\n",
    "Формулируем гипотезы. За актуальный период (с 2013 года):\n",
    "\n",
    "- H0: средние оценки по жанрам \"экшн\" и \"спорт\" равны;\n",
    "- H1: средние оценки по жанрам \"экшн\" и \"спорт\" не равны.\n",
    "\n",
    "Удаётся ли опровергнуть H0?"
   ]
  },
  {
   "cell_type": "code",
   "execution_count": 60,
   "id": "ac2f5bbe",
   "metadata": {},
   "outputs": [
    {
     "name": "stdout",
     "output_type": "stream",
     "text": [
      "P-value = 1.4460039700704315e-20\n",
      "Первичная гипотеза опровергается.\n"
     ]
    }
   ],
   "source": [
    "_, pvalue = st.ttest_ind(\n",
    "    actions['user_score'].dropna(),  # если будет присутствовать NaN - \n",
    "    sports['user_score'].dropna(),   # функция вернёт NaN\n",
    "    equal_var=False\n",
    ")\n",
    "print('P-value =', pvalue)\n",
    "if pvalue < alpha:\n",
    "    print(f'Первичная гипотеза опровергается.')\n",
    "else:\n",
    "    print(f'Первичная гипотеза не опровергнута.')"
   ]
  },
  {
   "cell_type": "markdown",
   "id": "0d5b8c9f",
   "metadata": {},
   "source": [
    "Тест показывает, что средние оценки по жанрам \"экшн\" и \"спорт\" значимо различаются."
   ]
  },
  {
   "cell_type": "markdown",
   "id": "fa499034",
   "metadata": {},
   "source": [
    "### Итоги проверки гипотез\n",
    "\n",
    "- Средние оценки пользователей на платформах XOne и PC различаются незначимо.\n",
    "- Средние оценки пользователей жанров \"экшн\" и \"спорт\" - значимо различны."
   ]
  },
  {
   "cell_type": "markdown",
   "id": "d1a9526a",
   "metadata": {},
   "source": [
    "## Общие итоги\n",
    "\n",
    "Исследовано:\n",
    "- выборка 16 тысяч игр начиная с 1980 по 2016 годы включительно.\n",
    "\n",
    "**Проверенные гипотезы:**\n",
    "- Средние оценки пользователей (с 2013 года) для XOne и PC различаются незначимо.\n",
    "- Оценки пользователей (с 2013 года) для \"Action\" и \"Sports\" - значимо различны.\n",
    "\n",
    "**Основные признаки крупных продаж:**\n",
    "- Ориентация на рынки Европы и Северной Америки, а это значит, на:\n",
    "  - Новейшие приставки Xbox One (самые тиражные игры, сильнее локально) и PlayStation 4 (крупнейший сегмент рынка, сильнее глобально);\n",
    "  - Шутеры (самые тиражные игры, сильнее локально), спортивные игры, экшны (крупнейший сегмент рынка, сильнее глобально);\n",
    "  - ESRB категория \"M\" (для взрослых).\n",
    "\n",
    "**Также обнаружено, что:**\n",
    "- Локально в Японии лучшие тиражи связаны с другими признаками:\n",
    "  - приставка Nintedo 3DS (почти половина рынка игр в Японии)\n",
    "  - RPG (самые тиражные игры в регионе, и рынок чуть более крупный чем у Action).\n",
    "- Объёмы продаж игры прямо, но слабо коррелируют с оценками критиков.\n",
    "- Оценки пользователей не коррелируют с продажами игры.\n",
    "- Игры для ПК востребованы только в Европе;\n",
    "- Гоночные игры популярны конкретно в Европе;\n",
    "- Игры для Wii(U) востребованы повсеместно, но небольшой долей покупателей.\n",
    "\n",
    "**Аномалии и предположения:**  \n",
    "- Оценки пользователей на ПК для старых игр - только высокие, и со временем ухудшаются до состояния, когда для новейших игр высокие отметки не ставятся пользователями вовсе. Возможные причины:\n",
    "  - плохие оценки вскоре после приобретения, а хорошие - после длительного, порой многолетнего перерыва;\n",
    "    - тогда с течением лет оценки и игр, которые сейчас считаются актуальными, тоже будут подрастать;\n",
    "    - нынешние оценки актуальных игр пользователями можно считать необъективными, заниженными."
   ]
  },
  {
   "cell_type": "markdown",
   "id": "5c314875",
   "metadata": {},
   "source": [
    "<div class=\"alert alert-danger\">\n",
    "<b>Необходимо исправить ❌</b>\n",
    "\n",
    "После исправления красных комментариев надо будет ещё раз пересмотреть выводы в этом финальном разделе, возможно какие-то акценты сместятся ... возможно что-то измениться?</div>"
   ]
  },
  {
   "cell_type": "markdown",
   "id": "fa3f647a",
   "metadata": {},
   "source": [
    "<div style=\"background: #B0E0E6; padding: 5px; border: 1px solid SteelBlue; border-radius: 5px;\">\n",
    "<font color='4682B4'><u><b>КОММЕНТАРИЙ СТУДЕНТА</b></u></font>\n",
    "<br />\n",
    "<font color='4682B4'>Выводы о проверенных гипотезах теперь сформулированы иначе. Выводы по Японии также изменились.\n",
    "</font>\n",
    "</div>"
   ]
  },
  {
   "cell_type": "code",
   "execution_count": 61,
   "id": "c3961978",
   "metadata": {},
   "outputs": [
    {
     "name": "stdout",
     "output_type": "stream",
     "text": [
      "Результаты расчётов успешно обновлены, время обновления 42 с.\n"
     ]
    }
   ],
   "source": [
    "rtime = round(time.time() - stime)\n",
    "print(f'Результаты расчётов успешно обновлены, время обновления {rtime} с.')"
   ]
  },
  {
   "cell_type": "markdown",
   "id": "07874787",
   "metadata": {},
   "source": [
    "# Результат ревью:\n",
    "\n",
    "Александр, я отмечаю высокий уровень твоей программистской подготовки. Ты используешь продвинутые концепции языка Python и библиотеки pandas. Всё это в целом упрощает твой код и одновременно показывает твой уровень владения инструментами.\n",
    "\n",
    "Ты умело применяешь графические библиотеки (matplotlib / seaborn), выбираешь для визуализации ровно те типы графиков, которые нужны. Если ещё поработать над тем, чтобы все оси были подписаны и графики имели понятные названия, то будет просто отлично. \n",
    "\n",
    "С комментированием никаких проблем нет. Твоих объяснений достаточно для понимания твоими коллегами хода мыслей. Ссылки из брифа проекта в нужных местах также помогают следовать за развитием событий и дают полную информацию касаемо того, что будет происходить в том или ином разделе проекта.\n",
    "\n",
    "Мне было просто проверять твой проект, потому что он чётко структурирован, с использованием оглавления. \n",
    "\n",
    "Зелёным цветом я отметил и прокомментировал удачные и элегантные решения, на которые ты можешь опираться в будущих проектах.\n",
    "\n",
    "Жёлтым цветом я выделил то, что в следующий раз можно сделать по-другому. Ты можешь учесть эти комментарии при выполнении будущих заданий или доработать проект сейчас.\n",
    "\n",
    "Однако есть принципиальные моменты, которые не позволяют мне принять твой проект в его нынешнем состоянии:\n",
    "\n",
    "<div class=\"alert alert-danger\">\n",
    "<b>Необходимо исправить ❌</b> \n",
    "\n",
    "1. Одна из задач этого проекта (согласно брифа): 1. Объясните, почему заполнили пропуски определённым образом или почему не стали это делать, 2. Опишите причины, которые могли привести к пропускам 3. Обратите внимание на аббревиатуру 'tbd' в столбце с оценкой пользователей. Отдельно разберите это значение и опишите, как его обработать. Нужен твой комментарий, касающийся природы пропусков в столбце с рейтингами, а именно, может ли быть какая-то связь с тем, что в столбце с рейтингами >40% пропусков и тем, что эти оценки (рейтинги) выставляет **именно Американское рейтинговое агентство?\n",
    "\n",
    "2. Формулировать, что коэффициент (линейной) корреляции (Пирсона) между 2 переменными (в нашем случае между \"продажами\" и \"оценками\") есть показатель **влияния оценок на количество продаж** - неверно.\n",
    "\n",
    "3. Мы \"потеряли\" игры без рейтинга. Кроме игр с явными рейтингами (которые ты анализируешь) есть ещё около тысячи игр без рейтинга. Но продажи именно таких игр могут указать на ключевое различие в регионах.\n",
    "\n",
    "4. Нельзя сделать вывод, что что наш тест \"подтвердил\" одну из гипотез (в статистике гипотезы подтвердить невозможно) или \"подтвердил\" равенство/неравенство (можно говорить только о статистически (не)значимом различии).</div>\n",
    "\n",
    "Эти 4 момента требуют твоего внимания. Комментарии по ним помечены красным цветом. \n",
    "\n",
    "Подводя итог: отличная работа на самом-то деле, молодец! Есть несколько моментов к исправлению, но уверен, что они не вызовут у тебя сложностей. После доработки обязательно проверь комментарии и выводы. Возможно их нужно будет скорректировать. Жду доработанную версию проекта на повторное ревью.\n"
   ]
  },
  {
   "cell_type": "markdown",
   "id": "95c57ef5",
   "metadata": {},
   "source": [
    "<div style=\"background: #B0E0E6; padding: 5px; border: 1px solid SteelBlue; border-radius: 5px;\">\n",
    "<font color='4682B4'><u><b>КОММЕНТАРИЙ СТУДЕНТА</b></u></font>\n",
    "<br />\n",
    "<font color='4682B4'>Благодарю за отзыв! Я внёс изменения, проверь пожалуйста. Также сформулировал вопросы к тебе.\n",
    "</font>\n",
    "</div>"
   ]
  },
  {
   "cell_type": "code",
   "execution_count": null,
   "id": "0fe2eee4",
   "metadata": {},
   "outputs": [],
   "source": []
  }
 ],
 "metadata": {
  "ExecuteTimeLog": [
   {
    "duration": 1132,
    "start_time": "2022-06-18T09:31:03.613Z"
   },
   {
    "duration": 3,
    "start_time": "2022-06-18T09:31:04.748Z"
   },
   {
    "duration": 12,
    "start_time": "2022-06-18T09:31:04.753Z"
   },
   {
    "duration": 8,
    "start_time": "2022-06-18T09:31:04.767Z"
   },
   {
    "duration": 22,
    "start_time": "2022-06-18T09:31:04.777Z"
   },
   {
    "duration": 14,
    "start_time": "2022-06-18T09:31:04.800Z"
   },
   {
    "duration": 8,
    "start_time": "2022-06-18T09:31:04.816Z"
   },
   {
    "duration": 539,
    "start_time": "2022-06-18T09:31:04.826Z"
   },
   {
    "duration": 4,
    "start_time": "2022-06-18T09:31:05.367Z"
   },
   {
    "duration": 8,
    "start_time": "2022-06-18T09:31:05.375Z"
   },
   {
    "duration": 11,
    "start_time": "2022-06-18T09:31:05.385Z"
   },
   {
    "duration": 9,
    "start_time": "2022-06-18T09:31:05.398Z"
   },
   {
    "duration": 38,
    "start_time": "2022-06-18T09:31:05.409Z"
   },
   {
    "duration": 7,
    "start_time": "2022-06-18T09:31:05.449Z"
   },
   {
    "duration": 26,
    "start_time": "2022-06-18T09:31:05.459Z"
   },
   {
    "duration": 45,
    "start_time": "2022-06-18T09:31:05.486Z"
   },
   {
    "duration": 400,
    "start_time": "2022-06-18T09:31:05.533Z"
   },
   {
    "duration": 39,
    "start_time": "2022-06-18T09:31:05.934Z"
   },
   {
    "duration": 557,
    "start_time": "2022-06-18T09:31:05.975Z"
   },
   {
    "duration": 868,
    "start_time": "2022-06-18T09:31:06.534Z"
   },
   {
    "duration": 464,
    "start_time": "2022-06-18T09:31:07.403Z"
   },
   {
    "duration": 600,
    "start_time": "2022-06-18T09:31:07.869Z"
   },
   {
    "duration": 733,
    "start_time": "2022-06-18T09:31:08.471Z"
   },
   {
    "duration": 459,
    "start_time": "2022-06-18T09:31:09.205Z"
   },
   {
    "duration": 563,
    "start_time": "2022-06-18T09:31:09.666Z"
   },
   {
    "duration": 1181,
    "start_time": "2022-06-18T09:31:10.230Z"
   },
   {
    "duration": 15,
    "start_time": "2022-06-18T09:31:11.413Z"
   },
   {
    "duration": 80,
    "start_time": "2022-06-18T09:31:11.431Z"
   },
   {
    "duration": 731,
    "start_time": "2022-06-18T09:31:11.513Z"
   },
   {
    "duration": 737,
    "start_time": "2022-06-18T09:31:12.246Z"
   },
   {
    "duration": 231,
    "start_time": "2022-06-18T09:31:12.985Z"
   },
   {
    "duration": 452,
    "start_time": "2022-06-18T09:31:13.218Z"
   },
   {
    "duration": 289,
    "start_time": "2022-06-18T09:31:13.672Z"
   },
   {
    "duration": 9,
    "start_time": "2022-06-18T09:31:13.962Z"
   },
   {
    "duration": 6,
    "start_time": "2022-06-18T09:31:13.972Z"
   },
   {
    "duration": 374,
    "start_time": "2022-06-18T09:31:13.979Z"
   },
   {
    "duration": 370,
    "start_time": "2022-06-18T09:31:14.355Z"
   },
   {
    "duration": 8,
    "start_time": "2022-06-18T09:31:14.727Z"
   },
   {
    "duration": 7,
    "start_time": "2022-06-18T09:31:14.737Z"
   },
   {
    "duration": 6,
    "start_time": "2022-06-18T09:31:14.746Z"
   },
   {
    "duration": 4,
    "start_time": "2022-06-18T09:37:06.860Z"
   },
   {
    "duration": 9,
    "start_time": "2022-06-18T09:37:06.866Z"
   },
   {
    "duration": 8,
    "start_time": "2022-06-18T09:37:06.877Z"
   },
   {
    "duration": 6,
    "start_time": "2022-06-18T09:37:06.887Z"
   },
   {
    "duration": 6,
    "start_time": "2022-06-18T09:37:06.895Z"
   },
   {
    "duration": 7,
    "start_time": "2022-06-18T09:37:06.903Z"
   },
   {
    "duration": 7,
    "start_time": "2022-06-18T09:37:06.912Z"
   },
   {
    "duration": 366,
    "start_time": "2022-06-18T09:37:06.922Z"
   },
   {
    "duration": 6,
    "start_time": "2022-06-18T09:37:07.290Z"
   },
   {
    "duration": 11,
    "start_time": "2022-06-18T09:37:07.298Z"
   },
   {
    "duration": 5,
    "start_time": "2022-06-18T09:37:07.315Z"
   },
   {
    "duration": 49,
    "start_time": "2022-06-18T09:37:07.322Z"
   },
   {
    "duration": 31,
    "start_time": "2022-06-18T09:37:07.376Z"
   },
   {
    "duration": 7,
    "start_time": "2022-06-18T09:37:07.409Z"
   },
   {
    "duration": 5,
    "start_time": "2022-06-18T09:37:07.424Z"
   },
   {
    "duration": 49,
    "start_time": "2022-06-18T09:37:07.430Z"
   },
   {
    "duration": 3,
    "start_time": "2022-06-18T09:37:52.988Z"
   },
   {
    "duration": 6,
    "start_time": "2022-06-18T09:37:52.995Z"
   },
   {
    "duration": 4,
    "start_time": "2022-06-18T09:37:53.004Z"
   },
   {
    "duration": 6,
    "start_time": "2022-06-18T09:37:53.012Z"
   },
   {
    "duration": 3,
    "start_time": "2022-06-18T09:37:53.022Z"
   },
   {
    "duration": 8,
    "start_time": "2022-06-18T09:37:53.051Z"
   },
   {
    "duration": 9,
    "start_time": "2022-06-18T09:37:53.061Z"
   },
   {
    "duration": 187,
    "start_time": "2022-06-18T09:37:53.071Z"
   },
   {
    "duration": 5,
    "start_time": "2022-06-18T09:37:53.261Z"
   },
   {
    "duration": 10,
    "start_time": "2022-06-18T09:37:53.268Z"
   },
   {
    "duration": 8,
    "start_time": "2022-06-18T09:37:53.279Z"
   },
   {
    "duration": 9,
    "start_time": "2022-06-18T09:37:53.289Z"
   },
   {
    "duration": 41,
    "start_time": "2022-06-18T09:37:53.300Z"
   },
   {
    "duration": 15,
    "start_time": "2022-06-18T09:37:53.344Z"
   },
   {
    "duration": 7,
    "start_time": "2022-06-18T09:37:53.361Z"
   },
   {
    "duration": 7,
    "start_time": "2022-06-18T09:37:53.370Z"
   },
   {
    "duration": 12,
    "start_time": "2022-06-18T09:37:53.378Z"
   },
   {
    "duration": 12,
    "start_time": "2022-06-18T09:37:53.391Z"
   },
   {
    "duration": 3,
    "start_time": "2022-06-18T09:39:04.422Z"
   },
   {
    "duration": 4,
    "start_time": "2022-06-18T09:39:04.434Z"
   },
   {
    "duration": 8,
    "start_time": "2022-06-18T09:39:04.440Z"
   },
   {
    "duration": 6,
    "start_time": "2022-06-18T09:39:04.450Z"
   },
   {
    "duration": 5,
    "start_time": "2022-06-18T09:39:04.458Z"
   },
   {
    "duration": 5,
    "start_time": "2022-06-18T09:39:04.465Z"
   },
   {
    "duration": 8,
    "start_time": "2022-06-18T09:39:04.472Z"
   },
   {
    "duration": 168,
    "start_time": "2022-06-18T09:39:04.482Z"
   },
   {
    "duration": 4,
    "start_time": "2022-06-18T09:39:04.651Z"
   },
   {
    "duration": 17,
    "start_time": "2022-06-18T09:39:04.657Z"
   },
   {
    "duration": 9,
    "start_time": "2022-06-18T09:39:04.675Z"
   },
   {
    "duration": 13,
    "start_time": "2022-06-18T09:39:04.686Z"
   },
   {
    "duration": 31,
    "start_time": "2022-06-18T09:39:04.700Z"
   },
   {
    "duration": 28,
    "start_time": "2022-06-18T09:39:04.734Z"
   },
   {
    "duration": 5,
    "start_time": "2022-06-18T09:39:04.764Z"
   },
   {
    "duration": 39,
    "start_time": "2022-06-18T09:39:04.770Z"
   },
   {
    "duration": 3,
    "start_time": "2022-06-18T09:39:30.750Z"
   },
   {
    "duration": 7,
    "start_time": "2022-06-18T09:39:30.757Z"
   },
   {
    "duration": 6,
    "start_time": "2022-06-18T09:39:30.766Z"
   },
   {
    "duration": 9,
    "start_time": "2022-06-18T09:39:30.774Z"
   },
   {
    "duration": 18,
    "start_time": "2022-06-18T09:39:30.785Z"
   },
   {
    "duration": 7,
    "start_time": "2022-06-18T09:39:30.805Z"
   },
   {
    "duration": 9,
    "start_time": "2022-06-18T09:39:30.814Z"
   },
   {
    "duration": 174,
    "start_time": "2022-06-18T09:39:30.825Z"
   },
   {
    "duration": 5,
    "start_time": "2022-06-18T09:39:31.001Z"
   },
   {
    "duration": 19,
    "start_time": "2022-06-18T09:39:31.008Z"
   },
   {
    "duration": 42,
    "start_time": "2022-06-18T09:39:31.030Z"
   },
   {
    "duration": 29,
    "start_time": "2022-06-18T09:39:31.074Z"
   },
   {
    "duration": 37,
    "start_time": "2022-06-18T09:39:31.105Z"
   },
   {
    "duration": 47,
    "start_time": "2022-06-18T09:39:31.143Z"
   },
   {
    "duration": 30,
    "start_time": "2022-06-18T09:39:31.192Z"
   },
   {
    "duration": 48,
    "start_time": "2022-06-18T09:39:31.224Z"
   }
  ],
  "kernelspec": {
   "display_name": "Python 3 (ipykernel)",
   "language": "python",
   "name": "python3"
  },
  "language_info": {
   "codemirror_mode": {
    "name": "ipython",
    "version": 3
   },
   "file_extension": ".py",
   "mimetype": "text/x-python",
   "name": "python",
   "nbconvert_exporter": "python",
   "pygments_lexer": "ipython3",
   "version": "3.9.12"
  },
  "toc": {
   "base_numbering": 1,
   "nav_menu": {},
   "number_sections": true,
   "sideBar": true,
   "skip_h1_title": true,
   "title_cell": "Содержание",
   "title_sidebar": "Содержание",
   "toc_cell": true,
   "toc_position": {
    "height": "calc(100% - 180px)",
    "left": "10px",
    "top": "150px",
    "width": "234.797px"
   },
   "toc_section_display": true,
   "toc_window_display": true
  }
 },
 "nbformat": 4,
 "nbformat_minor": 5
}
