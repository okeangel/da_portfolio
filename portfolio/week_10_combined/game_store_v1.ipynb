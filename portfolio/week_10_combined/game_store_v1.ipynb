{
 "cells": [
  {
   "cell_type": "markdown",
   "id": "fa5fce91",
   "metadata": {},
   "source": [
    "# Поиск признаков успешной игры"
   ]
  },
  {
   "cell_type": "markdown",
   "id": "d1db17f5",
   "metadata": {},
   "source": [
    "Учебный проект по специальности \"аналитик данных\", 10-я неделя обучения.\n",
    "\n",
    "Тема: итоговый проект по базовым навыкам анализа данных.\n",
    "\n",
    "Автор: Александр Лагутин.\n",
    "\n",
    "Начат: 6 июня 2022 г в 07:20.\n",
    "Завершён: 1 июня 2022 г в 10:45.\n",
    "\n",
    "Время подготовки: 3 рабочих часа (1 рабочий день)."
   ]
  },
  {
   "cell_type": "markdown",
   "id": "9f82b4b6",
   "metadata": {
    "toc": true
   },
   "source": [
    "<h1>Содержание<span class=\"tocSkip\"></span></h1>\n",
    "<div class=\"toc\"><ul class=\"toc-item\"><li><span><a href=\"#Описание-проекта\" data-toc-modified-id=\"Описание-проекта-1\"><span class=\"toc-item-num\">1&nbsp;&nbsp;</span>Описание проекта</a></span><ul class=\"toc-item\"><li><span><a href=\"#Заказчик\" data-toc-modified-id=\"Заказчик-1.1\"><span class=\"toc-item-num\">1.1&nbsp;&nbsp;</span>Заказчик</a></span></li><li><span><a href=\"#Задача\" data-toc-modified-id=\"Задача-1.2\"><span class=\"toc-item-num\">1.2&nbsp;&nbsp;</span>Задача</a></span></li><li><span><a href=\"#Входные-данные\" data-toc-modified-id=\"Входные-данные-1.3\"><span class=\"toc-item-num\">1.3&nbsp;&nbsp;</span>Входные данные</a></span><ul class=\"toc-item\"><li><span><a href=\"#Термины\" data-toc-modified-id=\"Термины-1.3.1\"><span class=\"toc-item-num\">1.3.1&nbsp;&nbsp;</span>Термины</a></span></li><li><span><a href=\"#Описание-данных\" data-toc-modified-id=\"Описание-данных-1.3.2\"><span class=\"toc-item-num\">1.3.2&nbsp;&nbsp;</span>Описание данных</a></span></li></ul></li><li><span><a href=\"#План-работы\" data-toc-modified-id=\"План-работы-1.4\"><span class=\"toc-item-num\">1.4&nbsp;&nbsp;</span>План работы</a></span></li><li><span><a href=\"#Инструменты\" data-toc-modified-id=\"Инструменты-1.5\"><span class=\"toc-item-num\">1.5&nbsp;&nbsp;</span>Инструменты</a></span><ul class=\"toc-item\"><li><span><a href=\"#Импорт-библиотек\" data-toc-modified-id=\"Импорт-библиотек-1.5.1\"><span class=\"toc-item-num\">1.5.1&nbsp;&nbsp;</span>Импорт библиотек</a></span></li><li><span><a href=\"#Определения-констант\" data-toc-modified-id=\"Определения-констант-1.5.2\"><span class=\"toc-item-num\">1.5.2&nbsp;&nbsp;</span>Определения констант</a></span></li><li><span><a href=\"#Определения-чистых-функций\" data-toc-modified-id=\"Определения-чистых-функций-1.5.3\"><span class=\"toc-item-num\">1.5.3&nbsp;&nbsp;</span>Определения чистых функций</a></span></li><li><span><a href=\"#Определения-команд\" data-toc-modified-id=\"Определения-команд-1.5.4\"><span class=\"toc-item-num\">1.5.4&nbsp;&nbsp;</span>Определения команд</a></span></li></ul></li></ul></li><li><span><a href=\"#Обзор-и-подготовка-данных\" data-toc-modified-id=\"Обзор-и-подготовка-данных-2\"><span class=\"toc-item-num\">2&nbsp;&nbsp;</span>Обзор и подготовка данных</a></span><ul class=\"toc-item\"><li><span><a href=\"#Загрузка-данных\" data-toc-modified-id=\"Загрузка-данных-2.1\"><span class=\"toc-item-num\">2.1&nbsp;&nbsp;</span>Загрузка данных</a></span></li><li><span><a href=\"#Замена-имён-колонок\" data-toc-modified-id=\"Замена-имён-колонок-2.2\"><span class=\"toc-item-num\">2.2&nbsp;&nbsp;</span>Замена имён колонок</a></span></li><li><span><a href=\"#Преобразования-типов\" data-toc-modified-id=\"Преобразования-типов-2.3\"><span class=\"toc-item-num\">2.3&nbsp;&nbsp;</span>Преобразования типов</a></span></li><li><span><a href=\"#Добавление-суммы-продаж-по-всем-регионам\" data-toc-modified-id=\"Добавление-суммы-продаж-по-всем-регионам-2.4\"><span class=\"toc-item-num\">2.4&nbsp;&nbsp;</span>Добавление суммы продаж по всем регионам</a></span></li><li><span><a href=\"#Итоги-обзора-и-подготовки-данных\" data-toc-modified-id=\"Итоги-обзора-и-подготовки-данных-2.5\"><span class=\"toc-item-num\">2.5&nbsp;&nbsp;</span>Итоги обзора и подготовки данных</a></span></li></ul></li><li><span><a href=\"#Исследовательский-анализ-данных\" data-toc-modified-id=\"Исследовательский-анализ-данных-3\"><span class=\"toc-item-num\">3&nbsp;&nbsp;</span>Исследовательский анализ данных</a></span><ul class=\"toc-item\"><li><span><a href=\"#История-рынка\" data-toc-modified-id=\"История-рынка-3.1\"><span class=\"toc-item-num\">3.1&nbsp;&nbsp;</span>История рынка</a></span><ul class=\"toc-item\"><li><span><a href=\"#Выпуск-и-продажи-по-годам\" data-toc-modified-id=\"Выпуск-и-продажи-по-годам-3.1.1\"><span class=\"toc-item-num\">3.1.1&nbsp;&nbsp;</span>Выпуск и продажи по годам</a></span></li></ul></li><li><span><a href=\"#Выбираем-актуальные-данные-и-назначаем-им-веса\" data-toc-modified-id=\"Выбираем-актуальные-данные-и-назначаем-им-веса-3.2\"><span class=\"toc-item-num\">3.2&nbsp;&nbsp;</span>Выбираем актуальные данные и назначаем им веса</a></span><ul class=\"toc-item\"><li><span><a href=\"#Продажи-по-платформам\" data-toc-modified-id=\"Продажи-по-платформам-3.2.1\"><span class=\"toc-item-num\">3.2.1&nbsp;&nbsp;</span>Продажи по платформам</a></span><ul class=\"toc-item\"><li><span><a href=\"#В-истории\" data-toc-modified-id=\"В-истории-3.2.1.1\"><span class=\"toc-item-num\">3.2.1.1&nbsp;&nbsp;</span>В истории</a></span></li><li><span><a href=\"#Актуальные\" data-toc-modified-id=\"Актуальные-3.2.1.2\"><span class=\"toc-item-num\">3.2.1.2&nbsp;&nbsp;</span>Актуальные</a></span></li></ul></li><li><span><a href=\"#Продажи-по-жанрам\" data-toc-modified-id=\"Продажи-по-жанрам-3.2.2\"><span class=\"toc-item-num\">3.2.2&nbsp;&nbsp;</span>Продажи по жанрам</a></span><ul class=\"toc-item\"><li><span><a href=\"#В-истории\" data-toc-modified-id=\"В-истории-3.2.2.1\"><span class=\"toc-item-num\">3.2.2.1&nbsp;&nbsp;</span>В истории</a></span></li><li><span><a href=\"#Актуальные\" data-toc-modified-id=\"Актуальные-3.2.2.2\"><span class=\"toc-item-num\">3.2.2.2&nbsp;&nbsp;</span>Актуальные</a></span></li></ul></li><li><span><a href=\"#Влияние-отзывов\" data-toc-modified-id=\"Влияние-отзывов-3.2.3\"><span class=\"toc-item-num\">3.2.3&nbsp;&nbsp;</span>Влияние отзывов</a></span></li></ul></li><li><span><a href=\"#Итоги-исследовательского-анализа\" data-toc-modified-id=\"Итоги-исследовательского-анализа-3.3\"><span class=\"toc-item-num\">3.3&nbsp;&nbsp;</span>Итоги исследовательского анализа</a></span></li></ul></li><li><span><a href=\"#Различия-между-регионами\" data-toc-modified-id=\"Различия-между-регионами-4\"><span class=\"toc-item-num\">4&nbsp;&nbsp;</span>Различия между регионами</a></span><ul class=\"toc-item\"><li><span><a href=\"#Итоги-анализа-расходов\" data-toc-modified-id=\"Итоги-анализа-расходов-4.1\"><span class=\"toc-item-num\">4.1&nbsp;&nbsp;</span>Итоги анализа расходов</a></span></li></ul></li><li><span><a href=\"#Гипотезы-и-проверки\" data-toc-modified-id=\"Гипотезы-и-проверки-5\"><span class=\"toc-item-num\">5&nbsp;&nbsp;</span>Гипотезы и проверки</a></span><ul class=\"toc-item\"><li><span><a href=\"#Итоги-проверки-гипотез\" data-toc-modified-id=\"Итоги-проверки-гипотез-5.1\"><span class=\"toc-item-num\">5.1&nbsp;&nbsp;</span>Итоги проверки гипотез</a></span></li></ul></li><li><span><a href=\"#Общие-итоги\" data-toc-modified-id=\"Общие-итоги-6\"><span class=\"toc-item-num\">6&nbsp;&nbsp;</span>Общие итоги</a></span><ul class=\"toc-item\"><li><span><a href=\"#Рекомендации\" data-toc-modified-id=\"Рекомендации-6.1\"><span class=\"toc-item-num\">6.1&nbsp;&nbsp;</span>Рекомендации</a></span></li></ul></li></ul></div>"
   ]
  },
  {
   "cell_type": "markdown",
   "id": "ed66ea3b",
   "metadata": {},
   "source": [
    "## Описание проекта\n",
    "\n",
    "### Заказчик\n",
    "\n",
    "Интернет-магазин \"Стримчик\".\n",
    "\n",
    "Основная деятельность: продажа компьютерных игр по всему миру.\n",
    "\n",
    "### Задача\n",
    "\n",
    "Выявить закономерности, которые определяют успешность игры.\n",
    "\n",
    "Для чего: чтобы магазин выбрал потенциально популярный продукт, закупил и рекламировал именно его.\n",
    "\n",
    "Из описания задачи мы понимаем, что слово \"продажа\" означает \"продажа единоразового доступа к игре\". Это может значить:\n",
    "\n",
    "- продажа копии игры;\n",
    "- продажа аккаунта в игре.\n",
    "\n",
    "Игра \"приобретается\" до использования, либо вскоре после начала использования (до истечения \"пробного периода\").\n",
    "\n",
    "Существуют также продажи платных опций в игре, и продажи подписки на игру. Очевидно, магазин не интересуется аналитикой об этом, и в наши \"продажи\" это не входит.\n",
    "\n",
    "Итак, анализируем продажи доступа к игре. Выбираем игры, которые будут популярны именно в продаже копий или аккаунтов. В \"предпродаже\" и \"стартовой продаже\"."
   ]
  },
  {
   "cell_type": "markdown",
   "id": "53789873",
   "metadata": {},
   "source": [
    "### Входные данные\n",
    "\n",
    "Сводные данные об играх. Взяты из открытых источников. Данные за последний год могут быть неполными.\n",
    "\n",
    "#### Термины\n",
    "\n",
    "**ESRB** (Entertainment Software Rating Board) — ассоциация, определяющая возрастной рейтинг компьютерных игр. ESRB оценивает игровой контент и присваивает ему подходящую возрастную категорию, например, «Для взрослых», «Для детей младшего возраста» или «Для подростков».\n",
    "\n",
    "**TBD** - \"to be determined\". Эта аббревиатура стоит вместо величины рейтинга или оценки, когда данных недостаточно для подсчёта величины по правилам.\n",
    "\n",
    "#### Описание данных\n",
    "\n",
    "- Name — название игры\n",
    "- Platform — платформа\n",
    "- Year_of_Release — год выпуска\n",
    "- Genre — жанр игры\n",
    "- NA_sales — продажи в Северной Америке (миллионы проданных копий)\n",
    "- EU_sales — продажи в Европе (миллионы проданных копий)\n",
    "- JP_sales — продажи в Японии (миллионы проданных копий)\n",
    "- Other_sales — продажи в других странах (миллионы проданных копий)\n",
    "- Critic_Score — оценка критиков (максимум 100)\n",
    "- User_Score — оценка пользователей (максимум 10)\n",
    "- Rating — категория от ESRB"
   ]
  },
  {
   "cell_type": "markdown",
   "id": "3cfcefb5",
   "metadata": {},
   "source": [
    "### План работы\n",
    "\n",
    "- [x] Загрузить и изучить общую информацию.\n",
    "- [x] Подготовьте данные:\n",
    "  - [x] Замените названия столбцов (приведите к нижнему регистру);\n",
    "  - [x] Преобразуйте данные в нужные типы. Опишите, в каких столбцах заменили тип данных и почему;\n",
    "  - [x] Обработайте пропуски при необходимости:\n",
    "    - [x] Объясните, почему заполнили пропуски определённым образом или почему не стали это делать;\n",
    "    - [x] Опишите причины, которые могли привести к пропускам;\n",
    "    - [x] Обратите внимание на аббревиатуру 'tbd' в столбце с оценкой пользователей. Отдельно разберите это значение и опишите, как его обработать;\n",
    "    - [x] Посчитайте суммарные продажи во всех регионах и запишите их в отдельный столбец.\n",
    "- [x] Шаг 3. Проведите исследовательский анализ данных\n",
    "  - [x] Посмотрите, сколько игр выпускалось в разные годы. Важны ли данные за все периоды?\n",
    "  - [x] Посмотрите, как менялись продажи по платформам. Выберите платформы с наибольшими суммарными продажами и постройте распределение по годам. За какой характерный срок появляются новые и исчезают старые платформы?\n",
    "  - [x] Возьмите данные за соответствующий актуальный период. Актуальный период определите самостоятельно в результате исследования предыдущих вопросов. Основной фактор — эти данные помогут построить прогноз на 2017 год.\n",
    "  - [x] Не учитывайте в работе данные за предыдущие годы.\n",
    "  - [x] Какие платформы лидируют по продажам, растут или падают? Выберите несколько потенциально прибыльных платформ.\n",
    "  - [x] Постройте график «ящик с усами» по глобальным продажам игр в разбивке по платформам. Опишите результат.\n",
    "  - [x] Посмотрите, как влияют на продажи внутри одной популярной платформы отзывы пользователей и критиков. Постройте диаграмму рассеяния и посчитайте корреляцию между отзывами и продажами. Сформулируйте выводы.\n",
    "  - [x] Соотнесите выводы с продажами игр на других платформах.\n",
    "  - [x] Посмотрите на общее распределение игр по жанрам. Что можно сказать о самых прибыльных жанрах? Выделяются ли жанры с высокими и низкими продажами?\n",
    "- [ ] Шаг 4. Составьте портрет пользователя каждого региона\n",
    "  - [ ] Определите для пользователя каждого региона (NA, EU, JP):\n",
    "    - [ ] Самые популярные платформы (топ-5). Опишите различия в долях продаж.\n",
    "    - [ ] Самые популярные жанры (топ-5). Поясните разницу.\n",
    "    - [ ] Влияет ли рейтинг ESRB на продажи в отдельном регионе?\n",
    "- [ ] Шаг 5. Проверьте гипотезы\n",
    "  - [ ] Средние пользовательские рейтинги платформ Xbox One и PC одинаковые;\n",
    "  - [ ] Средние пользовательские рейтинги жанров Action (англ. «действие», экшен-игры) и Sports (англ. «спортивные соревнования») разные.\n",
    "  - [ ] Поясните:\n",
    "    - [ ] Как вы сформулировали нулевую и альтернативную гипотезы;\n",
    "    - [ ] Какой критерий применили для проверки гипотез и почему.\n",
    "- [ ] Общий вывод"
   ]
  },
  {
   "cell_type": "markdown",
   "id": "3e95a86c",
   "metadata": {},
   "source": [
    "### Инструменты\n",
    "\n",
    "Используем [Anaconda](https://www.anaconda.com/), окружение `ds_da_practicum_env.yml` \"для Mac OS\" (от 2022-03-23)."
   ]
  },
  {
   "cell_type": "markdown",
   "id": "f1e12cc6",
   "metadata": {},
   "source": [
    "#### Импорт библиотек"
   ]
  },
  {
   "cell_type": "code",
   "execution_count": 1,
   "id": "2ccbcade",
   "metadata": {},
   "outputs": [],
   "source": [
    "import pandas as pd\n",
    "import numpy as np\n",
    "import scipy.stats as st\n",
    "import matplotlib.pyplot as plt\n",
    "import seaborn as sns"
   ]
  },
  {
   "cell_type": "markdown",
   "id": "677ec2bc",
   "metadata": {},
   "source": [
    "#### Определения констант"
   ]
  },
  {
   "cell_type": "code",
   "execution_count": 2,
   "id": "6af52aa5",
   "metadata": {},
   "outputs": [],
   "source": [
    "FIGSIZE = (12, 6)"
   ]
  },
  {
   "cell_type": "markdown",
   "id": "0fee0bc1",
   "metadata": {},
   "source": [
    "#### Определения чистых функций"
   ]
  },
  {
   "cell_type": "code",
   "execution_count": 3,
   "id": "306077ff",
   "metadata": {},
   "outputs": [],
   "source": [
    "def headline(line, width=50):\n",
    "    \"\"\"Format plain text headline\n",
    "    \"\"\"\n",
    "    return f'\\n{line.upper():=^{width}}'"
   ]
  },
  {
   "cell_type": "code",
   "execution_count": 4,
   "id": "dc914653",
   "metadata": {},
   "outputs": [],
   "source": [
    "def count_nans(data):\n",
    "    \"\"\"Count NaN values in all columns\n",
    "    \"\"\"\n",
    "    nans = []\n",
    "    for column in data.columns:\n",
    "        missing = data[column].isna().sum()\n",
    "        part = missing / len(data)\n",
    "        uniques = data[column].sort_values().unique()\n",
    "        nans.append([column, part, len(uniques)])\n",
    "\n",
    "    return pd.DataFrame(\n",
    "        data=nans, columns=['column', 'na_part', 'unique_count']\n",
    "    ).sort_values(['na_part', 'unique_count'], ascending=False).set_index('column')"
   ]
  },
  {
   "cell_type": "markdown",
   "id": "1de5266f",
   "metadata": {},
   "source": [
    "#### Определения команд"
   ]
  },
  {
   "cell_type": "code",
   "execution_count": 5,
   "id": "10dded98",
   "metadata": {},
   "outputs": [],
   "source": [
    "def load(tablename, ext='csv'):\n",
    "    \"\"\"Load a table from file\n",
    "    \"\"\"\n",
    "    filename = tablename + '.' + ext\n",
    "    try:\n",
    "        return pd.read_csv(filename)\n",
    "    except FileNotFoundError:\n",
    "        return pd.read_csv('https://code.s3.yandex.net/datasets/' + filename)"
   ]
  },
  {
   "cell_type": "code",
   "execution_count": 6,
   "id": "9f996523",
   "metadata": {},
   "outputs": [],
   "source": [
    "def survey(data):\n",
    "    \"\"\"Display more dataset info\n",
    "    \"\"\"\n",
    "    display(data)\n",
    "    print(f'Полностью совпадающих строк: {data.duplicated().sum()}\\n')\n",
    "    data.info()"
   ]
  },
  {
   "cell_type": "code",
   "execution_count": 7,
   "id": "5bbeeae0",
   "metadata": {},
   "outputs": [],
   "source": [
    "def print_filled_rows_share(df):\n",
    "    share = 1 - df.isna().any(axis=1).sum() / len(df)\n",
    "    print(f'Заполненных строк без пропусков: {share:.02%}')"
   ]
  },
  {
   "cell_type": "code",
   "execution_count": 8,
   "id": "7fc90675",
   "metadata": {},
   "outputs": [],
   "source": [
    "# можно было бы рисовать `bar` в случаях, когда вариантов мало.\n",
    "# однако по неясной причине `bar` не рисуется, и не вызывает ошибки,\n",
    "# а вызывает лишь зацикливание при построении первого же графика\n",
    "\n",
    "def survey_columns(df):\n",
    "    for column in nans_before.index:\n",
    "        print(headline(column))\n",
    "\n",
    "        uniques = realty[column].sort_values().unique()\n",
    "        if len(uniques) < 20:\n",
    "            print(uniques)\n",
    "        print(f'Data type: {str(realty[column].dtype):>10}')\n",
    "        print(f'Unique values: {len(uniques):6}')\n",
    "\n",
    "        missing = realty[column].isna().sum()\n",
    "        if missing:\n",
    "            print(f'Not avaliable: {nans_before.loc[column, \"na_part\"]:.02%}')\n",
    "        else:\n",
    "            print('All values is avaliable.')\n",
    "\n",
    "        try:\n",
    "            realty.plot(\n",
    "                kind='hist',\n",
    "                y=column,\n",
    "               bins=50,\n",
    "            )\n",
    "            plt.show()\n",
    "        except Exception as e:\n",
    "            print(str(e).capitalize())"
   ]
  },
  {
   "cell_type": "code",
   "execution_count": 9,
   "id": "11c665d2",
   "metadata": {},
   "outputs": [],
   "source": [
    "def fillnaby(data, column, groupby, func='median'):\n",
    "    data[column] = data[column].fillna(\n",
    "        data.groupby(groupby)[column].transform(func))"
   ]
  },
  {
   "cell_type": "code",
   "execution_count": 10,
   "id": "102ff4a9",
   "metadata": {},
   "outputs": [],
   "source": [
    "# формирует и выводит график, подстроенный под наши нужды\n",
    "def histf(data, column, show=True, bins=100, qtl=1, start=None,\n",
    "          stop=None, figsize=FIGSIZE, **kwargs):\n",
    "    fixed = {\n",
    "        'y': column,\n",
    "        'kind': 'hist',\n",
    "        'bins': min(bins, len(data[column].unique())),\n",
    "        'figsize': figsize,\n",
    "        'title': column,\n",
    "        'legend': False,\n",
    "        'ec': 'black',\n",
    "    }\n",
    "    if 'range' not in kwargs.keys():\n",
    "        if not start:\n",
    "            start = data[column].min()\n",
    "        if not stop:\n",
    "            stop = data[column].quantile(qtl)\n",
    "        kwargs['range'] = (start, stop)\n",
    "    data.plot(**fixed, **kwargs)\n",
    "    if show:\n",
    "        plt.show()\n",
    "\n",
    "def histf2(data, column1, column2, **kwargs):\n",
    "    histf(column1, data=data, show=False, **kwargs)\n",
    "    histf(column2, data=data, show=False, **kwargs)\n",
    "    plt.show()\n",
    "\n",
    "# два графика: все случаи, и те, что менее указанного квантиля\n",
    "def dhistf(column, data, qtl=0.975, figsize=FIGSIZE, **kwargs):\n",
    "    fig, (ax1, ax2) = plt.subplots(1, 2, figsize=figsize)\n",
    "    fig.suptitle('This is a somewhat long figure title', fontsize=16)\n",
    "    \n",
    "    ax1.set_title('full_data')\n",
    "    ax2.set_title(f'{qtl:.2%} quantile')\n",
    "    histf(column, data=data, ax=ax1, subplots=True, show=False, **kwargs)\n",
    "    histf(column, data=data, ax=ax2, subplots=True, show=False, qtl=qtl, **kwargs)\n",
    "    plt.show()\n",
    "# Развитая форма этого чудовища должна принимать список квантилей,\n",
    "# и строить столько графиков, сколько квантилей указано,\n",
    "# и качестве центра диапазона выбирать медиану.\n",
    "# Пора перейти к аналитике."
   ]
  },
  {
   "cell_type": "code",
   "execution_count": 11,
   "id": "340d35e5",
   "metadata": {},
   "outputs": [],
   "source": [
    "def typical(data, column, ratio=1.5):\n",
    "    q1 = data[column].quantile(0.25)\n",
    "    q3 = data[column].quantile(0.75)\n",
    "    iqr = q3 - q1\n",
    "    whiskers = iqr * ratio\n",
    "    low = q1 - whiskers\n",
    "    high = q3 + whiskers\n",
    "    \n",
    "    print(f'{column.title()}: min = {data[column].min()}, max = {data[column].max()}, normal range = [{low:.2f} ... {high:.2f}]')\n",
    "    return data.query(f'@low <= {column} <= @high')"
   ]
  },
  {
   "cell_type": "code",
   "execution_count": 12,
   "id": "9a9c6d32",
   "metadata": {},
   "outputs": [],
   "source": [
    "quantitative_properties = [\n",
    "    'last_price_mln', 'total_area', 'living_area_share', 'kitchen_area_share',\n",
    "    'ceiling_height', 'city_centers_nearest', 'airports_nearest',\n",
    "]\n",
    "\n",
    "categorical_properties = [\n",
    "    'rooms', 'balcony', 'floor_category',\n",
    "    'is_apartment', 'is_studio', 'has_open_plan',\n",
    "    'parks_around3000', 'ponds_around3000',\n",
    "    'weekday', 'month', 'year',\n",
    "]\n",
    "\n",
    "def batch_corr(data, column='last_price_mln'):\n",
    "    print(headline('Коэффициенты линейной корреляции'))\n",
    "    display(\n",
    "            data\n",
    "            .reindex(columns=(quantitative_properties + categorical_properties))\n",
    "            .corr()\n",
    "            [column].sort_values(ascending=False)\n",
    "    )\n",
    "\n",
    "def batch_scatter(data, column='last_price_mln'):\n",
    "    for prop in quantitative_properties:\n",
    "        if prop == column:\n",
    "            continue\n",
    "        data.plot(\n",
    "            kind='scatter', alpha=0.2, figsize=FIGSIZE,\n",
    "            y=column,\n",
    "            x=prop,\n",
    "        )\n",
    "    plt.show()\n",
    "\n",
    "def batch_box(data, column='last_price_mln', by_props=categorical_properties):\n",
    "    for prop in by_props:\n",
    "        data.boxplot(\n",
    "            column=column,\n",
    "            by=prop,\n",
    "            figsize=FIGSIZE,\n",
    "        )\n",
    "    plt.show()"
   ]
  },
  {
   "cell_type": "markdown",
   "id": "21b0ee10",
   "metadata": {},
   "source": [
    "## Обзор и подготовка данных"
   ]
  },
  {
   "cell_type": "markdown",
   "id": "12ed9f87",
   "metadata": {},
   "source": [
    "### Загрузка данных"
   ]
  },
  {
   "cell_type": "code",
   "execution_count": 13,
   "id": "56b37ca2",
   "metadata": {
    "scrolled": false
   },
   "outputs": [
    {
     "data": {
      "text/html": [
       "<div>\n",
       "<style scoped>\n",
       "    .dataframe tbody tr th:only-of-type {\n",
       "        vertical-align: middle;\n",
       "    }\n",
       "\n",
       "    .dataframe tbody tr th {\n",
       "        vertical-align: top;\n",
       "    }\n",
       "\n",
       "    .dataframe thead th {\n",
       "        text-align: right;\n",
       "    }\n",
       "</style>\n",
       "<table border=\"1\" class=\"dataframe\">\n",
       "  <thead>\n",
       "    <tr style=\"text-align: right;\">\n",
       "      <th></th>\n",
       "      <th>Name</th>\n",
       "      <th>Platform</th>\n",
       "      <th>Year_of_Release</th>\n",
       "      <th>Genre</th>\n",
       "      <th>NA_sales</th>\n",
       "      <th>EU_sales</th>\n",
       "      <th>JP_sales</th>\n",
       "      <th>Other_sales</th>\n",
       "      <th>Critic_Score</th>\n",
       "      <th>User_Score</th>\n",
       "      <th>Rating</th>\n",
       "    </tr>\n",
       "  </thead>\n",
       "  <tbody>\n",
       "    <tr>\n",
       "      <th>0</th>\n",
       "      <td>Wii Sports</td>\n",
       "      <td>Wii</td>\n",
       "      <td>2006.0</td>\n",
       "      <td>Sports</td>\n",
       "      <td>41.36</td>\n",
       "      <td>28.96</td>\n",
       "      <td>3.77</td>\n",
       "      <td>8.45</td>\n",
       "      <td>76.0</td>\n",
       "      <td>8</td>\n",
       "      <td>E</td>\n",
       "    </tr>\n",
       "    <tr>\n",
       "      <th>1</th>\n",
       "      <td>Super Mario Bros.</td>\n",
       "      <td>NES</td>\n",
       "      <td>1985.0</td>\n",
       "      <td>Platform</td>\n",
       "      <td>29.08</td>\n",
       "      <td>3.58</td>\n",
       "      <td>6.81</td>\n",
       "      <td>0.77</td>\n",
       "      <td>NaN</td>\n",
       "      <td>NaN</td>\n",
       "      <td>NaN</td>\n",
       "    </tr>\n",
       "    <tr>\n",
       "      <th>2</th>\n",
       "      <td>Mario Kart Wii</td>\n",
       "      <td>Wii</td>\n",
       "      <td>2008.0</td>\n",
       "      <td>Racing</td>\n",
       "      <td>15.68</td>\n",
       "      <td>12.76</td>\n",
       "      <td>3.79</td>\n",
       "      <td>3.29</td>\n",
       "      <td>82.0</td>\n",
       "      <td>8.3</td>\n",
       "      <td>E</td>\n",
       "    </tr>\n",
       "    <tr>\n",
       "      <th>3</th>\n",
       "      <td>Wii Sports Resort</td>\n",
       "      <td>Wii</td>\n",
       "      <td>2009.0</td>\n",
       "      <td>Sports</td>\n",
       "      <td>15.61</td>\n",
       "      <td>10.93</td>\n",
       "      <td>3.28</td>\n",
       "      <td>2.95</td>\n",
       "      <td>80.0</td>\n",
       "      <td>8</td>\n",
       "      <td>E</td>\n",
       "    </tr>\n",
       "    <tr>\n",
       "      <th>4</th>\n",
       "      <td>Pokemon Red/Pokemon Blue</td>\n",
       "      <td>GB</td>\n",
       "      <td>1996.0</td>\n",
       "      <td>Role-Playing</td>\n",
       "      <td>11.27</td>\n",
       "      <td>8.89</td>\n",
       "      <td>10.22</td>\n",
       "      <td>1.00</td>\n",
       "      <td>NaN</td>\n",
       "      <td>NaN</td>\n",
       "      <td>NaN</td>\n",
       "    </tr>\n",
       "    <tr>\n",
       "      <th>...</th>\n",
       "      <td>...</td>\n",
       "      <td>...</td>\n",
       "      <td>...</td>\n",
       "      <td>...</td>\n",
       "      <td>...</td>\n",
       "      <td>...</td>\n",
       "      <td>...</td>\n",
       "      <td>...</td>\n",
       "      <td>...</td>\n",
       "      <td>...</td>\n",
       "      <td>...</td>\n",
       "    </tr>\n",
       "    <tr>\n",
       "      <th>16710</th>\n",
       "      <td>Samurai Warriors: Sanada Maru</td>\n",
       "      <td>PS3</td>\n",
       "      <td>2016.0</td>\n",
       "      <td>Action</td>\n",
       "      <td>0.00</td>\n",
       "      <td>0.00</td>\n",
       "      <td>0.01</td>\n",
       "      <td>0.00</td>\n",
       "      <td>NaN</td>\n",
       "      <td>NaN</td>\n",
       "      <td>NaN</td>\n",
       "    </tr>\n",
       "    <tr>\n",
       "      <th>16711</th>\n",
       "      <td>LMA Manager 2007</td>\n",
       "      <td>X360</td>\n",
       "      <td>2006.0</td>\n",
       "      <td>Sports</td>\n",
       "      <td>0.00</td>\n",
       "      <td>0.01</td>\n",
       "      <td>0.00</td>\n",
       "      <td>0.00</td>\n",
       "      <td>NaN</td>\n",
       "      <td>NaN</td>\n",
       "      <td>NaN</td>\n",
       "    </tr>\n",
       "    <tr>\n",
       "      <th>16712</th>\n",
       "      <td>Haitaka no Psychedelica</td>\n",
       "      <td>PSV</td>\n",
       "      <td>2016.0</td>\n",
       "      <td>Adventure</td>\n",
       "      <td>0.00</td>\n",
       "      <td>0.00</td>\n",
       "      <td>0.01</td>\n",
       "      <td>0.00</td>\n",
       "      <td>NaN</td>\n",
       "      <td>NaN</td>\n",
       "      <td>NaN</td>\n",
       "    </tr>\n",
       "    <tr>\n",
       "      <th>16713</th>\n",
       "      <td>Spirits &amp; Spells</td>\n",
       "      <td>GBA</td>\n",
       "      <td>2003.0</td>\n",
       "      <td>Platform</td>\n",
       "      <td>0.01</td>\n",
       "      <td>0.00</td>\n",
       "      <td>0.00</td>\n",
       "      <td>0.00</td>\n",
       "      <td>NaN</td>\n",
       "      <td>NaN</td>\n",
       "      <td>NaN</td>\n",
       "    </tr>\n",
       "    <tr>\n",
       "      <th>16714</th>\n",
       "      <td>Winning Post 8 2016</td>\n",
       "      <td>PSV</td>\n",
       "      <td>2016.0</td>\n",
       "      <td>Simulation</td>\n",
       "      <td>0.00</td>\n",
       "      <td>0.00</td>\n",
       "      <td>0.01</td>\n",
       "      <td>0.00</td>\n",
       "      <td>NaN</td>\n",
       "      <td>NaN</td>\n",
       "      <td>NaN</td>\n",
       "    </tr>\n",
       "  </tbody>\n",
       "</table>\n",
       "<p>16715 rows × 11 columns</p>\n",
       "</div>"
      ],
      "text/plain": [
       "                                Name Platform  Year_of_Release         Genre  \\\n",
       "0                         Wii Sports      Wii           2006.0        Sports   \n",
       "1                  Super Mario Bros.      NES           1985.0      Platform   \n",
       "2                     Mario Kart Wii      Wii           2008.0        Racing   \n",
       "3                  Wii Sports Resort      Wii           2009.0        Sports   \n",
       "4           Pokemon Red/Pokemon Blue       GB           1996.0  Role-Playing   \n",
       "...                              ...      ...              ...           ...   \n",
       "16710  Samurai Warriors: Sanada Maru      PS3           2016.0        Action   \n",
       "16711               LMA Manager 2007     X360           2006.0        Sports   \n",
       "16712        Haitaka no Psychedelica      PSV           2016.0     Adventure   \n",
       "16713               Spirits & Spells      GBA           2003.0      Platform   \n",
       "16714            Winning Post 8 2016      PSV           2016.0    Simulation   \n",
       "\n",
       "       NA_sales  EU_sales  JP_sales  Other_sales  Critic_Score User_Score  \\\n",
       "0         41.36     28.96      3.77         8.45          76.0          8   \n",
       "1         29.08      3.58      6.81         0.77           NaN        NaN   \n",
       "2         15.68     12.76      3.79         3.29          82.0        8.3   \n",
       "3         15.61     10.93      3.28         2.95          80.0          8   \n",
       "4         11.27      8.89     10.22         1.00           NaN        NaN   \n",
       "...         ...       ...       ...          ...           ...        ...   \n",
       "16710      0.00      0.00      0.01         0.00           NaN        NaN   \n",
       "16711      0.00      0.01      0.00         0.00           NaN        NaN   \n",
       "16712      0.00      0.00      0.01         0.00           NaN        NaN   \n",
       "16713      0.01      0.00      0.00         0.00           NaN        NaN   \n",
       "16714      0.00      0.00      0.01         0.00           NaN        NaN   \n",
       "\n",
       "      Rating  \n",
       "0          E  \n",
       "1        NaN  \n",
       "2          E  \n",
       "3          E  \n",
       "4        NaN  \n",
       "...      ...  \n",
       "16710    NaN  \n",
       "16711    NaN  \n",
       "16712    NaN  \n",
       "16713    NaN  \n",
       "16714    NaN  \n",
       "\n",
       "[16715 rows x 11 columns]"
      ]
     },
     "metadata": {},
     "output_type": "display_data"
    },
    {
     "name": "stdout",
     "output_type": "stream",
     "text": [
      "Полностью совпадающих строк: 0\n",
      "\n",
      "<class 'pandas.core.frame.DataFrame'>\n",
      "RangeIndex: 16715 entries, 0 to 16714\n",
      "Data columns (total 11 columns):\n",
      " #   Column           Non-Null Count  Dtype  \n",
      "---  ------           --------------  -----  \n",
      " 0   Name             16713 non-null  object \n",
      " 1   Platform         16715 non-null  object \n",
      " 2   Year_of_Release  16446 non-null  float64\n",
      " 3   Genre            16713 non-null  object \n",
      " 4   NA_sales         16715 non-null  float64\n",
      " 5   EU_sales         16715 non-null  float64\n",
      " 6   JP_sales         16715 non-null  float64\n",
      " 7   Other_sales      16715 non-null  float64\n",
      " 8   Critic_Score     8137 non-null   float64\n",
      " 9   User_Score       10014 non-null  object \n",
      " 10  Rating           9949 non-null   object \n",
      "dtypes: float64(6), object(5)\n",
      "memory usage: 1.4+ MB\n"
     ]
    }
   ],
   "source": [
    "games = load('games')\n",
    "survey(games)"
   ]
  },
  {
   "cell_type": "markdown",
   "id": "d324b3ca",
   "metadata": {},
   "source": [
    "Видим, что потребуется:\n",
    "- заполнить пропуски,\n",
    "- переименовать колонки под lower_snake_case,\n",
    "- установить для года выхода и, возможно, оценки критиков тип данных `int`,\n",
    "- а для оценки пользователей - `float`;\n",
    "- также остутствует общая сумма продаж - введём этот столбец."
   ]
  },
  {
   "cell_type": "markdown",
   "id": "f312b9c2",
   "metadata": {},
   "source": [
    "### Замена имён колонок"
   ]
  },
  {
   "cell_type": "code",
   "execution_count": 14,
   "id": "7869bb5f",
   "metadata": {},
   "outputs": [
    {
     "data": {
      "text/plain": [
       "Index(['Name', 'Platform', 'Year_of_Release', 'Genre', 'NA_sales', 'EU_sales',\n",
       "       'JP_sales', 'Other_sales', 'Critic_Score', 'User_Score', 'Rating'],\n",
       "      dtype='object')"
      ]
     },
     "execution_count": 14,
     "metadata": {},
     "output_type": "execute_result"
    }
   ],
   "source": [
    "games.columns"
   ]
  },
  {
   "cell_type": "code",
   "execution_count": 15,
   "id": "70c3c365",
   "metadata": {},
   "outputs": [
    {
     "data": {
      "text/plain": [
       "Index(['name', 'platform', 'year_of_release', 'genre', 'na_sales', 'eu_sales',\n",
       "       'jp_sales', 'other_sales', 'critic_score', 'user_score', 'rating'],\n",
       "      dtype='object')"
      ]
     },
     "metadata": {},
     "output_type": "display_data"
    }
   ],
   "source": [
    "games.columns = [column.lower() for column in games.columns]\n",
    "display(games.columns)"
   ]
  },
  {
   "cell_type": "markdown",
   "id": "71437bb7",
   "metadata": {},
   "source": [
    "**Итоги:**\n",
    "- названия столбцов приведены к lower_snake_case."
   ]
  },
  {
   "cell_type": "markdown",
   "id": "15fb4a07",
   "metadata": {},
   "source": [
    "### Преобразования типов"
   ]
  },
  {
   "cell_type": "code",
   "execution_count": 16,
   "id": "6d7f0ceb",
   "metadata": {},
   "outputs": [
    {
     "data": {
      "text/plain": [
       "array([2006., 1985., 2008., 2009., 1996., 1989., 1984., 2005., 1999.,\n",
       "       2007., 2010., 2013., 2004., 1990., 1988., 2002., 2001., 2011.,\n",
       "       1998., 2015., 2012., 2014., 1992., 1997., 1993., 1994., 1982.,\n",
       "       2016., 2003., 1986., 2000.,   nan, 1995., 1991., 1981., 1987.,\n",
       "       1980., 1983.])"
      ]
     },
     "execution_count": 16,
     "metadata": {},
     "output_type": "execute_result"
    }
   ],
   "source": [
    "games['year_of_release'].unique()"
   ]
  },
  {
   "cell_type": "code",
   "execution_count": 17,
   "id": "60ffcc86",
   "metadata": {
    "scrolled": true
   },
   "outputs": [
    {
     "data": {
      "text/plain": [
       "array(['8', nan, '8.3', '8.5', '6.6', '8.4', '8.6', '7.7', '6.3', '7.4',\n",
       "       '8.2', '9', '7.9', '8.1', '8.7', '7.1', '3.4', '5.3', '4.8', '3.2',\n",
       "       '8.9', '6.4', '7.8', '7.5', '2.6', '7.2', '9.2', '7', '7.3', '4.3',\n",
       "       '7.6', '5.7', '5', '9.1', '6.5', 'tbd', '8.8', '6.9', '9.4', '6.8',\n",
       "       '6.1', '6.7', '5.4', '4', '4.9', '4.5', '9.3', '6.2', '4.2', '6',\n",
       "       '3.7', '4.1', '5.8', '5.6', '5.5', '4.4', '4.6', '5.9', '3.9',\n",
       "       '3.1', '2.9', '5.2', '3.3', '4.7', '5.1', '3.5', '2.5', '1.9', '3',\n",
       "       '2.7', '2.2', '2', '9.5', '2.1', '3.6', '2.8', '1.8', '3.8', '0',\n",
       "       '1.6', '9.6', '2.4', '1.7', '1.1', '0.3', '1.5', '0.7', '1.2',\n",
       "       '2.3', '0.5', '1.3', '0.2', '0.6', '1.4', '0.9', '1', '9.7'],\n",
       "      dtype=object)"
      ]
     },
     "execution_count": 17,
     "metadata": {},
     "output_type": "execute_result"
    }
   ],
   "source": [
    "games['user_score'].unique()"
   ]
  },
  {
   "cell_type": "markdown",
   "id": "2e8cdb89",
   "metadata": {},
   "source": [
    "Видим, что первые две колонки фактически содержат целые числа, а третья - дробные числа. Третья также содержит значение `'tbd'`, которое означает одновременно отсутствие общей оценки, и причину отсутствия: мало отзывов.\n",
    "\n",
    "Эта причина сама по себе является дополнительной информацией, которую мы получили, и её не стоит уничтожать. Сбережём её в специальной колонке."
   ]
  },
  {
   "cell_type": "code",
   "execution_count": 18,
   "id": "cf2fc351",
   "metadata": {},
   "outputs": [
    {
     "data": {
      "text/html": [
       "<div>\n",
       "<style scoped>\n",
       "    .dataframe tbody tr th:only-of-type {\n",
       "        vertical-align: middle;\n",
       "    }\n",
       "\n",
       "    .dataframe tbody tr th {\n",
       "        vertical-align: top;\n",
       "    }\n",
       "\n",
       "    .dataframe thead th {\n",
       "        text-align: right;\n",
       "    }\n",
       "</style>\n",
       "<table border=\"1\" class=\"dataframe\">\n",
       "  <thead>\n",
       "    <tr style=\"text-align: right;\">\n",
       "      <th></th>\n",
       "      <th>name</th>\n",
       "      <th>platform</th>\n",
       "      <th>year_of_release</th>\n",
       "      <th>genre</th>\n",
       "      <th>na_sales</th>\n",
       "      <th>eu_sales</th>\n",
       "      <th>jp_sales</th>\n",
       "      <th>other_sales</th>\n",
       "      <th>critic_score</th>\n",
       "      <th>user_score</th>\n",
       "      <th>rating</th>\n",
       "      <th>few_user_scored</th>\n",
       "    </tr>\n",
       "  </thead>\n",
       "  <tbody>\n",
       "    <tr>\n",
       "      <th>0</th>\n",
       "      <td>Wii Sports</td>\n",
       "      <td>Wii</td>\n",
       "      <td>2006.0</td>\n",
       "      <td>Sports</td>\n",
       "      <td>41.36</td>\n",
       "      <td>28.96</td>\n",
       "      <td>3.77</td>\n",
       "      <td>8.45</td>\n",
       "      <td>76.0</td>\n",
       "      <td>8</td>\n",
       "      <td>E</td>\n",
       "      <td>False</td>\n",
       "    </tr>\n",
       "    <tr>\n",
       "      <th>1</th>\n",
       "      <td>Super Mario Bros.</td>\n",
       "      <td>NES</td>\n",
       "      <td>1985.0</td>\n",
       "      <td>Platform</td>\n",
       "      <td>29.08</td>\n",
       "      <td>3.58</td>\n",
       "      <td>6.81</td>\n",
       "      <td>0.77</td>\n",
       "      <td>NaN</td>\n",
       "      <td>NaN</td>\n",
       "      <td>NaN</td>\n",
       "      <td>False</td>\n",
       "    </tr>\n",
       "    <tr>\n",
       "      <th>2</th>\n",
       "      <td>Mario Kart Wii</td>\n",
       "      <td>Wii</td>\n",
       "      <td>2008.0</td>\n",
       "      <td>Racing</td>\n",
       "      <td>15.68</td>\n",
       "      <td>12.76</td>\n",
       "      <td>3.79</td>\n",
       "      <td>3.29</td>\n",
       "      <td>82.0</td>\n",
       "      <td>8.3</td>\n",
       "      <td>E</td>\n",
       "      <td>False</td>\n",
       "    </tr>\n",
       "    <tr>\n",
       "      <th>3</th>\n",
       "      <td>Wii Sports Resort</td>\n",
       "      <td>Wii</td>\n",
       "      <td>2009.0</td>\n",
       "      <td>Sports</td>\n",
       "      <td>15.61</td>\n",
       "      <td>10.93</td>\n",
       "      <td>3.28</td>\n",
       "      <td>2.95</td>\n",
       "      <td>80.0</td>\n",
       "      <td>8</td>\n",
       "      <td>E</td>\n",
       "      <td>False</td>\n",
       "    </tr>\n",
       "    <tr>\n",
       "      <th>4</th>\n",
       "      <td>Pokemon Red/Pokemon Blue</td>\n",
       "      <td>GB</td>\n",
       "      <td>1996.0</td>\n",
       "      <td>Role-Playing</td>\n",
       "      <td>11.27</td>\n",
       "      <td>8.89</td>\n",
       "      <td>10.22</td>\n",
       "      <td>1.00</td>\n",
       "      <td>NaN</td>\n",
       "      <td>NaN</td>\n",
       "      <td>NaN</td>\n",
       "      <td>False</td>\n",
       "    </tr>\n",
       "    <tr>\n",
       "      <th>...</th>\n",
       "      <td>...</td>\n",
       "      <td>...</td>\n",
       "      <td>...</td>\n",
       "      <td>...</td>\n",
       "      <td>...</td>\n",
       "      <td>...</td>\n",
       "      <td>...</td>\n",
       "      <td>...</td>\n",
       "      <td>...</td>\n",
       "      <td>...</td>\n",
       "      <td>...</td>\n",
       "      <td>...</td>\n",
       "    </tr>\n",
       "    <tr>\n",
       "      <th>16710</th>\n",
       "      <td>Samurai Warriors: Sanada Maru</td>\n",
       "      <td>PS3</td>\n",
       "      <td>2016.0</td>\n",
       "      <td>Action</td>\n",
       "      <td>0.00</td>\n",
       "      <td>0.00</td>\n",
       "      <td>0.01</td>\n",
       "      <td>0.00</td>\n",
       "      <td>NaN</td>\n",
       "      <td>NaN</td>\n",
       "      <td>NaN</td>\n",
       "      <td>False</td>\n",
       "    </tr>\n",
       "    <tr>\n",
       "      <th>16711</th>\n",
       "      <td>LMA Manager 2007</td>\n",
       "      <td>X360</td>\n",
       "      <td>2006.0</td>\n",
       "      <td>Sports</td>\n",
       "      <td>0.00</td>\n",
       "      <td>0.01</td>\n",
       "      <td>0.00</td>\n",
       "      <td>0.00</td>\n",
       "      <td>NaN</td>\n",
       "      <td>NaN</td>\n",
       "      <td>NaN</td>\n",
       "      <td>False</td>\n",
       "    </tr>\n",
       "    <tr>\n",
       "      <th>16712</th>\n",
       "      <td>Haitaka no Psychedelica</td>\n",
       "      <td>PSV</td>\n",
       "      <td>2016.0</td>\n",
       "      <td>Adventure</td>\n",
       "      <td>0.00</td>\n",
       "      <td>0.00</td>\n",
       "      <td>0.01</td>\n",
       "      <td>0.00</td>\n",
       "      <td>NaN</td>\n",
       "      <td>NaN</td>\n",
       "      <td>NaN</td>\n",
       "      <td>False</td>\n",
       "    </tr>\n",
       "    <tr>\n",
       "      <th>16713</th>\n",
       "      <td>Spirits &amp; Spells</td>\n",
       "      <td>GBA</td>\n",
       "      <td>2003.0</td>\n",
       "      <td>Platform</td>\n",
       "      <td>0.01</td>\n",
       "      <td>0.00</td>\n",
       "      <td>0.00</td>\n",
       "      <td>0.00</td>\n",
       "      <td>NaN</td>\n",
       "      <td>NaN</td>\n",
       "      <td>NaN</td>\n",
       "      <td>False</td>\n",
       "    </tr>\n",
       "    <tr>\n",
       "      <th>16714</th>\n",
       "      <td>Winning Post 8 2016</td>\n",
       "      <td>PSV</td>\n",
       "      <td>2016.0</td>\n",
       "      <td>Simulation</td>\n",
       "      <td>0.00</td>\n",
       "      <td>0.00</td>\n",
       "      <td>0.01</td>\n",
       "      <td>0.00</td>\n",
       "      <td>NaN</td>\n",
       "      <td>NaN</td>\n",
       "      <td>NaN</td>\n",
       "      <td>False</td>\n",
       "    </tr>\n",
       "  </tbody>\n",
       "</table>\n",
       "<p>16715 rows × 12 columns</p>\n",
       "</div>"
      ],
      "text/plain": [
       "                                name platform  year_of_release         genre  \\\n",
       "0                         Wii Sports      Wii           2006.0        Sports   \n",
       "1                  Super Mario Bros.      NES           1985.0      Platform   \n",
       "2                     Mario Kart Wii      Wii           2008.0        Racing   \n",
       "3                  Wii Sports Resort      Wii           2009.0        Sports   \n",
       "4           Pokemon Red/Pokemon Blue       GB           1996.0  Role-Playing   \n",
       "...                              ...      ...              ...           ...   \n",
       "16710  Samurai Warriors: Sanada Maru      PS3           2016.0        Action   \n",
       "16711               LMA Manager 2007     X360           2006.0        Sports   \n",
       "16712        Haitaka no Psychedelica      PSV           2016.0     Adventure   \n",
       "16713               Spirits & Spells      GBA           2003.0      Platform   \n",
       "16714            Winning Post 8 2016      PSV           2016.0    Simulation   \n",
       "\n",
       "       na_sales  eu_sales  jp_sales  other_sales  critic_score user_score  \\\n",
       "0         41.36     28.96      3.77         8.45          76.0          8   \n",
       "1         29.08      3.58      6.81         0.77           NaN        NaN   \n",
       "2         15.68     12.76      3.79         3.29          82.0        8.3   \n",
       "3         15.61     10.93      3.28         2.95          80.0          8   \n",
       "4         11.27      8.89     10.22         1.00           NaN        NaN   \n",
       "...         ...       ...       ...          ...           ...        ...   \n",
       "16710      0.00      0.00      0.01         0.00           NaN        NaN   \n",
       "16711      0.00      0.01      0.00         0.00           NaN        NaN   \n",
       "16712      0.00      0.00      0.01         0.00           NaN        NaN   \n",
       "16713      0.01      0.00      0.00         0.00           NaN        NaN   \n",
       "16714      0.00      0.00      0.01         0.00           NaN        NaN   \n",
       "\n",
       "      rating  few_user_scored  \n",
       "0          E            False  \n",
       "1        NaN            False  \n",
       "2          E            False  \n",
       "3          E            False  \n",
       "4        NaN            False  \n",
       "...      ...              ...  \n",
       "16710    NaN            False  \n",
       "16711    NaN            False  \n",
       "16712    NaN            False  \n",
       "16713    NaN            False  \n",
       "16714    NaN            False  \n",
       "\n",
       "[16715 rows x 12 columns]"
      ]
     },
     "execution_count": 18,
     "metadata": {},
     "output_type": "execute_result"
    }
   ],
   "source": [
    "games['few_user_scored'] = games['user_score'] == 'tbd'\n",
    "games['few_user_scored'].describe()\n",
    "games"
   ]
  },
  {
   "cell_type": "markdown",
   "id": "fbe3fc77",
   "metadata": {},
   "source": [
    "Перенос удался. Теперь удаляем `'tbd'` из таблицы."
   ]
  },
  {
   "cell_type": "code",
   "execution_count": 19,
   "id": "c36031bf",
   "metadata": {},
   "outputs": [],
   "source": [
    "games['user_score'] = games['user_score'].mask(games['user_score'] == 'tbd')"
   ]
  },
  {
   "cell_type": "markdown",
   "id": "575f4cbb",
   "metadata": {},
   "source": [
    "Заменять отсутствующие значения на что либо не видно потребности. Датафрейм не занимает так много памяти, чтобы сокращать потребление. Существует специальный тип данных `Int64`, в котором можно размещать значение `NaN`, как во `float64`. Таким образом, просто приведём данные к нужному виду, а отстутсвующие значения оставим обозначенными явно. Это позволит обрабатывать их очевидным способом."
   ]
  },
  {
   "cell_type": "code",
   "execution_count": 20,
   "id": "5259c7b3",
   "metadata": {
    "scrolled": false
   },
   "outputs": [
    {
     "name": "stdout",
     "output_type": "stream",
     "text": [
      "\n",
      "=================YEAR_OF_RELEASE==================\n"
     ]
    },
    {
     "data": {
      "text/plain": [
       "<IntegerArray>\n",
       "[2006, 1985, 2008, 2009, 1996, 1989, 1984, 2005, 1999, 2007, 2010, 2013, 2004,\n",
       " 1990, 1988, 2002, 2001, 2011, 1998, 2015, 2012, 2014, 1992, 1997, 1993, 1994,\n",
       " 1982, 2016, 2003, 1986, 2000, <NA>, 1995, 1991, 1981, 1987, 1980, 1983]\n",
       "Length: 38, dtype: Int64"
      ]
     },
     "metadata": {},
     "output_type": "display_data"
    },
    {
     "name": "stdout",
     "output_type": "stream",
     "text": [
      "\n",
      "===================CRITIC_SCORE===================\n"
     ]
    },
    {
     "data": {
      "text/plain": [
       "array([76., nan, 82., 80., 89., 58., 87., 91., 61., 97., 95., 77., 88.,\n",
       "       83., 94., 93., 85., 86., 98., 96., 90., 84., 73., 74., 78., 92.,\n",
       "       71., 72., 68., 62., 49., 67., 81., 66., 56., 79., 70., 59., 64.,\n",
       "       75., 60., 63., 69., 50., 25., 42., 44., 55., 48., 57., 29., 47.,\n",
       "       65., 54., 20., 53., 37., 38., 33., 52., 30., 32., 43., 45., 51.,\n",
       "       40., 46., 39., 34., 35., 41., 36., 28., 31., 27., 26., 19., 23.,\n",
       "       24., 21., 17., 22., 13.])"
      ]
     },
     "metadata": {},
     "output_type": "display_data"
    },
    {
     "name": "stdout",
     "output_type": "stream",
     "text": [
      "\n",
      "====================USER_SCORE====================\n"
     ]
    },
    {
     "data": {
      "text/plain": [
       "array([8. , nan, 8.3, 8.5, 6.6, 8.4, 8.6, 7.7, 6.3, 7.4, 8.2, 9. , 7.9,\n",
       "       8.1, 8.7, 7.1, 3.4, 5.3, 4.8, 3.2, 8.9, 6.4, 7.8, 7.5, 2.6, 7.2,\n",
       "       9.2, 7. , 7.3, 4.3, 7.6, 5.7, 5. , 9.1, 6.5, 8.8, 6.9, 9.4, 6.8,\n",
       "       6.1, 6.7, 5.4, 4. , 4.9, 4.5, 9.3, 6.2, 4.2, 6. , 3.7, 4.1, 5.8,\n",
       "       5.6, 5.5, 4.4, 4.6, 5.9, 3.9, 3.1, 2.9, 5.2, 3.3, 4.7, 5.1, 3.5,\n",
       "       2.5, 1.9, 3. , 2.7, 2.2, 2. , 9.5, 2.1, 3.6, 2.8, 1.8, 3.8, 0. ,\n",
       "       1.6, 9.6, 2.4, 1.7, 1.1, 0.3, 1.5, 0.7, 1.2, 2.3, 0.5, 1.3, 0.2,\n",
       "       0.6, 1.4, 0.9, 1. , 9.7])"
      ]
     },
     "metadata": {},
     "output_type": "display_data"
    }
   ],
   "source": [
    "games = games.astype({\n",
    "    'year_of_release': 'Int64',\n",
    "    'user_score': 'float',\n",
    "})\n",
    "\n",
    "for column in ['year_of_release', 'critic_score', 'user_score']:\n",
    "    print(headline(column))\n",
    "    display(games[column].unique())"
   ]
  },
  {
   "cell_type": "markdown",
   "id": "2e766ee4",
   "metadata": {},
   "source": [
    "###  Добавление суммы продаж по всем регионам"
   ]
  },
  {
   "cell_type": "code",
   "execution_count": 21,
   "id": "e0f8868e",
   "metadata": {},
   "outputs": [
    {
     "data": {
      "text/html": [
       "<div>\n",
       "<style scoped>\n",
       "    .dataframe tbody tr th:only-of-type {\n",
       "        vertical-align: middle;\n",
       "    }\n",
       "\n",
       "    .dataframe tbody tr th {\n",
       "        vertical-align: top;\n",
       "    }\n",
       "\n",
       "    .dataframe thead th {\n",
       "        text-align: right;\n",
       "    }\n",
       "</style>\n",
       "<table border=\"1\" class=\"dataframe\">\n",
       "  <thead>\n",
       "    <tr style=\"text-align: right;\">\n",
       "      <th></th>\n",
       "      <th>name</th>\n",
       "      <th>platform</th>\n",
       "      <th>year_of_release</th>\n",
       "      <th>genre</th>\n",
       "      <th>na_sales</th>\n",
       "      <th>eu_sales</th>\n",
       "      <th>jp_sales</th>\n",
       "      <th>other_sales</th>\n",
       "      <th>critic_score</th>\n",
       "      <th>user_score</th>\n",
       "      <th>rating</th>\n",
       "      <th>few_user_scored</th>\n",
       "      <th>total_sales</th>\n",
       "    </tr>\n",
       "  </thead>\n",
       "  <tbody>\n",
       "    <tr>\n",
       "      <th>0</th>\n",
       "      <td>Wii Sports</td>\n",
       "      <td>Wii</td>\n",
       "      <td>2006</td>\n",
       "      <td>Sports</td>\n",
       "      <td>41.36</td>\n",
       "      <td>28.96</td>\n",
       "      <td>3.77</td>\n",
       "      <td>8.45</td>\n",
       "      <td>76.0</td>\n",
       "      <td>8.0</td>\n",
       "      <td>E</td>\n",
       "      <td>False</td>\n",
       "      <td>82.54</td>\n",
       "    </tr>\n",
       "    <tr>\n",
       "      <th>1</th>\n",
       "      <td>Super Mario Bros.</td>\n",
       "      <td>NES</td>\n",
       "      <td>1985</td>\n",
       "      <td>Platform</td>\n",
       "      <td>29.08</td>\n",
       "      <td>3.58</td>\n",
       "      <td>6.81</td>\n",
       "      <td>0.77</td>\n",
       "      <td>NaN</td>\n",
       "      <td>NaN</td>\n",
       "      <td>NaN</td>\n",
       "      <td>False</td>\n",
       "      <td>40.24</td>\n",
       "    </tr>\n",
       "    <tr>\n",
       "      <th>2</th>\n",
       "      <td>Mario Kart Wii</td>\n",
       "      <td>Wii</td>\n",
       "      <td>2008</td>\n",
       "      <td>Racing</td>\n",
       "      <td>15.68</td>\n",
       "      <td>12.76</td>\n",
       "      <td>3.79</td>\n",
       "      <td>3.29</td>\n",
       "      <td>82.0</td>\n",
       "      <td>8.3</td>\n",
       "      <td>E</td>\n",
       "      <td>False</td>\n",
       "      <td>35.52</td>\n",
       "    </tr>\n",
       "    <tr>\n",
       "      <th>3</th>\n",
       "      <td>Wii Sports Resort</td>\n",
       "      <td>Wii</td>\n",
       "      <td>2009</td>\n",
       "      <td>Sports</td>\n",
       "      <td>15.61</td>\n",
       "      <td>10.93</td>\n",
       "      <td>3.28</td>\n",
       "      <td>2.95</td>\n",
       "      <td>80.0</td>\n",
       "      <td>8.0</td>\n",
       "      <td>E</td>\n",
       "      <td>False</td>\n",
       "      <td>32.77</td>\n",
       "    </tr>\n",
       "    <tr>\n",
       "      <th>4</th>\n",
       "      <td>Pokemon Red/Pokemon Blue</td>\n",
       "      <td>GB</td>\n",
       "      <td>1996</td>\n",
       "      <td>Role-Playing</td>\n",
       "      <td>11.27</td>\n",
       "      <td>8.89</td>\n",
       "      <td>10.22</td>\n",
       "      <td>1.00</td>\n",
       "      <td>NaN</td>\n",
       "      <td>NaN</td>\n",
       "      <td>NaN</td>\n",
       "      <td>False</td>\n",
       "      <td>31.38</td>\n",
       "    </tr>\n",
       "    <tr>\n",
       "      <th>...</th>\n",
       "      <td>...</td>\n",
       "      <td>...</td>\n",
       "      <td>...</td>\n",
       "      <td>...</td>\n",
       "      <td>...</td>\n",
       "      <td>...</td>\n",
       "      <td>...</td>\n",
       "      <td>...</td>\n",
       "      <td>...</td>\n",
       "      <td>...</td>\n",
       "      <td>...</td>\n",
       "      <td>...</td>\n",
       "      <td>...</td>\n",
       "    </tr>\n",
       "    <tr>\n",
       "      <th>16710</th>\n",
       "      <td>Samurai Warriors: Sanada Maru</td>\n",
       "      <td>PS3</td>\n",
       "      <td>2016</td>\n",
       "      <td>Action</td>\n",
       "      <td>0.00</td>\n",
       "      <td>0.00</td>\n",
       "      <td>0.01</td>\n",
       "      <td>0.00</td>\n",
       "      <td>NaN</td>\n",
       "      <td>NaN</td>\n",
       "      <td>NaN</td>\n",
       "      <td>False</td>\n",
       "      <td>0.01</td>\n",
       "    </tr>\n",
       "    <tr>\n",
       "      <th>16711</th>\n",
       "      <td>LMA Manager 2007</td>\n",
       "      <td>X360</td>\n",
       "      <td>2006</td>\n",
       "      <td>Sports</td>\n",
       "      <td>0.00</td>\n",
       "      <td>0.01</td>\n",
       "      <td>0.00</td>\n",
       "      <td>0.00</td>\n",
       "      <td>NaN</td>\n",
       "      <td>NaN</td>\n",
       "      <td>NaN</td>\n",
       "      <td>False</td>\n",
       "      <td>0.01</td>\n",
       "    </tr>\n",
       "    <tr>\n",
       "      <th>16712</th>\n",
       "      <td>Haitaka no Psychedelica</td>\n",
       "      <td>PSV</td>\n",
       "      <td>2016</td>\n",
       "      <td>Adventure</td>\n",
       "      <td>0.00</td>\n",
       "      <td>0.00</td>\n",
       "      <td>0.01</td>\n",
       "      <td>0.00</td>\n",
       "      <td>NaN</td>\n",
       "      <td>NaN</td>\n",
       "      <td>NaN</td>\n",
       "      <td>False</td>\n",
       "      <td>0.01</td>\n",
       "    </tr>\n",
       "    <tr>\n",
       "      <th>16713</th>\n",
       "      <td>Spirits &amp; Spells</td>\n",
       "      <td>GBA</td>\n",
       "      <td>2003</td>\n",
       "      <td>Platform</td>\n",
       "      <td>0.01</td>\n",
       "      <td>0.00</td>\n",
       "      <td>0.00</td>\n",
       "      <td>0.00</td>\n",
       "      <td>NaN</td>\n",
       "      <td>NaN</td>\n",
       "      <td>NaN</td>\n",
       "      <td>False</td>\n",
       "      <td>0.01</td>\n",
       "    </tr>\n",
       "    <tr>\n",
       "      <th>16714</th>\n",
       "      <td>Winning Post 8 2016</td>\n",
       "      <td>PSV</td>\n",
       "      <td>2016</td>\n",
       "      <td>Simulation</td>\n",
       "      <td>0.00</td>\n",
       "      <td>0.00</td>\n",
       "      <td>0.01</td>\n",
       "      <td>0.00</td>\n",
       "      <td>NaN</td>\n",
       "      <td>NaN</td>\n",
       "      <td>NaN</td>\n",
       "      <td>False</td>\n",
       "      <td>0.01</td>\n",
       "    </tr>\n",
       "  </tbody>\n",
       "</table>\n",
       "<p>16715 rows × 13 columns</p>\n",
       "</div>"
      ],
      "text/plain": [
       "                                name platform  year_of_release         genre  \\\n",
       "0                         Wii Sports      Wii             2006        Sports   \n",
       "1                  Super Mario Bros.      NES             1985      Platform   \n",
       "2                     Mario Kart Wii      Wii             2008        Racing   \n",
       "3                  Wii Sports Resort      Wii             2009        Sports   \n",
       "4           Pokemon Red/Pokemon Blue       GB             1996  Role-Playing   \n",
       "...                              ...      ...              ...           ...   \n",
       "16710  Samurai Warriors: Sanada Maru      PS3             2016        Action   \n",
       "16711               LMA Manager 2007     X360             2006        Sports   \n",
       "16712        Haitaka no Psychedelica      PSV             2016     Adventure   \n",
       "16713               Spirits & Spells      GBA             2003      Platform   \n",
       "16714            Winning Post 8 2016      PSV             2016    Simulation   \n",
       "\n",
       "       na_sales  eu_sales  jp_sales  other_sales  critic_score  user_score  \\\n",
       "0         41.36     28.96      3.77         8.45          76.0         8.0   \n",
       "1         29.08      3.58      6.81         0.77           NaN         NaN   \n",
       "2         15.68     12.76      3.79         3.29          82.0         8.3   \n",
       "3         15.61     10.93      3.28         2.95          80.0         8.0   \n",
       "4         11.27      8.89     10.22         1.00           NaN         NaN   \n",
       "...         ...       ...       ...          ...           ...         ...   \n",
       "16710      0.00      0.00      0.01         0.00           NaN         NaN   \n",
       "16711      0.00      0.01      0.00         0.00           NaN         NaN   \n",
       "16712      0.00      0.00      0.01         0.00           NaN         NaN   \n",
       "16713      0.01      0.00      0.00         0.00           NaN         NaN   \n",
       "16714      0.00      0.00      0.01         0.00           NaN         NaN   \n",
       "\n",
       "      rating  few_user_scored  total_sales  \n",
       "0          E            False        82.54  \n",
       "1        NaN            False        40.24  \n",
       "2          E            False        35.52  \n",
       "3          E            False        32.77  \n",
       "4        NaN            False        31.38  \n",
       "...      ...              ...          ...  \n",
       "16710    NaN            False         0.01  \n",
       "16711    NaN            False         0.01  \n",
       "16712    NaN            False         0.01  \n",
       "16713    NaN            False         0.01  \n",
       "16714    NaN            False         0.01  \n",
       "\n",
       "[16715 rows x 13 columns]"
      ]
     },
     "metadata": {},
     "output_type": "display_data"
    }
   ],
   "source": [
    "games['total_sales'] = (\n",
    "    games['na_sales'] + games['eu_sales'] + games['jp_sales'] + games['other_sales'])\n",
    "display(games)"
   ]
  },
  {
   "cell_type": "markdown",
   "id": "cf122439",
   "metadata": {},
   "source": [
    "### Итоги обзора и подготовки данных\n",
    "\n",
    "- имена колонок привеены к виду lower_snake_case;\n",
    "- типы данных приведены к нужным;\n",
    "- сформированы колонки:\n",
    "  - `few_user_scored` - содержит True, если пользователи поставили мало оценок;\n",
    "  - `total_sales` - содержит сумму продаж по всем трём регионам."
   ]
  },
  {
   "cell_type": "markdown",
   "id": "a6c058dc",
   "metadata": {},
   "source": [
    "## Исследовательский анализ данных"
   ]
  },
  {
   "cell_type": "markdown",
   "id": "45f17a51",
   "metadata": {},
   "source": []
  },
  {
   "cell_type": "markdown",
   "id": "40e4697b",
   "metadata": {},
   "source": [
    "### История рынка\n",
    "\n",
    "#### Выпуск и продажи по годам"
   ]
  },
  {
   "cell_type": "code",
   "execution_count": 22,
   "id": "2f1cb9a4",
   "metadata": {
    "scrolled": false
   },
   "outputs": [
    {
     "data": {
      "image/png": "[encoded data removed]",
      "text/plain": [
       "<Figure size 864x432 with 1 Axes>"
      ]
     },
     "metadata": {
      "needs_background": "light"
     },
     "output_type": "display_data"
    }
   ],
   "source": [
    "games_by_year = games.pivot_table(\n",
    "    index='year_of_release',\n",
    "    values='total_sales',\n",
    "    aggfunc=['count', 'sum'],\n",
    ")\n",
    "games_by_year.columns = ['games', 'revenue']\n",
    "games_by_year.plot.bar(figsize=FIGSIZE); plt.show()"
   ]
  },
  {
   "cell_type": "markdown",
   "id": "cb70cb82",
   "metadata": {},
   "source": [
    "Видим, что пик продаж пришёлся на 2008 год. С тех пор продажи снижаются.\n",
    "\n",
    "После 2001 количество выпущенных игр скачком повысилось. После 2011 - скачком понизилось. Это выглядит так, как если бы отдельная группа издателей действовала с 2002 по 2011 год. Это дополнительное количество игр не повлияло на сумму продаж.\n",
    "\n",
    "С 2013 года количество выпускаемых игр повышается, выручка с продаж - понижается. Это может быть связано с тем, что всё больше игр создаются ради платных подписок, а не ради платных копий. Поскольку оплата за копии сейчас не является принципиально важной, издатели новых игр могут распространять копии игры не столь активно как раньше, либо снизить цену.\n",
    "\n",
    "Таким образом, можно считать, что сейчас продолжается определённый этап в истории продаж видеоигр. Этот этап можно считать начатым в 2010 году, когда впервые существенно понизилось количество и доходы от продаж новых игр, либо в 2012, когда резко упало количество выпущенных игр. На текущем этапе продажи сокращались каждый год. Незавершённый 2016 год также укладывается в эту тенденцию. Все более ранние данные можно считать неактуальными - после 2012 года рынок (покупатели и продавцы) ведут себя иначе, чем до 2012 года."
   ]
  },
  {
   "cell_type": "markdown",
   "id": "54a0ad52",
   "metadata": {},
   "source": [
    "### Выбираем актуальные данные и назначаем им веса"
   ]
  },
  {
   "cell_type": "markdown",
   "id": "59b0aeeb",
   "metadata": {},
   "source": [
    "Самые ценные для нас данные - данные последнего года. Менее ценные - предыдущего. И так далее. Данные за 2011 год и ранее нам вовсе не интересны. Выразим ценность данных в \"весе\".\n",
    "\n",
    "Вес - это параметр, на который будем умножать любой интересующий нас параметр. Так значения ближайшего года будут оказывать наибольшее влияние на наши выводы, а чем дальше от нас год - тем меньше."
   ]
  },
  {
   "cell_type": "code",
   "execution_count": 23,
   "id": "48a6b249",
   "metadata": {},
   "outputs": [
    {
     "data": {
      "text/html": [
       "<div>\n",
       "<style scoped>\n",
       "    .dataframe tbody tr th:only-of-type {\n",
       "        vertical-align: middle;\n",
       "    }\n",
       "\n",
       "    .dataframe tbody tr th {\n",
       "        vertical-align: top;\n",
       "    }\n",
       "\n",
       "    .dataframe thead th {\n",
       "        text-align: right;\n",
       "    }\n",
       "</style>\n",
       "<table border=\"1\" class=\"dataframe\">\n",
       "  <thead>\n",
       "    <tr style=\"text-align: right;\">\n",
       "      <th></th>\n",
       "      <th>name</th>\n",
       "      <th>platform</th>\n",
       "      <th>year_of_release</th>\n",
       "      <th>genre</th>\n",
       "      <th>na_sales</th>\n",
       "      <th>eu_sales</th>\n",
       "      <th>jp_sales</th>\n",
       "      <th>other_sales</th>\n",
       "      <th>critic_score</th>\n",
       "      <th>user_score</th>\n",
       "      <th>rating</th>\n",
       "      <th>few_user_scored</th>\n",
       "      <th>total_sales</th>\n",
       "      <th>weight</th>\n",
       "      <th>weighted_sales</th>\n",
       "    </tr>\n",
       "  </thead>\n",
       "  <tbody>\n",
       "    <tr>\n",
       "      <th>0</th>\n",
       "      <td>Grand Theft Auto V</td>\n",
       "      <td>PS3</td>\n",
       "      <td>2013</td>\n",
       "      <td>Action</td>\n",
       "      <td>7.02</td>\n",
       "      <td>9.09</td>\n",
       "      <td>0.98</td>\n",
       "      <td>3.96</td>\n",
       "      <td>97.0</td>\n",
       "      <td>8.2</td>\n",
       "      <td>M</td>\n",
       "      <td>False</td>\n",
       "      <td>21.05</td>\n",
       "      <td>0.133333</td>\n",
       "      <td>2.806667</td>\n",
       "    </tr>\n",
       "    <tr>\n",
       "      <th>1</th>\n",
       "      <td>Grand Theft Auto V</td>\n",
       "      <td>X360</td>\n",
       "      <td>2013</td>\n",
       "      <td>Action</td>\n",
       "      <td>9.66</td>\n",
       "      <td>5.14</td>\n",
       "      <td>0.06</td>\n",
       "      <td>1.41</td>\n",
       "      <td>97.0</td>\n",
       "      <td>8.1</td>\n",
       "      <td>M</td>\n",
       "      <td>False</td>\n",
       "      <td>16.27</td>\n",
       "      <td>0.133333</td>\n",
       "      <td>2.169333</td>\n",
       "    </tr>\n",
       "    <tr>\n",
       "      <th>2</th>\n",
       "      <td>Call of Duty: Black Ops 3</td>\n",
       "      <td>PS4</td>\n",
       "      <td>2015</td>\n",
       "      <td>Shooter</td>\n",
       "      <td>6.03</td>\n",
       "      <td>5.86</td>\n",
       "      <td>0.36</td>\n",
       "      <td>2.38</td>\n",
       "      <td>NaN</td>\n",
       "      <td>NaN</td>\n",
       "      <td>NaN</td>\n",
       "      <td>False</td>\n",
       "      <td>14.63</td>\n",
       "      <td>0.266667</td>\n",
       "      <td>3.901333</td>\n",
       "    </tr>\n",
       "    <tr>\n",
       "      <th>3</th>\n",
       "      <td>Pokemon X/Pokemon Y</td>\n",
       "      <td>3DS</td>\n",
       "      <td>2013</td>\n",
       "      <td>Role-Playing</td>\n",
       "      <td>5.28</td>\n",
       "      <td>4.19</td>\n",
       "      <td>4.35</td>\n",
       "      <td>0.78</td>\n",
       "      <td>NaN</td>\n",
       "      <td>NaN</td>\n",
       "      <td>NaN</td>\n",
       "      <td>False</td>\n",
       "      <td>14.60</td>\n",
       "      <td>0.133333</td>\n",
       "      <td>1.946667</td>\n",
       "    </tr>\n",
       "    <tr>\n",
       "      <th>4</th>\n",
       "      <td>Call of Duty: Black Ops II</td>\n",
       "      <td>PS3</td>\n",
       "      <td>2012</td>\n",
       "      <td>Shooter</td>\n",
       "      <td>4.99</td>\n",
       "      <td>5.73</td>\n",
       "      <td>0.65</td>\n",
       "      <td>2.42</td>\n",
       "      <td>83.0</td>\n",
       "      <td>5.3</td>\n",
       "      <td>M</td>\n",
       "      <td>False</td>\n",
       "      <td>13.79</td>\n",
       "      <td>0.066667</td>\n",
       "      <td>0.919333</td>\n",
       "    </tr>\n",
       "    <tr>\n",
       "      <th>...</th>\n",
       "      <td>...</td>\n",
       "      <td>...</td>\n",
       "      <td>...</td>\n",
       "      <td>...</td>\n",
       "      <td>...</td>\n",
       "      <td>...</td>\n",
       "      <td>...</td>\n",
       "      <td>...</td>\n",
       "      <td>...</td>\n",
       "      <td>...</td>\n",
       "      <td>...</td>\n",
       "      <td>...</td>\n",
       "      <td>...</td>\n",
       "      <td>...</td>\n",
       "      <td>...</td>\n",
       "    </tr>\n",
       "    <tr>\n",
       "      <th>2881</th>\n",
       "      <td>Strawberry Nauts</td>\n",
       "      <td>PSV</td>\n",
       "      <td>2016</td>\n",
       "      <td>Adventure</td>\n",
       "      <td>0.00</td>\n",
       "      <td>0.00</td>\n",
       "      <td>0.01</td>\n",
       "      <td>0.00</td>\n",
       "      <td>NaN</td>\n",
       "      <td>NaN</td>\n",
       "      <td>NaN</td>\n",
       "      <td>False</td>\n",
       "      <td>0.01</td>\n",
       "      <td>0.333333</td>\n",
       "      <td>0.003333</td>\n",
       "    </tr>\n",
       "    <tr>\n",
       "      <th>2882</th>\n",
       "      <td>Aiyoku no Eustia</td>\n",
       "      <td>PSV</td>\n",
       "      <td>2014</td>\n",
       "      <td>Misc</td>\n",
       "      <td>0.00</td>\n",
       "      <td>0.00</td>\n",
       "      <td>0.01</td>\n",
       "      <td>0.00</td>\n",
       "      <td>NaN</td>\n",
       "      <td>NaN</td>\n",
       "      <td>NaN</td>\n",
       "      <td>False</td>\n",
       "      <td>0.01</td>\n",
       "      <td>0.200000</td>\n",
       "      <td>0.002000</td>\n",
       "    </tr>\n",
       "    <tr>\n",
       "      <th>2883</th>\n",
       "      <td>Samurai Warriors: Sanada Maru</td>\n",
       "      <td>PS3</td>\n",
       "      <td>2016</td>\n",
       "      <td>Action</td>\n",
       "      <td>0.00</td>\n",
       "      <td>0.00</td>\n",
       "      <td>0.01</td>\n",
       "      <td>0.00</td>\n",
       "      <td>NaN</td>\n",
       "      <td>NaN</td>\n",
       "      <td>NaN</td>\n",
       "      <td>False</td>\n",
       "      <td>0.01</td>\n",
       "      <td>0.333333</td>\n",
       "      <td>0.003333</td>\n",
       "    </tr>\n",
       "    <tr>\n",
       "      <th>2884</th>\n",
       "      <td>Haitaka no Psychedelica</td>\n",
       "      <td>PSV</td>\n",
       "      <td>2016</td>\n",
       "      <td>Adventure</td>\n",
       "      <td>0.00</td>\n",
       "      <td>0.00</td>\n",
       "      <td>0.01</td>\n",
       "      <td>0.00</td>\n",
       "      <td>NaN</td>\n",
       "      <td>NaN</td>\n",
       "      <td>NaN</td>\n",
       "      <td>False</td>\n",
       "      <td>0.01</td>\n",
       "      <td>0.333333</td>\n",
       "      <td>0.003333</td>\n",
       "    </tr>\n",
       "    <tr>\n",
       "      <th>2885</th>\n",
       "      <td>Winning Post 8 2016</td>\n",
       "      <td>PSV</td>\n",
       "      <td>2016</td>\n",
       "      <td>Simulation</td>\n",
       "      <td>0.00</td>\n",
       "      <td>0.00</td>\n",
       "      <td>0.01</td>\n",
       "      <td>0.00</td>\n",
       "      <td>NaN</td>\n",
       "      <td>NaN</td>\n",
       "      <td>NaN</td>\n",
       "      <td>False</td>\n",
       "      <td>0.01</td>\n",
       "      <td>0.333333</td>\n",
       "      <td>0.003333</td>\n",
       "    </tr>\n",
       "  </tbody>\n",
       "</table>\n",
       "<p>2886 rows × 15 columns</p>\n",
       "</div>"
      ],
      "text/plain": [
       "                               name platform  year_of_release         genre  \\\n",
       "0                Grand Theft Auto V      PS3             2013        Action   \n",
       "1                Grand Theft Auto V     X360             2013        Action   \n",
       "2         Call of Duty: Black Ops 3      PS4             2015       Shooter   \n",
       "3               Pokemon X/Pokemon Y      3DS             2013  Role-Playing   \n",
       "4        Call of Duty: Black Ops II      PS3             2012       Shooter   \n",
       "...                             ...      ...              ...           ...   \n",
       "2881               Strawberry Nauts      PSV             2016     Adventure   \n",
       "2882               Aiyoku no Eustia      PSV             2014          Misc   \n",
       "2883  Samurai Warriors: Sanada Maru      PS3             2016        Action   \n",
       "2884        Haitaka no Psychedelica      PSV             2016     Adventure   \n",
       "2885            Winning Post 8 2016      PSV             2016    Simulation   \n",
       "\n",
       "      na_sales  eu_sales  jp_sales  other_sales  critic_score  user_score  \\\n",
       "0         7.02      9.09      0.98         3.96          97.0         8.2   \n",
       "1         9.66      5.14      0.06         1.41          97.0         8.1   \n",
       "2         6.03      5.86      0.36         2.38           NaN         NaN   \n",
       "3         5.28      4.19      4.35         0.78           NaN         NaN   \n",
       "4         4.99      5.73      0.65         2.42          83.0         5.3   \n",
       "...        ...       ...       ...          ...           ...         ...   \n",
       "2881      0.00      0.00      0.01         0.00           NaN         NaN   \n",
       "2882      0.00      0.00      0.01         0.00           NaN         NaN   \n",
       "2883      0.00      0.00      0.01         0.00           NaN         NaN   \n",
       "2884      0.00      0.00      0.01         0.00           NaN         NaN   \n",
       "2885      0.00      0.00      0.01         0.00           NaN         NaN   \n",
       "\n",
       "     rating  few_user_scored  total_sales    weight  weighted_sales  \n",
       "0         M            False        21.05  0.133333        2.806667  \n",
       "1         M            False        16.27  0.133333        2.169333  \n",
       "2       NaN            False        14.63  0.266667        3.901333  \n",
       "3       NaN            False        14.60  0.133333        1.946667  \n",
       "4         M            False        13.79  0.066667        0.919333  \n",
       "...     ...              ...          ...       ...             ...  \n",
       "2881    NaN            False         0.01  0.333333        0.003333  \n",
       "2882    NaN            False         0.01  0.200000        0.002000  \n",
       "2883    NaN            False         0.01  0.333333        0.003333  \n",
       "2884    NaN            False         0.01  0.333333        0.003333  \n",
       "2885    NaN            False         0.01  0.333333        0.003333  \n",
       "\n",
       "[2886 rows x 15 columns]"
      ]
     },
     "metadata": {},
     "output_type": "display_data"
    }
   ],
   "source": [
    "def weight(year):\n",
    "    if pd.isna(year):\n",
    "        return 0\n",
    "    if year == 2016:\n",
    "        return 5/15\n",
    "    if year == 2015:\n",
    "        return 4/15\n",
    "    if year == 2014:\n",
    "        return 3/15\n",
    "    if year == 2013:\n",
    "        return 2/15\n",
    "    if year == 2012:\n",
    "        return 1/15\n",
    "    return 0\n",
    "\n",
    "\n",
    "games['weight'] = games['year_of_release'].apply(weight)\n",
    "actual_games = games.loc[games['weight'] > 0].reset_index(drop=True)\n",
    "actual_games['weighted_sales'] = actual_games['total_sales'] * actual_games['weight']\n",
    "display(actual_games)"
   ]
  },
  {
   "cell_type": "markdown",
   "id": "edb00a58",
   "metadata": {},
   "source": [
    "#### Продажи по платформам\n",
    "\n",
    "##### В истории"
   ]
  },
  {
   "cell_type": "code",
   "execution_count": 24,
   "id": "2cdc31db",
   "metadata": {},
   "outputs": [
    {
     "data": {
      "image/png": "[encoded data removed]",
      "text/plain": [
       "<Figure size 864x432 with 2 Axes>"
      ]
     },
     "metadata": {
      "needs_background": "light"
     },
     "output_type": "display_data"
    }
   ],
   "source": [
    "games_by_platform = games.pivot_table(\n",
    "    index='platform',\n",
    "    values='total_sales',\n",
    "    aggfunc=['count', 'sum'],\n",
    ")\n",
    "games_by_platform.columns = ['games', 'revenue']\n",
    "games_by_platform.sort_values('revenue', ascending=False).plot.bar(\n",
    "    figsize=FIGSIZE, subplots=True); plt.show()"
   ]
  },
  {
   "cell_type": "markdown",
   "id": "ad32eeb4",
   "metadata": {},
   "source": [
    "Шесть крупнейших платформ по доходам от продаж игр за всю историю: Sony PlayStation, PS2 и 3, XBox 360, Nintendo Wii и DS."
   ]
  },
  {
   "cell_type": "code",
   "execution_count": 25,
   "id": "310f350c",
   "metadata": {
    "scrolled": false
   },
   "outputs": [
    {
     "data": {
      "image/png": "[encoded data removed]",
      "text/plain": [
       "<Figure size 864x432 with 2 Axes>"
      ]
     },
     "metadata": {
      "needs_background": "light"
     },
     "output_type": "display_data"
    }
   ],
   "source": [
    "plt.figure(figsize=FIGSIZE)\n",
    "sns.heatmap(\n",
    "    games.pivot_table(\n",
    "        index='platform',\n",
    "        columns='year_of_release',\n",
    "        values='total_sales',\n",
    "        aggfunc='sum'),\n",
    "        cmap='Blues'\n",
    "); plt.show()"
   ]
  },
  {
   "cell_type": "markdown",
   "id": "57dd1640",
   "metadata": {},
   "source": [
    "По диаграмме видно, что на фоне других платформ выделяются экосистемы PlayStation, XBox и Wii. Успешная платформа может двигать продажи 5-10 лет. Далее требуется обновление.\n",
    "\n",
    "Актуальные платформы: PS4, Xbox One, WiiU. С 2013 года продажи на них росли. Другие платформы показывают спад, и по сути вытесняются актуальными.\n",
    "\n",
    "Особое положение занимают PC-совместимые компьютеры. Они собраны из разных комплектующих, однако совместимы между собой. Это позволяет их считать единой платформой. Она актуальна практически всё время существования игровой индустрии. Однако, игры для PC показывают меньшую выручку по сравнению с выпусками на других платформах.\n",
    "\n"
   ]
  },
  {
   "cell_type": "markdown",
   "id": "84fea5ae",
   "metadata": {},
   "source": [
    "##### Актуальные"
   ]
  },
  {
   "cell_type": "code",
   "execution_count": 26,
   "id": "74fabc6b",
   "metadata": {
    "scrolled": false
   },
   "outputs": [
    {
     "data": {
      "image/png": "[encoded data removed]",
      "text/plain": [
       "<Figure size 864x576 with 3 Axes>"
      ]
     },
     "metadata": {
      "needs_background": "light"
     },
     "output_type": "display_data"
    }
   ],
   "source": [
    "actual_sales_by_platform = actual_games.pivot_table(\n",
    "    index='platform',\n",
    "    values=['weighted_sales', 'weight'], \n",
    "    aggfunc=['sum'],  # количество игр в такой схеме - это просто сумма весов\n",
    ")\n",
    "\n",
    "actual_sales_by_platform.columns = ['games', 'revenue']\n",
    "actual_sales_by_platform['mean_revenue'] = (\n",
    "    actual_sales_by_platform['revenue'] / actual_sales_by_platform['games'])\n",
    "actual_sales_by_platform.sort_values('mean_revenue', ascending=False).plot.bar(\n",
    "    figsize=(FIGSIZE[0], 8), subplots=True); plt.show()"
   ]
  },
  {
   "cell_type": "markdown",
   "id": "26ce6ad0",
   "metadata": {},
   "source": [
    "Наибольшую выручку на одну игру в последнее время показывают игры для PlayStation 4. Также эта платформа лидирует и по количеству игр, и по количеству продаж. Ещё интересны Xbox 360 и Xbox One - большие продажи и большая выручка в среднем с одной игры."
   ]
  },
  {
   "cell_type": "code",
   "execution_count": 27,
   "id": "923496a7",
   "metadata": {},
   "outputs": [
    {
     "data": {
      "image/png": "[encoded data removed]",
      "text/plain": [
       "<Figure size 864x432 with 1 Axes>"
      ]
     },
     "metadata": {
      "needs_background": "light"
     },
     "output_type": "display_data"
    }
   ],
   "source": [
    "plt.figure(figsize=FIGSIZE)\n",
    "sns.boxplot(\n",
    "    x='platform', y='weighted_sales', showmeans=True, data=actual_games\n",
    ").set_yscale(\"log\"); plt.show()"
   ]
  },
  {
   "cell_type": "markdown",
   "id": "186c8008",
   "metadata": {},
   "source": [
    "Если взглянуть распределения взвешенных продаж (продаж, умноженных на коэффициент \"актуальности\"), то продажи выше у игр, выпущенных для PS4. Самая востребованная игра выпущена на этой платформе. Та же медиана у XOne. Значит, на этих двух платформах типичная игра собирает больше выручки, чем на других.\n",
    "\n",
    "Достойна внимания также WiiU - сборы с типичной игры на этой платформе лишь немногим хуже."
   ]
  },
  {
   "cell_type": "markdown",
   "id": "55c91cbe",
   "metadata": {},
   "source": [
    "**Итоги:**\n",
    "- На момент исследования наиболее кассовые игры выпускаются для платформ:\n",
    "  1. PS4,\n",
    "  2. XOne,\n",
    "  3. WiiU."
   ]
  },
  {
   "cell_type": "markdown",
   "id": "1df6173b",
   "metadata": {},
   "source": [
    "#### Продажи по жанрам\n",
    "\n",
    "##### В истории"
   ]
  },
  {
   "cell_type": "code",
   "execution_count": 28,
   "id": "f57615e5",
   "metadata": {},
   "outputs": [
    {
     "data": {
      "image/png": "[encoded data removed]",
      "text/plain": [
       "<Figure size 864x432 with 2 Axes>"
      ]
     },
     "metadata": {
      "needs_background": "light"
     },
     "output_type": "display_data"
    }
   ],
   "source": [
    "plt.figure(figsize=FIGSIZE)\n",
    "sns.heatmap(\n",
    "    games.pivot_table(\n",
    "        index='genre',\n",
    "        columns='year_of_release',\n",
    "        values='total_sales',\n",
    "        aggfunc='sum'),\n",
    "        cmap='Blues'\n",
    "); plt.show()"
   ]
  },
  {
   "cell_type": "markdown",
   "id": "3da5204f",
   "metadata": {},
   "source": [
    "Примерно с 1985 года до 2013 были надёжные продажи \"платформеров\". Последние несколько лет этот жанр теряет пользователей.\n",
    "\n",
    "Эпоха массовых продаж игр по сути открылась в 1996 году, когда резко повысились продажи в многих жанрах. Пик в большинстве жанров пришёлся на 2006-2010 годы. Экшн, шутеры и ролевые игры хорошо продавались и после, а вот первичные продажи спортивных и других симуляторов быстро упали.\n",
    "\n",
    "Пазлы, приключения и стратегии всегда приносили относительно мало продаж."
   ]
  },
  {
   "cell_type": "markdown",
   "id": "e91a0622",
   "metadata": {},
   "source": [
    "##### Актуальные"
   ]
  },
  {
   "cell_type": "code",
   "execution_count": 29,
   "id": "6f10f4f5",
   "metadata": {},
   "outputs": [
    {
     "data": {
      "image/png": "[encoded data removed]",
      "text/plain": [
       "<Figure size 864x576 with 3 Axes>"
      ]
     },
     "metadata": {
      "needs_background": "light"
     },
     "output_type": "display_data"
    }
   ],
   "source": [
    "actual_sales_by_genre = actual_games.pivot_table(\n",
    "    index='genre',\n",
    "    values=['weighted_sales', 'weight'], \n",
    "    aggfunc=['sum'],  # количество игр в такой схеме - это просто сумма весов\n",
    ")\n",
    "\n",
    "actual_sales_by_genre.columns = ['games', 'revenue']\n",
    "actual_sales_by_genre['mean_revenue'] = (\n",
    "    actual_sales_by_genre['revenue'] / actual_sales_by_genre['games'])\n",
    "actual_sales_by_genre.sort_values('mean_revenue', ascending=False).plot.bar(\n",
    "    figsize=(FIGSIZE[0], 8), subplots=True); plt.show()"
   ]
  },
  {
   "cell_type": "markdown",
   "id": "b6b115df",
   "metadata": {},
   "source": [
    "В нынешнее время ценнее всего шутеры. Средняя выручка с игры втрое выше, чем в других жанрах. Небольшое количество наименований приносят большие кассы.\n",
    "\n",
    "Интересны также категории \"Спорт\" и \"Ролевая\" - большие продажи, выручка на игру выше среднего.\n",
    "\n",
    "Платформеры также средняя выручка на игру выше среднего - но невелики продажи, маленький спрос, мало игр.\n",
    "\n",
    "Наибольшая сумма продаж среди всех жанров - это категория \"Экшн\". Однако в этой же категории и больше всего наименований, поэтому продажи на игру - не выдающиеся.\n",
    "\n",
    "Наименее интересны для продаж приключенческие игры - их много, выручки мало. И пазлы со стратегиями - их чрезвычайно мало, и выручки мало."
   ]
  },
  {
   "cell_type": "code",
   "execution_count": 30,
   "id": "c213f103",
   "metadata": {},
   "outputs": [
    {
     "data": {
      "image/png": "[encoded data removed]",
      "text/plain": [
       "<Figure size 864x432 with 1 Axes>"
      ]
     },
     "metadata": {
      "needs_background": "light"
     },
     "output_type": "display_data"
    }
   ],
   "source": [
    "plt.figure(figsize=FIGSIZE)\n",
    "sns.boxplot(\n",
    "    x='genre', y='weighted_sales', showmeans=True, data=actual_games\n",
    ").set_yscale(\"log\"); plt.show()"
   ]
  },
  {
   "cell_type": "markdown",
   "id": "80ac3355",
   "metadata": {},
   "source": [
    "Наиболее кассовые игры выпускаются в жанре шутеров. Сильнее других также выглядят спортивные игры и платформеры.\n",
    "\n",
    "Далее можно рассматривать ролевые, гоночные и файтинги."
   ]
  },
  {
   "cell_type": "markdown",
   "id": "ef83edd8",
   "metadata": {},
   "source": [
    "#### Влияние отзывов\n",
    "\n",
    "Посмотрим на влияние отзывов на актуальные продажи.\n",
    "\n",
    "\n",
    "\n",
    "Посмотрите, как влияют на продажи внутри одной популярной платформы отзывы пользователей и критиков. Постройте диаграмму рассеяния и посчитайте корреляцию между отзывами и продажами. Сформулируйте выводы.\n",
    "\n",
    "Разделим игры на 4 категорий платформ: три ведущие, и остальные."
   ]
  },
  {
   "cell_type": "code",
   "execution_count": 31,
   "id": "6c75131b",
   "metadata": {
    "scrolled": false
   },
   "outputs": [
    {
     "name": "stdout",
     "output_type": "stream",
     "text": [
      "\n",
      "=======================PS4========================\n",
      "Sales correlation to user score is: -0.03195711020455645\n"
     ]
    },
    {
     "data": {
      "image/png": "[encoded data removed]",
      "text/plain": [
       "<Figure size 864x432 with 1 Axes>"
      ]
     },
     "metadata": {
      "needs_background": "light"
     },
     "output_type": "display_data"
    },
    {
     "name": "stdout",
     "output_type": "stream",
     "text": [
      "Sales correlation to critic score is: 0.406567902061781\n"
     ]
    },
    {
     "data": {
      "image/png": "[encoded data removed]",
      "text/plain": [
       "<Figure size 864x432 with 1 Axes>"
      ]
     },
     "metadata": {
      "needs_background": "light"
     },
     "output_type": "display_data"
    },
    {
     "name": "stdout",
     "output_type": "stream",
     "text": [
      "\n",
      "=======================XONE=======================\n",
      "Sales correlation to user score is: -0.06892505328279412\n"
     ]
    },
    {
     "data": {
      "image/png": "[encoded data removed]",
      "text/plain": [
       "<Figure size 864x432 with 1 Axes>"
      ]
     },
     "metadata": {
      "needs_background": "light"
     },
     "output_type": "display_data"
    },
    {
     "name": "stdout",
     "output_type": "stream",
     "text": [
      "Sales correlation to critic score is: 0.41699832800840186\n"
     ]
    },
    {
     "data": {
      "image/png": "[encoded data removed]",
      "text/plain": [
       "<Figure size 864x432 with 1 Axes>"
      ]
     },
     "metadata": {
      "needs_background": "light"
     },
     "output_type": "display_data"
    },
    {
     "name": "stdout",
     "output_type": "stream",
     "text": [
      "\n",
      "=======================WIIU=======================\n",
      "Sales correlation to user score is: 0.4002190202148617\n"
     ]
    },
    {
     "data": {
      "image/png": "[encoded data removed]",
      "text/plain": [
       "<Figure size 864x432 with 1 Axes>"
      ]
     },
     "metadata": {
      "needs_background": "light"
     },
     "output_type": "display_data"
    },
    {
     "name": "stdout",
     "output_type": "stream",
     "text": [
      "Sales correlation to critic score is: 0.3483797601201749\n"
     ]
    },
    {
     "data": {
      "image/png": "[encoded data removed]",
      "text/plain": [
       "<Figure size 864x432 with 1 Axes>"
      ]
     },
     "metadata": {
      "needs_background": "light"
     },
     "output_type": "display_data"
    },
    {
     "name": "stdout",
     "output_type": "stream",
     "text": [
      "\n",
      "=================ALL ACTUAL GAMES=================\n",
      "Sales correlation to user score is: 0.004428817675493264\n"
     ]
    },
    {
     "data": {
      "image/png": "[encoded data removed]",
      "text/plain": [
       "<Figure size 864x432 with 1 Axes>"
      ]
     },
     "metadata": {
      "needs_background": "light"
     },
     "output_type": "display_data"
    },
    {
     "name": "stdout",
     "output_type": "stream",
     "text": [
      "Sales correlation to critic score is: 0.3483797601201749\n"
     ]
    },
    {
     "data": {
      "image/png": "[encoded data removed]",
      "text/plain": [
       "<Figure size 864x432 with 1 Axes>"
      ]
     },
     "metadata": {
      "needs_background": "light"
     },
     "output_type": "display_data"
    }
   ],
   "source": [
    "for platform in ['PS4', 'XOne', 'WiiU']:\n",
    "    df = actual_games[actual_games['platform'] == platform]\n",
    "    print(headline(platform))\n",
    "    print('Sales correlation to user score is:', df['total_sales'].corr(df['user_score']))\n",
    "    df.plot(kind='scatter', x='user_score', y='total_sales', figsize=FIGSIZE)\n",
    "    plt.show()\n",
    "    print('Sales correlation to critic score is:', df['total_sales'].corr(df['critic_score']))\n",
    "    df.plot(kind='scatter', x='critic_score', y='total_sales', figsize=FIGSIZE)\n",
    "    plt.show()    \n",
    "\n",
    "print(headline('all actual games'))\n",
    "print('Sales correlation to user score is:',\n",
    "      actual_games['total_sales'].corr(actual_games['user_score']))\n",
    "actual_games.plot(kind='scatter', x='user_score', y='total_sales', figsize=FIGSIZE)\n",
    "plt.show()\n",
    "print('Sales correlation to critic score is:',\n",
    "      actual_games['total_sales'].corr(df['critic_score']))\n",
    "actual_games.plot(kind='scatter', x='critic_score', y='total_sales', figsize=FIGSIZE)\n",
    "plt.show() "
   ]
  },
  {
   "cell_type": "markdown",
   "id": "e58e853d",
   "metadata": {},
   "source": [
    "По трём самым актуальным платформам, а также по общим данным за актуальное время, делаем такие выводы:\n",
    "- только рейтинг экспертов выше 90 гарантирет ощутимую прибыль от игры;\n",
    "- в целом, чем выше рейтинг экспертов, тем выше шансы собрать хорошую кассу;\n",
    "- при этом сборы гораздо меньше связаны с рейтингом пользователей:\n",
    "  - при рейтинге выше 4 баллов сборы выше, чем при рейтинге ниже 3 баллов;\n",
    "  - однако в диапазонах 0...3 балла и 4...10 баллов связи между ростом оценки и ростом сборов не заметно."
   ]
  },
  {
   "cell_type": "markdown",
   "id": "52d83e4c",
   "metadata": {},
   "source": [
    "### Итоги исследовательского анализа\n",
    "\n",
    "На момент среза данных:\n",
    "- Самые прибыльные платформы: PS4, Xbox One, WiiU.\n",
    "- Самые прибыльные жанры: шутер, спорт и RPG, также можно рассмотреть малочисленные, но выгодные платформеры.\n",
    "- Чем выше оценка экспертов - тем выше прибыль с продажи игры;\n",
    "- Оценка пользователей почти не влияет на продажи игры."
   ]
  },
  {
   "cell_type": "markdown",
   "id": "b1548e11",
   "metadata": {},
   "source": [
    "## Различия между регионами"
   ]
  },
  {
   "cell_type": "markdown",
   "id": "39b7d897",
   "metadata": {},
   "source": [
    "### 5 самых популярных платформ"
   ]
  },
  {
   "cell_type": "code",
   "execution_count": 32,
   "id": "742cc67c",
   "metadata": {},
   "outputs": [],
   "source": [
    "actual_games['weighted_na_sales'] = actual_games['na_sales'] * actual_games['weight']"
   ]
  },
  {
   "cell_type": "code",
   "execution_count": null,
   "id": "95c5cbc2",
   "metadata": {},
   "outputs": [],
   "source": [
    "\n",
    "  - [ ] Определите для пользователя каждого региона (NA, EU, JP):"
   ]
  },
  {
   "cell_type": "code",
   "execution_count": null,
   "id": "5398aae9",
   "metadata": {},
   "outputs": [],
   "source": [
    "\n",
    "  - [ ] Определите для пользователя каждого региона (NA, EU, JP):\n",
    "    - [ ] Самые популярные платформы (топ-5). Опишите различия в долях продаж.\n",
    "    - [ ] Самые популярные жанры (топ-5). Поясните разницу.\n",
    "    - [ ] Влияет ли рейтинг ESRB на продажи в отдельном регионе?"
   ]
  },
  {
   "cell_type": "markdown",
   "id": "a2f3a2ac",
   "metadata": {},
   "source": [
    "### Итоги анализа расходов\n",
    "\n",
    "- Первый;\n",
    "- Второй;\n",
    "- Третий."
   ]
  },
  {
   "cell_type": "markdown",
   "id": "be8b306b",
   "metadata": {},
   "source": [
    "## Гипотезы и проверки"
   ]
  },
  {
   "cell_type": "markdown",
   "id": "fa499034",
   "metadata": {},
   "source": [
    "### Итоги проверки гипотез\n",
    "\n",
    "- Первый;\n",
    "- Второй;\n",
    "- Третий."
   ]
  },
  {
   "cell_type": "markdown",
   "id": "d1a9526a",
   "metadata": {},
   "source": [
    "## Общие итоги\n",
    "\n",
    "- Исследовано:\n",
    "  - выборка пяти сотен пользователей из разных регионов, подключившихся в 2018 году;\n",
    "  - полная статистика их потребления звонков, коротких сообщений и интернет-трафика.\n",
    "- **Подтверждённые выводы:**\n",
    "  - Пользователь тарифа **\"Ultra\"** приносит **в среднем на 33% больше выручки**, чем пользователь тарифа \"Smart\".\n",
    "  - **Средняя выручка** с пользователя **в Москве не отличается** от средней выручки с пользователя в других регионах.\n",
    "- Также обнаружено, что:\n",
    "  - Пользователей тарифа \"Smart\" в 4 раза больше;\n",
    "  - Среди тех, кто потребляет много, популярней тариф \"Ultra\";\n",
    "  - В среднем пользователи \"Smart\" потребляют столько, сколько включено в базовый пакет;\n",
    "  - При относительно небольшом увеличении потребления их чек заметно вырастает;\n",
    "  - Если потребление превышает 100 звонков (или 750 минут), или 110 сообщений, или 25 ГБ в месяц - пользователи предпочитают тариф \"Ultra\";\n",
    "  - Пользователи \"Ultra\" потребляют только треть от базового пакета;\n",
    "  - И 85% из них платят только базовый платёж.\n",
    "- Предположения:\n",
    "  - Пользователи \"Smart\":\n",
    "    - сознательно ограничивают своё потребление;\n",
    "    - при повышении потребления переходят на гораздо более содержательный \"Ultra\".\n",
    "  - Пользователи \"Ultra\":\n",
    "    - при повышении потребления вдвое не станут платить вдвое больше."
   ]
  },
  {
   "cell_type": "markdown",
   "id": "824b1ae3",
   "metadata": {},
   "source": [
    "### Рекомендации\n",
    "\n",
    "**Описание**\n",
    "\n",
    "- пишем от лица \"мы\", употребляем подходящие времена\n",
    "- Пиши краткие промежуточные выводы.\n",
    "- Сделай общий вывод по итогам проекта в отдельном разделе.\n",
    "- Сохрани идеи и код, который помогает принимать промежуточные решения.\n",
    "- удали неработающий код\n",
    "- комментарии ставь перед кодом\n",
    "- вынеси комментарии в маркдаун\n",
    "- подробно описывай процесс, что и почему ты делаешь\n",
    "- за каждым пояснением - ячейка с кодом. Одна ячейка - один шаг\n",
    "- перед отправкой - перезапусти вессь проект, убедись, что все ячейки сработали верно\n",
    "\n",
    "**Вывод данных**\n",
    "- Каждому объекту данных (фрейм, график) - дай название, подпись, подпиши столбцы и оси.\n",
    "- Таблицы давай выборками, .head() и .tail()\n",
    "- таблицы выводи по display()  # from IPython.display import display\n",
    "\n",
    "**Итоги**\n",
    "- краткий обзор проведённой работы: что выполнили, рассчитали:\n",
    "- главные выводы: ответы на поставленные вопросы\n",
    "- рекомендации: как избежать неправильных данных, как отобрать признаки для прогнозирования в будущем"
   ]
  },
  {
   "cell_type": "markdown",
   "id": "d9785e08",
   "metadata": {},
   "source": [
    "На что обращают внимание при проверке проекта:\n",
    "- [ ] Как вы описываете выявленные в данных проблемы?\n",
    "- [ ] Как готовите датасет к анализу?\n",
    "- [ ] Какие строите графики для распределений и как их объясняете?\n",
    "- [ ] Как рассчитываете стандартное отклонение и дисперсию?\n",
    "- [ ] Формулируете ли альтернативную и нулевую гипотезы?\n",
    "- [ ] Какие методы применяете, чтобы их проверить?\n",
    "- [ ] Объясняете результат проверки гипотезы или нет?\n",
    "- [ ] Соблюдаете ли структуру проекта и поддерживаете аккуратность кода?\n",
    "- [ ] Какие выводы делаете?\n",
    "- [ ] Оставляете ли комментарии к шагам?"
   ]
  },
  {
   "cell_type": "code",
   "execution_count": null,
   "id": "c3961978",
   "metadata": {},
   "outputs": [],
   "source": []
  }
 ],
 "metadata": {
  "kernelspec": {
   "display_name": "Python 3 (ipykernel)",
   "language": "python",
   "name": "python3"
  },
  "language_info": {
   "codemirror_mode": {
    "name": "ipython",
    "version": 3
   },
   "file_extension": ".py",
   "mimetype": "text/x-python",
   "name": "python",
   "nbconvert_exporter": "python",
   "pygments_lexer": "ipython3",
   "version": "3.9.12"
  },
  "toc": {
   "base_numbering": 1,
   "nav_menu": {},
   "number_sections": true,
   "sideBar": true,
   "skip_h1_title": true,
   "title_cell": "Содержание",
   "title_sidebar": "Содержание",
   "toc_cell": true,
   "toc_position": {
    "height": "calc(100% - 180px)",
    "left": "10px",
    "top": "150px",
    "width": "258.797px"
   },
   "toc_section_display": true,
   "toc_window_display": true
  }
 },
 "nbformat": 4,
 "nbformat_minor": 5
}
