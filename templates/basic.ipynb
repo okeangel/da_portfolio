{
 "cells": [
  {
   "cell_type": "markdown",
   "metadata": {},
   "source": [
    "Работа с Jupyter Notebook\n",
    "=="
   ]
  },
  {
   "cell_type": "markdown",
   "metadata": {},
   "source": [
    "## Содержание\n",
    "1. [Чтение данных](#read_data1)\n",
    "2. [Анализ](#analysis)\n",
    "3. [Примеры работы с базовым функционалом](#examples)\n",
    "4. [Полезные ссылки](#additional_info)"
   ]
  },
  {
   "cell_type": "markdown",
   "metadata": {},
   "source": [
    "___"
   ]
  },
  {
   "cell_type": "code",
   "execution_count": null,
   "metadata": {},
   "outputs": [],
   "source": [
    "import pandas as pd\n",
    "import numpy as np\n",
    "\n",
    "# Для Linux / MacOS\n",
    "# import ssl\n",
    "# ssl._create_default_https_context = ssl._create_unverified_context"
   ]
  },
  {
   "cell_type": "markdown",
   "metadata": {},
   "source": [
    "## Чтение данных <a name=\"read_data1\"></a>"
   ]
  },
  {
   "cell_type": "markdown",
   "metadata": {},
   "source": [
    "<div class=\"alert alert-block alert-info\">\n",
    "<b>Tip:</b> Если вы запускаете Jupyter Notebook на локальном ПК, можно использовать блок `try...except`, чтобы при проверке вашего проекта в среде Яндекса, у ревьюера не возникала ошибка, если вы вдруг забыли изменить путь к файлу :) </div>"
   ]
  },
  {
   "cell_type": "code",
   "execution_count": null,
   "metadata": {},
   "outputs": [],
   "source": [
    "%%time\n",
    "try:\n",
    "    df = pd.read_csv('/datasets/data.csv') # Yandex path\n",
    "except:\n",
    "    df = pd.read_csv('data.csv') # personal path"
   ]
  },
  {
   "cell_type": "markdown",
   "metadata": {},
   "source": [
    "Также можно использовать непосредственно ссылку на датасет (нажать на название датасета правой кнопкой мыши и скопировать ссылку), однако подобное чтение файла занимает больше времени (можно сравнить результаты работы функции `%%time` в обоих вариантах чтения):"
   ]
  },
  {
   "cell_type": "code",
   "execution_count": null,
   "metadata": {},
   "outputs": [],
   "source": [
    "%%time\n",
    "df = pd.read_csv('https://code.s3.yandex.net/datasets/data.csv')"
   ]
  },
  {
   "cell_type": "code",
   "execution_count": null,
   "metadata": {},
   "outputs": [],
   "source": [
    "df"
   ]
  },
  {
   "cell_type": "markdown",
   "metadata": {},
   "source": [
    "## Анализ <a name=\"analysis\"></a>"
   ]
  },
  {
   "cell_type": "code",
   "execution_count": null,
   "metadata": {},
   "outputs": [],
   "source": [
    "df.info()"
   ]
  },
  {
   "cell_type": "markdown",
   "metadata": {},
   "source": [
    "Подсчет **количества** отсутствующих значений"
   ]
  },
  {
   "cell_type": "code",
   "execution_count": null,
   "metadata": {},
   "outputs": [],
   "source": [
    "df.isna().sum()"
   ]
  },
  {
   "cell_type": "markdown",
   "metadata": {},
   "source": [
    "Подсчет **доли** отсутствующих значений с округлением"
   ]
  },
  {
   "cell_type": "code",
   "execution_count": null,
   "metadata": {},
   "outputs": [],
   "source": [
    "round(df.isna().sum() * 100 / len(df), 2)"
   ]
  },
  {
   "cell_type": "markdown",
   "metadata": {},
   "source": [
    "Сводная информация по _параметрам_ данных"
   ]
  },
  {
   "cell_type": "code",
   "execution_count": null,
   "metadata": {},
   "outputs": [],
   "source": [
    "df.describe()"
   ]
  },
  {
   "cell_type": "markdown",
   "metadata": {},
   "source": [
    "____"
   ]
  },
  {
   "cell_type": "markdown",
   "metadata": {},
   "source": [
    "## Примеры работы с базовым функционалом <a name=\"examples\"></a>"
   ]
  },
  {
   "cell_type": "code",
   "execution_count": null,
   "metadata": {},
   "outputs": [],
   "source": [
    "# create sample data\n",
    "sample_data = {'col_1': [np.nan, 3, 2, 1, 0, np.nan, 4], \n",
    "               'col_2': ['a', 'b', 'c', 'd', 'e', 'f', np.nan]}\n",
    "\n",
    "sample_df = pd.DataFrame.from_dict(sample_data)\n",
    "sample_df"
   ]
  },
  {
   "cell_type": "code",
   "execution_count": null,
   "metadata": {},
   "outputs": [],
   "source": [
    "# Fill nans\n",
    "sample_df = sample_df.fillna(method='ffill') # forward fill\n",
    "\n",
    "sample_df = sample_df.fillna(method='bfill') # backward fill\n",
    "\n",
    "sample_df = sample_df['col_1'].fillna((sample_df['col_1'].mean())) # fill with mean (column)\n",
    "\n",
    "sample_df = sample_df.fillna(sample_df.mean()) # fill with mean\n",
    "\n",
    "sample_df = sample_df.fillna({\n",
    "    'col_1': 0.0,\n",
    "    'col_2': 'missing value'}) # clean up missing values in multiple DataFrame columns"
   ]
  },
  {
   "cell_type": "code",
   "execution_count": null,
   "metadata": {},
   "outputs": [],
   "source": [
    "# Drop nans\n",
    "sample_df.dropna(inplace=True) # rows\n",
    "\n",
    "sample_df = sample_df.dropna(axis=1) # columns\n",
    "\n",
    "sample_df = sample_df.dropna(axis='columns', how='all') # drop columns with all nans\n",
    "\n",
    "sample_df = sample_df.dropna(axis='rows', thresh=2) # minimum number of not nan values\n",
    "\n",
    "sample_df = sample_df.dropna(subset=['col_1', 'col_2']) # specified columns"
   ]
  },
  {
   "cell_type": "code",
   "execution_count": null,
   "metadata": {},
   "outputs": [],
   "source": [
    "def find_cat_and_num_cols(df):\n",
    "    # find categorical and numerical columns\n",
    "    \n",
    "    categorical_columns = [c for c in df.columns if df[c].dtype.name == 'object']\n",
    "    numerical_columns   = [c for c in df.columns if df[c].dtype.name != 'object']\n",
    "    \n",
    "    return categorical_columns, numerical_columns\n",
    "\n",
    "find_cat_and_num_cols(sample_df)"
   ]
  },
  {
   "cell_type": "code",
   "execution_count": null,
   "metadata": {},
   "outputs": [],
   "source": [
    "# Rename several DataFrame columns\n",
    "sample_df = sample_df.rename(columns = {\n",
    "    'col_1':'col1',\n",
    "    'col_2':'col2'\n",
    "})"
   ]
  },
  {
   "cell_type": "code",
   "execution_count": null,
   "metadata": {},
   "outputs": [],
   "source": [
    "# Lower-case all DataFrame column names\n",
    "sample_df.columns = sample_df.columns.str.lower()"
   ]
  },
  {
   "cell_type": "code",
   "execution_count": null,
   "metadata": {},
   "outputs": [],
   "source": [
    "# Lower-case column values\n",
    "sample_df = sample_df['col2'].str.lower()"
   ]
  },
  {
   "cell_type": "code",
   "execution_count": null,
   "metadata": {},
   "outputs": [],
   "source": [
    "# Replace multiple spaces in column\n",
    "sample_df['col2'] = sample_df['col2'].replace('\\s+', ' ', regex=True)"
   ]
  },
  {
   "cell_type": "code",
   "execution_count": null,
   "metadata": {},
   "outputs": [],
   "source": [
    "# Replace text values with their numeric equivalent by using replace\n",
    "cleanup_nums = {'num_1': {'four': 4, 'two': 2},\n",
    "                'num_2': {'four': 4, 'six': 6, 'five': 5, 'eight': 8,\n",
    "                                  'two': 2, 'twelve': 12, 'three': 3}}\n",
    "\n",
    "sample_df.replace(cleanup_nums, inplace=True)"
   ]
  },
  {
   "cell_type": "code",
   "execution_count": null,
   "metadata": {},
   "outputs": [],
   "source": [
    "# Concatenate two DataFrame columns into a new, single column\n",
    "sample_df['col3'] = sample_df['col_1'].map(str) + ' ' + sample_df['col_2'].map(str)"
   ]
  },
  {
   "cell_type": "code",
   "execution_count": null,
   "metadata": {},
   "outputs": [],
   "source": [
    "# Split DataFrame column into two columns by values\n",
    "sample_df[['col3_1', 'col3_2']] = sample_df['col3'].str.split(' ', expand=True)"
   ]
  },
  {
   "cell_type": "code",
   "execution_count": null,
   "metadata": {},
   "outputs": [],
   "source": [
    "# Sort dataframe by column\n",
    "sample_df.sort_values('col1', ascending=False, na_position='first') # NaN values will be first\n",
    "\n",
    "# Sort dataframe by multiple columns\n",
    "sample_df.sort_values(['col1', 'col2'], ascending=[True, False])"
   ]
  },
  {
   "cell_type": "code",
   "execution_count": null,
   "metadata": {},
   "outputs": [],
   "source": [
    "# Grab DataFrame rows where column has certain values\n",
    "values = ['a', 'b', 'c']\n",
    "sample_df[sample_df['col2'].isin(values)]\n",
    "\n",
    "# Grab DataFrame rows where column doesn't have certain values\n",
    "values = ['a', 'b', 'c']\n",
    "sample_df[~sample_df['col2'].isin(values)]"
   ]
  },
  {
   "cell_type": "code",
   "execution_count": null,
   "metadata": {},
   "outputs": [],
   "source": [
    "# Select from DataFrame using conditions for multiple columns\n",
    "# (`|` is for OR; use `&` instead of `|` for AND)\n",
    "new_df = sample_df[(sample_df['col_1'] >= 2) | (sample_df['col_2'] == 'c')]"
   ]
  },
  {
   "cell_type": "markdown",
   "metadata": {},
   "source": [
    "## Перенос длинных строк\n",
    "В соответствии с [PEP8](https://pythonworld.ru/osnovy/pep-8-rukovodstvo-po-napisaniyu-koda-na-python.html) длинной строкой считается срока, состоящая из более, чем **79 символов**\n",
    "\n",
    "**[Подробнее о переносах строк в Python](https://tirinox.ru/new-line/)**"
   ]
  },
  {
   "cell_type": "code",
   "execution_count": null,
   "metadata": {},
   "outputs": [],
   "source": [
    "print('This is a really long sentence,'\n",
    "      'but we can make it across multiple lines.')"
   ]
  },
  {
   "cell_type": "code",
   "execution_count": null,
   "metadata": {},
   "outputs": [],
   "source": [
    "# backslash (explicit line joining)\n",
    "a = '1' + '2' + '3' + \\\n",
    "    '4' + '5'"
   ]
  },
  {
   "cell_type": "code",
   "execution_count": null,
   "metadata": {},
   "outputs": [],
   "source": [
    "# using parentheses (implicit line joining) \n",
    "a = ('1' + '2' + '3' +\n",
    "    '4' + '5')"
   ]
  },
  {
   "cell_type": "code",
   "execution_count": null,
   "metadata": {},
   "outputs": [],
   "source": [
    "# using parentheses (implicit line joining)\n",
    "a = True\n",
    "b = False\n",
    "\n",
    "if (a == True and\n",
    "    b == False):\n",
    "    # do smth"
   ]
  },
  {
   "cell_type": "code",
   "execution_count": null,
   "metadata": {},
   "outputs": [],
   "source": [
    "# backslash (explicit line joining)\n",
    "if a == True and \\ \n",
    "    b == False:\n",
    "    # do smth"
   ]
  },
  {
   "cell_type": "markdown",
   "metadata": {},
   "source": [
    "## Полезные ссылки <a name=\"additional_info\"></a>\n",
    "- [Как использовать JN на 100% (видео)](https://www.youtube.com/watch?v=q4d-hKCpTEc)\n",
    "- [Cheat Sheet JN](https://www.edureka.co/blog/wp-content/uploads/2018/10/Jupyter_Notebook_CheatSheet_Edureka.pdf)\n",
    "- [Cheat Sheet Python](https://perso.limsi.fr/pointal/_media/python:cours:mementopython3-english.pdf)\n",
    "- [Cheat Sheet Pandas](https://pandas.pydata.org/Pandas_Cheat_Sheet.pdf)\n",
    "- [Style Guide for Python Code](https://www.python.org/dev/peps/pep-0008/) \n",
    "- [Руководство по написанию кода на Python](https://pythonworld.ru/osnovy/pep-8-rukovodstvo-po-napisaniyu-koda-na-python.html)\n",
    "- <code style=\"background:yellow;color:black\">[The Ultimate Markdown Guide for Jupyter Notebook](https://medium.com/analytics-vidhya/the-ultimate-markdown-guide-for-jupyter-notebook-d5e5abf728fd)</code>"
   ]
  }
 ],
 "metadata": {
  "kernelspec": {
   "display_name": "Python 3 (ipykernel)",
   "language": "python",
   "name": "python3"
  },
  "language_info": {
   "codemirror_mode": {
    "name": "ipython",
    "version": 3
   },
   "file_extension": ".py",
   "mimetype": "text/x-python",
   "name": "python",
   "nbconvert_exporter": "python",
   "pygments_lexer": "ipython3",
   "version": "3.10.4"
  }
 },
 "nbformat": 4,
 "nbformat_minor": 2
}
