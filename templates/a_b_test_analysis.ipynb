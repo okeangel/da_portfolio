{
 "cells": [
  {
   "cell_type": "markdown",
   "id": "c8abb197",
   "metadata": {},
   "source": [
    "# Пример анализа результатов A/B-теста"
   ]
  },
  {
   "cell_type": "code",
   "execution_count": 1,
   "id": "5af1e495",
   "metadata": {},
   "outputs": [],
   "source": [
    "%matplotlib inline\n",
    "\n",
    "import datetime\n",
    "import re\n",
    "\n",
    "import pandas as pd\n",
    "import numpy as np\n",
    "import scipy.stats as st\n",
    "import matplotlib.pyplot as plt\n",
    "import seaborn as sns"
   ]
  },
  {
   "cell_type": "code",
   "execution_count": 2,
   "id": "d2893c35",
   "metadata": {},
   "outputs": [],
   "source": [
    "def load(tablename, ext='csv'):\n",
    "    \"\"\"Load a table from file\n",
    "    \"\"\"\n",
    "    filename = tablename + '.' + ext\n",
    "    try:\n",
    "        df = pd.read_csv(filename)\n",
    "    except FileNotFoundError:\n",
    "        df = pd.read_csv('https://code.s3.yandex.net/datasets/' + filename)\n",
    "    correct_column_names(df)  #  переводит в snake_case\n",
    "    survey(df)  # даёт обзор возможных проблем с таблицей\n",
    "    return df"
   ]
  },
  {
   "cell_type": "code",
   "execution_count": 3,
   "id": "f3c434cb",
   "metadata": {},
   "outputs": [],
   "source": [
    "def survey(data):\n",
    "    \"\"\"Display summaries to detect data problems\n",
    "    \"\"\"\n",
    "    display(data.sample(5))\n",
    "    print(f'Полностью совпадающих строк: {data.duplicated().sum()}\\n')\n",
    "    data.info()\n",
    "    display(get_nans(data))\n",
    "    print(get_filled_rows_share(data))"
   ]
  },
  {
   "cell_type": "code",
   "execution_count": 4,
   "id": "40ceab3b",
   "metadata": {},
   "outputs": [],
   "source": [
    "def get_nans(data):\n",
    "    nans = []\n",
    "    for column in data.columns:\n",
    "        missing = data[column].isna().sum()  # Подсчет количества отсутствующих значений\n",
    "        part = round(missing * 100 / len(data), 2) # Подсчет доли отсутствующих значений\n",
    "        uniques = data[column].sort_values().nunique()\n",
    "        nans.append([column, missing, part, uniques])\n",
    "\n",
    "    return pd.DataFrame(\n",
    "        data=nans, columns=['column', 'na_count', 'na_%', 'unique_count']\n",
    "    ).sort_values(['na_count', 'unique_count'], ascending=False).set_index('column')"
   ]
  },
  {
   "cell_type": "code",
   "execution_count": 5,
   "id": "f1ea7cdb",
   "metadata": {},
   "outputs": [],
   "source": [
    "def get_filled_rows_share(df):\n",
    "    share = 1 - df.isna().any(axis=1).sum() / len(df)\n",
    "    return f'Заполненных строк без пропусков: {share:.02%}'"
   ]
  },
  {
   "cell_type": "code",
   "execution_count": 6,
   "id": "2c83d6fc",
   "metadata": {},
   "outputs": [],
   "source": [
    "def correct_column_names(df):\n",
    "    df.columns = df.columns.str.strip()\n",
    "    # df.columns = df.columns.str.lower()\n",
    "    # df.columns = df.columns.str.replace(' ', '_')\n",
    "\n",
    "def to_snake_case(name):\n",
    "    name = re.sub('(.)([A-Z][a-z]+)', r'\\1_\\2', name)\n",
    "    name = re.sub('__([A-Z])', r'_\\1', name)\n",
    "    name = re.sub('([a-z0-9])([A-Z])', r'\\1_\\2', name)\n",
    "    return name.lower()"
   ]
  },
  {
   "cell_type": "code",
   "execution_count": 7,
   "id": "b57b26f5",
   "metadata": {},
   "outputs": [
    {
     "name": "stdout",
     "output_type": "stream",
     "text": [
      "True\n"
     ]
    }
   ],
   "source": [
    "date_pattern = (\n",
    "    '^(?:\\\\d{4})-(?:\\\\d{2})-(?:\\\\d{2})'  # date\n",
    "    '[ T](?:\\\\d{2}):(?:\\\\d{2}):(?:\\\\d{2}(?:\\\\.\\\\d*)?)'  # time\n",
    "    '(?:(?:-(?:\\\\d{2}):(?:\\\\d{2})|Z)?)$'  # timezone\n",
    ")\n",
    "\n",
    "print(re.match(date_pattern, '2021-11-04 11:11:11') is not None)\n",
    "\n",
    "# visits['session_start'] = pd.to_datetime(visits['session_start'])\n",
    "# visits['session_end'] = pd.to_datetime(visits['session_start'])"
   ]
  },
  {
   "cell_type": "code",
   "execution_count": null,
   "id": "a416aea7",
   "metadata": {},
   "outputs": [],
   "source": []
  },
  {
   "cell_type": "code",
   "execution_count": 8,
   "id": "25832139",
   "metadata": {},
   "outputs": [
    {
     "data": {
      "text/html": [
       "<div>\n",
       "<style scoped>\n",
       "    .dataframe tbody tr th:only-of-type {\n",
       "        vertical-align: middle;\n",
       "    }\n",
       "\n",
       "    .dataframe tbody tr th {\n",
       "        vertical-align: top;\n",
       "    }\n",
       "\n",
       "    .dataframe thead th {\n",
       "        text-align: right;\n",
       "    }\n",
       "</style>\n",
       "<table border=\"1\" class=\"dataframe\">\n",
       "  <thead>\n",
       "    <tr style=\"text-align: right;\">\n",
       "      <th></th>\n",
       "      <th>date</th>\n",
       "      <th>group</th>\n",
       "      <th>visitors</th>\n",
       "      <th>orders</th>\n",
       "    </tr>\n",
       "  </thead>\n",
       "  <tbody>\n",
       "    <tr>\n",
       "      <th>22</th>\n",
       "      <td>1/23/2019</td>\n",
       "      <td>A</td>\n",
       "      <td>1026</td>\n",
       "      <td>11</td>\n",
       "    </tr>\n",
       "    <tr>\n",
       "      <th>23</th>\n",
       "      <td>1/24/2019</td>\n",
       "      <td>A</td>\n",
       "      <td>1042</td>\n",
       "      <td>16</td>\n",
       "    </tr>\n",
       "    <tr>\n",
       "      <th>45</th>\n",
       "      <td>1/15/2019</td>\n",
       "      <td>B</td>\n",
       "      <td>1040</td>\n",
       "      <td>14</td>\n",
       "    </tr>\n",
       "    <tr>\n",
       "      <th>46</th>\n",
       "      <td>1/16/2019</td>\n",
       "      <td>B</td>\n",
       "      <td>957</td>\n",
       "      <td>12</td>\n",
       "    </tr>\n",
       "    <tr>\n",
       "      <th>3</th>\n",
       "      <td>1/4/2019</td>\n",
       "      <td>A</td>\n",
       "      <td>1006</td>\n",
       "      <td>12</td>\n",
       "    </tr>\n",
       "  </tbody>\n",
       "</table>\n",
       "</div>"
      ],
      "text/plain": [
       "         date group  visitors  orders\n",
       "22  1/23/2019     A      1026      11\n",
       "23  1/24/2019     A      1042      16\n",
       "45  1/15/2019     B      1040      14\n",
       "46  1/16/2019     B       957      12\n",
       "3    1/4/2019     A      1006      12"
      ]
     },
     "metadata": {},
     "output_type": "display_data"
    },
    {
     "name": "stdout",
     "output_type": "stream",
     "text": [
      "Полностью совпадающих строк: 0\n",
      "\n",
      "<class 'pandas.core.frame.DataFrame'>\n",
      "RangeIndex: 62 entries, 0 to 61\n",
      "Data columns (total 4 columns):\n",
      " #   Column    Non-Null Count  Dtype \n",
      "---  ------    --------------  ----- \n",
      " 0   date      62 non-null     object\n",
      " 1   group     62 non-null     object\n",
      " 2   visitors  62 non-null     int64 \n",
      " 3   orders    62 non-null     int64 \n",
      "dtypes: int64(2), object(2)\n",
      "memory usage: 2.1+ KB\n"
     ]
    },
    {
     "data": {
      "text/html": [
       "<div>\n",
       "<style scoped>\n",
       "    .dataframe tbody tr th:only-of-type {\n",
       "        vertical-align: middle;\n",
       "    }\n",
       "\n",
       "    .dataframe tbody tr th {\n",
       "        vertical-align: top;\n",
       "    }\n",
       "\n",
       "    .dataframe thead th {\n",
       "        text-align: right;\n",
       "    }\n",
       "</style>\n",
       "<table border=\"1\" class=\"dataframe\">\n",
       "  <thead>\n",
       "    <tr style=\"text-align: right;\">\n",
       "      <th></th>\n",
       "      <th>na_count</th>\n",
       "      <th>na_%</th>\n",
       "      <th>unique_count</th>\n",
       "    </tr>\n",
       "    <tr>\n",
       "      <th>column</th>\n",
       "      <th></th>\n",
       "      <th></th>\n",
       "      <th></th>\n",
       "    </tr>\n",
       "  </thead>\n",
       "  <tbody>\n",
       "    <tr>\n",
       "      <th>visitors</th>\n",
       "      <td>0</td>\n",
       "      <td>0.0</td>\n",
       "      <td>44</td>\n",
       "    </tr>\n",
       "    <tr>\n",
       "      <th>date</th>\n",
       "      <td>0</td>\n",
       "      <td>0.0</td>\n",
       "      <td>31</td>\n",
       "    </tr>\n",
       "    <tr>\n",
       "      <th>orders</th>\n",
       "      <td>0</td>\n",
       "      <td>0.0</td>\n",
       "      <td>7</td>\n",
       "    </tr>\n",
       "    <tr>\n",
       "      <th>group</th>\n",
       "      <td>0</td>\n",
       "      <td>0.0</td>\n",
       "      <td>2</td>\n",
       "    </tr>\n",
       "  </tbody>\n",
       "</table>\n",
       "</div>"
      ],
      "text/plain": [
       "          na_count  na_%  unique_count\n",
       "column                                \n",
       "visitors         0   0.0            44\n",
       "date             0   0.0            31\n",
       "orders           0   0.0             7\n",
       "group            0   0.0             2"
      ]
     },
     "metadata": {},
     "output_type": "display_data"
    },
    {
     "name": "stdout",
     "output_type": "stream",
     "text": [
      "Заполненных строк без пропусков: 100.00%\n"
     ]
    }
   ],
   "source": [
    "data = load('lesson_data_3-3')"
   ]
  },
  {
   "cell_type": "code",
   "execution_count": 9,
   "id": "abfb641d",
   "metadata": {},
   "outputs": [],
   "source": [
    "data_new = (\n",
    "    data.groupby('group', as_index=False)\n",
    "    .agg({'visitors': 'sum', 'orders': 'sum'})\n",
    ")"
   ]
  },
  {
   "cell_type": "code",
   "execution_count": 10,
   "id": "56757770",
   "metadata": {},
   "outputs": [
    {
     "data": {
      "text/html": [
       "<div>\n",
       "<style scoped>\n",
       "    .dataframe tbody tr th:only-of-type {\n",
       "        vertical-align: middle;\n",
       "    }\n",
       "\n",
       "    .dataframe tbody tr th {\n",
       "        vertical-align: top;\n",
       "    }\n",
       "\n",
       "    .dataframe thead th {\n",
       "        text-align: right;\n",
       "    }\n",
       "</style>\n",
       "<table border=\"1\" class=\"dataframe\">\n",
       "  <thead>\n",
       "    <tr style=\"text-align: right;\">\n",
       "      <th></th>\n",
       "      <th>group</th>\n",
       "      <th>visitors</th>\n",
       "      <th>orders</th>\n",
       "    </tr>\n",
       "  </thead>\n",
       "  <tbody>\n",
       "    <tr>\n",
       "      <th>0</th>\n",
       "      <td>A</td>\n",
       "      <td>30996</td>\n",
       "      <td>385</td>\n",
       "    </tr>\n",
       "    <tr>\n",
       "      <th>1</th>\n",
       "      <td>B</td>\n",
       "      <td>31105</td>\n",
       "      <td>419</td>\n",
       "    </tr>\n",
       "  </tbody>\n",
       "</table>\n",
       "</div>"
      ],
      "text/plain": [
       "  group  visitors  orders\n",
       "0     A     30996     385\n",
       "1     B     31105     419"
      ]
     },
     "execution_count": 10,
     "metadata": {},
     "output_type": "execute_result"
    }
   ],
   "source": [
    "data_new"
   ]
  },
  {
   "cell_type": "code",
   "execution_count": 11,
   "id": "04dcdbfe",
   "metadata": {},
   "outputs": [],
   "source": [
    "data_new['orders_to_visitors_ratio'] = data['orders'] * 100 / data['visitors']"
   ]
  },
  {
   "cell_type": "code",
   "execution_count": 12,
   "id": "bc51a161",
   "metadata": {},
   "outputs": [
    {
     "data": {
      "text/html": [
       "<div>\n",
       "<style scoped>\n",
       "    .dataframe tbody tr th:only-of-type {\n",
       "        vertical-align: middle;\n",
       "    }\n",
       "\n",
       "    .dataframe tbody tr th {\n",
       "        vertical-align: top;\n",
       "    }\n",
       "\n",
       "    .dataframe thead th {\n",
       "        text-align: right;\n",
       "    }\n",
       "</style>\n",
       "<table border=\"1\" class=\"dataframe\">\n",
       "  <thead>\n",
       "    <tr style=\"text-align: right;\">\n",
       "      <th></th>\n",
       "      <th>group</th>\n",
       "      <th>visitors</th>\n",
       "      <th>orders</th>\n",
       "      <th>orders_to_visitors_ratio</th>\n",
       "    </tr>\n",
       "  </thead>\n",
       "  <tbody>\n",
       "    <tr>\n",
       "      <th>0</th>\n",
       "      <td>A</td>\n",
       "      <td>30996</td>\n",
       "      <td>385</td>\n",
       "      <td>0.987167</td>\n",
       "    </tr>\n",
       "    <tr>\n",
       "      <th>1</th>\n",
       "      <td>B</td>\n",
       "      <td>31105</td>\n",
       "      <td>419</td>\n",
       "      <td>1.341589</td>\n",
       "    </tr>\n",
       "  </tbody>\n",
       "</table>\n",
       "</div>"
      ],
      "text/plain": [
       "  group  visitors  orders  orders_to_visitors_ratio\n",
       "0     A     30996     385                  0.987167\n",
       "1     B     31105     419                  1.341589"
      ]
     },
     "execution_count": 12,
     "metadata": {},
     "output_type": "execute_result"
    }
   ],
   "source": [
    "data_new"
   ]
  },
  {
   "cell_type": "markdown",
   "id": "92ca9451",
   "metadata": {},
   "source": [
    "Видим, что количестов заказов на пользователя во втором случае значимо больше, чем в первом."
   ]
  },
  {
   "cell_type": "code",
   "execution_count": null,
   "id": "733bd6d8",
   "metadata": {},
   "outputs": [],
   "source": []
  }
 ],
 "metadata": {
  "kernelspec": {
   "display_name": "Python 3 (ipykernel)",
   "language": "python",
   "name": "python3"
  },
  "language_info": {
   "codemirror_mode": {
    "name": "ipython",
    "version": 3
   },
   "file_extension": ".py",
   "mimetype": "text/x-python",
   "name": "python",
   "nbconvert_exporter": "python",
   "pygments_lexer": "ipython3",
   "version": "3.10.6"
  },
  "toc": {
   "base_numbering": 1,
   "nav_menu": {},
   "number_sections": true,
   "sideBar": true,
   "skip_h1_title": true,
   "title_cell": "Содержание",
   "title_sidebar": "Содержание",
   "toc_cell": false,
   "toc_position": {},
   "toc_section_display": true,
   "toc_window_display": false
  }
 },
 "nbformat": 4,
 "nbformat_minor": 5
}
