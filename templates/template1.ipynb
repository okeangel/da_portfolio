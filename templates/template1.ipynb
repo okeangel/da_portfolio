{
 "cells": [
  {
   "cell_type": "markdown",
   "id": "f33c8558",
   "metadata": {},
   "source": [
    "#### Рекомендации\n",
    "##### Описание\n",
    "- пишем от лица \"мы\", употребляем подходящие времена\n",
    "- Пиши краткие промежуточные выводы.\n",
    "- Сделай общий вывод по итогам проекта в отдельном разделе.\n",
    "- Сохрани идеи и код, который помогает принимать промежуточные решения.\n",
    "- удали неработающий код\n",
    "- комментарии ставь перед кодом\n",
    "- вынеси комментарии в маркдаун\n",
    "- подробно описывай процесс, что и почему ты делаешь\n",
    "- за каждым пояснением - ячейка с кодом. Одна ячейка - один шаг\n",
    "- перед отправкой - перезапусти вессь проект, убедись, что все ячейки сработали верно\n",
    "\n",
    "##### Вывод данных\n",
    "- Каждому объекту данных (фрейм, график) - дай название, подпись, подпиши столбцы и оси.\n",
    "- Таблицы давай выборками, .head() и .tail()\n",
    "- таблицы выводи по display()  # from IPython.display import display\n",
    "\n",
    "##### Итоги\n",
    "- краткий обзор проведённой работы: что выполнили, рассчитали:\n",
    "- главные выводы: ответы на постаавленные воппросы\n",
    "- рекомендации: как избежать неправильных данных, как отобрать признаки для прогнозирования в будущем\n"
   ]
  },
  {
   "cell_type": "markdown",
   "id": "fa985b42",
   "metadata": {},
   "source": [
    "# Исследование надежности заёмщиков."
   ]
  },
  {
   "cell_type": "markdown",
   "id": "2edbd71a",
   "metadata": {
    "toc": true
   },
   "source": [
    "<h1>Содержание<span class=\"tocSkip\"></span></h1>\n",
    "<div class=\"toc\"><ul class=\"toc-item\"><li><ul class=\"toc-item\"><li><ul class=\"toc-item\"><li><span><a href=\"#Рекомендации\" data-toc-modified-id=\"Рекомендации-0.0.1\"><span class=\"toc-item-num\">0.0.1&nbsp;&nbsp;</span>Рекомендации</a></span><ul class=\"toc-item\"><li><span><a href=\"#Описание\" data-toc-modified-id=\"Описание-0.0.1.1\"><span class=\"toc-item-num\">0.0.1.1&nbsp;&nbsp;</span>Описание</a></span></li><li><span><a href=\"#Вывод-данных\" data-toc-modified-id=\"Вывод-данных-0.0.1.2\"><span class=\"toc-item-num\">0.0.1.2&nbsp;&nbsp;</span>Вывод данных</a></span></li><li><span><a href=\"#Итоги\" data-toc-modified-id=\"Итоги-0.0.1.3\"><span class=\"toc-item-num\">0.0.1.3&nbsp;&nbsp;</span>Итоги</a></span></li></ul></li></ul></li></ul></li><li><span><a href=\"#Описание-проекта\" data-toc-modified-id=\"Описание-проекта-1\"><span class=\"toc-item-num\">1&nbsp;&nbsp;</span>Описание проекта</a></span><ul class=\"toc-item\"><li><span><a href=\"#Задача\" data-toc-modified-id=\"Задача-1.1\"><span class=\"toc-item-num\">1.1&nbsp;&nbsp;</span>Задача</a></span></li><li><span><a href=\"#Инструменты\" data-toc-modified-id=\"Инструменты-1.2\"><span class=\"toc-item-num\">1.2&nbsp;&nbsp;</span>Инструменты</a></span></li><li><span><a href=\"#План-работы\" data-toc-modified-id=\"План-работы-1.3\"><span class=\"toc-item-num\">1.3&nbsp;&nbsp;</span>План работы</a></span></li></ul></li><li><span><a href=\"#Обзор-данных.-\" data-toc-modified-id=\"Обзор-данных.--2\"><span class=\"toc-item-num\">2&nbsp;&nbsp;</span>Обзор данных. <a id=\"review\" rel=\"nofollow\"></a></a></span><ul class=\"toc-item\"><li><span><a href=\"#Итоги-обзора\" data-toc-modified-id=\"Итоги-обзора-2.1\"><span class=\"toc-item-num\">2.1&nbsp;&nbsp;</span>Итоги обзора</a></span></li></ul></li><li><span><a href=\"#Исправление-данных\" data-toc-modified-id=\"Исправление-данных-3\"><span class=\"toc-item-num\">3&nbsp;&nbsp;</span>Исправление данных</a></span><ul class=\"toc-item\"><li><span><a href=\"#Исправление-аномалий.-\" data-toc-modified-id=\"Исправление-аномалий.--3.1\"><span class=\"toc-item-num\">3.1&nbsp;&nbsp;</span>Исправление аномалий. <a id=\"check_for_anomalies\" rel=\"nofollow\"></a></a></span><ul class=\"toc-item\"><li><span><a href=\"#Аномалии-в--children\" data-toc-modified-id=\"Аномалии-в--children-3.1.1\"><span class=\"toc-item-num\">3.1.1&nbsp;&nbsp;</span>Аномалии в  <code>children</code></a></span></li><li><span><a href=\"#Аномалии-в--age\" data-toc-modified-id=\"Аномалии-в--age-3.1.2\"><span class=\"toc-item-num\">3.1.2&nbsp;&nbsp;</span>Аномалии в  <code>age</code></a></span></li><li><span><a href=\"#Аномалии-в-gender\" data-toc-modified-id=\"Аномалии-в-gender-3.1.3\"><span class=\"toc-item-num\">3.1.3&nbsp;&nbsp;</span>Аномалии в <code>gender</code></a></span></li><li><span><a href=\"#Анализ-аномалий-в-days_employed\" data-toc-modified-id=\"Анализ-аномалий-в-days_employed-3.1.4\"><span class=\"toc-item-num\">3.1.4&nbsp;&nbsp;</span>Анализ аномалий в <code>days_employed</code></a></span></li><li><span><a href=\"#Исправление-аномалий-в-days_employed\" data-toc-modified-id=\"Исправление-аномалий-в-days_employed-3.1.5\"><span class=\"toc-item-num\">3.1.5&nbsp;&nbsp;</span>Исправление аномалий в <code>days_employed</code></a></span></li></ul></li><li><span><a href=\"#Заполнение-пропусков.-\" data-toc-modified-id=\"Заполнение-пропусков.--3.2\"><span class=\"toc-item-num\">3.2&nbsp;&nbsp;</span>Заполнение пропусков. <a id=\"fillna\" rel=\"nofollow\"></a></a></span></li><li><span><a href=\"#Исправление-типов-данных.-\" data-toc-modified-id=\"Исправление-типов-данных.--3.3\"><span class=\"toc-item-num\">3.3&nbsp;&nbsp;</span>Исправление типов данных. <a id=\"change_data_types\" rel=\"nofollow\"></a></a></span></li><li><span><a href=\"#Удаление-дубликатов.-\" data-toc-modified-id=\"Удаление-дубликатов.--3.4\"><span class=\"toc-item-num\">3.4&nbsp;&nbsp;</span>Удаление дубликатов. <a id=\"drop_duplicates\" rel=\"nofollow\"></a></a></span><ul class=\"toc-item\"><li><span><a href=\"#&quot;Неявные&quot;-дубликаты-значений\" data-toc-modified-id=\"&quot;Неявные&quot;-дубликаты-значений-3.4.1\"><span class=\"toc-item-num\">3.4.1&nbsp;&nbsp;</span>\"Неявные\" дубликаты значений</a></span><ul class=\"toc-item\"><li><span><a href=\"#Дубликаты-в-education\" data-toc-modified-id=\"Дубликаты-в-education-3.4.1.1\"><span class=\"toc-item-num\">3.4.1.1&nbsp;&nbsp;</span>Дубликаты в <code>education</code></a></span></li><li><span><a href=\"#Дубликаты-в-family_status\" data-toc-modified-id=\"Дубликаты-в-family_status-3.4.1.2\"><span class=\"toc-item-num\">3.4.1.2&nbsp;&nbsp;</span>Дубликаты в <code>family_status</code></a></span></li><li><span><a href=\"#Дубликаты-в-income_type\" data-toc-modified-id=\"Дубликаты-в-income_type-3.4.1.3\"><span class=\"toc-item-num\">3.4.1.3&nbsp;&nbsp;</span>Дубликаты в <code>income_type</code></a></span></li><li><span><a href=\"#Дубликаты-в-purpose\" data-toc-modified-id=\"Дубликаты-в-purpose-3.4.1.4\"><span class=\"toc-item-num\">3.4.1.4&nbsp;&nbsp;</span>Дубликаты в <code>purpose</code></a></span></li><li><span><a href=\"#Итоги-по-неявным-дубликатам\" data-toc-modified-id=\"Итоги-по-неявным-дубликатам-3.4.1.5\"><span class=\"toc-item-num\">3.4.1.5&nbsp;&nbsp;</span>Итоги по неявным дубликатам</a></span></li></ul></li><li><span><a href=\"#Полные-дубликаты-строк\" data-toc-modified-id=\"Полные-дубликаты-строк-3.4.2\"><span class=\"toc-item-num\">3.4.2&nbsp;&nbsp;</span>Полные дубликаты строк</a></span></li></ul></li></ul></li><li><span><a href=\"#Обработка-данных\" data-toc-modified-id=\"Обработка-данных-4\"><span class=\"toc-item-num\">4&nbsp;&nbsp;</span>Обработка данных</a></span><ul class=\"toc-item\"><li><span><a href=\"#Формирование-дополнительных-датафреймов-словарей,-декомпозиция-исходного-датафрейма.-\" data-toc-modified-id=\"Формирование-дополнительных-датафреймов-словарей,-декомпозиция-исходного-датафрейма.--4.1\"><span class=\"toc-item-num\">4.1&nbsp;&nbsp;</span>Формирование дополнительных датафреймов словарей, декомпозиция исходного датафрейма. <a id=\"decompose_data\" rel=\"nofollow\"></a></a></span><ul class=\"toc-item\"><li><span><a href=\"#Создание-датафрейма-education\" data-toc-modified-id=\"Создание-датафрейма-education-4.1.1\"><span class=\"toc-item-num\">4.1.1&nbsp;&nbsp;</span>Создание датафрейма <code>education</code></a></span></li><li><span><a href=\"#Поле-family_status_id\" data-toc-modified-id=\"Поле-family_status_id-4.1.2\"><span class=\"toc-item-num\">4.1.2&nbsp;&nbsp;</span>Поле <code>family_status_id</code></a></span></li></ul></li><li><span><a href=\"#Категории-дохода.-\" data-toc-modified-id=\"Категории-дохода.--4.2\"><span class=\"toc-item-num\">4.2&nbsp;&nbsp;</span>Категории дохода. <a id=\"income_categories\" rel=\"nofollow\"></a></a></span></li><li><span><a href=\"#Категории-целей-кредита.-\" data-toc-modified-id=\"Категории-целей-кредита.--4.3\"><span class=\"toc-item-num\">4.3&nbsp;&nbsp;</span>Категории целей кредита. <a id=\"purpose_categories\" rel=\"nofollow\"></a></a></span></li></ul></li><li><span><a href=\"#Ответы-на-вопросы.-\" data-toc-modified-id=\"Ответы-на-вопросы.--5\"><span class=\"toc-item-num\">5&nbsp;&nbsp;</span>Ответы на вопросы. <a id=\"checking_for_anomalies\" rel=\"nofollow\"></a></a></span><ul class=\"toc-item\"><li><span><a href=\"#Вопрос-1:\" data-toc-modified-id=\"Вопрос-1:-5.1\"><span class=\"toc-item-num\">5.1&nbsp;&nbsp;</span>Вопрос 1:</a></span></li><li><span><a href=\"#Вывод-1:\" data-toc-modified-id=\"Вывод-1:-5.2\"><span class=\"toc-item-num\">5.2&nbsp;&nbsp;</span>Вывод 1:</a></span></li></ul></li><li><span><a href=\"#Общий-вывод:-\" data-toc-modified-id=\"Общий-вывод:--6\"><span class=\"toc-item-num\">6&nbsp;&nbsp;</span>Общий вывод: <a id=\"checking_for_anomalies\" rel=\"nofollow\"></a></a></span></li></ul></div>"
   ]
  },
  {
   "cell_type": "markdown",
   "id": "73c7e3dc",
   "metadata": {},
   "source": [
    "## Описание проекта"
   ]
  },
  {
   "cell_type": "markdown",
   "id": "e18c0511",
   "metadata": {},
   "source": [
    "### Задача\n",
    "Заказчик — кредитный отдел банка. Нужно разобраться, влияет ли семейное положение и количество детей клиента на факт погашения кредита в срок.\n",
    "\n",
    "Поставлены вопросы:\n",
    "- Есть ли зависимость между количеством детей и возвратом кредита в срок?\n",
    "- Есть ли зависимость между семейным положением и возвратом кредита в срок?\n",
    "- Есть ли зависимость между уровнем дохода и возвратом кредита в срок?\n",
    "- Как разные цели кредита влияют на его возврат в срок?\n",
    "\n",
    "Входные данные от банка:\n",
    "- статистика о платёжеспособности клиентов (файл `datasets/data.csv`).\n",
    "\n",
    "Результаты исследования будут учтены при построении модели кредитного скоринга — специальной системы, которая оценивает способность потенциального заёмщика вернуть кредит банку."
   ]
  },
  {
   "cell_type": "markdown",
   "id": "90b1e63c",
   "metadata": {},
   "source": [
    "### Инструменты\n",
    "Используем [Anaconda](https://www.anaconda.com/), окружение `ds_da_practicum_env.yml` \"для Mac OS\" (от 2022-03-23)."
   ]
  },
  {
   "cell_type": "markdown",
   "id": "86dd0f6e",
   "metadata": {},
   "source": [
    "### План работы\n",
    "- Знакомимся с данными;\n",
    "- Проверяем корректность данных, вносим исправления;\n",
    "  - Некорректные данные исследуем, ищем способ восстановить их корректное значение;\n",
    "  - Некорректные значения, которые не удалось привести в корректный вид - обрабатываем как пропущенные;\n",
    "    - Числовые значение, которые пропущенны или не поддаются коррекции - меняем на медианные значения;\n",
    "- Делим клиентов на категории;\n",
    "- Ищем взаимосвязи \"категория клиента - платёжеспособность клиента\";\n",
    "- Излагаем выводы.\n",
    "\n",
    "Почему невосстановимые значения заполняем медианой? Типичные случаи встречаются чаще нетипичных. Поэтому мы предполагаем, что пропущенное или испорченное значение вернее всего было типичным. Медиана хорошо характеризует типичный случай. Если из набора случаев взять произвольный случай - он чаще будет похож на медианный, а не на средний или какой-либой иной. Поэтому, заменяя некорректные величины на медианные, мы чаще оказываемся близки к реальным данным, чем если бы выбрали другую единую величину (среднюю, нуль или иную)."
   ]
  },
  {
   "cell_type": "markdown",
   "id": "b3aea973",
   "metadata": {},
   "source": [
    "## Обзор данных. <a id=\"review\"></a>"
   ]
  },
  {
   "cell_type": "markdown",
   "id": "1f3c5265",
   "metadata": {},
   "source": [
    "Импортируем инструменты."
   ]
  },
  {
   "cell_type": "code",
   "execution_count": 1,
   "id": "cb895975",
   "metadata": {},
   "outputs": [],
   "source": [
    "import pandas as pd"
   ]
  },
  {
   "cell_type": "markdown",
   "id": "296d2ccd",
   "metadata": {},
   "source": [
    "Загружаем данные."
   ]
  },
  {
   "cell_type": "code",
   "execution_count": 2,
   "id": "16eac465",
   "metadata": {
    "scrolled": true
   },
   "outputs": [],
   "source": [
    "try:\n",
    "    data = pd.read_csv('data.csv')\n",
    "except:\n",
    "    data = pd.read_csv('datasets/data.csv')"
   ]
  },
  {
   "cell_type": "markdown",
   "id": "b5e8c5ab",
   "metadata": {},
   "source": [
    "Просматриваем данные."
   ]
  },
  {
   "cell_type": "code",
   "execution_count": 3,
   "id": "bcffd502",
   "metadata": {},
   "outputs": [
    {
     "data": {
      "text/html": [
       "<div>\n",
       "<style scoped>\n",
       "    .dataframe tbody tr th:only-of-type {\n",
       "        vertical-align: middle;\n",
       "    }\n",
       "\n",
       "    .dataframe tbody tr th {\n",
       "        vertical-align: top;\n",
       "    }\n",
       "\n",
       "    .dataframe thead th {\n",
       "        text-align: right;\n",
       "    }\n",
       "</style>\n",
       "<table border=\"1\" class=\"dataframe\">\n",
       "  <thead>\n",
       "    <tr style=\"text-align: right;\">\n",
       "      <th></th>\n",
       "      <th>children</th>\n",
       "      <th>days_employed</th>\n",
       "      <th>dob_years</th>\n",
       "      <th>education</th>\n",
       "      <th>education_id</th>\n",
       "      <th>family_status</th>\n",
       "      <th>family_status_id</th>\n",
       "      <th>gender</th>\n",
       "      <th>income_type</th>\n",
       "      <th>debt</th>\n",
       "      <th>total_income</th>\n",
       "      <th>purpose</th>\n",
       "    </tr>\n",
       "  </thead>\n",
       "  <tbody>\n",
       "    <tr>\n",
       "      <th>0</th>\n",
       "      <td>1</td>\n",
       "      <td>-8437.673028</td>\n",
       "      <td>42</td>\n",
       "      <td>высшее</td>\n",
       "      <td>0</td>\n",
       "      <td>женат / замужем</td>\n",
       "      <td>0</td>\n",
       "      <td>F</td>\n",
       "      <td>сотрудник</td>\n",
       "      <td>0</td>\n",
       "      <td>253875.639453</td>\n",
       "      <td>покупка жилья</td>\n",
       "    </tr>\n",
       "    <tr>\n",
       "      <th>1</th>\n",
       "      <td>1</td>\n",
       "      <td>-4024.803754</td>\n",
       "      <td>36</td>\n",
       "      <td>среднее</td>\n",
       "      <td>1</td>\n",
       "      <td>женат / замужем</td>\n",
       "      <td>0</td>\n",
       "      <td>F</td>\n",
       "      <td>сотрудник</td>\n",
       "      <td>0</td>\n",
       "      <td>112080.014102</td>\n",
       "      <td>приобретение автомобиля</td>\n",
       "    </tr>\n",
       "    <tr>\n",
       "      <th>2</th>\n",
       "      <td>0</td>\n",
       "      <td>-5623.422610</td>\n",
       "      <td>33</td>\n",
       "      <td>Среднее</td>\n",
       "      <td>1</td>\n",
       "      <td>женат / замужем</td>\n",
       "      <td>0</td>\n",
       "      <td>M</td>\n",
       "      <td>сотрудник</td>\n",
       "      <td>0</td>\n",
       "      <td>145885.952297</td>\n",
       "      <td>покупка жилья</td>\n",
       "    </tr>\n",
       "    <tr>\n",
       "      <th>3</th>\n",
       "      <td>3</td>\n",
       "      <td>-4124.747207</td>\n",
       "      <td>32</td>\n",
       "      <td>среднее</td>\n",
       "      <td>1</td>\n",
       "      <td>женат / замужем</td>\n",
       "      <td>0</td>\n",
       "      <td>M</td>\n",
       "      <td>сотрудник</td>\n",
       "      <td>0</td>\n",
       "      <td>267628.550329</td>\n",
       "      <td>дополнительное образование</td>\n",
       "    </tr>\n",
       "    <tr>\n",
       "      <th>4</th>\n",
       "      <td>0</td>\n",
       "      <td>340266.072047</td>\n",
       "      <td>53</td>\n",
       "      <td>среднее</td>\n",
       "      <td>1</td>\n",
       "      <td>гражданский брак</td>\n",
       "      <td>1</td>\n",
       "      <td>F</td>\n",
       "      <td>пенсионер</td>\n",
       "      <td>0</td>\n",
       "      <td>158616.077870</td>\n",
       "      <td>сыграть свадьбу</td>\n",
       "    </tr>\n",
       "    <tr>\n",
       "      <th>5</th>\n",
       "      <td>0</td>\n",
       "      <td>-926.185831</td>\n",
       "      <td>27</td>\n",
       "      <td>высшее</td>\n",
       "      <td>0</td>\n",
       "      <td>гражданский брак</td>\n",
       "      <td>1</td>\n",
       "      <td>M</td>\n",
       "      <td>компаньон</td>\n",
       "      <td>0</td>\n",
       "      <td>255763.565419</td>\n",
       "      <td>покупка жилья</td>\n",
       "    </tr>\n",
       "    <tr>\n",
       "      <th>6</th>\n",
       "      <td>0</td>\n",
       "      <td>-2879.202052</td>\n",
       "      <td>43</td>\n",
       "      <td>высшее</td>\n",
       "      <td>0</td>\n",
       "      <td>женат / замужем</td>\n",
       "      <td>0</td>\n",
       "      <td>F</td>\n",
       "      <td>компаньон</td>\n",
       "      <td>0</td>\n",
       "      <td>240525.971920</td>\n",
       "      <td>операции с жильем</td>\n",
       "    </tr>\n",
       "    <tr>\n",
       "      <th>7</th>\n",
       "      <td>0</td>\n",
       "      <td>-152.779569</td>\n",
       "      <td>50</td>\n",
       "      <td>СРЕДНЕЕ</td>\n",
       "      <td>1</td>\n",
       "      <td>женат / замужем</td>\n",
       "      <td>0</td>\n",
       "      <td>M</td>\n",
       "      <td>сотрудник</td>\n",
       "      <td>0</td>\n",
       "      <td>135823.934197</td>\n",
       "      <td>образование</td>\n",
       "    </tr>\n",
       "    <tr>\n",
       "      <th>8</th>\n",
       "      <td>2</td>\n",
       "      <td>-6929.865299</td>\n",
       "      <td>35</td>\n",
       "      <td>ВЫСШЕЕ</td>\n",
       "      <td>0</td>\n",
       "      <td>гражданский брак</td>\n",
       "      <td>1</td>\n",
       "      <td>F</td>\n",
       "      <td>сотрудник</td>\n",
       "      <td>0</td>\n",
       "      <td>95856.832424</td>\n",
       "      <td>на проведение свадьбы</td>\n",
       "    </tr>\n",
       "    <tr>\n",
       "      <th>9</th>\n",
       "      <td>0</td>\n",
       "      <td>-2188.756445</td>\n",
       "      <td>41</td>\n",
       "      <td>среднее</td>\n",
       "      <td>1</td>\n",
       "      <td>женат / замужем</td>\n",
       "      <td>0</td>\n",
       "      <td>M</td>\n",
       "      <td>сотрудник</td>\n",
       "      <td>0</td>\n",
       "      <td>144425.938277</td>\n",
       "      <td>покупка жилья для семьи</td>\n",
       "    </tr>\n",
       "  </tbody>\n",
       "</table>\n",
       "</div>"
      ],
      "text/plain": [
       "   children  days_employed  dob_years education  education_id  \\\n",
       "0         1   -8437.673028         42    высшее             0   \n",
       "1         1   -4024.803754         36   среднее             1   \n",
       "2         0   -5623.422610         33   Среднее             1   \n",
       "3         3   -4124.747207         32   среднее             1   \n",
       "4         0  340266.072047         53   среднее             1   \n",
       "5         0    -926.185831         27    высшее             0   \n",
       "6         0   -2879.202052         43    высшее             0   \n",
       "7         0    -152.779569         50   СРЕДНЕЕ             1   \n",
       "8         2   -6929.865299         35    ВЫСШЕЕ             0   \n",
       "9         0   -2188.756445         41   среднее             1   \n",
       "\n",
       "      family_status  family_status_id gender income_type  debt   total_income  \\\n",
       "0   женат / замужем                 0      F   сотрудник     0  253875.639453   \n",
       "1   женат / замужем                 0      F   сотрудник     0  112080.014102   \n",
       "2   женат / замужем                 0      M   сотрудник     0  145885.952297   \n",
       "3   женат / замужем                 0      M   сотрудник     0  267628.550329   \n",
       "4  гражданский брак                 1      F   пенсионер     0  158616.077870   \n",
       "5  гражданский брак                 1      M   компаньон     0  255763.565419   \n",
       "6   женат / замужем                 0      F   компаньон     0  240525.971920   \n",
       "7   женат / замужем                 0      M   сотрудник     0  135823.934197   \n",
       "8  гражданский брак                 1      F   сотрудник     0   95856.832424   \n",
       "9   женат / замужем                 0      M   сотрудник     0  144425.938277   \n",
       "\n",
       "                      purpose  \n",
       "0               покупка жилья  \n",
       "1     приобретение автомобиля  \n",
       "2               покупка жилья  \n",
       "3  дополнительное образование  \n",
       "4             сыграть свадьбу  \n",
       "5               покупка жилья  \n",
       "6           операции с жильем  \n",
       "7                 образование  \n",
       "8       на проведение свадьбы  \n",
       "9     покупка жилья для семьи  "
      ]
     },
     "execution_count": 3,
     "metadata": {},
     "output_type": "execute_result"
    }
   ],
   "source": [
    "data.head(10)"
   ]
  },
  {
   "cell_type": "code",
   "execution_count": 4,
   "id": "00ed7b99",
   "metadata": {
    "scrolled": true
   },
   "outputs": [
    {
     "name": "stdout",
     "output_type": "stream",
     "text": [
      "<class 'pandas.core.frame.DataFrame'>\n",
      "RangeIndex: 21525 entries, 0 to 21524\n",
      "Data columns (total 12 columns):\n",
      " #   Column            Non-Null Count  Dtype  \n",
      "---  ------            --------------  -----  \n",
      " 0   children          21525 non-null  int64  \n",
      " 1   days_employed     19351 non-null  float64\n",
      " 2   dob_years         21525 non-null  int64  \n",
      " 3   education         21525 non-null  object \n",
      " 4   education_id      21525 non-null  int64  \n",
      " 5   family_status     21525 non-null  object \n",
      " 6   family_status_id  21525 non-null  int64  \n",
      " 7   gender            21525 non-null  object \n",
      " 8   income_type       21525 non-null  object \n",
      " 9   debt              21525 non-null  int64  \n",
      " 10  total_income      19351 non-null  float64\n",
      " 11  purpose           21525 non-null  object \n",
      "dtypes: float64(2), int64(5), object(5)\n",
      "memory usage: 2.0+ MB\n"
     ]
    }
   ],
   "source": [
    "data.info()"
   ]
  },
  {
   "cell_type": "markdown",
   "id": "a694fc29",
   "metadata": {},
   "source": [
    "Количество данных:\n",
    "- всего 21 525 записей;\n",
    "- `days_employed` и `total_income` содержат меньше заполненных значений - значит, есть пропуски в этих полях.\n",
    "\n",
    "Содержимое полей:\n",
    "- `days_employed` по описанию должен содержать дни трудового стажа, однако содержит дробные величины, в основном отрицательные; есть и положительная величина, превосходящая другиe в сотни раз; нужно понять, что эти величины значат;\n",
    "- `dob_years` вернее всего содержит возраст в годах, проверим это;\n",
    "- `education` содержит имена категорий, записанные в разных формах - мы исправим их, приведём к единой форме;\n",
    "- `education_id` возможно, содержит номера категорий образования;\n",
    "- `family_status_id` возможно, содержит номера категорий семейного состояния;\n",
    "- `gender` скорее всего содержит только `F` или `M`, проверим это;\n",
    "- `debt` возможно содержит `1` если есть долг по платежам, и `0` если долга нет, проверим это;\n",
    "- `children`, `total_income` и `purpose` интуитивно понятны, и заполнены так как мы ожидаем, однако проверим свои предположения и поищем в данных аномалии."
   ]
  },
  {
   "cell_type": "markdown",
   "id": "2eeb8b72",
   "metadata": {},
   "source": [
    "`dob_years` создано для возрастов. Меняем название поля на очевидное `age`."
   ]
  },
  {
   "cell_type": "code",
   "execution_count": 5,
   "id": "6cc54dfe",
   "metadata": {},
   "outputs": [],
   "source": [
    "data.rename(columns={'dob_years': 'age'}, inplace=True)"
   ]
  },
  {
   "cell_type": "markdown",
   "id": "044afe0f",
   "metadata": {},
   "source": [
    "В целом, нам сказано, что это список клиентов, то есть, персон. Персоны по-определению уникальны. Однако, в данных нет того, что могло бы ясно указать на уникальность каждой записи. Нет client_id, или аналога.\n",
    "\n",
    "Мы предположим, что если есть две полностью одинаковые записи - то это не два клиента с одинаковой жизненной ситуацией, а информация об одном и том же клиенте. А значит - мы уберём все дубликаты, явные и неявные. Чтобы каждая строка была уникальной, как уникален каждый клиент."
   ]
  },
  {
   "cell_type": "markdown",
   "id": "14ed8c14",
   "metadata": {},
   "source": [
    "### Итоги обзора\n",
    "Надёжней всего было бы запросить информацию о том, что значат данные в поле `days_employed`. В данном случае такой возможности не предусмотрено, поэтому будем делать и проверять предположения.\n",
    "\n",
    "Надёжней было бы дополнять статистику о клиентах полем с явными значениями `secure_client_id`. В ней не нужно указывать внутренние банковские `client_id`. Например, заменить каждый `client_id` на его криптографический хэш, и записать хэш как `secure_client_id`. Хэш будет уникален - то что нужно нам, и при этом не раскрывает данных о личности клиента (его `client_id`) - то что нужно банку.\n",
    "\n",
    "Имена некоторых полей и их содержимое лучше было бы получать в другом, интуитивно понятном формате. Когда проверим предположения, мы опишем конкретные предложения для специалистов, которые отвечают за сбор, хранение и предоставление данных."
   ]
  },
  {
   "cell_type": "markdown",
   "id": "907b3e94",
   "metadata": {},
   "source": [
    "## Исправление данных"
   ]
  },
  {
   "cell_type": "code",
   "execution_count": 6,
   "id": "8333c769",
   "metadata": {},
   "outputs": [],
   "source": [
    "# создаём удобную функцию для вывода количества и доли значений\n",
    "def print_count(column, value, df=data):\n",
    "    count = df[df[column] == value][column].count()\n",
    "    print(f'{value}: {count}, {count / len(df.index):.02%}')"
   ]
  },
  {
   "cell_type": "markdown",
   "id": "c338d671",
   "metadata": {},
   "source": [
    "### Исправление аномалий. <a id=\"check_for_anomalies\"></a>"
   ]
  },
  {
   "cell_type": "markdown",
   "id": "30c89e5b",
   "metadata": {},
   "source": [
    "Считаю правильным начать с обзора значений, и поиска аномалий. Это позволит понять, что и как именно записано в `days_employed`. Это позволит понять, какие записи невозможно интерпретировать, и проще заменить пропусками.\n",
    "\n",
    "Затем можно понять, какими значениями проще всего заполнить пропуски.\n",
    "\n",
    "Чтобы проверить, правильно ли мы поняли смысл столбцов, посмотрим, какие значения встречаются в полях. Если это предсказуемые для нас значения - значит, исправления не потребуются. Если неожиданные - то мы либо должны исправить их, либо обдумать ещё раз смысл столбцов и привести столбцы в вид, который не будет вызывать сомнений."
   ]
  },
  {
   "cell_type": "markdown",
   "id": "af977161",
   "metadata": {},
   "source": [
    "#### Аномалии в  `children`"
   ]
  },
  {
   "cell_type": "code",
   "execution_count": 7,
   "id": "bbfff533",
   "metadata": {},
   "outputs": [
    {
     "data": {
      "text/plain": [
       "array([-1,  0,  1,  2,  3,  4,  5, 20])"
      ]
     },
     "execution_count": 7,
     "metadata": {},
     "output_type": "execute_result"
    }
   ],
   "source": [
    "children_uniques = data['children'].sort_values().unique()\n",
    "children_uniques"
   ]
  },
  {
   "cell_type": "markdown",
   "id": "81a25996",
   "metadata": {},
   "source": [
    "Как они распределяются?"
   ]
  },
  {
   "cell_type": "code",
   "execution_count": 8,
   "id": "47957b41",
   "metadata": {
    "scrolled": true
   },
   "outputs": [
    {
     "name": "stdout",
     "output_type": "stream",
     "text": [
      "-1: 47, 0.22%\n",
      "0: 14149, 65.73%\n",
      "1: 4818, 22.38%\n",
      "2: 2055, 9.55%\n",
      "3: 330, 1.53%\n",
      "4: 41, 0.19%\n",
      "5: 9, 0.04%\n",
      "20: 76, 0.35%\n"
     ]
    }
   ],
   "source": [
    "for value in children_uniques:\n",
    "    print_count('children', value)"
   ]
  },
  {
   "cell_type": "markdown",
   "id": "a96a4c2b",
   "metadata": {},
   "source": [
    "Аномальные значения -1 и 20, встречаются десятки раз.\n",
    "\n",
    "Существуют предположения, что причина их появления - это ошибки ввода. Якобы -1 должно значить 1, а 20 должно значить 2. Это выглядит неубедительно. На любой клавиатуре знаки `-` и `1` не соседствуют. Также нет ни одного значения со знаком `-`, кроме `-1`. То же касается `20` - его 76 случаев. И ни одного случая `10` или `30`.\n",
    "\n",
    "Причина данных аномалий не очевидна. Надёжных оснований для замены -1 на 1, и 20 на 2 нет.\n",
    "\n",
    "Проверим, существует ли корреляция значения -1 с какими-либо данными."
   ]
  },
  {
   "cell_type": "code",
   "execution_count": 9,
   "id": "be7d7889",
   "metadata": {
    "scrolled": true
   },
   "outputs": [
    {
     "data": {
      "text/html": [
       "<div>\n",
       "<style scoped>\n",
       "    .dataframe tbody tr th:only-of-type {\n",
       "        vertical-align: middle;\n",
       "    }\n",
       "\n",
       "    .dataframe tbody tr th {\n",
       "        vertical-align: top;\n",
       "    }\n",
       "\n",
       "    .dataframe thead th {\n",
       "        text-align: right;\n",
       "    }\n",
       "</style>\n",
       "<table border=\"1\" class=\"dataframe\">\n",
       "  <thead>\n",
       "    <tr style=\"text-align: right;\">\n",
       "      <th></th>\n",
       "      <th>children</th>\n",
       "      <th>days_employed</th>\n",
       "      <th>age</th>\n",
       "      <th>education</th>\n",
       "      <th>education_id</th>\n",
       "      <th>family_status</th>\n",
       "      <th>family_status_id</th>\n",
       "      <th>gender</th>\n",
       "      <th>income_type</th>\n",
       "      <th>debt</th>\n",
       "      <th>total_income</th>\n",
       "      <th>purpose</th>\n",
       "    </tr>\n",
       "  </thead>\n",
       "  <tbody>\n",
       "    <tr>\n",
       "      <th>291</th>\n",
       "      <td>-1</td>\n",
       "      <td>-4417.703588</td>\n",
       "      <td>46</td>\n",
       "      <td>среднее</td>\n",
       "      <td>1</td>\n",
       "      <td>гражданский брак</td>\n",
       "      <td>1</td>\n",
       "      <td>F</td>\n",
       "      <td>сотрудник</td>\n",
       "      <td>0</td>\n",
       "      <td>102816.346412</td>\n",
       "      <td>профильное образование</td>\n",
       "    </tr>\n",
       "    <tr>\n",
       "      <th>705</th>\n",
       "      <td>-1</td>\n",
       "      <td>-902.084528</td>\n",
       "      <td>50</td>\n",
       "      <td>среднее</td>\n",
       "      <td>1</td>\n",
       "      <td>женат / замужем</td>\n",
       "      <td>0</td>\n",
       "      <td>F</td>\n",
       "      <td>госслужащий</td>\n",
       "      <td>0</td>\n",
       "      <td>137882.899271</td>\n",
       "      <td>приобретение автомобиля</td>\n",
       "    </tr>\n",
       "    <tr>\n",
       "      <th>742</th>\n",
       "      <td>-1</td>\n",
       "      <td>-3174.456205</td>\n",
       "      <td>57</td>\n",
       "      <td>среднее</td>\n",
       "      <td>1</td>\n",
       "      <td>женат / замужем</td>\n",
       "      <td>0</td>\n",
       "      <td>F</td>\n",
       "      <td>сотрудник</td>\n",
       "      <td>0</td>\n",
       "      <td>64268.044444</td>\n",
       "      <td>дополнительное образование</td>\n",
       "    </tr>\n",
       "    <tr>\n",
       "      <th>800</th>\n",
       "      <td>-1</td>\n",
       "      <td>349987.852217</td>\n",
       "      <td>54</td>\n",
       "      <td>среднее</td>\n",
       "      <td>1</td>\n",
       "      <td>Не женат / не замужем</td>\n",
       "      <td>4</td>\n",
       "      <td>F</td>\n",
       "      <td>пенсионер</td>\n",
       "      <td>0</td>\n",
       "      <td>86293.724153</td>\n",
       "      <td>дополнительное образование</td>\n",
       "    </tr>\n",
       "    <tr>\n",
       "      <th>941</th>\n",
       "      <td>-1</td>\n",
       "      <td>NaN</td>\n",
       "      <td>57</td>\n",
       "      <td>Среднее</td>\n",
       "      <td>1</td>\n",
       "      <td>женат / замужем</td>\n",
       "      <td>0</td>\n",
       "      <td>F</td>\n",
       "      <td>пенсионер</td>\n",
       "      <td>0</td>\n",
       "      <td>NaN</td>\n",
       "      <td>на покупку своего автомобиля</td>\n",
       "    </tr>\n",
       "  </tbody>\n",
       "</table>\n",
       "</div>"
      ],
      "text/plain": [
       "     children  days_employed  age education  education_id  \\\n",
       "291        -1   -4417.703588   46   среднее             1   \n",
       "705        -1    -902.084528   50   среднее             1   \n",
       "742        -1   -3174.456205   57   среднее             1   \n",
       "800        -1  349987.852217   54   среднее             1   \n",
       "941        -1            NaN   57   Среднее             1   \n",
       "\n",
       "             family_status  family_status_id gender  income_type  debt  \\\n",
       "291       гражданский брак                 1      F    сотрудник     0   \n",
       "705        женат / замужем                 0      F  госслужащий     0   \n",
       "742        женат / замужем                 0      F    сотрудник     0   \n",
       "800  Не женат / не замужем                 4      F    пенсионер     0   \n",
       "941        женат / замужем                 0      F    пенсионер     0   \n",
       "\n",
       "      total_income                       purpose  \n",
       "291  102816.346412        профильное образование  \n",
       "705  137882.899271       приобретение автомобиля  \n",
       "742   64268.044444    дополнительное образование  \n",
       "800   86293.724153    дополнительное образование  \n",
       "941            NaN  на покупку своего автомобиля  "
      ]
     },
     "execution_count": 9,
     "metadata": {},
     "output_type": "execute_result"
    }
   ],
   "source": [
    "data[data['children'] == -1].head()"
   ]
  },
  {
   "cell_type": "markdown",
   "id": "94e52afc",
   "metadata": {},
   "source": [
    "У кого из них `education_id` не равен `1`?"
   ]
  },
  {
   "cell_type": "code",
   "execution_count": 10,
   "id": "f857ad05",
   "metadata": {
    "scrolled": true
   },
   "outputs": [
    {
     "data": {
      "text/html": [
       "<div>\n",
       "<style scoped>\n",
       "    .dataframe tbody tr th:only-of-type {\n",
       "        vertical-align: middle;\n",
       "    }\n",
       "\n",
       "    .dataframe tbody tr th {\n",
       "        vertical-align: top;\n",
       "    }\n",
       "\n",
       "    .dataframe thead th {\n",
       "        text-align: right;\n",
       "    }\n",
       "</style>\n",
       "<table border=\"1\" class=\"dataframe\">\n",
       "  <thead>\n",
       "    <tr style=\"text-align: right;\">\n",
       "      <th></th>\n",
       "      <th>children</th>\n",
       "      <th>days_employed</th>\n",
       "      <th>age</th>\n",
       "      <th>education</th>\n",
       "      <th>education_id</th>\n",
       "      <th>family_status</th>\n",
       "      <th>family_status_id</th>\n",
       "      <th>gender</th>\n",
       "      <th>income_type</th>\n",
       "      <th>debt</th>\n",
       "      <th>total_income</th>\n",
       "      <th>purpose</th>\n",
       "    </tr>\n",
       "  </thead>\n",
       "  <tbody>\n",
       "    <tr>\n",
       "      <th>6013</th>\n",
       "      <td>-1</td>\n",
       "      <td>-1361.258696</td>\n",
       "      <td>46</td>\n",
       "      <td>высшее</td>\n",
       "      <td>0</td>\n",
       "      <td>женат / замужем</td>\n",
       "      <td>0</td>\n",
       "      <td>F</td>\n",
       "      <td>сотрудник</td>\n",
       "      <td>0</td>\n",
       "      <td>143008.454914</td>\n",
       "      <td>строительство собственной недвижимости</td>\n",
       "    </tr>\n",
       "    <tr>\n",
       "      <th>8229</th>\n",
       "      <td>-1</td>\n",
       "      <td>-1803.441074</td>\n",
       "      <td>54</td>\n",
       "      <td>высшее</td>\n",
       "      <td>0</td>\n",
       "      <td>женат / замужем</td>\n",
       "      <td>0</td>\n",
       "      <td>F</td>\n",
       "      <td>компаньон</td>\n",
       "      <td>0</td>\n",
       "      <td>138809.082930</td>\n",
       "      <td>покупка недвижимости</td>\n",
       "    </tr>\n",
       "    <tr>\n",
       "      <th>9565</th>\n",
       "      <td>-1</td>\n",
       "      <td>-2896.629686</td>\n",
       "      <td>34</td>\n",
       "      <td>высшее</td>\n",
       "      <td>0</td>\n",
       "      <td>женат / замужем</td>\n",
       "      <td>0</td>\n",
       "      <td>M</td>\n",
       "      <td>сотрудник</td>\n",
       "      <td>0</td>\n",
       "      <td>126754.656529</td>\n",
       "      <td>операции с недвижимостью</td>\n",
       "    </tr>\n",
       "    <tr>\n",
       "      <th>9574</th>\n",
       "      <td>-1</td>\n",
       "      <td>-2710.419901</td>\n",
       "      <td>28</td>\n",
       "      <td>высшее</td>\n",
       "      <td>0</td>\n",
       "      <td>женат / замужем</td>\n",
       "      <td>0</td>\n",
       "      <td>M</td>\n",
       "      <td>госслужащий</td>\n",
       "      <td>0</td>\n",
       "      <td>303137.161001</td>\n",
       "      <td>получение дополнительного образования</td>\n",
       "    </tr>\n",
       "    <tr>\n",
       "      <th>10365</th>\n",
       "      <td>-1</td>\n",
       "      <td>345774.125957</td>\n",
       "      <td>63</td>\n",
       "      <td>ВЫСШЕЕ</td>\n",
       "      <td>0</td>\n",
       "      <td>вдовец / вдова</td>\n",
       "      <td>2</td>\n",
       "      <td>F</td>\n",
       "      <td>пенсионер</td>\n",
       "      <td>0</td>\n",
       "      <td>170762.751325</td>\n",
       "      <td>строительство жилой недвижимости</td>\n",
       "    </tr>\n",
       "  </tbody>\n",
       "</table>\n",
       "</div>"
      ],
      "text/plain": [
       "       children  days_employed  age education  education_id    family_status  \\\n",
       "6013         -1   -1361.258696   46    высшее             0  женат / замужем   \n",
       "8229         -1   -1803.441074   54    высшее             0  женат / замужем   \n",
       "9565         -1   -2896.629686   34    высшее             0  женат / замужем   \n",
       "9574         -1   -2710.419901   28    высшее             0  женат / замужем   \n",
       "10365        -1  345774.125957   63    ВЫСШЕЕ             0   вдовец / вдова   \n",
       "\n",
       "       family_status_id gender  income_type  debt   total_income  \\\n",
       "6013                  0      F    сотрудник     0  143008.454914   \n",
       "8229                  0      F    компаньон     0  138809.082930   \n",
       "9565                  0      M    сотрудник     0  126754.656529   \n",
       "9574                  0      M  госслужащий     0  303137.161001   \n",
       "10365                 2      F    пенсионер     0  170762.751325   \n",
       "\n",
       "                                      purpose  \n",
       "6013   строительство собственной недвижимости  \n",
       "8229                     покупка недвижимости  \n",
       "9565                 операции с недвижимостью  \n",
       "9574    получение дополнительного образования  \n",
       "10365        строительство жилой недвижимости  "
      ]
     },
     "execution_count": 10,
     "metadata": {},
     "output_type": "execute_result"
    }
   ],
   "source": [
    "data[(data['children'] == -1) & (data['education_id'] != 1)].head()"
   ]
  },
  {
   "cell_type": "markdown",
   "id": "f7713374",
   "metadata": {},
   "source": [
    "Корреляции с `education_id` не видно.\n",
    "\n",
    "А корреляция с `debt` равному `0`?"
   ]
  },
  {
   "cell_type": "code",
   "execution_count": 11,
   "id": "b62b8744",
   "metadata": {
    "scrolled": false
   },
   "outputs": [
    {
     "data": {
      "text/html": [
       "<div>\n",
       "<style scoped>\n",
       "    .dataframe tbody tr th:only-of-type {\n",
       "        vertical-align: middle;\n",
       "    }\n",
       "\n",
       "    .dataframe tbody tr th {\n",
       "        vertical-align: top;\n",
       "    }\n",
       "\n",
       "    .dataframe thead th {\n",
       "        text-align: right;\n",
       "    }\n",
       "</style>\n",
       "<table border=\"1\" class=\"dataframe\">\n",
       "  <thead>\n",
       "    <tr style=\"text-align: right;\">\n",
       "      <th></th>\n",
       "      <th>children</th>\n",
       "      <th>days_employed</th>\n",
       "      <th>age</th>\n",
       "      <th>education</th>\n",
       "      <th>education_id</th>\n",
       "      <th>family_status</th>\n",
       "      <th>family_status_id</th>\n",
       "      <th>gender</th>\n",
       "      <th>income_type</th>\n",
       "      <th>debt</th>\n",
       "      <th>total_income</th>\n",
       "      <th>purpose</th>\n",
       "    </tr>\n",
       "  </thead>\n",
       "  <tbody>\n",
       "    <tr>\n",
       "      <th>16129</th>\n",
       "      <td>-1</td>\n",
       "      <td>-457.86176</td>\n",
       "      <td>33</td>\n",
       "      <td>среднее</td>\n",
       "      <td>1</td>\n",
       "      <td>женат / замужем</td>\n",
       "      <td>0</td>\n",
       "      <td>F</td>\n",
       "      <td>сотрудник</td>\n",
       "      <td>1</td>\n",
       "      <td>149641.079451</td>\n",
       "      <td>автомобиль</td>\n",
       "    </tr>\n",
       "  </tbody>\n",
       "</table>\n",
       "</div>"
      ],
      "text/plain": [
       "       children  days_employed  age education  education_id    family_status  \\\n",
       "16129        -1     -457.86176   33   среднее             1  женат / замужем   \n",
       "\n",
       "       family_status_id gender income_type  debt   total_income     purpose  \n",
       "16129                 0      F   сотрудник     1  149641.079451  автомобиль  "
      ]
     },
     "execution_count": 11,
     "metadata": {},
     "output_type": "execute_result"
    }
   ],
   "source": [
    "data[(data['children'] == -1) & (data['debt'] != 0)].head()"
   ]
  },
  {
   "cell_type": "markdown",
   "id": "c64d5c1f",
   "metadata": {},
   "source": [
    "Надёжная корреляция не найдена. Причина некорректных значений остаётся не ясной.\n",
    "\n",
    "Минус один ребёнок в реальности не встречается, 20 детей теоретически возможны, однако на фоне остальных значений тоже выглядят аномалией. Обработаем их так, как если бы эти значения были пропущены - заменим их на медианное значение по столбцу."
   ]
  },
  {
   "cell_type": "code",
   "execution_count": 12,
   "id": "f62e82df",
   "metadata": {},
   "outputs": [
    {
     "data": {
      "text/plain": [
       "array([0, 1, 2, 3, 4, 5], dtype=int32)"
      ]
     },
     "execution_count": 12,
     "metadata": {},
     "output_type": "execute_result"
    }
   ],
   "source": [
    "data['children'].replace([-1, 20], data['children'].median(), inplace=True)\n",
    "\n",
    "# .replace() возвращает float, поэтому исправляем тип\n",
    "data['children'] = data['children'].astype('int32')\n",
    "\n",
    "# проверяем, какие теперь существуют значения кол-ва детей\n",
    "data['children'].sort_values().unique()"
   ]
  },
  {
   "cell_type": "markdown",
   "id": "239ac227",
   "metadata": {},
   "source": [
    "**Итоги:**\n",
    "- Имеются 47 записей (0,22% от всех) с некорректным количеством детей `-1`, и 76 записей (0,35%) с некорректным количеством `20`.\n",
    "- Причина появления таких записей не ясна.\n",
    "- Как избежать: не принимать ввод менее 0.\n",
    "- Значения `-1` и `20` заменены на медианное."
   ]
  },
  {
   "cell_type": "markdown",
   "id": "59b37a0f",
   "metadata": {},
   "source": [
    " #### Аномалии в  `age`"
   ]
  },
  {
   "cell_type": "code",
   "execution_count": 13,
   "id": "b30f594b",
   "metadata": {},
   "outputs": [
    {
     "data": {
      "text/plain": [
       "array([ 0, 19, 20, 21, 22, 23, 24, 25, 26, 27, 28, 29, 30, 31, 32, 33, 34,\n",
       "       35, 36, 37, 38, 39, 40, 41, 42, 43, 44, 45, 46, 47, 48, 49, 50, 51,\n",
       "       52, 53, 54, 55, 56, 57, 58, 59, 60, 61, 62, 63, 64, 65, 66, 67, 68,\n",
       "       69, 70, 71, 72, 73, 74, 75])"
      ]
     },
     "execution_count": 13,
     "metadata": {},
     "output_type": "execute_result"
    }
   ],
   "source": [
    "data['age'].sort_values().unique()"
   ]
  },
  {
   "cell_type": "markdown",
   "id": "209e73a6",
   "metadata": {},
   "source": [
    "Воу, существуют клиенты с возрастом новорождённых! Сколько таких?"
   ]
  },
  {
   "cell_type": "code",
   "execution_count": 14,
   "id": "1c54ad79",
   "metadata": {
    "scrolled": true
   },
   "outputs": [
    {
     "name": "stdout",
     "output_type": "stream",
     "text": [
      "0: 101, 0.47%\n"
     ]
    }
   ],
   "source": [
    "print_count('age', 0)"
   ]
  },
  {
   "cell_type": "markdown",
   "id": "63963126",
   "metadata": {},
   "source": [
    "Их мало. Кто они?"
   ]
  },
  {
   "cell_type": "code",
   "execution_count": 15,
   "id": "758e0f51",
   "metadata": {},
   "outputs": [
    {
     "data": {
      "text/html": [
       "<div>\n",
       "<style scoped>\n",
       "    .dataframe tbody tr th:only-of-type {\n",
       "        vertical-align: middle;\n",
       "    }\n",
       "\n",
       "    .dataframe tbody tr th {\n",
       "        vertical-align: top;\n",
       "    }\n",
       "\n",
       "    .dataframe thead th {\n",
       "        text-align: right;\n",
       "    }\n",
       "</style>\n",
       "<table border=\"1\" class=\"dataframe\">\n",
       "  <thead>\n",
       "    <tr style=\"text-align: right;\">\n",
       "      <th></th>\n",
       "      <th>children</th>\n",
       "      <th>days_employed</th>\n",
       "      <th>age</th>\n",
       "      <th>education</th>\n",
       "      <th>education_id</th>\n",
       "      <th>family_status</th>\n",
       "      <th>family_status_id</th>\n",
       "      <th>gender</th>\n",
       "      <th>income_type</th>\n",
       "      <th>debt</th>\n",
       "      <th>total_income</th>\n",
       "      <th>purpose</th>\n",
       "    </tr>\n",
       "  </thead>\n",
       "  <tbody>\n",
       "    <tr>\n",
       "      <th>18539</th>\n",
       "      <td>0</td>\n",
       "      <td>-4852.175654</td>\n",
       "      <td>0</td>\n",
       "      <td>Высшее</td>\n",
       "      <td>0</td>\n",
       "      <td>Не женат / не замужем</td>\n",
       "      <td>4</td>\n",
       "      <td>M</td>\n",
       "      <td>компаньон</td>\n",
       "      <td>0</td>\n",
       "      <td>254837.819494</td>\n",
       "      <td>покупка жилья</td>\n",
       "    </tr>\n",
       "    <tr>\n",
       "      <th>18732</th>\n",
       "      <td>2</td>\n",
       "      <td>-986.789230</td>\n",
       "      <td>0</td>\n",
       "      <td>высшее</td>\n",
       "      <td>0</td>\n",
       "      <td>гражданский брак</td>\n",
       "      <td>1</td>\n",
       "      <td>F</td>\n",
       "      <td>компаньон</td>\n",
       "      <td>0</td>\n",
       "      <td>287328.538328</td>\n",
       "      <td>образование</td>\n",
       "    </tr>\n",
       "    <tr>\n",
       "      <th>18851</th>\n",
       "      <td>0</td>\n",
       "      <td>-10637.001569</td>\n",
       "      <td>0</td>\n",
       "      <td>среднее</td>\n",
       "      <td>1</td>\n",
       "      <td>женат / замужем</td>\n",
       "      <td>0</td>\n",
       "      <td>F</td>\n",
       "      <td>госслужащий</td>\n",
       "      <td>0</td>\n",
       "      <td>136537.132625</td>\n",
       "      <td>дополнительное образование</td>\n",
       "    </tr>\n",
       "    <tr>\n",
       "      <th>19116</th>\n",
       "      <td>0</td>\n",
       "      <td>331558.550969</td>\n",
       "      <td>0</td>\n",
       "      <td>высшее</td>\n",
       "      <td>0</td>\n",
       "      <td>женат / замужем</td>\n",
       "      <td>0</td>\n",
       "      <td>F</td>\n",
       "      <td>пенсионер</td>\n",
       "      <td>0</td>\n",
       "      <td>91791.878400</td>\n",
       "      <td>покупка коммерческой недвижимости</td>\n",
       "    </tr>\n",
       "    <tr>\n",
       "      <th>19371</th>\n",
       "      <td>1</td>\n",
       "      <td>-2356.250615</td>\n",
       "      <td>0</td>\n",
       "      <td>высшее</td>\n",
       "      <td>0</td>\n",
       "      <td>женат / замужем</td>\n",
       "      <td>0</td>\n",
       "      <td>F</td>\n",
       "      <td>компаньон</td>\n",
       "      <td>0</td>\n",
       "      <td>77936.218285</td>\n",
       "      <td>автомобиль</td>\n",
       "    </tr>\n",
       "    <tr>\n",
       "      <th>19829</th>\n",
       "      <td>0</td>\n",
       "      <td>NaN</td>\n",
       "      <td>0</td>\n",
       "      <td>среднее</td>\n",
       "      <td>1</td>\n",
       "      <td>женат / замужем</td>\n",
       "      <td>0</td>\n",
       "      <td>F</td>\n",
       "      <td>сотрудник</td>\n",
       "      <td>0</td>\n",
       "      <td>NaN</td>\n",
       "      <td>жилье</td>\n",
       "    </tr>\n",
       "    <tr>\n",
       "      <th>20462</th>\n",
       "      <td>0</td>\n",
       "      <td>338734.868540</td>\n",
       "      <td>0</td>\n",
       "      <td>среднее</td>\n",
       "      <td>1</td>\n",
       "      <td>женат / замужем</td>\n",
       "      <td>0</td>\n",
       "      <td>F</td>\n",
       "      <td>пенсионер</td>\n",
       "      <td>0</td>\n",
       "      <td>259193.920299</td>\n",
       "      <td>покупка своего жилья</td>\n",
       "    </tr>\n",
       "    <tr>\n",
       "      <th>20577</th>\n",
       "      <td>0</td>\n",
       "      <td>331741.271455</td>\n",
       "      <td>0</td>\n",
       "      <td>среднее</td>\n",
       "      <td>1</td>\n",
       "      <td>Не женат / не замужем</td>\n",
       "      <td>4</td>\n",
       "      <td>F</td>\n",
       "      <td>пенсионер</td>\n",
       "      <td>0</td>\n",
       "      <td>129788.762899</td>\n",
       "      <td>недвижимость</td>\n",
       "    </tr>\n",
       "    <tr>\n",
       "      <th>21179</th>\n",
       "      <td>2</td>\n",
       "      <td>-108.967042</td>\n",
       "      <td>0</td>\n",
       "      <td>высшее</td>\n",
       "      <td>0</td>\n",
       "      <td>женат / замужем</td>\n",
       "      <td>0</td>\n",
       "      <td>M</td>\n",
       "      <td>компаньон</td>\n",
       "      <td>0</td>\n",
       "      <td>240702.007382</td>\n",
       "      <td>строительство жилой недвижимости</td>\n",
       "    </tr>\n",
       "    <tr>\n",
       "      <th>21313</th>\n",
       "      <td>0</td>\n",
       "      <td>-1268.487728</td>\n",
       "      <td>0</td>\n",
       "      <td>среднее</td>\n",
       "      <td>1</td>\n",
       "      <td>Не женат / не замужем</td>\n",
       "      <td>4</td>\n",
       "      <td>M</td>\n",
       "      <td>сотрудник</td>\n",
       "      <td>0</td>\n",
       "      <td>152419.184851</td>\n",
       "      <td>операции с жильем</td>\n",
       "    </tr>\n",
       "  </tbody>\n",
       "</table>\n",
       "</div>"
      ],
      "text/plain": [
       "       children  days_employed  age education  education_id  \\\n",
       "18539         0   -4852.175654    0    Высшее             0   \n",
       "18732         2    -986.789230    0    высшее             0   \n",
       "18851         0  -10637.001569    0   среднее             1   \n",
       "19116         0  331558.550969    0    высшее             0   \n",
       "19371         1   -2356.250615    0    высшее             0   \n",
       "19829         0            NaN    0   среднее             1   \n",
       "20462         0  338734.868540    0   среднее             1   \n",
       "20577         0  331741.271455    0   среднее             1   \n",
       "21179         2    -108.967042    0    высшее             0   \n",
       "21313         0   -1268.487728    0   среднее             1   \n",
       "\n",
       "               family_status  family_status_id gender  income_type  debt  \\\n",
       "18539  Не женат / не замужем                 4      M    компаньон     0   \n",
       "18732       гражданский брак                 1      F    компаньон     0   \n",
       "18851        женат / замужем                 0      F  госслужащий     0   \n",
       "19116        женат / замужем                 0      F    пенсионер     0   \n",
       "19371        женат / замужем                 0      F    компаньон     0   \n",
       "19829        женат / замужем                 0      F    сотрудник     0   \n",
       "20462        женат / замужем                 0      F    пенсионер     0   \n",
       "20577  Не женат / не замужем                 4      F    пенсионер     0   \n",
       "21179        женат / замужем                 0      M    компаньон     0   \n",
       "21313  Не женат / не замужем                 4      M    сотрудник     0   \n",
       "\n",
       "        total_income                            purpose  \n",
       "18539  254837.819494                      покупка жилья  \n",
       "18732  287328.538328                        образование  \n",
       "18851  136537.132625         дополнительное образование  \n",
       "19116   91791.878400  покупка коммерческой недвижимости  \n",
       "19371   77936.218285                         автомобиль  \n",
       "19829            NaN                              жилье  \n",
       "20462  259193.920299               покупка своего жилья  \n",
       "20577  129788.762899                       недвижимость  \n",
       "21179  240702.007382   строительство жилой недвижимости  \n",
       "21313  152419.184851                  операции с жильем  "
      ]
     },
     "execution_count": 15,
     "metadata": {},
     "output_type": "execute_result"
    }
   ],
   "source": [
    "data[data['age'] == 0].tail(10)"
   ]
  },
  {
   "cell_type": "markdown",
   "id": "62b52057",
   "metadata": {},
   "source": [
    "Таких людей мало, среди них есть состоящие в браке, трудящиеся, пенсионеры."
   ]
  },
  {
   "cell_type": "markdown",
   "id": "bf3921b9",
   "metadata": {},
   "source": [
    "А как много доходов приходится на них?"
   ]
  },
  {
   "cell_type": "code",
   "execution_count": 16,
   "id": "29f55eee",
   "metadata": {},
   "outputs": [
    {
     "name": "stdout",
     "output_type": "stream",
     "text": [
      "Доля в доходе: 0.44%\n"
     ]
    }
   ],
   "source": [
    "age_0_income = data[data['age'] == 0]['total_income'].sum()\n",
    "age_all_income = data['total_income'].sum()\n",
    "print(f'Доля в доходе: {(age_0_income / age_all_income):.02%}')"
   ]
  },
  {
   "cell_type": "markdown",
   "id": "eeb8f050",
   "metadata": {},
   "source": [
    "Это близко к доле 0.45% - доле от числа клиентов. Будем полагать, что это типичные клиенты. Заменяем на медианное значение возраста."
   ]
  },
  {
   "cell_type": "code",
   "execution_count": 17,
   "id": "1df0407c",
   "metadata": {},
   "outputs": [
    {
     "data": {
      "text/plain": [
       "array([19, 20, 21, 22, 23, 24, 25, 26, 27, 28, 29, 30, 31, 32, 33, 34, 35,\n",
       "       36, 37, 38, 39, 40, 41, 42, 43, 44, 45, 46, 47, 48, 49, 50, 51, 52,\n",
       "       53, 54, 55, 56, 57, 58, 59, 60, 61, 62, 63, 64, 65, 66, 67, 68, 69,\n",
       "       70, 71, 72, 73, 74, 75], dtype=int32)"
      ]
     },
     "execution_count": 17,
     "metadata": {},
     "output_type": "execute_result"
    }
   ],
   "source": [
    "data['age'].replace(0, data['age'].median(), inplace=True)\n",
    "\n",
    "# .replace() возвращает float, поэтому исправляем тип\n",
    "data['age'] = data['age'].astype('int32')\n",
    "\n",
    "# проверяем, какие теперь существуют значения кол-ва детей\n",
    "data['age'].sort_values().unique()"
   ]
  },
  {
   "cell_type": "markdown",
   "id": "1f5ac974",
   "metadata": {},
   "source": [
    "**Итого:**\n",
    "- Имеются 101 запись (0,47% от всех) с некорректным возрастом `0`.\n",
    "- Причина появления таких записей не ясна. Возможные причины:\n",
    "  - \"не пропечаталась\" первая цифра в \"круглом\" значении возраста (0 вместо 20, 30, ..., 70)\n",
    "  - клиенты хотели скрыть возраст,\n",
    "  - анкета заполнялась не на себя, и возраст оставался неизвестен.\n",
    "- Как избежать: не принимать ввод менее 1.\n",
    "- Значение `0` нет смысла использовать при анализе, оно заменено на медианное."
   ]
  },
  {
   "cell_type": "markdown",
   "id": "99754ddd",
   "metadata": {},
   "source": [
    " #### Аномалии в `gender`"
   ]
  },
  {
   "cell_type": "code",
   "execution_count": 18,
   "id": "4f48417c",
   "metadata": {},
   "outputs": [
    {
     "data": {
      "text/plain": [
       "array(['F', 'M', 'XNA'], dtype=object)"
      ]
     },
     "execution_count": 18,
     "metadata": {},
     "output_type": "execute_result"
    }
   ],
   "source": [
    "data['gender'].sort_values().unique()"
   ]
  },
  {
   "cell_type": "markdown",
   "id": "dbeee907",
   "metadata": {},
   "source": [
    "Помимо пола `F` = \"жен\" и `M` = \"муж\", существует категория \"XNA\". Cколько их?"
   ]
  },
  {
   "cell_type": "code",
   "execution_count": 19,
   "id": "c7f27e55",
   "metadata": {},
   "outputs": [
    {
     "name": "stdout",
     "output_type": "stream",
     "text": [
      "XNA: 1, 0.00%\n"
     ]
    }
   ],
   "source": [
    "print_count('gender', 'XNA')"
   ]
  },
  {
   "cell_type": "markdown",
   "id": "64fdaad9",
   "metadata": {},
   "source": [
    "Один человек. Что мы знаем о нём"
   ]
  },
  {
   "cell_type": "code",
   "execution_count": 20,
   "id": "75d77940",
   "metadata": {},
   "outputs": [
    {
     "data": {
      "text/html": [
       "<div>\n",
       "<style scoped>\n",
       "    .dataframe tbody tr th:only-of-type {\n",
       "        vertical-align: middle;\n",
       "    }\n",
       "\n",
       "    .dataframe tbody tr th {\n",
       "        vertical-align: top;\n",
       "    }\n",
       "\n",
       "    .dataframe thead th {\n",
       "        text-align: right;\n",
       "    }\n",
       "</style>\n",
       "<table border=\"1\" class=\"dataframe\">\n",
       "  <thead>\n",
       "    <tr style=\"text-align: right;\">\n",
       "      <th></th>\n",
       "      <th>children</th>\n",
       "      <th>days_employed</th>\n",
       "      <th>age</th>\n",
       "      <th>education</th>\n",
       "      <th>education_id</th>\n",
       "      <th>family_status</th>\n",
       "      <th>family_status_id</th>\n",
       "      <th>gender</th>\n",
       "      <th>income_type</th>\n",
       "      <th>debt</th>\n",
       "      <th>total_income</th>\n",
       "      <th>purpose</th>\n",
       "    </tr>\n",
       "  </thead>\n",
       "  <tbody>\n",
       "    <tr>\n",
       "      <th>10701</th>\n",
       "      <td>0</td>\n",
       "      <td>-2358.600502</td>\n",
       "      <td>24</td>\n",
       "      <td>неоконченное высшее</td>\n",
       "      <td>2</td>\n",
       "      <td>гражданский брак</td>\n",
       "      <td>1</td>\n",
       "      <td>XNA</td>\n",
       "      <td>компаньон</td>\n",
       "      <td>0</td>\n",
       "      <td>203905.157261</td>\n",
       "      <td>покупка недвижимости</td>\n",
       "    </tr>\n",
       "  </tbody>\n",
       "</table>\n",
       "</div>"
      ],
      "text/plain": [
       "       children  days_employed  age            education  education_id  \\\n",
       "10701         0   -2358.600502   24  неоконченное высшее             2   \n",
       "\n",
       "          family_status  family_status_id gender income_type  debt  \\\n",
       "10701  гражданский брак                 1    XNA   компаньон     0   \n",
       "\n",
       "        total_income               purpose  \n",
       "10701  203905.157261  покупка недвижимости  "
      ]
     },
     "execution_count": 20,
     "metadata": {},
     "output_type": "execute_result"
    }
   ],
   "source": [
    "data[data['gender'] == 'XNA']"
   ]
  },
  {
   "cell_type": "markdown",
   "id": "4136a6d0",
   "metadata": {},
   "source": [
    "Он (она) в браке, но не видно способа узнать, какого пола его партнёр.\n",
    "\n",
    "Эту строку выглядит логичным удалить из данных. Она одна, потеря данных минимальна.\n",
    "\n",
    "Есть ощущение, что по учебному сценарию эту ошибку надо обработать позже, поэтому не вносим на данном этапе изменений."
   ]
  },
  {
   "cell_type": "markdown",
   "id": "0400c3b3",
   "metadata": {},
   "source": [
    "**Итого:**\n",
    "- Имеется 1 запись (0,00% от всех) с некорректным полом `XNA`.\n",
    "- Причина появления такой записей не ясна. `X` и `NA` (not avaliable) сами по себе часто означают \"нет данных\". Возможные причины:\n",
    "  - клиент хотел скрыть пол;\n",
    "  - анкета заполнялась не на себя, и пол не очевиден;\n",
    "  - пол не укладывается в бинарное \"муж/жен\".\n",
    "- Как избежать:\n",
    "  - можно заменить поле на булево is_female();\n",
    "  - если признаём много полов - запретить некоторые значения, типа содержащих 'NA', и прикреплять к данным расшифровку каждого значения.\n",
    "- Потребуется ли менять значение `XNA` на другое, решим далее."
   ]
  },
  {
   "cell_type": "markdown",
   "id": "1b1fc6c5",
   "metadata": {},
   "source": [
    "#### Анализ аномалий в `days_employed`"
   ]
  },
  {
   "cell_type": "markdown",
   "id": "7663a38c",
   "metadata": {},
   "source": [
    "Те значения, которые мы видели в этом поле - отрицательные. Какие они бывают во всей серии?"
   ]
  },
  {
   "cell_type": "code",
   "execution_count": 21,
   "id": "4b2744cf",
   "metadata": {},
   "outputs": [
    {
     "name": "stdout",
     "output_type": "stream",
     "text": [
      "Положительные значения:\n",
      "Количество: 3445, 16.00%\n",
      "Диапазон: 328729 ... 401755\n",
      "Среднее: 365004\n",
      "Медианное: 365213\n",
      "\n",
      "Отрицательные значения:\n",
      "Количество: 15906, 73.90%\n",
      "Диапазон: -24 ... -18389\n",
      "Среднее: -2353\n",
      "Медианное: -1630\n",
      "\n",
      "Нулевые значения:\n",
      "Количество: 0\n"
     ]
    }
   ],
   "source": [
    "positive_days = data[data['days_employed'] > 0 ]['days_employed']\n",
    "zero_days = data[data['days_employed'] == 0 ]['days_employed']\n",
    "negative_days = data[data['days_employed'] < 0 ]['days_employed']\n",
    "\n",
    "print('Положительные значения:')\n",
    "print(f'Количество: {positive_days.count()}, {positive_days.count() / len(data.index):.02%}')\n",
    "print(f'Диапазон: {positive_days.min():.0f} ... {positive_days.max():.0f}')\n",
    "print(f'Среднее: {positive_days.mean():.0f}')\n",
    "print(f'Медианное: {positive_days.median():.0f}')\n",
    "print()\n",
    "print('Отрицательные значения:')\n",
    "print(f'Количество: {negative_days.count()}, {negative_days.count() / len(data.index):.02%}')\n",
    "print(f'Диапазон: {negative_days.max():.0f} ... {negative_days.min():.0f}')\n",
    "print(f'Среднее: {negative_days.mean():.0f}')\n",
    "print(f'Медианное: {negative_days.median():.0f}')\n",
    "print()\n",
    "print('Нулевые значения:')\n",
    "print('Количество:', zero_days.count())"
   ]
  },
  {
   "cell_type": "markdown",
   "id": "c9da78af",
   "metadata": {},
   "source": [
    "Мы наблюдаем две разные группы величин."
   ]
  },
  {
   "cell_type": "code",
   "execution_count": 22,
   "id": "218f3b48",
   "metadata": {},
   "outputs": [
    {
     "name": "stdout",
     "output_type": "stream",
     "text": [
      "Отношения модулей \"позитивная\"/\"негативная\":\n",
      "Максимумы: 21.84765321824669\n",
      "Средние: 155.12190332098564\n",
      "Медианные: 224.05457906067704\n",
      "Минимумы: 13616.672796325116\n"
     ]
    }
   ],
   "source": [
    "print('Отношения модулей \"позитивная\"/\"негативная\":')\n",
    "print('Максимумы:', positive_days.max() / abs(negative_days.min()))\n",
    "print('Средние:', positive_days.mean() / abs(negative_days.mean()))\n",
    "print('Медианные:', positive_days.median() / abs(negative_days.median()))\n",
    "print('Минимумы:', positive_days.min() / abs(negative_days.max()))"
   ]
  },
  {
   "cell_type": "markdown",
   "id": "bcf4d162",
   "metadata": {},
   "source": [
    "Группа позитивных величин более сжатая, негативных - более растянутая. Посчитаем среднюю плотность распределения величин."
   ]
  },
  {
   "cell_type": "code",
   "execution_count": 23,
   "id": "a1b93036",
   "metadata": {},
   "outputs": [
    {
     "name": "stdout",
     "output_type": "stream",
     "text": [
      "Плотности:\n",
      "Позитивных: 21.197875143922136\n",
      "Негативных: 1.154583695921533\n"
     ]
    }
   ],
   "source": [
    "print(\"Плотности:\")\n",
    "print(\"Позитивных:\", (positive_days.max() - positive_days.min()) / positive_days.count())\n",
    "print(\"Негативных:\", (negative_days.max() - negative_days.min()) / negative_days.count())"
   ]
  },
  {
   "cell_type": "markdown",
   "id": "eda980d1",
   "metadata": {},
   "source": [
    "В негативной группе среднее различие между значениями, соседними по величине - 1.15. Это кажется логичным, если доверится тому, что `days_employed` должны исчисляться именно днями. Наши негативные величины различаются примерно на 1 день. Логично.\n",
    "\n",
    "В позитивной группе среднее различие между значениями, соседними по величине - 21.2. Если предположить, что и в этой группе плотность примерно 1 день на значение, то 21.2 близко к 24 - значению часов в 1 дне.\n",
    "\n",
    "Предположим, в позитивной группе указаны не дни, а часы трудового стажа, из расчёта 24 часа за 1 день. Проверим правдоподобность предположения."
   ]
  },
  {
   "cell_type": "code",
   "execution_count": 24,
   "id": "000883be",
   "metadata": {},
   "outputs": [
    {
     "name": "stdout",
     "output_type": "stream",
     "text": [
      "Негативная группа:\n",
      "Самый скромный стаж, лет: 0.06609799923469822\n",
      "Самый крупный стаж, лет: 50.34757940140287\n",
      "\n",
      "Позитивная группа:\n",
      "Самый скромный стаж, лет: 37.50145116960974\n",
      "Самый крупный стаж, лет: 45.83235229749959\n"
     ]
    }
   ],
   "source": [
    "gregorian_year = 365.24  # это точная длина среднего календарного года\n",
    "\n",
    "print('Негативная группа:')\n",
    "print('Самый скромный стаж, лет:', abs(negative_days.max()) / gregorian_year)\n",
    "print('Самый крупный стаж, лет:', abs(negative_days.min()) / gregorian_year)\n",
    "print()\n",
    "print('Позитивная группа:')\n",
    "print('Самый скромный стаж, лет:', positive_days.min() / gregorian_year / 24)\n",
    "print('Самый крупный стаж, лет:', positive_days.max() / gregorian_year / 24)"
   ]
  },
  {
   "cell_type": "markdown",
   "id": "22554d69",
   "metadata": {},
   "source": [
    "Теперь позитивная группа укладывается в разумные величины. Однако почему-то минимальный стаж из этой группы - 37 лет. Надо проверить соответствие возраста и стажа в обеих группах."
   ]
  },
  {
   "cell_type": "code",
   "execution_count": 25,
   "id": "5b7cff6b",
   "metadata": {},
   "outputs": [
    {
     "name": "stdout",
     "output_type": "stream",
     "text": [
      "Негативная группа:\n",
      "Возраст минимального стажа: 31\n",
      "Возраст максимального стажа: 61\n",
      "\n",
      "Позитивная группа:\n",
      "Возраст минимального стажа: 72\n",
      "Возраст максимального стажа: 56\n"
     ]
    }
   ],
   "source": [
    "print('Негативная группа:')\n",
    "print('Возраст минимального стажа:', data[data['days_employed'] == negative_days.max()]['age'].values[0])\n",
    "print('Возраст максимального стажа:', data[data['days_employed'] == negative_days.min()]['age'].values[0])\n",
    "print()\n",
    "print('Позитивная группа:')\n",
    "print('Возраст минимального стажа:', data[data['days_employed'] == positive_days.min()]['age'].values[0])\n",
    "print('Возраст максимального стажа:', data[data['days_employed'] == positive_days.max()]['age'].values[0])"
   ]
  },
  {
   "cell_type": "markdown",
   "id": "b2da3cd6",
   "metadata": {},
   "source": [
    "Итак, в позитивной группе по нашим правилам самый крупный стаж составляет почти 46 лет, и принадлежит персоне возрастом 56 лет. Возможно, человек трудился с 10-летнего возраста. Это всё ещё выглядит необычно. Но не невозможно.\n",
    "\n",
    "Следовало бы проверить все случаи: нет ли такого, что рассчитанный нами стаж больше чем возраст?\n",
    "\n",
    "Создадим столбец `employed_years`, заполним его величинами, рассчитанными из `employed_days`:"
   ]
  },
  {
   "cell_type": "code",
   "execution_count": 26,
   "id": "cb888b7d",
   "metadata": {
    "scrolled": true
   },
   "outputs": [
    {
     "name": "stdout",
     "output_type": "stream",
     "text": [
      "Минимум лет без труда: -18.42252212894803\n",
      "Медиана лет без труда: 29.367771137857403\n"
     ]
    }
   ],
   "source": [
    "def convert_employed_to_years(number):\n",
    "    if number < 0:\n",
    "        return -number / gregorian_year\n",
    "    return number / 24 / gregorian_year\n",
    "\n",
    "data['years_employed'] = data['days_employed'].apply(convert_employed_to_years)\n",
    "data['years_unemployed'] = data['age'] - data['years_employed']\n",
    "print('Минимум лет без труда:', data['years_unemployed'].min())\n",
    "print('Медиана лет без труда:', data['years_unemployed'].median())"
   ]
  },
  {
   "cell_type": "markdown",
   "id": "10e32b75",
   "metadata": {},
   "source": [
    "У нас обнаружились клиенты, стаж которых больше, чем их возраст. Так не бывает. Посмотрим, какие данные о них."
   ]
  },
  {
   "cell_type": "code",
   "execution_count": 27,
   "id": "7a6a8a34",
   "metadata": {},
   "outputs": [
    {
     "data": {
      "text/html": [
       "<div>\n",
       "<style scoped>\n",
       "    .dataframe tbody tr th:only-of-type {\n",
       "        vertical-align: middle;\n",
       "    }\n",
       "\n",
       "    .dataframe tbody tr th {\n",
       "        vertical-align: top;\n",
       "    }\n",
       "\n",
       "    .dataframe thead th {\n",
       "        text-align: right;\n",
       "    }\n",
       "</style>\n",
       "<table border=\"1\" class=\"dataframe\">\n",
       "  <thead>\n",
       "    <tr style=\"text-align: right;\">\n",
       "      <th></th>\n",
       "      <th>children</th>\n",
       "      <th>days_employed</th>\n",
       "      <th>age</th>\n",
       "      <th>education</th>\n",
       "      <th>education_id</th>\n",
       "      <th>family_status</th>\n",
       "      <th>family_status_id</th>\n",
       "      <th>gender</th>\n",
       "      <th>income_type</th>\n",
       "      <th>debt</th>\n",
       "      <th>total_income</th>\n",
       "      <th>purpose</th>\n",
       "      <th>years_employed</th>\n",
       "      <th>years_unemployed</th>\n",
       "    </tr>\n",
       "  </thead>\n",
       "  <tbody>\n",
       "    <tr>\n",
       "      <th>157</th>\n",
       "      <td>0</td>\n",
       "      <td>348414.028009</td>\n",
       "      <td>38</td>\n",
       "      <td>среднее</td>\n",
       "      <td>1</td>\n",
       "      <td>женат / замужем</td>\n",
       "      <td>0</td>\n",
       "      <td>F</td>\n",
       "      <td>пенсионер</td>\n",
       "      <td>1</td>\n",
       "      <td>113560.650035</td>\n",
       "      <td>сделка с автомобилем</td>\n",
       "      <td>39.747156</td>\n",
       "      <td>-1.747156</td>\n",
       "    </tr>\n",
       "    <tr>\n",
       "      <th>578</th>\n",
       "      <td>0</td>\n",
       "      <td>397856.565013</td>\n",
       "      <td>42</td>\n",
       "      <td>среднее</td>\n",
       "      <td>1</td>\n",
       "      <td>женат / замужем</td>\n",
       "      <td>0</td>\n",
       "      <td>F</td>\n",
       "      <td>пенсионер</td>\n",
       "      <td>0</td>\n",
       "      <td>97620.687042</td>\n",
       "      <td>строительство собственной недвижимости</td>\n",
       "      <td>45.387572</td>\n",
       "      <td>-3.387572</td>\n",
       "    </tr>\n",
       "    <tr>\n",
       "      <th>751</th>\n",
       "      <td>0</td>\n",
       "      <td>390755.464054</td>\n",
       "      <td>41</td>\n",
       "      <td>среднее</td>\n",
       "      <td>1</td>\n",
       "      <td>женат / замужем</td>\n",
       "      <td>0</td>\n",
       "      <td>M</td>\n",
       "      <td>пенсионер</td>\n",
       "      <td>0</td>\n",
       "      <td>151898.693438</td>\n",
       "      <td>операции со своей недвижимостью</td>\n",
       "      <td>44.577477</td>\n",
       "      <td>-3.577477</td>\n",
       "    </tr>\n",
       "    <tr>\n",
       "      <th>776</th>\n",
       "      <td>0</td>\n",
       "      <td>365336.560325</td>\n",
       "      <td>38</td>\n",
       "      <td>среднее</td>\n",
       "      <td>1</td>\n",
       "      <td>женат / замужем</td>\n",
       "      <td>0</td>\n",
       "      <td>F</td>\n",
       "      <td>пенсионер</td>\n",
       "      <td>0</td>\n",
       "      <td>73859.425084</td>\n",
       "      <td>покупка недвижимости</td>\n",
       "      <td>41.677682</td>\n",
       "      <td>-3.677682</td>\n",
       "    </tr>\n",
       "    <tr>\n",
       "      <th>1175</th>\n",
       "      <td>0</td>\n",
       "      <td>370879.508002</td>\n",
       "      <td>42</td>\n",
       "      <td>среднее</td>\n",
       "      <td>1</td>\n",
       "      <td>женат / замужем</td>\n",
       "      <td>0</td>\n",
       "      <td>F</td>\n",
       "      <td>пенсионер</td>\n",
       "      <td>0</td>\n",
       "      <td>313949.845188</td>\n",
       "      <td>получение дополнительного образования</td>\n",
       "      <td>42.310023</td>\n",
       "      <td>-0.310023</td>\n",
       "    </tr>\n",
       "    <tr>\n",
       "      <th>1242</th>\n",
       "      <td>0</td>\n",
       "      <td>334764.259831</td>\n",
       "      <td>22</td>\n",
       "      <td>Среднее</td>\n",
       "      <td>1</td>\n",
       "      <td>Не женат / не замужем</td>\n",
       "      <td>4</td>\n",
       "      <td>F</td>\n",
       "      <td>пенсионер</td>\n",
       "      <td>0</td>\n",
       "      <td>89368.600062</td>\n",
       "      <td>получение высшего образования</td>\n",
       "      <td>38.189987</td>\n",
       "      <td>-16.189987</td>\n",
       "    </tr>\n",
       "    <tr>\n",
       "      <th>1383</th>\n",
       "      <td>0</td>\n",
       "      <td>353802.811675</td>\n",
       "      <td>37</td>\n",
       "      <td>среднее</td>\n",
       "      <td>1</td>\n",
       "      <td>вдовец / вдова</td>\n",
       "      <td>2</td>\n",
       "      <td>F</td>\n",
       "      <td>пенсионер</td>\n",
       "      <td>0</td>\n",
       "      <td>216452.226085</td>\n",
       "      <td>строительство недвижимости</td>\n",
       "      <td>40.361909</td>\n",
       "      <td>-3.361909</td>\n",
       "    </tr>\n",
       "    <tr>\n",
       "      <th>1446</th>\n",
       "      <td>0</td>\n",
       "      <td>338939.641634</td>\n",
       "      <td>37</td>\n",
       "      <td>СРЕДНЕЕ</td>\n",
       "      <td>1</td>\n",
       "      <td>гражданский брак</td>\n",
       "      <td>1</td>\n",
       "      <td>M</td>\n",
       "      <td>пенсионер</td>\n",
       "      <td>0</td>\n",
       "      <td>148657.128499</td>\n",
       "      <td>свадьба</td>\n",
       "      <td>38.666315</td>\n",
       "      <td>-1.666315</td>\n",
       "    </tr>\n",
       "    <tr>\n",
       "      <th>1637</th>\n",
       "      <td>0</td>\n",
       "      <td>399260.448516</td>\n",
       "      <td>39</td>\n",
       "      <td>среднее</td>\n",
       "      <td>1</td>\n",
       "      <td>женат / замужем</td>\n",
       "      <td>0</td>\n",
       "      <td>M</td>\n",
       "      <td>пенсионер</td>\n",
       "      <td>0</td>\n",
       "      <td>211513.978152</td>\n",
       "      <td>операции с недвижимостью</td>\n",
       "      <td>45.547728</td>\n",
       "      <td>-6.547728</td>\n",
       "    </tr>\n",
       "    <tr>\n",
       "      <th>1752</th>\n",
       "      <td>1</td>\n",
       "      <td>389979.039432</td>\n",
       "      <td>38</td>\n",
       "      <td>ВЫСШЕЕ</td>\n",
       "      <td>0</td>\n",
       "      <td>Не женат / не замужем</td>\n",
       "      <td>4</td>\n",
       "      <td>F</td>\n",
       "      <td>пенсионер</td>\n",
       "      <td>0</td>\n",
       "      <td>311574.433591</td>\n",
       "      <td>покупка недвижимости</td>\n",
       "      <td>44.488902</td>\n",
       "      <td>-6.488902</td>\n",
       "    </tr>\n",
       "  </tbody>\n",
       "</table>\n",
       "</div>"
      ],
      "text/plain": [
       "      children  days_employed  age education  education_id  \\\n",
       "157          0  348414.028009   38   среднее             1   \n",
       "578          0  397856.565013   42   среднее             1   \n",
       "751          0  390755.464054   41   среднее             1   \n",
       "776          0  365336.560325   38   среднее             1   \n",
       "1175         0  370879.508002   42   среднее             1   \n",
       "1242         0  334764.259831   22   Среднее             1   \n",
       "1383         0  353802.811675   37   среднее             1   \n",
       "1446         0  338939.641634   37   СРЕДНЕЕ             1   \n",
       "1637         0  399260.448516   39   среднее             1   \n",
       "1752         1  389979.039432   38    ВЫСШЕЕ             0   \n",
       "\n",
       "              family_status  family_status_id gender income_type  debt  \\\n",
       "157         женат / замужем                 0      F   пенсионер     1   \n",
       "578         женат / замужем                 0      F   пенсионер     0   \n",
       "751         женат / замужем                 0      M   пенсионер     0   \n",
       "776         женат / замужем                 0      F   пенсионер     0   \n",
       "1175        женат / замужем                 0      F   пенсионер     0   \n",
       "1242  Не женат / не замужем                 4      F   пенсионер     0   \n",
       "1383         вдовец / вдова                 2      F   пенсионер     0   \n",
       "1446       гражданский брак                 1      M   пенсионер     0   \n",
       "1637        женат / замужем                 0      M   пенсионер     0   \n",
       "1752  Не женат / не замужем                 4      F   пенсионер     0   \n",
       "\n",
       "       total_income                                 purpose  years_employed  \\\n",
       "157   113560.650035                    сделка с автомобилем       39.747156   \n",
       "578    97620.687042  строительство собственной недвижимости       45.387572   \n",
       "751   151898.693438         операции со своей недвижимостью       44.577477   \n",
       "776    73859.425084                    покупка недвижимости       41.677682   \n",
       "1175  313949.845188   получение дополнительного образования       42.310023   \n",
       "1242   89368.600062           получение высшего образования       38.189987   \n",
       "1383  216452.226085              строительство недвижимости       40.361909   \n",
       "1446  148657.128499                                 свадьба       38.666315   \n",
       "1637  211513.978152                операции с недвижимостью       45.547728   \n",
       "1752  311574.433591                    покупка недвижимости       44.488902   \n",
       "\n",
       "      years_unemployed  \n",
       "157          -1.747156  \n",
       "578          -3.387572  \n",
       "751          -3.577477  \n",
       "776          -3.677682  \n",
       "1175         -0.310023  \n",
       "1242        -16.189987  \n",
       "1383         -3.361909  \n",
       "1446         -1.666315  \n",
       "1637         -6.547728  \n",
       "1752         -6.488902  "
      ]
     },
     "execution_count": 27,
     "metadata": {},
     "output_type": "execute_result"
    }
   ],
   "source": [
    "data[data['years_unemployed'] < 0].head(10)"
   ]
  },
  {
   "cell_type": "markdown",
   "id": "969e64d1",
   "metadata": {},
   "source": [
    "У многих из них `age` равен 0. Нехорошо. Исключаем таких. Что известно о тех, у кого возраст указан, и стаж больше возраста?"
   ]
  },
  {
   "cell_type": "code",
   "execution_count": 28,
   "id": "593ce83d",
   "metadata": {},
   "outputs": [
    {
     "data": {
      "text/html": [
       "<div>\n",
       "<style scoped>\n",
       "    .dataframe tbody tr th:only-of-type {\n",
       "        vertical-align: middle;\n",
       "    }\n",
       "\n",
       "    .dataframe tbody tr th {\n",
       "        vertical-align: top;\n",
       "    }\n",
       "\n",
       "    .dataframe thead th {\n",
       "        text-align: right;\n",
       "    }\n",
       "</style>\n",
       "<table border=\"1\" class=\"dataframe\">\n",
       "  <thead>\n",
       "    <tr style=\"text-align: right;\">\n",
       "      <th></th>\n",
       "      <th>children</th>\n",
       "      <th>days_employed</th>\n",
       "      <th>age</th>\n",
       "      <th>education</th>\n",
       "      <th>education_id</th>\n",
       "      <th>family_status</th>\n",
       "      <th>family_status_id</th>\n",
       "      <th>gender</th>\n",
       "      <th>income_type</th>\n",
       "      <th>debt</th>\n",
       "      <th>total_income</th>\n",
       "      <th>purpose</th>\n",
       "      <th>years_employed</th>\n",
       "      <th>years_unemployed</th>\n",
       "    </tr>\n",
       "  </thead>\n",
       "  <tbody>\n",
       "    <tr>\n",
       "      <th>157</th>\n",
       "      <td>0</td>\n",
       "      <td>348414.028009</td>\n",
       "      <td>38</td>\n",
       "      <td>среднее</td>\n",
       "      <td>1</td>\n",
       "      <td>женат / замужем</td>\n",
       "      <td>0</td>\n",
       "      <td>F</td>\n",
       "      <td>пенсионер</td>\n",
       "      <td>1</td>\n",
       "      <td>113560.650035</td>\n",
       "      <td>сделка с автомобилем</td>\n",
       "      <td>39.747156</td>\n",
       "      <td>-1.747156</td>\n",
       "    </tr>\n",
       "    <tr>\n",
       "      <th>578</th>\n",
       "      <td>0</td>\n",
       "      <td>397856.565013</td>\n",
       "      <td>42</td>\n",
       "      <td>среднее</td>\n",
       "      <td>1</td>\n",
       "      <td>женат / замужем</td>\n",
       "      <td>0</td>\n",
       "      <td>F</td>\n",
       "      <td>пенсионер</td>\n",
       "      <td>0</td>\n",
       "      <td>97620.687042</td>\n",
       "      <td>строительство собственной недвижимости</td>\n",
       "      <td>45.387572</td>\n",
       "      <td>-3.387572</td>\n",
       "    </tr>\n",
       "    <tr>\n",
       "      <th>751</th>\n",
       "      <td>0</td>\n",
       "      <td>390755.464054</td>\n",
       "      <td>41</td>\n",
       "      <td>среднее</td>\n",
       "      <td>1</td>\n",
       "      <td>женат / замужем</td>\n",
       "      <td>0</td>\n",
       "      <td>M</td>\n",
       "      <td>пенсионер</td>\n",
       "      <td>0</td>\n",
       "      <td>151898.693438</td>\n",
       "      <td>операции со своей недвижимостью</td>\n",
       "      <td>44.577477</td>\n",
       "      <td>-3.577477</td>\n",
       "    </tr>\n",
       "    <tr>\n",
       "      <th>776</th>\n",
       "      <td>0</td>\n",
       "      <td>365336.560325</td>\n",
       "      <td>38</td>\n",
       "      <td>среднее</td>\n",
       "      <td>1</td>\n",
       "      <td>женат / замужем</td>\n",
       "      <td>0</td>\n",
       "      <td>F</td>\n",
       "      <td>пенсионер</td>\n",
       "      <td>0</td>\n",
       "      <td>73859.425084</td>\n",
       "      <td>покупка недвижимости</td>\n",
       "      <td>41.677682</td>\n",
       "      <td>-3.677682</td>\n",
       "    </tr>\n",
       "    <tr>\n",
       "      <th>1175</th>\n",
       "      <td>0</td>\n",
       "      <td>370879.508002</td>\n",
       "      <td>42</td>\n",
       "      <td>среднее</td>\n",
       "      <td>1</td>\n",
       "      <td>женат / замужем</td>\n",
       "      <td>0</td>\n",
       "      <td>F</td>\n",
       "      <td>пенсионер</td>\n",
       "      <td>0</td>\n",
       "      <td>313949.845188</td>\n",
       "      <td>получение дополнительного образования</td>\n",
       "      <td>42.310023</td>\n",
       "      <td>-0.310023</td>\n",
       "    </tr>\n",
       "    <tr>\n",
       "      <th>1242</th>\n",
       "      <td>0</td>\n",
       "      <td>334764.259831</td>\n",
       "      <td>22</td>\n",
       "      <td>Среднее</td>\n",
       "      <td>1</td>\n",
       "      <td>Не женат / не замужем</td>\n",
       "      <td>4</td>\n",
       "      <td>F</td>\n",
       "      <td>пенсионер</td>\n",
       "      <td>0</td>\n",
       "      <td>89368.600062</td>\n",
       "      <td>получение высшего образования</td>\n",
       "      <td>38.189987</td>\n",
       "      <td>-16.189987</td>\n",
       "    </tr>\n",
       "    <tr>\n",
       "      <th>1383</th>\n",
       "      <td>0</td>\n",
       "      <td>353802.811675</td>\n",
       "      <td>37</td>\n",
       "      <td>среднее</td>\n",
       "      <td>1</td>\n",
       "      <td>вдовец / вдова</td>\n",
       "      <td>2</td>\n",
       "      <td>F</td>\n",
       "      <td>пенсионер</td>\n",
       "      <td>0</td>\n",
       "      <td>216452.226085</td>\n",
       "      <td>строительство недвижимости</td>\n",
       "      <td>40.361909</td>\n",
       "      <td>-3.361909</td>\n",
       "    </tr>\n",
       "    <tr>\n",
       "      <th>1446</th>\n",
       "      <td>0</td>\n",
       "      <td>338939.641634</td>\n",
       "      <td>37</td>\n",
       "      <td>СРЕДНЕЕ</td>\n",
       "      <td>1</td>\n",
       "      <td>гражданский брак</td>\n",
       "      <td>1</td>\n",
       "      <td>M</td>\n",
       "      <td>пенсионер</td>\n",
       "      <td>0</td>\n",
       "      <td>148657.128499</td>\n",
       "      <td>свадьба</td>\n",
       "      <td>38.666315</td>\n",
       "      <td>-1.666315</td>\n",
       "    </tr>\n",
       "    <tr>\n",
       "      <th>1637</th>\n",
       "      <td>0</td>\n",
       "      <td>399260.448516</td>\n",
       "      <td>39</td>\n",
       "      <td>среднее</td>\n",
       "      <td>1</td>\n",
       "      <td>женат / замужем</td>\n",
       "      <td>0</td>\n",
       "      <td>M</td>\n",
       "      <td>пенсионер</td>\n",
       "      <td>0</td>\n",
       "      <td>211513.978152</td>\n",
       "      <td>операции с недвижимостью</td>\n",
       "      <td>45.547728</td>\n",
       "      <td>-6.547728</td>\n",
       "    </tr>\n",
       "    <tr>\n",
       "      <th>1752</th>\n",
       "      <td>1</td>\n",
       "      <td>389979.039432</td>\n",
       "      <td>38</td>\n",
       "      <td>ВЫСШЕЕ</td>\n",
       "      <td>0</td>\n",
       "      <td>Не женат / не замужем</td>\n",
       "      <td>4</td>\n",
       "      <td>F</td>\n",
       "      <td>пенсионер</td>\n",
       "      <td>0</td>\n",
       "      <td>311574.433591</td>\n",
       "      <td>покупка недвижимости</td>\n",
       "      <td>44.488902</td>\n",
       "      <td>-6.488902</td>\n",
       "    </tr>\n",
       "  </tbody>\n",
       "</table>\n",
       "</div>"
      ],
      "text/plain": [
       "      children  days_employed  age education  education_id  \\\n",
       "157          0  348414.028009   38   среднее             1   \n",
       "578          0  397856.565013   42   среднее             1   \n",
       "751          0  390755.464054   41   среднее             1   \n",
       "776          0  365336.560325   38   среднее             1   \n",
       "1175         0  370879.508002   42   среднее             1   \n",
       "1242         0  334764.259831   22   Среднее             1   \n",
       "1383         0  353802.811675   37   среднее             1   \n",
       "1446         0  338939.641634   37   СРЕДНЕЕ             1   \n",
       "1637         0  399260.448516   39   среднее             1   \n",
       "1752         1  389979.039432   38    ВЫСШЕЕ             0   \n",
       "\n",
       "              family_status  family_status_id gender income_type  debt  \\\n",
       "157         женат / замужем                 0      F   пенсионер     1   \n",
       "578         женат / замужем                 0      F   пенсионер     0   \n",
       "751         женат / замужем                 0      M   пенсионер     0   \n",
       "776         женат / замужем                 0      F   пенсионер     0   \n",
       "1175        женат / замужем                 0      F   пенсионер     0   \n",
       "1242  Не женат / не замужем                 4      F   пенсионер     0   \n",
       "1383         вдовец / вдова                 2      F   пенсионер     0   \n",
       "1446       гражданский брак                 1      M   пенсионер     0   \n",
       "1637        женат / замужем                 0      M   пенсионер     0   \n",
       "1752  Не женат / не замужем                 4      F   пенсионер     0   \n",
       "\n",
       "       total_income                                 purpose  years_employed  \\\n",
       "157   113560.650035                    сделка с автомобилем       39.747156   \n",
       "578    97620.687042  строительство собственной недвижимости       45.387572   \n",
       "751   151898.693438         операции со своей недвижимостью       44.577477   \n",
       "776    73859.425084                    покупка недвижимости       41.677682   \n",
       "1175  313949.845188   получение дополнительного образования       42.310023   \n",
       "1242   89368.600062           получение высшего образования       38.189987   \n",
       "1383  216452.226085              строительство недвижимости       40.361909   \n",
       "1446  148657.128499                                 свадьба       38.666315   \n",
       "1637  211513.978152                операции с недвижимостью       45.547728   \n",
       "1752  311574.433591                    покупка недвижимости       44.488902   \n",
       "\n",
       "      years_unemployed  \n",
       "157          -1.747156  \n",
       "578          -3.387572  \n",
       "751          -3.577477  \n",
       "776          -3.677682  \n",
       "1175         -0.310023  \n",
       "1242        -16.189987  \n",
       "1383         -3.361909  \n",
       "1446         -1.666315  \n",
       "1637         -6.547728  \n",
       "1752         -6.488902  "
      ]
     },
     "execution_count": 28,
     "metadata": {},
     "output_type": "execute_result"
    }
   ],
   "source": [
    "data[(data['years_unemployed'] < 0) & (data['age'] > 0)].head(10)"
   ]
  },
  {
   "cell_type": "markdown",
   "id": "a83c2581",
   "metadata": {},
   "source": [
    "У этих, похоже, все величины `days_employed` из положительной группы. Найдём тех, у кого не нулевой возраст, отрицательные `days_employed` и `years_unemployed`."
   ]
  },
  {
   "cell_type": "code",
   "execution_count": 29,
   "id": "4af55499",
   "metadata": {
    "scrolled": true
   },
   "outputs": [
    {
     "data": {
      "text/html": [
       "<div>\n",
       "<style scoped>\n",
       "    .dataframe tbody tr th:only-of-type {\n",
       "        vertical-align: middle;\n",
       "    }\n",
       "\n",
       "    .dataframe tbody tr th {\n",
       "        vertical-align: top;\n",
       "    }\n",
       "\n",
       "    .dataframe thead th {\n",
       "        text-align: right;\n",
       "    }\n",
       "</style>\n",
       "<table border=\"1\" class=\"dataframe\">\n",
       "  <thead>\n",
       "    <tr style=\"text-align: right;\">\n",
       "      <th></th>\n",
       "      <th>children</th>\n",
       "      <th>days_employed</th>\n",
       "      <th>age</th>\n",
       "      <th>education</th>\n",
       "      <th>education_id</th>\n",
       "      <th>family_status</th>\n",
       "      <th>family_status_id</th>\n",
       "      <th>gender</th>\n",
       "      <th>income_type</th>\n",
       "      <th>debt</th>\n",
       "      <th>total_income</th>\n",
       "      <th>purpose</th>\n",
       "      <th>years_employed</th>\n",
       "      <th>years_unemployed</th>\n",
       "    </tr>\n",
       "  </thead>\n",
       "  <tbody>\n",
       "  </tbody>\n",
       "</table>\n",
       "</div>"
      ],
      "text/plain": [
       "Empty DataFrame\n",
       "Columns: [children, days_employed, age, education, education_id, family_status, family_status_id, gender, income_type, debt, total_income, purpose, years_employed, years_unemployed]\n",
       "Index: []"
      ]
     },
     "execution_count": 29,
     "metadata": {},
     "output_type": "execute_result"
    }
   ],
   "source": [
    "data[(data['years_unemployed'] < 0) & (data['age'] > 0) & (data['days_employed'] < 0)].head(10)"
   ]
  },
  {
   "cell_type": "markdown",
   "id": "97e3eb85",
   "metadata": {},
   "source": [
    "Таких нет! Выходит, все отрицательные `years_unemployed` вызваны либо неверным возрастом, либо неверной интерпретацией положительных `days_employed`.\n",
    "\n",
    "Посмотрим клиентов, у которых всё в порядке с возрастом и с `days_employed`. Найдём 10 тех, у кого наименьший `years_unemployed`."
   ]
  },
  {
   "cell_type": "code",
   "execution_count": 30,
   "id": "7c9ccde2",
   "metadata": {
    "scrolled": true
   },
   "outputs": [
    {
     "data": {
      "text/html": [
       "<div>\n",
       "<style scoped>\n",
       "    .dataframe tbody tr th:only-of-type {\n",
       "        vertical-align: middle;\n",
       "    }\n",
       "\n",
       "    .dataframe tbody tr th {\n",
       "        vertical-align: top;\n",
       "    }\n",
       "\n",
       "    .dataframe thead th {\n",
       "        text-align: right;\n",
       "    }\n",
       "</style>\n",
       "<table border=\"1\" class=\"dataframe\">\n",
       "  <thead>\n",
       "    <tr style=\"text-align: right;\">\n",
       "      <th></th>\n",
       "      <th>children</th>\n",
       "      <th>days_employed</th>\n",
       "      <th>age</th>\n",
       "      <th>education</th>\n",
       "      <th>education_id</th>\n",
       "      <th>family_status</th>\n",
       "      <th>family_status_id</th>\n",
       "      <th>gender</th>\n",
       "      <th>income_type</th>\n",
       "      <th>debt</th>\n",
       "      <th>total_income</th>\n",
       "      <th>purpose</th>\n",
       "      <th>years_employed</th>\n",
       "      <th>years_unemployed</th>\n",
       "    </tr>\n",
       "  </thead>\n",
       "  <tbody>\n",
       "    <tr>\n",
       "      <th>16335</th>\n",
       "      <td>1</td>\n",
       "      <td>-18388.949901</td>\n",
       "      <td>61</td>\n",
       "      <td>среднее</td>\n",
       "      <td>1</td>\n",
       "      <td>женат / замужем</td>\n",
       "      <td>0</td>\n",
       "      <td>F</td>\n",
       "      <td>сотрудник</td>\n",
       "      <td>0</td>\n",
       "      <td>186178.934089</td>\n",
       "      <td>операции с недвижимостью</td>\n",
       "      <td>50.347579</td>\n",
       "      <td>10.652421</td>\n",
       "    </tr>\n",
       "    <tr>\n",
       "      <th>5708</th>\n",
       "      <td>0</td>\n",
       "      <td>-13210.485012</td>\n",
       "      <td>47</td>\n",
       "      <td>среднее</td>\n",
       "      <td>1</td>\n",
       "      <td>женат / замужем</td>\n",
       "      <td>0</td>\n",
       "      <td>F</td>\n",
       "      <td>сотрудник</td>\n",
       "      <td>0</td>\n",
       "      <td>144845.875361</td>\n",
       "      <td>покупка недвижимости</td>\n",
       "      <td>36.169327</td>\n",
       "      <td>10.830673</td>\n",
       "    </tr>\n",
       "    <tr>\n",
       "      <th>397</th>\n",
       "      <td>0</td>\n",
       "      <td>-12506.318296</td>\n",
       "      <td>46</td>\n",
       "      <td>среднее</td>\n",
       "      <td>1</td>\n",
       "      <td>женат / замужем</td>\n",
       "      <td>0</td>\n",
       "      <td>F</td>\n",
       "      <td>сотрудник</td>\n",
       "      <td>0</td>\n",
       "      <td>292843.287967</td>\n",
       "      <td>недвижимость</td>\n",
       "      <td>34.241371</td>\n",
       "      <td>11.758629</td>\n",
       "    </tr>\n",
       "    <tr>\n",
       "      <th>5959</th>\n",
       "      <td>0</td>\n",
       "      <td>-10939.299825</td>\n",
       "      <td>42</td>\n",
       "      <td>среднее</td>\n",
       "      <td>1</td>\n",
       "      <td>женат / замужем</td>\n",
       "      <td>0</td>\n",
       "      <td>F</td>\n",
       "      <td>сотрудник</td>\n",
       "      <td>0</td>\n",
       "      <td>74840.802028</td>\n",
       "      <td>автомобиль</td>\n",
       "      <td>29.950991</td>\n",
       "      <td>12.049009</td>\n",
       "    </tr>\n",
       "    <tr>\n",
       "      <th>13531</th>\n",
       "      <td>0</td>\n",
       "      <td>-9762.839918</td>\n",
       "      <td>39</td>\n",
       "      <td>среднее</td>\n",
       "      <td>1</td>\n",
       "      <td>женат / замужем</td>\n",
       "      <td>0</td>\n",
       "      <td>F</td>\n",
       "      <td>сотрудник</td>\n",
       "      <td>0</td>\n",
       "      <td>129855.627483</td>\n",
       "      <td>операции с коммерческой недвижимостью</td>\n",
       "      <td>26.729931</td>\n",
       "      <td>12.270069</td>\n",
       "    </tr>\n",
       "    <tr>\n",
       "      <th>2492</th>\n",
       "      <td>0</td>\n",
       "      <td>-13724.223884</td>\n",
       "      <td>50</td>\n",
       "      <td>высшее</td>\n",
       "      <td>0</td>\n",
       "      <td>женат / замужем</td>\n",
       "      <td>0</td>\n",
       "      <td>F</td>\n",
       "      <td>сотрудник</td>\n",
       "      <td>0</td>\n",
       "      <td>88152.289893</td>\n",
       "      <td>строительство жилой недвижимости</td>\n",
       "      <td>37.575906</td>\n",
       "      <td>12.424094</td>\n",
       "    </tr>\n",
       "    <tr>\n",
       "      <th>2082</th>\n",
       "      <td>0</td>\n",
       "      <td>-10689.250498</td>\n",
       "      <td>42</td>\n",
       "      <td>среднее</td>\n",
       "      <td>1</td>\n",
       "      <td>женат / замужем</td>\n",
       "      <td>0</td>\n",
       "      <td>F</td>\n",
       "      <td>сотрудник</td>\n",
       "      <td>0</td>\n",
       "      <td>386373.636958</td>\n",
       "      <td>операции с недвижимостью</td>\n",
       "      <td>29.266374</td>\n",
       "      <td>12.733626</td>\n",
       "    </tr>\n",
       "    <tr>\n",
       "      <th>4299</th>\n",
       "      <td>0</td>\n",
       "      <td>-17615.563266</td>\n",
       "      <td>61</td>\n",
       "      <td>среднее</td>\n",
       "      <td>1</td>\n",
       "      <td>женат / замужем</td>\n",
       "      <td>0</td>\n",
       "      <td>F</td>\n",
       "      <td>компаньон</td>\n",
       "      <td>0</td>\n",
       "      <td>122560.741753</td>\n",
       "      <td>покупка жилья</td>\n",
       "      <td>48.230104</td>\n",
       "      <td>12.769896</td>\n",
       "    </tr>\n",
       "    <tr>\n",
       "      <th>18851</th>\n",
       "      <td>0</td>\n",
       "      <td>-10637.001569</td>\n",
       "      <td>42</td>\n",
       "      <td>среднее</td>\n",
       "      <td>1</td>\n",
       "      <td>женат / замужем</td>\n",
       "      <td>0</td>\n",
       "      <td>F</td>\n",
       "      <td>госслужащий</td>\n",
       "      <td>0</td>\n",
       "      <td>136537.132625</td>\n",
       "      <td>дополнительное образование</td>\n",
       "      <td>29.123320</td>\n",
       "      <td>12.876680</td>\n",
       "    </tr>\n",
       "    <tr>\n",
       "      <th>19902</th>\n",
       "      <td>0</td>\n",
       "      <td>-8436.151295</td>\n",
       "      <td>36</td>\n",
       "      <td>среднее</td>\n",
       "      <td>1</td>\n",
       "      <td>гражданский брак</td>\n",
       "      <td>1</td>\n",
       "      <td>F</td>\n",
       "      <td>сотрудник</td>\n",
       "      <td>0</td>\n",
       "      <td>91250.788331</td>\n",
       "      <td>свадьба</td>\n",
       "      <td>23.097556</td>\n",
       "      <td>12.902444</td>\n",
       "    </tr>\n",
       "  </tbody>\n",
       "</table>\n",
       "</div>"
      ],
      "text/plain": [
       "       children  days_employed  age education  education_id     family_status  \\\n",
       "16335         1  -18388.949901   61   среднее             1   женат / замужем   \n",
       "5708          0  -13210.485012   47   среднее             1   женат / замужем   \n",
       "397           0  -12506.318296   46   среднее             1   женат / замужем   \n",
       "5959          0  -10939.299825   42   среднее             1   женат / замужем   \n",
       "13531         0   -9762.839918   39   среднее             1   женат / замужем   \n",
       "2492          0  -13724.223884   50    высшее             0   женат / замужем   \n",
       "2082          0  -10689.250498   42   среднее             1   женат / замужем   \n",
       "4299          0  -17615.563266   61   среднее             1   женат / замужем   \n",
       "18851         0  -10637.001569   42   среднее             1   женат / замужем   \n",
       "19902         0   -8436.151295   36   среднее             1  гражданский брак   \n",
       "\n",
       "       family_status_id gender  income_type  debt   total_income  \\\n",
       "16335                 0      F    сотрудник     0  186178.934089   \n",
       "5708                  0      F    сотрудник     0  144845.875361   \n",
       "397                   0      F    сотрудник     0  292843.287967   \n",
       "5959                  0      F    сотрудник     0   74840.802028   \n",
       "13531                 0      F    сотрудник     0  129855.627483   \n",
       "2492                  0      F    сотрудник     0   88152.289893   \n",
       "2082                  0      F    сотрудник     0  386373.636958   \n",
       "4299                  0      F    компаньон     0  122560.741753   \n",
       "18851                 0      F  госслужащий     0  136537.132625   \n",
       "19902                 1      F    сотрудник     0   91250.788331   \n",
       "\n",
       "                                     purpose  years_employed  years_unemployed  \n",
       "16335               операции с недвижимостью       50.347579         10.652421  \n",
       "5708                    покупка недвижимости       36.169327         10.830673  \n",
       "397                             недвижимость       34.241371         11.758629  \n",
       "5959                              автомобиль       29.950991         12.049009  \n",
       "13531  операции с коммерческой недвижимостью       26.729931         12.270069  \n",
       "2492        строительство жилой недвижимости       37.575906         12.424094  \n",
       "2082                операции с недвижимостью       29.266374         12.733626  \n",
       "4299                           покупка жилья       48.230104         12.769896  \n",
       "18851             дополнительное образование       29.123320         12.876680  \n",
       "19902                                свадьба       23.097556         12.902444  "
      ]
     },
     "execution_count": 30,
     "metadata": {},
     "output_type": "execute_result"
    }
   ],
   "source": [
    "data[(data['age'] > 0) & (data['days_employed'] < 0)].sort_values('years_unemployed').head(10)"
   ]
  },
  {
   "cell_type": "markdown",
   "id": "955c2b3f",
   "metadata": {},
   "source": [
    "Величины `years_unemployed` выглядят сейчас реалистичней, чем ранее.\n",
    "\n",
    "Пора привести в порядок таблицу. Очистим от двух служебных колонок."
   ]
  },
  {
   "cell_type": "code",
   "execution_count": 31,
   "id": "c076e1ac",
   "metadata": {},
   "outputs": [
    {
     "name": "stdout",
     "output_type": "stream",
     "text": [
      "<class 'pandas.core.frame.DataFrame'>\n",
      "RangeIndex: 21525 entries, 0 to 21524\n",
      "Data columns (total 12 columns):\n",
      " #   Column            Non-Null Count  Dtype  \n",
      "---  ------            --------------  -----  \n",
      " 0   children          21525 non-null  int32  \n",
      " 1   days_employed     19351 non-null  float64\n",
      " 2   age               21525 non-null  int32  \n",
      " 3   education         21525 non-null  object \n",
      " 4   education_id      21525 non-null  int64  \n",
      " 5   family_status     21525 non-null  object \n",
      " 6   family_status_id  21525 non-null  int64  \n",
      " 7   gender            21525 non-null  object \n",
      " 8   income_type       21525 non-null  object \n",
      " 9   debt              21525 non-null  int64  \n",
      " 10  total_income      19351 non-null  float64\n",
      " 11  purpose           21525 non-null  object \n",
      "dtypes: float64(2), int32(2), int64(3), object(5)\n",
      "memory usage: 1.8+ MB\n"
     ]
    }
   ],
   "source": [
    "data.drop(columns=['years_employed', 'years_unemployed'], inplace=True)\n",
    "data.info()"
   ]
  },
  {
   "cell_type": "markdown",
   "id": "b7487300",
   "metadata": {},
   "source": [
    "Что же всё таки значат \"позитивные\" величины (они теперь отрицательные)? Посмотрим, как они распределены среди возрастов."
   ]
  },
  {
   "cell_type": "code",
   "execution_count": 32,
   "id": "aacd5cdf",
   "metadata": {
    "scrolled": true
   },
   "outputs": [
    {
     "name": "stdout",
     "output_type": "stream",
     "text": [
      "22: 183, 0.85%\n",
      "26: 408, 1.90%\n",
      "27: 493, 2.29%\n",
      "28: 503, 2.34%\n",
      "31: 560, 2.60%\n",
      "32: 510, 2.37%\n",
      "33: 581, 2.70%\n",
      "34: 603, 2.80%\n",
      "35: 617, 2.87%\n",
      "36: 555, 2.58%\n",
      "37: 537, 2.49%\n",
      "38: 598, 2.78%\n",
      "39: 573, 2.66%\n",
      "40: 609, 2.83%\n",
      "41: 607, 2.82%\n",
      "42: 698, 3.24%\n",
      "43: 513, 2.38%\n",
      "44: 547, 2.54%\n",
      "45: 497, 2.31%\n",
      "46: 475, 2.21%\n",
      "47: 480, 2.23%\n",
      "48: 538, 2.50%\n",
      "49: 508, 2.36%\n",
      "50: 514, 2.39%\n",
      "51: 448, 2.08%\n",
      "52: 484, 2.25%\n",
      "53: 459, 2.13%\n",
      "54: 479, 2.23%\n",
      "55: 443, 2.06%\n",
      "56: 487, 2.26%\n",
      "57: 460, 2.14%\n",
      "58: 461, 2.14%\n",
      "59: 444, 2.06%\n",
      "60: 377, 1.75%\n",
      "61: 355, 1.65%\n",
      "62: 352, 1.64%\n",
      "63: 269, 1.25%\n",
      "64: 265, 1.23%\n",
      "65: 194, 0.90%\n",
      "66: 183, 0.85%\n",
      "67: 167, 0.78%\n",
      "68: 99, 0.46%\n",
      "69: 85, 0.39%\n",
      "70: 65, 0.30%\n",
      "71: 58, 0.27%\n",
      "72: 33, 0.15%\n",
      "73: 8, 0.04%\n",
      "74: 6, 0.03%\n"
     ]
    }
   ],
   "source": [
    "for value in data[data['days_employed'] > 0]['age'].sort_values().unique():\n",
    "    print_count('age', value)"
   ]
  },
  {
   "cell_type": "markdown",
   "id": "9c7258b7",
   "metadata": {},
   "source": [
    "Распределение среди возрастов близко к равномерному. И мы помним, что диапазон самих \"позитивных\" величин не широк."
   ]
  },
  {
   "cell_type": "code",
   "execution_count": 33,
   "id": "ab1d50f2",
   "metadata": {
    "scrolled": true
   },
   "outputs": [
    {
     "data": {
      "text/plain": [
       "1.222148766729353"
      ]
     },
     "execution_count": 33,
     "metadata": {},
     "output_type": "execute_result"
    }
   ],
   "source": [
    "positive_days.max() / positive_days.min()"
   ]
  },
  {
   "cell_type": "code",
   "execution_count": 34,
   "id": "4ba38f64",
   "metadata": {},
   "outputs": [
    {
     "data": {
      "text/plain": [
       "73026.67987081176"
      ]
     },
     "execution_count": 34,
     "metadata": {},
     "output_type": "execute_result"
    }
   ],
   "source": [
    "positive_days.max() - positive_days.min()"
   ]
  },
  {
   "cell_type": "markdown",
   "id": "069d90cb",
   "metadata": {},
   "source": [
    "И их значение в зависимости от возраста не может существенно вырасти.\n",
    "\n",
    "Проверим это предположение. Подготовим списки, и по ним сделаем графики."
   ]
  },
  {
   "cell_type": "code",
   "execution_count": 35,
   "id": "a76d9728",
   "metadata": {},
   "outputs": [],
   "source": [
    "ages = data['age'].sort_values().unique()\n",
    "positive_abs_medians = []\n",
    "negative_abs_medians = []\n",
    "\n",
    "for age in ages:\n",
    "    positive_abs_medians.append(abs(data[\n",
    "        (data['age'] == age) & (data['days_employed'] > 0)\n",
    "    ]['days_employed'].median()))\n",
    "\n",
    "    negative_abs_medians.append(abs(data[\n",
    "        (data['age'] == age) & (data['days_employed'] < 0)\n",
    "    ]['days_employed'].median()))\n",
    "\n",
    "import seaborn"
   ]
  },
  {
   "cell_type": "code",
   "execution_count": 36,
   "id": "c9326ce6",
   "metadata": {
    "scrolled": false
   },
   "outputs": [
    {
     "data": {
      "text/plain": [
       "<AxesSubplot:>"
      ]
     },
     "execution_count": 36,
     "metadata": {},
     "output_type": "execute_result"
    },
    {
     "data": {
      "image/png": "[encoded data removed]",
      "text/plain": [
       "<Figure size 432x288 with 1 Axes>"
      ]
     },
     "metadata": {
      "needs_background": "light"
     },
     "output_type": "display_data"
    }
   ],
   "source": [
    "seaborn.barplot(x=ages, y=negative_abs_medians)"
   ]
  },
  {
   "cell_type": "markdown",
   "id": "3b9438c5",
   "metadata": {},
   "source": [
    "Это график \"негативных\" величин. Чем старше возраст - тем больше медианный стаж."
   ]
  },
  {
   "cell_type": "code",
   "execution_count": 37,
   "id": "d479b250",
   "metadata": {
    "scrolled": false
   },
   "outputs": [
    {
     "data": {
      "text/plain": [
       "<AxesSubplot:>"
      ]
     },
     "execution_count": 37,
     "metadata": {},
     "output_type": "execute_result"
    },
    {
     "data": {
      "image/png": "[encoded data removed]",
      "text/plain": [
       "<Figure size 432x288 with 1 Axes>"
      ]
     },
     "metadata": {
      "needs_background": "light"
     },
     "output_type": "display_data"
    }
   ],
   "source": [
    "seaborn.barplot(x=ages, y=positive_abs_medians)"
   ]
  },
  {
   "cell_type": "markdown",
   "id": "b6f5ebb8",
   "metadata": {},
   "source": [
    "Это график медиан по \"позитивным\" величинам. Они мало меняются. Среди молодых возрастов колебания больше, среди старших - меньше.\n",
    "\n",
    "Но нет роста! Медианный стаж из \"позитивных\" величин почти не зависит от возраста. Это неестественно."
   ]
  },
  {
   "cell_type": "markdown",
   "id": "2be3db65",
   "metadata": {},
   "source": [
    "**Итоги:**\n",
    "- Значения `days_employed` характерно делятся на группы \"положительных\" и \"отрицательных\".\n",
    "- Группа \"положительных\" величин явно не соответствует `days_employed`, и непригодна для задач.\n",
    "  - Она содержит не дни, а какие-то меньшие единицы измерения, либо ошибочные, либо случайн сгенерированные данные.\n",
    "  - Она неестественно распределяется по возрастам: рост стажа должен быть быстрее роста возраста. Реально медианный стаж почти не меняется с возрастом.\n",
    "  - Причина появления такой аномалии не ясна.\n",
    "  - Она составляет 16% от всех значений. Это существенная величина, и замена каким-либо одним значением исказит исследование.\n",
    "  - Мы заменим величины этой группы на медианные из \"отрицательной\" группы для каждого возраста.\n",
    "- Группа \"отрицательных\" величин `days_employed` в целом соответствует нашим ожиданиям.\n",
    "  - Она содержала верные по модулю, но отрицательные по аобсолютному начению величины.\n",
    "  - Возможные причины аномалии:\n",
    "    - неверно сформулированные правила заполнения поля (поскольку такие величины никак не редкость, их 73,9% - самый типичный случай);\n",
    "    - случаи неудачной автоматической обработки в прошлом.\n",
    "- Нужно передать эти итоги сотрудникам, предоставившим данные."
   ]
  },
  {
   "cell_type": "markdown",
   "id": "6f6ecfe6",
   "metadata": {},
   "source": [
    "#### Исправление аномалий в `days_employed`"
   ]
  },
  {
   "cell_type": "markdown",
   "id": "64ecf012",
   "metadata": {},
   "source": [
    "Делаем \"отрицательные\" величины положительными. Дальше они меняться не будут."
   ]
  },
  {
   "cell_type": "code",
   "execution_count": 38,
   "id": "2e474d26",
   "metadata": {
    "scrolled": true
   },
   "outputs": [
    {
     "data": {
      "text/html": [
       "<div>\n",
       "<style scoped>\n",
       "    .dataframe tbody tr th:only-of-type {\n",
       "        vertical-align: middle;\n",
       "    }\n",
       "\n",
       "    .dataframe tbody tr th {\n",
       "        vertical-align: top;\n",
       "    }\n",
       "\n",
       "    .dataframe thead th {\n",
       "        text-align: right;\n",
       "    }\n",
       "</style>\n",
       "<table border=\"1\" class=\"dataframe\">\n",
       "  <thead>\n",
       "    <tr style=\"text-align: right;\">\n",
       "      <th></th>\n",
       "      <th>children</th>\n",
       "      <th>days_employed</th>\n",
       "      <th>age</th>\n",
       "      <th>education</th>\n",
       "      <th>education_id</th>\n",
       "      <th>family_status</th>\n",
       "      <th>family_status_id</th>\n",
       "      <th>gender</th>\n",
       "      <th>income_type</th>\n",
       "      <th>debt</th>\n",
       "      <th>total_income</th>\n",
       "      <th>purpose</th>\n",
       "    </tr>\n",
       "  </thead>\n",
       "  <tbody>\n",
       "    <tr>\n",
       "      <th>0</th>\n",
       "      <td>1</td>\n",
       "      <td>8437.673028</td>\n",
       "      <td>42</td>\n",
       "      <td>высшее</td>\n",
       "      <td>0</td>\n",
       "      <td>женат / замужем</td>\n",
       "      <td>0</td>\n",
       "      <td>F</td>\n",
       "      <td>сотрудник</td>\n",
       "      <td>0</td>\n",
       "      <td>253875.639453</td>\n",
       "      <td>покупка жилья</td>\n",
       "    </tr>\n",
       "    <tr>\n",
       "      <th>1</th>\n",
       "      <td>1</td>\n",
       "      <td>4024.803754</td>\n",
       "      <td>36</td>\n",
       "      <td>среднее</td>\n",
       "      <td>1</td>\n",
       "      <td>женат / замужем</td>\n",
       "      <td>0</td>\n",
       "      <td>F</td>\n",
       "      <td>сотрудник</td>\n",
       "      <td>0</td>\n",
       "      <td>112080.014102</td>\n",
       "      <td>приобретение автомобиля</td>\n",
       "    </tr>\n",
       "    <tr>\n",
       "      <th>2</th>\n",
       "      <td>0</td>\n",
       "      <td>5623.422610</td>\n",
       "      <td>33</td>\n",
       "      <td>Среднее</td>\n",
       "      <td>1</td>\n",
       "      <td>женат / замужем</td>\n",
       "      <td>0</td>\n",
       "      <td>M</td>\n",
       "      <td>сотрудник</td>\n",
       "      <td>0</td>\n",
       "      <td>145885.952297</td>\n",
       "      <td>покупка жилья</td>\n",
       "    </tr>\n",
       "    <tr>\n",
       "      <th>3</th>\n",
       "      <td>3</td>\n",
       "      <td>4124.747207</td>\n",
       "      <td>32</td>\n",
       "      <td>среднее</td>\n",
       "      <td>1</td>\n",
       "      <td>женат / замужем</td>\n",
       "      <td>0</td>\n",
       "      <td>M</td>\n",
       "      <td>сотрудник</td>\n",
       "      <td>0</td>\n",
       "      <td>267628.550329</td>\n",
       "      <td>дополнительное образование</td>\n",
       "    </tr>\n",
       "    <tr>\n",
       "      <th>4</th>\n",
       "      <td>0</td>\n",
       "      <td>-340266.072047</td>\n",
       "      <td>53</td>\n",
       "      <td>среднее</td>\n",
       "      <td>1</td>\n",
       "      <td>гражданский брак</td>\n",
       "      <td>1</td>\n",
       "      <td>F</td>\n",
       "      <td>пенсионер</td>\n",
       "      <td>0</td>\n",
       "      <td>158616.077870</td>\n",
       "      <td>сыграть свадьбу</td>\n",
       "    </tr>\n",
       "    <tr>\n",
       "      <th>5</th>\n",
       "      <td>0</td>\n",
       "      <td>926.185831</td>\n",
       "      <td>27</td>\n",
       "      <td>высшее</td>\n",
       "      <td>0</td>\n",
       "      <td>гражданский брак</td>\n",
       "      <td>1</td>\n",
       "      <td>M</td>\n",
       "      <td>компаньон</td>\n",
       "      <td>0</td>\n",
       "      <td>255763.565419</td>\n",
       "      <td>покупка жилья</td>\n",
       "    </tr>\n",
       "    <tr>\n",
       "      <th>6</th>\n",
       "      <td>0</td>\n",
       "      <td>2879.202052</td>\n",
       "      <td>43</td>\n",
       "      <td>высшее</td>\n",
       "      <td>0</td>\n",
       "      <td>женат / замужем</td>\n",
       "      <td>0</td>\n",
       "      <td>F</td>\n",
       "      <td>компаньон</td>\n",
       "      <td>0</td>\n",
       "      <td>240525.971920</td>\n",
       "      <td>операции с жильем</td>\n",
       "    </tr>\n",
       "    <tr>\n",
       "      <th>7</th>\n",
       "      <td>0</td>\n",
       "      <td>152.779569</td>\n",
       "      <td>50</td>\n",
       "      <td>СРЕДНЕЕ</td>\n",
       "      <td>1</td>\n",
       "      <td>женат / замужем</td>\n",
       "      <td>0</td>\n",
       "      <td>M</td>\n",
       "      <td>сотрудник</td>\n",
       "      <td>0</td>\n",
       "      <td>135823.934197</td>\n",
       "      <td>образование</td>\n",
       "    </tr>\n",
       "    <tr>\n",
       "      <th>8</th>\n",
       "      <td>2</td>\n",
       "      <td>6929.865299</td>\n",
       "      <td>35</td>\n",
       "      <td>ВЫСШЕЕ</td>\n",
       "      <td>0</td>\n",
       "      <td>гражданский брак</td>\n",
       "      <td>1</td>\n",
       "      <td>F</td>\n",
       "      <td>сотрудник</td>\n",
       "      <td>0</td>\n",
       "      <td>95856.832424</td>\n",
       "      <td>на проведение свадьбы</td>\n",
       "    </tr>\n",
       "    <tr>\n",
       "      <th>9</th>\n",
       "      <td>0</td>\n",
       "      <td>2188.756445</td>\n",
       "      <td>41</td>\n",
       "      <td>среднее</td>\n",
       "      <td>1</td>\n",
       "      <td>женат / замужем</td>\n",
       "      <td>0</td>\n",
       "      <td>M</td>\n",
       "      <td>сотрудник</td>\n",
       "      <td>0</td>\n",
       "      <td>144425.938277</td>\n",
       "      <td>покупка жилья для семьи</td>\n",
       "    </tr>\n",
       "  </tbody>\n",
       "</table>\n",
       "</div>"
      ],
      "text/plain": [
       "   children  days_employed  age education  education_id     family_status  \\\n",
       "0         1    8437.673028   42    высшее             0   женат / замужем   \n",
       "1         1    4024.803754   36   среднее             1   женат / замужем   \n",
       "2         0    5623.422610   33   Среднее             1   женат / замужем   \n",
       "3         3    4124.747207   32   среднее             1   женат / замужем   \n",
       "4         0 -340266.072047   53   среднее             1  гражданский брак   \n",
       "5         0     926.185831   27    высшее             0  гражданский брак   \n",
       "6         0    2879.202052   43    высшее             0   женат / замужем   \n",
       "7         0     152.779569   50   СРЕДНЕЕ             1   женат / замужем   \n",
       "8         2    6929.865299   35    ВЫСШЕЕ             0  гражданский брак   \n",
       "9         0    2188.756445   41   среднее             1   женат / замужем   \n",
       "\n",
       "   family_status_id gender income_type  debt   total_income  \\\n",
       "0                 0      F   сотрудник     0  253875.639453   \n",
       "1                 0      F   сотрудник     0  112080.014102   \n",
       "2                 0      M   сотрудник     0  145885.952297   \n",
       "3                 0      M   сотрудник     0  267628.550329   \n",
       "4                 1      F   пенсионер     0  158616.077870   \n",
       "5                 1      M   компаньон     0  255763.565419   \n",
       "6                 0      F   компаньон     0  240525.971920   \n",
       "7                 0      M   сотрудник     0  135823.934197   \n",
       "8                 1      F   сотрудник     0   95856.832424   \n",
       "9                 0      M   сотрудник     0  144425.938277   \n",
       "\n",
       "                      purpose  \n",
       "0               покупка жилья  \n",
       "1     приобретение автомобиля  \n",
       "2               покупка жилья  \n",
       "3  дополнительное образование  \n",
       "4             сыграть свадьбу  \n",
       "5               покупка жилья  \n",
       "6           операции с жильем  \n",
       "7                 образование  \n",
       "8       на проведение свадьбы  \n",
       "9     покупка жилья для семьи  "
      ]
     },
     "execution_count": 38,
     "metadata": {},
     "output_type": "execute_result"
    }
   ],
   "source": [
    "data['days_employed'] = data['days_employed'].apply(lambda x: 0 - x)\n",
    "data.head(10)"
   ]
  },
  {
   "cell_type": "markdown",
   "id": "603c3faf",
   "metadata": {},
   "source": [
    "\"Положительные\" стали отрицательными. Заменим их на пригодные медианные значения стажа в зависимости от возраста."
   ]
  },
  {
   "cell_type": "code",
   "execution_count": 39,
   "id": "3e6fb8d9",
   "metadata": {},
   "outputs": [
    {
     "data": {
      "text/html": [
       "<div>\n",
       "<style scoped>\n",
       "    .dataframe tbody tr th:only-of-type {\n",
       "        vertical-align: middle;\n",
       "    }\n",
       "\n",
       "    .dataframe tbody tr th {\n",
       "        vertical-align: top;\n",
       "    }\n",
       "\n",
       "    .dataframe thead th {\n",
       "        text-align: right;\n",
       "    }\n",
       "</style>\n",
       "<table border=\"1\" class=\"dataframe\">\n",
       "  <thead>\n",
       "    <tr style=\"text-align: right;\">\n",
       "      <th></th>\n",
       "      <th>children</th>\n",
       "      <th>days_employed</th>\n",
       "      <th>age</th>\n",
       "      <th>education</th>\n",
       "      <th>education_id</th>\n",
       "      <th>family_status</th>\n",
       "      <th>family_status_id</th>\n",
       "      <th>gender</th>\n",
       "      <th>income_type</th>\n",
       "      <th>debt</th>\n",
       "      <th>total_income</th>\n",
       "      <th>purpose</th>\n",
       "    </tr>\n",
       "  </thead>\n",
       "  <tbody>\n",
       "    <tr>\n",
       "      <th>0</th>\n",
       "      <td>1</td>\n",
       "      <td>8437.673028</td>\n",
       "      <td>42</td>\n",
       "      <td>высшее</td>\n",
       "      <td>0</td>\n",
       "      <td>женат / замужем</td>\n",
       "      <td>0</td>\n",
       "      <td>F</td>\n",
       "      <td>сотрудник</td>\n",
       "      <td>0</td>\n",
       "      <td>253875.639453</td>\n",
       "      <td>покупка жилья</td>\n",
       "    </tr>\n",
       "    <tr>\n",
       "      <th>1</th>\n",
       "      <td>1</td>\n",
       "      <td>4024.803754</td>\n",
       "      <td>36</td>\n",
       "      <td>среднее</td>\n",
       "      <td>1</td>\n",
       "      <td>женат / замужем</td>\n",
       "      <td>0</td>\n",
       "      <td>F</td>\n",
       "      <td>сотрудник</td>\n",
       "      <td>0</td>\n",
       "      <td>112080.014102</td>\n",
       "      <td>приобретение автомобиля</td>\n",
       "    </tr>\n",
       "    <tr>\n",
       "      <th>2</th>\n",
       "      <td>0</td>\n",
       "      <td>5623.422610</td>\n",
       "      <td>33</td>\n",
       "      <td>Среднее</td>\n",
       "      <td>1</td>\n",
       "      <td>женат / замужем</td>\n",
       "      <td>0</td>\n",
       "      <td>M</td>\n",
       "      <td>сотрудник</td>\n",
       "      <td>0</td>\n",
       "      <td>145885.952297</td>\n",
       "      <td>покупка жилья</td>\n",
       "    </tr>\n",
       "    <tr>\n",
       "      <th>3</th>\n",
       "      <td>3</td>\n",
       "      <td>4124.747207</td>\n",
       "      <td>32</td>\n",
       "      <td>среднее</td>\n",
       "      <td>1</td>\n",
       "      <td>женат / замужем</td>\n",
       "      <td>0</td>\n",
       "      <td>M</td>\n",
       "      <td>сотрудник</td>\n",
       "      <td>0</td>\n",
       "      <td>267628.550329</td>\n",
       "      <td>дополнительное образование</td>\n",
       "    </tr>\n",
       "    <tr>\n",
       "      <th>4</th>\n",
       "      <td>0</td>\n",
       "      <td>2252.537414</td>\n",
       "      <td>53</td>\n",
       "      <td>среднее</td>\n",
       "      <td>1</td>\n",
       "      <td>гражданский брак</td>\n",
       "      <td>1</td>\n",
       "      <td>F</td>\n",
       "      <td>пенсионер</td>\n",
       "      <td>0</td>\n",
       "      <td>158616.077870</td>\n",
       "      <td>сыграть свадьбу</td>\n",
       "    </tr>\n",
       "    <tr>\n",
       "      <th>5</th>\n",
       "      <td>0</td>\n",
       "      <td>926.185831</td>\n",
       "      <td>27</td>\n",
       "      <td>высшее</td>\n",
       "      <td>0</td>\n",
       "      <td>гражданский брак</td>\n",
       "      <td>1</td>\n",
       "      <td>M</td>\n",
       "      <td>компаньон</td>\n",
       "      <td>0</td>\n",
       "      <td>255763.565419</td>\n",
       "      <td>покупка жилья</td>\n",
       "    </tr>\n",
       "    <tr>\n",
       "      <th>6</th>\n",
       "      <td>0</td>\n",
       "      <td>2879.202052</td>\n",
       "      <td>43</td>\n",
       "      <td>высшее</td>\n",
       "      <td>0</td>\n",
       "      <td>женат / замужем</td>\n",
       "      <td>0</td>\n",
       "      <td>F</td>\n",
       "      <td>компаньон</td>\n",
       "      <td>0</td>\n",
       "      <td>240525.971920</td>\n",
       "      <td>операции с жильем</td>\n",
       "    </tr>\n",
       "    <tr>\n",
       "      <th>7</th>\n",
       "      <td>0</td>\n",
       "      <td>152.779569</td>\n",
       "      <td>50</td>\n",
       "      <td>СРЕДНЕЕ</td>\n",
       "      <td>1</td>\n",
       "      <td>женат / замужем</td>\n",
       "      <td>0</td>\n",
       "      <td>M</td>\n",
       "      <td>сотрудник</td>\n",
       "      <td>0</td>\n",
       "      <td>135823.934197</td>\n",
       "      <td>образование</td>\n",
       "    </tr>\n",
       "    <tr>\n",
       "      <th>8</th>\n",
       "      <td>2</td>\n",
       "      <td>6929.865299</td>\n",
       "      <td>35</td>\n",
       "      <td>ВЫСШЕЕ</td>\n",
       "      <td>0</td>\n",
       "      <td>гражданский брак</td>\n",
       "      <td>1</td>\n",
       "      <td>F</td>\n",
       "      <td>сотрудник</td>\n",
       "      <td>0</td>\n",
       "      <td>95856.832424</td>\n",
       "      <td>на проведение свадьбы</td>\n",
       "    </tr>\n",
       "    <tr>\n",
       "      <th>9</th>\n",
       "      <td>0</td>\n",
       "      <td>2188.756445</td>\n",
       "      <td>41</td>\n",
       "      <td>среднее</td>\n",
       "      <td>1</td>\n",
       "      <td>женат / замужем</td>\n",
       "      <td>0</td>\n",
       "      <td>M</td>\n",
       "      <td>сотрудник</td>\n",
       "      <td>0</td>\n",
       "      <td>144425.938277</td>\n",
       "      <td>покупка жилья для семьи</td>\n",
       "    </tr>\n",
       "  </tbody>\n",
       "</table>\n",
       "</div>"
      ],
      "text/plain": [
       "   children  days_employed  age education  education_id     family_status  \\\n",
       "0         1    8437.673028   42    высшее             0   женат / замужем   \n",
       "1         1    4024.803754   36   среднее             1   женат / замужем   \n",
       "2         0    5623.422610   33   Среднее             1   женат / замужем   \n",
       "3         3    4124.747207   32   среднее             1   женат / замужем   \n",
       "4         0    2252.537414   53   среднее             1  гражданский брак   \n",
       "5         0     926.185831   27    высшее             0  гражданский брак   \n",
       "6         0    2879.202052   43    высшее             0   женат / замужем   \n",
       "7         0     152.779569   50   СРЕДНЕЕ             1   женат / замужем   \n",
       "8         2    6929.865299   35    ВЫСШЕЕ             0  гражданский брак   \n",
       "9         0    2188.756445   41   среднее             1   женат / замужем   \n",
       "\n",
       "   family_status_id gender income_type  debt   total_income  \\\n",
       "0                 0      F   сотрудник     0  253875.639453   \n",
       "1                 0      F   сотрудник     0  112080.014102   \n",
       "2                 0      M   сотрудник     0  145885.952297   \n",
       "3                 0      M   сотрудник     0  267628.550329   \n",
       "4                 1      F   пенсионер     0  158616.077870   \n",
       "5                 1      M   компаньон     0  255763.565419   \n",
       "6                 0      F   компаньон     0  240525.971920   \n",
       "7                 0      M   сотрудник     0  135823.934197   \n",
       "8                 1      F   сотрудник     0   95856.832424   \n",
       "9                 0      M   сотрудник     0  144425.938277   \n",
       "\n",
       "                      purpose  \n",
       "0               покупка жилья  \n",
       "1     приобретение автомобиля  \n",
       "2               покупка жилья  \n",
       "3  дополнительное образование  \n",
       "4             сыграть свадьбу  \n",
       "5               покупка жилья  \n",
       "6           операции с жильем  \n",
       "7                 образование  \n",
       "8       на проведение свадьбы  \n",
       "9     покупка жилья для семьи  "
      ]
     },
     "execution_count": 39,
     "metadata": {},
     "output_type": "execute_result"
    }
   ],
   "source": [
    "for age, median in zip(ages, negative_abs_medians):\n",
    "    data.loc[\n",
    "        (data['age'] == age) & (data['days_employed'] < 0),\n",
    "        'days_employed'\n",
    "    ] = median\n",
    "\n",
    "data.head(10)"
   ]
  },
  {
   "cell_type": "markdown",
   "id": "238f5ed1",
   "metadata": {},
   "source": [
    "Проверим, остались ли отрицательные или аномально большие величины."
   ]
  },
  {
   "cell_type": "code",
   "execution_count": 40,
   "id": "5e0d567e",
   "metadata": {},
   "outputs": [
    {
     "name": "stdout",
     "output_type": "stream",
     "text": [
      "24.14163324048118\n",
      "18388.949900568383\n"
     ]
    }
   ],
   "source": [
    "print(data['days_employed'].min())\n",
    "print(data['days_employed'].max())"
   ]
  },
  {
   "cell_type": "markdown",
   "id": "57213962",
   "metadata": {},
   "source": [
    "Величин менее 0 и более 300 000 нет.\n",
    "\n",
    "Последняя проверка: как распределён стаж по возрастам теперь?"
   ]
  },
  {
   "cell_type": "code",
   "execution_count": 41,
   "id": "8f764d41",
   "metadata": {},
   "outputs": [
    {
     "data": {
      "text/plain": [
       "<AxesSubplot:>"
      ]
     },
     "execution_count": 41,
     "metadata": {},
     "output_type": "execute_result"
    },
    {
     "data": {
      "image/png": "[encoded data removed]",
      "text/plain": [
       "<Figure size 432x288 with 1 Axes>"
      ]
     },
     "metadata": {
      "needs_background": "light"
     },
     "output_type": "display_data"
    }
   ],
   "source": [
    "ages = data['age'].sort_values().unique()\n",
    "employed_medians = []\n",
    "\n",
    "for age in ages:\n",
    "    employed_medians.append(\n",
    "        data[data['age'] == age]['days_employed'].median()\n",
    "    )\n",
    "\n",
    "seaborn.barplot(x=ages, y=employed_medians)"
   ]
  },
  {
   "cell_type": "markdown",
   "id": "c293c1f8",
   "metadata": {},
   "source": [
    " ### Заполнение пропусков. <a id=\"fillna\"></a>"
   ]
  },
  {
   "cell_type": "markdown",
   "id": "9546abaf",
   "metadata": {},
   "source": [
    "Проверим, сколько явных пропусков и в каких они данных."
   ]
  },
  {
   "cell_type": "code",
   "execution_count": 42,
   "id": "b6873b97",
   "metadata": {},
   "outputs": [
    {
     "data": {
      "text/plain": [
       "children               0\n",
       "days_employed       2174\n",
       "age                    0\n",
       "education              0\n",
       "education_id           0\n",
       "family_status          0\n",
       "family_status_id       0\n",
       "gender                 0\n",
       "income_type            0\n",
       "debt                   0\n",
       "total_income        2174\n",
       "purpose                0\n",
       "dtype: int64"
      ]
     },
     "execution_count": 42,
     "metadata": {},
     "output_type": "execute_result"
    }
   ],
   "source": [
    "data.isna().sum()"
   ]
  },
  {
   "cell_type": "markdown",
   "id": "2a3d2c2f",
   "metadata": {},
   "source": [
    "Как и в `.info()`, мы видим, что пропуски сделаны в двух колонках. Поровну в каждой колонке. Значит ли это, что пропуски находятся в одни и тех же строках? Посчитаем строки, в которых пропущены данные обеих колонок сразу."
   ]
  },
  {
   "cell_type": "code",
   "execution_count": 43,
   "id": "ecba2fee",
   "metadata": {},
   "outputs": [
    {
     "name": "stdout",
     "output_type": "stream",
     "text": [
      "Строк: 2174, 10.10%\n"
     ]
    }
   ],
   "source": [
    "nan_rows = data[data['days_employed'].isna() & data['total_income'].isna()]\n",
    "nan_rows_count = len(nan_rows.index)\n",
    "\n",
    "print(f'Строк: {nan_rows_count}, {nan_rows_count / len(data.index):.02%}')"
   ]
  },
  {
   "cell_type": "markdown",
   "id": "4c74a1b6",
   "metadata": {},
   "source": [
    "Таких строк ровно столько сколько пропусков вообще. То есть, во всех строках с пропусками пропущены сразу оба поля: `days_employed` и `total_income`.\n",
    "\n",
    "Они составляют существенную долю данных, их не стоит удалять.\n",
    "\n",
    "Стаж и доход заполним медианными значениями."
   ]
  },
  {
   "cell_type": "code",
   "execution_count": 44,
   "id": "09dea2b0",
   "metadata": {},
   "outputs": [],
   "source": [
    "data['days_employed'].fillna(data['days_employed'].median(), inplace=True)\n",
    "data['total_income'].fillna(data['total_income'].median(), inplace=True)"
   ]
  },
  {
   "cell_type": "markdown",
   "id": "23a895c3",
   "metadata": {},
   "source": [
    "Проверяем, остались ли пропуски."
   ]
  },
  {
   "cell_type": "code",
   "execution_count": 45,
   "id": "67c777bc",
   "metadata": {},
   "outputs": [
    {
     "data": {
      "text/plain": [
       "children            0\n",
       "days_employed       0\n",
       "age                 0\n",
       "education           0\n",
       "education_id        0\n",
       "family_status       0\n",
       "family_status_id    0\n",
       "gender              0\n",
       "income_type         0\n",
       "debt                0\n",
       "total_income        0\n",
       "purpose             0\n",
       "dtype: int64"
      ]
     },
     "execution_count": 45,
     "metadata": {},
     "output_type": "execute_result"
    }
   ],
   "source": [
    "data.isna().sum()"
   ]
  },
  {
   "cell_type": "markdown",
   "id": "b43b8c97",
   "metadata": {},
   "source": [
    "Явных пропусков нет.\n",
    "\n",
    "**Итоги:**\n",
    "- Были явно пропущены значения `days_employed` и `total_income`.\n",
    "- Явные пропуски содержат 10,1% строк.\n",
    "- Верней всего, пропуски возникают в один момент, в результате одной операции, одной причины.\n",
    "- Причина пропусков после обзора таблицы остаётся не ясной.\n",
    "- Пропуски заполнены медианными значениями столбцов."
   ]
  },
  {
   "cell_type": "markdown",
   "id": "855fa6cf",
   "metadata": {},
   "source": [
    "### Исправление типов данных. <a id=\"change_data_types\"></a>"
   ]
  },
  {
   "cell_type": "code",
   "execution_count": 46,
   "id": "ed61fdd3",
   "metadata": {},
   "outputs": [
    {
     "data": {
      "text/plain": [
       "children              int32\n",
       "days_employed       float64\n",
       "age                   int32\n",
       "education            object\n",
       "education_id          int64\n",
       "family_status        object\n",
       "family_status_id      int64\n",
       "gender               object\n",
       "income_type          object\n",
       "debt                  int64\n",
       "total_income        float64\n",
       "purpose              object\n",
       "dtype: object"
      ]
     },
     "execution_count": 46,
     "metadata": {},
     "output_type": "execute_result"
    }
   ],
   "source": [
    "data.dtypes"
   ]
  },
  {
   "cell_type": "markdown",
   "id": "6b2977b3",
   "metadata": {},
   "source": [
    "`total_income` содержит доход. Денежные величины обычно учитываются с двумя знаками в дробной части, однако задание предписывает перевести доход в целые величины."
   ]
  },
  {
   "cell_type": "code",
   "execution_count": 47,
   "id": "ecaf7a7a",
   "metadata": {},
   "outputs": [
    {
     "data": {
      "text/plain": [
       "children              int32\n",
       "days_employed       float64\n",
       "age                   int32\n",
       "education            object\n",
       "education_id          int64\n",
       "family_status        object\n",
       "family_status_id      int64\n",
       "gender               object\n",
       "income_type          object\n",
       "debt                  int64\n",
       "total_income          int32\n",
       "purpose              object\n",
       "dtype: object"
      ]
     },
     "execution_count": 47,
     "metadata": {},
     "output_type": "execute_result"
    }
   ],
   "source": [
    "data['total_income'] = data['total_income'].astype('int32')\n",
    "\n",
    "data.dtypes"
   ]
  },
  {
   "cell_type": "markdown",
   "id": "27004dd1",
   "metadata": {},
   "source": [
    "**Итоги:**\n",
    "- Типы приведены к норме."
   ]
  },
  {
   "cell_type": "markdown",
   "id": "d4297766",
   "metadata": {},
   "source": [
    "### Удаление дубликатов. <a id=\"drop_duplicates\"></a>"
   ]
  },
  {
   "cell_type": "markdown",
   "id": "4be20ca2",
   "metadata": {},
   "source": [
    "#### \"Неявные\" дубликаты значений\n",
    "\"Неявный\" дубликат формально отличается от другого значения, но несёт тот же смысл.\n",
    "Чтобы обнаружить такие группы формально разных, но одинаковых по смыслу значений, мы просто запросим все формально уникальные значения в столбце."
   ]
  },
  {
   "cell_type": "markdown",
   "id": "1bbcdb8c",
   "metadata": {},
   "source": [
    "Все значения выглядят реальными. Будем приводить смысловые дубликаты к единой форме \"lowercase\"."
   ]
  },
  {
   "cell_type": "code",
   "execution_count": 48,
   "id": "4c3527c9",
   "metadata": {},
   "outputs": [
    {
     "data": {
      "text/plain": [
       "array(['высшее', 'начальное', 'неоконченное высшее', 'среднее',\n",
       "       'ученая степень'], dtype=object)"
      ]
     },
     "execution_count": 48,
     "metadata": {},
     "output_type": "execute_result"
    }
   ],
   "source": [
    "data['education'] = data['education'].str.lower()\n",
    "data['education'].sort_values().unique()"
   ]
  },
  {
   "cell_type": "markdown",
   "id": "972c0e8c",
   "metadata": {},
   "source": [
    "**Итоги:**\n",
    "- Имеются 5 категорий.\n",
    "- Названия категорий оформлены lowercase."
   ]
  },
  {
   "cell_type": "markdown",
   "id": "f8881c42",
   "metadata": {},
   "source": [
    "##### Дубликаты в `education`"
   ]
  },
  {
   "cell_type": "code",
   "execution_count": 49,
   "id": "1e45370a",
   "metadata": {},
   "outputs": [
    {
     "data": {
      "text/plain": [
       "array(['высшее', 'начальное', 'неоконченное высшее', 'среднее',\n",
       "       'ученая степень'], dtype=object)"
      ]
     },
     "execution_count": 49,
     "metadata": {},
     "output_type": "execute_result"
    }
   ],
   "source": [
    "data['education'].sort_values().unique()"
   ]
  },
  {
   "cell_type": "markdown",
   "id": "4547de6a",
   "metadata": {},
   "source": [
    "Все значения выглядят реальными. Существуют значения, одинаковые по смыслу, но разные по форме. Будем приводить смысловые дубликаты к единой форме \"lowercase\"."
   ]
  },
  {
   "cell_type": "code",
   "execution_count": 50,
   "id": "3946b72c",
   "metadata": {},
   "outputs": [
    {
     "data": {
      "text/plain": [
       "array(['высшее', 'начальное', 'неоконченное высшее', 'среднее',\n",
       "       'ученая степень'], dtype=object)"
      ]
     },
     "execution_count": 50,
     "metadata": {},
     "output_type": "execute_result"
    }
   ],
   "source": [
    "data['education'] = data['education'].str.lower()\n",
    "data['education'].sort_values().unique()"
   ]
  },
  {
   "cell_type": "markdown",
   "id": "aa0d4667",
   "metadata": {},
   "source": [
    "**Итоги:**\n",
    "- Существуют 5 категорий образования."
   ]
  },
  {
   "cell_type": "markdown",
   "id": "a4abc280",
   "metadata": {},
   "source": [
    "##### Дубликаты в `family_status`"
   ]
  },
  {
   "cell_type": "code",
   "execution_count": 51,
   "id": "17f90dbf",
   "metadata": {},
   "outputs": [
    {
     "data": {
      "text/plain": [
       "array(['Не женат / не замужем', 'в разводе', 'вдовец / вдова',\n",
       "       'гражданский брак', 'женат / замужем'], dtype=object)"
      ]
     },
     "execution_count": 51,
     "metadata": {},
     "output_type": "execute_result"
    }
   ],
   "source": [
    "data['family_status'].sort_values().unique()"
   ]
  },
  {
   "cell_type": "markdown",
   "id": "95a899de",
   "metadata": {},
   "source": [
    "Все значения выглядят реальными. Здесь также существуют значения, одинаковые по смыслу, но разные по форме. Будем приводить смысловые дубликаты к единой форме \"lowercase\"."
   ]
  },
  {
   "cell_type": "code",
   "execution_count": 52,
   "id": "ef144c18",
   "metadata": {},
   "outputs": [
    {
     "data": {
      "text/plain": [
       "array(['в разводе', 'вдовец / вдова', 'гражданский брак',\n",
       "       'женат / замужем', 'не женат / не замужем'], dtype=object)"
      ]
     },
     "execution_count": 52,
     "metadata": {},
     "output_type": "execute_result"
    }
   ],
   "source": [
    "data['family_status'] = data['family_status'].str.lower()\n",
    "data['family_status'].sort_values().unique()"
   ]
  },
  {
   "cell_type": "markdown",
   "id": "f209d33c",
   "metadata": {},
   "source": [
    "**Итоги:**\n",
    "- Существуют 5 категорий семейных отношений."
   ]
  },
  {
   "cell_type": "markdown",
   "id": "63b8217f",
   "metadata": {},
   "source": [
    "##### Дубликаты в `income_type`"
   ]
  },
  {
   "cell_type": "code",
   "execution_count": 53,
   "id": "e7ea30d5",
   "metadata": {},
   "outputs": [
    {
     "data": {
      "text/plain": [
       "array(['безработный', 'в декрете', 'госслужащий', 'компаньон',\n",
       "       'пенсионер', 'предприниматель', 'сотрудник', 'студент'],\n",
       "      dtype=object)"
      ]
     },
     "execution_count": 53,
     "metadata": {},
     "output_type": "execute_result"
    }
   ],
   "source": [
    "data['income_type'].sort_values().unique()"
   ]
  },
  {
   "cell_type": "markdown",
   "id": "4a2a8a58",
   "metadata": {},
   "source": [
    "Все значения выглядят реальными, неявных дубликатов нет, названия в \"lowercase\"."
   ]
  },
  {
   "cell_type": "markdown",
   "id": "0c75c352",
   "metadata": {},
   "source": [
    "##### Дубликаты в `purpose`"
   ]
  },
  {
   "cell_type": "code",
   "execution_count": 54,
   "id": "156e0301",
   "metadata": {},
   "outputs": [
    {
     "data": {
      "text/plain": [
       "array(['автомобили', 'автомобиль', 'высшее образование',\n",
       "       'дополнительное образование', 'жилье',\n",
       "       'заняться высшим образованием', 'заняться образованием',\n",
       "       'на покупку автомобиля', 'на покупку подержанного автомобиля',\n",
       "       'на покупку своего автомобиля', 'на проведение свадьбы',\n",
       "       'недвижимость', 'образование', 'операции с жильем',\n",
       "       'операции с коммерческой недвижимостью',\n",
       "       'операции с недвижимостью', 'операции со своей недвижимостью',\n",
       "       'покупка жилой недвижимости', 'покупка жилья',\n",
       "       'покупка жилья для сдачи', 'покупка жилья для семьи',\n",
       "       'покупка коммерческой недвижимости', 'покупка недвижимости',\n",
       "       'покупка своего жилья', 'получение высшего образования',\n",
       "       'получение дополнительного образования', 'получение образования',\n",
       "       'приобретение автомобиля', 'профильное образование',\n",
       "       'ремонт жилью', 'свадьба', 'свой автомобиль',\n",
       "       'сделка с автомобилем', 'сделка с подержанным автомобилем',\n",
       "       'строительство жилой недвижимости', 'строительство недвижимости',\n",
       "       'строительство собственной недвижимости', 'сыграть свадьбу'],\n",
       "      dtype=object)"
      ]
     },
     "execution_count": 54,
     "metadata": {},
     "output_type": "execute_result"
    }
   ],
   "source": [
    "data['purpose'].sort_values().unique()"
   ]
  },
  {
   "cell_type": "markdown",
   "id": "61d33b21",
   "metadata": {},
   "source": [
    "Все значения выглядят реальными. Они в \"lowercase\". Есть много похожих по смыслу. Лучшим вариантом будет свести их в несколько более общих категорий."
   ]
  },
  {
   "cell_type": "markdown",
   "id": "5016ba0c",
   "metadata": {},
   "source": [
    "##### Итоги по неявным дубликатам\n",
    "- Названия категорий оформлены нами в lowercase. Был использован метод .str.lower(), созданный специально для этого. Для избавления от неявных дубликатов этого оказалось достаточно.\n",
    "- Возможные причины появления дубликатов:\n",
    "  - Отсутствие стандарта на то, как вводить названия категорий;\n",
    "- Как избежать:\n",
    "  - допускать к записи только определённые значения;\n",
    "  - применять lowercase или другую нормализацию значений при записи."
   ]
  },
  {
   "cell_type": "markdown",
   "id": "c77dab84",
   "metadata": {},
   "source": [
    "#### Полные дубликаты строк"
   ]
  },
  {
   "cell_type": "markdown",
   "id": "896d34fd",
   "metadata": {},
   "source": [
    "Мы обеспечили единые по форме и реалистичные по смыслу значения в каждом столбце таблицы. Теперь взглянем на строки в целом.\n",
    "\n",
    "Мы решили считать, что каждая строка должна быть уникальна. Сколько у нас дубликатов?"
   ]
  },
  {
   "cell_type": "code",
   "execution_count": 55,
   "id": "c0f61ee9",
   "metadata": {},
   "outputs": [
    {
     "name": "stdout",
     "output_type": "stream",
     "text": [
      "Дубликатов строк: 72, 0.33%\n"
     ]
    }
   ],
   "source": [
    "def print_dupe_rows_count():\n",
    "    dupe_rows_count = data.duplicated().sum()\n",
    "    print(f'Дубликатов строк: {dupe_rows_count}, {dupe_rows_count / len(data.index):.02%}')\n",
    "\n",
    "print_dupe_rows_count()"
   ]
  },
  {
   "cell_type": "markdown",
   "id": "c86e82f6",
   "metadata": {},
   "source": [
    "Даже если за ними скрываются реальные люди - их мало, результат будет отличаться несущественно. Убираем строки-дубликаты."
   ]
  },
  {
   "cell_type": "code",
   "execution_count": 56,
   "id": "b79667b6",
   "metadata": {},
   "outputs": [
    {
     "name": "stdout",
     "output_type": "stream",
     "text": [
      "Дубликатов строк: 0, 0.00%\n"
     ]
    }
   ],
   "source": [
    "data.drop_duplicates(inplace=True)\n",
    "data.reset_index(drop=True, inplace=True)\n",
    "print_dupe_rows_count()"
   ]
  },
  {
   "cell_type": "markdown",
   "id": "575a7362",
   "metadata": {},
   "source": [
    "## Обработка данных"
   ]
  },
  {
   "cell_type": "markdown",
   "id": "341b3552",
   "metadata": {},
   "source": [
    "### Формирование дополнительных датафреймов словарей, декомпозиция исходного датафрейма. <a id=\"decompose_data\"></a>"
   ]
  },
  {
   "cell_type": "markdown",
   "id": "8607dff9",
   "metadata": {},
   "source": [
    "#### Создание датафрейма `education`"
   ]
  },
  {
   "cell_type": "code",
   "execution_count": 57,
   "id": "0ebd8c75",
   "metadata": {},
   "outputs": [
    {
     "data": {
      "text/plain": [
       "array([0, 1, 2, 3, 4])"
      ]
     },
     "execution_count": 57,
     "metadata": {},
     "output_type": "execute_result"
    }
   ],
   "source": [
    "data['education_id'].sort_values().unique()"
   ]
  },
  {
   "cell_type": "markdown",
   "id": "42d76fc5",
   "metadata": {},
   "source": [
    "Существует 5 категорий. Значения выглядят рациональными. Нужно анализировать их связь с полем `education`."
   ]
  },
  {
   "cell_type": "code",
   "execution_count": null,
   "id": "907436cc",
   "metadata": {},
   "outputs": [],
   "source": []
  },
  {
   "cell_type": "code",
   "execution_count": null,
   "id": "0c41c7a4",
   "metadata": {},
   "outputs": [],
   "source": []
  },
  {
   "cell_type": "code",
   "execution_count": null,
   "id": "f0692cb6",
   "metadata": {},
   "outputs": [],
   "source": []
  },
  {
   "cell_type": "markdown",
   "id": "9d433a37",
   "metadata": {},
   "source": [
    "**Итого:**\n",
    "- Имеются 47 записей (0,22% от всех) с некорректным количеством детей `-1`.\n",
    "- Причина появления таких записей не ясна. Возможные причины:\n",
    "  - добавлен лишний символ `-` перед реальным числом детей;\n",
    "  - вычитание из нуля детей, если вычитание применяется к таким данным.\n",
    "- Как избежать: не принимать ввод менее 0. Не проводить вычитание, сигналить об ошибке, если итог вычинания - величина менее 0.\n",
    "- Значение `-1` нет смысла использовать при анализе, оно заменено на медианное."
   ]
  },
  {
   "cell_type": "markdown",
   "id": "c37e8d42",
   "metadata": {},
   "source": [
    "#### Поле `family_status_id`"
   ]
  },
  {
   "cell_type": "code",
   "execution_count": 58,
   "id": "0edad6da",
   "metadata": {},
   "outputs": [
    {
     "data": {
      "text/plain": [
       "array([0, 1, 2, 3, 4])"
      ]
     },
     "execution_count": 58,
     "metadata": {},
     "output_type": "execute_result"
    }
   ],
   "source": [
    "data['family_status_id'].sort_values().unique()"
   ]
  },
  {
   "cell_type": "markdown",
   "id": "62b1e831",
   "metadata": {},
   "source": [
    "Существует 5 категорий. Значения выглядят рациональными. Нужно анализировать их связь с полем `family_status`."
   ]
  },
  {
   "cell_type": "markdown",
   "id": "e5fa5966",
   "metadata": {},
   "source": [
    "**Итого:**\n",
    "- Имеются 47 записей (0,22% от всех) с некорректным количеством детей `-1`.\n",
    "- Причина появления таких записей не ясна. Возможные причины:\n",
    "  - добавлен лишний символ `-` перед реальным числом детей;\n",
    "  - вычитание из нуля детей, если вычитание применяется к таким данным.\n",
    "- Как избежать: не принимать ввод менее 0. Не проводить вычитание, сигналить об ошибке, если итог вычинания - величина менее 0.\n",
    "- Значение `-1` нет смысла использовать при анализе, оно заменено на медианное."
   ]
  },
  {
   "cell_type": "markdown",
   "id": "7049ca54",
   "metadata": {},
   "source": [
    "### Категории дохода. <a id=\"income_categories\"></a>"
   ]
  },
  {
   "cell_type": "code",
   "execution_count": null,
   "id": "bd4d1f40",
   "metadata": {},
   "outputs": [],
   "source": []
  },
  {
   "cell_type": "markdown",
   "id": "93524c93",
   "metadata": {},
   "source": [
    "### Категории целей кредита. <a id=\"purpose_categories\"></a>"
   ]
  },
  {
   "cell_type": "code",
   "execution_count": null,
   "id": "cb01f1d2",
   "metadata": {},
   "outputs": [],
   "source": []
  },
  {
   "cell_type": "markdown",
   "id": "8d107492",
   "metadata": {},
   "source": [
    "## Ответы на вопросы. <a id=\"checking_for_anomalies\"></a>"
   ]
  },
  {
   "cell_type": "markdown",
   "id": "c2b43234",
   "metadata": {},
   "source": [
    "### Вопрос 1:"
   ]
  },
  {
   "cell_type": "markdown",
   "id": "9b2047b3",
   "metadata": {},
   "source": []
  },
  {
   "cell_type": "markdown",
   "id": "40fca2a0",
   "metadata": {},
   "source": [
    "### Вывод 1:"
   ]
  },
  {
   "cell_type": "markdown",
   "id": "e2d4e337",
   "metadata": {},
   "source": []
  },
  {
   "cell_type": "markdown",
   "id": "af94aa9b",
   "metadata": {},
   "source": [
    "## Общий вывод: <a id=\"checking_for_anomalies\"></a>"
   ]
  },
  {
   "cell_type": "markdown",
   "id": "baed651e",
   "metadata": {},
   "source": []
  },
  {
   "cell_type": "code",
   "execution_count": null,
   "id": "51cddf6d",
   "metadata": {},
   "outputs": [],
   "source": []
  }
 ],
 "metadata": {
  "kernelspec": {
   "display_name": "Python 3 (ipykernel)",
   "language": "python",
   "name": "python3"
  },
  "language_info": {
   "codemirror_mode": {
    "name": "ipython",
    "version": 3
   },
   "file_extension": ".py",
   "mimetype": "text/x-python",
   "name": "python",
   "nbconvert_exporter": "python",
   "pygments_lexer": "ipython3",
   "version": "3.9.12"
  },
  "toc": {
   "base_numbering": 1,
   "nav_menu": {},
   "number_sections": true,
   "sideBar": true,
   "skip_h1_title": true,
   "title_cell": "Содержание",
   "title_sidebar": "Содержание",
   "toc_cell": true,
   "toc_position": {},
   "toc_section_display": true,
   "toc_window_display": true
  }
 },
 "nbformat": 4,
 "nbformat_minor": 5
}
