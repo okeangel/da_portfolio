{
 "cells": [
  {
   "cell_type": "markdown",
   "id": "68e75e07",
   "metadata": {},
   "source": [
    "# A/B-тесты"
   ]
  },
  {
   "cell_type": "markdown",
   "id": "0f6113eb",
   "metadata": {
    "toc": true
   },
   "source": [
    "<h1>Содержание<span class=\"tocSkip\"></span></h1>\n",
    "<div class=\"toc\"><ul class=\"toc-item\"><li><span><a href=\"#Пример-анализа-результатов-A/B-теста\" data-toc-modified-id=\"Пример-анализа-результатов-A/B-теста-1\"><span class=\"toc-item-num\">1&nbsp;&nbsp;</span>Пример анализа результатов A/B-теста</a></span></li><li><span><a href=\"#Сбор-данных\" data-toc-modified-id=\"Сбор-данных-2\"><span class=\"toc-item-num\">2&nbsp;&nbsp;</span>Сбор данных</a></span><ul class=\"toc-item\"><li><span><a href=\"#Готовая-агрегирующая-функция\" data-toc-modified-id=\"Готовая-агрегирующая-функция-2.1\"><span class=\"toc-item-num\">2.1&nbsp;&nbsp;</span>Готовая агрегирующая функция</a></span></li></ul></li><li><span><a href=\"#Графики\" data-toc-modified-id=\"Графики-3\"><span class=\"toc-item-num\">3&nbsp;&nbsp;</span>Графики</a></span></li><li><span><a href=\"#Анализ-всплесков-и-выбросов\" data-toc-modified-id=\"Анализ-всплесков-и-выбросов-4\"><span class=\"toc-item-num\">4&nbsp;&nbsp;</span>Анализ всплесков и выбросов</a></span></li><li><span><a href=\"#Полный-анализ-A/B-теста\" data-toc-modified-id=\"Полный-анализ-A/B-теста-5\"><span class=\"toc-item-num\">5&nbsp;&nbsp;</span>Полный анализ A/B-теста</a></span><ul class=\"toc-item\"><li><span><a href=\"#Загрузка-и-подготовка-данных-к-обработке\" data-toc-modified-id=\"Загрузка-и-подготовка-данных-к-обработке-5.1\"><span class=\"toc-item-num\">5.1&nbsp;&nbsp;</span>Загрузка и подготовка данных к обработке</a></span></li><li><span><a href=\"#Исключаем-аномальные-явления-из-выборок\" data-toc-modified-id=\"Исключаем-аномальные-явления-из-выборок-5.2\"><span class=\"toc-item-num\">5.2&nbsp;&nbsp;</span>Исключаем аномальные явления из выборок</a></span><ul class=\"toc-item\"><li><span><a href=\"#Пользователи,-оформившие-очень-много-заявок\" data-toc-modified-id=\"Пользователи,-оформившие-очень-много-заявок-5.2.1\"><span class=\"toc-item-num\">5.2.1&nbsp;&nbsp;</span>Пользователи, оформившие очень много заявок</a></span></li></ul></li><li><span><a href=\"#Статистическая-значимость-различий-между-группами-теста\" data-toc-modified-id=\"Статистическая-значимость-различий-между-группами-теста-5.3\"><span class=\"toc-item-num\">5.3&nbsp;&nbsp;</span>Статистическая значимость различий между группами теста</a></span><ul class=\"toc-item\"><li><span><a href=\"#Различие-в-количестве-заказов\" data-toc-modified-id=\"Различие-в-количестве-заказов-5.3.1\"><span class=\"toc-item-num\">5.3.1&nbsp;&nbsp;</span>Различие в количестве заказов</a></span></li></ul></li></ul></li><li><span><a href=\"#Основные-ошибки-при-анализе\" data-toc-modified-id=\"Основные-ошибки-при-анализе-6\"><span class=\"toc-item-num\">6&nbsp;&nbsp;</span>Основные ошибки при анализе</a></span></li></ul></div>"
   ]
  },
  {
   "cell_type": "markdown",
   "id": "670c5019",
   "metadata": {},
   "source": [
    "## Пример анализа результатов A/B-теста"
   ]
  },
  {
   "cell_type": "code",
   "execution_count": 1,
   "id": "e71acf1c",
   "metadata": {},
   "outputs": [],
   "source": [
    "import pandas as pd\n",
    "import datetime as dt\n",
    "import numpy as np\n",
    "\n",
    "BASE_URL = 'https://code.s3.yandex.net/datasets/'"
   ]
  },
  {
   "cell_type": "code",
   "execution_count": 2,
   "id": "e10b9f57",
   "metadata": {},
   "outputs": [
    {
     "data": {
      "text/html": [
       "<div>\n",
       "<style scoped>\n",
       "    .dataframe tbody tr th:only-of-type {\n",
       "        vertical-align: middle;\n",
       "    }\n",
       "\n",
       "    .dataframe tbody tr th {\n",
       "        vertical-align: top;\n",
       "    }\n",
       "\n",
       "    .dataframe thead th {\n",
       "        text-align: right;\n",
       "    }\n",
       "</style>\n",
       "<table border=\"1\" class=\"dataframe\">\n",
       "  <thead>\n",
       "    <tr style=\"text-align: right;\">\n",
       "      <th></th>\n",
       "      <th>date</th>\n",
       "      <th>group</th>\n",
       "      <th>visitors</th>\n",
       "      <th>orders</th>\n",
       "    </tr>\n",
       "  </thead>\n",
       "  <tbody>\n",
       "    <tr>\n",
       "      <th>0</th>\n",
       "      <td>1/1/2019</td>\n",
       "      <td>A</td>\n",
       "      <td>1013</td>\n",
       "      <td>10</td>\n",
       "    </tr>\n",
       "    <tr>\n",
       "      <th>1</th>\n",
       "      <td>1/2/2019</td>\n",
       "      <td>A</td>\n",
       "      <td>969</td>\n",
       "      <td>13</td>\n",
       "    </tr>\n",
       "    <tr>\n",
       "      <th>2</th>\n",
       "      <td>1/3/2019</td>\n",
       "      <td>A</td>\n",
       "      <td>1004</td>\n",
       "      <td>13</td>\n",
       "    </tr>\n",
       "    <tr>\n",
       "      <th>3</th>\n",
       "      <td>1/4/2019</td>\n",
       "      <td>A</td>\n",
       "      <td>1006</td>\n",
       "      <td>12</td>\n",
       "    </tr>\n",
       "    <tr>\n",
       "      <th>4</th>\n",
       "      <td>1/5/2019</td>\n",
       "      <td>A</td>\n",
       "      <td>968</td>\n",
       "      <td>14</td>\n",
       "    </tr>\n",
       "  </tbody>\n",
       "</table>\n",
       "</div>"
      ],
      "text/plain": [
       "       date group  visitors  orders\n",
       "0  1/1/2019     A      1013      10\n",
       "1  1/2/2019     A       969      13\n",
       "2  1/3/2019     A      1004      13\n",
       "3  1/4/2019     A      1006      12\n",
       "4  1/5/2019     A       968      14"
      ]
     },
     "execution_count": 2,
     "metadata": {},
     "output_type": "execute_result"
    }
   ],
   "source": [
    "data = pd.read_csv(BASE_URL + 'lesson_data_3-3.csv')\n",
    "data.head(5)"
   ]
  },
  {
   "cell_type": "code",
   "execution_count": 3,
   "id": "d6222ed2",
   "metadata": {
    "scrolled": true
   },
   "outputs": [
    {
     "data": {
      "text/html": [
       "<div>\n",
       "<style scoped>\n",
       "    .dataframe tbody tr th:only-of-type {\n",
       "        vertical-align: middle;\n",
       "    }\n",
       "\n",
       "    .dataframe tbody tr th {\n",
       "        vertical-align: top;\n",
       "    }\n",
       "\n",
       "    .dataframe thead th {\n",
       "        text-align: right;\n",
       "    }\n",
       "</style>\n",
       "<table border=\"1\" class=\"dataframe\">\n",
       "  <thead>\n",
       "    <tr style=\"text-align: right;\">\n",
       "      <th></th>\n",
       "      <th>group</th>\n",
       "      <th>visitors</th>\n",
       "      <th>orders</th>\n",
       "    </tr>\n",
       "  </thead>\n",
       "  <tbody>\n",
       "    <tr>\n",
       "      <th>0</th>\n",
       "      <td>A</td>\n",
       "      <td>30996</td>\n",
       "      <td>385</td>\n",
       "    </tr>\n",
       "    <tr>\n",
       "      <th>1</th>\n",
       "      <td>B</td>\n",
       "      <td>31105</td>\n",
       "      <td>419</td>\n",
       "    </tr>\n",
       "  </tbody>\n",
       "</table>\n",
       "</div>"
      ],
      "text/plain": [
       "  group  visitors  orders\n",
       "0     A     30996     385\n",
       "1     B     31105     419"
      ]
     },
     "execution_count": 3,
     "metadata": {},
     "output_type": "execute_result"
    }
   ],
   "source": [
    "data_new = data.groupby('group', as_index=False).agg(\n",
    "    {'visitors': 'sum', 'orders': 'sum'}\n",
    ")\n",
    "data_new"
   ]
  },
  {
   "cell_type": "code",
   "execution_count": 4,
   "id": "69d75d56",
   "metadata": {},
   "outputs": [
    {
     "data": {
      "text/html": [
       "<div>\n",
       "<style scoped>\n",
       "    .dataframe tbody tr th:only-of-type {\n",
       "        vertical-align: middle;\n",
       "    }\n",
       "\n",
       "    .dataframe tbody tr th {\n",
       "        vertical-align: top;\n",
       "    }\n",
       "\n",
       "    .dataframe thead th {\n",
       "        text-align: right;\n",
       "    }\n",
       "</style>\n",
       "<table border=\"1\" class=\"dataframe\">\n",
       "  <thead>\n",
       "    <tr style=\"text-align: right;\">\n",
       "      <th></th>\n",
       "      <th>group</th>\n",
       "      <th>visitors</th>\n",
       "      <th>orders</th>\n",
       "      <th>orders_to_visitors_ratio</th>\n",
       "    </tr>\n",
       "  </thead>\n",
       "  <tbody>\n",
       "    <tr>\n",
       "      <th>0</th>\n",
       "      <td>A</td>\n",
       "      <td>30996</td>\n",
       "      <td>385</td>\n",
       "      <td>0.987167</td>\n",
       "    </tr>\n",
       "    <tr>\n",
       "      <th>1</th>\n",
       "      <td>B</td>\n",
       "      <td>31105</td>\n",
       "      <td>419</td>\n",
       "      <td>1.341589</td>\n",
       "    </tr>\n",
       "  </tbody>\n",
       "</table>\n",
       "</div>"
      ],
      "text/plain": [
       "  group  visitors  orders  orders_to_visitors_ratio\n",
       "0     A     30996     385                  0.987167\n",
       "1     B     31105     419                  1.341589"
      ]
     },
     "execution_count": 4,
     "metadata": {},
     "output_type": "execute_result"
    }
   ],
   "source": [
    "data_new['orders_to_visitors_ratio'] = data['orders'] * 100 / data['visitors']\n",
    "data_new"
   ]
  },
  {
   "cell_type": "markdown",
   "id": "317dfb05",
   "metadata": {},
   "source": [
    "Видим, что количестов заказов на пользователя во втором случае больше, чем в первом."
   ]
  },
  {
   "cell_type": "markdown",
   "id": "0abc09c0",
   "metadata": {},
   "source": [
    "## Сбор данных"
   ]
  },
  {
   "cell_type": "code",
   "execution_count": 5,
   "id": "4b092c7e",
   "metadata": {},
   "outputs": [
    {
     "name": "stdout",
     "output_type": "stream",
     "text": [
      "   orderId group                userId  revenue       date\n",
      "0        1     A   4765212904118882304     7503 2019-04-01\n",
      "1        2     A  14477413223818084352    11424 2019-04-01\n",
      "2        3     B  10223965268965748736     1299 2019-04-01\n",
      "3        4     A   1399771946645095424      999 2019-04-01\n",
      "4        5     A  13269081434837460992      499 2019-04-01\n",
      "        date group  visitors\n",
      "0 2019-04-01     A       455\n",
      "1 2019-04-02     A       501\n",
      "2 2019-04-03     A      1313\n",
      "3 2019-04-04     A       555\n",
      "4 2019-04-05     A       564\n"
     ]
    }
   ],
   "source": [
    "orders = pd.read_csv(BASE_URL + 'orders_for_anomalies_detection.csv', sep=',')\n",
    "orders['date'] = orders['date'].map(\n",
    "    lambda x: dt.datetime.strptime(x, '%Y-%m-%d')\n",
    ")\n",
    "\n",
    "visitors = pd.read_csv(\n",
    "    BASE_URL + 'orders_for_anomalies_detection_visitors.csv', sep=','\n",
    ")\n",
    "visitors['date'] = visitors['date'].map(\n",
    "    lambda x: dt.datetime.strptime(x, '%d/%m/%Y')\n",
    ")\n",
    "\n",
    "print(orders.head())\n",
    "print(visitors.head())"
   ]
  },
  {
   "cell_type": "code",
   "execution_count": 6,
   "id": "cfe21e58",
   "metadata": {},
   "outputs": [
    {
     "data": {
      "text/html": [
       "<div>\n",
       "<style scoped>\n",
       "    .dataframe tbody tr th:only-of-type {\n",
       "        vertical-align: middle;\n",
       "    }\n",
       "\n",
       "    .dataframe tbody tr th {\n",
       "        vertical-align: top;\n",
       "    }\n",
       "\n",
       "    .dataframe thead th {\n",
       "        text-align: right;\n",
       "    }\n",
       "</style>\n",
       "<table border=\"1\" class=\"dataframe\">\n",
       "  <thead>\n",
       "    <tr style=\"text-align: right;\">\n",
       "      <th></th>\n",
       "      <th>date</th>\n",
       "      <th>group</th>\n",
       "    </tr>\n",
       "  </thead>\n",
       "  <tbody>\n",
       "    <tr>\n",
       "      <th>0</th>\n",
       "      <td>2019-04-01</td>\n",
       "      <td>A</td>\n",
       "    </tr>\n",
       "    <tr>\n",
       "      <th>2</th>\n",
       "      <td>2019-04-01</td>\n",
       "      <td>B</td>\n",
       "    </tr>\n",
       "    <tr>\n",
       "      <th>9</th>\n",
       "      <td>2019-04-02</td>\n",
       "      <td>A</td>\n",
       "    </tr>\n",
       "    <tr>\n",
       "      <th>10</th>\n",
       "      <td>2019-04-02</td>\n",
       "      <td>B</td>\n",
       "    </tr>\n",
       "    <tr>\n",
       "      <th>19</th>\n",
       "      <td>2019-04-03</td>\n",
       "      <td>B</td>\n",
       "    </tr>\n",
       "  </tbody>\n",
       "</table>\n",
       "</div>"
      ],
      "text/plain": [
       "         date group\n",
       "0  2019-04-01     A\n",
       "2  2019-04-01     B\n",
       "9  2019-04-02     A\n",
       "10 2019-04-02     B\n",
       "19 2019-04-03     B"
      ]
     },
     "execution_count": 6,
     "metadata": {},
     "output_type": "execute_result"
    }
   ],
   "source": [
    "# создаем массив уникальных пар значений дат и групп теста\n",
    "datesGroups = orders[['date', 'group']].drop_duplicates()\n",
    "datesGroups.head()"
   ]
  },
  {
   "cell_type": "code",
   "execution_count": 7,
   "id": "18d554fa",
   "metadata": {},
   "outputs": [
    {
     "name": "stdout",
     "output_type": "stream",
     "text": [
      "         date group  orderId  userId  revenue\n",
      "0  2019-04-01     A        6       6   128276\n",
      "2  2019-04-01     B        3       3     4082\n",
      "9  2019-04-02     A       12      12   157683\n",
      "10 2019-04-02     B        7       6   136535\n",
      "20 2019-04-03     A       23      20   199868\n"
     ]
    }
   ],
   "source": [
    "# получаем агрегированные кумулятивные по дням данные о заказах\n",
    "ordersAggregated = datesGroups.apply(\n",
    "    lambda x: orders[\n",
    "        np.logical_and(\n",
    "            orders['date'] <= x['date'], orders['group'] == x['group']\n",
    "        )\n",
    "    ].agg(\n",
    "        {\n",
    "            'date': 'max',\n",
    "            'group': 'max',\n",
    "            'orderId': 'nunique',\n",
    "            'userId': 'nunique',\n",
    "            'revenue': 'sum',\n",
    "        }\n",
    "    ),\n",
    "    axis=1,\n",
    ").sort_values(by=['date', 'group'])\n",
    "\n",
    "print(ordersAggregated.head())"
   ]
  },
  {
   "cell_type": "code",
   "execution_count": 8,
   "id": "08067ea5",
   "metadata": {},
   "outputs": [
    {
     "name": "stdout",
     "output_type": "stream",
     "text": [
      "         date group  visitors\n",
      "0  2019-04-01     A       455\n",
      "2  2019-04-01     B       464\n",
      "9  2019-04-02     A       956\n",
      "10 2019-04-02     B       977\n",
      "20 2019-04-03     A      2269\n"
     ]
    }
   ],
   "source": [
    "# получаем агрегированные кумулятивные по дням данные\n",
    "# о посетителях интернет-магазина\n",
    "visitorsAggregated = datesGroups.apply(\n",
    "    lambda x: visitors[\n",
    "        np.logical_and(\n",
    "            visitors['date'] <= x['date'], visitors['group'] == x['group']\n",
    "        )\n",
    "    ].agg({'date': 'max', 'group': 'max', 'visitors': 'sum'}),\n",
    "    axis=1,\n",
    ").sort_values(by=['date', 'group'])\n",
    "\n",
    "print(visitorsAggregated.head())"
   ]
  },
  {
   "cell_type": "code",
   "execution_count": 9,
   "id": "76b08bf9",
   "metadata": {},
   "outputs": [
    {
     "name": "stdout",
     "output_type": "stream",
     "text": [
      "        date group  orders  buyers  revenue  visitors\n",
      "0 2019-04-01     A       6       6   128276       455\n",
      "1 2019-04-01     B       3       3     4082       464\n",
      "2 2019-04-02     A      12      12   157683       956\n",
      "3 2019-04-02     B       7       6   136535       977\n",
      "4 2019-04-03     A      23      20   199868      2269\n"
     ]
    }
   ],
   "source": [
    "# объединяем кумулятивные данные в одной таблице\n",
    "# и присваиваем ее столбцам понятные названия\n",
    "cumulativeData = ordersAggregated.merge(\n",
    "    visitorsAggregated,\n",
    "    on=['date', 'group'],\n",
    "    how='outer',\n",
    ")\n",
    "cumulativeData.columns = [\n",
    "    'date',\n",
    "    'group',\n",
    "    'orders',\n",
    "    'buyers',\n",
    "    'revenue',\n",
    "    'visitors',\n",
    "]\n",
    "\n",
    "print(cumulativeData.head(5))"
   ]
  },
  {
   "cell_type": "markdown",
   "id": "9c8abacc",
   "metadata": {},
   "source": [
    "### Готовая агрегирующая функция"
   ]
  },
  {
   "cell_type": "code",
   "execution_count": 10,
   "id": "c24cb16a",
   "metadata": {},
   "outputs": [],
   "source": [
    "def agg_ab_data(\n",
    "    visits_by_timeframe,\n",
    "    orders,\n",
    "    group_col='group',\n",
    "    timeframe_col='date',\n",
    "    order_id_col='order_id',\n",
    "    user_id_col='user_id',\n",
    "    revenue_col='revenue',\n",
    "):\n",
    "\n",
    "    # создаем массив уникальных пар значений дат и групп теста\n",
    "    dates_groups = visits_by_timeframe[\n",
    "        [timeframe_col, group_col]\n",
    "    ].drop_duplicates()\n",
    "\n",
    "    # получаем агрегированные кумулятивные по дням данные о числе заказов\n",
    "    orders_aggregated = (\n",
    "        dates_groups.apply(\n",
    "            lambda row: orders[\n",
    "                np.logical_and(\n",
    "                    orders[timeframe_col] <= row[timeframe_col],\n",
    "                    orders[group_col] == row[group_col],\n",
    "                )\n",
    "            ].agg(\n",
    "                {\n",
    "                    timeframe_col: 'max',\n",
    "                    group_col: 'max',\n",
    "                    order_id_col: 'nunique',\n",
    "                    user_id_col: 'nunique',\n",
    "                    revenue_col: 'sum',\n",
    "                }\n",
    "            ),\n",
    "            axis=1,\n",
    "        )\n",
    "        .sort_values(by=[timeframe_col, group_col])\n",
    "        .rename(columns={order_id_col: 'orders', user_id_col: 'buyers'})\n",
    "    )\n",
    "\n",
    "    # получаем кумулятивные по дням данные о числе посетителей\n",
    "    visitors_aggregated = dates_groups.apply(\n",
    "        lambda row: visits_by_timeframe[\n",
    "            np.logical_and(\n",
    "                visits_by_timeframe[timeframe_col] <= row[timeframe_col],\n",
    "                visits_by_timeframe[group_col] == row[group_col],\n",
    "            )\n",
    "        ].agg({timeframe_col: 'max', group_col: 'max', 'visitors': 'sum'}),\n",
    "        axis=1,\n",
    "    ).sort_values(by=[timeframe_col, group_col])\n",
    "\n",
    "    # соединяем данные по таймфреймам и группам\n",
    "    ab_data = orders_aggregated.merge(\n",
    "        visitors_aggregated,\n",
    "        on=[timeframe_col, group_col],\n",
    "        how='outer',\n",
    "    )\n",
    "\n",
    "    return ab_data"
   ]
  },
  {
   "cell_type": "code",
   "execution_count": 11,
   "id": "20dbb60b",
   "metadata": {},
   "outputs": [
    {
     "name": "stdout",
     "output_type": "stream",
     "text": [
      "        date group  orders  buyers  revenue  visitors\n",
      "0 2019-04-01     A       6       6   128276       455\n",
      "1 2019-04-01     B       3       3     4082       464\n",
      "2 2019-04-02     A      12      12   157683       956\n",
      "3 2019-04-02     B       7       6   136535       977\n",
      "4 2019-04-03     A      23      20   199868      2269\n"
     ]
    }
   ],
   "source": [
    "cumulativeData = agg_ab_data(\n",
    "    visitors,\n",
    "    orders,\n",
    "    group_col='group',\n",
    "    timeframe_col='date',\n",
    "    order_id_col='orderId',\n",
    "    user_id_col='userId',\n",
    "    revenue_col='revenue',\n",
    ")\n",
    "print(cumulativeData.head(5))"
   ]
  },
  {
   "cell_type": "markdown",
   "id": "7232be2e",
   "metadata": {},
   "source": [
    "## Графики"
   ]
  },
  {
   "cell_type": "code",
   "execution_count": 12,
   "id": "9c80a005",
   "metadata": {},
   "outputs": [],
   "source": [
    "import matplotlib.pyplot as plt\n",
    "\n",
    "# датафрейм с кумулятивным количеством заказов\n",
    "# и кумулятивной выручкой по дням в группе А\n",
    "cumulativeRevenueA = cumulativeData[cumulativeData['group'] == 'A'][\n",
    "    ['date', 'revenue', 'orders']\n",
    "]\n",
    "\n",
    "# датафрейм с кумулятивным количеством заказов\n",
    "# и кумулятивной выручкой по дням в группе B\n",
    "cumulativeRevenueB = cumulativeData[cumulativeData['group'] == 'B'][\n",
    "    ['date', 'revenue', 'orders']\n",
    "]"
   ]
  },
  {
   "cell_type": "code",
   "execution_count": 13,
   "id": "79e92501",
   "metadata": {},
   "outputs": [
    {
     "data": {
      "image/png": "[encoded data removed]",
      "text/plain": [
       "<Figure size 432x288 with 1 Axes>"
      ]
     },
     "metadata": {
      "needs_background": "light"
     },
     "output_type": "display_data"
    }
   ],
   "source": [
    "# Строим график выручки группы А\n",
    "plt.plot(cumulativeRevenueA['date'], cumulativeRevenueA['revenue'], label='A')\n",
    "\n",
    "# Строим график выручки группы B\n",
    "plt.plot(cumulativeRevenueB['date'], cumulativeRevenueB['revenue'], label='B')\n",
    "\n",
    "plt.legend()\n",
    "plt.show()"
   ]
  },
  {
   "cell_type": "markdown",
   "id": "f0f2d5e9",
   "metadata": {},
   "source": [
    "Выручка почти равномерно увеличивается в течение всего теста. Хороший знак.\n",
    "\n",
    "Однако графики выручки обеих групп в нескольких точках резко растут. Это может сигнализировать о всплесках числа заказов, либо о появлении очень дорогих заказов в выборке. Такие выбросы проанализируем в следующем уроке.\n",
    "\n",
    "Построим графики среднего чека по группам — разделим кумулятивную выручку на кумулятивное число заказов:"
   ]
  },
  {
   "cell_type": "code",
   "execution_count": 14,
   "id": "67666169",
   "metadata": {},
   "outputs": [
    {
     "data": {
      "image/png": "[encoded data removed]",
      "text/plain": [
       "<Figure size 432x288 with 1 Axes>"
      ]
     },
     "metadata": {
      "needs_background": "light"
     },
     "output_type": "display_data"
    }
   ],
   "source": [
    "plt.plot(\n",
    "    cumulativeRevenueA['date'],\n",
    "    cumulativeRevenueA['revenue'] / cumulativeRevenueA['orders'],\n",
    "    label='A',\n",
    ")\n",
    "plt.plot(\n",
    "    cumulativeRevenueB['date'],\n",
    "    cumulativeRevenueB['revenue'] / cumulativeRevenueB['orders'],\n",
    "    label='B',\n",
    ")\n",
    "plt.legend()\n",
    "plt.show()"
   ]
  },
  {
   "cell_type": "markdown",
   "id": "520edb54",
   "metadata": {},
   "source": [
    "Средний чек тоже становится равномерным ближе к концу теста: установился для группы A и продолжает падать для группы B. Возможно, в группу B в первой половине теста попали крупные заказы (резкий всплеск на графике). Тогда ей нужно больше данных, чтобы прийти к реальному среднему чеку и установиться на его уровне.\n",
    "\n",
    "Построим график относительного различия для среднего чека. Добавим горизонтальную ось методом axhline() (от англ. horizontal line across the axis*, «горизонтальная линия поперек оси»):"
   ]
  },
  {
   "cell_type": "code",
   "execution_count": 15,
   "id": "ce5448fa",
   "metadata": {},
   "outputs": [
    {
     "data": {
      "image/png": "[encoded data removed]",
      "text/plain": [
       "<Figure size 432x288 with 1 Axes>"
      ]
     },
     "metadata": {
      "needs_background": "light"
     },
     "output_type": "display_data"
    }
   ],
   "source": [
    "# собираем данные в одном датафрейме\n",
    "mergedCumulativeRevenue = cumulativeRevenueA.merge(\n",
    "    cumulativeRevenueB,\n",
    "    left_on='date',\n",
    "    right_on='date',\n",
    "    how='left',\n",
    "    suffixes=['A', 'B'],\n",
    ")\n",
    "\n",
    "# cтроим отношение средних чеков\n",
    "plt.plot(\n",
    "    mergedCumulativeRevenue['date'],\n",
    "    (mergedCumulativeRevenue['revenueB'] / mergedCumulativeRevenue['ordersB'])\n",
    "    / (\n",
    "        mergedCumulativeRevenue['revenueA']\n",
    "        / mergedCumulativeRevenue['ordersA']\n",
    "    )\n",
    "    - 1,\n",
    ")\n",
    "\n",
    "# добавляем ось X\n",
    "plt.axhline(y=0, color='black', linestyle='--')\n",
    "\n",
    "plt.show()"
   ]
  },
  {
   "cell_type": "markdown",
   "id": "3a433d78",
   "metadata": {},
   "source": [
    "В нескольких точках график различия между сегментами резко «скачет». Где-то уж точно спрятались крупные заказы и выбросы! Найдём их позже.\n",
    "\n",
    "Аналогично проанализируем график кумулятивной конверсии. Зададим масштаб осей методом `plt.axis()`. Передадим ему минимальное и максимальное значения оси `x`; минимальное и максимальное значения оси `y` — `[\"2019-04-01\", '2019-04-23', 0, 0.015]`:"
   ]
  },
  {
   "cell_type": "markdown",
   "id": "63158e01",
   "metadata": {},
   "source": [
    "Внимание, тут \"конверсия\" - это просто количество заказов в пересчёте на количество визитов."
   ]
  },
  {
   "cell_type": "code",
   "execution_count": 16,
   "id": "14abe600",
   "metadata": {
    "scrolled": false
   },
   "outputs": [
    {
     "data": {
      "image/png": "[encoded data removed]",
      "text/plain": [
       "<Figure size 432x288 with 1 Axes>"
      ]
     },
     "metadata": {
      "needs_background": "light"
     },
     "output_type": "display_data"
    }
   ],
   "source": [
    "# считаем кумулятивную конверсию\n",
    "cumulativeData['conversion'] = (\n",
    "    cumulativeData['orders'] / cumulativeData['visitors']\n",
    ")\n",
    "\n",
    "# отделяем данные по группе A\n",
    "cumulativeDataA = cumulativeData[cumulativeData['group'] == 'A']\n",
    "\n",
    "# отделяем данные по группе B\n",
    "cumulativeDataB = cumulativeData[cumulativeData['group'] == 'B']\n",
    "\n",
    "# строим графики\n",
    "plt.plot(cumulativeDataA['date'], cumulativeDataA['conversion'], label='A')\n",
    "plt.plot(cumulativeDataB['date'], cumulativeDataB['conversion'], label='B')\n",
    "plt.legend()\n",
    "\n",
    "# задаем масштаб осей\n",
    "# plt.axis(['2019-04-01', '2019-04-23', 0, 0.015])\n",
    "plt.show()"
   ]
  },
  {
   "cell_type": "markdown",
   "id": "296cbe72",
   "metadata": {},
   "source": [
    "Симметричный график получился! Группы колебались около одного значения, но затем конверсия группы A вырвалась вперёд и зафиксировалась, а конверсия группы B просела и также зафиксировалась.\n",
    "\n",
    "Построим график относительного различия кумулятивных конверсий:"
   ]
  },
  {
   "cell_type": "code",
   "execution_count": 17,
   "id": "d1443b75",
   "metadata": {
    "scrolled": false
   },
   "outputs": [
    {
     "data": {
      "image/png": "[encoded data removed]",
      "text/plain": [
       "<Figure size 432x288 with 1 Axes>"
      ]
     },
     "metadata": {
      "needs_background": "light"
     },
     "output_type": "display_data"
    }
   ],
   "source": [
    "mergedCumulativeConversions = cumulativeDataA[['date', 'conversion']].merge(\n",
    "    cumulativeDataB[['date', 'conversion']],\n",
    "    left_on='date',\n",
    "    right_on='date',\n",
    "    how='left',\n",
    "    suffixes=['A', 'B'],\n",
    ")\n",
    "\n",
    "plt.plot(\n",
    "    mergedCumulativeConversions['date'],\n",
    "    mergedCumulativeConversions['conversionB']\n",
    "    / mergedCumulativeConversions['conversionA']\n",
    "    - 1,\n",
    "    label=\"Относительный прирост конверсии группы B относительно группы A\",\n",
    ")\n",
    "plt.legend()\n",
    "\n",
    "plt.axhline(y=0, color='black', linestyle='--')\n",
    "plt.axhline(y=-0.1, color='grey', linestyle='--')\n",
    "plt.axis([dt.date(2019, 4, 1), dt.date(2019, 4, 23), -0.6, 0.6])\n",
    "plt.show()"
   ]
  },
  {
   "cell_type": "markdown",
   "id": "437e5bcb",
   "metadata": {},
   "source": [
    "В начале теста группа B значительно проигрывала группе A, затем вырвалась вперёд. Потом её конверсия снова падала, но теперь постепенно растёт.\n",
    "\n",
    "В целом отношение конверсии ещё не установилось, и сейчас делать какие-либо выводы по тесту нельзя. Впрочем, сперва стоит проанализировать аномалии, возможно, они изменят картину. Сделаем это в следующем уроке."
   ]
  },
  {
   "cell_type": "markdown",
   "id": "fb522a95",
   "metadata": {},
   "source": [
    "## Анализ всплесков и выбросов"
   ]
  },
  {
   "cell_type": "code",
   "execution_count": 18,
   "id": "bd202074",
   "metadata": {},
   "outputs": [
    {
     "name": "stdout",
     "output_type": "stream",
     "text": [
      "   orderId group                userId  revenue       date\n",
      "0        1     A   4765212904118882304     7503 2019-04-01\n",
      "1        2     A  14477413223818084352    11424 2019-04-01\n",
      "2        3     B  10223965268965748736     1299 2019-04-01\n",
      "3        4     A   1399771946645095424      999 2019-04-01\n",
      "4        5     A  13269081434837460992      499 2019-04-01\n",
      "5        6     B   7141419942738429952      482 2019-04-01\n",
      "6        7     A  14179588155630520320     2999 2019-04-01\n",
      "7        8     A   1225733206606480128   104852 2019-04-01\n",
      "8        9     B   3362287473339592192     2301 2019-04-01\n",
      "9       10     A  11670724616393357312      499 2019-04-02\n"
     ]
    }
   ],
   "source": [
    "import pandas as pd\n",
    "import datetime as dt\n",
    "\n",
    "data = pd.read_csv(BASE_URL + 'orders_for_anomalies_detection.csv', sep=',')\n",
    "data['date'] = data['date'].map(lambda x: dt.datetime.strptime(x, '%Y-%m-%d'))\n",
    "\n",
    "print(data.head(10))"
   ]
  },
  {
   "cell_type": "markdown",
   "id": "4aeeb03c",
   "metadata": {},
   "source": [
    "Есть существенный разлёт значений. 4 из 10 - менее 1 тыс руб, 1 из 10 - более 100 тыс руб. Проанализируем распределение с помощью гистограмм."
   ]
  },
  {
   "cell_type": "code",
   "execution_count": 19,
   "id": "0bb3ac28",
   "metadata": {},
   "outputs": [
    {
     "data": {
      "image/png": "[encoded data removed]",
      "text/plain": [
       "<Figure size 432x288 with 1 Axes>"
      ]
     },
     "metadata": {
      "needs_background": "light"
     },
     "output_type": "display_data"
    }
   ],
   "source": [
    "plt.hist(data['revenue'])\n",
    "plt.show()"
   ]
  },
  {
   "cell_type": "code",
   "execution_count": 20,
   "id": "3b8cdf1b",
   "metadata": {},
   "outputs": [
    {
     "data": {
      "image/png": "[encoded data removed]",
      "text/plain": [
       "<Figure size 432x288 with 1 Axes>"
      ]
     },
     "metadata": {
      "needs_background": "light"
     },
     "output_type": "display_data"
    }
   ],
   "source": [
    "x_values = pd.Series(range(0, len(data['revenue'])))\n",
    "plt.scatter(x_values, data['revenue'])\n",
    "plt.show()"
   ]
  },
  {
   "cell_type": "markdown",
   "id": "2608c16c",
   "metadata": {},
   "source": [
    "Дорогие заказы стоят отдельными точками.\n",
    "\n",
    "Обычно от 1 до 5% крайних значений - выбрасывают.\n",
    "\n",
    "Считаем, какие значения укладываются в 90, 95 и 99 перцентили."
   ]
  },
  {
   "cell_type": "code",
   "execution_count": 21,
   "id": "3feeea52",
   "metadata": {},
   "outputs": [
    {
     "name": "stdout",
     "output_type": "stream",
     "text": [
      "[  8113.8   13817.   105038.04]\n"
     ]
    }
   ],
   "source": [
    "print(np.percentile(data['revenue'], [90, 95, 99]))"
   ]
  },
  {
   "cell_type": "markdown",
   "id": "b22ff5dc",
   "metadata": {},
   "source": [
    "Подсчитаем количество заказов по пользователям и посмотрим на результат:"
   ]
  },
  {
   "cell_type": "code",
   "execution_count": 22,
   "id": "a92d2212",
   "metadata": {},
   "outputs": [
    {
     "name": "stdout",
     "output_type": "stream",
     "text": [
      "                   userId  orders\n",
      "103  10915146588096065536      15\n",
      "171  17524390106492114944      10\n",
      "26    2181679483747416832       8\n",
      "13    1072811847256720512       7\n",
      "126  12759566205054128128       6\n",
      "148  14477413223818084352       6\n",
      "28    2332073096806479360       6\n",
      "20    1577273240726417664       5\n",
      "41    3362287473339592192       5\n",
      "11     923223027330505600       5\n"
     ]
    }
   ],
   "source": [
    "import pandas as pd\n",
    "import datetime as dt\n",
    "\n",
    "data = pd.read_csv(BASE_URL + 'orders_for_anomalies_detection.csv', sep=',')\n",
    "data['date'] = data['date'].map(lambda x: dt.datetime.strptime(x, '%Y-%m-%d'))\n",
    "\n",
    "ordersByUsers = data.groupby('userId', as_index=False).agg(\n",
    "    {'orderId': 'nunique'}\n",
    ")\n",
    "\n",
    "ordersByUsers.columns = ['userId', 'orders']\n",
    "\n",
    "print(ordersByUsers.sort_values(by='orders', ascending=False).head(10))"
   ]
  },
  {
   "cell_type": "markdown",
   "id": "c27ef1c8",
   "metadata": {},
   "source": [
    "Оценим распределение пользователей по количеству сделанных заказов."
   ]
  },
  {
   "cell_type": "code",
   "execution_count": 23,
   "id": "fd8e5e3e",
   "metadata": {},
   "outputs": [
    {
     "data": {
      "image/png": "[encoded data removed]",
      "text/plain": [
       "<Figure size 432x288 with 1 Axes>"
      ]
     },
     "metadata": {
      "needs_background": "light"
     },
     "output_type": "display_data"
    }
   ],
   "source": [
    "import matplotlib.pyplot as plt\n",
    "\n",
    "plt.hist(ordersByUsers['orders'])\n",
    "plt.show()"
   ]
  },
  {
   "cell_type": "code",
   "execution_count": 24,
   "id": "25ab17d3",
   "metadata": {},
   "outputs": [
    {
     "data": {
      "image/png": "[encoded data removed]",
      "text/plain": [
       "<Figure size 432x288 with 1 Axes>"
      ]
     },
     "metadata": {
      "needs_background": "light"
     },
     "output_type": "display_data"
    }
   ],
   "source": [
    "x_values = pd.Series(range(0, len(ordersByUsers)))\n",
    "\n",
    "plt.scatter(x_values, ordersByUsers['orders'])\n",
    "plt.show()"
   ]
  },
  {
   "cell_type": "markdown",
   "id": "ab616175",
   "metadata": {},
   "source": [
    "Ну, больше одного мало кто заказал. Непонятно, считать ли тех, у кого по 2-4 заказа, особенными, аномальными."
   ]
  },
  {
   "cell_type": "code",
   "execution_count": 25,
   "id": "83b2cc3b",
   "metadata": {},
   "outputs": [
    {
     "name": "stdout",
     "output_type": "stream",
     "text": [
      "[3.   4.85 8.34]\n"
     ]
    }
   ],
   "source": [
    "import numpy as np\n",
    "\n",
    "print(np.percentile(ordersByUsers['orders'], [90, 95, 99]))"
   ]
  },
  {
   "cell_type": "markdown",
   "id": "87294d9f",
   "metadata": {},
   "source": [
    "Не более 5% пользователей оформляли больше чем 4.85 (т. е. 5) заказов. И 10% пользователей заказывали более трёх раз."
   ]
  },
  {
   "cell_type": "markdown",
   "id": "27c3e733",
   "metadata": {},
   "source": [
    "Разумным станет оставить только тех, кто ниже 95-го перцентиля в обоих случаях."
   ]
  },
  {
   "cell_type": "markdown",
   "id": "5daade1c",
   "metadata": {},
   "source": [
    "## Полный анализ A/B-теста"
   ]
  },
  {
   "cell_type": "markdown",
   "id": "24cdf753",
   "metadata": {},
   "source": [
    "### Загрузка и подготовка данных к обработке"
   ]
  },
  {
   "cell_type": "code",
   "execution_count": 26,
   "id": "b15fd8bd",
   "metadata": {},
   "outputs": [
    {
     "name": "stdout",
     "output_type": "stream",
     "text": [
      "   orderId group                userId  revenue       date\n",
      "0        1     A   4765212904118882304     7503 2019-04-01\n",
      "1        2     A  14477413223818084352    11424 2019-04-01\n",
      "2        3     B  10223965268965748736     1299 2019-04-01\n",
      "3        4     A   1399771946645095424      999 2019-04-01\n",
      "4        5     A  13269081434837460992      499 2019-04-01\n",
      "        date group  visitors\n",
      "0 2019-04-01     A       455\n",
      "1 2019-04-02     A       501\n",
      "2 2019-04-03     A      1313\n",
      "3 2019-04-04     A       555\n",
      "4 2019-04-05     A       564\n"
     ]
    }
   ],
   "source": [
    "import pandas as pd\n",
    "import scipy.stats as stats\n",
    "import datetime as dt\n",
    "import numpy as np\n",
    "\n",
    "# load and format data\n",
    "orders = pd.read_csv(BASE_URL + 'orders_for_anomalies_detection.csv', sep=',')\n",
    "orders['date'] = orders['date'].map(\n",
    "    lambda x: dt.datetime.strptime(x, '%Y-%m-%d')\n",
    ")\n",
    "print(orders.head(5))\n",
    "\n",
    "\n",
    "visitors = pd.read_csv(\n",
    "    BASE_URL + 'orders_for_anomalies_detection_visitors.csv', sep=','\n",
    ")\n",
    "visitors['date'] = visitors['date'].map(\n",
    "    lambda x: dt.datetime.strptime(x, '%d/%m/%Y')\n",
    ")\n",
    "print(visitors.head(5))"
   ]
  },
  {
   "cell_type": "code",
   "execution_count": 27,
   "id": "db5e0137",
   "metadata": {},
   "outputs": [],
   "source": [
    "visitorsADaily = visitors[visitors['group'] == 'A'][['date', 'visitors']]\n",
    "visitorsADaily.columns = ['date', 'visitorsPerDateA']\n",
    "\n",
    "visitorsACummulative = visitorsADaily.apply(\n",
    "    lambda x: visitorsADaily[visitorsADaily['date'] <= x['date']].agg(\n",
    "        {'date': 'max', 'visitorsPerDateA': 'sum'}\n",
    "    ),\n",
    "    axis=1,\n",
    ")\n",
    "visitorsACummulative.columns = ['date', 'visitorsCummulativeA']\n",
    "\n",
    "visitorsBDaily = visitors[visitors['group'] == 'B'][['date', 'visitors']]\n",
    "visitorsBDaily.columns = ['date', 'visitorsPerDateB']\n",
    "\n",
    "visitorsBCummulative = visitorsBDaily.apply(\n",
    "    lambda x: visitorsBDaily[visitorsBDaily['date'] <= x['date']].agg(\n",
    "        {'date': 'max', 'visitorsPerDateB': 'sum'}\n",
    "    ),\n",
    "    axis=1,\n",
    ")\n",
    "visitorsBCummulative.columns = ['date', 'visitorsCummulativeB']"
   ]
  },
  {
   "cell_type": "code",
   "execution_count": 28,
   "id": "0fd0b6c6",
   "metadata": {},
   "outputs": [],
   "source": [
    "ordersADaily = (\n",
    "    orders[orders['group'] == 'A'][['date', 'orderId', 'userId', 'revenue']]\n",
    "    .groupby('date', as_index=False)\n",
    "    .agg({'orderId': pd.Series.nunique, 'revenue': 'sum'})\n",
    ")\n",
    "ordersADaily.columns = ['date', 'ordersPerDateA', 'revenuePerDateA']\n",
    "\n",
    "ordersACummulative = ordersADaily.apply(\n",
    "    lambda x: ordersADaily[ordersADaily['date'] <= x['date']].agg(\n",
    "        {'date': 'max', 'ordersPerDateA': 'sum', 'revenuePerDateA': 'sum'}\n",
    "    ),\n",
    "    axis=1,\n",
    ").sort_values(by=['date'])\n",
    "ordersACummulative.columns = [\n",
    "    'date',\n",
    "    'ordersCummulativeA',\n",
    "    'revenueCummulativeA',\n",
    "]\n",
    "\n",
    "ordersBDaily = (\n",
    "    orders[orders['group'] == 'B'][['date', 'orderId', 'userId', 'revenue']]\n",
    "    .groupby('date', as_index=False)\n",
    "    .agg({'orderId': pd.Series.nunique, 'revenue': 'sum'})\n",
    ")\n",
    "ordersBDaily.columns = ['date', 'ordersPerDateB', 'revenuePerDateB']\n",
    "\n",
    "ordersBCummulative = ordersBDaily.apply(\n",
    "    lambda x: ordersBDaily[ordersBDaily['date'] <= x['date']].agg(\n",
    "        {'date': 'max', 'ordersPerDateB': 'sum', 'revenuePerDateB': 'sum'}\n",
    "    ),\n",
    "    axis=1,\n",
    ").sort_values(by=['date'])\n",
    "ordersBCummulative.columns = [\n",
    "    'date',\n",
    "    'ordersCummulativeB',\n",
    "    'revenueCummulativeB',\n",
    "]"
   ]
  },
  {
   "cell_type": "code",
   "execution_count": 29,
   "id": "bb57d4ec",
   "metadata": {},
   "outputs": [
    {
     "name": "stdout",
     "output_type": "stream",
     "text": [
      "        date  ordersPerDateA  revenuePerDateA  ordersPerDateB  \\\n",
      "0 2019-04-01               6           128276               3   \n",
      "1 2019-04-02               6            29407               4   \n",
      "2 2019-04-03              11            42185              14   \n",
      "3 2019-04-04               6            39061               5   \n",
      "4 2019-04-05               5            16407               6   \n",
      "\n",
      "   revenuePerDateB  ordersCummulativeA  revenueCummulativeA  \\\n",
      "0             4082                   6               128276   \n",
      "1           132453                  12               157683   \n",
      "2            47527                  23               199868   \n",
      "3            29472                  29               238929   \n",
      "4            20160                  34               255336   \n",
      "\n",
      "   ordersCummulativeB  revenueCummulativeB  visitorsPerDateA  \\\n",
      "0                   3                 4082               455   \n",
      "1                   7               136535               501   \n",
      "2                  21               184062              1313   \n",
      "3                  26               213534               555   \n",
      "4                  32               233694               564   \n",
      "\n",
      "   visitorsPerDateB  visitorsCummulativeA  visitorsCummulativeB  \n",
      "0               464                   455                   464  \n",
      "1               513                   956                   977  \n",
      "2              1313                  2269                  2290  \n",
      "3               578                  2824                  2868  \n",
      "4               577                  3388                  3445  \n"
     ]
    }
   ],
   "source": [
    "data = (\n",
    "    ordersADaily.merge(\n",
    "        ordersBDaily, left_on='date', right_on='date', how='left'\n",
    "    )\n",
    "    .merge(ordersACummulative, left_on='date', right_on='date', how='left')\n",
    "    .merge(ordersBCummulative, left_on='date', right_on='date', how='left')\n",
    "    .merge(visitorsADaily, left_on='date', right_on='date', how='left')\n",
    "    .merge(visitorsBDaily, left_on='date', right_on='date', how='left')\n",
    "    .merge(visitorsACummulative, left_on='date', right_on='date', how='left')\n",
    "    .merge(visitorsBCummulative, left_on='date', right_on='date', how='left')\n",
    ")\n",
    "\n",
    "print(data.head(5))"
   ]
  },
  {
   "cell_type": "markdown",
   "id": "e0abb004",
   "metadata": {},
   "source": [
    "Так мы получили таблицу со всеми данными о каждом дне:\n",
    "- дата;\n",
    "- заказов:\n",
    "  - по группам A, B:\n",
    "    - в указанную дату;\n",
    "    - накоплено по окончании даты;\n",
    "- выручка:\n",
    "  - по группам A, B:\n",
    "    - в указанную дату;\n",
    "    - накоплено по окончании даты;\n",
    "- посещений:\n",
    "  - по группам A, B:\n",
    "    - в указанную дату;\n",
    "    - накоплено по окончании даты. "
   ]
  },
  {
   "cell_type": "markdown",
   "id": "f469176f",
   "metadata": {},
   "source": [
    "### Исключаем аномальные явления из выборок"
   ]
  },
  {
   "cell_type": "markdown",
   "id": "09cb4e6d",
   "metadata": {},
   "source": [
    "#### Пользователи, оформившие очень много заявок"
   ]
  },
  {
   "cell_type": "code",
   "execution_count": 30,
   "id": "d47055f7",
   "metadata": {},
   "outputs": [],
   "source": [
    "ordersByUsersA = (\n",
    "    orders[orders['group'] == 'A']\n",
    "    .groupby('userId', as_index=False)\n",
    "    .agg({'orderId': pd.Series.nunique})\n",
    ")\n",
    "ordersByUsersA.columns = ['userId', 'orders']\n",
    "\n",
    "ordersByUsersB = (\n",
    "    orders[orders['group'] == 'B']\n",
    "    .groupby('userId', as_index=False)\n",
    "    .agg({'orderId': pd.Series.nunique})\n",
    ")\n",
    "ordersByUsersB.columns = ['userId', 'orders']"
   ]
  },
  {
   "cell_type": "markdown",
   "id": "bb9431ed",
   "metadata": {},
   "source": [
    "Создадим серии чисел `sampleA` и `sampleB`. Это цепочки количеств заказов для каждого из пользователей, включая 0 для тех пользователей, которые ничего не заказали."
   ]
  },
  {
   "cell_type": "code",
   "execution_count": 31,
   "id": "4eaff541",
   "metadata": {},
   "outputs": [
    {
     "name": "stdout",
     "output_type": "stream",
     "text": [
      "15436\n",
      "15445\n"
     ]
    }
   ],
   "source": [
    "sampleA = pd.concat(  #  сцепить последовательности\n",
    "    [\n",
    "        ordersByUsersA[\n",
    "            'orders'\n",
    "        ],  # первая: серия количеств заказов каждого пользователя\n",
    "        pd.Series(  # вторая: серия\n",
    "            0,  # нулей\n",
    "            index=np.arange(  # в которой индекс - array range\n",
    "                # длиной как разница между количеством посетителей за все даты\n",
    "                # и количеством заказов = длиной списка заказов\n",
    "                # то есть, 0 заказов за посещение!\n",
    "                data['visitorsPerDateA'].sum()\n",
    "                - len(ordersByUsersA['orders'])\n",
    "            ),\n",
    "            name='orders',\n",
    "        ),\n",
    "    ],\n",
    "    axis=0,\n",
    ")\n",
    "\n",
    "sampleB = pd.concat(\n",
    "    [\n",
    "        ordersByUsersB['orders'],\n",
    "        pd.Series(\n",
    "            0,\n",
    "            index=np.arange(\n",
    "                data['visitorsPerDateB'].sum() - len(ordersByUsersB['orders'])\n",
    "            ),\n",
    "            name='orders',\n",
    "        ),\n",
    "    ],\n",
    "    axis=0,\n",
    ")\n",
    "print(len(sampleA))\n",
    "print(len(sampleB))"
   ]
  },
  {
   "cell_type": "code",
   "execution_count": 32,
   "id": "e253b51e",
   "metadata": {},
   "outputs": [
    {
     "name": "stdout",
     "output_type": "stream",
     "text": [
      "Вероятность, что нет статистически значимых различий: 0.883\n",
      "Превосходство B над A по конверсии: -0.102\n",
      "B-mean: 0.009, A-mean: 0.010\n"
     ]
    }
   ],
   "source": [
    "print(\n",
    "    'Вероятность, что нет статистически значимых различий: {0:.3f}'.format(\n",
    "        stats.mannwhitneyu(sampleA, sampleB)[1]\n",
    "    )\n",
    ")\n",
    "print(\n",
    "    'Превосходство B над A по конверсии: {0:.3f}'.format(\n",
    "        sampleB.mean() / sampleA.mean() - 1\n",
    "    )\n",
    ")\n",
    "print(f'B-mean: {sampleB.mean():.3f}, A-mean: {sampleA.mean():.3f}')"
   ]
  },
  {
   "cell_type": "markdown",
   "id": "ef6ddbda",
   "metadata": {},
   "source": [
    "Вывод: По «сырым» данным различий в среднем числе заказов групп A и B нет.\n",
    "\n",
    "Первое число — p-value = 0.883 больше 0.05. Значит, нулевую гипотезу о том, что статистически значимых различий в среднем числе заказов между группами нет, не отвергаем. Однако относительный проигрыш группы B равен 10.2% — второе число в выводе.\n",
    "\n",
    "Теперь проверим статистическую значимость различий в среднем чеке между сегментами. Нулевая гипотеза: различий в среднем чеке между группами нет. Альтернативная гипотеза: различия в среднем чеке между группами есть.\n",
    "\n",
    "Чтобы рассчитать статистическую значимость различий в среднем чеке, передадим критерию mannwhitneyu() данные о выручке с заказов."
   ]
  },
  {
   "cell_type": "code",
   "execution_count": 33,
   "id": "d24ac01c",
   "metadata": {},
   "outputs": [
    {
     "name": "stdout",
     "output_type": "stream",
     "text": [
      "0.521\n",
      "-0.185\n"
     ]
    }
   ],
   "source": [
    "print(\n",
    "    '{0:.3f}'.format(\n",
    "        stats.mannwhitneyu(\n",
    "            orders[orders['group'] == 'A']['revenue'],\n",
    "            orders[orders['group'] == 'B']['revenue'],\n",
    "        )[1]\n",
    "    )\n",
    ")\n",
    "\n",
    "print(\n",
    "    '{0:.3f}'.format(\n",
    "        orders[orders['group'] == 'B']['revenue'].mean()\n",
    "        / orders[orders['group'] == 'A']['revenue'].mean()\n",
    "        - 1\n",
    "    )\n",
    ")"
   ]
  },
  {
   "cell_type": "markdown",
   "id": "e10a68ce",
   "metadata": {},
   "source": [
    "P-value значительно больше 0.05. Значит, причин отвергать нулевую гипотезу и считать, что в среднем чеке есть различия, нет. Впрочем, средний чек группы B значительно ниже среднего чека группы A.\n",
    "\n",
    "Напомним, что найденные в прошлых уроках 95-й и 99-й перцентили средних чеков равны 13 817 и 105 038 рублям. А 95-й и 99-й перцентили количества заказов на одного пользователя равны 4.85 и 8.34 заказа на пользователя.\n",
    "\n",
    "Примем за аномальных пользователей тех, кто совершил от 5 заказов или совершил заказ дороже 20 000 рублей. Так мы уберём 5% пользователей с наибольшим числом заказов и от 1% до 5% пользователей с дорогими заказами. Сделаем срезы пользователей с числом заказов больше 4 — usersWithManyOrders и пользователей, совершивших заказы дороже 20 000 — usersWithExpensiveOrders. Объединим их в таблице abnormalUsers.\n",
    "\n",
    "Узнаем, сколько всего аномальных пользователей атрибутом shape."
   ]
  },
  {
   "cell_type": "code",
   "execution_count": 34,
   "id": "833d1683",
   "metadata": {},
   "outputs": [
    {
     "name": "stdout",
     "output_type": "stream",
     "text": [
      "286     699218989329350656\n",
      "8      1072811847256720512\n",
      "7      1225733206606480128\n",
      "248    1899214245961511936\n",
      "15     2181679483747416832\n",
      "Name: userId, dtype: uint64\n",
      "14\n"
     ]
    }
   ],
   "source": [
    "usersWithManyOrders = pd.concat(\n",
    "    [\n",
    "        ordersByUsersA[ordersByUsersA['orders'] > 4]['userId'],\n",
    "        ordersByUsersB[ordersByUsersB['orders'] > 4]['userId'],\n",
    "    ],\n",
    "    axis=0,\n",
    ")\n",
    "\n",
    "usersWithExpensiveOrders = orders[orders['revenue'] > 20000]['userId']\n",
    "\n",
    "abnormalUsers = (\n",
    "    pd.concat([usersWithManyOrders, usersWithExpensiveOrders], axis=0)\n",
    "    .drop_duplicates()\n",
    "    .sort_values()\n",
    ")\n",
    "\n",
    "print(abnormalUsers.head(5))\n",
    "print(abnormalUsers.shape[0])"
   ]
  },
  {
   "cell_type": "markdown",
   "id": "d2786071",
   "metadata": {},
   "source": [
    "Итого 14 аномально щедрых пользователей."
   ]
  },
  {
   "cell_type": "markdown",
   "id": "f0ded03e",
   "metadata": {},
   "source": [
    "### Статистическая значимость различий между группами теста\n",
    "\n",
    "#### Различие в количестве заказов"
   ]
  },
  {
   "cell_type": "code",
   "execution_count": 35,
   "id": "e9de9f53",
   "metadata": {},
   "outputs": [
    {
     "name": "stdout",
     "output_type": "stream",
     "text": [
      "0.892\n",
      "-0.105\n"
     ]
    }
   ],
   "source": [
    "sampleAFiltered = pd.concat(\n",
    "    [\n",
    "        ordersByUsersA[  # выбрали только тех, кого нет в фрейме аномальных пользователей\n",
    "            np.logical_not(ordersByUsersA['userId'].isin(abnormalUsers))\n",
    "        ][\n",
    "            'orders'\n",
    "        ],  # у них взяли только количества заказов\n",
    "        pd.Series(\n",
    "            0,\n",
    "            index=np.arange(  # считаем, что все визиты - это однократные посетители, которые никогда не возвращались\n",
    "                # а все купившие - на одну покупку тратят один визит\n",
    "                data['visitorsPerDateA'].sum()\n",
    "                - len(ordersByUsersA['orders'])\n",
    "            ),\n",
    "            name='orders',\n",
    "        ),\n",
    "    ],\n",
    "    axis=0,\n",
    ")\n",
    "\n",
    "sampleBFiltered = pd.concat(\n",
    "    [\n",
    "        ordersByUsersB[\n",
    "            np.logical_not(ordersByUsersB['userId'].isin(abnormalUsers))\n",
    "        ]['orders'],\n",
    "        pd.Series(\n",
    "            0,\n",
    "            index=np.arange(\n",
    "                data['visitorsPerDateB'].sum() - len(ordersByUsersB['orders'])\n",
    "            ),\n",
    "            name='orders',\n",
    "        ),\n",
    "    ],\n",
    "    axis=0,\n",
    ")\n",
    "\n",
    "print(\n",
    "    '{0:.3f}'.format(stats.mannwhitneyu(sampleAFiltered, sampleBFiltered)[1])\n",
    ")\n",
    "print('{0:.3f}'.format(sampleBFiltered.mean() / sampleAFiltered.mean() - 1))"
   ]
  },
  {
   "cell_type": "code",
   "execution_count": 36,
   "id": "1226ddd3",
   "metadata": {},
   "outputs": [
    {
     "name": "stdout",
     "output_type": "stream",
     "text": [
      "0.767\n",
      "-0.062\n"
     ]
    }
   ],
   "source": [
    "print(\n",
    "    '{0:.3f}'.format(\n",
    "        stats.mannwhitneyu(\n",
    "            orders[\n",
    "                np.logical_and(\n",
    "                    orders['group'] == 'A',\n",
    "                    np.logical_not(orders['userId'].isin(abnormalUsers)),\n",
    "                )\n",
    "            ]['revenue'],\n",
    "            orders[\n",
    "                np.logical_and(\n",
    "                    orders['group'] == 'B',\n",
    "                    np.logical_not(orders['userId'].isin(abnormalUsers)),\n",
    "                )\n",
    "            ]['revenue'],\n",
    "        )[1]\n",
    "    )\n",
    ")\n",
    "\n",
    "print(\n",
    "    \"{0:.3f}\".format(\n",
    "        orders[\n",
    "            np.logical_and(\n",
    "                orders['group'] == 'B',\n",
    "                np.logical_not(orders['userId'].isin(abnormalUsers)),\n",
    "            )\n",
    "        ]['revenue'].mean()\n",
    "        / orders[\n",
    "            np.logical_and(\n",
    "                orders['group'] == 'A',\n",
    "                np.logical_not(orders['userId'].isin(abnormalUsers)),\n",
    "            )\n",
    "        ]['revenue'].mean()\n",
    "        - 1\n",
    "    )\n",
    ")"
   ]
  },
  {
   "cell_type": "markdown",
   "id": "6be9cf80",
   "metadata": {},
   "source": [
    "Хотя общие выводы по результатам теста не изменились, такой пример хорошо показывает, как сильно аномалии могут влиять на результаты A/B-теста!\n",
    "\n",
    "Какие выводы по тесту можем сделать?\n",
    "Имеющиеся факты:\n",
    "- Нет статистически значимого различия по среднему количеству заказов между группами ни по «сырым», ни по данным после фильтрации аномалий;\n",
    "- Нет статистически значимого различия по среднему чеку между группами ни по «сырым», ни по данным после фильтрации аномалий;\n",
    "- График различия конверсии между группами сообщает, что результаты группы B хуже группы A и нет значительной тенденции к улучшению:\n",
    "- График различия среднего чека говорит о том, что результаты группы B ухудшаются день ото дня и сейчас почти на 20% хуже:\n",
    "\n",
    "Исходя из обнаруженных фактов, тест следует остановить и признать его неуспешным. Продолжать смысла нет, потому как вероятность, что при имеющихся данных сегмент B на самом деле лучше сегмента A — практически нулевая."
   ]
  },
  {
   "cell_type": "markdown",
   "id": "798ec8c8",
   "metadata": {},
   "source": [
    "## Основные ошибки при анализе\n",
    "\n",
    "- неправильное деление трафика теста:\n",
    "  - не равные доли (по количеству);\n",
    "  - не равномерные доли (по распределению в во времени, по другим признакам - устройству, локации, и прочему);\n",
    "  - проверяй А/А тестом;\n",
    "- решение опирается только на относительное изменение целевой метрики\n",
    "  - а должна учитываться ещё и \"статистическая значимость\" - вероятность того, что разница не случайна;\n",
    "- подглядывание в результаты\n",
    "  - когда просят дать решение срочно, до окончания теста - не поддавайтесь, объясняйте что это обманет всех;\n",
    "- мало объектов в выборке (типа 10-20 пользователей);\n",
    "- малая длительность теста (типа нескольких дней, часов, минут);\n",
    "- долгая длительность теста:\n",
    "  - объяви результаты тогда, когда накапливающиеся величины стабилизировались (изменяются менее чем на X за Y дней - это скользящая величина!);\n",
    "- не проанализированы распределения, не убраны аномалии;\n",
    "- пренебрежение поправками при множественном попарном сравнении:\n",
    "  - применяй поправки!"
   ]
  }
 ],
 "metadata": {
  "kernelspec": {
   "display_name": "Python 3 (ipykernel)",
   "language": "python",
   "name": "python3"
  },
  "language_info": {
   "codemirror_mode": {
    "name": "ipython",
    "version": 3
   },
   "file_extension": ".py",
   "mimetype": "text/x-python",
   "name": "python",
   "nbconvert_exporter": "python",
   "pygments_lexer": "ipython3",
   "version": "3.10.7"
  },
  "toc": {
   "base_numbering": 1,
   "nav_menu": {},
   "number_sections": true,
   "sideBar": true,
   "skip_h1_title": true,
   "title_cell": "Содержание",
   "title_sidebar": "Содержание",
   "toc_cell": true,
   "toc_position": {
    "height": "calc(100% - 180px)",
    "left": "10px",
    "top": "150px",
    "width": "165px"
   },
   "toc_section_display": true,
   "toc_window_display": false
  }
 },
 "nbformat": 4,
 "nbformat_minor": 5
}
