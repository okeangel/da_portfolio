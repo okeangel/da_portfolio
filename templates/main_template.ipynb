{
 "cells": [
  {
   "cell_type": "markdown",
   "id": "fd490bb0",
   "metadata": {},
   "source": [
    "### Рекомендации\n",
    "\n",
    "**Описание**\n",
    "\n",
    "- пишем от лица \"мы\", употребляем подходящие времена\n",
    "- Пиши краткие промежуточные выводы.\n",
    "- Сделай общий вывод по итогам проекта в отдельном разделе.\n",
    "- Сохрани идеи и код, который помогает принимать промежуточные решения.\n",
    "- удали неработающий код\n",
    "- комментарии ставь перед кодом\n",
    "- вынеси комментарии в маркдаун\n",
    "- подробно описывай процесс, что и почему ты делаешь\n",
    "- за каждым пояснением - ячейка с кодом. Одна ячейка - один шаг\n",
    "- перед отправкой - перезапусти вессь проект, убедись, что все ячейки сработали верно\n",
    "\n",
    "**Вывод данных**\n",
    "- Каждому объекту данных (фрейм, график) - дай название, подпись, подпиши столбцы и оси.\n",
    "- Таблицы давай выборками, .head() и .tail()\n",
    "- таблицы выводи по display()  # from IPython.display import display\n",
    "\n",
    "**Итоги**\n",
    "- краткий обзор проведённой работы: что выполнили, рассчитали:\n",
    "- главные выводы: ответы на поставленные вопросы\n",
    "- рекомендации: как избежать неправильных данных, как отобрать признаки для прогнозирования в будущем"
   ]
  },
  {
   "cell_type": "markdown",
   "id": "fa5fce91",
   "metadata": {},
   "source": [
    "# Название проекта"
   ]
  },
  {
   "cell_type": "markdown",
   "id": "d1db17f5",
   "metadata": {},
   "source": [
    "Учебный проект по специальности \"аналитик данных\", N-я неделя обучения.\n",
    "Тема: {название актуаального спринта}.\n",
    "\n",
    "Автор: Александр Лагутин.\n",
    "\n",
    "Начат: 1 мая 2022 г в 17:30.\n",
    "Завершён: 1 июня 2022 г в 10:45.\n",
    "\n",
    "Время подготовки: 12 рабочих часов (2 рабочих дня)."
   ]
  },
  {
   "cell_type": "markdown",
   "id": "9f82b4b6",
   "metadata": {
    "toc": true
   },
   "source": [
    "<h1>Содержание<span class=\"tocSkip\"></span></h1>\n",
    "<div class=\"toc\"><ul class=\"toc-item\"><li><ul class=\"toc-item\"><li><span><a href=\"#Рекомендации\" data-toc-modified-id=\"Рекомендации-0.1\"><span class=\"toc-item-num\">0.1&nbsp;&nbsp;</span>Рекомендации</a></span></li></ul></li><li><span><a href=\"#Описание-проекта\" data-toc-modified-id=\"Описание-проекта-1\"><span class=\"toc-item-num\">1&nbsp;&nbsp;</span>Описание проекта</a></span><ul class=\"toc-item\"><li><span><a href=\"#Заказчик\" data-toc-modified-id=\"Заказчик-1.1\"><span class=\"toc-item-num\">1.1&nbsp;&nbsp;</span>Заказчик</a></span></li><li><span><a href=\"#Задача\" data-toc-modified-id=\"Задача-1.2\"><span class=\"toc-item-num\">1.2&nbsp;&nbsp;</span>Задача</a></span></li><li><span><a href=\"#Входные-данные\" data-toc-modified-id=\"Входные-данные-1.3\"><span class=\"toc-item-num\">1.3&nbsp;&nbsp;</span>Входные данные</a></span><ul class=\"toc-item\"><li><span><a href=\"#Тарифы\" data-toc-modified-id=\"Тарифы-1.3.1\"><span class=\"toc-item-num\">1.3.1&nbsp;&nbsp;</span>Тарифы</a></span><ul class=\"toc-item\"><li><span><a href=\"#Общие-правила\" data-toc-modified-id=\"Общие-правила-1.3.1.1\"><span class=\"toc-item-num\">1.3.1.1&nbsp;&nbsp;</span>Общие правила</a></span></li><li><span><a href=\"#Тариф-«Смарт»\" data-toc-modified-id=\"Тариф-«Смарт»-1.3.1.2\"><span class=\"toc-item-num\">1.3.1.2&nbsp;&nbsp;</span>Тариф «Смарт»</a></span></li><li><span><a href=\"#Тариф-«Ультра»\" data-toc-modified-id=\"Тариф-«Ультра»-1.3.1.3\"><span class=\"toc-item-num\">1.3.1.3&nbsp;&nbsp;</span>Тариф «Ультра»</a></span></li></ul></li><li><span><a href=\"#Описание-выборки\" data-toc-modified-id=\"Описание-выборки-1.3.2\"><span class=\"toc-item-num\">1.3.2&nbsp;&nbsp;</span>Описание выборки</a></span><ul class=\"toc-item\"><li><span><a href=\"#Таблица-tariffs-(информация-о-тарифах):\" data-toc-modified-id=\"Таблица-tariffs-(информация-о-тарифах):-1.3.2.1\"><span class=\"toc-item-num\">1.3.2.1&nbsp;&nbsp;</span>Таблица tariffs (информация о тарифах):</a></span></li><li><span><a href=\"#Таблица-users-(информация-о-пользователях):\" data-toc-modified-id=\"Таблица-users-(информация-о-пользователях):-1.3.2.2\"><span class=\"toc-item-num\">1.3.2.2&nbsp;&nbsp;</span>Таблица users (информация о пользователях):</a></span></li><li><span><a href=\"#Таблица-calls-(информация-о-звонках):\" data-toc-modified-id=\"Таблица-calls-(информация-о-звонках):-1.3.2.3\"><span class=\"toc-item-num\">1.3.2.3&nbsp;&nbsp;</span>Таблица calls (информация о звонках):</a></span></li><li><span><a href=\"#Таблица-messages-(информация-о-сообщениях):\" data-toc-modified-id=\"Таблица-messages-(информация-о-сообщениях):-1.3.2.4\"><span class=\"toc-item-num\">1.3.2.4&nbsp;&nbsp;</span>Таблица messages (информация о сообщениях):</a></span></li><li><span><a href=\"#Таблица-internet-(информация-об-интернет-сессиях):\" data-toc-modified-id=\"Таблица-internet-(информация-об-интернет-сессиях):-1.3.2.5\"><span class=\"toc-item-num\">1.3.2.5&nbsp;&nbsp;</span>Таблица internet (информация об интернет-сессиях):</a></span></li></ul></li></ul></li><li><span><a href=\"#План-работы\" data-toc-modified-id=\"План-работы-1.4\"><span class=\"toc-item-num\">1.4&nbsp;&nbsp;</span>План работы</a></span></li><li><span><a href=\"#Инструменты\" data-toc-modified-id=\"Инструменты-1.5\"><span class=\"toc-item-num\">1.5&nbsp;&nbsp;</span>Инструменты</a></span><ul class=\"toc-item\"><li><span><a href=\"#Импорт-библиотек\" data-toc-modified-id=\"Импорт-библиотек-1.5.1\"><span class=\"toc-item-num\">1.5.1&nbsp;&nbsp;</span>Импорт библиотек</a></span></li><li><span><a href=\"#Определения-функций\" data-toc-modified-id=\"Определения-функций-1.5.2\"><span class=\"toc-item-num\">1.5.2&nbsp;&nbsp;</span>Определения функций</a></span></li></ul></li></ul></li><li><span><a href=\"#Обзор-и-исправление-данных\" data-toc-modified-id=\"Обзор-и-исправление-данных-2\"><span class=\"toc-item-num\">2&nbsp;&nbsp;</span>Обзор и исправление данных</a></span><ul class=\"toc-item\"><li><span><a href=\"#Итоги-обзора-и-исправления-данных\" data-toc-modified-id=\"Итоги-обзора-и-исправления-данных-2.1\"><span class=\"toc-item-num\">2.1&nbsp;&nbsp;</span>Итоги обзора и исправления данных</a></span></li></ul></li><li><span><a href=\"#Расходы-каждого-пользователя-в-месяц\" data-toc-modified-id=\"Расходы-каждого-пользователя-в-месяц-3\"><span class=\"toc-item-num\">3&nbsp;&nbsp;</span>Расходы каждого пользователя в месяц</a></span><ul class=\"toc-item\"><li><span><a href=\"#Итоги-подготовки-информации-о-расходах:\" data-toc-modified-id=\"Итоги-подготовки-информации-о-расходах:-3.1\"><span class=\"toc-item-num\">3.1&nbsp;&nbsp;</span>Итоги подготовки информации о расходах:</a></span></li></ul></li><li><span><a href=\"#Анализ-расходов\" data-toc-modified-id=\"Анализ-расходов-4\"><span class=\"toc-item-num\">4&nbsp;&nbsp;</span>Анализ расходов</a></span><ul class=\"toc-item\"><li><span><a href=\"#Итоги-анализа-расходов\" data-toc-modified-id=\"Итоги-анализа-расходов-4.1\"><span class=\"toc-item-num\">4.1&nbsp;&nbsp;</span>Итоги анализа расходов</a></span></li></ul></li><li><span><a href=\"#Гипотезы-и-проверки\" data-toc-modified-id=\"Гипотезы-и-проверки-5\"><span class=\"toc-item-num\">5&nbsp;&nbsp;</span>Гипотезы и проверки</a></span><ul class=\"toc-item\"><li><span><a href=\"#Итоги-проверки-гипотез\" data-toc-modified-id=\"Итоги-проверки-гипотез-5.1\"><span class=\"toc-item-num\">5.1&nbsp;&nbsp;</span>Итоги проверки гипотез</a></span></li></ul></li><li><span><a href=\"#Общие-итоги\" data-toc-modified-id=\"Общие-итоги-6\"><span class=\"toc-item-num\">6&nbsp;&nbsp;</span>Общие итоги</a></span></li></ul></div>"
   ]
  },
  {
   "cell_type": "markdown",
   "id": "ed66ea3b",
   "metadata": {},
   "source": [
    "## Описание проекта\n",
    "\n",
    "### Заказчик\n",
    "Федеральный оператор сотовой связи \"Мегалайн\", коммерческий департамент.\n",
    "\n",
    "### Задача\n",
    "\n",
    "Определить, какой из тарифов приносит \"больше денег\". На основе анализа будет \"скорректирован\" рекламный бюджет. \n",
    "\n",
    "### Входные данные\n",
    "\n",
    "- Описания тарифов.\n",
    "- Выборка информации о тарифицируемых действиях 500 клиентов \"Мегалайн\" за 2018 год.\n",
    "\n",
    "#### Тарифы\n",
    "\n",
    "##### Общие правила\n",
    "\n",
    "- Каждый звонок округляется отдельно.\n",
    "- Для интернет-трафика отдельные сессии не считаются.\n",
    "- Секунды округляются \"вверх\" до минут, мегабайты — \"вверх\" до гигабайт.\n",
    "- Согласно заданию, считаем, что неиспользованные за месяц услуги не переносятся.\n",
    "\n",
    "##### Тариф «Смарт»\n",
    "\n",
    "- Ежемесячная плата: 550 рублей.\n",
    "- Включено: 500 минут разговора, 50 сообщений и 15 Гб интернет-трафика.\n",
    "- Стоимость услуг сверх тарифного пакета:\n",
    "  - минута разговора: 3 рубля;\n",
    "  - сообщение: 3 рубля;\n",
    "  - 1 Гб интернет-трафика: 200 рублей.\n",
    "\n",
    "##### Тариф «Ультра»\n",
    "\n",
    "- Ежемесячная плата: 1950 рублей.\n",
    "- Включено 3000 минут разговора, 1000 сообщений и 30 Гб интернет-трафика.\n",
    "- Стоимость услуг сверх тарифного пакета:\n",
    "  - минута разговора: 1 рубль;\n",
    "  - сообщение: 1 рубль;\n",
    "  - 1 Гб интернет-трафика: 150 рублей.\n",
    "\n",
    "#### Описание выборки\n",
    "\n",
    "##### Таблица tariffs (информация о тарифах):\n",
    "\n",
    "- tariff_name — название тарифа\n",
    "- rub_monthly_fee — ежемесячная абонентская плата в рублях\n",
    "- minutes_included — количество минут разговора в месяц, включённых в абонентскую плату\n",
    "- messages_included — количество сообщений в месяц, включённых в абонентскую плату\n",
    "- mb_per_month_included — объём интернет-трафика, включённого в абонентскую плату (в мегабайтах)\n",
    "- rub_per_minute — стоимость минуты разговора сверх тарифного пакета (например, если в тарифе 100 минут разговора в месяц, то со 101 минуты будет взиматься плата)\n",
    "- rub_per_message — стоимость отправки сообщения сверх тарифного пакета\n",
    "- rub_per_gb — стоимость дополнительного гигабайта интернет-трафика сверх тарифного пакета (1 гигабайт = 1024 мегабайта)\n",
    "\n",
    "##### Таблица users (информация о пользователях):\n",
    "\n",
    "- user_id — уникальный идентификатор пользователя\n",
    "- first_name — имя пользователя\n",
    "- last_name — фамилия пользователя\n",
    "- age — возраст пользователя (годы)\n",
    "- reg_date — дата подключения тарифа (день, месяц, год)\n",
    "- churn_date — дата прекращения пользования тарифом (если значение пропущено, то тариф ещё действовал на момент выгрузки данных)\n",
    "- city — город проживания пользователя\n",
    "- tariff — название тарифного плана\n",
    "\n",
    "##### Таблица calls (информация о звонках):\n",
    "\n",
    "- id — уникальный номер звонка\n",
    "- call_date — дата звонка\n",
    "- duration — длительность звонка в минутах (звонок с продолжительностью 0 - это звонок без ответа)\n",
    "- user_id — идентификатор пользователя, сделавшего звонок\n",
    "\n",
    "##### Таблица messages (информация о сообщениях):\n",
    "\n",
    "- id — уникальный номер сообщения\n",
    "- message_date — дата сообщения\n",
    "- user_id — идентификатор пользователя, отправившего сообщение\n",
    "\n",
    "##### Таблица internet (информация об интернет-сессиях):\n",
    "\n",
    "- id — уникальный номер сессии\n",
    "- mb_used — объём потраченного за сессию интернет-трафика (в мегабайтах)\n",
    "- session_date — дата интернет-сессии\n",
    "- user_id — идентификатор пользователя\n",
    "\n",
    "### План работы\n",
    "\n",
    "- Ознакомиться с данными.и подготовить их:\n",
    "  - Привести данные к нужным типам;\n",
    "  - Найти и исправить ошибки в данных;\n",
    "  - Описать, какие ошибки нашли и как их исправили.\n",
    "- Дополнить данные. Для каждого пользователя:\n",
    "  - количество сделанных звонков и израсходованных минут разговора по месяцам;\n",
    "  - количество отправленных сообщений по месяцам;\n",
    "  - объем израсходованного интернет-трафика по месяцам;\n",
    "  - выручку по месяцам с каждого пользователя:\n",
    "    - вычесть бесплатный лимит из суммарного количества звонков, сообщений и интернет-трафика;\n",
    "    - остаток умножить на значение из тарифного плана;\n",
    "    - прибавьте абонентскую плату, соответствующую тарифному плану.\n",
    "- Анализировать данные, описать поведение клиентов оператора, исходя из выборки: сколько услуг требуется пользователям каждого тарифа в месяц?\n",
    "  - Среднее количество, дисперсию и стандартное отклонение по количеству и продолжительности звонков, количеству сообщений и объёму трафика.\n",
    "  - Построить гистограммы.\n",
    "  - Описать распределения.\n",
    "- Проверить гипотезы\n",
    "  - средняя выручка пользователей тарифов «Ультра» и «Смарт» различаются;\n",
    "  - средняя выручка пользователей из Москвы отличается от выручки пользователей из других регионов.\n",
    "  - Описать:\n",
    "    - как формулировались нулевая и альтернативная гипотезы;\n",
    "    - какой критерий использован для проверки гипотез и почему.\n",
    "- Общий вывод\n",
    "\n",
    "### Инструменты\n",
    "\n",
    "Используем [Anaconda](https://www.anaconda.com/), окружение `ds_da_practicum_env.yml` \"для Mac OS\" (от 2022-03-23).\n",
    "\n",
    "#### Импорт библиотек"
   ]
  },
  {
   "cell_type": "code",
   "execution_count": 1,
   "id": "2ccbcade",
   "metadata": {},
   "outputs": [],
   "source": [
    "import pandas as pd\n",
    "import numpy as np\n",
    "import scipy.stats as st\n",
    "import matplotlib.pyplot as plt"
   ]
  },
  {
   "cell_type": "code",
   "execution_count": null,
   "id": "97cfb269",
   "metadata": {},
   "outputs": [],
   "source": [
    "#### Определения констант"
   ]
  },
  {
   "cell_type": "code",
   "execution_count": 2,
   "id": "6af52aa5",
   "metadata": {},
   "outputs": [],
   "source": [
    "FIGSIZE = (12, 6)"
   ]
  },
  {
   "cell_type": "markdown",
   "id": "0fee0bc1",
   "metadata": {},
   "source": [
    "#### Определения функций"
   ]
  },
  {
   "cell_type": "code",
   "execution_count": 3,
   "id": "10dded98",
   "metadata": {},
   "outputs": [],
   "source": [
    "def load(tablename):\n",
    "    filename = tablename + '.csv'\n",
    "    try:\n",
    "        return pd.read_csv('/datasets/' + filename)\n",
    "    except FileNotFoundError:\n",
    "        return pd.read_csv(filename)"
   ]
  },
  {
   "cell_type": "code",
   "execution_count": 4,
   "id": "9f996523",
   "metadata": {},
   "outputs": [],
   "source": [
    "def survey(data):\n",
    "    display(data)\n",
    "    print(f'Полностью совпадающих строк: {data.duplicated().sum()}\\n')\n",
    "    data.info()"
   ]
  },
  {
   "cell_type": "code",
   "execution_count": 5,
   "id": "dc914653",
   "metadata": {},
   "outputs": [],
   "source": [
    "def get_nans(data):\n",
    "    nans = []\n",
    "    for column in data.columns:\n",
    "        missing = data[column].isna().sum()\n",
    "        part = missing / len(data)\n",
    "        uniques = data[column].sort_values().unique()\n",
    "        nans.append([column, part, len(uniques)])\n",
    "\n",
    "    return pd.DataFrame(\n",
    "        data=nans, columns=['column', 'na_part', 'unique_count']\n",
    "    ).sort_values(['na_part', 'unique_count'], ascending=False).set_index('column')"
   ]
  },
  {
   "cell_type": "code",
   "execution_count": 6,
   "id": "5bbeeae0",
   "metadata": {},
   "outputs": [],
   "source": [
    "def print_filled_rows_share(df):\n",
    "    share = 1 - df.isna().any(axis=1).sum() / len(df)\n",
    "    print(f'Заполненных строк без пропусков: {share:.02%}')"
   ]
  },
  {
   "cell_type": "code",
   "execution_count": 7,
   "id": "306077ff",
   "metadata": {},
   "outputs": [],
   "source": [
    "def headline(line, width=50):\n",
    "    \"\"\"Возвращает заголовок, набранный \"простым текстом\".\n",
    "    \"\"\"\n",
    "    return f'\\n{line.upper():=^{width}}'"
   ]
  },
  {
   "cell_type": "code",
   "execution_count": 8,
   "id": "7fc90675",
   "metadata": {},
   "outputs": [],
   "source": [
    "# можно было бы рисовать `bar` в случаях, когда вариантов мало.\n",
    "# однако по неясной причине `bar` не рисуется, и не вызывает ошибки,\n",
    "# а вызывает лишь зацикливание при построении первого же графика\n",
    "\n",
    "def survey_columns(df):\n",
    "    for column in nans_before.index:\n",
    "        print(headline(column))\n",
    "\n",
    "        uniques = realty[column].sort_values().unique()\n",
    "        if len(uniques) < 20:\n",
    "            print(uniques)\n",
    "        print(f'Data type: {str(realty[column].dtype):>10}')\n",
    "        print(f'Unique values: {len(uniques):6}')\n",
    "\n",
    "        missing = realty[column].isna().sum()\n",
    "        if missing:\n",
    "            print(f'Not avaliable: {nans_before.loc[column, \"na_part\"]:.02%}')\n",
    "        else:\n",
    "            print('All values is avaliable.')\n",
    "\n",
    "        try:\n",
    "            realty.plot(\n",
    "                kind='hist',\n",
    "                y=column,\n",
    "               bins=50,\n",
    "            )\n",
    "            plt.show()\n",
    "        except Exception as e:\n",
    "            print(str(e).capitalize())"
   ]
  },
  {
   "cell_type": "code",
   "execution_count": 9,
   "id": "11c665d2",
   "metadata": {},
   "outputs": [],
   "source": [
    "def fillnaby(data, column, groupby, func='median'):\n",
    "    data[column] = data[column].fillna(\n",
    "        data.groupby(groupby)[column].transform(func))"
   ]
  },
  {
   "cell_type": "code",
   "execution_count": 10,
   "id": "102ff4a9",
   "metadata": {},
   "outputs": [],
   "source": [
    "# формирует и выводит график, подстроенный под наши нужды\n",
    "def histf(data, column, show=True, bins=100, qtl=1, start=None,\n",
    "          stop=None, figsize=FIGSIZE, **kwargs):\n",
    "    fixed = {\n",
    "        'y': column,\n",
    "        'kind': 'hist',\n",
    "        'bins': min(bins, len(data[column].unique())),\n",
    "        'figsize': figsize,\n",
    "        'title': column,\n",
    "        'legend': False,\n",
    "        'ec': 'black',\n",
    "    }\n",
    "    if 'range' not in kwargs.keys():\n",
    "        if not start:\n",
    "            start = data[column].min()\n",
    "        if not stop:\n",
    "            stop = data[column].quantile(qtl)\n",
    "        kwargs['range'] = (start, stop)\n",
    "    data.plot(**fixed, **kwargs)\n",
    "    if show:\n",
    "        plt.show()\n",
    "\n",
    "def histf2(data, column1, column2, **kwargs):\n",
    "    histf(column1, data=data, show=False, **kwargs)\n",
    "    histf(column2, data=data, show=False, **kwargs)\n",
    "    plt.show()\n",
    "\n",
    "# два графика: все случаи, и те, что менее указанного квантиля\n",
    "def dhistf(column, data, qtl=0.975, figsize=FIGSIZE, **kwargs):\n",
    "    fig, (ax1, ax2) = plt.subplots(1, 2, figsize=figsize)\n",
    "    fig.suptitle('This is a somewhat long figure title', fontsize=16)\n",
    "    \n",
    "    ax1.set_title('full_data')\n",
    "    ax2.set_title(f'{qtl:.2%} quantile')\n",
    "    histf(column, data=data, ax=ax1, subplots=True, show=False, **kwargs)\n",
    "    histf(column, data=data, ax=ax2, subplots=True, show=False, qtl=qtl, **kwargs)\n",
    "    plt.show()\n",
    "# Развитая форма этого чудовища должна принимать список квантилей,\n",
    "# и строить столько графиков, сколько квантилей указано,\n",
    "# и качестве центра диапазона выбирать медиану.\n",
    "# Пора перейти к аналитике."
   ]
  },
  {
   "cell_type": "code",
   "execution_count": 11,
   "id": "340d35e5",
   "metadata": {},
   "outputs": [],
   "source": [
    "def typical(data, column, ratio=1.5):\n",
    "    q1 = data[column].quantile(0.25)\n",
    "    q3 = data[column].quantile(0.75)\n",
    "    iqr = q3 - q1\n",
    "    whiskers = iqr * ratio\n",
    "    low = q1 - whiskers\n",
    "    high = q3 + whiskers\n",
    "    \n",
    "    print(f'{column.title()}: min = {data[column].min()}, max = {data[column].max()}, normal range = [{low:.2f} ... {high:.2f}]')\n",
    "    return data.query(f'@low <= {column} <= @high')"
   ]
  },
  {
   "cell_type": "code",
   "execution_count": 12,
   "id": "9a9c6d32",
   "metadata": {},
   "outputs": [],
   "source": [
    "quantitative_properties = [\n",
    "    'last_price_mln', 'total_area', 'living_area_share', 'kitchen_area_share',\n",
    "    'ceiling_height', 'city_centers_nearest', 'airports_nearest',\n",
    "]\n",
    "\n",
    "categorical_properties = [\n",
    "    'rooms', 'balcony', 'floor_category',\n",
    "    'is_apartment', 'is_studio', 'has_open_plan',\n",
    "    'parks_around3000', 'ponds_around3000',\n",
    "    'weekday', 'month', 'year',\n",
    "]\n",
    "\n",
    "def batch_corr(data, column='last_price_mln'):\n",
    "    print(headline('Коэффициенты линейной корреляции'))\n",
    "    display(\n",
    "            data\n",
    "            .reindex(columns=(quantitative_properties + categorical_properties))\n",
    "            .corr()\n",
    "            [column].sort_values(ascending=False)\n",
    "    )\n",
    "\n",
    "def batch_scatter(data, column='last_price_mln'):\n",
    "    for prop in quantitative_properties:\n",
    "        if prop == column:\n",
    "            continue\n",
    "        data.plot(\n",
    "            kind='scatter', alpha=0.2, figsize=FIGSIZE,\n",
    "            y=column,\n",
    "            x=prop,\n",
    "        )\n",
    "    plt.show()\n",
    "\n",
    "def batch_box(data, column='last_price_mln', by_props=categorical_properties):\n",
    "    for prop in by_props:\n",
    "        data.boxplot(\n",
    "            column=column,\n",
    "            by=prop,\n",
    "            figsize=FIGSIZE,\n",
    "        )\n",
    "    plt.show()"
   ]
  },
  {
   "cell_type": "markdown",
   "id": "21b0ee10",
   "metadata": {},
   "source": [
    "## Обзор и исправление данных"
   ]
  },
  {
   "cell_type": "markdown",
   "id": "cf122439",
   "metadata": {},
   "source": [
    "### Итоги обзора и исправления данных\n",
    "\n",
    "- Первый;\n",
    "- Второй;\n",
    "- Третий."
   ]
  },
  {
   "cell_type": "markdown",
   "id": "a6c058dc",
   "metadata": {},
   "source": [
    "## Расходы каждого пользователя в месяц"
   ]
  },
  {
   "cell_type": "markdown",
   "id": "52d83e4c",
   "metadata": {},
   "source": [
    "### Итоги подготовки информации о расходах:\n",
    "\n",
    "- Первый;\n",
    "- Второй;\n",
    "- Третий."
   ]
  },
  {
   "cell_type": "markdown",
   "id": "b1548e11",
   "metadata": {},
   "source": [
    "## Анализ расходов"
   ]
  },
  {
   "cell_type": "markdown",
   "id": "a2f3a2ac",
   "metadata": {},
   "source": [
    "### Итоги анализа расходов\n",
    "\n",
    "- Первый;\n",
    "- Второй;\n",
    "- Третий."
   ]
  },
  {
   "cell_type": "markdown",
   "id": "be8b306b",
   "metadata": {},
   "source": [
    "## Гипотезы и проверки"
   ]
  },
  {
   "cell_type": "markdown",
   "id": "fa499034",
   "metadata": {},
   "source": [
    "### Итоги проверки гипотез\n",
    "\n",
    "- Первый;\n",
    "- Второй;\n",
    "- Третий."
   ]
  },
  {
   "cell_type": "markdown",
   "id": "d1a9526a",
   "metadata": {},
   "source": [
    "## Общие итоги\n",
    "\n",
    "- Исследовано:\n",
    "  - выборка пяти сотен пользователей из разных регионов, подключившихся в 2018 году;\n",
    "  - полная статистика их потребления звонков, коротких сообщений и интернет-трафика.\n",
    "- **Подтверждённые выводы:**\n",
    "  - Пользователь тарифа **\"Ultra\"** приносит **в среднем на 33% больше выручки**, чем пользователь тарифа \"Smart\".\n",
    "  - **Средняя выручка** с пользователя **в Москве не отличается** от средней выручки с пользователя в других регионах.\n",
    "- Также обнаружено, что:\n",
    "  - Пользователей тарифа \"Smart\" в 4 раза больше;\n",
    "  - Среди тех, кто потребляет много, популярней тариф \"Ultra\";\n",
    "  - В среднем пользователи \"Smart\" потребляют столько, сколько включено в базовый пакет;\n",
    "  - При относительно небольшом увеличении потребления их чек заметно вырастает;\n",
    "  - Если потребление превышает 100 звонков (или 750 минут), или 110 сообщений, или 25 ГБ в месяц - пользователи предпочитают тариф \"Ultra\";\n",
    "  - Пользователи \"Ultra\" потребляют только треть от базового пакета;\n",
    "  - И 85% из них платят только базовый платёж.\n",
    "- Предположения:\n",
    "  - Пользователи \"Smart\":\n",
    "    - сознательно ограничивают своё потребление;\n",
    "    - при повышении потребления переходят на гораздо более содержательный \"Ultra\".\n",
    "  - Пользователи \"Ultra\":\n",
    "    - при повышении потребления вдвое не станут платить вдвое больше."
   ]
  }
 ],
 "metadata": {
  "kernelspec": {
   "display_name": "Python 3 (ipykernel)",
   "language": "python",
   "name": "python3"
  },
  "language_info": {
   "codemirror_mode": {
    "name": "ipython",
    "version": 3
   },
   "file_extension": ".py",
   "mimetype": "text/x-python",
   "name": "python",
   "nbconvert_exporter": "python",
   "pygments_lexer": "ipython3",
   "version": "3.9.12"
  },
  "toc": {
   "base_numbering": 1,
   "nav_menu": {},
   "number_sections": true,
   "sideBar": true,
   "skip_h1_title": true,
   "title_cell": "Содержание",
   "title_sidebar": "Содержание",
   "toc_cell": true,
   "toc_position": {
    "height": "calc(100% - 180px)",
    "left": "10px",
    "top": "150px",
    "width": "258.797px"
   },
   "toc_section_display": true,
   "toc_window_display": true
  }
 },
 "nbformat": 4,
 "nbformat_minor": 5
}
