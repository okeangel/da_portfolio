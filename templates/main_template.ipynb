{
 "cells": [
  {
   "cell_type": "markdown",
   "id": "fa5fce91",
   "metadata": {},
   "source": [
    "# Название проекта"
   ]
  },
  {
   "cell_type": "code",
   "execution_count": null,
   "id": "7cb7f74d",
   "metadata": {},
   "outputs": [],
   "source": []
  },
  {
   "cell_type": "markdown",
   "id": "d1db17f5",
   "metadata": {},
   "source": [
    "Учебный проект по специальности \"аналитик данных\", N-я неделя обучения.\n",
    "Тема: {название актуального спринта}.\n",
    "\n",
    "Автор: Александр Лагутин.\n",
    "\n",
    "Начат: 0 месяца 2022 г в 00:00.\n",
    "Завершён: 0 месяца 2022 г в 00:00.\n",
    "\n",
    "Время подготовки: 0 рабочих часов (0 рабочих дня)."
   ]
  },
  {
   "cell_type": "markdown",
   "id": "9fd3f23d",
   "metadata": {
    "toc": true
   },
   "source": [
    "<h1>Содержание<span class=\"tocSkip\"></span></h1>\n",
    "<div class=\"toc\"><ul class=\"toc-item\"><li><span><a href=\"#Описание-проекта\" data-toc-modified-id=\"Описание-проекта-1\"><span class=\"toc-item-num\">1&nbsp;&nbsp;</span>Описание проекта</a></span><ul class=\"toc-item\"><li><span><a href=\"#Заказчик\" data-toc-modified-id=\"Заказчик-1.1\"><span class=\"toc-item-num\">1.1&nbsp;&nbsp;</span>Заказчик</a></span></li><li><span><a href=\"#Задача\" data-toc-modified-id=\"Задача-1.2\"><span class=\"toc-item-num\">1.2&nbsp;&nbsp;</span>Задача</a></span></li><li><span><a href=\"#Входные-данные\" data-toc-modified-id=\"Входные-данные-1.3\"><span class=\"toc-item-num\">1.3&nbsp;&nbsp;</span>Входные данные</a></span><ul class=\"toc-item\"><li><span><a href=\"#Термины\" data-toc-modified-id=\"Термины-1.3.1\"><span class=\"toc-item-num\">1.3.1&nbsp;&nbsp;</span>Термины</a></span></li><li><span><a href=\"#Описание-данных\" data-toc-modified-id=\"Описание-данных-1.3.2\"><span class=\"toc-item-num\">1.3.2&nbsp;&nbsp;</span>Описание данных</a></span><ul class=\"toc-item\"><li><span><a href=\"#{суть-данных}-(table_name)\" data-toc-modified-id=\"{суть-данных}-(table_name)-1.3.2.1\"><span class=\"toc-item-num\">1.3.2.1&nbsp;&nbsp;</span>{суть данных} (table_name)</a></span></li></ul></li></ul></li><li><span><a href=\"#План-работы\" data-toc-modified-id=\"План-работы-1.4\"><span class=\"toc-item-num\">1.4&nbsp;&nbsp;</span>План работы</a></span></li><li><span><a href=\"#Инструменты\" data-toc-modified-id=\"Инструменты-1.5\"><span class=\"toc-item-num\">1.5&nbsp;&nbsp;</span>Инструменты</a></span><ul class=\"toc-item\"><li><span><a href=\"#Импорт-библиотек\" data-toc-modified-id=\"Импорт-библиотек-1.5.1\"><span class=\"toc-item-num\">1.5.1&nbsp;&nbsp;</span>Импорт библиотек</a></span></li><li><span><a href=\"#Определения-констант\" data-toc-modified-id=\"Определения-констант-1.5.2\"><span class=\"toc-item-num\">1.5.2&nbsp;&nbsp;</span>Определения констант</a></span></li><li><span><a href=\"#Определения-функций\" data-toc-modified-id=\"Определения-функций-1.5.3\"><span class=\"toc-item-num\">1.5.3&nbsp;&nbsp;</span>Определения функций</a></span><ul class=\"toc-item\"><li><span><a href=\"#Загрузка-и-обзор-данных\" data-toc-modified-id=\"Загрузка-и-обзор-данных-1.5.3.1\"><span class=\"toc-item-num\">1.5.3.1&nbsp;&nbsp;</span>Загрузка и обзор данных</a></span></li><li><span><a href=\"#Исправление-данных\" data-toc-modified-id=\"Исправление-данных-1.5.3.2\"><span class=\"toc-item-num\">1.5.3.2&nbsp;&nbsp;</span>Исправление данных</a></span></li><li><span><a href=\"#Отображение-данных\" data-toc-modified-id=\"Отображение-данных-1.5.3.3\"><span class=\"toc-item-num\">1.5.3.3&nbsp;&nbsp;</span>Отображение данных</a></span></li><li><span><a href=\"#A/B-test\" data-toc-modified-id=\"A/B-test-1.5.3.4\"><span class=\"toc-item-num\">1.5.3.4&nbsp;&nbsp;</span>A/B-test</a></span></li></ul></li></ul></li></ul></li><li><span><a href=\"#Обзор-и-исправление-данных\" data-toc-modified-id=\"Обзор-и-исправление-данных-2\"><span class=\"toc-item-num\">2&nbsp;&nbsp;</span>Обзор и исправление данных</a></span><ul class=\"toc-item\"><li><span><a href=\"#Итоги-обзора-и-исправления-данных\" data-toc-modified-id=\"Итоги-обзора-и-исправления-данных-2.1\"><span class=\"toc-item-num\">2.1&nbsp;&nbsp;</span>Итоги обзора и исправления данных</a></span></li></ul></li><li><span><a href=\"#Расходы-каждого-пользователя-в-месяц\" data-toc-modified-id=\"Расходы-каждого-пользователя-в-месяц-3\"><span class=\"toc-item-num\">3&nbsp;&nbsp;</span>Расходы каждого пользователя в месяц</a></span><ul class=\"toc-item\"><li><span><a href=\"#Итоги-подготовки-информации-о-расходах:\" data-toc-modified-id=\"Итоги-подготовки-информации-о-расходах:-3.1\"><span class=\"toc-item-num\">3.1&nbsp;&nbsp;</span>Итоги подготовки информации о расходах:</a></span></li></ul></li><li><span><a href=\"#Анализ-расходов\" data-toc-modified-id=\"Анализ-расходов-4\"><span class=\"toc-item-num\">4&nbsp;&nbsp;</span>Анализ расходов</a></span><ul class=\"toc-item\"><li><span><a href=\"#Итоги-анализа-расходов\" data-toc-modified-id=\"Итоги-анализа-расходов-4.1\"><span class=\"toc-item-num\">4.1&nbsp;&nbsp;</span>Итоги анализа расходов</a></span></li></ul></li><li><span><a href=\"#Гипотезы-и-проверки\" data-toc-modified-id=\"Гипотезы-и-проверки-5\"><span class=\"toc-item-num\">5&nbsp;&nbsp;</span>Гипотезы и проверки</a></span><ul class=\"toc-item\"><li><span><a href=\"#Итоги-проверки-гипотез\" data-toc-modified-id=\"Итоги-проверки-гипотез-5.1\"><span class=\"toc-item-num\">5.1&nbsp;&nbsp;</span>Итоги проверки гипотез</a></span></li></ul></li><li><span><a href=\"#Общие-итоги\" data-toc-modified-id=\"Общие-итоги-6\"><span class=\"toc-item-num\">6&nbsp;&nbsp;</span>Общие итоги</a></span><ul class=\"toc-item\"><li><span><a href=\"#Рекомендации\" data-toc-modified-id=\"Рекомендации-6.1\"><span class=\"toc-item-num\">6.1&nbsp;&nbsp;</span>Рекомендации</a></span></li></ul></li></ul></div>"
   ]
  },
  {
   "cell_type": "markdown",
   "id": "169b2c10",
   "metadata": {},
   "source": [
    "## Описание проекта\n",
    "\n",
    "### Заказчик\n",
    "\n",
    "{описание организации}.\n",
    "\n",
    "Основная деятельность: ...\n",
    "\n",
    "### Задача\n",
    "\n",
    "{описание задачи одной строкой}.\n",
    "\n",
    "Для чего: {описание цели, желаемого результата}."
   ]
  },
  {
   "cell_type": "markdown",
   "id": "ed66ea3b",
   "metadata": {},
   "source": [
    "### Входные данные\n",
    "\n",
    "Данные о пользователях, привлечённых с 1 мая по 27 октября 2019 года:\n",
    "- лог сервера с данными об их посещениях,\n",
    "- выгрузка их покупок за этот период,\n",
    "- расходы на рекламу.\n",
    "\n",
    "#### Термины\n",
    "\n",
    "Специальные термины не упомянуты.\n",
    "\n",
    "#### Описание данных\n",
    "\n",
    "##### {суть данных} (table_name)\n",
    "\n",
    "- `Key_Field` - первое поле;\n",
    "- `Other_Field` - другое поле."
   ]
  },
  {
   "cell_type": "markdown",
   "id": "0fc6ba20",
   "metadata": {},
   "source": [
    "### План работы\n",
    "\n",
    "Найти ответы на вопросы:\n",
    "- ...\n",
    "\n",
    "Действия:\n",
    "- [ ] Импортировать библиотеки, описать функции, которые потребуются для расчёта и диаграмм:\n",
    "  - [ ] (какую именно величину рассчитываем?).\n",
    "- [ ] Загрузить и изучить таблицы.\n",
    "- [ ] Подготовить данные:\n",
    "  - [ ] привести к норме названия столбцов;\n",
    "  - [ ] привести данные к нужным типам;\n",
    "  - [ ] обработать пропуски:\n",
    "    - [ ] выбрать, чем заполнить (или оставить) и почему;\n",
    "    - [ ] осуществить заполение, если требуется;\n",
    "    - [ ] описать причины, которые могли привести к пропускам.\n",
    "- [ ] Анализировать обобщённые данные:\n",
    "  - [ ] Описать выводы.\n",
    "- [ ] Описать общий вывод:\n",
    "  - [ ] что исследовано (указать основные зарактеристики данных);\n",
    "  - [ ] какие ответы на основные вопросы исследования;\n",
    "  - [ ] какие гипотезы подтвердились или не подтвердились, отвергнуты;\n",
    "  - [ ] какие факты обнаружены;\n",
    "  - [ ] какие предположения выдвинуты;\n",
    "  - [ ] какие есть рекомендации:\n",
    "    - [ ] кому,\n",
    "    - [ ] суть рекомендации."
   ]
  },
  {
   "cell_type": "markdown",
   "id": "3d499b1f",
   "metadata": {},
   "source": [
    "### Инструменты\n",
    "\n",
    "Используем [Anaconda](https://www.anaconda.com/), окружение `ds_da_practicum_env.yml` \"для Mac OS\" (от 2022-03-23)."
   ]
  },
  {
   "cell_type": "markdown",
   "id": "74f5bd90",
   "metadata": {},
   "source": [
    "#### Импорт библиотек"
   ]
  },
  {
   "cell_type": "code",
   "execution_count": 1,
   "id": "2ccbcade",
   "metadata": {},
   "outputs": [],
   "source": [
    "%matplotlib inline\n",
    "\n",
    "import datetime\n",
    "import re\n",
    "\n",
    "import pandas as pd\n",
    "import numpy as np\n",
    "import scipy.stats as st\n",
    "import matplotlib.pyplot as plt\n",
    "import seaborn as sns"
   ]
  },
  {
   "cell_type": "markdown",
   "id": "802b7dd4",
   "metadata": {},
   "source": [
    "#### Определения констант"
   ]
  },
  {
   "cell_type": "code",
   "execution_count": 2,
   "id": "6af52aa5",
   "metadata": {},
   "outputs": [],
   "source": [
    "# set size for all charts\n",
    "FIGSIZE = (10, 5)"
   ]
  },
  {
   "cell_type": "markdown",
   "id": "0fee0bc1",
   "metadata": {},
   "source": [
    "#### Определения функций\n",
    "\n",
    "##### Загрузка и обзор данных"
   ]
  },
  {
   "cell_type": "code",
   "execution_count": 3,
   "id": "10dded98",
   "metadata": {},
   "outputs": [],
   "source": [
    "def load(name, ext='csv', sep=','):\n",
    "    \"\"\"Return pandas DataFrame by filename\"\"\"\n",
    "    filename = name + '.' + ext\n",
    "    try:\n",
    "        df = pd.read_csv(filename)\n",
    "    except FileNotFoundError:\n",
    "        df = pd.read_csv('https://code.s3.yandex.net/datasets/' + filename, sep=sep)\n",
    "    correct_column_names(df)\n",
    "    overview(df)\n",
    "    return df"
   ]
  },
  {
   "cell_type": "code",
   "execution_count": 4,
   "id": "9f996523",
   "metadata": {},
   "outputs": [],
   "source": [
    "def overview(data):\n",
    "    \"\"\"Display an overview of the data to detect common data problems\"\"\"\n",
    "    display(data.sample(5))\n",
    "    dupes = data.duplicated().sum()\n",
    "    dupes_rate = dupes / len(data)\n",
    "    print(f'Полностью совпадающих строк: {dupes} ({dupes_rate:.2%})\\n')\n",
    "    data.info()\n",
    "    display(count_nans(data))\n",
    "    print(get_filled_rows_share(data))"
   ]
  },
  {
   "cell_type": "code",
   "execution_count": 5,
   "id": "dc914653",
   "metadata": {},
   "outputs": [],
   "source": [
    "def count_nans(data):\n",
    "    \"\"\"Return a pandas DataFrame with the number of missing values\"\"\"\n",
    "    nans = []\n",
    "    for column in data.columns:\n",
    "        # count the number of missing values\n",
    "        missing = data[column].isna().sum()\n",
    "        # calculate the share of missing values\n",
    "        part = round(missing * 100 / len(data), 2)\n",
    "        # count the number of distinct values\n",
    "        uniques = data[column].sort_values().nunique()\n",
    "        nans.append([column, missing, part, uniques])\n",
    "\n",
    "    return pd.DataFrame(\n",
    "        data=nans, columns=['column', 'na_count', 'na_%', 'unique_count']\n",
    "    ).sort_values(['na_count', 'unique_count'], ascending=False).set_index('column')"
   ]
  },
  {
   "cell_type": "code",
   "execution_count": 6,
   "id": "5bbeeae0",
   "metadata": {},
   "outputs": [],
   "source": [
    "def get_filled_rows_share(df):\n",
    "    \"\"\"Return a string containing number of rows with no missing values\"\"\"\n",
    "    share = 1 - df.isna().any(axis=1).sum() / len(df)\n",
    "    return f'Заполненных строк без пропусков: {share:.02%}'"
   ]
  },
  {
   "cell_type": "markdown",
   "id": "4f718ba7",
   "metadata": {},
   "source": [
    "##### Исправление данных"
   ]
  },
  {
   "cell_type": "code",
   "execution_count": 7,
   "id": "c73aaed1",
   "metadata": {},
   "outputs": [],
   "source": [
    "def correct_column_names(df):\n",
    "    \"\"\"Convert column names to valid snake_case in place\"\"\"\n",
    "    df.columns = df.columns.str.strip()\n",
    "    df.columns = list(map(to_snake_case, df.columns))\n",
    "\n",
    "def to_snake_case(name):\n",
    "    \"\"\"Return name converted to valid snake_case\"\"\"    \n",
    "    name = re.sub('(.)([A-Z][a-z]+)', r'\\1_\\2', name)\n",
    "    name = re.sub('__([A-Z])', r'_\\1', name)\n",
    "    name = re.sub('([a-z0-9])([A-Z])', r'\\1_\\2', name)\n",
    "    return name.lower()"
   ]
  },
  {
   "cell_type": "code",
   "execution_count": 8,
   "id": "306077ff",
   "metadata": {},
   "outputs": [],
   "source": [
    "def fillnaby(df, column, groupby, func='median'):\n",
    "    \"\"\"Fill in missing values with group-aggregated values in-place\"\"\"\n",
    "    df[column] = df[column].fillna(\n",
    "        df.groupby(groupby)[column].transform(func))"
   ]
  },
  {
   "cell_type": "code",
   "execution_count": 9,
   "id": "1122d260",
   "metadata": {},
   "outputs": [],
   "source": [
    "# эта ячейка содержит заготовку для функции\n",
    "# из проектов ячейку надо удалять\n",
    "# TODO: функция, которая будет обнаруживать ячейки\n",
    "# с датами и временем в виде строки, и преобразовывать\n",
    "# эти строки в соответствующий тип\n",
    "# pd.to_datetime(value)\n",
    "\n",
    "date_pattern = (\n",
    "    '^(?:\\\\d{4})-(?:\\\\d{2})-(?:\\\\d{2})'  # date\n",
    "    '[ T](?:\\\\d{2}):(?:\\\\d{2}):(?:\\\\d{2}(?:\\\\.\\\\d*)?)'  # time\n",
    "    '(?:(?:-(?:\\\\d{2}):(?:\\\\d{2})|Z)?)$'  # timezone\n",
    ")\n",
    "\n",
    "# для проверки:\n",
    "# print(re.match(date_pattern, '2021-11-04 11:11:11') is not None)\n",
    "# visits['session_start'] = pd.to_datetime(visits['session_start'])\n",
    "# visits['session_end'] = pd.to_datetime(visits['session_start'])"
   ]
  },
  {
   "cell_type": "markdown",
   "id": "e16b3812",
   "metadata": {},
   "source": [
    "##### Отображение данных"
   ]
  },
  {
   "cell_type": "code",
   "execution_count": 10,
   "id": "732090bd",
   "metadata": {},
   "outputs": [],
   "source": [
    "def headline(line, width=79):\n",
    "    \"\"\"Return the string in plain uppercase text with pseudographics\"\"\"\n",
    "    return f'\\n{line.upper():=^{width}}'"
   ]
  },
  {
   "cell_type": "code",
   "execution_count": 11,
   "id": "7fc90675",
   "metadata": {},
   "outputs": [],
   "source": [
    "# можно было бы рисовать `bar` в случаях, когда вариантов мало.\n",
    "# однако по неясной причине `bar` не рисуется, и не вызывает ошибки,\n",
    "# а вызывает лишь зацикливание при построении первого же графика\n",
    "\n",
    "def survey_columns(df):\n",
    "    for column in nans_before.index:\n",
    "        print(headline(column))\n",
    "\n",
    "        uniques = realty[column].sort_values().unique()\n",
    "        if len(uniques) < 20:\n",
    "            print(uniques)\n",
    "        print(f'Data type: {str(realty[column].dtype):>10}')\n",
    "        print(f'Unique values: {len(uniques):6}')\n",
    "\n",
    "        missing = realty[column].isna().sum()\n",
    "        if missing:\n",
    "            print(f'Not avaliable: {nans_before.loc[column, \"na_part\"]:.02%}')\n",
    "        else:\n",
    "            print('All values is avaliable.')\n",
    "\n",
    "        try:\n",
    "            realty.plot(\n",
    "                kind='hist',\n",
    "                y=column,\n",
    "               bins=50,\n",
    "            )\n",
    "            plt.show()\n",
    "        except Exception as e:\n",
    "            print(str(e).capitalize())"
   ]
  },
  {
   "cell_type": "code",
   "execution_count": 12,
   "id": "102ff4a9",
   "metadata": {},
   "outputs": [],
   "source": [
    "# формирует и выводит график, подстроенный под наши нужды\n",
    "def histf(data, column, show=True, bins=100, qtl=1, start=None,\n",
    "          stop=None, figsize=FIGSIZE, **kwargs):\n",
    "    fixed = {\n",
    "        'y': column,\n",
    "        'kind': 'hist',\n",
    "        'bins': min(bins, len(data[column].unique())),\n",
    "        'figsize': figsize,\n",
    "        'title': column,\n",
    "        'legend': False,\n",
    "        'ec': 'black',\n",
    "    }\n",
    "    if 'range' not in kwargs.keys():\n",
    "        if not start:\n",
    "            start = data[column].min()\n",
    "        if not stop:\n",
    "            stop = data[column].quantile(qtl)\n",
    "        kwargs['range'] = (start, stop)\n",
    "    data.plot(**fixed, **kwargs)\n",
    "    if show:\n",
    "        plt.show()\n",
    "\n",
    "def histf2(data, column1, column2, **kwargs):\n",
    "    histf(column1, data=data, show=False, **kwargs)\n",
    "    histf(column2, data=data, show=False, **kwargs)\n",
    "    plt.show()\n",
    "\n",
    "# два графика: все случаи, и те, что менее указанного квантиля\n",
    "def dhistf(column, data, qtl=0.975, figsize=FIGSIZE, **kwargs):\n",
    "    fig, (ax1, ax2) = plt.subplots(1, 2, figsize=figsize)\n",
    "    fig.suptitle('This is a somewhat long figure title', fontsize=16)\n",
    "    \n",
    "    ax1.set_title('full_data')\n",
    "    ax2.set_title(f'{qtl:.2%} quantile')\n",
    "    histf(column, data=data, ax=ax1, subplots=True, show=False, **kwargs)\n",
    "    histf(column, data=data, ax=ax2, subplots=True, show=False, qtl=qtl, **kwargs)\n",
    "    plt.show()\n",
    "# Развитая форма этого чудовища должна принимать список квантилей,\n",
    "# и строить столько графиков, сколько квантилей указано,\n",
    "# и качестве центра диапазона выбирать медиану.\n",
    "# Пора перейти к аналитике."
   ]
  },
  {
   "cell_type": "code",
   "execution_count": 13,
   "id": "340d35e5",
   "metadata": {},
   "outputs": [],
   "source": [
    "def typical(data, column, ratio=1.5):\n",
    "    q1 = data[column].quantile(0.25)\n",
    "    q3 = data[column].quantile(0.75)\n",
    "    iqr = q3 - q1\n",
    "    whiskers = iqr * ratio\n",
    "    low = q1 - whiskers\n",
    "    high = q3 + whiskers\n",
    "    \n",
    "    print(f'{column.title()}: min = {data[column].min()},'\n",
    "          f' max = {data[column].max()},'\n",
    "          f' normal range = [{low:.2f} ... {high:.2f}]')\n",
    "\n",
    "    return data.query(f'@low <= {column} <= @high')"
   ]
  },
  {
   "cell_type": "code",
   "execution_count": 14,
   "id": "9a9c6d32",
   "metadata": {},
   "outputs": [],
   "source": [
    "def find_cat_and_num_cols(df):\n",
    "    # find categorical and numerical columns\n",
    "    \n",
    "    categorical_columns = [c for c in df.columns if df[c].dtype.name == 'object']\n",
    "    numerical_columns   = [c for c in df.columns if df[c].dtype.name != 'object']\n",
    "    \n",
    "    return categorical_columns, numerical_columns\n",
    "\n",
    "categorical_properties, quantitative_properties = find_cat_and_num_cols(pd.DataFrame(data=[]))\n",
    "\n",
    "key_column = ''\n",
    "\n",
    "def batch_corr(data, column=key_column):\n",
    "    print(headline('Коэффициенты линейной корреляции'))\n",
    "    display(\n",
    "            data\n",
    "            .reindex(columns=(categorical_properties + quantitative_properties))\n",
    "            .corr()\n",
    "            [column].sort_values(ascending=False)\n",
    "    )\n",
    "\n",
    "def batch_scatter(data, column=key_column):\n",
    "    for prop in quantitative_properties:\n",
    "        if prop == column:\n",
    "            continue\n",
    "        data.plot(\n",
    "            kind='scatter', alpha=0.2, figsize=FIGSIZE,\n",
    "            y=column,\n",
    "            x=prop,\n",
    "        )\n",
    "    plt.show()\n",
    "\n",
    "def batch_box(data, column=key_column, by_props=categorical_properties):\n",
    "    for prop in by_props:\n",
    "        data.boxplot(\n",
    "            column=column,\n",
    "            by=prop,\n",
    "            figsize=FIGSIZE,\n",
    "        )\n",
    "    plt.show()"
   ]
  },
  {
   "cell_type": "markdown",
   "id": "5312ba57",
   "metadata": {},
   "source": [
    "##### A/B-test"
   ]
  },
  {
   "cell_type": "code",
   "execution_count": 15,
   "id": "4d351e26",
   "metadata": {},
   "outputs": [],
   "source": [
    "def center_percentile(data, percentile):\n",
    "    low = np.percentile(data, (100 - percentile) / 2)\n",
    "    high = np.percentile(data, (100 + percentile) / 2)\n",
    "    return low, high"
   ]
  },
  {
   "cell_type": "markdown",
   "id": "21b0ee10",
   "metadata": {},
   "source": [
    "## Обзор и исправление данных"
   ]
  },
  {
   "cell_type": "markdown",
   "id": "cf122439",
   "metadata": {},
   "source": [
    "### Итоги обзора и исправления данных\n",
    "\n",
    "- Первый;\n",
    "- Второй;\n",
    "- Третий."
   ]
  },
  {
   "cell_type": "markdown",
   "id": "a6c058dc",
   "metadata": {},
   "source": [
    "## Расходы каждого пользователя в месяц"
   ]
  },
  {
   "cell_type": "markdown",
   "id": "52d83e4c",
   "metadata": {},
   "source": [
    "### Итоги подготовки информации о расходах:\n",
    "\n",
    "- Первый;\n",
    "- Второй;\n",
    "- Третий."
   ]
  },
  {
   "cell_type": "markdown",
   "id": "b1548e11",
   "metadata": {},
   "source": [
    "## Анализ расходов"
   ]
  },
  {
   "cell_type": "markdown",
   "id": "a2f3a2ac",
   "metadata": {},
   "source": [
    "### Итоги анализа расходов\n",
    "\n",
    "- Первый;\n",
    "- Второй;\n",
    "- Третий."
   ]
  },
  {
   "cell_type": "markdown",
   "id": "be8b306b",
   "metadata": {},
   "source": [
    "## Гипотезы и проверки"
   ]
  },
  {
   "cell_type": "markdown",
   "id": "fa499034",
   "metadata": {},
   "source": [
    "### Итоги проверки гипотез\n",
    "\n",
    "- Первый;\n",
    "- Второй;\n",
    "- Третий."
   ]
  },
  {
   "cell_type": "markdown",
   "id": "d1a9526a",
   "metadata": {},
   "source": [
    "## Общие итоги\n",
    "\n",
    "- Исследовано:\n",
    "  - выборка пяти сотен пользователей из разных регионов, подключившихся в 2018 году;\n",
    "  - полная статистика их потребления звонков, коротких сообщений и интернет-трафика.\n",
    "- **Подтверждённые выводы:**\n",
    "  - Пользователь тарифа **\"Ultra\"** приносит **в среднем на 33% больше выручки**, чем пользователь тарифа \"Smart\".\n",
    "  - **Средняя выручка** с пользователя **в Москве не отличается** от средней выручки с пользователя в других регионах.\n",
    "- Также обнаружено, что:\n",
    "  - Пользователей тарифа \"Smart\" в 4 раза больше;\n",
    "  - Среди тех, кто потребляет много, популярней тариф \"Ultra\";\n",
    "  - В среднем пользователи \"Smart\" потребляют столько, сколько включено в базовый пакет;\n",
    "  - При относительно небольшом увеличении потребления их чек заметно вырастает;\n",
    "  - Если потребление превышает 100 звонков (или 750 минут), или 110 сообщений, или 25 ГБ в месяц - пользователи предпочитают тариф \"Ultra\";\n",
    "  - Пользователи \"Ultra\" потребляют только треть от базового пакета;\n",
    "  - И 85% из них платят только базовый платёж.\n",
    "- Предположения:\n",
    "  - Пользователи \"Smart\":\n",
    "    - сознательно ограничивают своё потребление;\n",
    "    - при повышении потребления переходят на гораздо более содержательный \"Ultra\".\n",
    "  - Пользователи \"Ultra\":\n",
    "    - при повышении потребления вдвое не станут платить вдвое больше."
   ]
  },
  {
   "cell_type": "markdown",
   "id": "671c6f26",
   "metadata": {},
   "source": [
    "### Рекомендации\n",
    "\n",
    "**Описание**\n",
    "\n",
    "- пишем от лица \"мы\", употребляем подходящие времена\n",
    "- Пиши краткие промежуточные выводы.\n",
    "- Сделай общий вывод по итогам проекта в отдельном разделе.\n",
    "- Сохрани идеи и код, который помогает принимать промежуточные решения.\n",
    "- удали неработающий код\n",
    "- комментарии ставь перед кодом\n",
    "- вынеси комментарии в маркдаун\n",
    "- подробно описывай процесс, что и почему ты делаешь\n",
    "- за каждым пояснением - ячейка с кодом. Одна ячейка - один шаг\n",
    "- перед отправкой - перезапусти вессь проект, убедись, что все ячейки сработали верно\n",
    "\n",
    "**Вывод данных**\n",
    "- Каждому объекту данных (фрейм, график) - дай название, подпись, подпиши столбцы и оси.\n",
    "- Таблицы давай выборками, .head() и .tail()\n",
    "- таблицы выводи по display()  # from IPython.display import display\n",
    "\n",
    "**Итоги**\n",
    "- краткий обзор проведённой работы: что выполнили, рассчитали:\n",
    "- главные выводы: ответы на поставленные вопросы\n",
    "- рекомендации: как избежать неправильных данных, как отобрать признаки для прогнозирования в будущем"
   ]
  },
  {
   "cell_type": "markdown",
   "id": "f073b277",
   "metadata": {},
   "source": [
    "На что обращают внимание при проверке проекта:\n",
    "- [ ] Как вы описываете выявленные в данных проблемы?\n",
    "- [ ] Как готовите датасет к анализу?\n",
    "- [ ] Какие строите графики для распределений и как их объясняете?\n",
    "- [ ] Как рассчитываете стандартное отклонение и дисперсию?\n",
    "- [ ] Формулируете ли альтернативную и нулевую гипотезы?\n",
    "- [ ] Какие методы применяете, чтобы их проверить?\n",
    "- [ ] Объясняете результат проверки гипотезы или нет?\n",
    "- [ ] Соблюдаете ли структуру проекта и поддерживаете аккуратность кода?\n",
    "- [ ] Какие выводы делаете?\n",
    "- [ ] Оставляете ли комментарии к шагам?"
   ]
  },
  {
   "cell_type": "code",
   "execution_count": null,
   "id": "23f8a0b8",
   "metadata": {},
   "outputs": [],
   "source": []
  }
 ],
 "metadata": {
  "kernelspec": {
   "display_name": "Python 3 (ipykernel)",
   "language": "python",
   "name": "python3"
  },
  "language_info": {
   "codemirror_mode": {
    "name": "ipython",
    "version": 3
   },
   "file_extension": ".py",
   "mimetype": "text/x-python",
   "name": "python",
   "nbconvert_exporter": "python",
   "pygments_lexer": "ipython3",
   "version": "3.10.6"
  },
  "toc": {
   "base_numbering": 1,
   "nav_menu": {},
   "number_sections": true,
   "sideBar": true,
   "skip_h1_title": true,
   "title_cell": "Содержание",
   "title_sidebar": "Содержание",
   "toc_cell": true,
   "toc_position": {
    "height": "calc(100% - 180px)",
    "left": "10px",
    "top": "150px",
    "width": "258.797px"
   },
   "toc_section_display": true,
   "toc_window_display": true
  }
 },
 "nbformat": 4,
 "nbformat_minor": 5
}
