{
 "cells": [
  {
   "cell_type": "markdown",
   "id": "fa985b42",
   "metadata": {},
   "source": [
    "# Исследование надежности заёмщиков."
   ]
  },
  {
   "cell_type": "markdown",
   "id": "31cb1343",
   "metadata": {},
   "source": [
    "Учебный проект по специальности \"аналитик данных\", 4-я неделя обучения.\n",
    "\n",
    "Автор: Александр Лагутин.\n",
    "\n",
    "Время подготовки: 26 рабочих часов (4 рабочих дня)."
   ]
  },
  {
   "cell_type": "markdown",
   "id": "1e05c204",
   "metadata": {
    "toc": true
   },
   "source": [
    "<h1>Содержание<span class=\"tocSkip\"></span></h1>\n",
    "<div class=\"toc\"><ul class=\"toc-item\"><li><span><a href=\"#Описание-проекта\" data-toc-modified-id=\"Описание-проекта-1\"><span class=\"toc-item-num\">1&nbsp;&nbsp;</span>Описание проекта</a></span><ul class=\"toc-item\"><li><span><a href=\"#Задача\" data-toc-modified-id=\"Задача-1.1\"><span class=\"toc-item-num\">1.1&nbsp;&nbsp;</span>Задача</a></span></li><li><span><a href=\"#Инструменты\" data-toc-modified-id=\"Инструменты-1.2\"><span class=\"toc-item-num\">1.2&nbsp;&nbsp;</span>Инструменты</a></span></li><li><span><a href=\"#План-работы\" data-toc-modified-id=\"План-работы-1.3\"><span class=\"toc-item-num\">1.3&nbsp;&nbsp;</span>План работы</a></span></li></ul></li><li><span><a href=\"#Обзор-данных.-\" data-toc-modified-id=\"Обзор-данных.--2\"><span class=\"toc-item-num\">2&nbsp;&nbsp;</span>Обзор данных. <a id=\"review\" rel=\"nofollow\"></a></a></span><ul class=\"toc-item\"><li><ul class=\"toc-item\"><li><span><a href=\"#Переименование-dob_years-в-age\" data-toc-modified-id=\"Переименование-dob_years-в-age-2.0.1\"><span class=\"toc-item-num\">2.0.1&nbsp;&nbsp;</span>Переименование <code>dob_years</code> в <code>age</code></a></span></li></ul></li><li><span><a href=\"#Выводы-по-обзору-данных\" data-toc-modified-id=\"Выводы-по-обзору-данных-2.1\"><span class=\"toc-item-num\">2.1&nbsp;&nbsp;</span>Выводы по обзору данных</a></span></li></ul></li><li><span><a href=\"#Исправление-данных\" data-toc-modified-id=\"Исправление-данных-3\"><span class=\"toc-item-num\">3&nbsp;&nbsp;</span>Исправление данных</a></span><ul class=\"toc-item\"><li><span><a href=\"#Исправление-аномалий.-\" data-toc-modified-id=\"Исправление-аномалий.--3.1\"><span class=\"toc-item-num\">3.1&nbsp;&nbsp;</span>Исправление аномалий. <a id=\"check_for_anomalies\" rel=\"nofollow\"></a></a></span><ul class=\"toc-item\"><li><span><a href=\"#Аномалии-в--children\" data-toc-modified-id=\"Аномалии-в--children-3.1.1\"><span class=\"toc-item-num\">3.1.1&nbsp;&nbsp;</span>Аномалии в  <code>children</code></a></span><ul class=\"toc-item\"><li><span><a href=\"#Поиск-корреляции-аномальных-значений-с-значениями-других-столбцов\" data-toc-modified-id=\"Поиск-корреляции-аномальных-значений-с-значениями-других-столбцов-3.1.1.1\"><span class=\"toc-item-num\">3.1.1.1&nbsp;&nbsp;</span>Поиск корреляции аномальных значений с значениями других столбцов</a></span></li></ul></li><li><span><a href=\"#Аномалии-в--age\" data-toc-modified-id=\"Аномалии-в--age-3.1.2\"><span class=\"toc-item-num\">3.1.2&nbsp;&nbsp;</span>Аномалии в  <code>age</code></a></span></li><li><span><a href=\"#Анализ-аномалий-в-days_employed\" data-toc-modified-id=\"Анализ-аномалий-в-days_employed-3.1.3\"><span class=\"toc-item-num\">3.1.3&nbsp;&nbsp;</span>Анализ аномалий в <code>days_employed</code></a></span><ul class=\"toc-item\"><li><span><a href=\"#Анализ-двух-групп-аномалий\" data-toc-modified-id=\"Анализ-двух-групп-аномалий-3.1.3.1\"><span class=\"toc-item-num\">3.1.3.1&nbsp;&nbsp;</span>Анализ двух групп аномалий</a></span></li><li><span><a href=\"#Проверка-предположений:-негативную-группу-достаточно-умножить-на--1;-единица-измерения-стажа-в-&quot;позитивной&quot;-группе---час.\" data-toc-modified-id=\"Проверка-предположений:-негативную-группу-достаточно-умножить-на--1;-единица-измерения-стажа-в-&quot;позитивной&quot;-группе---час.-3.1.3.2\"><span class=\"toc-item-num\">3.1.3.2&nbsp;&nbsp;</span>Проверка предположений: негативную группу достаточно умножить на -1; единица измерения стажа в \"позитивной\" группе - час.</a></span></li><li><span><a href=\"#Проверка-предположения:-&quot;позитивные&quot;-величины-не-коррелируют-с-возрастом\" data-toc-modified-id=\"Проверка-предположения:-&quot;позитивные&quot;-величины-не-коррелируют-с-возрастом-3.1.3.3\"><span class=\"toc-item-num\">3.1.3.3&nbsp;&nbsp;</span>Проверка предположения: \"позитивные\" величины не коррелируют с возрастом</a></span></li></ul></li><li><span><a href=\"#Исправление-аномалий-в-days_employed\" data-toc-modified-id=\"Исправление-аномалий-в-days_employed-3.1.4\"><span class=\"toc-item-num\">3.1.4&nbsp;&nbsp;</span>Исправление аномалий в <code>days_employed</code></a></span></li><li><span><a href=\"#Аномалии-в-gender\" data-toc-modified-id=\"Аномалии-в-gender-3.1.5\"><span class=\"toc-item-num\">3.1.5&nbsp;&nbsp;</span>Аномалии в <code>gender</code></a></span></li></ul></li><li><span><a href=\"#Заполнение-пропусков.-\" data-toc-modified-id=\"Заполнение-пропусков.--3.2\"><span class=\"toc-item-num\">3.2&nbsp;&nbsp;</span>Заполнение пропусков. <a id=\"fillna\" rel=\"nofollow\"></a></a></span></li><li><span><a href=\"#Исправление-типов-данных.-\" data-toc-modified-id=\"Исправление-типов-данных.--3.3\"><span class=\"toc-item-num\">3.3&nbsp;&nbsp;</span>Исправление типов данных. <a id=\"change_data_types\" rel=\"nofollow\"></a></a></span></li><li><span><a href=\"#Удаление-дубликатов.-\" data-toc-modified-id=\"Удаление-дубликатов.--3.4\"><span class=\"toc-item-num\">3.4&nbsp;&nbsp;</span>Удаление дубликатов. <a id=\"drop_duplicates\" rel=\"nofollow\"></a></a></span><ul class=\"toc-item\"><li><span><a href=\"#&quot;Неявные&quot;-дубликаты-значений\" data-toc-modified-id=\"&quot;Неявные&quot;-дубликаты-значений-3.4.1\"><span class=\"toc-item-num\">3.4.1&nbsp;&nbsp;</span>\"Неявные\" дубликаты значений</a></span><ul class=\"toc-item\"><li><span><a href=\"#Дубликаты-в-education\" data-toc-modified-id=\"Дубликаты-в-education-3.4.1.1\"><span class=\"toc-item-num\">3.4.1.1&nbsp;&nbsp;</span>Дубликаты в <code>education</code></a></span></li><li><span><a href=\"#Дубликаты-в-family_status\" data-toc-modified-id=\"Дубликаты-в-family_status-3.4.1.2\"><span class=\"toc-item-num\">3.4.1.2&nbsp;&nbsp;</span>Дубликаты в <code>family_status</code></a></span></li><li><span><a href=\"#Дубликаты-в-income_type\" data-toc-modified-id=\"Дубликаты-в-income_type-3.4.1.3\"><span class=\"toc-item-num\">3.4.1.3&nbsp;&nbsp;</span>Дубликаты в <code>income_type</code></a></span></li><li><span><a href=\"#Дубликаты-в-purpose\" data-toc-modified-id=\"Дубликаты-в-purpose-3.4.1.4\"><span class=\"toc-item-num\">3.4.1.4&nbsp;&nbsp;</span>Дубликаты в <code>purpose</code></a></span></li><li><span><a href=\"#Итоги-по-неявным-дубликатам\" data-toc-modified-id=\"Итоги-по-неявным-дубликатам-3.4.1.5\"><span class=\"toc-item-num\">3.4.1.5&nbsp;&nbsp;</span>Итоги по неявным дубликатам</a></span></li></ul></li><li><span><a href=\"#Полные-дубликаты-строк\" data-toc-modified-id=\"Полные-дубликаты-строк-3.4.2\"><span class=\"toc-item-num\">3.4.2&nbsp;&nbsp;</span>Полные дубликаты строк</a></span></li></ul></li><li><span><a href=\"#Выводы-по-исправлению-данных\" data-toc-modified-id=\"Выводы-по-исправлению-данных-3.5\"><span class=\"toc-item-num\">3.5&nbsp;&nbsp;</span>Выводы по исправлению данных</a></span></li></ul></li><li><span><a href=\"#Обработка-данных\" data-toc-modified-id=\"Обработка-данных-4\"><span class=\"toc-item-num\">4&nbsp;&nbsp;</span>Обработка данных</a></span><ul class=\"toc-item\"><li><span><a href=\"#Декомпозиция-данных,-создание-дополняющих-таблиц.-\" data-toc-modified-id=\"Декомпозиция-данных,-создание-дополняющих-таблиц.--4.1\"><span class=\"toc-item-num\">4.1&nbsp;&nbsp;</span>Декомпозиция данных, создание дополняющих таблиц. <a id=\"decompose_data\" rel=\"nofollow\"></a></a></span><ul class=\"toc-item\"><li><span><a href=\"#Создание-датафрейма-education_levels.\" data-toc-modified-id=\"Создание-датафрейма-education_levels.-4.1.1\"><span class=\"toc-item-num\">4.1.1&nbsp;&nbsp;</span>Создание датафрейма <code>education_levels</code>.</a></span></li><li><span><a href=\"#Создание-датафрейма-family_statuses.\" data-toc-modified-id=\"Создание-датафрейма-family_statuses.-4.1.2\"><span class=\"toc-item-num\">4.1.2&nbsp;&nbsp;</span>Создание датафрейма <code>family_statuses</code>.</a></span></li><li><span><a href=\"#Удаление-колонок-education-и-family_status.\" data-toc-modified-id=\"Удаление-колонок-education-и-family_status.-4.1.3\"><span class=\"toc-item-num\">4.1.3&nbsp;&nbsp;</span>Удаление колонок <code>education</code> и <code>family_status</code>.</a></span></li></ul></li><li><span><a href=\"#Категории-дохода.-\" data-toc-modified-id=\"Категории-дохода.--4.2\"><span class=\"toc-item-num\">4.2&nbsp;&nbsp;</span>Категории дохода. <a id=\"income_categories\" rel=\"nofollow\"></a></a></span></li><li><span><a href=\"#Категории-целей-кредита.-\" data-toc-modified-id=\"Категории-целей-кредита.--4.3\"><span class=\"toc-item-num\">4.3&nbsp;&nbsp;</span>Категории целей кредита. <a id=\"purpose_categories\" rel=\"nofollow\"></a></a></span></li></ul></li><li><span><a href=\"#Ответы-на-вопросы.-\" data-toc-modified-id=\"Ответы-на-вопросы.--5\"><span class=\"toc-item-num\">5&nbsp;&nbsp;</span>Ответы на вопросы. <a id=\"checking_for_anomalies\" rel=\"nofollow\"></a></a></span><ul class=\"toc-item\"><li><span><a href=\"#Есть-ли-зависимость-между-количеством-детей-и-возвратом-кредита-в-срок?\" data-toc-modified-id=\"Есть-ли-зависимость-между-количеством-детей-и-возвратом-кредита-в-срок?-5.1\"><span class=\"toc-item-num\">5.1&nbsp;&nbsp;</span>Есть ли зависимость между количеством детей и возвратом кредита в срок?</a></span></li><li><span><a href=\"#Есть-ли-зависимость-между-семейным-положением-и-возвратом-кредита-в-срок?\" data-toc-modified-id=\"Есть-ли-зависимость-между-семейным-положением-и-возвратом-кредита-в-срок?-5.2\"><span class=\"toc-item-num\">5.2&nbsp;&nbsp;</span>Есть ли зависимость между семейным положением и возвратом кредита в срок?</a></span></li><li><span><a href=\"#Есть-ли-зависимость-между-уровнем-дохода-и-возвратом-кредита-в-срок?\" data-toc-modified-id=\"Есть-ли-зависимость-между-уровнем-дохода-и-возвратом-кредита-в-срок?-5.3\"><span class=\"toc-item-num\">5.3&nbsp;&nbsp;</span>Есть ли зависимость между уровнем дохода и возвратом кредита в срок?</a></span></li><li><span><a href=\"#Вопрос-1:-Как-разные-цели-кредита-влияют-на-его-возврат-в-срок?\" data-toc-modified-id=\"Вопрос-1:-Как-разные-цели-кредита-влияют-на-его-возврат-в-срок?-5.4\"><span class=\"toc-item-num\">5.4&nbsp;&nbsp;</span>Вопрос 1: Как разные цели кредита влияют на его возврат в срок?</a></span></li></ul></li><li><span><a href=\"#Общие-выводы-\" data-toc-modified-id=\"Общие-выводы--6\"><span class=\"toc-item-num\">6&nbsp;&nbsp;</span>Общие выводы <a id=\"checking_for_anomalies\" rel=\"nofollow\"></a></a></span></li></ul></div>"
   ]
  },
  {
   "cell_type": "markdown",
   "id": "73c7e3dc",
   "metadata": {},
   "source": [
    "## Описание проекта"
   ]
  },
  {
   "cell_type": "markdown",
   "id": "e18c0511",
   "metadata": {},
   "source": [
    "### Задача\n",
    "Заказчик — кредитный отдел банка. Нужно разобраться, влияет ли семейное положение и количество детей клиента на факт погашения кредита в срок.\n",
    "\n",
    "Поставлены вопросы:\n",
    "- Есть ли зависимость между количеством детей и возвратом кредита в срок?\n",
    "- Есть ли зависимость между семейным положением и возвратом кредита в срок?\n",
    "- Есть ли зависимость между уровнем дохода и возвратом кредита в срок?\n",
    "- Как разные цели кредита влияют на его возврат в срок?\n",
    "\n",
    "Входные данные от банка:\n",
    "- статистика о платёжеспособности клиентов (файл `datasets/data.csv`).\n",
    "\n",
    "Описание данных:\n",
    "- `children` — количество детей в семье;\n",
    "- `days_employed` — общий трудовой стаж в днях;\n",
    "- `dob_years` — возраст клиента в годах;\n",
    "- `education` — уровень образования клиента;\n",
    "- `education_id` — идентификатор уровня образования;\n",
    "- `family_status` — семейное положение;\n",
    "- `family_status_id` — идентификатор семейного положения;\n",
    "- `gender` — пол клиента;\n",
    "- `income_type` — тип занятости;\n",
    "- `debt` — имел ли задолженность по возврату кредитов;\n",
    "- `total_income` — ежемесячный доход;\n",
    "- `purpose` — цель получения кредита.\n",
    "\n",
    "Результаты исследования будут учтены при построении модели кредитного скоринга — специальной системы, которая оценивает способность потенциального заёмщика вернуть кредит банку."
   ]
  },
  {
   "cell_type": "markdown",
   "id": "6b707c76",
   "metadata": {},
   "source": [
    "### Инструменты\n",
    "Используем [Anaconda](https://www.anaconda.com/), окружение `ds_da_practicum_env.yml` \"для Mac OS\" (от 2022-03-23)."
   ]
  },
  {
   "cell_type": "markdown",
   "id": "86dd0f6e",
   "metadata": {},
   "source": [
    "### План работы\n",
    "- Знакомимся с данными;\n",
    "- Проверяем корректность данных, вносим исправления;\n",
    "  - Некорректные данные исследуем, ищем способ восстановить их корректное значение;\n",
    "  - Некорректные значения, которые не удалось привести в корректный вид - обрабатываем как пропущенные;\n",
    "    - Числовые значение, которые пропущенны или не поддаются коррекции - меняем на медианные значения;\n",
    "- Делим клиентов на категории;\n",
    "- Ищем взаимосвязи \"категория клиента - платёжеспособность клиента\";\n",
    "- Излагаем выводы.\n",
    "\n",
    "Почему невосстановимые значения заполняем медианой? Типичные случаи встречаются чаще нетипичных. Поэтому мы предполагаем, что пропущенное или испорченное значение вернее всего было типичным. Медиана хорошо характеризует типичный случай. Если из набора случаев взять произвольный случай - он чаще будет похож на медианный, чем на средний или какой-либой иной. Поэтому, заменяя некорректные величины на медианные, мы чаще оказываемся близки к реальным результатам, чем если бы выбрали другую единую величину (среднюю, нуль или иную)."
   ]
  },
  {
   "cell_type": "markdown",
   "id": "b3aea973",
   "metadata": {},
   "source": [
    "## Обзор данных. <a id=\"review\"></a>"
   ]
  },
  {
   "cell_type": "markdown",
   "id": "0a1fc247",
   "metadata": {},
   "source": [
    "Импортируем инструменты. Seaborn нужен, чтобы обнаружить аномалии в данных визуально."
   ]
  },
  {
   "cell_type": "code",
   "execution_count": 1,
   "id": "21b7888d",
   "metadata": {},
   "outputs": [],
   "source": [
    "import pandas as pd\n",
    "import seaborn"
   ]
  },
  {
   "cell_type": "markdown",
   "id": "980b1083",
   "metadata": {},
   "source": [
    "Загружаем данные."
   ]
  },
  {
   "cell_type": "code",
   "execution_count": 2,
   "id": "16eac465",
   "metadata": {
    "scrolled": true
   },
   "outputs": [],
   "source": [
    "try:\n",
    "    data = pd.read_csv('data.csv')\n",
    "except:\n",
    "    data = pd.read_csv('datasets/data.csv')"
   ]
  },
  {
   "cell_type": "markdown",
   "id": "4f2d95ce",
   "metadata": {},
   "source": [
    "Просматриваем данные."
   ]
  },
  {
   "cell_type": "code",
   "execution_count": 3,
   "id": "bcffd502",
   "metadata": {
    "scrolled": true
   },
   "outputs": [
    {
     "data": {
      "text/html": [
       "<div>\n",
       "<style scoped>\n",
       "    .dataframe tbody tr th:only-of-type {\n",
       "        vertical-align: middle;\n",
       "    }\n",
       "\n",
       "    .dataframe tbody tr th {\n",
       "        vertical-align: top;\n",
       "    }\n",
       "\n",
       "    .dataframe thead th {\n",
       "        text-align: right;\n",
       "    }\n",
       "</style>\n",
       "<table border=\"1\" class=\"dataframe\">\n",
       "  <thead>\n",
       "    <tr style=\"text-align: right;\">\n",
       "      <th></th>\n",
       "      <th>children</th>\n",
       "      <th>days_employed</th>\n",
       "      <th>dob_years</th>\n",
       "      <th>education</th>\n",
       "      <th>education_id</th>\n",
       "      <th>family_status</th>\n",
       "      <th>family_status_id</th>\n",
       "      <th>gender</th>\n",
       "      <th>income_type</th>\n",
       "      <th>debt</th>\n",
       "      <th>total_income</th>\n",
       "      <th>purpose</th>\n",
       "    </tr>\n",
       "  </thead>\n",
       "  <tbody>\n",
       "    <tr>\n",
       "      <th>0</th>\n",
       "      <td>1</td>\n",
       "      <td>-8437.673028</td>\n",
       "      <td>42</td>\n",
       "      <td>высшее</td>\n",
       "      <td>0</td>\n",
       "      <td>женат / замужем</td>\n",
       "      <td>0</td>\n",
       "      <td>F</td>\n",
       "      <td>сотрудник</td>\n",
       "      <td>0</td>\n",
       "      <td>253875.639453</td>\n",
       "      <td>покупка жилья</td>\n",
       "    </tr>\n",
       "    <tr>\n",
       "      <th>1</th>\n",
       "      <td>1</td>\n",
       "      <td>-4024.803754</td>\n",
       "      <td>36</td>\n",
       "      <td>среднее</td>\n",
       "      <td>1</td>\n",
       "      <td>женат / замужем</td>\n",
       "      <td>0</td>\n",
       "      <td>F</td>\n",
       "      <td>сотрудник</td>\n",
       "      <td>0</td>\n",
       "      <td>112080.014102</td>\n",
       "      <td>приобретение автомобиля</td>\n",
       "    </tr>\n",
       "    <tr>\n",
       "      <th>2</th>\n",
       "      <td>0</td>\n",
       "      <td>-5623.422610</td>\n",
       "      <td>33</td>\n",
       "      <td>Среднее</td>\n",
       "      <td>1</td>\n",
       "      <td>женат / замужем</td>\n",
       "      <td>0</td>\n",
       "      <td>M</td>\n",
       "      <td>сотрудник</td>\n",
       "      <td>0</td>\n",
       "      <td>145885.952297</td>\n",
       "      <td>покупка жилья</td>\n",
       "    </tr>\n",
       "    <tr>\n",
       "      <th>3</th>\n",
       "      <td>3</td>\n",
       "      <td>-4124.747207</td>\n",
       "      <td>32</td>\n",
       "      <td>среднее</td>\n",
       "      <td>1</td>\n",
       "      <td>женат / замужем</td>\n",
       "      <td>0</td>\n",
       "      <td>M</td>\n",
       "      <td>сотрудник</td>\n",
       "      <td>0</td>\n",
       "      <td>267628.550329</td>\n",
       "      <td>дополнительное образование</td>\n",
       "    </tr>\n",
       "    <tr>\n",
       "      <th>4</th>\n",
       "      <td>0</td>\n",
       "      <td>340266.072047</td>\n",
       "      <td>53</td>\n",
       "      <td>среднее</td>\n",
       "      <td>1</td>\n",
       "      <td>гражданский брак</td>\n",
       "      <td>1</td>\n",
       "      <td>F</td>\n",
       "      <td>пенсионер</td>\n",
       "      <td>0</td>\n",
       "      <td>158616.077870</td>\n",
       "      <td>сыграть свадьбу</td>\n",
       "    </tr>\n",
       "    <tr>\n",
       "      <th>5</th>\n",
       "      <td>0</td>\n",
       "      <td>-926.185831</td>\n",
       "      <td>27</td>\n",
       "      <td>высшее</td>\n",
       "      <td>0</td>\n",
       "      <td>гражданский брак</td>\n",
       "      <td>1</td>\n",
       "      <td>M</td>\n",
       "      <td>компаньон</td>\n",
       "      <td>0</td>\n",
       "      <td>255763.565419</td>\n",
       "      <td>покупка жилья</td>\n",
       "    </tr>\n",
       "    <tr>\n",
       "      <th>6</th>\n",
       "      <td>0</td>\n",
       "      <td>-2879.202052</td>\n",
       "      <td>43</td>\n",
       "      <td>высшее</td>\n",
       "      <td>0</td>\n",
       "      <td>женат / замужем</td>\n",
       "      <td>0</td>\n",
       "      <td>F</td>\n",
       "      <td>компаньон</td>\n",
       "      <td>0</td>\n",
       "      <td>240525.971920</td>\n",
       "      <td>операции с жильем</td>\n",
       "    </tr>\n",
       "    <tr>\n",
       "      <th>7</th>\n",
       "      <td>0</td>\n",
       "      <td>-152.779569</td>\n",
       "      <td>50</td>\n",
       "      <td>СРЕДНЕЕ</td>\n",
       "      <td>1</td>\n",
       "      <td>женат / замужем</td>\n",
       "      <td>0</td>\n",
       "      <td>M</td>\n",
       "      <td>сотрудник</td>\n",
       "      <td>0</td>\n",
       "      <td>135823.934197</td>\n",
       "      <td>образование</td>\n",
       "    </tr>\n",
       "    <tr>\n",
       "      <th>8</th>\n",
       "      <td>2</td>\n",
       "      <td>-6929.865299</td>\n",
       "      <td>35</td>\n",
       "      <td>ВЫСШЕЕ</td>\n",
       "      <td>0</td>\n",
       "      <td>гражданский брак</td>\n",
       "      <td>1</td>\n",
       "      <td>F</td>\n",
       "      <td>сотрудник</td>\n",
       "      <td>0</td>\n",
       "      <td>95856.832424</td>\n",
       "      <td>на проведение свадьбы</td>\n",
       "    </tr>\n",
       "    <tr>\n",
       "      <th>9</th>\n",
       "      <td>0</td>\n",
       "      <td>-2188.756445</td>\n",
       "      <td>41</td>\n",
       "      <td>среднее</td>\n",
       "      <td>1</td>\n",
       "      <td>женат / замужем</td>\n",
       "      <td>0</td>\n",
       "      <td>M</td>\n",
       "      <td>сотрудник</td>\n",
       "      <td>0</td>\n",
       "      <td>144425.938277</td>\n",
       "      <td>покупка жилья для семьи</td>\n",
       "    </tr>\n",
       "  </tbody>\n",
       "</table>\n",
       "</div>"
      ],
      "text/plain": [
       "   children  days_employed  dob_years education  education_id  \\\n",
       "0         1   -8437.673028         42    высшее             0   \n",
       "1         1   -4024.803754         36   среднее             1   \n",
       "2         0   -5623.422610         33   Среднее             1   \n",
       "3         3   -4124.747207         32   среднее             1   \n",
       "4         0  340266.072047         53   среднее             1   \n",
       "5         0    -926.185831         27    высшее             0   \n",
       "6         0   -2879.202052         43    высшее             0   \n",
       "7         0    -152.779569         50   СРЕДНЕЕ             1   \n",
       "8         2   -6929.865299         35    ВЫСШЕЕ             0   \n",
       "9         0   -2188.756445         41   среднее             1   \n",
       "\n",
       "      family_status  family_status_id gender income_type  debt   total_income  \\\n",
       "0   женат / замужем                 0      F   сотрудник     0  253875.639453   \n",
       "1   женат / замужем                 0      F   сотрудник     0  112080.014102   \n",
       "2   женат / замужем                 0      M   сотрудник     0  145885.952297   \n",
       "3   женат / замужем                 0      M   сотрудник     0  267628.550329   \n",
       "4  гражданский брак                 1      F   пенсионер     0  158616.077870   \n",
       "5  гражданский брак                 1      M   компаньон     0  255763.565419   \n",
       "6   женат / замужем                 0      F   компаньон     0  240525.971920   \n",
       "7   женат / замужем                 0      M   сотрудник     0  135823.934197   \n",
       "8  гражданский брак                 1      F   сотрудник     0   95856.832424   \n",
       "9   женат / замужем                 0      M   сотрудник     0  144425.938277   \n",
       "\n",
       "                      purpose  \n",
       "0               покупка жилья  \n",
       "1     приобретение автомобиля  \n",
       "2               покупка жилья  \n",
       "3  дополнительное образование  \n",
       "4             сыграть свадьбу  \n",
       "5               покупка жилья  \n",
       "6           операции с жильем  \n",
       "7                 образование  \n",
       "8       на проведение свадьбы  \n",
       "9     покупка жилья для семьи  "
      ]
     },
     "execution_count": 3,
     "metadata": {},
     "output_type": "execute_result"
    }
   ],
   "source": [
    "data.head(10)"
   ]
  },
  {
   "cell_type": "markdown",
   "id": "69b462bf",
   "metadata": {},
   "source": [
    "Видим проблемы:\n",
    "- В столбце с \"днями стажа\" - отрицательные значения, и ещё значение в 340 тыс дней - это примерно тысячу лет стажа.\n",
    "- В столбце с образованием - разный регистр у значений, надо привести к единому.\n",
    "\n",
    "Потребуется проверка данных на корректность, поскольку мы видим лишь ничтожную часть, и даже в ней есть нарушения хороших практик обращения с данными."
   ]
  },
  {
   "cell_type": "code",
   "execution_count": 4,
   "id": "090b4049",
   "metadata": {
    "scrolled": false
   },
   "outputs": [
    {
     "name": "stdout",
     "output_type": "stream",
     "text": [
      "<class 'pandas.core.frame.DataFrame'>\n",
      "RangeIndex: 21525 entries, 0 to 21524\n",
      "Data columns (total 12 columns):\n",
      " #   Column            Non-Null Count  Dtype  \n",
      "---  ------            --------------  -----  \n",
      " 0   children          21525 non-null  int64  \n",
      " 1   days_employed     19351 non-null  float64\n",
      " 2   dob_years         21525 non-null  int64  \n",
      " 3   education         21525 non-null  object \n",
      " 4   education_id      21525 non-null  int64  \n",
      " 5   family_status     21525 non-null  object \n",
      " 6   family_status_id  21525 non-null  int64  \n",
      " 7   gender            21525 non-null  object \n",
      " 8   income_type       21525 non-null  object \n",
      " 9   debt              21525 non-null  int64  \n",
      " 10  total_income      19351 non-null  float64\n",
      " 11  purpose           21525 non-null  object \n",
      "dtypes: float64(2), int64(5), object(5)\n",
      "memory usage: 2.0+ MB\n"
     ]
    }
   ],
   "source": [
    "data.info()"
   ]
  },
  {
   "cell_type": "markdown",
   "id": "683a379d",
   "metadata": {},
   "source": [
    "Количество данных:\n",
    "- всего 21 525 записей;\n",
    "- `days_employed` и `total_income` содержат меньше заполненных значений - значит, есть пропуски в этих полях."
   ]
  },
  {
   "cell_type": "markdown",
   "id": "5abf36fe",
   "metadata": {},
   "source": [
    "#### Переименование `dob_years` в `age`"
   ]
  },
  {
   "cell_type": "markdown",
   "id": "9ebf7d31",
   "metadata": {},
   "source": [
    "`dob_years` создано для возрастов. Меняем название поля на очевидное `age`."
   ]
  },
  {
   "cell_type": "code",
   "execution_count": 5,
   "id": "a55a20a4",
   "metadata": {},
   "outputs": [],
   "source": [
    "data.rename(columns={'dob_years': 'age'}, inplace=True)"
   ]
  },
  {
   "cell_type": "markdown",
   "id": "e5dfcad2",
   "metadata": {},
   "source": [
    "В целом, нам сказано, что это список клиентов, то есть, персон. Персоны по-определению уникальны. Однако, в данных нет того, что могло бы ясно указать на уникальность каждой записи. Нет client_id, или аналога.\n",
    "\n",
    "Мы предположим, что если есть две полностью одинаковые записи - то это не два клиента с одинаковой жизненной ситуацией, а информация об одном и том же клиенте. А значит - мы уберём все дубликаты, явные и неявные. Чтобы каждая строка была уникальной, как уникален каждый клиент."
   ]
  },
  {
   "cell_type": "markdown",
   "id": "bade4495",
   "metadata": {},
   "source": [
    "### Выводы по обзору данных"
   ]
  },
  {
   "cell_type": "markdown",
   "id": "e4238bb9",
   "metadata": {},
   "source": [
    "- Лучше дополнять статистику о клиентах столбцом с явными значениями `secure_client_id`. В ней не нужно указывать внутренние банковские `client_id`. Можно заменить каждый `client_id` на его криптографический хэш, и записать хэш как `secure_client_id`. Хэш будет уникален - то что нужно нам, и при этом не раскрывает данных о личности клиента (его `client_id`) - то что нужно банку.\n",
    "- Для столбца `dob_years` лучше подходит имя `age`. Оно короче и интуитивно понятно.\n",
    "- Нужно передать эти два замечания специалистам, которые подготовили данные."
   ]
  },
  {
   "cell_type": "markdown",
   "id": "e84662c8",
   "metadata": {},
   "source": [
    "## Исправление данных"
   ]
  },
  {
   "cell_type": "code",
   "execution_count": 6,
   "id": "93dbd125",
   "metadata": {},
   "outputs": [],
   "source": [
    "# создаём удобную функцию для вывода количества и доли значений\n",
    "def print_count(column, value, df=data):\n",
    "    count = df[df[column] == value][column].count()\n",
    "    print(f'{value}: {count}, {count / len(df.index):.02%}')"
   ]
  },
  {
   "cell_type": "markdown",
   "id": "c338d671",
   "metadata": {},
   "source": [
    "### Исправление аномалий. <a id=\"check_for_anomalies\"></a>"
   ]
  },
  {
   "cell_type": "markdown",
   "id": "062df39e",
   "metadata": {},
   "source": [
    "Считаю правильным начать с обзора значений, и поиска аномалий.\n",
    "\n",
    "Заполнять пропуски нужно на основе надёжных, проверенных, реалистичных данных. А значит, сперва нужно проверить заполненные данные, и избавиться от аномалий."
   ]
  },
  {
   "cell_type": "markdown",
   "id": "e42b03d5",
   "metadata": {},
   "source": [
    "#### Аномалии в  `children`"
   ]
  },
  {
   "cell_type": "code",
   "execution_count": 7,
   "id": "348309d9",
   "metadata": {},
   "outputs": [
    {
     "data": {
      "text/plain": [
       "array([-1,  0,  1,  2,  3,  4,  5, 20])"
      ]
     },
     "execution_count": 7,
     "metadata": {},
     "output_type": "execute_result"
    }
   ],
   "source": [
    "children_uniques = data['children'].sort_values().unique()\n",
    "children_uniques"
   ]
  },
  {
   "cell_type": "markdown",
   "id": "2eb8d42c",
   "metadata": {},
   "source": [
    "Как величины распределяются?"
   ]
  },
  {
   "cell_type": "code",
   "execution_count": 8,
   "id": "72b5feb7",
   "metadata": {
    "scrolled": true
   },
   "outputs": [
    {
     "name": "stdout",
     "output_type": "stream",
     "text": [
      "-1: 47, 0.22%\n",
      "0: 14149, 65.73%\n",
      "1: 4818, 22.38%\n",
      "2: 2055, 9.55%\n",
      "3: 330, 1.53%\n",
      "4: 41, 0.19%\n",
      "5: 9, 0.04%\n",
      "20: 76, 0.35%\n"
     ]
    }
   ],
   "source": [
    "for value in children_uniques:\n",
    "    print_count('children', value)"
   ]
  },
  {
   "cell_type": "markdown",
   "id": "e62fb931",
   "metadata": {},
   "source": [
    "Аномальные значения -1 и 20, встречаются десятки раз.\n",
    "\n",
    "Существуют предположения, что причина их появления - это ошибки ввода. Якобы -1 должно значить 1, а 20 должно значить 2. Это выглядит неубедительно. На любой клавиатуре знаки `-` и `1` не соседствуют. Также нет ни одного значения со знаком `-`, кроме `-1`, а ведь если это опечатки - могли были бы встречаться и значения -2, -3. То же касается `20` - его 76 случаев. И ни одного случая `10` или `30`.\n",
    "\n",
    "Причина данных аномалий не очевидна. Надёжных оснований для замены -1 на 1, и 20 на 2 нет.\n",
    "\n",
    "##### Поиск корреляции аномальных значений с значениями других столбцов\n",
    "Проверим, существует ли корреляция значения -1 с какими-либо данными."
   ]
  },
  {
   "cell_type": "code",
   "execution_count": 9,
   "id": "c938ca87",
   "metadata": {
    "scrolled": true
   },
   "outputs": [
    {
     "data": {
      "text/html": [
       "<div>\n",
       "<style scoped>\n",
       "    .dataframe tbody tr th:only-of-type {\n",
       "        vertical-align: middle;\n",
       "    }\n",
       "\n",
       "    .dataframe tbody tr th {\n",
       "        vertical-align: top;\n",
       "    }\n",
       "\n",
       "    .dataframe thead th {\n",
       "        text-align: right;\n",
       "    }\n",
       "</style>\n",
       "<table border=\"1\" class=\"dataframe\">\n",
       "  <thead>\n",
       "    <tr style=\"text-align: right;\">\n",
       "      <th></th>\n",
       "      <th>children</th>\n",
       "      <th>days_employed</th>\n",
       "      <th>age</th>\n",
       "      <th>education</th>\n",
       "      <th>education_id</th>\n",
       "      <th>family_status</th>\n",
       "      <th>family_status_id</th>\n",
       "      <th>gender</th>\n",
       "      <th>income_type</th>\n",
       "      <th>debt</th>\n",
       "      <th>total_income</th>\n",
       "      <th>purpose</th>\n",
       "    </tr>\n",
       "  </thead>\n",
       "  <tbody>\n",
       "    <tr>\n",
       "      <th>291</th>\n",
       "      <td>-1</td>\n",
       "      <td>-4417.703588</td>\n",
       "      <td>46</td>\n",
       "      <td>среднее</td>\n",
       "      <td>1</td>\n",
       "      <td>гражданский брак</td>\n",
       "      <td>1</td>\n",
       "      <td>F</td>\n",
       "      <td>сотрудник</td>\n",
       "      <td>0</td>\n",
       "      <td>102816.346412</td>\n",
       "      <td>профильное образование</td>\n",
       "    </tr>\n",
       "    <tr>\n",
       "      <th>705</th>\n",
       "      <td>-1</td>\n",
       "      <td>-902.084528</td>\n",
       "      <td>50</td>\n",
       "      <td>среднее</td>\n",
       "      <td>1</td>\n",
       "      <td>женат / замужем</td>\n",
       "      <td>0</td>\n",
       "      <td>F</td>\n",
       "      <td>госслужащий</td>\n",
       "      <td>0</td>\n",
       "      <td>137882.899271</td>\n",
       "      <td>приобретение автомобиля</td>\n",
       "    </tr>\n",
       "    <tr>\n",
       "      <th>742</th>\n",
       "      <td>-1</td>\n",
       "      <td>-3174.456205</td>\n",
       "      <td>57</td>\n",
       "      <td>среднее</td>\n",
       "      <td>1</td>\n",
       "      <td>женат / замужем</td>\n",
       "      <td>0</td>\n",
       "      <td>F</td>\n",
       "      <td>сотрудник</td>\n",
       "      <td>0</td>\n",
       "      <td>64268.044444</td>\n",
       "      <td>дополнительное образование</td>\n",
       "    </tr>\n",
       "    <tr>\n",
       "      <th>800</th>\n",
       "      <td>-1</td>\n",
       "      <td>349987.852217</td>\n",
       "      <td>54</td>\n",
       "      <td>среднее</td>\n",
       "      <td>1</td>\n",
       "      <td>Не женат / не замужем</td>\n",
       "      <td>4</td>\n",
       "      <td>F</td>\n",
       "      <td>пенсионер</td>\n",
       "      <td>0</td>\n",
       "      <td>86293.724153</td>\n",
       "      <td>дополнительное образование</td>\n",
       "    </tr>\n",
       "    <tr>\n",
       "      <th>941</th>\n",
       "      <td>-1</td>\n",
       "      <td>NaN</td>\n",
       "      <td>57</td>\n",
       "      <td>Среднее</td>\n",
       "      <td>1</td>\n",
       "      <td>женат / замужем</td>\n",
       "      <td>0</td>\n",
       "      <td>F</td>\n",
       "      <td>пенсионер</td>\n",
       "      <td>0</td>\n",
       "      <td>NaN</td>\n",
       "      <td>на покупку своего автомобиля</td>\n",
       "    </tr>\n",
       "  </tbody>\n",
       "</table>\n",
       "</div>"
      ],
      "text/plain": [
       "     children  days_employed  age education  education_id  \\\n",
       "291        -1   -4417.703588   46   среднее             1   \n",
       "705        -1    -902.084528   50   среднее             1   \n",
       "742        -1   -3174.456205   57   среднее             1   \n",
       "800        -1  349987.852217   54   среднее             1   \n",
       "941        -1            NaN   57   Среднее             1   \n",
       "\n",
       "             family_status  family_status_id gender  income_type  debt  \\\n",
       "291       гражданский брак                 1      F    сотрудник     0   \n",
       "705        женат / замужем                 0      F  госслужащий     0   \n",
       "742        женат / замужем                 0      F    сотрудник     0   \n",
       "800  Не женат / не замужем                 4      F    пенсионер     0   \n",
       "941        женат / замужем                 0      F    пенсионер     0   \n",
       "\n",
       "      total_income                       purpose  \n",
       "291  102816.346412        профильное образование  \n",
       "705  137882.899271       приобретение автомобиля  \n",
       "742   64268.044444    дополнительное образование  \n",
       "800   86293.724153    дополнительное образование  \n",
       "941            NaN  на покупку своего автомобиля  "
      ]
     },
     "execution_count": 9,
     "metadata": {},
     "output_type": "execute_result"
    }
   ],
   "source": [
    "data[data['children'] == -1].head()"
   ]
  },
  {
   "cell_type": "markdown",
   "id": "be81fff1",
   "metadata": {},
   "source": [
    "У кого из них `education_id` не равен `1`?"
   ]
  },
  {
   "cell_type": "code",
   "execution_count": 10,
   "id": "97d901ec",
   "metadata": {
    "scrolled": true
   },
   "outputs": [
    {
     "data": {
      "text/html": [
       "<div>\n",
       "<style scoped>\n",
       "    .dataframe tbody tr th:only-of-type {\n",
       "        vertical-align: middle;\n",
       "    }\n",
       "\n",
       "    .dataframe tbody tr th {\n",
       "        vertical-align: top;\n",
       "    }\n",
       "\n",
       "    .dataframe thead th {\n",
       "        text-align: right;\n",
       "    }\n",
       "</style>\n",
       "<table border=\"1\" class=\"dataframe\">\n",
       "  <thead>\n",
       "    <tr style=\"text-align: right;\">\n",
       "      <th></th>\n",
       "      <th>children</th>\n",
       "      <th>days_employed</th>\n",
       "      <th>age</th>\n",
       "      <th>education</th>\n",
       "      <th>education_id</th>\n",
       "      <th>family_status</th>\n",
       "      <th>family_status_id</th>\n",
       "      <th>gender</th>\n",
       "      <th>income_type</th>\n",
       "      <th>debt</th>\n",
       "      <th>total_income</th>\n",
       "      <th>purpose</th>\n",
       "    </tr>\n",
       "  </thead>\n",
       "  <tbody>\n",
       "    <tr>\n",
       "      <th>6013</th>\n",
       "      <td>-1</td>\n",
       "      <td>-1361.258696</td>\n",
       "      <td>46</td>\n",
       "      <td>высшее</td>\n",
       "      <td>0</td>\n",
       "      <td>женат / замужем</td>\n",
       "      <td>0</td>\n",
       "      <td>F</td>\n",
       "      <td>сотрудник</td>\n",
       "      <td>0</td>\n",
       "      <td>143008.454914</td>\n",
       "      <td>строительство собственной недвижимости</td>\n",
       "    </tr>\n",
       "    <tr>\n",
       "      <th>8229</th>\n",
       "      <td>-1</td>\n",
       "      <td>-1803.441074</td>\n",
       "      <td>54</td>\n",
       "      <td>высшее</td>\n",
       "      <td>0</td>\n",
       "      <td>женат / замужем</td>\n",
       "      <td>0</td>\n",
       "      <td>F</td>\n",
       "      <td>компаньон</td>\n",
       "      <td>0</td>\n",
       "      <td>138809.082930</td>\n",
       "      <td>покупка недвижимости</td>\n",
       "    </tr>\n",
       "    <tr>\n",
       "      <th>9565</th>\n",
       "      <td>-1</td>\n",
       "      <td>-2896.629686</td>\n",
       "      <td>34</td>\n",
       "      <td>высшее</td>\n",
       "      <td>0</td>\n",
       "      <td>женат / замужем</td>\n",
       "      <td>0</td>\n",
       "      <td>M</td>\n",
       "      <td>сотрудник</td>\n",
       "      <td>0</td>\n",
       "      <td>126754.656529</td>\n",
       "      <td>операции с недвижимостью</td>\n",
       "    </tr>\n",
       "    <tr>\n",
       "      <th>9574</th>\n",
       "      <td>-1</td>\n",
       "      <td>-2710.419901</td>\n",
       "      <td>28</td>\n",
       "      <td>высшее</td>\n",
       "      <td>0</td>\n",
       "      <td>женат / замужем</td>\n",
       "      <td>0</td>\n",
       "      <td>M</td>\n",
       "      <td>госслужащий</td>\n",
       "      <td>0</td>\n",
       "      <td>303137.161001</td>\n",
       "      <td>получение дополнительного образования</td>\n",
       "    </tr>\n",
       "    <tr>\n",
       "      <th>10365</th>\n",
       "      <td>-1</td>\n",
       "      <td>345774.125957</td>\n",
       "      <td>63</td>\n",
       "      <td>ВЫСШЕЕ</td>\n",
       "      <td>0</td>\n",
       "      <td>вдовец / вдова</td>\n",
       "      <td>2</td>\n",
       "      <td>F</td>\n",
       "      <td>пенсионер</td>\n",
       "      <td>0</td>\n",
       "      <td>170762.751325</td>\n",
       "      <td>строительство жилой недвижимости</td>\n",
       "    </tr>\n",
       "  </tbody>\n",
       "</table>\n",
       "</div>"
      ],
      "text/plain": [
       "       children  days_employed  age education  education_id    family_status  \\\n",
       "6013         -1   -1361.258696   46    высшее             0  женат / замужем   \n",
       "8229         -1   -1803.441074   54    высшее             0  женат / замужем   \n",
       "9565         -1   -2896.629686   34    высшее             0  женат / замужем   \n",
       "9574         -1   -2710.419901   28    высшее             0  женат / замужем   \n",
       "10365        -1  345774.125957   63    ВЫСШЕЕ             0   вдовец / вдова   \n",
       "\n",
       "       family_status_id gender  income_type  debt   total_income  \\\n",
       "6013                  0      F    сотрудник     0  143008.454914   \n",
       "8229                  0      F    компаньон     0  138809.082930   \n",
       "9565                  0      M    сотрудник     0  126754.656529   \n",
       "9574                  0      M  госслужащий     0  303137.161001   \n",
       "10365                 2      F    пенсионер     0  170762.751325   \n",
       "\n",
       "                                      purpose  \n",
       "6013   строительство собственной недвижимости  \n",
       "8229                     покупка недвижимости  \n",
       "9565                 операции с недвижимостью  \n",
       "9574    получение дополнительного образования  \n",
       "10365        строительство жилой недвижимости  "
      ]
     },
     "execution_count": 10,
     "metadata": {},
     "output_type": "execute_result"
    }
   ],
   "source": [
    "data[(data['children'] == -1) & (data['education_id'] != 1)].head()"
   ]
  },
  {
   "cell_type": "markdown",
   "id": "c315c7e4",
   "metadata": {},
   "source": [
    "Корреляции с `education_id` не видно.\n",
    "\n",
    "А корреляция с `debt` равному `0`?"
   ]
  },
  {
   "cell_type": "code",
   "execution_count": 11,
   "id": "81e838ba",
   "metadata": {
    "scrolled": false
   },
   "outputs": [
    {
     "data": {
      "text/html": [
       "<div>\n",
       "<style scoped>\n",
       "    .dataframe tbody tr th:only-of-type {\n",
       "        vertical-align: middle;\n",
       "    }\n",
       "\n",
       "    .dataframe tbody tr th {\n",
       "        vertical-align: top;\n",
       "    }\n",
       "\n",
       "    .dataframe thead th {\n",
       "        text-align: right;\n",
       "    }\n",
       "</style>\n",
       "<table border=\"1\" class=\"dataframe\">\n",
       "  <thead>\n",
       "    <tr style=\"text-align: right;\">\n",
       "      <th></th>\n",
       "      <th>children</th>\n",
       "      <th>days_employed</th>\n",
       "      <th>age</th>\n",
       "      <th>education</th>\n",
       "      <th>education_id</th>\n",
       "      <th>family_status</th>\n",
       "      <th>family_status_id</th>\n",
       "      <th>gender</th>\n",
       "      <th>income_type</th>\n",
       "      <th>debt</th>\n",
       "      <th>total_income</th>\n",
       "      <th>purpose</th>\n",
       "    </tr>\n",
       "  </thead>\n",
       "  <tbody>\n",
       "    <tr>\n",
       "      <th>16129</th>\n",
       "      <td>-1</td>\n",
       "      <td>-457.86176</td>\n",
       "      <td>33</td>\n",
       "      <td>среднее</td>\n",
       "      <td>1</td>\n",
       "      <td>женат / замужем</td>\n",
       "      <td>0</td>\n",
       "      <td>F</td>\n",
       "      <td>сотрудник</td>\n",
       "      <td>1</td>\n",
       "      <td>149641.079451</td>\n",
       "      <td>автомобиль</td>\n",
       "    </tr>\n",
       "  </tbody>\n",
       "</table>\n",
       "</div>"
      ],
      "text/plain": [
       "       children  days_employed  age education  education_id    family_status  \\\n",
       "16129        -1     -457.86176   33   среднее             1  женат / замужем   \n",
       "\n",
       "       family_status_id gender income_type  debt   total_income     purpose  \n",
       "16129                 0      F   сотрудник     1  149641.079451  автомобиль  "
      ]
     },
     "execution_count": 11,
     "metadata": {},
     "output_type": "execute_result"
    }
   ],
   "source": [
    "data[(data['children'] == -1) & (data['debt'] != 0)].head()"
   ]
  },
  {
   "cell_type": "markdown",
   "id": "47c47000",
   "metadata": {},
   "source": [
    "Надёжная корреляция не найдена. Причина некорректных значений остаётся не ясной.\n",
    "\n",
    "Минус один ребёнок в реальности не встречается, 20 детей теоретически возможны, однако на фоне остальных значений тоже выглядят аномалией. Обработаем их так, как если бы эти значения были пропущены - заменим их на медианное значение по столбцу."
   ]
  },
  {
   "cell_type": "code",
   "execution_count": 12,
   "id": "6d7d6ed1",
   "metadata": {},
   "outputs": [
    {
     "data": {
      "text/plain": [
       "array([0, 1, 2, 3, 4, 5], dtype=int32)"
      ]
     },
     "execution_count": 12,
     "metadata": {},
     "output_type": "execute_result"
    }
   ],
   "source": [
    "data['children'].replace([-1, 20], data['children'].median(), inplace=True)\n",
    "\n",
    "# .replace() возвращает float, поэтому исправляем тип\n",
    "data['children'] = data['children'].astype('int32')\n",
    "\n",
    "# проверяем, какие теперь существуют значения кол-ва детей\n",
    "data['children'].sort_values().unique()"
   ]
  },
  {
   "cell_type": "markdown",
   "id": "d39ba600",
   "metadata": {},
   "source": [
    "**Итоги:**\n",
    "- Имеются 47 записей (0,22% от всех) с некорректным количеством детей `-1`, и 76 записей (0,35%) с некорректным количеством `20`.\n",
    "- Причина появления таких записей не ясна.\n",
    "- Как избежать: не принимать ввод менее 0.\n",
    "- Значения `-1` и `20` заменены на медианное."
   ]
  },
  {
   "cell_type": "markdown",
   "id": "b4b15868",
   "metadata": {},
   "source": [
    " #### Аномалии в  `age`"
   ]
  },
  {
   "cell_type": "code",
   "execution_count": 13,
   "id": "d129516a",
   "metadata": {},
   "outputs": [
    {
     "data": {
      "text/plain": [
       "array([ 0, 19, 20, 21, 22, 23, 24, 25, 26, 27, 28, 29, 30, 31, 32, 33, 34,\n",
       "       35, 36, 37, 38, 39, 40, 41, 42, 43, 44, 45, 46, 47, 48, 49, 50, 51,\n",
       "       52, 53, 54, 55, 56, 57, 58, 59, 60, 61, 62, 63, 64, 65, 66, 67, 68,\n",
       "       69, 70, 71, 72, 73, 74, 75])"
      ]
     },
     "execution_count": 13,
     "metadata": {},
     "output_type": "execute_result"
    }
   ],
   "source": [
    "data['age'].sort_values().unique()"
   ]
  },
  {
   "cell_type": "markdown",
   "id": "0dd5576f",
   "metadata": {},
   "source": [
    "Существуют клиенты с возрастом новорождённых! Сколько таких?"
   ]
  },
  {
   "cell_type": "code",
   "execution_count": 14,
   "id": "65945ff9",
   "metadata": {
    "scrolled": true
   },
   "outputs": [
    {
     "name": "stdout",
     "output_type": "stream",
     "text": [
      "0: 101, 0.47%\n"
     ]
    }
   ],
   "source": [
    "print_count('age', 0)"
   ]
  },
  {
   "cell_type": "markdown",
   "id": "85915063",
   "metadata": {},
   "source": [
    "Их мало. Кто они?"
   ]
  },
  {
   "cell_type": "code",
   "execution_count": 15,
   "id": "d0ef5df1",
   "metadata": {},
   "outputs": [
    {
     "data": {
      "text/html": [
       "<div>\n",
       "<style scoped>\n",
       "    .dataframe tbody tr th:only-of-type {\n",
       "        vertical-align: middle;\n",
       "    }\n",
       "\n",
       "    .dataframe tbody tr th {\n",
       "        vertical-align: top;\n",
       "    }\n",
       "\n",
       "    .dataframe thead th {\n",
       "        text-align: right;\n",
       "    }\n",
       "</style>\n",
       "<table border=\"1\" class=\"dataframe\">\n",
       "  <thead>\n",
       "    <tr style=\"text-align: right;\">\n",
       "      <th></th>\n",
       "      <th>children</th>\n",
       "      <th>days_employed</th>\n",
       "      <th>age</th>\n",
       "      <th>education</th>\n",
       "      <th>education_id</th>\n",
       "      <th>family_status</th>\n",
       "      <th>family_status_id</th>\n",
       "      <th>gender</th>\n",
       "      <th>income_type</th>\n",
       "      <th>debt</th>\n",
       "      <th>total_income</th>\n",
       "      <th>purpose</th>\n",
       "    </tr>\n",
       "  </thead>\n",
       "  <tbody>\n",
       "    <tr>\n",
       "      <th>18539</th>\n",
       "      <td>0</td>\n",
       "      <td>-4852.175654</td>\n",
       "      <td>0</td>\n",
       "      <td>Высшее</td>\n",
       "      <td>0</td>\n",
       "      <td>Не женат / не замужем</td>\n",
       "      <td>4</td>\n",
       "      <td>M</td>\n",
       "      <td>компаньон</td>\n",
       "      <td>0</td>\n",
       "      <td>254837.819494</td>\n",
       "      <td>покупка жилья</td>\n",
       "    </tr>\n",
       "    <tr>\n",
       "      <th>18732</th>\n",
       "      <td>2</td>\n",
       "      <td>-986.789230</td>\n",
       "      <td>0</td>\n",
       "      <td>высшее</td>\n",
       "      <td>0</td>\n",
       "      <td>гражданский брак</td>\n",
       "      <td>1</td>\n",
       "      <td>F</td>\n",
       "      <td>компаньон</td>\n",
       "      <td>0</td>\n",
       "      <td>287328.538328</td>\n",
       "      <td>образование</td>\n",
       "    </tr>\n",
       "    <tr>\n",
       "      <th>18851</th>\n",
       "      <td>0</td>\n",
       "      <td>-10637.001569</td>\n",
       "      <td>0</td>\n",
       "      <td>среднее</td>\n",
       "      <td>1</td>\n",
       "      <td>женат / замужем</td>\n",
       "      <td>0</td>\n",
       "      <td>F</td>\n",
       "      <td>госслужащий</td>\n",
       "      <td>0</td>\n",
       "      <td>136537.132625</td>\n",
       "      <td>дополнительное образование</td>\n",
       "    </tr>\n",
       "    <tr>\n",
       "      <th>19116</th>\n",
       "      <td>0</td>\n",
       "      <td>331558.550969</td>\n",
       "      <td>0</td>\n",
       "      <td>высшее</td>\n",
       "      <td>0</td>\n",
       "      <td>женат / замужем</td>\n",
       "      <td>0</td>\n",
       "      <td>F</td>\n",
       "      <td>пенсионер</td>\n",
       "      <td>0</td>\n",
       "      <td>91791.878400</td>\n",
       "      <td>покупка коммерческой недвижимости</td>\n",
       "    </tr>\n",
       "    <tr>\n",
       "      <th>19371</th>\n",
       "      <td>1</td>\n",
       "      <td>-2356.250615</td>\n",
       "      <td>0</td>\n",
       "      <td>высшее</td>\n",
       "      <td>0</td>\n",
       "      <td>женат / замужем</td>\n",
       "      <td>0</td>\n",
       "      <td>F</td>\n",
       "      <td>компаньон</td>\n",
       "      <td>0</td>\n",
       "      <td>77936.218285</td>\n",
       "      <td>автомобиль</td>\n",
       "    </tr>\n",
       "    <tr>\n",
       "      <th>19829</th>\n",
       "      <td>0</td>\n",
       "      <td>NaN</td>\n",
       "      <td>0</td>\n",
       "      <td>среднее</td>\n",
       "      <td>1</td>\n",
       "      <td>женат / замужем</td>\n",
       "      <td>0</td>\n",
       "      <td>F</td>\n",
       "      <td>сотрудник</td>\n",
       "      <td>0</td>\n",
       "      <td>NaN</td>\n",
       "      <td>жилье</td>\n",
       "    </tr>\n",
       "    <tr>\n",
       "      <th>20462</th>\n",
       "      <td>0</td>\n",
       "      <td>338734.868540</td>\n",
       "      <td>0</td>\n",
       "      <td>среднее</td>\n",
       "      <td>1</td>\n",
       "      <td>женат / замужем</td>\n",
       "      <td>0</td>\n",
       "      <td>F</td>\n",
       "      <td>пенсионер</td>\n",
       "      <td>0</td>\n",
       "      <td>259193.920299</td>\n",
       "      <td>покупка своего жилья</td>\n",
       "    </tr>\n",
       "    <tr>\n",
       "      <th>20577</th>\n",
       "      <td>0</td>\n",
       "      <td>331741.271455</td>\n",
       "      <td>0</td>\n",
       "      <td>среднее</td>\n",
       "      <td>1</td>\n",
       "      <td>Не женат / не замужем</td>\n",
       "      <td>4</td>\n",
       "      <td>F</td>\n",
       "      <td>пенсионер</td>\n",
       "      <td>0</td>\n",
       "      <td>129788.762899</td>\n",
       "      <td>недвижимость</td>\n",
       "    </tr>\n",
       "    <tr>\n",
       "      <th>21179</th>\n",
       "      <td>2</td>\n",
       "      <td>-108.967042</td>\n",
       "      <td>0</td>\n",
       "      <td>высшее</td>\n",
       "      <td>0</td>\n",
       "      <td>женат / замужем</td>\n",
       "      <td>0</td>\n",
       "      <td>M</td>\n",
       "      <td>компаньон</td>\n",
       "      <td>0</td>\n",
       "      <td>240702.007382</td>\n",
       "      <td>строительство жилой недвижимости</td>\n",
       "    </tr>\n",
       "    <tr>\n",
       "      <th>21313</th>\n",
       "      <td>0</td>\n",
       "      <td>-1268.487728</td>\n",
       "      <td>0</td>\n",
       "      <td>среднее</td>\n",
       "      <td>1</td>\n",
       "      <td>Не женат / не замужем</td>\n",
       "      <td>4</td>\n",
       "      <td>M</td>\n",
       "      <td>сотрудник</td>\n",
       "      <td>0</td>\n",
       "      <td>152419.184851</td>\n",
       "      <td>операции с жильем</td>\n",
       "    </tr>\n",
       "  </tbody>\n",
       "</table>\n",
       "</div>"
      ],
      "text/plain": [
       "       children  days_employed  age education  education_id  \\\n",
       "18539         0   -4852.175654    0    Высшее             0   \n",
       "18732         2    -986.789230    0    высшее             0   \n",
       "18851         0  -10637.001569    0   среднее             1   \n",
       "19116         0  331558.550969    0    высшее             0   \n",
       "19371         1   -2356.250615    0    высшее             0   \n",
       "19829         0            NaN    0   среднее             1   \n",
       "20462         0  338734.868540    0   среднее             1   \n",
       "20577         0  331741.271455    0   среднее             1   \n",
       "21179         2    -108.967042    0    высшее             0   \n",
       "21313         0   -1268.487728    0   среднее             1   \n",
       "\n",
       "               family_status  family_status_id gender  income_type  debt  \\\n",
       "18539  Не женат / не замужем                 4      M    компаньон     0   \n",
       "18732       гражданский брак                 1      F    компаньон     0   \n",
       "18851        женат / замужем                 0      F  госслужащий     0   \n",
       "19116        женат / замужем                 0      F    пенсионер     0   \n",
       "19371        женат / замужем                 0      F    компаньон     0   \n",
       "19829        женат / замужем                 0      F    сотрудник     0   \n",
       "20462        женат / замужем                 0      F    пенсионер     0   \n",
       "20577  Не женат / не замужем                 4      F    пенсионер     0   \n",
       "21179        женат / замужем                 0      M    компаньон     0   \n",
       "21313  Не женат / не замужем                 4      M    сотрудник     0   \n",
       "\n",
       "        total_income                            purpose  \n",
       "18539  254837.819494                      покупка жилья  \n",
       "18732  287328.538328                        образование  \n",
       "18851  136537.132625         дополнительное образование  \n",
       "19116   91791.878400  покупка коммерческой недвижимости  \n",
       "19371   77936.218285                         автомобиль  \n",
       "19829            NaN                              жилье  \n",
       "20462  259193.920299               покупка своего жилья  \n",
       "20577  129788.762899                       недвижимость  \n",
       "21179  240702.007382   строительство жилой недвижимости  \n",
       "21313  152419.184851                  операции с жильем  "
      ]
     },
     "execution_count": 15,
     "metadata": {},
     "output_type": "execute_result"
    }
   ],
   "source": [
    "data[data['age'] == 0].tail(10)"
   ]
  },
  {
   "cell_type": "markdown",
   "id": "2eb52912",
   "metadata": {},
   "source": [
    "Таких людей мало, среди них есть состоящие в браке, трудящиеся, пенсионеры."
   ]
  },
  {
   "cell_type": "markdown",
   "id": "0a1bfcca",
   "metadata": {},
   "source": [
    "А как много доходов приходится на них?"
   ]
  },
  {
   "cell_type": "code",
   "execution_count": 16,
   "id": "530f1574",
   "metadata": {},
   "outputs": [
    {
     "name": "stdout",
     "output_type": "stream",
     "text": [
      "Доля в доходе: 0.44%\n"
     ]
    }
   ],
   "source": [
    "age_0_income = data[data['age'] == 0]['total_income'].sum()\n",
    "age_all_income = data['total_income'].sum()\n",
    "print(f'Доля в доходе: {(age_0_income / age_all_income):.02%}')"
   ]
  },
  {
   "cell_type": "markdown",
   "id": "5c6d222d",
   "metadata": {},
   "source": [
    "Это близко к доле 0.45% - доле от числа клиентов. Будем полагать, что это типичные клиенты. Заменяем на медианное значение возраста."
   ]
  },
  {
   "cell_type": "code",
   "execution_count": 17,
   "id": "1df0407c",
   "metadata": {},
   "outputs": [
    {
     "data": {
      "text/plain": [
       "array([19, 20, 21, 22, 23, 24, 25, 26, 27, 28, 29, 30, 31, 32, 33, 34, 35,\n",
       "       36, 37, 38, 39, 40, 41, 42, 43, 44, 45, 46, 47, 48, 49, 50, 51, 52,\n",
       "       53, 54, 55, 56, 57, 58, 59, 60, 61, 62, 63, 64, 65, 66, 67, 68, 69,\n",
       "       70, 71, 72, 73, 74, 75], dtype=int32)"
      ]
     },
     "execution_count": 17,
     "metadata": {},
     "output_type": "execute_result"
    }
   ],
   "source": [
    "data['age'].replace(0, data['age'].median(), inplace=True)\n",
    "\n",
    "# .replace() возвращает float, поэтому исправляем тип\n",
    "data['age'] = data['age'].astype('int32')\n",
    "\n",
    "# проверяем, какие теперь существуют значения кол-ва детей\n",
    "data['age'].sort_values().unique()"
   ]
  },
  {
   "cell_type": "markdown",
   "id": "f36b5937",
   "metadata": {},
   "source": [
    "**Итоги:**\n",
    "- Имеются 101 запись (0,47% от всех) с некорректным возрастом `0`.\n",
    "- Причина появления таких записей не ясна. Возможные причины:\n",
    "  - \"не пропечаталась\" первая цифра в \"круглом\" значении возраста (0 вместо 20, 30, ..., 70)\n",
    "  - клиенты хотели скрыть возраст,\n",
    "  - анкета заполнялась не на себя, и возраст оставался неизвестен.\n",
    "- Как избежать: не принимать ввод менее 1.\n",
    "- Значение `0` нет смысла использовать при анализе, оно заменено на медианное."
   ]
  },
  {
   "cell_type": "markdown",
   "id": "510905f2",
   "metadata": {},
   "source": [
    "#### Анализ аномалий в `days_employed`"
   ]
  },
  {
   "cell_type": "markdown",
   "id": "280c9468",
   "metadata": {},
   "source": [
    "Те значения, которые мы видели в этом поле - отрицательные. Какие они бывают во всей серии?"
   ]
  },
  {
   "cell_type": "code",
   "execution_count": 18,
   "id": "3281f6f8",
   "metadata": {},
   "outputs": [
    {
     "name": "stdout",
     "output_type": "stream",
     "text": [
      "Положительные значения:\n",
      "Количество: 3445, 16.00%\n",
      "Диапазон: 328729 ... 401755\n",
      "Среднее: 365004\n",
      "Медианное: 365213\n",
      "\n",
      "Отрицательные значения:\n",
      "Количество: 15906, 73.90%\n",
      "Диапазон: -24 ... -18389\n",
      "Среднее: -2353\n",
      "Медианное: -1630\n",
      "\n",
      "Нулевые значения:\n",
      "Количество: 0\n"
     ]
    }
   ],
   "source": [
    "positive_days = data[data['days_employed'] > 0 ]['days_employed']\n",
    "zero_days = data[data['days_employed'] == 0 ]['days_employed']\n",
    "negative_days = data[data['days_employed'] < 0 ]['days_employed']\n",
    "\n",
    "print('Положительные значения:')\n",
    "print(f'Количество: {positive_days.count()}, {positive_days.count() / len(data.index):.02%}')\n",
    "print(f'Диапазон: {positive_days.min():.0f} ... {positive_days.max():.0f}')\n",
    "print(f'Среднее: {positive_days.mean():.0f}')\n",
    "print(f'Медианное: {positive_days.median():.0f}')\n",
    "print()\n",
    "print('Отрицательные значения:')\n",
    "print(f'Количество: {negative_days.count()}, {negative_days.count() / len(data.index):.02%}')\n",
    "print(f'Диапазон: {negative_days.max():.0f} ... {negative_days.min():.0f}')\n",
    "print(f'Среднее: {negative_days.mean():.0f}')\n",
    "print(f'Медианное: {negative_days.median():.0f}')\n",
    "print()\n",
    "print('Нулевые значения:')\n",
    "print('Количество:', zero_days.count())"
   ]
  },
  {
   "cell_type": "markdown",
   "id": "7a8bd7aa",
   "metadata": {},
   "source": [
    "Мы наблюдаем две разные группы величин: негативные (менее нуля) и позитивные (более нуля).\n",
    "\n",
    "##### Анализ двух групп аномалий\n",
    "\n",
    "Отрицательного количества дней в стаже быть не должно. Имеем очевидную аномалию. К тому же, таких значений 73,9%, не исправлять их нельзя.\n",
    "\n",
    "Однако положительные величины тоже аномальны - сроки стажа, которые они описывают, составляют около 1000 лет, если считать, что указано кол-во дней. Их 16% от общего числа.\n",
    "\n",
    "Нормальных значений нет ни одного.\n",
    "\n",
    "Будем анализировать две группы аномалий по отдельности. Назовём эти группы \"негативной\" и \"позитивной\", по знаку перед цифрами.\n",
    "\n",
    "Они разные по знаку и по модулям. Есть ли похожие черты в эти группах?"
   ]
  },
  {
   "cell_type": "code",
   "execution_count": 19,
   "id": "173b5b03",
   "metadata": {},
   "outputs": [
    {
     "name": "stdout",
     "output_type": "stream",
     "text": [
      "Отношения модулей \"позитивная\"/\"негативная\":\n",
      "Максимумы: 21.84765321824669\n",
      "Средние: 155.12190332098564\n",
      "Медианные: 224.05457906067704\n",
      "Минимумы: 13616.672796325116\n"
     ]
    }
   ],
   "source": [
    "print('Отношения модулей \"позитивная\"/\"негативная\":')\n",
    "print('Максимумы:', positive_days.max() / abs(negative_days.min()))\n",
    "print('Средние:', positive_days.mean() / abs(negative_days.mean()))\n",
    "print('Медианные:', positive_days.median() / abs(negative_days.median()))\n",
    "print('Минимумы:', positive_days.min() / abs(negative_days.max()))"
   ]
  },
  {
   "cell_type": "markdown",
   "id": "b474f8b0",
   "metadata": {},
   "source": [
    "Группа позитивных величин более сжатая, негативных - более растянутая. Посчитаем среднюю плотность распределения величин."
   ]
  },
  {
   "cell_type": "code",
   "execution_count": 20,
   "id": "872a5924",
   "metadata": {},
   "outputs": [
    {
     "name": "stdout",
     "output_type": "stream",
     "text": [
      "Плотности:\n",
      "Позитивных: 21.197875143922136\n",
      "Негативных: 1.154583695921533\n"
     ]
    }
   ],
   "source": [
    "print(\"Плотности:\")\n",
    "print(\"Позитивных:\", (positive_days.max() - positive_days.min()) / positive_days.count())\n",
    "print(\"Негативных:\", (negative_days.max() - negative_days.min()) / negative_days.count())"
   ]
  },
  {
   "cell_type": "markdown",
   "id": "9b0da6aa",
   "metadata": {},
   "source": [
    "В негативной группе среднее различие между значениями, соседними по величине - 1.15. Это кажется логичным, если доверится тому, что `days_employed` должны исчисляться именно днями. Наши негативные величины различаются примерно на 1 день. Логично.\n",
    "\n",
    "В позитивной группе среднее различие между значениями, соседними по величине - 21.2. Если предположить, что и в этой группе плотность примерно 1 день на значение, то 21.2 близко к 24 - значению часов в 1 дне."
   ]
  },
  {
   "cell_type": "markdown",
   "id": "34d3ae7d",
   "metadata": {},
   "source": [
    "##### Проверка предположений: негативную группу достаточно умножить на -1; единица измерения стажа в \"позитивной\" группе - час.\n",
    "\n",
    "Надо проверить, будут ли \"негативные\" величины реалистичными, если взять их модули.\n",
    "\n",
    "И проверить, будут ли \"позитивные\" величины реалистичными, если уменьшить их по какому-либо правилу.\n",
    "\n",
    "Предположим, в позитивной группе указаны не дни, а часы трудового стажа, из расчёта 24 часа за 1 день. Проверим правдоподобность предположения."
   ]
  },
  {
   "cell_type": "code",
   "execution_count": 21,
   "id": "168a9917",
   "metadata": {},
   "outputs": [
    {
     "name": "stdout",
     "output_type": "stream",
     "text": [
      "Негативная группа:\n",
      "Самый скромный стаж, лет: 0.06609799923469822\n",
      "Самый крупный стаж, лет: 50.34757940140287\n",
      "\n",
      "Позитивная группа:\n",
      "Самый скромный стаж, лет: 37.50145116960974\n",
      "Самый крупный стаж, лет: 45.83235229749959\n"
     ]
    }
   ],
   "source": [
    "# это точное среднее количество суток в году в григорианском (общепринятом) календаре\n",
    "gregorian_year = 365.24\n",
    "\n",
    "print('Негативная группа:')\n",
    "print('Самый скромный стаж, лет:', abs(negative_days.max()) / gregorian_year)\n",
    "print('Самый крупный стаж, лет:', abs(negative_days.min()) / gregorian_year)\n",
    "print()\n",
    "print('Позитивная группа:')\n",
    "print('Самый скромный стаж, лет:', positive_days.min() / gregorian_year / 24)\n",
    "print('Самый крупный стаж, лет:', positive_days.max() / gregorian_year / 24)"
   ]
  },
  {
   "cell_type": "markdown",
   "id": "bd37e586",
   "metadata": {},
   "source": [
    "Теперь позитивная группа укладывается в разумные величины. Однако почему-то минимальный стаж из этой группы - 37 лет. Надо проверить соответствие возраста и стажа в обеих группах."
   ]
  },
  {
   "cell_type": "code",
   "execution_count": 22,
   "id": "20b996d2",
   "metadata": {},
   "outputs": [
    {
     "name": "stdout",
     "output_type": "stream",
     "text": [
      "Негативная группа:\n",
      "Возраст минимального стажа: 31\n",
      "Возраст максимального стажа: 61\n",
      "\n",
      "Позитивная группа:\n",
      "Возраст минимального стажа: 72\n",
      "Возраст максимального стажа: 56\n"
     ]
    }
   ],
   "source": [
    "print('Негативная группа:')\n",
    "print('Возраст минимального стажа:', data[data['days_employed'] == negative_days.max()]['age'].values[0])\n",
    "print('Возраст максимального стажа:', data[data['days_employed'] == negative_days.min()]['age'].values[0])\n",
    "print()\n",
    "print('Позитивная группа:')\n",
    "print('Возраст минимального стажа:', data[data['days_employed'] == positive_days.min()]['age'].values[0])\n",
    "print('Возраст максимального стажа:', data[data['days_employed'] == positive_days.max()]['age'].values[0])"
   ]
  },
  {
   "cell_type": "markdown",
   "id": "bb37bb25",
   "metadata": {},
   "source": [
    "Итак, в позитивной группе по нашим правилам самый крупный стаж составляет почти 46 лет, и принадлежит персоне возрастом 56 лет. Возможно, человек трудился с 10-летнего возраста. Это всё ещё выглядит необычно. Но не невозможно.\n",
    "\n",
    "Следовало бы проверить все случаи: нет ли такого, что рассчитанный нами стаж больше чем возраст?\n",
    "\n",
    "Создадим столбец `employed_years`, заполним его величинами, рассчитанными из `employed_days`:"
   ]
  },
  {
   "cell_type": "code",
   "execution_count": 23,
   "id": "9310a0e5",
   "metadata": {
    "scrolled": true
   },
   "outputs": [
    {
     "name": "stdout",
     "output_type": "stream",
     "text": [
      "Минимум лет без труда: -18.42252212894803\n",
      "Медиана лет без труда: 29.367771137857403\n"
     ]
    }
   ],
   "source": [
    "def convert_employed_to_years(number):\n",
    "    if number < 0:\n",
    "        return -number / gregorian_year\n",
    "    return number / 24 / gregorian_year\n",
    "\n",
    "data['years_employed'] = data['days_employed'].apply(convert_employed_to_years)\n",
    "data['years_unemployed'] = data['age'] - data['years_employed']\n",
    "print('Минимум лет без труда:', data['years_unemployed'].min())\n",
    "print('Медиана лет без труда:', data['years_unemployed'].median())"
   ]
  },
  {
   "cell_type": "markdown",
   "id": "f7dcd56d",
   "metadata": {},
   "source": [
    "У нас обнаружились клиенты, стаж которых больше, чем их возраст. Так не бывает. Посмотрим, какие данные о них."
   ]
  },
  {
   "cell_type": "code",
   "execution_count": 24,
   "id": "399ce36c",
   "metadata": {},
   "outputs": [
    {
     "data": {
      "text/html": [
       "<div>\n",
       "<style scoped>\n",
       "    .dataframe tbody tr th:only-of-type {\n",
       "        vertical-align: middle;\n",
       "    }\n",
       "\n",
       "    .dataframe tbody tr th {\n",
       "        vertical-align: top;\n",
       "    }\n",
       "\n",
       "    .dataframe thead th {\n",
       "        text-align: right;\n",
       "    }\n",
       "</style>\n",
       "<table border=\"1\" class=\"dataframe\">\n",
       "  <thead>\n",
       "    <tr style=\"text-align: right;\">\n",
       "      <th></th>\n",
       "      <th>children</th>\n",
       "      <th>days_employed</th>\n",
       "      <th>age</th>\n",
       "      <th>education</th>\n",
       "      <th>education_id</th>\n",
       "      <th>family_status</th>\n",
       "      <th>family_status_id</th>\n",
       "      <th>gender</th>\n",
       "      <th>income_type</th>\n",
       "      <th>debt</th>\n",
       "      <th>total_income</th>\n",
       "      <th>purpose</th>\n",
       "      <th>years_employed</th>\n",
       "      <th>years_unemployed</th>\n",
       "    </tr>\n",
       "  </thead>\n",
       "  <tbody>\n",
       "    <tr>\n",
       "      <th>157</th>\n",
       "      <td>0</td>\n",
       "      <td>348414.028009</td>\n",
       "      <td>38</td>\n",
       "      <td>среднее</td>\n",
       "      <td>1</td>\n",
       "      <td>женат / замужем</td>\n",
       "      <td>0</td>\n",
       "      <td>F</td>\n",
       "      <td>пенсионер</td>\n",
       "      <td>1</td>\n",
       "      <td>113560.650035</td>\n",
       "      <td>сделка с автомобилем</td>\n",
       "      <td>39.747156</td>\n",
       "      <td>-1.747156</td>\n",
       "    </tr>\n",
       "    <tr>\n",
       "      <th>578</th>\n",
       "      <td>0</td>\n",
       "      <td>397856.565013</td>\n",
       "      <td>42</td>\n",
       "      <td>среднее</td>\n",
       "      <td>1</td>\n",
       "      <td>женат / замужем</td>\n",
       "      <td>0</td>\n",
       "      <td>F</td>\n",
       "      <td>пенсионер</td>\n",
       "      <td>0</td>\n",
       "      <td>97620.687042</td>\n",
       "      <td>строительство собственной недвижимости</td>\n",
       "      <td>45.387572</td>\n",
       "      <td>-3.387572</td>\n",
       "    </tr>\n",
       "    <tr>\n",
       "      <th>751</th>\n",
       "      <td>0</td>\n",
       "      <td>390755.464054</td>\n",
       "      <td>41</td>\n",
       "      <td>среднее</td>\n",
       "      <td>1</td>\n",
       "      <td>женат / замужем</td>\n",
       "      <td>0</td>\n",
       "      <td>M</td>\n",
       "      <td>пенсионер</td>\n",
       "      <td>0</td>\n",
       "      <td>151898.693438</td>\n",
       "      <td>операции со своей недвижимостью</td>\n",
       "      <td>44.577477</td>\n",
       "      <td>-3.577477</td>\n",
       "    </tr>\n",
       "    <tr>\n",
       "      <th>776</th>\n",
       "      <td>0</td>\n",
       "      <td>365336.560325</td>\n",
       "      <td>38</td>\n",
       "      <td>среднее</td>\n",
       "      <td>1</td>\n",
       "      <td>женат / замужем</td>\n",
       "      <td>0</td>\n",
       "      <td>F</td>\n",
       "      <td>пенсионер</td>\n",
       "      <td>0</td>\n",
       "      <td>73859.425084</td>\n",
       "      <td>покупка недвижимости</td>\n",
       "      <td>41.677682</td>\n",
       "      <td>-3.677682</td>\n",
       "    </tr>\n",
       "    <tr>\n",
       "      <th>1175</th>\n",
       "      <td>0</td>\n",
       "      <td>370879.508002</td>\n",
       "      <td>42</td>\n",
       "      <td>среднее</td>\n",
       "      <td>1</td>\n",
       "      <td>женат / замужем</td>\n",
       "      <td>0</td>\n",
       "      <td>F</td>\n",
       "      <td>пенсионер</td>\n",
       "      <td>0</td>\n",
       "      <td>313949.845188</td>\n",
       "      <td>получение дополнительного образования</td>\n",
       "      <td>42.310023</td>\n",
       "      <td>-0.310023</td>\n",
       "    </tr>\n",
       "    <tr>\n",
       "      <th>1242</th>\n",
       "      <td>0</td>\n",
       "      <td>334764.259831</td>\n",
       "      <td>22</td>\n",
       "      <td>Среднее</td>\n",
       "      <td>1</td>\n",
       "      <td>Не женат / не замужем</td>\n",
       "      <td>4</td>\n",
       "      <td>F</td>\n",
       "      <td>пенсионер</td>\n",
       "      <td>0</td>\n",
       "      <td>89368.600062</td>\n",
       "      <td>получение высшего образования</td>\n",
       "      <td>38.189987</td>\n",
       "      <td>-16.189987</td>\n",
       "    </tr>\n",
       "    <tr>\n",
       "      <th>1383</th>\n",
       "      <td>0</td>\n",
       "      <td>353802.811675</td>\n",
       "      <td>37</td>\n",
       "      <td>среднее</td>\n",
       "      <td>1</td>\n",
       "      <td>вдовец / вдова</td>\n",
       "      <td>2</td>\n",
       "      <td>F</td>\n",
       "      <td>пенсионер</td>\n",
       "      <td>0</td>\n",
       "      <td>216452.226085</td>\n",
       "      <td>строительство недвижимости</td>\n",
       "      <td>40.361909</td>\n",
       "      <td>-3.361909</td>\n",
       "    </tr>\n",
       "    <tr>\n",
       "      <th>1446</th>\n",
       "      <td>0</td>\n",
       "      <td>338939.641634</td>\n",
       "      <td>37</td>\n",
       "      <td>СРЕДНЕЕ</td>\n",
       "      <td>1</td>\n",
       "      <td>гражданский брак</td>\n",
       "      <td>1</td>\n",
       "      <td>M</td>\n",
       "      <td>пенсионер</td>\n",
       "      <td>0</td>\n",
       "      <td>148657.128499</td>\n",
       "      <td>свадьба</td>\n",
       "      <td>38.666315</td>\n",
       "      <td>-1.666315</td>\n",
       "    </tr>\n",
       "    <tr>\n",
       "      <th>1637</th>\n",
       "      <td>0</td>\n",
       "      <td>399260.448516</td>\n",
       "      <td>39</td>\n",
       "      <td>среднее</td>\n",
       "      <td>1</td>\n",
       "      <td>женат / замужем</td>\n",
       "      <td>0</td>\n",
       "      <td>M</td>\n",
       "      <td>пенсионер</td>\n",
       "      <td>0</td>\n",
       "      <td>211513.978152</td>\n",
       "      <td>операции с недвижимостью</td>\n",
       "      <td>45.547728</td>\n",
       "      <td>-6.547728</td>\n",
       "    </tr>\n",
       "    <tr>\n",
       "      <th>1752</th>\n",
       "      <td>1</td>\n",
       "      <td>389979.039432</td>\n",
       "      <td>38</td>\n",
       "      <td>ВЫСШЕЕ</td>\n",
       "      <td>0</td>\n",
       "      <td>Не женат / не замужем</td>\n",
       "      <td>4</td>\n",
       "      <td>F</td>\n",
       "      <td>пенсионер</td>\n",
       "      <td>0</td>\n",
       "      <td>311574.433591</td>\n",
       "      <td>покупка недвижимости</td>\n",
       "      <td>44.488902</td>\n",
       "      <td>-6.488902</td>\n",
       "    </tr>\n",
       "  </tbody>\n",
       "</table>\n",
       "</div>"
      ],
      "text/plain": [
       "      children  days_employed  age education  education_id  \\\n",
       "157          0  348414.028009   38   среднее             1   \n",
       "578          0  397856.565013   42   среднее             1   \n",
       "751          0  390755.464054   41   среднее             1   \n",
       "776          0  365336.560325   38   среднее             1   \n",
       "1175         0  370879.508002   42   среднее             1   \n",
       "1242         0  334764.259831   22   Среднее             1   \n",
       "1383         0  353802.811675   37   среднее             1   \n",
       "1446         0  338939.641634   37   СРЕДНЕЕ             1   \n",
       "1637         0  399260.448516   39   среднее             1   \n",
       "1752         1  389979.039432   38    ВЫСШЕЕ             0   \n",
       "\n",
       "              family_status  family_status_id gender income_type  debt  \\\n",
       "157         женат / замужем                 0      F   пенсионер     1   \n",
       "578         женат / замужем                 0      F   пенсионер     0   \n",
       "751         женат / замужем                 0      M   пенсионер     0   \n",
       "776         женат / замужем                 0      F   пенсионер     0   \n",
       "1175        женат / замужем                 0      F   пенсионер     0   \n",
       "1242  Не женат / не замужем                 4      F   пенсионер     0   \n",
       "1383         вдовец / вдова                 2      F   пенсионер     0   \n",
       "1446       гражданский брак                 1      M   пенсионер     0   \n",
       "1637        женат / замужем                 0      M   пенсионер     0   \n",
       "1752  Не женат / не замужем                 4      F   пенсионер     0   \n",
       "\n",
       "       total_income                                 purpose  years_employed  \\\n",
       "157   113560.650035                    сделка с автомобилем       39.747156   \n",
       "578    97620.687042  строительство собственной недвижимости       45.387572   \n",
       "751   151898.693438         операции со своей недвижимостью       44.577477   \n",
       "776    73859.425084                    покупка недвижимости       41.677682   \n",
       "1175  313949.845188   получение дополнительного образования       42.310023   \n",
       "1242   89368.600062           получение высшего образования       38.189987   \n",
       "1383  216452.226085              строительство недвижимости       40.361909   \n",
       "1446  148657.128499                                 свадьба       38.666315   \n",
       "1637  211513.978152                операции с недвижимостью       45.547728   \n",
       "1752  311574.433591                    покупка недвижимости       44.488902   \n",
       "\n",
       "      years_unemployed  \n",
       "157          -1.747156  \n",
       "578          -3.387572  \n",
       "751          -3.577477  \n",
       "776          -3.677682  \n",
       "1175         -0.310023  \n",
       "1242        -16.189987  \n",
       "1383         -3.361909  \n",
       "1446         -1.666315  \n",
       "1637         -6.547728  \n",
       "1752         -6.488902  "
      ]
     },
     "execution_count": 24,
     "metadata": {},
     "output_type": "execute_result"
    }
   ],
   "source": [
    "data[data['years_unemployed'] < 0].head(10)"
   ]
  },
  {
   "cell_type": "markdown",
   "id": "b1bf8b04",
   "metadata": {},
   "source": [
    "У многих из них `age` равен 0. Нехорошо. Исключаем таких. Что известно о тех, у кого возраст указан, и стаж больше возраста?"
   ]
  },
  {
   "cell_type": "code",
   "execution_count": 25,
   "id": "558b767d",
   "metadata": {},
   "outputs": [
    {
     "data": {
      "text/html": [
       "<div>\n",
       "<style scoped>\n",
       "    .dataframe tbody tr th:only-of-type {\n",
       "        vertical-align: middle;\n",
       "    }\n",
       "\n",
       "    .dataframe tbody tr th {\n",
       "        vertical-align: top;\n",
       "    }\n",
       "\n",
       "    .dataframe thead th {\n",
       "        text-align: right;\n",
       "    }\n",
       "</style>\n",
       "<table border=\"1\" class=\"dataframe\">\n",
       "  <thead>\n",
       "    <tr style=\"text-align: right;\">\n",
       "      <th></th>\n",
       "      <th>children</th>\n",
       "      <th>days_employed</th>\n",
       "      <th>age</th>\n",
       "      <th>education</th>\n",
       "      <th>education_id</th>\n",
       "      <th>family_status</th>\n",
       "      <th>family_status_id</th>\n",
       "      <th>gender</th>\n",
       "      <th>income_type</th>\n",
       "      <th>debt</th>\n",
       "      <th>total_income</th>\n",
       "      <th>purpose</th>\n",
       "      <th>years_employed</th>\n",
       "      <th>years_unemployed</th>\n",
       "    </tr>\n",
       "  </thead>\n",
       "  <tbody>\n",
       "    <tr>\n",
       "      <th>157</th>\n",
       "      <td>0</td>\n",
       "      <td>348414.028009</td>\n",
       "      <td>38</td>\n",
       "      <td>среднее</td>\n",
       "      <td>1</td>\n",
       "      <td>женат / замужем</td>\n",
       "      <td>0</td>\n",
       "      <td>F</td>\n",
       "      <td>пенсионер</td>\n",
       "      <td>1</td>\n",
       "      <td>113560.650035</td>\n",
       "      <td>сделка с автомобилем</td>\n",
       "      <td>39.747156</td>\n",
       "      <td>-1.747156</td>\n",
       "    </tr>\n",
       "    <tr>\n",
       "      <th>578</th>\n",
       "      <td>0</td>\n",
       "      <td>397856.565013</td>\n",
       "      <td>42</td>\n",
       "      <td>среднее</td>\n",
       "      <td>1</td>\n",
       "      <td>женат / замужем</td>\n",
       "      <td>0</td>\n",
       "      <td>F</td>\n",
       "      <td>пенсионер</td>\n",
       "      <td>0</td>\n",
       "      <td>97620.687042</td>\n",
       "      <td>строительство собственной недвижимости</td>\n",
       "      <td>45.387572</td>\n",
       "      <td>-3.387572</td>\n",
       "    </tr>\n",
       "    <tr>\n",
       "      <th>751</th>\n",
       "      <td>0</td>\n",
       "      <td>390755.464054</td>\n",
       "      <td>41</td>\n",
       "      <td>среднее</td>\n",
       "      <td>1</td>\n",
       "      <td>женат / замужем</td>\n",
       "      <td>0</td>\n",
       "      <td>M</td>\n",
       "      <td>пенсионер</td>\n",
       "      <td>0</td>\n",
       "      <td>151898.693438</td>\n",
       "      <td>операции со своей недвижимостью</td>\n",
       "      <td>44.577477</td>\n",
       "      <td>-3.577477</td>\n",
       "    </tr>\n",
       "    <tr>\n",
       "      <th>776</th>\n",
       "      <td>0</td>\n",
       "      <td>365336.560325</td>\n",
       "      <td>38</td>\n",
       "      <td>среднее</td>\n",
       "      <td>1</td>\n",
       "      <td>женат / замужем</td>\n",
       "      <td>0</td>\n",
       "      <td>F</td>\n",
       "      <td>пенсионер</td>\n",
       "      <td>0</td>\n",
       "      <td>73859.425084</td>\n",
       "      <td>покупка недвижимости</td>\n",
       "      <td>41.677682</td>\n",
       "      <td>-3.677682</td>\n",
       "    </tr>\n",
       "    <tr>\n",
       "      <th>1175</th>\n",
       "      <td>0</td>\n",
       "      <td>370879.508002</td>\n",
       "      <td>42</td>\n",
       "      <td>среднее</td>\n",
       "      <td>1</td>\n",
       "      <td>женат / замужем</td>\n",
       "      <td>0</td>\n",
       "      <td>F</td>\n",
       "      <td>пенсионер</td>\n",
       "      <td>0</td>\n",
       "      <td>313949.845188</td>\n",
       "      <td>получение дополнительного образования</td>\n",
       "      <td>42.310023</td>\n",
       "      <td>-0.310023</td>\n",
       "    </tr>\n",
       "    <tr>\n",
       "      <th>1242</th>\n",
       "      <td>0</td>\n",
       "      <td>334764.259831</td>\n",
       "      <td>22</td>\n",
       "      <td>Среднее</td>\n",
       "      <td>1</td>\n",
       "      <td>Не женат / не замужем</td>\n",
       "      <td>4</td>\n",
       "      <td>F</td>\n",
       "      <td>пенсионер</td>\n",
       "      <td>0</td>\n",
       "      <td>89368.600062</td>\n",
       "      <td>получение высшего образования</td>\n",
       "      <td>38.189987</td>\n",
       "      <td>-16.189987</td>\n",
       "    </tr>\n",
       "    <tr>\n",
       "      <th>1383</th>\n",
       "      <td>0</td>\n",
       "      <td>353802.811675</td>\n",
       "      <td>37</td>\n",
       "      <td>среднее</td>\n",
       "      <td>1</td>\n",
       "      <td>вдовец / вдова</td>\n",
       "      <td>2</td>\n",
       "      <td>F</td>\n",
       "      <td>пенсионер</td>\n",
       "      <td>0</td>\n",
       "      <td>216452.226085</td>\n",
       "      <td>строительство недвижимости</td>\n",
       "      <td>40.361909</td>\n",
       "      <td>-3.361909</td>\n",
       "    </tr>\n",
       "    <tr>\n",
       "      <th>1446</th>\n",
       "      <td>0</td>\n",
       "      <td>338939.641634</td>\n",
       "      <td>37</td>\n",
       "      <td>СРЕДНЕЕ</td>\n",
       "      <td>1</td>\n",
       "      <td>гражданский брак</td>\n",
       "      <td>1</td>\n",
       "      <td>M</td>\n",
       "      <td>пенсионер</td>\n",
       "      <td>0</td>\n",
       "      <td>148657.128499</td>\n",
       "      <td>свадьба</td>\n",
       "      <td>38.666315</td>\n",
       "      <td>-1.666315</td>\n",
       "    </tr>\n",
       "    <tr>\n",
       "      <th>1637</th>\n",
       "      <td>0</td>\n",
       "      <td>399260.448516</td>\n",
       "      <td>39</td>\n",
       "      <td>среднее</td>\n",
       "      <td>1</td>\n",
       "      <td>женат / замужем</td>\n",
       "      <td>0</td>\n",
       "      <td>M</td>\n",
       "      <td>пенсионер</td>\n",
       "      <td>0</td>\n",
       "      <td>211513.978152</td>\n",
       "      <td>операции с недвижимостью</td>\n",
       "      <td>45.547728</td>\n",
       "      <td>-6.547728</td>\n",
       "    </tr>\n",
       "    <tr>\n",
       "      <th>1752</th>\n",
       "      <td>1</td>\n",
       "      <td>389979.039432</td>\n",
       "      <td>38</td>\n",
       "      <td>ВЫСШЕЕ</td>\n",
       "      <td>0</td>\n",
       "      <td>Не женат / не замужем</td>\n",
       "      <td>4</td>\n",
       "      <td>F</td>\n",
       "      <td>пенсионер</td>\n",
       "      <td>0</td>\n",
       "      <td>311574.433591</td>\n",
       "      <td>покупка недвижимости</td>\n",
       "      <td>44.488902</td>\n",
       "      <td>-6.488902</td>\n",
       "    </tr>\n",
       "  </tbody>\n",
       "</table>\n",
       "</div>"
      ],
      "text/plain": [
       "      children  days_employed  age education  education_id  \\\n",
       "157          0  348414.028009   38   среднее             1   \n",
       "578          0  397856.565013   42   среднее             1   \n",
       "751          0  390755.464054   41   среднее             1   \n",
       "776          0  365336.560325   38   среднее             1   \n",
       "1175         0  370879.508002   42   среднее             1   \n",
       "1242         0  334764.259831   22   Среднее             1   \n",
       "1383         0  353802.811675   37   среднее             1   \n",
       "1446         0  338939.641634   37   СРЕДНЕЕ             1   \n",
       "1637         0  399260.448516   39   среднее             1   \n",
       "1752         1  389979.039432   38    ВЫСШЕЕ             0   \n",
       "\n",
       "              family_status  family_status_id gender income_type  debt  \\\n",
       "157         женат / замужем                 0      F   пенсионер     1   \n",
       "578         женат / замужем                 0      F   пенсионер     0   \n",
       "751         женат / замужем                 0      M   пенсионер     0   \n",
       "776         женат / замужем                 0      F   пенсионер     0   \n",
       "1175        женат / замужем                 0      F   пенсионер     0   \n",
       "1242  Не женат / не замужем                 4      F   пенсионер     0   \n",
       "1383         вдовец / вдова                 2      F   пенсионер     0   \n",
       "1446       гражданский брак                 1      M   пенсионер     0   \n",
       "1637        женат / замужем                 0      M   пенсионер     0   \n",
       "1752  Не женат / не замужем                 4      F   пенсионер     0   \n",
       "\n",
       "       total_income                                 purpose  years_employed  \\\n",
       "157   113560.650035                    сделка с автомобилем       39.747156   \n",
       "578    97620.687042  строительство собственной недвижимости       45.387572   \n",
       "751   151898.693438         операции со своей недвижимостью       44.577477   \n",
       "776    73859.425084                    покупка недвижимости       41.677682   \n",
       "1175  313949.845188   получение дополнительного образования       42.310023   \n",
       "1242   89368.600062           получение высшего образования       38.189987   \n",
       "1383  216452.226085              строительство недвижимости       40.361909   \n",
       "1446  148657.128499                                 свадьба       38.666315   \n",
       "1637  211513.978152                операции с недвижимостью       45.547728   \n",
       "1752  311574.433591                    покупка недвижимости       44.488902   \n",
       "\n",
       "      years_unemployed  \n",
       "157          -1.747156  \n",
       "578          -3.387572  \n",
       "751          -3.577477  \n",
       "776          -3.677682  \n",
       "1175         -0.310023  \n",
       "1242        -16.189987  \n",
       "1383         -3.361909  \n",
       "1446         -1.666315  \n",
       "1637         -6.547728  \n",
       "1752         -6.488902  "
      ]
     },
     "execution_count": 25,
     "metadata": {},
     "output_type": "execute_result"
    }
   ],
   "source": [
    "data[(data['years_unemployed'] < 0) & (data['age'] > 0)].head(10)"
   ]
  },
  {
   "cell_type": "markdown",
   "id": "c357adfa",
   "metadata": {},
   "source": [
    "У этих, похоже, все величины `days_employed` из положительной группы. Найдём тех, у кого не нулевой возраст, отрицательные `days_employed` и `years_unemployed`."
   ]
  },
  {
   "cell_type": "code",
   "execution_count": 26,
   "id": "3af07949",
   "metadata": {
    "scrolled": true
   },
   "outputs": [
    {
     "data": {
      "text/html": [
       "<div>\n",
       "<style scoped>\n",
       "    .dataframe tbody tr th:only-of-type {\n",
       "        vertical-align: middle;\n",
       "    }\n",
       "\n",
       "    .dataframe tbody tr th {\n",
       "        vertical-align: top;\n",
       "    }\n",
       "\n",
       "    .dataframe thead th {\n",
       "        text-align: right;\n",
       "    }\n",
       "</style>\n",
       "<table border=\"1\" class=\"dataframe\">\n",
       "  <thead>\n",
       "    <tr style=\"text-align: right;\">\n",
       "      <th></th>\n",
       "      <th>children</th>\n",
       "      <th>days_employed</th>\n",
       "      <th>age</th>\n",
       "      <th>education</th>\n",
       "      <th>education_id</th>\n",
       "      <th>family_status</th>\n",
       "      <th>family_status_id</th>\n",
       "      <th>gender</th>\n",
       "      <th>income_type</th>\n",
       "      <th>debt</th>\n",
       "      <th>total_income</th>\n",
       "      <th>purpose</th>\n",
       "      <th>years_employed</th>\n",
       "      <th>years_unemployed</th>\n",
       "    </tr>\n",
       "  </thead>\n",
       "  <tbody>\n",
       "  </tbody>\n",
       "</table>\n",
       "</div>"
      ],
      "text/plain": [
       "Empty DataFrame\n",
       "Columns: [children, days_employed, age, education, education_id, family_status, family_status_id, gender, income_type, debt, total_income, purpose, years_employed, years_unemployed]\n",
       "Index: []"
      ]
     },
     "execution_count": 26,
     "metadata": {},
     "output_type": "execute_result"
    }
   ],
   "source": [
    "data[(data['years_unemployed'] < 0) & (data['age'] > 0) & (data['days_employed'] < 0)].head(10)"
   ]
  },
  {
   "cell_type": "markdown",
   "id": "a6a382dd",
   "metadata": {},
   "source": [
    "Таких нет! Выходит, все отрицательные `years_unemployed` вызваны либо неверным возрастом, либо неверной интерпретацией положительных `days_employed`.\n",
    "\n",
    "Посмотрим клиентов, у которых всё в порядке с возрастом и с `days_employed`. Найдём 10 тех, у кого наименьший `years_unemployed`."
   ]
  },
  {
   "cell_type": "code",
   "execution_count": 27,
   "id": "d42e0fe6",
   "metadata": {
    "scrolled": true
   },
   "outputs": [
    {
     "data": {
      "text/html": [
       "<div>\n",
       "<style scoped>\n",
       "    .dataframe tbody tr th:only-of-type {\n",
       "        vertical-align: middle;\n",
       "    }\n",
       "\n",
       "    .dataframe tbody tr th {\n",
       "        vertical-align: top;\n",
       "    }\n",
       "\n",
       "    .dataframe thead th {\n",
       "        text-align: right;\n",
       "    }\n",
       "</style>\n",
       "<table border=\"1\" class=\"dataframe\">\n",
       "  <thead>\n",
       "    <tr style=\"text-align: right;\">\n",
       "      <th></th>\n",
       "      <th>children</th>\n",
       "      <th>days_employed</th>\n",
       "      <th>age</th>\n",
       "      <th>education</th>\n",
       "      <th>education_id</th>\n",
       "      <th>family_status</th>\n",
       "      <th>family_status_id</th>\n",
       "      <th>gender</th>\n",
       "      <th>income_type</th>\n",
       "      <th>debt</th>\n",
       "      <th>total_income</th>\n",
       "      <th>purpose</th>\n",
       "      <th>years_employed</th>\n",
       "      <th>years_unemployed</th>\n",
       "    </tr>\n",
       "  </thead>\n",
       "  <tbody>\n",
       "    <tr>\n",
       "      <th>16335</th>\n",
       "      <td>1</td>\n",
       "      <td>-18388.949901</td>\n",
       "      <td>61</td>\n",
       "      <td>среднее</td>\n",
       "      <td>1</td>\n",
       "      <td>женат / замужем</td>\n",
       "      <td>0</td>\n",
       "      <td>F</td>\n",
       "      <td>сотрудник</td>\n",
       "      <td>0</td>\n",
       "      <td>186178.934089</td>\n",
       "      <td>операции с недвижимостью</td>\n",
       "      <td>50.347579</td>\n",
       "      <td>10.652421</td>\n",
       "    </tr>\n",
       "    <tr>\n",
       "      <th>5708</th>\n",
       "      <td>0</td>\n",
       "      <td>-13210.485012</td>\n",
       "      <td>47</td>\n",
       "      <td>среднее</td>\n",
       "      <td>1</td>\n",
       "      <td>женат / замужем</td>\n",
       "      <td>0</td>\n",
       "      <td>F</td>\n",
       "      <td>сотрудник</td>\n",
       "      <td>0</td>\n",
       "      <td>144845.875361</td>\n",
       "      <td>покупка недвижимости</td>\n",
       "      <td>36.169327</td>\n",
       "      <td>10.830673</td>\n",
       "    </tr>\n",
       "    <tr>\n",
       "      <th>397</th>\n",
       "      <td>0</td>\n",
       "      <td>-12506.318296</td>\n",
       "      <td>46</td>\n",
       "      <td>среднее</td>\n",
       "      <td>1</td>\n",
       "      <td>женат / замужем</td>\n",
       "      <td>0</td>\n",
       "      <td>F</td>\n",
       "      <td>сотрудник</td>\n",
       "      <td>0</td>\n",
       "      <td>292843.287967</td>\n",
       "      <td>недвижимость</td>\n",
       "      <td>34.241371</td>\n",
       "      <td>11.758629</td>\n",
       "    </tr>\n",
       "    <tr>\n",
       "      <th>5959</th>\n",
       "      <td>0</td>\n",
       "      <td>-10939.299825</td>\n",
       "      <td>42</td>\n",
       "      <td>среднее</td>\n",
       "      <td>1</td>\n",
       "      <td>женат / замужем</td>\n",
       "      <td>0</td>\n",
       "      <td>F</td>\n",
       "      <td>сотрудник</td>\n",
       "      <td>0</td>\n",
       "      <td>74840.802028</td>\n",
       "      <td>автомобиль</td>\n",
       "      <td>29.950991</td>\n",
       "      <td>12.049009</td>\n",
       "    </tr>\n",
       "    <tr>\n",
       "      <th>13531</th>\n",
       "      <td>0</td>\n",
       "      <td>-9762.839918</td>\n",
       "      <td>39</td>\n",
       "      <td>среднее</td>\n",
       "      <td>1</td>\n",
       "      <td>женат / замужем</td>\n",
       "      <td>0</td>\n",
       "      <td>F</td>\n",
       "      <td>сотрудник</td>\n",
       "      <td>0</td>\n",
       "      <td>129855.627483</td>\n",
       "      <td>операции с коммерческой недвижимостью</td>\n",
       "      <td>26.729931</td>\n",
       "      <td>12.270069</td>\n",
       "    </tr>\n",
       "    <tr>\n",
       "      <th>2492</th>\n",
       "      <td>0</td>\n",
       "      <td>-13724.223884</td>\n",
       "      <td>50</td>\n",
       "      <td>высшее</td>\n",
       "      <td>0</td>\n",
       "      <td>женат / замужем</td>\n",
       "      <td>0</td>\n",
       "      <td>F</td>\n",
       "      <td>сотрудник</td>\n",
       "      <td>0</td>\n",
       "      <td>88152.289893</td>\n",
       "      <td>строительство жилой недвижимости</td>\n",
       "      <td>37.575906</td>\n",
       "      <td>12.424094</td>\n",
       "    </tr>\n",
       "    <tr>\n",
       "      <th>2082</th>\n",
       "      <td>0</td>\n",
       "      <td>-10689.250498</td>\n",
       "      <td>42</td>\n",
       "      <td>среднее</td>\n",
       "      <td>1</td>\n",
       "      <td>женат / замужем</td>\n",
       "      <td>0</td>\n",
       "      <td>F</td>\n",
       "      <td>сотрудник</td>\n",
       "      <td>0</td>\n",
       "      <td>386373.636958</td>\n",
       "      <td>операции с недвижимостью</td>\n",
       "      <td>29.266374</td>\n",
       "      <td>12.733626</td>\n",
       "    </tr>\n",
       "    <tr>\n",
       "      <th>4299</th>\n",
       "      <td>0</td>\n",
       "      <td>-17615.563266</td>\n",
       "      <td>61</td>\n",
       "      <td>среднее</td>\n",
       "      <td>1</td>\n",
       "      <td>женат / замужем</td>\n",
       "      <td>0</td>\n",
       "      <td>F</td>\n",
       "      <td>компаньон</td>\n",
       "      <td>0</td>\n",
       "      <td>122560.741753</td>\n",
       "      <td>покупка жилья</td>\n",
       "      <td>48.230104</td>\n",
       "      <td>12.769896</td>\n",
       "    </tr>\n",
       "    <tr>\n",
       "      <th>18851</th>\n",
       "      <td>0</td>\n",
       "      <td>-10637.001569</td>\n",
       "      <td>42</td>\n",
       "      <td>среднее</td>\n",
       "      <td>1</td>\n",
       "      <td>женат / замужем</td>\n",
       "      <td>0</td>\n",
       "      <td>F</td>\n",
       "      <td>госслужащий</td>\n",
       "      <td>0</td>\n",
       "      <td>136537.132625</td>\n",
       "      <td>дополнительное образование</td>\n",
       "      <td>29.123320</td>\n",
       "      <td>12.876680</td>\n",
       "    </tr>\n",
       "    <tr>\n",
       "      <th>19902</th>\n",
       "      <td>0</td>\n",
       "      <td>-8436.151295</td>\n",
       "      <td>36</td>\n",
       "      <td>среднее</td>\n",
       "      <td>1</td>\n",
       "      <td>гражданский брак</td>\n",
       "      <td>1</td>\n",
       "      <td>F</td>\n",
       "      <td>сотрудник</td>\n",
       "      <td>0</td>\n",
       "      <td>91250.788331</td>\n",
       "      <td>свадьба</td>\n",
       "      <td>23.097556</td>\n",
       "      <td>12.902444</td>\n",
       "    </tr>\n",
       "  </tbody>\n",
       "</table>\n",
       "</div>"
      ],
      "text/plain": [
       "       children  days_employed  age education  education_id     family_status  \\\n",
       "16335         1  -18388.949901   61   среднее             1   женат / замужем   \n",
       "5708          0  -13210.485012   47   среднее             1   женат / замужем   \n",
       "397           0  -12506.318296   46   среднее             1   женат / замужем   \n",
       "5959          0  -10939.299825   42   среднее             1   женат / замужем   \n",
       "13531         0   -9762.839918   39   среднее             1   женат / замужем   \n",
       "2492          0  -13724.223884   50    высшее             0   женат / замужем   \n",
       "2082          0  -10689.250498   42   среднее             1   женат / замужем   \n",
       "4299          0  -17615.563266   61   среднее             1   женат / замужем   \n",
       "18851         0  -10637.001569   42   среднее             1   женат / замужем   \n",
       "19902         0   -8436.151295   36   среднее             1  гражданский брак   \n",
       "\n",
       "       family_status_id gender  income_type  debt   total_income  \\\n",
       "16335                 0      F    сотрудник     0  186178.934089   \n",
       "5708                  0      F    сотрудник     0  144845.875361   \n",
       "397                   0      F    сотрудник     0  292843.287967   \n",
       "5959                  0      F    сотрудник     0   74840.802028   \n",
       "13531                 0      F    сотрудник     0  129855.627483   \n",
       "2492                  0      F    сотрудник     0   88152.289893   \n",
       "2082                  0      F    сотрудник     0  386373.636958   \n",
       "4299                  0      F    компаньон     0  122560.741753   \n",
       "18851                 0      F  госслужащий     0  136537.132625   \n",
       "19902                 1      F    сотрудник     0   91250.788331   \n",
       "\n",
       "                                     purpose  years_employed  years_unemployed  \n",
       "16335               операции с недвижимостью       50.347579         10.652421  \n",
       "5708                    покупка недвижимости       36.169327         10.830673  \n",
       "397                             недвижимость       34.241371         11.758629  \n",
       "5959                              автомобиль       29.950991         12.049009  \n",
       "13531  операции с коммерческой недвижимостью       26.729931         12.270069  \n",
       "2492        строительство жилой недвижимости       37.575906         12.424094  \n",
       "2082                операции с недвижимостью       29.266374         12.733626  \n",
       "4299                           покупка жилья       48.230104         12.769896  \n",
       "18851             дополнительное образование       29.123320         12.876680  \n",
       "19902                                свадьба       23.097556         12.902444  "
      ]
     },
     "execution_count": 27,
     "metadata": {},
     "output_type": "execute_result"
    }
   ],
   "source": [
    "data[(data['age'] > 0) & (data['days_employed'] < 0)].sort_values('years_unemployed').head(10)"
   ]
  },
  {
   "cell_type": "markdown",
   "id": "7e86c85f",
   "metadata": {},
   "source": [
    "Величины `years_unemployed` выглядят сейчас реалистичней, чем ранее.\n",
    "\n",
    "Пора привести в порядок таблицу. Очистим от двух служебных колонок."
   ]
  },
  {
   "cell_type": "code",
   "execution_count": 28,
   "id": "8507dfa2",
   "metadata": {},
   "outputs": [
    {
     "name": "stdout",
     "output_type": "stream",
     "text": [
      "<class 'pandas.core.frame.DataFrame'>\n",
      "RangeIndex: 21525 entries, 0 to 21524\n",
      "Data columns (total 12 columns):\n",
      " #   Column            Non-Null Count  Dtype  \n",
      "---  ------            --------------  -----  \n",
      " 0   children          21525 non-null  int32  \n",
      " 1   days_employed     19351 non-null  float64\n",
      " 2   age               21525 non-null  int32  \n",
      " 3   education         21525 non-null  object \n",
      " 4   education_id      21525 non-null  int64  \n",
      " 5   family_status     21525 non-null  object \n",
      " 6   family_status_id  21525 non-null  int64  \n",
      " 7   gender            21525 non-null  object \n",
      " 8   income_type       21525 non-null  object \n",
      " 9   debt              21525 non-null  int64  \n",
      " 10  total_income      19351 non-null  float64\n",
      " 11  purpose           21525 non-null  object \n",
      "dtypes: float64(2), int32(2), int64(3), object(5)\n",
      "memory usage: 1.8+ MB\n"
     ]
    }
   ],
   "source": [
    "data.drop(columns=['years_employed', 'years_unemployed'], inplace=True)\n",
    "data.info()"
   ]
  },
  {
   "cell_type": "markdown",
   "id": "aa0c2c0f",
   "metadata": {},
   "source": [
    "**Итоги:**\n",
    "\n",
    "- Одно предположение подтвердилось: \"негативные\" значения выглядят реалистично, если интерпретировать их без знака `-`.\n",
    "- Другое предположение не подтвердилось: если считать, что \"позитивные\" значения выражены в часах, то всё равно существуют записи, где стаж больше, чем возраст. Это неестественно.\n",
    "- Мы не нашли способ, как преобразовать \"позитивные\" величины, чтобы использовать их.\n",
    "\n",
    "##### Проверка предположения: \"позитивные\" величины не коррелируют с возрастом\n",
    "\n",
    "Что же всё таки значат \"позитивные\" величины? Посмотрим, как они распределены среди возрастов."
   ]
  },
  {
   "cell_type": "code",
   "execution_count": 29,
   "id": "bc7b30ac",
   "metadata": {
    "scrolled": true
   },
   "outputs": [
    {
     "name": "stdout",
     "output_type": "stream",
     "text": [
      "22: 183, 0.85%\n",
      "26: 408, 1.90%\n",
      "27: 493, 2.29%\n",
      "28: 503, 2.34%\n",
      "31: 560, 2.60%\n",
      "32: 510, 2.37%\n",
      "33: 581, 2.70%\n",
      "34: 603, 2.80%\n",
      "35: 617, 2.87%\n",
      "36: 555, 2.58%\n",
      "37: 537, 2.49%\n",
      "38: 598, 2.78%\n",
      "39: 573, 2.66%\n",
      "40: 609, 2.83%\n",
      "41: 607, 2.82%\n",
      "42: 698, 3.24%\n",
      "43: 513, 2.38%\n",
      "44: 547, 2.54%\n",
      "45: 497, 2.31%\n",
      "46: 475, 2.21%\n",
      "47: 480, 2.23%\n",
      "48: 538, 2.50%\n",
      "49: 508, 2.36%\n",
      "50: 514, 2.39%\n",
      "51: 448, 2.08%\n",
      "52: 484, 2.25%\n",
      "53: 459, 2.13%\n",
      "54: 479, 2.23%\n",
      "55: 443, 2.06%\n",
      "56: 487, 2.26%\n",
      "57: 460, 2.14%\n",
      "58: 461, 2.14%\n",
      "59: 444, 2.06%\n",
      "60: 377, 1.75%\n",
      "61: 355, 1.65%\n",
      "62: 352, 1.64%\n",
      "63: 269, 1.25%\n",
      "64: 265, 1.23%\n",
      "65: 194, 0.90%\n",
      "66: 183, 0.85%\n",
      "67: 167, 0.78%\n",
      "68: 99, 0.46%\n",
      "69: 85, 0.39%\n",
      "70: 65, 0.30%\n",
      "71: 58, 0.27%\n",
      "72: 33, 0.15%\n",
      "73: 8, 0.04%\n",
      "74: 6, 0.03%\n"
     ]
    }
   ],
   "source": [
    "for value in data[data['days_employed'] > 0]['age'].sort_values().unique():\n",
    "    print_count('age', value)"
   ]
  },
  {
   "cell_type": "markdown",
   "id": "97ceb1ed",
   "metadata": {},
   "source": [
    "Распределение среди возрастов близко к равномерному. И мы помним, что диапазон \"позитивных\" величин не широк."
   ]
  },
  {
   "cell_type": "code",
   "execution_count": 30,
   "id": "a6154d32",
   "metadata": {
    "scrolled": true
   },
   "outputs": [
    {
     "data": {
      "text/plain": [
       "1.222148766729353"
      ]
     },
     "execution_count": 30,
     "metadata": {},
     "output_type": "execute_result"
    }
   ],
   "source": [
    "positive_days.max() / positive_days.min()"
   ]
  },
  {
   "cell_type": "code",
   "execution_count": 31,
   "id": "4800e065",
   "metadata": {},
   "outputs": [
    {
     "data": {
      "text/plain": [
       "73026.67987081176"
      ]
     },
     "execution_count": 31,
     "metadata": {},
     "output_type": "execute_result"
    }
   ],
   "source": [
    "positive_days.max() - positive_days.min()"
   ]
  },
  {
   "cell_type": "markdown",
   "id": "7db3bc1a",
   "metadata": {},
   "source": [
    "Их значение в зависимости от возраста не может существенно вырасти.\n",
    "\n",
    "Проверим предположение. Подготовим списки, и по ним сделаем графики."
   ]
  },
  {
   "cell_type": "code",
   "execution_count": 32,
   "id": "5a888576",
   "metadata": {},
   "outputs": [],
   "source": [
    "ages = data['age'].sort_values().unique()\n",
    "positive_abs_medians = []\n",
    "negative_abs_medians = []\n",
    "\n",
    "for age in ages:\n",
    "    positive_abs_medians.append(abs(data[\n",
    "        (data['age'] == age) & (data['days_employed'] > 0)\n",
    "    ]['days_employed'].median()))\n",
    "\n",
    "    negative_abs_medians.append(abs(data[\n",
    "        (data['age'] == age) & (data['days_employed'] < 0)\n",
    "    ]['days_employed'].median()))"
   ]
  },
  {
   "cell_type": "code",
   "execution_count": 33,
   "id": "0bcbd4a3",
   "metadata": {
    "scrolled": false
   },
   "outputs": [
    {
     "data": {
      "text/plain": [
       "<AxesSubplot:>"
      ]
     },
     "execution_count": 33,
     "metadata": {},
     "output_type": "execute_result"
    },
    {
     "data": {
      "image/png": "[encoded data removed]",
      "text/plain": [
       "<Figure size 432x288 with 1 Axes>"
      ]
     },
     "metadata": {
      "needs_background": "light"
     },
     "output_type": "display_data"
    }
   ],
   "source": [
    "seaborn.barplot(x=ages, y=negative_abs_medians)"
   ]
  },
  {
   "cell_type": "markdown",
   "id": "f4a3fb47",
   "metadata": {},
   "source": [
    "Это график \"негативных\" величин. Чем старше возраст - тем больше медианный стаж."
   ]
  },
  {
   "cell_type": "code",
   "execution_count": 34,
   "id": "5292f4ba",
   "metadata": {
    "scrolled": false
   },
   "outputs": [
    {
     "data": {
      "text/plain": [
       "<AxesSubplot:>"
      ]
     },
     "execution_count": 34,
     "metadata": {},
     "output_type": "execute_result"
    },
    {
     "data": {
      "image/png": "[encoded data removed]",
      "text/plain": [
       "<Figure size 432x288 with 1 Axes>"
      ]
     },
     "metadata": {
      "needs_background": "light"
     },
     "output_type": "display_data"
    }
   ],
   "source": [
    "seaborn.barplot(x=ages, y=positive_abs_medians)"
   ]
  },
  {
   "cell_type": "markdown",
   "id": "e39908fe",
   "metadata": {},
   "source": [
    "Это график медиан по \"позитивным\" величинам. Они мало меняются. Среди молодых возрастов колебания больше, среди старших - меньше.\n",
    "\n",
    "Это предположение подтвердилось. Медианный стаж из \"позитивных\" величин почти не зависит от возраста. Это неестественно. Мы ожидаем, что стаж с возрастом существенно увеличивается."
   ]
  },
  {
   "cell_type": "markdown",
   "id": "ffd13964",
   "metadata": {},
   "source": [
    "**Итоги анализа:**\n",
    "- Значения `days_employed` характерно делятся на группы \"положительных\" и \"отрицательных\".\n",
    "- Группа \"положительных\" величин явно не соответствует `days_employed`, и непригодна для задач.\n",
    "  - Она содержит не дни, а какие-то меньшие единицы измерения, либо ошибочные, либо случайн сгенерированные данные.\n",
    "  - Она неестественно распределяется по возрастам: рост стажа должен быть быстрее роста возраста. Реально медианный стаж почти не меняется с возрастом.\n",
    "  - Причина появления такой аномалии не ясна.\n",
    "  - Она составляет 16% от всех значений. Это существенная величина, и замена каким-либо одним значением исказит исследование.\n",
    "  - Мы заменим величины этой группы на медианные из \"отрицательной\" группы для каждого возраста.\n",
    "- Группа \"отрицательных\" величин `days_employed` в целом соответствует нашим ожиданиям.\n",
    "  - Она содержала верные по модулю, но отрицательные по аобсолютному начению величины.\n",
    "  - Возможные причины аномалии:\n",
    "    - неверно сформулированные правила заполнения поля (поскольку такие величины никак не редкость, их 73,9% - самый типичный случай);\n",
    "    - случаи неудачной автоматической обработки в прошлом.\n",
    "- Нужно передать эти итоги сотрудникам, предоставившим данные."
   ]
  },
  {
   "cell_type": "markdown",
   "id": "67a67402",
   "metadata": {},
   "source": [
    "#### Исправление аномалий в `days_employed`"
   ]
  },
  {
   "cell_type": "markdown",
   "id": "6eb11656",
   "metadata": {},
   "source": [
    "Делаем \"отрицательные\" величины положительными. Дальше они меняться не будут."
   ]
  },
  {
   "cell_type": "code",
   "execution_count": 35,
   "id": "52504d05",
   "metadata": {
    "scrolled": true
   },
   "outputs": [
    {
     "data": {
      "text/html": [
       "<div>\n",
       "<style scoped>\n",
       "    .dataframe tbody tr th:only-of-type {\n",
       "        vertical-align: middle;\n",
       "    }\n",
       "\n",
       "    .dataframe tbody tr th {\n",
       "        vertical-align: top;\n",
       "    }\n",
       "\n",
       "    .dataframe thead th {\n",
       "        text-align: right;\n",
       "    }\n",
       "</style>\n",
       "<table border=\"1\" class=\"dataframe\">\n",
       "  <thead>\n",
       "    <tr style=\"text-align: right;\">\n",
       "      <th></th>\n",
       "      <th>children</th>\n",
       "      <th>days_employed</th>\n",
       "      <th>age</th>\n",
       "      <th>education</th>\n",
       "      <th>education_id</th>\n",
       "      <th>family_status</th>\n",
       "      <th>family_status_id</th>\n",
       "      <th>gender</th>\n",
       "      <th>income_type</th>\n",
       "      <th>debt</th>\n",
       "      <th>total_income</th>\n",
       "      <th>purpose</th>\n",
       "    </tr>\n",
       "  </thead>\n",
       "  <tbody>\n",
       "    <tr>\n",
       "      <th>0</th>\n",
       "      <td>1</td>\n",
       "      <td>8437.673028</td>\n",
       "      <td>42</td>\n",
       "      <td>высшее</td>\n",
       "      <td>0</td>\n",
       "      <td>женат / замужем</td>\n",
       "      <td>0</td>\n",
       "      <td>F</td>\n",
       "      <td>сотрудник</td>\n",
       "      <td>0</td>\n",
       "      <td>253875.639453</td>\n",
       "      <td>покупка жилья</td>\n",
       "    </tr>\n",
       "    <tr>\n",
       "      <th>1</th>\n",
       "      <td>1</td>\n",
       "      <td>4024.803754</td>\n",
       "      <td>36</td>\n",
       "      <td>среднее</td>\n",
       "      <td>1</td>\n",
       "      <td>женат / замужем</td>\n",
       "      <td>0</td>\n",
       "      <td>F</td>\n",
       "      <td>сотрудник</td>\n",
       "      <td>0</td>\n",
       "      <td>112080.014102</td>\n",
       "      <td>приобретение автомобиля</td>\n",
       "    </tr>\n",
       "    <tr>\n",
       "      <th>2</th>\n",
       "      <td>0</td>\n",
       "      <td>5623.422610</td>\n",
       "      <td>33</td>\n",
       "      <td>Среднее</td>\n",
       "      <td>1</td>\n",
       "      <td>женат / замужем</td>\n",
       "      <td>0</td>\n",
       "      <td>M</td>\n",
       "      <td>сотрудник</td>\n",
       "      <td>0</td>\n",
       "      <td>145885.952297</td>\n",
       "      <td>покупка жилья</td>\n",
       "    </tr>\n",
       "    <tr>\n",
       "      <th>3</th>\n",
       "      <td>3</td>\n",
       "      <td>4124.747207</td>\n",
       "      <td>32</td>\n",
       "      <td>среднее</td>\n",
       "      <td>1</td>\n",
       "      <td>женат / замужем</td>\n",
       "      <td>0</td>\n",
       "      <td>M</td>\n",
       "      <td>сотрудник</td>\n",
       "      <td>0</td>\n",
       "      <td>267628.550329</td>\n",
       "      <td>дополнительное образование</td>\n",
       "    </tr>\n",
       "    <tr>\n",
       "      <th>4</th>\n",
       "      <td>0</td>\n",
       "      <td>-340266.072047</td>\n",
       "      <td>53</td>\n",
       "      <td>среднее</td>\n",
       "      <td>1</td>\n",
       "      <td>гражданский брак</td>\n",
       "      <td>1</td>\n",
       "      <td>F</td>\n",
       "      <td>пенсионер</td>\n",
       "      <td>0</td>\n",
       "      <td>158616.077870</td>\n",
       "      <td>сыграть свадьбу</td>\n",
       "    </tr>\n",
       "    <tr>\n",
       "      <th>5</th>\n",
       "      <td>0</td>\n",
       "      <td>926.185831</td>\n",
       "      <td>27</td>\n",
       "      <td>высшее</td>\n",
       "      <td>0</td>\n",
       "      <td>гражданский брак</td>\n",
       "      <td>1</td>\n",
       "      <td>M</td>\n",
       "      <td>компаньон</td>\n",
       "      <td>0</td>\n",
       "      <td>255763.565419</td>\n",
       "      <td>покупка жилья</td>\n",
       "    </tr>\n",
       "    <tr>\n",
       "      <th>6</th>\n",
       "      <td>0</td>\n",
       "      <td>2879.202052</td>\n",
       "      <td>43</td>\n",
       "      <td>высшее</td>\n",
       "      <td>0</td>\n",
       "      <td>женат / замужем</td>\n",
       "      <td>0</td>\n",
       "      <td>F</td>\n",
       "      <td>компаньон</td>\n",
       "      <td>0</td>\n",
       "      <td>240525.971920</td>\n",
       "      <td>операции с жильем</td>\n",
       "    </tr>\n",
       "    <tr>\n",
       "      <th>7</th>\n",
       "      <td>0</td>\n",
       "      <td>152.779569</td>\n",
       "      <td>50</td>\n",
       "      <td>СРЕДНЕЕ</td>\n",
       "      <td>1</td>\n",
       "      <td>женат / замужем</td>\n",
       "      <td>0</td>\n",
       "      <td>M</td>\n",
       "      <td>сотрудник</td>\n",
       "      <td>0</td>\n",
       "      <td>135823.934197</td>\n",
       "      <td>образование</td>\n",
       "    </tr>\n",
       "    <tr>\n",
       "      <th>8</th>\n",
       "      <td>2</td>\n",
       "      <td>6929.865299</td>\n",
       "      <td>35</td>\n",
       "      <td>ВЫСШЕЕ</td>\n",
       "      <td>0</td>\n",
       "      <td>гражданский брак</td>\n",
       "      <td>1</td>\n",
       "      <td>F</td>\n",
       "      <td>сотрудник</td>\n",
       "      <td>0</td>\n",
       "      <td>95856.832424</td>\n",
       "      <td>на проведение свадьбы</td>\n",
       "    </tr>\n",
       "    <tr>\n",
       "      <th>9</th>\n",
       "      <td>0</td>\n",
       "      <td>2188.756445</td>\n",
       "      <td>41</td>\n",
       "      <td>среднее</td>\n",
       "      <td>1</td>\n",
       "      <td>женат / замужем</td>\n",
       "      <td>0</td>\n",
       "      <td>M</td>\n",
       "      <td>сотрудник</td>\n",
       "      <td>0</td>\n",
       "      <td>144425.938277</td>\n",
       "      <td>покупка жилья для семьи</td>\n",
       "    </tr>\n",
       "  </tbody>\n",
       "</table>\n",
       "</div>"
      ],
      "text/plain": [
       "   children  days_employed  age education  education_id     family_status  \\\n",
       "0         1    8437.673028   42    высшее             0   женат / замужем   \n",
       "1         1    4024.803754   36   среднее             1   женат / замужем   \n",
       "2         0    5623.422610   33   Среднее             1   женат / замужем   \n",
       "3         3    4124.747207   32   среднее             1   женат / замужем   \n",
       "4         0 -340266.072047   53   среднее             1  гражданский брак   \n",
       "5         0     926.185831   27    высшее             0  гражданский брак   \n",
       "6         0    2879.202052   43    высшее             0   женат / замужем   \n",
       "7         0     152.779569   50   СРЕДНЕЕ             1   женат / замужем   \n",
       "8         2    6929.865299   35    ВЫСШЕЕ             0  гражданский брак   \n",
       "9         0    2188.756445   41   среднее             1   женат / замужем   \n",
       "\n",
       "   family_status_id gender income_type  debt   total_income  \\\n",
       "0                 0      F   сотрудник     0  253875.639453   \n",
       "1                 0      F   сотрудник     0  112080.014102   \n",
       "2                 0      M   сотрудник     0  145885.952297   \n",
       "3                 0      M   сотрудник     0  267628.550329   \n",
       "4                 1      F   пенсионер     0  158616.077870   \n",
       "5                 1      M   компаньон     0  255763.565419   \n",
       "6                 0      F   компаньон     0  240525.971920   \n",
       "7                 0      M   сотрудник     0  135823.934197   \n",
       "8                 1      F   сотрудник     0   95856.832424   \n",
       "9                 0      M   сотрудник     0  144425.938277   \n",
       "\n",
       "                      purpose  \n",
       "0               покупка жилья  \n",
       "1     приобретение автомобиля  \n",
       "2               покупка жилья  \n",
       "3  дополнительное образование  \n",
       "4             сыграть свадьбу  \n",
       "5               покупка жилья  \n",
       "6           операции с жильем  \n",
       "7                 образование  \n",
       "8       на проведение свадьбы  \n",
       "9     покупка жилья для семьи  "
      ]
     },
     "execution_count": 35,
     "metadata": {},
     "output_type": "execute_result"
    }
   ],
   "source": [
    "data['days_employed'] = data['days_employed'].apply(lambda x: 0 - x)\n",
    "data.head(10)"
   ]
  },
  {
   "cell_type": "markdown",
   "id": "4f923c8b",
   "metadata": {},
   "source": [
    "\"Положительные\" стали отрицательными. Заменим их на пригодные медианные значения стажа в зависимости от возраста."
   ]
  },
  {
   "cell_type": "code",
   "execution_count": 36,
   "id": "0d9f8988",
   "metadata": {},
   "outputs": [
    {
     "data": {
      "text/html": [
       "<div>\n",
       "<style scoped>\n",
       "    .dataframe tbody tr th:only-of-type {\n",
       "        vertical-align: middle;\n",
       "    }\n",
       "\n",
       "    .dataframe tbody tr th {\n",
       "        vertical-align: top;\n",
       "    }\n",
       "\n",
       "    .dataframe thead th {\n",
       "        text-align: right;\n",
       "    }\n",
       "</style>\n",
       "<table border=\"1\" class=\"dataframe\">\n",
       "  <thead>\n",
       "    <tr style=\"text-align: right;\">\n",
       "      <th></th>\n",
       "      <th>children</th>\n",
       "      <th>days_employed</th>\n",
       "      <th>age</th>\n",
       "      <th>education</th>\n",
       "      <th>education_id</th>\n",
       "      <th>family_status</th>\n",
       "      <th>family_status_id</th>\n",
       "      <th>gender</th>\n",
       "      <th>income_type</th>\n",
       "      <th>debt</th>\n",
       "      <th>total_income</th>\n",
       "      <th>purpose</th>\n",
       "    </tr>\n",
       "  </thead>\n",
       "  <tbody>\n",
       "    <tr>\n",
       "      <th>0</th>\n",
       "      <td>1</td>\n",
       "      <td>8437.673028</td>\n",
       "      <td>42</td>\n",
       "      <td>высшее</td>\n",
       "      <td>0</td>\n",
       "      <td>женат / замужем</td>\n",
       "      <td>0</td>\n",
       "      <td>F</td>\n",
       "      <td>сотрудник</td>\n",
       "      <td>0</td>\n",
       "      <td>253875.639453</td>\n",
       "      <td>покупка жилья</td>\n",
       "    </tr>\n",
       "    <tr>\n",
       "      <th>1</th>\n",
       "      <td>1</td>\n",
       "      <td>4024.803754</td>\n",
       "      <td>36</td>\n",
       "      <td>среднее</td>\n",
       "      <td>1</td>\n",
       "      <td>женат / замужем</td>\n",
       "      <td>0</td>\n",
       "      <td>F</td>\n",
       "      <td>сотрудник</td>\n",
       "      <td>0</td>\n",
       "      <td>112080.014102</td>\n",
       "      <td>приобретение автомобиля</td>\n",
       "    </tr>\n",
       "    <tr>\n",
       "      <th>2</th>\n",
       "      <td>0</td>\n",
       "      <td>5623.422610</td>\n",
       "      <td>33</td>\n",
       "      <td>Среднее</td>\n",
       "      <td>1</td>\n",
       "      <td>женат / замужем</td>\n",
       "      <td>0</td>\n",
       "      <td>M</td>\n",
       "      <td>сотрудник</td>\n",
       "      <td>0</td>\n",
       "      <td>145885.952297</td>\n",
       "      <td>покупка жилья</td>\n",
       "    </tr>\n",
       "    <tr>\n",
       "      <th>3</th>\n",
       "      <td>3</td>\n",
       "      <td>4124.747207</td>\n",
       "      <td>32</td>\n",
       "      <td>среднее</td>\n",
       "      <td>1</td>\n",
       "      <td>женат / замужем</td>\n",
       "      <td>0</td>\n",
       "      <td>M</td>\n",
       "      <td>сотрудник</td>\n",
       "      <td>0</td>\n",
       "      <td>267628.550329</td>\n",
       "      <td>дополнительное образование</td>\n",
       "    </tr>\n",
       "    <tr>\n",
       "      <th>4</th>\n",
       "      <td>0</td>\n",
       "      <td>2252.537414</td>\n",
       "      <td>53</td>\n",
       "      <td>среднее</td>\n",
       "      <td>1</td>\n",
       "      <td>гражданский брак</td>\n",
       "      <td>1</td>\n",
       "      <td>F</td>\n",
       "      <td>пенсионер</td>\n",
       "      <td>0</td>\n",
       "      <td>158616.077870</td>\n",
       "      <td>сыграть свадьбу</td>\n",
       "    </tr>\n",
       "    <tr>\n",
       "      <th>5</th>\n",
       "      <td>0</td>\n",
       "      <td>926.185831</td>\n",
       "      <td>27</td>\n",
       "      <td>высшее</td>\n",
       "      <td>0</td>\n",
       "      <td>гражданский брак</td>\n",
       "      <td>1</td>\n",
       "      <td>M</td>\n",
       "      <td>компаньон</td>\n",
       "      <td>0</td>\n",
       "      <td>255763.565419</td>\n",
       "      <td>покупка жилья</td>\n",
       "    </tr>\n",
       "    <tr>\n",
       "      <th>6</th>\n",
       "      <td>0</td>\n",
       "      <td>2879.202052</td>\n",
       "      <td>43</td>\n",
       "      <td>высшее</td>\n",
       "      <td>0</td>\n",
       "      <td>женат / замужем</td>\n",
       "      <td>0</td>\n",
       "      <td>F</td>\n",
       "      <td>компаньон</td>\n",
       "      <td>0</td>\n",
       "      <td>240525.971920</td>\n",
       "      <td>операции с жильем</td>\n",
       "    </tr>\n",
       "    <tr>\n",
       "      <th>7</th>\n",
       "      <td>0</td>\n",
       "      <td>152.779569</td>\n",
       "      <td>50</td>\n",
       "      <td>СРЕДНЕЕ</td>\n",
       "      <td>1</td>\n",
       "      <td>женат / замужем</td>\n",
       "      <td>0</td>\n",
       "      <td>M</td>\n",
       "      <td>сотрудник</td>\n",
       "      <td>0</td>\n",
       "      <td>135823.934197</td>\n",
       "      <td>образование</td>\n",
       "    </tr>\n",
       "    <tr>\n",
       "      <th>8</th>\n",
       "      <td>2</td>\n",
       "      <td>6929.865299</td>\n",
       "      <td>35</td>\n",
       "      <td>ВЫСШЕЕ</td>\n",
       "      <td>0</td>\n",
       "      <td>гражданский брак</td>\n",
       "      <td>1</td>\n",
       "      <td>F</td>\n",
       "      <td>сотрудник</td>\n",
       "      <td>0</td>\n",
       "      <td>95856.832424</td>\n",
       "      <td>на проведение свадьбы</td>\n",
       "    </tr>\n",
       "    <tr>\n",
       "      <th>9</th>\n",
       "      <td>0</td>\n",
       "      <td>2188.756445</td>\n",
       "      <td>41</td>\n",
       "      <td>среднее</td>\n",
       "      <td>1</td>\n",
       "      <td>женат / замужем</td>\n",
       "      <td>0</td>\n",
       "      <td>M</td>\n",
       "      <td>сотрудник</td>\n",
       "      <td>0</td>\n",
       "      <td>144425.938277</td>\n",
       "      <td>покупка жилья для семьи</td>\n",
       "    </tr>\n",
       "  </tbody>\n",
       "</table>\n",
       "</div>"
      ],
      "text/plain": [
       "   children  days_employed  age education  education_id     family_status  \\\n",
       "0         1    8437.673028   42    высшее             0   женат / замужем   \n",
       "1         1    4024.803754   36   среднее             1   женат / замужем   \n",
       "2         0    5623.422610   33   Среднее             1   женат / замужем   \n",
       "3         3    4124.747207   32   среднее             1   женат / замужем   \n",
       "4         0    2252.537414   53   среднее             1  гражданский брак   \n",
       "5         0     926.185831   27    высшее             0  гражданский брак   \n",
       "6         0    2879.202052   43    высшее             0   женат / замужем   \n",
       "7         0     152.779569   50   СРЕДНЕЕ             1   женат / замужем   \n",
       "8         2    6929.865299   35    ВЫСШЕЕ             0  гражданский брак   \n",
       "9         0    2188.756445   41   среднее             1   женат / замужем   \n",
       "\n",
       "   family_status_id gender income_type  debt   total_income  \\\n",
       "0                 0      F   сотрудник     0  253875.639453   \n",
       "1                 0      F   сотрудник     0  112080.014102   \n",
       "2                 0      M   сотрудник     0  145885.952297   \n",
       "3                 0      M   сотрудник     0  267628.550329   \n",
       "4                 1      F   пенсионер     0  158616.077870   \n",
       "5                 1      M   компаньон     0  255763.565419   \n",
       "6                 0      F   компаньон     0  240525.971920   \n",
       "7                 0      M   сотрудник     0  135823.934197   \n",
       "8                 1      F   сотрудник     0   95856.832424   \n",
       "9                 0      M   сотрудник     0  144425.938277   \n",
       "\n",
       "                      purpose  \n",
       "0               покупка жилья  \n",
       "1     приобретение автомобиля  \n",
       "2               покупка жилья  \n",
       "3  дополнительное образование  \n",
       "4             сыграть свадьбу  \n",
       "5               покупка жилья  \n",
       "6           операции с жильем  \n",
       "7                 образование  \n",
       "8       на проведение свадьбы  \n",
       "9     покупка жилья для семьи  "
      ]
     },
     "execution_count": 36,
     "metadata": {},
     "output_type": "execute_result"
    }
   ],
   "source": [
    "for age, median in zip(ages, negative_abs_medians):\n",
    "    data.loc[\n",
    "        (data['age'] == age) & (data['days_employed'] < 0),\n",
    "        'days_employed'\n",
    "    ] = median\n",
    "\n",
    "data.head(10)"
   ]
  },
  {
   "cell_type": "markdown",
   "id": "9dff8bcf",
   "metadata": {},
   "source": [
    "Проверим, остались ли отрицательные или аномально большие величины."
   ]
  },
  {
   "cell_type": "code",
   "execution_count": 37,
   "id": "079b18b1",
   "metadata": {},
   "outputs": [
    {
     "name": "stdout",
     "output_type": "stream",
     "text": [
      "24.14163324048118\n",
      "18388.949900568383\n"
     ]
    }
   ],
   "source": [
    "print(data['days_employed'].min())\n",
    "print(data['days_employed'].max())"
   ]
  },
  {
   "cell_type": "markdown",
   "id": "da4dcb0e",
   "metadata": {},
   "source": [
    "Величин менее 0 и более 50 000 теперь нет.\n",
    "\n",
    "Последняя проверка: как сейчас распределён стаж по возрастам?"
   ]
  },
  {
   "cell_type": "code",
   "execution_count": 38,
   "id": "7db5dba6",
   "metadata": {},
   "outputs": [
    {
     "data": {
      "text/plain": [
       "<AxesSubplot:>"
      ]
     },
     "execution_count": 38,
     "metadata": {},
     "output_type": "execute_result"
    },
    {
     "data": {
      "image/png": "[encoded data removed]",
      "text/plain": [
       "<Figure size 432x288 with 1 Axes>"
      ]
     },
     "metadata": {
      "needs_background": "light"
     },
     "output_type": "display_data"
    }
   ],
   "source": [
    "ages = data['age'].sort_values().unique()\n",
    "employed_medians = []\n",
    "\n",
    "for age in ages:\n",
    "    employed_medians.append(\n",
    "        data[data['age'] == age]['days_employed'].median()\n",
    "    )\n",
    "\n",
    "seaborn.barplot(x=ages, y=employed_medians)"
   ]
  },
  {
   "cell_type": "markdown",
   "id": "595c209b",
   "metadata": {},
   "source": [
    "**Итоги исправлений:**\n",
    "- теперь стаж распределён естественным образом"
   ]
  },
  {
   "cell_type": "markdown",
   "id": "a666d47d",
   "metadata": {},
   "source": [
    " #### Аномалии в `gender`"
   ]
  },
  {
   "cell_type": "code",
   "execution_count": 39,
   "id": "03c15407",
   "metadata": {},
   "outputs": [
    {
     "data": {
      "text/plain": [
       "array(['F', 'M', 'XNA'], dtype=object)"
      ]
     },
     "execution_count": 39,
     "metadata": {},
     "output_type": "execute_result"
    }
   ],
   "source": [
    "data['gender'].sort_values().unique()"
   ]
  },
  {
   "cell_type": "markdown",
   "id": "9f55653e",
   "metadata": {},
   "source": [
    "Помимо пола `F` = \"жен\" и `M` = \"муж\", существует категория \"XNA\". Cколько их?"
   ]
  },
  {
   "cell_type": "code",
   "execution_count": 40,
   "id": "19eb6c06",
   "metadata": {},
   "outputs": [
    {
     "name": "stdout",
     "output_type": "stream",
     "text": [
      "XNA: 1, 0.00%\n"
     ]
    }
   ],
   "source": [
    "print_count('gender', 'XNA')"
   ]
  },
  {
   "cell_type": "markdown",
   "id": "f490acb0",
   "metadata": {},
   "source": [
    "Один человек. Что мы знаем о нём"
   ]
  },
  {
   "cell_type": "code",
   "execution_count": 41,
   "id": "c645f9bd",
   "metadata": {},
   "outputs": [
    {
     "data": {
      "text/html": [
       "<div>\n",
       "<style scoped>\n",
       "    .dataframe tbody tr th:only-of-type {\n",
       "        vertical-align: middle;\n",
       "    }\n",
       "\n",
       "    .dataframe tbody tr th {\n",
       "        vertical-align: top;\n",
       "    }\n",
       "\n",
       "    .dataframe thead th {\n",
       "        text-align: right;\n",
       "    }\n",
       "</style>\n",
       "<table border=\"1\" class=\"dataframe\">\n",
       "  <thead>\n",
       "    <tr style=\"text-align: right;\">\n",
       "      <th></th>\n",
       "      <th>children</th>\n",
       "      <th>days_employed</th>\n",
       "      <th>age</th>\n",
       "      <th>education</th>\n",
       "      <th>education_id</th>\n",
       "      <th>family_status</th>\n",
       "      <th>family_status_id</th>\n",
       "      <th>gender</th>\n",
       "      <th>income_type</th>\n",
       "      <th>debt</th>\n",
       "      <th>total_income</th>\n",
       "      <th>purpose</th>\n",
       "    </tr>\n",
       "  </thead>\n",
       "  <tbody>\n",
       "    <tr>\n",
       "      <th>10701</th>\n",
       "      <td>0</td>\n",
       "      <td>2358.600502</td>\n",
       "      <td>24</td>\n",
       "      <td>неоконченное высшее</td>\n",
       "      <td>2</td>\n",
       "      <td>гражданский брак</td>\n",
       "      <td>1</td>\n",
       "      <td>XNA</td>\n",
       "      <td>компаньон</td>\n",
       "      <td>0</td>\n",
       "      <td>203905.157261</td>\n",
       "      <td>покупка недвижимости</td>\n",
       "    </tr>\n",
       "  </tbody>\n",
       "</table>\n",
       "</div>"
      ],
      "text/plain": [
       "       children  days_employed  age            education  education_id  \\\n",
       "10701         0    2358.600502   24  неоконченное высшее             2   \n",
       "\n",
       "          family_status  family_status_id gender income_type  debt  \\\n",
       "10701  гражданский брак                 1    XNA   компаньон     0   \n",
       "\n",
       "        total_income               purpose  \n",
       "10701  203905.157261  покупка недвижимости  "
      ]
     },
     "execution_count": 41,
     "metadata": {},
     "output_type": "execute_result"
    }
   ],
   "source": [
    "data[data['gender'] == 'XNA']"
   ]
  },
  {
   "cell_type": "markdown",
   "id": "f993441f",
   "metadata": {},
   "source": [
    "Он (она) в браке, но не видно способа узнать, какого пола его партнёр.\n",
    "\n",
    "Предполагаем, что коственно пол можно узнать по сочетанию возраста, образования, дохода и стажа, возможно - по другим данным."
   ]
  },
  {
   "cell_type": "code",
   "execution_count": 42,
   "id": "7c24fdfa",
   "metadata": {
    "scrolled": true
   },
   "outputs": [
    {
     "name": "stdout",
     "output_type": "stream",
     "text": [
      " F: income 125605, employed 997 days.\n",
      " M: income 204513, employed 1105 days.\n",
      " XNA: income 203905, employed 2359 days.\n"
     ]
    }
   ],
   "source": [
    "# шаблон \"такие как XNA\"\n",
    "xna_profile = (data['age'] == 24) & (data['education_id'] == 2)\n",
    "\n",
    "for gender in data['gender'].unique():\n",
    "    # шаблон \"такие как gender\"\n",
    "    gender_profile = data[(data['gender'] == gender) & xna_profile]\n",
    "    \n",
    "    income = gender_profile['total_income'].median()\n",
    "    employed = gender_profile['days_employed'].median()\n",
    "    \n",
    "    print(f' {gender}: income {income:.0f}, employed {employed:.0f} days.')"
   ]
  },
  {
   "cell_type": "markdown",
   "id": "fbabd4ab",
   "metadata": {},
   "source": [
    "Доход XNA похож на мужской, но и стаж вдвое выше. Поэтому узнаем, а сколько зарабатывают мужчины и женщины с таким стажем и возрастом. А потом со стажем и образованием."
   ]
  },
  {
   "cell_type": "code",
   "execution_count": 43,
   "id": "e83ef646",
   "metadata": {},
   "outputs": [
    {
     "name": "stdout",
     "output_type": "stream",
     "text": [
      " F: income 177047, employed 2265 days.\n",
      " M: income 168919, employed 2269 days.\n",
      " XNA: income 203905, employed 2359 days.\n"
     ]
    }
   ],
   "source": [
    "# шаблон \"такие как XNA\"\n",
    "xna_profile = (\n",
    "    (data['age'] == 24)\n",
    "    & (data['days_employed'] > 2359 / 1.1)\n",
    "    & (data['days_employed'] < 2359 * 1.1)\n",
    ")\n",
    "\n",
    "for gender in data['gender'].unique():\n",
    "    # шаблон \"такие как gender\"\n",
    "    gender_profile = data[(data['gender'] == gender) & xna_profile]\n",
    "    \n",
    "    income = gender_profile['total_income'].median()\n",
    "    employed = gender_profile['days_employed'].median()\n",
    "    \n",
    "    print(f' {gender}: income {income:.0f}, employed {employed:.0f} days.')"
   ]
  },
  {
   "cell_type": "markdown",
   "id": "8b1d9ac0",
   "metadata": {},
   "source": [
    "Если в 24 года у мужчин и женщин похожий стаж - то и похожий доход. XNA зарабатывает больше тех и других. Какого он пола - не очевидно."
   ]
  },
  {
   "cell_type": "code",
   "execution_count": 44,
   "id": "5837136a",
   "metadata": {
    "scrolled": true
   },
   "outputs": [
    {
     "name": "stdout",
     "output_type": "stream",
     "text": [
      " F: income 124608, employed 2304 days.\n",
      " M: income 229769, employed 2239 days.\n",
      " XNA: income 203905, employed 2359 days.\n"
     ]
    }
   ],
   "source": [
    "# шаблон \"такие как XNA\"\n",
    "xna_profile = (\n",
    "    (data['education_id'] == 2)\n",
    "    & (data['days_employed'] > 2359 / 1.1)\n",
    "    & (data['days_employed'] < 2359 * 1.1)\n",
    ")\n",
    "\n",
    "for gender in data['gender'].unique():\n",
    "    # шаблон \"такие как gender\"\n",
    "    gender_profile = data[(data['gender'] == gender) & xna_profile]\n",
    "    \n",
    "    income = gender_profile['total_income'].median()\n",
    "    employed = gender_profile['days_employed'].median()\n",
    "    \n",
    "    print(f' {gender}: income {income:.0f}, employed {employed:.0f} days.')"
   ]
  },
  {
   "cell_type": "markdown",
   "id": "92302152",
   "metadata": {},
   "source": [
    "С неполным высшим образованием и стажем 6 полных лет мужчины имеют доход почти вдвое выше женщин.\n",
    "\n",
    "XNA по результатам более похож на мужчину.\n",
    "\n",
    "Проставим пол явно."
   ]
  },
  {
   "cell_type": "code",
   "execution_count": 45,
   "id": "efe58e6b",
   "metadata": {},
   "outputs": [
    {
     "data": {
      "text/plain": [
       "array(['F', 'M'], dtype=object)"
      ]
     },
     "execution_count": 45,
     "metadata": {},
     "output_type": "execute_result"
    }
   ],
   "source": [
    "data.loc[data['gender'] == 'XNA', 'gender'] = 'M'\n",
    "data['gender'].unique()"
   ]
  },
  {
   "cell_type": "markdown",
   "id": "f3bf72fa",
   "metadata": {},
   "source": [
    "**Итоги:**\n",
    "- Имеется 1 запись (0,00% от всех) с некорректным полом `XNA`.\n",
    "- Причина появления такой записей не ясна. `X` и `NA` (not avaliable) сами по себе часто означают \"нет данных\". Возможные причины:\n",
    "  - клиент хотел скрыть пол;\n",
    "  - анкета заполнялась не на себя, и пол не очевиден;\n",
    "  - пол не укладывается в бинарное \"муж/жен\".\n",
    "- Как избежать:\n",
    "  - можно заменить поле на булево is_female();\n",
    "  - если признаём много полов - запретить некоторые значения, типа содержащих 'NA', и прикреплять к данным расшифровку каждого значения.\n",
    "- По сочетанию дохода и образования этот клиент скорее мужчина.\n",
    "- Мы произвели замену значения `XNA` на `M`."
   ]
  },
  {
   "cell_type": "markdown",
   "id": "c293c1f8",
   "metadata": {},
   "source": [
    " ### Заполнение пропусков. <a id=\"fillna\"></a>"
   ]
  },
  {
   "cell_type": "markdown",
   "id": "05575e2d",
   "metadata": {},
   "source": [
    "Проверим, сколько явных пропусков и в каких они данных."
   ]
  },
  {
   "cell_type": "code",
   "execution_count": 46,
   "id": "34472fa9",
   "metadata": {},
   "outputs": [
    {
     "data": {
      "text/plain": [
       "children               0\n",
       "days_employed       2174\n",
       "age                    0\n",
       "education              0\n",
       "education_id           0\n",
       "family_status          0\n",
       "family_status_id       0\n",
       "gender                 0\n",
       "income_type            0\n",
       "debt                   0\n",
       "total_income        2174\n",
       "purpose                0\n",
       "dtype: int64"
      ]
     },
     "execution_count": 46,
     "metadata": {},
     "output_type": "execute_result"
    }
   ],
   "source": [
    "data.isna().sum()"
   ]
  },
  {
   "cell_type": "markdown",
   "id": "0f1f8e01",
   "metadata": {},
   "source": [
    "Как и в `.info()`, мы видим, что пропуски сделаны в двух колонках: `days_employed` и `total_income`. Поровну в каждой колонке. Значит ли это, что пропуски находятся в одни и тех же строках? Посчитаем строки, в которых пропущены данные обеих колонок сразу."
   ]
  },
  {
   "cell_type": "code",
   "execution_count": 47,
   "id": "53d4b723",
   "metadata": {},
   "outputs": [
    {
     "name": "stdout",
     "output_type": "stream",
     "text": [
      "Строк: 2174, 10.10%\n"
     ]
    }
   ],
   "source": [
    "nan_rows = data[data['days_employed'].isna() & data['total_income'].isna()]\n",
    "nan_rows_count = len(nan_rows.index)\n",
    "\n",
    "print(f'Строк: {nan_rows_count}, {nan_rows_count / len(data.index):.02%}')"
   ]
  },
  {
   "cell_type": "markdown",
   "id": "774ff31a",
   "metadata": {},
   "source": [
    "Таких строк ровно столько сколько пропусков вообще. То есть, во всех строках с пропусками пропущены сразу оба поля: `days_employed` и `total_income`.\n",
    "\n",
    "Они составляют существенную долю данных, их не стоит удалять.\n",
    "\n",
    "Стаж и доход заполним медианными значениями."
   ]
  },
  {
   "cell_type": "code",
   "execution_count": 48,
   "id": "9c4f2ce8",
   "metadata": {},
   "outputs": [],
   "source": [
    "data['days_employed'].fillna(data['days_employed'].median(), inplace=True)\n",
    "data['total_income'].fillna(data['total_income'].median(), inplace=True)"
   ]
  },
  {
   "cell_type": "markdown",
   "id": "72d50102",
   "metadata": {},
   "source": [
    "Проверяем, остались ли пропуски."
   ]
  },
  {
   "cell_type": "code",
   "execution_count": 49,
   "id": "667400fe",
   "metadata": {},
   "outputs": [
    {
     "data": {
      "text/plain": [
       "children            0\n",
       "days_employed       0\n",
       "age                 0\n",
       "education           0\n",
       "education_id        0\n",
       "family_status       0\n",
       "family_status_id    0\n",
       "gender              0\n",
       "income_type         0\n",
       "debt                0\n",
       "total_income        0\n",
       "purpose             0\n",
       "dtype: int64"
      ]
     },
     "execution_count": 49,
     "metadata": {},
     "output_type": "execute_result"
    }
   ],
   "source": [
    "data.isna().sum()"
   ]
  },
  {
   "cell_type": "markdown",
   "id": "4d7d596b",
   "metadata": {},
   "source": [
    "Явных пропусков нет.\n",
    "\n",
    "**Итоги:**\n",
    "- Были явно пропущены значения `days_employed` и `total_income`.\n",
    "- Явные пропуски содержат 10,1% строк.\n",
    "- Верней всего, пропуски возникают в один момент, в результате одной операции, одной причины.\n",
    "- Причина пропусков после обзора таблицы остаётся не ясной.\n",
    "- Пропуски заполнены медианными значениями столбцов, поскольку эти значения дадут наименьшее отличие от реальных данных, если те станут доступны (будут восстановлены или обновлены)."
   ]
  },
  {
   "cell_type": "markdown",
   "id": "855fa6cf",
   "metadata": {},
   "source": [
    "### Исправление типов данных. <a id=\"change_data_types\"></a>"
   ]
  },
  {
   "cell_type": "code",
   "execution_count": 50,
   "id": "ed61fdd3",
   "metadata": {},
   "outputs": [
    {
     "data": {
      "text/plain": [
       "children              int32\n",
       "days_employed       float64\n",
       "age                   int32\n",
       "education            object\n",
       "education_id          int64\n",
       "family_status        object\n",
       "family_status_id      int64\n",
       "gender               object\n",
       "income_type          object\n",
       "debt                  int64\n",
       "total_income        float64\n",
       "purpose              object\n",
       "dtype: object"
      ]
     },
     "execution_count": 50,
     "metadata": {},
     "output_type": "execute_result"
    }
   ],
   "source": [
    "data.dtypes"
   ]
  },
  {
   "cell_type": "markdown",
   "id": "b4115ab5",
   "metadata": {},
   "source": [
    "`total_income` содержит доход. Денежные величины обычно учитываются с двумя знаками в дробной части, однако задание предписывает перевести доход в целые величины."
   ]
  },
  {
   "cell_type": "code",
   "execution_count": 51,
   "id": "e14a2486",
   "metadata": {},
   "outputs": [
    {
     "data": {
      "text/plain": [
       "children              int32\n",
       "days_employed       float64\n",
       "age                   int32\n",
       "education            object\n",
       "education_id          int64\n",
       "family_status        object\n",
       "family_status_id      int64\n",
       "gender               object\n",
       "income_type          object\n",
       "debt                  int64\n",
       "total_income          int32\n",
       "purpose              object\n",
       "dtype: object"
      ]
     },
     "execution_count": 51,
     "metadata": {},
     "output_type": "execute_result"
    }
   ],
   "source": [
    "data['total_income'] = data['total_income'].astype('int32')\n",
    "\n",
    "data.dtypes"
   ]
  },
  {
   "cell_type": "markdown",
   "id": "6e039eac",
   "metadata": {},
   "source": [
    "**Итоги:**\n",
    "- Типы приведены к норме."
   ]
  },
  {
   "cell_type": "markdown",
   "id": "d4297766",
   "metadata": {},
   "source": [
    "### Удаление дубликатов. <a id=\"drop_duplicates\"></a>"
   ]
  },
  {
   "cell_type": "markdown",
   "id": "ce912a4d",
   "metadata": {},
   "source": [
    "#### \"Неявные\" дубликаты значений\n",
    "\"Неявный\" дубликат формально отличается от другого значения, но несёт тот же смысл.\n",
    "Чтобы обнаружить такие группы формально разных, но одинаковых по смыслу значений, мы просто запросим все формально уникальные значения в столбце.\n",
    "\n",
    "Для устранения дубликатов, будем приводить их к единым формулировкам, записанным \"lowercase\" - только маленькими буквами."
   ]
  },
  {
   "cell_type": "markdown",
   "id": "262568d4",
   "metadata": {},
   "source": [
    "##### Дубликаты в `education`"
   ]
  },
  {
   "cell_type": "code",
   "execution_count": 52,
   "id": "ea61a951",
   "metadata": {},
   "outputs": [
    {
     "data": {
      "text/plain": [
       "array(['ВЫСШЕЕ', 'Высшее', 'НАЧАЛЬНОЕ', 'НЕОКОНЧЕННОЕ ВЫСШЕЕ',\n",
       "       'Начальное', 'Неоконченное высшее', 'СРЕДНЕЕ', 'Среднее',\n",
       "       'УЧЕНАЯ СТЕПЕНЬ', 'Ученая степень', 'высшее', 'начальное',\n",
       "       'неоконченное высшее', 'среднее', 'ученая степень'], dtype=object)"
      ]
     },
     "execution_count": 52,
     "metadata": {},
     "output_type": "execute_result"
    }
   ],
   "source": [
    "data['education'].sort_values().unique()"
   ]
  },
  {
   "cell_type": "markdown",
   "id": "10fb2463",
   "metadata": {},
   "source": [
    "Все значения выглядят реальными. Существуют значения, одинаковые по смыслу, но разные по форме. Будем приводить смысловые дубликаты к единой форме \"lowercase\"."
   ]
  },
  {
   "cell_type": "code",
   "execution_count": 53,
   "id": "0972e2a6",
   "metadata": {},
   "outputs": [
    {
     "data": {
      "text/plain": [
       "array(['высшее', 'начальное', 'неоконченное высшее', 'среднее',\n",
       "       'ученая степень'], dtype=object)"
      ]
     },
     "execution_count": 53,
     "metadata": {},
     "output_type": "execute_result"
    }
   ],
   "source": [
    "data['education'] = data['education'].str.lower()\n",
    "data['education'].sort_values().unique()"
   ]
  },
  {
   "cell_type": "markdown",
   "id": "4fdf39bd",
   "metadata": {},
   "source": [
    "**Итоги:**\n",
    "- Получены 5 различных категорий образования."
   ]
  },
  {
   "cell_type": "markdown",
   "id": "649e3ce5",
   "metadata": {},
   "source": [
    "##### Дубликаты в `family_status`"
   ]
  },
  {
   "cell_type": "code",
   "execution_count": 54,
   "id": "93e0179e",
   "metadata": {},
   "outputs": [
    {
     "data": {
      "text/plain": [
       "array(['Не женат / не замужем', 'в разводе', 'вдовец / вдова',\n",
       "       'гражданский брак', 'женат / замужем'], dtype=object)"
      ]
     },
     "execution_count": 54,
     "metadata": {},
     "output_type": "execute_result"
    }
   ],
   "source": [
    "data['family_status'].sort_values().unique()"
   ]
  },
  {
   "cell_type": "markdown",
   "id": "493e0ffc",
   "metadata": {},
   "source": [
    "Все значения выглядят реальными. Здесь также существуют значения, одинаковые по смыслу, но разные по форме. Будем приводить смысловые дубликаты к единой форме \"lowercase\"."
   ]
  },
  {
   "cell_type": "code",
   "execution_count": 55,
   "id": "4993baef",
   "metadata": {},
   "outputs": [
    {
     "data": {
      "text/plain": [
       "array(['в разводе', 'вдовец / вдова', 'гражданский брак',\n",
       "       'женат / замужем', 'не женат / не замужем'], dtype=object)"
      ]
     },
     "execution_count": 55,
     "metadata": {},
     "output_type": "execute_result"
    }
   ],
   "source": [
    "data['family_status'] = data['family_status'].str.lower()\n",
    "data['family_status'].sort_values().unique()"
   ]
  },
  {
   "cell_type": "markdown",
   "id": "3562708f",
   "metadata": {},
   "source": [
    "**Итоги:**\n",
    "- Получены 5 различных категорий семейных отношений."
   ]
  },
  {
   "cell_type": "markdown",
   "id": "3b9ce230",
   "metadata": {},
   "source": [
    "##### Дубликаты в `income_type`"
   ]
  },
  {
   "cell_type": "code",
   "execution_count": 56,
   "id": "405329c8",
   "metadata": {},
   "outputs": [
    {
     "data": {
      "text/plain": [
       "array(['безработный', 'в декрете', 'госслужащий', 'компаньон',\n",
       "       'пенсионер', 'предприниматель', 'сотрудник', 'студент'],\n",
       "      dtype=object)"
      ]
     },
     "execution_count": 56,
     "metadata": {},
     "output_type": "execute_result"
    }
   ],
   "source": [
    "data['income_type'].sort_values().unique()"
   ]
  },
  {
   "cell_type": "markdown",
   "id": "a9b3e60d",
   "metadata": {},
   "source": [
    "Все значения выглядят реальными, неявных дубликатов нет, названия в \"lowercase\"."
   ]
  },
  {
   "cell_type": "markdown",
   "id": "b419a50c",
   "metadata": {},
   "source": [
    "##### Дубликаты в `purpose`"
   ]
  },
  {
   "cell_type": "code",
   "execution_count": 57,
   "id": "2bc3d174",
   "metadata": {},
   "outputs": [
    {
     "data": {
      "text/plain": [
       "array(['автомобили', 'автомобиль', 'высшее образование',\n",
       "       'дополнительное образование', 'жилье',\n",
       "       'заняться высшим образованием', 'заняться образованием',\n",
       "       'на покупку автомобиля', 'на покупку подержанного автомобиля',\n",
       "       'на покупку своего автомобиля', 'на проведение свадьбы',\n",
       "       'недвижимость', 'образование', 'операции с жильем',\n",
       "       'операции с коммерческой недвижимостью',\n",
       "       'операции с недвижимостью', 'операции со своей недвижимостью',\n",
       "       'покупка жилой недвижимости', 'покупка жилья',\n",
       "       'покупка жилья для сдачи', 'покупка жилья для семьи',\n",
       "       'покупка коммерческой недвижимости', 'покупка недвижимости',\n",
       "       'покупка своего жилья', 'получение высшего образования',\n",
       "       'получение дополнительного образования', 'получение образования',\n",
       "       'приобретение автомобиля', 'профильное образование',\n",
       "       'ремонт жилью', 'свадьба', 'свой автомобиль',\n",
       "       'сделка с автомобилем', 'сделка с подержанным автомобилем',\n",
       "       'строительство жилой недвижимости', 'строительство недвижимости',\n",
       "       'строительство собственной недвижимости', 'сыграть свадьбу'],\n",
       "      dtype=object)"
      ]
     },
     "execution_count": 57,
     "metadata": {},
     "output_type": "execute_result"
    }
   ],
   "source": [
    "data['purpose'].sort_values().unique()"
   ]
  },
  {
   "cell_type": "markdown",
   "id": "c110ba5f",
   "metadata": {},
   "source": [
    "Все значения выглядят реальными. Они в \"lowercase\". Есть много похожих по смыслу. Лучшим вариантом будет свести их в несколько более общих категорий."
   ]
  },
  {
   "cell_type": "markdown",
   "id": "7beab490",
   "metadata": {},
   "source": [
    "##### Итоги по неявным дубликатам\n",
    "- Для поиска использовали `.sorted_values().unique()`. В полученном списке уникальных значений смысловые дубликаты часто собраны по соседству друг с другом.\n",
    "- Названия категорий оформлены нами в lowercase. Был использован метод `.str.lower()`, созданный специально для этого. Для избавления от неявных дубликатов этого оказалось достаточно.\n",
    "- Возможные причины появления дубликатов:\n",
    "  - Отсутствие стандарта на то, как вводить названия категорий;\n",
    "- Как избежать:\n",
    "  - допускать к записи только определённые значения;\n",
    "  - применять lowercase или другую нормализацию значений при записи."
   ]
  },
  {
   "cell_type": "markdown",
   "id": "167e96a8",
   "metadata": {},
   "source": [
    "#### Полные дубликаты строк"
   ]
  },
  {
   "cell_type": "markdown",
   "id": "bc4eb9b8",
   "metadata": {},
   "source": [
    "Мы обеспечили единые по форме и реалистичные по смыслу значения в каждом столбце таблицы. Теперь взглянем на строки в целом.\n",
    "\n",
    "Мы решили считать, что каждая строка должна быть уникальна. Сколько у нас дубликатов?"
   ]
  },
  {
   "cell_type": "code",
   "execution_count": 58,
   "id": "6b8db076",
   "metadata": {},
   "outputs": [
    {
     "name": "stdout",
     "output_type": "stream",
     "text": [
      "Дубликатов строк: 72, 0.33%\n"
     ]
    }
   ],
   "source": [
    "def print_dupe_rows_count():\n",
    "    dupe_rows_count = data.duplicated().sum()\n",
    "    print(f'Дубликатов строк: {dupe_rows_count}, {dupe_rows_count / len(data.index):.02%}')\n",
    "\n",
    "print_dupe_rows_count()"
   ]
  },
  {
   "cell_type": "markdown",
   "id": "2e329b12",
   "metadata": {},
   "source": [
    "Даже если за ними скрываются реальные люди - их мало, результат будет отличаться несущественно. Убираем строки-дубликаты."
   ]
  },
  {
   "cell_type": "code",
   "execution_count": 59,
   "id": "dbee8479",
   "metadata": {},
   "outputs": [
    {
     "name": "stdout",
     "output_type": "stream",
     "text": [
      "Дубликатов строк: 0, 0.00%\n"
     ]
    }
   ],
   "source": [
    "data.drop_duplicates(inplace=True)\n",
    "data.reset_index(drop=True, inplace=True)\n",
    "print_dupe_rows_count()"
   ]
  },
  {
   "cell_type": "markdown",
   "id": "5e6ebb8c",
   "metadata": {},
   "source": [
    "### Выводы по исправлению данных"
   ]
  },
  {
   "cell_type": "markdown",
   "id": "893ca59e",
   "metadata": {},
   "source": [
    "- Данные низкого качества: содержат ошибки и пропуски.\n",
    "- Это ухудшает работу, потому что:\n",
    "  - На исправление данных ушло немало времени (17 часов);\n",
    "  - Исправленные данные не так надёжны, как достоверные (поскольку исправления сделаны на основе обоснованных предположений, но не достоверного знания о причинах, по которым записаны именно эти данные).\n",
    "- Ненадёжных данных в датасете:\n",
    "  - 100% из `days_employed`,\n",
    "  - 10,1% из `total_income`.\n",
    "- Это существенно нарушает хорошую практику, которая допускает максимум 1% недостоверных данных.\n",
    "- Следует оповестить об этом специалистов, которые отвечают за сбор, хранение и предоставление данной информации."
   ]
  },
  {
   "cell_type": "markdown",
   "id": "1a7aa70e",
   "metadata": {},
   "source": [
    "## Обработка данных"
   ]
  },
  {
   "cell_type": "markdown",
   "id": "341b3552",
   "metadata": {},
   "source": [
    "### Декомпозиция данных, создание дополняющих таблиц. <a id=\"decompose_data\"></a>"
   ]
  },
  {
   "cell_type": "markdown",
   "id": "1d287039",
   "metadata": {},
   "source": [
    "#### Создание датафрейма `education_levels`."
   ]
  },
  {
   "cell_type": "markdown",
   "id": "4da2374c",
   "metadata": {},
   "source": [
    "Проверим, какие значения бывают в `education_id` и `education`, как они соответствуют друг другу."
   ]
  },
  {
   "cell_type": "code",
   "execution_count": 60,
   "id": "665e7d96",
   "metadata": {
    "scrolled": true
   },
   "outputs": [
    {
     "data": {
      "text/plain": [
       "education_id\n",
       "0                 [высшее]\n",
       "1                [среднее]\n",
       "2    [неоконченное высшее]\n",
       "3              [начальное]\n",
       "4         [ученая степень]\n",
       "Name: education, dtype: object"
      ]
     },
     "execution_count": 60,
     "metadata": {},
     "output_type": "execute_result"
    }
   ],
   "source": [
    "data.groupby('education_id')['education'].unique()"
   ]
  },
  {
   "cell_type": "markdown",
   "id": "d93b5d64",
   "metadata": {},
   "source": [
    "Каждому `education_id` соответствует ровно один `education`. Формируем датафрейм."
   ]
  },
  {
   "cell_type": "code",
   "execution_count": 61,
   "id": "5571cf96",
   "metadata": {},
   "outputs": [
    {
     "data": {
      "text/html": [
       "<div>\n",
       "<style scoped>\n",
       "    .dataframe tbody tr th:only-of-type {\n",
       "        vertical-align: middle;\n",
       "    }\n",
       "\n",
       "    .dataframe tbody tr th {\n",
       "        vertical-align: top;\n",
       "    }\n",
       "\n",
       "    .dataframe thead th {\n",
       "        text-align: right;\n",
       "    }\n",
       "</style>\n",
       "<table border=\"1\" class=\"dataframe\">\n",
       "  <thead>\n",
       "    <tr style=\"text-align: right;\">\n",
       "      <th></th>\n",
       "      <th>education_id</th>\n",
       "      <th>education</th>\n",
       "    </tr>\n",
       "  </thead>\n",
       "  <tbody>\n",
       "    <tr>\n",
       "      <th>0</th>\n",
       "      <td>0</td>\n",
       "      <td>высшее</td>\n",
       "    </tr>\n",
       "    <tr>\n",
       "      <th>1</th>\n",
       "      <td>1</td>\n",
       "      <td>среднее</td>\n",
       "    </tr>\n",
       "    <tr>\n",
       "      <th>2</th>\n",
       "      <td>2</td>\n",
       "      <td>неоконченное высшее</td>\n",
       "    </tr>\n",
       "    <tr>\n",
       "      <th>3</th>\n",
       "      <td>3</td>\n",
       "      <td>начальное</td>\n",
       "    </tr>\n",
       "    <tr>\n",
       "      <th>4</th>\n",
       "      <td>4</td>\n",
       "      <td>ученая степень</td>\n",
       "    </tr>\n",
       "  </tbody>\n",
       "</table>\n",
       "</div>"
      ],
      "text/plain": [
       "   education_id            education\n",
       "0             0               высшее\n",
       "1             1              среднее\n",
       "2             2  неоконченное высшее\n",
       "3             3            начальное\n",
       "4             4       ученая степень"
      ]
     },
     "execution_count": 61,
     "metadata": {},
     "output_type": "execute_result"
    }
   ],
   "source": [
    "education_levels = data.groupby('education_id')['education'].max().reset_index()\n",
    "education_levels"
   ]
  },
  {
   "cell_type": "markdown",
   "id": "76da059d",
   "metadata": {},
   "source": [
    "#### Создание датафрейма `family_statuses`."
   ]
  },
  {
   "cell_type": "markdown",
   "id": "023db851",
   "metadata": {},
   "source": [
    "Проверим, какие значения бывают в `family_status_id` и `family_status`, как они соответствуют друг другу."
   ]
  },
  {
   "cell_type": "code",
   "execution_count": 62,
   "id": "c89b9a55",
   "metadata": {
    "scrolled": true
   },
   "outputs": [
    {
     "data": {
      "text/plain": [
       "family_status_id\n",
       "0          [женат / замужем]\n",
       "1         [гражданский брак]\n",
       "2           [вдовец / вдова]\n",
       "3                [в разводе]\n",
       "4    [не женат / не замужем]\n",
       "Name: family_status, dtype: object"
      ]
     },
     "execution_count": 62,
     "metadata": {},
     "output_type": "execute_result"
    }
   ],
   "source": [
    "data.groupby('family_status_id')['family_status'].unique()"
   ]
  },
  {
   "cell_type": "markdown",
   "id": "abc71b83",
   "metadata": {},
   "source": [
    "Каждому `family_status_id` соответствует ровно один `family_status`. Формируем датафрейм."
   ]
  },
  {
   "cell_type": "code",
   "execution_count": 63,
   "id": "1344198c",
   "metadata": {},
   "outputs": [
    {
     "data": {
      "text/html": [
       "<div>\n",
       "<style scoped>\n",
       "    .dataframe tbody tr th:only-of-type {\n",
       "        vertical-align: middle;\n",
       "    }\n",
       "\n",
       "    .dataframe tbody tr th {\n",
       "        vertical-align: top;\n",
       "    }\n",
       "\n",
       "    .dataframe thead th {\n",
       "        text-align: right;\n",
       "    }\n",
       "</style>\n",
       "<table border=\"1\" class=\"dataframe\">\n",
       "  <thead>\n",
       "    <tr style=\"text-align: right;\">\n",
       "      <th></th>\n",
       "      <th>family_status_id</th>\n",
       "      <th>family_status</th>\n",
       "    </tr>\n",
       "  </thead>\n",
       "  <tbody>\n",
       "    <tr>\n",
       "      <th>0</th>\n",
       "      <td>0</td>\n",
       "      <td>женат / замужем</td>\n",
       "    </tr>\n",
       "    <tr>\n",
       "      <th>1</th>\n",
       "      <td>1</td>\n",
       "      <td>гражданский брак</td>\n",
       "    </tr>\n",
       "    <tr>\n",
       "      <th>2</th>\n",
       "      <td>2</td>\n",
       "      <td>вдовец / вдова</td>\n",
       "    </tr>\n",
       "    <tr>\n",
       "      <th>3</th>\n",
       "      <td>3</td>\n",
       "      <td>в разводе</td>\n",
       "    </tr>\n",
       "    <tr>\n",
       "      <th>4</th>\n",
       "      <td>4</td>\n",
       "      <td>не женат / не замужем</td>\n",
       "    </tr>\n",
       "  </tbody>\n",
       "</table>\n",
       "</div>"
      ],
      "text/plain": [
       "   family_status_id          family_status\n",
       "0                 0        женат / замужем\n",
       "1                 1       гражданский брак\n",
       "2                 2         вдовец / вдова\n",
       "3                 3              в разводе\n",
       "4                 4  не женат / не замужем"
      ]
     },
     "execution_count": 63,
     "metadata": {},
     "output_type": "execute_result"
    }
   ],
   "source": [
    "family_statuses = data.groupby('family_status_id')['family_status'].max().reset_index()\n",
    "family_statuses"
   ]
  },
  {
   "cell_type": "markdown",
   "id": "ddf25c53",
   "metadata": {},
   "source": [
    "#### Удаление колонок `education` и `family_status`."
   ]
  },
  {
   "cell_type": "markdown",
   "id": "93d689c4",
   "metadata": {},
   "source": [
    "Данную информацию можно почерпнуть из созданных датафреймов, когда потребуется."
   ]
  },
  {
   "cell_type": "code",
   "execution_count": 64,
   "id": "5b9651ab",
   "metadata": {},
   "outputs": [
    {
     "data": {
      "text/plain": [
       "Index(['children', 'days_employed', 'age', 'education_id', 'family_status_id',\n",
       "       'gender', 'income_type', 'debt', 'total_income', 'purpose'],\n",
       "      dtype='object')"
      ]
     },
     "execution_count": 64,
     "metadata": {},
     "output_type": "execute_result"
    }
   ],
   "source": [
    "data.drop(columns=['education', 'family_status'], inplace=True)\n",
    "data.columns"
   ]
  },
  {
   "cell_type": "markdown",
   "id": "24971a5d",
   "metadata": {},
   "source": [
    "**Итоги:**\n",
    "- Обнаружены пары колонок `education` и `education_id`, а также `family_status` и `family_status_id`. Значения в каждой паре прямо соответствуют \"один к одному\".\n",
    "- Созданы дополнительные датафреймы, которые описывают эти соответствия, `education_levels` и `family_statuses`.\n",
    "- В этих парах больше ресурсов требуют колонки `education` и `family_status`. Он убраны из основного датафрейма как излишние."
   ]
  },
  {
   "cell_type": "markdown",
   "id": "7049ca54",
   "metadata": {},
   "source": [
    "### Категории дохода. <a id=\"income_categories\"></a>"
   ]
  },
  {
   "cell_type": "code",
   "execution_count": 65,
   "id": "bd4d1f40",
   "metadata": {},
   "outputs": [
    {
     "data": {
      "text/html": [
       "<div>\n",
       "<style scoped>\n",
       "    .dataframe tbody tr th:only-of-type {\n",
       "        vertical-align: middle;\n",
       "    }\n",
       "\n",
       "    .dataframe tbody tr th {\n",
       "        vertical-align: top;\n",
       "    }\n",
       "\n",
       "    .dataframe thead th {\n",
       "        text-align: right;\n",
       "    }\n",
       "</style>\n",
       "<table border=\"1\" class=\"dataframe\">\n",
       "  <thead>\n",
       "    <tr style=\"text-align: right;\">\n",
       "      <th></th>\n",
       "      <th>total_income</th>\n",
       "      <th>total_income_category</th>\n",
       "    </tr>\n",
       "  </thead>\n",
       "  <tbody>\n",
       "    <tr>\n",
       "      <th>0</th>\n",
       "      <td>253875</td>\n",
       "      <td>B</td>\n",
       "    </tr>\n",
       "    <tr>\n",
       "      <th>1</th>\n",
       "      <td>112080</td>\n",
       "      <td>C</td>\n",
       "    </tr>\n",
       "    <tr>\n",
       "      <th>2</th>\n",
       "      <td>145885</td>\n",
       "      <td>C</td>\n",
       "    </tr>\n",
       "    <tr>\n",
       "      <th>3</th>\n",
       "      <td>267628</td>\n",
       "      <td>B</td>\n",
       "    </tr>\n",
       "    <tr>\n",
       "      <th>4</th>\n",
       "      <td>158616</td>\n",
       "      <td>C</td>\n",
       "    </tr>\n",
       "    <tr>\n",
       "      <th>5</th>\n",
       "      <td>255763</td>\n",
       "      <td>B</td>\n",
       "    </tr>\n",
       "    <tr>\n",
       "      <th>6</th>\n",
       "      <td>240525</td>\n",
       "      <td>B</td>\n",
       "    </tr>\n",
       "    <tr>\n",
       "      <th>7</th>\n",
       "      <td>135823</td>\n",
       "      <td>C</td>\n",
       "    </tr>\n",
       "    <tr>\n",
       "      <th>8</th>\n",
       "      <td>95856</td>\n",
       "      <td>C</td>\n",
       "    </tr>\n",
       "    <tr>\n",
       "      <th>9</th>\n",
       "      <td>144425</td>\n",
       "      <td>C</td>\n",
       "    </tr>\n",
       "  </tbody>\n",
       "</table>\n",
       "</div>"
      ],
      "text/plain": [
       "   total_income total_income_category\n",
       "0        253875                     B\n",
       "1        112080                     C\n",
       "2        145885                     C\n",
       "3        267628                     B\n",
       "4        158616                     C\n",
       "5        255763                     B\n",
       "6        240525                     B\n",
       "7        135823                     C\n",
       "8         95856                     C\n",
       "9        144425                     C"
      ]
     },
     "execution_count": 65,
     "metadata": {},
     "output_type": "execute_result"
    }
   ],
   "source": [
    "def get_income_category(income):\n",
    "    if income <= 30_000:\n",
    "        return 'E'\n",
    "    if income <= 50_000:\n",
    "        return 'D'\n",
    "    if income <= 200_000:\n",
    "        return 'C'\n",
    "    if income <= 1_000_000:\n",
    "        return 'B'\n",
    "    return 'A'\n",
    "\n",
    "data['total_income_category'] = data['total_income'].apply(get_income_category)\n",
    "data.loc[:, ['total_income', 'total_income_category']].head(10)"
   ]
  },
  {
   "cell_type": "markdown",
   "id": "418ae600",
   "metadata": {},
   "source": [
    "**Итоги:**\n",
    "- Добавлен столбец `total_income_categories` - \"Категории дохода\", где `A` - наибольший доход."
   ]
  },
  {
   "cell_type": "markdown",
   "id": "93524c93",
   "metadata": {},
   "source": [
    "### Категории целей кредита. <a id=\"purpose_categories\"></a>"
   ]
  },
  {
   "cell_type": "markdown",
   "id": "acac0fed",
   "metadata": {},
   "source": [
    "Посмотрим, какие существуют варианты значений в `purpose`."
   ]
  },
  {
   "cell_type": "code",
   "execution_count": 66,
   "id": "cd0015cf",
   "metadata": {
    "scrolled": true
   },
   "outputs": [
    {
     "data": {
      "text/plain": [
       "array(['автомобили', 'автомобиль', 'высшее образование',\n",
       "       'дополнительное образование', 'жилье',\n",
       "       'заняться высшим образованием', 'заняться образованием',\n",
       "       'на покупку автомобиля', 'на покупку подержанного автомобиля',\n",
       "       'на покупку своего автомобиля', 'на проведение свадьбы',\n",
       "       'недвижимость', 'образование', 'операции с жильем',\n",
       "       'операции с коммерческой недвижимостью',\n",
       "       'операции с недвижимостью', 'операции со своей недвижимостью',\n",
       "       'покупка жилой недвижимости', 'покупка жилья',\n",
       "       'покупка жилья для сдачи', 'покупка жилья для семьи',\n",
       "       'покупка коммерческой недвижимости', 'покупка недвижимости',\n",
       "       'покупка своего жилья', 'получение высшего образования',\n",
       "       'получение дополнительного образования', 'получение образования',\n",
       "       'приобретение автомобиля', 'профильное образование',\n",
       "       'ремонт жилью', 'свадьба', 'свой автомобиль',\n",
       "       'сделка с автомобилем', 'сделка с подержанным автомобилем',\n",
       "       'строительство жилой недвижимости', 'строительство недвижимости',\n",
       "       'строительство собственной недвижимости', 'сыграть свадьбу'],\n",
       "      dtype=object)"
      ]
     },
     "metadata": {},
     "output_type": "display_data"
    }
   ],
   "source": [
    "purposes = data['purpose'].sort_values().unique()\n",
    "display(purposes)"
   ]
  },
  {
   "cell_type": "markdown",
   "id": "42a880f3",
   "metadata": {},
   "source": [
    "Вариантов много, отсортируем автоматически."
   ]
  },
  {
   "cell_type": "code",
   "execution_count": 67,
   "id": "6e5c45ab",
   "metadata": {},
   "outputs": [
    {
     "name": "stdout",
     "output_type": "stream",
     "text": [
      "= ОПЕРАЦИИ С АВТОМОБИЛЕМ =\n",
      "автомобили\n",
      "автомобиль\n",
      "на покупку автомобиля\n",
      "на покупку подержанного автомобиля\n",
      "на покупку своего автомобиля\n",
      "приобретение автомобиля\n",
      "свой автомобиль\n",
      "сделка с автомобилем\n",
      "сделка с подержанным автомобилем\n",
      "\n",
      "= ПОЛУЧЕНИЕ ОБРАЗОВАНИЯ =\n",
      "высшее образование\n",
      "дополнительное образование\n",
      "заняться высшим образованием\n",
      "заняться образованием\n",
      "образование\n",
      "получение высшего образования\n",
      "получение дополнительного образования\n",
      "получение образования\n",
      "профильное образование\n",
      "\n",
      "= ОПЕРАЦИИ С НЕДВИЖИМОСТЬЮ =\n",
      "жилье\n",
      "недвижимость\n",
      "операции с жильем\n",
      "операции с коммерческой недвижимостью\n",
      "операции с недвижимостью\n",
      "операции со своей недвижимостью\n",
      "покупка жилой недвижимости\n",
      "покупка жилья\n",
      "покупка жилья для сдачи\n",
      "покупка жилья для семьи\n",
      "покупка коммерческой недвижимости\n",
      "покупка недвижимости\n",
      "покупка своего жилья\n",
      "ремонт жилью\n",
      "строительство жилой недвижимости\n",
      "строительство недвижимости\n",
      "строительство собственной недвижимости\n",
      "\n",
      "= ПРОВЕДЕНИЕ СВАДЬБЫ =\n",
      "на проведение свадьбы\n",
      "свадьба\n",
      "сыграть свадьбу\n",
      "\n"
     ]
    }
   ],
   "source": [
    "patterns = {\n",
    "    'авто': 'операции с автомобилем',\n",
    "    'жил': 'операции с недвижимостью',\n",
    "    'недвиж': 'операции с недвижимостью',\n",
    "    'свад': 'проведение свадьбы',\n",
    "    'образов': 'получение образования',\n",
    "    '': 'other',\n",
    "}\n",
    "\n",
    "counter = {}\n",
    "\n",
    "for purpose in purposes:\n",
    "    for pattern in patterns:\n",
    "        # если ожидаемый нами кусок слова упомянут в причине\n",
    "        if pattern in purpose:\n",
    "            # создаём список в счётчике категорий\n",
    "            # если список был создан ранее - получаем его\n",
    "            values = counter.setdefault(patterns[pattern], list())\n",
    "            # и в любом случае добавляем значение в этот список\n",
    "            values.append(purpose)\n",
    "            # тему данной причины поняли, переходим к следующей причине\n",
    "            break\n",
    "\n",
    "for key, values in counter.items():\n",
    "    print('=', key.upper(), '=')\n",
    "    for value in values:\n",
    "        print(value)\n",
    "    print()"
   ]
  },
  {
   "cell_type": "markdown",
   "id": "658fbcde",
   "metadata": {},
   "source": [
    "Все причины распределены по категориям верно, в категории `other` ничего. Значит, достаточно четырёх категорий."
   ]
  },
  {
   "cell_type": "markdown",
   "id": "76b67fe0",
   "metadata": {},
   "source": [
    "Теперь мы можем указать указать категорию причины прямо в основном датафрейме."
   ]
  },
  {
   "cell_type": "code",
   "execution_count": 68,
   "id": "da7f301f",
   "metadata": {
    "scrolled": true
   },
   "outputs": [
    {
     "data": {
      "text/html": [
       "<div>\n",
       "<style scoped>\n",
       "    .dataframe tbody tr th:only-of-type {\n",
       "        vertical-align: middle;\n",
       "    }\n",
       "\n",
       "    .dataframe tbody tr th {\n",
       "        vertical-align: top;\n",
       "    }\n",
       "\n",
       "    .dataframe thead th {\n",
       "        text-align: right;\n",
       "    }\n",
       "</style>\n",
       "<table border=\"1\" class=\"dataframe\">\n",
       "  <thead>\n",
       "    <tr style=\"text-align: right;\">\n",
       "      <th></th>\n",
       "      <th>purpose</th>\n",
       "      <th>purpose_category</th>\n",
       "    </tr>\n",
       "  </thead>\n",
       "  <tbody>\n",
       "    <tr>\n",
       "      <th>0</th>\n",
       "      <td>покупка жилья</td>\n",
       "      <td>операции с недвижимостью</td>\n",
       "    </tr>\n",
       "    <tr>\n",
       "      <th>1</th>\n",
       "      <td>приобретение автомобиля</td>\n",
       "      <td>операции с автомобилем</td>\n",
       "    </tr>\n",
       "    <tr>\n",
       "      <th>2</th>\n",
       "      <td>покупка жилья</td>\n",
       "      <td>операции с недвижимостью</td>\n",
       "    </tr>\n",
       "    <tr>\n",
       "      <th>3</th>\n",
       "      <td>дополнительное образование</td>\n",
       "      <td>получение образования</td>\n",
       "    </tr>\n",
       "    <tr>\n",
       "      <th>4</th>\n",
       "      <td>сыграть свадьбу</td>\n",
       "      <td>проведение свадьбы</td>\n",
       "    </tr>\n",
       "    <tr>\n",
       "      <th>5</th>\n",
       "      <td>покупка жилья</td>\n",
       "      <td>операции с недвижимостью</td>\n",
       "    </tr>\n",
       "    <tr>\n",
       "      <th>6</th>\n",
       "      <td>операции с жильем</td>\n",
       "      <td>операции с недвижимостью</td>\n",
       "    </tr>\n",
       "    <tr>\n",
       "      <th>7</th>\n",
       "      <td>образование</td>\n",
       "      <td>получение образования</td>\n",
       "    </tr>\n",
       "    <tr>\n",
       "      <th>8</th>\n",
       "      <td>на проведение свадьбы</td>\n",
       "      <td>проведение свадьбы</td>\n",
       "    </tr>\n",
       "    <tr>\n",
       "      <th>9</th>\n",
       "      <td>покупка жилья для семьи</td>\n",
       "      <td>операции с недвижимостью</td>\n",
       "    </tr>\n",
       "  </tbody>\n",
       "</table>\n",
       "</div>"
      ],
      "text/plain": [
       "                      purpose          purpose_category\n",
       "0               покупка жилья  операции с недвижимостью\n",
       "1     приобретение автомобиля    операции с автомобилем\n",
       "2               покупка жилья  операции с недвижимостью\n",
       "3  дополнительное образование     получение образования\n",
       "4             сыграть свадьбу        проведение свадьбы\n",
       "5               покупка жилья  операции с недвижимостью\n",
       "6           операции с жильем  операции с недвижимостью\n",
       "7                 образование     получение образования\n",
       "8       на проведение свадьбы        проведение свадьбы\n",
       "9     покупка жилья для семьи  операции с недвижимостью"
      ]
     },
     "execution_count": 68,
     "metadata": {},
     "output_type": "execute_result"
    }
   ],
   "source": [
    "def purpose_category(purpose):\n",
    "    for pattern in patterns:\n",
    "        if pattern in purpose:\n",
    "            return patterns[pattern]  \n",
    "\n",
    "data['purpose_category'] = data['purpose'].apply(purpose_category)\n",
    "data.loc[:, ['purpose', 'purpose_category']].head(10)"
   ]
  },
  {
   "cell_type": "markdown",
   "id": "25cc96f0",
   "metadata": {},
   "source": [
    "**Итоги:**\n",
    "- Добавлен столбец `purpose_category` - \"Категория цели кредита\"."
   ]
  },
  {
   "cell_type": "markdown",
   "id": "8d107492",
   "metadata": {},
   "source": [
    "## Ответы на вопросы. <a id=\"checking_for_anomalies\"></a>"
   ]
  },
  {
   "cell_type": "markdown",
   "id": "c2b43234",
   "metadata": {},
   "source": [
    "### Есть ли зависимость между количеством детей и возвратом кредита в срок?"
   ]
  },
  {
   "cell_type": "code",
   "execution_count": 69,
   "id": "1b65525c",
   "metadata": {},
   "outputs": [],
   "source": [
    "def get_debt_pivots(index):\n",
    "    result = data.pivot_table(index=index, values='debt', aggfunc=['mean', 'count'])\n",
    "    result.columns = ['%', 'out of']\n",
    "    result['%'] = round(result['%'] * 100, 2)\n",
    "    result.sort_values('%', inplace=True)\n",
    "    result.reset_index(inplace=True)\n",
    "    return result"
   ]
  },
  {
   "cell_type": "code",
   "execution_count": 70,
   "id": "28e88993",
   "metadata": {
    "scrolled": true
   },
   "outputs": [
    {
     "data": {
      "text/html": [
       "<div>\n",
       "<style scoped>\n",
       "    .dataframe tbody tr th:only-of-type {\n",
       "        vertical-align: middle;\n",
       "    }\n",
       "\n",
       "    .dataframe tbody tr th {\n",
       "        vertical-align: top;\n",
       "    }\n",
       "\n",
       "    .dataframe thead th {\n",
       "        text-align: right;\n",
       "    }\n",
       "</style>\n",
       "<table border=\"1\" class=\"dataframe\">\n",
       "  <thead>\n",
       "    <tr style=\"text-align: right;\">\n",
       "      <th></th>\n",
       "      <th>children</th>\n",
       "      <th>%</th>\n",
       "      <th>out of</th>\n",
       "    </tr>\n",
       "  </thead>\n",
       "  <tbody>\n",
       "    <tr>\n",
       "      <th>0</th>\n",
       "      <td>5</td>\n",
       "      <td>0.00</td>\n",
       "      <td>9</td>\n",
       "    </tr>\n",
       "    <tr>\n",
       "      <th>1</th>\n",
       "      <td>0</td>\n",
       "      <td>7.54</td>\n",
       "      <td>14213</td>\n",
       "    </tr>\n",
       "    <tr>\n",
       "      <th>2</th>\n",
       "      <td>3</td>\n",
       "      <td>8.18</td>\n",
       "      <td>330</td>\n",
       "    </tr>\n",
       "    <tr>\n",
       "      <th>3</th>\n",
       "      <td>1</td>\n",
       "      <td>9.23</td>\n",
       "      <td>4808</td>\n",
       "    </tr>\n",
       "    <tr>\n",
       "      <th>4</th>\n",
       "      <td>2</td>\n",
       "      <td>9.45</td>\n",
       "      <td>2052</td>\n",
       "    </tr>\n",
       "    <tr>\n",
       "      <th>5</th>\n",
       "      <td>4</td>\n",
       "      <td>9.76</td>\n",
       "      <td>41</td>\n",
       "    </tr>\n",
       "  </tbody>\n",
       "</table>\n",
       "</div>"
      ],
      "text/plain": [
       "   children     %  out of\n",
       "0         5  0.00       9\n",
       "1         0  7.54   14213\n",
       "2         3  8.18     330\n",
       "3         1  9.23    4808\n",
       "4         2  9.45    2052\n",
       "5         4  9.76      41"
      ]
     },
     "execution_count": 70,
     "metadata": {},
     "output_type": "execute_result"
    }
   ],
   "source": [
    "children_pivots = get_debt_pivots('children')\n",
    "children_pivots"
   ]
  },
  {
   "cell_type": "code",
   "execution_count": 71,
   "id": "868c9b62",
   "metadata": {},
   "outputs": [
    {
     "name": "stdout",
     "output_type": "stream",
     "text": [
      "Клиенты с детьми: 9.24% out of 7240\n"
     ]
    }
   ],
   "source": [
    "have_children = data[data['children'] > 0]['debt']\n",
    "print(f'Клиенты с детьми: {have_children.mean():.02%} out of {have_children.count()}')"
   ]
  },
  {
   "cell_type": "markdown",
   "id": "5b6964da",
   "metadata": {},
   "source": [
    "**Выводы:**\n",
    "- В среднем 7,54% бездетных клиентов имели задолженность по кредиту.\n",
    "- Клиентов с детьми вдвое меньше, чем бездетных, в среднем 9,24% из них имели задолженность.\n",
    "- У клиентов с детьми нет чёткой корреляции между кол-вом детей и задолженностями (значение при трёх детях нарушает возрастающую тенденцию, а случаев с четырьмя и пятью детьми недостаточно для выводов).\n",
    "- Заёмщики без детей привлекательнее: их больше (2/3 клиентов), их надёжность выше."
   ]
  },
  {
   "cell_type": "markdown",
   "id": "82579cfb",
   "metadata": {},
   "source": [
    "### Есть ли зависимость между семейным положением и возвратом кредита в срок?"
   ]
  },
  {
   "cell_type": "code",
   "execution_count": 72,
   "id": "439b8faf",
   "metadata": {
    "scrolled": true
   },
   "outputs": [
    {
     "data": {
      "text/html": [
       "<div>\n",
       "<style scoped>\n",
       "    .dataframe tbody tr th:only-of-type {\n",
       "        vertical-align: middle;\n",
       "    }\n",
       "\n",
       "    .dataframe tbody tr th {\n",
       "        vertical-align: top;\n",
       "    }\n",
       "\n",
       "    .dataframe thead th {\n",
       "        text-align: right;\n",
       "    }\n",
       "</style>\n",
       "<table border=\"1\" class=\"dataframe\">\n",
       "  <thead>\n",
       "    <tr style=\"text-align: right;\">\n",
       "      <th></th>\n",
       "      <th>family_status_id</th>\n",
       "      <th>%</th>\n",
       "      <th>out of</th>\n",
       "      <th>family_status</th>\n",
       "    </tr>\n",
       "  </thead>\n",
       "  <tbody>\n",
       "    <tr>\n",
       "      <th>0</th>\n",
       "      <td>2</td>\n",
       "      <td>6.57</td>\n",
       "      <td>959</td>\n",
       "      <td>вдовец / вдова</td>\n",
       "    </tr>\n",
       "    <tr>\n",
       "      <th>1</th>\n",
       "      <td>3</td>\n",
       "      <td>7.11</td>\n",
       "      <td>1195</td>\n",
       "      <td>в разводе</td>\n",
       "    </tr>\n",
       "    <tr>\n",
       "      <th>2</th>\n",
       "      <td>0</td>\n",
       "      <td>7.55</td>\n",
       "      <td>12339</td>\n",
       "      <td>женат / замужем</td>\n",
       "    </tr>\n",
       "    <tr>\n",
       "      <th>3</th>\n",
       "      <td>1</td>\n",
       "      <td>9.35</td>\n",
       "      <td>4150</td>\n",
       "      <td>гражданский брак</td>\n",
       "    </tr>\n",
       "    <tr>\n",
       "      <th>4</th>\n",
       "      <td>4</td>\n",
       "      <td>9.75</td>\n",
       "      <td>2810</td>\n",
       "      <td>не женат / не замужем</td>\n",
       "    </tr>\n",
       "  </tbody>\n",
       "</table>\n",
       "</div>"
      ],
      "text/plain": [
       "   family_status_id     %  out of          family_status\n",
       "0                 2  6.57     959         вдовец / вдова\n",
       "1                 3  7.11    1195              в разводе\n",
       "2                 0  7.55   12339        женат / замужем\n",
       "3                 1  9.35    4150       гражданский брак\n",
       "4                 4  9.75    2810  не женат / не замужем"
      ]
     },
     "execution_count": 72,
     "metadata": {},
     "output_type": "execute_result"
    }
   ],
   "source": [
    "get_debt_pivots('family_status_id').merge(family_statuses, on='family_status_id')"
   ]
  },
  {
   "cell_type": "markdown",
   "id": "3577afe3",
   "metadata": {},
   "source": [
    "**Выводы:**\n",
    "- Вдовцы и вдовы надёжней других категорий (однако статистики по ним меньше всего, при большей статистике % может измениться сильнее чем по другим категориям).\n",
    "- Привлекательнее заёмщики, оформлявшие брак (включая разведённых и овдовевших) - их больше (2/3 клиентов), их надёжность выше чем тех, кто брак не оформлял (включая живущих в паре и без пары)."
   ]
  },
  {
   "cell_type": "markdown",
   "id": "2d621a6c",
   "metadata": {},
   "source": [
    "### Есть ли зависимость между уровнем дохода и возвратом кредита в срок?"
   ]
  },
  {
   "cell_type": "code",
   "execution_count": 73,
   "id": "a6fe1a3a",
   "metadata": {},
   "outputs": [
    {
     "data": {
      "text/html": [
       "<div>\n",
       "<style scoped>\n",
       "    .dataframe tbody tr th:only-of-type {\n",
       "        vertical-align: middle;\n",
       "    }\n",
       "\n",
       "    .dataframe tbody tr th {\n",
       "        vertical-align: top;\n",
       "    }\n",
       "\n",
       "    .dataframe thead th {\n",
       "        text-align: right;\n",
       "    }\n",
       "</style>\n",
       "<table border=\"1\" class=\"dataframe\">\n",
       "  <thead>\n",
       "    <tr style=\"text-align: right;\">\n",
       "      <th></th>\n",
       "      <th>total_income_category</th>\n",
       "      <th>%</th>\n",
       "      <th>out of</th>\n",
       "    </tr>\n",
       "  </thead>\n",
       "  <tbody>\n",
       "    <tr>\n",
       "      <th>0</th>\n",
       "      <td>D</td>\n",
       "      <td>6.00</td>\n",
       "      <td>350</td>\n",
       "    </tr>\n",
       "    <tr>\n",
       "      <th>1</th>\n",
       "      <td>B</td>\n",
       "      <td>7.06</td>\n",
       "      <td>5041</td>\n",
       "    </tr>\n",
       "    <tr>\n",
       "      <th>2</th>\n",
       "      <td>A</td>\n",
       "      <td>8.00</td>\n",
       "      <td>25</td>\n",
       "    </tr>\n",
       "    <tr>\n",
       "      <th>3</th>\n",
       "      <td>C</td>\n",
       "      <td>8.49</td>\n",
       "      <td>16015</td>\n",
       "    </tr>\n",
       "    <tr>\n",
       "      <th>4</th>\n",
       "      <td>E</td>\n",
       "      <td>9.09</td>\n",
       "      <td>22</td>\n",
       "    </tr>\n",
       "  </tbody>\n",
       "</table>\n",
       "</div>"
      ],
      "text/plain": [
       "  total_income_category     %  out of\n",
       "0                     D  6.00     350\n",
       "1                     B  7.06    5041\n",
       "2                     A  8.00      25\n",
       "3                     C  8.49   16015\n",
       "4                     E  9.09      22"
      ]
     },
     "execution_count": 73,
     "metadata": {},
     "output_type": "execute_result"
    }
   ],
   "source": [
    "get_debt_pivots('total_income_category')"
   ]
  },
  {
   "cell_type": "markdown",
   "id": "4a9e4fd8",
   "metadata": {},
   "source": [
    "**Выводы:**\n",
    "- Наилучшие заёмщики - в категории \"D\" (30k-50k). Однако статистики немного, если собирать дальше - результат может измениться.\n",
    "- Категория \"B\" (доход 200k-1M) надёжней чем категория \"C\" (доход 50k-200k).\n",
    "- В других категориях мало данных для выводов, всего один новый клиент может повлиять на место в этом рейтинге."
   ]
  },
  {
   "cell_type": "markdown",
   "id": "18d11f30",
   "metadata": {},
   "source": [
    "### Вопрос 1: Как разные цели кредита влияют на его возврат в срок?"
   ]
  },
  {
   "cell_type": "code",
   "execution_count": 74,
   "id": "5773ff5c",
   "metadata": {},
   "outputs": [
    {
     "data": {
      "text/html": [
       "<div>\n",
       "<style scoped>\n",
       "    .dataframe tbody tr th:only-of-type {\n",
       "        vertical-align: middle;\n",
       "    }\n",
       "\n",
       "    .dataframe tbody tr th {\n",
       "        vertical-align: top;\n",
       "    }\n",
       "\n",
       "    .dataframe thead th {\n",
       "        text-align: right;\n",
       "    }\n",
       "</style>\n",
       "<table border=\"1\" class=\"dataframe\">\n",
       "  <thead>\n",
       "    <tr style=\"text-align: right;\">\n",
       "      <th></th>\n",
       "      <th>purpose_category</th>\n",
       "      <th>%</th>\n",
       "      <th>out of</th>\n",
       "    </tr>\n",
       "  </thead>\n",
       "  <tbody>\n",
       "    <tr>\n",
       "      <th>0</th>\n",
       "      <td>операции с недвижимостью</td>\n",
       "      <td>7.23</td>\n",
       "      <td>10811</td>\n",
       "    </tr>\n",
       "    <tr>\n",
       "      <th>1</th>\n",
       "      <td>проведение свадьбы</td>\n",
       "      <td>8.01</td>\n",
       "      <td>2323</td>\n",
       "    </tr>\n",
       "    <tr>\n",
       "      <th>2</th>\n",
       "      <td>получение образования</td>\n",
       "      <td>9.22</td>\n",
       "      <td>4013</td>\n",
       "    </tr>\n",
       "    <tr>\n",
       "      <th>3</th>\n",
       "      <td>операции с автомобилем</td>\n",
       "      <td>9.36</td>\n",
       "      <td>4306</td>\n",
       "    </tr>\n",
       "  </tbody>\n",
       "</table>\n",
       "</div>"
      ],
      "text/plain": [
       "           purpose_category     %  out of\n",
       "0  операции с недвижимостью  7.23   10811\n",
       "1        проведение свадьбы  8.01    2323\n",
       "2     получение образования  9.22    4013\n",
       "3    операции с автомобилем  9.36    4306"
      ]
     },
     "execution_count": 74,
     "metadata": {},
     "output_type": "execute_result"
    }
   ],
   "source": [
    "get_debt_pivots('purpose_category')"
   ]
  },
  {
   "cell_type": "markdown",
   "id": "269af0fd",
   "metadata": {},
   "source": [
    "**Выводы:**\n",
    "- Кредиты на недвижимость надёжнее других, и самые популярные (1/2 клиентов).\n",
    "- Кредиты на свадьбы несколько рискованней недвижимости, но надёжнее чем кредиты на образование и автотранспорт."
   ]
  },
  {
   "cell_type": "markdown",
   "id": "af94aa9b",
   "metadata": {},
   "source": [
    "## Общие выводы <a id=\"checking_for_anomalies\"></a>"
   ]
  },
  {
   "cell_type": "markdown",
   "id": "baed651e",
   "metadata": {},
   "source": [
    "- Мы произвели следующие операции:\n",
    "  - разделили все случаи \n",
    "  - рассчитали процент случаев просроченных кредитов из числа выданных кредитов.\n",
    "\n",
    "- Надёжнее возвращаются кредиты, выданные клиентам:\n",
    "  - без детей;\n",
    "  - вступавшим в брак;\n",
    "  - доходами категорий \"D\" и \"B\";\n",
    "  - на операции с недвижимостью.\n",
    "- Выводы могут быть неточными, поскольку данные плохо подготовлены,:\n",
    "  - данные содержат много пропусков, дубликатов, нереальных значений;\n",
    "  - некоторые данные были исправлены на основе предположений (эти предположения могут проверить специалисты, отвечающие за сбор, хранение и предоставление этих данных);\n",
    "  - невосстановимые и остутствующие данные заменены медианными величинами."
   ]
  },
  {
   "cell_type": "markdown",
   "id": "f2e91ab6",
   "metadata": {},
   "source": [
    "**Рекомендации:**\n",
    "- для повышения качества данных:\n",
    "  - устранить причину нереально крупных величин в `days_employed`;\n",
    "  - устранить причину отрицательных величин в `days_employed`;\n",
    "  - ограничить ввод `children`: не принимать отрицательные величины;\n",
    "  - устранить причину появления величины `20` в `children`;\n",
    "  - ограничить ввод `dob_years`: не принимать значения ниже некоего минимального возраста;\n",
    "  - переименовать колонки:\n",
    "    - `dob_years` в `age`,\n",
    "    - `education_id` в `education_level_id`;\n",
    "  - вместо колонок `family_status` и `education` хранить таблицы соответствий:\n",
    "    - `family_status_id` к `family_status_name`;\n",
    "    - `education_level_id` к `education_level_name`;\n",
    "  - добавить колонку `client_secure_id` с обезличенным уникальным id клиента - она будет явно обозначать, что та или иная запись является уникальной, а не дубликатом;\n",
    "- для исследования потенциально привлекательных категорий:\n",
    "  - получить больше данных по людям:\n",
    "    - с доходами от 30 до 50 тыс,\n",
    "    - вдовствующим;\n",
    "    - с 5 и более детьми."
   ]
  }
 ],
 "metadata": {
  "kernelspec": {
   "display_name": "Python 3 (ipykernel)",
   "language": "python",
   "name": "python3"
  },
  "language_info": {
   "codemirror_mode": {
    "name": "ipython",
    "version": 3
   },
   "file_extension": ".py",
   "mimetype": "text/x-python",
   "name": "python",
   "nbconvert_exporter": "python",
   "pygments_lexer": "ipython3",
   "version": "3.9.12"
  },
  "toc": {
   "base_numbering": 1,
   "nav_menu": {},
   "number_sections": true,
   "sideBar": true,
   "skip_h1_title": true,
   "title_cell": "Содержание",
   "title_sidebar": "Содержание",
   "toc_cell": true,
   "toc_position": {
    "height": "calc(100% - 180px)",
    "left": "10px",
    "top": "150px",
    "width": "258.797px"
   },
   "toc_section_display": true,
   "toc_window_display": true
  }
 },
 "nbformat": 4,
 "nbformat_minor": 5
}
