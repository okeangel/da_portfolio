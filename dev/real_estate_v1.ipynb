{
 "cells": [
  {
   "cell_type": "markdown",
   "metadata": {},
   "source": [
    "# Исследование объявлений о продаже квартир"
   ]
  },
  {
   "cell_type": "markdown",
   "metadata": {},
   "source": [
    "Учебный проект по специальности \"аналитик данных\", 6-я неделя обучения.\n",
    "\n",
    "Автор: Александр Лагутин.\n",
    "\n",
    "Время подготовки: 16 + 1 рабочих часов (0 рабочих дня)."
   ]
  },
  {
   "cell_type": "markdown",
   "metadata": {
    "toc": true
   },
   "source": [
    "<h1>Содержание<span class=\"tocSkip\"></span></h1>\n",
    "<div class=\"toc\"><ul class=\"toc-item\"><li><span><a href=\"#Описание-проекта\" data-toc-modified-id=\"Описание-проекта-1\"><span class=\"toc-item-num\">1&nbsp;&nbsp;</span>Описание проекта</a></span><ul class=\"toc-item\"><li><span><a href=\"#Задача\" data-toc-modified-id=\"Задача-1.1\"><span class=\"toc-item-num\">1.1&nbsp;&nbsp;</span>Задача</a></span></li><li><span><a href=\"#Входные-данные\" data-toc-modified-id=\"Входные-данные-1.2\"><span class=\"toc-item-num\">1.2&nbsp;&nbsp;</span>Входные данные</a></span></li><li><span><a href=\"#Инструменты\" data-toc-modified-id=\"Инструменты-1.3\"><span class=\"toc-item-num\">1.3&nbsp;&nbsp;</span>Инструменты</a></span></li><li><span><a href=\"#План-работы\" data-toc-modified-id=\"План-работы-1.4\"><span class=\"toc-item-num\">1.4&nbsp;&nbsp;</span>План работы</a></span></li></ul></li><li><span><a href=\"#Изучение-данных-из-файла\" data-toc-modified-id=\"Изучение-данных-из-файла-2\"><span class=\"toc-item-num\">2&nbsp;&nbsp;</span>Изучение данных из файла</a></span><ul class=\"toc-item\"><li><ul class=\"toc-item\"><li><span><a href=\"#Описание-колонок\" data-toc-modified-id=\"Описание-колонок-2.0.1\"><span class=\"toc-item-num\">2.0.1&nbsp;&nbsp;</span>Описание колонок</a></span></li></ul></li><li><span><a href=\"#Выводы\" data-toc-modified-id=\"Выводы-2.1\"><span class=\"toc-item-num\">2.1&nbsp;&nbsp;</span>Выводы</a></span></li></ul></li><li><span><a href=\"#Предобработка-данных\" data-toc-modified-id=\"Предобработка-данных-3\"><span class=\"toc-item-num\">3&nbsp;&nbsp;</span>Предобработка данных</a></span><ul class=\"toc-item\"><li><span><a href=\"#Заполение-пропусков\" data-toc-modified-id=\"Заполение-пропусков-3.1\"><span class=\"toc-item-num\">3.1&nbsp;&nbsp;</span>Заполение пропусков</a></span><ul class=\"toc-item\"><li><span><a href=\"#Пропуски-до-обработки\" data-toc-modified-id=\"Пропуски-до-обработки-3.1.1\"><span class=\"toc-item-num\">3.1.1&nbsp;&nbsp;</span>Пропуски до обработки</a></span></li><li><span><a href=\"#is_apartment-(88%)\" data-toc-modified-id=\"is_apartment-(88%)-3.1.2\"><span class=\"toc-item-num\">3.1.2&nbsp;&nbsp;</span><code>is_apartment</code> (88%)</a></span></li><li><span><a href=\"#parks_nearest-(66%)-и-ponds_nearest-(62%)\" data-toc-modified-id=\"parks_nearest-(66%)-и-ponds_nearest-(62%)-3.1.3\"><span class=\"toc-item-num\">3.1.3&nbsp;&nbsp;</span><code>parks_nearest</code> (66%) и <code>ponds_nearest</code> (62%)</a></span><ul class=\"toc-item\"><li><span><a href=\"#Как-связаны-наличие-близких-парков/прудов-и-расстояние-до-ближайшего-из-них?\" data-toc-modified-id=\"Как-связаны-наличие-близких-парков/прудов-и-расстояние-до-ближайшего-из-них?-3.1.3.1\"><span class=\"toc-item-num\">3.1.3.1&nbsp;&nbsp;</span>Как связаны наличие близких парков/прудов и расстояние до ближайшего из них?</a></span></li><li><span><a href=\"#Как-распределяются-парки-по-населённым-пунктам?\" data-toc-modified-id=\"Как-распределяются-парки-по-населённым-пунктам?-3.1.3.2\"><span class=\"toc-item-num\">3.1.3.2&nbsp;&nbsp;</span>Как распределяются парки по населённым пунктам?</a></span></li></ul></li><li><span><a href=\"#balcony-(49%)\" data-toc-modified-id=\"balcony-(49%)-3.1.4\"><span class=\"toc-item-num\">3.1.4&nbsp;&nbsp;</span><code>balcony</code> (49%)</a></span></li><li><span><a href=\"#ceiling_height-(39%)\" data-toc-modified-id=\"ceiling_height-(39%)-3.1.5\"><span class=\"toc-item-num\">3.1.5&nbsp;&nbsp;</span><code>ceiling_height</code> (39%)</a></span></li><li><span><a href=\"#airports_nearest-и-city_centers_nearest-(по-23%)\" data-toc-modified-id=\"airports_nearest-и-city_centers_nearest-(по-23%)-3.1.6\"><span class=\"toc-item-num\">3.1.6&nbsp;&nbsp;</span><code>airports_nearest</code> и <code>city_centers_nearest</code> (по 23%)</a></span></li><li><span><a href=\"#parks_around3000-и-ponds_around3000-(также-по-23%)\" data-toc-modified-id=\"parks_around3000-и-ponds_around3000-(также-по-23%)-3.1.7\"><span class=\"toc-item-num\">3.1.7&nbsp;&nbsp;</span><code>parks_around3000</code> и <code>ponds_around3000</code> (также по 23%)</a></span></li><li><span><a href=\"#Пропуски-в-других-колонках\" data-toc-modified-id=\"Пропуски-в-других-колонках-3.1.8\"><span class=\"toc-item-num\">3.1.8&nbsp;&nbsp;</span>Пропуски в других колонках</a></span></li><li><span><a href=\"#Пропуски-после-заполнения\" data-toc-modified-id=\"Пропуски-после-заполнения-3.1.9\"><span class=\"toc-item-num\">3.1.9&nbsp;&nbsp;</span>Пропуски после заполнения</a></span></li><li><span><a href=\"#Итоги\" data-toc-modified-id=\"Итоги-3.1.10\"><span class=\"toc-item-num\">3.1.10&nbsp;&nbsp;</span>Итоги</a></span></li></ul></li><li><span><a href=\"#Изменение-типов-столбцов\" data-toc-modified-id=\"Изменение-типов-столбцов-3.2\"><span class=\"toc-item-num\">3.2&nbsp;&nbsp;</span>Изменение типов столбцов</a></span></li><li><span><a href=\"#Итоги-предобработки\" data-toc-modified-id=\"Итоги-предобработки-3.3\"><span class=\"toc-item-num\">3.3&nbsp;&nbsp;</span>Итоги предобработки</a></span></li></ul></li><li><span><a href=\"#Расчёты-и-добавление-результатов-в-таблицу\" data-toc-modified-id=\"Расчёты-и-добавление-результатов-в-таблицу-4\"><span class=\"toc-item-num\">4&nbsp;&nbsp;</span>Расчёты и добавление результатов в таблицу</a></span><ul class=\"toc-item\"><li><span><a href=\"#Цена-квадратного-метра\" data-toc-modified-id=\"Цена-квадратного-метра-4.1\"><span class=\"toc-item-num\">4.1&nbsp;&nbsp;</span>Цена квадратного метра</a></span></li><li><span><a href=\"#День-недели,-месяц-и-год-публикации-объявления\" data-toc-modified-id=\"День-недели,-месяц-и-год-публикации-объявления-4.2\"><span class=\"toc-item-num\">4.2&nbsp;&nbsp;</span>День недели, месяц и год публикации объявления</a></span></li><li><span><a href=\"#Этаж-квартиры\" data-toc-modified-id=\"Этаж-квартиры-4.3\"><span class=\"toc-item-num\">4.3&nbsp;&nbsp;</span>Этаж квартиры</a></span></li><li><span><a href=\"#Cоотношение-площадей-в-квартире\" data-toc-modified-id=\"Cоотношение-площадей-в-квартире-4.4\"><span class=\"toc-item-num\">4.4&nbsp;&nbsp;</span>Cоотношение площадей в квартире</a></span></li><li><span><a href=\"#Итоги\" data-toc-modified-id=\"Итоги-4.5\"><span class=\"toc-item-num\">4.5&nbsp;&nbsp;</span>Итоги</a></span></li></ul></li><li><span><a href=\"#Исследовательский-анализ-данных\" data-toc-modified-id=\"Исследовательский-анализ-данных-5\"><span class=\"toc-item-num\">5&nbsp;&nbsp;</span>Исследовательский анализ данных</a></span><ul class=\"toc-item\"><li><span><a href=\"#Распределения-по-частоте\" data-toc-modified-id=\"Распределения-по-частоте-5.1\"><span class=\"toc-item-num\">5.1&nbsp;&nbsp;</span>Распределения по частоте</a></span></li><li><span><a href=\"#Сколько-дней-проходит-до-продажи\" data-toc-modified-id=\"Сколько-дней-проходит-до-продажи-5.2\"><span class=\"toc-item-num\">5.2&nbsp;&nbsp;</span>Сколько дней проходит до продажи</a></span></li><li><span><a href=\"#Убираем-редкие-и-выбивающиеся-значения\" data-toc-modified-id=\"Убираем-редкие-и-выбивающиеся-значения-5.3\"><span class=\"toc-item-num\">5.3&nbsp;&nbsp;</span>Убираем редкие и выбивающиеся значения</a></span></li></ul></li><li><span><a href=\"#Общий-вывод\" data-toc-modified-id=\"Общий-вывод-6\"><span class=\"toc-item-num\">6&nbsp;&nbsp;</span>Общий вывод</a></span></li><li><span><a href=\"#Чек-лист-готовности-проекта\" data-toc-modified-id=\"Чек-лист-готовности-проекта-7\"><span class=\"toc-item-num\">7&nbsp;&nbsp;</span>Чек-лист готовности проекта</a></span></li></ul></div>"
   ]
  },
  {
   "cell_type": "markdown",
   "metadata": {},
   "source": [
    "## Описание проекта\n",
    "\n",
    "### Задача\n",
    "\n",
    "Установить признаки, при наличии которых объявление можно считать аномальным. Это позволит автоматически выявлять потенциально мошеннические объявления.\n",
    "\n",
    "### Входные данные\n",
    "\n",
    "Выборка из объявлений Яндекс.Недвижимости о продаже квартир в Санкт-Петербурге и соседних населённых пунктах за несколько лет.\n",
    "\n",
    "По каждой квартире на продажу доступны два вида данных. Первые вписаны пользователем, вторые получены автоматически на основе картографических данных. Например, расстояние до центра, аэропорта, ближайшего парка и водоёма.\n",
    "\n",
    "### Инструменты\n",
    "\n",
    "Используем [Anaconda](https://www.anaconda.com/), окружение `ds_da_practicum_env.yml` \"для Mac OS\" (от 2022-03-23).\n",
    "\n",
    "### План работы\n",
    "\n",
    "- Знакомимся с данными.\n",
    "- Проверяем пропуски, заполняем.\n",
    "  - Определите и изучите пропущенные значения:\n",
    "    - Ищем логичные решения, чем заполнить пропуски;\n",
    "    - Если решение есть - заполняем;\n",
    "    - Описываем, почему именно в этих столбцах и как выбрали значения.\n",
    "    - Описываем, какие причины могли привести к пропускам в данных.\n",
    "  - Приводим данные к нужным типам:\n",
    "    - Определяем, в каких столбцах.\n",
    "    - Почему меняем?\n",
    "- Добавляем данные:\n",
    "  - цену квадратного метра;\n",
    "  - день недели, месяц и год публикации объявления;\n",
    "  - этаж квартиры; варианты — первый, последний, другой;\n",
    "  - соотношение жилой и общей площади, а также отношение площади кухни к общей.\n",
    "- Изучаем данные:\n",
    "  - Площадь, цена, число комнат, высота потолков (гистограммы).\n",
    "  - Время продажи квартиры (гистограмма, среднее и медиану).\n",
    "    - Сколько обычно занимает продажа?\n",
    "    - Когда можно считать, что продажи прошли очень быстро, а когда необычно долго?\n",
    "  - Убираем редкие и выбивающиеся значения. Какие особенности обнаружили?\n",
    "  - Какие факторы больше всего влияют на стоимость квартиры?\n",
    "    - Зависит ли цена от площади, числа комнат, удалённости от центра?\n",
    "    - Зависит ли цена от того, на каком этаже расположена квартира: первом, последнем или другом?\n",
    "    - Зависит ли цена от даты размещения: дня недели, месяца и года?\n",
    "  - Обзор 10 населённых пунктов с наибольшим числом объявлений:\n",
    "    - средняя цена квадратного метра в этих населённых пунктах;\n",
    "    - населённые пункты с самой высокой и низкой стоимостью жилья.\n",
    "  - Квартиры в центре Санкт-Петербурга:\n",
    "    - Выбираем квартиры в Санкт-Петербурге (locality_name).\n",
    "    - Создаём столбец с категориями по расстоянию до центра в километрах. Считаем пояса шириною в километр.\n",
    "    - После этого считаем среднюю цену для каждого километра.\n",
    "    - Строим график: он должен показывать, как цена зависит от удалённости от центра.\n",
    "    - Ищем границу, где график сильно меняется, — это и будет центральная зона.\n",
    "  - Выбираем центральную зону:\n",
    "    - Изучаем распределение площадей, цены, числа комнат, высоты потолков.\n",
    "    - Ищем факторы, которые влияют на стоимость квартиры (число комнат, этаж, удалённость от центра, дата размещения объявления).\n",
    "    - Формулируем выводы. Отличаются ли они от общих выводов по всей базе?\n",
    "- Формулируем общие выводы."
   ]
  },
  {
   "cell_type": "markdown",
   "metadata": {},
   "source": [
    "## Изучение данных из файла"
   ]
  },
  {
   "cell_type": "markdown",
   "metadata": {},
   "source": [
    "Откроем файл, осмотрим таблицу."
   ]
  },
  {
   "cell_type": "code",
   "execution_count": 1,
   "metadata": {
    "scrolled": true
   },
   "outputs": [
    {
     "data": {
      "text/html": [
       "<div>\n",
       "<style scoped>\n",
       "    .dataframe tbody tr th:only-of-type {\n",
       "        vertical-align: middle;\n",
       "    }\n",
       "\n",
       "    .dataframe tbody tr th {\n",
       "        vertical-align: top;\n",
       "    }\n",
       "\n",
       "    .dataframe thead th {\n",
       "        text-align: right;\n",
       "    }\n",
       "</style>\n",
       "<table border=\"1\" class=\"dataframe\">\n",
       "  <thead>\n",
       "    <tr style=\"text-align: right;\">\n",
       "      <th></th>\n",
       "      <th>total_images</th>\n",
       "      <th>last_price</th>\n",
       "      <th>total_area</th>\n",
       "      <th>first_day_exposition</th>\n",
       "      <th>rooms</th>\n",
       "      <th>ceiling_height</th>\n",
       "      <th>floors_total</th>\n",
       "      <th>living_area</th>\n",
       "      <th>floor</th>\n",
       "      <th>is_apartment</th>\n",
       "      <th>...</th>\n",
       "      <th>kitchen_area</th>\n",
       "      <th>balcony</th>\n",
       "      <th>locality_name</th>\n",
       "      <th>airports_nearest</th>\n",
       "      <th>cityCenters_nearest</th>\n",
       "      <th>parks_around3000</th>\n",
       "      <th>parks_nearest</th>\n",
       "      <th>ponds_around3000</th>\n",
       "      <th>ponds_nearest</th>\n",
       "      <th>days_exposition</th>\n",
       "    </tr>\n",
       "  </thead>\n",
       "  <tbody>\n",
       "    <tr>\n",
       "      <th>0</th>\n",
       "      <td>20</td>\n",
       "      <td>13000000.0</td>\n",
       "      <td>108.00</td>\n",
       "      <td>2019-03-07T00:00:00</td>\n",
       "      <td>3</td>\n",
       "      <td>2.70</td>\n",
       "      <td>16.0</td>\n",
       "      <td>51.0</td>\n",
       "      <td>8</td>\n",
       "      <td>NaN</td>\n",
       "      <td>...</td>\n",
       "      <td>25.00</td>\n",
       "      <td>NaN</td>\n",
       "      <td>Санкт-Петербург</td>\n",
       "      <td>18863.0</td>\n",
       "      <td>16028.0</td>\n",
       "      <td>1.0</td>\n",
       "      <td>482.0</td>\n",
       "      <td>2.0</td>\n",
       "      <td>755.0</td>\n",
       "      <td>NaN</td>\n",
       "    </tr>\n",
       "    <tr>\n",
       "      <th>1</th>\n",
       "      <td>7</td>\n",
       "      <td>3350000.0</td>\n",
       "      <td>40.40</td>\n",
       "      <td>2018-12-04T00:00:00</td>\n",
       "      <td>1</td>\n",
       "      <td>NaN</td>\n",
       "      <td>11.0</td>\n",
       "      <td>18.6</td>\n",
       "      <td>1</td>\n",
       "      <td>NaN</td>\n",
       "      <td>...</td>\n",
       "      <td>11.00</td>\n",
       "      <td>2.0</td>\n",
       "      <td>посёлок Шушары</td>\n",
       "      <td>12817.0</td>\n",
       "      <td>18603.0</td>\n",
       "      <td>0.0</td>\n",
       "      <td>NaN</td>\n",
       "      <td>0.0</td>\n",
       "      <td>NaN</td>\n",
       "      <td>81.0</td>\n",
       "    </tr>\n",
       "    <tr>\n",
       "      <th>2</th>\n",
       "      <td>10</td>\n",
       "      <td>5196000.0</td>\n",
       "      <td>56.00</td>\n",
       "      <td>2015-08-20T00:00:00</td>\n",
       "      <td>2</td>\n",
       "      <td>NaN</td>\n",
       "      <td>5.0</td>\n",
       "      <td>34.3</td>\n",
       "      <td>4</td>\n",
       "      <td>NaN</td>\n",
       "      <td>...</td>\n",
       "      <td>8.30</td>\n",
       "      <td>0.0</td>\n",
       "      <td>Санкт-Петербург</td>\n",
       "      <td>21741.0</td>\n",
       "      <td>13933.0</td>\n",
       "      <td>1.0</td>\n",
       "      <td>90.0</td>\n",
       "      <td>2.0</td>\n",
       "      <td>574.0</td>\n",
       "      <td>558.0</td>\n",
       "    </tr>\n",
       "    <tr>\n",
       "      <th>3</th>\n",
       "      <td>0</td>\n",
       "      <td>64900000.0</td>\n",
       "      <td>159.00</td>\n",
       "      <td>2015-07-24T00:00:00</td>\n",
       "      <td>3</td>\n",
       "      <td>NaN</td>\n",
       "      <td>14.0</td>\n",
       "      <td>NaN</td>\n",
       "      <td>9</td>\n",
       "      <td>NaN</td>\n",
       "      <td>...</td>\n",
       "      <td>NaN</td>\n",
       "      <td>0.0</td>\n",
       "      <td>Санкт-Петербург</td>\n",
       "      <td>28098.0</td>\n",
       "      <td>6800.0</td>\n",
       "      <td>2.0</td>\n",
       "      <td>84.0</td>\n",
       "      <td>3.0</td>\n",
       "      <td>234.0</td>\n",
       "      <td>424.0</td>\n",
       "    </tr>\n",
       "    <tr>\n",
       "      <th>4</th>\n",
       "      <td>2</td>\n",
       "      <td>10000000.0</td>\n",
       "      <td>100.00</td>\n",
       "      <td>2018-06-19T00:00:00</td>\n",
       "      <td>2</td>\n",
       "      <td>3.03</td>\n",
       "      <td>14.0</td>\n",
       "      <td>32.0</td>\n",
       "      <td>13</td>\n",
       "      <td>NaN</td>\n",
       "      <td>...</td>\n",
       "      <td>41.00</td>\n",
       "      <td>NaN</td>\n",
       "      <td>Санкт-Петербург</td>\n",
       "      <td>31856.0</td>\n",
       "      <td>8098.0</td>\n",
       "      <td>2.0</td>\n",
       "      <td>112.0</td>\n",
       "      <td>1.0</td>\n",
       "      <td>48.0</td>\n",
       "      <td>121.0</td>\n",
       "    </tr>\n",
       "    <tr>\n",
       "      <th>...</th>\n",
       "      <td>...</td>\n",
       "      <td>...</td>\n",
       "      <td>...</td>\n",
       "      <td>...</td>\n",
       "      <td>...</td>\n",
       "      <td>...</td>\n",
       "      <td>...</td>\n",
       "      <td>...</td>\n",
       "      <td>...</td>\n",
       "      <td>...</td>\n",
       "      <td>...</td>\n",
       "      <td>...</td>\n",
       "      <td>...</td>\n",
       "      <td>...</td>\n",
       "      <td>...</td>\n",
       "      <td>...</td>\n",
       "      <td>...</td>\n",
       "      <td>...</td>\n",
       "      <td>...</td>\n",
       "      <td>...</td>\n",
       "      <td>...</td>\n",
       "    </tr>\n",
       "    <tr>\n",
       "      <th>23694</th>\n",
       "      <td>9</td>\n",
       "      <td>9700000.0</td>\n",
       "      <td>133.81</td>\n",
       "      <td>2017-03-21T00:00:00</td>\n",
       "      <td>3</td>\n",
       "      <td>3.70</td>\n",
       "      <td>5.0</td>\n",
       "      <td>73.3</td>\n",
       "      <td>3</td>\n",
       "      <td>NaN</td>\n",
       "      <td>...</td>\n",
       "      <td>13.83</td>\n",
       "      <td>NaN</td>\n",
       "      <td>Санкт-Петербург</td>\n",
       "      <td>24665.0</td>\n",
       "      <td>4232.0</td>\n",
       "      <td>1.0</td>\n",
       "      <td>796.0</td>\n",
       "      <td>3.0</td>\n",
       "      <td>381.0</td>\n",
       "      <td>NaN</td>\n",
       "    </tr>\n",
       "    <tr>\n",
       "      <th>23695</th>\n",
       "      <td>14</td>\n",
       "      <td>3100000.0</td>\n",
       "      <td>59.00</td>\n",
       "      <td>2018-01-15T00:00:00</td>\n",
       "      <td>3</td>\n",
       "      <td>NaN</td>\n",
       "      <td>5.0</td>\n",
       "      <td>38.0</td>\n",
       "      <td>4</td>\n",
       "      <td>NaN</td>\n",
       "      <td>...</td>\n",
       "      <td>8.50</td>\n",
       "      <td>NaN</td>\n",
       "      <td>Тосно</td>\n",
       "      <td>NaN</td>\n",
       "      <td>NaN</td>\n",
       "      <td>NaN</td>\n",
       "      <td>NaN</td>\n",
       "      <td>NaN</td>\n",
       "      <td>NaN</td>\n",
       "      <td>45.0</td>\n",
       "    </tr>\n",
       "    <tr>\n",
       "      <th>23696</th>\n",
       "      <td>18</td>\n",
       "      <td>2500000.0</td>\n",
       "      <td>56.70</td>\n",
       "      <td>2018-02-11T00:00:00</td>\n",
       "      <td>2</td>\n",
       "      <td>NaN</td>\n",
       "      <td>3.0</td>\n",
       "      <td>29.7</td>\n",
       "      <td>1</td>\n",
       "      <td>NaN</td>\n",
       "      <td>...</td>\n",
       "      <td>NaN</td>\n",
       "      <td>NaN</td>\n",
       "      <td>село Рождествено</td>\n",
       "      <td>NaN</td>\n",
       "      <td>NaN</td>\n",
       "      <td>NaN</td>\n",
       "      <td>NaN</td>\n",
       "      <td>NaN</td>\n",
       "      <td>NaN</td>\n",
       "      <td>NaN</td>\n",
       "    </tr>\n",
       "    <tr>\n",
       "      <th>23697</th>\n",
       "      <td>13</td>\n",
       "      <td>11475000.0</td>\n",
       "      <td>76.75</td>\n",
       "      <td>2017-03-28T00:00:00</td>\n",
       "      <td>2</td>\n",
       "      <td>3.00</td>\n",
       "      <td>17.0</td>\n",
       "      <td>NaN</td>\n",
       "      <td>12</td>\n",
       "      <td>NaN</td>\n",
       "      <td>...</td>\n",
       "      <td>23.30</td>\n",
       "      <td>2.0</td>\n",
       "      <td>Санкт-Петербург</td>\n",
       "      <td>39140.0</td>\n",
       "      <td>10364.0</td>\n",
       "      <td>2.0</td>\n",
       "      <td>173.0</td>\n",
       "      <td>3.0</td>\n",
       "      <td>196.0</td>\n",
       "      <td>602.0</td>\n",
       "    </tr>\n",
       "    <tr>\n",
       "      <th>23698</th>\n",
       "      <td>4</td>\n",
       "      <td>1350000.0</td>\n",
       "      <td>32.30</td>\n",
       "      <td>2017-07-21T00:00:00</td>\n",
       "      <td>1</td>\n",
       "      <td>2.50</td>\n",
       "      <td>5.0</td>\n",
       "      <td>12.3</td>\n",
       "      <td>1</td>\n",
       "      <td>NaN</td>\n",
       "      <td>...</td>\n",
       "      <td>9.00</td>\n",
       "      <td>NaN</td>\n",
       "      <td>поселок Новый Учхоз</td>\n",
       "      <td>NaN</td>\n",
       "      <td>NaN</td>\n",
       "      <td>NaN</td>\n",
       "      <td>NaN</td>\n",
       "      <td>NaN</td>\n",
       "      <td>NaN</td>\n",
       "      <td>NaN</td>\n",
       "    </tr>\n",
       "  </tbody>\n",
       "</table>\n",
       "<p>23699 rows × 22 columns</p>\n",
       "</div>"
      ],
      "text/plain": [
       "       total_images  last_price  total_area first_day_exposition  rooms  \\\n",
       "0                20  13000000.0      108.00  2019-03-07T00:00:00      3   \n",
       "1                 7   3350000.0       40.40  2018-12-04T00:00:00      1   \n",
       "2                10   5196000.0       56.00  2015-08-20T00:00:00      2   \n",
       "3                 0  64900000.0      159.00  2015-07-24T00:00:00      3   \n",
       "4                 2  10000000.0      100.00  2018-06-19T00:00:00      2   \n",
       "...             ...         ...         ...                  ...    ...   \n",
       "23694             9   9700000.0      133.81  2017-03-21T00:00:00      3   \n",
       "23695            14   3100000.0       59.00  2018-01-15T00:00:00      3   \n",
       "23696            18   2500000.0       56.70  2018-02-11T00:00:00      2   \n",
       "23697            13  11475000.0       76.75  2017-03-28T00:00:00      2   \n",
       "23698             4   1350000.0       32.30  2017-07-21T00:00:00      1   \n",
       "\n",
       "       ceiling_height  floors_total  living_area  floor is_apartment  ...  \\\n",
       "0                2.70          16.0         51.0      8          NaN  ...   \n",
       "1                 NaN          11.0         18.6      1          NaN  ...   \n",
       "2                 NaN           5.0         34.3      4          NaN  ...   \n",
       "3                 NaN          14.0          NaN      9          NaN  ...   \n",
       "4                3.03          14.0         32.0     13          NaN  ...   \n",
       "...               ...           ...          ...    ...          ...  ...   \n",
       "23694            3.70           5.0         73.3      3          NaN  ...   \n",
       "23695             NaN           5.0         38.0      4          NaN  ...   \n",
       "23696             NaN           3.0         29.7      1          NaN  ...   \n",
       "23697            3.00          17.0          NaN     12          NaN  ...   \n",
       "23698            2.50           5.0         12.3      1          NaN  ...   \n",
       "\n",
       "       kitchen_area  balcony        locality_name  airports_nearest  \\\n",
       "0             25.00      NaN      Санкт-Петербург           18863.0   \n",
       "1             11.00      2.0       посёлок Шушары           12817.0   \n",
       "2              8.30      0.0      Санкт-Петербург           21741.0   \n",
       "3               NaN      0.0      Санкт-Петербург           28098.0   \n",
       "4             41.00      NaN      Санкт-Петербург           31856.0   \n",
       "...             ...      ...                  ...               ...   \n",
       "23694         13.83      NaN      Санкт-Петербург           24665.0   \n",
       "23695          8.50      NaN                Тосно               NaN   \n",
       "23696           NaN      NaN     село Рождествено               NaN   \n",
       "23697         23.30      2.0      Санкт-Петербург           39140.0   \n",
       "23698          9.00      NaN  поселок Новый Учхоз               NaN   \n",
       "\n",
       "      cityCenters_nearest  parks_around3000  parks_nearest  ponds_around3000  \\\n",
       "0                 16028.0               1.0          482.0               2.0   \n",
       "1                 18603.0               0.0            NaN               0.0   \n",
       "2                 13933.0               1.0           90.0               2.0   \n",
       "3                  6800.0               2.0           84.0               3.0   \n",
       "4                  8098.0               2.0          112.0               1.0   \n",
       "...                   ...               ...            ...               ...   \n",
       "23694              4232.0               1.0          796.0               3.0   \n",
       "23695                 NaN               NaN            NaN               NaN   \n",
       "23696                 NaN               NaN            NaN               NaN   \n",
       "23697             10364.0               2.0          173.0               3.0   \n",
       "23698                 NaN               NaN            NaN               NaN   \n",
       "\n",
       "       ponds_nearest  days_exposition  \n",
       "0              755.0              NaN  \n",
       "1                NaN             81.0  \n",
       "2              574.0            558.0  \n",
       "3              234.0            424.0  \n",
       "4               48.0            121.0  \n",
       "...              ...              ...  \n",
       "23694          381.0              NaN  \n",
       "23695            NaN             45.0  \n",
       "23696            NaN              NaN  \n",
       "23697          196.0            602.0  \n",
       "23698            NaN              NaN  \n",
       "\n",
       "[23699 rows x 22 columns]"
      ]
     },
     "metadata": {},
     "output_type": "display_data"
    }
   ],
   "source": [
    "import pandas as pd\n",
    "\n",
    "try:\n",
    "    realty = pd.read_csv('/datasets/real_estate_data.csv', sep='\\t')\n",
    "except FileNotFoundError:\n",
    "    realty = pd.read_csv('real_estate_data.csv', sep='\\t')\n",
    "\n",
    "display(realty)"
   ]
  },
  {
   "cell_type": "code",
   "execution_count": 2,
   "metadata": {
    "scrolled": true
   },
   "outputs": [
    {
     "name": "stdout",
     "output_type": "stream",
     "text": [
      "<class 'pandas.core.frame.DataFrame'>\n",
      "RangeIndex: 23699 entries, 0 to 23698\n",
      "Data columns (total 22 columns):\n",
      " #   Column                Non-Null Count  Dtype  \n",
      "---  ------                --------------  -----  \n",
      " 0   total_images          23699 non-null  int64  \n",
      " 1   last_price            23699 non-null  float64\n",
      " 2   total_area            23699 non-null  float64\n",
      " 3   first_day_exposition  23699 non-null  object \n",
      " 4   rooms                 23699 non-null  int64  \n",
      " 5   ceiling_height        14504 non-null  float64\n",
      " 6   floors_total          23613 non-null  float64\n",
      " 7   living_area           21796 non-null  float64\n",
      " 8   floor                 23699 non-null  int64  \n",
      " 9   is_apartment          2775 non-null   object \n",
      " 10  studio                23699 non-null  bool   \n",
      " 11  open_plan             23699 non-null  bool   \n",
      " 12  kitchen_area          21421 non-null  float64\n",
      " 13  balcony               12180 non-null  float64\n",
      " 14  locality_name         23650 non-null  object \n",
      " 15  airports_nearest      18157 non-null  float64\n",
      " 16  cityCenters_nearest   18180 non-null  float64\n",
      " 17  parks_around3000      18181 non-null  float64\n",
      " 18  parks_nearest         8079 non-null   float64\n",
      " 19  ponds_around3000      18181 non-null  float64\n",
      " 20  ponds_nearest         9110 non-null   float64\n",
      " 21  days_exposition       20518 non-null  float64\n",
      "dtypes: bool(2), float64(14), int64(3), object(3)\n",
      "memory usage: 3.7+ MB\n"
     ]
    }
   ],
   "source": [
    "realty.info()"
   ]
  },
  {
   "cell_type": "markdown",
   "metadata": {},
   "source": [
    "#### Описание колонок\n",
    "\n",
    "Расположение:\n",
    "- `locality_name` — название населённого пункта\n",
    "- `cityCenters_nearest` — расстояние до центра города (м) - назовём `city_centers_nearest`\n",
    "- `airports_nearest` — расстояние до ближайшего аэропорта в метрах (м)\n",
    "- `parks_around3000` — число парков в радиусе 3 км\n",
    "- `parks_nearest` — расстояние до ближайшего парка (м)\n",
    "- `ponds_around3000` — число водоёмов в радиусе 3 км\n",
    "- `ponds_nearest` — расстояние до ближайшего водоёма (м)\n",
    "\n",
    "Свойства:\n",
    "- `floors_total` — всего этажей в доме\n",
    "- `floor` — этаж\n",
    "- `is_apartment` — апартаменты (булев тип)\n",
    "- `studio` — квартира-студия (булев тип) - назовём `is_studio`\n",
    "- `open_plan` — свободная планировка (булев тип) - назовём `has_open_plan`\n",
    "- `rooms` — число комнат\n",
    "- `balcony` — число балконов\n",
    "\n",
    "Размеры:\n",
    "- `total_area` — площадь квартиры в квадратных метрах (м²)\n",
    "- `living_area` — жилая площадь в квадратных метрах (м²)\n",
    "- `kitchen_area` — площадь кухни в квадратных метрах (м²)\n",
    "- `ceiling_height` — высота потолков (м)\n",
    "\n",
    "Продажа:\n",
    "- `total_images` — число фотографий квартиры в объявлении\n",
    "- `first_day_exposition` — дата публикации\n",
    "- `days_exposition` — сколько дней было размещено объявление (от публикации до снятия)\n",
    "- `last_price` — цена на момент снятия с публикации"
   ]
  },
  {
   "cell_type": "markdown",
   "metadata": {},
   "source": [
    "Обновляем имена колонок, делаем их более \"говорящими\"."
   ]
  },
  {
   "cell_type": "code",
   "execution_count": 3,
   "metadata": {},
   "outputs": [
    {
     "data": {
      "text/plain": [
       "Index(['total_images', 'last_price', 'total_area', 'first_day_exposition',\n",
       "       'rooms', 'ceiling_height', 'floors_total', 'living_area', 'floor',\n",
       "       'is_apartment', 'is_studio', 'has_open_plan', 'kitchen_area', 'balcony',\n",
       "       'locality_name', 'airports_nearest', 'city_centers_nearest',\n",
       "       'parks_around3000', 'parks_nearest', 'ponds_around3000',\n",
       "       'ponds_nearest', 'days_exposition'],\n",
       "      dtype='object')"
      ]
     },
     "execution_count": 3,
     "metadata": {},
     "output_type": "execute_result"
    }
   ],
   "source": [
    "realty = realty.rename(columns={\n",
    "    'cityCenters_nearest': 'city_centers_nearest',\n",
    "    'open_plan': 'has_open_plan',\n",
    "    'studio': 'is_studio',\n",
    "})\n",
    "realty.columns"
   ]
  },
  {
   "cell_type": "code",
   "execution_count": 4,
   "metadata": {
    "scrolled": true
   },
   "outputs": [
    {
     "name": "stdout",
     "output_type": "stream",
     "text": [
      "Полностью совпадающих строк: 0\n"
     ]
    }
   ],
   "source": [
    "print(f'Полностью совпадающих строк: {realty.duplicated().sum()}')"
   ]
  },
  {
   "cell_type": "markdown",
   "metadata": {},
   "source": [
    "Каждая строка, а значит - и каждое объявление - уникальны."
   ]
  },
  {
   "cell_type": "markdown",
   "metadata": {},
   "source": [
    "### Выводы"
   ]
  },
  {
   "cell_type": "markdown",
   "metadata": {},
   "source": [
    "- Каждая строка описывает уникальное объявление.\n",
    "- Есть незаполненные столбцы. Нужно заполнить пропуски, чтобы анализ был подробнее.\n",
    "- Есть даты и булевы столбцы, которые нужно перевести в соответствующие типы, чтбы было удобно анализировать."
   ]
  },
  {
   "cell_type": "markdown",
   "metadata": {},
   "source": [
    "## Предобработка данных"
   ]
  },
  {
   "cell_type": "markdown",
   "metadata": {},
   "source": [
    "### Заполение пропусков"
   ]
  },
  {
   "cell_type": "markdown",
   "metadata": {},
   "source": [
    "####  Пропуски до обработки"
   ]
  },
  {
   "cell_type": "raw",
   "metadata": {},
   "source": [
    "Сколько же у нас пропусков в столбцах?"
   ]
  },
  {
   "cell_type": "code",
   "execution_count": 5,
   "metadata": {},
   "outputs": [
    {
     "data": {
      "text/html": [
       "<div>\n",
       "<style scoped>\n",
       "    .dataframe tbody tr th:only-of-type {\n",
       "        vertical-align: middle;\n",
       "    }\n",
       "\n",
       "    .dataframe tbody tr th {\n",
       "        vertical-align: top;\n",
       "    }\n",
       "\n",
       "    .dataframe thead th {\n",
       "        text-align: right;\n",
       "    }\n",
       "</style>\n",
       "<table border=\"1\" class=\"dataframe\">\n",
       "  <thead>\n",
       "    <tr style=\"text-align: right;\">\n",
       "      <th></th>\n",
       "      <th>na_part</th>\n",
       "      <th>unique_count</th>\n",
       "    </tr>\n",
       "    <tr>\n",
       "      <th>column</th>\n",
       "      <th></th>\n",
       "      <th></th>\n",
       "    </tr>\n",
       "  </thead>\n",
       "  <tbody>\n",
       "    <tr>\n",
       "      <th>is_apartment</th>\n",
       "      <td>0.882906</td>\n",
       "      <td>3</td>\n",
       "    </tr>\n",
       "    <tr>\n",
       "      <th>parks_nearest</th>\n",
       "      <td>0.659100</td>\n",
       "      <td>996</td>\n",
       "    </tr>\n",
       "    <tr>\n",
       "      <th>ponds_nearest</th>\n",
       "      <td>0.615596</td>\n",
       "      <td>1097</td>\n",
       "    </tr>\n",
       "    <tr>\n",
       "      <th>balcony</th>\n",
       "      <td>0.486054</td>\n",
       "      <td>7</td>\n",
       "    </tr>\n",
       "    <tr>\n",
       "      <th>ceiling_height</th>\n",
       "      <td>0.387991</td>\n",
       "      <td>184</td>\n",
       "    </tr>\n",
       "    <tr>\n",
       "      <th>airports_nearest</th>\n",
       "      <td>0.233850</td>\n",
       "      <td>8276</td>\n",
       "    </tr>\n",
       "    <tr>\n",
       "      <th>city_centers_nearest</th>\n",
       "      <td>0.232879</td>\n",
       "      <td>7643</td>\n",
       "    </tr>\n",
       "    <tr>\n",
       "      <th>parks_around3000</th>\n",
       "      <td>0.232837</td>\n",
       "      <td>5</td>\n",
       "    </tr>\n",
       "    <tr>\n",
       "      <th>ponds_around3000</th>\n",
       "      <td>0.232837</td>\n",
       "      <td>5</td>\n",
       "    </tr>\n",
       "    <tr>\n",
       "      <th>days_exposition</th>\n",
       "      <td>0.134225</td>\n",
       "      <td>1142</td>\n",
       "    </tr>\n",
       "    <tr>\n",
       "      <th>kitchen_area</th>\n",
       "      <td>0.096122</td>\n",
       "      <td>972</td>\n",
       "    </tr>\n",
       "    <tr>\n",
       "      <th>living_area</th>\n",
       "      <td>0.080299</td>\n",
       "      <td>1783</td>\n",
       "    </tr>\n",
       "    <tr>\n",
       "      <th>floors_total</th>\n",
       "      <td>0.003629</td>\n",
       "      <td>37</td>\n",
       "    </tr>\n",
       "    <tr>\n",
       "      <th>locality_name</th>\n",
       "      <td>0.002068</td>\n",
       "      <td>365</td>\n",
       "    </tr>\n",
       "    <tr>\n",
       "      <th>last_price</th>\n",
       "      <td>0.000000</td>\n",
       "      <td>2978</td>\n",
       "    </tr>\n",
       "    <tr>\n",
       "      <th>total_area</th>\n",
       "      <td>0.000000</td>\n",
       "      <td>2182</td>\n",
       "    </tr>\n",
       "    <tr>\n",
       "      <th>first_day_exposition</th>\n",
       "      <td>0.000000</td>\n",
       "      <td>1491</td>\n",
       "    </tr>\n",
       "    <tr>\n",
       "      <th>total_images</th>\n",
       "      <td>0.000000</td>\n",
       "      <td>38</td>\n",
       "    </tr>\n",
       "    <tr>\n",
       "      <th>floor</th>\n",
       "      <td>0.000000</td>\n",
       "      <td>33</td>\n",
       "    </tr>\n",
       "    <tr>\n",
       "      <th>rooms</th>\n",
       "      <td>0.000000</td>\n",
       "      <td>17</td>\n",
       "    </tr>\n",
       "    <tr>\n",
       "      <th>is_studio</th>\n",
       "      <td>0.000000</td>\n",
       "      <td>2</td>\n",
       "    </tr>\n",
       "    <tr>\n",
       "      <th>has_open_plan</th>\n",
       "      <td>0.000000</td>\n",
       "      <td>2</td>\n",
       "    </tr>\n",
       "  </tbody>\n",
       "</table>\n",
       "</div>"
      ],
      "text/plain": [
       "                       na_part  unique_count\n",
       "column                                      \n",
       "is_apartment          0.882906             3\n",
       "parks_nearest         0.659100           996\n",
       "ponds_nearest         0.615596          1097\n",
       "balcony               0.486054             7\n",
       "ceiling_height        0.387991           184\n",
       "airports_nearest      0.233850          8276\n",
       "city_centers_nearest  0.232879          7643\n",
       "parks_around3000      0.232837             5\n",
       "ponds_around3000      0.232837             5\n",
       "days_exposition       0.134225          1142\n",
       "kitchen_area          0.096122           972\n",
       "living_area           0.080299          1783\n",
       "floors_total          0.003629            37\n",
       "locality_name         0.002068           365\n",
       "last_price            0.000000          2978\n",
       "total_area            0.000000          2182\n",
       "first_day_exposition  0.000000          1491\n",
       "total_images          0.000000            38\n",
       "floor                 0.000000            33\n",
       "rooms                 0.000000            17\n",
       "is_studio             0.000000             2\n",
       "has_open_plan         0.000000             2"
      ]
     },
     "metadata": {},
     "output_type": "display_data"
    }
   ],
   "source": [
    "def get_nans(data):\n",
    "    nans = []\n",
    "    for column in data.columns:\n",
    "        missing = data[column].isna().sum()\n",
    "        part = missing / len(data)\n",
    "        uniques = data[column].sort_values().unique()\n",
    "        nans.append([column, part, len(uniques)])\n",
    "\n",
    "    return pd.DataFrame(\n",
    "        data=nans, columns=['column', 'na_part', 'unique_count']\n",
    "    ).sort_values(['na_part', 'unique_count'], ascending=False).set_index('column')\n",
    "\n",
    "nans_before = get_nans(realty)\n",
    "display(nans_before)"
   ]
  },
  {
   "cell_type": "markdown",
   "metadata": {},
   "source": [
    "Пропусков много. Может, использовать только строки без пропусков? Сколько их?"
   ]
  },
  {
   "cell_type": "code",
   "execution_count": 6,
   "metadata": {},
   "outputs": [
    {
     "name": "stdout",
     "output_type": "stream",
     "text": [
      "Заполненных строк без пропусков: 1.05%\n"
     ]
    }
   ],
   "source": [
    "def print_filled_rows_share(df):\n",
    "    share = 1 - df.isna().any(axis=1).sum() / len(df)\n",
    "    print(f'Заполненных строк без пропусков: {share:.02%}')\n",
    "\n",
    "print_filled_rows_share(realty)"
   ]
  },
  {
   "cell_type": "markdown",
   "metadata": {},
   "source": [
    "Содержащих всю информацию строк всего 1%. Нужно заполнить недостающие данные. \n",
    "\n",
    "Взглянем на то, что содержат заполенные данные. Возможно, где-то в распределениях сияют дыры, в которые и нужно уложить незаполненные данные. Вверху графики наиболее редких данных, внизу - наиболее полных."
   ]
  },
  {
   "cell_type": "markdown",
   "metadata": {},
   "source": [
    "Взглянем на величины в каждом из столбцов."
   ]
  },
  {
   "cell_type": "code",
   "execution_count": 7,
   "metadata": {},
   "outputs": [],
   "source": [
    "def headline(headline, width=50):\n",
    "    \"\"\"Возвращает заголовок, набранный \"простым текстом\".\n",
    "    \"\"\"\n",
    "    return f'\\n{headline.upper():=^{width}}'"
   ]
  },
  {
   "cell_type": "code",
   "execution_count": 8,
   "metadata": {},
   "outputs": [],
   "source": [
    "import matplotlib.pyplot as plt"
   ]
  },
  {
   "cell_type": "code",
   "execution_count": 9,
   "metadata": {},
   "outputs": [
    {
     "name": "stdout",
     "output_type": "stream",
     "text": [
      "\n",
      "===================IS_APARTMENT===================\n",
      "[False True nan]\n",
      "Data type:     object\n",
      "Unique values:      3\n",
      "Not avaliable: 88.29%\n",
      "No numeric data to plot\n",
      "\n",
      "==================PARKS_NEAREST===================\n",
      "Data type:    float64\n",
      "Unique values:    996\n",
      "Not avaliable: 65.91%\n"
     ]
    },
    {
     "data": {
      "image/png": "[encoded data removed]",
      "text/plain": [
       "<Figure size 432x288 with 1 Axes>"
      ]
     },
     "metadata": {
      "needs_background": "light"
     },
     "output_type": "display_data"
    },
    {
     "name": "stdout",
     "output_type": "stream",
     "text": [
      "\n",
      "==================PONDS_NEAREST===================\n",
      "Data type:    float64\n",
      "Unique values:   1097\n",
      "Not avaliable: 61.56%\n"
     ]
    },
    {
     "data": {
      "image/png": "[encoded data removed]",
      "text/plain": [
       "<Figure size 432x288 with 1 Axes>"
      ]
     },
     "metadata": {
      "needs_background": "light"
     },
     "output_type": "display_data"
    },
    {
     "name": "stdout",
     "output_type": "stream",
     "text": [
      "\n",
      "=====================BALCONY======================\n",
      "[ 0.  1.  2.  3.  4.  5. nan]\n",
      "Data type:    float64\n",
      "Unique values:      7\n",
      "Not avaliable: 48.61%\n"
     ]
    },
    {
     "data": {
      "image/png": "[encoded data removed]",
      "text/plain": [
       "<Figure size 432x288 with 1 Axes>"
      ]
     },
     "metadata": {
      "needs_background": "light"
     },
     "output_type": "display_data"
    },
    {
     "name": "stdout",
     "output_type": "stream",
     "text": [
      "\n",
      "==================CEILING_HEIGHT==================\n",
      "Data type:    float64\n",
      "Unique values:    184\n",
      "Not avaliable: 38.80%\n"
     ]
    },
    {
     "data": {
      "image/png": "[encoded data removed]",
      "text/plain": [
       "<Figure size 432x288 with 1 Axes>"
      ]
     },
     "metadata": {
      "needs_background": "light"
     },
     "output_type": "display_data"
    },
    {
     "name": "stdout",
     "output_type": "stream",
     "text": [
      "\n",
      "=================AIRPORTS_NEAREST=================\n",
      "Data type:    float64\n",
      "Unique values:   8276\n",
      "Not avaliable: 23.38%\n"
     ]
    },
    {
     "data": {
      "image/png": "[encoded data removed]",
      "text/plain": [
       "<Figure size 432x288 with 1 Axes>"
      ]
     },
     "metadata": {
      "needs_background": "light"
     },
     "output_type": "display_data"
    },
    {
     "name": "stdout",
     "output_type": "stream",
     "text": [
      "\n",
      "===============CITY_CENTERS_NEAREST===============\n",
      "Data type:    float64\n",
      "Unique values:   7643\n",
      "Not avaliable: 23.29%\n"
     ]
    },
    {
     "data": {
      "image/png": "[encoded data removed]",
      "text/plain": [
       "<Figure size 432x288 with 1 Axes>"
      ]
     },
     "metadata": {
      "needs_background": "light"
     },
     "output_type": "display_data"
    },
    {
     "name": "stdout",
     "output_type": "stream",
     "text": [
      "\n",
      "=================PARKS_AROUND3000=================\n",
      "[ 0.  1.  2.  3. nan]\n",
      "Data type:    float64\n",
      "Unique values:      5\n",
      "Not avaliable: 23.28%\n"
     ]
    },
    {
     "data": {
      "image/png": "[encoded data removed]",
      "text/plain": [
       "<Figure size 432x288 with 1 Axes>"
      ]
     },
     "metadata": {
      "needs_background": "light"
     },
     "output_type": "display_data"
    },
    {
     "name": "stdout",
     "output_type": "stream",
     "text": [
      "\n",
      "=================PONDS_AROUND3000=================\n",
      "[ 0.  1.  2.  3. nan]\n",
      "Data type:    float64\n",
      "Unique values:      5\n",
      "Not avaliable: 23.28%\n"
     ]
    },
    {
     "data": {
      "image/png": "[encoded data removed]",
      "text/plain": [
       "<Figure size 432x288 with 1 Axes>"
      ]
     },
     "metadata": {
      "needs_background": "light"
     },
     "output_type": "display_data"
    },
    {
     "name": "stdout",
     "output_type": "stream",
     "text": [
      "\n",
      "=================DAYS_EXPOSITION==================\n",
      "Data type:    float64\n",
      "Unique values:   1142\n",
      "Not avaliable: 13.42%\n"
     ]
    },
    {
     "data": {
      "image/png": "[encoded data removed]",
      "text/plain": [
       "<Figure size 432x288 with 1 Axes>"
      ]
     },
     "metadata": {
      "needs_background": "light"
     },
     "output_type": "display_data"
    },
    {
     "name": "stdout",
     "output_type": "stream",
     "text": [
      "\n",
      "===================KITCHEN_AREA===================\n",
      "Data type:    float64\n",
      "Unique values:    972\n",
      "Not avaliable: 9.61%\n"
     ]
    },
    {
     "data": {
      "image/png": "[encoded data removed]",
      "text/plain": [
       "<Figure size 432x288 with 1 Axes>"
      ]
     },
     "metadata": {
      "needs_background": "light"
     },
     "output_type": "display_data"
    },
    {
     "name": "stdout",
     "output_type": "stream",
     "text": [
      "\n",
      "===================LIVING_AREA====================\n",
      "Data type:    float64\n",
      "Unique values:   1783\n",
      "Not avaliable: 8.03%\n"
     ]
    },
    {
     "data": {
      "image/png": "[encoded data removed]",
      "text/plain": [
       "<Figure size 432x288 with 1 Axes>"
      ]
     },
     "metadata": {
      "needs_background": "light"
     },
     "output_type": "display_data"
    },
    {
     "name": "stdout",
     "output_type": "stream",
     "text": [
      "\n",
      "===================FLOORS_TOTAL===================\n",
      "Data type:    float64\n",
      "Unique values:     37\n",
      "Not avaliable: 0.36%\n"
     ]
    },
    {
     "data": {
      "image/png": "[encoded data removed]",
      "text/plain": [
       "<Figure size 432x288 with 1 Axes>"
      ]
     },
     "metadata": {
      "needs_background": "light"
     },
     "output_type": "display_data"
    },
    {
     "name": "stdout",
     "output_type": "stream",
     "text": [
      "\n",
      "==================LOCALITY_NAME===================\n",
      "Data type:     object\n",
      "Unique values:    365\n",
      "Not avaliable: 0.21%\n",
      "No numeric data to plot\n",
      "\n",
      "====================LAST_PRICE====================\n",
      "Data type:    float64\n",
      "Unique values:   2978\n",
      "All values is avaliable.\n"
     ]
    },
    {
     "data": {
      "image/png": "[encoded data removed]",
      "text/plain": [
       "<Figure size 432x288 with 1 Axes>"
      ]
     },
     "metadata": {
      "needs_background": "light"
     },
     "output_type": "display_data"
    },
    {
     "name": "stdout",
     "output_type": "stream",
     "text": [
      "\n",
      "====================TOTAL_AREA====================\n",
      "Data type:    float64\n",
      "Unique values:   2182\n",
      "All values is avaliable.\n"
     ]
    },
    {
     "data": {
      "image/png": "[encoded data removed]",
      "text/plain": [
       "<Figure size 432x288 with 1 Axes>"
      ]
     },
     "metadata": {
      "needs_background": "light"
     },
     "output_type": "display_data"
    },
    {
     "name": "stdout",
     "output_type": "stream",
     "text": [
      "\n",
      "===============FIRST_DAY_EXPOSITION===============\n",
      "Data type:     object\n",
      "Unique values:   1491\n",
      "All values is avaliable.\n",
      "No numeric data to plot\n",
      "\n",
      "===================TOTAL_IMAGES===================\n",
      "Data type:      int64\n",
      "Unique values:     38\n",
      "All values is avaliable.\n"
     ]
    },
    {
     "data": {
      "image/png": "[encoded data removed]",
      "text/plain": [
       "<Figure size 432x288 with 1 Axes>"
      ]
     },
     "metadata": {
      "needs_background": "light"
     },
     "output_type": "display_data"
    },
    {
     "name": "stdout",
     "output_type": "stream",
     "text": [
      "\n",
      "======================FLOOR=======================\n",
      "Data type:      int64\n",
      "Unique values:     33\n",
      "All values is avaliable.\n"
     ]
    },
    {
     "data": {
      "image/png": "[encoded data removed]",
      "text/plain": [
       "<Figure size 432x288 with 1 Axes>"
      ]
     },
     "metadata": {
      "needs_background": "light"
     },
     "output_type": "display_data"
    },
    {
     "name": "stdout",
     "output_type": "stream",
     "text": [
      "\n",
      "======================ROOMS=======================\n",
      "[ 0  1  2  3  4  5  6  7  8  9 10 11 12 14 15 16 19]\n",
      "Data type:      int64\n",
      "Unique values:     17\n",
      "All values is avaliable.\n"
     ]
    },
    {
     "data": {
      "image/png": "[encoded data removed]",
      "text/plain": [
       "<Figure size 432x288 with 1 Axes>"
      ]
     },
     "metadata": {
      "needs_background": "light"
     },
     "output_type": "display_data"
    },
    {
     "name": "stdout",
     "output_type": "stream",
     "text": [
      "\n",
      "====================IS_STUDIO=====================\n",
      "[False  True]\n",
      "Data type:       bool\n",
      "Unique values:      2\n",
      "All values is avaliable.\n",
      "No numeric data to plot\n",
      "\n",
      "==================HAS_OPEN_PLAN===================\n",
      "[False  True]\n",
      "Data type:       bool\n",
      "Unique values:      2\n",
      "All values is avaliable.\n",
      "No numeric data to plot\n"
     ]
    },
    {
     "name": "stderr",
     "output_type": "stream",
     "text": [
      "<__array_function__ internals>:5: RuntimeWarning: Converting input from bool to <class 'numpy.uint8'> for compatibility.\n"
     ]
    }
   ],
   "source": [
    "# можно было бы рисовать `bar` в случаях, когда вариантов мало.\n",
    "# однако по неясной причине `bar` не рисуется, и не вызывает ошибки,\n",
    "# а вызывает лишь зацикливание при построении первого же графика\n",
    "\n",
    "for column in nans_before.index:\n",
    "    print(headline(column))\n",
    "\n",
    "    uniques = realty[column].sort_values().unique()\n",
    "    if len(uniques) < 20:\n",
    "        print(uniques)\n",
    "    print(f'Data type: {str(realty[column].dtype):>10}')\n",
    "    print(f'Unique values: {len(uniques):6}')\n",
    "\n",
    "    missing = realty[column].isna().sum()\n",
    "    if missing:\n",
    "        print(f'Not avaliable: {nans_before.loc[column, \"na_part\"]:.02%}')\n",
    "    else:\n",
    "        print('All values is avaliable.')\n",
    "    \n",
    "    try:\n",
    "        realty.plot(\n",
    "            kind='hist',\n",
    "            y=column,\n",
    "           bins=50,\n",
    "        )\n",
    "        plt.show()\n",
    "    except Exception as e:\n",
    "        print(str(e).capitalize())"
   ]
  },
  {
   "cell_type": "markdown",
   "metadata": {},
   "source": [
    "#### `is_apartment` (88%)"
   ]
  },
  {
   "cell_type": "markdown",
   "metadata": {},
   "source": [
    "Апартаменты имеют явное юридическое отличие от других квартир. Это жильё для гостей. Есть ли какое-то статистичесткое отличие?\n",
    "\n",
    "**Предположение: особый характер апартаментов отразится в первую очередь в дистанции до центра и до аэропорта.**\n",
    "\n",
    "Как проверить: построить диаграммы рассеяния для всех трёх вариантов значений, которые бывают в `is_apartment`."
   ]
  },
  {
   "cell_type": "code",
   "execution_count": 10,
   "metadata": {},
   "outputs": [
    {
     "name": "stdout",
     "output_type": "stream",
     "text": [
      "\n",
      "===================IS_APARTMENT===================\n"
     ]
    },
    {
     "data": {
      "image/png": "[encoded data removed]",
      "text/plain": [
       "<Figure size 288x288 with 1 Axes>"
      ]
     },
     "metadata": {
      "needs_background": "light"
     },
     "output_type": "display_data"
    },
    {
     "data": {
      "image/png": "[encoded data removed]",
      "text/plain": [
       "<Figure size 288x288 with 1 Axes>"
      ]
     },
     "metadata": {
      "needs_background": "light"
     },
     "output_type": "display_data"
    },
    {
     "data": {
      "image/png": "[encoded data removed]",
      "text/plain": [
       "<Figure size 288x288 with 1 Axes>"
      ]
     },
     "metadata": {
      "needs_background": "light"
     },
     "output_type": "display_data"
    }
   ],
   "source": [
    "def quickplot(data, title=None):\n",
    "    return data.plot(\n",
    "        kind='scatter',\n",
    "        x='city_centers_nearest',\n",
    "        y='airports_nearest',\n",
    "        alpha=0.3,\n",
    "        title=title,\n",
    "        xlim=(0, 60_000),\n",
    "        ylim=(0, 60_000),\n",
    "        figsize=(4, 4),\n",
    "    )\n",
    "\n",
    "print(headline('is_apartment'))\n",
    "quickplot(realty.query('is_apartment == True'), 'Апартаменты')\n",
    "quickplot(realty.query('is_apartment not in [\"True\", \"False\"]'), 'Тип не указан')\n",
    "quickplot(realty.query('is_apartment == False'), 'Личное жильё')\n",
    "plt.show()"
   ]
  },
  {
   "cell_type": "markdown",
   "metadata": {},
   "source": [
    "Значения сильно различаются по количеству, но по сути покрывают одинаковые зоны одинаковой плотностью. **Нельзя уверенно сказать, что NaN имеет сходство именно с False. Предположение не подтверждено.**\n",
    "\n",
    "В данных видны \"линии\" прямой зависимости между расстоянием до центра, и расстоянием до аэропорта. Так может быть, если в выборке доминируют квартиры из одного города с одним аэропортом.\n",
    "\n",
    "Дорога из центра в аэропорт наверняка существует, скорее всего это почти прямая, оживлённая улица, которая застроена жилыми домами. На графике она отображена как неровная линия между отметками (0, 21000) и (21000, 0).\n",
    "\n",
    "Интересны те значения, которые уходят строгими линиями поперёк \"главной дороги\". Пути от этих объектов \"в центр\" и \"в аэропорт\" - синонимы. Поскольку приближаясь к центру - ты приближаешься ровно на столько же к аэропорту.\n",
    "\n",
    "Насколько это реалистично? Этот вопрос не входит в тему исследования, но интригует. Поскольку глаз подсказывает, что данные скорее генерировались, чем собирались."
   ]
  },
  {
   "cell_type": "markdown",
   "metadata": {},
   "source": [
    "**Итоги:**\n",
    "- явных значений мало, и в основном это False;\n",
    "- не найдено статистически обоснованных идей, чем заменить отстутсвующие данные;\n",
    "- возможные причины пропуска:\n",
    "  - пользователь не считает важным об этом упоминать;\n",
    "  - пользователь не понимает смысл поля, и поэтому игнорирует его.\n",
    "- в дальнейшем эта информация не является обязательной, можно оставить её без насильных изменений."
   ]
  },
  {
   "cell_type": "markdown",
   "metadata": {},
   "source": [
    "#### `parks_nearest` (66%) и `ponds_nearest` (62%)"
   ]
  },
  {
   "cell_type": "markdown",
   "metadata": {},
   "source": [
    "Их распределения похожи на естественные распределения Пуассона.\n",
    "\n",
    "Величины в них зависят от расположения, от которого таже зависят `city_centers_nearest` и `airport_nearest`. Само расположение, например, координаты, нам неизестно. Если взять на анализ больше времени, то возможно удастся найти взаимосвязь между этими величинами, и заполнить пропуски на основании таких косвенных данных.\n",
    "\n",
    "Согласно описанию, если `parks_around3000` или `ponds_around3000` больше 0, то пропущенная величина `*_nearest` должна быть менее 3000."
   ]
  },
  {
   "cell_type": "markdown",
   "metadata": {},
   "source": [
    "##### Как связаны наличие близких парков/прудов и расстояние до ближайшего из них?\n",
    "\n",
    "**Предположение: значения `*_nearest` пропущены именно там, где `*_around3000` равно 0. Дистанция до парка/пруда не указана, когда до парка/пруда более 3 км.**\n",
    "\n",
    "Попробуем опровергнуть это предположение."
   ]
  },
  {
   "cell_type": "code",
   "execution_count": 11,
   "metadata": {
    "scrolled": true
   },
   "outputs": [
    {
     "name": "stdout",
     "output_type": "stream",
     "text": [
      "Не указана дистанция, но рядом присутствуют - парки: 0\n",
      "Не указана дистанция, но рядом присутствуют - пруды: 0\n"
     ]
    }
   ],
   "source": [
    "print(\"Не указана дистанция, но рядом присутствуют - парки:\",\n",
    "      realty.query('parks_around3000 > 0')['parks_nearest'].isna().sum())\n",
    "print(\"Не указана дистанция, но рядом присутствуют - пруды:\",\n",
    "      realty.query('ponds_around3000 > 0')['ponds_nearest'].isna().sum())"
   ]
  },
  {
   "cell_type": "markdown",
   "metadata": {},
   "source": [
    "Значит, если поблизости парк или пруд - всегда указано расстояние. Без расстояния остаются только случаи, когда прудов/парков нет, или про это не указано."
   ]
  },
  {
   "cell_type": "code",
   "execution_count": 12,
   "metadata": {},
   "outputs": [
    {
     "name": "stdout",
     "output_type": "stream",
     "text": [
      "Указана дистанция, но вблизи отстутствуют - парки: 4\n",
      "Указана дистанция, но вблизи отстутствуют - пруды: 0\n"
     ]
    }
   ],
   "source": [
    "print(\"Указана дистанция, но вблизи отстутствуют - парки:\",\n",
    "      realty.query('parks_around3000 == 0')['parks_nearest'].notna().sum())\n",
    "print(\"Указана дистанция, но вблизи отстутствуют - пруды:\",\n",
    "      realty.query('ponds_around3000 == 0')['ponds_nearest'].notna().sum())"
   ]
  },
  {
   "cell_type": "markdown",
   "metadata": {},
   "source": [
    "Значит, если записано, что рядом нет парков или прудов - почти всегда отстутсвует дистанция. И только 4 случая нарушают правило. Что это за 4 случая с парками?"
   ]
  },
  {
   "cell_type": "code",
   "execution_count": 13,
   "metadata": {},
   "outputs": [
    {
     "data": {
      "text/html": [
       "<div>\n",
       "<style scoped>\n",
       "    .dataframe tbody tr th:only-of-type {\n",
       "        vertical-align: middle;\n",
       "    }\n",
       "\n",
       "    .dataframe tbody tr th {\n",
       "        vertical-align: top;\n",
       "    }\n",
       "\n",
       "    .dataframe thead th {\n",
       "        text-align: right;\n",
       "    }\n",
       "</style>\n",
       "<table border=\"1\" class=\"dataframe\">\n",
       "  <thead>\n",
       "    <tr style=\"text-align: right;\">\n",
       "      <th></th>\n",
       "      <th>total_images</th>\n",
       "      <th>last_price</th>\n",
       "      <th>total_area</th>\n",
       "      <th>first_day_exposition</th>\n",
       "      <th>rooms</th>\n",
       "      <th>ceiling_height</th>\n",
       "      <th>floors_total</th>\n",
       "      <th>living_area</th>\n",
       "      <th>floor</th>\n",
       "      <th>is_apartment</th>\n",
       "      <th>...</th>\n",
       "      <th>kitchen_area</th>\n",
       "      <th>balcony</th>\n",
       "      <th>locality_name</th>\n",
       "      <th>airports_nearest</th>\n",
       "      <th>city_centers_nearest</th>\n",
       "      <th>parks_around3000</th>\n",
       "      <th>parks_nearest</th>\n",
       "      <th>ponds_around3000</th>\n",
       "      <th>ponds_nearest</th>\n",
       "      <th>days_exposition</th>\n",
       "    </tr>\n",
       "  </thead>\n",
       "  <tbody>\n",
       "    <tr>\n",
       "      <th>1590</th>\n",
       "      <td>3</td>\n",
       "      <td>7500000.0</td>\n",
       "      <td>70.0</td>\n",
       "      <td>2017-07-11T00:00:00</td>\n",
       "      <td>2</td>\n",
       "      <td>NaN</td>\n",
       "      <td>18.0</td>\n",
       "      <td>37.0</td>\n",
       "      <td>13</td>\n",
       "      <td>NaN</td>\n",
       "      <td>...</td>\n",
       "      <td>10.0</td>\n",
       "      <td>0.0</td>\n",
       "      <td>Санкт-Петербург</td>\n",
       "      <td>14878.0</td>\n",
       "      <td>9791.0</td>\n",
       "      <td>0.0</td>\n",
       "      <td>3064.0</td>\n",
       "      <td>1.0</td>\n",
       "      <td>264.0</td>\n",
       "      <td>4.0</td>\n",
       "    </tr>\n",
       "    <tr>\n",
       "      <th>10959</th>\n",
       "      <td>9</td>\n",
       "      <td>3000000.0</td>\n",
       "      <td>31.1</td>\n",
       "      <td>2017-03-21T00:00:00</td>\n",
       "      <td>1</td>\n",
       "      <td>NaN</td>\n",
       "      <td>5.0</td>\n",
       "      <td>17.7</td>\n",
       "      <td>2</td>\n",
       "      <td>NaN</td>\n",
       "      <td>...</td>\n",
       "      <td>5.5</td>\n",
       "      <td>0.0</td>\n",
       "      <td>Санкт-Петербург</td>\n",
       "      <td>14821.0</td>\n",
       "      <td>9734.0</td>\n",
       "      <td>0.0</td>\n",
       "      <td>3190.0</td>\n",
       "      <td>1.0</td>\n",
       "      <td>431.0</td>\n",
       "      <td>234.0</td>\n",
       "    </tr>\n",
       "    <tr>\n",
       "      <th>19208</th>\n",
       "      <td>17</td>\n",
       "      <td>14950000.0</td>\n",
       "      <td>187.0</td>\n",
       "      <td>2017-10-12T00:00:00</td>\n",
       "      <td>5</td>\n",
       "      <td>3.0</td>\n",
       "      <td>2.0</td>\n",
       "      <td>80.0</td>\n",
       "      <td>2</td>\n",
       "      <td>NaN</td>\n",
       "      <td>...</td>\n",
       "      <td>17.0</td>\n",
       "      <td>1.0</td>\n",
       "      <td>Санкт-Петербург</td>\n",
       "      <td>36805.0</td>\n",
       "      <td>8656.0</td>\n",
       "      <td>0.0</td>\n",
       "      <td>3013.0</td>\n",
       "      <td>3.0</td>\n",
       "      <td>537.0</td>\n",
       "      <td>49.0</td>\n",
       "    </tr>\n",
       "    <tr>\n",
       "      <th>19430</th>\n",
       "      <td>9</td>\n",
       "      <td>3900000.0</td>\n",
       "      <td>30.5</td>\n",
       "      <td>2018-02-22T00:00:00</td>\n",
       "      <td>1</td>\n",
       "      <td>2.6</td>\n",
       "      <td>5.0</td>\n",
       "      <td>16.5</td>\n",
       "      <td>1</td>\n",
       "      <td>NaN</td>\n",
       "      <td>...</td>\n",
       "      <td>5.5</td>\n",
       "      <td>NaN</td>\n",
       "      <td>Санкт-Петербург</td>\n",
       "      <td>14821.0</td>\n",
       "      <td>9734.0</td>\n",
       "      <td>0.0</td>\n",
       "      <td>3190.0</td>\n",
       "      <td>1.0</td>\n",
       "      <td>431.0</td>\n",
       "      <td>176.0</td>\n",
       "    </tr>\n",
       "  </tbody>\n",
       "</table>\n",
       "<p>4 rows × 22 columns</p>\n",
       "</div>"
      ],
      "text/plain": [
       "       total_images  last_price  total_area first_day_exposition  rooms  \\\n",
       "1590              3   7500000.0        70.0  2017-07-11T00:00:00      2   \n",
       "10959             9   3000000.0        31.1  2017-03-21T00:00:00      1   \n",
       "19208            17  14950000.0       187.0  2017-10-12T00:00:00      5   \n",
       "19430             9   3900000.0        30.5  2018-02-22T00:00:00      1   \n",
       "\n",
       "       ceiling_height  floors_total  living_area  floor is_apartment  ...  \\\n",
       "1590              NaN          18.0         37.0     13          NaN  ...   \n",
       "10959             NaN           5.0         17.7      2          NaN  ...   \n",
       "19208             3.0           2.0         80.0      2          NaN  ...   \n",
       "19430             2.6           5.0         16.5      1          NaN  ...   \n",
       "\n",
       "       kitchen_area  balcony    locality_name  airports_nearest  \\\n",
       "1590           10.0      0.0  Санкт-Петербург           14878.0   \n",
       "10959           5.5      0.0  Санкт-Петербург           14821.0   \n",
       "19208          17.0      1.0  Санкт-Петербург           36805.0   \n",
       "19430           5.5      NaN  Санкт-Петербург           14821.0   \n",
       "\n",
       "      city_centers_nearest  parks_around3000  parks_nearest  ponds_around3000  \\\n",
       "1590                9791.0               0.0         3064.0               1.0   \n",
       "10959               9734.0               0.0         3190.0               1.0   \n",
       "19208               8656.0               0.0         3013.0               3.0   \n",
       "19430               9734.0               0.0         3190.0               1.0   \n",
       "\n",
       "       ponds_nearest  days_exposition  \n",
       "1590           264.0              4.0  \n",
       "10959          431.0            234.0  \n",
       "19208          537.0             49.0  \n",
       "19430          431.0            176.0  \n",
       "\n",
       "[4 rows x 22 columns]"
      ]
     },
     "execution_count": 13,
     "metadata": {},
     "output_type": "execute_result"
    }
   ],
   "source": [
    "realty.query('parks_around3000 == 0 and parks_nearest')"
   ]
  },
  {
   "cell_type": "markdown",
   "metadata": {},
   "source": [
    "Все четыре случая - это дистанции в 3013, 3064 и 3190 м. То есть почти 3000, почти \"близко\"."
   ]
  },
  {
   "cell_type": "markdown",
   "metadata": {},
   "source": [
    "Рассмотрим последний случай:"
   ]
  },
  {
   "cell_type": "code",
   "execution_count": 14,
   "metadata": {},
   "outputs": [
    {
     "name": "stdout",
     "output_type": "stream",
     "text": [
      "Нет дистанции, нет сведений о ближайших - парках: 0.232836828558167 % записей\n",
      "Нет дистанции, нет сведений о ближайших - прудах 0.232836828558167 % записей\n"
     ]
    }
   ],
   "source": [
    "print(\"Нет дистанции, нет сведений о ближайших - парках:\",\n",
    "      realty[realty['parks_around3000'].isna()]['parks_nearest'].isna().sum()\n",
    "      / len(realty), \"% записей\")\n",
    "print(\"Нет дистанции, нет сведений о ближайших - прудах\",\n",
    "      realty[realty['ponds_around3000'].isna()]['ponds_nearest'].isna().sum()\n",
    "      / len(realty), \"% записей\")"
   ]
  },
  {
   "cell_type": "markdown",
   "metadata": {},
   "source": [
    "**Предположение подтвердилось частично.**\n",
    "- если `*_around3000` == 0, то `parks_nearest` должен быть более 3000;\n",
    "- если `*_around3000` и `parks_nearest` пусты одномременно - заполнять их нужно, повторяя распределение известных случаев.\n",
    "\n",
    "Чем можно заполнить `parks_nearest`, когда `realty[parks_around3000] == 0`?\n",
    "\n",
    "Давайте взглянем на распределения parks_around3000 и parks_nearest.\n",
    "\n",
    "Например, если `parks_around3000` прямо указан как 0, то дистанция до парка более 3000 м. А если больше 0 - то менее 3000 м."
   ]
  },
  {
   "cell_type": "code",
   "execution_count": 15,
   "metadata": {
    "scrolled": false
   },
   "outputs": [
    {
     "data": {
      "image/png": "[encoded data removed]",
      "text/plain": [
       "<Figure size 432x288 with 1 Axes>"
      ]
     },
     "metadata": {
      "needs_background": "light"
     },
     "output_type": "display_data"
    }
   ],
   "source": [
    "realty['parks_around3000'].hist(bins=12, range=(-0.5, 3.5)); plt.show()"
   ]
  },
  {
   "cell_type": "markdown",
   "metadata": {},
   "source": [
    "Исходя из этого, в половине случаев парк находится дальше чем за 3000 метров. Медианное расстояние должно быть около 3000 м."
   ]
  },
  {
   "cell_type": "markdown",
   "metadata": {},
   "source": [
    "А что говорят заполненные дистанции?"
   ]
  },
  {
   "cell_type": "code",
   "execution_count": 16,
   "metadata": {
    "scrolled": true
   },
   "outputs": [
    {
     "data": {
      "image/png": "[encoded data removed]",
      "text/plain": [
       "<Figure size 432x288 with 1 Axes>"
      ]
     },
     "metadata": {
      "needs_background": "light"
     },
     "output_type": "display_data"
    }
   ],
   "source": [
    "realty['parks_nearest'].hist(bins=99); plt.show()"
   ]
  },
  {
   "cell_type": "markdown",
   "metadata": {},
   "source": [
    "Почти все случаи ближе 1000 м. Укажем конкретнее."
   ]
  },
  {
   "cell_type": "code",
   "execution_count": 17,
   "metadata": {},
   "outputs": [
    {
     "name": "stdout",
     "output_type": "stream",
     "text": [
      "95% известных расстояний не превышают 968.0 м.\n"
     ]
    }
   ],
   "source": [
    "print('95% известных расстояний не превышают',\n",
    "      realty['parks_nearest'].quantile(q=0.95),\n",
    "      'м.')"
   ]
  },
  {
   "cell_type": "markdown",
   "metadata": {},
   "source": [
    "Если мы считаем, что данные обоих столбцов верны, то `parks_nearest`, заполненный свыше 3000 м, покажет одну из двух аномалий:\n",
    "- второй пик, по масштабам сравнимый с первым (на 500 м), отделённый от первого широкой долиной;\n",
    "- нереально длинный хвост, который в поисках ближайшего парка может уйти в Москву, например.\n",
    "\n",
    "Аналогично сравним графики по прудам."
   ]
  },
  {
   "cell_type": "code",
   "execution_count": 18,
   "metadata": {},
   "outputs": [
    {
     "data": {
      "image/png": "[encoded data removed]",
      "text/plain": [
       "<Figure size 432x288 with 1 Axes>"
      ]
     },
     "metadata": {
      "needs_background": "light"
     },
     "output_type": "display_data"
    },
    {
     "data": {
      "image/png": "[encoded data removed]",
      "text/plain": [
       "<Figure size 432x288 with 1 Axes>"
      ]
     },
     "metadata": {
      "needs_background": "light"
     },
     "output_type": "display_data"
    },
    {
     "name": "stdout",
     "output_type": "stream",
     "text": [
      "95% известных расстояний не превышают 976.5499999999993 м.\n"
     ]
    }
   ],
   "source": [
    "realty['ponds_around3000'].plot(\n",
    "    kind='hist', bins=12, range=(-0.5, 3.5),\n",
    "    title='Сколько прудов ближе 3000 м', grid=True,\n",
    ")\n",
    "plt.show()\n",
    "\n",
    "realty['ponds_nearest'].plot(\n",
    "    kind='hist', bins=99, title='Сколько до ближайшего пруда, м', grid=True,\n",
    ")\n",
    "plt.show()\n",
    "\n",
    "print('95% известных расстояний не превышают',\n",
    "      realty['ponds_nearest'].quantile(q=0.95),\n",
    "      'м.')"
   ]
  },
  {
   "cell_type": "markdown",
   "metadata": {},
   "source": [
    "Технически мы можем заполнить случаи, когда не указано ни количество парков и прудов, ни дистанция до них. Опираясь на надёжные данные, мы проследили бы, есть ли разница между городами, и внесли бы медианные значения.\n",
    "\n",
    "Однако сейчас мы имеем четыре столбца, в которых значения не связаны друг с другом *естественным* образом. Не видно способа проверить, что медианы будут достоверны. Нет смысла заполнять пропуски в такой ситуации."
   ]
  },
  {
   "cell_type": "markdown",
   "metadata": {},
   "source": [
    "##### Как распределяются парки по населённым пунктам?"
   ]
  },
  {
   "cell_type": "code",
   "execution_count": 19,
   "metadata": {
    "scrolled": true
   },
   "outputs": [
    {
     "data": {
      "text/html": [
       "<div>\n",
       "<style scoped>\n",
       "    .dataframe tbody tr th:only-of-type {\n",
       "        vertical-align: middle;\n",
       "    }\n",
       "\n",
       "    .dataframe tbody tr th {\n",
       "        vertical-align: top;\n",
       "    }\n",
       "\n",
       "    .dataframe thead th {\n",
       "        text-align: right;\n",
       "    }\n",
       "</style>\n",
       "<table border=\"1\" class=\"dataframe\">\n",
       "  <thead>\n",
       "    <tr style=\"text-align: right;\">\n",
       "      <th></th>\n",
       "      <th>parks_reported</th>\n",
       "      <th>parks_mean</th>\n",
       "      <th>parks_deviation</th>\n",
       "      <th>distance_reported</th>\n",
       "      <th>distance_mean</th>\n",
       "      <th>distance_deviation</th>\n",
       "    </tr>\n",
       "    <tr>\n",
       "      <th>locality_name</th>\n",
       "      <th></th>\n",
       "      <th></th>\n",
       "      <th></th>\n",
       "      <th></th>\n",
       "      <th></th>\n",
       "      <th></th>\n",
       "    </tr>\n",
       "  </thead>\n",
       "  <tbody>\n",
       "    <tr>\n",
       "      <th>Санкт-Петербург</th>\n",
       "      <td>15660</td>\n",
       "      <td>0.627586</td>\n",
       "      <td>0.787867</td>\n",
       "      <td>7284</td>\n",
       "      <td>498.597886</td>\n",
       "      <td>345.181284</td>\n",
       "    </tr>\n",
       "    <tr>\n",
       "      <th>посёлок Шушары</th>\n",
       "      <td>436</td>\n",
       "      <td>0.000000</td>\n",
       "      <td>0.000000</td>\n",
       "      <td>0</td>\n",
       "      <td>NaN</td>\n",
       "      <td>NaN</td>\n",
       "    </tr>\n",
       "    <tr>\n",
       "      <th>Пушкин</th>\n",
       "      <td>369</td>\n",
       "      <td>0.747967</td>\n",
       "      <td>0.803459</td>\n",
       "      <td>212</td>\n",
       "      <td>404.297170</td>\n",
       "      <td>212.397623</td>\n",
       "    </tr>\n",
       "    <tr>\n",
       "      <th>Колпино</th>\n",
       "      <td>337</td>\n",
       "      <td>0.522255</td>\n",
       "      <td>0.752146</td>\n",
       "      <td>133</td>\n",
       "      <td>495.481203</td>\n",
       "      <td>420.034046</td>\n",
       "    </tr>\n",
       "    <tr>\n",
       "      <th>посёлок Парголово</th>\n",
       "      <td>327</td>\n",
       "      <td>0.030581</td>\n",
       "      <td>0.172444</td>\n",
       "      <td>10</td>\n",
       "      <td>501.100000</td>\n",
       "      <td>326.847042</td>\n",
       "    </tr>\n",
       "    <tr>\n",
       "      <th>Петергоф</th>\n",
       "      <td>201</td>\n",
       "      <td>1.338308</td>\n",
       "      <td>1.146724</td>\n",
       "      <td>143</td>\n",
       "      <td>419.559441</td>\n",
       "      <td>411.389994</td>\n",
       "    </tr>\n",
       "    <tr>\n",
       "      <th>Сестрорецк</th>\n",
       "      <td>183</td>\n",
       "      <td>0.601093</td>\n",
       "      <td>0.876681</td>\n",
       "      <td>72</td>\n",
       "      <td>409.583333</td>\n",
       "      <td>223.429275</td>\n",
       "    </tr>\n",
       "    <tr>\n",
       "      <th>Красное Село</th>\n",
       "      <td>176</td>\n",
       "      <td>0.494318</td>\n",
       "      <td>0.950171</td>\n",
       "      <td>46</td>\n",
       "      <td>466.086957</td>\n",
       "      <td>215.565285</td>\n",
       "    </tr>\n",
       "    <tr>\n",
       "      <th>Ломоносов</th>\n",
       "      <td>132</td>\n",
       "      <td>0.242424</td>\n",
       "      <td>0.666782</td>\n",
       "      <td>16</td>\n",
       "      <td>389.062500</td>\n",
       "      <td>162.598265</td>\n",
       "    </tr>\n",
       "    <tr>\n",
       "      <th>Кронштадт</th>\n",
       "      <td>95</td>\n",
       "      <td>1.789474</td>\n",
       "      <td>0.966401</td>\n",
       "      <td>87</td>\n",
       "      <td>324.574713</td>\n",
       "      <td>174.827133</td>\n",
       "    </tr>\n",
       "    <tr>\n",
       "      <th>посёлок Металлострой</th>\n",
       "      <td>66</td>\n",
       "      <td>0.000000</td>\n",
       "      <td>0.000000</td>\n",
       "      <td>0</td>\n",
       "      <td>NaN</td>\n",
       "      <td>NaN</td>\n",
       "    </tr>\n",
       "    <tr>\n",
       "      <th>посёлок Стрельна</th>\n",
       "      <td>44</td>\n",
       "      <td>0.704545</td>\n",
       "      <td>0.878147</td>\n",
       "      <td>19</td>\n",
       "      <td>580.157895</td>\n",
       "      <td>399.732030</td>\n",
       "    </tr>\n",
       "    <tr>\n",
       "      <th>Павловск</th>\n",
       "      <td>38</td>\n",
       "      <td>1.552632</td>\n",
       "      <td>1.266990</td>\n",
       "      <td>26</td>\n",
       "      <td>379.538462</td>\n",
       "      <td>190.872781</td>\n",
       "    </tr>\n",
       "    <tr>\n",
       "      <th>Зеленогорск</th>\n",
       "      <td>24</td>\n",
       "      <td>1.916667</td>\n",
       "      <td>1.411649</td>\n",
       "      <td>16</td>\n",
       "      <td>210.625000</td>\n",
       "      <td>193.336279</td>\n",
       "    </tr>\n",
       "    <tr>\n",
       "      <th>посёлок Понтонный</th>\n",
       "      <td>20</td>\n",
       "      <td>0.000000</td>\n",
       "      <td>0.000000</td>\n",
       "      <td>0</td>\n",
       "      <td>NaN</td>\n",
       "      <td>NaN</td>\n",
       "    </tr>\n",
       "    <tr>\n",
       "      <th>посёлок Сапёрный</th>\n",
       "      <td>6</td>\n",
       "      <td>0.000000</td>\n",
       "      <td>0.000000</td>\n",
       "      <td>0</td>\n",
       "      <td>NaN</td>\n",
       "      <td>NaN</td>\n",
       "    </tr>\n",
       "    <tr>\n",
       "      <th>посёлок Молодёжное</th>\n",
       "      <td>5</td>\n",
       "      <td>0.000000</td>\n",
       "      <td>0.000000</td>\n",
       "      <td>0</td>\n",
       "      <td>NaN</td>\n",
       "      <td>NaN</td>\n",
       "    </tr>\n",
       "    <tr>\n",
       "      <th>посёлок Песочный</th>\n",
       "      <td>4</td>\n",
       "      <td>0.000000</td>\n",
       "      <td>0.000000</td>\n",
       "      <td>0</td>\n",
       "      <td>NaN</td>\n",
       "      <td>NaN</td>\n",
       "    </tr>\n",
       "    <tr>\n",
       "      <th>посёлок Репино</th>\n",
       "      <td>4</td>\n",
       "      <td>0.000000</td>\n",
       "      <td>0.000000</td>\n",
       "      <td>0</td>\n",
       "      <td>NaN</td>\n",
       "      <td>NaN</td>\n",
       "    </tr>\n",
       "    <tr>\n",
       "      <th>поселок Мурино</th>\n",
       "      <td>2</td>\n",
       "      <td>0.000000</td>\n",
       "      <td>0.000000</td>\n",
       "      <td>0</td>\n",
       "      <td>NaN</td>\n",
       "      <td>NaN</td>\n",
       "    </tr>\n",
       "  </tbody>\n",
       "</table>\n",
       "</div>"
      ],
      "text/plain": [
       "                      parks_reported  parks_mean  parks_deviation  \\\n",
       "locality_name                                                       \n",
       "Санкт-Петербург                15660    0.627586         0.787867   \n",
       "посёлок Шушары                   436    0.000000         0.000000   \n",
       "Пушкин                           369    0.747967         0.803459   \n",
       "Колпино                          337    0.522255         0.752146   \n",
       "посёлок Парголово                327    0.030581         0.172444   \n",
       "Петергоф                         201    1.338308         1.146724   \n",
       "Сестрорецк                       183    0.601093         0.876681   \n",
       "Красное Село                     176    0.494318         0.950171   \n",
       "Ломоносов                        132    0.242424         0.666782   \n",
       "Кронштадт                         95    1.789474         0.966401   \n",
       "посёлок Металлострой              66    0.000000         0.000000   \n",
       "посёлок Стрельна                  44    0.704545         0.878147   \n",
       "Павловск                          38    1.552632         1.266990   \n",
       "Зеленогорск                       24    1.916667         1.411649   \n",
       "посёлок Понтонный                 20    0.000000         0.000000   \n",
       "посёлок Сапёрный                   6    0.000000         0.000000   \n",
       "посёлок Молодёжное                 5    0.000000         0.000000   \n",
       "посёлок Песочный                   4    0.000000         0.000000   \n",
       "посёлок Репино                     4    0.000000         0.000000   \n",
       "поселок Мурино                     2    0.000000         0.000000   \n",
       "\n",
       "                      distance_reported  distance_mean  distance_deviation  \n",
       "locality_name                                                               \n",
       "Санкт-Петербург                    7284     498.597886          345.181284  \n",
       "посёлок Шушары                        0            NaN                 NaN  \n",
       "Пушкин                              212     404.297170          212.397623  \n",
       "Колпино                             133     495.481203          420.034046  \n",
       "посёлок Парголово                    10     501.100000          326.847042  \n",
       "Петергоф                            143     419.559441          411.389994  \n",
       "Сестрорецк                           72     409.583333          223.429275  \n",
       "Красное Село                         46     466.086957          215.565285  \n",
       "Ломоносов                            16     389.062500          162.598265  \n",
       "Кронштадт                            87     324.574713          174.827133  \n",
       "посёлок Металлострой                  0            NaN                 NaN  \n",
       "посёлок Стрельна                     19     580.157895          399.732030  \n",
       "Павловск                             26     379.538462          190.872781  \n",
       "Зеленогорск                          16     210.625000          193.336279  \n",
       "посёлок Понтонный                     0            NaN                 NaN  \n",
       "посёлок Сапёрный                      0            NaN                 NaN  \n",
       "посёлок Молодёжное                    0            NaN                 NaN  \n",
       "посёлок Песочный                      0            NaN                 NaN  \n",
       "посёлок Репино                        0            NaN                 NaN  \n",
       "поселок Мурино                        0            NaN                 NaN  "
      ]
     },
     "execution_count": 19,
     "metadata": {},
     "output_type": "execute_result"
    }
   ],
   "source": [
    "parks_around_by_locality = realty.pivot_table(\n",
    "    index='locality_name',\n",
    "    values='parks_around3000',\n",
    "    aggfunc=['count', 'mean', 'std'],\n",
    ")\n",
    "\n",
    "parks_around_by_locality.columns = ['parks_reported', 'parks_mean', 'parks_deviation']\n",
    "\n",
    "parks_nearest_by_locality = realty.pivot_table(\n",
    "    index='locality_name',\n",
    "    values='parks_nearest',\n",
    "    aggfunc=['count', 'mean', 'std']\n",
    ")\n",
    "parks_nearest_by_locality.columns = ['distance_reported', 'distance_mean', 'distance_deviation']\n",
    "\n",
    "parks_around_by_locality.join(parks_nearest_by_locality).sort_values(\n",
    "    'parks_reported', ascending=False\n",
    ").head(20)"
   ]
  },
  {
   "cell_type": "markdown",
   "metadata": {},
   "source": [
    "Интересно, что в Парголово лишь 10 объектов с близкими парков (указаны 10 дистанций), а  остальные 317 объявлений указывают, что парки \"не ближе 3000 м\" (средняя величина 0,03 парка на объявление). В Петергофе 143 объекта из 201 имеют рядом парк (1,33 парк на объявление).\n",
    "\n",
    "И вот эти два принципиально различных посёлка имеют очень близкую среднюю дистанцию до парка: 501 в Парголово, 419 в Петергофе.\n",
    "\n",
    "Эти аномалии нуждаются в объяснении."
   ]
  },
  {
   "cell_type": "markdown",
   "metadata": {},
   "source": [
    "**Итоги:**\n",
    "- большая часть пропусков в `parks_nearest` и `ponds_nearest` должна содержать величины более 3000, ещё некоторая часть - поровну величины больше и меньше 3000;\n",
    "- данные выглядят неестественно: распределения `*_around3000` не соответствуют распределениям ответов `*_nearest`;\n",
    "- это значит, что у нас нет величин более 3000, которыми можно заполнить пропуски, а те величины менее 3000, на основании которых можно было бы заполнить хоть какие-то случаи - они сами поставлены под сомнение;\n",
    "- предполагаем, что для пользователя точная дистанция в половине случаев не важна - всё равно \"слишком далеко\";\n",
    "- не заполняем пропущенное - не видно надёжного способа заполнения, и не видно потребителя, заинтересованного в такой информации."
   ]
  },
  {
   "cell_type": "markdown",
   "metadata": {},
   "source": [
    "#### `balcony` (49%)"
   ]
  },
  {
   "cell_type": "markdown",
   "metadata": {},
   "source": [
    "**Предположение: количество балконов не указано там, где балконов нет.**\n",
    "\n",
    "Обычно чем меньше площадь объекта - тем меньше балконов. Балконы в основном соединены с жилой площадью, не с кухнями. В описании к данным прямо сказано, что в выборке - только квартиры, нет особняков. Поэтому мы не ждём ситуации, когда \"нет балконов потому, что есть три веранды (или крыльца)\". В квартире подразумевается только один тип \"наружней\" площади: балкон. Чем больше квартира - тем больше балконов.\n",
    "\n",
    "*(Особняком назовём любой жилой дом, в котором живёт одна, обособленная семья. Это короткое и очевидное слово. \"Частный дом\" звучит так, будто непременно находится в частной собственности, а \"жилой дом\" или \"отдельный дом\" - будто остальные дома - нежилые или \"совмещённые\".)*"
   ]
  },
  {
   "cell_type": "markdown",
   "metadata": {},
   "source": [
    "Как проверить: построим распределения жилой площади по каждому из вариантов \"количества балконов\"."
   ]
  },
  {
   "cell_type": "code",
   "execution_count": 20,
   "metadata": {},
   "outputs": [
    {
     "data": {
      "image/png": "[encoded data removed]",
      "text/plain": [
       "<Figure size 432x288 with 1 Axes>"
      ]
     },
     "metadata": {
      "needs_background": "light"
     },
     "output_type": "display_data"
    },
    {
     "data": {
      "image/png": "[encoded data removed]",
      "text/plain": [
       "<Figure size 432x288 with 1 Axes>"
      ]
     },
     "metadata": {
      "needs_background": "light"
     },
     "output_type": "display_data"
    },
    {
     "data": {
      "image/png": "[encoded data removed]",
      "text/plain": [
       "<Figure size 432x288 with 1 Axes>"
      ]
     },
     "metadata": {
      "needs_background": "light"
     },
     "output_type": "display_data"
    },
    {
     "data": {
      "image/png": "[encoded data removed]",
      "text/plain": [
       "<Figure size 432x288 with 1 Axes>"
      ]
     },
     "metadata": {
      "needs_background": "light"
     },
     "output_type": "display_data"
    },
    {
     "data": {
      "image/png": "[encoded data removed]",
      "text/plain": [
       "<Figure size 432x288 with 1 Axes>"
      ]
     },
     "metadata": {
      "needs_background": "light"
     },
     "output_type": "display_data"
    },
    {
     "data": {
      "image/png": "[encoded data removed]",
      "text/plain": [
       "<Figure size 432x288 with 1 Axes>"
      ]
     },
     "metadata": {
      "needs_background": "light"
     },
     "output_type": "display_data"
    },
    {
     "data": {
      "image/png": "[encoded data removed]",
      "text/plain": [
       "<Figure size 432x288 with 1 Axes>"
      ]
     },
     "metadata": {
      "needs_background": "light"
     },
     "output_type": "display_data"
    }
   ],
   "source": [
    "def plot_hist(data, title, bins=49):\n",
    "    data.plot(\n",
    "        kind='hist',\n",
    "        bins=bins,\n",
    "        title=title,\n",
    "        range=(10, 60)\n",
    "    )\n",
    "    plt.show()\n",
    "\n",
    "plot_hist(realty[realty['balcony'].isna()]['living_area'], 'Балконов: не указано')\n",
    "for balcony in realty['balcony'].dropna().sort_values().unique():\n",
    "    plot_hist(\n",
    "        realty[realty['balcony'] == balcony]['living_area'],\n",
    "        f'Балконов: {balcony}'\n",
    "    )"
   ]
  },
  {
   "cell_type": "markdown",
   "metadata": {},
   "source": [
    "Распределение при неуказанном количестве балконов такое же, как если указано 0, 1 или 2 балкона. При количестве балконов более 2-х - распределение меняется, но таких случаев мало самих по себе.\n",
    "\n",
    "Однако мы видим пики при определённых жилых площадах. Ярко выраженных три пика. Это могут быть пики жилых площадей 1-, 2- и 3- комнатных квартир.\n",
    "\n",
    "Проследим распределение количества жилых комнат по каждому из значений количества балконов."
   ]
  },
  {
   "cell_type": "code",
   "execution_count": 21,
   "metadata": {},
   "outputs": [
    {
     "data": {
      "image/png": "[encoded data removed]",
      "text/plain": [
       "<Figure size 432x288 with 1 Axes>"
      ]
     },
     "metadata": {
      "needs_background": "light"
     },
     "output_type": "display_data"
    },
    {
     "data": {
      "image/png": "[encoded data removed]",
      "text/plain": [
       "<Figure size 432x288 with 1 Axes>"
      ]
     },
     "metadata": {
      "needs_background": "light"
     },
     "output_type": "display_data"
    },
    {
     "data": {
      "image/png": "[encoded data removed]",
      "text/plain": [
       "<Figure size 432x288 with 1 Axes>"
      ]
     },
     "metadata": {
      "needs_background": "light"
     },
     "output_type": "display_data"
    },
    {
     "data": {
      "image/png": "[encoded data removed]",
      "text/plain": [
       "<Figure size 432x288 with 1 Axes>"
      ]
     },
     "metadata": {
      "needs_background": "light"
     },
     "output_type": "display_data"
    },
    {
     "data": {
      "image/png": "[encoded data removed]",
      "text/plain": [
       "<Figure size 432x288 with 1 Axes>"
      ]
     },
     "metadata": {
      "needs_background": "light"
     },
     "output_type": "display_data"
    },
    {
     "data": {
      "image/png": "[encoded data removed]",
      "text/plain": [
       "<Figure size 432x288 with 1 Axes>"
      ]
     },
     "metadata": {
      "needs_background": "light"
     },
     "output_type": "display_data"
    },
    {
     "data": {
      "image/png": "[encoded data removed]",
      "text/plain": [
       "<Figure size 432x288 with 1 Axes>"
      ]
     },
     "metadata": {
      "needs_background": "light"
     },
     "output_type": "display_data"
    }
   ],
   "source": [
    "def plot_hist(data, title, bins=9*2):\n",
    "    data.plot(\n",
    "        kind='hist',\n",
    "        bins=bins,\n",
    "        title=title,\n",
    "        range=(0, 9)\n",
    "    )\n",
    "    plt.show()\n",
    "\n",
    "plot_hist(realty[realty['balcony'].isna()]['rooms'], 'Балконов: не указано')\n",
    "for balcony in realty['balcony'].dropna().sort_values().unique():\n",
    "    plot_hist(\n",
    "        realty[realty['balcony'] == balcony]['rooms'],\n",
    "        f'Балконов: {balcony}'\n",
    "    )"
   ]
  },
  {
   "cell_type": "markdown",
   "metadata": {},
   "source": [
    "Квартиры без указания балконов похожи на квартиры с 0, 1 и 2 балконами."
   ]
  },
  {
   "cell_type": "markdown",
   "metadata": {},
   "source": [
    "**Оба анализа подсказывают, что если количество балконов не указана - их не более двух. Предположение оправдалось частично.**\n",
    "\n",
    "Какие мы видим причины отстутствия данных?\n",
    "- пользователь не заполнил данные:\n",
    "  - в квартире нет балконов.\n",
    "\n",
    "Руководствуясь этим предположением, мы дополним данные о балконах. Если посвятить больше времени анализу, возможно, откроются взаимосвязи с другими данными, которые помогут более обоснованно заполнить недостающие данные."
   ]
  },
  {
   "cell_type": "code",
   "execution_count": 22,
   "metadata": {},
   "outputs": [
    {
     "data": {
      "text/plain": [
       "array([0, 2, 1, 5, 4, 3])"
      ]
     },
     "execution_count": 22,
     "metadata": {},
     "output_type": "execute_result"
    }
   ],
   "source": [
    "realty['balcony'] = realty['balcony'].mask(\n",
    "    realty['balcony'].isna(), 0\n",
    ").astype('int')  # мы убедились, что все величины целые, приводим к лучшему виду\n",
    "\n",
    "realty['balcony'].unique()"
   ]
  },
  {
   "cell_type": "markdown",
   "metadata": {},
   "source": [
    "**Итоги:**\n",
    "- пропуски заполнены значенем \"0 балконов\";\n",
    "- таких замен - 48,6% из всех данных, это может исказить дальнейший анализ и выводы;\n",
    "- эта замена опирается только на рекомендацию авторов задания, но не на твёрдые данные;\n",
    "- возможная причина пропусков:\n",
    "  - пользователь не заполняет данные, когда в квартире нет балконов;\n",
    "  - такую причину пропусков можно устранить, например, автозаполнением, которое происходит на виду у пользователя, чтобы привлечь его внимание к осознанному заполнению этого поля;\n",
    "- для надёжного анализа нужно выяснить и устранить причину пропусков."
   ]
  },
  {
   "cell_type": "markdown",
   "metadata": {},
   "source": [
    "#### `ceiling_height` (39%)"
   ]
  },
  {
   "cell_type": "markdown",
   "metadata": {},
   "source": [
    "Высота потолка зависит конструкции дома. От конструкции дома также зависят количество этажей и площади: общие, жилые, кухонные. Количество балконов. По сочетанию этих коственных признаков, возможно, удастся обоснованно заполнить данные. Для этого потребуется больше времени. Возвратимся к этому, когда потребуется."
   ]
  },
  {
   "cell_type": "markdown",
   "metadata": {},
   "source": [
    "#### `airports_nearest` и `city_centers_nearest` (по 23%)"
   ]
  },
  {
   "cell_type": "markdown",
   "metadata": {},
   "source": [
    "Дистанции до аэропорта и до центра зависият от местоположения. На местоположение прямо, но неточно, указывает город`locality_name`. Коственно `airports_nearest` и `city_centers_nearest` могут быть связаны между собой.\n",
    "\n",
    "Взглянем на средние дистанции из населённых пунктов в центр города и в аэропорт"
   ]
  },
  {
   "cell_type": "code",
   "execution_count": 23,
   "metadata": {},
   "outputs": [
    {
     "data": {
      "text/html": [
       "<div>\n",
       "<style scoped>\n",
       "    .dataframe tbody tr th:only-of-type {\n",
       "        vertical-align: middle;\n",
       "    }\n",
       "\n",
       "    .dataframe tbody tr th {\n",
       "        vertical-align: top;\n",
       "    }\n",
       "\n",
       "    .dataframe thead th {\n",
       "        text-align: right;\n",
       "    }\n",
       "</style>\n",
       "<table border=\"1\" class=\"dataframe\">\n",
       "  <thead>\n",
       "    <tr style=\"text-align: right;\">\n",
       "      <th></th>\n",
       "      <th>center_reported</th>\n",
       "      <th>center_mean</th>\n",
       "      <th>center_deviation</th>\n",
       "      <th>airport_reported</th>\n",
       "      <th>airport_mean</th>\n",
       "      <th>airport_deviation</th>\n",
       "    </tr>\n",
       "    <tr>\n",
       "      <th>locality_name</th>\n",
       "      <th></th>\n",
       "      <th></th>\n",
       "      <th></th>\n",
       "      <th></th>\n",
       "      <th></th>\n",
       "      <th></th>\n",
       "    </tr>\n",
       "  </thead>\n",
       "  <tbody>\n",
       "    <tr>\n",
       "      <th>Санкт-Петербург</th>\n",
       "      <td>15660</td>\n",
       "      <td>11601.291571</td>\n",
       "      <td>4842.035279</td>\n",
       "      <td>15636</td>\n",
       "      <td>28046.186237</td>\n",
       "      <td>11557.063820</td>\n",
       "    </tr>\n",
       "    <tr>\n",
       "      <th>посёлок Шушары</th>\n",
       "      <td>436</td>\n",
       "      <td>24243.387615</td>\n",
       "      <td>5502.810462</td>\n",
       "      <td>436</td>\n",
       "      <td>16061.458716</td>\n",
       "      <td>3813.643152</td>\n",
       "    </tr>\n",
       "    <tr>\n",
       "      <th>Пушкин</th>\n",
       "      <td>368</td>\n",
       "      <td>28745.375000</td>\n",
       "      <td>2752.362190</td>\n",
       "      <td>369</td>\n",
       "      <td>16447.869919</td>\n",
       "      <td>2493.217619</td>\n",
       "    </tr>\n",
       "    <tr>\n",
       "      <th>Колпино</th>\n",
       "      <td>337</td>\n",
       "      <td>32113.771513</td>\n",
       "      <td>1505.624864</td>\n",
       "      <td>337</td>\n",
       "      <td>26375.863501</td>\n",
       "      <td>1578.628611</td>\n",
       "    </tr>\n",
       "    <tr>\n",
       "      <th>посёлок Парголово</th>\n",
       "      <td>327</td>\n",
       "      <td>19924.776758</td>\n",
       "      <td>1637.528626</td>\n",
       "      <td>327</td>\n",
       "      <td>53994.926606</td>\n",
       "      <td>2991.890807</td>\n",
       "    </tr>\n",
       "    <tr>\n",
       "      <th>Петергоф</th>\n",
       "      <td>201</td>\n",
       "      <td>35468.925373</td>\n",
       "      <td>5687.914990</td>\n",
       "      <td>201</td>\n",
       "      <td>40184.676617</td>\n",
       "      <td>4077.653990</td>\n",
       "    </tr>\n",
       "    <tr>\n",
       "      <th>Сестрорецк</th>\n",
       "      <td>183</td>\n",
       "      <td>34624.480874</td>\n",
       "      <td>1395.773955</td>\n",
       "      <td>183</td>\n",
       "      <td>56640.486339</td>\n",
       "      <td>2117.862088</td>\n",
       "    </tr>\n",
       "    <tr>\n",
       "      <th>Красное Село</th>\n",
       "      <td>176</td>\n",
       "      <td>30020.284091</td>\n",
       "      <td>2761.588818</td>\n",
       "      <td>176</td>\n",
       "      <td>26595.579545</td>\n",
       "      <td>2761.538822</td>\n",
       "    </tr>\n",
       "    <tr>\n",
       "      <th>Ломоносов</th>\n",
       "      <td>132</td>\n",
       "      <td>50739.969697</td>\n",
       "      <td>4003.546382</td>\n",
       "      <td>132</td>\n",
       "      <td>48308.280303</td>\n",
       "      <td>1213.279691</td>\n",
       "    </tr>\n",
       "    <tr>\n",
       "      <th>Кронштадт</th>\n",
       "      <td>95</td>\n",
       "      <td>49195.726316</td>\n",
       "      <td>1647.487232</td>\n",
       "      <td>95</td>\n",
       "      <td>67469.263158</td>\n",
       "      <td>1648.522480</td>\n",
       "    </tr>\n",
       "    <tr>\n",
       "      <th>посёлок Металлострой</th>\n",
       "      <td>66</td>\n",
       "      <td>27561.348485</td>\n",
       "      <td>515.821361</td>\n",
       "      <td>66</td>\n",
       "      <td>25726.484848</td>\n",
       "      <td>545.113319</td>\n",
       "    </tr>\n",
       "    <tr>\n",
       "      <th>посёлок Стрельна</th>\n",
       "      <td>44</td>\n",
       "      <td>23376.113636</td>\n",
       "      <td>511.706457</td>\n",
       "      <td>44</td>\n",
       "      <td>28148.363636</td>\n",
       "      <td>512.875663</td>\n",
       "    </tr>\n",
       "    <tr>\n",
       "      <th>Павловск</th>\n",
       "      <td>38</td>\n",
       "      <td>33206.921053</td>\n",
       "      <td>1298.380996</td>\n",
       "      <td>38</td>\n",
       "      <td>21053.342105</td>\n",
       "      <td>1298.399998</td>\n",
       "    </tr>\n",
       "    <tr>\n",
       "      <th>Зеленогорск</th>\n",
       "      <td>24</td>\n",
       "      <td>54617.583333</td>\n",
       "      <td>3189.936893</td>\n",
       "      <td>24</td>\n",
       "      <td>73300.250000</td>\n",
       "      <td>3049.461011</td>\n",
       "    </tr>\n",
       "    <tr>\n",
       "      <th>посёлок Понтонный</th>\n",
       "      <td>20</td>\n",
       "      <td>32293.450000</td>\n",
       "      <td>914.651989</td>\n",
       "      <td>20</td>\n",
       "      <td>30581.400000</td>\n",
       "      <td>914.702621</td>\n",
       "    </tr>\n",
       "    <tr>\n",
       "      <th>посёлок Сапёрный</th>\n",
       "      <td>6</td>\n",
       "      <td>35854.666667</td>\n",
       "      <td>29.241523</td>\n",
       "      <td>6</td>\n",
       "      <td>34142.666667</td>\n",
       "      <td>29.241523</td>\n",
       "    </tr>\n",
       "    <tr>\n",
       "      <th>посёлок Молодёжное</th>\n",
       "      <td>5</td>\n",
       "      <td>65529.200000</td>\n",
       "      <td>514.352700</td>\n",
       "      <td>5</td>\n",
       "      <td>84430.200000</td>\n",
       "      <td>514.352700</td>\n",
       "    </tr>\n",
       "    <tr>\n",
       "      <th>посёлок Песочный</th>\n",
       "      <td>4</td>\n",
       "      <td>26475.250000</td>\n",
       "      <td>932.626533</td>\n",
       "      <td>4</td>\n",
       "      <td>54565.500000</td>\n",
       "      <td>1818.747646</td>\n",
       "    </tr>\n",
       "    <tr>\n",
       "      <th>посёлок Репино</th>\n",
       "      <td>4</td>\n",
       "      <td>43392.250000</td>\n",
       "      <td>1259.646081</td>\n",
       "      <td>4</td>\n",
       "      <td>62293.250000</td>\n",
       "      <td>1259.646081</td>\n",
       "    </tr>\n",
       "    <tr>\n",
       "      <th>поселок Мурино</th>\n",
       "      <td>2</td>\n",
       "      <td>21888.000000</td>\n",
       "      <td>0.000000</td>\n",
       "      <td>2</td>\n",
       "      <td>51553.000000</td>\n",
       "      <td>0.000000</td>\n",
       "    </tr>\n",
       "  </tbody>\n",
       "</table>\n",
       "</div>"
      ],
      "text/plain": [
       "                      center_reported   center_mean  center_deviation  \\\n",
       "locality_name                                                           \n",
       "Санкт-Петербург                 15660  11601.291571       4842.035279   \n",
       "посёлок Шушары                    436  24243.387615       5502.810462   \n",
       "Пушкин                            368  28745.375000       2752.362190   \n",
       "Колпино                           337  32113.771513       1505.624864   \n",
       "посёлок Парголово                 327  19924.776758       1637.528626   \n",
       "Петергоф                          201  35468.925373       5687.914990   \n",
       "Сестрорецк                        183  34624.480874       1395.773955   \n",
       "Красное Село                      176  30020.284091       2761.588818   \n",
       "Ломоносов                         132  50739.969697       4003.546382   \n",
       "Кронштадт                          95  49195.726316       1647.487232   \n",
       "посёлок Металлострой               66  27561.348485        515.821361   \n",
       "посёлок Стрельна                   44  23376.113636        511.706457   \n",
       "Павловск                           38  33206.921053       1298.380996   \n",
       "Зеленогорск                        24  54617.583333       3189.936893   \n",
       "посёлок Понтонный                  20  32293.450000        914.651989   \n",
       "посёлок Сапёрный                    6  35854.666667         29.241523   \n",
       "посёлок Молодёжное                  5  65529.200000        514.352700   \n",
       "посёлок Песочный                    4  26475.250000        932.626533   \n",
       "посёлок Репино                      4  43392.250000       1259.646081   \n",
       "поселок Мурино                      2  21888.000000          0.000000   \n",
       "\n",
       "                      airport_reported  airport_mean  airport_deviation  \n",
       "locality_name                                                            \n",
       "Санкт-Петербург                  15636  28046.186237       11557.063820  \n",
       "посёлок Шушары                     436  16061.458716        3813.643152  \n",
       "Пушкин                             369  16447.869919        2493.217619  \n",
       "Колпино                            337  26375.863501        1578.628611  \n",
       "посёлок Парголово                  327  53994.926606        2991.890807  \n",
       "Петергоф                           201  40184.676617        4077.653990  \n",
       "Сестрорецк                         183  56640.486339        2117.862088  \n",
       "Красное Село                       176  26595.579545        2761.538822  \n",
       "Ломоносов                          132  48308.280303        1213.279691  \n",
       "Кронштадт                           95  67469.263158        1648.522480  \n",
       "посёлок Металлострой                66  25726.484848         545.113319  \n",
       "посёлок Стрельна                    44  28148.363636         512.875663  \n",
       "Павловск                            38  21053.342105        1298.399998  \n",
       "Зеленогорск                         24  73300.250000        3049.461011  \n",
       "посёлок Понтонный                   20  30581.400000         914.702621  \n",
       "посёлок Сапёрный                     6  34142.666667          29.241523  \n",
       "посёлок Молодёжное                   5  84430.200000         514.352700  \n",
       "посёлок Песочный                     4  54565.500000        1818.747646  \n",
       "посёлок Репино                       4  62293.250000        1259.646081  \n",
       "поселок Мурино                       2  51553.000000           0.000000  "
      ]
     },
     "execution_count": 23,
     "metadata": {},
     "output_type": "execute_result"
    }
   ],
   "source": [
    "center_nearest_by_locality = realty.pivot_table(\n",
    "    index='locality_name',\n",
    "    values='city_centers_nearest',\n",
    "    aggfunc=['count', 'mean', 'std']\n",
    ")\n",
    "center_nearest_by_locality.columns = [\n",
    "    'center_reported', 'center_mean', 'center_deviation']\n",
    "\n",
    "airport_nearest_by_locality = realty.pivot_table(\n",
    "    index='locality_name',\n",
    "    values='airports_nearest',\n",
    "    aggfunc=['count', 'mean', 'std'],\n",
    ")\n",
    "airport_nearest_by_locality.columns = [\n",
    "    'airport_reported', 'airport_mean', 'airport_deviation']\n",
    "\n",
    "center_nearest_by_locality.join(airport_nearest_by_locality).sort_values(\n",
    "    'center_reported', ascending=False).head(20)"
   ]
  },
  {
   "cell_type": "markdown",
   "metadata": {},
   "source": [
    "Центр, куда все стремятся, находится в Санкт-Петербурге, поскольку именно в нём наименьшие расстояния до центра. Разница между отклонениями внутри нас. пунктов уменьшается, чем дальше от центра и от аэропорта они находятся.\n",
    "\n",
    "Это естественное распределение величин. Можно заполнить отсутствующие величины медианами по населённым пунктам."
   ]
  },
  {
   "cell_type": "code",
   "execution_count": 24,
   "metadata": {},
   "outputs": [],
   "source": [
    "def fillnaby(data, column, groupby, func='median'):\n",
    "    data[column] = data[column].fillna(\n",
    "        data.groupby(groupby)[column].transform(func))"
   ]
  },
  {
   "cell_type": "code",
   "execution_count": 25,
   "metadata": {},
   "outputs": [],
   "source": [
    "fillnaby(realty, 'city_centers_nearest', 'locality_name', 'median')\n",
    "fillnaby(realty, 'airports_nearest', 'locality_name', 'median')"
   ]
  },
  {
   "cell_type": "markdown",
   "metadata": {},
   "source": [
    "Сколько сейчас незаполненных величин? "
   ]
  },
  {
   "cell_type": "code",
   "execution_count": 26,
   "metadata": {},
   "outputs": [
    {
     "data": {
      "text/plain": [
       "0.227604540275961"
      ]
     },
     "execution_count": 26,
     "metadata": {},
     "output_type": "execute_result"
    }
   ],
   "source": [
    "((realty['city_centers_nearest'].isna())\n",
    " | (realty['airports_nearest'].isna())\n",
    ").sum() / len(realty)"
   ]
  },
  {
   "cell_type": "raw",
   "metadata": {},
   "source": [
    "Значит, мы заполнили примерно по 1% значений.\n",
    "\n",
    "Предположение: все оставшиеся незаполенными значения `city_centers_nearest` и `airports_nearest` находятся в одних и тех же строках.\n",
    "\n",
    "Попробуем опровергнуть: сравним списки, где есть оба пропуска, и где есть любой из пропусков. Во второй список не войдут те строки, в которых только одна из двух величин пустая. Сколько строк вошли в первый список, и не вошли во второй?"
   ]
  },
  {
   "cell_type": "code",
   "execution_count": 27,
   "metadata": {},
   "outputs": [
    {
     "data": {
      "text/plain": [
       "0"
      ]
     },
     "execution_count": 27,
     "metadata": {},
     "output_type": "execute_result"
    }
   ],
   "source": [
    "(((realty['city_centers_nearest'].isna()) & (realty['airports_nearest'].isna())) !=\n",
    " ((realty['city_centers_nearest'].isna()) | (realty['airports_nearest'].isna()))).sum()"
   ]
  },
  {
   "cell_type": "markdown",
   "metadata": {},
   "source": [
    "Значит, где пропущено расстояние до аэропорта - там пропущено и расстояние до центра. И наоборот."
   ]
  },
  {
   "cell_type": "markdown",
   "metadata": {},
   "source": [
    "**Итоги:**\n",
    "- примерно 1% значений заполнены медианами по городам;\n",
    "- по 22,7% значений `city_centers_nearest` и `airports_nearest` остаются незаполненными;\n",
    "- оставшиеся пропуски взаимно связаны, каждая пара вернее всего получена в результате единой операции;\n",
    "- возможная причина пропусков:\n",
    "   - пользователь не знает, какие расстояния до центра и до аэропорта;\n",
    "- для надёжного анализа нужно выяснить и устранить причину пропусков."
   ]
  },
  {
   "cell_type": "markdown",
   "metadata": {},
   "source": [
    "#### `parks_around3000` и `ponds_around3000` (также по 23%)"
   ]
  },
  {
   "cell_type": "markdown",
   "metadata": {},
   "source": [
    "Предположение: количество парков и водоёмов зависит от населённого пункта. В одних больше, в других - меньше.\n",
    "\n",
    "Как проверить: заполним таблицу \"количество парков и прудов в городах\"."
   ]
  },
  {
   "cell_type": "code",
   "execution_count": 28,
   "metadata": {},
   "outputs": [
    {
     "data": {
      "text/html": [
       "<div>\n",
       "<style scoped>\n",
       "    .dataframe tbody tr th:only-of-type {\n",
       "        vertical-align: middle;\n",
       "    }\n",
       "\n",
       "    .dataframe tbody tr th {\n",
       "        vertical-align: top;\n",
       "    }\n",
       "\n",
       "    .dataframe thead th {\n",
       "        text-align: right;\n",
       "    }\n",
       "</style>\n",
       "<table border=\"1\" class=\"dataframe\">\n",
       "  <thead>\n",
       "    <tr style=\"text-align: right;\">\n",
       "      <th></th>\n",
       "      <th>parks_reported</th>\n",
       "      <th>parks_mean</th>\n",
       "      <th>parks_deviation</th>\n",
       "      <th>ponds_reported</th>\n",
       "      <th>ponds_mean</th>\n",
       "      <th>ponds_deviation</th>\n",
       "    </tr>\n",
       "    <tr>\n",
       "      <th>locality_name</th>\n",
       "      <th></th>\n",
       "      <th></th>\n",
       "      <th></th>\n",
       "      <th></th>\n",
       "      <th></th>\n",
       "      <th></th>\n",
       "    </tr>\n",
       "  </thead>\n",
       "  <tbody>\n",
       "    <tr>\n",
       "      <th>Санкт-Петербург</th>\n",
       "      <td>15660</td>\n",
       "      <td>0.627586</td>\n",
       "      <td>0.787867</td>\n",
       "      <td>15660</td>\n",
       "      <td>0.770434</td>\n",
       "      <td>0.924568</td>\n",
       "    </tr>\n",
       "    <tr>\n",
       "      <th>посёлок Шушары</th>\n",
       "      <td>436</td>\n",
       "      <td>0.000000</td>\n",
       "      <td>0.000000</td>\n",
       "      <td>436</td>\n",
       "      <td>0.348624</td>\n",
       "      <td>0.477082</td>\n",
       "    </tr>\n",
       "    <tr>\n",
       "      <th>Пушкин</th>\n",
       "      <td>369</td>\n",
       "      <td>0.747967</td>\n",
       "      <td>0.803459</td>\n",
       "      <td>369</td>\n",
       "      <td>0.872629</td>\n",
       "      <td>1.121690</td>\n",
       "    </tr>\n",
       "    <tr>\n",
       "      <th>Колпино</th>\n",
       "      <td>337</td>\n",
       "      <td>0.522255</td>\n",
       "      <td>0.752146</td>\n",
       "      <td>337</td>\n",
       "      <td>0.997033</td>\n",
       "      <td>1.064857</td>\n",
       "    </tr>\n",
       "    <tr>\n",
       "      <th>посёлок Парголово</th>\n",
       "      <td>327</td>\n",
       "      <td>0.030581</td>\n",
       "      <td>0.172444</td>\n",
       "      <td>327</td>\n",
       "      <td>0.290520</td>\n",
       "      <td>0.720856</td>\n",
       "    </tr>\n",
       "    <tr>\n",
       "      <th>Петергоф</th>\n",
       "      <td>201</td>\n",
       "      <td>1.338308</td>\n",
       "      <td>1.146724</td>\n",
       "      <td>201</td>\n",
       "      <td>1.308458</td>\n",
       "      <td>1.305518</td>\n",
       "    </tr>\n",
       "    <tr>\n",
       "      <th>Сестрорецк</th>\n",
       "      <td>183</td>\n",
       "      <td>0.601093</td>\n",
       "      <td>0.876681</td>\n",
       "      <td>183</td>\n",
       "      <td>1.207650</td>\n",
       "      <td>0.908172</td>\n",
       "    </tr>\n",
       "    <tr>\n",
       "      <th>Красное Село</th>\n",
       "      <td>176</td>\n",
       "      <td>0.494318</td>\n",
       "      <td>0.950171</td>\n",
       "      <td>176</td>\n",
       "      <td>0.090909</td>\n",
       "      <td>0.389472</td>\n",
       "    </tr>\n",
       "    <tr>\n",
       "      <th>Ломоносов</th>\n",
       "      <td>132</td>\n",
       "      <td>0.242424</td>\n",
       "      <td>0.666782</td>\n",
       "      <td>132</td>\n",
       "      <td>1.128788</td>\n",
       "      <td>1.058627</td>\n",
       "    </tr>\n",
       "    <tr>\n",
       "      <th>Кронштадт</th>\n",
       "      <td>95</td>\n",
       "      <td>1.789474</td>\n",
       "      <td>0.966401</td>\n",
       "      <td>95</td>\n",
       "      <td>1.936842</td>\n",
       "      <td>0.943178</td>\n",
       "    </tr>\n",
       "    <tr>\n",
       "      <th>посёлок Металлострой</th>\n",
       "      <td>66</td>\n",
       "      <td>0.000000</td>\n",
       "      <td>0.000000</td>\n",
       "      <td>66</td>\n",
       "      <td>0.000000</td>\n",
       "      <td>0.000000</td>\n",
       "    </tr>\n",
       "    <tr>\n",
       "      <th>посёлок Стрельна</th>\n",
       "      <td>44</td>\n",
       "      <td>0.704545</td>\n",
       "      <td>0.878147</td>\n",
       "      <td>44</td>\n",
       "      <td>1.045455</td>\n",
       "      <td>1.180354</td>\n",
       "    </tr>\n",
       "    <tr>\n",
       "      <th>Павловск</th>\n",
       "      <td>38</td>\n",
       "      <td>1.552632</td>\n",
       "      <td>1.266990</td>\n",
       "      <td>38</td>\n",
       "      <td>1.842105</td>\n",
       "      <td>1.000711</td>\n",
       "    </tr>\n",
       "    <tr>\n",
       "      <th>Зеленогорск</th>\n",
       "      <td>24</td>\n",
       "      <td>1.916667</td>\n",
       "      <td>1.411649</td>\n",
       "      <td>24</td>\n",
       "      <td>0.875000</td>\n",
       "      <td>0.612372</td>\n",
       "    </tr>\n",
       "    <tr>\n",
       "      <th>посёлок Понтонный</th>\n",
       "      <td>20</td>\n",
       "      <td>0.000000</td>\n",
       "      <td>0.000000</td>\n",
       "      <td>20</td>\n",
       "      <td>0.350000</td>\n",
       "      <td>0.489360</td>\n",
       "    </tr>\n",
       "    <tr>\n",
       "      <th>посёлок Сапёрный</th>\n",
       "      <td>6</td>\n",
       "      <td>0.000000</td>\n",
       "      <td>0.000000</td>\n",
       "      <td>6</td>\n",
       "      <td>1.000000</td>\n",
       "      <td>0.000000</td>\n",
       "    </tr>\n",
       "    <tr>\n",
       "      <th>посёлок Молодёжное</th>\n",
       "      <td>5</td>\n",
       "      <td>0.000000</td>\n",
       "      <td>0.000000</td>\n",
       "      <td>5</td>\n",
       "      <td>0.000000</td>\n",
       "      <td>0.000000</td>\n",
       "    </tr>\n",
       "    <tr>\n",
       "      <th>посёлок Песочный</th>\n",
       "      <td>4</td>\n",
       "      <td>0.000000</td>\n",
       "      <td>0.000000</td>\n",
       "      <td>4</td>\n",
       "      <td>0.000000</td>\n",
       "      <td>0.000000</td>\n",
       "    </tr>\n",
       "    <tr>\n",
       "      <th>посёлок Репино</th>\n",
       "      <td>4</td>\n",
       "      <td>0.000000</td>\n",
       "      <td>0.000000</td>\n",
       "      <td>4</td>\n",
       "      <td>0.000000</td>\n",
       "      <td>0.000000</td>\n",
       "    </tr>\n",
       "    <tr>\n",
       "      <th>поселок Мурино</th>\n",
       "      <td>2</td>\n",
       "      <td>0.000000</td>\n",
       "      <td>0.000000</td>\n",
       "      <td>2</td>\n",
       "      <td>2.000000</td>\n",
       "      <td>0.000000</td>\n",
       "    </tr>\n",
       "  </tbody>\n",
       "</table>\n",
       "</div>"
      ],
      "text/plain": [
       "                      parks_reported  parks_mean  parks_deviation  \\\n",
       "locality_name                                                       \n",
       "Санкт-Петербург                15660    0.627586         0.787867   \n",
       "посёлок Шушары                   436    0.000000         0.000000   \n",
       "Пушкин                           369    0.747967         0.803459   \n",
       "Колпино                          337    0.522255         0.752146   \n",
       "посёлок Парголово                327    0.030581         0.172444   \n",
       "Петергоф                         201    1.338308         1.146724   \n",
       "Сестрорецк                       183    0.601093         0.876681   \n",
       "Красное Село                     176    0.494318         0.950171   \n",
       "Ломоносов                        132    0.242424         0.666782   \n",
       "Кронштадт                         95    1.789474         0.966401   \n",
       "посёлок Металлострой              66    0.000000         0.000000   \n",
       "посёлок Стрельна                  44    0.704545         0.878147   \n",
       "Павловск                          38    1.552632         1.266990   \n",
       "Зеленогорск                       24    1.916667         1.411649   \n",
       "посёлок Понтонный                 20    0.000000         0.000000   \n",
       "посёлок Сапёрный                   6    0.000000         0.000000   \n",
       "посёлок Молодёжное                 5    0.000000         0.000000   \n",
       "посёлок Песочный                   4    0.000000         0.000000   \n",
       "посёлок Репино                     4    0.000000         0.000000   \n",
       "поселок Мурино                     2    0.000000         0.000000   \n",
       "\n",
       "                      ponds_reported  ponds_mean  ponds_deviation  \n",
       "locality_name                                                      \n",
       "Санкт-Петербург                15660    0.770434         0.924568  \n",
       "посёлок Шушары                   436    0.348624         0.477082  \n",
       "Пушкин                           369    0.872629         1.121690  \n",
       "Колпино                          337    0.997033         1.064857  \n",
       "посёлок Парголово                327    0.290520         0.720856  \n",
       "Петергоф                         201    1.308458         1.305518  \n",
       "Сестрорецк                       183    1.207650         0.908172  \n",
       "Красное Село                     176    0.090909         0.389472  \n",
       "Ломоносов                        132    1.128788         1.058627  \n",
       "Кронштадт                         95    1.936842         0.943178  \n",
       "посёлок Металлострой              66    0.000000         0.000000  \n",
       "посёлок Стрельна                  44    1.045455         1.180354  \n",
       "Павловск                          38    1.842105         1.000711  \n",
       "Зеленогорск                       24    0.875000         0.612372  \n",
       "посёлок Понтонный                 20    0.350000         0.489360  \n",
       "посёлок Сапёрный                   6    1.000000         0.000000  \n",
       "посёлок Молодёжное                 5    0.000000         0.000000  \n",
       "посёлок Песочный                   4    0.000000         0.000000  \n",
       "посёлок Репино                     4    0.000000         0.000000  \n",
       "поселок Мурино                     2    2.000000         0.000000  "
      ]
     },
     "execution_count": 28,
     "metadata": {},
     "output_type": "execute_result"
    }
   ],
   "source": [
    "ponds_around_by_locality = realty.pivot_table(\n",
    "    index='locality_name',\n",
    "    values='ponds_around3000',\n",
    "    aggfunc=['count', 'mean', 'std'],\n",
    ")\n",
    "\n",
    "ponds_around_by_locality.columns = [\n",
    "    'ponds_reported', 'ponds_mean', 'ponds_deviation']\n",
    "\n",
    "parks_around_by_locality.join(ponds_around_by_locality).sort_values(\n",
    "    'parks_reported', ascending=False).head(20)"
   ]
  },
  {
   "cell_type": "markdown",
   "metadata": {},
   "source": [
    "Эти данные выглядят как реальные, отражающие индивидуальность. Зеленогорск оправдывает название \"зелёного\" города, Павловск и Петергоф известны своими обширными парками. Предполагаем по аналогии, что и пруды отражены достоверно.\n",
    "\n",
    "Помним о ранее поставленном сомнении насчёт распределений дистанций до парков и прудов. Они не вариабельны - значения мало изменяются в зависимости от города. Скорее, неверны именно данные о дистанциях до парков и прудов."
   ]
  },
  {
   "cell_type": "markdown",
   "metadata": {},
   "source": [
    "Заполним данные медианами по населённым пунктам."
   ]
  },
  {
   "cell_type": "code",
   "execution_count": 29,
   "metadata": {},
   "outputs": [],
   "source": [
    "fillnaby(realty, 'parks_around3000', 'locality_name', 'median')\n",
    "fillnaby(realty, 'ponds_around3000', 'locality_name', 'median')"
   ]
  },
  {
   "cell_type": "markdown",
   "metadata": {},
   "source": [
    "#### Пропуски в других колонках"
   ]
  },
  {
   "cell_type": "markdown",
   "metadata": {},
   "source": [
    "Пропуски также имеются в `days_exposition` (13%), `kitchen_area` (10%), `living_area` (8%), `floors_total` и `locality_name` (менее 1%).\n",
    "\n",
    "При подробном анализе данных может быть найдена взаимосвязь, которая позволит уверенно заполнить эти пропуски. В данный момент эти взаимосвязи не очевидны.\n",
    "\n",
    "Название пункта напрямую связано с дистанцией до центра агломерации и до аэропорта. По сочетанию этих двух признаков можно предполагать название пункта. Мы вернёмся к этому, если потребуется."
   ]
  },
  {
   "cell_type": "markdown",
   "metadata": {},
   "source": [
    "#### Пропуски после заполнения"
   ]
  },
  {
   "cell_type": "markdown",
   "metadata": {},
   "source": [
    "Выведем все пропуски до и после заполнения, и колонку `filled_na` - долю значений, которые мы заполнили, от общего количества всех значений."
   ]
  },
  {
   "cell_type": "code",
   "execution_count": 30,
   "metadata": {
    "scrolled": true
   },
   "outputs": [
    {
     "data": {
      "text/html": [
       "<div>\n",
       "<style scoped>\n",
       "    .dataframe tbody tr th:only-of-type {\n",
       "        vertical-align: middle;\n",
       "    }\n",
       "\n",
       "    .dataframe tbody tr th {\n",
       "        vertical-align: top;\n",
       "    }\n",
       "\n",
       "    .dataframe thead th {\n",
       "        text-align: right;\n",
       "    }\n",
       "</style>\n",
       "<table border=\"1\" class=\"dataframe\">\n",
       "  <thead>\n",
       "    <tr style=\"text-align: right;\">\n",
       "      <th></th>\n",
       "      <th>na_part_before</th>\n",
       "      <th>unique_count_before</th>\n",
       "      <th>na_part_after</th>\n",
       "      <th>unique_count_after</th>\n",
       "      <th>filled_na</th>\n",
       "    </tr>\n",
       "    <tr>\n",
       "      <th>column</th>\n",
       "      <th></th>\n",
       "      <th></th>\n",
       "      <th></th>\n",
       "      <th></th>\n",
       "      <th></th>\n",
       "    </tr>\n",
       "  </thead>\n",
       "  <tbody>\n",
       "    <tr>\n",
       "      <th>balcony</th>\n",
       "      <td>0.486054</td>\n",
       "      <td>7</td>\n",
       "      <td>0.000000</td>\n",
       "      <td>6</td>\n",
       "      <td>0.486054</td>\n",
       "    </tr>\n",
       "    <tr>\n",
       "      <th>airports_nearest</th>\n",
       "      <td>0.233850</td>\n",
       "      <td>8276</td>\n",
       "      <td>0.227605</td>\n",
       "      <td>8280</td>\n",
       "      <td>0.006245</td>\n",
       "    </tr>\n",
       "    <tr>\n",
       "      <th>city_centers_nearest</th>\n",
       "      <td>0.232879</td>\n",
       "      <td>7643</td>\n",
       "      <td>0.227605</td>\n",
       "      <td>7647</td>\n",
       "      <td>0.005274</td>\n",
       "    </tr>\n",
       "    <tr>\n",
       "      <th>parks_around3000</th>\n",
       "      <td>0.232837</td>\n",
       "      <td>5</td>\n",
       "      <td>0.227605</td>\n",
       "      <td>5</td>\n",
       "      <td>0.005232</td>\n",
       "    </tr>\n",
       "    <tr>\n",
       "      <th>ponds_around3000</th>\n",
       "      <td>0.232837</td>\n",
       "      <td>5</td>\n",
       "      <td>0.227605</td>\n",
       "      <td>5</td>\n",
       "      <td>0.005232</td>\n",
       "    </tr>\n",
       "  </tbody>\n",
       "</table>\n",
       "</div>"
      ],
      "text/plain": [
       "                      na_part_before  unique_count_before  na_part_after  \\\n",
       "column                                                                     \n",
       "balcony                     0.486054                    7       0.000000   \n",
       "airports_nearest            0.233850                 8276       0.227605   \n",
       "city_centers_nearest        0.232879                 7643       0.227605   \n",
       "parks_around3000            0.232837                    5       0.227605   \n",
       "ponds_around3000            0.232837                    5       0.227605   \n",
       "\n",
       "                      unique_count_after  filled_na  \n",
       "column                                               \n",
       "balcony                                6   0.486054  \n",
       "airports_nearest                    8280   0.006245  \n",
       "city_centers_nearest                7647   0.005274  \n",
       "parks_around3000                       5   0.005232  \n",
       "ponds_around3000                       5   0.005232  "
      ]
     },
     "execution_count": 30,
     "metadata": {},
     "output_type": "execute_result"
    }
   ],
   "source": [
    "nans_after = get_nans(realty)\n",
    "nans_progress = nans_before.join(nans_after, lsuffix='_before', rsuffix='_after')\n",
    "nans_progress['filled_na'] = nans_progress['na_part_before'] - nans_progress['na_part_after']\n",
    "nans_progress.query('filled_na > 0').sort_values('filled_na', ascending=False)"
   ]
  },
  {
   "cell_type": "markdown",
   "metadata": {},
   "source": [
    "Обращаем внимание: количество незаполненных строк в `airports_nearest`, `city_centers_nearest`, `parks_around3000`, `ponds_around3000` сравнялось. Это одни и те же строки?"
   ]
  },
  {
   "cell_type": "code",
   "execution_count": 31,
   "metadata": {
    "scrolled": true
   },
   "outputs": [
    {
     "data": {
      "text/plain": [
       "0"
      ]
     },
     "execution_count": 31,
     "metadata": {},
     "output_type": "execute_result"
    }
   ],
   "source": [
    "(\n",
    "    (\n",
    "        realty['city_centers_nearest'].isna()\n",
    "        & realty['airports_nearest'].isna()\n",
    "        & realty['parks_around3000'].isna()\n",
    "        & realty['ponds_around3000'].isna()\n",
    "    )\n",
    "    !=\n",
    "    (\n",
    "        realty['city_centers_nearest'].isna()\n",
    "        | realty['airports_nearest'].isna()\n",
    "        | realty['parks_around3000'].isna()\n",
    "        | realty['ponds_around3000'].isna()\n",
    "    )\n",
    ").sum()"
   ]
  },
  {
   "cell_type": "markdown",
   "metadata": {},
   "source": [
    "Да, если в одном из столбцов пропущено значение - в трёх остальных тоже. Строки с этим свойством могут быть выбраны в отдельный блок данных.\n",
    "\n",
    "При глубоком анализе это может выявить, как готовились данные, сколько разных источников у них, как готовил данные каждый источник."
   ]
  },
  {
   "cell_type": "code",
   "execution_count": 32,
   "metadata": {},
   "outputs": [
    {
     "name": "stdout",
     "output_type": "stream",
     "text": [
      "Заполненных строк без пропусков: 1.34%\n"
     ]
    }
   ],
   "source": [
    "print_filled_rows_share(realty)"
   ]
  },
  {
   "cell_type": "markdown",
   "metadata": {},
   "source": [
    "#### Итоги"
   ]
  },
  {
   "cell_type": "markdown",
   "metadata": {},
   "source": [
    "- на поиск, как заполнить отсутствующие данные, потребовалось 18 часов;\n",
    "- подобное время потребовалось и в прошлой работе;\n",
    "- согласно анализу, распределения `parks_nearest` и `ponds_nearest` выглядят неествественно, и происхождение этих данных нужно проверить, прежде чем доверять им;\n",
    "- и взаимосвязи между `city_centers_nearest` и `airports_nearest` выглядят неестественно прямыми, как если бы значения одной колонки заполнялись бы на основании другой, а не на основании прямого измерения;\n",
    "- в датасете всего 1% строк заполнен без пропусков;\n",
    "- статистически обоснованные замены были произведены в четырёх колонках, они составили около 0,5% в каждой;\n",
    "- колонка `balcony` заполнена согласно руководству по исполнению проекта, однако обоснованность этого решения под сомнением."
   ]
  },
  {
   "cell_type": "markdown",
   "metadata": {},
   "source": [
    "### Изменение типов столбцов"
   ]
  },
  {
   "cell_type": "markdown",
   "metadata": {},
   "source": [
    "Нужно перевести из `object` в `bool` столбец `is_apartment`, в `datetime` - `first_day_exposition`. Это позволит исполнять операции, присущие этим данным.\n",
    "\n",
    "Есть также столбцы, которые логично было бы хранить как int. Однако остаётся вероятность, что в этих столбцах есть дробные числа, и они могут дать нам какой-либо сигнал. Также перевод в int сейчас не даст нам никаких преимуществ - для int и float методы одинаковы. Прямая потребность менять тип видна только у `balcony` и `floors_total` - там мало уникальных величин, и перевод в int позволит величинам выглядеть привычно."
   ]
  },
  {
   "cell_type": "code",
   "execution_count": 33,
   "metadata": {},
   "outputs": [],
   "source": [
    "# для проверяющего:\n",
    "# realty['first_day_exposition'] = pandas.to_datetime(\n",
    "#     realty['first_day_exposition'],\n",
    "#     format='%Y-%m-%dT%H:%M:%S',\n",
    "# )\n",
    "#\n",
    "# С другой стороны,\n",
    "# first_day_exposition содержит даты, записанные по правилам ISO 8601\n",
    "# этот способ записи - стандартный для Python и Pandas\n",
    "# мы можем не применять `.to_datetime()` - так потом проще читать листинг\n",
    "\n",
    "realty=realty.astype({\n",
    "    'is_apartment': 'bool',\n",
    "    'first_day_exposition': 'datetime64',\n",
    "})"
   ]
  },
  {
   "cell_type": "markdown",
   "metadata": {},
   "source": [
    "Проверим, установлены ли нужные типы."
   ]
  },
  {
   "cell_type": "code",
   "execution_count": 34,
   "metadata": {},
   "outputs": [
    {
     "name": "stdout",
     "output_type": "stream",
     "text": [
      "<class 'pandas.core.frame.DataFrame'>\n",
      "RangeIndex: 23699 entries, 0 to 23698\n",
      "Data columns (total 22 columns):\n",
      " #   Column                Non-Null Count  Dtype         \n",
      "---  ------                --------------  -----         \n",
      " 0   total_images          23699 non-null  int64         \n",
      " 1   last_price            23699 non-null  float64       \n",
      " 2   total_area            23699 non-null  float64       \n",
      " 3   first_day_exposition  23699 non-null  datetime64[ns]\n",
      " 4   rooms                 23699 non-null  int64         \n",
      " 5   ceiling_height        14504 non-null  float64       \n",
      " 6   floors_total          23613 non-null  float64       \n",
      " 7   living_area           21796 non-null  float64       \n",
      " 8   floor                 23699 non-null  int64         \n",
      " 9   is_apartment          23699 non-null  bool          \n",
      " 10  is_studio             23699 non-null  bool          \n",
      " 11  has_open_plan         23699 non-null  bool          \n",
      " 12  kitchen_area          21421 non-null  float64       \n",
      " 13  balcony               23699 non-null  int64         \n",
      " 14  locality_name         23650 non-null  object        \n",
      " 15  airports_nearest      18305 non-null  float64       \n",
      " 16  city_centers_nearest  18305 non-null  float64       \n",
      " 17  parks_around3000      18305 non-null  float64       \n",
      " 18  parks_nearest         8079 non-null   float64       \n",
      " 19  ponds_around3000      18305 non-null  float64       \n",
      " 20  ponds_nearest         9110 non-null   float64       \n",
      " 21  days_exposition       20518 non-null  float64       \n",
      "dtypes: bool(3), datetime64[ns](1), float64(13), int64(4), object(1)\n",
      "memory usage: 3.5+ MB\n"
     ]
    }
   ],
   "source": [
    "realty.info()"
   ]
  },
  {
   "cell_type": "markdown",
   "metadata": {},
   "source": [
    "**Итоги:**\n",
    "- Типы успешно приведены к нужным."
   ]
  },
  {
   "cell_type": "markdown",
   "metadata": {},
   "source": [
    "### Итоги предобработки"
   ]
  },
  {
   "cell_type": "markdown",
   "metadata": {},
   "source": [
    "Сделано:\n",
    "- даты, булевы и некоторые явно целые величины приведены к нужным типам;\n",
    "- пропуски в `balcony` заполнены величиной 0, добавленные записи составляют 49% от всех;\n",
    "- статистически обоснованные замены были произведены в четырёх колонках, они составили около 0,5% в каждой;\n",
    "\n",
    "Рекомендации:\n",
    "- сотрудникам, ответственным за сбор, хранение и предоставление данных:\n",
    "  - проверить достоверность `parks_nearest` и `ponds_nearest` - что является источником величин, кто и по каким правилам их вносит, подвергаются ли они обработке после внесения."
   ]
  },
  {
   "cell_type": "markdown",
   "metadata": {},
   "source": [
    "## Расчёты и добавление результатов в таблицу\n",
    "\n",
    "Дополняем `realty` производными данными, столбец за столбцом."
   ]
  },
  {
   "cell_type": "markdown",
   "metadata": {},
   "source": [
    "### Цена квадратного метра"
   ]
  },
  {
   "cell_type": "code",
   "execution_count": 35,
   "metadata": {},
   "outputs": [],
   "source": [
    "realty['price_per_square_meter'] = realty['last_price'] / realty['total_area']"
   ]
  },
  {
   "cell_type": "markdown",
   "metadata": {},
   "source": [
    "### День недели, месяц и год публикации объявления"
   ]
  },
  {
   "cell_type": "code",
   "execution_count": 36,
   "metadata": {},
   "outputs": [],
   "source": [
    "realty['ad_weekday'] = realty['first_day_exposition'].dt.weekday\n",
    "realty['ad_month'] = realty['first_day_exposition'].dt.month\n",
    "realty['ad_year'] = realty['first_day_exposition'].dt.year"
   ]
  },
  {
   "cell_type": "markdown",
   "metadata": {},
   "source": [
    "### Этаж квартиры"
   ]
  },
  {
   "cell_type": "code",
   "execution_count": 37,
   "metadata": {},
   "outputs": [],
   "source": [
    "def get_floor_category(row):\n",
    "    if row['floor'] == 1:\n",
    "        return 'первый'\n",
    "    if row['floor'] == row['floors_total']:\n",
    "        return 'последний'\n",
    "    return 'другой'\n",
    "\n",
    "realty['floor_category'] = realty.apply(get_floor_category, axis=1)"
   ]
  },
  {
   "cell_type": "code",
   "execution_count": 38,
   "metadata": {},
   "outputs": [
    {
     "data": {
      "text/plain": [
       "array(['другой', 'первый', 'последний'], dtype=object)"
      ]
     },
     "execution_count": 38,
     "metadata": {},
     "output_type": "execute_result"
    }
   ],
   "source": [
    "realty['floor_category'].unique()"
   ]
  },
  {
   "cell_type": "markdown",
   "metadata": {},
   "source": [
    "### Cоотношение площадей в квартире"
   ]
  },
  {
   "cell_type": "code",
   "execution_count": 39,
   "metadata": {},
   "outputs": [],
   "source": [
    "realty['living_area_share'] = realty['living_area'] / realty['total_area']\n",
    "realty['kitchen_area_share'] = realty['kitchen_area'] / realty['total_area']"
   ]
  },
  {
   "cell_type": "markdown",
   "metadata": {},
   "source": [
    "### Итоги"
   ]
  },
  {
   "cell_type": "markdown",
   "metadata": {},
   "source": [
    "Мы дополнили датафрейм величинами, которые помогут в дальнейшей работе. Убедимся, что данные выглядят так как надо."
   ]
  },
  {
   "cell_type": "code",
   "execution_count": 40,
   "metadata": {
    "scrolled": true
   },
   "outputs": [
    {
     "data": {
      "text/html": [
       "<div>\n",
       "<style scoped>\n",
       "    .dataframe tbody tr th:only-of-type {\n",
       "        vertical-align: middle;\n",
       "    }\n",
       "\n",
       "    .dataframe tbody tr th {\n",
       "        vertical-align: top;\n",
       "    }\n",
       "\n",
       "    .dataframe thead th {\n",
       "        text-align: right;\n",
       "    }\n",
       "</style>\n",
       "<table border=\"1\" class=\"dataframe\">\n",
       "  <thead>\n",
       "    <tr style=\"text-align: right;\">\n",
       "      <th></th>\n",
       "      <th>total_images</th>\n",
       "      <th>last_price</th>\n",
       "      <th>total_area</th>\n",
       "      <th>first_day_exposition</th>\n",
       "      <th>rooms</th>\n",
       "      <th>ceiling_height</th>\n",
       "      <th>floors_total</th>\n",
       "      <th>living_area</th>\n",
       "      <th>floor</th>\n",
       "      <th>is_apartment</th>\n",
       "      <th>...</th>\n",
       "      <th>ponds_around3000</th>\n",
       "      <th>ponds_nearest</th>\n",
       "      <th>days_exposition</th>\n",
       "      <th>price_per_square_meter</th>\n",
       "      <th>ad_weekday</th>\n",
       "      <th>ad_month</th>\n",
       "      <th>ad_year</th>\n",
       "      <th>floor_category</th>\n",
       "      <th>living_area_share</th>\n",
       "      <th>kitchen_area_share</th>\n",
       "    </tr>\n",
       "  </thead>\n",
       "  <tbody>\n",
       "    <tr>\n",
       "      <th>0</th>\n",
       "      <td>20</td>\n",
       "      <td>13000000.0</td>\n",
       "      <td>108.00</td>\n",
       "      <td>2019-03-07</td>\n",
       "      <td>3</td>\n",
       "      <td>2.70</td>\n",
       "      <td>16.0</td>\n",
       "      <td>51.00</td>\n",
       "      <td>8</td>\n",
       "      <td>True</td>\n",
       "      <td>...</td>\n",
       "      <td>2.0</td>\n",
       "      <td>755.0</td>\n",
       "      <td>NaN</td>\n",
       "      <td>120370.370370</td>\n",
       "      <td>3</td>\n",
       "      <td>3</td>\n",
       "      <td>2019</td>\n",
       "      <td>другой</td>\n",
       "      <td>0.472222</td>\n",
       "      <td>0.231481</td>\n",
       "    </tr>\n",
       "    <tr>\n",
       "      <th>1</th>\n",
       "      <td>7</td>\n",
       "      <td>3350000.0</td>\n",
       "      <td>40.40</td>\n",
       "      <td>2018-12-04</td>\n",
       "      <td>1</td>\n",
       "      <td>NaN</td>\n",
       "      <td>11.0</td>\n",
       "      <td>18.60</td>\n",
       "      <td>1</td>\n",
       "      <td>True</td>\n",
       "      <td>...</td>\n",
       "      <td>0.0</td>\n",
       "      <td>NaN</td>\n",
       "      <td>81.0</td>\n",
       "      <td>82920.792079</td>\n",
       "      <td>1</td>\n",
       "      <td>12</td>\n",
       "      <td>2018</td>\n",
       "      <td>первый</td>\n",
       "      <td>0.460396</td>\n",
       "      <td>0.272277</td>\n",
       "    </tr>\n",
       "    <tr>\n",
       "      <th>2</th>\n",
       "      <td>10</td>\n",
       "      <td>5196000.0</td>\n",
       "      <td>56.00</td>\n",
       "      <td>2015-08-20</td>\n",
       "      <td>2</td>\n",
       "      <td>NaN</td>\n",
       "      <td>5.0</td>\n",
       "      <td>34.30</td>\n",
       "      <td>4</td>\n",
       "      <td>True</td>\n",
       "      <td>...</td>\n",
       "      <td>2.0</td>\n",
       "      <td>574.0</td>\n",
       "      <td>558.0</td>\n",
       "      <td>92785.714286</td>\n",
       "      <td>3</td>\n",
       "      <td>8</td>\n",
       "      <td>2015</td>\n",
       "      <td>другой</td>\n",
       "      <td>0.612500</td>\n",
       "      <td>0.148214</td>\n",
       "    </tr>\n",
       "    <tr>\n",
       "      <th>3</th>\n",
       "      <td>0</td>\n",
       "      <td>64900000.0</td>\n",
       "      <td>159.00</td>\n",
       "      <td>2015-07-24</td>\n",
       "      <td>3</td>\n",
       "      <td>NaN</td>\n",
       "      <td>14.0</td>\n",
       "      <td>NaN</td>\n",
       "      <td>9</td>\n",
       "      <td>True</td>\n",
       "      <td>...</td>\n",
       "      <td>3.0</td>\n",
       "      <td>234.0</td>\n",
       "      <td>424.0</td>\n",
       "      <td>408176.100629</td>\n",
       "      <td>4</td>\n",
       "      <td>7</td>\n",
       "      <td>2015</td>\n",
       "      <td>другой</td>\n",
       "      <td>NaN</td>\n",
       "      <td>NaN</td>\n",
       "    </tr>\n",
       "    <tr>\n",
       "      <th>4</th>\n",
       "      <td>2</td>\n",
       "      <td>10000000.0</td>\n",
       "      <td>100.00</td>\n",
       "      <td>2018-06-19</td>\n",
       "      <td>2</td>\n",
       "      <td>3.03</td>\n",
       "      <td>14.0</td>\n",
       "      <td>32.00</td>\n",
       "      <td>13</td>\n",
       "      <td>True</td>\n",
       "      <td>...</td>\n",
       "      <td>1.0</td>\n",
       "      <td>48.0</td>\n",
       "      <td>121.0</td>\n",
       "      <td>100000.000000</td>\n",
       "      <td>1</td>\n",
       "      <td>6</td>\n",
       "      <td>2018</td>\n",
       "      <td>другой</td>\n",
       "      <td>0.320000</td>\n",
       "      <td>0.410000</td>\n",
       "    </tr>\n",
       "    <tr>\n",
       "      <th>5</th>\n",
       "      <td>10</td>\n",
       "      <td>2890000.0</td>\n",
       "      <td>30.40</td>\n",
       "      <td>2018-09-10</td>\n",
       "      <td>1</td>\n",
       "      <td>NaN</td>\n",
       "      <td>12.0</td>\n",
       "      <td>14.40</td>\n",
       "      <td>5</td>\n",
       "      <td>True</td>\n",
       "      <td>...</td>\n",
       "      <td>NaN</td>\n",
       "      <td>NaN</td>\n",
       "      <td>55.0</td>\n",
       "      <td>95065.789474</td>\n",
       "      <td>0</td>\n",
       "      <td>9</td>\n",
       "      <td>2018</td>\n",
       "      <td>другой</td>\n",
       "      <td>0.473684</td>\n",
       "      <td>0.299342</td>\n",
       "    </tr>\n",
       "    <tr>\n",
       "      <th>6</th>\n",
       "      <td>6</td>\n",
       "      <td>3700000.0</td>\n",
       "      <td>37.30</td>\n",
       "      <td>2017-11-02</td>\n",
       "      <td>1</td>\n",
       "      <td>NaN</td>\n",
       "      <td>26.0</td>\n",
       "      <td>10.60</td>\n",
       "      <td>6</td>\n",
       "      <td>True</td>\n",
       "      <td>...</td>\n",
       "      <td>0.0</td>\n",
       "      <td>NaN</td>\n",
       "      <td>155.0</td>\n",
       "      <td>99195.710456</td>\n",
       "      <td>3</td>\n",
       "      <td>11</td>\n",
       "      <td>2017</td>\n",
       "      <td>другой</td>\n",
       "      <td>0.284182</td>\n",
       "      <td>0.386059</td>\n",
       "    </tr>\n",
       "    <tr>\n",
       "      <th>7</th>\n",
       "      <td>5</td>\n",
       "      <td>7915000.0</td>\n",
       "      <td>71.60</td>\n",
       "      <td>2019-04-18</td>\n",
       "      <td>2</td>\n",
       "      <td>NaN</td>\n",
       "      <td>24.0</td>\n",
       "      <td>NaN</td>\n",
       "      <td>22</td>\n",
       "      <td>True</td>\n",
       "      <td>...</td>\n",
       "      <td>0.0</td>\n",
       "      <td>NaN</td>\n",
       "      <td>NaN</td>\n",
       "      <td>110544.692737</td>\n",
       "      <td>3</td>\n",
       "      <td>4</td>\n",
       "      <td>2019</td>\n",
       "      <td>другой</td>\n",
       "      <td>NaN</td>\n",
       "      <td>0.263966</td>\n",
       "    </tr>\n",
       "    <tr>\n",
       "      <th>8</th>\n",
       "      <td>20</td>\n",
       "      <td>2900000.0</td>\n",
       "      <td>33.16</td>\n",
       "      <td>2018-05-23</td>\n",
       "      <td>1</td>\n",
       "      <td>NaN</td>\n",
       "      <td>27.0</td>\n",
       "      <td>15.43</td>\n",
       "      <td>26</td>\n",
       "      <td>True</td>\n",
       "      <td>...</td>\n",
       "      <td>NaN</td>\n",
       "      <td>NaN</td>\n",
       "      <td>189.0</td>\n",
       "      <td>87454.764777</td>\n",
       "      <td>2</td>\n",
       "      <td>5</td>\n",
       "      <td>2018</td>\n",
       "      <td>другой</td>\n",
       "      <td>0.465320</td>\n",
       "      <td>0.265682</td>\n",
       "    </tr>\n",
       "    <tr>\n",
       "      <th>9</th>\n",
       "      <td>18</td>\n",
       "      <td>5400000.0</td>\n",
       "      <td>61.00</td>\n",
       "      <td>2017-02-26</td>\n",
       "      <td>3</td>\n",
       "      <td>2.50</td>\n",
       "      <td>9.0</td>\n",
       "      <td>43.60</td>\n",
       "      <td>7</td>\n",
       "      <td>True</td>\n",
       "      <td>...</td>\n",
       "      <td>0.0</td>\n",
       "      <td>NaN</td>\n",
       "      <td>289.0</td>\n",
       "      <td>88524.590164</td>\n",
       "      <td>6</td>\n",
       "      <td>2</td>\n",
       "      <td>2017</td>\n",
       "      <td>другой</td>\n",
       "      <td>0.714754</td>\n",
       "      <td>0.106557</td>\n",
       "    </tr>\n",
       "  </tbody>\n",
       "</table>\n",
       "<p>10 rows × 29 columns</p>\n",
       "</div>"
      ],
      "text/plain": [
       "   total_images  last_price  total_area first_day_exposition  rooms  \\\n",
       "0            20  13000000.0      108.00           2019-03-07      3   \n",
       "1             7   3350000.0       40.40           2018-12-04      1   \n",
       "2            10   5196000.0       56.00           2015-08-20      2   \n",
       "3             0  64900000.0      159.00           2015-07-24      3   \n",
       "4             2  10000000.0      100.00           2018-06-19      2   \n",
       "5            10   2890000.0       30.40           2018-09-10      1   \n",
       "6             6   3700000.0       37.30           2017-11-02      1   \n",
       "7             5   7915000.0       71.60           2019-04-18      2   \n",
       "8            20   2900000.0       33.16           2018-05-23      1   \n",
       "9            18   5400000.0       61.00           2017-02-26      3   \n",
       "\n",
       "   ceiling_height  floors_total  living_area  floor  is_apartment  ...  \\\n",
       "0            2.70          16.0        51.00      8          True  ...   \n",
       "1             NaN          11.0        18.60      1          True  ...   \n",
       "2             NaN           5.0        34.30      4          True  ...   \n",
       "3             NaN          14.0          NaN      9          True  ...   \n",
       "4            3.03          14.0        32.00     13          True  ...   \n",
       "5             NaN          12.0        14.40      5          True  ...   \n",
       "6             NaN          26.0        10.60      6          True  ...   \n",
       "7             NaN          24.0          NaN     22          True  ...   \n",
       "8             NaN          27.0        15.43     26          True  ...   \n",
       "9            2.50           9.0        43.60      7          True  ...   \n",
       "\n",
       "   ponds_around3000  ponds_nearest  days_exposition  price_per_square_meter  \\\n",
       "0               2.0          755.0              NaN           120370.370370   \n",
       "1               0.0            NaN             81.0            82920.792079   \n",
       "2               2.0          574.0            558.0            92785.714286   \n",
       "3               3.0          234.0            424.0           408176.100629   \n",
       "4               1.0           48.0            121.0           100000.000000   \n",
       "5               NaN            NaN             55.0            95065.789474   \n",
       "6               0.0            NaN            155.0            99195.710456   \n",
       "7               0.0            NaN              NaN           110544.692737   \n",
       "8               NaN            NaN            189.0            87454.764777   \n",
       "9               0.0            NaN            289.0            88524.590164   \n",
       "\n",
       "  ad_weekday  ad_month  ad_year  floor_category  living_area_share  \\\n",
       "0          3         3     2019          другой           0.472222   \n",
       "1          1        12     2018          первый           0.460396   \n",
       "2          3         8     2015          другой           0.612500   \n",
       "3          4         7     2015          другой                NaN   \n",
       "4          1         6     2018          другой           0.320000   \n",
       "5          0         9     2018          другой           0.473684   \n",
       "6          3        11     2017          другой           0.284182   \n",
       "7          3         4     2019          другой                NaN   \n",
       "8          2         5     2018          другой           0.465320   \n",
       "9          6         2     2017          другой           0.714754   \n",
       "\n",
       "   kitchen_area_share  \n",
       "0            0.231481  \n",
       "1            0.272277  \n",
       "2            0.148214  \n",
       "3                 NaN  \n",
       "4            0.410000  \n",
       "5            0.299342  \n",
       "6            0.386059  \n",
       "7            0.263966  \n",
       "8            0.265682  \n",
       "9            0.106557  \n",
       "\n",
       "[10 rows x 29 columns]"
      ]
     },
     "execution_count": 40,
     "metadata": {},
     "output_type": "execute_result"
    }
   ],
   "source": [
    "realty.head(10)"
   ]
  },
  {
   "cell_type": "markdown",
   "metadata": {},
   "source": [
    "Всё хорошо."
   ]
  },
  {
   "cell_type": "markdown",
   "metadata": {},
   "source": [
    "## Исследовательский анализ данных"
   ]
  },
  {
   "cell_type": "markdown",
   "metadata": {},
   "source": [
    "### Распределения по частоте"
   ]
  },
  {
   "cell_type": "markdown",
   "metadata": {},
   "source": [
    "Подготовим две функции. Одна рисует гистограммы, которые подстраиваются под данные. Вторая строит две такие гистограммы для сравнения.\n",
    "\n",
    "Отсечка хвостов по умолчанию делается по 97,5% квантилю. 39 типичных величин остаются, и только в среднем каждая 40-я величина считается из ряда вон выходящей."
   ]
  },
  {
   "cell_type": "code",
   "execution_count": 202,
   "metadata": {},
   "outputs": [],
   "source": [
    "FIGSIZE = (10, 5)\n",
    "\n",
    "# преднастроенная функция рисования плотов\n",
    "def histf(column, data=realty, show=True, bins=100, qtl=1, start=0,\n",
    "          figsize=FIGSIZE, **kwargs):\n",
    "    # вычисляем указанный квантиль, он станет правой границей\n",
    "    fixed = {\n",
    "        'y': column,\n",
    "        'kind': 'hist',\n",
    "        'bins': min(bins, len(data[column].unique())),\n",
    "        'figsize': figsize,\n",
    "        'title': column,\n",
    "        'legend': False,\n",
    "    }\n",
    "    if 'range' not in kwargs.keys():\n",
    "        quantile = data[column].quantile(qtl)\n",
    "        if 'datetime' in str(data[column].dtype):\n",
    "            start = data[column].min()\n",
    "            print(start)\n",
    "        kwargs['range'] = (start, quantile)\n",
    "    data.plot(**fixed, **kwargs)\n",
    "    if show:\n",
    "        plt.show()\n",
    "\n",
    "# два графика: полный, и не включающий дальние случаи\n",
    "def dhistf(column, data=realty, qtl=0.975, figsize=FIGSIZE, **kwargs):\n",
    "    fig, (ax1, ax2) = plt.subplots(1, 2, figsize=figsize)\n",
    "    histf(column, data=data, ax=ax1, subplots=True, show=False, **kwargs)\n",
    "    histf(column, data=data, ax=ax2, subplots=True, show=False, qtl=qtl, **kwargs)\n",
    "    plt.show()\n",
    "# Развитая форма этого чудовища должна принимать список квантилей,\n",
    "# и строить столько графиков, сколько квантилей указано.\n",
    "# Пора перейти к аналитике."
   ]
  },
  {
   "cell_type": "markdown",
   "metadata": {},
   "source": [
    "Общая площадь квартиры. Длинный хвост. Тело распределения имеет несколько пиков-\"зубцов\". Предполагаем, что разные пики образованы квартирами с разными количеством комнат.\n",
    "\n",
    "Самые типичные квартиры - площадью чуть меньше 50 кв. м, две комнаты. Лишь 1 из 40 квартир превышает по площади 150 кв. м. "
   ]
  },
  {
   "cell_type": "code",
   "execution_count": 152,
   "metadata": {
    "scrolled": false
   },
   "outputs": [
    {
     "data": {
      "image/png": "[encoded data removed]",
      "text/plain": [
       "<Figure size 720x360 with 2 Axes>"
      ]
     },
     "metadata": {
      "needs_background": "light"
     },
     "output_type": "display_data"
    }
   ],
   "source": [
    "dhistf('total_area')"
   ]
  },
  {
   "cell_type": "markdown",
   "metadata": {},
   "source": [
    "Последняя цена. Предполагаем, что по этой цене квартира продана. Очень длинный хвост. Самый частый случай - чуть меньше 4 млн рублей. Цена относительно плавно и равномерно распределена. Есть отдельные случаи чрезвычайно высоких цен, в сотни миллионов рублей."
   ]
  },
  {
   "cell_type": "code",
   "execution_count": 153,
   "metadata": {},
   "outputs": [
    {
     "data": {
      "image/png": "[encoded data removed]",
      "text/plain": [
       "<Figure size 720x360 with 2 Axes>"
      ]
     },
     "metadata": {
      "needs_background": "light"
     },
     "output_type": "display_data"
    }
   ],
   "source": [
    "dhistf('last_price')"
   ]
  },
  {
   "cell_type": "markdown",
   "metadata": {},
   "source": [
    "Чаще всего встречаются однокомнатные и двухкомнатные квартиры. Трёхкомнатные на четверть реже. Больше чем три комнаты - это уже редкий случай. Однако есть квартиры и на 8 комнат, и на 18."
   ]
  },
  {
   "cell_type": "code",
   "execution_count": 154,
   "metadata": {},
   "outputs": [
    {
     "data": {
      "image/png": "[encoded data removed]",
      "text/plain": [
       "<Figure size 720x360 with 1 Axes>"
      ]
     },
     "metadata": {
      "needs_background": "light"
     },
     "output_type": "display_data"
    }
   ],
   "source": [
    "histf('rooms')"
   ]
  },
  {
   "cell_type": "markdown",
   "metadata": {},
   "source": [
    "Высота потолков стремится к некоему минимуму 2,5 м, ниже которого, видимо, строить не было позволено. Более низких потолков почти нет, но 2,5 метровых - много. Далее чем выше потолок - тем реже встречается. Потолки выше 3 м встречаются нечасто, выше 3,5 - лишь в 1 из 40 домов.\n",
    "\n",
    "Видим, что шкала простирается до значения 100 м. Нереальное значение."
   ]
  },
  {
   "cell_type": "code",
   "execution_count": 155,
   "metadata": {},
   "outputs": [
    {
     "data": {
      "image/png": "[encoded data removed]",
      "text/plain": [
       "<Figure size 720x360 with 2 Axes>"
      ]
     },
     "metadata": {
      "needs_background": "light"
     },
     "output_type": "display_data"
    }
   ],
   "source": [
    "dhistf('ceiling_height', start=2.1)"
   ]
  },
  {
   "cell_type": "code",
   "execution_count": 156,
   "metadata": {},
   "outputs": [
    {
     "data": {
      "text/plain": [
       "count    14504.000000\n",
       "mean         2.771499\n",
       "std          1.261056\n",
       "min          1.000000\n",
       "25%          2.520000\n",
       "50%          2.650000\n",
       "75%          2.800000\n",
       "max        100.000000\n",
       "Name: ceiling_height, dtype: float64"
      ]
     },
     "execution_count": 156,
     "metadata": {},
     "output_type": "execute_result"
    }
   ],
   "source": [
    "realty['ceiling_height'].describe()"
   ]
  },
  {
   "cell_type": "markdown",
   "metadata": {},
   "source": [
    "Самый низкий потолок в 1 метр, самый высокий - 100 метров. Размах квартилей  при этом всего 0,28 м. Взглянем на распределение внутри узкого диапазона самых популяных значений."
   ]
  },
  {
   "cell_type": "markdown",
   "metadata": {},
   "source": [
    "Что за квартиры с потолками более 3,5 метров?"
   ]
  },
  {
   "cell_type": "code",
   "execution_count": 157,
   "metadata": {},
   "outputs": [
    {
     "data": {
      "text/html": [
       "<div>\n",
       "<style scoped>\n",
       "    .dataframe tbody tr th:only-of-type {\n",
       "        vertical-align: middle;\n",
       "    }\n",
       "\n",
       "    .dataframe tbody tr th {\n",
       "        vertical-align: top;\n",
       "    }\n",
       "\n",
       "    .dataframe thead th {\n",
       "        text-align: right;\n",
       "    }\n",
       "</style>\n",
       "<table border=\"1\" class=\"dataframe\">\n",
       "  <thead>\n",
       "    <tr style=\"text-align: right;\">\n",
       "      <th></th>\n",
       "      <th>ceiling_height</th>\n",
       "      <th>total_area</th>\n",
       "      <th>rooms</th>\n",
       "      <th>last_price</th>\n",
       "    </tr>\n",
       "  </thead>\n",
       "  <tbody>\n",
       "    <tr>\n",
       "      <th>17534</th>\n",
       "      <td>3.51</td>\n",
       "      <td>154.0</td>\n",
       "      <td>6</td>\n",
       "      <td>21000000.0</td>\n",
       "    </tr>\n",
       "    <tr>\n",
       "      <th>13139</th>\n",
       "      <td>3.51</td>\n",
       "      <td>288.0</td>\n",
       "      <td>5</td>\n",
       "      <td>55000000.0</td>\n",
       "    </tr>\n",
       "    <tr>\n",
       "      <th>2169</th>\n",
       "      <td>3.52</td>\n",
       "      <td>117.1</td>\n",
       "      <td>4</td>\n",
       "      <td>14000000.0</td>\n",
       "    </tr>\n",
       "    <tr>\n",
       "      <th>4798</th>\n",
       "      <td>3.52</td>\n",
       "      <td>160.6</td>\n",
       "      <td>4</td>\n",
       "      <td>17000000.0</td>\n",
       "    </tr>\n",
       "    <tr>\n",
       "      <th>5624</th>\n",
       "      <td>3.52</td>\n",
       "      <td>110.2</td>\n",
       "      <td>3</td>\n",
       "      <td>12000000.0</td>\n",
       "    </tr>\n",
       "    <tr>\n",
       "      <th>5232</th>\n",
       "      <td>3.53</td>\n",
       "      <td>152.3</td>\n",
       "      <td>2</td>\n",
       "      <td>77612080.0</td>\n",
       "    </tr>\n",
       "    <tr>\n",
       "      <th>1213</th>\n",
       "      <td>3.53</td>\n",
       "      <td>87.2</td>\n",
       "      <td>2</td>\n",
       "      <td>21000000.0</td>\n",
       "    </tr>\n",
       "    <tr>\n",
       "      <th>13189</th>\n",
       "      <td>3.53</td>\n",
       "      <td>103.6</td>\n",
       "      <td>4</td>\n",
       "      <td>13000000.0</td>\n",
       "    </tr>\n",
       "    <tr>\n",
       "      <th>20788</th>\n",
       "      <td>3.54</td>\n",
       "      <td>245.0</td>\n",
       "      <td>8</td>\n",
       "      <td>18000000.0</td>\n",
       "    </tr>\n",
       "    <tr>\n",
       "      <th>13315</th>\n",
       "      <td>3.54</td>\n",
       "      <td>70.5</td>\n",
       "      <td>3</td>\n",
       "      <td>6500000.0</td>\n",
       "    </tr>\n",
       "  </tbody>\n",
       "</table>\n",
       "</div>"
      ],
      "text/plain": [
       "       ceiling_height  total_area  rooms  last_price\n",
       "17534            3.51       154.0      6  21000000.0\n",
       "13139            3.51       288.0      5  55000000.0\n",
       "2169             3.52       117.1      4  14000000.0\n",
       "4798             3.52       160.6      4  17000000.0\n",
       "5624             3.52       110.2      3  12000000.0\n",
       "5232             3.53       152.3      2  77612080.0\n",
       "1213             3.53        87.2      2  21000000.0\n",
       "13189            3.53       103.6      4  13000000.0\n",
       "20788            3.54       245.0      8  18000000.0\n",
       "13315            3.54        70.5      3   6500000.0"
      ]
     },
     "execution_count": 157,
     "metadata": {},
     "output_type": "execute_result"
    }
   ],
   "source": [
    "realty.query('ceiling_height > 3.5').loc[:, [\n",
    "    'ceiling_height',\n",
    "    'total_area',\n",
    "    'rooms',\n",
    "    'last_price',\n",
    "]].sort_values('ceiling_height').head(10)"
   ]
  },
  {
   "cell_type": "markdown",
   "metadata": {},
   "source": [
    "Тут немало квартир, которые остались в \"хвосте\" площадей - в общем, тут очень большие квартиры. И дорогие.\n",
    "\n",
    "Как связана высота потолков с площадью и ценой?"
   ]
  },
  {
   "cell_type": "code",
   "execution_count": 169,
   "metadata": {
    "scrolled": false
   },
   "outputs": [
    {
     "data": {
      "image/png": "[encoded data removed]",
      "text/plain": [
       "<Figure size 720x360 with 1 Axes>"
      ]
     },
     "metadata": {
      "needs_background": "light"
     },
     "output_type": "display_data"
    }
   ],
   "source": [
    "realty.plot(kind='scatter', x='ceiling_height', y='total_area',\n",
    "            title='Высота потолка x Общая площадь', figsize=FIGSIZE, grid=True)\n",
    "plt.show()"
   ]
  },
  {
   "cell_type": "code",
   "execution_count": 175,
   "metadata": {},
   "outputs": [
    {
     "data": {
      "image/png": "[encoded data removed]",
      "text/plain": [
       "<Figure size 720x360 with 1 Axes>"
      ]
     },
     "metadata": {
      "needs_background": "light"
     },
     "output_type": "display_data"
    }
   ],
   "source": [
    "realty.plot(kind='scatter', x='ceiling_height', y='total_area',\n",
    "            title='Высота потолка x Общая площадь', figsize=FIGSIZE, grid=True,\n",
    "            xlim=(0, 35))\n",
    "plt.show()"
   ]
  },
  {
   "cell_type": "code",
   "execution_count": 176,
   "metadata": {
    "scrolled": false
   },
   "outputs": [
    {
     "data": {
      "image/png": "[encoded data removed]",
      "text/plain": [
       "<Figure size 720x360 with 1 Axes>"
      ]
     },
     "metadata": {
      "needs_background": "light"
     },
     "output_type": "display_data"
    }
   ],
   "source": [
    "realty.plot(kind='scatter', x='ceiling_height', y='last_price',\n",
    "           title='Высота потолка х Последняя цена', figsize=FIGSIZE, grid=True,\n",
    "           xlim=(0, 35))\n",
    "plt.show()"
   ]
  },
  {
   "cell_type": "code",
   "execution_count": 183,
   "metadata": {},
   "outputs": [
    {
     "data": {
      "image/png": "[encoded data removed]",
      "text/plain": [
       "<Figure size 720x360 with 1 Axes>"
      ]
     },
     "metadata": {
      "needs_background": "light"
     },
     "output_type": "display_data"
    }
   ],
   "source": [
    "realty.plot(kind='scatter', x='ceiling_height', y='last_price',\n",
    "           title='Высота потолка х Последняя цена', figsize=FIGSIZE, grid=True,\n",
    "           xlim=(0, 7))\n",
    "plt.show()"
   ]
  },
  {
   "cell_type": "markdown",
   "metadata": {},
   "source": [
    "На диаграммах видны отделённые от остальных значений группы потолков выше 6 метров. У этих объектов нетипично высокие, но типично низкая цена. Вернее всего, высота потолков ошибочна. Их отсечём.\n",
    "\n",
    "Также отсечём потолки ниже 1,5 м."
   ]
  },
  {
   "cell_type": "code",
   "execution_count": 186,
   "metadata": {},
   "outputs": [
    {
     "data": {
      "text/plain": [
       "0.6107008734545761"
      ]
     },
     "execution_count": 186,
     "metadata": {},
     "output_type": "execute_result"
    }
   ],
   "source": [
    "realty_good = realty.query('1.5 < ceiling_height < 6.1')\n",
    "len(realty_good) / len(realty)"
   ]
  },
  {
   "cell_type": "markdown",
   "metadata": {},
   "source": [
    "  - Площадь, цена, число комнат, высота потолков (гистограммы).\n"
   ]
  },
  {
   "cell_type": "markdown",
   "metadata": {},
   "source": [
    "### Сколько дней проходит до продажи"
   ]
  },
  {
   "cell_type": "markdown",
   "metadata": {},
   "source": [
    "Полные данные, и с отсечёнными 5% самых долгих случаев:"
   ]
  },
  {
   "cell_type": "code",
   "execution_count": 113,
   "metadata": {
    "scrolled": false
   },
   "outputs": [
    {
     "data": {
      "image/png": "[encoded data removed]",
      "text/plain": [
       "<Figure size 720x288 with 2 Axes>"
      ]
     },
     "metadata": {
      "needs_background": "light"
     },
     "output_type": "display_data"
    }
   ],
   "source": [
    "dhistf('days_exposition', qtl=0.95)"
   ]
  },
  {
   "cell_type": "code",
   "execution_count": 114,
   "metadata": {
    "scrolled": false
   },
   "outputs": [
    {
     "data": {
      "image/png": "[encoded data removed]",
      "text/plain": [
       "<Figure size 720x288 with 1 Axes>"
      ]
     },
     "metadata": {
      "needs_background": "light"
     },
     "output_type": "display_data"
    }
   ],
   "source": [
    "histf('days_exposition', qtl=.7)"
   ]
  },
  {
   "cell_type": "code",
   "execution_count": 115,
   "metadata": {},
   "outputs": [
    {
     "data": {
      "image/png": "[encoded data removed]",
      "text/plain": [
       "<Figure size 720x288 with 1 Axes>"
      ]
     },
     "metadata": {
      "needs_background": "light"
     },
     "output_type": "display_data"
    }
   ],
   "source": [
    "histf('days_exposition', range=(0, 21))"
   ]
  },
  {
   "cell_type": "markdown",
   "metadata": {},
   "source": [
    "В день размещения, а также на следующий день продаж почти нет. На третий день количество продаж выходит на самый высокий уровень, и далее - постепенно, с колебаниями и резкими всплесками, но падает."
   ]
  },
  {
   "cell_type": "code",
   "execution_count": 90,
   "metadata": {},
   "outputs": [
    {
     "data": {
      "text/plain": [
       "count    20518.000000\n",
       "mean       180.888634\n",
       "std        219.727988\n",
       "min          1.000000\n",
       "25%         45.000000\n",
       "50%         95.000000\n",
       "75%        232.000000\n",
       "max       1580.000000\n",
       "Name: days_exposition, dtype: float64"
      ]
     },
     "execution_count": 90,
     "metadata": {},
     "output_type": "execute_result"
    }
   ],
   "source": [
    "realty['days_exposition'].describe()"
   ]
  },
  {
   "cell_type": "markdown",
   "metadata": {},
   "source": [
    "Среднее время продажи - 181 день (полгода), медианное - 95 дней (три месяца). \n",
    "\n",
    "Если считать значения внутри квартилей нормой, то продажа ранее 45 дней (1,5 месяца) - это относительно быстрая, а позднее 232 дней (7,5 месяцев) - относительно долгая продажа."
   ]
  },
  {
   "cell_type": "markdown",
   "metadata": {},
   "source": [
    "### Убираем редкие и выбивающиеся значения"
   ]
  },
  {
   "cell_type": "code",
   "execution_count": 203,
   "metadata": {},
   "outputs": [
    {
     "name": "stdout",
     "output_type": "stream",
     "text": [
      "datetime64[ns]\n"
     ]
    },
    {
     "data": {
      "image/png": "[encoded data removed]",
      "text/plain": [
       "<Figure size 720x360 with 2 Axes>"
      ]
     },
     "metadata": {
      "needs_background": "light"
     },
     "output_type": "display_data"
    },
    {
     "data": {
      "image/png": "[encoded data removed]",
      "text/plain": [
       "<Figure size 720x360 with 2 Axes>"
      ]
     },
     "metadata": {
      "needs_background": "light"
     },
     "output_type": "display_data"
    },
    {
     "data": {
      "image/png": "[encoded data removed]",
      "text/plain": [
       "<Figure size 720x360 with 2 Axes>"
      ]
     },
     "metadata": {
      "needs_background": "light"
     },
     "output_type": "display_data"
    },
    {
     "name": "stdout",
     "output_type": "stream",
     "text": [
      "2014-11-27 00:00:00\n"
     ]
    },
    {
     "ename": "TypeError",
     "evalue": "ufunc 'isfinite' not supported for the input types, and the inputs could not be safely coerced to any supported types according to the casting rule ''safe''",
     "output_type": "error",
     "traceback": [
      "\u001b[0;31m---------------------------------------------------------------------------\u001b[0m",
      "\u001b[0;31mTypeError\u001b[0m                                 Traceback (most recent call last)",
      "Input \u001b[0;32mIn [203]\u001b[0m, in \u001b[0;36m<cell line: 3>\u001b[0;34m()\u001b[0m\n\u001b[1;32m      1\u001b[0m \u001b[38;5;28mprint\u001b[39m(realty[\u001b[38;5;124m'\u001b[39m\u001b[38;5;124mfirst_day_exposition\u001b[39m\u001b[38;5;124m'\u001b[39m]\u001b[38;5;241m.\u001b[39mdtype)\n\u001b[1;32m      3\u001b[0m \u001b[38;5;28;01mfor\u001b[39;00m column \u001b[38;5;129;01min\u001b[39;00m realty\u001b[38;5;241m.\u001b[39mcolumns:\n\u001b[0;32m----> 4\u001b[0m     \u001b[43mdhistf\u001b[49m\u001b[43m(\u001b[49m\u001b[43mcolumn\u001b[49m\u001b[43m)\u001b[49m\n",
      "Input \u001b[0;32mIn [202]\u001b[0m, in \u001b[0;36mdhistf\u001b[0;34m(column, data, qtl, figsize, **kwargs)\u001b[0m\n\u001b[1;32m     26\u001b[0m \u001b[38;5;28;01mdef\u001b[39;00m \u001b[38;5;21mdhistf\u001b[39m(column, data\u001b[38;5;241m=\u001b[39mrealty, qtl\u001b[38;5;241m=\u001b[39m\u001b[38;5;241m0.975\u001b[39m, figsize\u001b[38;5;241m=\u001b[39mFIGSIZE, \u001b[38;5;241m*\u001b[39m\u001b[38;5;241m*\u001b[39mkwargs):\n\u001b[1;32m     27\u001b[0m     fig, (ax1, ax2) \u001b[38;5;241m=\u001b[39m plt\u001b[38;5;241m.\u001b[39msubplots(\u001b[38;5;241m1\u001b[39m, \u001b[38;5;241m2\u001b[39m, figsize\u001b[38;5;241m=\u001b[39mfigsize)\n\u001b[0;32m---> 28\u001b[0m     \u001b[43mhistf\u001b[49m\u001b[43m(\u001b[49m\u001b[43mcolumn\u001b[49m\u001b[43m,\u001b[49m\u001b[43m \u001b[49m\u001b[43mdata\u001b[49m\u001b[38;5;241;43m=\u001b[39;49m\u001b[43mdata\u001b[49m\u001b[43m,\u001b[49m\u001b[43m \u001b[49m\u001b[43max\u001b[49m\u001b[38;5;241;43m=\u001b[39;49m\u001b[43max1\u001b[49m\u001b[43m,\u001b[49m\u001b[43m \u001b[49m\u001b[43msubplots\u001b[49m\u001b[38;5;241;43m=\u001b[39;49m\u001b[38;5;28;43;01mTrue\u001b[39;49;00m\u001b[43m,\u001b[49m\u001b[43m \u001b[49m\u001b[43mshow\u001b[49m\u001b[38;5;241;43m=\u001b[39;49m\u001b[38;5;28;43;01mFalse\u001b[39;49;00m\u001b[43m,\u001b[49m\u001b[43m \u001b[49m\u001b[38;5;241;43m*\u001b[39;49m\u001b[38;5;241;43m*\u001b[39;49m\u001b[43mkwargs\u001b[49m\u001b[43m)\u001b[49m\n\u001b[1;32m     29\u001b[0m     histf(column, data\u001b[38;5;241m=\u001b[39mdata, ax\u001b[38;5;241m=\u001b[39max2, subplots\u001b[38;5;241m=\u001b[39m\u001b[38;5;28;01mTrue\u001b[39;00m, show\u001b[38;5;241m=\u001b[39m\u001b[38;5;28;01mFalse\u001b[39;00m, qtl\u001b[38;5;241m=\u001b[39mqtl, \u001b[38;5;241m*\u001b[39m\u001b[38;5;241m*\u001b[39mkwargs)\n\u001b[1;32m     30\u001b[0m     plt\u001b[38;5;241m.\u001b[39mshow()\n",
      "Input \u001b[0;32mIn [202]\u001b[0m, in \u001b[0;36mhistf\u001b[0;34m(column, data, show, bins, qtl, start, figsize, **kwargs)\u001b[0m\n\u001b[1;32m     19\u001b[0m         \u001b[38;5;28mprint\u001b[39m(start)\n\u001b[1;32m     20\u001b[0m     kwargs[\u001b[38;5;124m'\u001b[39m\u001b[38;5;124mrange\u001b[39m\u001b[38;5;124m'\u001b[39m] \u001b[38;5;241m=\u001b[39m (start, quantile)\n\u001b[0;32m---> 21\u001b[0m \u001b[43mdata\u001b[49m\u001b[38;5;241;43m.\u001b[39;49m\u001b[43mplot\u001b[49m\u001b[43m(\u001b[49m\u001b[38;5;241;43m*\u001b[39;49m\u001b[38;5;241;43m*\u001b[39;49m\u001b[43mfixed\u001b[49m\u001b[43m,\u001b[49m\u001b[43m \u001b[49m\u001b[38;5;241;43m*\u001b[39;49m\u001b[38;5;241;43m*\u001b[39;49m\u001b[43mkwargs\u001b[49m\u001b[43m)\u001b[49m\n\u001b[1;32m     22\u001b[0m \u001b[38;5;28;01mif\u001b[39;00m show:\n\u001b[1;32m     23\u001b[0m     plt\u001b[38;5;241m.\u001b[39mshow()\n",
      "File \u001b[0;32m~/anaconda3/envs/practicum/lib/python3.9/site-packages/pandas/plotting/_core.py:955\u001b[0m, in \u001b[0;36mPlotAccessor.__call__\u001b[0;34m(self, *args, **kwargs)\u001b[0m\n\u001b[1;32m    952\u001b[0m             label_name \u001b[38;5;241m=\u001b[39m label_kw \u001b[38;5;129;01mor\u001b[39;00m data\u001b[38;5;241m.\u001b[39mcolumns\n\u001b[1;32m    953\u001b[0m             data\u001b[38;5;241m.\u001b[39mcolumns \u001b[38;5;241m=\u001b[39m label_name\n\u001b[0;32m--> 955\u001b[0m \u001b[38;5;28;01mreturn\u001b[39;00m \u001b[43mplot_backend\u001b[49m\u001b[38;5;241;43m.\u001b[39;49m\u001b[43mplot\u001b[49m\u001b[43m(\u001b[49m\u001b[43mdata\u001b[49m\u001b[43m,\u001b[49m\u001b[43m \u001b[49m\u001b[43mkind\u001b[49m\u001b[38;5;241;43m=\u001b[39;49m\u001b[43mkind\u001b[49m\u001b[43m,\u001b[49m\u001b[43m \u001b[49m\u001b[38;5;241;43m*\u001b[39;49m\u001b[38;5;241;43m*\u001b[39;49m\u001b[43mkwargs\u001b[49m\u001b[43m)\u001b[49m\n",
      "File \u001b[0;32m~/anaconda3/envs/practicum/lib/python3.9/site-packages/pandas/plotting/_matplotlib/__init__.py:61\u001b[0m, in \u001b[0;36mplot\u001b[0;34m(data, kind, **kwargs)\u001b[0m\n\u001b[1;32m     59\u001b[0m         kwargs[\u001b[38;5;124m\"\u001b[39m\u001b[38;5;124max\u001b[39m\u001b[38;5;124m\"\u001b[39m] \u001b[38;5;241m=\u001b[39m \u001b[38;5;28mgetattr\u001b[39m(ax, \u001b[38;5;124m\"\u001b[39m\u001b[38;5;124mleft_ax\u001b[39m\u001b[38;5;124m\"\u001b[39m, ax)\n\u001b[1;32m     60\u001b[0m plot_obj \u001b[38;5;241m=\u001b[39m PLOT_CLASSES[kind](data, \u001b[38;5;241m*\u001b[39m\u001b[38;5;241m*\u001b[39mkwargs)\n\u001b[0;32m---> 61\u001b[0m \u001b[43mplot_obj\u001b[49m\u001b[38;5;241;43m.\u001b[39;49m\u001b[43mgenerate\u001b[49m\u001b[43m(\u001b[49m\u001b[43m)\u001b[49m\n\u001b[1;32m     62\u001b[0m plot_obj\u001b[38;5;241m.\u001b[39mdraw()\n\u001b[1;32m     63\u001b[0m \u001b[38;5;28;01mreturn\u001b[39;00m plot_obj\u001b[38;5;241m.\u001b[39mresult\n",
      "File \u001b[0;32m~/anaconda3/envs/practicum/lib/python3.9/site-packages/pandas/plotting/_matplotlib/core.py:277\u001b[0m, in \u001b[0;36mMPLPlot.generate\u001b[0;34m(self)\u001b[0m\n\u001b[1;32m    276\u001b[0m \u001b[38;5;28;01mdef\u001b[39;00m \u001b[38;5;21mgenerate\u001b[39m(\u001b[38;5;28mself\u001b[39m):\n\u001b[0;32m--> 277\u001b[0m     \u001b[38;5;28;43mself\u001b[39;49m\u001b[38;5;241;43m.\u001b[39;49m\u001b[43m_args_adjust\u001b[49m\u001b[43m(\u001b[49m\u001b[43m)\u001b[49m\n\u001b[1;32m    278\u001b[0m     \u001b[38;5;28mself\u001b[39m\u001b[38;5;241m.\u001b[39m_compute_plot_data()\n\u001b[1;32m    279\u001b[0m     \u001b[38;5;28mself\u001b[39m\u001b[38;5;241m.\u001b[39m_setup_subplots()\n",
      "File \u001b[0;32m~/anaconda3/envs/practicum/lib/python3.9/site-packages/pandas/plotting/_matplotlib/hist.py:37\u001b[0m, in \u001b[0;36mHistPlot._args_adjust\u001b[0;34m(self)\u001b[0m\n\u001b[1;32m     34\u001b[0m     values \u001b[38;5;241m=\u001b[39m np\u001b[38;5;241m.\u001b[39mravel(values)\n\u001b[1;32m     35\u001b[0m     values \u001b[38;5;241m=\u001b[39m values[\u001b[38;5;241m~\u001b[39misna(values)]\n\u001b[0;32m---> 37\u001b[0m     _, \u001b[38;5;28mself\u001b[39m\u001b[38;5;241m.\u001b[39mbins \u001b[38;5;241m=\u001b[39m \u001b[43mnp\u001b[49m\u001b[38;5;241;43m.\u001b[39;49m\u001b[43mhistogram\u001b[49m\u001b[43m(\u001b[49m\n\u001b[1;32m     38\u001b[0m \u001b[43m        \u001b[49m\u001b[43mvalues\u001b[49m\u001b[43m,\u001b[49m\u001b[43m \u001b[49m\u001b[43mbins\u001b[49m\u001b[38;5;241;43m=\u001b[39;49m\u001b[38;5;28;43mself\u001b[39;49m\u001b[38;5;241;43m.\u001b[39;49m\u001b[43mbins\u001b[49m\u001b[43m,\u001b[49m\u001b[43m \u001b[49m\u001b[38;5;28;43mrange\u001b[39;49m\u001b[38;5;241;43m=\u001b[39;49m\u001b[38;5;28;43mself\u001b[39;49m\u001b[38;5;241;43m.\u001b[39;49m\u001b[43mkwds\u001b[49m\u001b[38;5;241;43m.\u001b[39;49m\u001b[43mget\u001b[49m\u001b[43m(\u001b[49m\u001b[38;5;124;43m\"\u001b[39;49m\u001b[38;5;124;43mrange\u001b[39;49m\u001b[38;5;124;43m\"\u001b[39;49m\u001b[43m,\u001b[49m\u001b[43m \u001b[49m\u001b[38;5;28;43;01mNone\u001b[39;49;00m\u001b[43m)\u001b[49m\n\u001b[1;32m     39\u001b[0m \u001b[43m    \u001b[49m\u001b[43m)\u001b[49m\n\u001b[1;32m     41\u001b[0m \u001b[38;5;28;01mif\u001b[39;00m is_list_like(\u001b[38;5;28mself\u001b[39m\u001b[38;5;241m.\u001b[39mbottom):\n\u001b[1;32m     42\u001b[0m     \u001b[38;5;28mself\u001b[39m\u001b[38;5;241m.\u001b[39mbottom \u001b[38;5;241m=\u001b[39m np\u001b[38;5;241m.\u001b[39marray(\u001b[38;5;28mself\u001b[39m\u001b[38;5;241m.\u001b[39mbottom)\n",
      "File \u001b[0;32m<__array_function__ internals>:5\u001b[0m, in \u001b[0;36mhistogram\u001b[0;34m(*args, **kwargs)\u001b[0m\n",
      "File \u001b[0;32m~/anaconda3/envs/practicum/lib/python3.9/site-packages/numpy/lib/histograms.py:792\u001b[0m, in \u001b[0;36mhistogram\u001b[0;34m(a, bins, range, normed, weights, density)\u001b[0m\n\u001b[1;32m    680\u001b[0m \u001b[38;5;124mr\u001b[39m\u001b[38;5;124;03m\"\"\"\u001b[39;00m\n\u001b[1;32m    681\u001b[0m \u001b[38;5;124;03mCompute the histogram of a set of data.\u001b[39;00m\n\u001b[1;32m    682\u001b[0m \n\u001b[0;32m   (...)\u001b[0m\n\u001b[1;32m    788\u001b[0m \n\u001b[1;32m    789\u001b[0m \u001b[38;5;124;03m\"\"\"\u001b[39;00m\n\u001b[1;32m    790\u001b[0m a, weights \u001b[38;5;241m=\u001b[39m _ravel_and_check_weights(a, weights)\n\u001b[0;32m--> 792\u001b[0m bin_edges, uniform_bins \u001b[38;5;241m=\u001b[39m \u001b[43m_get_bin_edges\u001b[49m\u001b[43m(\u001b[49m\u001b[43ma\u001b[49m\u001b[43m,\u001b[49m\u001b[43m \u001b[49m\u001b[43mbins\u001b[49m\u001b[43m,\u001b[49m\u001b[43m \u001b[49m\u001b[38;5;28;43mrange\u001b[39;49m\u001b[43m,\u001b[49m\u001b[43m \u001b[49m\u001b[43mweights\u001b[49m\u001b[43m)\u001b[49m\n\u001b[1;32m    794\u001b[0m \u001b[38;5;66;03m# Histogram is an integer or a float array depending on the weights.\u001b[39;00m\n\u001b[1;32m    795\u001b[0m \u001b[38;5;28;01mif\u001b[39;00m weights \u001b[38;5;129;01mis\u001b[39;00m \u001b[38;5;28;01mNone\u001b[39;00m:\n",
      "File \u001b[0;32m~/anaconda3/envs/practicum/lib/python3.9/site-packages/numpy/lib/histograms.py:426\u001b[0m, in \u001b[0;36m_get_bin_edges\u001b[0;34m(a, bins, range, weights)\u001b[0m\n\u001b[1;32m    423\u001b[0m     \u001b[38;5;28;01mif\u001b[39;00m n_equal_bins \u001b[38;5;241m<\u001b[39m \u001b[38;5;241m1\u001b[39m:\n\u001b[1;32m    424\u001b[0m         \u001b[38;5;28;01mraise\u001b[39;00m \u001b[38;5;167;01mValueError\u001b[39;00m(\u001b[38;5;124m'\u001b[39m\u001b[38;5;124m`bins` must be positive, when an integer\u001b[39m\u001b[38;5;124m'\u001b[39m)\n\u001b[0;32m--> 426\u001b[0m     first_edge, last_edge \u001b[38;5;241m=\u001b[39m \u001b[43m_get_outer_edges\u001b[49m\u001b[43m(\u001b[49m\u001b[43ma\u001b[49m\u001b[43m,\u001b[49m\u001b[43m \u001b[49m\u001b[38;5;28;43mrange\u001b[39;49m\u001b[43m)\u001b[49m\n\u001b[1;32m    428\u001b[0m \u001b[38;5;28;01melif\u001b[39;00m np\u001b[38;5;241m.\u001b[39mndim(bins) \u001b[38;5;241m==\u001b[39m \u001b[38;5;241m1\u001b[39m:\n\u001b[1;32m    429\u001b[0m     bin_edges \u001b[38;5;241m=\u001b[39m np\u001b[38;5;241m.\u001b[39masarray(bins)\n",
      "File \u001b[0;32m~/anaconda3/envs/practicum/lib/python3.9/site-packages/numpy/lib/histograms.py:314\u001b[0m, in \u001b[0;36m_get_outer_edges\u001b[0;34m(a, range)\u001b[0m\n\u001b[1;32m    311\u001b[0m     \u001b[38;5;28;01mif\u001b[39;00m first_edge \u001b[38;5;241m>\u001b[39m last_edge:\n\u001b[1;32m    312\u001b[0m         \u001b[38;5;28;01mraise\u001b[39;00m \u001b[38;5;167;01mValueError\u001b[39;00m(\n\u001b[1;32m    313\u001b[0m             \u001b[38;5;124m'\u001b[39m\u001b[38;5;124mmax must be larger than min in range parameter.\u001b[39m\u001b[38;5;124m'\u001b[39m)\n\u001b[0;32m--> 314\u001b[0m     \u001b[38;5;28;01mif\u001b[39;00m \u001b[38;5;129;01mnot\u001b[39;00m (\u001b[43mnp\u001b[49m\u001b[38;5;241;43m.\u001b[39;49m\u001b[43misfinite\u001b[49m\u001b[43m(\u001b[49m\u001b[43mfirst_edge\u001b[49m\u001b[43m)\u001b[49m \u001b[38;5;129;01mand\u001b[39;00m np\u001b[38;5;241m.\u001b[39misfinite(last_edge)):\n\u001b[1;32m    315\u001b[0m         \u001b[38;5;28;01mraise\u001b[39;00m \u001b[38;5;167;01mValueError\u001b[39;00m(\n\u001b[1;32m    316\u001b[0m             \u001b[38;5;124m\"\u001b[39m\u001b[38;5;124msupplied range of [\u001b[39m\u001b[38;5;132;01m{}\u001b[39;00m\u001b[38;5;124m, \u001b[39m\u001b[38;5;132;01m{}\u001b[39;00m\u001b[38;5;124m] is not finite\u001b[39m\u001b[38;5;124m\"\u001b[39m\u001b[38;5;241m.\u001b[39mformat(first_edge, last_edge))\n\u001b[1;32m    317\u001b[0m \u001b[38;5;28;01melif\u001b[39;00m a\u001b[38;5;241m.\u001b[39msize \u001b[38;5;241m==\u001b[39m \u001b[38;5;241m0\u001b[39m:\n\u001b[1;32m    318\u001b[0m     \u001b[38;5;66;03m# handle empty arrays. Can't determine range, so use 0-1.\u001b[39;00m\n",
      "\u001b[0;31mTypeError\u001b[0m: ufunc 'isfinite' not supported for the input types, and the inputs could not be safely coerced to any supported types according to the casting rule ''safe''"
     ]
    },
    {
     "data": {
      "image/png": "[encoded data removed]",
      "text/plain": [
       "<Figure size 720x360 with 2 Axes>"
      ]
     },
     "metadata": {
      "needs_background": "light"
     },
     "output_type": "display_data"
    }
   ],
   "source": [
    "print(realty['first_day_exposition'].dtype)\n",
    "\n",
    "for column in realty.columns:\n",
    "    dhistf(column)"
   ]
  },
  {
   "cell_type": "code",
   "execution_count": null,
   "metadata": {},
   "outputs": [],
   "source": []
  },
  {
   "cell_type": "code",
   "execution_count": null,
   "metadata": {},
   "outputs": [],
   "source": []
  },
  {
   "cell_type": "code",
   "execution_count": null,
   "metadata": {},
   "outputs": [],
   "source": []
  },
  {
   "cell_type": "code",
   "execution_count": null,
   "metadata": {},
   "outputs": [],
   "source": []
  },
  {
   "cell_type": "markdown",
   "metadata": {},
   "source": [
    "  - Убираем редкие и выбивающиеся значения. Какие особенности обнаружили?\n",
    "  - Какие факторы больше всего влияют на стоимость квартиры?\n",
    "    - Зависит ли цена от площади, числа комнат, удалённости от центра?\n",
    "    - Зависит ли цена от того, на каком этаже расположена квартира: первом, последнем или другом?\n",
    "    - Зависит ли цена от даты размещения: дня недели, месяца и года?"
   ]
  },
  {
   "cell_type": "markdown",
   "metadata": {},
   "source": [
    "## Общий вывод"
   ]
  },
  {
   "cell_type": "markdown",
   "metadata": {},
   "source": []
  },
  {
   "cell_type": "markdown",
   "metadata": {},
   "source": [
    "## Чек-лист готовности проекта\n",
    "\n",
    "Поставьте 'x' в выполненных пунктах. Далее нажмите Shift+Enter."
   ]
  },
  {
   "cell_type": "markdown",
   "metadata": {},
   "source": [
    "- [x]  открыт файл\n",
    "- [ ]  файлы изучены (выведены первые строки, метод info())\n",
    "- [ ]  определены пропущенные значения\n",
    "- [ ]  заполнены пропущенные значения\n",
    "- [ ]  есть пояснение, какие пропущенные значения обнаружены\n",
    "- [ ]  изменены типы данных\n",
    "- [ ]  есть пояснение, в каких столбцах изменены типы и почему\n",
    "- [ ]  посчитано и добавлено в таблицу: цена квадратного метра\n",
    "- [ ]  посчитано и добавлено в таблицу: день недели, месяц и год публикации объявления\n",
    "- [ ]  посчитано и добавлено в таблицу: этаж квартиры; варианты — первый, последний, другой\n",
    "- [ ]  посчитано и добавлено в таблицу: соотношение жилой и общей площади, а также отношение площади кухни к общей\n",
    "- [ ]  изучены следующие параметры: площадь, цена, число комнат, высота потолков\n",
    "- [ ]  построены гистограммы для каждого параметра\n",
    "- [ ]  выполнено задание: \"Изучите время продажи квартиры. Постройте гистограмму. Посчитайте среднее и медиану. Опишите, сколько обычно занимает продажа. Когда можно считать, что продажи прошли очень быстро, а когда необычно долго?\"\n",
    "- [ ]  выполнено задание: \"Уберите редкие и выбивающиеся значения. Опишите, какие особенности обнаружили.\"\n",
    "- [ ]  выполнено задание: \"Какие факторы больше всего влияют на стоимость квартиры? Изучите, зависит ли цена от квадратного метра, числа комнат, этажа (первого или последнего), удалённости от центра. Также изучите зависимость от даты размещения: дня недели, месяца и года. \"Выберите 10 населённых пунктов с наибольшим числом объявлений. Посчитайте среднюю цену квадратного метра в этих населённых пунктах. Выделите населённые пункты с самой высокой и низкой стоимостью жилья. Эти данные можно найти по имени в столбце '*locality_name'*. \"\n",
    "- [ ]  выполнено задание: \"Изучите предложения квартир: для каждой квартиры есть информация о расстоянии до центра. Выделите квартиры в Санкт-Петербурге (*'locality_name'*). Ваша задача — выяснить, какая область входит в центр. Создайте столбец с расстоянием до центра в километрах: округлите до целых значений. После этого посчитайте среднюю цену для каждого километра. Постройте график: он должен показывать, как цена зависит от удалённости от центра. Определите границу, где график сильно меняется — это и будет центральная зона. \"\n",
    "- [ ]  выполнено задание: \"Выделите сегмент квартир в центре. Проанализируйте эту территорию и изучите следующие параметры: площадь, цена, число комнат, высота потолков. Также выделите факторы, которые влияют на стоимость квартиры (число комнат, этаж, удалённость от центра, дата размещения объявления). Сделайте выводы. Отличаются ли они от общих выводов по всему городу?\"\n",
    "- [ ]  в каждом этапе есть выводы\n",
    "- [ ]  есть общий вывод"
   ]
  }
 ],
 "metadata": {
  "kernelspec": {
   "display_name": "Python 3 (ipykernel)",
   "language": "python",
   "name": "python3"
  },
  "language_info": {
   "codemirror_mode": {
    "name": "ipython",
    "version": 3
   },
   "file_extension": ".py",
   "mimetype": "text/x-python",
   "name": "python",
   "nbconvert_exporter": "python",
   "pygments_lexer": "ipython3",
   "version": "3.9.12"
  },
  "toc": {
   "base_numbering": 1,
   "nav_menu": {},
   "number_sections": true,
   "sideBar": true,
   "skip_h1_title": true,
   "title_cell": "Содержание",
   "title_sidebar": "Contents",
   "toc_cell": true,
   "toc_position": {
    "height": "calc(100% - 180px)",
    "left": "10px",
    "top": "150px",
    "width": "339.797px"
   },
   "toc_section_display": true,
   "toc_window_display": true
  }
 },
 "nbformat": 4,
 "nbformat_minor": 2
}
